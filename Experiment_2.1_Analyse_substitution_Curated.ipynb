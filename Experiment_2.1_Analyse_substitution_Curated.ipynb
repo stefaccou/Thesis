{
 "cells": [
  {
   "cell_type": "markdown",
   "source": [
    "# Experiment 3: Clustering op substitute word vectors"
   ],
   "metadata": {
    "collapsed": false
   },
   "id": "db7d278e76a7f0d"
  },
  {
   "cell_type": "code",
   "outputs": [],
   "source": [
    "import torch\n",
    "import pandas as pd\n",
    "import os\n",
    "import re\n",
    "import plotly.express as px\n",
    "from sklearn.decomposition import PCA\n",
    "from sklearn.mixture import GaussianMixture\n",
    "from sklearn.metrics.cluster import v_measure_score, adjusted_rand_score\n",
    "import numpy as np\n",
    "import statistics\n",
    "import openpyxl"
   ],
   "metadata": {
    "collapsed": false,
    "ExecuteTime": {
     "end_time": "2024-05-17T20:35:12.297155Z",
     "start_time": "2024-05-17T20:35:06.827119Z"
    }
   },
   "id": "initial_id",
   "execution_count": 1
  },
  {
   "cell_type": "markdown",
   "source": [
    "The second part of this notebook only works if the first part has been ran with both 'Flaubert' and 'Camembert' as model names."
   ],
   "metadata": {
    "collapsed": false
   },
   "id": "de4cec60030f8365"
  },
  {
   "cell_type": "code",
   "outputs": [],
   "source": [
    "model_name = \"Flaubert\""
   ],
   "metadata": {
    "collapsed": false,
    "ExecuteTime": {
     "end_time": "2024-05-17T20:50:31.685906Z",
     "start_time": "2024-05-17T20:50:31.682132Z"
    }
   },
   "id": "ce0298e459624da1",
   "execution_count": 30
  },
  {
   "cell_type": "markdown",
   "source": [
    "# AGG-clusters"
   ],
   "metadata": {
    "collapsed": false
   },
   "id": "672029a2291dd92c"
  },
  {
   "cell_type": "code",
   "outputs": [
    {
     "name": "stdout",
     "output_type": "stream",
     "text": [
      "Avocat\n",
      "Number of senses: 2\n",
      "Score for each sense\n",
      "avocado     3.703704\n",
      "lawyer     96.428571\n",
      "Name: agg_default_sub, dtype: float64\n",
      "Overall score 66.26506024096386\n",
      "Weighted score 50.06613756613757\n",
      "Harmonic mean 7.133421400264201\n",
      "V-measure score 1.559295869676433\n",
      "Adjusted Rand score -0.06809171721353265\n",
      "All-in-one score 67.46987951807229 \n",
      "\n",
      "\n",
      "Bien\n",
      "Number of senses: 3\n",
      "Score for each sense\n",
      "good          6.896552\n",
      "property     97.959184\n",
      "wellbeing     5.000000\n",
      "Name: agg_default_sub, dtype: float64\n",
      "Overall score 52.04081632653062\n",
      "Weighted score 36.618578465869106\n",
      "Harmonic mean 8.44574780058651\n",
      "V-measure score 4.718652672395608\n",
      "Adjusted Rand score 1.4073174086804534\n",
      "All-in-one score 50.0 \n",
      "\n",
      "\n",
      "Bureau\n",
      "Number of senses: 3\n",
      "Score for each sense\n",
      "cabinet     0.000000\n",
      "desk        2.857143\n",
      "office     98.148148\n",
      "Name: agg_default_sub, dtype: float64\n",
      "Overall score 52.42718446601942\n",
      "Weighted score 33.66843033509701\n",
      "Harmonic mean 0\n",
      "V-measure score 3.0925518897676674\n",
      "Adjusted Rand score -0.3351663176785294\n",
      "All-in-one score 52.42718446601942 \n",
      "\n",
      "\n",
      "Faculté\n",
      "Number of senses: 3\n",
      "Score for each sense\n",
      "ability         0.000000\n",
      "competence    100.000000\n",
      "university     94.594595\n",
      "Name: agg_default_sub, dtype: float64\n",
      "Overall score 78.75\n",
      "Weighted score 64.86486486486487\n",
      "Harmonic mean 0\n",
      "V-measure score 70.73480306988158\n",
      "Adjusted Rand score 65.97342061654523\n",
      "All-in-one score 46.25 \n",
      "\n",
      "\n",
      "Filer\n",
      "Number of senses: 3\n",
      "Score for each sense\n",
      "give          3.448276\n",
      "slip away    97.872340\n",
      "spinning      0.000000\n",
      "Name: agg_default_sub, dtype: float64\n",
      "Overall score 48.95833333333333\n",
      "Weighted score 33.773538762533626\n",
      "Harmonic mean 0\n",
      "V-measure score 3.4640604954501115\n",
      "Adjusted Rand score -0.3171719170253371\n",
      "All-in-one score 48.95833333333333 \n",
      "\n",
      "\n",
      "Glace\n",
      "Number of senses: 5\n",
      "Score for each sense\n",
      "glass              0.000000\n",
      "ice               98.305085\n",
      "ice cream          5.000000\n",
      "mirror             0.000000\n",
      "powdered sugar     0.000000\n",
      "Name: agg_default_sub, dtype: float64\n",
      "Overall score 47.96747967479675\n",
      "Weighted score 20.661016949152543\n",
      "Harmonic mean 0\n",
      "V-measure score 2.87396106349053\n",
      "Adjusted Rand score -0.100749180229628\n",
      "All-in-one score 47.96747967479675 \n",
      "\n",
      "\n",
      "Souris\n",
      "Number of senses: 3\n",
      "Score for each sense\n",
      "bat          0.000000\n",
      "pointer      3.703704\n",
      "rodent     100.000000\n",
      "Name: agg_default_sub, dtype: float64\n",
      "Overall score 47.05882352941176\n",
      "Weighted score 34.5679012345679\n",
      "Harmonic mean 0\n",
      "V-measure score 4.801928192802801\n",
      "Adjusted Rand score -0.10558095205483362\n",
      "All-in-one score 45.588235294117645 \n",
      "\n",
      "\n",
      "Supporter\n",
      "Number of senses: 3\n",
      "Score for each sense\n",
      "endure     96.296296\n",
      "fan        91.666667\n",
      "hold up     0.000000\n",
      "Name: agg_default_sub, dtype: float64\n",
      "Overall score 68.51851851851852\n",
      "Weighted score 62.65432098765432\n",
      "Harmonic mean 0\n",
      "V-measure score 55.273625631085146\n",
      "Adjusted Rand score 39.19892798195872\n",
      "All-in-one score 50.0 \n",
      "\n",
      "\n",
      "Tirer\n",
      "Number of senses: 2\n",
      "Score for each sense\n",
      "pull      0.000000\n",
      "shoot    68.918919\n",
      "Name: agg_default_sub, dtype: float64\n",
      "Overall score 49.03846153846153\n",
      "Weighted score 34.45945945945946\n",
      "Harmonic mean 0\n",
      "V-measure score 14.955272492500388\n",
      "Adjusted Rand score -7.18309052374315\n",
      "All-in-one score 71.15384615384616 \n",
      "\n",
      "\n",
      "Tour\n",
      "Number of senses: 5\n",
      "Score for each sense\n",
      "lap       0.000000\n",
      "round     0.000000\n",
      "tower     0.000000\n",
      "trick     0.000000\n",
      "turn     91.304348\n",
      "Name: agg_default_sub, dtype: float64\n",
      "Overall score 28.767123287671232\n",
      "Weighted score 18.26086956521739\n",
      "Harmonic mean 0\n",
      "V-measure score 3.8681859095531457\n",
      "Adjusted Rand score -1.2123241795043536\n",
      "All-in-one score 31.506849315068493 \n",
      "\n",
      "\n",
      "Vol\n",
      "Number of senses: 2\n",
      "Score for each sense\n",
      "flight    98.333333\n",
      "theft     96.000000\n",
      "Name: agg_default_sub, dtype: float64\n",
      "Overall score 97.6470588235294\n",
      "Weighted score 97.16666666666667\n",
      "Harmonic mean 97.15265866209263\n",
      "V-measure score 86.59267350030161\n",
      "Adjusted Rand score 91.85465833718958\n",
      "All-in-one score 70.58823529411765 \n"
     ]
    }
   ],
   "source": [
    "weighted_scores_agg = {} # our original metric\n",
    "overall_scores_agg = {} # the percentage of correct predictions across all senses\n",
    "all_in_one_cluster_overall_scores_agg = {} # the percentage of correct predictions if no clustering would take place\n",
    "amount_senses = {} # the amount of different senses (does not differ)\n",
    "v_measure_scores_agg = {} # the v-measure score\n",
    "rand_scores_agg = {} # the adjusted rand score\n",
    "# We also calculate a F1 score in a later code block\n",
    "\n",
    "for filename in os.listdir(f\"{model_name}/Experiment_2/Curated\"):\n",
    "    if filename.endswith(\".csv\"):\n",
    "        df = pd.read_csv(f\"{model_name}/Experiment_2/Curated/\" + filename, sep=\";\", encoding=\"utf-8\", header=0)\n",
    "        target_word = df[\"source\"][1]\n",
    "        print(target_word)\n",
    "        # We calculate the amount of different senses\n",
    "        senses = len(df[\"sense\"].unique())\n",
    "        print(\"Number of senses:\", senses)\n",
    "        percentage_default_agg = (df[\"agg_default_sub\"].sum() / len(df))\n",
    "        # We also calculate this separately for each \"sense\"\n",
    "        percentage_default_mean_agg = df.groupby(\"sense\")[\"agg_default_sub\"].mean()\n",
    "        # We calculate a harmonic mean, as it is more representative of the overall performance\n",
    "        harmonic_mean_agg = statistics.harmonic_mean(df.groupby(\"sense\")[\"agg_default_sub\"].mean())\n",
    "        # We want the mean score across all senses, as it does not mean a lot if a program can correctly define one big cluster containing most of the data and fail at all other senses.\n",
    "        percentage_weighted_agg = percentage_default_mean_agg.mean()\n",
    "        v_measure_agg = v_measure_score(df[\"sense\"], df[\"agg_cluster_sub\"])\n",
    "        rand_agg = adjusted_rand_score(df[\"sense\"], df[\"agg_cluster_sub\"])\n",
    "\n",
    "\n",
    "\n",
    "        print(\"Score for each\", percentage_default_mean_agg*100)\n",
    "        print(\"Overall score\", percentage_default_agg*100)\n",
    "        print(\"Weighted score\", percentage_weighted_agg*100)\n",
    "        print(\"Harmonic mean\", harmonic_mean_agg*100)\n",
    "        print(\"V-measure score\", v_measure_agg*100)\n",
    "        print(\"Adjusted Rand score\", rand_agg*100)\n",
    "        weighted_scores_agg[target_word] = percentage_weighted_agg\n",
    "        overall_scores_agg[target_word] = percentage_default_agg\n",
    "        amount_senses[target_word] = senses\n",
    "        v_measure_scores_agg[target_word] = v_measure_agg\n",
    "        rand_scores_agg[target_word] = rand_agg\n",
    "        # We also calculate the score if no clustering would take place\n",
    "        default = df[\"sense\"].value_counts().idxmax()\n",
    "        \n",
    "        # We calculate the overall score: this is the percentage of this sense in the total dataframe\n",
    "        all_in_one_cluster_score_agg = (df[\"sense\"] == default).sum() / len(df)\n",
    "        all_in_one_cluster_overall_scores_agg[target_word] = all_in_one_cluster_score_agg\n",
    "        print(\"All-in-one score\", all_in_one_cluster_score_agg*100, \"\\n\\n\")"
   ],
   "metadata": {
    "collapsed": false,
    "ExecuteTime": {
     "end_time": "2024-05-17T20:50:32.697409Z",
     "start_time": "2024-05-17T20:50:32.625138Z"
    }
   },
   "id": "6557d2e044505465",
   "execution_count": 31
  },
  {
   "cell_type": "code",
   "outputs": [
    {
     "name": "stdout",
     "output_type": "stream",
     "text": [
      "\n",
      "\n",
      " Avocat\n",
      "Number of senses: 2\n",
      "\n",
      "sense: lawyer\n",
      "instances of sense: 56\n",
      "amount of correct instances: 54\n",
      "correct cluster number: 1\n",
      "total amount of points in biggest cluster: 80\n",
      "precision: 0.675\n",
      "recall 0.9642857142857143\n",
      "F1 0.7941176470588236\n",
      "\n",
      "sense: avocado\n",
      "instances of sense: 27\n",
      "amount of correct instances: 1\n",
      "correct cluster number: 3\n",
      "total amount of points in biggest cluster: 2\n",
      "precision: 0.5\n",
      "recall 0.037037037037037035\n",
      "F1 0.06896551724137931\n",
      "\n",
      "\n",
      " Bien\n",
      "Number of senses: 3\n",
      "\n",
      "sense: property\n",
      "instances of sense: 49\n",
      "amount of correct instances: 48\n",
      "correct cluster number: 1\n",
      "total amount of points in biggest cluster: 94\n",
      "precision: 0.5106382978723404\n",
      "recall 0.9795918367346939\n",
      "F1 0.6713286713286714\n",
      "\n",
      "sense: wellbeing\n",
      "instances of sense: 20\n",
      "amount of correct instances: 1\n",
      "correct cluster number: 2\n",
      "total amount of points in biggest cluster: 1\n",
      "precision: 1.0\n",
      "recall 0.05\n",
      "F1 0.09523809523809523\n",
      "\n",
      "sense: good\n",
      "instances of sense: 29\n",
      "amount of correct instances: 2\n",
      "correct cluster number: 3\n",
      "total amount of points in biggest cluster: 3\n",
      "precision: 0.6666666666666666\n",
      "recall 0.06896551724137931\n",
      "F1 0.125\n",
      "\n",
      "\n",
      " Bureau\n",
      "Number of senses: 3\n",
      "\n",
      "sense: desk\n",
      "instances of sense: 35\n",
      "amount of correct instances: 1\n",
      "correct cluster number: 3\n",
      "total amount of points in biggest cluster: 1\n",
      "precision: 1.0\n",
      "recall 0.02857142857142857\n",
      "F1 0.05555555555555555\n",
      "\n",
      "sense: cabinet\n",
      "instances of sense: 14\n",
      "amount of correct instances: 0\n",
      "correct cluster number: No cluster\n",
      "total amount of points in biggest cluster: 0\n",
      "precision zero\n",
      "precision: 0\n",
      "recall 0.0\n",
      "F1 0\n",
      "\n",
      "sense: office\n",
      "instances of sense: 54\n",
      "amount of correct instances: 53\n",
      "correct cluster number: 1\n",
      "total amount of points in biggest cluster: 101\n",
      "precision: 0.5247524752475248\n",
      "recall 0.9814814814814815\n",
      "F1 0.6838709677419355\n",
      "\n",
      "\n",
      " Faculté\n",
      "Number of senses: 3\n",
      "\n",
      "sense: university\n",
      "instances of sense: 37\n",
      "amount of correct instances: 35\n",
      "correct cluster number: 2\n",
      "total amount of points in biggest cluster: 35\n",
      "precision: 1.0\n",
      "recall 0.9459459459459459\n",
      "F1 0.9722222222222222\n",
      "\n",
      "sense: competence\n",
      "instances of sense: 28\n",
      "amount of correct instances: 28\n",
      "correct cluster number: 1\n",
      "total amount of points in biggest cluster: 44\n",
      "precision: 0.6363636363636364\n",
      "recall 1.0\n",
      "F1 0.7777777777777778\n",
      "\n",
      "sense: ability\n",
      "instances of sense: 15\n",
      "amount of correct instances: 0\n",
      "correct cluster number: No cluster\n",
      "total amount of points in biggest cluster: 0\n",
      "precision zero\n",
      "precision: 0\n",
      "recall 0.0\n",
      "F1 0\n",
      "\n",
      "\n",
      " Filer\n",
      "Number of senses: 3\n",
      "\n",
      "sense: slip away\n",
      "instances of sense: 47\n",
      "amount of correct instances: 46\n",
      "correct cluster number: 1\n",
      "total amount of points in biggest cluster: 94\n",
      "precision: 0.48936170212765956\n",
      "recall 0.9787234042553191\n",
      "F1 0.652482269503546\n",
      "\n",
      "sense: give\n",
      "instances of sense: 29\n",
      "amount of correct instances: 1\n",
      "correct cluster number: 2\n",
      "total amount of points in biggest cluster: 1\n",
      "precision: 1.0\n",
      "recall 0.034482758620689655\n",
      "F1 0.06666666666666667\n",
      "\n",
      "sense: spinning\n",
      "instances of sense: 20\n",
      "amount of correct instances: 0\n",
      "correct cluster number: No cluster\n",
      "total amount of points in biggest cluster: 0\n",
      "precision zero\n",
      "precision: 0\n",
      "recall 0.0\n",
      "F1 0\n",
      "\n",
      "\n",
      " Glace\n",
      "Number of senses: 5\n",
      "\n",
      "sense: ice\n",
      "instances of sense: 59\n",
      "amount of correct instances: 58\n",
      "correct cluster number: 1\n",
      "total amount of points in biggest cluster: 121\n",
      "precision: 0.4793388429752066\n",
      "recall 0.9830508474576272\n",
      "F1 0.6444444444444445\n",
      "\n",
      "sense: ice cream\n",
      "instances of sense: 20\n",
      "amount of correct instances: 1\n",
      "correct cluster number: 3\n",
      "total amount of points in biggest cluster: 1\n",
      "precision: 1.0\n",
      "recall 0.05\n",
      "F1 0.09523809523809523\n",
      "\n",
      "sense: glass\n",
      "instances of sense: 9\n",
      "amount of correct instances: 0\n",
      "correct cluster number: No cluster\n",
      "total amount of points in biggest cluster: 0\n",
      "precision zero\n",
      "precision: 0\n",
      "recall 0.0\n",
      "F1 0\n",
      "\n",
      "sense: mirror\n",
      "instances of sense: 26\n",
      "amount of correct instances: 0\n",
      "correct cluster number: No cluster\n",
      "total amount of points in biggest cluster: 0\n",
      "precision zero\n",
      "precision: 0\n",
      "recall 0.0\n",
      "F1 0\n",
      "\n",
      "sense: powdered sugar\n",
      "instances of sense: 9\n",
      "amount of correct instances: 0\n",
      "correct cluster number: No cluster\n",
      "total amount of points in biggest cluster: 0\n",
      "precision zero\n",
      "precision: 0\n",
      "recall 0.0\n",
      "F1 0\n",
      "\n",
      "\n",
      " Souris\n",
      "Number of senses: 3\n",
      "\n",
      "sense: bat\n",
      "instances of sense: 10\n",
      "amount of correct instances: 0\n",
      "correct cluster number: No cluster\n",
      "total amount of points in biggest cluster: 0\n",
      "precision zero\n",
      "precision: 0\n",
      "recall 0.0\n",
      "F1 0\n",
      "\n",
      "sense: pointer\n",
      "instances of sense: 27\n",
      "amount of correct instances: 1\n",
      "correct cluster number: 2\n",
      "total amount of points in biggest cluster: 1\n",
      "precision: 1.0\n",
      "recall 0.037037037037037035\n",
      "F1 0.07142857142857142\n",
      "\n",
      "sense: rodent\n",
      "instances of sense: 31\n",
      "amount of correct instances: 31\n",
      "correct cluster number: 1\n",
      "total amount of points in biggest cluster: 66\n",
      "precision: 0.4696969696969697\n",
      "recall 1.0\n",
      "F1 0.6391752577319588\n",
      "\n",
      "\n",
      " Supporter\n",
      "Number of senses: 3\n",
      "\n",
      "sense: endure\n",
      "instances of sense: 27\n",
      "amount of correct instances: 26\n",
      "correct cluster number: 1\n",
      "total amount of points in biggest cluster: 42\n",
      "precision: 0.6190476190476191\n",
      "recall 0.9629629629629629\n",
      "F1 0.7536231884057971\n",
      "\n",
      "sense: hold up\n",
      "instances of sense: 15\n",
      "amount of correct instances: 0\n",
      "correct cluster number: No cluster\n",
      "total amount of points in biggest cluster: 0\n",
      "precision zero\n",
      "precision: 0\n",
      "recall 0.0\n",
      "F1 0\n",
      "\n",
      "sense: fan\n",
      "instances of sense: 12\n",
      "amount of correct instances: 11\n",
      "correct cluster number: 3\n",
      "total amount of points in biggest cluster: 11\n",
      "precision: 1.0\n",
      "recall 0.9166666666666666\n",
      "F1 0.9565217391304347\n",
      "\n",
      "\n",
      " Tirer\n",
      "Number of senses: 2\n",
      "\n",
      "sense: shoot\n",
      "instances of sense: 74\n",
      "amount of correct instances: 51\n",
      "correct cluster number: 3\n",
      "total amount of points in biggest cluster: 81\n",
      "precision: 0.6296296296296297\n",
      "recall 0.6891891891891891\n",
      "F1 0.6580645161290323\n",
      "\n",
      "sense: pull\n",
      "instances of sense: 30\n",
      "amount of correct instances: 0\n",
      "correct cluster number: No cluster\n",
      "total amount of points in biggest cluster: 0\n",
      "precision zero\n",
      "precision: 0\n",
      "recall 0.0\n",
      "F1 0\n",
      "\n",
      "\n",
      " Tour\n",
      "Number of senses: 5\n",
      "\n",
      "sense: lap\n",
      "instances of sense: 16\n",
      "amount of correct instances: 0\n",
      "correct cluster number: No cluster\n",
      "total amount of points in biggest cluster: 0\n",
      "precision zero\n",
      "precision: 0\n",
      "recall 0.0\n",
      "F1 0\n",
      "\n",
      "sense: trick\n",
      "instances of sense: 14\n",
      "amount of correct instances: 0\n",
      "correct cluster number: No cluster\n",
      "total amount of points in biggest cluster: 0\n",
      "precision zero\n",
      "precision: 0\n",
      "recall 0.0\n",
      "F1 0\n",
      "\n",
      "sense: turn\n",
      "instances of sense: 23\n",
      "amount of correct instances: 21\n",
      "correct cluster number: 1\n",
      "total amount of points in biggest cluster: 71\n",
      "precision: 0.29577464788732394\n",
      "recall 0.9130434782608695\n",
      "F1 0.44680851063829785\n",
      "\n",
      "sense: round\n",
      "instances of sense: 14\n",
      "amount of correct instances: 0\n",
      "correct cluster number: No cluster\n",
      "total amount of points in biggest cluster: 0\n",
      "precision zero\n",
      "precision: 0\n",
      "recall 0.0\n",
      "F1 0\n",
      "\n",
      "sense: tower\n",
      "instances of sense: 6\n",
      "amount of correct instances: 0\n",
      "correct cluster number: No cluster\n",
      "total amount of points in biggest cluster: 0\n",
      "precision zero\n",
      "precision: 0\n",
      "recall 0.0\n",
      "F1 0\n",
      "\n",
      "\n",
      " Vol\n",
      "Number of senses: 2\n",
      "\n",
      "sense: theft\n",
      "instances of sense: 25\n",
      "amount of correct instances: 24\n",
      "correct cluster number: 2\n",
      "total amount of points in biggest cluster: 24\n",
      "precision: 1.0\n",
      "recall 0.96\n",
      "F1 0.9795918367346939\n",
      "\n",
      "sense: flight\n",
      "instances of sense: 60\n",
      "amount of correct instances: 59\n",
      "correct cluster number: 1\n",
      "total amount of points in biggest cluster: 60\n",
      "precision: 0.9833333333333333\n",
      "recall 0.9833333333333333\n",
      "F1 0.9833333333333334\n"
     ]
    }
   ],
   "source": [
    "# We create a dictionary of dictionaries to save, for each sense, the ratings of its precision and recall\n",
    "all_scores_agg = {}\n",
    "all_lengths_agg = {}\n",
    "for filename in os.listdir(f\"{model_name}/Experiment_2/Curated/\"):\n",
    "    if filename.endswith(\".csv\"):\n",
    "        df_F1 = pd.read_csv(f\"{model_name}/Experiment_2/Curated/\" + filename, sep=\";\", encoding=\"utf-8\", header=0)\n",
    "\n",
    "        target_word = df_F1[\"source\"][1]\n",
    "        print(\"\\n\\n\", target_word)\n",
    "        total_df_length = len(df_F1)\n",
    "        # We calculate the amount of different senses\n",
    "        senses = len(df_F1[\"sense\"].unique())\n",
    "        print(\"Number of senses:\", senses)\n",
    "        target_word_dictionary = {}\n",
    "        target_word_lengths = {}\n",
    "        target_word_lengths[\"total\"] = total_df_length\n",
    "        for sense in df_F1[\"sense\"].unique():\n",
    "            scores = {}\n",
    "            sense_df = df_F1[df_F1[\"sense\"] == sense]\n",
    "                    #precision: number of correct instances in a cluster / total cluster size\n",
    "                    # We calculate the amount of \"default\" instances\n",
    "            sense_len = len(sense_df)\n",
    "        \n",
    "            \n",
    "            correct_df = sense_df[sense_df[\"agg_default_sub\"] == True]\n",
    "            correct_len = len(correct_df)\n",
    "            if correct_len > 0:\n",
    "                correct_cluster = correct_df[\"agg_cluster_sub\"].iloc[0]\n",
    "            else:\n",
    "                correct_cluster = \"No cluster\"\n",
    "                \n",
    "            cluster_len = len(df_F1[df_F1[\"agg_cluster_sub\"] == correct_cluster])\n",
    "            print(\"\\nsense:\", sense)\n",
    "            print(\"instances of sense:\", sense_len)\n",
    "            print(\"amount of correct instances:\", correct_len)\n",
    "            print(\"correct cluster number:\", correct_cluster)\n",
    "            print(\"total amount of points in biggest cluster:\", cluster_len)\n",
    "            \n",
    "            if cluster_len > 0:  \n",
    "                precision = correct_len / cluster_len\n",
    "            else:\n",
    "                precision = 0\n",
    "                print(\"precision zero\")\n",
    "            recall = correct_len / sense_len\n",
    "            print(\"precision:\", precision)\n",
    "            print(\"recall\", recall)\n",
    "            \n",
    "            # Automatically calculated version. Gives bizarre results, so we do it manually later on\n",
    "            F1 = statistics.harmonic_mean((precision, recall))\n",
    "            print(\"F1\", F1)\n",
    "            \n",
    "            scores[\"precision\"] = precision\n",
    "            scores[\"recall\"] = recall\n",
    "            scores[\"F1\"] = F1\n",
    "            target_word_dictionary[sense] = scores\n",
    "            target_word_lengths[sense] = sense_len\n",
    "        all_scores_agg[target_word] = target_word_dictionary\n",
    "        all_lengths_agg[target_word] = target_word_lengths\n",
    "            "
   ],
   "metadata": {
    "collapsed": false,
    "ExecuteTime": {
     "end_time": "2024-05-17T20:50:33.193653Z",
     "start_time": "2024-05-17T20:50:33.138842Z"
    }
   },
   "id": "6a8e6ffd94c88553",
   "execution_count": 32
  },
  {
   "cell_type": "code",
   "outputs": [
    {
     "name": "stdout",
     "output_type": "stream",
     "text": [
      "\n",
      "\n",
      " Avocat\n",
      "lawyer\n",
      "score: 0.7941176470588236\n",
      "length of sense: 56\n",
      "total length: 83\n",
      "added weight: 0.6746987951807228 for a total of 0.6746987951807228\n",
      "F1 score after calc: 53.579021970233875\n",
      "avocado\n",
      "score: 0.06896551724137931\n",
      "length of sense: 27\n",
      "total length: 83\n",
      "added weight: 0.3253012048192771 for a total of 1.0\n",
      "F1 score after calc: 55.82247855519441\n",
      "\n",
      "\n",
      " Bien\n",
      "property\n",
      "score: 0.6713286713286714\n",
      "length of sense: 49\n",
      "total length: 98\n",
      "added weight: 0.5 for a total of 0.5\n",
      "F1 score after calc: 33.56643356643357\n",
      "wellbeing\n",
      "score: 0.09523809523809523\n",
      "length of sense: 20\n",
      "total length: 98\n",
      "added weight: 0.20408163265306123 for a total of 0.7040816326530612\n",
      "F1 score after calc: 35.51006816312939\n",
      "good\n",
      "score: 0.125\n",
      "length of sense: 29\n",
      "total length: 98\n",
      "added weight: 0.29591836734693877 for a total of 1.0\n",
      "F1 score after calc: 39.20904775496612\n",
      "\n",
      "\n",
      " Bureau\n",
      "desk\n",
      "score: 0.05555555555555555\n",
      "length of sense: 35\n",
      "total length: 103\n",
      "added weight: 0.33980582524271846 for a total of 0.33980582524271846\n",
      "F1 score after calc: 1.8878101402373246\n",
      "cabinet\n",
      "score: 0\n",
      "length of sense: 14\n",
      "total length: 103\n",
      "added weight: 0.13592233009708737 for a total of 0.47572815533980584\n",
      "F1 score after calc: 1.8878101402373246\n",
      "office\n",
      "score: 0.6838709677419355\n",
      "length of sense: 54\n",
      "total length: 103\n",
      "added weight: 0.5242718446601942 for a total of 1.0\n",
      "F1 score after calc: 37.74123951699899\n",
      "\n",
      "\n",
      " Faculté\n",
      "university\n",
      "score: 0.9722222222222222\n",
      "length of sense: 37\n",
      "total length: 80\n",
      "added weight: 0.4625 for a total of 0.4625\n",
      "F1 score after calc: 44.96527777777778\n",
      "competence\n",
      "score: 0.7777777777777778\n",
      "length of sense: 28\n",
      "total length: 80\n",
      "added weight: 0.35 for a total of 0.8125\n",
      "F1 score after calc: 72.1875\n",
      "ability\n",
      "score: 0\n",
      "length of sense: 15\n",
      "total length: 80\n",
      "added weight: 0.1875 for a total of 1.0\n",
      "F1 score after calc: 72.1875\n",
      "\n",
      "\n",
      " Filer\n",
      "slip away\n",
      "score: 0.652482269503546\n",
      "length of sense: 47\n",
      "total length: 96\n",
      "added weight: 0.4895833333333333 for a total of 0.4895833333333333\n",
      "F1 score after calc: 31.944444444444443\n",
      "give\n",
      "score: 0.06666666666666667\n",
      "length of sense: 29\n",
      "total length: 96\n",
      "added weight: 0.3020833333333333 for a total of 0.7916666666666666\n",
      "F1 score after calc: 33.95833333333333\n",
      "spinning\n",
      "score: 0\n",
      "length of sense: 20\n",
      "total length: 96\n",
      "added weight: 0.20833333333333334 for a total of 1.0\n",
      "F1 score after calc: 33.95833333333333\n",
      "\n",
      "\n",
      " Glace\n",
      "ice\n",
      "score: 0.6444444444444445\n",
      "length of sense: 59\n",
      "total length: 123\n",
      "added weight: 0.4796747967479675 for a total of 0.4796747967479675\n",
      "F1 score after calc: 30.912375790424573\n",
      "ice cream\n",
      "score: 0.09523809523809523\n",
      "length of sense: 20\n",
      "total length: 123\n",
      "added weight: 0.16260162601626016 for a total of 0.6422764227642277\n",
      "F1 score after calc: 32.460962704865146\n",
      "glass\n",
      "score: 0\n",
      "length of sense: 9\n",
      "total length: 123\n",
      "added weight: 0.07317073170731707 for a total of 0.7154471544715447\n",
      "F1 score after calc: 32.460962704865146\n",
      "mirror\n",
      "score: 0\n",
      "length of sense: 26\n",
      "total length: 123\n",
      "added weight: 0.21138211382113822 for a total of 0.926829268292683\n",
      "F1 score after calc: 32.460962704865146\n",
      "powdered sugar\n",
      "score: 0\n",
      "length of sense: 9\n",
      "total length: 123\n",
      "added weight: 0.07317073170731707 for a total of 1.0\n",
      "F1 score after calc: 32.460962704865146\n",
      "\n",
      "\n",
      " Souris\n",
      "bat\n",
      "score: 0\n",
      "length of sense: 10\n",
      "total length: 68\n",
      "added weight: 0.14705882352941177 for a total of 0.14705882352941177\n",
      "F1 score after calc: 0.0\n",
      "pointer\n",
      "score: 0.07142857142857142\n",
      "length of sense: 27\n",
      "total length: 68\n",
      "added weight: 0.39705882352941174 for a total of 0.5441176470588235\n",
      "F1 score after calc: 2.8361344537815123\n",
      "rodent\n",
      "score: 0.6391752577319588\n",
      "length of sense: 31\n",
      "total length: 68\n",
      "added weight: 0.45588235294117646 for a total of 1.0\n",
      "F1 score after calc: 31.97500649744434\n",
      "\n",
      "\n",
      " Supporter\n",
      "endure\n",
      "score: 0.7536231884057971\n",
      "length of sense: 27\n",
      "total length: 54\n",
      "added weight: 0.5 for a total of 0.5\n",
      "F1 score after calc: 37.68115942028986\n",
      "hold up\n",
      "score: 0\n",
      "length of sense: 15\n",
      "total length: 54\n",
      "added weight: 0.2777777777777778 for a total of 0.7777777777777778\n",
      "F1 score after calc: 37.68115942028986\n",
      "fan\n",
      "score: 0.9565217391304347\n",
      "length of sense: 12\n",
      "total length: 54\n",
      "added weight: 0.2222222222222222 for a total of 1.0\n",
      "F1 score after calc: 58.93719806763285\n",
      "\n",
      "\n",
      " Tirer\n",
      "shoot\n",
      "score: 0.6580645161290323\n",
      "length of sense: 74\n",
      "total length: 104\n",
      "added weight: 0.7115384615384616 for a total of 0.7115384615384616\n",
      "F1 score after calc: 46.82382133995037\n",
      "pull\n",
      "score: 0\n",
      "length of sense: 30\n",
      "total length: 104\n",
      "added weight: 0.28846153846153844 for a total of 1.0\n",
      "F1 score after calc: 46.82382133995037\n",
      "\n",
      "\n",
      " Tour\n",
      "lap\n",
      "score: 0\n",
      "length of sense: 16\n",
      "total length: 73\n",
      "added weight: 0.2191780821917808 for a total of 0.2191780821917808\n",
      "F1 score after calc: 0.0\n",
      "trick\n",
      "score: 0\n",
      "length of sense: 14\n",
      "total length: 73\n",
      "added weight: 0.1917808219178082 for a total of 0.410958904109589\n",
      "F1 score after calc: 0.0\n",
      "turn\n",
      "score: 0.44680851063829785\n",
      "length of sense: 23\n",
      "total length: 73\n",
      "added weight: 0.3150684931506849 for a total of 0.726027397260274\n",
      "F1 score after calc: 14.077528417371028\n",
      "round\n",
      "score: 0\n",
      "length of sense: 14\n",
      "total length: 73\n",
      "added weight: 0.1917808219178082 for a total of 0.9178082191780822\n",
      "F1 score after calc: 14.077528417371028\n",
      "tower\n",
      "score: 0\n",
      "length of sense: 6\n",
      "total length: 73\n",
      "added weight: 0.0821917808219178 for a total of 1.0\n",
      "F1 score after calc: 14.077528417371028\n",
      "\n",
      "\n",
      " Vol\n",
      "theft\n",
      "score: 0.9795918367346939\n",
      "length of sense: 25\n",
      "total length: 85\n",
      "added weight: 0.29411764705882354 for a total of 0.29411764705882354\n",
      "F1 score after calc: 28.811524609843936\n",
      "flight\n",
      "score: 0.9833333333333334\n",
      "length of sense: 60\n",
      "total length: 85\n",
      "added weight: 0.7058823529411765 for a total of 1.0\n",
      "F1 score after calc: 98.2232893157263\n"
     ]
    }
   ],
   "source": [
    "# Total F1: weighted average of the F1 scores of each gold standard sense\n",
    "# We calculate the weight for each sense of the dataframe (the amount of instances of this sense divided by the total amount of instances)\n",
    "# We make a dictionary F1_scores, in which each target word is associated with its F1 score\n",
    "F1_scores_agg = {}\n",
    "for target_word in all_scores_agg:\n",
    "    F1 = 0\n",
    "    weight = 0\n",
    "    print(\"\\n\\n\", target_word)\n",
    "    for sense in all_scores_agg[target_word]:\n",
    "        score = all_scores_agg[target_word][sense][\"F1\"]\n",
    "        print(sense)\n",
    "        print(\"score:\", score)\n",
    "        \n",
    "        len_sense = all_lengths_agg[target_word][sense]\n",
    "        print(\"length of sense:\", len_sense)\n",
    "        \n",
    "        len_total = all_lengths_agg[target_word][\"total\"]\n",
    "        print(\"total length:\", len_total)\n",
    "        added_weight = len_sense / len_total\n",
    "        weight += added_weight\n",
    "        print(\"added weight:\", added_weight, \"for a total of\", weight)\n",
    "        F1 += score * (len_sense / len_total)\n",
    "        print(\"F1 score after calc:\", F1*100)\n",
    "    F1_scores_agg[target_word] = F1\n",
    "\n"
   ],
   "metadata": {
    "collapsed": false,
    "ExecuteTime": {
     "end_time": "2024-05-17T20:50:33.548743Z",
     "start_time": "2024-05-17T20:50:33.538735Z"
    }
   },
   "id": "2d62984f1ba7bd7c",
   "execution_count": 33
  },
  {
   "cell_type": "code",
   "outputs": [
    {
     "name": "stdout",
     "output_type": "stream",
     "text": [
      "\n",
      "\n",
      " Avocat\n",
      "Number of senses: 2\n",
      "\n",
      "sense: lawyer\n",
      "instances of sense: 56\n",
      "amount of correct instances: 56\n",
      "correct cluster number: 0\n",
      "total amount of points in biggest cluster: 84\n",
      "precision: 0.6666666666666666\n",
      "recall 1.0\n",
      "F1 0.8\n",
      "\n",
      "sense: avocado\n",
      "instances of sense: 28\n",
      "amount of correct instances: 0\n",
      "correct cluster number: No cluster\n",
      "total amount of points in biggest cluster: 0\n",
      "precision zero\n",
      "precision: 0\n",
      "recall 0.0\n",
      "F1 0\n",
      "\n",
      "\n",
      " Bien\n",
      "Number of senses: 3\n",
      "\n",
      "sense: property\n",
      "instances of sense: 49\n",
      "amount of correct instances: 49\n",
      "correct cluster number: 0\n",
      "total amount of points in biggest cluster: 98\n",
      "precision: 0.5\n",
      "recall 1.0\n",
      "F1 0.6666666666666666\n",
      "\n",
      "sense: wellbeing\n",
      "instances of sense: 20\n",
      "amount of correct instances: 0\n",
      "correct cluster number: No cluster\n",
      "total amount of points in biggest cluster: 0\n",
      "precision zero\n",
      "precision: 0\n",
      "recall 0.0\n",
      "F1 0\n",
      "\n",
      "sense: good\n",
      "instances of sense: 29\n",
      "amount of correct instances: 0\n",
      "correct cluster number: No cluster\n",
      "total amount of points in biggest cluster: 0\n",
      "precision zero\n",
      "precision: 0\n",
      "recall 0.0\n",
      "F1 0\n",
      "\n",
      "\n",
      " Bureau\n",
      "Number of senses: 3\n",
      "\n",
      "sense: desk\n",
      "instances of sense: 35\n",
      "amount of correct instances: 0\n",
      "correct cluster number: No cluster\n",
      "total amount of points in biggest cluster: 0\n",
      "precision zero\n",
      "precision: 0\n",
      "recall 0.0\n",
      "F1 0\n",
      "\n",
      "sense: cabinet\n",
      "instances of sense: 14\n",
      "amount of correct instances: 0\n",
      "correct cluster number: No cluster\n",
      "total amount of points in biggest cluster: 0\n",
      "precision zero\n",
      "precision: 0\n",
      "recall 0.0\n",
      "F1 0\n",
      "\n",
      "sense: office\n",
      "instances of sense: 54\n",
      "amount of correct instances: 54\n",
      "correct cluster number: 0\n",
      "total amount of points in biggest cluster: 103\n",
      "precision: 0.5242718446601942\n",
      "recall 1.0\n",
      "F1 0.6878980891719745\n",
      "\n",
      "\n",
      " Faculté\n",
      "Number of senses: 3\n",
      "\n",
      "sense: university\n",
      "instances of sense: 37\n",
      "amount of correct instances: 37\n",
      "correct cluster number: 0\n",
      "total amount of points in biggest cluster: 80\n",
      "precision: 0.4625\n",
      "recall 1.0\n",
      "F1 0.6324786324786326\n",
      "\n",
      "sense: competence\n",
      "instances of sense: 28\n",
      "amount of correct instances: 0\n",
      "correct cluster number: No cluster\n",
      "total amount of points in biggest cluster: 0\n",
      "precision zero\n",
      "precision: 0\n",
      "recall 0.0\n",
      "F1 0\n",
      "\n",
      "sense: ability\n",
      "instances of sense: 15\n",
      "amount of correct instances: 0\n",
      "correct cluster number: No cluster\n",
      "total amount of points in biggest cluster: 0\n",
      "precision zero\n",
      "precision: 0\n",
      "recall 0.0\n",
      "F1 0\n",
      "\n",
      "\n",
      " Filer\n",
      "Number of senses: 3\n",
      "\n",
      "sense: slip away\n",
      "instances of sense: 47\n",
      "amount of correct instances: 47\n",
      "correct cluster number: 0\n",
      "total amount of points in biggest cluster: 96\n",
      "precision: 0.4895833333333333\n",
      "recall 1.0\n",
      "F1 0.6573426573426573\n",
      "\n",
      "sense: give\n",
      "instances of sense: 29\n",
      "amount of correct instances: 0\n",
      "correct cluster number: No cluster\n",
      "total amount of points in biggest cluster: 0\n",
      "precision zero\n",
      "precision: 0\n",
      "recall 0.0\n",
      "F1 0\n",
      "\n",
      "sense: spinning\n",
      "instances of sense: 20\n",
      "amount of correct instances: 0\n",
      "correct cluster number: No cluster\n",
      "total amount of points in biggest cluster: 0\n",
      "precision zero\n",
      "precision: 0\n",
      "recall 0.0\n",
      "F1 0\n",
      "\n",
      "\n",
      " Glace\n",
      "Number of senses: 5\n",
      "\n",
      "sense: ice\n",
      "instances of sense: 59\n",
      "amount of correct instances: 59\n",
      "correct cluster number: 0\n",
      "total amount of points in biggest cluster: 123\n",
      "precision: 0.4796747967479675\n",
      "recall 1.0\n",
      "F1 0.6483516483516483\n",
      "\n",
      "sense: ice cream\n",
      "instances of sense: 20\n",
      "amount of correct instances: 0\n",
      "correct cluster number: No cluster\n",
      "total amount of points in biggest cluster: 0\n",
      "precision zero\n",
      "precision: 0\n",
      "recall 0.0\n",
      "F1 0\n",
      "\n",
      "sense: glass\n",
      "instances of sense: 9\n",
      "amount of correct instances: 0\n",
      "correct cluster number: No cluster\n",
      "total amount of points in biggest cluster: 0\n",
      "precision zero\n",
      "precision: 0\n",
      "recall 0.0\n",
      "F1 0\n",
      "\n",
      "sense: mirror\n",
      "instances of sense: 26\n",
      "amount of correct instances: 0\n",
      "correct cluster number: No cluster\n",
      "total amount of points in biggest cluster: 0\n",
      "precision zero\n",
      "precision: 0\n",
      "recall 0.0\n",
      "F1 0\n",
      "\n",
      "sense: powdered sugar\n",
      "instances of sense: 9\n",
      "amount of correct instances: 0\n",
      "correct cluster number: No cluster\n",
      "total amount of points in biggest cluster: 0\n",
      "precision zero\n",
      "precision: 0\n",
      "recall 0.0\n",
      "F1 0\n",
      "\n",
      "\n",
      " Souris\n",
      "Number of senses: 3\n",
      "\n",
      "sense: bat\n",
      "instances of sense: 10\n",
      "amount of correct instances: 0\n",
      "correct cluster number: No cluster\n",
      "total amount of points in biggest cluster: 0\n",
      "precision zero\n",
      "precision: 0\n",
      "recall 0.0\n",
      "F1 0\n",
      "\n",
      "sense: pointer\n",
      "instances of sense: 27\n",
      "amount of correct instances: 0\n",
      "correct cluster number: No cluster\n",
      "total amount of points in biggest cluster: 0\n",
      "precision zero\n",
      "precision: 0\n",
      "recall 0.0\n",
      "F1 0\n",
      "\n",
      "sense: rodent\n",
      "instances of sense: 31\n",
      "amount of correct instances: 31\n",
      "correct cluster number: 0\n",
      "total amount of points in biggest cluster: 68\n",
      "precision: 0.45588235294117646\n",
      "recall 1.0\n",
      "F1 0.6262626262626263\n",
      "\n",
      "\n",
      " Supporter\n",
      "Number of senses: 3\n",
      "\n",
      "sense: endure\n",
      "instances of sense: 28\n",
      "amount of correct instances: 28\n",
      "correct cluster number: 0\n",
      "total amount of points in biggest cluster: 55\n",
      "precision: 0.509090909090909\n",
      "recall 1.0\n",
      "F1 0.6746987951807228\n",
      "\n",
      "sense: hold up\n",
      "instances of sense: 15\n",
      "amount of correct instances: 0\n",
      "correct cluster number: No cluster\n",
      "total amount of points in biggest cluster: 0\n",
      "precision zero\n",
      "precision: 0\n",
      "recall 0.0\n",
      "F1 0\n",
      "\n",
      "sense: fan\n",
      "instances of sense: 12\n",
      "amount of correct instances: 0\n",
      "correct cluster number: No cluster\n",
      "total amount of points in biggest cluster: 0\n",
      "precision zero\n",
      "precision: 0\n",
      "recall 0.0\n",
      "F1 0\n",
      "\n",
      "\n",
      " Tirer\n",
      "Number of senses: 2\n",
      "\n",
      "sense: shoot\n",
      "instances of sense: 74\n",
      "amount of correct instances: 74\n",
      "correct cluster number: 0\n",
      "total amount of points in biggest cluster: 104\n",
      "precision: 0.7115384615384616\n",
      "recall 1.0\n",
      "F1 0.8314606741573034\n",
      "\n",
      "sense: pull\n",
      "instances of sense: 30\n",
      "amount of correct instances: 0\n",
      "correct cluster number: No cluster\n",
      "total amount of points in biggest cluster: 0\n",
      "precision zero\n",
      "precision: 0\n",
      "recall 0.0\n",
      "F1 0\n",
      "\n",
      "\n",
      " Tour\n",
      "Number of senses: 5\n",
      "\n",
      "sense: lap\n",
      "instances of sense: 16\n",
      "amount of correct instances: 0\n",
      "correct cluster number: No cluster\n",
      "total amount of points in biggest cluster: 0\n",
      "precision zero\n",
      "precision: 0\n",
      "recall 0.0\n",
      "F1 0\n",
      "\n",
      "sense: trick\n",
      "instances of sense: 14\n",
      "amount of correct instances: 0\n",
      "correct cluster number: No cluster\n",
      "total amount of points in biggest cluster: 0\n",
      "precision zero\n",
      "precision: 0\n",
      "recall 0.0\n",
      "F1 0\n",
      "\n",
      "sense: turn\n",
      "instances of sense: 24\n",
      "amount of correct instances: 24\n",
      "correct cluster number: 0\n",
      "total amount of points in biggest cluster: 74\n",
      "precision: 0.32432432432432434\n",
      "recall 1.0\n",
      "F1 0.489795918367347\n",
      "\n",
      "sense: round\n",
      "instances of sense: 14\n",
      "amount of correct instances: 0\n",
      "correct cluster number: No cluster\n",
      "total amount of points in biggest cluster: 0\n",
      "precision zero\n",
      "precision: 0\n",
      "recall 0.0\n",
      "F1 0\n",
      "\n",
      "sense: tower\n",
      "instances of sense: 6\n",
      "amount of correct instances: 0\n",
      "correct cluster number: No cluster\n",
      "total amount of points in biggest cluster: 0\n",
      "precision zero\n",
      "precision: 0\n",
      "recall 0.0\n",
      "F1 0\n",
      "\n",
      "\n",
      " Vol\n",
      "Number of senses: 2\n",
      "\n",
      "sense: theft\n",
      "instances of sense: 25\n",
      "amount of correct instances: 0\n",
      "correct cluster number: No cluster\n",
      "total amount of points in biggest cluster: 0\n",
      "precision zero\n",
      "precision: 0\n",
      "recall 0.0\n",
      "F1 0\n",
      "\n",
      "sense: flight\n",
      "instances of sense: 60\n",
      "amount of correct instances: 60\n",
      "correct cluster number: 0\n",
      "total amount of points in biggest cluster: 85\n",
      "precision: 0.7058823529411765\n",
      "recall 1.0\n",
      "F1 0.8275862068965518\n",
      "\n",
      "\n",
      " Avocat\n",
      "lawyer\n",
      "score: 0.8\n",
      "length of sense: 56\n",
      "total length: 84\n",
      "added weight: 0.6666666666666666 for a total of 0.6666666666666666\n",
      "F1 score after calc: 0.5333333333333333\n",
      "avocado\n",
      "score: 0\n",
      "length of sense: 28\n",
      "total length: 84\n",
      "added weight: 0.3333333333333333 for a total of 1.0\n",
      "F1 score after calc: 0.5333333333333333\n",
      "\n",
      "\n",
      " Bien\n",
      "property\n",
      "score: 0.6666666666666666\n",
      "length of sense: 49\n",
      "total length: 98\n",
      "added weight: 0.5 for a total of 0.5\n",
      "F1 score after calc: 0.3333333333333333\n",
      "wellbeing\n",
      "score: 0\n",
      "length of sense: 20\n",
      "total length: 98\n",
      "added weight: 0.20408163265306123 for a total of 0.7040816326530612\n",
      "F1 score after calc: 0.3333333333333333\n",
      "good\n",
      "score: 0\n",
      "length of sense: 29\n",
      "total length: 98\n",
      "added weight: 0.29591836734693877 for a total of 1.0\n",
      "F1 score after calc: 0.3333333333333333\n",
      "\n",
      "\n",
      " Bureau\n",
      "desk\n",
      "score: 0\n",
      "length of sense: 35\n",
      "total length: 103\n",
      "added weight: 0.33980582524271846 for a total of 0.33980582524271846\n",
      "F1 score after calc: 0.0\n",
      "cabinet\n",
      "score: 0\n",
      "length of sense: 14\n",
      "total length: 103\n",
      "added weight: 0.13592233009708737 for a total of 0.47572815533980584\n",
      "F1 score after calc: 0.0\n",
      "office\n",
      "score: 0.6878980891719745\n",
      "length of sense: 54\n",
      "total length: 103\n",
      "added weight: 0.5242718446601942 for a total of 1.0\n",
      "F1 score after calc: 0.3606456001484138\n",
      "\n",
      "\n",
      " Faculté\n",
      "university\n",
      "score: 0.6324786324786326\n",
      "length of sense: 37\n",
      "total length: 80\n",
      "added weight: 0.4625 for a total of 0.4625\n",
      "F1 score after calc: 0.2925213675213676\n",
      "competence\n",
      "score: 0\n",
      "length of sense: 28\n",
      "total length: 80\n",
      "added weight: 0.35 for a total of 0.8125\n",
      "F1 score after calc: 0.2925213675213676\n",
      "ability\n",
      "score: 0\n",
      "length of sense: 15\n",
      "total length: 80\n",
      "added weight: 0.1875 for a total of 1.0\n",
      "F1 score after calc: 0.2925213675213676\n",
      "\n",
      "\n",
      " Filer\n",
      "slip away\n",
      "score: 0.6573426573426573\n",
      "length of sense: 47\n",
      "total length: 96\n",
      "added weight: 0.4895833333333333 for a total of 0.4895833333333333\n",
      "F1 score after calc: 0.3218240093240093\n",
      "give\n",
      "score: 0\n",
      "length of sense: 29\n",
      "total length: 96\n",
      "added weight: 0.3020833333333333 for a total of 0.7916666666666666\n",
      "F1 score after calc: 0.3218240093240093\n",
      "spinning\n",
      "score: 0\n",
      "length of sense: 20\n",
      "total length: 96\n",
      "added weight: 0.20833333333333334 for a total of 1.0\n",
      "F1 score after calc: 0.3218240093240093\n",
      "\n",
      "\n",
      " Glace\n",
      "ice\n",
      "score: 0.6483516483516483\n",
      "length of sense: 59\n",
      "total length: 123\n",
      "added weight: 0.4796747967479675 for a total of 0.4796747967479675\n",
      "F1 score after calc: 0.3109979451442866\n",
      "ice cream\n",
      "score: 0\n",
      "length of sense: 20\n",
      "total length: 123\n",
      "added weight: 0.16260162601626016 for a total of 0.6422764227642277\n",
      "F1 score after calc: 0.3109979451442866\n",
      "glass\n",
      "score: 0\n",
      "length of sense: 9\n",
      "total length: 123\n",
      "added weight: 0.07317073170731707 for a total of 0.7154471544715447\n",
      "F1 score after calc: 0.3109979451442866\n",
      "mirror\n",
      "score: 0\n",
      "length of sense: 26\n",
      "total length: 123\n",
      "added weight: 0.21138211382113822 for a total of 0.926829268292683\n",
      "F1 score after calc: 0.3109979451442866\n",
      "powdered sugar\n",
      "score: 0\n",
      "length of sense: 9\n",
      "total length: 123\n",
      "added weight: 0.07317073170731707 for a total of 1.0\n",
      "F1 score after calc: 0.3109979451442866\n",
      "\n",
      "\n",
      " Souris\n",
      "bat\n",
      "score: 0\n",
      "length of sense: 10\n",
      "total length: 68\n",
      "added weight: 0.14705882352941177 for a total of 0.14705882352941177\n",
      "F1 score after calc: 0.0\n",
      "pointer\n",
      "score: 0\n",
      "length of sense: 27\n",
      "total length: 68\n",
      "added weight: 0.39705882352941174 for a total of 0.5441176470588235\n",
      "F1 score after calc: 0.0\n",
      "rodent\n",
      "score: 0.6262626262626263\n",
      "length of sense: 31\n",
      "total length: 68\n",
      "added weight: 0.45588235294117646 for a total of 1.0\n",
      "F1 score after calc: 0.2855020796197267\n",
      "\n",
      "\n",
      " Supporter\n",
      "endure\n",
      "score: 0.6746987951807228\n",
      "length of sense: 28\n",
      "total length: 55\n",
      "added weight: 0.509090909090909 for a total of 0.509090909090909\n",
      "F1 score after calc: 0.34348302300109523\n",
      "hold up\n",
      "score: 0\n",
      "length of sense: 15\n",
      "total length: 55\n",
      "added weight: 0.2727272727272727 for a total of 0.7818181818181817\n",
      "F1 score after calc: 0.34348302300109523\n",
      "fan\n",
      "score: 0\n",
      "length of sense: 12\n",
      "total length: 55\n",
      "added weight: 0.21818181818181817 for a total of 0.9999999999999999\n",
      "F1 score after calc: 0.34348302300109523\n",
      "\n",
      "\n",
      " Tirer\n",
      "shoot\n",
      "score: 0.8314606741573034\n",
      "length of sense: 74\n",
      "total length: 104\n",
      "added weight: 0.7115384615384616 for a total of 0.7115384615384616\n",
      "F1 score after calc: 0.5916162489196197\n",
      "pull\n",
      "score: 0\n",
      "length of sense: 30\n",
      "total length: 104\n",
      "added weight: 0.28846153846153844 for a total of 1.0\n",
      "F1 score after calc: 0.5916162489196197\n",
      "\n",
      "\n",
      " Tour\n",
      "lap\n",
      "score: 0\n",
      "length of sense: 16\n",
      "total length: 74\n",
      "added weight: 0.21621621621621623 for a total of 0.21621621621621623\n",
      "F1 score after calc: 0.0\n",
      "trick\n",
      "score: 0\n",
      "length of sense: 14\n",
      "total length: 74\n",
      "added weight: 0.1891891891891892 for a total of 0.40540540540540543\n",
      "F1 score after calc: 0.0\n",
      "turn\n",
      "score: 0.489795918367347\n",
      "length of sense: 24\n",
      "total length: 74\n",
      "added weight: 0.32432432432432434 for a total of 0.7297297297297298\n",
      "F1 score after calc: 0.15885273028130173\n",
      "round\n",
      "score: 0\n",
      "length of sense: 14\n",
      "total length: 74\n",
      "added weight: 0.1891891891891892 for a total of 0.9189189189189191\n",
      "F1 score after calc: 0.15885273028130173\n",
      "tower\n",
      "score: 0\n",
      "length of sense: 6\n",
      "total length: 74\n",
      "added weight: 0.08108108108108109 for a total of 1.0000000000000002\n",
      "F1 score after calc: 0.15885273028130173\n",
      "\n",
      "\n",
      " Vol\n",
      "theft\n",
      "score: 0\n",
      "length of sense: 25\n",
      "total length: 85\n",
      "added weight: 0.29411764705882354 for a total of 0.29411764705882354\n",
      "F1 score after calc: 0.0\n",
      "flight\n",
      "score: 0.8275862068965518\n",
      "length of sense: 60\n",
      "total length: 85\n",
      "added weight: 0.7058823529411765 for a total of 1.0\n",
      "F1 score after calc: 0.5841784989858013\n"
     ]
    }
   ],
   "source": [
    "# We will also calculate an F1 score for each word when no clustering takes place\n",
    "# We will make a copy of each dataframe and set the \"cluster\" column to 0 for all rows\n",
    "# We create a dictionary of dictionaries to save, for each sense, the ratings of its precision and recall\n",
    "all_scores_no_cluster = {}\n",
    "all_lengths_no_cluster = {}\n",
    "\n",
    "# In all further experiments, we keep working with the same dataset as in Experiment 1.\n",
    "for filename in os.listdir(f\"{model_name}/Experiment_1/Curated\"):\n",
    "    if filename.endswith(\".csv\"):\n",
    "        df_F1 = pd.read_csv(f\"{model_name}/Experiment_1/Curated/\" + filename, sep=\";\", encoding=\"utf-8\", header=0)\n",
    "\n",
    "        target_word = df_F1[\"source\"][1]\n",
    "        # We undo clustering: we set all clusters to 0\n",
    "        # The \"default\" (i.e. \"correct\" category is the most frequent sense)\n",
    "        df_F1[\"cluster\"] = 0\n",
    "        most_freq_sense = df_F1[\"sense\"].value_counts().idxmax()\n",
    "        df_F1[\"default\"] = [1 if sense == most_freq_sense else 0 for sense in df_F1[\"sense\"]]\n",
    "        print(\"\\n\\n\", target_word)\n",
    "        total_df_length = len(df_F1)\n",
    "        # We calculate the amount of different senses\n",
    "        senses = len(df_F1[\"sense\"].unique())\n",
    "        print(\"Number of senses:\", senses)\n",
    "        target_word_dictionary = {}\n",
    "        target_word_lengths = {}\n",
    "        target_word_lengths[\"total\"] = total_df_length\n",
    "        for sense in df_F1[\"sense\"].unique():\n",
    "            scores = {}\n",
    "            sense_df = df_F1[df_F1[\"sense\"] == sense]\n",
    "                    #precision: number of correct instances in a cluster / total cluster size\n",
    "                    # We calculate the amount of \"default\" instances\n",
    "            sense_len = len(sense_df)\n",
    "        \n",
    "            \n",
    "            correct_df = sense_df[sense_df[\"default\"] == True]\n",
    "            correct_len = len(correct_df)\n",
    "            if correct_len > 0:\n",
    "                correct_cluster = correct_df[\"cluster\"].iloc[0]\n",
    "            else:\n",
    "                correct_cluster = \"No cluster\"\n",
    "                \n",
    "            cluster_len = len(df_F1[df_F1[\"cluster\"] == correct_cluster])\n",
    "            print(\"\\nsense:\", sense)\n",
    "            print(\"instances of sense:\", sense_len)\n",
    "            print(\"amount of correct instances:\", correct_len)\n",
    "            print(\"correct cluster number:\", correct_cluster)\n",
    "            print(\"total amount of points in biggest cluster:\", cluster_len)\n",
    "            \n",
    "            if cluster_len > 0:  \n",
    "                precision = correct_len / cluster_len\n",
    "            else:\n",
    "                precision = 0\n",
    "                print(\"precision zero\")\n",
    "            recall = correct_len / sense_len\n",
    "            print(\"precision:\", precision)\n",
    "            print(\"recall\", recall)\n",
    "            \n",
    "            F1 = statistics.harmonic_mean((precision, recall))\n",
    "            print(\"F1\", F1)\n",
    "            \n",
    "            scores[\"precision\"] = precision\n",
    "            scores[\"recall\"] = recall\n",
    "            scores[\"F1\"] = F1\n",
    "            target_word_dictionary[sense] = scores\n",
    "            target_word_lengths[sense] = sense_len\n",
    "        all_scores_no_cluster[target_word] = target_word_dictionary\n",
    "        all_lengths_no_cluster[target_word] = target_word_lengths\n",
    "# Total F1: weighted average of the F1 scores of each gold standard sense\n",
    "# We calculate the weight for each sense of the dataframe (the amount of instances of this sense divided by the total amount of instances)\n",
    "# We make a dictionary F1_scores, in which each target word is associated with its F1 score\n",
    "F1_scores_no_cluster = {}\n",
    "for target_word in all_scores_no_cluster:\n",
    "    F1 = 0\n",
    "    weight = 0\n",
    "    print(\"\\n\\n\", target_word)\n",
    "    for sense in all_scores_no_cluster[target_word]:\n",
    "        score = all_scores_no_cluster[target_word][sense][\"F1\"]\n",
    "        print(sense)\n",
    "        print(\"score:\", score)\n",
    "        \n",
    "        len_sense = all_lengths_no_cluster[target_word][sense]\n",
    "        print(\"length of sense:\", len_sense)\n",
    "        \n",
    "        len_total = all_lengths_no_cluster[target_word][\"total\"]\n",
    "        print(\"total length:\", len_total)\n",
    "        added_weight = len_sense / len_total\n",
    "        weight += added_weight\n",
    "        print(\"added weight:\", added_weight, \"for a total of\", weight)\n",
    "        F1 += score * (len_sense / len_total)\n",
    "        print(\"F1 score after calc:\", F1)\n",
    "    F1_scores_no_cluster[target_word] = F1\n",
    "\n"
   ],
   "metadata": {
    "collapsed": false,
    "ExecuteTime": {
     "end_time": "2024-05-17T20:50:34.050110Z",
     "start_time": "2024-05-17T20:50:33.966696Z"
    }
   },
   "id": "5e0171a680af6377",
   "execution_count": 34
  },
  {
   "cell_type": "code",
   "outputs": [
    {
     "name": "stdout",
     "output_type": "stream",
     "text": [
      "Nouns average of weighted scores: 0.4448430820594663\n",
      "Nouns average of overall scores: 0.5886544329361538\n",
      "Nouns average of all in one cluster scores: 0.5147473294527403\n",
      "Nouns average of v-measure cluster score: 0.2228025652098367\n",
      "Nouns average of rand score: 0.19676685501966798\n",
      "Nouns average of F1 scores: 0.47712131595320795\n",
      "Nouns average of F1 scores when no clustering takes place: 0.3574206110459456\n",
      "\n",
      "\n",
      "\n",
      "Verbs average of weighted scores: 0.436291064032158\n",
      "Verbs average of overall scores: 0.555051044634378\n",
      "Verbs average of all in one cluster scores: 0.5670405982905983\n",
      "Verbs average of v-measure cluster score: 0.24564319539678547\n",
      "Verbs average of rand score: 0.1056622184706341\n",
      "Verbs average of F1 scores: 0.4657311758030552\n",
      "Verbs average of F1 scores when no clustering takes place: 0.41897442708157473\n"
     ]
    }
   ],
   "source": [
    "Nouns = [\"Avocat\", \"Bien\", \"Bureau\", \"Faculté\", \"Glace\", \"Souris\", \"Tour\", \"Vol\"]\n",
    "Verbs = [\"Filer\", \"Supporter\", \"Tirer\"]\n",
    "\n",
    "nouns_average_weighted_agg = np.mean([weighted_scores_agg[noun] for noun in Nouns])\n",
    "nouns_average_overall_agg = np.mean([overall_scores_agg[noun] for noun in Nouns])\n",
    "nouns_average_all_in_one_agg = np.mean([all_in_one_cluster_overall_scores_agg[noun] for noun in Nouns])\n",
    "nouns_average_v_measure_agg = np.mean([v_measure_scores_agg[noun] for noun in Nouns])\n",
    "nouns_average_rand_agg = np.mean([rand_scores_agg[noun] for noun in Nouns])\n",
    "nouns_average_F1_agg = np.mean([F1_scores_agg[noun] for noun in Nouns])\n",
    "nouns_average_F1_no_cluster = np.mean([F1_scores_no_cluster[noun] for noun in Nouns])\n",
    "\n",
    "\n",
    "verbs_average_weighted_agg = np.mean([weighted_scores_agg[verb] for verb in Verbs])\n",
    "verbs_average_overall_agg = np.mean([overall_scores_agg[verb] for verb in Verbs])\n",
    "verbs_average_all_in_one_agg = np.mean([all_in_one_cluster_overall_scores_agg[verb] for verb in Verbs])\n",
    "verbs_average_v_measure_agg = np.mean([v_measure_scores_agg[verb] for verb in Verbs])\n",
    "verbs_average_rand_agg = np.mean([rand_scores_agg[verb] for verb in Verbs])\n",
    "verbs_average_F1_agg = np.mean([F1_scores_agg[verb] for verb in Verbs])\n",
    "verbs_average_F1_no_cluster = np.mean([F1_scores_no_cluster[verb] for verb in Verbs])\n",
    "\n",
    "print(\"Nouns average of weighted scores:\", nouns_average_weighted_agg)\n",
    "print(\"Nouns average of overall scores:\", nouns_average_overall_agg)\n",
    "print(\"Nouns average of all in one cluster scores:\", nouns_average_all_in_one_agg)\n",
    "print(\"Nouns average of v-measure cluster score:\", nouns_average_v_measure_agg)\n",
    "print(\"Nouns average of rand score:\", nouns_average_rand_agg)\n",
    "print(\"Nouns average of F1 scores:\", nouns_average_F1_agg)\n",
    "print(\"Nouns average of F1 scores when no clustering takes place:\", nouns_average_F1_no_cluster)\n",
    "print(\"\\n\\n\")\n",
    "print(\"Verbs average of weighted scores:\", verbs_average_weighted_agg)\n",
    "print(\"Verbs average of overall scores:\", verbs_average_overall_agg)\n",
    "print(\"Verbs average of all in one cluster scores:\", verbs_average_all_in_one_agg)\n",
    "print(\"Verbs average of v-measure cluster score:\", verbs_average_v_measure_agg)\n",
    "print(\"Verbs average of rand score:\", verbs_average_rand_agg)\n",
    "print(\"Verbs average of F1 scores:\", verbs_average_F1_agg)\n",
    "print(\"Verbs average of F1 scores when no clustering takes place:\", verbs_average_F1_no_cluster)\n"
   ],
   "metadata": {
    "collapsed": false,
    "ExecuteTime": {
     "end_time": "2024-05-17T20:50:34.342971Z",
     "start_time": "2024-05-17T20:50:34.328867Z"
    }
   },
   "id": "1a2e3014bee88c00",
   "execution_count": 35
  },
  {
   "cell_type": "code",
   "outputs": [],
   "source": [
    "# We create a dataframe from the dictionaries to eventually save the results to a csv file\n",
    "df_agg = pd.DataFrame.from_dict(weighted_scores_agg, orient=\"index\", columns=[\"Weighted\"])\n",
    "df_agg[\"Overall\"] = overall_scores_agg.values()\n",
    "df_agg[\"V_measure\"] = v_measure_scores_agg.values()\n",
    "df_agg[\"Rand\"] = rand_scores_agg.values()\n",
    "df_agg[\"F1\"] = [F1_scores_agg[word] for word in df_agg.index]\n",
    "\n",
    "df_agg[\"Type\"] = [\"Noun\" if word in Nouns else \"Verb\" for word in df_agg.index]\n",
    "df_agg[\"Amount_senses\"] = amount_senses.values()\n",
    "# We add a \"F1\" column to the dataframe\n",
    "\n",
    "# We also create a separate file for the all in one cluster scores\n",
    "df_all_in_one_agg = pd.DataFrame.from_dict(all_in_one_cluster_overall_scores_agg, orient=\"index\", columns=[\"Overall_no_cluster\"])\n",
    "df_all_in_one_agg[\"F1_no_cluster\"] = [F1_scores_no_cluster[word] for word in df_all_in_one_agg.index]\n",
    "df_all_in_one_agg[\"Type\"] = [\"Noun\" if word in Nouns else \"Verb\" for word in df_all_in_one_agg.index]\n",
    "\n",
    "# We add a row 'Average' to the dataframes\n",
    "df_with_average_agg = df_agg.copy()\n",
    "df_with_average_agg.loc[\"Average_nouns\"] = [nouns_average_weighted_agg, nouns_average_overall_agg, nouns_average_v_measure_agg, nouns_average_rand_agg, nouns_average_F1_agg, \"\", \"\"]\n",
    "df_with_average_agg.loc[\"Average_verbs\"] = [verbs_average_weighted_agg, verbs_average_overall_agg, verbs_average_v_measure_agg, verbs_average_rand_agg, verbs_average_F1_agg, \"\", \"\"]\n",
    "df_with_average_agg.loc[\"Global_average\"] = [df_agg[\"Weighted\"].mean(), df_agg[\"Overall\"].mean(), df_agg[\"V_measure\"].mean(), df_agg[\"Rand\"].mean(), df_agg[\"F1\"].mean(), \"\", \"\"] #use the og file, no account of averages\n",
    "\n",
    "\n",
    "# As we don't make a copy, we have to calculate the mean before adding the other averages!\n",
    "df_all_in_one_agg.loc[\"Global_average\"] = [df_all_in_one_agg[\"Overall_no_cluster\"].mean(), df_all_in_one_agg[\"F1_no_cluster\"].mean(), \"\",] \n",
    "df_all_in_one_agg.loc[\"Average_nouns\"] = [nouns_average_all_in_one_agg, nouns_average_F1_no_cluster,\"\"]\n",
    "df_all_in_one_agg.loc[\"Average_verbs\"] = [verbs_average_all_in_one_agg, verbs_average_F1_no_cluster,\"\"]"
   ],
   "metadata": {
    "collapsed": false,
    "ExecuteTime": {
     "end_time": "2024-05-17T20:50:34.458615Z",
     "start_time": "2024-05-17T20:50:34.441732Z"
    }
   },
   "id": "66d1c48f7db710d7",
   "execution_count": 36
  },
  {
   "cell_type": "code",
   "outputs": [
    {
     "data": {
      "application/vnd.plotly.v1+json": {
       "data": [
        {
         "hovertemplate": "Type=Noun<br>Weighted=%{x}<br>Overall=%{y}<br>index=%{text}<extra></extra>",
         "legendgroup": "Noun",
         "marker": {
          "color": "#636efa",
          "symbol": "circle"
         },
         "mode": "markers+text",
         "name": "Noun",
         "orientation": "v",
         "showlegend": true,
         "text": [
          "Avocat",
          "Bien",
          "Bureau",
          "Faculté",
          "Glace",
          "Souris",
          "Tour",
          "Vol"
         ],
         "x": [
          0.5006613756613757,
          0.36618578465869106,
          0.33668430335097005,
          0.6486486486486487,
          0.20661016949152544,
          0.345679012345679,
          0.1826086956521739,
          0.9716666666666667
         ],
         "xaxis": "x",
         "y": [
          0.6626506024096386,
          0.5204081632653061,
          0.5242718446601942,
          0.7875,
          0.4796747967479675,
          0.47058823529411764,
          0.2876712328767123,
          0.9764705882352941
         ],
         "yaxis": "y",
         "type": "scatter"
        },
        {
         "hovertemplate": "Type=Verb<br>Weighted=%{x}<br>Overall=%{y}<br>index=%{text}<extra></extra>",
         "legendgroup": "Verb",
         "marker": {
          "color": "#EF553B",
          "symbol": "circle"
         },
         "mode": "markers+text",
         "name": "Verb",
         "orientation": "v",
         "showlegend": true,
         "text": [
          "Filer",
          "Supporter",
          "Tirer"
         ],
         "x": [
          0.3377353876253362,
          0.6265432098765432,
          0.34459459459459457
         ],
         "xaxis": "x",
         "y": [
          0.4895833333333333,
          0.6851851851851852,
          0.49038461538461536
         ],
         "yaxis": "y",
         "type": "scatter"
        }
       ],
       "layout": {
        "template": {
         "data": {
          "barpolar": [
           {
            "marker": {
             "line": {
              "color": "white",
              "width": 0.5
             },
             "pattern": {
              "fillmode": "overlay",
              "size": 10,
              "solidity": 0.2
             }
            },
            "type": "barpolar"
           }
          ],
          "bar": [
           {
            "error_x": {
             "color": "#2a3f5f"
            },
            "error_y": {
             "color": "#2a3f5f"
            },
            "marker": {
             "line": {
              "color": "white",
              "width": 0.5
             },
             "pattern": {
              "fillmode": "overlay",
              "size": 10,
              "solidity": 0.2
             }
            },
            "type": "bar"
           }
          ],
          "carpet": [
           {
            "aaxis": {
             "endlinecolor": "#2a3f5f",
             "gridcolor": "#C8D4E3",
             "linecolor": "#C8D4E3",
             "minorgridcolor": "#C8D4E3",
             "startlinecolor": "#2a3f5f"
            },
            "baxis": {
             "endlinecolor": "#2a3f5f",
             "gridcolor": "#C8D4E3",
             "linecolor": "#C8D4E3",
             "minorgridcolor": "#C8D4E3",
             "startlinecolor": "#2a3f5f"
            },
            "type": "carpet"
           }
          ],
          "choropleth": [
           {
            "colorbar": {
             "outlinewidth": 0,
             "ticks": ""
            },
            "type": "choropleth"
           }
          ],
          "contourcarpet": [
           {
            "colorbar": {
             "outlinewidth": 0,
             "ticks": ""
            },
            "type": "contourcarpet"
           }
          ],
          "contour": [
           {
            "colorbar": {
             "outlinewidth": 0,
             "ticks": ""
            },
            "colorscale": [
             [
              0.0,
              "#0d0887"
             ],
             [
              0.1111111111111111,
              "#46039f"
             ],
             [
              0.2222222222222222,
              "#7201a8"
             ],
             [
              0.3333333333333333,
              "#9c179e"
             ],
             [
              0.4444444444444444,
              "#bd3786"
             ],
             [
              0.5555555555555556,
              "#d8576b"
             ],
             [
              0.6666666666666666,
              "#ed7953"
             ],
             [
              0.7777777777777778,
              "#fb9f3a"
             ],
             [
              0.8888888888888888,
              "#fdca26"
             ],
             [
              1.0,
              "#f0f921"
             ]
            ],
            "type": "contour"
           }
          ],
          "heatmapgl": [
           {
            "colorbar": {
             "outlinewidth": 0,
             "ticks": ""
            },
            "colorscale": [
             [
              0.0,
              "#0d0887"
             ],
             [
              0.1111111111111111,
              "#46039f"
             ],
             [
              0.2222222222222222,
              "#7201a8"
             ],
             [
              0.3333333333333333,
              "#9c179e"
             ],
             [
              0.4444444444444444,
              "#bd3786"
             ],
             [
              0.5555555555555556,
              "#d8576b"
             ],
             [
              0.6666666666666666,
              "#ed7953"
             ],
             [
              0.7777777777777778,
              "#fb9f3a"
             ],
             [
              0.8888888888888888,
              "#fdca26"
             ],
             [
              1.0,
              "#f0f921"
             ]
            ],
            "type": "heatmapgl"
           }
          ],
          "heatmap": [
           {
            "colorbar": {
             "outlinewidth": 0,
             "ticks": ""
            },
            "colorscale": [
             [
              0.0,
              "#0d0887"
             ],
             [
              0.1111111111111111,
              "#46039f"
             ],
             [
              0.2222222222222222,
              "#7201a8"
             ],
             [
              0.3333333333333333,
              "#9c179e"
             ],
             [
              0.4444444444444444,
              "#bd3786"
             ],
             [
              0.5555555555555556,
              "#d8576b"
             ],
             [
              0.6666666666666666,
              "#ed7953"
             ],
             [
              0.7777777777777778,
              "#fb9f3a"
             ],
             [
              0.8888888888888888,
              "#fdca26"
             ],
             [
              1.0,
              "#f0f921"
             ]
            ],
            "type": "heatmap"
           }
          ],
          "histogram2dcontour": [
           {
            "colorbar": {
             "outlinewidth": 0,
             "ticks": ""
            },
            "colorscale": [
             [
              0.0,
              "#0d0887"
             ],
             [
              0.1111111111111111,
              "#46039f"
             ],
             [
              0.2222222222222222,
              "#7201a8"
             ],
             [
              0.3333333333333333,
              "#9c179e"
             ],
             [
              0.4444444444444444,
              "#bd3786"
             ],
             [
              0.5555555555555556,
              "#d8576b"
             ],
             [
              0.6666666666666666,
              "#ed7953"
             ],
             [
              0.7777777777777778,
              "#fb9f3a"
             ],
             [
              0.8888888888888888,
              "#fdca26"
             ],
             [
              1.0,
              "#f0f921"
             ]
            ],
            "type": "histogram2dcontour"
           }
          ],
          "histogram2d": [
           {
            "colorbar": {
             "outlinewidth": 0,
             "ticks": ""
            },
            "colorscale": [
             [
              0.0,
              "#0d0887"
             ],
             [
              0.1111111111111111,
              "#46039f"
             ],
             [
              0.2222222222222222,
              "#7201a8"
             ],
             [
              0.3333333333333333,
              "#9c179e"
             ],
             [
              0.4444444444444444,
              "#bd3786"
             ],
             [
              0.5555555555555556,
              "#d8576b"
             ],
             [
              0.6666666666666666,
              "#ed7953"
             ],
             [
              0.7777777777777778,
              "#fb9f3a"
             ],
             [
              0.8888888888888888,
              "#fdca26"
             ],
             [
              1.0,
              "#f0f921"
             ]
            ],
            "type": "histogram2d"
           }
          ],
          "histogram": [
           {
            "marker": {
             "pattern": {
              "fillmode": "overlay",
              "size": 10,
              "solidity": 0.2
             }
            },
            "type": "histogram"
           }
          ],
          "mesh3d": [
           {
            "colorbar": {
             "outlinewidth": 0,
             "ticks": ""
            },
            "type": "mesh3d"
           }
          ],
          "parcoords": [
           {
            "line": {
             "colorbar": {
              "outlinewidth": 0,
              "ticks": ""
             }
            },
            "type": "parcoords"
           }
          ],
          "pie": [
           {
            "automargin": true,
            "type": "pie"
           }
          ],
          "scatter3d": [
           {
            "line": {
             "colorbar": {
              "outlinewidth": 0,
              "ticks": ""
             }
            },
            "marker": {
             "colorbar": {
              "outlinewidth": 0,
              "ticks": ""
             }
            },
            "type": "scatter3d"
           }
          ],
          "scattercarpet": [
           {
            "marker": {
             "colorbar": {
              "outlinewidth": 0,
              "ticks": ""
             }
            },
            "type": "scattercarpet"
           }
          ],
          "scattergeo": [
           {
            "marker": {
             "colorbar": {
              "outlinewidth": 0,
              "ticks": ""
             }
            },
            "type": "scattergeo"
           }
          ],
          "scattergl": [
           {
            "marker": {
             "colorbar": {
              "outlinewidth": 0,
              "ticks": ""
             }
            },
            "type": "scattergl"
           }
          ],
          "scattermapbox": [
           {
            "marker": {
             "colorbar": {
              "outlinewidth": 0,
              "ticks": ""
             }
            },
            "type": "scattermapbox"
           }
          ],
          "scatterpolargl": [
           {
            "marker": {
             "colorbar": {
              "outlinewidth": 0,
              "ticks": ""
             }
            },
            "type": "scatterpolargl"
           }
          ],
          "scatterpolar": [
           {
            "marker": {
             "colorbar": {
              "outlinewidth": 0,
              "ticks": ""
             }
            },
            "type": "scatterpolar"
           }
          ],
          "scatter": [
           {
            "fillpattern": {
             "fillmode": "overlay",
             "size": 10,
             "solidity": 0.2
            },
            "type": "scatter"
           }
          ],
          "scatterternary": [
           {
            "marker": {
             "colorbar": {
              "outlinewidth": 0,
              "ticks": ""
             }
            },
            "type": "scatterternary"
           }
          ],
          "surface": [
           {
            "colorbar": {
             "outlinewidth": 0,
             "ticks": ""
            },
            "colorscale": [
             [
              0.0,
              "#0d0887"
             ],
             [
              0.1111111111111111,
              "#46039f"
             ],
             [
              0.2222222222222222,
              "#7201a8"
             ],
             [
              0.3333333333333333,
              "#9c179e"
             ],
             [
              0.4444444444444444,
              "#bd3786"
             ],
             [
              0.5555555555555556,
              "#d8576b"
             ],
             [
              0.6666666666666666,
              "#ed7953"
             ],
             [
              0.7777777777777778,
              "#fb9f3a"
             ],
             [
              0.8888888888888888,
              "#fdca26"
             ],
             [
              1.0,
              "#f0f921"
             ]
            ],
            "type": "surface"
           }
          ],
          "table": [
           {
            "cells": {
             "fill": {
              "color": "#EBF0F8"
             },
             "line": {
              "color": "white"
             }
            },
            "header": {
             "fill": {
              "color": "#C8D4E3"
             },
             "line": {
              "color": "white"
             }
            },
            "type": "table"
           }
          ]
         },
         "layout": {
          "annotationdefaults": {
           "arrowcolor": "#2a3f5f",
           "arrowhead": 0,
           "arrowwidth": 1
          },
          "autotypenumbers": "strict",
          "coloraxis": {
           "colorbar": {
            "outlinewidth": 0,
            "ticks": ""
           }
          },
          "colorscale": {
           "diverging": [
            [
             0,
             "#8e0152"
            ],
            [
             0.1,
             "#c51b7d"
            ],
            [
             0.2,
             "#de77ae"
            ],
            [
             0.3,
             "#f1b6da"
            ],
            [
             0.4,
             "#fde0ef"
            ],
            [
             0.5,
             "#f7f7f7"
            ],
            [
             0.6,
             "#e6f5d0"
            ],
            [
             0.7,
             "#b8e186"
            ],
            [
             0.8,
             "#7fbc41"
            ],
            [
             0.9,
             "#4d9221"
            ],
            [
             1,
             "#276419"
            ]
           ],
           "sequential": [
            [
             0.0,
             "#0d0887"
            ],
            [
             0.1111111111111111,
             "#46039f"
            ],
            [
             0.2222222222222222,
             "#7201a8"
            ],
            [
             0.3333333333333333,
             "#9c179e"
            ],
            [
             0.4444444444444444,
             "#bd3786"
            ],
            [
             0.5555555555555556,
             "#d8576b"
            ],
            [
             0.6666666666666666,
             "#ed7953"
            ],
            [
             0.7777777777777778,
             "#fb9f3a"
            ],
            [
             0.8888888888888888,
             "#fdca26"
            ],
            [
             1.0,
             "#f0f921"
            ]
           ],
           "sequentialminus": [
            [
             0.0,
             "#0d0887"
            ],
            [
             0.1111111111111111,
             "#46039f"
            ],
            [
             0.2222222222222222,
             "#7201a8"
            ],
            [
             0.3333333333333333,
             "#9c179e"
            ],
            [
             0.4444444444444444,
             "#bd3786"
            ],
            [
             0.5555555555555556,
             "#d8576b"
            ],
            [
             0.6666666666666666,
             "#ed7953"
            ],
            [
             0.7777777777777778,
             "#fb9f3a"
            ],
            [
             0.8888888888888888,
             "#fdca26"
            ],
            [
             1.0,
             "#f0f921"
            ]
           ]
          },
          "colorway": [
           "#636efa",
           "#EF553B",
           "#00cc96",
           "#ab63fa",
           "#FFA15A",
           "#19d3f3",
           "#FF6692",
           "#B6E880",
           "#FF97FF",
           "#FECB52"
          ],
          "font": {
           "color": "#2a3f5f"
          },
          "geo": {
           "bgcolor": "white",
           "lakecolor": "white",
           "landcolor": "white",
           "showlakes": true,
           "showland": true,
           "subunitcolor": "#C8D4E3"
          },
          "hoverlabel": {
           "align": "left"
          },
          "hovermode": "closest",
          "mapbox": {
           "style": "light"
          },
          "paper_bgcolor": "white",
          "plot_bgcolor": "white",
          "polar": {
           "angularaxis": {
            "gridcolor": "#EBF0F8",
            "linecolor": "#EBF0F8",
            "ticks": ""
           },
           "bgcolor": "white",
           "radialaxis": {
            "gridcolor": "#EBF0F8",
            "linecolor": "#EBF0F8",
            "ticks": ""
           }
          },
          "scene": {
           "xaxis": {
            "backgroundcolor": "white",
            "gridcolor": "#DFE8F3",
            "gridwidth": 2,
            "linecolor": "#EBF0F8",
            "showbackground": true,
            "ticks": "",
            "zerolinecolor": "#EBF0F8"
           },
           "yaxis": {
            "backgroundcolor": "white",
            "gridcolor": "#DFE8F3",
            "gridwidth": 2,
            "linecolor": "#EBF0F8",
            "showbackground": true,
            "ticks": "",
            "zerolinecolor": "#EBF0F8"
           },
           "zaxis": {
            "backgroundcolor": "white",
            "gridcolor": "#DFE8F3",
            "gridwidth": 2,
            "linecolor": "#EBF0F8",
            "showbackground": true,
            "ticks": "",
            "zerolinecolor": "#EBF0F8"
           }
          },
          "shapedefaults": {
           "line": {
            "color": "#2a3f5f"
           }
          },
          "ternary": {
           "aaxis": {
            "gridcolor": "#DFE8F3",
            "linecolor": "#A2B1C6",
            "ticks": ""
           },
           "baxis": {
            "gridcolor": "#DFE8F3",
            "linecolor": "#A2B1C6",
            "ticks": ""
           },
           "bgcolor": "white",
           "caxis": {
            "gridcolor": "#DFE8F3",
            "linecolor": "#A2B1C6",
            "ticks": ""
           }
          },
          "title": {
           "x": 0.05
          },
          "xaxis": {
           "automargin": true,
           "gridcolor": "#EBF0F8",
           "linecolor": "#EBF0F8",
           "ticks": "",
           "title": {
            "standoff": 15
           },
           "zerolinecolor": "#EBF0F8",
           "zerolinewidth": 2
          },
          "yaxis": {
           "automargin": true,
           "gridcolor": "#EBF0F8",
           "linecolor": "#EBF0F8",
           "ticks": "",
           "title": {
            "standoff": 15
           },
           "zerolinecolor": "#EBF0F8",
           "zerolinewidth": 2
          }
         }
        },
        "xaxis": {
         "anchor": "y",
         "domain": [
          0.0,
          1.0
         ],
         "title": {
          "text": "Weighted"
         }
        },
        "yaxis": {
         "anchor": "x",
         "domain": [
          0.0,
          1.0
         ],
         "title": {
          "text": "Overall"
         }
        },
        "legend": {
         "title": {
          "text": "Type"
         },
         "tracegroupgap": 0
        },
        "title": {
         "text": "Scores for each word, op een manier die weinig zegt eigenlijk"
        }
       },
       "config": {
        "plotlyServerURL": "https://plot.ly"
       }
      },
      "text/html": "<div>                            <div id=\"915a0737-e0ba-44be-b8d3-a8ae82a0b162\" class=\"plotly-graph-div\" style=\"height:525px; width:100%;\"></div>            <script type=\"text/javascript\">                require([\"plotly\"], function(Plotly) {                    window.PLOTLYENV=window.PLOTLYENV || {};                                    if (document.getElementById(\"915a0737-e0ba-44be-b8d3-a8ae82a0b162\")) {                    Plotly.newPlot(                        \"915a0737-e0ba-44be-b8d3-a8ae82a0b162\",                        [{\"hovertemplate\":\"Type=Noun\\u003cbr\\u003eWeighted=%{x}\\u003cbr\\u003eOverall=%{y}\\u003cbr\\u003eindex=%{text}\\u003cextra\\u003e\\u003c\\u002fextra\\u003e\",\"legendgroup\":\"Noun\",\"marker\":{\"color\":\"#636efa\",\"symbol\":\"circle\"},\"mode\":\"markers+text\",\"name\":\"Noun\",\"orientation\":\"v\",\"showlegend\":true,\"text\":[\"Avocat\",\"Bien\",\"Bureau\",\"Facult\\u00e9\",\"Glace\",\"Souris\",\"Tour\",\"Vol\"],\"x\":[0.5006613756613757,0.36618578465869106,0.33668430335097005,0.6486486486486487,0.20661016949152544,0.345679012345679,0.1826086956521739,0.9716666666666667],\"xaxis\":\"x\",\"y\":[0.6626506024096386,0.5204081632653061,0.5242718446601942,0.7875,0.4796747967479675,0.47058823529411764,0.2876712328767123,0.9764705882352941],\"yaxis\":\"y\",\"type\":\"scatter\"},{\"hovertemplate\":\"Type=Verb\\u003cbr\\u003eWeighted=%{x}\\u003cbr\\u003eOverall=%{y}\\u003cbr\\u003eindex=%{text}\\u003cextra\\u003e\\u003c\\u002fextra\\u003e\",\"legendgroup\":\"Verb\",\"marker\":{\"color\":\"#EF553B\",\"symbol\":\"circle\"},\"mode\":\"markers+text\",\"name\":\"Verb\",\"orientation\":\"v\",\"showlegend\":true,\"text\":[\"Filer\",\"Supporter\",\"Tirer\"],\"x\":[0.3377353876253362,0.6265432098765432,0.34459459459459457],\"xaxis\":\"x\",\"y\":[0.4895833333333333,0.6851851851851852,0.49038461538461536],\"yaxis\":\"y\",\"type\":\"scatter\"}],                        {\"template\":{\"data\":{\"barpolar\":[{\"marker\":{\"line\":{\"color\":\"white\",\"width\":0.5},\"pattern\":{\"fillmode\":\"overlay\",\"size\":10,\"solidity\":0.2}},\"type\":\"barpolar\"}],\"bar\":[{\"error_x\":{\"color\":\"#2a3f5f\"},\"error_y\":{\"color\":\"#2a3f5f\"},\"marker\":{\"line\":{\"color\":\"white\",\"width\":0.5},\"pattern\":{\"fillmode\":\"overlay\",\"size\":10,\"solidity\":0.2}},\"type\":\"bar\"}],\"carpet\":[{\"aaxis\":{\"endlinecolor\":\"#2a3f5f\",\"gridcolor\":\"#C8D4E3\",\"linecolor\":\"#C8D4E3\",\"minorgridcolor\":\"#C8D4E3\",\"startlinecolor\":\"#2a3f5f\"},\"baxis\":{\"endlinecolor\":\"#2a3f5f\",\"gridcolor\":\"#C8D4E3\",\"linecolor\":\"#C8D4E3\",\"minorgridcolor\":\"#C8D4E3\",\"startlinecolor\":\"#2a3f5f\"},\"type\":\"carpet\"}],\"choropleth\":[{\"colorbar\":{\"outlinewidth\":0,\"ticks\":\"\"},\"type\":\"choropleth\"}],\"contourcarpet\":[{\"colorbar\":{\"outlinewidth\":0,\"ticks\":\"\"},\"type\":\"contourcarpet\"}],\"contour\":[{\"colorbar\":{\"outlinewidth\":0,\"ticks\":\"\"},\"colorscale\":[[0.0,\"#0d0887\"],[0.1111111111111111,\"#46039f\"],[0.2222222222222222,\"#7201a8\"],[0.3333333333333333,\"#9c179e\"],[0.4444444444444444,\"#bd3786\"],[0.5555555555555556,\"#d8576b\"],[0.6666666666666666,\"#ed7953\"],[0.7777777777777778,\"#fb9f3a\"],[0.8888888888888888,\"#fdca26\"],[1.0,\"#f0f921\"]],\"type\":\"contour\"}],\"heatmapgl\":[{\"colorbar\":{\"outlinewidth\":0,\"ticks\":\"\"},\"colorscale\":[[0.0,\"#0d0887\"],[0.1111111111111111,\"#46039f\"],[0.2222222222222222,\"#7201a8\"],[0.3333333333333333,\"#9c179e\"],[0.4444444444444444,\"#bd3786\"],[0.5555555555555556,\"#d8576b\"],[0.6666666666666666,\"#ed7953\"],[0.7777777777777778,\"#fb9f3a\"],[0.8888888888888888,\"#fdca26\"],[1.0,\"#f0f921\"]],\"type\":\"heatmapgl\"}],\"heatmap\":[{\"colorbar\":{\"outlinewidth\":0,\"ticks\":\"\"},\"colorscale\":[[0.0,\"#0d0887\"],[0.1111111111111111,\"#46039f\"],[0.2222222222222222,\"#7201a8\"],[0.3333333333333333,\"#9c179e\"],[0.4444444444444444,\"#bd3786\"],[0.5555555555555556,\"#d8576b\"],[0.6666666666666666,\"#ed7953\"],[0.7777777777777778,\"#fb9f3a\"],[0.8888888888888888,\"#fdca26\"],[1.0,\"#f0f921\"]],\"type\":\"heatmap\"}],\"histogram2dcontour\":[{\"colorbar\":{\"outlinewidth\":0,\"ticks\":\"\"},\"colorscale\":[[0.0,\"#0d0887\"],[0.1111111111111111,\"#46039f\"],[0.2222222222222222,\"#7201a8\"],[0.3333333333333333,\"#9c179e\"],[0.4444444444444444,\"#bd3786\"],[0.5555555555555556,\"#d8576b\"],[0.6666666666666666,\"#ed7953\"],[0.7777777777777778,\"#fb9f3a\"],[0.8888888888888888,\"#fdca26\"],[1.0,\"#f0f921\"]],\"type\":\"histogram2dcontour\"}],\"histogram2d\":[{\"colorbar\":{\"outlinewidth\":0,\"ticks\":\"\"},\"colorscale\":[[0.0,\"#0d0887\"],[0.1111111111111111,\"#46039f\"],[0.2222222222222222,\"#7201a8\"],[0.3333333333333333,\"#9c179e\"],[0.4444444444444444,\"#bd3786\"],[0.5555555555555556,\"#d8576b\"],[0.6666666666666666,\"#ed7953\"],[0.7777777777777778,\"#fb9f3a\"],[0.8888888888888888,\"#fdca26\"],[1.0,\"#f0f921\"]],\"type\":\"histogram2d\"}],\"histogram\":[{\"marker\":{\"pattern\":{\"fillmode\":\"overlay\",\"size\":10,\"solidity\":0.2}},\"type\":\"histogram\"}],\"mesh3d\":[{\"colorbar\":{\"outlinewidth\":0,\"ticks\":\"\"},\"type\":\"mesh3d\"}],\"parcoords\":[{\"line\":{\"colorbar\":{\"outlinewidth\":0,\"ticks\":\"\"}},\"type\":\"parcoords\"}],\"pie\":[{\"automargin\":true,\"type\":\"pie\"}],\"scatter3d\":[{\"line\":{\"colorbar\":{\"outlinewidth\":0,\"ticks\":\"\"}},\"marker\":{\"colorbar\":{\"outlinewidth\":0,\"ticks\":\"\"}},\"type\":\"scatter3d\"}],\"scattercarpet\":[{\"marker\":{\"colorbar\":{\"outlinewidth\":0,\"ticks\":\"\"}},\"type\":\"scattercarpet\"}],\"scattergeo\":[{\"marker\":{\"colorbar\":{\"outlinewidth\":0,\"ticks\":\"\"}},\"type\":\"scattergeo\"}],\"scattergl\":[{\"marker\":{\"colorbar\":{\"outlinewidth\":0,\"ticks\":\"\"}},\"type\":\"scattergl\"}],\"scattermapbox\":[{\"marker\":{\"colorbar\":{\"outlinewidth\":0,\"ticks\":\"\"}},\"type\":\"scattermapbox\"}],\"scatterpolargl\":[{\"marker\":{\"colorbar\":{\"outlinewidth\":0,\"ticks\":\"\"}},\"type\":\"scatterpolargl\"}],\"scatterpolar\":[{\"marker\":{\"colorbar\":{\"outlinewidth\":0,\"ticks\":\"\"}},\"type\":\"scatterpolar\"}],\"scatter\":[{\"fillpattern\":{\"fillmode\":\"overlay\",\"size\":10,\"solidity\":0.2},\"type\":\"scatter\"}],\"scatterternary\":[{\"marker\":{\"colorbar\":{\"outlinewidth\":0,\"ticks\":\"\"}},\"type\":\"scatterternary\"}],\"surface\":[{\"colorbar\":{\"outlinewidth\":0,\"ticks\":\"\"},\"colorscale\":[[0.0,\"#0d0887\"],[0.1111111111111111,\"#46039f\"],[0.2222222222222222,\"#7201a8\"],[0.3333333333333333,\"#9c179e\"],[0.4444444444444444,\"#bd3786\"],[0.5555555555555556,\"#d8576b\"],[0.6666666666666666,\"#ed7953\"],[0.7777777777777778,\"#fb9f3a\"],[0.8888888888888888,\"#fdca26\"],[1.0,\"#f0f921\"]],\"type\":\"surface\"}],\"table\":[{\"cells\":{\"fill\":{\"color\":\"#EBF0F8\"},\"line\":{\"color\":\"white\"}},\"header\":{\"fill\":{\"color\":\"#C8D4E3\"},\"line\":{\"color\":\"white\"}},\"type\":\"table\"}]},\"layout\":{\"annotationdefaults\":{\"arrowcolor\":\"#2a3f5f\",\"arrowhead\":0,\"arrowwidth\":1},\"autotypenumbers\":\"strict\",\"coloraxis\":{\"colorbar\":{\"outlinewidth\":0,\"ticks\":\"\"}},\"colorscale\":{\"diverging\":[[0,\"#8e0152\"],[0.1,\"#c51b7d\"],[0.2,\"#de77ae\"],[0.3,\"#f1b6da\"],[0.4,\"#fde0ef\"],[0.5,\"#f7f7f7\"],[0.6,\"#e6f5d0\"],[0.7,\"#b8e186\"],[0.8,\"#7fbc41\"],[0.9,\"#4d9221\"],[1,\"#276419\"]],\"sequential\":[[0.0,\"#0d0887\"],[0.1111111111111111,\"#46039f\"],[0.2222222222222222,\"#7201a8\"],[0.3333333333333333,\"#9c179e\"],[0.4444444444444444,\"#bd3786\"],[0.5555555555555556,\"#d8576b\"],[0.6666666666666666,\"#ed7953\"],[0.7777777777777778,\"#fb9f3a\"],[0.8888888888888888,\"#fdca26\"],[1.0,\"#f0f921\"]],\"sequentialminus\":[[0.0,\"#0d0887\"],[0.1111111111111111,\"#46039f\"],[0.2222222222222222,\"#7201a8\"],[0.3333333333333333,\"#9c179e\"],[0.4444444444444444,\"#bd3786\"],[0.5555555555555556,\"#d8576b\"],[0.6666666666666666,\"#ed7953\"],[0.7777777777777778,\"#fb9f3a\"],[0.8888888888888888,\"#fdca26\"],[1.0,\"#f0f921\"]]},\"colorway\":[\"#636efa\",\"#EF553B\",\"#00cc96\",\"#ab63fa\",\"#FFA15A\",\"#19d3f3\",\"#FF6692\",\"#B6E880\",\"#FF97FF\",\"#FECB52\"],\"font\":{\"color\":\"#2a3f5f\"},\"geo\":{\"bgcolor\":\"white\",\"lakecolor\":\"white\",\"landcolor\":\"white\",\"showlakes\":true,\"showland\":true,\"subunitcolor\":\"#C8D4E3\"},\"hoverlabel\":{\"align\":\"left\"},\"hovermode\":\"closest\",\"mapbox\":{\"style\":\"light\"},\"paper_bgcolor\":\"white\",\"plot_bgcolor\":\"white\",\"polar\":{\"angularaxis\":{\"gridcolor\":\"#EBF0F8\",\"linecolor\":\"#EBF0F8\",\"ticks\":\"\"},\"bgcolor\":\"white\",\"radialaxis\":{\"gridcolor\":\"#EBF0F8\",\"linecolor\":\"#EBF0F8\",\"ticks\":\"\"}},\"scene\":{\"xaxis\":{\"backgroundcolor\":\"white\",\"gridcolor\":\"#DFE8F3\",\"gridwidth\":2,\"linecolor\":\"#EBF0F8\",\"showbackground\":true,\"ticks\":\"\",\"zerolinecolor\":\"#EBF0F8\"},\"yaxis\":{\"backgroundcolor\":\"white\",\"gridcolor\":\"#DFE8F3\",\"gridwidth\":2,\"linecolor\":\"#EBF0F8\",\"showbackground\":true,\"ticks\":\"\",\"zerolinecolor\":\"#EBF0F8\"},\"zaxis\":{\"backgroundcolor\":\"white\",\"gridcolor\":\"#DFE8F3\",\"gridwidth\":2,\"linecolor\":\"#EBF0F8\",\"showbackground\":true,\"ticks\":\"\",\"zerolinecolor\":\"#EBF0F8\"}},\"shapedefaults\":{\"line\":{\"color\":\"#2a3f5f\"}},\"ternary\":{\"aaxis\":{\"gridcolor\":\"#DFE8F3\",\"linecolor\":\"#A2B1C6\",\"ticks\":\"\"},\"baxis\":{\"gridcolor\":\"#DFE8F3\",\"linecolor\":\"#A2B1C6\",\"ticks\":\"\"},\"bgcolor\":\"white\",\"caxis\":{\"gridcolor\":\"#DFE8F3\",\"linecolor\":\"#A2B1C6\",\"ticks\":\"\"}},\"title\":{\"x\":0.05},\"xaxis\":{\"automargin\":true,\"gridcolor\":\"#EBF0F8\",\"linecolor\":\"#EBF0F8\",\"ticks\":\"\",\"title\":{\"standoff\":15},\"zerolinecolor\":\"#EBF0F8\",\"zerolinewidth\":2},\"yaxis\":{\"automargin\":true,\"gridcolor\":\"#EBF0F8\",\"linecolor\":\"#EBF0F8\",\"ticks\":\"\",\"title\":{\"standoff\":15},\"zerolinecolor\":\"#EBF0F8\",\"zerolinewidth\":2}}},\"xaxis\":{\"anchor\":\"y\",\"domain\":[0.0,1.0],\"title\":{\"text\":\"Weighted\"}},\"yaxis\":{\"anchor\":\"x\",\"domain\":[0.0,1.0],\"title\":{\"text\":\"Overall\"}},\"legend\":{\"title\":{\"text\":\"Type\"},\"tracegroupgap\":0},\"title\":{\"text\":\"Scores for each word, op een manier die weinig zegt eigenlijk\"}},                        {\"responsive\": true}                    ).then(function(){\n                            \nvar gd = document.getElementById('915a0737-e0ba-44be-b8d3-a8ae82a0b162');\nvar x = new MutationObserver(function (mutations, observer) {{\n        var display = window.getComputedStyle(gd).display;\n        if (!display || display === 'none') {{\n            console.log([gd, 'removed!']);\n            Plotly.purge(gd);\n            observer.disconnect();\n        }}\n}});\n\n// Listen for the removal of the full notebook cells\nvar notebookContainer = gd.closest('#notebook-container');\nif (notebookContainer) {{\n    x.observe(notebookContainer, {childList: true});\n}}\n\n// Listen for the clearing of the current output cell\nvar outputEl = gd.closest('.output');\nif (outputEl) {{\n    x.observe(outputEl, {childList: true});\n}}\n\n                        })                };                });            </script>        </div>"
     },
     "metadata": {},
     "output_type": "display_data"
    },
    {
     "data": {
      "application/vnd.plotly.v1+json": {
       "data": [
        {
         "hovertemplate": "Type=Noun<br>V_measure=%{x}<br>F1=%{y}<br>index=%{text}<extra></extra>",
         "legendgroup": "Noun",
         "marker": {
          "color": "#636efa",
          "symbol": "circle"
         },
         "mode": "markers+text",
         "name": "Noun",
         "orientation": "v",
         "showlegend": true,
         "text": [
          "Avocat",
          "Bien",
          "Bureau",
          "Faculté",
          "Glace",
          "Souris",
          "Tour",
          "Vol"
         ],
         "x": [
          0.015592958696764329,
          0.04718652672395608,
          0.030925518897676675,
          0.7073480306988158,
          0.0287396106349053,
          0.048019281928028006,
          0.03868185909553146,
          0.8659267350030161
         ],
         "xaxis": "x",
         "y": [
          0.5582247855519441,
          0.3920904775496612,
          0.37741239516998987,
          0.721875,
          0.3246096270486515,
          0.3197500649744434,
          0.14077528417371027,
          0.982232893157263
         ],
         "yaxis": "y",
         "type": "scatter"
        },
        {
         "hovertemplate": "Type=Verb<br>V_measure=%{x}<br>F1=%{y}<br>index=%{text}<extra></extra>",
         "legendgroup": "Verb",
         "marker": {
          "color": "#EF553B",
          "symbol": "circle"
         },
         "mode": "markers+text",
         "name": "Verb",
         "orientation": "v",
         "showlegend": true,
         "text": [
          "Filer",
          "Supporter",
          "Tirer"
         ],
         "x": [
          0.034640604954501115,
          0.5527362563108514,
          0.14955272492500388
         ],
         "xaxis": "x",
         "y": [
          0.3395833333333333,
          0.5893719806763285,
          0.4682382133995037
         ],
         "yaxis": "y",
         "type": "scatter"
        }
       ],
       "layout": {
        "template": {
         "data": {
          "barpolar": [
           {
            "marker": {
             "line": {
              "color": "white",
              "width": 0.5
             },
             "pattern": {
              "fillmode": "overlay",
              "size": 10,
              "solidity": 0.2
             }
            },
            "type": "barpolar"
           }
          ],
          "bar": [
           {
            "error_x": {
             "color": "#2a3f5f"
            },
            "error_y": {
             "color": "#2a3f5f"
            },
            "marker": {
             "line": {
              "color": "white",
              "width": 0.5
             },
             "pattern": {
              "fillmode": "overlay",
              "size": 10,
              "solidity": 0.2
             }
            },
            "type": "bar"
           }
          ],
          "carpet": [
           {
            "aaxis": {
             "endlinecolor": "#2a3f5f",
             "gridcolor": "#C8D4E3",
             "linecolor": "#C8D4E3",
             "minorgridcolor": "#C8D4E3",
             "startlinecolor": "#2a3f5f"
            },
            "baxis": {
             "endlinecolor": "#2a3f5f",
             "gridcolor": "#C8D4E3",
             "linecolor": "#C8D4E3",
             "minorgridcolor": "#C8D4E3",
             "startlinecolor": "#2a3f5f"
            },
            "type": "carpet"
           }
          ],
          "choropleth": [
           {
            "colorbar": {
             "outlinewidth": 0,
             "ticks": ""
            },
            "type": "choropleth"
           }
          ],
          "contourcarpet": [
           {
            "colorbar": {
             "outlinewidth": 0,
             "ticks": ""
            },
            "type": "contourcarpet"
           }
          ],
          "contour": [
           {
            "colorbar": {
             "outlinewidth": 0,
             "ticks": ""
            },
            "colorscale": [
             [
              0.0,
              "#0d0887"
             ],
             [
              0.1111111111111111,
              "#46039f"
             ],
             [
              0.2222222222222222,
              "#7201a8"
             ],
             [
              0.3333333333333333,
              "#9c179e"
             ],
             [
              0.4444444444444444,
              "#bd3786"
             ],
             [
              0.5555555555555556,
              "#d8576b"
             ],
             [
              0.6666666666666666,
              "#ed7953"
             ],
             [
              0.7777777777777778,
              "#fb9f3a"
             ],
             [
              0.8888888888888888,
              "#fdca26"
             ],
             [
              1.0,
              "#f0f921"
             ]
            ],
            "type": "contour"
           }
          ],
          "heatmapgl": [
           {
            "colorbar": {
             "outlinewidth": 0,
             "ticks": ""
            },
            "colorscale": [
             [
              0.0,
              "#0d0887"
             ],
             [
              0.1111111111111111,
              "#46039f"
             ],
             [
              0.2222222222222222,
              "#7201a8"
             ],
             [
              0.3333333333333333,
              "#9c179e"
             ],
             [
              0.4444444444444444,
              "#bd3786"
             ],
             [
              0.5555555555555556,
              "#d8576b"
             ],
             [
              0.6666666666666666,
              "#ed7953"
             ],
             [
              0.7777777777777778,
              "#fb9f3a"
             ],
             [
              0.8888888888888888,
              "#fdca26"
             ],
             [
              1.0,
              "#f0f921"
             ]
            ],
            "type": "heatmapgl"
           }
          ],
          "heatmap": [
           {
            "colorbar": {
             "outlinewidth": 0,
             "ticks": ""
            },
            "colorscale": [
             [
              0.0,
              "#0d0887"
             ],
             [
              0.1111111111111111,
              "#46039f"
             ],
             [
              0.2222222222222222,
              "#7201a8"
             ],
             [
              0.3333333333333333,
              "#9c179e"
             ],
             [
              0.4444444444444444,
              "#bd3786"
             ],
             [
              0.5555555555555556,
              "#d8576b"
             ],
             [
              0.6666666666666666,
              "#ed7953"
             ],
             [
              0.7777777777777778,
              "#fb9f3a"
             ],
             [
              0.8888888888888888,
              "#fdca26"
             ],
             [
              1.0,
              "#f0f921"
             ]
            ],
            "type": "heatmap"
           }
          ],
          "histogram2dcontour": [
           {
            "colorbar": {
             "outlinewidth": 0,
             "ticks": ""
            },
            "colorscale": [
             [
              0.0,
              "#0d0887"
             ],
             [
              0.1111111111111111,
              "#46039f"
             ],
             [
              0.2222222222222222,
              "#7201a8"
             ],
             [
              0.3333333333333333,
              "#9c179e"
             ],
             [
              0.4444444444444444,
              "#bd3786"
             ],
             [
              0.5555555555555556,
              "#d8576b"
             ],
             [
              0.6666666666666666,
              "#ed7953"
             ],
             [
              0.7777777777777778,
              "#fb9f3a"
             ],
             [
              0.8888888888888888,
              "#fdca26"
             ],
             [
              1.0,
              "#f0f921"
             ]
            ],
            "type": "histogram2dcontour"
           }
          ],
          "histogram2d": [
           {
            "colorbar": {
             "outlinewidth": 0,
             "ticks": ""
            },
            "colorscale": [
             [
              0.0,
              "#0d0887"
             ],
             [
              0.1111111111111111,
              "#46039f"
             ],
             [
              0.2222222222222222,
              "#7201a8"
             ],
             [
              0.3333333333333333,
              "#9c179e"
             ],
             [
              0.4444444444444444,
              "#bd3786"
             ],
             [
              0.5555555555555556,
              "#d8576b"
             ],
             [
              0.6666666666666666,
              "#ed7953"
             ],
             [
              0.7777777777777778,
              "#fb9f3a"
             ],
             [
              0.8888888888888888,
              "#fdca26"
             ],
             [
              1.0,
              "#f0f921"
             ]
            ],
            "type": "histogram2d"
           }
          ],
          "histogram": [
           {
            "marker": {
             "pattern": {
              "fillmode": "overlay",
              "size": 10,
              "solidity": 0.2
             }
            },
            "type": "histogram"
           }
          ],
          "mesh3d": [
           {
            "colorbar": {
             "outlinewidth": 0,
             "ticks": ""
            },
            "type": "mesh3d"
           }
          ],
          "parcoords": [
           {
            "line": {
             "colorbar": {
              "outlinewidth": 0,
              "ticks": ""
             }
            },
            "type": "parcoords"
           }
          ],
          "pie": [
           {
            "automargin": true,
            "type": "pie"
           }
          ],
          "scatter3d": [
           {
            "line": {
             "colorbar": {
              "outlinewidth": 0,
              "ticks": ""
             }
            },
            "marker": {
             "colorbar": {
              "outlinewidth": 0,
              "ticks": ""
             }
            },
            "type": "scatter3d"
           }
          ],
          "scattercarpet": [
           {
            "marker": {
             "colorbar": {
              "outlinewidth": 0,
              "ticks": ""
             }
            },
            "type": "scattercarpet"
           }
          ],
          "scattergeo": [
           {
            "marker": {
             "colorbar": {
              "outlinewidth": 0,
              "ticks": ""
             }
            },
            "type": "scattergeo"
           }
          ],
          "scattergl": [
           {
            "marker": {
             "colorbar": {
              "outlinewidth": 0,
              "ticks": ""
             }
            },
            "type": "scattergl"
           }
          ],
          "scattermapbox": [
           {
            "marker": {
             "colorbar": {
              "outlinewidth": 0,
              "ticks": ""
             }
            },
            "type": "scattermapbox"
           }
          ],
          "scatterpolargl": [
           {
            "marker": {
             "colorbar": {
              "outlinewidth": 0,
              "ticks": ""
             }
            },
            "type": "scatterpolargl"
           }
          ],
          "scatterpolar": [
           {
            "marker": {
             "colorbar": {
              "outlinewidth": 0,
              "ticks": ""
             }
            },
            "type": "scatterpolar"
           }
          ],
          "scatter": [
           {
            "fillpattern": {
             "fillmode": "overlay",
             "size": 10,
             "solidity": 0.2
            },
            "type": "scatter"
           }
          ],
          "scatterternary": [
           {
            "marker": {
             "colorbar": {
              "outlinewidth": 0,
              "ticks": ""
             }
            },
            "type": "scatterternary"
           }
          ],
          "surface": [
           {
            "colorbar": {
             "outlinewidth": 0,
             "ticks": ""
            },
            "colorscale": [
             [
              0.0,
              "#0d0887"
             ],
             [
              0.1111111111111111,
              "#46039f"
             ],
             [
              0.2222222222222222,
              "#7201a8"
             ],
             [
              0.3333333333333333,
              "#9c179e"
             ],
             [
              0.4444444444444444,
              "#bd3786"
             ],
             [
              0.5555555555555556,
              "#d8576b"
             ],
             [
              0.6666666666666666,
              "#ed7953"
             ],
             [
              0.7777777777777778,
              "#fb9f3a"
             ],
             [
              0.8888888888888888,
              "#fdca26"
             ],
             [
              1.0,
              "#f0f921"
             ]
            ],
            "type": "surface"
           }
          ],
          "table": [
           {
            "cells": {
             "fill": {
              "color": "#EBF0F8"
             },
             "line": {
              "color": "white"
             }
            },
            "header": {
             "fill": {
              "color": "#C8D4E3"
             },
             "line": {
              "color": "white"
             }
            },
            "type": "table"
           }
          ]
         },
         "layout": {
          "annotationdefaults": {
           "arrowcolor": "#2a3f5f",
           "arrowhead": 0,
           "arrowwidth": 1
          },
          "autotypenumbers": "strict",
          "coloraxis": {
           "colorbar": {
            "outlinewidth": 0,
            "ticks": ""
           }
          },
          "colorscale": {
           "diverging": [
            [
             0,
             "#8e0152"
            ],
            [
             0.1,
             "#c51b7d"
            ],
            [
             0.2,
             "#de77ae"
            ],
            [
             0.3,
             "#f1b6da"
            ],
            [
             0.4,
             "#fde0ef"
            ],
            [
             0.5,
             "#f7f7f7"
            ],
            [
             0.6,
             "#e6f5d0"
            ],
            [
             0.7,
             "#b8e186"
            ],
            [
             0.8,
             "#7fbc41"
            ],
            [
             0.9,
             "#4d9221"
            ],
            [
             1,
             "#276419"
            ]
           ],
           "sequential": [
            [
             0.0,
             "#0d0887"
            ],
            [
             0.1111111111111111,
             "#46039f"
            ],
            [
             0.2222222222222222,
             "#7201a8"
            ],
            [
             0.3333333333333333,
             "#9c179e"
            ],
            [
             0.4444444444444444,
             "#bd3786"
            ],
            [
             0.5555555555555556,
             "#d8576b"
            ],
            [
             0.6666666666666666,
             "#ed7953"
            ],
            [
             0.7777777777777778,
             "#fb9f3a"
            ],
            [
             0.8888888888888888,
             "#fdca26"
            ],
            [
             1.0,
             "#f0f921"
            ]
           ],
           "sequentialminus": [
            [
             0.0,
             "#0d0887"
            ],
            [
             0.1111111111111111,
             "#46039f"
            ],
            [
             0.2222222222222222,
             "#7201a8"
            ],
            [
             0.3333333333333333,
             "#9c179e"
            ],
            [
             0.4444444444444444,
             "#bd3786"
            ],
            [
             0.5555555555555556,
             "#d8576b"
            ],
            [
             0.6666666666666666,
             "#ed7953"
            ],
            [
             0.7777777777777778,
             "#fb9f3a"
            ],
            [
             0.8888888888888888,
             "#fdca26"
            ],
            [
             1.0,
             "#f0f921"
            ]
           ]
          },
          "colorway": [
           "#636efa",
           "#EF553B",
           "#00cc96",
           "#ab63fa",
           "#FFA15A",
           "#19d3f3",
           "#FF6692",
           "#B6E880",
           "#FF97FF",
           "#FECB52"
          ],
          "font": {
           "color": "#2a3f5f"
          },
          "geo": {
           "bgcolor": "white",
           "lakecolor": "white",
           "landcolor": "white",
           "showlakes": true,
           "showland": true,
           "subunitcolor": "#C8D4E3"
          },
          "hoverlabel": {
           "align": "left"
          },
          "hovermode": "closest",
          "mapbox": {
           "style": "light"
          },
          "paper_bgcolor": "white",
          "plot_bgcolor": "white",
          "polar": {
           "angularaxis": {
            "gridcolor": "#EBF0F8",
            "linecolor": "#EBF0F8",
            "ticks": ""
           },
           "bgcolor": "white",
           "radialaxis": {
            "gridcolor": "#EBF0F8",
            "linecolor": "#EBF0F8",
            "ticks": ""
           }
          },
          "scene": {
           "xaxis": {
            "backgroundcolor": "white",
            "gridcolor": "#DFE8F3",
            "gridwidth": 2,
            "linecolor": "#EBF0F8",
            "showbackground": true,
            "ticks": "",
            "zerolinecolor": "#EBF0F8"
           },
           "yaxis": {
            "backgroundcolor": "white",
            "gridcolor": "#DFE8F3",
            "gridwidth": 2,
            "linecolor": "#EBF0F8",
            "showbackground": true,
            "ticks": "",
            "zerolinecolor": "#EBF0F8"
           },
           "zaxis": {
            "backgroundcolor": "white",
            "gridcolor": "#DFE8F3",
            "gridwidth": 2,
            "linecolor": "#EBF0F8",
            "showbackground": true,
            "ticks": "",
            "zerolinecolor": "#EBF0F8"
           }
          },
          "shapedefaults": {
           "line": {
            "color": "#2a3f5f"
           }
          },
          "ternary": {
           "aaxis": {
            "gridcolor": "#DFE8F3",
            "linecolor": "#A2B1C6",
            "ticks": ""
           },
           "baxis": {
            "gridcolor": "#DFE8F3",
            "linecolor": "#A2B1C6",
            "ticks": ""
           },
           "bgcolor": "white",
           "caxis": {
            "gridcolor": "#DFE8F3",
            "linecolor": "#A2B1C6",
            "ticks": ""
           }
          },
          "title": {
           "x": 0.05
          },
          "xaxis": {
           "automargin": true,
           "gridcolor": "#EBF0F8",
           "linecolor": "#EBF0F8",
           "ticks": "",
           "title": {
            "standoff": 15
           },
           "zerolinecolor": "#EBF0F8",
           "zerolinewidth": 2
          },
          "yaxis": {
           "automargin": true,
           "gridcolor": "#EBF0F8",
           "linecolor": "#EBF0F8",
           "ticks": "",
           "title": {
            "standoff": 15
           },
           "zerolinecolor": "#EBF0F8",
           "zerolinewidth": 2
          }
         }
        },
        "xaxis": {
         "anchor": "y",
         "domain": [
          0.0,
          1.0
         ],
         "title": {
          "text": "V_measure"
         }
        },
        "yaxis": {
         "anchor": "x",
         "domain": [
          0.0,
          1.0
         ],
         "title": {
          "text": "F1"
         }
        },
        "legend": {
         "title": {
          "text": "Type"
         },
         "tracegroupgap": 0
        },
        "title": {
         "text": "Scores for each word"
        }
       },
       "config": {
        "plotlyServerURL": "https://plot.ly"
       }
      },
      "text/html": "<div>                            <div id=\"bffe98b7-f7c4-45db-91ae-c033384fe7c7\" class=\"plotly-graph-div\" style=\"height:525px; width:100%;\"></div>            <script type=\"text/javascript\">                require([\"plotly\"], function(Plotly) {                    window.PLOTLYENV=window.PLOTLYENV || {};                                    if (document.getElementById(\"bffe98b7-f7c4-45db-91ae-c033384fe7c7\")) {                    Plotly.newPlot(                        \"bffe98b7-f7c4-45db-91ae-c033384fe7c7\",                        [{\"hovertemplate\":\"Type=Noun\\u003cbr\\u003eV_measure=%{x}\\u003cbr\\u003eF1=%{y}\\u003cbr\\u003eindex=%{text}\\u003cextra\\u003e\\u003c\\u002fextra\\u003e\",\"legendgroup\":\"Noun\",\"marker\":{\"color\":\"#636efa\",\"symbol\":\"circle\"},\"mode\":\"markers+text\",\"name\":\"Noun\",\"orientation\":\"v\",\"showlegend\":true,\"text\":[\"Avocat\",\"Bien\",\"Bureau\",\"Facult\\u00e9\",\"Glace\",\"Souris\",\"Tour\",\"Vol\"],\"x\":[0.015592958696764329,0.04718652672395608,0.030925518897676675,0.7073480306988158,0.0287396106349053,0.048019281928028006,0.03868185909553146,0.8659267350030161],\"xaxis\":\"x\",\"y\":[0.5582247855519441,0.3920904775496612,0.37741239516998987,0.721875,0.3246096270486515,0.3197500649744434,0.14077528417371027,0.982232893157263],\"yaxis\":\"y\",\"type\":\"scatter\"},{\"hovertemplate\":\"Type=Verb\\u003cbr\\u003eV_measure=%{x}\\u003cbr\\u003eF1=%{y}\\u003cbr\\u003eindex=%{text}\\u003cextra\\u003e\\u003c\\u002fextra\\u003e\",\"legendgroup\":\"Verb\",\"marker\":{\"color\":\"#EF553B\",\"symbol\":\"circle\"},\"mode\":\"markers+text\",\"name\":\"Verb\",\"orientation\":\"v\",\"showlegend\":true,\"text\":[\"Filer\",\"Supporter\",\"Tirer\"],\"x\":[0.034640604954501115,0.5527362563108514,0.14955272492500388],\"xaxis\":\"x\",\"y\":[0.3395833333333333,0.5893719806763285,0.4682382133995037],\"yaxis\":\"y\",\"type\":\"scatter\"}],                        {\"template\":{\"data\":{\"barpolar\":[{\"marker\":{\"line\":{\"color\":\"white\",\"width\":0.5},\"pattern\":{\"fillmode\":\"overlay\",\"size\":10,\"solidity\":0.2}},\"type\":\"barpolar\"}],\"bar\":[{\"error_x\":{\"color\":\"#2a3f5f\"},\"error_y\":{\"color\":\"#2a3f5f\"},\"marker\":{\"line\":{\"color\":\"white\",\"width\":0.5},\"pattern\":{\"fillmode\":\"overlay\",\"size\":10,\"solidity\":0.2}},\"type\":\"bar\"}],\"carpet\":[{\"aaxis\":{\"endlinecolor\":\"#2a3f5f\",\"gridcolor\":\"#C8D4E3\",\"linecolor\":\"#C8D4E3\",\"minorgridcolor\":\"#C8D4E3\",\"startlinecolor\":\"#2a3f5f\"},\"baxis\":{\"endlinecolor\":\"#2a3f5f\",\"gridcolor\":\"#C8D4E3\",\"linecolor\":\"#C8D4E3\",\"minorgridcolor\":\"#C8D4E3\",\"startlinecolor\":\"#2a3f5f\"},\"type\":\"carpet\"}],\"choropleth\":[{\"colorbar\":{\"outlinewidth\":0,\"ticks\":\"\"},\"type\":\"choropleth\"}],\"contourcarpet\":[{\"colorbar\":{\"outlinewidth\":0,\"ticks\":\"\"},\"type\":\"contourcarpet\"}],\"contour\":[{\"colorbar\":{\"outlinewidth\":0,\"ticks\":\"\"},\"colorscale\":[[0.0,\"#0d0887\"],[0.1111111111111111,\"#46039f\"],[0.2222222222222222,\"#7201a8\"],[0.3333333333333333,\"#9c179e\"],[0.4444444444444444,\"#bd3786\"],[0.5555555555555556,\"#d8576b\"],[0.6666666666666666,\"#ed7953\"],[0.7777777777777778,\"#fb9f3a\"],[0.8888888888888888,\"#fdca26\"],[1.0,\"#f0f921\"]],\"type\":\"contour\"}],\"heatmapgl\":[{\"colorbar\":{\"outlinewidth\":0,\"ticks\":\"\"},\"colorscale\":[[0.0,\"#0d0887\"],[0.1111111111111111,\"#46039f\"],[0.2222222222222222,\"#7201a8\"],[0.3333333333333333,\"#9c179e\"],[0.4444444444444444,\"#bd3786\"],[0.5555555555555556,\"#d8576b\"],[0.6666666666666666,\"#ed7953\"],[0.7777777777777778,\"#fb9f3a\"],[0.8888888888888888,\"#fdca26\"],[1.0,\"#f0f921\"]],\"type\":\"heatmapgl\"}],\"heatmap\":[{\"colorbar\":{\"outlinewidth\":0,\"ticks\":\"\"},\"colorscale\":[[0.0,\"#0d0887\"],[0.1111111111111111,\"#46039f\"],[0.2222222222222222,\"#7201a8\"],[0.3333333333333333,\"#9c179e\"],[0.4444444444444444,\"#bd3786\"],[0.5555555555555556,\"#d8576b\"],[0.6666666666666666,\"#ed7953\"],[0.7777777777777778,\"#fb9f3a\"],[0.8888888888888888,\"#fdca26\"],[1.0,\"#f0f921\"]],\"type\":\"heatmap\"}],\"histogram2dcontour\":[{\"colorbar\":{\"outlinewidth\":0,\"ticks\":\"\"},\"colorscale\":[[0.0,\"#0d0887\"],[0.1111111111111111,\"#46039f\"],[0.2222222222222222,\"#7201a8\"],[0.3333333333333333,\"#9c179e\"],[0.4444444444444444,\"#bd3786\"],[0.5555555555555556,\"#d8576b\"],[0.6666666666666666,\"#ed7953\"],[0.7777777777777778,\"#fb9f3a\"],[0.8888888888888888,\"#fdca26\"],[1.0,\"#f0f921\"]],\"type\":\"histogram2dcontour\"}],\"histogram2d\":[{\"colorbar\":{\"outlinewidth\":0,\"ticks\":\"\"},\"colorscale\":[[0.0,\"#0d0887\"],[0.1111111111111111,\"#46039f\"],[0.2222222222222222,\"#7201a8\"],[0.3333333333333333,\"#9c179e\"],[0.4444444444444444,\"#bd3786\"],[0.5555555555555556,\"#d8576b\"],[0.6666666666666666,\"#ed7953\"],[0.7777777777777778,\"#fb9f3a\"],[0.8888888888888888,\"#fdca26\"],[1.0,\"#f0f921\"]],\"type\":\"histogram2d\"}],\"histogram\":[{\"marker\":{\"pattern\":{\"fillmode\":\"overlay\",\"size\":10,\"solidity\":0.2}},\"type\":\"histogram\"}],\"mesh3d\":[{\"colorbar\":{\"outlinewidth\":0,\"ticks\":\"\"},\"type\":\"mesh3d\"}],\"parcoords\":[{\"line\":{\"colorbar\":{\"outlinewidth\":0,\"ticks\":\"\"}},\"type\":\"parcoords\"}],\"pie\":[{\"automargin\":true,\"type\":\"pie\"}],\"scatter3d\":[{\"line\":{\"colorbar\":{\"outlinewidth\":0,\"ticks\":\"\"}},\"marker\":{\"colorbar\":{\"outlinewidth\":0,\"ticks\":\"\"}},\"type\":\"scatter3d\"}],\"scattercarpet\":[{\"marker\":{\"colorbar\":{\"outlinewidth\":0,\"ticks\":\"\"}},\"type\":\"scattercarpet\"}],\"scattergeo\":[{\"marker\":{\"colorbar\":{\"outlinewidth\":0,\"ticks\":\"\"}},\"type\":\"scattergeo\"}],\"scattergl\":[{\"marker\":{\"colorbar\":{\"outlinewidth\":0,\"ticks\":\"\"}},\"type\":\"scattergl\"}],\"scattermapbox\":[{\"marker\":{\"colorbar\":{\"outlinewidth\":0,\"ticks\":\"\"}},\"type\":\"scattermapbox\"}],\"scatterpolargl\":[{\"marker\":{\"colorbar\":{\"outlinewidth\":0,\"ticks\":\"\"}},\"type\":\"scatterpolargl\"}],\"scatterpolar\":[{\"marker\":{\"colorbar\":{\"outlinewidth\":0,\"ticks\":\"\"}},\"type\":\"scatterpolar\"}],\"scatter\":[{\"fillpattern\":{\"fillmode\":\"overlay\",\"size\":10,\"solidity\":0.2},\"type\":\"scatter\"}],\"scatterternary\":[{\"marker\":{\"colorbar\":{\"outlinewidth\":0,\"ticks\":\"\"}},\"type\":\"scatterternary\"}],\"surface\":[{\"colorbar\":{\"outlinewidth\":0,\"ticks\":\"\"},\"colorscale\":[[0.0,\"#0d0887\"],[0.1111111111111111,\"#46039f\"],[0.2222222222222222,\"#7201a8\"],[0.3333333333333333,\"#9c179e\"],[0.4444444444444444,\"#bd3786\"],[0.5555555555555556,\"#d8576b\"],[0.6666666666666666,\"#ed7953\"],[0.7777777777777778,\"#fb9f3a\"],[0.8888888888888888,\"#fdca26\"],[1.0,\"#f0f921\"]],\"type\":\"surface\"}],\"table\":[{\"cells\":{\"fill\":{\"color\":\"#EBF0F8\"},\"line\":{\"color\":\"white\"}},\"header\":{\"fill\":{\"color\":\"#C8D4E3\"},\"line\":{\"color\":\"white\"}},\"type\":\"table\"}]},\"layout\":{\"annotationdefaults\":{\"arrowcolor\":\"#2a3f5f\",\"arrowhead\":0,\"arrowwidth\":1},\"autotypenumbers\":\"strict\",\"coloraxis\":{\"colorbar\":{\"outlinewidth\":0,\"ticks\":\"\"}},\"colorscale\":{\"diverging\":[[0,\"#8e0152\"],[0.1,\"#c51b7d\"],[0.2,\"#de77ae\"],[0.3,\"#f1b6da\"],[0.4,\"#fde0ef\"],[0.5,\"#f7f7f7\"],[0.6,\"#e6f5d0\"],[0.7,\"#b8e186\"],[0.8,\"#7fbc41\"],[0.9,\"#4d9221\"],[1,\"#276419\"]],\"sequential\":[[0.0,\"#0d0887\"],[0.1111111111111111,\"#46039f\"],[0.2222222222222222,\"#7201a8\"],[0.3333333333333333,\"#9c179e\"],[0.4444444444444444,\"#bd3786\"],[0.5555555555555556,\"#d8576b\"],[0.6666666666666666,\"#ed7953\"],[0.7777777777777778,\"#fb9f3a\"],[0.8888888888888888,\"#fdca26\"],[1.0,\"#f0f921\"]],\"sequentialminus\":[[0.0,\"#0d0887\"],[0.1111111111111111,\"#46039f\"],[0.2222222222222222,\"#7201a8\"],[0.3333333333333333,\"#9c179e\"],[0.4444444444444444,\"#bd3786\"],[0.5555555555555556,\"#d8576b\"],[0.6666666666666666,\"#ed7953\"],[0.7777777777777778,\"#fb9f3a\"],[0.8888888888888888,\"#fdca26\"],[1.0,\"#f0f921\"]]},\"colorway\":[\"#636efa\",\"#EF553B\",\"#00cc96\",\"#ab63fa\",\"#FFA15A\",\"#19d3f3\",\"#FF6692\",\"#B6E880\",\"#FF97FF\",\"#FECB52\"],\"font\":{\"color\":\"#2a3f5f\"},\"geo\":{\"bgcolor\":\"white\",\"lakecolor\":\"white\",\"landcolor\":\"white\",\"showlakes\":true,\"showland\":true,\"subunitcolor\":\"#C8D4E3\"},\"hoverlabel\":{\"align\":\"left\"},\"hovermode\":\"closest\",\"mapbox\":{\"style\":\"light\"},\"paper_bgcolor\":\"white\",\"plot_bgcolor\":\"white\",\"polar\":{\"angularaxis\":{\"gridcolor\":\"#EBF0F8\",\"linecolor\":\"#EBF0F8\",\"ticks\":\"\"},\"bgcolor\":\"white\",\"radialaxis\":{\"gridcolor\":\"#EBF0F8\",\"linecolor\":\"#EBF0F8\",\"ticks\":\"\"}},\"scene\":{\"xaxis\":{\"backgroundcolor\":\"white\",\"gridcolor\":\"#DFE8F3\",\"gridwidth\":2,\"linecolor\":\"#EBF0F8\",\"showbackground\":true,\"ticks\":\"\",\"zerolinecolor\":\"#EBF0F8\"},\"yaxis\":{\"backgroundcolor\":\"white\",\"gridcolor\":\"#DFE8F3\",\"gridwidth\":2,\"linecolor\":\"#EBF0F8\",\"showbackground\":true,\"ticks\":\"\",\"zerolinecolor\":\"#EBF0F8\"},\"zaxis\":{\"backgroundcolor\":\"white\",\"gridcolor\":\"#DFE8F3\",\"gridwidth\":2,\"linecolor\":\"#EBF0F8\",\"showbackground\":true,\"ticks\":\"\",\"zerolinecolor\":\"#EBF0F8\"}},\"shapedefaults\":{\"line\":{\"color\":\"#2a3f5f\"}},\"ternary\":{\"aaxis\":{\"gridcolor\":\"#DFE8F3\",\"linecolor\":\"#A2B1C6\",\"ticks\":\"\"},\"baxis\":{\"gridcolor\":\"#DFE8F3\",\"linecolor\":\"#A2B1C6\",\"ticks\":\"\"},\"bgcolor\":\"white\",\"caxis\":{\"gridcolor\":\"#DFE8F3\",\"linecolor\":\"#A2B1C6\",\"ticks\":\"\"}},\"title\":{\"x\":0.05},\"xaxis\":{\"automargin\":true,\"gridcolor\":\"#EBF0F8\",\"linecolor\":\"#EBF0F8\",\"ticks\":\"\",\"title\":{\"standoff\":15},\"zerolinecolor\":\"#EBF0F8\",\"zerolinewidth\":2},\"yaxis\":{\"automargin\":true,\"gridcolor\":\"#EBF0F8\",\"linecolor\":\"#EBF0F8\",\"ticks\":\"\",\"title\":{\"standoff\":15},\"zerolinecolor\":\"#EBF0F8\",\"zerolinewidth\":2}}},\"xaxis\":{\"anchor\":\"y\",\"domain\":[0.0,1.0],\"title\":{\"text\":\"V_measure\"}},\"yaxis\":{\"anchor\":\"x\",\"domain\":[0.0,1.0],\"title\":{\"text\":\"F1\"}},\"legend\":{\"title\":{\"text\":\"Type\"},\"tracegroupgap\":0},\"title\":{\"text\":\"Scores for each word\"}},                        {\"responsive\": true}                    ).then(function(){\n                            \nvar gd = document.getElementById('bffe98b7-f7c4-45db-91ae-c033384fe7c7');\nvar x = new MutationObserver(function (mutations, observer) {{\n        var display = window.getComputedStyle(gd).display;\n        if (!display || display === 'none') {{\n            console.log([gd, 'removed!']);\n            Plotly.purge(gd);\n            observer.disconnect();\n        }}\n}});\n\n// Listen for the removal of the full notebook cells\nvar notebookContainer = gd.closest('#notebook-container');\nif (notebookContainer) {{\n    x.observe(notebookContainer, {childList: true});\n}}\n\n// Listen for the clearing of the current output cell\nvar outputEl = gd.closest('.output');\nif (outputEl) {{\n    x.observe(outputEl, {childList: true});\n}}\n\n                        })                };                });            </script>        </div>"
     },
     "metadata": {},
     "output_type": "display_data"
    }
   ],
   "source": [
    "fig_zegt_weinig = px.scatter(df_agg, x=\"Weighted\", y=\"Overall\", text=df_agg.index, color=\"Type\", title=\"Scores for each word, op een manier die weinig zegt eigenlijk\",template=\"plotly_white\")\n",
    "fig_zegt_weinig.show()\n",
    "fig_zegt_weinig = px.scatter(df_agg, x=\"Weighted\", y=\"Overall\", text=df_agg.index, color=\"Type\", title=\"Scores for each word, op een manier die weinig zegt eigenlijk\",template=\"plotly_white\")\n",
    "fig = px.scatter(df_agg, x=\"V_measure\", y=\"F1\", text=df_agg.index, color=\"Type\", title=\"Scores for each word\",template=\"plotly_white\")\n",
    "fig.show()"
   ],
   "metadata": {
    "collapsed": false,
    "ExecuteTime": {
     "end_time": "2024-05-17T20:50:35.083684Z",
     "start_time": "2024-05-17T20:50:34.966312Z"
    }
   },
   "id": "631fc5f0ac2ff6fe",
   "execution_count": 37
  },
  {
   "cell_type": "markdown",
   "source": [
    "# Estimating the number of clusters\n",
    "We will now calculate if the model correctly predicts the number of clusters.\n",
    "We will count the number of different manually annotated senses and compare this to the amount of generated clusters."
   ],
   "metadata": {
    "collapsed": false
   },
   "id": "8d8fd95d03f1e33e"
  },
  {
   "cell_type": "code",
   "outputs": [
    {
     "name": "stdout",
     "output_type": "stream",
     "text": [
      "Avocat\n",
      "Number of senses: 2\n",
      "Number of clusters: 3\n",
      "1 too many clusters\n",
      "Bien\n",
      "Number of senses: 3\n",
      "Number of clusters: 3\n",
      "Correct number of clusters\n",
      "Bureau\n",
      "Number of senses: 3\n",
      "Number of clusters: 3\n",
      "Correct number of clusters\n",
      "Faculté\n",
      "Number of senses: 3\n",
      "Number of clusters: 3\n",
      "Correct number of clusters\n",
      "Filer\n",
      "Number of senses: 3\n",
      "Number of clusters: 3\n",
      "Correct number of clusters\n",
      "Glace\n",
      "Number of senses: 5\n",
      "Number of clusters: 3\n",
      "2 too few clusters\n",
      "Souris\n",
      "Number of senses: 3\n",
      "Number of clusters: 3\n",
      "Correct number of clusters\n",
      "Supporter\n",
      "Number of senses: 3\n",
      "Number of clusters: 3\n",
      "Correct number of clusters\n",
      "Tirer\n",
      "Number of senses: 2\n",
      "Number of clusters: 3\n",
      "1 too many clusters\n",
      "Tour\n",
      "Number of senses: 5\n",
      "Number of clusters: 3\n",
      "2 too few clusters\n",
      "Vol\n",
      "Number of senses: 2\n",
      "Number of clusters: 3\n",
      "1 too many clusters\n",
      "Correct: ['Bien', 'Bureau', 'Faculté', 'Filer', 'Souris', 'Supporter']\n",
      "Close: ['Avocat', 'Tirer', 'Vol']\n",
      "Incorrect: ['Glace', 'Tour']\n",
      "Percentage approach: 0.8181818181818182\n"
     ]
    }
   ],
   "source": [
    "correct = []\n",
    "close = [] # One cluster off, often the result of different granularity. Is it ok to report like this or do we have to be more strict?\n",
    "incorrect = []\n",
    "differences_agg = {}\n",
    "for filename in os.listdir(f\"{model_name}/Experiment_2/Curated/\"):\n",
    "    if filename.endswith(\".csv\"):\n",
    "        df = pd.read_csv(f\"{model_name}/Experiment_2/Curated/\" + filename, sep=\";\", encoding=\"utf-8\", header=0)\n",
    "        target_word = df[\"source\"][1]\n",
    "        print(target_word)\n",
    "        # We count the number of different senses\n",
    "        senses = len(df[\"sense\"].unique())\n",
    "        # We count the number of clusters\n",
    "        clusters = len(df[\"agg_cluster_sub\"].unique())\n",
    "        print(\"Number of senses:\", senses)\n",
    "        print(\"Number of clusters:\", clusters)\n",
    "        if senses == clusters:\n",
    "            print(\"Correct number of clusters\")\n",
    "            difference = 0\n",
    "            correct.append(target_word)\n",
    "        elif senses > clusters:\n",
    "            difference = senses - clusters\n",
    "            print(difference, \"too few clusters\")\n",
    "            if difference == 1:\n",
    "                close.append(target_word)\n",
    "            else:\n",
    "                incorrect.append(target_word)\n",
    "            difference = -difference\n",
    "        elif senses < clusters:\n",
    "            difference = clusters - senses\n",
    "            print(difference, \"too many clusters\")\n",
    "            if difference == 1:\n",
    "                close.append(target_word)\n",
    "            else:\n",
    "                incorrect.append(target_word)\n",
    "                \n",
    "        differences_agg[target_word] = difference\n",
    "        # We calculate the score\n",
    "        #print(\"Score:\", score)\n",
    "        #scores[target_word] = score\n",
    "\n",
    "print(\"Correct:\", correct)\n",
    "print(\"Close:\", close)\n",
    "print(\"Incorrect:\", incorrect)\n",
    "print(\"Percentage approach:\", (len(correct) + len(close)) / ((len(correct) + len(close) + len(incorrect))))"
   ],
   "metadata": {
    "collapsed": false,
    "ExecuteTime": {
     "end_time": "2024-05-17T20:50:35.219070Z",
     "start_time": "2024-05-17T20:50:35.182424Z"
    }
   },
   "id": "45b368ae1793d1b9",
   "execution_count": 38
  },
  {
   "cell_type": "markdown",
   "source": [
    "**Results for Camembert:**\n",
    "Correct: ['Filer', 'Glace']\n",
    "Close: ['Avocat', 'Bien', 'Bureau', 'Faculté', 'Tirer', 'Tour', 'Vol']\n",
    "Incorrect: ['Souris', 'Supporter']\n",
    "Percentage approach: 0.8181818181818182\n",
    "\n",
    "**Results for Flaubert:**\n",
    "Correct: ['Bien']\n",
    "Close: ['Avocat', 'Bureau', 'Faculté', 'Filer', 'Glace', 'Tirer', 'Vol']\n",
    "Incorrect: ['Souris', 'Supporter', 'Tour']\n",
    "Percentage approach: 0.7272727272727273"
   ],
   "metadata": {
    "collapsed": false
   },
   "id": "ff03ad9beb5ade9d"
  },
  {
   "cell_type": "code",
   "outputs": [],
   "source": [
    "# We add a \"difference\" column to the dataframe\n",
    "df_with_average_agg[\"Cluster_Estimation\"] = [differences_agg[word] if word in differences_agg else \"\" for word in df_with_average_agg.index]"
   ],
   "metadata": {
    "collapsed": false,
    "ExecuteTime": {
     "end_time": "2024-05-17T20:50:35.254528Z",
     "start_time": "2024-05-17T20:50:35.249994Z"
    }
   },
   "id": "654ccd07a13d2471",
   "execution_count": 39
  },
  {
   "cell_type": "code",
   "outputs": [],
   "source": [
    "# We save these dataframes to a csv file\n",
    "if not os.path.exists(f\"Results/Experiment_2/Curated/AGG\"):\n",
    "    os.makedirs(f\"Results/Experiment_2/Curated/AGG\")\n",
    "df_with_average_agg.to_csv(f\"Results/Experiment_2/Curated/AGG/{model_name}_scores.csv\", sep=\";\", encoding=\"utf-8\")\n",
    "fig.write_html(f\"Results/Experiment_2/Curated/AGG/{model_name}_scores.html\")\n",
    "df_all_in_one_agg.to_csv(f\"Results/Experiment_2/Curated/AGG/all_in_one_scores.csv\", sep=\";\", encoding=\"utf-8\")"
   ],
   "metadata": {
    "collapsed": false,
    "ExecuteTime": {
     "end_time": "2024-05-17T20:50:35.348349Z",
     "start_time": "2024-05-17T20:50:35.300442Z"
    }
   },
   "id": "8727920f4ce26e6a",
   "execution_count": 40
  },
  {
   "cell_type": "markdown",
   "source": [
    "# BIC"
   ],
   "metadata": {
    "collapsed": false
   },
   "id": "2ef66bc9d14ed992"
  },
  {
   "cell_type": "code",
   "outputs": [
    {
     "name": "stdout",
     "output_type": "stream",
     "text": [
      "Avocat\n",
      "Number of senses: 2\n",
      "Score for each sense\n",
      "avocado    25.925926\n",
      "lawyer     57.142857\n",
      "Name: BIC_default_sub, dtype: float64\n",
      "Overall score 46.98795180722892\n",
      "Weighted score 41.53439153439153\n",
      "Harmonic mean 35.6687898089172\n",
      "V-measure score 28.619700251607465\n",
      "Adjusted Rand score 9.486532200587083\n",
      "All-in-one score 67.46987951807229 \n",
      "\n",
      "\n",
      "Bien\n",
      "Number of senses: 3\n",
      "Score for each sense\n",
      "good          0.000000\n",
      "property     93.877551\n",
      "wellbeing    10.000000\n",
      "Name: BIC_default_sub, dtype: float64\n",
      "Overall score 48.97959183673469\n",
      "Weighted score 34.625850340136054\n",
      "Harmonic mean 0\n",
      "V-measure score 4.140460145469759\n",
      "Adjusted Rand score -0.08028424740723052\n",
      "All-in-one score 50.0 \n",
      "\n",
      "\n",
      "Bureau\n",
      "Number of senses: 3\n",
      "Score for each sense\n",
      "cabinet     0.000000\n",
      "desk       25.714286\n",
      "office     98.148148\n",
      "Name: BIC_default_sub, dtype: float64\n",
      "Overall score 60.19417475728155\n",
      "Weighted score 41.28747795414462\n",
      "Harmonic mean 0\n",
      "V-measure score 16.30196741030239\n",
      "Adjusted Rand score 6.190183692049923\n",
      "All-in-one score 52.42718446601942 \n",
      "\n",
      "\n",
      "Faculté\n",
      "Number of senses: 3\n",
      "Score for each sense\n",
      "ability       46.666667\n",
      "competence     0.000000\n",
      "university    97.297297\n",
      "Name: BIC_default_sub, dtype: float64\n",
      "Overall score 53.75\n",
      "Weighted score 47.987987987987985\n",
      "Harmonic mean 0\n",
      "V-measure score 25.093894706134733\n",
      "Adjusted Rand score 12.95738672577592\n",
      "All-in-one score 46.25 \n",
      "\n",
      "\n",
      "Filer\n",
      "Number of senses: 3\n",
      "Score for each sense\n",
      "give          34.482759\n",
      "slip away    100.000000\n",
      "spinning      80.000000\n",
      "Name: BIC_default_sub, dtype: float64\n",
      "Overall score 76.04166666666666\n",
      "Weighted score 71.49425287356323\n",
      "Harmonic mean 58.252427184466015\n",
      "V-measure score 51.66843874462064\n",
      "Adjusted Rand score 40.19519268306285\n",
      "All-in-one score 48.95833333333333 \n",
      "\n",
      "\n",
      "Glace\n",
      "Number of senses: 5\n",
      "Score for each sense\n",
      "glass             33.333333\n",
      "ice               62.711864\n",
      "ice cream          0.000000\n",
      "mirror            19.230769\n",
      "powdered sugar     0.000000\n",
      "Name: BIC_default_sub, dtype: float64\n",
      "Overall score 36.58536585365854\n",
      "Weighted score 23.055193394176445\n",
      "Harmonic mean 0\n",
      "V-measure score 8.724321218267223\n",
      "Adjusted Rand score -2.1801280359538264\n",
      "All-in-one score 47.96747967479675 \n",
      "\n",
      "\n",
      "Souris\n",
      "Number of senses: 3\n",
      "Score for each sense\n",
      "bat         0.000000\n",
      "pointer     3.703704\n",
      "rodent     96.774194\n",
      "Name: BIC_default_sub, dtype: float64\n",
      "Overall score 45.588235294117645\n",
      "Weighted score 33.4926324173636\n",
      "Harmonic mean 0\n",
      "V-measure score 4.347838474829742\n",
      "Adjusted Rand score -0.827843440886398\n",
      "All-in-one score 45.588235294117645 \n",
      "\n",
      "\n",
      "Supporter\n",
      "Number of senses: 3\n",
      "Score for each sense\n",
      "endure     96.296296\n",
      "fan         0.000000\n",
      "hold up     6.666667\n",
      "Name: BIC_default_sub, dtype: float64\n",
      "Overall score 50.0\n",
      "Weighted score 34.32098765432099\n",
      "Harmonic mean 0\n",
      "V-measure score 6.036038778797564\n",
      "Adjusted Rand score -0.38567020911895783\n",
      "All-in-one score 50.0 \n",
      "\n",
      "\n",
      "Tirer\n",
      "Number of senses: 2\n",
      "Score for each sense\n",
      "pull     46.666667\n",
      "shoot    86.486486\n",
      "Name: BIC_default_sub, dtype: float64\n",
      "Overall score 75.0\n",
      "Weighted score 66.57657657657658\n",
      "Harmonic mean 60.622462787550745\n",
      "V-measure score 33.265300081492185\n",
      "Adjusted Rand score 26.60287081339713\n",
      "All-in-one score 71.15384615384616 \n",
      "\n",
      "\n",
      "Tour\n",
      "Number of senses: 5\n",
      "Score for each sense\n",
      "lap        0.000000\n",
      "round      7.142857\n",
      "tower      0.000000\n",
      "trick      0.000000\n",
      "turn     100.000000\n",
      "Name: BIC_default_sub, dtype: float64\n",
      "Overall score 32.87671232876712\n",
      "Weighted score 21.428571428571427\n",
      "Harmonic mean 0\n",
      "V-measure score 5.586250364141548\n",
      "Adjusted Rand score 0.608587200036954\n",
      "All-in-one score 31.506849315068493 \n",
      "\n",
      "\n",
      "Vol\n",
      "Number of senses: 2\n",
      "Score for each sense\n",
      "flight    100.0\n",
      "theft      24.0\n",
      "Name: BIC_default_sub, dtype: float64\n",
      "Overall score 77.64705882352942\n",
      "Weighted score 62.0\n",
      "Harmonic mean 38.70967741935484\n",
      "V-measure score 28.810148174577193\n",
      "Adjusted Rand score 30.400650548900636\n",
      "All-in-one score 70.58823529411765 \n"
     ]
    }
   ],
   "source": [
    "weighted_scores_BIC = {} # our original metric\n",
    "overall_scores_BIC = {} # the percentage of correct predictions across all senses\n",
    "all_in_one_cluster_overall_scores_BIC = {} # the percentage of correct predictions if no clustering would take place\n",
    "amount_senses = {} # the amount of different senses (does not differ)\n",
    "v_measure_scores_BIC = {} # the v-measure score\n",
    "rand_scores_BIC = {} # the adjusted rand score\n",
    "# We also calculate a F1 score in a later code block\n",
    "\n",
    "for filename in os.listdir(f\"{model_name}/Experiment_2/Curated/\"):\n",
    "    if filename.endswith(\".csv\"):\n",
    "        df = pd.read_csv(f\"{model_name}/Experiment_2/Curated/\" + filename, sep=\";\", encoding=\"utf-8\", header=0)\n",
    "        target_word = df[\"source\"][1]\n",
    "        print(target_word)\n",
    "        # We calculate the amount of different senses\n",
    "        senses = len(df[\"sense\"].unique())\n",
    "        print(\"Number of senses:\", senses)\n",
    "        percentage_default_BIC = (df[\"BIC_default_sub\"].sum() / len(df))\n",
    "        # We also calculate this separately for each \"sense\"\n",
    "        percentage_default_mean_BIC = df.groupby(\"sense\")[\"BIC_default_sub\"].mean()\n",
    "        # We calculate a harmonic mean, as it is more representative of the overall performance\n",
    "        harmonic_mean_BIC = statistics.harmonic_mean(df.groupby(\"sense\")[\"BIC_default_sub\"].mean())\n",
    "        # We want the mean score across all senses, as it does not mean a lot if a program can correctly define one big cluster containing most of the data and fail at all other senses.\n",
    "        percentage_weighted_BIC = percentage_default_mean_BIC.mean()\n",
    "        v_measure_BIC = v_measure_score(df[\"sense\"], df[\"BIC_cluster_sub\"])\n",
    "        rand_BIC = adjusted_rand_score(df[\"sense\"], df[\"BIC_cluster_sub\"])\n",
    "\n",
    "\n",
    "\n",
    "        print(\"Score for each\", percentage_default_mean_BIC*100)\n",
    "        print(\"Overall score\", percentage_default_BIC*100)\n",
    "        print(\"Weighted score\", percentage_weighted_BIC*100)\n",
    "        print(\"Harmonic mean\", harmonic_mean_BIC*100)\n",
    "        print(\"V-measure score\", v_measure_BIC*100)\n",
    "        print(\"Adjusted Rand score\", rand_BIC*100)\n",
    "        weighted_scores_BIC[target_word] = percentage_weighted_BIC\n",
    "        overall_scores_BIC[target_word] = percentage_default_BIC\n",
    "        amount_senses[target_word] = senses\n",
    "        v_measure_scores_BIC[target_word] = v_measure_BIC\n",
    "        rand_scores_BIC[target_word] = rand_BIC\n",
    "        # We also calculate the score if no clustering would take place\n",
    "        default = df[\"sense\"].value_counts().idxmax()\n",
    "        \n",
    "        # We calculate the overall score: this is the percentage of this sense in the total dataframe\n",
    "        all_in_one_cluster_score_BIC = (df[\"sense\"] == default).sum() / len(df)\n",
    "        all_in_one_cluster_overall_scores_BIC[target_word] = all_in_one_cluster_score_BIC\n",
    "        print(\"All-in-one score\", all_in_one_cluster_score_BIC*100, \"\\n\\n\")"
   ],
   "metadata": {
    "collapsed": false,
    "ExecuteTime": {
     "end_time": "2024-05-17T20:50:40.947709Z",
     "start_time": "2024-05-17T20:50:40.864823Z"
    }
   },
   "id": "a17defd5f9a436bd",
   "execution_count": 41
  },
  {
   "cell_type": "code",
   "outputs": [
    {
     "name": "stdout",
     "output_type": "stream",
     "text": [
      "\n",
      "\n",
      " Avocat\n",
      "Number of senses: 2\n",
      "\n",
      "sense: lawyer\n",
      "instances of sense: 56\n",
      "amount of correct instances: 32\n",
      "correct cluster number: 3\n",
      "total amount of points in biggest cluster: 52\n",
      "precision: 0.6153846153846154\n",
      "recall 0.5714285714285714\n",
      "F1 0.5925925925925926\n",
      "\n",
      "sense: avocado\n",
      "instances of sense: 27\n",
      "amount of correct instances: 7\n",
      "correct cluster number: 1\n",
      "total amount of points in biggest cluster: 7\n",
      "precision: 1.0\n",
      "recall 0.25925925925925924\n",
      "F1 0.4117647058823529\n",
      "\n",
      "\n",
      " Bien\n",
      "Number of senses: 3\n",
      "\n",
      "sense: property\n",
      "instances of sense: 49\n",
      "amount of correct instances: 46\n",
      "correct cluster number: 1\n",
      "total amount of points in biggest cluster: 93\n",
      "precision: 0.4946236559139785\n",
      "recall 0.9387755102040817\n",
      "F1 0.647887323943662\n",
      "\n",
      "sense: wellbeing\n",
      "instances of sense: 20\n",
      "amount of correct instances: 2\n",
      "correct cluster number: 2\n",
      "total amount of points in biggest cluster: 4\n",
      "precision: 0.5\n",
      "recall 0.1\n",
      "F1 0.16666666666666666\n",
      "\n",
      "sense: good\n",
      "instances of sense: 29\n",
      "amount of correct instances: 0\n",
      "correct cluster number: No cluster\n",
      "total amount of points in biggest cluster: 0\n",
      "precision zero\n",
      "precision: 0\n",
      "recall 0.0\n",
      "F1 0\n",
      "\n",
      "\n",
      " Bureau\n",
      "Number of senses: 3\n",
      "\n",
      "sense: desk\n",
      "instances of sense: 35\n",
      "amount of correct instances: 9\n",
      "correct cluster number: 2\n",
      "total amount of points in biggest cluster: 9\n",
      "precision: 1.0\n",
      "recall 0.2571428571428571\n",
      "F1 0.40909090909090906\n",
      "\n",
      "sense: cabinet\n",
      "instances of sense: 14\n",
      "amount of correct instances: 0\n",
      "correct cluster number: No cluster\n",
      "total amount of points in biggest cluster: 0\n",
      "precision zero\n",
      "precision: 0\n",
      "recall 0.0\n",
      "F1 0\n",
      "\n",
      "sense: office\n",
      "instances of sense: 54\n",
      "amount of correct instances: 53\n",
      "correct cluster number: 3\n",
      "total amount of points in biggest cluster: 93\n",
      "precision: 0.5698924731182796\n",
      "recall 0.9814814814814815\n",
      "F1 0.7210884353741497\n",
      "\n",
      "\n",
      " Faculté\n",
      "Number of senses: 3\n",
      "\n",
      "sense: university\n",
      "instances of sense: 37\n",
      "amount of correct instances: 36\n",
      "correct cluster number: 2\n",
      "total amount of points in biggest cluster: 72\n",
      "precision: 0.5\n",
      "recall 0.972972972972973\n",
      "F1 0.6605504587155964\n",
      "\n",
      "sense: competence\n",
      "instances of sense: 28\n",
      "amount of correct instances: 0\n",
      "correct cluster number: No cluster\n",
      "total amount of points in biggest cluster: 0\n",
      "precision zero\n",
      "precision: 0\n",
      "recall 0.0\n",
      "F1 0\n",
      "\n",
      "sense: ability\n",
      "instances of sense: 15\n",
      "amount of correct instances: 7\n",
      "correct cluster number: 3\n",
      "total amount of points in biggest cluster: 7\n",
      "precision: 1.0\n",
      "recall 0.4666666666666667\n",
      "F1 0.6363636363636364\n",
      "\n",
      "\n",
      " Filer\n",
      "Number of senses: 3\n",
      "\n",
      "sense: slip away\n",
      "instances of sense: 47\n",
      "amount of correct instances: 47\n",
      "correct cluster number: 3\n",
      "total amount of points in biggest cluster: 70\n",
      "precision: 0.6714285714285714\n",
      "recall 1.0\n",
      "F1 0.8034188034188033\n",
      "\n",
      "sense: give\n",
      "instances of sense: 29\n",
      "amount of correct instances: 10\n",
      "correct cluster number: 2\n",
      "total amount of points in biggest cluster: 10\n",
      "precision: 1.0\n",
      "recall 0.3448275862068966\n",
      "F1 0.5128205128205129\n",
      "\n",
      "sense: spinning\n",
      "instances of sense: 20\n",
      "amount of correct instances: 16\n",
      "correct cluster number: 1\n",
      "total amount of points in biggest cluster: 16\n",
      "precision: 1.0\n",
      "recall 0.8\n",
      "F1 0.8888888888888888\n",
      "\n",
      "\n",
      " Glace\n",
      "Number of senses: 5\n",
      "\n",
      "sense: ice\n",
      "instances of sense: 59\n",
      "amount of correct instances: 37\n",
      "correct cluster number: 3\n",
      "total amount of points in biggest cluster: 89\n",
      "precision: 0.4157303370786517\n",
      "recall 0.6271186440677966\n",
      "F1 0.5\n",
      "\n",
      "sense: ice cream\n",
      "instances of sense: 20\n",
      "amount of correct instances: 0\n",
      "correct cluster number: No cluster\n",
      "total amount of points in biggest cluster: 0\n",
      "precision zero\n",
      "precision: 0\n",
      "recall 0.0\n",
      "F1 0\n",
      "\n",
      "sense: glass\n",
      "instances of sense: 9\n",
      "amount of correct instances: 3\n",
      "correct cluster number: 2\n",
      "total amount of points in biggest cluster: 4\n",
      "precision: 0.75\n",
      "recall 0.3333333333333333\n",
      "F1 0.46153846153846156\n",
      "\n",
      "sense: mirror\n",
      "instances of sense: 26\n",
      "amount of correct instances: 5\n",
      "correct cluster number: 1\n",
      "total amount of points in biggest cluster: 30\n",
      "precision: 0.16666666666666666\n",
      "recall 0.19230769230769232\n",
      "F1 0.17857142857142858\n",
      "\n",
      "sense: powdered sugar\n",
      "instances of sense: 9\n",
      "amount of correct instances: 0\n",
      "correct cluster number: No cluster\n",
      "total amount of points in biggest cluster: 0\n",
      "precision zero\n",
      "precision: 0\n",
      "recall 0.0\n",
      "F1 0\n",
      "\n",
      "\n",
      " Souris\n",
      "Number of senses: 3\n",
      "\n",
      "sense: bat\n",
      "instances of sense: 10\n",
      "amount of correct instances: 0\n",
      "correct cluster number: No cluster\n",
      "total amount of points in biggest cluster: 0\n",
      "precision zero\n",
      "precision: 0\n",
      "recall 0.0\n",
      "F1 0\n",
      "\n",
      "sense: pointer\n",
      "instances of sense: 27\n",
      "amount of correct instances: 1\n",
      "correct cluster number: 2\n",
      "total amount of points in biggest cluster: 1\n",
      "precision: 1.0\n",
      "recall 0.037037037037037035\n",
      "F1 0.07142857142857142\n",
      "\n",
      "sense: rodent\n",
      "instances of sense: 31\n",
      "amount of correct instances: 30\n",
      "correct cluster number: 1\n",
      "total amount of points in biggest cluster: 66\n",
      "precision: 0.45454545454545453\n",
      "recall 0.967741935483871\n",
      "F1 0.6185567010309279\n",
      "\n",
      "\n",
      " Supporter\n",
      "Number of senses: 3\n",
      "\n",
      "sense: endure\n",
      "instances of sense: 27\n",
      "amount of correct instances: 26\n",
      "correct cluster number: 3\n",
      "total amount of points in biggest cluster: 52\n",
      "precision: 0.5\n",
      "recall 0.9629629629629629\n",
      "F1 0.6582278481012658\n",
      "\n",
      "sense: hold up\n",
      "instances of sense: 15\n",
      "amount of correct instances: 1\n",
      "correct cluster number: 1\n",
      "total amount of points in biggest cluster: 1\n",
      "precision: 1.0\n",
      "recall 0.06666666666666667\n",
      "F1 0.125\n",
      "\n",
      "sense: fan\n",
      "instances of sense: 12\n",
      "amount of correct instances: 0\n",
      "correct cluster number: No cluster\n",
      "total amount of points in biggest cluster: 0\n",
      "precision zero\n",
      "precision: 0\n",
      "recall 0.0\n",
      "F1 0\n",
      "\n",
      "\n",
      " Tirer\n",
      "Number of senses: 2\n",
      "\n",
      "sense: shoot\n",
      "instances of sense: 74\n",
      "amount of correct instances: 64\n",
      "correct cluster number: 2\n",
      "total amount of points in biggest cluster: 80\n",
      "precision: 0.8\n",
      "recall 0.8648648648648649\n",
      "F1 0.8311688311688312\n",
      "\n",
      "sense: pull\n",
      "instances of sense: 30\n",
      "amount of correct instances: 14\n",
      "correct cluster number: 1\n",
      "total amount of points in biggest cluster: 14\n",
      "precision: 1.0\n",
      "recall 0.4666666666666667\n",
      "F1 0.6363636363636364\n",
      "\n",
      "\n",
      " Tour\n",
      "Number of senses: 5\n",
      "\n",
      "sense: lap\n",
      "instances of sense: 16\n",
      "amount of correct instances: 0\n",
      "correct cluster number: No cluster\n",
      "total amount of points in biggest cluster: 0\n",
      "precision zero\n",
      "precision: 0\n",
      "recall 0.0\n",
      "F1 0\n",
      "\n",
      "sense: trick\n",
      "instances of sense: 14\n",
      "amount of correct instances: 0\n",
      "correct cluster number: No cluster\n",
      "total amount of points in biggest cluster: 0\n",
      "precision zero\n",
      "precision: 0\n",
      "recall 0.0\n",
      "F1 0\n",
      "\n",
      "sense: turn\n",
      "instances of sense: 23\n",
      "amount of correct instances: 23\n",
      "correct cluster number: 2\n",
      "total amount of points in biggest cluster: 71\n",
      "precision: 0.323943661971831\n",
      "recall 1.0\n",
      "F1 0.48936170212765956\n",
      "\n",
      "sense: round\n",
      "instances of sense: 14\n",
      "amount of correct instances: 1\n",
      "correct cluster number: 1\n",
      "total amount of points in biggest cluster: 1\n",
      "precision: 1.0\n",
      "recall 0.07142857142857142\n",
      "F1 0.13333333333333333\n",
      "\n",
      "sense: tower\n",
      "instances of sense: 6\n",
      "amount of correct instances: 0\n",
      "correct cluster number: No cluster\n",
      "total amount of points in biggest cluster: 0\n",
      "precision zero\n",
      "precision: 0\n",
      "recall 0.0\n",
      "F1 0\n",
      "\n",
      "\n",
      " Vol\n",
      "Number of senses: 2\n",
      "\n",
      "sense: theft\n",
      "instances of sense: 25\n",
      "amount of correct instances: 6\n",
      "correct cluster number: 1\n",
      "total amount of points in biggest cluster: 6\n",
      "precision: 1.0\n",
      "recall 0.24\n",
      "F1 0.3870967741935484\n",
      "\n",
      "sense: flight\n",
      "instances of sense: 60\n",
      "amount of correct instances: 60\n",
      "correct cluster number: 2\n",
      "total amount of points in biggest cluster: 76\n",
      "precision: 0.7894736842105263\n",
      "recall 1.0\n",
      "F1 0.8823529411764706\n"
     ]
    }
   ],
   "source": [
    "# We create a dictionary of dictionaries to save, for each sense, the ratings of its precision and recall\n",
    "all_scores_BIC = {}\n",
    "all_lengths_BIC = {}\n",
    "for filename in os.listdir(f\"{model_name}/Experiment_2/Curated/\"):\n",
    "    if filename.endswith(\".csv\"):\n",
    "        df_F1 = pd.read_csv(f\"{model_name}/Experiment_2/Curated/\" + filename, sep=\";\", encoding=\"utf-8\", header=0)\n",
    "\n",
    "        target_word = df_F1[\"source\"][1]\n",
    "        print(\"\\n\\n\", target_word)\n",
    "        total_df_length = len(df_F1)\n",
    "        # We calculate the amount of different senses\n",
    "        senses = len(df_F1[\"sense\"].unique())\n",
    "        print(\"Number of senses:\", senses)\n",
    "        target_word_dictionary = {}\n",
    "        target_word_lengths = {}\n",
    "        target_word_lengths[\"total\"] = total_df_length\n",
    "        for sense in df_F1[\"sense\"].unique():\n",
    "            scores = {}\n",
    "            sense_df = df_F1[df_F1[\"sense\"] == sense]\n",
    "                    #precision: number of correct instances in a cluster / total cluster size\n",
    "                    # We calculate the amount of \"default\" instances\n",
    "            sense_len = len(sense_df)\n",
    "        \n",
    "            \n",
    "            correct_df = sense_df[sense_df[\"BIC_default_sub\"] == True]\n",
    "            correct_len = len(correct_df)\n",
    "            if correct_len > 0:\n",
    "                correct_cluster = correct_df[\"BIC_cluster_sub\"].iloc[0]\n",
    "            else:\n",
    "                correct_cluster = \"No cluster\"\n",
    "                \n",
    "            cluster_len = len(df_F1[df_F1[\"BIC_cluster_sub\"] == correct_cluster])\n",
    "            print(\"\\nsense:\", sense)\n",
    "            print(\"instances of sense:\", sense_len)\n",
    "            print(\"amount of correct instances:\", correct_len)\n",
    "            print(\"correct cluster number:\", correct_cluster)\n",
    "            print(\"total amount of points in biggest cluster:\", cluster_len)\n",
    "            \n",
    "            if cluster_len > 0:  \n",
    "                precision = correct_len / cluster_len\n",
    "            else:\n",
    "                precision = 0\n",
    "                print(\"precision zero\")\n",
    "            recall = correct_len / sense_len\n",
    "            print(\"precision:\", precision)\n",
    "            print(\"recall\", recall)\n",
    "            \n",
    "            F1 = statistics.harmonic_mean((precision, recall))\n",
    "            print(\"F1\", F1)\n",
    "            \n",
    "            scores[\"precision\"] = precision\n",
    "            scores[\"recall\"] = recall\n",
    "            scores[\"F1\"] = F1\n",
    "            target_word_dictionary[sense] = scores\n",
    "            target_word_lengths[sense] = sense_len\n",
    "        all_scores_BIC[target_word] = target_word_dictionary\n",
    "        all_lengths_BIC[target_word] = target_word_lengths\n",
    "            "
   ],
   "metadata": {
    "collapsed": false,
    "ExecuteTime": {
     "end_time": "2024-05-17T20:50:41.658364Z",
     "start_time": "2024-05-17T20:50:41.585852Z"
    }
   },
   "id": "803d87d48c9975ae",
   "execution_count": 42
  },
  {
   "cell_type": "code",
   "outputs": [
    {
     "name": "stdout",
     "output_type": "stream",
     "text": [
      "\n",
      "\n",
      " Avocat\n",
      "lawyer\n",
      "score: 0.5925925925925926\n",
      "length of sense: 56\n",
      "total length: 83\n",
      "added weight: 0.6746987951807228 for a total of 0.6746987951807228\n",
      "F1 score after calc: 39.982150825524315\n",
      "avocado\n",
      "score: 0.4117647058823529\n",
      "length of sense: 27\n",
      "total length: 83\n",
      "added weight: 0.3253012048192771 for a total of 1.0\n",
      "F1 score after calc: 53.37690631808278\n",
      "\n",
      "\n",
      " Bien\n",
      "property\n",
      "score: 0.647887323943662\n",
      "length of sense: 49\n",
      "total length: 98\n",
      "added weight: 0.5 for a total of 0.5\n",
      "F1 score after calc: 32.3943661971831\n",
      "wellbeing\n",
      "score: 0.16666666666666666\n",
      "length of sense: 20\n",
      "total length: 98\n",
      "added weight: 0.20408163265306123 for a total of 0.7040816326530612\n",
      "F1 score after calc: 35.795726741400784\n",
      "good\n",
      "score: 0\n",
      "length of sense: 29\n",
      "total length: 98\n",
      "added weight: 0.29591836734693877 for a total of 1.0\n",
      "F1 score after calc: 35.795726741400784\n",
      "\n",
      "\n",
      " Bureau\n",
      "desk\n",
      "score: 0.40909090909090906\n",
      "length of sense: 35\n",
      "total length: 103\n",
      "added weight: 0.33980582524271846 for a total of 0.33980582524271846\n",
      "F1 score after calc: 13.901147396293027\n",
      "cabinet\n",
      "score: 0\n",
      "length of sense: 14\n",
      "total length: 103\n",
      "added weight: 0.13592233009708737 for a total of 0.47572815533980584\n",
      "F1 score after calc: 13.901147396293027\n",
      "office\n",
      "score: 0.7210884353741497\n",
      "length of sense: 54\n",
      "total length: 103\n",
      "added weight: 0.5242718446601942 for a total of 1.0\n",
      "F1 score after calc: 51.70578381396689\n",
      "\n",
      "\n",
      " Faculté\n",
      "university\n",
      "score: 0.6605504587155964\n",
      "length of sense: 37\n",
      "total length: 80\n",
      "added weight: 0.4625 for a total of 0.4625\n",
      "F1 score after calc: 30.550458715596335\n",
      "competence\n",
      "score: 0\n",
      "length of sense: 28\n",
      "total length: 80\n",
      "added weight: 0.35 for a total of 0.8125\n",
      "F1 score after calc: 30.550458715596335\n",
      "ability\n",
      "score: 0.6363636363636364\n",
      "length of sense: 15\n",
      "total length: 80\n",
      "added weight: 0.1875 for a total of 1.0\n",
      "F1 score after calc: 42.482276897414515\n",
      "\n",
      "\n",
      " Filer\n",
      "slip away\n",
      "score: 0.8034188034188033\n",
      "length of sense: 47\n",
      "total length: 96\n",
      "added weight: 0.4895833333333333 for a total of 0.4895833333333333\n",
      "F1 score after calc: 39.334045584045576\n",
      "give\n",
      "score: 0.5128205128205129\n",
      "length of sense: 29\n",
      "total length: 96\n",
      "added weight: 0.3020833333333333 for a total of 0.7916666666666666\n",
      "F1 score after calc: 54.825498575498564\n",
      "spinning\n",
      "score: 0.8888888888888888\n",
      "length of sense: 20\n",
      "total length: 96\n",
      "added weight: 0.20833333333333334 for a total of 1.0\n",
      "F1 score after calc: 73.34401709401708\n",
      "\n",
      "\n",
      " Glace\n",
      "ice\n",
      "score: 0.5\n",
      "length of sense: 59\n",
      "total length: 123\n",
      "added weight: 0.4796747967479675 for a total of 0.4796747967479675\n",
      "F1 score after calc: 23.983739837398375\n",
      "ice cream\n",
      "score: 0\n",
      "length of sense: 20\n",
      "total length: 123\n",
      "added weight: 0.16260162601626016 for a total of 0.6422764227642277\n",
      "F1 score after calc: 23.983739837398375\n",
      "glass\n",
      "score: 0.46153846153846156\n",
      "length of sense: 9\n",
      "total length: 123\n",
      "added weight: 0.07317073170731707 for a total of 0.7154471544715447\n",
      "F1 score after calc: 27.360850531582237\n",
      "mirror\n",
      "score: 0.17857142857142858\n",
      "length of sense: 26\n",
      "total length: 123\n",
      "added weight: 0.21138211382113822 for a total of 0.926829268292683\n",
      "F1 score after calc: 31.135531135531135\n",
      "powdered sugar\n",
      "score: 0\n",
      "length of sense: 9\n",
      "total length: 123\n",
      "added weight: 0.07317073170731707 for a total of 1.0\n",
      "F1 score after calc: 31.135531135531135\n",
      "\n",
      "\n",
      " Souris\n",
      "bat\n",
      "score: 0\n",
      "length of sense: 10\n",
      "total length: 68\n",
      "added weight: 0.14705882352941177 for a total of 0.14705882352941177\n",
      "F1 score after calc: 0.0\n",
      "pointer\n",
      "score: 0.07142857142857142\n",
      "length of sense: 27\n",
      "total length: 68\n",
      "added weight: 0.39705882352941174 for a total of 0.5441176470588235\n",
      "F1 score after calc: 2.8361344537815123\n",
      "rodent\n",
      "score: 0.6185567010309279\n",
      "length of sense: 31\n",
      "total length: 68\n",
      "added weight: 0.45588235294117646 for a total of 1.0\n",
      "F1 score after calc: 31.035042883132636\n",
      "\n",
      "\n",
      " Supporter\n",
      "endure\n",
      "score: 0.6582278481012658\n",
      "length of sense: 27\n",
      "total length: 54\n",
      "added weight: 0.5 for a total of 0.5\n",
      "F1 score after calc: 32.91139240506329\n",
      "hold up\n",
      "score: 0.125\n",
      "length of sense: 15\n",
      "total length: 54\n",
      "added weight: 0.2777777777777778 for a total of 0.7777777777777778\n",
      "F1 score after calc: 36.38361462728551\n",
      "fan\n",
      "score: 0\n",
      "length of sense: 12\n",
      "total length: 54\n",
      "added weight: 0.2222222222222222 for a total of 1.0\n",
      "F1 score after calc: 36.38361462728551\n",
      "\n",
      "\n",
      " Tirer\n",
      "shoot\n",
      "score: 0.8311688311688312\n",
      "length of sense: 74\n",
      "total length: 104\n",
      "added weight: 0.7115384615384616 for a total of 0.7115384615384616\n",
      "F1 score after calc: 59.14085914085915\n",
      "pull\n",
      "score: 0.6363636363636364\n",
      "length of sense: 30\n",
      "total length: 104\n",
      "added weight: 0.28846153846153844 for a total of 1.0\n",
      "F1 score after calc: 77.4975024975025\n",
      "\n",
      "\n",
      " Tour\n",
      "lap\n",
      "score: 0\n",
      "length of sense: 16\n",
      "total length: 73\n",
      "added weight: 0.2191780821917808 for a total of 0.2191780821917808\n",
      "F1 score after calc: 0.0\n",
      "trick\n",
      "score: 0\n",
      "length of sense: 14\n",
      "total length: 73\n",
      "added weight: 0.1917808219178082 for a total of 0.410958904109589\n",
      "F1 score after calc: 0.0\n",
      "turn\n",
      "score: 0.48936170212765956\n",
      "length of sense: 23\n",
      "total length: 73\n",
      "added weight: 0.3150684931506849 for a total of 0.726027397260274\n",
      "F1 score after calc: 15.418245409501601\n",
      "round\n",
      "score: 0.13333333333333333\n",
      "length of sense: 14\n",
      "total length: 73\n",
      "added weight: 0.1917808219178082 for a total of 0.9178082191780822\n",
      "F1 score after calc: 17.97532303507238\n",
      "tower\n",
      "score: 0\n",
      "length of sense: 6\n",
      "total length: 73\n",
      "added weight: 0.0821917808219178 for a total of 1.0\n",
      "F1 score after calc: 17.97532303507238\n",
      "\n",
      "\n",
      " Vol\n",
      "theft\n",
      "score: 0.3870967741935484\n",
      "length of sense: 25\n",
      "total length: 85\n",
      "added weight: 0.29411764705882354 for a total of 0.29411764705882354\n",
      "F1 score after calc: 11.385199240986717\n",
      "flight\n",
      "score: 0.8823529411764706\n",
      "length of sense: 60\n",
      "total length: 85\n",
      "added weight: 0.7058823529411765 for a total of 1.0\n",
      "F1 score after calc: 73.66893626520817\n"
     ]
    }
   ],
   "source": [
    "# Total F1: weighted average of the F1 scores of each gold standard sense\n",
    "# We calculate the weight for each sense of the dataframe (the amount of instances of this sense divided by the total amount of instances)\n",
    "# We make a dictionary F1_scores, in which each target word is associated with its F1 score\n",
    "F1_scores_BIC = {}\n",
    "for target_word in all_scores_BIC:\n",
    "    F1 = 0\n",
    "    weight = 0\n",
    "    print(\"\\n\\n\", target_word)\n",
    "    for sense in all_scores_BIC[target_word]:\n",
    "        score = all_scores_BIC[target_word][sense][\"F1\"]\n",
    "        print(sense)\n",
    "        print(\"score:\", score)\n",
    "        \n",
    "        len_sense = all_lengths_BIC[target_word][sense]\n",
    "        print(\"length of sense:\", len_sense)\n",
    "        \n",
    "        len_total = all_lengths_BIC[target_word][\"total\"]\n",
    "        print(\"total length:\", len_total)\n",
    "        added_weight = len_sense / len_total\n",
    "        weight += added_weight\n",
    "        print(\"added weight:\", added_weight, \"for a total of\", weight)\n",
    "        F1 += score * (len_sense / len_total)\n",
    "        print(\"F1 score after calc:\", F1*100)\n",
    "    F1_scores_BIC[target_word] = F1\n",
    "\n"
   ],
   "metadata": {
    "collapsed": false,
    "ExecuteTime": {
     "end_time": "2024-05-17T20:50:42.189723Z",
     "start_time": "2024-05-17T20:50:42.181216Z"
    }
   },
   "id": "504d3f61b0cd6507",
   "execution_count": 43
  },
  {
   "cell_type": "code",
   "outputs": [
    {
     "name": "stdout",
     "output_type": "stream",
     "text": [
      "\n",
      "\n",
      " Avocat\n",
      "Number of senses: 2\n",
      "\n",
      "sense: lawyer\n",
      "instances of sense: 56\n",
      "amount of correct instances: 56\n",
      "correct cluster number: 0\n",
      "total amount of points in biggest cluster: 84\n",
      "precision: 0.6666666666666666\n",
      "recall 1.0\n",
      "F1 0.8\n",
      "\n",
      "sense: avocado\n",
      "instances of sense: 28\n",
      "amount of correct instances: 0\n",
      "correct cluster number: No cluster\n",
      "total amount of points in biggest cluster: 0\n",
      "precision zero\n",
      "precision: 0\n",
      "recall 0.0\n",
      "F1 0\n",
      "\n",
      "\n",
      " Bien\n",
      "Number of senses: 3\n",
      "\n",
      "sense: property\n",
      "instances of sense: 49\n",
      "amount of correct instances: 49\n",
      "correct cluster number: 0\n",
      "total amount of points in biggest cluster: 98\n",
      "precision: 0.5\n",
      "recall 1.0\n",
      "F1 0.6666666666666666\n",
      "\n",
      "sense: wellbeing\n",
      "instances of sense: 20\n",
      "amount of correct instances: 0\n",
      "correct cluster number: No cluster\n",
      "total amount of points in biggest cluster: 0\n",
      "precision zero\n",
      "precision: 0\n",
      "recall 0.0\n",
      "F1 0\n",
      "\n",
      "sense: good\n",
      "instances of sense: 29\n",
      "amount of correct instances: 0\n",
      "correct cluster number: No cluster\n",
      "total amount of points in biggest cluster: 0\n",
      "precision zero\n",
      "precision: 0\n",
      "recall 0.0\n",
      "F1 0\n",
      "\n",
      "\n",
      " Bureau\n",
      "Number of senses: 3\n",
      "\n",
      "sense: desk\n",
      "instances of sense: 35\n",
      "amount of correct instances: 0\n",
      "correct cluster number: No cluster\n",
      "total amount of points in biggest cluster: 0\n",
      "precision zero\n",
      "precision: 0\n",
      "recall 0.0\n",
      "F1 0\n",
      "\n",
      "sense: cabinet\n",
      "instances of sense: 14\n",
      "amount of correct instances: 0\n",
      "correct cluster number: No cluster\n",
      "total amount of points in biggest cluster: 0\n",
      "precision zero\n",
      "precision: 0\n",
      "recall 0.0\n",
      "F1 0\n",
      "\n",
      "sense: office\n",
      "instances of sense: 54\n",
      "amount of correct instances: 54\n",
      "correct cluster number: 0\n",
      "total amount of points in biggest cluster: 103\n",
      "precision: 0.5242718446601942\n",
      "recall 1.0\n",
      "F1 0.6878980891719745\n",
      "\n",
      "\n",
      " Faculté\n",
      "Number of senses: 3\n",
      "\n",
      "sense: university\n",
      "instances of sense: 37\n",
      "amount of correct instances: 37\n",
      "correct cluster number: 0\n",
      "total amount of points in biggest cluster: 80\n",
      "precision: 0.4625\n",
      "recall 1.0\n",
      "F1 0.6324786324786326\n",
      "\n",
      "sense: competence\n",
      "instances of sense: 28\n",
      "amount of correct instances: 0\n",
      "correct cluster number: No cluster\n",
      "total amount of points in biggest cluster: 0\n",
      "precision zero\n",
      "precision: 0\n",
      "recall 0.0\n",
      "F1 0\n",
      "\n",
      "sense: ability\n",
      "instances of sense: 15\n",
      "amount of correct instances: 0\n",
      "correct cluster number: No cluster\n",
      "total amount of points in biggest cluster: 0\n",
      "precision zero\n",
      "precision: 0\n",
      "recall 0.0\n",
      "F1 0\n",
      "\n",
      "\n",
      " Filer\n",
      "Number of senses: 3\n",
      "\n",
      "sense: slip away\n",
      "instances of sense: 47\n",
      "amount of correct instances: 47\n",
      "correct cluster number: 0\n",
      "total amount of points in biggest cluster: 96\n",
      "precision: 0.4895833333333333\n",
      "recall 1.0\n",
      "F1 0.6573426573426573\n",
      "\n",
      "sense: give\n",
      "instances of sense: 29\n",
      "amount of correct instances: 0\n",
      "correct cluster number: No cluster\n",
      "total amount of points in biggest cluster: 0\n",
      "precision zero\n",
      "precision: 0\n",
      "recall 0.0\n",
      "F1 0\n",
      "\n",
      "sense: spinning\n",
      "instances of sense: 20\n",
      "amount of correct instances: 0\n",
      "correct cluster number: No cluster\n",
      "total amount of points in biggest cluster: 0\n",
      "precision zero\n",
      "precision: 0\n",
      "recall 0.0\n",
      "F1 0\n",
      "\n",
      "\n",
      " Glace\n",
      "Number of senses: 5\n",
      "\n",
      "sense: ice\n",
      "instances of sense: 59\n",
      "amount of correct instances: 59\n",
      "correct cluster number: 0\n",
      "total amount of points in biggest cluster: 123\n",
      "precision: 0.4796747967479675\n",
      "recall 1.0\n",
      "F1 0.6483516483516483\n",
      "\n",
      "sense: ice cream\n",
      "instances of sense: 20\n",
      "amount of correct instances: 0\n",
      "correct cluster number: No cluster\n",
      "total amount of points in biggest cluster: 0\n",
      "precision zero\n",
      "precision: 0\n",
      "recall 0.0\n",
      "F1 0\n",
      "\n",
      "sense: glass\n",
      "instances of sense: 9\n",
      "amount of correct instances: 0\n",
      "correct cluster number: No cluster\n",
      "total amount of points in biggest cluster: 0\n",
      "precision zero\n",
      "precision: 0\n",
      "recall 0.0\n",
      "F1 0\n",
      "\n",
      "sense: mirror\n",
      "instances of sense: 26\n",
      "amount of correct instances: 0\n",
      "correct cluster number: No cluster\n",
      "total amount of points in biggest cluster: 0\n",
      "precision zero\n",
      "precision: 0\n",
      "recall 0.0\n",
      "F1 0\n",
      "\n",
      "sense: powdered sugar\n",
      "instances of sense: 9\n",
      "amount of correct instances: 0\n",
      "correct cluster number: No cluster\n",
      "total amount of points in biggest cluster: 0\n",
      "precision zero\n",
      "precision: 0\n",
      "recall 0.0\n",
      "F1 0\n",
      "\n",
      "\n",
      " Souris\n",
      "Number of senses: 3\n",
      "\n",
      "sense: bat\n",
      "instances of sense: 10\n",
      "amount of correct instances: 0\n",
      "correct cluster number: No cluster\n",
      "total amount of points in biggest cluster: 0\n",
      "precision zero\n",
      "precision: 0\n",
      "recall 0.0\n",
      "F1 0\n",
      "\n",
      "sense: pointer\n",
      "instances of sense: 27\n",
      "amount of correct instances: 0\n",
      "correct cluster number: No cluster\n",
      "total amount of points in biggest cluster: 0\n",
      "precision zero\n",
      "precision: 0\n",
      "recall 0.0\n",
      "F1 0\n",
      "\n",
      "sense: rodent\n",
      "instances of sense: 31\n",
      "amount of correct instances: 31\n",
      "correct cluster number: 0\n",
      "total amount of points in biggest cluster: 68\n",
      "precision: 0.45588235294117646\n",
      "recall 1.0\n",
      "F1 0.6262626262626263\n",
      "\n",
      "\n",
      " Supporter\n",
      "Number of senses: 3\n",
      "\n",
      "sense: endure\n",
      "instances of sense: 28\n",
      "amount of correct instances: 28\n",
      "correct cluster number: 0\n",
      "total amount of points in biggest cluster: 55\n",
      "precision: 0.509090909090909\n",
      "recall 1.0\n",
      "F1 0.6746987951807228\n",
      "\n",
      "sense: hold up\n",
      "instances of sense: 15\n",
      "amount of correct instances: 0\n",
      "correct cluster number: No cluster\n",
      "total amount of points in biggest cluster: 0\n",
      "precision zero\n",
      "precision: 0\n",
      "recall 0.0\n",
      "F1 0\n",
      "\n",
      "sense: fan\n",
      "instances of sense: 12\n",
      "amount of correct instances: 0\n",
      "correct cluster number: No cluster\n",
      "total amount of points in biggest cluster: 0\n",
      "precision zero\n",
      "precision: 0\n",
      "recall 0.0\n",
      "F1 0\n",
      "\n",
      "\n",
      " Tirer\n",
      "Number of senses: 2\n",
      "\n",
      "sense: shoot\n",
      "instances of sense: 74\n",
      "amount of correct instances: 74\n",
      "correct cluster number: 0\n",
      "total amount of points in biggest cluster: 104\n",
      "precision: 0.7115384615384616\n",
      "recall 1.0\n",
      "F1 0.8314606741573034\n",
      "\n",
      "sense: pull\n",
      "instances of sense: 30\n",
      "amount of correct instances: 0\n",
      "correct cluster number: No cluster\n",
      "total amount of points in biggest cluster: 0\n",
      "precision zero\n",
      "precision: 0\n",
      "recall 0.0\n",
      "F1 0\n",
      "\n",
      "\n",
      " Tour\n",
      "Number of senses: 5\n",
      "\n",
      "sense: lap\n",
      "instances of sense: 16\n",
      "amount of correct instances: 0\n",
      "correct cluster number: No cluster\n",
      "total amount of points in biggest cluster: 0\n",
      "precision zero\n",
      "precision: 0\n",
      "recall 0.0\n",
      "F1 0\n",
      "\n",
      "sense: trick\n",
      "instances of sense: 14\n",
      "amount of correct instances: 0\n",
      "correct cluster number: No cluster\n",
      "total amount of points in biggest cluster: 0\n",
      "precision zero\n",
      "precision: 0\n",
      "recall 0.0\n",
      "F1 0\n",
      "\n",
      "sense: turn\n",
      "instances of sense: 24\n",
      "amount of correct instances: 24\n",
      "correct cluster number: 0\n",
      "total amount of points in biggest cluster: 74\n",
      "precision: 0.32432432432432434\n",
      "recall 1.0\n",
      "F1 0.489795918367347\n",
      "\n",
      "sense: round\n",
      "instances of sense: 14\n",
      "amount of correct instances: 0\n",
      "correct cluster number: No cluster\n",
      "total amount of points in biggest cluster: 0\n",
      "precision zero\n",
      "precision: 0\n",
      "recall 0.0\n",
      "F1 0\n",
      "\n",
      "sense: tower\n",
      "instances of sense: 6\n",
      "amount of correct instances: 0\n",
      "correct cluster number: No cluster\n",
      "total amount of points in biggest cluster: 0\n",
      "precision zero\n",
      "precision: 0\n",
      "recall 0.0\n",
      "F1 0\n",
      "\n",
      "\n",
      " Vol\n",
      "Number of senses: 2\n",
      "\n",
      "sense: theft\n",
      "instances of sense: 25\n",
      "amount of correct instances: 0\n",
      "correct cluster number: No cluster\n",
      "total amount of points in biggest cluster: 0\n",
      "precision zero\n",
      "precision: 0\n",
      "recall 0.0\n",
      "F1 0\n",
      "\n",
      "sense: flight\n",
      "instances of sense: 60\n",
      "amount of correct instances: 60\n",
      "correct cluster number: 0\n",
      "total amount of points in biggest cluster: 85\n",
      "precision: 0.7058823529411765\n",
      "recall 1.0\n",
      "F1 0.8275862068965518\n",
      "\n",
      "\n",
      " Avocat\n",
      "lawyer\n",
      "score: 0.8\n",
      "length of sense: 56\n",
      "total length: 84\n",
      "added weight: 0.6666666666666666 for a total of 0.6666666666666666\n",
      "F1 score after calc: 0.5333333333333333\n",
      "avocado\n",
      "score: 0\n",
      "length of sense: 28\n",
      "total length: 84\n",
      "added weight: 0.3333333333333333 for a total of 1.0\n",
      "F1 score after calc: 0.5333333333333333\n",
      "\n",
      "\n",
      " Bien\n",
      "property\n",
      "score: 0.6666666666666666\n",
      "length of sense: 49\n",
      "total length: 98\n",
      "added weight: 0.5 for a total of 0.5\n",
      "F1 score after calc: 0.3333333333333333\n",
      "wellbeing\n",
      "score: 0\n",
      "length of sense: 20\n",
      "total length: 98\n",
      "added weight: 0.20408163265306123 for a total of 0.7040816326530612\n",
      "F1 score after calc: 0.3333333333333333\n",
      "good\n",
      "score: 0\n",
      "length of sense: 29\n",
      "total length: 98\n",
      "added weight: 0.29591836734693877 for a total of 1.0\n",
      "F1 score after calc: 0.3333333333333333\n",
      "\n",
      "\n",
      " Bureau\n",
      "desk\n",
      "score: 0\n",
      "length of sense: 35\n",
      "total length: 103\n",
      "added weight: 0.33980582524271846 for a total of 0.33980582524271846\n",
      "F1 score after calc: 0.0\n",
      "cabinet\n",
      "score: 0\n",
      "length of sense: 14\n",
      "total length: 103\n",
      "added weight: 0.13592233009708737 for a total of 0.47572815533980584\n",
      "F1 score after calc: 0.0\n",
      "office\n",
      "score: 0.6878980891719745\n",
      "length of sense: 54\n",
      "total length: 103\n",
      "added weight: 0.5242718446601942 for a total of 1.0\n",
      "F1 score after calc: 0.3606456001484138\n",
      "\n",
      "\n",
      " Faculté\n",
      "university\n",
      "score: 0.6324786324786326\n",
      "length of sense: 37\n",
      "total length: 80\n",
      "added weight: 0.4625 for a total of 0.4625\n",
      "F1 score after calc: 0.2925213675213676\n",
      "competence\n",
      "score: 0\n",
      "length of sense: 28\n",
      "total length: 80\n",
      "added weight: 0.35 for a total of 0.8125\n",
      "F1 score after calc: 0.2925213675213676\n",
      "ability\n",
      "score: 0\n",
      "length of sense: 15\n",
      "total length: 80\n",
      "added weight: 0.1875 for a total of 1.0\n",
      "F1 score after calc: 0.2925213675213676\n",
      "\n",
      "\n",
      " Filer\n",
      "slip away\n",
      "score: 0.6573426573426573\n",
      "length of sense: 47\n",
      "total length: 96\n",
      "added weight: 0.4895833333333333 for a total of 0.4895833333333333\n",
      "F1 score after calc: 0.3218240093240093\n",
      "give\n",
      "score: 0\n",
      "length of sense: 29\n",
      "total length: 96\n",
      "added weight: 0.3020833333333333 for a total of 0.7916666666666666\n",
      "F1 score after calc: 0.3218240093240093\n",
      "spinning\n",
      "score: 0\n",
      "length of sense: 20\n",
      "total length: 96\n",
      "added weight: 0.20833333333333334 for a total of 1.0\n",
      "F1 score after calc: 0.3218240093240093\n",
      "\n",
      "\n",
      " Glace\n",
      "ice\n",
      "score: 0.6483516483516483\n",
      "length of sense: 59\n",
      "total length: 123\n",
      "added weight: 0.4796747967479675 for a total of 0.4796747967479675\n",
      "F1 score after calc: 0.3109979451442866\n",
      "ice cream\n",
      "score: 0\n",
      "length of sense: 20\n",
      "total length: 123\n",
      "added weight: 0.16260162601626016 for a total of 0.6422764227642277\n",
      "F1 score after calc: 0.3109979451442866\n",
      "glass\n",
      "score: 0\n",
      "length of sense: 9\n",
      "total length: 123\n",
      "added weight: 0.07317073170731707 for a total of 0.7154471544715447\n",
      "F1 score after calc: 0.3109979451442866\n",
      "mirror\n",
      "score: 0\n",
      "length of sense: 26\n",
      "total length: 123\n",
      "added weight: 0.21138211382113822 for a total of 0.926829268292683\n",
      "F1 score after calc: 0.3109979451442866\n",
      "powdered sugar\n",
      "score: 0\n",
      "length of sense: 9\n",
      "total length: 123\n",
      "added weight: 0.07317073170731707 for a total of 1.0\n",
      "F1 score after calc: 0.3109979451442866\n",
      "\n",
      "\n",
      " Souris\n",
      "bat\n",
      "score: 0\n",
      "length of sense: 10\n",
      "total length: 68\n",
      "added weight: 0.14705882352941177 for a total of 0.14705882352941177\n",
      "F1 score after calc: 0.0\n",
      "pointer\n",
      "score: 0\n",
      "length of sense: 27\n",
      "total length: 68\n",
      "added weight: 0.39705882352941174 for a total of 0.5441176470588235\n",
      "F1 score after calc: 0.0\n",
      "rodent\n",
      "score: 0.6262626262626263\n",
      "length of sense: 31\n",
      "total length: 68\n",
      "added weight: 0.45588235294117646 for a total of 1.0\n",
      "F1 score after calc: 0.2855020796197267\n",
      "\n",
      "\n",
      " Supporter\n",
      "endure\n",
      "score: 0.6746987951807228\n",
      "length of sense: 28\n",
      "total length: 55\n",
      "added weight: 0.509090909090909 for a total of 0.509090909090909\n",
      "F1 score after calc: 0.34348302300109523\n",
      "hold up\n",
      "score: 0\n",
      "length of sense: 15\n",
      "total length: 55\n",
      "added weight: 0.2727272727272727 for a total of 0.7818181818181817\n",
      "F1 score after calc: 0.34348302300109523\n",
      "fan\n",
      "score: 0\n",
      "length of sense: 12\n",
      "total length: 55\n",
      "added weight: 0.21818181818181817 for a total of 0.9999999999999999\n",
      "F1 score after calc: 0.34348302300109523\n",
      "\n",
      "\n",
      " Tirer\n",
      "shoot\n",
      "score: 0.8314606741573034\n",
      "length of sense: 74\n",
      "total length: 104\n",
      "added weight: 0.7115384615384616 for a total of 0.7115384615384616\n",
      "F1 score after calc: 0.5916162489196197\n",
      "pull\n",
      "score: 0\n",
      "length of sense: 30\n",
      "total length: 104\n",
      "added weight: 0.28846153846153844 for a total of 1.0\n",
      "F1 score after calc: 0.5916162489196197\n",
      "\n",
      "\n",
      " Tour\n",
      "lap\n",
      "score: 0\n",
      "length of sense: 16\n",
      "total length: 74\n",
      "added weight: 0.21621621621621623 for a total of 0.21621621621621623\n",
      "F1 score after calc: 0.0\n",
      "trick\n",
      "score: 0\n",
      "length of sense: 14\n",
      "total length: 74\n",
      "added weight: 0.1891891891891892 for a total of 0.40540540540540543\n",
      "F1 score after calc: 0.0\n",
      "turn\n",
      "score: 0.489795918367347\n",
      "length of sense: 24\n",
      "total length: 74\n",
      "added weight: 0.32432432432432434 for a total of 0.7297297297297298\n",
      "F1 score after calc: 0.15885273028130173\n",
      "round\n",
      "score: 0\n",
      "length of sense: 14\n",
      "total length: 74\n",
      "added weight: 0.1891891891891892 for a total of 0.9189189189189191\n",
      "F1 score after calc: 0.15885273028130173\n",
      "tower\n",
      "score: 0\n",
      "length of sense: 6\n",
      "total length: 74\n",
      "added weight: 0.08108108108108109 for a total of 1.0000000000000002\n",
      "F1 score after calc: 0.15885273028130173\n",
      "\n",
      "\n",
      " Vol\n",
      "theft\n",
      "score: 0\n",
      "length of sense: 25\n",
      "total length: 85\n",
      "added weight: 0.29411764705882354 for a total of 0.29411764705882354\n",
      "F1 score after calc: 0.0\n",
      "flight\n",
      "score: 0.8275862068965518\n",
      "length of sense: 60\n",
      "total length: 85\n",
      "added weight: 0.7058823529411765 for a total of 1.0\n",
      "F1 score after calc: 0.5841784989858013\n"
     ]
    }
   ],
   "source": [
    "# We will also calculate an F1 score for each word when no clustering takes place\n",
    "# We will make a copy of each dataframe and set the \"cluster\" column to 0 for all rows\n",
    "# We create a dictionary of dictionaries to save, for each sense, the ratings of its precision and recall\n",
    "all_scores_no_cluster = {}\n",
    "all_lengths_no_cluster = {}\n",
    "# In all further experiments, we keep working with the same dataset as in Experiment 1.\n",
    "for filename in os.listdir(f\"{model_name}/Experiment_1/Curated\"):\n",
    "    if filename.endswith(\".csv\"):\n",
    "        df_F1 = pd.read_csv(f\"{model_name}/Experiment_1/Curated/\" + filename, sep=\";\", encoding=\"utf-8\", header=0)\n",
    "\n",
    "\n",
    "        target_word = df_F1[\"source\"][1]\n",
    "        # We undo clustering: we set all clusters to 0\n",
    "        # The \"default\" (i.e. \"correct\" category is the most frequent sense)\n",
    "        df_F1[\"cluster\"] = 0\n",
    "        most_freq_sense = df_F1[\"sense\"].value_counts().idxmax()\n",
    "        df_F1[\"default\"] = [1 if sense == most_freq_sense else 0 for sense in df_F1[\"sense\"]]\n",
    "        print(\"\\n\\n\", target_word)\n",
    "        total_df_length = len(df_F1)\n",
    "        # We calculate the amount of different senses\n",
    "        senses = len(df_F1[\"sense\"].unique())\n",
    "        print(\"Number of senses:\", senses)\n",
    "        target_word_dictionary = {}\n",
    "        target_word_lengths = {}\n",
    "        target_word_lengths[\"total\"] = total_df_length\n",
    "        for sense in df_F1[\"sense\"].unique():\n",
    "            scores = {}\n",
    "            sense_df = df_F1[df_F1[\"sense\"] == sense]\n",
    "                    #precision: number of correct instances in a cluster / total cluster size\n",
    "                    # We calculate the amount of \"default\" instances\n",
    "            sense_len = len(sense_df)\n",
    "        \n",
    "            \n",
    "            correct_df = sense_df[sense_df[\"default\"] == True]\n",
    "            correct_len = len(correct_df)\n",
    "            if correct_len > 0:\n",
    "                correct_cluster = correct_df[\"cluster\"].iloc[0]\n",
    "            else:\n",
    "                correct_cluster = \"No cluster\"\n",
    "                \n",
    "            cluster_len = len(df_F1[df_F1[\"cluster\"] == correct_cluster])\n",
    "            print(\"\\nsense:\", sense)\n",
    "            print(\"instances of sense:\", sense_len)\n",
    "            print(\"amount of correct instances:\", correct_len)\n",
    "            print(\"correct cluster number:\", correct_cluster)\n",
    "            print(\"total amount of points in biggest cluster:\", cluster_len)\n",
    "            \n",
    "            if cluster_len > 0:  \n",
    "                precision = correct_len / cluster_len\n",
    "            else:\n",
    "                precision = 0\n",
    "                print(\"precision zero\")\n",
    "            recall = correct_len / sense_len\n",
    "            print(\"precision:\", precision)\n",
    "            print(\"recall\", recall)\n",
    "            \n",
    "            F1 = statistics.harmonic_mean((precision, recall))\n",
    "            print(\"F1\", F1)\n",
    "            \n",
    "            scores[\"precision\"] = precision\n",
    "            scores[\"recall\"] = recall\n",
    "            scores[\"F1\"] = F1\n",
    "            target_word_dictionary[sense] = scores\n",
    "            target_word_lengths[sense] = sense_len\n",
    "        all_scores_no_cluster[target_word] = target_word_dictionary\n",
    "        all_lengths_no_cluster[target_word] = target_word_lengths\n",
    "# Total F1: weighted average of the F1 scores of each gold standard sense\n",
    "# We calculate the weight for each sense of the dataframe (the amount of instances of this sense divided by the total amount of instances)\n",
    "# We make a dictionary F1_scores, in which each target word is associated with its F1 score\n",
    "F1_scores_no_cluster = {}\n",
    "for target_word in all_scores_no_cluster:\n",
    "    F1 = 0\n",
    "    weight = 0\n",
    "    print(\"\\n\\n\", target_word)\n",
    "    for sense in all_scores_no_cluster[target_word]:\n",
    "        score = all_scores_no_cluster[target_word][sense][\"F1\"]\n",
    "        print(sense)\n",
    "        print(\"score:\", score)\n",
    "        \n",
    "        len_sense = all_lengths_no_cluster[target_word][sense]\n",
    "        print(\"length of sense:\", len_sense)\n",
    "        \n",
    "        len_total = all_lengths_no_cluster[target_word][\"total\"]\n",
    "        print(\"total length:\", len_total)\n",
    "        added_weight = len_sense / len_total\n",
    "        weight += added_weight\n",
    "        print(\"added weight:\", added_weight, \"for a total of\", weight)\n",
    "        F1 += score * (len_sense / len_total)\n",
    "        print(\"F1 score after calc:\", F1)\n",
    "    F1_scores_no_cluster[target_word] = F1\n",
    "\n"
   ],
   "metadata": {
    "collapsed": false,
    "ExecuteTime": {
     "end_time": "2024-05-17T20:50:43.080623Z",
     "start_time": "2024-05-17T20:50:42.981858Z"
    }
   },
   "id": "85d4acb39dff1994",
   "execution_count": 44
  },
  {
   "cell_type": "code",
   "outputs": [
    {
     "name": "stdout",
     "output_type": "stream",
     "text": [
      "Nouns average of weighted scores: 0.38176513132096457\n",
      "Nouns average of overall scores: 0.5032613633766473\n",
      "Nouns average of all in one cluster scores: 0.5147473294527403\n",
      "Nouns average of v-measure cluster score: 0.15203072593166256\n",
      "Nouns average of rand score: 0.07069385580387882\n",
      "Nouns average of F1 scores: 0.42146940886226164\n",
      "Nouns average of F1 scores when no clustering takes place: 0.3574206110459456\n",
      "\n",
      "\n",
      "\n",
      "Verbs average of weighted scores: 0.5746393903482027\n",
      "Verbs average of overall scores: 0.6701388888888888\n",
      "Verbs average of all in one cluster scores: 0.5670405982905983\n",
      "Verbs average of v-measure cluster score: 0.30323259201636793\n",
      "Verbs average of rand score: 0.22137464429113674\n",
      "Verbs average of F1 scores: 0.6240837807293503\n",
      "Verbs average of F1 scores when no clustering takes place: 0.41897442708157473\n"
     ]
    }
   ],
   "source": [
    "Nouns = [\"Avocat\", \"Bien\", \"Bureau\", \"Faculté\", \"Glace\", \"Souris\", \"Tour\", \"Vol\"]\n",
    "Verbs = [\"Filer\", \"Supporter\", \"Tirer\"]\n",
    "\n",
    "nouns_average_weighted_BIC = np.mean([weighted_scores_BIC[noun] for noun in Nouns])\n",
    "nouns_average_overall_BIC = np.mean([overall_scores_BIC[noun] for noun in Nouns])\n",
    "nouns_average_all_in_one_BIC = np.mean([all_in_one_cluster_overall_scores_BIC[noun] for noun in Nouns])\n",
    "nouns_average_v_measure_BIC = np.mean([v_measure_scores_BIC[noun] for noun in Nouns])\n",
    "nouns_average_rand_BIC = np.mean([rand_scores_BIC[noun] for noun in Nouns])\n",
    "nouns_average_F1_BIC = np.mean([F1_scores_BIC[noun] for noun in Nouns])\n",
    "nouns_average_F1_no_cluster = np.mean([F1_scores_no_cluster[noun] for noun in Nouns])\n",
    "\n",
    "\n",
    "verbs_average_weighted_BIC = np.mean([weighted_scores_BIC[verb] for verb in Verbs])\n",
    "verbs_average_overall_BIC = np.mean([overall_scores_BIC[verb] for verb in Verbs])\n",
    "verbs_average_all_in_one_BIC = np.mean([all_in_one_cluster_overall_scores_BIC[verb] for verb in Verbs])\n",
    "verbs_average_v_measure_BIC = np.mean([v_measure_scores_BIC[verb] for verb in Verbs])\n",
    "verbs_average_rand_BIC = np.mean([rand_scores_BIC[verb] for verb in Verbs])\n",
    "verbs_average_F1_BIC = np.mean([F1_scores_BIC[verb] for verb in Verbs])\n",
    "verbs_average_F1_no_cluster = np.mean([F1_scores_no_cluster[verb] for verb in Verbs])\n",
    "\n",
    "print(\"Nouns average of weighted scores:\", nouns_average_weighted_BIC)\n",
    "print(\"Nouns average of overall scores:\", nouns_average_overall_BIC)\n",
    "print(\"Nouns average of all in one cluster scores:\", nouns_average_all_in_one_BIC)\n",
    "print(\"Nouns average of v-measure cluster score:\", nouns_average_v_measure_BIC)\n",
    "print(\"Nouns average of rand score:\", nouns_average_rand_BIC)\n",
    "print(\"Nouns average of F1 scores:\", nouns_average_F1_BIC)\n",
    "print(\"Nouns average of F1 scores when no clustering takes place:\", nouns_average_F1_no_cluster)\n",
    "print(\"\\n\\n\")\n",
    "print(\"Verbs average of weighted scores:\", verbs_average_weighted_BIC)\n",
    "print(\"Verbs average of overall scores:\", verbs_average_overall_BIC)\n",
    "print(\"Verbs average of all in one cluster scores:\", verbs_average_all_in_one_BIC)\n",
    "print(\"Verbs average of v-measure cluster score:\", verbs_average_v_measure_BIC)\n",
    "print(\"Verbs average of rand score:\", verbs_average_rand_BIC)\n",
    "print(\"Verbs average of F1 scores:\", verbs_average_F1_BIC)\n",
    "print(\"Verbs average of F1 scores when no clustering takes place:\", verbs_average_F1_no_cluster)\n"
   ],
   "metadata": {
    "collapsed": false,
    "ExecuteTime": {
     "end_time": "2024-05-17T20:50:44.153124Z",
     "start_time": "2024-05-17T20:50:44.141545Z"
    }
   },
   "id": "3507c676a868db20",
   "execution_count": 45
  },
  {
   "cell_type": "code",
   "outputs": [],
   "source": [
    "# We create a dataframe from the dictionaries to eventually save the results to a csv file\n",
    "df_BIC = pd.DataFrame.from_dict(weighted_scores_BIC, orient=\"index\", columns=[\"Weighted\"])\n",
    "df_BIC[\"Overall\"] = overall_scores_BIC.values()\n",
    "df_BIC[\"V_measure\"] = v_measure_scores_BIC.values()\n",
    "df_BIC[\"Rand\"] = rand_scores_BIC.values()\n",
    "df_BIC[\"F1\"] = [F1_scores_BIC[word] for word in df_BIC.index]\n",
    "\n",
    "df_BIC[\"Type\"] = [\"Noun\" if word in Nouns else \"Verb\" for word in df_BIC.index]\n",
    "df_BIC[\"Amount_senses\"] = amount_senses.values()\n",
    "# We add a \"F1\" column to the dataframe\n",
    "\n",
    "# We also create a separate file for the all in one cluster scores\n",
    "df_all_in_one_BIC = pd.DataFrame.from_dict(all_in_one_cluster_overall_scores_BIC, orient=\"index\", columns=[\"Overall_no_cluster\"])\n",
    "df_all_in_one_BIC[\"F1_no_cluster\"] = [F1_scores_no_cluster[word] for word in df_all_in_one_BIC.index]\n",
    "df_all_in_one_BIC[\"Type\"] = [\"Noun\" if word in Nouns else \"Verb\" for word in df_all_in_one_BIC.index]\n",
    "\n",
    "# We add a row 'Average' to the dataframes\n",
    "df_with_average_BIC = df_BIC.copy()\n",
    "df_with_average_BIC.loc[\"Average_nouns\"] = [nouns_average_weighted_BIC, nouns_average_overall_BIC, nouns_average_v_measure_BIC, nouns_average_rand_BIC, nouns_average_F1_BIC, \"\", \"\"]\n",
    "df_with_average_BIC.loc[\"Average_verbs\"] = [verbs_average_weighted_BIC, verbs_average_overall_BIC, verbs_average_v_measure_BIC, verbs_average_rand_BIC, verbs_average_F1_BIC, \"\", \"\"]\n",
    "df_with_average_BIC.loc[\"Global_average\"] = [df_BIC[\"Weighted\"].mean(), df_BIC[\"Overall\"].mean(), df_BIC[\"V_measure\"].mean(), df_BIC[\"Rand\"].mean(), df_BIC[\"F1\"].mean(), \"\", \"\"] #use the og file, no account of averages\n",
    "\n",
    "\n",
    "# As we don't make a copy, we have to calculate the mean before adding the other averages!\n",
    "df_all_in_one_BIC.loc[\"Global_average\"] = [df_all_in_one_BIC[\"Overall_no_cluster\"].mean(), df_all_in_one_BIC[\"F1_no_cluster\"].mean(), \"\",] \n",
    "df_all_in_one_BIC.loc[\"Average_nouns\"] = [nouns_average_all_in_one_BIC, nouns_average_F1_no_cluster,\"\"]\n",
    "df_all_in_one_BIC.loc[\"Average_verbs\"] = [verbs_average_all_in_one_BIC, verbs_average_F1_no_cluster,\"\"]\n"
   ],
   "metadata": {
    "collapsed": false,
    "ExecuteTime": {
     "end_time": "2024-05-17T20:50:45.021730Z",
     "start_time": "2024-05-17T20:50:45.002474Z"
    }
   },
   "id": "a98b3a7b755b962a",
   "execution_count": 46
  },
  {
   "cell_type": "code",
   "outputs": [
    {
     "data": {
      "application/vnd.plotly.v1+json": {
       "data": [
        {
         "hovertemplate": "Type=Noun<br>Weighted=%{x}<br>Overall=%{y}<br>index=%{text}<extra></extra>",
         "legendgroup": "Noun",
         "marker": {
          "color": "#636efa",
          "symbol": "circle"
         },
         "mode": "markers+text",
         "name": "Noun",
         "orientation": "v",
         "showlegend": true,
         "text": [
          "Avocat",
          "Bien",
          "Bureau",
          "Faculté",
          "Glace",
          "Souris",
          "Tour",
          "Vol"
         ],
         "x": [
          0.41534391534391535,
          0.34625850340136055,
          0.4128747795414462,
          0.47987987987987984,
          0.23055193394176446,
          0.334926324173636,
          0.21428571428571427,
          0.62
         ],
         "xaxis": "x",
         "y": [
          0.46987951807228917,
          0.4897959183673469,
          0.6019417475728155,
          0.5375,
          0.36585365853658536,
          0.45588235294117646,
          0.3287671232876712,
          0.7764705882352941
         ],
         "yaxis": "y",
         "type": "scatter"
        },
        {
         "hovertemplate": "Type=Verb<br>Weighted=%{x}<br>Overall=%{y}<br>index=%{text}<extra></extra>",
         "legendgroup": "Verb",
         "marker": {
          "color": "#EF553B",
          "symbol": "circle"
         },
         "mode": "markers+text",
         "name": "Verb",
         "orientation": "v",
         "showlegend": true,
         "text": [
          "Filer",
          "Supporter",
          "Tirer"
         ],
         "x": [
          0.7149425287356322,
          0.3432098765432099,
          0.6657657657657658
         ],
         "xaxis": "x",
         "y": [
          0.7604166666666666,
          0.5,
          0.75
         ],
         "yaxis": "y",
         "type": "scatter"
        }
       ],
       "layout": {
        "template": {
         "data": {
          "barpolar": [
           {
            "marker": {
             "line": {
              "color": "white",
              "width": 0.5
             },
             "pattern": {
              "fillmode": "overlay",
              "size": 10,
              "solidity": 0.2
             }
            },
            "type": "barpolar"
           }
          ],
          "bar": [
           {
            "error_x": {
             "color": "#2a3f5f"
            },
            "error_y": {
             "color": "#2a3f5f"
            },
            "marker": {
             "line": {
              "color": "white",
              "width": 0.5
             },
             "pattern": {
              "fillmode": "overlay",
              "size": 10,
              "solidity": 0.2
             }
            },
            "type": "bar"
           }
          ],
          "carpet": [
           {
            "aaxis": {
             "endlinecolor": "#2a3f5f",
             "gridcolor": "#C8D4E3",
             "linecolor": "#C8D4E3",
             "minorgridcolor": "#C8D4E3",
             "startlinecolor": "#2a3f5f"
            },
            "baxis": {
             "endlinecolor": "#2a3f5f",
             "gridcolor": "#C8D4E3",
             "linecolor": "#C8D4E3",
             "minorgridcolor": "#C8D4E3",
             "startlinecolor": "#2a3f5f"
            },
            "type": "carpet"
           }
          ],
          "choropleth": [
           {
            "colorbar": {
             "outlinewidth": 0,
             "ticks": ""
            },
            "type": "choropleth"
           }
          ],
          "contourcarpet": [
           {
            "colorbar": {
             "outlinewidth": 0,
             "ticks": ""
            },
            "type": "contourcarpet"
           }
          ],
          "contour": [
           {
            "colorbar": {
             "outlinewidth": 0,
             "ticks": ""
            },
            "colorscale": [
             [
              0.0,
              "#0d0887"
             ],
             [
              0.1111111111111111,
              "#46039f"
             ],
             [
              0.2222222222222222,
              "#7201a8"
             ],
             [
              0.3333333333333333,
              "#9c179e"
             ],
             [
              0.4444444444444444,
              "#bd3786"
             ],
             [
              0.5555555555555556,
              "#d8576b"
             ],
             [
              0.6666666666666666,
              "#ed7953"
             ],
             [
              0.7777777777777778,
              "#fb9f3a"
             ],
             [
              0.8888888888888888,
              "#fdca26"
             ],
             [
              1.0,
              "#f0f921"
             ]
            ],
            "type": "contour"
           }
          ],
          "heatmapgl": [
           {
            "colorbar": {
             "outlinewidth": 0,
             "ticks": ""
            },
            "colorscale": [
             [
              0.0,
              "#0d0887"
             ],
             [
              0.1111111111111111,
              "#46039f"
             ],
             [
              0.2222222222222222,
              "#7201a8"
             ],
             [
              0.3333333333333333,
              "#9c179e"
             ],
             [
              0.4444444444444444,
              "#bd3786"
             ],
             [
              0.5555555555555556,
              "#d8576b"
             ],
             [
              0.6666666666666666,
              "#ed7953"
             ],
             [
              0.7777777777777778,
              "#fb9f3a"
             ],
             [
              0.8888888888888888,
              "#fdca26"
             ],
             [
              1.0,
              "#f0f921"
             ]
            ],
            "type": "heatmapgl"
           }
          ],
          "heatmap": [
           {
            "colorbar": {
             "outlinewidth": 0,
             "ticks": ""
            },
            "colorscale": [
             [
              0.0,
              "#0d0887"
             ],
             [
              0.1111111111111111,
              "#46039f"
             ],
             [
              0.2222222222222222,
              "#7201a8"
             ],
             [
              0.3333333333333333,
              "#9c179e"
             ],
             [
              0.4444444444444444,
              "#bd3786"
             ],
             [
              0.5555555555555556,
              "#d8576b"
             ],
             [
              0.6666666666666666,
              "#ed7953"
             ],
             [
              0.7777777777777778,
              "#fb9f3a"
             ],
             [
              0.8888888888888888,
              "#fdca26"
             ],
             [
              1.0,
              "#f0f921"
             ]
            ],
            "type": "heatmap"
           }
          ],
          "histogram2dcontour": [
           {
            "colorbar": {
             "outlinewidth": 0,
             "ticks": ""
            },
            "colorscale": [
             [
              0.0,
              "#0d0887"
             ],
             [
              0.1111111111111111,
              "#46039f"
             ],
             [
              0.2222222222222222,
              "#7201a8"
             ],
             [
              0.3333333333333333,
              "#9c179e"
             ],
             [
              0.4444444444444444,
              "#bd3786"
             ],
             [
              0.5555555555555556,
              "#d8576b"
             ],
             [
              0.6666666666666666,
              "#ed7953"
             ],
             [
              0.7777777777777778,
              "#fb9f3a"
             ],
             [
              0.8888888888888888,
              "#fdca26"
             ],
             [
              1.0,
              "#f0f921"
             ]
            ],
            "type": "histogram2dcontour"
           }
          ],
          "histogram2d": [
           {
            "colorbar": {
             "outlinewidth": 0,
             "ticks": ""
            },
            "colorscale": [
             [
              0.0,
              "#0d0887"
             ],
             [
              0.1111111111111111,
              "#46039f"
             ],
             [
              0.2222222222222222,
              "#7201a8"
             ],
             [
              0.3333333333333333,
              "#9c179e"
             ],
             [
              0.4444444444444444,
              "#bd3786"
             ],
             [
              0.5555555555555556,
              "#d8576b"
             ],
             [
              0.6666666666666666,
              "#ed7953"
             ],
             [
              0.7777777777777778,
              "#fb9f3a"
             ],
             [
              0.8888888888888888,
              "#fdca26"
             ],
             [
              1.0,
              "#f0f921"
             ]
            ],
            "type": "histogram2d"
           }
          ],
          "histogram": [
           {
            "marker": {
             "pattern": {
              "fillmode": "overlay",
              "size": 10,
              "solidity": 0.2
             }
            },
            "type": "histogram"
           }
          ],
          "mesh3d": [
           {
            "colorbar": {
             "outlinewidth": 0,
             "ticks": ""
            },
            "type": "mesh3d"
           }
          ],
          "parcoords": [
           {
            "line": {
             "colorbar": {
              "outlinewidth": 0,
              "ticks": ""
             }
            },
            "type": "parcoords"
           }
          ],
          "pie": [
           {
            "automargin": true,
            "type": "pie"
           }
          ],
          "scatter3d": [
           {
            "line": {
             "colorbar": {
              "outlinewidth": 0,
              "ticks": ""
             }
            },
            "marker": {
             "colorbar": {
              "outlinewidth": 0,
              "ticks": ""
             }
            },
            "type": "scatter3d"
           }
          ],
          "scattercarpet": [
           {
            "marker": {
             "colorbar": {
              "outlinewidth": 0,
              "ticks": ""
             }
            },
            "type": "scattercarpet"
           }
          ],
          "scattergeo": [
           {
            "marker": {
             "colorbar": {
              "outlinewidth": 0,
              "ticks": ""
             }
            },
            "type": "scattergeo"
           }
          ],
          "scattergl": [
           {
            "marker": {
             "colorbar": {
              "outlinewidth": 0,
              "ticks": ""
             }
            },
            "type": "scattergl"
           }
          ],
          "scattermapbox": [
           {
            "marker": {
             "colorbar": {
              "outlinewidth": 0,
              "ticks": ""
             }
            },
            "type": "scattermapbox"
           }
          ],
          "scatterpolargl": [
           {
            "marker": {
             "colorbar": {
              "outlinewidth": 0,
              "ticks": ""
             }
            },
            "type": "scatterpolargl"
           }
          ],
          "scatterpolar": [
           {
            "marker": {
             "colorbar": {
              "outlinewidth": 0,
              "ticks": ""
             }
            },
            "type": "scatterpolar"
           }
          ],
          "scatter": [
           {
            "fillpattern": {
             "fillmode": "overlay",
             "size": 10,
             "solidity": 0.2
            },
            "type": "scatter"
           }
          ],
          "scatterternary": [
           {
            "marker": {
             "colorbar": {
              "outlinewidth": 0,
              "ticks": ""
             }
            },
            "type": "scatterternary"
           }
          ],
          "surface": [
           {
            "colorbar": {
             "outlinewidth": 0,
             "ticks": ""
            },
            "colorscale": [
             [
              0.0,
              "#0d0887"
             ],
             [
              0.1111111111111111,
              "#46039f"
             ],
             [
              0.2222222222222222,
              "#7201a8"
             ],
             [
              0.3333333333333333,
              "#9c179e"
             ],
             [
              0.4444444444444444,
              "#bd3786"
             ],
             [
              0.5555555555555556,
              "#d8576b"
             ],
             [
              0.6666666666666666,
              "#ed7953"
             ],
             [
              0.7777777777777778,
              "#fb9f3a"
             ],
             [
              0.8888888888888888,
              "#fdca26"
             ],
             [
              1.0,
              "#f0f921"
             ]
            ],
            "type": "surface"
           }
          ],
          "table": [
           {
            "cells": {
             "fill": {
              "color": "#EBF0F8"
             },
             "line": {
              "color": "white"
             }
            },
            "header": {
             "fill": {
              "color": "#C8D4E3"
             },
             "line": {
              "color": "white"
             }
            },
            "type": "table"
           }
          ]
         },
         "layout": {
          "annotationdefaults": {
           "arrowcolor": "#2a3f5f",
           "arrowhead": 0,
           "arrowwidth": 1
          },
          "autotypenumbers": "strict",
          "coloraxis": {
           "colorbar": {
            "outlinewidth": 0,
            "ticks": ""
           }
          },
          "colorscale": {
           "diverging": [
            [
             0,
             "#8e0152"
            ],
            [
             0.1,
             "#c51b7d"
            ],
            [
             0.2,
             "#de77ae"
            ],
            [
             0.3,
             "#f1b6da"
            ],
            [
             0.4,
             "#fde0ef"
            ],
            [
             0.5,
             "#f7f7f7"
            ],
            [
             0.6,
             "#e6f5d0"
            ],
            [
             0.7,
             "#b8e186"
            ],
            [
             0.8,
             "#7fbc41"
            ],
            [
             0.9,
             "#4d9221"
            ],
            [
             1,
             "#276419"
            ]
           ],
           "sequential": [
            [
             0.0,
             "#0d0887"
            ],
            [
             0.1111111111111111,
             "#46039f"
            ],
            [
             0.2222222222222222,
             "#7201a8"
            ],
            [
             0.3333333333333333,
             "#9c179e"
            ],
            [
             0.4444444444444444,
             "#bd3786"
            ],
            [
             0.5555555555555556,
             "#d8576b"
            ],
            [
             0.6666666666666666,
             "#ed7953"
            ],
            [
             0.7777777777777778,
             "#fb9f3a"
            ],
            [
             0.8888888888888888,
             "#fdca26"
            ],
            [
             1.0,
             "#f0f921"
            ]
           ],
           "sequentialminus": [
            [
             0.0,
             "#0d0887"
            ],
            [
             0.1111111111111111,
             "#46039f"
            ],
            [
             0.2222222222222222,
             "#7201a8"
            ],
            [
             0.3333333333333333,
             "#9c179e"
            ],
            [
             0.4444444444444444,
             "#bd3786"
            ],
            [
             0.5555555555555556,
             "#d8576b"
            ],
            [
             0.6666666666666666,
             "#ed7953"
            ],
            [
             0.7777777777777778,
             "#fb9f3a"
            ],
            [
             0.8888888888888888,
             "#fdca26"
            ],
            [
             1.0,
             "#f0f921"
            ]
           ]
          },
          "colorway": [
           "#636efa",
           "#EF553B",
           "#00cc96",
           "#ab63fa",
           "#FFA15A",
           "#19d3f3",
           "#FF6692",
           "#B6E880",
           "#FF97FF",
           "#FECB52"
          ],
          "font": {
           "color": "#2a3f5f"
          },
          "geo": {
           "bgcolor": "white",
           "lakecolor": "white",
           "landcolor": "white",
           "showlakes": true,
           "showland": true,
           "subunitcolor": "#C8D4E3"
          },
          "hoverlabel": {
           "align": "left"
          },
          "hovermode": "closest",
          "mapbox": {
           "style": "light"
          },
          "paper_bgcolor": "white",
          "plot_bgcolor": "white",
          "polar": {
           "angularaxis": {
            "gridcolor": "#EBF0F8",
            "linecolor": "#EBF0F8",
            "ticks": ""
           },
           "bgcolor": "white",
           "radialaxis": {
            "gridcolor": "#EBF0F8",
            "linecolor": "#EBF0F8",
            "ticks": ""
           }
          },
          "scene": {
           "xaxis": {
            "backgroundcolor": "white",
            "gridcolor": "#DFE8F3",
            "gridwidth": 2,
            "linecolor": "#EBF0F8",
            "showbackground": true,
            "ticks": "",
            "zerolinecolor": "#EBF0F8"
           },
           "yaxis": {
            "backgroundcolor": "white",
            "gridcolor": "#DFE8F3",
            "gridwidth": 2,
            "linecolor": "#EBF0F8",
            "showbackground": true,
            "ticks": "",
            "zerolinecolor": "#EBF0F8"
           },
           "zaxis": {
            "backgroundcolor": "white",
            "gridcolor": "#DFE8F3",
            "gridwidth": 2,
            "linecolor": "#EBF0F8",
            "showbackground": true,
            "ticks": "",
            "zerolinecolor": "#EBF0F8"
           }
          },
          "shapedefaults": {
           "line": {
            "color": "#2a3f5f"
           }
          },
          "ternary": {
           "aaxis": {
            "gridcolor": "#DFE8F3",
            "linecolor": "#A2B1C6",
            "ticks": ""
           },
           "baxis": {
            "gridcolor": "#DFE8F3",
            "linecolor": "#A2B1C6",
            "ticks": ""
           },
           "bgcolor": "white",
           "caxis": {
            "gridcolor": "#DFE8F3",
            "linecolor": "#A2B1C6",
            "ticks": ""
           }
          },
          "title": {
           "x": 0.05
          },
          "xaxis": {
           "automargin": true,
           "gridcolor": "#EBF0F8",
           "linecolor": "#EBF0F8",
           "ticks": "",
           "title": {
            "standoff": 15
           },
           "zerolinecolor": "#EBF0F8",
           "zerolinewidth": 2
          },
          "yaxis": {
           "automargin": true,
           "gridcolor": "#EBF0F8",
           "linecolor": "#EBF0F8",
           "ticks": "",
           "title": {
            "standoff": 15
           },
           "zerolinecolor": "#EBF0F8",
           "zerolinewidth": 2
          }
         }
        },
        "xaxis": {
         "anchor": "y",
         "domain": [
          0.0,
          1.0
         ],
         "title": {
          "text": "Weighted"
         }
        },
        "yaxis": {
         "anchor": "x",
         "domain": [
          0.0,
          1.0
         ],
         "title": {
          "text": "Overall"
         }
        },
        "legend": {
         "title": {
          "text": "Type"
         },
         "tracegroupgap": 0
        },
        "title": {
         "text": "Scores for each word, op een manier die weinig zegt eigenlijk"
        }
       },
       "config": {
        "plotlyServerURL": "https://plot.ly"
       }
      },
      "text/html": "<div>                            <div id=\"e627a069-c01e-4ce8-b244-2cce41ce2092\" class=\"plotly-graph-div\" style=\"height:525px; width:100%;\"></div>            <script type=\"text/javascript\">                require([\"plotly\"], function(Plotly) {                    window.PLOTLYENV=window.PLOTLYENV || {};                                    if (document.getElementById(\"e627a069-c01e-4ce8-b244-2cce41ce2092\")) {                    Plotly.newPlot(                        \"e627a069-c01e-4ce8-b244-2cce41ce2092\",                        [{\"hovertemplate\":\"Type=Noun\\u003cbr\\u003eWeighted=%{x}\\u003cbr\\u003eOverall=%{y}\\u003cbr\\u003eindex=%{text}\\u003cextra\\u003e\\u003c\\u002fextra\\u003e\",\"legendgroup\":\"Noun\",\"marker\":{\"color\":\"#636efa\",\"symbol\":\"circle\"},\"mode\":\"markers+text\",\"name\":\"Noun\",\"orientation\":\"v\",\"showlegend\":true,\"text\":[\"Avocat\",\"Bien\",\"Bureau\",\"Facult\\u00e9\",\"Glace\",\"Souris\",\"Tour\",\"Vol\"],\"x\":[0.41534391534391535,0.34625850340136055,0.4128747795414462,0.47987987987987984,0.23055193394176446,0.334926324173636,0.21428571428571427,0.62],\"xaxis\":\"x\",\"y\":[0.46987951807228917,0.4897959183673469,0.6019417475728155,0.5375,0.36585365853658536,0.45588235294117646,0.3287671232876712,0.7764705882352941],\"yaxis\":\"y\",\"type\":\"scatter\"},{\"hovertemplate\":\"Type=Verb\\u003cbr\\u003eWeighted=%{x}\\u003cbr\\u003eOverall=%{y}\\u003cbr\\u003eindex=%{text}\\u003cextra\\u003e\\u003c\\u002fextra\\u003e\",\"legendgroup\":\"Verb\",\"marker\":{\"color\":\"#EF553B\",\"symbol\":\"circle\"},\"mode\":\"markers+text\",\"name\":\"Verb\",\"orientation\":\"v\",\"showlegend\":true,\"text\":[\"Filer\",\"Supporter\",\"Tirer\"],\"x\":[0.7149425287356322,0.3432098765432099,0.6657657657657658],\"xaxis\":\"x\",\"y\":[0.7604166666666666,0.5,0.75],\"yaxis\":\"y\",\"type\":\"scatter\"}],                        {\"template\":{\"data\":{\"barpolar\":[{\"marker\":{\"line\":{\"color\":\"white\",\"width\":0.5},\"pattern\":{\"fillmode\":\"overlay\",\"size\":10,\"solidity\":0.2}},\"type\":\"barpolar\"}],\"bar\":[{\"error_x\":{\"color\":\"#2a3f5f\"},\"error_y\":{\"color\":\"#2a3f5f\"},\"marker\":{\"line\":{\"color\":\"white\",\"width\":0.5},\"pattern\":{\"fillmode\":\"overlay\",\"size\":10,\"solidity\":0.2}},\"type\":\"bar\"}],\"carpet\":[{\"aaxis\":{\"endlinecolor\":\"#2a3f5f\",\"gridcolor\":\"#C8D4E3\",\"linecolor\":\"#C8D4E3\",\"minorgridcolor\":\"#C8D4E3\",\"startlinecolor\":\"#2a3f5f\"},\"baxis\":{\"endlinecolor\":\"#2a3f5f\",\"gridcolor\":\"#C8D4E3\",\"linecolor\":\"#C8D4E3\",\"minorgridcolor\":\"#C8D4E3\",\"startlinecolor\":\"#2a3f5f\"},\"type\":\"carpet\"}],\"choropleth\":[{\"colorbar\":{\"outlinewidth\":0,\"ticks\":\"\"},\"type\":\"choropleth\"}],\"contourcarpet\":[{\"colorbar\":{\"outlinewidth\":0,\"ticks\":\"\"},\"type\":\"contourcarpet\"}],\"contour\":[{\"colorbar\":{\"outlinewidth\":0,\"ticks\":\"\"},\"colorscale\":[[0.0,\"#0d0887\"],[0.1111111111111111,\"#46039f\"],[0.2222222222222222,\"#7201a8\"],[0.3333333333333333,\"#9c179e\"],[0.4444444444444444,\"#bd3786\"],[0.5555555555555556,\"#d8576b\"],[0.6666666666666666,\"#ed7953\"],[0.7777777777777778,\"#fb9f3a\"],[0.8888888888888888,\"#fdca26\"],[1.0,\"#f0f921\"]],\"type\":\"contour\"}],\"heatmapgl\":[{\"colorbar\":{\"outlinewidth\":0,\"ticks\":\"\"},\"colorscale\":[[0.0,\"#0d0887\"],[0.1111111111111111,\"#46039f\"],[0.2222222222222222,\"#7201a8\"],[0.3333333333333333,\"#9c179e\"],[0.4444444444444444,\"#bd3786\"],[0.5555555555555556,\"#d8576b\"],[0.6666666666666666,\"#ed7953\"],[0.7777777777777778,\"#fb9f3a\"],[0.8888888888888888,\"#fdca26\"],[1.0,\"#f0f921\"]],\"type\":\"heatmapgl\"}],\"heatmap\":[{\"colorbar\":{\"outlinewidth\":0,\"ticks\":\"\"},\"colorscale\":[[0.0,\"#0d0887\"],[0.1111111111111111,\"#46039f\"],[0.2222222222222222,\"#7201a8\"],[0.3333333333333333,\"#9c179e\"],[0.4444444444444444,\"#bd3786\"],[0.5555555555555556,\"#d8576b\"],[0.6666666666666666,\"#ed7953\"],[0.7777777777777778,\"#fb9f3a\"],[0.8888888888888888,\"#fdca26\"],[1.0,\"#f0f921\"]],\"type\":\"heatmap\"}],\"histogram2dcontour\":[{\"colorbar\":{\"outlinewidth\":0,\"ticks\":\"\"},\"colorscale\":[[0.0,\"#0d0887\"],[0.1111111111111111,\"#46039f\"],[0.2222222222222222,\"#7201a8\"],[0.3333333333333333,\"#9c179e\"],[0.4444444444444444,\"#bd3786\"],[0.5555555555555556,\"#d8576b\"],[0.6666666666666666,\"#ed7953\"],[0.7777777777777778,\"#fb9f3a\"],[0.8888888888888888,\"#fdca26\"],[1.0,\"#f0f921\"]],\"type\":\"histogram2dcontour\"}],\"histogram2d\":[{\"colorbar\":{\"outlinewidth\":0,\"ticks\":\"\"},\"colorscale\":[[0.0,\"#0d0887\"],[0.1111111111111111,\"#46039f\"],[0.2222222222222222,\"#7201a8\"],[0.3333333333333333,\"#9c179e\"],[0.4444444444444444,\"#bd3786\"],[0.5555555555555556,\"#d8576b\"],[0.6666666666666666,\"#ed7953\"],[0.7777777777777778,\"#fb9f3a\"],[0.8888888888888888,\"#fdca26\"],[1.0,\"#f0f921\"]],\"type\":\"histogram2d\"}],\"histogram\":[{\"marker\":{\"pattern\":{\"fillmode\":\"overlay\",\"size\":10,\"solidity\":0.2}},\"type\":\"histogram\"}],\"mesh3d\":[{\"colorbar\":{\"outlinewidth\":0,\"ticks\":\"\"},\"type\":\"mesh3d\"}],\"parcoords\":[{\"line\":{\"colorbar\":{\"outlinewidth\":0,\"ticks\":\"\"}},\"type\":\"parcoords\"}],\"pie\":[{\"automargin\":true,\"type\":\"pie\"}],\"scatter3d\":[{\"line\":{\"colorbar\":{\"outlinewidth\":0,\"ticks\":\"\"}},\"marker\":{\"colorbar\":{\"outlinewidth\":0,\"ticks\":\"\"}},\"type\":\"scatter3d\"}],\"scattercarpet\":[{\"marker\":{\"colorbar\":{\"outlinewidth\":0,\"ticks\":\"\"}},\"type\":\"scattercarpet\"}],\"scattergeo\":[{\"marker\":{\"colorbar\":{\"outlinewidth\":0,\"ticks\":\"\"}},\"type\":\"scattergeo\"}],\"scattergl\":[{\"marker\":{\"colorbar\":{\"outlinewidth\":0,\"ticks\":\"\"}},\"type\":\"scattergl\"}],\"scattermapbox\":[{\"marker\":{\"colorbar\":{\"outlinewidth\":0,\"ticks\":\"\"}},\"type\":\"scattermapbox\"}],\"scatterpolargl\":[{\"marker\":{\"colorbar\":{\"outlinewidth\":0,\"ticks\":\"\"}},\"type\":\"scatterpolargl\"}],\"scatterpolar\":[{\"marker\":{\"colorbar\":{\"outlinewidth\":0,\"ticks\":\"\"}},\"type\":\"scatterpolar\"}],\"scatter\":[{\"fillpattern\":{\"fillmode\":\"overlay\",\"size\":10,\"solidity\":0.2},\"type\":\"scatter\"}],\"scatterternary\":[{\"marker\":{\"colorbar\":{\"outlinewidth\":0,\"ticks\":\"\"}},\"type\":\"scatterternary\"}],\"surface\":[{\"colorbar\":{\"outlinewidth\":0,\"ticks\":\"\"},\"colorscale\":[[0.0,\"#0d0887\"],[0.1111111111111111,\"#46039f\"],[0.2222222222222222,\"#7201a8\"],[0.3333333333333333,\"#9c179e\"],[0.4444444444444444,\"#bd3786\"],[0.5555555555555556,\"#d8576b\"],[0.6666666666666666,\"#ed7953\"],[0.7777777777777778,\"#fb9f3a\"],[0.8888888888888888,\"#fdca26\"],[1.0,\"#f0f921\"]],\"type\":\"surface\"}],\"table\":[{\"cells\":{\"fill\":{\"color\":\"#EBF0F8\"},\"line\":{\"color\":\"white\"}},\"header\":{\"fill\":{\"color\":\"#C8D4E3\"},\"line\":{\"color\":\"white\"}},\"type\":\"table\"}]},\"layout\":{\"annotationdefaults\":{\"arrowcolor\":\"#2a3f5f\",\"arrowhead\":0,\"arrowwidth\":1},\"autotypenumbers\":\"strict\",\"coloraxis\":{\"colorbar\":{\"outlinewidth\":0,\"ticks\":\"\"}},\"colorscale\":{\"diverging\":[[0,\"#8e0152\"],[0.1,\"#c51b7d\"],[0.2,\"#de77ae\"],[0.3,\"#f1b6da\"],[0.4,\"#fde0ef\"],[0.5,\"#f7f7f7\"],[0.6,\"#e6f5d0\"],[0.7,\"#b8e186\"],[0.8,\"#7fbc41\"],[0.9,\"#4d9221\"],[1,\"#276419\"]],\"sequential\":[[0.0,\"#0d0887\"],[0.1111111111111111,\"#46039f\"],[0.2222222222222222,\"#7201a8\"],[0.3333333333333333,\"#9c179e\"],[0.4444444444444444,\"#bd3786\"],[0.5555555555555556,\"#d8576b\"],[0.6666666666666666,\"#ed7953\"],[0.7777777777777778,\"#fb9f3a\"],[0.8888888888888888,\"#fdca26\"],[1.0,\"#f0f921\"]],\"sequentialminus\":[[0.0,\"#0d0887\"],[0.1111111111111111,\"#46039f\"],[0.2222222222222222,\"#7201a8\"],[0.3333333333333333,\"#9c179e\"],[0.4444444444444444,\"#bd3786\"],[0.5555555555555556,\"#d8576b\"],[0.6666666666666666,\"#ed7953\"],[0.7777777777777778,\"#fb9f3a\"],[0.8888888888888888,\"#fdca26\"],[1.0,\"#f0f921\"]]},\"colorway\":[\"#636efa\",\"#EF553B\",\"#00cc96\",\"#ab63fa\",\"#FFA15A\",\"#19d3f3\",\"#FF6692\",\"#B6E880\",\"#FF97FF\",\"#FECB52\"],\"font\":{\"color\":\"#2a3f5f\"},\"geo\":{\"bgcolor\":\"white\",\"lakecolor\":\"white\",\"landcolor\":\"white\",\"showlakes\":true,\"showland\":true,\"subunitcolor\":\"#C8D4E3\"},\"hoverlabel\":{\"align\":\"left\"},\"hovermode\":\"closest\",\"mapbox\":{\"style\":\"light\"},\"paper_bgcolor\":\"white\",\"plot_bgcolor\":\"white\",\"polar\":{\"angularaxis\":{\"gridcolor\":\"#EBF0F8\",\"linecolor\":\"#EBF0F8\",\"ticks\":\"\"},\"bgcolor\":\"white\",\"radialaxis\":{\"gridcolor\":\"#EBF0F8\",\"linecolor\":\"#EBF0F8\",\"ticks\":\"\"}},\"scene\":{\"xaxis\":{\"backgroundcolor\":\"white\",\"gridcolor\":\"#DFE8F3\",\"gridwidth\":2,\"linecolor\":\"#EBF0F8\",\"showbackground\":true,\"ticks\":\"\",\"zerolinecolor\":\"#EBF0F8\"},\"yaxis\":{\"backgroundcolor\":\"white\",\"gridcolor\":\"#DFE8F3\",\"gridwidth\":2,\"linecolor\":\"#EBF0F8\",\"showbackground\":true,\"ticks\":\"\",\"zerolinecolor\":\"#EBF0F8\"},\"zaxis\":{\"backgroundcolor\":\"white\",\"gridcolor\":\"#DFE8F3\",\"gridwidth\":2,\"linecolor\":\"#EBF0F8\",\"showbackground\":true,\"ticks\":\"\",\"zerolinecolor\":\"#EBF0F8\"}},\"shapedefaults\":{\"line\":{\"color\":\"#2a3f5f\"}},\"ternary\":{\"aaxis\":{\"gridcolor\":\"#DFE8F3\",\"linecolor\":\"#A2B1C6\",\"ticks\":\"\"},\"baxis\":{\"gridcolor\":\"#DFE8F3\",\"linecolor\":\"#A2B1C6\",\"ticks\":\"\"},\"bgcolor\":\"white\",\"caxis\":{\"gridcolor\":\"#DFE8F3\",\"linecolor\":\"#A2B1C6\",\"ticks\":\"\"}},\"title\":{\"x\":0.05},\"xaxis\":{\"automargin\":true,\"gridcolor\":\"#EBF0F8\",\"linecolor\":\"#EBF0F8\",\"ticks\":\"\",\"title\":{\"standoff\":15},\"zerolinecolor\":\"#EBF0F8\",\"zerolinewidth\":2},\"yaxis\":{\"automargin\":true,\"gridcolor\":\"#EBF0F8\",\"linecolor\":\"#EBF0F8\",\"ticks\":\"\",\"title\":{\"standoff\":15},\"zerolinecolor\":\"#EBF0F8\",\"zerolinewidth\":2}}},\"xaxis\":{\"anchor\":\"y\",\"domain\":[0.0,1.0],\"title\":{\"text\":\"Weighted\"}},\"yaxis\":{\"anchor\":\"x\",\"domain\":[0.0,1.0],\"title\":{\"text\":\"Overall\"}},\"legend\":{\"title\":{\"text\":\"Type\"},\"tracegroupgap\":0},\"title\":{\"text\":\"Scores for each word, op een manier die weinig zegt eigenlijk\"}},                        {\"responsive\": true}                    ).then(function(){\n                            \nvar gd = document.getElementById('e627a069-c01e-4ce8-b244-2cce41ce2092');\nvar x = new MutationObserver(function (mutations, observer) {{\n        var display = window.getComputedStyle(gd).display;\n        if (!display || display === 'none') {{\n            console.log([gd, 'removed!']);\n            Plotly.purge(gd);\n            observer.disconnect();\n        }}\n}});\n\n// Listen for the removal of the full notebook cells\nvar notebookContainer = gd.closest('#notebook-container');\nif (notebookContainer) {{\n    x.observe(notebookContainer, {childList: true});\n}}\n\n// Listen for the clearing of the current output cell\nvar outputEl = gd.closest('.output');\nif (outputEl) {{\n    x.observe(outputEl, {childList: true});\n}}\n\n                        })                };                });            </script>        </div>"
     },
     "metadata": {},
     "output_type": "display_data"
    },
    {
     "data": {
      "application/vnd.plotly.v1+json": {
       "data": [
        {
         "hovertemplate": "Type=Noun<br>V_measure=%{x}<br>F1=%{y}<br>index=%{text}<extra></extra>",
         "legendgroup": "Noun",
         "marker": {
          "color": "#636efa",
          "symbol": "circle"
         },
         "mode": "markers+text",
         "name": "Noun",
         "orientation": "v",
         "showlegend": true,
         "text": [
          "Avocat",
          "Bien",
          "Bureau",
          "Faculté",
          "Glace",
          "Souris",
          "Tour",
          "Vol"
         ],
         "x": [
          0.28619700251607466,
          0.04140460145469759,
          0.1630196741030239,
          0.25093894706134734,
          0.08724321218267223,
          0.04347838474829742,
          0.05586250364141548,
          0.28810148174577194
         ],
         "xaxis": "x",
         "y": [
          0.5337690631808278,
          0.35795726741400785,
          0.5170578381396689,
          0.42482276897414517,
          0.31135531135531136,
          0.31035042883132635,
          0.17975323035072377,
          0.7366893626520817
         ],
         "yaxis": "y",
         "type": "scatter"
        },
        {
         "hovertemplate": "Type=Verb<br>V_measure=%{x}<br>F1=%{y}<br>index=%{text}<extra></extra>",
         "legendgroup": "Verb",
         "marker": {
          "color": "#EF553B",
          "symbol": "circle"
         },
         "mode": "markers+text",
         "name": "Verb",
         "orientation": "v",
         "showlegend": true,
         "text": [
          "Filer",
          "Supporter",
          "Tirer"
         ],
         "x": [
          0.5166843874462064,
          0.06036038778797564,
          0.3326530008149219
         ],
         "xaxis": "x",
         "y": [
          0.7334401709401708,
          0.3638361462728551,
          0.774975024975025
         ],
         "yaxis": "y",
         "type": "scatter"
        }
       ],
       "layout": {
        "template": {
         "data": {
          "barpolar": [
           {
            "marker": {
             "line": {
              "color": "white",
              "width": 0.5
             },
             "pattern": {
              "fillmode": "overlay",
              "size": 10,
              "solidity": 0.2
             }
            },
            "type": "barpolar"
           }
          ],
          "bar": [
           {
            "error_x": {
             "color": "#2a3f5f"
            },
            "error_y": {
             "color": "#2a3f5f"
            },
            "marker": {
             "line": {
              "color": "white",
              "width": 0.5
             },
             "pattern": {
              "fillmode": "overlay",
              "size": 10,
              "solidity": 0.2
             }
            },
            "type": "bar"
           }
          ],
          "carpet": [
           {
            "aaxis": {
             "endlinecolor": "#2a3f5f",
             "gridcolor": "#C8D4E3",
             "linecolor": "#C8D4E3",
             "minorgridcolor": "#C8D4E3",
             "startlinecolor": "#2a3f5f"
            },
            "baxis": {
             "endlinecolor": "#2a3f5f",
             "gridcolor": "#C8D4E3",
             "linecolor": "#C8D4E3",
             "minorgridcolor": "#C8D4E3",
             "startlinecolor": "#2a3f5f"
            },
            "type": "carpet"
           }
          ],
          "choropleth": [
           {
            "colorbar": {
             "outlinewidth": 0,
             "ticks": ""
            },
            "type": "choropleth"
           }
          ],
          "contourcarpet": [
           {
            "colorbar": {
             "outlinewidth": 0,
             "ticks": ""
            },
            "type": "contourcarpet"
           }
          ],
          "contour": [
           {
            "colorbar": {
             "outlinewidth": 0,
             "ticks": ""
            },
            "colorscale": [
             [
              0.0,
              "#0d0887"
             ],
             [
              0.1111111111111111,
              "#46039f"
             ],
             [
              0.2222222222222222,
              "#7201a8"
             ],
             [
              0.3333333333333333,
              "#9c179e"
             ],
             [
              0.4444444444444444,
              "#bd3786"
             ],
             [
              0.5555555555555556,
              "#d8576b"
             ],
             [
              0.6666666666666666,
              "#ed7953"
             ],
             [
              0.7777777777777778,
              "#fb9f3a"
             ],
             [
              0.8888888888888888,
              "#fdca26"
             ],
             [
              1.0,
              "#f0f921"
             ]
            ],
            "type": "contour"
           }
          ],
          "heatmapgl": [
           {
            "colorbar": {
             "outlinewidth": 0,
             "ticks": ""
            },
            "colorscale": [
             [
              0.0,
              "#0d0887"
             ],
             [
              0.1111111111111111,
              "#46039f"
             ],
             [
              0.2222222222222222,
              "#7201a8"
             ],
             [
              0.3333333333333333,
              "#9c179e"
             ],
             [
              0.4444444444444444,
              "#bd3786"
             ],
             [
              0.5555555555555556,
              "#d8576b"
             ],
             [
              0.6666666666666666,
              "#ed7953"
             ],
             [
              0.7777777777777778,
              "#fb9f3a"
             ],
             [
              0.8888888888888888,
              "#fdca26"
             ],
             [
              1.0,
              "#f0f921"
             ]
            ],
            "type": "heatmapgl"
           }
          ],
          "heatmap": [
           {
            "colorbar": {
             "outlinewidth": 0,
             "ticks": ""
            },
            "colorscale": [
             [
              0.0,
              "#0d0887"
             ],
             [
              0.1111111111111111,
              "#46039f"
             ],
             [
              0.2222222222222222,
              "#7201a8"
             ],
             [
              0.3333333333333333,
              "#9c179e"
             ],
             [
              0.4444444444444444,
              "#bd3786"
             ],
             [
              0.5555555555555556,
              "#d8576b"
             ],
             [
              0.6666666666666666,
              "#ed7953"
             ],
             [
              0.7777777777777778,
              "#fb9f3a"
             ],
             [
              0.8888888888888888,
              "#fdca26"
             ],
             [
              1.0,
              "#f0f921"
             ]
            ],
            "type": "heatmap"
           }
          ],
          "histogram2dcontour": [
           {
            "colorbar": {
             "outlinewidth": 0,
             "ticks": ""
            },
            "colorscale": [
             [
              0.0,
              "#0d0887"
             ],
             [
              0.1111111111111111,
              "#46039f"
             ],
             [
              0.2222222222222222,
              "#7201a8"
             ],
             [
              0.3333333333333333,
              "#9c179e"
             ],
             [
              0.4444444444444444,
              "#bd3786"
             ],
             [
              0.5555555555555556,
              "#d8576b"
             ],
             [
              0.6666666666666666,
              "#ed7953"
             ],
             [
              0.7777777777777778,
              "#fb9f3a"
             ],
             [
              0.8888888888888888,
              "#fdca26"
             ],
             [
              1.0,
              "#f0f921"
             ]
            ],
            "type": "histogram2dcontour"
           }
          ],
          "histogram2d": [
           {
            "colorbar": {
             "outlinewidth": 0,
             "ticks": ""
            },
            "colorscale": [
             [
              0.0,
              "#0d0887"
             ],
             [
              0.1111111111111111,
              "#46039f"
             ],
             [
              0.2222222222222222,
              "#7201a8"
             ],
             [
              0.3333333333333333,
              "#9c179e"
             ],
             [
              0.4444444444444444,
              "#bd3786"
             ],
             [
              0.5555555555555556,
              "#d8576b"
             ],
             [
              0.6666666666666666,
              "#ed7953"
             ],
             [
              0.7777777777777778,
              "#fb9f3a"
             ],
             [
              0.8888888888888888,
              "#fdca26"
             ],
             [
              1.0,
              "#f0f921"
             ]
            ],
            "type": "histogram2d"
           }
          ],
          "histogram": [
           {
            "marker": {
             "pattern": {
              "fillmode": "overlay",
              "size": 10,
              "solidity": 0.2
             }
            },
            "type": "histogram"
           }
          ],
          "mesh3d": [
           {
            "colorbar": {
             "outlinewidth": 0,
             "ticks": ""
            },
            "type": "mesh3d"
           }
          ],
          "parcoords": [
           {
            "line": {
             "colorbar": {
              "outlinewidth": 0,
              "ticks": ""
             }
            },
            "type": "parcoords"
           }
          ],
          "pie": [
           {
            "automargin": true,
            "type": "pie"
           }
          ],
          "scatter3d": [
           {
            "line": {
             "colorbar": {
              "outlinewidth": 0,
              "ticks": ""
             }
            },
            "marker": {
             "colorbar": {
              "outlinewidth": 0,
              "ticks": ""
             }
            },
            "type": "scatter3d"
           }
          ],
          "scattercarpet": [
           {
            "marker": {
             "colorbar": {
              "outlinewidth": 0,
              "ticks": ""
             }
            },
            "type": "scattercarpet"
           }
          ],
          "scattergeo": [
           {
            "marker": {
             "colorbar": {
              "outlinewidth": 0,
              "ticks": ""
             }
            },
            "type": "scattergeo"
           }
          ],
          "scattergl": [
           {
            "marker": {
             "colorbar": {
              "outlinewidth": 0,
              "ticks": ""
             }
            },
            "type": "scattergl"
           }
          ],
          "scattermapbox": [
           {
            "marker": {
             "colorbar": {
              "outlinewidth": 0,
              "ticks": ""
             }
            },
            "type": "scattermapbox"
           }
          ],
          "scatterpolargl": [
           {
            "marker": {
             "colorbar": {
              "outlinewidth": 0,
              "ticks": ""
             }
            },
            "type": "scatterpolargl"
           }
          ],
          "scatterpolar": [
           {
            "marker": {
             "colorbar": {
              "outlinewidth": 0,
              "ticks": ""
             }
            },
            "type": "scatterpolar"
           }
          ],
          "scatter": [
           {
            "fillpattern": {
             "fillmode": "overlay",
             "size": 10,
             "solidity": 0.2
            },
            "type": "scatter"
           }
          ],
          "scatterternary": [
           {
            "marker": {
             "colorbar": {
              "outlinewidth": 0,
              "ticks": ""
             }
            },
            "type": "scatterternary"
           }
          ],
          "surface": [
           {
            "colorbar": {
             "outlinewidth": 0,
             "ticks": ""
            },
            "colorscale": [
             [
              0.0,
              "#0d0887"
             ],
             [
              0.1111111111111111,
              "#46039f"
             ],
             [
              0.2222222222222222,
              "#7201a8"
             ],
             [
              0.3333333333333333,
              "#9c179e"
             ],
             [
              0.4444444444444444,
              "#bd3786"
             ],
             [
              0.5555555555555556,
              "#d8576b"
             ],
             [
              0.6666666666666666,
              "#ed7953"
             ],
             [
              0.7777777777777778,
              "#fb9f3a"
             ],
             [
              0.8888888888888888,
              "#fdca26"
             ],
             [
              1.0,
              "#f0f921"
             ]
            ],
            "type": "surface"
           }
          ],
          "table": [
           {
            "cells": {
             "fill": {
              "color": "#EBF0F8"
             },
             "line": {
              "color": "white"
             }
            },
            "header": {
             "fill": {
              "color": "#C8D4E3"
             },
             "line": {
              "color": "white"
             }
            },
            "type": "table"
           }
          ]
         },
         "layout": {
          "annotationdefaults": {
           "arrowcolor": "#2a3f5f",
           "arrowhead": 0,
           "arrowwidth": 1
          },
          "autotypenumbers": "strict",
          "coloraxis": {
           "colorbar": {
            "outlinewidth": 0,
            "ticks": ""
           }
          },
          "colorscale": {
           "diverging": [
            [
             0,
             "#8e0152"
            ],
            [
             0.1,
             "#c51b7d"
            ],
            [
             0.2,
             "#de77ae"
            ],
            [
             0.3,
             "#f1b6da"
            ],
            [
             0.4,
             "#fde0ef"
            ],
            [
             0.5,
             "#f7f7f7"
            ],
            [
             0.6,
             "#e6f5d0"
            ],
            [
             0.7,
             "#b8e186"
            ],
            [
             0.8,
             "#7fbc41"
            ],
            [
             0.9,
             "#4d9221"
            ],
            [
             1,
             "#276419"
            ]
           ],
           "sequential": [
            [
             0.0,
             "#0d0887"
            ],
            [
             0.1111111111111111,
             "#46039f"
            ],
            [
             0.2222222222222222,
             "#7201a8"
            ],
            [
             0.3333333333333333,
             "#9c179e"
            ],
            [
             0.4444444444444444,
             "#bd3786"
            ],
            [
             0.5555555555555556,
             "#d8576b"
            ],
            [
             0.6666666666666666,
             "#ed7953"
            ],
            [
             0.7777777777777778,
             "#fb9f3a"
            ],
            [
             0.8888888888888888,
             "#fdca26"
            ],
            [
             1.0,
             "#f0f921"
            ]
           ],
           "sequentialminus": [
            [
             0.0,
             "#0d0887"
            ],
            [
             0.1111111111111111,
             "#46039f"
            ],
            [
             0.2222222222222222,
             "#7201a8"
            ],
            [
             0.3333333333333333,
             "#9c179e"
            ],
            [
             0.4444444444444444,
             "#bd3786"
            ],
            [
             0.5555555555555556,
             "#d8576b"
            ],
            [
             0.6666666666666666,
             "#ed7953"
            ],
            [
             0.7777777777777778,
             "#fb9f3a"
            ],
            [
             0.8888888888888888,
             "#fdca26"
            ],
            [
             1.0,
             "#f0f921"
            ]
           ]
          },
          "colorway": [
           "#636efa",
           "#EF553B",
           "#00cc96",
           "#ab63fa",
           "#FFA15A",
           "#19d3f3",
           "#FF6692",
           "#B6E880",
           "#FF97FF",
           "#FECB52"
          ],
          "font": {
           "color": "#2a3f5f"
          },
          "geo": {
           "bgcolor": "white",
           "lakecolor": "white",
           "landcolor": "white",
           "showlakes": true,
           "showland": true,
           "subunitcolor": "#C8D4E3"
          },
          "hoverlabel": {
           "align": "left"
          },
          "hovermode": "closest",
          "mapbox": {
           "style": "light"
          },
          "paper_bgcolor": "white",
          "plot_bgcolor": "white",
          "polar": {
           "angularaxis": {
            "gridcolor": "#EBF0F8",
            "linecolor": "#EBF0F8",
            "ticks": ""
           },
           "bgcolor": "white",
           "radialaxis": {
            "gridcolor": "#EBF0F8",
            "linecolor": "#EBF0F8",
            "ticks": ""
           }
          },
          "scene": {
           "xaxis": {
            "backgroundcolor": "white",
            "gridcolor": "#DFE8F3",
            "gridwidth": 2,
            "linecolor": "#EBF0F8",
            "showbackground": true,
            "ticks": "",
            "zerolinecolor": "#EBF0F8"
           },
           "yaxis": {
            "backgroundcolor": "white",
            "gridcolor": "#DFE8F3",
            "gridwidth": 2,
            "linecolor": "#EBF0F8",
            "showbackground": true,
            "ticks": "",
            "zerolinecolor": "#EBF0F8"
           },
           "zaxis": {
            "backgroundcolor": "white",
            "gridcolor": "#DFE8F3",
            "gridwidth": 2,
            "linecolor": "#EBF0F8",
            "showbackground": true,
            "ticks": "",
            "zerolinecolor": "#EBF0F8"
           }
          },
          "shapedefaults": {
           "line": {
            "color": "#2a3f5f"
           }
          },
          "ternary": {
           "aaxis": {
            "gridcolor": "#DFE8F3",
            "linecolor": "#A2B1C6",
            "ticks": ""
           },
           "baxis": {
            "gridcolor": "#DFE8F3",
            "linecolor": "#A2B1C6",
            "ticks": ""
           },
           "bgcolor": "white",
           "caxis": {
            "gridcolor": "#DFE8F3",
            "linecolor": "#A2B1C6",
            "ticks": ""
           }
          },
          "title": {
           "x": 0.05
          },
          "xaxis": {
           "automargin": true,
           "gridcolor": "#EBF0F8",
           "linecolor": "#EBF0F8",
           "ticks": "",
           "title": {
            "standoff": 15
           },
           "zerolinecolor": "#EBF0F8",
           "zerolinewidth": 2
          },
          "yaxis": {
           "automargin": true,
           "gridcolor": "#EBF0F8",
           "linecolor": "#EBF0F8",
           "ticks": "",
           "title": {
            "standoff": 15
           },
           "zerolinecolor": "#EBF0F8",
           "zerolinewidth": 2
          }
         }
        },
        "xaxis": {
         "anchor": "y",
         "domain": [
          0.0,
          1.0
         ],
         "title": {
          "text": "V_measure"
         }
        },
        "yaxis": {
         "anchor": "x",
         "domain": [
          0.0,
          1.0
         ],
         "title": {
          "text": "F1"
         }
        },
        "legend": {
         "title": {
          "text": "Type"
         },
         "tracegroupgap": 0
        },
        "title": {
         "text": "Scores for each word"
        }
       },
       "config": {
        "plotlyServerURL": "https://plot.ly"
       }
      },
      "text/html": "<div>                            <div id=\"164ef994-2fb7-49e6-baed-3856a819ebed\" class=\"plotly-graph-div\" style=\"height:525px; width:100%;\"></div>            <script type=\"text/javascript\">                require([\"plotly\"], function(Plotly) {                    window.PLOTLYENV=window.PLOTLYENV || {};                                    if (document.getElementById(\"164ef994-2fb7-49e6-baed-3856a819ebed\")) {                    Plotly.newPlot(                        \"164ef994-2fb7-49e6-baed-3856a819ebed\",                        [{\"hovertemplate\":\"Type=Noun\\u003cbr\\u003eV_measure=%{x}\\u003cbr\\u003eF1=%{y}\\u003cbr\\u003eindex=%{text}\\u003cextra\\u003e\\u003c\\u002fextra\\u003e\",\"legendgroup\":\"Noun\",\"marker\":{\"color\":\"#636efa\",\"symbol\":\"circle\"},\"mode\":\"markers+text\",\"name\":\"Noun\",\"orientation\":\"v\",\"showlegend\":true,\"text\":[\"Avocat\",\"Bien\",\"Bureau\",\"Facult\\u00e9\",\"Glace\",\"Souris\",\"Tour\",\"Vol\"],\"x\":[0.28619700251607466,0.04140460145469759,0.1630196741030239,0.25093894706134734,0.08724321218267223,0.04347838474829742,0.05586250364141548,0.28810148174577194],\"xaxis\":\"x\",\"y\":[0.5337690631808278,0.35795726741400785,0.5170578381396689,0.42482276897414517,0.31135531135531136,0.31035042883132635,0.17975323035072377,0.7366893626520817],\"yaxis\":\"y\",\"type\":\"scatter\"},{\"hovertemplate\":\"Type=Verb\\u003cbr\\u003eV_measure=%{x}\\u003cbr\\u003eF1=%{y}\\u003cbr\\u003eindex=%{text}\\u003cextra\\u003e\\u003c\\u002fextra\\u003e\",\"legendgroup\":\"Verb\",\"marker\":{\"color\":\"#EF553B\",\"symbol\":\"circle\"},\"mode\":\"markers+text\",\"name\":\"Verb\",\"orientation\":\"v\",\"showlegend\":true,\"text\":[\"Filer\",\"Supporter\",\"Tirer\"],\"x\":[0.5166843874462064,0.06036038778797564,0.3326530008149219],\"xaxis\":\"x\",\"y\":[0.7334401709401708,0.3638361462728551,0.774975024975025],\"yaxis\":\"y\",\"type\":\"scatter\"}],                        {\"template\":{\"data\":{\"barpolar\":[{\"marker\":{\"line\":{\"color\":\"white\",\"width\":0.5},\"pattern\":{\"fillmode\":\"overlay\",\"size\":10,\"solidity\":0.2}},\"type\":\"barpolar\"}],\"bar\":[{\"error_x\":{\"color\":\"#2a3f5f\"},\"error_y\":{\"color\":\"#2a3f5f\"},\"marker\":{\"line\":{\"color\":\"white\",\"width\":0.5},\"pattern\":{\"fillmode\":\"overlay\",\"size\":10,\"solidity\":0.2}},\"type\":\"bar\"}],\"carpet\":[{\"aaxis\":{\"endlinecolor\":\"#2a3f5f\",\"gridcolor\":\"#C8D4E3\",\"linecolor\":\"#C8D4E3\",\"minorgridcolor\":\"#C8D4E3\",\"startlinecolor\":\"#2a3f5f\"},\"baxis\":{\"endlinecolor\":\"#2a3f5f\",\"gridcolor\":\"#C8D4E3\",\"linecolor\":\"#C8D4E3\",\"minorgridcolor\":\"#C8D4E3\",\"startlinecolor\":\"#2a3f5f\"},\"type\":\"carpet\"}],\"choropleth\":[{\"colorbar\":{\"outlinewidth\":0,\"ticks\":\"\"},\"type\":\"choropleth\"}],\"contourcarpet\":[{\"colorbar\":{\"outlinewidth\":0,\"ticks\":\"\"},\"type\":\"contourcarpet\"}],\"contour\":[{\"colorbar\":{\"outlinewidth\":0,\"ticks\":\"\"},\"colorscale\":[[0.0,\"#0d0887\"],[0.1111111111111111,\"#46039f\"],[0.2222222222222222,\"#7201a8\"],[0.3333333333333333,\"#9c179e\"],[0.4444444444444444,\"#bd3786\"],[0.5555555555555556,\"#d8576b\"],[0.6666666666666666,\"#ed7953\"],[0.7777777777777778,\"#fb9f3a\"],[0.8888888888888888,\"#fdca26\"],[1.0,\"#f0f921\"]],\"type\":\"contour\"}],\"heatmapgl\":[{\"colorbar\":{\"outlinewidth\":0,\"ticks\":\"\"},\"colorscale\":[[0.0,\"#0d0887\"],[0.1111111111111111,\"#46039f\"],[0.2222222222222222,\"#7201a8\"],[0.3333333333333333,\"#9c179e\"],[0.4444444444444444,\"#bd3786\"],[0.5555555555555556,\"#d8576b\"],[0.6666666666666666,\"#ed7953\"],[0.7777777777777778,\"#fb9f3a\"],[0.8888888888888888,\"#fdca26\"],[1.0,\"#f0f921\"]],\"type\":\"heatmapgl\"}],\"heatmap\":[{\"colorbar\":{\"outlinewidth\":0,\"ticks\":\"\"},\"colorscale\":[[0.0,\"#0d0887\"],[0.1111111111111111,\"#46039f\"],[0.2222222222222222,\"#7201a8\"],[0.3333333333333333,\"#9c179e\"],[0.4444444444444444,\"#bd3786\"],[0.5555555555555556,\"#d8576b\"],[0.6666666666666666,\"#ed7953\"],[0.7777777777777778,\"#fb9f3a\"],[0.8888888888888888,\"#fdca26\"],[1.0,\"#f0f921\"]],\"type\":\"heatmap\"}],\"histogram2dcontour\":[{\"colorbar\":{\"outlinewidth\":0,\"ticks\":\"\"},\"colorscale\":[[0.0,\"#0d0887\"],[0.1111111111111111,\"#46039f\"],[0.2222222222222222,\"#7201a8\"],[0.3333333333333333,\"#9c179e\"],[0.4444444444444444,\"#bd3786\"],[0.5555555555555556,\"#d8576b\"],[0.6666666666666666,\"#ed7953\"],[0.7777777777777778,\"#fb9f3a\"],[0.8888888888888888,\"#fdca26\"],[1.0,\"#f0f921\"]],\"type\":\"histogram2dcontour\"}],\"histogram2d\":[{\"colorbar\":{\"outlinewidth\":0,\"ticks\":\"\"},\"colorscale\":[[0.0,\"#0d0887\"],[0.1111111111111111,\"#46039f\"],[0.2222222222222222,\"#7201a8\"],[0.3333333333333333,\"#9c179e\"],[0.4444444444444444,\"#bd3786\"],[0.5555555555555556,\"#d8576b\"],[0.6666666666666666,\"#ed7953\"],[0.7777777777777778,\"#fb9f3a\"],[0.8888888888888888,\"#fdca26\"],[1.0,\"#f0f921\"]],\"type\":\"histogram2d\"}],\"histogram\":[{\"marker\":{\"pattern\":{\"fillmode\":\"overlay\",\"size\":10,\"solidity\":0.2}},\"type\":\"histogram\"}],\"mesh3d\":[{\"colorbar\":{\"outlinewidth\":0,\"ticks\":\"\"},\"type\":\"mesh3d\"}],\"parcoords\":[{\"line\":{\"colorbar\":{\"outlinewidth\":0,\"ticks\":\"\"}},\"type\":\"parcoords\"}],\"pie\":[{\"automargin\":true,\"type\":\"pie\"}],\"scatter3d\":[{\"line\":{\"colorbar\":{\"outlinewidth\":0,\"ticks\":\"\"}},\"marker\":{\"colorbar\":{\"outlinewidth\":0,\"ticks\":\"\"}},\"type\":\"scatter3d\"}],\"scattercarpet\":[{\"marker\":{\"colorbar\":{\"outlinewidth\":0,\"ticks\":\"\"}},\"type\":\"scattercarpet\"}],\"scattergeo\":[{\"marker\":{\"colorbar\":{\"outlinewidth\":0,\"ticks\":\"\"}},\"type\":\"scattergeo\"}],\"scattergl\":[{\"marker\":{\"colorbar\":{\"outlinewidth\":0,\"ticks\":\"\"}},\"type\":\"scattergl\"}],\"scattermapbox\":[{\"marker\":{\"colorbar\":{\"outlinewidth\":0,\"ticks\":\"\"}},\"type\":\"scattermapbox\"}],\"scatterpolargl\":[{\"marker\":{\"colorbar\":{\"outlinewidth\":0,\"ticks\":\"\"}},\"type\":\"scatterpolargl\"}],\"scatterpolar\":[{\"marker\":{\"colorbar\":{\"outlinewidth\":0,\"ticks\":\"\"}},\"type\":\"scatterpolar\"}],\"scatter\":[{\"fillpattern\":{\"fillmode\":\"overlay\",\"size\":10,\"solidity\":0.2},\"type\":\"scatter\"}],\"scatterternary\":[{\"marker\":{\"colorbar\":{\"outlinewidth\":0,\"ticks\":\"\"}},\"type\":\"scatterternary\"}],\"surface\":[{\"colorbar\":{\"outlinewidth\":0,\"ticks\":\"\"},\"colorscale\":[[0.0,\"#0d0887\"],[0.1111111111111111,\"#46039f\"],[0.2222222222222222,\"#7201a8\"],[0.3333333333333333,\"#9c179e\"],[0.4444444444444444,\"#bd3786\"],[0.5555555555555556,\"#d8576b\"],[0.6666666666666666,\"#ed7953\"],[0.7777777777777778,\"#fb9f3a\"],[0.8888888888888888,\"#fdca26\"],[1.0,\"#f0f921\"]],\"type\":\"surface\"}],\"table\":[{\"cells\":{\"fill\":{\"color\":\"#EBF0F8\"},\"line\":{\"color\":\"white\"}},\"header\":{\"fill\":{\"color\":\"#C8D4E3\"},\"line\":{\"color\":\"white\"}},\"type\":\"table\"}]},\"layout\":{\"annotationdefaults\":{\"arrowcolor\":\"#2a3f5f\",\"arrowhead\":0,\"arrowwidth\":1},\"autotypenumbers\":\"strict\",\"coloraxis\":{\"colorbar\":{\"outlinewidth\":0,\"ticks\":\"\"}},\"colorscale\":{\"diverging\":[[0,\"#8e0152\"],[0.1,\"#c51b7d\"],[0.2,\"#de77ae\"],[0.3,\"#f1b6da\"],[0.4,\"#fde0ef\"],[0.5,\"#f7f7f7\"],[0.6,\"#e6f5d0\"],[0.7,\"#b8e186\"],[0.8,\"#7fbc41\"],[0.9,\"#4d9221\"],[1,\"#276419\"]],\"sequential\":[[0.0,\"#0d0887\"],[0.1111111111111111,\"#46039f\"],[0.2222222222222222,\"#7201a8\"],[0.3333333333333333,\"#9c179e\"],[0.4444444444444444,\"#bd3786\"],[0.5555555555555556,\"#d8576b\"],[0.6666666666666666,\"#ed7953\"],[0.7777777777777778,\"#fb9f3a\"],[0.8888888888888888,\"#fdca26\"],[1.0,\"#f0f921\"]],\"sequentialminus\":[[0.0,\"#0d0887\"],[0.1111111111111111,\"#46039f\"],[0.2222222222222222,\"#7201a8\"],[0.3333333333333333,\"#9c179e\"],[0.4444444444444444,\"#bd3786\"],[0.5555555555555556,\"#d8576b\"],[0.6666666666666666,\"#ed7953\"],[0.7777777777777778,\"#fb9f3a\"],[0.8888888888888888,\"#fdca26\"],[1.0,\"#f0f921\"]]},\"colorway\":[\"#636efa\",\"#EF553B\",\"#00cc96\",\"#ab63fa\",\"#FFA15A\",\"#19d3f3\",\"#FF6692\",\"#B6E880\",\"#FF97FF\",\"#FECB52\"],\"font\":{\"color\":\"#2a3f5f\"},\"geo\":{\"bgcolor\":\"white\",\"lakecolor\":\"white\",\"landcolor\":\"white\",\"showlakes\":true,\"showland\":true,\"subunitcolor\":\"#C8D4E3\"},\"hoverlabel\":{\"align\":\"left\"},\"hovermode\":\"closest\",\"mapbox\":{\"style\":\"light\"},\"paper_bgcolor\":\"white\",\"plot_bgcolor\":\"white\",\"polar\":{\"angularaxis\":{\"gridcolor\":\"#EBF0F8\",\"linecolor\":\"#EBF0F8\",\"ticks\":\"\"},\"bgcolor\":\"white\",\"radialaxis\":{\"gridcolor\":\"#EBF0F8\",\"linecolor\":\"#EBF0F8\",\"ticks\":\"\"}},\"scene\":{\"xaxis\":{\"backgroundcolor\":\"white\",\"gridcolor\":\"#DFE8F3\",\"gridwidth\":2,\"linecolor\":\"#EBF0F8\",\"showbackground\":true,\"ticks\":\"\",\"zerolinecolor\":\"#EBF0F8\"},\"yaxis\":{\"backgroundcolor\":\"white\",\"gridcolor\":\"#DFE8F3\",\"gridwidth\":2,\"linecolor\":\"#EBF0F8\",\"showbackground\":true,\"ticks\":\"\",\"zerolinecolor\":\"#EBF0F8\"},\"zaxis\":{\"backgroundcolor\":\"white\",\"gridcolor\":\"#DFE8F3\",\"gridwidth\":2,\"linecolor\":\"#EBF0F8\",\"showbackground\":true,\"ticks\":\"\",\"zerolinecolor\":\"#EBF0F8\"}},\"shapedefaults\":{\"line\":{\"color\":\"#2a3f5f\"}},\"ternary\":{\"aaxis\":{\"gridcolor\":\"#DFE8F3\",\"linecolor\":\"#A2B1C6\",\"ticks\":\"\"},\"baxis\":{\"gridcolor\":\"#DFE8F3\",\"linecolor\":\"#A2B1C6\",\"ticks\":\"\"},\"bgcolor\":\"white\",\"caxis\":{\"gridcolor\":\"#DFE8F3\",\"linecolor\":\"#A2B1C6\",\"ticks\":\"\"}},\"title\":{\"x\":0.05},\"xaxis\":{\"automargin\":true,\"gridcolor\":\"#EBF0F8\",\"linecolor\":\"#EBF0F8\",\"ticks\":\"\",\"title\":{\"standoff\":15},\"zerolinecolor\":\"#EBF0F8\",\"zerolinewidth\":2},\"yaxis\":{\"automargin\":true,\"gridcolor\":\"#EBF0F8\",\"linecolor\":\"#EBF0F8\",\"ticks\":\"\",\"title\":{\"standoff\":15},\"zerolinecolor\":\"#EBF0F8\",\"zerolinewidth\":2}}},\"xaxis\":{\"anchor\":\"y\",\"domain\":[0.0,1.0],\"title\":{\"text\":\"V_measure\"}},\"yaxis\":{\"anchor\":\"x\",\"domain\":[0.0,1.0],\"title\":{\"text\":\"F1\"}},\"legend\":{\"title\":{\"text\":\"Type\"},\"tracegroupgap\":0},\"title\":{\"text\":\"Scores for each word\"}},                        {\"responsive\": true}                    ).then(function(){\n                            \nvar gd = document.getElementById('164ef994-2fb7-49e6-baed-3856a819ebed');\nvar x = new MutationObserver(function (mutations, observer) {{\n        var display = window.getComputedStyle(gd).display;\n        if (!display || display === 'none') {{\n            console.log([gd, 'removed!']);\n            Plotly.purge(gd);\n            observer.disconnect();\n        }}\n}});\n\n// Listen for the removal of the full notebook cells\nvar notebookContainer = gd.closest('#notebook-container');\nif (notebookContainer) {{\n    x.observe(notebookContainer, {childList: true});\n}}\n\n// Listen for the clearing of the current output cell\nvar outputEl = gd.closest('.output');\nif (outputEl) {{\n    x.observe(outputEl, {childList: true});\n}}\n\n                        })                };                });            </script>        </div>"
     },
     "metadata": {},
     "output_type": "display_data"
    }
   ],
   "source": [
    "fig_zegt_weinig = px.scatter(df_BIC, x=\"Weighted\", y=\"Overall\", text=df_BIC.index, color=\"Type\", title=\"Scores for each word, op een manier die weinig zegt eigenlijk\",template=\"plotly_white\")\n",
    "fig_zegt_weinig.show()\n",
    "fig_zegt_weinig = px.scatter(df_BIC, x=\"Weighted\", y=\"Overall\", text=df_BIC.index, color=\"Type\", title=\"Scores for each word, op een manier die weinig zegt eigenlijk\",template=\"plotly_white\")\n",
    "fig = px.scatter(df_BIC, x=\"V_measure\", y=\"F1\", text=df_BIC.index, color=\"Type\", title=\"Scores for each word\",template=\"plotly_white\")\n",
    "fig.show()"
   ],
   "metadata": {
    "collapsed": false,
    "ExecuteTime": {
     "end_time": "2024-05-17T20:50:46.135053Z",
     "start_time": "2024-05-17T20:50:45.985198Z"
    }
   },
   "id": "33cd781c855816ec",
   "execution_count": 47
  },
  {
   "cell_type": "code",
   "outputs": [
    {
     "name": "stdout",
     "output_type": "stream",
     "text": [
      "Avocat\n",
      "Number of senses: 2\n",
      "Number of clusters: 3\n",
      "1 too many clusters\n",
      "Bien\n",
      "Number of senses: 3\n",
      "Number of clusters: 3\n",
      "Correct number of clusters\n",
      "Bureau\n",
      "Number of senses: 3\n",
      "Number of clusters: 3\n",
      "Correct number of clusters\n",
      "Faculté\n",
      "Number of senses: 3\n",
      "Number of clusters: 3\n",
      "Correct number of clusters\n",
      "Filer\n",
      "Number of senses: 3\n",
      "Number of clusters: 3\n",
      "Correct number of clusters\n",
      "Glace\n",
      "Number of senses: 5\n",
      "Number of clusters: 3\n",
      "2 too few clusters\n",
      "Souris\n",
      "Number of senses: 3\n",
      "Number of clusters: 3\n",
      "Correct number of clusters\n",
      "Supporter\n",
      "Number of senses: 3\n",
      "Number of clusters: 3\n",
      "Correct number of clusters\n",
      "Tirer\n",
      "Number of senses: 2\n",
      "Number of clusters: 3\n",
      "1 too many clusters\n",
      "Tour\n",
      "Number of senses: 5\n",
      "Number of clusters: 3\n",
      "2 too few clusters\n",
      "Vol\n",
      "Number of senses: 2\n",
      "Number of clusters: 3\n",
      "1 too many clusters\n",
      "Correct: ['Bien', 'Bureau', 'Faculté', 'Filer', 'Souris', 'Supporter']\n",
      "Close: ['Avocat', 'Tirer', 'Vol']\n",
      "Incorrect: ['Glace', 'Tour']\n",
      "Percentage approach: 0.8181818181818182\n"
     ]
    }
   ],
   "source": [
    "correct = []\n",
    "close = [] # One cluster off, often the result of different granularity. Is it ok to report like this or do we have to be more strict?\n",
    "incorrect = []\n",
    "differences_BIC = {}\n",
    "for filename in os.listdir(f\"{model_name}/Experiment_2/Curated/\"):\n",
    "    if filename.endswith(\".csv\"):\n",
    "        df = pd.read_csv(f\"{model_name}/Experiment_2/Curated/\" + filename, sep=\";\", encoding=\"utf-8\", header=0)\n",
    "        target_word = df[\"source\"][1]\n",
    "        print(target_word)\n",
    "        # We count the number of different senses\n",
    "        senses = len(df[\"sense\"].unique())\n",
    "        # We count the number of clusters\n",
    "        clusters = len(df[\"BIC_cluster_sub\"].unique())\n",
    "        print(\"Number of senses:\", senses)\n",
    "        print(\"Number of clusters:\", clusters)\n",
    "        if senses == clusters:\n",
    "            print(\"Correct number of clusters\")\n",
    "            difference = 0\n",
    "            correct.append(target_word)\n",
    "        elif senses > clusters:\n",
    "            difference = senses - clusters\n",
    "            print(difference, \"too few clusters\")\n",
    "            if difference == 1:\n",
    "                close.append(target_word)\n",
    "            else:\n",
    "                incorrect.append(target_word)\n",
    "            difference = -difference\n",
    "        elif senses < clusters:\n",
    "            difference = clusters - senses\n",
    "            print(difference, \"too many clusters\")\n",
    "            if difference == 1:\n",
    "                close.append(target_word)\n",
    "            else:\n",
    "                incorrect.append(target_word)\n",
    "                \n",
    "        differences_BIC[target_word] = difference\n",
    "        # We calculate the score\n",
    "        #print(\"Score:\", score)\n",
    "        #scores[target_word] = score\n",
    "\n",
    "print(\"Correct:\", correct)\n",
    "print(\"Close:\", close)\n",
    "print(\"Incorrect:\", incorrect)\n",
    "print(\"Percentage approach:\", (len(correct) + len(close)) / ((len(correct) + len(close) + len(incorrect))))"
   ],
   "metadata": {
    "collapsed": false,
    "ExecuteTime": {
     "end_time": "2024-05-17T20:50:47.241354Z",
     "start_time": "2024-05-17T20:50:47.206342Z"
    }
   },
   "id": "a5d4593f25a74aa1",
   "execution_count": 48
  },
  {
   "cell_type": "code",
   "outputs": [],
   "source": [
    "# We add a \"difference\" column to the dataframe\n",
    "df_with_average_BIC[\"Cluster_Estimation\"] = [differences_BIC[word] if word in differences_BIC else \"\" for word in df_with_average_BIC.index]"
   ],
   "metadata": {
    "collapsed": false,
    "ExecuteTime": {
     "end_time": "2024-05-17T20:50:48.176698Z",
     "start_time": "2024-05-17T20:50:48.171596Z"
    }
   },
   "id": "43ee30f536d9dfc",
   "execution_count": 49
  },
  {
   "cell_type": "code",
   "outputs": [],
   "source": [
    "# We save these dataframes to a csv file\n",
    "if not os.path.exists(f\"Results/Experiment_2/Curated/BIC/\"):\n",
    "    os.makedirs(f\"Results/Experiment_2/Curated/BIC/\")\n",
    "df_with_average_BIC.to_csv(f\"Results/Experiment_2/Curated/BIC/{model_name}_scores.csv\", sep=\";\", encoding=\"utf-8\")\n",
    "fig.write_html(f\"Results/Experiment_2/Curated/BIC/{model_name}_scores.html\")\n",
    "df_all_in_one_BIC.to_csv(f\"Results/Experiment_2/Curated/BIC/all_in_one_scores.csv\", sep=\";\", encoding=\"utf-8\")"
   ],
   "metadata": {
    "collapsed": false,
    "ExecuteTime": {
     "end_time": "2024-05-17T20:50:49.082190Z",
     "start_time": "2024-05-17T20:50:49.024169Z"
    }
   },
   "id": "7b4b76aaecbc8e0a",
   "execution_count": 50
  },
  {
   "cell_type": "markdown",
   "source": [
    "# Comparing the Models"
   ],
   "metadata": {
    "collapsed": false
   },
   "id": "87ea861e7fa8b754"
  },
  {
   "cell_type": "code",
   "outputs": [],
   "source": [
    "Method = \"AGG\" # \"AGG\" or \"BIC\""
   ],
   "metadata": {
    "collapsed": false,
    "ExecuteTime": {
     "end_time": "2024-05-17T20:51:07.833018Z",
     "start_time": "2024-05-17T20:51:07.828628Z"
    }
   },
   "id": "ab2ac1c73ac276a",
   "execution_count": 59
  },
  {
   "cell_type": "code",
   "outputs": [],
   "source": [
    "# We load in both dataframes in the \"Results\" folder\n",
    "df_camembert = pd.read_csv(f\"Results/Experiment_2/Curated/{Method}/Camembert_scores.csv\", sep=\";\", encoding=\"utf-8\", index_col=0)\n",
    "df_flaubert = pd.read_csv(f\"Results/Experiment_2/Curated/{Method}/Flaubert_scores.csv\", sep=\";\", encoding=\"utf-8\", index_col=0)\n",
    "\n",
    "# We add a column to both dataframes to indicate the model\n",
    "df_camembert[\"Model\"] = \"Camembert\"\n",
    "df_flaubert[\"Model\"] = \"Flaubert\"\n",
    "\n",
    "# We concatenate both dataframes\n",
    "df = pd.concat([df_camembert, df_flaubert])"
   ],
   "metadata": {
    "collapsed": false,
    "ExecuteTime": {
     "end_time": "2024-05-17T20:51:08.345986Z",
     "start_time": "2024-05-17T20:51:08.333712Z"
    }
   },
   "id": "b745d15d0368c613",
   "execution_count": 60
  },
  {
   "cell_type": "code",
   "outputs": [],
   "source": [
    "# We split the dataframe into two separate dataframes\n",
    "df_weighted = df[[\"Weighted\", \"Model\"]]\n",
    "df_overall = df[[\"Overall\", \"Model\"]]\n",
    "df_v_measure = df[[\"V_measure\", \"Model\"]]\n",
    "df_rand = df[[\"Rand\", \"Model\"]]\n",
    "df_f1 = df[[\"F1\", \"Model\"]]"
   ],
   "metadata": {
    "collapsed": false,
    "ExecuteTime": {
     "end_time": "2024-05-17T20:51:08.497078Z",
     "start_time": "2024-05-17T20:51:08.488094Z"
    }
   },
   "id": "7797faedeaa8d85f",
   "execution_count": 61
  },
  {
   "cell_type": "code",
   "outputs": [],
   "source": [
    "# We transform the dataframes:\n",
    "# - We make two columns, one for each model\n",
    "# - We regroup the instances of the same word (index) in one row\n",
    "df_weighted = df_weighted.pivot(columns=\"Model\")\n",
    "df_overall = df_overall.pivot(columns=\"Model\")\n",
    "df_v_measure = df_v_measure.pivot(columns=\"Model\")\n",
    "df_rand = df_rand.pivot(columns=\"Model\")\n",
    "df_f1 = df_f1.pivot(columns=\"Model\")"
   ],
   "metadata": {
    "collapsed": false,
    "ExecuteTime": {
     "end_time": "2024-05-17T20:51:08.644599Z",
     "start_time": "2024-05-17T20:51:08.633071Z"
    }
   },
   "id": "528f8ddae5fac988",
   "execution_count": 62
  },
  {
   "cell_type": "code",
   "outputs": [],
   "source": [
    "# We save this dataframe to a csv file and to excel\n",
    "df_weighted.to_csv(f\"Results/Experiment_2/Curated/{Method}/weighted_scores.csv\", sep=\";\", encoding=\"utf-8\")\n",
    "df_overall.to_csv(f\"Results/Experiment_2/Curated/{Method}/overall_scores.csv\", sep=\";\", encoding=\"utf-8\")\n",
    "df_v_measure.to_csv(f\"Results/Experiment_2/Curated/{Method}/v_measure_scores.csv\", sep=\";\", encoding=\"utf-8\")\n",
    "df_rand.to_csv(f\"Results/Experiment_2/Curated/{Method}/rand_scores.csv\", sep=\";\", encoding=\"utf-8\")\n",
    "df_f1.to_csv(f\"Results/Experiment_2/Curated/{Method}/F1_scores.csv\", sep=\";\", encoding=\"utf-8\")\n",
    "\n",
    "df_weighted.to_excel(f\"Results/Experiment_2/Curated/{Method}/weighted_scores.xlsx\")\n",
    "df_overall.to_excel(f\"Results/Experiment_2/Curated/{Method}/overall_scores.xlsx\")\n",
    "df_v_measure.to_excel(f\"Results/Experiment_2/Curated/{Method}/v_measure_scores.xlsx\")\n",
    "df_rand.to_excel(f\"Results/Experiment_2/Curated/{Method}/rand_scores.xlsx\")\n",
    "df_f1.to_excel(f\"Results/Experiment_2/Curated/{Method}/F1_scores.xlsx\")\n"
   ],
   "metadata": {
    "collapsed": false,
    "ExecuteTime": {
     "end_time": "2024-05-17T20:51:08.933553Z",
     "start_time": "2024-05-17T20:51:08.819122Z"
    }
   },
   "id": "beba4c7d95170e1b",
   "execution_count": 63
  },
  {
   "cell_type": "code",
   "outputs": [],
   "source": [
    "# using openpyxl, we open the Results/weighted_scores.xlsx file\n",
    "# we put the highest value of each row in bold\n",
    "wb = openpyxl.load_workbook(f\"Results/Experiment_2/Curated/{Method}/weighted_scores.xlsx\")\n",
    "ws = wb.active\n",
    "for row in ws.iter_rows(min_row=4, max_row=ws.max_row, min_col=2, max_col=3):\n",
    "    max_value = max([cell.value for cell in row])\n",
    "    for cell in row:\n",
    "        if cell.value == max_value:\n",
    "            cell.font = openpyxl.styles.Font(bold=True)\n",
    "wb.save(f\"Results/Experiment_2/Curated/{Method}/weighted_scores.xlsx\")\n",
    "\n",
    "# We do the same for the overall scores\n",
    "wb = openpyxl.load_workbook(f\"Results/Experiment_2/Curated/{Method}/overall_scores.xlsx\")\n",
    "ws = wb.active\n",
    "for row in ws.iter_rows(min_row=4, max_row=ws.max_row, min_col=2, max_col=3):\n",
    "    max_value = max([cell.value for cell in row])\n",
    "    for cell in row:\n",
    "        if cell.value == max_value:\n",
    "            cell.font = openpyxl.styles.Font(bold=True)\n",
    "wb.save(f\"Results/Experiment_2/Curated/{Method}/overall_scores.xlsx\")\n",
    "\n",
    "# We do the same for the v measure scores\n",
    "wb = openpyxl.load_workbook(f\"Results/Experiment_2/Curated/{Method}/v_measure_scores.xlsx\")\n",
    "ws = wb.active\n",
    "for row in ws.iter_rows(min_row=4, max_row=ws.max_row, min_col=2, max_col=3):\n",
    "    max_value = max([cell.value for cell in row])\n",
    "    for cell in row:\n",
    "        if cell.value == max_value:\n",
    "            cell.font = openpyxl.styles.Font(bold=True)\n",
    "wb.save(f\"Results/Experiment_2/Curated/{Method}/v_measure_scores.xlsx\")\n",
    "\n",
    "# And for Rand scores\n",
    "wb = openpyxl.load_workbook(f\"Results/Experiment_2/Curated/{Method}/rand_scores.xlsx\")\n",
    "ws = wb.active\n",
    "for row in ws.iter_rows(min_row=4, max_row=ws.max_row, min_col=2, max_col=3):\n",
    "    max_value = max([cell.value for cell in row])\n",
    "    for cell in row:\n",
    "        if cell.value == max_value:\n",
    "            cell.font = openpyxl.styles.Font(bold=True)\n",
    "wb.save(f\"Results/Experiment_2/Curated/{Method}/rand_scores.xlsx\")\n",
    "\n",
    "# and the same for f1 scores\n",
    "\n",
    "# We do the same for the overall scores\n",
    "wb = openpyxl.load_workbook(f\"Results/Experiment_2/Curated/{Method}/F1_scores.xlsx\")\n",
    "ws = wb.active\n",
    "for row in ws.iter_rows(min_row=4, max_row=ws.max_row, min_col=2, max_col=3):\n",
    "    max_value = max([cell.value for cell in row])\n",
    "    for cell in row:\n",
    "        if cell.value == max_value:\n",
    "            cell.font = openpyxl.styles.Font(bold=True)\n",
    "wb.save(f\"Results/Experiment_2/Curated/{Method}/F1_scores.xlsx\")"
   ],
   "metadata": {
    "collapsed": false,
    "ExecuteTime": {
     "end_time": "2024-05-17T20:51:09.246993Z",
     "start_time": "2024-05-17T20:51:09.022339Z"
    }
   },
   "id": "9717e412193e2974",
   "execution_count": 64
  },
  {
   "cell_type": "code",
   "outputs": [],
   "source": [
    "df.to_csv(f\"Results/Experiment_2/Curated/{Method}/results.csv\", sep=\";\", encoding=\"utf-8\")"
   ],
   "metadata": {
    "collapsed": false,
    "ExecuteTime": {
     "end_time": "2024-05-17T20:51:09.293377Z",
     "start_time": "2024-05-17T20:51:09.286922Z"
    }
   },
   "id": "a7796fa72130a8ee",
   "execution_count": 65
  },
  {
   "cell_type": "code",
   "outputs": [
    {
     "data": {
      "application/vnd.plotly.v1+json": {
       "data": [
        {
         "alignmentgroup": "True",
         "hovertemplate": "Model=%{x}<br>Weighted=%{y}<extra></extra>",
         "legendgroup": "Camembert",
         "marker": {
          "color": "#636efa"
         },
         "name": "Camembert",
         "notched": false,
         "offsetgroup": "Camembert",
         "orientation": "v",
         "showlegend": true,
         "x": [
          "Camembert",
          "Camembert",
          "Camembert",
          "Camembert",
          "Camembert",
          "Camembert",
          "Camembert",
          "Camembert",
          "Camembert",
          "Camembert",
          "Camembert",
          "Camembert",
          "Camembert",
          "Camembert"
         ],
         "x0": " ",
         "xaxis": "x",
         "y": [
          0.9821428571428572,
          0.3978888106966924,
          0.4349206349206349,
          0.6457528957528957,
          0.9417583761310834,
          0.2043024771838331,
          0.6876543209876543,
          0.688888888888889,
          0.3581081081081081,
          0.3476190476190476,
          0.9716666666666668,
          0.5839934638712854,
          0.6629184577093602,
          0.6055184621907602
         ],
         "y0": " ",
         "yaxis": "y",
         "type": "box"
        },
        {
         "alignmentgroup": "True",
         "hovertemplate": "Model=%{x}<br>Weighted=%{y}<extra></extra>",
         "legendgroup": "Flaubert",
         "marker": {
          "color": "#EF553B"
         },
         "name": "Flaubert",
         "notched": false,
         "offsetgroup": "Flaubert",
         "orientation": "v",
         "showlegend": true,
         "x": [
          "Flaubert",
          "Flaubert",
          "Flaubert",
          "Flaubert",
          "Flaubert",
          "Flaubert",
          "Flaubert",
          "Flaubert",
          "Flaubert",
          "Flaubert",
          "Flaubert",
          "Flaubert",
          "Flaubert",
          "Flaubert"
         ],
         "x0": " ",
         "xaxis": "x",
         "y": [
          0.5006613756613757,
          0.366185784658691,
          0.33668430335097,
          0.6486486486486487,
          0.3377353876253362,
          0.2066101694915254,
          0.345679012345679,
          0.6265432098765432,
          0.3445945945945945,
          0.1826086956521739,
          0.9716666666666668,
          0.4448430820594663,
          0.436291064032158,
          0.4425107135065639
         ],
         "y0": " ",
         "yaxis": "y",
         "type": "box"
        }
       ],
       "layout": {
        "template": {
         "data": {
          "barpolar": [
           {
            "marker": {
             "line": {
              "color": "white",
              "width": 0.5
             },
             "pattern": {
              "fillmode": "overlay",
              "size": 10,
              "solidity": 0.2
             }
            },
            "type": "barpolar"
           }
          ],
          "bar": [
           {
            "error_x": {
             "color": "#2a3f5f"
            },
            "error_y": {
             "color": "#2a3f5f"
            },
            "marker": {
             "line": {
              "color": "white",
              "width": 0.5
             },
             "pattern": {
              "fillmode": "overlay",
              "size": 10,
              "solidity": 0.2
             }
            },
            "type": "bar"
           }
          ],
          "carpet": [
           {
            "aaxis": {
             "endlinecolor": "#2a3f5f",
             "gridcolor": "#C8D4E3",
             "linecolor": "#C8D4E3",
             "minorgridcolor": "#C8D4E3",
             "startlinecolor": "#2a3f5f"
            },
            "baxis": {
             "endlinecolor": "#2a3f5f",
             "gridcolor": "#C8D4E3",
             "linecolor": "#C8D4E3",
             "minorgridcolor": "#C8D4E3",
             "startlinecolor": "#2a3f5f"
            },
            "type": "carpet"
           }
          ],
          "choropleth": [
           {
            "colorbar": {
             "outlinewidth": 0,
             "ticks": ""
            },
            "type": "choropleth"
           }
          ],
          "contourcarpet": [
           {
            "colorbar": {
             "outlinewidth": 0,
             "ticks": ""
            },
            "type": "contourcarpet"
           }
          ],
          "contour": [
           {
            "colorbar": {
             "outlinewidth": 0,
             "ticks": ""
            },
            "colorscale": [
             [
              0.0,
              "#0d0887"
             ],
             [
              0.1111111111111111,
              "#46039f"
             ],
             [
              0.2222222222222222,
              "#7201a8"
             ],
             [
              0.3333333333333333,
              "#9c179e"
             ],
             [
              0.4444444444444444,
              "#bd3786"
             ],
             [
              0.5555555555555556,
              "#d8576b"
             ],
             [
              0.6666666666666666,
              "#ed7953"
             ],
             [
              0.7777777777777778,
              "#fb9f3a"
             ],
             [
              0.8888888888888888,
              "#fdca26"
             ],
             [
              1.0,
              "#f0f921"
             ]
            ],
            "type": "contour"
           }
          ],
          "heatmapgl": [
           {
            "colorbar": {
             "outlinewidth": 0,
             "ticks": ""
            },
            "colorscale": [
             [
              0.0,
              "#0d0887"
             ],
             [
              0.1111111111111111,
              "#46039f"
             ],
             [
              0.2222222222222222,
              "#7201a8"
             ],
             [
              0.3333333333333333,
              "#9c179e"
             ],
             [
              0.4444444444444444,
              "#bd3786"
             ],
             [
              0.5555555555555556,
              "#d8576b"
             ],
             [
              0.6666666666666666,
              "#ed7953"
             ],
             [
              0.7777777777777778,
              "#fb9f3a"
             ],
             [
              0.8888888888888888,
              "#fdca26"
             ],
             [
              1.0,
              "#f0f921"
             ]
            ],
            "type": "heatmapgl"
           }
          ],
          "heatmap": [
           {
            "colorbar": {
             "outlinewidth": 0,
             "ticks": ""
            },
            "colorscale": [
             [
              0.0,
              "#0d0887"
             ],
             [
              0.1111111111111111,
              "#46039f"
             ],
             [
              0.2222222222222222,
              "#7201a8"
             ],
             [
              0.3333333333333333,
              "#9c179e"
             ],
             [
              0.4444444444444444,
              "#bd3786"
             ],
             [
              0.5555555555555556,
              "#d8576b"
             ],
             [
              0.6666666666666666,
              "#ed7953"
             ],
             [
              0.7777777777777778,
              "#fb9f3a"
             ],
             [
              0.8888888888888888,
              "#fdca26"
             ],
             [
              1.0,
              "#f0f921"
             ]
            ],
            "type": "heatmap"
           }
          ],
          "histogram2dcontour": [
           {
            "colorbar": {
             "outlinewidth": 0,
             "ticks": ""
            },
            "colorscale": [
             [
              0.0,
              "#0d0887"
             ],
             [
              0.1111111111111111,
              "#46039f"
             ],
             [
              0.2222222222222222,
              "#7201a8"
             ],
             [
              0.3333333333333333,
              "#9c179e"
             ],
             [
              0.4444444444444444,
              "#bd3786"
             ],
             [
              0.5555555555555556,
              "#d8576b"
             ],
             [
              0.6666666666666666,
              "#ed7953"
             ],
             [
              0.7777777777777778,
              "#fb9f3a"
             ],
             [
              0.8888888888888888,
              "#fdca26"
             ],
             [
              1.0,
              "#f0f921"
             ]
            ],
            "type": "histogram2dcontour"
           }
          ],
          "histogram2d": [
           {
            "colorbar": {
             "outlinewidth": 0,
             "ticks": ""
            },
            "colorscale": [
             [
              0.0,
              "#0d0887"
             ],
             [
              0.1111111111111111,
              "#46039f"
             ],
             [
              0.2222222222222222,
              "#7201a8"
             ],
             [
              0.3333333333333333,
              "#9c179e"
             ],
             [
              0.4444444444444444,
              "#bd3786"
             ],
             [
              0.5555555555555556,
              "#d8576b"
             ],
             [
              0.6666666666666666,
              "#ed7953"
             ],
             [
              0.7777777777777778,
              "#fb9f3a"
             ],
             [
              0.8888888888888888,
              "#fdca26"
             ],
             [
              1.0,
              "#f0f921"
             ]
            ],
            "type": "histogram2d"
           }
          ],
          "histogram": [
           {
            "marker": {
             "pattern": {
              "fillmode": "overlay",
              "size": 10,
              "solidity": 0.2
             }
            },
            "type": "histogram"
           }
          ],
          "mesh3d": [
           {
            "colorbar": {
             "outlinewidth": 0,
             "ticks": ""
            },
            "type": "mesh3d"
           }
          ],
          "parcoords": [
           {
            "line": {
             "colorbar": {
              "outlinewidth": 0,
              "ticks": ""
             }
            },
            "type": "parcoords"
           }
          ],
          "pie": [
           {
            "automargin": true,
            "type": "pie"
           }
          ],
          "scatter3d": [
           {
            "line": {
             "colorbar": {
              "outlinewidth": 0,
              "ticks": ""
             }
            },
            "marker": {
             "colorbar": {
              "outlinewidth": 0,
              "ticks": ""
             }
            },
            "type": "scatter3d"
           }
          ],
          "scattercarpet": [
           {
            "marker": {
             "colorbar": {
              "outlinewidth": 0,
              "ticks": ""
             }
            },
            "type": "scattercarpet"
           }
          ],
          "scattergeo": [
           {
            "marker": {
             "colorbar": {
              "outlinewidth": 0,
              "ticks": ""
             }
            },
            "type": "scattergeo"
           }
          ],
          "scattergl": [
           {
            "marker": {
             "colorbar": {
              "outlinewidth": 0,
              "ticks": ""
             }
            },
            "type": "scattergl"
           }
          ],
          "scattermapbox": [
           {
            "marker": {
             "colorbar": {
              "outlinewidth": 0,
              "ticks": ""
             }
            },
            "type": "scattermapbox"
           }
          ],
          "scatterpolargl": [
           {
            "marker": {
             "colorbar": {
              "outlinewidth": 0,
              "ticks": ""
             }
            },
            "type": "scatterpolargl"
           }
          ],
          "scatterpolar": [
           {
            "marker": {
             "colorbar": {
              "outlinewidth": 0,
              "ticks": ""
             }
            },
            "type": "scatterpolar"
           }
          ],
          "scatter": [
           {
            "fillpattern": {
             "fillmode": "overlay",
             "size": 10,
             "solidity": 0.2
            },
            "type": "scatter"
           }
          ],
          "scatterternary": [
           {
            "marker": {
             "colorbar": {
              "outlinewidth": 0,
              "ticks": ""
             }
            },
            "type": "scatterternary"
           }
          ],
          "surface": [
           {
            "colorbar": {
             "outlinewidth": 0,
             "ticks": ""
            },
            "colorscale": [
             [
              0.0,
              "#0d0887"
             ],
             [
              0.1111111111111111,
              "#46039f"
             ],
             [
              0.2222222222222222,
              "#7201a8"
             ],
             [
              0.3333333333333333,
              "#9c179e"
             ],
             [
              0.4444444444444444,
              "#bd3786"
             ],
             [
              0.5555555555555556,
              "#d8576b"
             ],
             [
              0.6666666666666666,
              "#ed7953"
             ],
             [
              0.7777777777777778,
              "#fb9f3a"
             ],
             [
              0.8888888888888888,
              "#fdca26"
             ],
             [
              1.0,
              "#f0f921"
             ]
            ],
            "type": "surface"
           }
          ],
          "table": [
           {
            "cells": {
             "fill": {
              "color": "#EBF0F8"
             },
             "line": {
              "color": "white"
             }
            },
            "header": {
             "fill": {
              "color": "#C8D4E3"
             },
             "line": {
              "color": "white"
             }
            },
            "type": "table"
           }
          ]
         },
         "layout": {
          "annotationdefaults": {
           "arrowcolor": "#2a3f5f",
           "arrowhead": 0,
           "arrowwidth": 1
          },
          "autotypenumbers": "strict",
          "coloraxis": {
           "colorbar": {
            "outlinewidth": 0,
            "ticks": ""
           }
          },
          "colorscale": {
           "diverging": [
            [
             0,
             "#8e0152"
            ],
            [
             0.1,
             "#c51b7d"
            ],
            [
             0.2,
             "#de77ae"
            ],
            [
             0.3,
             "#f1b6da"
            ],
            [
             0.4,
             "#fde0ef"
            ],
            [
             0.5,
             "#f7f7f7"
            ],
            [
             0.6,
             "#e6f5d0"
            ],
            [
             0.7,
             "#b8e186"
            ],
            [
             0.8,
             "#7fbc41"
            ],
            [
             0.9,
             "#4d9221"
            ],
            [
             1,
             "#276419"
            ]
           ],
           "sequential": [
            [
             0.0,
             "#0d0887"
            ],
            [
             0.1111111111111111,
             "#46039f"
            ],
            [
             0.2222222222222222,
             "#7201a8"
            ],
            [
             0.3333333333333333,
             "#9c179e"
            ],
            [
             0.4444444444444444,
             "#bd3786"
            ],
            [
             0.5555555555555556,
             "#d8576b"
            ],
            [
             0.6666666666666666,
             "#ed7953"
            ],
            [
             0.7777777777777778,
             "#fb9f3a"
            ],
            [
             0.8888888888888888,
             "#fdca26"
            ],
            [
             1.0,
             "#f0f921"
            ]
           ],
           "sequentialminus": [
            [
             0.0,
             "#0d0887"
            ],
            [
             0.1111111111111111,
             "#46039f"
            ],
            [
             0.2222222222222222,
             "#7201a8"
            ],
            [
             0.3333333333333333,
             "#9c179e"
            ],
            [
             0.4444444444444444,
             "#bd3786"
            ],
            [
             0.5555555555555556,
             "#d8576b"
            ],
            [
             0.6666666666666666,
             "#ed7953"
            ],
            [
             0.7777777777777778,
             "#fb9f3a"
            ],
            [
             0.8888888888888888,
             "#fdca26"
            ],
            [
             1.0,
             "#f0f921"
            ]
           ]
          },
          "colorway": [
           "#636efa",
           "#EF553B",
           "#00cc96",
           "#ab63fa",
           "#FFA15A",
           "#19d3f3",
           "#FF6692",
           "#B6E880",
           "#FF97FF",
           "#FECB52"
          ],
          "font": {
           "color": "#2a3f5f"
          },
          "geo": {
           "bgcolor": "white",
           "lakecolor": "white",
           "landcolor": "white",
           "showlakes": true,
           "showland": true,
           "subunitcolor": "#C8D4E3"
          },
          "hoverlabel": {
           "align": "left"
          },
          "hovermode": "closest",
          "mapbox": {
           "style": "light"
          },
          "paper_bgcolor": "white",
          "plot_bgcolor": "white",
          "polar": {
           "angularaxis": {
            "gridcolor": "#EBF0F8",
            "linecolor": "#EBF0F8",
            "ticks": ""
           },
           "bgcolor": "white",
           "radialaxis": {
            "gridcolor": "#EBF0F8",
            "linecolor": "#EBF0F8",
            "ticks": ""
           }
          },
          "scene": {
           "xaxis": {
            "backgroundcolor": "white",
            "gridcolor": "#DFE8F3",
            "gridwidth": 2,
            "linecolor": "#EBF0F8",
            "showbackground": true,
            "ticks": "",
            "zerolinecolor": "#EBF0F8"
           },
           "yaxis": {
            "backgroundcolor": "white",
            "gridcolor": "#DFE8F3",
            "gridwidth": 2,
            "linecolor": "#EBF0F8",
            "showbackground": true,
            "ticks": "",
            "zerolinecolor": "#EBF0F8"
           },
           "zaxis": {
            "backgroundcolor": "white",
            "gridcolor": "#DFE8F3",
            "gridwidth": 2,
            "linecolor": "#EBF0F8",
            "showbackground": true,
            "ticks": "",
            "zerolinecolor": "#EBF0F8"
           }
          },
          "shapedefaults": {
           "line": {
            "color": "#2a3f5f"
           }
          },
          "ternary": {
           "aaxis": {
            "gridcolor": "#DFE8F3",
            "linecolor": "#A2B1C6",
            "ticks": ""
           },
           "baxis": {
            "gridcolor": "#DFE8F3",
            "linecolor": "#A2B1C6",
            "ticks": ""
           },
           "bgcolor": "white",
           "caxis": {
            "gridcolor": "#DFE8F3",
            "linecolor": "#A2B1C6",
            "ticks": ""
           }
          },
          "title": {
           "x": 0.05
          },
          "xaxis": {
           "automargin": true,
           "gridcolor": "#EBF0F8",
           "linecolor": "#EBF0F8",
           "ticks": "",
           "title": {
            "standoff": 15
           },
           "zerolinecolor": "#EBF0F8",
           "zerolinewidth": 2
          },
          "yaxis": {
           "automargin": true,
           "gridcolor": "#EBF0F8",
           "linecolor": "#EBF0F8",
           "ticks": "",
           "title": {
            "standoff": 15
           },
           "zerolinecolor": "#EBF0F8",
           "zerolinewidth": 2
          }
         }
        },
        "xaxis": {
         "anchor": "y",
         "domain": [
          0.0,
          1.0
         ],
         "title": {
          "text": "Model"
         },
         "categoryorder": "array",
         "categoryarray": [
          "Camembert",
          "Flaubert"
         ]
        },
        "yaxis": {
         "anchor": "x",
         "domain": [
          0.0,
          1.0
         ],
         "title": {
          "text": "Weighted"
         }
        },
        "legend": {
         "title": {
          "text": "Model"
         },
         "tracegroupgap": 0
        },
        "title": {
         "text": "Weighted scores for each model"
        },
        "boxmode": "overlay",
        "showlegend": false
       },
       "config": {
        "plotlyServerURL": "https://plot.ly"
       }
      },
      "text/html": "<div>                            <div id=\"48e03d06-c273-4bcf-baab-ebca44748568\" class=\"plotly-graph-div\" style=\"height:525px; width:100%;\"></div>            <script type=\"text/javascript\">                require([\"plotly\"], function(Plotly) {                    window.PLOTLYENV=window.PLOTLYENV || {};                                    if (document.getElementById(\"48e03d06-c273-4bcf-baab-ebca44748568\")) {                    Plotly.newPlot(                        \"48e03d06-c273-4bcf-baab-ebca44748568\",                        [{\"alignmentgroup\":\"True\",\"hovertemplate\":\"Model=%{x}\\u003cbr\\u003eWeighted=%{y}\\u003cextra\\u003e\\u003c\\u002fextra\\u003e\",\"legendgroup\":\"Camembert\",\"marker\":{\"color\":\"#636efa\"},\"name\":\"Camembert\",\"notched\":false,\"offsetgroup\":\"Camembert\",\"orientation\":\"v\",\"showlegend\":true,\"x\":[\"Camembert\",\"Camembert\",\"Camembert\",\"Camembert\",\"Camembert\",\"Camembert\",\"Camembert\",\"Camembert\",\"Camembert\",\"Camembert\",\"Camembert\",\"Camembert\",\"Camembert\",\"Camembert\"],\"x0\":\" \",\"xaxis\":\"x\",\"y\":[0.9821428571428572,0.3978888106966924,0.4349206349206349,0.6457528957528957,0.9417583761310834,0.2043024771838331,0.6876543209876543,0.688888888888889,0.3581081081081081,0.3476190476190476,0.9716666666666668,0.5839934638712854,0.6629184577093602,0.6055184621907602],\"y0\":\" \",\"yaxis\":\"y\",\"type\":\"box\"},{\"alignmentgroup\":\"True\",\"hovertemplate\":\"Model=%{x}\\u003cbr\\u003eWeighted=%{y}\\u003cextra\\u003e\\u003c\\u002fextra\\u003e\",\"legendgroup\":\"Flaubert\",\"marker\":{\"color\":\"#EF553B\"},\"name\":\"Flaubert\",\"notched\":false,\"offsetgroup\":\"Flaubert\",\"orientation\":\"v\",\"showlegend\":true,\"x\":[\"Flaubert\",\"Flaubert\",\"Flaubert\",\"Flaubert\",\"Flaubert\",\"Flaubert\",\"Flaubert\",\"Flaubert\",\"Flaubert\",\"Flaubert\",\"Flaubert\",\"Flaubert\",\"Flaubert\",\"Flaubert\"],\"x0\":\" \",\"xaxis\":\"x\",\"y\":[0.5006613756613757,0.366185784658691,0.33668430335097,0.6486486486486487,0.3377353876253362,0.2066101694915254,0.345679012345679,0.6265432098765432,0.3445945945945945,0.1826086956521739,0.9716666666666668,0.4448430820594663,0.436291064032158,0.4425107135065639],\"y0\":\" \",\"yaxis\":\"y\",\"type\":\"box\"}],                        {\"template\":{\"data\":{\"barpolar\":[{\"marker\":{\"line\":{\"color\":\"white\",\"width\":0.5},\"pattern\":{\"fillmode\":\"overlay\",\"size\":10,\"solidity\":0.2}},\"type\":\"barpolar\"}],\"bar\":[{\"error_x\":{\"color\":\"#2a3f5f\"},\"error_y\":{\"color\":\"#2a3f5f\"},\"marker\":{\"line\":{\"color\":\"white\",\"width\":0.5},\"pattern\":{\"fillmode\":\"overlay\",\"size\":10,\"solidity\":0.2}},\"type\":\"bar\"}],\"carpet\":[{\"aaxis\":{\"endlinecolor\":\"#2a3f5f\",\"gridcolor\":\"#C8D4E3\",\"linecolor\":\"#C8D4E3\",\"minorgridcolor\":\"#C8D4E3\",\"startlinecolor\":\"#2a3f5f\"},\"baxis\":{\"endlinecolor\":\"#2a3f5f\",\"gridcolor\":\"#C8D4E3\",\"linecolor\":\"#C8D4E3\",\"minorgridcolor\":\"#C8D4E3\",\"startlinecolor\":\"#2a3f5f\"},\"type\":\"carpet\"}],\"choropleth\":[{\"colorbar\":{\"outlinewidth\":0,\"ticks\":\"\"},\"type\":\"choropleth\"}],\"contourcarpet\":[{\"colorbar\":{\"outlinewidth\":0,\"ticks\":\"\"},\"type\":\"contourcarpet\"}],\"contour\":[{\"colorbar\":{\"outlinewidth\":0,\"ticks\":\"\"},\"colorscale\":[[0.0,\"#0d0887\"],[0.1111111111111111,\"#46039f\"],[0.2222222222222222,\"#7201a8\"],[0.3333333333333333,\"#9c179e\"],[0.4444444444444444,\"#bd3786\"],[0.5555555555555556,\"#d8576b\"],[0.6666666666666666,\"#ed7953\"],[0.7777777777777778,\"#fb9f3a\"],[0.8888888888888888,\"#fdca26\"],[1.0,\"#f0f921\"]],\"type\":\"contour\"}],\"heatmapgl\":[{\"colorbar\":{\"outlinewidth\":0,\"ticks\":\"\"},\"colorscale\":[[0.0,\"#0d0887\"],[0.1111111111111111,\"#46039f\"],[0.2222222222222222,\"#7201a8\"],[0.3333333333333333,\"#9c179e\"],[0.4444444444444444,\"#bd3786\"],[0.5555555555555556,\"#d8576b\"],[0.6666666666666666,\"#ed7953\"],[0.7777777777777778,\"#fb9f3a\"],[0.8888888888888888,\"#fdca26\"],[1.0,\"#f0f921\"]],\"type\":\"heatmapgl\"}],\"heatmap\":[{\"colorbar\":{\"outlinewidth\":0,\"ticks\":\"\"},\"colorscale\":[[0.0,\"#0d0887\"],[0.1111111111111111,\"#46039f\"],[0.2222222222222222,\"#7201a8\"],[0.3333333333333333,\"#9c179e\"],[0.4444444444444444,\"#bd3786\"],[0.5555555555555556,\"#d8576b\"],[0.6666666666666666,\"#ed7953\"],[0.7777777777777778,\"#fb9f3a\"],[0.8888888888888888,\"#fdca26\"],[1.0,\"#f0f921\"]],\"type\":\"heatmap\"}],\"histogram2dcontour\":[{\"colorbar\":{\"outlinewidth\":0,\"ticks\":\"\"},\"colorscale\":[[0.0,\"#0d0887\"],[0.1111111111111111,\"#46039f\"],[0.2222222222222222,\"#7201a8\"],[0.3333333333333333,\"#9c179e\"],[0.4444444444444444,\"#bd3786\"],[0.5555555555555556,\"#d8576b\"],[0.6666666666666666,\"#ed7953\"],[0.7777777777777778,\"#fb9f3a\"],[0.8888888888888888,\"#fdca26\"],[1.0,\"#f0f921\"]],\"type\":\"histogram2dcontour\"}],\"histogram2d\":[{\"colorbar\":{\"outlinewidth\":0,\"ticks\":\"\"},\"colorscale\":[[0.0,\"#0d0887\"],[0.1111111111111111,\"#46039f\"],[0.2222222222222222,\"#7201a8\"],[0.3333333333333333,\"#9c179e\"],[0.4444444444444444,\"#bd3786\"],[0.5555555555555556,\"#d8576b\"],[0.6666666666666666,\"#ed7953\"],[0.7777777777777778,\"#fb9f3a\"],[0.8888888888888888,\"#fdca26\"],[1.0,\"#f0f921\"]],\"type\":\"histogram2d\"}],\"histogram\":[{\"marker\":{\"pattern\":{\"fillmode\":\"overlay\",\"size\":10,\"solidity\":0.2}},\"type\":\"histogram\"}],\"mesh3d\":[{\"colorbar\":{\"outlinewidth\":0,\"ticks\":\"\"},\"type\":\"mesh3d\"}],\"parcoords\":[{\"line\":{\"colorbar\":{\"outlinewidth\":0,\"ticks\":\"\"}},\"type\":\"parcoords\"}],\"pie\":[{\"automargin\":true,\"type\":\"pie\"}],\"scatter3d\":[{\"line\":{\"colorbar\":{\"outlinewidth\":0,\"ticks\":\"\"}},\"marker\":{\"colorbar\":{\"outlinewidth\":0,\"ticks\":\"\"}},\"type\":\"scatter3d\"}],\"scattercarpet\":[{\"marker\":{\"colorbar\":{\"outlinewidth\":0,\"ticks\":\"\"}},\"type\":\"scattercarpet\"}],\"scattergeo\":[{\"marker\":{\"colorbar\":{\"outlinewidth\":0,\"ticks\":\"\"}},\"type\":\"scattergeo\"}],\"scattergl\":[{\"marker\":{\"colorbar\":{\"outlinewidth\":0,\"ticks\":\"\"}},\"type\":\"scattergl\"}],\"scattermapbox\":[{\"marker\":{\"colorbar\":{\"outlinewidth\":0,\"ticks\":\"\"}},\"type\":\"scattermapbox\"}],\"scatterpolargl\":[{\"marker\":{\"colorbar\":{\"outlinewidth\":0,\"ticks\":\"\"}},\"type\":\"scatterpolargl\"}],\"scatterpolar\":[{\"marker\":{\"colorbar\":{\"outlinewidth\":0,\"ticks\":\"\"}},\"type\":\"scatterpolar\"}],\"scatter\":[{\"fillpattern\":{\"fillmode\":\"overlay\",\"size\":10,\"solidity\":0.2},\"type\":\"scatter\"}],\"scatterternary\":[{\"marker\":{\"colorbar\":{\"outlinewidth\":0,\"ticks\":\"\"}},\"type\":\"scatterternary\"}],\"surface\":[{\"colorbar\":{\"outlinewidth\":0,\"ticks\":\"\"},\"colorscale\":[[0.0,\"#0d0887\"],[0.1111111111111111,\"#46039f\"],[0.2222222222222222,\"#7201a8\"],[0.3333333333333333,\"#9c179e\"],[0.4444444444444444,\"#bd3786\"],[0.5555555555555556,\"#d8576b\"],[0.6666666666666666,\"#ed7953\"],[0.7777777777777778,\"#fb9f3a\"],[0.8888888888888888,\"#fdca26\"],[1.0,\"#f0f921\"]],\"type\":\"surface\"}],\"table\":[{\"cells\":{\"fill\":{\"color\":\"#EBF0F8\"},\"line\":{\"color\":\"white\"}},\"header\":{\"fill\":{\"color\":\"#C8D4E3\"},\"line\":{\"color\":\"white\"}},\"type\":\"table\"}]},\"layout\":{\"annotationdefaults\":{\"arrowcolor\":\"#2a3f5f\",\"arrowhead\":0,\"arrowwidth\":1},\"autotypenumbers\":\"strict\",\"coloraxis\":{\"colorbar\":{\"outlinewidth\":0,\"ticks\":\"\"}},\"colorscale\":{\"diverging\":[[0,\"#8e0152\"],[0.1,\"#c51b7d\"],[0.2,\"#de77ae\"],[0.3,\"#f1b6da\"],[0.4,\"#fde0ef\"],[0.5,\"#f7f7f7\"],[0.6,\"#e6f5d0\"],[0.7,\"#b8e186\"],[0.8,\"#7fbc41\"],[0.9,\"#4d9221\"],[1,\"#276419\"]],\"sequential\":[[0.0,\"#0d0887\"],[0.1111111111111111,\"#46039f\"],[0.2222222222222222,\"#7201a8\"],[0.3333333333333333,\"#9c179e\"],[0.4444444444444444,\"#bd3786\"],[0.5555555555555556,\"#d8576b\"],[0.6666666666666666,\"#ed7953\"],[0.7777777777777778,\"#fb9f3a\"],[0.8888888888888888,\"#fdca26\"],[1.0,\"#f0f921\"]],\"sequentialminus\":[[0.0,\"#0d0887\"],[0.1111111111111111,\"#46039f\"],[0.2222222222222222,\"#7201a8\"],[0.3333333333333333,\"#9c179e\"],[0.4444444444444444,\"#bd3786\"],[0.5555555555555556,\"#d8576b\"],[0.6666666666666666,\"#ed7953\"],[0.7777777777777778,\"#fb9f3a\"],[0.8888888888888888,\"#fdca26\"],[1.0,\"#f0f921\"]]},\"colorway\":[\"#636efa\",\"#EF553B\",\"#00cc96\",\"#ab63fa\",\"#FFA15A\",\"#19d3f3\",\"#FF6692\",\"#B6E880\",\"#FF97FF\",\"#FECB52\"],\"font\":{\"color\":\"#2a3f5f\"},\"geo\":{\"bgcolor\":\"white\",\"lakecolor\":\"white\",\"landcolor\":\"white\",\"showlakes\":true,\"showland\":true,\"subunitcolor\":\"#C8D4E3\"},\"hoverlabel\":{\"align\":\"left\"},\"hovermode\":\"closest\",\"mapbox\":{\"style\":\"light\"},\"paper_bgcolor\":\"white\",\"plot_bgcolor\":\"white\",\"polar\":{\"angularaxis\":{\"gridcolor\":\"#EBF0F8\",\"linecolor\":\"#EBF0F8\",\"ticks\":\"\"},\"bgcolor\":\"white\",\"radialaxis\":{\"gridcolor\":\"#EBF0F8\",\"linecolor\":\"#EBF0F8\",\"ticks\":\"\"}},\"scene\":{\"xaxis\":{\"backgroundcolor\":\"white\",\"gridcolor\":\"#DFE8F3\",\"gridwidth\":2,\"linecolor\":\"#EBF0F8\",\"showbackground\":true,\"ticks\":\"\",\"zerolinecolor\":\"#EBF0F8\"},\"yaxis\":{\"backgroundcolor\":\"white\",\"gridcolor\":\"#DFE8F3\",\"gridwidth\":2,\"linecolor\":\"#EBF0F8\",\"showbackground\":true,\"ticks\":\"\",\"zerolinecolor\":\"#EBF0F8\"},\"zaxis\":{\"backgroundcolor\":\"white\",\"gridcolor\":\"#DFE8F3\",\"gridwidth\":2,\"linecolor\":\"#EBF0F8\",\"showbackground\":true,\"ticks\":\"\",\"zerolinecolor\":\"#EBF0F8\"}},\"shapedefaults\":{\"line\":{\"color\":\"#2a3f5f\"}},\"ternary\":{\"aaxis\":{\"gridcolor\":\"#DFE8F3\",\"linecolor\":\"#A2B1C6\",\"ticks\":\"\"},\"baxis\":{\"gridcolor\":\"#DFE8F3\",\"linecolor\":\"#A2B1C6\",\"ticks\":\"\"},\"bgcolor\":\"white\",\"caxis\":{\"gridcolor\":\"#DFE8F3\",\"linecolor\":\"#A2B1C6\",\"ticks\":\"\"}},\"title\":{\"x\":0.05},\"xaxis\":{\"automargin\":true,\"gridcolor\":\"#EBF0F8\",\"linecolor\":\"#EBF0F8\",\"ticks\":\"\",\"title\":{\"standoff\":15},\"zerolinecolor\":\"#EBF0F8\",\"zerolinewidth\":2},\"yaxis\":{\"automargin\":true,\"gridcolor\":\"#EBF0F8\",\"linecolor\":\"#EBF0F8\",\"ticks\":\"\",\"title\":{\"standoff\":15},\"zerolinecolor\":\"#EBF0F8\",\"zerolinewidth\":2}}},\"xaxis\":{\"anchor\":\"y\",\"domain\":[0.0,1.0],\"title\":{\"text\":\"Model\"},\"categoryorder\":\"array\",\"categoryarray\":[\"Camembert\",\"Flaubert\"]},\"yaxis\":{\"anchor\":\"x\",\"domain\":[0.0,1.0],\"title\":{\"text\":\"Weighted\"}},\"legend\":{\"title\":{\"text\":\"Model\"},\"tracegroupgap\":0},\"title\":{\"text\":\"Weighted scores for each model\"},\"boxmode\":\"overlay\",\"showlegend\":false},                        {\"responsive\": true}                    ).then(function(){\n                            \nvar gd = document.getElementById('48e03d06-c273-4bcf-baab-ebca44748568');\nvar x = new MutationObserver(function (mutations, observer) {{\n        var display = window.getComputedStyle(gd).display;\n        if (!display || display === 'none') {{\n            console.log([gd, 'removed!']);\n            Plotly.purge(gd);\n            observer.disconnect();\n        }}\n}});\n\n// Listen for the removal of the full notebook cells\nvar notebookContainer = gd.closest('#notebook-container');\nif (notebookContainer) {{\n    x.observe(notebookContainer, {childList: true});\n}}\n\n// Listen for the clearing of the current output cell\nvar outputEl = gd.closest('.output');\nif (outputEl) {{\n    x.observe(outputEl, {childList: true});\n}}\n\n                        })                };                });            </script>        </div>"
     },
     "metadata": {},
     "output_type": "display_data"
    },
    {
     "data": {
      "application/vnd.plotly.v1+json": {
       "data": [
        {
         "alignmentgroup": "True",
         "hovertemplate": "Model=%{x}<br>Overall=%{y}<extra></extra>",
         "legendgroup": "Camembert",
         "marker": {
          "color": "#636efa"
         },
         "name": "Camembert",
         "notched": false,
         "offsetgroup": "Camembert",
         "orientation": "v",
         "showlegend": true,
         "x": [
          "Camembert",
          "Camembert",
          "Camembert",
          "Camembert",
          "Camembert",
          "Camembert",
          "Camembert",
          "Camembert",
          "Camembert",
          "Camembert",
          "Camembert",
          "Camembert",
          "Camembert",
          "Camembert"
         ],
         "x0": " ",
         "xaxis": "x",
         "y": [
          0.988095238095238,
          0.5306122448979592,
          0.5048543689320388,
          0.7875,
          0.9479166666666666,
          0.4796747967479675,
          0.8529411764705882,
          0.7454545454545455,
          0.5096153846153846,
          0.3918918918918919,
          0.976470588235294,
          0.6890050381588722,
          0.7343288655788656,
          0.7013660820006886
         ],
         "y0": " ",
         "yaxis": "y",
         "type": "box"
        },
        {
         "alignmentgroup": "True",
         "hovertemplate": "Model=%{x}<br>Overall=%{y}<extra></extra>",
         "legendgroup": "Flaubert",
         "marker": {
          "color": "#EF553B"
         },
         "name": "Flaubert",
         "notched": false,
         "offsetgroup": "Flaubert",
         "orientation": "v",
         "showlegend": true,
         "x": [
          "Flaubert",
          "Flaubert",
          "Flaubert",
          "Flaubert",
          "Flaubert",
          "Flaubert",
          "Flaubert",
          "Flaubert",
          "Flaubert",
          "Flaubert",
          "Flaubert",
          "Flaubert",
          "Flaubert",
          "Flaubert"
         ],
         "x0": " ",
         "xaxis": "x",
         "y": [
          0.6626506024096386,
          0.5204081632653061,
          0.5242718446601942,
          0.7875,
          0.4895833333333333,
          0.4796747967479675,
          0.4705882352941176,
          0.6851851851851852,
          0.4903846153846153,
          0.2876712328767123,
          0.976470588235294,
          0.5886544329361538,
          0.555051044634378,
          0.5794898724902149
         ],
         "y0": " ",
         "yaxis": "y",
         "type": "box"
        }
       ],
       "layout": {
        "template": {
         "data": {
          "barpolar": [
           {
            "marker": {
             "line": {
              "color": "white",
              "width": 0.5
             },
             "pattern": {
              "fillmode": "overlay",
              "size": 10,
              "solidity": 0.2
             }
            },
            "type": "barpolar"
           }
          ],
          "bar": [
           {
            "error_x": {
             "color": "#2a3f5f"
            },
            "error_y": {
             "color": "#2a3f5f"
            },
            "marker": {
             "line": {
              "color": "white",
              "width": 0.5
             },
             "pattern": {
              "fillmode": "overlay",
              "size": 10,
              "solidity": 0.2
             }
            },
            "type": "bar"
           }
          ],
          "carpet": [
           {
            "aaxis": {
             "endlinecolor": "#2a3f5f",
             "gridcolor": "#C8D4E3",
             "linecolor": "#C8D4E3",
             "minorgridcolor": "#C8D4E3",
             "startlinecolor": "#2a3f5f"
            },
            "baxis": {
             "endlinecolor": "#2a3f5f",
             "gridcolor": "#C8D4E3",
             "linecolor": "#C8D4E3",
             "minorgridcolor": "#C8D4E3",
             "startlinecolor": "#2a3f5f"
            },
            "type": "carpet"
           }
          ],
          "choropleth": [
           {
            "colorbar": {
             "outlinewidth": 0,
             "ticks": ""
            },
            "type": "choropleth"
           }
          ],
          "contourcarpet": [
           {
            "colorbar": {
             "outlinewidth": 0,
             "ticks": ""
            },
            "type": "contourcarpet"
           }
          ],
          "contour": [
           {
            "colorbar": {
             "outlinewidth": 0,
             "ticks": ""
            },
            "colorscale": [
             [
              0.0,
              "#0d0887"
             ],
             [
              0.1111111111111111,
              "#46039f"
             ],
             [
              0.2222222222222222,
              "#7201a8"
             ],
             [
              0.3333333333333333,
              "#9c179e"
             ],
             [
              0.4444444444444444,
              "#bd3786"
             ],
             [
              0.5555555555555556,
              "#d8576b"
             ],
             [
              0.6666666666666666,
              "#ed7953"
             ],
             [
              0.7777777777777778,
              "#fb9f3a"
             ],
             [
              0.8888888888888888,
              "#fdca26"
             ],
             [
              1.0,
              "#f0f921"
             ]
            ],
            "type": "contour"
           }
          ],
          "heatmapgl": [
           {
            "colorbar": {
             "outlinewidth": 0,
             "ticks": ""
            },
            "colorscale": [
             [
              0.0,
              "#0d0887"
             ],
             [
              0.1111111111111111,
              "#46039f"
             ],
             [
              0.2222222222222222,
              "#7201a8"
             ],
             [
              0.3333333333333333,
              "#9c179e"
             ],
             [
              0.4444444444444444,
              "#bd3786"
             ],
             [
              0.5555555555555556,
              "#d8576b"
             ],
             [
              0.6666666666666666,
              "#ed7953"
             ],
             [
              0.7777777777777778,
              "#fb9f3a"
             ],
             [
              0.8888888888888888,
              "#fdca26"
             ],
             [
              1.0,
              "#f0f921"
             ]
            ],
            "type": "heatmapgl"
           }
          ],
          "heatmap": [
           {
            "colorbar": {
             "outlinewidth": 0,
             "ticks": ""
            },
            "colorscale": [
             [
              0.0,
              "#0d0887"
             ],
             [
              0.1111111111111111,
              "#46039f"
             ],
             [
              0.2222222222222222,
              "#7201a8"
             ],
             [
              0.3333333333333333,
              "#9c179e"
             ],
             [
              0.4444444444444444,
              "#bd3786"
             ],
             [
              0.5555555555555556,
              "#d8576b"
             ],
             [
              0.6666666666666666,
              "#ed7953"
             ],
             [
              0.7777777777777778,
              "#fb9f3a"
             ],
             [
              0.8888888888888888,
              "#fdca26"
             ],
             [
              1.0,
              "#f0f921"
             ]
            ],
            "type": "heatmap"
           }
          ],
          "histogram2dcontour": [
           {
            "colorbar": {
             "outlinewidth": 0,
             "ticks": ""
            },
            "colorscale": [
             [
              0.0,
              "#0d0887"
             ],
             [
              0.1111111111111111,
              "#46039f"
             ],
             [
              0.2222222222222222,
              "#7201a8"
             ],
             [
              0.3333333333333333,
              "#9c179e"
             ],
             [
              0.4444444444444444,
              "#bd3786"
             ],
             [
              0.5555555555555556,
              "#d8576b"
             ],
             [
              0.6666666666666666,
              "#ed7953"
             ],
             [
              0.7777777777777778,
              "#fb9f3a"
             ],
             [
              0.8888888888888888,
              "#fdca26"
             ],
             [
              1.0,
              "#f0f921"
             ]
            ],
            "type": "histogram2dcontour"
           }
          ],
          "histogram2d": [
           {
            "colorbar": {
             "outlinewidth": 0,
             "ticks": ""
            },
            "colorscale": [
             [
              0.0,
              "#0d0887"
             ],
             [
              0.1111111111111111,
              "#46039f"
             ],
             [
              0.2222222222222222,
              "#7201a8"
             ],
             [
              0.3333333333333333,
              "#9c179e"
             ],
             [
              0.4444444444444444,
              "#bd3786"
             ],
             [
              0.5555555555555556,
              "#d8576b"
             ],
             [
              0.6666666666666666,
              "#ed7953"
             ],
             [
              0.7777777777777778,
              "#fb9f3a"
             ],
             [
              0.8888888888888888,
              "#fdca26"
             ],
             [
              1.0,
              "#f0f921"
             ]
            ],
            "type": "histogram2d"
           }
          ],
          "histogram": [
           {
            "marker": {
             "pattern": {
              "fillmode": "overlay",
              "size": 10,
              "solidity": 0.2
             }
            },
            "type": "histogram"
           }
          ],
          "mesh3d": [
           {
            "colorbar": {
             "outlinewidth": 0,
             "ticks": ""
            },
            "type": "mesh3d"
           }
          ],
          "parcoords": [
           {
            "line": {
             "colorbar": {
              "outlinewidth": 0,
              "ticks": ""
             }
            },
            "type": "parcoords"
           }
          ],
          "pie": [
           {
            "automargin": true,
            "type": "pie"
           }
          ],
          "scatter3d": [
           {
            "line": {
             "colorbar": {
              "outlinewidth": 0,
              "ticks": ""
             }
            },
            "marker": {
             "colorbar": {
              "outlinewidth": 0,
              "ticks": ""
             }
            },
            "type": "scatter3d"
           }
          ],
          "scattercarpet": [
           {
            "marker": {
             "colorbar": {
              "outlinewidth": 0,
              "ticks": ""
             }
            },
            "type": "scattercarpet"
           }
          ],
          "scattergeo": [
           {
            "marker": {
             "colorbar": {
              "outlinewidth": 0,
              "ticks": ""
             }
            },
            "type": "scattergeo"
           }
          ],
          "scattergl": [
           {
            "marker": {
             "colorbar": {
              "outlinewidth": 0,
              "ticks": ""
             }
            },
            "type": "scattergl"
           }
          ],
          "scattermapbox": [
           {
            "marker": {
             "colorbar": {
              "outlinewidth": 0,
              "ticks": ""
             }
            },
            "type": "scattermapbox"
           }
          ],
          "scatterpolargl": [
           {
            "marker": {
             "colorbar": {
              "outlinewidth": 0,
              "ticks": ""
             }
            },
            "type": "scatterpolargl"
           }
          ],
          "scatterpolar": [
           {
            "marker": {
             "colorbar": {
              "outlinewidth": 0,
              "ticks": ""
             }
            },
            "type": "scatterpolar"
           }
          ],
          "scatter": [
           {
            "fillpattern": {
             "fillmode": "overlay",
             "size": 10,
             "solidity": 0.2
            },
            "type": "scatter"
           }
          ],
          "scatterternary": [
           {
            "marker": {
             "colorbar": {
              "outlinewidth": 0,
              "ticks": ""
             }
            },
            "type": "scatterternary"
           }
          ],
          "surface": [
           {
            "colorbar": {
             "outlinewidth": 0,
             "ticks": ""
            },
            "colorscale": [
             [
              0.0,
              "#0d0887"
             ],
             [
              0.1111111111111111,
              "#46039f"
             ],
             [
              0.2222222222222222,
              "#7201a8"
             ],
             [
              0.3333333333333333,
              "#9c179e"
             ],
             [
              0.4444444444444444,
              "#bd3786"
             ],
             [
              0.5555555555555556,
              "#d8576b"
             ],
             [
              0.6666666666666666,
              "#ed7953"
             ],
             [
              0.7777777777777778,
              "#fb9f3a"
             ],
             [
              0.8888888888888888,
              "#fdca26"
             ],
             [
              1.0,
              "#f0f921"
             ]
            ],
            "type": "surface"
           }
          ],
          "table": [
           {
            "cells": {
             "fill": {
              "color": "#EBF0F8"
             },
             "line": {
              "color": "white"
             }
            },
            "header": {
             "fill": {
              "color": "#C8D4E3"
             },
             "line": {
              "color": "white"
             }
            },
            "type": "table"
           }
          ]
         },
         "layout": {
          "annotationdefaults": {
           "arrowcolor": "#2a3f5f",
           "arrowhead": 0,
           "arrowwidth": 1
          },
          "autotypenumbers": "strict",
          "coloraxis": {
           "colorbar": {
            "outlinewidth": 0,
            "ticks": ""
           }
          },
          "colorscale": {
           "diverging": [
            [
             0,
             "#8e0152"
            ],
            [
             0.1,
             "#c51b7d"
            ],
            [
             0.2,
             "#de77ae"
            ],
            [
             0.3,
             "#f1b6da"
            ],
            [
             0.4,
             "#fde0ef"
            ],
            [
             0.5,
             "#f7f7f7"
            ],
            [
             0.6,
             "#e6f5d0"
            ],
            [
             0.7,
             "#b8e186"
            ],
            [
             0.8,
             "#7fbc41"
            ],
            [
             0.9,
             "#4d9221"
            ],
            [
             1,
             "#276419"
            ]
           ],
           "sequential": [
            [
             0.0,
             "#0d0887"
            ],
            [
             0.1111111111111111,
             "#46039f"
            ],
            [
             0.2222222222222222,
             "#7201a8"
            ],
            [
             0.3333333333333333,
             "#9c179e"
            ],
            [
             0.4444444444444444,
             "#bd3786"
            ],
            [
             0.5555555555555556,
             "#d8576b"
            ],
            [
             0.6666666666666666,
             "#ed7953"
            ],
            [
             0.7777777777777778,
             "#fb9f3a"
            ],
            [
             0.8888888888888888,
             "#fdca26"
            ],
            [
             1.0,
             "#f0f921"
            ]
           ],
           "sequentialminus": [
            [
             0.0,
             "#0d0887"
            ],
            [
             0.1111111111111111,
             "#46039f"
            ],
            [
             0.2222222222222222,
             "#7201a8"
            ],
            [
             0.3333333333333333,
             "#9c179e"
            ],
            [
             0.4444444444444444,
             "#bd3786"
            ],
            [
             0.5555555555555556,
             "#d8576b"
            ],
            [
             0.6666666666666666,
             "#ed7953"
            ],
            [
             0.7777777777777778,
             "#fb9f3a"
            ],
            [
             0.8888888888888888,
             "#fdca26"
            ],
            [
             1.0,
             "#f0f921"
            ]
           ]
          },
          "colorway": [
           "#636efa",
           "#EF553B",
           "#00cc96",
           "#ab63fa",
           "#FFA15A",
           "#19d3f3",
           "#FF6692",
           "#B6E880",
           "#FF97FF",
           "#FECB52"
          ],
          "font": {
           "color": "#2a3f5f"
          },
          "geo": {
           "bgcolor": "white",
           "lakecolor": "white",
           "landcolor": "white",
           "showlakes": true,
           "showland": true,
           "subunitcolor": "#C8D4E3"
          },
          "hoverlabel": {
           "align": "left"
          },
          "hovermode": "closest",
          "mapbox": {
           "style": "light"
          },
          "paper_bgcolor": "white",
          "plot_bgcolor": "white",
          "polar": {
           "angularaxis": {
            "gridcolor": "#EBF0F8",
            "linecolor": "#EBF0F8",
            "ticks": ""
           },
           "bgcolor": "white",
           "radialaxis": {
            "gridcolor": "#EBF0F8",
            "linecolor": "#EBF0F8",
            "ticks": ""
           }
          },
          "scene": {
           "xaxis": {
            "backgroundcolor": "white",
            "gridcolor": "#DFE8F3",
            "gridwidth": 2,
            "linecolor": "#EBF0F8",
            "showbackground": true,
            "ticks": "",
            "zerolinecolor": "#EBF0F8"
           },
           "yaxis": {
            "backgroundcolor": "white",
            "gridcolor": "#DFE8F3",
            "gridwidth": 2,
            "linecolor": "#EBF0F8",
            "showbackground": true,
            "ticks": "",
            "zerolinecolor": "#EBF0F8"
           },
           "zaxis": {
            "backgroundcolor": "white",
            "gridcolor": "#DFE8F3",
            "gridwidth": 2,
            "linecolor": "#EBF0F8",
            "showbackground": true,
            "ticks": "",
            "zerolinecolor": "#EBF0F8"
           }
          },
          "shapedefaults": {
           "line": {
            "color": "#2a3f5f"
           }
          },
          "ternary": {
           "aaxis": {
            "gridcolor": "#DFE8F3",
            "linecolor": "#A2B1C6",
            "ticks": ""
           },
           "baxis": {
            "gridcolor": "#DFE8F3",
            "linecolor": "#A2B1C6",
            "ticks": ""
           },
           "bgcolor": "white",
           "caxis": {
            "gridcolor": "#DFE8F3",
            "linecolor": "#A2B1C6",
            "ticks": ""
           }
          },
          "title": {
           "x": 0.05
          },
          "xaxis": {
           "automargin": true,
           "gridcolor": "#EBF0F8",
           "linecolor": "#EBF0F8",
           "ticks": "",
           "title": {
            "standoff": 15
           },
           "zerolinecolor": "#EBF0F8",
           "zerolinewidth": 2
          },
          "yaxis": {
           "automargin": true,
           "gridcolor": "#EBF0F8",
           "linecolor": "#EBF0F8",
           "ticks": "",
           "title": {
            "standoff": 15
           },
           "zerolinecolor": "#EBF0F8",
           "zerolinewidth": 2
          }
         }
        },
        "xaxis": {
         "anchor": "y",
         "domain": [
          0.0,
          1.0
         ],
         "title": {
          "text": "Model"
         },
         "categoryorder": "array",
         "categoryarray": [
          "Camembert",
          "Flaubert"
         ]
        },
        "yaxis": {
         "anchor": "x",
         "domain": [
          0.0,
          1.0
         ],
         "title": {
          "text": "Overall"
         }
        },
        "legend": {
         "title": {
          "text": "Model"
         },
         "tracegroupgap": 0
        },
        "title": {
         "text": "Overall scores for each model"
        },
        "boxmode": "overlay",
        "showlegend": false
       },
       "config": {
        "plotlyServerURL": "https://plot.ly"
       }
      },
      "text/html": "<div>                            <div id=\"c5eab3b2-b804-4057-9830-f785523aa0dd\" class=\"plotly-graph-div\" style=\"height:525px; width:100%;\"></div>            <script type=\"text/javascript\">                require([\"plotly\"], function(Plotly) {                    window.PLOTLYENV=window.PLOTLYENV || {};                                    if (document.getElementById(\"c5eab3b2-b804-4057-9830-f785523aa0dd\")) {                    Plotly.newPlot(                        \"c5eab3b2-b804-4057-9830-f785523aa0dd\",                        [{\"alignmentgroup\":\"True\",\"hovertemplate\":\"Model=%{x}\\u003cbr\\u003eOverall=%{y}\\u003cextra\\u003e\\u003c\\u002fextra\\u003e\",\"legendgroup\":\"Camembert\",\"marker\":{\"color\":\"#636efa\"},\"name\":\"Camembert\",\"notched\":false,\"offsetgroup\":\"Camembert\",\"orientation\":\"v\",\"showlegend\":true,\"x\":[\"Camembert\",\"Camembert\",\"Camembert\",\"Camembert\",\"Camembert\",\"Camembert\",\"Camembert\",\"Camembert\",\"Camembert\",\"Camembert\",\"Camembert\",\"Camembert\",\"Camembert\",\"Camembert\"],\"x0\":\" \",\"xaxis\":\"x\",\"y\":[0.988095238095238,0.5306122448979592,0.5048543689320388,0.7875,0.9479166666666666,0.4796747967479675,0.8529411764705882,0.7454545454545455,0.5096153846153846,0.3918918918918919,0.976470588235294,0.6890050381588722,0.7343288655788656,0.7013660820006886],\"y0\":\" \",\"yaxis\":\"y\",\"type\":\"box\"},{\"alignmentgroup\":\"True\",\"hovertemplate\":\"Model=%{x}\\u003cbr\\u003eOverall=%{y}\\u003cextra\\u003e\\u003c\\u002fextra\\u003e\",\"legendgroup\":\"Flaubert\",\"marker\":{\"color\":\"#EF553B\"},\"name\":\"Flaubert\",\"notched\":false,\"offsetgroup\":\"Flaubert\",\"orientation\":\"v\",\"showlegend\":true,\"x\":[\"Flaubert\",\"Flaubert\",\"Flaubert\",\"Flaubert\",\"Flaubert\",\"Flaubert\",\"Flaubert\",\"Flaubert\",\"Flaubert\",\"Flaubert\",\"Flaubert\",\"Flaubert\",\"Flaubert\",\"Flaubert\"],\"x0\":\" \",\"xaxis\":\"x\",\"y\":[0.6626506024096386,0.5204081632653061,0.5242718446601942,0.7875,0.4895833333333333,0.4796747967479675,0.4705882352941176,0.6851851851851852,0.4903846153846153,0.2876712328767123,0.976470588235294,0.5886544329361538,0.555051044634378,0.5794898724902149],\"y0\":\" \",\"yaxis\":\"y\",\"type\":\"box\"}],                        {\"template\":{\"data\":{\"barpolar\":[{\"marker\":{\"line\":{\"color\":\"white\",\"width\":0.5},\"pattern\":{\"fillmode\":\"overlay\",\"size\":10,\"solidity\":0.2}},\"type\":\"barpolar\"}],\"bar\":[{\"error_x\":{\"color\":\"#2a3f5f\"},\"error_y\":{\"color\":\"#2a3f5f\"},\"marker\":{\"line\":{\"color\":\"white\",\"width\":0.5},\"pattern\":{\"fillmode\":\"overlay\",\"size\":10,\"solidity\":0.2}},\"type\":\"bar\"}],\"carpet\":[{\"aaxis\":{\"endlinecolor\":\"#2a3f5f\",\"gridcolor\":\"#C8D4E3\",\"linecolor\":\"#C8D4E3\",\"minorgridcolor\":\"#C8D4E3\",\"startlinecolor\":\"#2a3f5f\"},\"baxis\":{\"endlinecolor\":\"#2a3f5f\",\"gridcolor\":\"#C8D4E3\",\"linecolor\":\"#C8D4E3\",\"minorgridcolor\":\"#C8D4E3\",\"startlinecolor\":\"#2a3f5f\"},\"type\":\"carpet\"}],\"choropleth\":[{\"colorbar\":{\"outlinewidth\":0,\"ticks\":\"\"},\"type\":\"choropleth\"}],\"contourcarpet\":[{\"colorbar\":{\"outlinewidth\":0,\"ticks\":\"\"},\"type\":\"contourcarpet\"}],\"contour\":[{\"colorbar\":{\"outlinewidth\":0,\"ticks\":\"\"},\"colorscale\":[[0.0,\"#0d0887\"],[0.1111111111111111,\"#46039f\"],[0.2222222222222222,\"#7201a8\"],[0.3333333333333333,\"#9c179e\"],[0.4444444444444444,\"#bd3786\"],[0.5555555555555556,\"#d8576b\"],[0.6666666666666666,\"#ed7953\"],[0.7777777777777778,\"#fb9f3a\"],[0.8888888888888888,\"#fdca26\"],[1.0,\"#f0f921\"]],\"type\":\"contour\"}],\"heatmapgl\":[{\"colorbar\":{\"outlinewidth\":0,\"ticks\":\"\"},\"colorscale\":[[0.0,\"#0d0887\"],[0.1111111111111111,\"#46039f\"],[0.2222222222222222,\"#7201a8\"],[0.3333333333333333,\"#9c179e\"],[0.4444444444444444,\"#bd3786\"],[0.5555555555555556,\"#d8576b\"],[0.6666666666666666,\"#ed7953\"],[0.7777777777777778,\"#fb9f3a\"],[0.8888888888888888,\"#fdca26\"],[1.0,\"#f0f921\"]],\"type\":\"heatmapgl\"}],\"heatmap\":[{\"colorbar\":{\"outlinewidth\":0,\"ticks\":\"\"},\"colorscale\":[[0.0,\"#0d0887\"],[0.1111111111111111,\"#46039f\"],[0.2222222222222222,\"#7201a8\"],[0.3333333333333333,\"#9c179e\"],[0.4444444444444444,\"#bd3786\"],[0.5555555555555556,\"#d8576b\"],[0.6666666666666666,\"#ed7953\"],[0.7777777777777778,\"#fb9f3a\"],[0.8888888888888888,\"#fdca26\"],[1.0,\"#f0f921\"]],\"type\":\"heatmap\"}],\"histogram2dcontour\":[{\"colorbar\":{\"outlinewidth\":0,\"ticks\":\"\"},\"colorscale\":[[0.0,\"#0d0887\"],[0.1111111111111111,\"#46039f\"],[0.2222222222222222,\"#7201a8\"],[0.3333333333333333,\"#9c179e\"],[0.4444444444444444,\"#bd3786\"],[0.5555555555555556,\"#d8576b\"],[0.6666666666666666,\"#ed7953\"],[0.7777777777777778,\"#fb9f3a\"],[0.8888888888888888,\"#fdca26\"],[1.0,\"#f0f921\"]],\"type\":\"histogram2dcontour\"}],\"histogram2d\":[{\"colorbar\":{\"outlinewidth\":0,\"ticks\":\"\"},\"colorscale\":[[0.0,\"#0d0887\"],[0.1111111111111111,\"#46039f\"],[0.2222222222222222,\"#7201a8\"],[0.3333333333333333,\"#9c179e\"],[0.4444444444444444,\"#bd3786\"],[0.5555555555555556,\"#d8576b\"],[0.6666666666666666,\"#ed7953\"],[0.7777777777777778,\"#fb9f3a\"],[0.8888888888888888,\"#fdca26\"],[1.0,\"#f0f921\"]],\"type\":\"histogram2d\"}],\"histogram\":[{\"marker\":{\"pattern\":{\"fillmode\":\"overlay\",\"size\":10,\"solidity\":0.2}},\"type\":\"histogram\"}],\"mesh3d\":[{\"colorbar\":{\"outlinewidth\":0,\"ticks\":\"\"},\"type\":\"mesh3d\"}],\"parcoords\":[{\"line\":{\"colorbar\":{\"outlinewidth\":0,\"ticks\":\"\"}},\"type\":\"parcoords\"}],\"pie\":[{\"automargin\":true,\"type\":\"pie\"}],\"scatter3d\":[{\"line\":{\"colorbar\":{\"outlinewidth\":0,\"ticks\":\"\"}},\"marker\":{\"colorbar\":{\"outlinewidth\":0,\"ticks\":\"\"}},\"type\":\"scatter3d\"}],\"scattercarpet\":[{\"marker\":{\"colorbar\":{\"outlinewidth\":0,\"ticks\":\"\"}},\"type\":\"scattercarpet\"}],\"scattergeo\":[{\"marker\":{\"colorbar\":{\"outlinewidth\":0,\"ticks\":\"\"}},\"type\":\"scattergeo\"}],\"scattergl\":[{\"marker\":{\"colorbar\":{\"outlinewidth\":0,\"ticks\":\"\"}},\"type\":\"scattergl\"}],\"scattermapbox\":[{\"marker\":{\"colorbar\":{\"outlinewidth\":0,\"ticks\":\"\"}},\"type\":\"scattermapbox\"}],\"scatterpolargl\":[{\"marker\":{\"colorbar\":{\"outlinewidth\":0,\"ticks\":\"\"}},\"type\":\"scatterpolargl\"}],\"scatterpolar\":[{\"marker\":{\"colorbar\":{\"outlinewidth\":0,\"ticks\":\"\"}},\"type\":\"scatterpolar\"}],\"scatter\":[{\"fillpattern\":{\"fillmode\":\"overlay\",\"size\":10,\"solidity\":0.2},\"type\":\"scatter\"}],\"scatterternary\":[{\"marker\":{\"colorbar\":{\"outlinewidth\":0,\"ticks\":\"\"}},\"type\":\"scatterternary\"}],\"surface\":[{\"colorbar\":{\"outlinewidth\":0,\"ticks\":\"\"},\"colorscale\":[[0.0,\"#0d0887\"],[0.1111111111111111,\"#46039f\"],[0.2222222222222222,\"#7201a8\"],[0.3333333333333333,\"#9c179e\"],[0.4444444444444444,\"#bd3786\"],[0.5555555555555556,\"#d8576b\"],[0.6666666666666666,\"#ed7953\"],[0.7777777777777778,\"#fb9f3a\"],[0.8888888888888888,\"#fdca26\"],[1.0,\"#f0f921\"]],\"type\":\"surface\"}],\"table\":[{\"cells\":{\"fill\":{\"color\":\"#EBF0F8\"},\"line\":{\"color\":\"white\"}},\"header\":{\"fill\":{\"color\":\"#C8D4E3\"},\"line\":{\"color\":\"white\"}},\"type\":\"table\"}]},\"layout\":{\"annotationdefaults\":{\"arrowcolor\":\"#2a3f5f\",\"arrowhead\":0,\"arrowwidth\":1},\"autotypenumbers\":\"strict\",\"coloraxis\":{\"colorbar\":{\"outlinewidth\":0,\"ticks\":\"\"}},\"colorscale\":{\"diverging\":[[0,\"#8e0152\"],[0.1,\"#c51b7d\"],[0.2,\"#de77ae\"],[0.3,\"#f1b6da\"],[0.4,\"#fde0ef\"],[0.5,\"#f7f7f7\"],[0.6,\"#e6f5d0\"],[0.7,\"#b8e186\"],[0.8,\"#7fbc41\"],[0.9,\"#4d9221\"],[1,\"#276419\"]],\"sequential\":[[0.0,\"#0d0887\"],[0.1111111111111111,\"#46039f\"],[0.2222222222222222,\"#7201a8\"],[0.3333333333333333,\"#9c179e\"],[0.4444444444444444,\"#bd3786\"],[0.5555555555555556,\"#d8576b\"],[0.6666666666666666,\"#ed7953\"],[0.7777777777777778,\"#fb9f3a\"],[0.8888888888888888,\"#fdca26\"],[1.0,\"#f0f921\"]],\"sequentialminus\":[[0.0,\"#0d0887\"],[0.1111111111111111,\"#46039f\"],[0.2222222222222222,\"#7201a8\"],[0.3333333333333333,\"#9c179e\"],[0.4444444444444444,\"#bd3786\"],[0.5555555555555556,\"#d8576b\"],[0.6666666666666666,\"#ed7953\"],[0.7777777777777778,\"#fb9f3a\"],[0.8888888888888888,\"#fdca26\"],[1.0,\"#f0f921\"]]},\"colorway\":[\"#636efa\",\"#EF553B\",\"#00cc96\",\"#ab63fa\",\"#FFA15A\",\"#19d3f3\",\"#FF6692\",\"#B6E880\",\"#FF97FF\",\"#FECB52\"],\"font\":{\"color\":\"#2a3f5f\"},\"geo\":{\"bgcolor\":\"white\",\"lakecolor\":\"white\",\"landcolor\":\"white\",\"showlakes\":true,\"showland\":true,\"subunitcolor\":\"#C8D4E3\"},\"hoverlabel\":{\"align\":\"left\"},\"hovermode\":\"closest\",\"mapbox\":{\"style\":\"light\"},\"paper_bgcolor\":\"white\",\"plot_bgcolor\":\"white\",\"polar\":{\"angularaxis\":{\"gridcolor\":\"#EBF0F8\",\"linecolor\":\"#EBF0F8\",\"ticks\":\"\"},\"bgcolor\":\"white\",\"radialaxis\":{\"gridcolor\":\"#EBF0F8\",\"linecolor\":\"#EBF0F8\",\"ticks\":\"\"}},\"scene\":{\"xaxis\":{\"backgroundcolor\":\"white\",\"gridcolor\":\"#DFE8F3\",\"gridwidth\":2,\"linecolor\":\"#EBF0F8\",\"showbackground\":true,\"ticks\":\"\",\"zerolinecolor\":\"#EBF0F8\"},\"yaxis\":{\"backgroundcolor\":\"white\",\"gridcolor\":\"#DFE8F3\",\"gridwidth\":2,\"linecolor\":\"#EBF0F8\",\"showbackground\":true,\"ticks\":\"\",\"zerolinecolor\":\"#EBF0F8\"},\"zaxis\":{\"backgroundcolor\":\"white\",\"gridcolor\":\"#DFE8F3\",\"gridwidth\":2,\"linecolor\":\"#EBF0F8\",\"showbackground\":true,\"ticks\":\"\",\"zerolinecolor\":\"#EBF0F8\"}},\"shapedefaults\":{\"line\":{\"color\":\"#2a3f5f\"}},\"ternary\":{\"aaxis\":{\"gridcolor\":\"#DFE8F3\",\"linecolor\":\"#A2B1C6\",\"ticks\":\"\"},\"baxis\":{\"gridcolor\":\"#DFE8F3\",\"linecolor\":\"#A2B1C6\",\"ticks\":\"\"},\"bgcolor\":\"white\",\"caxis\":{\"gridcolor\":\"#DFE8F3\",\"linecolor\":\"#A2B1C6\",\"ticks\":\"\"}},\"title\":{\"x\":0.05},\"xaxis\":{\"automargin\":true,\"gridcolor\":\"#EBF0F8\",\"linecolor\":\"#EBF0F8\",\"ticks\":\"\",\"title\":{\"standoff\":15},\"zerolinecolor\":\"#EBF0F8\",\"zerolinewidth\":2},\"yaxis\":{\"automargin\":true,\"gridcolor\":\"#EBF0F8\",\"linecolor\":\"#EBF0F8\",\"ticks\":\"\",\"title\":{\"standoff\":15},\"zerolinecolor\":\"#EBF0F8\",\"zerolinewidth\":2}}},\"xaxis\":{\"anchor\":\"y\",\"domain\":[0.0,1.0],\"title\":{\"text\":\"Model\"},\"categoryorder\":\"array\",\"categoryarray\":[\"Camembert\",\"Flaubert\"]},\"yaxis\":{\"anchor\":\"x\",\"domain\":[0.0,1.0],\"title\":{\"text\":\"Overall\"}},\"legend\":{\"title\":{\"text\":\"Model\"},\"tracegroupgap\":0},\"title\":{\"text\":\"Overall scores for each model\"},\"boxmode\":\"overlay\",\"showlegend\":false},                        {\"responsive\": true}                    ).then(function(){\n                            \nvar gd = document.getElementById('c5eab3b2-b804-4057-9830-f785523aa0dd');\nvar x = new MutationObserver(function (mutations, observer) {{\n        var display = window.getComputedStyle(gd).display;\n        if (!display || display === 'none') {{\n            console.log([gd, 'removed!']);\n            Plotly.purge(gd);\n            observer.disconnect();\n        }}\n}});\n\n// Listen for the removal of the full notebook cells\nvar notebookContainer = gd.closest('#notebook-container');\nif (notebookContainer) {{\n    x.observe(notebookContainer, {childList: true});\n}}\n\n// Listen for the clearing of the current output cell\nvar outputEl = gd.closest('.output');\nif (outputEl) {{\n    x.observe(outputEl, {childList: true});\n}}\n\n                        })                };                });            </script>        </div>"
     },
     "metadata": {},
     "output_type": "display_data"
    },
    {
     "data": {
      "application/vnd.plotly.v1+json": {
       "data": [
        {
         "alignmentgroup": "True",
         "hovertemplate": "Model=%{x}<br>V_measure=%{y}<extra></extra>",
         "legendgroup": "Camembert",
         "marker": {
          "color": "#636efa"
         },
         "name": "Camembert",
         "notched": false,
         "offsetgroup": "Camembert",
         "orientation": "v",
         "showlegend": true,
         "x": [
          "Camembert",
          "Camembert",
          "Camembert",
          "Camembert",
          "Camembert",
          "Camembert",
          "Camembert",
          "Camembert",
          "Camembert",
          "Camembert",
          "Camembert",
          "Camembert",
          "Camembert",
          "Camembert"
         ],
         "x0": " ",
         "xaxis": "x",
         "y": [
          0.9612207762857032,
          0.0489164124111147,
          0.3595436559256789,
          0.7127621259758337,
          0.8027362395855916,
          0.0257376603045795,
          0.6683821734631158,
          0.6631276188106127,
          0.1376479501666031,
          0.1996764951876067,
          0.8659267350030161,
          0.480270754319581,
          0.5345039361876025,
          0.4950616221017686
         ],
         "y0": " ",
         "yaxis": "y",
         "type": "box"
        },
        {
         "alignmentgroup": "True",
         "hovertemplate": "Model=%{x}<br>V_measure=%{y}<extra></extra>",
         "legendgroup": "Flaubert",
         "marker": {
          "color": "#EF553B"
         },
         "name": "Flaubert",
         "notched": false,
         "offsetgroup": "Flaubert",
         "orientation": "v",
         "showlegend": true,
         "x": [
          "Flaubert",
          "Flaubert",
          "Flaubert",
          "Flaubert",
          "Flaubert",
          "Flaubert",
          "Flaubert",
          "Flaubert",
          "Flaubert",
          "Flaubert",
          "Flaubert",
          "Flaubert",
          "Flaubert",
          "Flaubert"
         ],
         "x0": " ",
         "xaxis": "x",
         "y": [
          0.0155929586967643,
          0.047186526723956,
          0.0309255188976766,
          0.7073480306988158,
          0.0346406049545011,
          0.0287396106349053,
          0.048019281928028,
          0.5527362563108514,
          0.1495527249250038,
          0.0386818590955314,
          0.8659267350030161,
          0.2228025652098367,
          0.2456431953967854,
          0.2290318279880955
         ],
         "y0": " ",
         "yaxis": "y",
         "type": "box"
        }
       ],
       "layout": {
        "template": {
         "data": {
          "barpolar": [
           {
            "marker": {
             "line": {
              "color": "white",
              "width": 0.5
             },
             "pattern": {
              "fillmode": "overlay",
              "size": 10,
              "solidity": 0.2
             }
            },
            "type": "barpolar"
           }
          ],
          "bar": [
           {
            "error_x": {
             "color": "#2a3f5f"
            },
            "error_y": {
             "color": "#2a3f5f"
            },
            "marker": {
             "line": {
              "color": "white",
              "width": 0.5
             },
             "pattern": {
              "fillmode": "overlay",
              "size": 10,
              "solidity": 0.2
             }
            },
            "type": "bar"
           }
          ],
          "carpet": [
           {
            "aaxis": {
             "endlinecolor": "#2a3f5f",
             "gridcolor": "#C8D4E3",
             "linecolor": "#C8D4E3",
             "minorgridcolor": "#C8D4E3",
             "startlinecolor": "#2a3f5f"
            },
            "baxis": {
             "endlinecolor": "#2a3f5f",
             "gridcolor": "#C8D4E3",
             "linecolor": "#C8D4E3",
             "minorgridcolor": "#C8D4E3",
             "startlinecolor": "#2a3f5f"
            },
            "type": "carpet"
           }
          ],
          "choropleth": [
           {
            "colorbar": {
             "outlinewidth": 0,
             "ticks": ""
            },
            "type": "choropleth"
           }
          ],
          "contourcarpet": [
           {
            "colorbar": {
             "outlinewidth": 0,
             "ticks": ""
            },
            "type": "contourcarpet"
           }
          ],
          "contour": [
           {
            "colorbar": {
             "outlinewidth": 0,
             "ticks": ""
            },
            "colorscale": [
             [
              0.0,
              "#0d0887"
             ],
             [
              0.1111111111111111,
              "#46039f"
             ],
             [
              0.2222222222222222,
              "#7201a8"
             ],
             [
              0.3333333333333333,
              "#9c179e"
             ],
             [
              0.4444444444444444,
              "#bd3786"
             ],
             [
              0.5555555555555556,
              "#d8576b"
             ],
             [
              0.6666666666666666,
              "#ed7953"
             ],
             [
              0.7777777777777778,
              "#fb9f3a"
             ],
             [
              0.8888888888888888,
              "#fdca26"
             ],
             [
              1.0,
              "#f0f921"
             ]
            ],
            "type": "contour"
           }
          ],
          "heatmapgl": [
           {
            "colorbar": {
             "outlinewidth": 0,
             "ticks": ""
            },
            "colorscale": [
             [
              0.0,
              "#0d0887"
             ],
             [
              0.1111111111111111,
              "#46039f"
             ],
             [
              0.2222222222222222,
              "#7201a8"
             ],
             [
              0.3333333333333333,
              "#9c179e"
             ],
             [
              0.4444444444444444,
              "#bd3786"
             ],
             [
              0.5555555555555556,
              "#d8576b"
             ],
             [
              0.6666666666666666,
              "#ed7953"
             ],
             [
              0.7777777777777778,
              "#fb9f3a"
             ],
             [
              0.8888888888888888,
              "#fdca26"
             ],
             [
              1.0,
              "#f0f921"
             ]
            ],
            "type": "heatmapgl"
           }
          ],
          "heatmap": [
           {
            "colorbar": {
             "outlinewidth": 0,
             "ticks": ""
            },
            "colorscale": [
             [
              0.0,
              "#0d0887"
             ],
             [
              0.1111111111111111,
              "#46039f"
             ],
             [
              0.2222222222222222,
              "#7201a8"
             ],
             [
              0.3333333333333333,
              "#9c179e"
             ],
             [
              0.4444444444444444,
              "#bd3786"
             ],
             [
              0.5555555555555556,
              "#d8576b"
             ],
             [
              0.6666666666666666,
              "#ed7953"
             ],
             [
              0.7777777777777778,
              "#fb9f3a"
             ],
             [
              0.8888888888888888,
              "#fdca26"
             ],
             [
              1.0,
              "#f0f921"
             ]
            ],
            "type": "heatmap"
           }
          ],
          "histogram2dcontour": [
           {
            "colorbar": {
             "outlinewidth": 0,
             "ticks": ""
            },
            "colorscale": [
             [
              0.0,
              "#0d0887"
             ],
             [
              0.1111111111111111,
              "#46039f"
             ],
             [
              0.2222222222222222,
              "#7201a8"
             ],
             [
              0.3333333333333333,
              "#9c179e"
             ],
             [
              0.4444444444444444,
              "#bd3786"
             ],
             [
              0.5555555555555556,
              "#d8576b"
             ],
             [
              0.6666666666666666,
              "#ed7953"
             ],
             [
              0.7777777777777778,
              "#fb9f3a"
             ],
             [
              0.8888888888888888,
              "#fdca26"
             ],
             [
              1.0,
              "#f0f921"
             ]
            ],
            "type": "histogram2dcontour"
           }
          ],
          "histogram2d": [
           {
            "colorbar": {
             "outlinewidth": 0,
             "ticks": ""
            },
            "colorscale": [
             [
              0.0,
              "#0d0887"
             ],
             [
              0.1111111111111111,
              "#46039f"
             ],
             [
              0.2222222222222222,
              "#7201a8"
             ],
             [
              0.3333333333333333,
              "#9c179e"
             ],
             [
              0.4444444444444444,
              "#bd3786"
             ],
             [
              0.5555555555555556,
              "#d8576b"
             ],
             [
              0.6666666666666666,
              "#ed7953"
             ],
             [
              0.7777777777777778,
              "#fb9f3a"
             ],
             [
              0.8888888888888888,
              "#fdca26"
             ],
             [
              1.0,
              "#f0f921"
             ]
            ],
            "type": "histogram2d"
           }
          ],
          "histogram": [
           {
            "marker": {
             "pattern": {
              "fillmode": "overlay",
              "size": 10,
              "solidity": 0.2
             }
            },
            "type": "histogram"
           }
          ],
          "mesh3d": [
           {
            "colorbar": {
             "outlinewidth": 0,
             "ticks": ""
            },
            "type": "mesh3d"
           }
          ],
          "parcoords": [
           {
            "line": {
             "colorbar": {
              "outlinewidth": 0,
              "ticks": ""
             }
            },
            "type": "parcoords"
           }
          ],
          "pie": [
           {
            "automargin": true,
            "type": "pie"
           }
          ],
          "scatter3d": [
           {
            "line": {
             "colorbar": {
              "outlinewidth": 0,
              "ticks": ""
             }
            },
            "marker": {
             "colorbar": {
              "outlinewidth": 0,
              "ticks": ""
             }
            },
            "type": "scatter3d"
           }
          ],
          "scattercarpet": [
           {
            "marker": {
             "colorbar": {
              "outlinewidth": 0,
              "ticks": ""
             }
            },
            "type": "scattercarpet"
           }
          ],
          "scattergeo": [
           {
            "marker": {
             "colorbar": {
              "outlinewidth": 0,
              "ticks": ""
             }
            },
            "type": "scattergeo"
           }
          ],
          "scattergl": [
           {
            "marker": {
             "colorbar": {
              "outlinewidth": 0,
              "ticks": ""
             }
            },
            "type": "scattergl"
           }
          ],
          "scattermapbox": [
           {
            "marker": {
             "colorbar": {
              "outlinewidth": 0,
              "ticks": ""
             }
            },
            "type": "scattermapbox"
           }
          ],
          "scatterpolargl": [
           {
            "marker": {
             "colorbar": {
              "outlinewidth": 0,
              "ticks": ""
             }
            },
            "type": "scatterpolargl"
           }
          ],
          "scatterpolar": [
           {
            "marker": {
             "colorbar": {
              "outlinewidth": 0,
              "ticks": ""
             }
            },
            "type": "scatterpolar"
           }
          ],
          "scatter": [
           {
            "fillpattern": {
             "fillmode": "overlay",
             "size": 10,
             "solidity": 0.2
            },
            "type": "scatter"
           }
          ],
          "scatterternary": [
           {
            "marker": {
             "colorbar": {
              "outlinewidth": 0,
              "ticks": ""
             }
            },
            "type": "scatterternary"
           }
          ],
          "surface": [
           {
            "colorbar": {
             "outlinewidth": 0,
             "ticks": ""
            },
            "colorscale": [
             [
              0.0,
              "#0d0887"
             ],
             [
              0.1111111111111111,
              "#46039f"
             ],
             [
              0.2222222222222222,
              "#7201a8"
             ],
             [
              0.3333333333333333,
              "#9c179e"
             ],
             [
              0.4444444444444444,
              "#bd3786"
             ],
             [
              0.5555555555555556,
              "#d8576b"
             ],
             [
              0.6666666666666666,
              "#ed7953"
             ],
             [
              0.7777777777777778,
              "#fb9f3a"
             ],
             [
              0.8888888888888888,
              "#fdca26"
             ],
             [
              1.0,
              "#f0f921"
             ]
            ],
            "type": "surface"
           }
          ],
          "table": [
           {
            "cells": {
             "fill": {
              "color": "#EBF0F8"
             },
             "line": {
              "color": "white"
             }
            },
            "header": {
             "fill": {
              "color": "#C8D4E3"
             },
             "line": {
              "color": "white"
             }
            },
            "type": "table"
           }
          ]
         },
         "layout": {
          "annotationdefaults": {
           "arrowcolor": "#2a3f5f",
           "arrowhead": 0,
           "arrowwidth": 1
          },
          "autotypenumbers": "strict",
          "coloraxis": {
           "colorbar": {
            "outlinewidth": 0,
            "ticks": ""
           }
          },
          "colorscale": {
           "diverging": [
            [
             0,
             "#8e0152"
            ],
            [
             0.1,
             "#c51b7d"
            ],
            [
             0.2,
             "#de77ae"
            ],
            [
             0.3,
             "#f1b6da"
            ],
            [
             0.4,
             "#fde0ef"
            ],
            [
             0.5,
             "#f7f7f7"
            ],
            [
             0.6,
             "#e6f5d0"
            ],
            [
             0.7,
             "#b8e186"
            ],
            [
             0.8,
             "#7fbc41"
            ],
            [
             0.9,
             "#4d9221"
            ],
            [
             1,
             "#276419"
            ]
           ],
           "sequential": [
            [
             0.0,
             "#0d0887"
            ],
            [
             0.1111111111111111,
             "#46039f"
            ],
            [
             0.2222222222222222,
             "#7201a8"
            ],
            [
             0.3333333333333333,
             "#9c179e"
            ],
            [
             0.4444444444444444,
             "#bd3786"
            ],
            [
             0.5555555555555556,
             "#d8576b"
            ],
            [
             0.6666666666666666,
             "#ed7953"
            ],
            [
             0.7777777777777778,
             "#fb9f3a"
            ],
            [
             0.8888888888888888,
             "#fdca26"
            ],
            [
             1.0,
             "#f0f921"
            ]
           ],
           "sequentialminus": [
            [
             0.0,
             "#0d0887"
            ],
            [
             0.1111111111111111,
             "#46039f"
            ],
            [
             0.2222222222222222,
             "#7201a8"
            ],
            [
             0.3333333333333333,
             "#9c179e"
            ],
            [
             0.4444444444444444,
             "#bd3786"
            ],
            [
             0.5555555555555556,
             "#d8576b"
            ],
            [
             0.6666666666666666,
             "#ed7953"
            ],
            [
             0.7777777777777778,
             "#fb9f3a"
            ],
            [
             0.8888888888888888,
             "#fdca26"
            ],
            [
             1.0,
             "#f0f921"
            ]
           ]
          },
          "colorway": [
           "#636efa",
           "#EF553B",
           "#00cc96",
           "#ab63fa",
           "#FFA15A",
           "#19d3f3",
           "#FF6692",
           "#B6E880",
           "#FF97FF",
           "#FECB52"
          ],
          "font": {
           "color": "#2a3f5f"
          },
          "geo": {
           "bgcolor": "white",
           "lakecolor": "white",
           "landcolor": "white",
           "showlakes": true,
           "showland": true,
           "subunitcolor": "#C8D4E3"
          },
          "hoverlabel": {
           "align": "left"
          },
          "hovermode": "closest",
          "mapbox": {
           "style": "light"
          },
          "paper_bgcolor": "white",
          "plot_bgcolor": "white",
          "polar": {
           "angularaxis": {
            "gridcolor": "#EBF0F8",
            "linecolor": "#EBF0F8",
            "ticks": ""
           },
           "bgcolor": "white",
           "radialaxis": {
            "gridcolor": "#EBF0F8",
            "linecolor": "#EBF0F8",
            "ticks": ""
           }
          },
          "scene": {
           "xaxis": {
            "backgroundcolor": "white",
            "gridcolor": "#DFE8F3",
            "gridwidth": 2,
            "linecolor": "#EBF0F8",
            "showbackground": true,
            "ticks": "",
            "zerolinecolor": "#EBF0F8"
           },
           "yaxis": {
            "backgroundcolor": "white",
            "gridcolor": "#DFE8F3",
            "gridwidth": 2,
            "linecolor": "#EBF0F8",
            "showbackground": true,
            "ticks": "",
            "zerolinecolor": "#EBF0F8"
           },
           "zaxis": {
            "backgroundcolor": "white",
            "gridcolor": "#DFE8F3",
            "gridwidth": 2,
            "linecolor": "#EBF0F8",
            "showbackground": true,
            "ticks": "",
            "zerolinecolor": "#EBF0F8"
           }
          },
          "shapedefaults": {
           "line": {
            "color": "#2a3f5f"
           }
          },
          "ternary": {
           "aaxis": {
            "gridcolor": "#DFE8F3",
            "linecolor": "#A2B1C6",
            "ticks": ""
           },
           "baxis": {
            "gridcolor": "#DFE8F3",
            "linecolor": "#A2B1C6",
            "ticks": ""
           },
           "bgcolor": "white",
           "caxis": {
            "gridcolor": "#DFE8F3",
            "linecolor": "#A2B1C6",
            "ticks": ""
           }
          },
          "title": {
           "x": 0.05
          },
          "xaxis": {
           "automargin": true,
           "gridcolor": "#EBF0F8",
           "linecolor": "#EBF0F8",
           "ticks": "",
           "title": {
            "standoff": 15
           },
           "zerolinecolor": "#EBF0F8",
           "zerolinewidth": 2
          },
          "yaxis": {
           "automargin": true,
           "gridcolor": "#EBF0F8",
           "linecolor": "#EBF0F8",
           "ticks": "",
           "title": {
            "standoff": 15
           },
           "zerolinecolor": "#EBF0F8",
           "zerolinewidth": 2
          }
         }
        },
        "xaxis": {
         "anchor": "y",
         "domain": [
          0.0,
          1.0
         ],
         "title": {
          "text": "Model"
         },
         "categoryorder": "array",
         "categoryarray": [
          "Camembert",
          "Flaubert"
         ]
        },
        "yaxis": {
         "anchor": "x",
         "domain": [
          0.0,
          1.0
         ],
         "title": {
          "text": "V_measure"
         }
        },
        "legend": {
         "title": {
          "text": "Model"
         },
         "tracegroupgap": 0
        },
        "title": {
         "text": "V measure clustering scores for each model"
        },
        "boxmode": "overlay",
        "showlegend": false
       },
       "config": {
        "plotlyServerURL": "https://plot.ly"
       }
      },
      "text/html": "<div>                            <div id=\"ccf1896a-8486-4c7a-9746-a89f08139583\" class=\"plotly-graph-div\" style=\"height:525px; width:100%;\"></div>            <script type=\"text/javascript\">                require([\"plotly\"], function(Plotly) {                    window.PLOTLYENV=window.PLOTLYENV || {};                                    if (document.getElementById(\"ccf1896a-8486-4c7a-9746-a89f08139583\")) {                    Plotly.newPlot(                        \"ccf1896a-8486-4c7a-9746-a89f08139583\",                        [{\"alignmentgroup\":\"True\",\"hovertemplate\":\"Model=%{x}\\u003cbr\\u003eV_measure=%{y}\\u003cextra\\u003e\\u003c\\u002fextra\\u003e\",\"legendgroup\":\"Camembert\",\"marker\":{\"color\":\"#636efa\"},\"name\":\"Camembert\",\"notched\":false,\"offsetgroup\":\"Camembert\",\"orientation\":\"v\",\"showlegend\":true,\"x\":[\"Camembert\",\"Camembert\",\"Camembert\",\"Camembert\",\"Camembert\",\"Camembert\",\"Camembert\",\"Camembert\",\"Camembert\",\"Camembert\",\"Camembert\",\"Camembert\",\"Camembert\",\"Camembert\"],\"x0\":\" \",\"xaxis\":\"x\",\"y\":[0.9612207762857032,0.0489164124111147,0.3595436559256789,0.7127621259758337,0.8027362395855916,0.0257376603045795,0.6683821734631158,0.6631276188106127,0.1376479501666031,0.1996764951876067,0.8659267350030161,0.480270754319581,0.5345039361876025,0.4950616221017686],\"y0\":\" \",\"yaxis\":\"y\",\"type\":\"box\"},{\"alignmentgroup\":\"True\",\"hovertemplate\":\"Model=%{x}\\u003cbr\\u003eV_measure=%{y}\\u003cextra\\u003e\\u003c\\u002fextra\\u003e\",\"legendgroup\":\"Flaubert\",\"marker\":{\"color\":\"#EF553B\"},\"name\":\"Flaubert\",\"notched\":false,\"offsetgroup\":\"Flaubert\",\"orientation\":\"v\",\"showlegend\":true,\"x\":[\"Flaubert\",\"Flaubert\",\"Flaubert\",\"Flaubert\",\"Flaubert\",\"Flaubert\",\"Flaubert\",\"Flaubert\",\"Flaubert\",\"Flaubert\",\"Flaubert\",\"Flaubert\",\"Flaubert\",\"Flaubert\"],\"x0\":\" \",\"xaxis\":\"x\",\"y\":[0.0155929586967643,0.047186526723956,0.0309255188976766,0.7073480306988158,0.0346406049545011,0.0287396106349053,0.048019281928028,0.5527362563108514,0.1495527249250038,0.0386818590955314,0.8659267350030161,0.2228025652098367,0.2456431953967854,0.2290318279880955],\"y0\":\" \",\"yaxis\":\"y\",\"type\":\"box\"}],                        {\"template\":{\"data\":{\"barpolar\":[{\"marker\":{\"line\":{\"color\":\"white\",\"width\":0.5},\"pattern\":{\"fillmode\":\"overlay\",\"size\":10,\"solidity\":0.2}},\"type\":\"barpolar\"}],\"bar\":[{\"error_x\":{\"color\":\"#2a3f5f\"},\"error_y\":{\"color\":\"#2a3f5f\"},\"marker\":{\"line\":{\"color\":\"white\",\"width\":0.5},\"pattern\":{\"fillmode\":\"overlay\",\"size\":10,\"solidity\":0.2}},\"type\":\"bar\"}],\"carpet\":[{\"aaxis\":{\"endlinecolor\":\"#2a3f5f\",\"gridcolor\":\"#C8D4E3\",\"linecolor\":\"#C8D4E3\",\"minorgridcolor\":\"#C8D4E3\",\"startlinecolor\":\"#2a3f5f\"},\"baxis\":{\"endlinecolor\":\"#2a3f5f\",\"gridcolor\":\"#C8D4E3\",\"linecolor\":\"#C8D4E3\",\"minorgridcolor\":\"#C8D4E3\",\"startlinecolor\":\"#2a3f5f\"},\"type\":\"carpet\"}],\"choropleth\":[{\"colorbar\":{\"outlinewidth\":0,\"ticks\":\"\"},\"type\":\"choropleth\"}],\"contourcarpet\":[{\"colorbar\":{\"outlinewidth\":0,\"ticks\":\"\"},\"type\":\"contourcarpet\"}],\"contour\":[{\"colorbar\":{\"outlinewidth\":0,\"ticks\":\"\"},\"colorscale\":[[0.0,\"#0d0887\"],[0.1111111111111111,\"#46039f\"],[0.2222222222222222,\"#7201a8\"],[0.3333333333333333,\"#9c179e\"],[0.4444444444444444,\"#bd3786\"],[0.5555555555555556,\"#d8576b\"],[0.6666666666666666,\"#ed7953\"],[0.7777777777777778,\"#fb9f3a\"],[0.8888888888888888,\"#fdca26\"],[1.0,\"#f0f921\"]],\"type\":\"contour\"}],\"heatmapgl\":[{\"colorbar\":{\"outlinewidth\":0,\"ticks\":\"\"},\"colorscale\":[[0.0,\"#0d0887\"],[0.1111111111111111,\"#46039f\"],[0.2222222222222222,\"#7201a8\"],[0.3333333333333333,\"#9c179e\"],[0.4444444444444444,\"#bd3786\"],[0.5555555555555556,\"#d8576b\"],[0.6666666666666666,\"#ed7953\"],[0.7777777777777778,\"#fb9f3a\"],[0.8888888888888888,\"#fdca26\"],[1.0,\"#f0f921\"]],\"type\":\"heatmapgl\"}],\"heatmap\":[{\"colorbar\":{\"outlinewidth\":0,\"ticks\":\"\"},\"colorscale\":[[0.0,\"#0d0887\"],[0.1111111111111111,\"#46039f\"],[0.2222222222222222,\"#7201a8\"],[0.3333333333333333,\"#9c179e\"],[0.4444444444444444,\"#bd3786\"],[0.5555555555555556,\"#d8576b\"],[0.6666666666666666,\"#ed7953\"],[0.7777777777777778,\"#fb9f3a\"],[0.8888888888888888,\"#fdca26\"],[1.0,\"#f0f921\"]],\"type\":\"heatmap\"}],\"histogram2dcontour\":[{\"colorbar\":{\"outlinewidth\":0,\"ticks\":\"\"},\"colorscale\":[[0.0,\"#0d0887\"],[0.1111111111111111,\"#46039f\"],[0.2222222222222222,\"#7201a8\"],[0.3333333333333333,\"#9c179e\"],[0.4444444444444444,\"#bd3786\"],[0.5555555555555556,\"#d8576b\"],[0.6666666666666666,\"#ed7953\"],[0.7777777777777778,\"#fb9f3a\"],[0.8888888888888888,\"#fdca26\"],[1.0,\"#f0f921\"]],\"type\":\"histogram2dcontour\"}],\"histogram2d\":[{\"colorbar\":{\"outlinewidth\":0,\"ticks\":\"\"},\"colorscale\":[[0.0,\"#0d0887\"],[0.1111111111111111,\"#46039f\"],[0.2222222222222222,\"#7201a8\"],[0.3333333333333333,\"#9c179e\"],[0.4444444444444444,\"#bd3786\"],[0.5555555555555556,\"#d8576b\"],[0.6666666666666666,\"#ed7953\"],[0.7777777777777778,\"#fb9f3a\"],[0.8888888888888888,\"#fdca26\"],[1.0,\"#f0f921\"]],\"type\":\"histogram2d\"}],\"histogram\":[{\"marker\":{\"pattern\":{\"fillmode\":\"overlay\",\"size\":10,\"solidity\":0.2}},\"type\":\"histogram\"}],\"mesh3d\":[{\"colorbar\":{\"outlinewidth\":0,\"ticks\":\"\"},\"type\":\"mesh3d\"}],\"parcoords\":[{\"line\":{\"colorbar\":{\"outlinewidth\":0,\"ticks\":\"\"}},\"type\":\"parcoords\"}],\"pie\":[{\"automargin\":true,\"type\":\"pie\"}],\"scatter3d\":[{\"line\":{\"colorbar\":{\"outlinewidth\":0,\"ticks\":\"\"}},\"marker\":{\"colorbar\":{\"outlinewidth\":0,\"ticks\":\"\"}},\"type\":\"scatter3d\"}],\"scattercarpet\":[{\"marker\":{\"colorbar\":{\"outlinewidth\":0,\"ticks\":\"\"}},\"type\":\"scattercarpet\"}],\"scattergeo\":[{\"marker\":{\"colorbar\":{\"outlinewidth\":0,\"ticks\":\"\"}},\"type\":\"scattergeo\"}],\"scattergl\":[{\"marker\":{\"colorbar\":{\"outlinewidth\":0,\"ticks\":\"\"}},\"type\":\"scattergl\"}],\"scattermapbox\":[{\"marker\":{\"colorbar\":{\"outlinewidth\":0,\"ticks\":\"\"}},\"type\":\"scattermapbox\"}],\"scatterpolargl\":[{\"marker\":{\"colorbar\":{\"outlinewidth\":0,\"ticks\":\"\"}},\"type\":\"scatterpolargl\"}],\"scatterpolar\":[{\"marker\":{\"colorbar\":{\"outlinewidth\":0,\"ticks\":\"\"}},\"type\":\"scatterpolar\"}],\"scatter\":[{\"fillpattern\":{\"fillmode\":\"overlay\",\"size\":10,\"solidity\":0.2},\"type\":\"scatter\"}],\"scatterternary\":[{\"marker\":{\"colorbar\":{\"outlinewidth\":0,\"ticks\":\"\"}},\"type\":\"scatterternary\"}],\"surface\":[{\"colorbar\":{\"outlinewidth\":0,\"ticks\":\"\"},\"colorscale\":[[0.0,\"#0d0887\"],[0.1111111111111111,\"#46039f\"],[0.2222222222222222,\"#7201a8\"],[0.3333333333333333,\"#9c179e\"],[0.4444444444444444,\"#bd3786\"],[0.5555555555555556,\"#d8576b\"],[0.6666666666666666,\"#ed7953\"],[0.7777777777777778,\"#fb9f3a\"],[0.8888888888888888,\"#fdca26\"],[1.0,\"#f0f921\"]],\"type\":\"surface\"}],\"table\":[{\"cells\":{\"fill\":{\"color\":\"#EBF0F8\"},\"line\":{\"color\":\"white\"}},\"header\":{\"fill\":{\"color\":\"#C8D4E3\"},\"line\":{\"color\":\"white\"}},\"type\":\"table\"}]},\"layout\":{\"annotationdefaults\":{\"arrowcolor\":\"#2a3f5f\",\"arrowhead\":0,\"arrowwidth\":1},\"autotypenumbers\":\"strict\",\"coloraxis\":{\"colorbar\":{\"outlinewidth\":0,\"ticks\":\"\"}},\"colorscale\":{\"diverging\":[[0,\"#8e0152\"],[0.1,\"#c51b7d\"],[0.2,\"#de77ae\"],[0.3,\"#f1b6da\"],[0.4,\"#fde0ef\"],[0.5,\"#f7f7f7\"],[0.6,\"#e6f5d0\"],[0.7,\"#b8e186\"],[0.8,\"#7fbc41\"],[0.9,\"#4d9221\"],[1,\"#276419\"]],\"sequential\":[[0.0,\"#0d0887\"],[0.1111111111111111,\"#46039f\"],[0.2222222222222222,\"#7201a8\"],[0.3333333333333333,\"#9c179e\"],[0.4444444444444444,\"#bd3786\"],[0.5555555555555556,\"#d8576b\"],[0.6666666666666666,\"#ed7953\"],[0.7777777777777778,\"#fb9f3a\"],[0.8888888888888888,\"#fdca26\"],[1.0,\"#f0f921\"]],\"sequentialminus\":[[0.0,\"#0d0887\"],[0.1111111111111111,\"#46039f\"],[0.2222222222222222,\"#7201a8\"],[0.3333333333333333,\"#9c179e\"],[0.4444444444444444,\"#bd3786\"],[0.5555555555555556,\"#d8576b\"],[0.6666666666666666,\"#ed7953\"],[0.7777777777777778,\"#fb9f3a\"],[0.8888888888888888,\"#fdca26\"],[1.0,\"#f0f921\"]]},\"colorway\":[\"#636efa\",\"#EF553B\",\"#00cc96\",\"#ab63fa\",\"#FFA15A\",\"#19d3f3\",\"#FF6692\",\"#B6E880\",\"#FF97FF\",\"#FECB52\"],\"font\":{\"color\":\"#2a3f5f\"},\"geo\":{\"bgcolor\":\"white\",\"lakecolor\":\"white\",\"landcolor\":\"white\",\"showlakes\":true,\"showland\":true,\"subunitcolor\":\"#C8D4E3\"},\"hoverlabel\":{\"align\":\"left\"},\"hovermode\":\"closest\",\"mapbox\":{\"style\":\"light\"},\"paper_bgcolor\":\"white\",\"plot_bgcolor\":\"white\",\"polar\":{\"angularaxis\":{\"gridcolor\":\"#EBF0F8\",\"linecolor\":\"#EBF0F8\",\"ticks\":\"\"},\"bgcolor\":\"white\",\"radialaxis\":{\"gridcolor\":\"#EBF0F8\",\"linecolor\":\"#EBF0F8\",\"ticks\":\"\"}},\"scene\":{\"xaxis\":{\"backgroundcolor\":\"white\",\"gridcolor\":\"#DFE8F3\",\"gridwidth\":2,\"linecolor\":\"#EBF0F8\",\"showbackground\":true,\"ticks\":\"\",\"zerolinecolor\":\"#EBF0F8\"},\"yaxis\":{\"backgroundcolor\":\"white\",\"gridcolor\":\"#DFE8F3\",\"gridwidth\":2,\"linecolor\":\"#EBF0F8\",\"showbackground\":true,\"ticks\":\"\",\"zerolinecolor\":\"#EBF0F8\"},\"zaxis\":{\"backgroundcolor\":\"white\",\"gridcolor\":\"#DFE8F3\",\"gridwidth\":2,\"linecolor\":\"#EBF0F8\",\"showbackground\":true,\"ticks\":\"\",\"zerolinecolor\":\"#EBF0F8\"}},\"shapedefaults\":{\"line\":{\"color\":\"#2a3f5f\"}},\"ternary\":{\"aaxis\":{\"gridcolor\":\"#DFE8F3\",\"linecolor\":\"#A2B1C6\",\"ticks\":\"\"},\"baxis\":{\"gridcolor\":\"#DFE8F3\",\"linecolor\":\"#A2B1C6\",\"ticks\":\"\"},\"bgcolor\":\"white\",\"caxis\":{\"gridcolor\":\"#DFE8F3\",\"linecolor\":\"#A2B1C6\",\"ticks\":\"\"}},\"title\":{\"x\":0.05},\"xaxis\":{\"automargin\":true,\"gridcolor\":\"#EBF0F8\",\"linecolor\":\"#EBF0F8\",\"ticks\":\"\",\"title\":{\"standoff\":15},\"zerolinecolor\":\"#EBF0F8\",\"zerolinewidth\":2},\"yaxis\":{\"automargin\":true,\"gridcolor\":\"#EBF0F8\",\"linecolor\":\"#EBF0F8\",\"ticks\":\"\",\"title\":{\"standoff\":15},\"zerolinecolor\":\"#EBF0F8\",\"zerolinewidth\":2}}},\"xaxis\":{\"anchor\":\"y\",\"domain\":[0.0,1.0],\"title\":{\"text\":\"Model\"},\"categoryorder\":\"array\",\"categoryarray\":[\"Camembert\",\"Flaubert\"]},\"yaxis\":{\"anchor\":\"x\",\"domain\":[0.0,1.0],\"title\":{\"text\":\"V_measure\"}},\"legend\":{\"title\":{\"text\":\"Model\"},\"tracegroupgap\":0},\"title\":{\"text\":\"V measure clustering scores for each model\"},\"boxmode\":\"overlay\",\"showlegend\":false},                        {\"responsive\": true}                    ).then(function(){\n                            \nvar gd = document.getElementById('ccf1896a-8486-4c7a-9746-a89f08139583');\nvar x = new MutationObserver(function (mutations, observer) {{\n        var display = window.getComputedStyle(gd).display;\n        if (!display || display === 'none') {{\n            console.log([gd, 'removed!']);\n            Plotly.purge(gd);\n            observer.disconnect();\n        }}\n}});\n\n// Listen for the removal of the full notebook cells\nvar notebookContainer = gd.closest('#notebook-container');\nif (notebookContainer) {{\n    x.observe(notebookContainer, {childList: true});\n}}\n\n// Listen for the clearing of the current output cell\nvar outputEl = gd.closest('.output');\nif (outputEl) {{\n    x.observe(outputEl, {childList: true});\n}}\n\n                        })                };                });            </script>        </div>"
     },
     "metadata": {},
     "output_type": "display_data"
    },
    {
     "data": {
      "application/vnd.plotly.v1+json": {
       "data": [
        {
         "alignmentgroup": "True",
         "hovertemplate": "Model=%{x}<br>Rand=%{y}<extra></extra>",
         "legendgroup": "Camembert",
         "marker": {
          "color": "#636efa"
         },
         "name": "Camembert",
         "notched": false,
         "offsetgroup": "Camembert",
         "orientation": "v",
         "showlegend": true,
         "x": [
          "Camembert",
          "Camembert",
          "Camembert",
          "Camembert",
          "Camembert",
          "Camembert",
          "Camembert",
          "Camembert",
          "Camembert",
          "Camembert",
          "Camembert",
          "Camembert",
          "Camembert",
          "Camembert"
         ],
         "x0": " ",
         "xaxis": "x",
         "y": [
          0.9843762708949656,
          0.04584078433965,
          0.1954102226064259,
          0.6745745298231968,
          0.8335698516362822,
          -0.0033554374437402,
          0.6869083937342145,
          0.486454164941815,
          -0.0799068331167752,
          0.058174941088753,
          0.9185465833718958,
          0.4450595360519201,
          0.4133723944871073,
          0.4364175883524257
         ],
         "y0": " ",
         "yaxis": "y",
         "type": "box"
        },
        {
         "alignmentgroup": "True",
         "hovertemplate": "Model=%{x}<br>Rand=%{y}<extra></extra>",
         "legendgroup": "Flaubert",
         "marker": {
          "color": "#EF553B"
         },
         "name": "Flaubert",
         "notched": false,
         "offsetgroup": "Flaubert",
         "orientation": "v",
         "showlegend": true,
         "x": [
          "Flaubert",
          "Flaubert",
          "Flaubert",
          "Flaubert",
          "Flaubert",
          "Flaubert",
          "Flaubert",
          "Flaubert",
          "Flaubert",
          "Flaubert",
          "Flaubert",
          "Flaubert",
          "Flaubert",
          "Flaubert"
         ],
         "x0": " ",
         "xaxis": "x",
         "y": [
          -6.809171721353E-4,
          0.0140731740868045,
          -0.0033516631767852,
          0.6597342061654523,
          -0.0031717191702533,
          -0.0010074918022962,
          -0.0010558095205483,
          0.3919892798195872,
          -0.0718309052374315,
          -0.0121232417950435,
          0.9185465833718958,
          0.1967668550196679,
          0.1056622184706341,
          0.1719201359608405
         ],
         "y0": " ",
         "yaxis": "y",
         "type": "box"
        }
       ],
       "layout": {
        "template": {
         "data": {
          "barpolar": [
           {
            "marker": {
             "line": {
              "color": "white",
              "width": 0.5
             },
             "pattern": {
              "fillmode": "overlay",
              "size": 10,
              "solidity": 0.2
             }
            },
            "type": "barpolar"
           }
          ],
          "bar": [
           {
            "error_x": {
             "color": "#2a3f5f"
            },
            "error_y": {
             "color": "#2a3f5f"
            },
            "marker": {
             "line": {
              "color": "white",
              "width": 0.5
             },
             "pattern": {
              "fillmode": "overlay",
              "size": 10,
              "solidity": 0.2
             }
            },
            "type": "bar"
           }
          ],
          "carpet": [
           {
            "aaxis": {
             "endlinecolor": "#2a3f5f",
             "gridcolor": "#C8D4E3",
             "linecolor": "#C8D4E3",
             "minorgridcolor": "#C8D4E3",
             "startlinecolor": "#2a3f5f"
            },
            "baxis": {
             "endlinecolor": "#2a3f5f",
             "gridcolor": "#C8D4E3",
             "linecolor": "#C8D4E3",
             "minorgridcolor": "#C8D4E3",
             "startlinecolor": "#2a3f5f"
            },
            "type": "carpet"
           }
          ],
          "choropleth": [
           {
            "colorbar": {
             "outlinewidth": 0,
             "ticks": ""
            },
            "type": "choropleth"
           }
          ],
          "contourcarpet": [
           {
            "colorbar": {
             "outlinewidth": 0,
             "ticks": ""
            },
            "type": "contourcarpet"
           }
          ],
          "contour": [
           {
            "colorbar": {
             "outlinewidth": 0,
             "ticks": ""
            },
            "colorscale": [
             [
              0.0,
              "#0d0887"
             ],
             [
              0.1111111111111111,
              "#46039f"
             ],
             [
              0.2222222222222222,
              "#7201a8"
             ],
             [
              0.3333333333333333,
              "#9c179e"
             ],
             [
              0.4444444444444444,
              "#bd3786"
             ],
             [
              0.5555555555555556,
              "#d8576b"
             ],
             [
              0.6666666666666666,
              "#ed7953"
             ],
             [
              0.7777777777777778,
              "#fb9f3a"
             ],
             [
              0.8888888888888888,
              "#fdca26"
             ],
             [
              1.0,
              "#f0f921"
             ]
            ],
            "type": "contour"
           }
          ],
          "heatmapgl": [
           {
            "colorbar": {
             "outlinewidth": 0,
             "ticks": ""
            },
            "colorscale": [
             [
              0.0,
              "#0d0887"
             ],
             [
              0.1111111111111111,
              "#46039f"
             ],
             [
              0.2222222222222222,
              "#7201a8"
             ],
             [
              0.3333333333333333,
              "#9c179e"
             ],
             [
              0.4444444444444444,
              "#bd3786"
             ],
             [
              0.5555555555555556,
              "#d8576b"
             ],
             [
              0.6666666666666666,
              "#ed7953"
             ],
             [
              0.7777777777777778,
              "#fb9f3a"
             ],
             [
              0.8888888888888888,
              "#fdca26"
             ],
             [
              1.0,
              "#f0f921"
             ]
            ],
            "type": "heatmapgl"
           }
          ],
          "heatmap": [
           {
            "colorbar": {
             "outlinewidth": 0,
             "ticks": ""
            },
            "colorscale": [
             [
              0.0,
              "#0d0887"
             ],
             [
              0.1111111111111111,
              "#46039f"
             ],
             [
              0.2222222222222222,
              "#7201a8"
             ],
             [
              0.3333333333333333,
              "#9c179e"
             ],
             [
              0.4444444444444444,
              "#bd3786"
             ],
             [
              0.5555555555555556,
              "#d8576b"
             ],
             [
              0.6666666666666666,
              "#ed7953"
             ],
             [
              0.7777777777777778,
              "#fb9f3a"
             ],
             [
              0.8888888888888888,
              "#fdca26"
             ],
             [
              1.0,
              "#f0f921"
             ]
            ],
            "type": "heatmap"
           }
          ],
          "histogram2dcontour": [
           {
            "colorbar": {
             "outlinewidth": 0,
             "ticks": ""
            },
            "colorscale": [
             [
              0.0,
              "#0d0887"
             ],
             [
              0.1111111111111111,
              "#46039f"
             ],
             [
              0.2222222222222222,
              "#7201a8"
             ],
             [
              0.3333333333333333,
              "#9c179e"
             ],
             [
              0.4444444444444444,
              "#bd3786"
             ],
             [
              0.5555555555555556,
              "#d8576b"
             ],
             [
              0.6666666666666666,
              "#ed7953"
             ],
             [
              0.7777777777777778,
              "#fb9f3a"
             ],
             [
              0.8888888888888888,
              "#fdca26"
             ],
             [
              1.0,
              "#f0f921"
             ]
            ],
            "type": "histogram2dcontour"
           }
          ],
          "histogram2d": [
           {
            "colorbar": {
             "outlinewidth": 0,
             "ticks": ""
            },
            "colorscale": [
             [
              0.0,
              "#0d0887"
             ],
             [
              0.1111111111111111,
              "#46039f"
             ],
             [
              0.2222222222222222,
              "#7201a8"
             ],
             [
              0.3333333333333333,
              "#9c179e"
             ],
             [
              0.4444444444444444,
              "#bd3786"
             ],
             [
              0.5555555555555556,
              "#d8576b"
             ],
             [
              0.6666666666666666,
              "#ed7953"
             ],
             [
              0.7777777777777778,
              "#fb9f3a"
             ],
             [
              0.8888888888888888,
              "#fdca26"
             ],
             [
              1.0,
              "#f0f921"
             ]
            ],
            "type": "histogram2d"
           }
          ],
          "histogram": [
           {
            "marker": {
             "pattern": {
              "fillmode": "overlay",
              "size": 10,
              "solidity": 0.2
             }
            },
            "type": "histogram"
           }
          ],
          "mesh3d": [
           {
            "colorbar": {
             "outlinewidth": 0,
             "ticks": ""
            },
            "type": "mesh3d"
           }
          ],
          "parcoords": [
           {
            "line": {
             "colorbar": {
              "outlinewidth": 0,
              "ticks": ""
             }
            },
            "type": "parcoords"
           }
          ],
          "pie": [
           {
            "automargin": true,
            "type": "pie"
           }
          ],
          "scatter3d": [
           {
            "line": {
             "colorbar": {
              "outlinewidth": 0,
              "ticks": ""
             }
            },
            "marker": {
             "colorbar": {
              "outlinewidth": 0,
              "ticks": ""
             }
            },
            "type": "scatter3d"
           }
          ],
          "scattercarpet": [
           {
            "marker": {
             "colorbar": {
              "outlinewidth": 0,
              "ticks": ""
             }
            },
            "type": "scattercarpet"
           }
          ],
          "scattergeo": [
           {
            "marker": {
             "colorbar": {
              "outlinewidth": 0,
              "ticks": ""
             }
            },
            "type": "scattergeo"
           }
          ],
          "scattergl": [
           {
            "marker": {
             "colorbar": {
              "outlinewidth": 0,
              "ticks": ""
             }
            },
            "type": "scattergl"
           }
          ],
          "scattermapbox": [
           {
            "marker": {
             "colorbar": {
              "outlinewidth": 0,
              "ticks": ""
             }
            },
            "type": "scattermapbox"
           }
          ],
          "scatterpolargl": [
           {
            "marker": {
             "colorbar": {
              "outlinewidth": 0,
              "ticks": ""
             }
            },
            "type": "scatterpolargl"
           }
          ],
          "scatterpolar": [
           {
            "marker": {
             "colorbar": {
              "outlinewidth": 0,
              "ticks": ""
             }
            },
            "type": "scatterpolar"
           }
          ],
          "scatter": [
           {
            "fillpattern": {
             "fillmode": "overlay",
             "size": 10,
             "solidity": 0.2
            },
            "type": "scatter"
           }
          ],
          "scatterternary": [
           {
            "marker": {
             "colorbar": {
              "outlinewidth": 0,
              "ticks": ""
             }
            },
            "type": "scatterternary"
           }
          ],
          "surface": [
           {
            "colorbar": {
             "outlinewidth": 0,
             "ticks": ""
            },
            "colorscale": [
             [
              0.0,
              "#0d0887"
             ],
             [
              0.1111111111111111,
              "#46039f"
             ],
             [
              0.2222222222222222,
              "#7201a8"
             ],
             [
              0.3333333333333333,
              "#9c179e"
             ],
             [
              0.4444444444444444,
              "#bd3786"
             ],
             [
              0.5555555555555556,
              "#d8576b"
             ],
             [
              0.6666666666666666,
              "#ed7953"
             ],
             [
              0.7777777777777778,
              "#fb9f3a"
             ],
             [
              0.8888888888888888,
              "#fdca26"
             ],
             [
              1.0,
              "#f0f921"
             ]
            ],
            "type": "surface"
           }
          ],
          "table": [
           {
            "cells": {
             "fill": {
              "color": "#EBF0F8"
             },
             "line": {
              "color": "white"
             }
            },
            "header": {
             "fill": {
              "color": "#C8D4E3"
             },
             "line": {
              "color": "white"
             }
            },
            "type": "table"
           }
          ]
         },
         "layout": {
          "annotationdefaults": {
           "arrowcolor": "#2a3f5f",
           "arrowhead": 0,
           "arrowwidth": 1
          },
          "autotypenumbers": "strict",
          "coloraxis": {
           "colorbar": {
            "outlinewidth": 0,
            "ticks": ""
           }
          },
          "colorscale": {
           "diverging": [
            [
             0,
             "#8e0152"
            ],
            [
             0.1,
             "#c51b7d"
            ],
            [
             0.2,
             "#de77ae"
            ],
            [
             0.3,
             "#f1b6da"
            ],
            [
             0.4,
             "#fde0ef"
            ],
            [
             0.5,
             "#f7f7f7"
            ],
            [
             0.6,
             "#e6f5d0"
            ],
            [
             0.7,
             "#b8e186"
            ],
            [
             0.8,
             "#7fbc41"
            ],
            [
             0.9,
             "#4d9221"
            ],
            [
             1,
             "#276419"
            ]
           ],
           "sequential": [
            [
             0.0,
             "#0d0887"
            ],
            [
             0.1111111111111111,
             "#46039f"
            ],
            [
             0.2222222222222222,
             "#7201a8"
            ],
            [
             0.3333333333333333,
             "#9c179e"
            ],
            [
             0.4444444444444444,
             "#bd3786"
            ],
            [
             0.5555555555555556,
             "#d8576b"
            ],
            [
             0.6666666666666666,
             "#ed7953"
            ],
            [
             0.7777777777777778,
             "#fb9f3a"
            ],
            [
             0.8888888888888888,
             "#fdca26"
            ],
            [
             1.0,
             "#f0f921"
            ]
           ],
           "sequentialminus": [
            [
             0.0,
             "#0d0887"
            ],
            [
             0.1111111111111111,
             "#46039f"
            ],
            [
             0.2222222222222222,
             "#7201a8"
            ],
            [
             0.3333333333333333,
             "#9c179e"
            ],
            [
             0.4444444444444444,
             "#bd3786"
            ],
            [
             0.5555555555555556,
             "#d8576b"
            ],
            [
             0.6666666666666666,
             "#ed7953"
            ],
            [
             0.7777777777777778,
             "#fb9f3a"
            ],
            [
             0.8888888888888888,
             "#fdca26"
            ],
            [
             1.0,
             "#f0f921"
            ]
           ]
          },
          "colorway": [
           "#636efa",
           "#EF553B",
           "#00cc96",
           "#ab63fa",
           "#FFA15A",
           "#19d3f3",
           "#FF6692",
           "#B6E880",
           "#FF97FF",
           "#FECB52"
          ],
          "font": {
           "color": "#2a3f5f"
          },
          "geo": {
           "bgcolor": "white",
           "lakecolor": "white",
           "landcolor": "white",
           "showlakes": true,
           "showland": true,
           "subunitcolor": "#C8D4E3"
          },
          "hoverlabel": {
           "align": "left"
          },
          "hovermode": "closest",
          "mapbox": {
           "style": "light"
          },
          "paper_bgcolor": "white",
          "plot_bgcolor": "white",
          "polar": {
           "angularaxis": {
            "gridcolor": "#EBF0F8",
            "linecolor": "#EBF0F8",
            "ticks": ""
           },
           "bgcolor": "white",
           "radialaxis": {
            "gridcolor": "#EBF0F8",
            "linecolor": "#EBF0F8",
            "ticks": ""
           }
          },
          "scene": {
           "xaxis": {
            "backgroundcolor": "white",
            "gridcolor": "#DFE8F3",
            "gridwidth": 2,
            "linecolor": "#EBF0F8",
            "showbackground": true,
            "ticks": "",
            "zerolinecolor": "#EBF0F8"
           },
           "yaxis": {
            "backgroundcolor": "white",
            "gridcolor": "#DFE8F3",
            "gridwidth": 2,
            "linecolor": "#EBF0F8",
            "showbackground": true,
            "ticks": "",
            "zerolinecolor": "#EBF0F8"
           },
           "zaxis": {
            "backgroundcolor": "white",
            "gridcolor": "#DFE8F3",
            "gridwidth": 2,
            "linecolor": "#EBF0F8",
            "showbackground": true,
            "ticks": "",
            "zerolinecolor": "#EBF0F8"
           }
          },
          "shapedefaults": {
           "line": {
            "color": "#2a3f5f"
           }
          },
          "ternary": {
           "aaxis": {
            "gridcolor": "#DFE8F3",
            "linecolor": "#A2B1C6",
            "ticks": ""
           },
           "baxis": {
            "gridcolor": "#DFE8F3",
            "linecolor": "#A2B1C6",
            "ticks": ""
           },
           "bgcolor": "white",
           "caxis": {
            "gridcolor": "#DFE8F3",
            "linecolor": "#A2B1C6",
            "ticks": ""
           }
          },
          "title": {
           "x": 0.05
          },
          "xaxis": {
           "automargin": true,
           "gridcolor": "#EBF0F8",
           "linecolor": "#EBF0F8",
           "ticks": "",
           "title": {
            "standoff": 15
           },
           "zerolinecolor": "#EBF0F8",
           "zerolinewidth": 2
          },
          "yaxis": {
           "automargin": true,
           "gridcolor": "#EBF0F8",
           "linecolor": "#EBF0F8",
           "ticks": "",
           "title": {
            "standoff": 15
           },
           "zerolinecolor": "#EBF0F8",
           "zerolinewidth": 2
          }
         }
        },
        "xaxis": {
         "anchor": "y",
         "domain": [
          0.0,
          1.0
         ],
         "title": {
          "text": "Model"
         },
         "categoryorder": "array",
         "categoryarray": [
          "Camembert",
          "Flaubert"
         ]
        },
        "yaxis": {
         "anchor": "x",
         "domain": [
          0.0,
          1.0
         ],
         "title": {
          "text": "Rand"
         }
        },
        "legend": {
         "title": {
          "text": "Model"
         },
         "tracegroupgap": 0
        },
        "title": {
         "text": "Rand scores for each model"
        },
        "boxmode": "overlay",
        "showlegend": false
       },
       "config": {
        "plotlyServerURL": "https://plot.ly"
       }
      },
      "text/html": "<div>                            <div id=\"5820a7c3-3e80-46d4-aef9-5228b1a2beb0\" class=\"plotly-graph-div\" style=\"height:525px; width:100%;\"></div>            <script type=\"text/javascript\">                require([\"plotly\"], function(Plotly) {                    window.PLOTLYENV=window.PLOTLYENV || {};                                    if (document.getElementById(\"5820a7c3-3e80-46d4-aef9-5228b1a2beb0\")) {                    Plotly.newPlot(                        \"5820a7c3-3e80-46d4-aef9-5228b1a2beb0\",                        [{\"alignmentgroup\":\"True\",\"hovertemplate\":\"Model=%{x}\\u003cbr\\u003eRand=%{y}\\u003cextra\\u003e\\u003c\\u002fextra\\u003e\",\"legendgroup\":\"Camembert\",\"marker\":{\"color\":\"#636efa\"},\"name\":\"Camembert\",\"notched\":false,\"offsetgroup\":\"Camembert\",\"orientation\":\"v\",\"showlegend\":true,\"x\":[\"Camembert\",\"Camembert\",\"Camembert\",\"Camembert\",\"Camembert\",\"Camembert\",\"Camembert\",\"Camembert\",\"Camembert\",\"Camembert\",\"Camembert\",\"Camembert\",\"Camembert\",\"Camembert\"],\"x0\":\" \",\"xaxis\":\"x\",\"y\":[0.9843762708949656,0.04584078433965,0.1954102226064259,0.6745745298231968,0.8335698516362822,-0.0033554374437402,0.6869083937342145,0.486454164941815,-0.0799068331167752,0.058174941088753,0.9185465833718958,0.4450595360519201,0.4133723944871073,0.4364175883524257],\"y0\":\" \",\"yaxis\":\"y\",\"type\":\"box\"},{\"alignmentgroup\":\"True\",\"hovertemplate\":\"Model=%{x}\\u003cbr\\u003eRand=%{y}\\u003cextra\\u003e\\u003c\\u002fextra\\u003e\",\"legendgroup\":\"Flaubert\",\"marker\":{\"color\":\"#EF553B\"},\"name\":\"Flaubert\",\"notched\":false,\"offsetgroup\":\"Flaubert\",\"orientation\":\"v\",\"showlegend\":true,\"x\":[\"Flaubert\",\"Flaubert\",\"Flaubert\",\"Flaubert\",\"Flaubert\",\"Flaubert\",\"Flaubert\",\"Flaubert\",\"Flaubert\",\"Flaubert\",\"Flaubert\",\"Flaubert\",\"Flaubert\",\"Flaubert\"],\"x0\":\" \",\"xaxis\":\"x\",\"y\":[-0.0006809171721353,0.0140731740868045,-0.0033516631767852,0.6597342061654523,-0.0031717191702533,-0.0010074918022962,-0.0010558095205483,0.3919892798195872,-0.0718309052374315,-0.0121232417950435,0.9185465833718958,0.1967668550196679,0.1056622184706341,0.1719201359608405],\"y0\":\" \",\"yaxis\":\"y\",\"type\":\"box\"}],                        {\"template\":{\"data\":{\"barpolar\":[{\"marker\":{\"line\":{\"color\":\"white\",\"width\":0.5},\"pattern\":{\"fillmode\":\"overlay\",\"size\":10,\"solidity\":0.2}},\"type\":\"barpolar\"}],\"bar\":[{\"error_x\":{\"color\":\"#2a3f5f\"},\"error_y\":{\"color\":\"#2a3f5f\"},\"marker\":{\"line\":{\"color\":\"white\",\"width\":0.5},\"pattern\":{\"fillmode\":\"overlay\",\"size\":10,\"solidity\":0.2}},\"type\":\"bar\"}],\"carpet\":[{\"aaxis\":{\"endlinecolor\":\"#2a3f5f\",\"gridcolor\":\"#C8D4E3\",\"linecolor\":\"#C8D4E3\",\"minorgridcolor\":\"#C8D4E3\",\"startlinecolor\":\"#2a3f5f\"},\"baxis\":{\"endlinecolor\":\"#2a3f5f\",\"gridcolor\":\"#C8D4E3\",\"linecolor\":\"#C8D4E3\",\"minorgridcolor\":\"#C8D4E3\",\"startlinecolor\":\"#2a3f5f\"},\"type\":\"carpet\"}],\"choropleth\":[{\"colorbar\":{\"outlinewidth\":0,\"ticks\":\"\"},\"type\":\"choropleth\"}],\"contourcarpet\":[{\"colorbar\":{\"outlinewidth\":0,\"ticks\":\"\"},\"type\":\"contourcarpet\"}],\"contour\":[{\"colorbar\":{\"outlinewidth\":0,\"ticks\":\"\"},\"colorscale\":[[0.0,\"#0d0887\"],[0.1111111111111111,\"#46039f\"],[0.2222222222222222,\"#7201a8\"],[0.3333333333333333,\"#9c179e\"],[0.4444444444444444,\"#bd3786\"],[0.5555555555555556,\"#d8576b\"],[0.6666666666666666,\"#ed7953\"],[0.7777777777777778,\"#fb9f3a\"],[0.8888888888888888,\"#fdca26\"],[1.0,\"#f0f921\"]],\"type\":\"contour\"}],\"heatmapgl\":[{\"colorbar\":{\"outlinewidth\":0,\"ticks\":\"\"},\"colorscale\":[[0.0,\"#0d0887\"],[0.1111111111111111,\"#46039f\"],[0.2222222222222222,\"#7201a8\"],[0.3333333333333333,\"#9c179e\"],[0.4444444444444444,\"#bd3786\"],[0.5555555555555556,\"#d8576b\"],[0.6666666666666666,\"#ed7953\"],[0.7777777777777778,\"#fb9f3a\"],[0.8888888888888888,\"#fdca26\"],[1.0,\"#f0f921\"]],\"type\":\"heatmapgl\"}],\"heatmap\":[{\"colorbar\":{\"outlinewidth\":0,\"ticks\":\"\"},\"colorscale\":[[0.0,\"#0d0887\"],[0.1111111111111111,\"#46039f\"],[0.2222222222222222,\"#7201a8\"],[0.3333333333333333,\"#9c179e\"],[0.4444444444444444,\"#bd3786\"],[0.5555555555555556,\"#d8576b\"],[0.6666666666666666,\"#ed7953\"],[0.7777777777777778,\"#fb9f3a\"],[0.8888888888888888,\"#fdca26\"],[1.0,\"#f0f921\"]],\"type\":\"heatmap\"}],\"histogram2dcontour\":[{\"colorbar\":{\"outlinewidth\":0,\"ticks\":\"\"},\"colorscale\":[[0.0,\"#0d0887\"],[0.1111111111111111,\"#46039f\"],[0.2222222222222222,\"#7201a8\"],[0.3333333333333333,\"#9c179e\"],[0.4444444444444444,\"#bd3786\"],[0.5555555555555556,\"#d8576b\"],[0.6666666666666666,\"#ed7953\"],[0.7777777777777778,\"#fb9f3a\"],[0.8888888888888888,\"#fdca26\"],[1.0,\"#f0f921\"]],\"type\":\"histogram2dcontour\"}],\"histogram2d\":[{\"colorbar\":{\"outlinewidth\":0,\"ticks\":\"\"},\"colorscale\":[[0.0,\"#0d0887\"],[0.1111111111111111,\"#46039f\"],[0.2222222222222222,\"#7201a8\"],[0.3333333333333333,\"#9c179e\"],[0.4444444444444444,\"#bd3786\"],[0.5555555555555556,\"#d8576b\"],[0.6666666666666666,\"#ed7953\"],[0.7777777777777778,\"#fb9f3a\"],[0.8888888888888888,\"#fdca26\"],[1.0,\"#f0f921\"]],\"type\":\"histogram2d\"}],\"histogram\":[{\"marker\":{\"pattern\":{\"fillmode\":\"overlay\",\"size\":10,\"solidity\":0.2}},\"type\":\"histogram\"}],\"mesh3d\":[{\"colorbar\":{\"outlinewidth\":0,\"ticks\":\"\"},\"type\":\"mesh3d\"}],\"parcoords\":[{\"line\":{\"colorbar\":{\"outlinewidth\":0,\"ticks\":\"\"}},\"type\":\"parcoords\"}],\"pie\":[{\"automargin\":true,\"type\":\"pie\"}],\"scatter3d\":[{\"line\":{\"colorbar\":{\"outlinewidth\":0,\"ticks\":\"\"}},\"marker\":{\"colorbar\":{\"outlinewidth\":0,\"ticks\":\"\"}},\"type\":\"scatter3d\"}],\"scattercarpet\":[{\"marker\":{\"colorbar\":{\"outlinewidth\":0,\"ticks\":\"\"}},\"type\":\"scattercarpet\"}],\"scattergeo\":[{\"marker\":{\"colorbar\":{\"outlinewidth\":0,\"ticks\":\"\"}},\"type\":\"scattergeo\"}],\"scattergl\":[{\"marker\":{\"colorbar\":{\"outlinewidth\":0,\"ticks\":\"\"}},\"type\":\"scattergl\"}],\"scattermapbox\":[{\"marker\":{\"colorbar\":{\"outlinewidth\":0,\"ticks\":\"\"}},\"type\":\"scattermapbox\"}],\"scatterpolargl\":[{\"marker\":{\"colorbar\":{\"outlinewidth\":0,\"ticks\":\"\"}},\"type\":\"scatterpolargl\"}],\"scatterpolar\":[{\"marker\":{\"colorbar\":{\"outlinewidth\":0,\"ticks\":\"\"}},\"type\":\"scatterpolar\"}],\"scatter\":[{\"fillpattern\":{\"fillmode\":\"overlay\",\"size\":10,\"solidity\":0.2},\"type\":\"scatter\"}],\"scatterternary\":[{\"marker\":{\"colorbar\":{\"outlinewidth\":0,\"ticks\":\"\"}},\"type\":\"scatterternary\"}],\"surface\":[{\"colorbar\":{\"outlinewidth\":0,\"ticks\":\"\"},\"colorscale\":[[0.0,\"#0d0887\"],[0.1111111111111111,\"#46039f\"],[0.2222222222222222,\"#7201a8\"],[0.3333333333333333,\"#9c179e\"],[0.4444444444444444,\"#bd3786\"],[0.5555555555555556,\"#d8576b\"],[0.6666666666666666,\"#ed7953\"],[0.7777777777777778,\"#fb9f3a\"],[0.8888888888888888,\"#fdca26\"],[1.0,\"#f0f921\"]],\"type\":\"surface\"}],\"table\":[{\"cells\":{\"fill\":{\"color\":\"#EBF0F8\"},\"line\":{\"color\":\"white\"}},\"header\":{\"fill\":{\"color\":\"#C8D4E3\"},\"line\":{\"color\":\"white\"}},\"type\":\"table\"}]},\"layout\":{\"annotationdefaults\":{\"arrowcolor\":\"#2a3f5f\",\"arrowhead\":0,\"arrowwidth\":1},\"autotypenumbers\":\"strict\",\"coloraxis\":{\"colorbar\":{\"outlinewidth\":0,\"ticks\":\"\"}},\"colorscale\":{\"diverging\":[[0,\"#8e0152\"],[0.1,\"#c51b7d\"],[0.2,\"#de77ae\"],[0.3,\"#f1b6da\"],[0.4,\"#fde0ef\"],[0.5,\"#f7f7f7\"],[0.6,\"#e6f5d0\"],[0.7,\"#b8e186\"],[0.8,\"#7fbc41\"],[0.9,\"#4d9221\"],[1,\"#276419\"]],\"sequential\":[[0.0,\"#0d0887\"],[0.1111111111111111,\"#46039f\"],[0.2222222222222222,\"#7201a8\"],[0.3333333333333333,\"#9c179e\"],[0.4444444444444444,\"#bd3786\"],[0.5555555555555556,\"#d8576b\"],[0.6666666666666666,\"#ed7953\"],[0.7777777777777778,\"#fb9f3a\"],[0.8888888888888888,\"#fdca26\"],[1.0,\"#f0f921\"]],\"sequentialminus\":[[0.0,\"#0d0887\"],[0.1111111111111111,\"#46039f\"],[0.2222222222222222,\"#7201a8\"],[0.3333333333333333,\"#9c179e\"],[0.4444444444444444,\"#bd3786\"],[0.5555555555555556,\"#d8576b\"],[0.6666666666666666,\"#ed7953\"],[0.7777777777777778,\"#fb9f3a\"],[0.8888888888888888,\"#fdca26\"],[1.0,\"#f0f921\"]]},\"colorway\":[\"#636efa\",\"#EF553B\",\"#00cc96\",\"#ab63fa\",\"#FFA15A\",\"#19d3f3\",\"#FF6692\",\"#B6E880\",\"#FF97FF\",\"#FECB52\"],\"font\":{\"color\":\"#2a3f5f\"},\"geo\":{\"bgcolor\":\"white\",\"lakecolor\":\"white\",\"landcolor\":\"white\",\"showlakes\":true,\"showland\":true,\"subunitcolor\":\"#C8D4E3\"},\"hoverlabel\":{\"align\":\"left\"},\"hovermode\":\"closest\",\"mapbox\":{\"style\":\"light\"},\"paper_bgcolor\":\"white\",\"plot_bgcolor\":\"white\",\"polar\":{\"angularaxis\":{\"gridcolor\":\"#EBF0F8\",\"linecolor\":\"#EBF0F8\",\"ticks\":\"\"},\"bgcolor\":\"white\",\"radialaxis\":{\"gridcolor\":\"#EBF0F8\",\"linecolor\":\"#EBF0F8\",\"ticks\":\"\"}},\"scene\":{\"xaxis\":{\"backgroundcolor\":\"white\",\"gridcolor\":\"#DFE8F3\",\"gridwidth\":2,\"linecolor\":\"#EBF0F8\",\"showbackground\":true,\"ticks\":\"\",\"zerolinecolor\":\"#EBF0F8\"},\"yaxis\":{\"backgroundcolor\":\"white\",\"gridcolor\":\"#DFE8F3\",\"gridwidth\":2,\"linecolor\":\"#EBF0F8\",\"showbackground\":true,\"ticks\":\"\",\"zerolinecolor\":\"#EBF0F8\"},\"zaxis\":{\"backgroundcolor\":\"white\",\"gridcolor\":\"#DFE8F3\",\"gridwidth\":2,\"linecolor\":\"#EBF0F8\",\"showbackground\":true,\"ticks\":\"\",\"zerolinecolor\":\"#EBF0F8\"}},\"shapedefaults\":{\"line\":{\"color\":\"#2a3f5f\"}},\"ternary\":{\"aaxis\":{\"gridcolor\":\"#DFE8F3\",\"linecolor\":\"#A2B1C6\",\"ticks\":\"\"},\"baxis\":{\"gridcolor\":\"#DFE8F3\",\"linecolor\":\"#A2B1C6\",\"ticks\":\"\"},\"bgcolor\":\"white\",\"caxis\":{\"gridcolor\":\"#DFE8F3\",\"linecolor\":\"#A2B1C6\",\"ticks\":\"\"}},\"title\":{\"x\":0.05},\"xaxis\":{\"automargin\":true,\"gridcolor\":\"#EBF0F8\",\"linecolor\":\"#EBF0F8\",\"ticks\":\"\",\"title\":{\"standoff\":15},\"zerolinecolor\":\"#EBF0F8\",\"zerolinewidth\":2},\"yaxis\":{\"automargin\":true,\"gridcolor\":\"#EBF0F8\",\"linecolor\":\"#EBF0F8\",\"ticks\":\"\",\"title\":{\"standoff\":15},\"zerolinecolor\":\"#EBF0F8\",\"zerolinewidth\":2}}},\"xaxis\":{\"anchor\":\"y\",\"domain\":[0.0,1.0],\"title\":{\"text\":\"Model\"},\"categoryorder\":\"array\",\"categoryarray\":[\"Camembert\",\"Flaubert\"]},\"yaxis\":{\"anchor\":\"x\",\"domain\":[0.0,1.0],\"title\":{\"text\":\"Rand\"}},\"legend\":{\"title\":{\"text\":\"Model\"},\"tracegroupgap\":0},\"title\":{\"text\":\"Rand scores for each model\"},\"boxmode\":\"overlay\",\"showlegend\":false},                        {\"responsive\": true}                    ).then(function(){\n                            \nvar gd = document.getElementById('5820a7c3-3e80-46d4-aef9-5228b1a2beb0');\nvar x = new MutationObserver(function (mutations, observer) {{\n        var display = window.getComputedStyle(gd).display;\n        if (!display || display === 'none') {{\n            console.log([gd, 'removed!']);\n            Plotly.purge(gd);\n            observer.disconnect();\n        }}\n}});\n\n// Listen for the removal of the full notebook cells\nvar notebookContainer = gd.closest('#notebook-container');\nif (notebookContainer) {{\n    x.observe(notebookContainer, {childList: true});\n}}\n\n// Listen for the clearing of the current output cell\nvar outputEl = gd.closest('.output');\nif (outputEl) {{\n    x.observe(outputEl, {childList: true});\n}}\n\n                        })                };                });            </script>        </div>"
     },
     "metadata": {},
     "output_type": "display_data"
    },
    {
     "data": {
      "application/vnd.plotly.v1+json": {
       "data": [
        {
         "alignmentgroup": "True",
         "hovertemplate": "Model=%{x}<br>F1=%{y}<extra></extra>",
         "legendgroup": "Camembert",
         "marker": {
          "color": "#636efa"
         },
         "name": "Camembert",
         "notched": false,
         "offsetgroup": "Camembert",
         "orientation": "v",
         "showlegend": true,
         "x": [
          "Camembert",
          "Camembert",
          "Camembert",
          "Camembert",
          "Camembert",
          "Camembert",
          "Camembert",
          "Camembert",
          "Camembert",
          "Camembert",
          "Camembert",
          "Camembert",
          "Camembert",
          "Camembert"
         ],
         "x0": " ",
         "xaxis": "x",
         "y": [
          0.993939393939394,
          0.4186166392022646,
          0.4681009010058077,
          0.7223615666602354,
          0.947844484410206,
          0.3247816922613671,
          0.8071853581381336,
          0.6595454545454544,
          0.4804017638412542,
          0.2574832897413542,
          0.982232893157263,
          0.6218377167632274,
          0.6959305675989715,
          0.6420448579002486
         ],
         "y0": " ",
         "yaxis": "y",
         "type": "box"
        },
        {
         "alignmentgroup": "True",
         "hovertemplate": "Model=%{x}<br>F1=%{y}<extra></extra>",
         "legendgroup": "Flaubert",
         "marker": {
          "color": "#EF553B"
         },
         "name": "Flaubert",
         "notched": false,
         "offsetgroup": "Flaubert",
         "orientation": "v",
         "showlegend": true,
         "x": [
          "Flaubert",
          "Flaubert",
          "Flaubert",
          "Flaubert",
          "Flaubert",
          "Flaubert",
          "Flaubert",
          "Flaubert",
          "Flaubert",
          "Flaubert",
          "Flaubert",
          "Flaubert",
          "Flaubert",
          "Flaubert"
         ],
         "x0": " ",
         "xaxis": "x",
         "y": [
          0.5582247855519441,
          0.3920904775496612,
          0.3774123951699898,
          0.721875,
          0.3395833333333333,
          0.3246096270486515,
          0.3197500649744434,
          0.5893719806763285,
          0.4682382133995037,
          0.1407752841737102,
          0.982232893157263,
          0.4771213159532079,
          0.4657311758030552,
          0.4740149140940753
         ],
         "y0": " ",
         "yaxis": "y",
         "type": "box"
        }
       ],
       "layout": {
        "template": {
         "data": {
          "barpolar": [
           {
            "marker": {
             "line": {
              "color": "white",
              "width": 0.5
             },
             "pattern": {
              "fillmode": "overlay",
              "size": 10,
              "solidity": 0.2
             }
            },
            "type": "barpolar"
           }
          ],
          "bar": [
           {
            "error_x": {
             "color": "#2a3f5f"
            },
            "error_y": {
             "color": "#2a3f5f"
            },
            "marker": {
             "line": {
              "color": "white",
              "width": 0.5
             },
             "pattern": {
              "fillmode": "overlay",
              "size": 10,
              "solidity": 0.2
             }
            },
            "type": "bar"
           }
          ],
          "carpet": [
           {
            "aaxis": {
             "endlinecolor": "#2a3f5f",
             "gridcolor": "#C8D4E3",
             "linecolor": "#C8D4E3",
             "minorgridcolor": "#C8D4E3",
             "startlinecolor": "#2a3f5f"
            },
            "baxis": {
             "endlinecolor": "#2a3f5f",
             "gridcolor": "#C8D4E3",
             "linecolor": "#C8D4E3",
             "minorgridcolor": "#C8D4E3",
             "startlinecolor": "#2a3f5f"
            },
            "type": "carpet"
           }
          ],
          "choropleth": [
           {
            "colorbar": {
             "outlinewidth": 0,
             "ticks": ""
            },
            "type": "choropleth"
           }
          ],
          "contourcarpet": [
           {
            "colorbar": {
             "outlinewidth": 0,
             "ticks": ""
            },
            "type": "contourcarpet"
           }
          ],
          "contour": [
           {
            "colorbar": {
             "outlinewidth": 0,
             "ticks": ""
            },
            "colorscale": [
             [
              0.0,
              "#0d0887"
             ],
             [
              0.1111111111111111,
              "#46039f"
             ],
             [
              0.2222222222222222,
              "#7201a8"
             ],
             [
              0.3333333333333333,
              "#9c179e"
             ],
             [
              0.4444444444444444,
              "#bd3786"
             ],
             [
              0.5555555555555556,
              "#d8576b"
             ],
             [
              0.6666666666666666,
              "#ed7953"
             ],
             [
              0.7777777777777778,
              "#fb9f3a"
             ],
             [
              0.8888888888888888,
              "#fdca26"
             ],
             [
              1.0,
              "#f0f921"
             ]
            ],
            "type": "contour"
           }
          ],
          "heatmapgl": [
           {
            "colorbar": {
             "outlinewidth": 0,
             "ticks": ""
            },
            "colorscale": [
             [
              0.0,
              "#0d0887"
             ],
             [
              0.1111111111111111,
              "#46039f"
             ],
             [
              0.2222222222222222,
              "#7201a8"
             ],
             [
              0.3333333333333333,
              "#9c179e"
             ],
             [
              0.4444444444444444,
              "#bd3786"
             ],
             [
              0.5555555555555556,
              "#d8576b"
             ],
             [
              0.6666666666666666,
              "#ed7953"
             ],
             [
              0.7777777777777778,
              "#fb9f3a"
             ],
             [
              0.8888888888888888,
              "#fdca26"
             ],
             [
              1.0,
              "#f0f921"
             ]
            ],
            "type": "heatmapgl"
           }
          ],
          "heatmap": [
           {
            "colorbar": {
             "outlinewidth": 0,
             "ticks": ""
            },
            "colorscale": [
             [
              0.0,
              "#0d0887"
             ],
             [
              0.1111111111111111,
              "#46039f"
             ],
             [
              0.2222222222222222,
              "#7201a8"
             ],
             [
              0.3333333333333333,
              "#9c179e"
             ],
             [
              0.4444444444444444,
              "#bd3786"
             ],
             [
              0.5555555555555556,
              "#d8576b"
             ],
             [
              0.6666666666666666,
              "#ed7953"
             ],
             [
              0.7777777777777778,
              "#fb9f3a"
             ],
             [
              0.8888888888888888,
              "#fdca26"
             ],
             [
              1.0,
              "#f0f921"
             ]
            ],
            "type": "heatmap"
           }
          ],
          "histogram2dcontour": [
           {
            "colorbar": {
             "outlinewidth": 0,
             "ticks": ""
            },
            "colorscale": [
             [
              0.0,
              "#0d0887"
             ],
             [
              0.1111111111111111,
              "#46039f"
             ],
             [
              0.2222222222222222,
              "#7201a8"
             ],
             [
              0.3333333333333333,
              "#9c179e"
             ],
             [
              0.4444444444444444,
              "#bd3786"
             ],
             [
              0.5555555555555556,
              "#d8576b"
             ],
             [
              0.6666666666666666,
              "#ed7953"
             ],
             [
              0.7777777777777778,
              "#fb9f3a"
             ],
             [
              0.8888888888888888,
              "#fdca26"
             ],
             [
              1.0,
              "#f0f921"
             ]
            ],
            "type": "histogram2dcontour"
           }
          ],
          "histogram2d": [
           {
            "colorbar": {
             "outlinewidth": 0,
             "ticks": ""
            },
            "colorscale": [
             [
              0.0,
              "#0d0887"
             ],
             [
              0.1111111111111111,
              "#46039f"
             ],
             [
              0.2222222222222222,
              "#7201a8"
             ],
             [
              0.3333333333333333,
              "#9c179e"
             ],
             [
              0.4444444444444444,
              "#bd3786"
             ],
             [
              0.5555555555555556,
              "#d8576b"
             ],
             [
              0.6666666666666666,
              "#ed7953"
             ],
             [
              0.7777777777777778,
              "#fb9f3a"
             ],
             [
              0.8888888888888888,
              "#fdca26"
             ],
             [
              1.0,
              "#f0f921"
             ]
            ],
            "type": "histogram2d"
           }
          ],
          "histogram": [
           {
            "marker": {
             "pattern": {
              "fillmode": "overlay",
              "size": 10,
              "solidity": 0.2
             }
            },
            "type": "histogram"
           }
          ],
          "mesh3d": [
           {
            "colorbar": {
             "outlinewidth": 0,
             "ticks": ""
            },
            "type": "mesh3d"
           }
          ],
          "parcoords": [
           {
            "line": {
             "colorbar": {
              "outlinewidth": 0,
              "ticks": ""
             }
            },
            "type": "parcoords"
           }
          ],
          "pie": [
           {
            "automargin": true,
            "type": "pie"
           }
          ],
          "scatter3d": [
           {
            "line": {
             "colorbar": {
              "outlinewidth": 0,
              "ticks": ""
             }
            },
            "marker": {
             "colorbar": {
              "outlinewidth": 0,
              "ticks": ""
             }
            },
            "type": "scatter3d"
           }
          ],
          "scattercarpet": [
           {
            "marker": {
             "colorbar": {
              "outlinewidth": 0,
              "ticks": ""
             }
            },
            "type": "scattercarpet"
           }
          ],
          "scattergeo": [
           {
            "marker": {
             "colorbar": {
              "outlinewidth": 0,
              "ticks": ""
             }
            },
            "type": "scattergeo"
           }
          ],
          "scattergl": [
           {
            "marker": {
             "colorbar": {
              "outlinewidth": 0,
              "ticks": ""
             }
            },
            "type": "scattergl"
           }
          ],
          "scattermapbox": [
           {
            "marker": {
             "colorbar": {
              "outlinewidth": 0,
              "ticks": ""
             }
            },
            "type": "scattermapbox"
           }
          ],
          "scatterpolargl": [
           {
            "marker": {
             "colorbar": {
              "outlinewidth": 0,
              "ticks": ""
             }
            },
            "type": "scatterpolargl"
           }
          ],
          "scatterpolar": [
           {
            "marker": {
             "colorbar": {
              "outlinewidth": 0,
              "ticks": ""
             }
            },
            "type": "scatterpolar"
           }
          ],
          "scatter": [
           {
            "fillpattern": {
             "fillmode": "overlay",
             "size": 10,
             "solidity": 0.2
            },
            "type": "scatter"
           }
          ],
          "scatterternary": [
           {
            "marker": {
             "colorbar": {
              "outlinewidth": 0,
              "ticks": ""
             }
            },
            "type": "scatterternary"
           }
          ],
          "surface": [
           {
            "colorbar": {
             "outlinewidth": 0,
             "ticks": ""
            },
            "colorscale": [
             [
              0.0,
              "#0d0887"
             ],
             [
              0.1111111111111111,
              "#46039f"
             ],
             [
              0.2222222222222222,
              "#7201a8"
             ],
             [
              0.3333333333333333,
              "#9c179e"
             ],
             [
              0.4444444444444444,
              "#bd3786"
             ],
             [
              0.5555555555555556,
              "#d8576b"
             ],
             [
              0.6666666666666666,
              "#ed7953"
             ],
             [
              0.7777777777777778,
              "#fb9f3a"
             ],
             [
              0.8888888888888888,
              "#fdca26"
             ],
             [
              1.0,
              "#f0f921"
             ]
            ],
            "type": "surface"
           }
          ],
          "table": [
           {
            "cells": {
             "fill": {
              "color": "#EBF0F8"
             },
             "line": {
              "color": "white"
             }
            },
            "header": {
             "fill": {
              "color": "#C8D4E3"
             },
             "line": {
              "color": "white"
             }
            },
            "type": "table"
           }
          ]
         },
         "layout": {
          "annotationdefaults": {
           "arrowcolor": "#2a3f5f",
           "arrowhead": 0,
           "arrowwidth": 1
          },
          "autotypenumbers": "strict",
          "coloraxis": {
           "colorbar": {
            "outlinewidth": 0,
            "ticks": ""
           }
          },
          "colorscale": {
           "diverging": [
            [
             0,
             "#8e0152"
            ],
            [
             0.1,
             "#c51b7d"
            ],
            [
             0.2,
             "#de77ae"
            ],
            [
             0.3,
             "#f1b6da"
            ],
            [
             0.4,
             "#fde0ef"
            ],
            [
             0.5,
             "#f7f7f7"
            ],
            [
             0.6,
             "#e6f5d0"
            ],
            [
             0.7,
             "#b8e186"
            ],
            [
             0.8,
             "#7fbc41"
            ],
            [
             0.9,
             "#4d9221"
            ],
            [
             1,
             "#276419"
            ]
           ],
           "sequential": [
            [
             0.0,
             "#0d0887"
            ],
            [
             0.1111111111111111,
             "#46039f"
            ],
            [
             0.2222222222222222,
             "#7201a8"
            ],
            [
             0.3333333333333333,
             "#9c179e"
            ],
            [
             0.4444444444444444,
             "#bd3786"
            ],
            [
             0.5555555555555556,
             "#d8576b"
            ],
            [
             0.6666666666666666,
             "#ed7953"
            ],
            [
             0.7777777777777778,
             "#fb9f3a"
            ],
            [
             0.8888888888888888,
             "#fdca26"
            ],
            [
             1.0,
             "#f0f921"
            ]
           ],
           "sequentialminus": [
            [
             0.0,
             "#0d0887"
            ],
            [
             0.1111111111111111,
             "#46039f"
            ],
            [
             0.2222222222222222,
             "#7201a8"
            ],
            [
             0.3333333333333333,
             "#9c179e"
            ],
            [
             0.4444444444444444,
             "#bd3786"
            ],
            [
             0.5555555555555556,
             "#d8576b"
            ],
            [
             0.6666666666666666,
             "#ed7953"
            ],
            [
             0.7777777777777778,
             "#fb9f3a"
            ],
            [
             0.8888888888888888,
             "#fdca26"
            ],
            [
             1.0,
             "#f0f921"
            ]
           ]
          },
          "colorway": [
           "#636efa",
           "#EF553B",
           "#00cc96",
           "#ab63fa",
           "#FFA15A",
           "#19d3f3",
           "#FF6692",
           "#B6E880",
           "#FF97FF",
           "#FECB52"
          ],
          "font": {
           "color": "#2a3f5f"
          },
          "geo": {
           "bgcolor": "white",
           "lakecolor": "white",
           "landcolor": "white",
           "showlakes": true,
           "showland": true,
           "subunitcolor": "#C8D4E3"
          },
          "hoverlabel": {
           "align": "left"
          },
          "hovermode": "closest",
          "mapbox": {
           "style": "light"
          },
          "paper_bgcolor": "white",
          "plot_bgcolor": "white",
          "polar": {
           "angularaxis": {
            "gridcolor": "#EBF0F8",
            "linecolor": "#EBF0F8",
            "ticks": ""
           },
           "bgcolor": "white",
           "radialaxis": {
            "gridcolor": "#EBF0F8",
            "linecolor": "#EBF0F8",
            "ticks": ""
           }
          },
          "scene": {
           "xaxis": {
            "backgroundcolor": "white",
            "gridcolor": "#DFE8F3",
            "gridwidth": 2,
            "linecolor": "#EBF0F8",
            "showbackground": true,
            "ticks": "",
            "zerolinecolor": "#EBF0F8"
           },
           "yaxis": {
            "backgroundcolor": "white",
            "gridcolor": "#DFE8F3",
            "gridwidth": 2,
            "linecolor": "#EBF0F8",
            "showbackground": true,
            "ticks": "",
            "zerolinecolor": "#EBF0F8"
           },
           "zaxis": {
            "backgroundcolor": "white",
            "gridcolor": "#DFE8F3",
            "gridwidth": 2,
            "linecolor": "#EBF0F8",
            "showbackground": true,
            "ticks": "",
            "zerolinecolor": "#EBF0F8"
           }
          },
          "shapedefaults": {
           "line": {
            "color": "#2a3f5f"
           }
          },
          "ternary": {
           "aaxis": {
            "gridcolor": "#DFE8F3",
            "linecolor": "#A2B1C6",
            "ticks": ""
           },
           "baxis": {
            "gridcolor": "#DFE8F3",
            "linecolor": "#A2B1C6",
            "ticks": ""
           },
           "bgcolor": "white",
           "caxis": {
            "gridcolor": "#DFE8F3",
            "linecolor": "#A2B1C6",
            "ticks": ""
           }
          },
          "title": {
           "x": 0.05
          },
          "xaxis": {
           "automargin": true,
           "gridcolor": "#EBF0F8",
           "linecolor": "#EBF0F8",
           "ticks": "",
           "title": {
            "standoff": 15
           },
           "zerolinecolor": "#EBF0F8",
           "zerolinewidth": 2
          },
          "yaxis": {
           "automargin": true,
           "gridcolor": "#EBF0F8",
           "linecolor": "#EBF0F8",
           "ticks": "",
           "title": {
            "standoff": 15
           },
           "zerolinecolor": "#EBF0F8",
           "zerolinewidth": 2
          }
         }
        },
        "xaxis": {
         "anchor": "y",
         "domain": [
          0.0,
          1.0
         ],
         "title": {
          "text": "Model"
         },
         "categoryorder": "array",
         "categoryarray": [
          "Camembert",
          "Flaubert"
         ]
        },
        "yaxis": {
         "anchor": "x",
         "domain": [
          0.0,
          1.0
         ],
         "title": {
          "text": "F1"
         }
        },
        "legend": {
         "title": {
          "text": "Model"
         },
         "tracegroupgap": 0
        },
        "title": {
         "text": "F1 scores for each model"
        },
        "boxmode": "overlay",
        "showlegend": false
       },
       "config": {
        "plotlyServerURL": "https://plot.ly"
       }
      },
      "text/html": "<div>                            <div id=\"6b5aecc1-1b89-4397-9e65-6e3852090917\" class=\"plotly-graph-div\" style=\"height:525px; width:100%;\"></div>            <script type=\"text/javascript\">                require([\"plotly\"], function(Plotly) {                    window.PLOTLYENV=window.PLOTLYENV || {};                                    if (document.getElementById(\"6b5aecc1-1b89-4397-9e65-6e3852090917\")) {                    Plotly.newPlot(                        \"6b5aecc1-1b89-4397-9e65-6e3852090917\",                        [{\"alignmentgroup\":\"True\",\"hovertemplate\":\"Model=%{x}\\u003cbr\\u003eF1=%{y}\\u003cextra\\u003e\\u003c\\u002fextra\\u003e\",\"legendgroup\":\"Camembert\",\"marker\":{\"color\":\"#636efa\"},\"name\":\"Camembert\",\"notched\":false,\"offsetgroup\":\"Camembert\",\"orientation\":\"v\",\"showlegend\":true,\"x\":[\"Camembert\",\"Camembert\",\"Camembert\",\"Camembert\",\"Camembert\",\"Camembert\",\"Camembert\",\"Camembert\",\"Camembert\",\"Camembert\",\"Camembert\",\"Camembert\",\"Camembert\",\"Camembert\"],\"x0\":\" \",\"xaxis\":\"x\",\"y\":[0.993939393939394,0.4186166392022646,0.4681009010058077,0.7223615666602354,0.947844484410206,0.3247816922613671,0.8071853581381336,0.6595454545454544,0.4804017638412542,0.2574832897413542,0.982232893157263,0.6218377167632274,0.6959305675989715,0.6420448579002486],\"y0\":\" \",\"yaxis\":\"y\",\"type\":\"box\"},{\"alignmentgroup\":\"True\",\"hovertemplate\":\"Model=%{x}\\u003cbr\\u003eF1=%{y}\\u003cextra\\u003e\\u003c\\u002fextra\\u003e\",\"legendgroup\":\"Flaubert\",\"marker\":{\"color\":\"#EF553B\"},\"name\":\"Flaubert\",\"notched\":false,\"offsetgroup\":\"Flaubert\",\"orientation\":\"v\",\"showlegend\":true,\"x\":[\"Flaubert\",\"Flaubert\",\"Flaubert\",\"Flaubert\",\"Flaubert\",\"Flaubert\",\"Flaubert\",\"Flaubert\",\"Flaubert\",\"Flaubert\",\"Flaubert\",\"Flaubert\",\"Flaubert\",\"Flaubert\"],\"x0\":\" \",\"xaxis\":\"x\",\"y\":[0.5582247855519441,0.3920904775496612,0.3774123951699898,0.721875,0.3395833333333333,0.3246096270486515,0.3197500649744434,0.5893719806763285,0.4682382133995037,0.1407752841737102,0.982232893157263,0.4771213159532079,0.4657311758030552,0.4740149140940753],\"y0\":\" \",\"yaxis\":\"y\",\"type\":\"box\"}],                        {\"template\":{\"data\":{\"barpolar\":[{\"marker\":{\"line\":{\"color\":\"white\",\"width\":0.5},\"pattern\":{\"fillmode\":\"overlay\",\"size\":10,\"solidity\":0.2}},\"type\":\"barpolar\"}],\"bar\":[{\"error_x\":{\"color\":\"#2a3f5f\"},\"error_y\":{\"color\":\"#2a3f5f\"},\"marker\":{\"line\":{\"color\":\"white\",\"width\":0.5},\"pattern\":{\"fillmode\":\"overlay\",\"size\":10,\"solidity\":0.2}},\"type\":\"bar\"}],\"carpet\":[{\"aaxis\":{\"endlinecolor\":\"#2a3f5f\",\"gridcolor\":\"#C8D4E3\",\"linecolor\":\"#C8D4E3\",\"minorgridcolor\":\"#C8D4E3\",\"startlinecolor\":\"#2a3f5f\"},\"baxis\":{\"endlinecolor\":\"#2a3f5f\",\"gridcolor\":\"#C8D4E3\",\"linecolor\":\"#C8D4E3\",\"minorgridcolor\":\"#C8D4E3\",\"startlinecolor\":\"#2a3f5f\"},\"type\":\"carpet\"}],\"choropleth\":[{\"colorbar\":{\"outlinewidth\":0,\"ticks\":\"\"},\"type\":\"choropleth\"}],\"contourcarpet\":[{\"colorbar\":{\"outlinewidth\":0,\"ticks\":\"\"},\"type\":\"contourcarpet\"}],\"contour\":[{\"colorbar\":{\"outlinewidth\":0,\"ticks\":\"\"},\"colorscale\":[[0.0,\"#0d0887\"],[0.1111111111111111,\"#46039f\"],[0.2222222222222222,\"#7201a8\"],[0.3333333333333333,\"#9c179e\"],[0.4444444444444444,\"#bd3786\"],[0.5555555555555556,\"#d8576b\"],[0.6666666666666666,\"#ed7953\"],[0.7777777777777778,\"#fb9f3a\"],[0.8888888888888888,\"#fdca26\"],[1.0,\"#f0f921\"]],\"type\":\"contour\"}],\"heatmapgl\":[{\"colorbar\":{\"outlinewidth\":0,\"ticks\":\"\"},\"colorscale\":[[0.0,\"#0d0887\"],[0.1111111111111111,\"#46039f\"],[0.2222222222222222,\"#7201a8\"],[0.3333333333333333,\"#9c179e\"],[0.4444444444444444,\"#bd3786\"],[0.5555555555555556,\"#d8576b\"],[0.6666666666666666,\"#ed7953\"],[0.7777777777777778,\"#fb9f3a\"],[0.8888888888888888,\"#fdca26\"],[1.0,\"#f0f921\"]],\"type\":\"heatmapgl\"}],\"heatmap\":[{\"colorbar\":{\"outlinewidth\":0,\"ticks\":\"\"},\"colorscale\":[[0.0,\"#0d0887\"],[0.1111111111111111,\"#46039f\"],[0.2222222222222222,\"#7201a8\"],[0.3333333333333333,\"#9c179e\"],[0.4444444444444444,\"#bd3786\"],[0.5555555555555556,\"#d8576b\"],[0.6666666666666666,\"#ed7953\"],[0.7777777777777778,\"#fb9f3a\"],[0.8888888888888888,\"#fdca26\"],[1.0,\"#f0f921\"]],\"type\":\"heatmap\"}],\"histogram2dcontour\":[{\"colorbar\":{\"outlinewidth\":0,\"ticks\":\"\"},\"colorscale\":[[0.0,\"#0d0887\"],[0.1111111111111111,\"#46039f\"],[0.2222222222222222,\"#7201a8\"],[0.3333333333333333,\"#9c179e\"],[0.4444444444444444,\"#bd3786\"],[0.5555555555555556,\"#d8576b\"],[0.6666666666666666,\"#ed7953\"],[0.7777777777777778,\"#fb9f3a\"],[0.8888888888888888,\"#fdca26\"],[1.0,\"#f0f921\"]],\"type\":\"histogram2dcontour\"}],\"histogram2d\":[{\"colorbar\":{\"outlinewidth\":0,\"ticks\":\"\"},\"colorscale\":[[0.0,\"#0d0887\"],[0.1111111111111111,\"#46039f\"],[0.2222222222222222,\"#7201a8\"],[0.3333333333333333,\"#9c179e\"],[0.4444444444444444,\"#bd3786\"],[0.5555555555555556,\"#d8576b\"],[0.6666666666666666,\"#ed7953\"],[0.7777777777777778,\"#fb9f3a\"],[0.8888888888888888,\"#fdca26\"],[1.0,\"#f0f921\"]],\"type\":\"histogram2d\"}],\"histogram\":[{\"marker\":{\"pattern\":{\"fillmode\":\"overlay\",\"size\":10,\"solidity\":0.2}},\"type\":\"histogram\"}],\"mesh3d\":[{\"colorbar\":{\"outlinewidth\":0,\"ticks\":\"\"},\"type\":\"mesh3d\"}],\"parcoords\":[{\"line\":{\"colorbar\":{\"outlinewidth\":0,\"ticks\":\"\"}},\"type\":\"parcoords\"}],\"pie\":[{\"automargin\":true,\"type\":\"pie\"}],\"scatter3d\":[{\"line\":{\"colorbar\":{\"outlinewidth\":0,\"ticks\":\"\"}},\"marker\":{\"colorbar\":{\"outlinewidth\":0,\"ticks\":\"\"}},\"type\":\"scatter3d\"}],\"scattercarpet\":[{\"marker\":{\"colorbar\":{\"outlinewidth\":0,\"ticks\":\"\"}},\"type\":\"scattercarpet\"}],\"scattergeo\":[{\"marker\":{\"colorbar\":{\"outlinewidth\":0,\"ticks\":\"\"}},\"type\":\"scattergeo\"}],\"scattergl\":[{\"marker\":{\"colorbar\":{\"outlinewidth\":0,\"ticks\":\"\"}},\"type\":\"scattergl\"}],\"scattermapbox\":[{\"marker\":{\"colorbar\":{\"outlinewidth\":0,\"ticks\":\"\"}},\"type\":\"scattermapbox\"}],\"scatterpolargl\":[{\"marker\":{\"colorbar\":{\"outlinewidth\":0,\"ticks\":\"\"}},\"type\":\"scatterpolargl\"}],\"scatterpolar\":[{\"marker\":{\"colorbar\":{\"outlinewidth\":0,\"ticks\":\"\"}},\"type\":\"scatterpolar\"}],\"scatter\":[{\"fillpattern\":{\"fillmode\":\"overlay\",\"size\":10,\"solidity\":0.2},\"type\":\"scatter\"}],\"scatterternary\":[{\"marker\":{\"colorbar\":{\"outlinewidth\":0,\"ticks\":\"\"}},\"type\":\"scatterternary\"}],\"surface\":[{\"colorbar\":{\"outlinewidth\":0,\"ticks\":\"\"},\"colorscale\":[[0.0,\"#0d0887\"],[0.1111111111111111,\"#46039f\"],[0.2222222222222222,\"#7201a8\"],[0.3333333333333333,\"#9c179e\"],[0.4444444444444444,\"#bd3786\"],[0.5555555555555556,\"#d8576b\"],[0.6666666666666666,\"#ed7953\"],[0.7777777777777778,\"#fb9f3a\"],[0.8888888888888888,\"#fdca26\"],[1.0,\"#f0f921\"]],\"type\":\"surface\"}],\"table\":[{\"cells\":{\"fill\":{\"color\":\"#EBF0F8\"},\"line\":{\"color\":\"white\"}},\"header\":{\"fill\":{\"color\":\"#C8D4E3\"},\"line\":{\"color\":\"white\"}},\"type\":\"table\"}]},\"layout\":{\"annotationdefaults\":{\"arrowcolor\":\"#2a3f5f\",\"arrowhead\":0,\"arrowwidth\":1},\"autotypenumbers\":\"strict\",\"coloraxis\":{\"colorbar\":{\"outlinewidth\":0,\"ticks\":\"\"}},\"colorscale\":{\"diverging\":[[0,\"#8e0152\"],[0.1,\"#c51b7d\"],[0.2,\"#de77ae\"],[0.3,\"#f1b6da\"],[0.4,\"#fde0ef\"],[0.5,\"#f7f7f7\"],[0.6,\"#e6f5d0\"],[0.7,\"#b8e186\"],[0.8,\"#7fbc41\"],[0.9,\"#4d9221\"],[1,\"#276419\"]],\"sequential\":[[0.0,\"#0d0887\"],[0.1111111111111111,\"#46039f\"],[0.2222222222222222,\"#7201a8\"],[0.3333333333333333,\"#9c179e\"],[0.4444444444444444,\"#bd3786\"],[0.5555555555555556,\"#d8576b\"],[0.6666666666666666,\"#ed7953\"],[0.7777777777777778,\"#fb9f3a\"],[0.8888888888888888,\"#fdca26\"],[1.0,\"#f0f921\"]],\"sequentialminus\":[[0.0,\"#0d0887\"],[0.1111111111111111,\"#46039f\"],[0.2222222222222222,\"#7201a8\"],[0.3333333333333333,\"#9c179e\"],[0.4444444444444444,\"#bd3786\"],[0.5555555555555556,\"#d8576b\"],[0.6666666666666666,\"#ed7953\"],[0.7777777777777778,\"#fb9f3a\"],[0.8888888888888888,\"#fdca26\"],[1.0,\"#f0f921\"]]},\"colorway\":[\"#636efa\",\"#EF553B\",\"#00cc96\",\"#ab63fa\",\"#FFA15A\",\"#19d3f3\",\"#FF6692\",\"#B6E880\",\"#FF97FF\",\"#FECB52\"],\"font\":{\"color\":\"#2a3f5f\"},\"geo\":{\"bgcolor\":\"white\",\"lakecolor\":\"white\",\"landcolor\":\"white\",\"showlakes\":true,\"showland\":true,\"subunitcolor\":\"#C8D4E3\"},\"hoverlabel\":{\"align\":\"left\"},\"hovermode\":\"closest\",\"mapbox\":{\"style\":\"light\"},\"paper_bgcolor\":\"white\",\"plot_bgcolor\":\"white\",\"polar\":{\"angularaxis\":{\"gridcolor\":\"#EBF0F8\",\"linecolor\":\"#EBF0F8\",\"ticks\":\"\"},\"bgcolor\":\"white\",\"radialaxis\":{\"gridcolor\":\"#EBF0F8\",\"linecolor\":\"#EBF0F8\",\"ticks\":\"\"}},\"scene\":{\"xaxis\":{\"backgroundcolor\":\"white\",\"gridcolor\":\"#DFE8F3\",\"gridwidth\":2,\"linecolor\":\"#EBF0F8\",\"showbackground\":true,\"ticks\":\"\",\"zerolinecolor\":\"#EBF0F8\"},\"yaxis\":{\"backgroundcolor\":\"white\",\"gridcolor\":\"#DFE8F3\",\"gridwidth\":2,\"linecolor\":\"#EBF0F8\",\"showbackground\":true,\"ticks\":\"\",\"zerolinecolor\":\"#EBF0F8\"},\"zaxis\":{\"backgroundcolor\":\"white\",\"gridcolor\":\"#DFE8F3\",\"gridwidth\":2,\"linecolor\":\"#EBF0F8\",\"showbackground\":true,\"ticks\":\"\",\"zerolinecolor\":\"#EBF0F8\"}},\"shapedefaults\":{\"line\":{\"color\":\"#2a3f5f\"}},\"ternary\":{\"aaxis\":{\"gridcolor\":\"#DFE8F3\",\"linecolor\":\"#A2B1C6\",\"ticks\":\"\"},\"baxis\":{\"gridcolor\":\"#DFE8F3\",\"linecolor\":\"#A2B1C6\",\"ticks\":\"\"},\"bgcolor\":\"white\",\"caxis\":{\"gridcolor\":\"#DFE8F3\",\"linecolor\":\"#A2B1C6\",\"ticks\":\"\"}},\"title\":{\"x\":0.05},\"xaxis\":{\"automargin\":true,\"gridcolor\":\"#EBF0F8\",\"linecolor\":\"#EBF0F8\",\"ticks\":\"\",\"title\":{\"standoff\":15},\"zerolinecolor\":\"#EBF0F8\",\"zerolinewidth\":2},\"yaxis\":{\"automargin\":true,\"gridcolor\":\"#EBF0F8\",\"linecolor\":\"#EBF0F8\",\"ticks\":\"\",\"title\":{\"standoff\":15},\"zerolinecolor\":\"#EBF0F8\",\"zerolinewidth\":2}}},\"xaxis\":{\"anchor\":\"y\",\"domain\":[0.0,1.0],\"title\":{\"text\":\"Model\"},\"categoryorder\":\"array\",\"categoryarray\":[\"Camembert\",\"Flaubert\"]},\"yaxis\":{\"anchor\":\"x\",\"domain\":[0.0,1.0],\"title\":{\"text\":\"F1\"}},\"legend\":{\"title\":{\"text\":\"Model\"},\"tracegroupgap\":0},\"title\":{\"text\":\"F1 scores for each model\"},\"boxmode\":\"overlay\",\"showlegend\":false},                        {\"responsive\": true}                    ).then(function(){\n                            \nvar gd = document.getElementById('6b5aecc1-1b89-4397-9e65-6e3852090917');\nvar x = new MutationObserver(function (mutations, observer) {{\n        var display = window.getComputedStyle(gd).display;\n        if (!display || display === 'none') {{\n            console.log([gd, 'removed!']);\n            Plotly.purge(gd);\n            observer.disconnect();\n        }}\n}});\n\n// Listen for the removal of the full notebook cells\nvar notebookContainer = gd.closest('#notebook-container');\nif (notebookContainer) {{\n    x.observe(notebookContainer, {childList: true});\n}}\n\n// Listen for the clearing of the current output cell\nvar outputEl = gd.closest('.output');\nif (outputEl) {{\n    x.observe(outputEl, {childList: true});\n}}\n\n                        })                };                });            </script>        </div>"
     },
     "metadata": {},
     "output_type": "display_data"
    }
   ],
   "source": [
    "# We will make boxplots for the weighted scores of each word\n",
    "fig_weighted = px.box(df, x=\"Model\" ,y=\"Weighted\", color=\"Model\", title=\"Weighted scores for each model\", template=\"plotly_white\")\n",
    "fig_weighted.update(layout_showlegend=False)\n",
    "fig_weighted.show()\n",
    "\n",
    "fig_overall = px.box(df, x=\"Model\" ,y=\"Overall\", color=\"Model\", title=\"Overall scores for each model\", template=\"plotly_white\")\n",
    "fig_overall.update(layout_showlegend=False)\n",
    "fig_overall.show()\n",
    "\n",
    "fig_v_measure = px.box(df, x=\"Model\" ,y=\"V_measure\", color=\"Model\", title=\"V measure clustering scores for each model\", template=\"plotly_white\")\n",
    "fig_v_measure.update(layout_showlegend=False)\n",
    "fig_v_measure.show()\n",
    "\n",
    "fig_rand = px.box(df, x=\"Model\" ,y=\"Rand\", color=\"Model\", title=\"Rand scores for each model\", template=\"plotly_white\")\n",
    "fig_rand.update(layout_showlegend=False)\n",
    "fig_rand.show()\n",
    "\n",
    "fig_F1 = px.box(df, x=\"Model\" ,y=\"F1\", color=\"Model\", title=\"F1 scores for each model\", template=\"plotly_white\")\n",
    "fig_F1.update(layout_showlegend=False)\n",
    "fig_F1.show()"
   ],
   "metadata": {
    "collapsed": false,
    "ExecuteTime": {
     "end_time": "2024-05-17T20:51:09.866991Z",
     "start_time": "2024-05-17T20:51:09.609539Z"
    }
   },
   "id": "85768d001217e269",
   "execution_count": 66
  },
  {
   "cell_type": "markdown",
   "source": [
    "As we are more familiar with data visualisation in R, we will use the saved files to create the visualisations in R.\n",
    "\n"
   ],
   "metadata": {
    "collapsed": false
   },
   "id": "401f7c3a5050635a"
  },
  {
   "cell_type": "code",
   "outputs": [],
   "source": [],
   "metadata": {
    "collapsed": false
   },
   "id": "56d360871d826a94"
  }
 ],
 "metadata": {
  "kernelspec": {
   "display_name": "Python 3",
   "language": "python",
   "name": "python3"
  },
  "language_info": {
   "codemirror_mode": {
    "name": "ipython",
    "version": 2
   },
   "file_extension": ".py",
   "mimetype": "text/x-python",
   "name": "python",
   "nbconvert_exporter": "python",
   "pygments_lexer": "ipython2",
   "version": "2.7.6"
  }
 },
 "nbformat": 4,
 "nbformat_minor": 5
}
