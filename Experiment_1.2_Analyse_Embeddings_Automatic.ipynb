{
 "cells": [
  {
   "cell_type": "markdown",
   "source": [
    "# Experiment 2: Clustering op de dataset verrijkt met échte automatische downloads"
   ],
   "metadata": {
    "collapsed": false
   },
   "id": "db7d278e76a7f0d"
  },
  {
   "cell_type": "code",
   "execution_count": 5,
   "id": "initial_id",
   "metadata": {
    "collapsed": true,
    "ExecuteTime": {
     "end_time": "2024-05-17T21:38:45.408261Z",
     "start_time": "2024-05-17T21:38:45.401325Z"
    }
   },
   "outputs": [],
   "source": [
    "import torch\n",
    "import pandas as pd\n",
    "import os\n",
    "import re\n",
    "import plotly.express as px\n",
    "from sklearn.decomposition import PCA\n",
    "from sklearn.mixture import GaussianMixture\n",
    "from sklearn.metrics.cluster import v_measure_score, adjusted_rand_score\n",
    "import numpy as np\n",
    "import statistics\n",
    "import openpyxl"
   ]
  },
  {
   "cell_type": "code",
   "outputs": [],
   "source": [
    "#from Experiment import run\n",
    "#run(\"CamemBERT\")\n",
    "#run(\"FlauBERT\")"
   ],
   "metadata": {
    "collapsed": false,
    "ExecuteTime": {
     "end_time": "2024-05-17T21:37:22.916241Z",
     "start_time": "2024-05-17T21:37:22.912233Z"
    }
   },
   "id": "dcadd4e91af90a99",
   "execution_count": 2
  },
  {
   "cell_type": "markdown",
   "source": [
    "The second part of this notebook only works if the first part has been ran with both 'Flaubert' and 'Camembert' as model names."
   ],
   "metadata": {
    "collapsed": false
   },
   "id": "57ba282906ca7680"
  },
  {
   "cell_type": "code",
   "outputs": [],
   "source": [
    "model_name = \"Camembert\""
   ],
   "metadata": {
    "collapsed": false,
    "ExecuteTime": {
     "end_time": "2024-05-17T21:39:47.645958Z",
     "start_time": "2024-05-17T21:39:47.641361Z"
    }
   },
   "id": "ce0298e459624da1",
   "execution_count": 18
  },
  {
   "cell_type": "markdown",
   "source": [
    "# Question for this notebook\n",
    "I calculate a \"weighted percentage\" averaging the percentage of correct predictions for each sense.\n",
    "The \"overall score\" is the total percentage of correct predictions across all senses.\n",
    "As the output of this code shows, the \"harmonic mean\" of the senses often amounts to 0 due to the presence of 0s.\n",
    "\n",
    "Is the \"weighted percentage\" a good metric to evaluate the performance of the model_name?    \n",
    "\n",
    "**We also add an overall \"all in one cluster\" score, which is the score if no clustering would take place.**\n"
   ],
   "metadata": {
    "collapsed": false
   },
   "id": "88fe29974be134b"
  },
  {
   "cell_type": "code",
   "outputs": [
    {
     "name": "stdout",
     "output_type": "stream",
     "text": [
      "Avocat\n",
      "Number of senses: 2\n",
      "Score for each sense\n",
      "avocado    100.000000\n",
      "lawyer      60.714286\n",
      "Name: default, dtype: float64\n",
      "Overall score 73.80952380952381\n",
      "Weighted score 80.35714285714286\n",
      "Harmonic mean 75.55555555555556\n",
      "V-measure score 0.7402614432011363\n",
      "Adjusted Rand score 0.5845667942506892\n",
      "All-in-one score 66.66666666666666 \n",
      "\n",
      "\n",
      "Bien\n",
      "Number of senses: 3\n",
      "Score for each sense\n",
      "good         68.965517\n",
      "property     77.551020\n",
      "wellbeing    95.000000\n",
      "Name: default, dtype: float64\n",
      "Overall score 78.57142857142857\n",
      "Weighted score 80.50551254984754\n",
      "Harmonic mean 79.1117279666898\n",
      "V-measure score 0.645563121172742\n",
      "Adjusted Rand score 0.6046510838359593\n",
      "All-in-one score 50.0 \n",
      "\n",
      "\n",
      "Bureau\n",
      "Number of senses: 3\n",
      "Score for each sense\n",
      "cabinet    57.142857\n",
      "desk       74.285714\n",
      "office     33.333333\n",
      "Name: default, dtype: float64\n",
      "Overall score 50.48543689320388\n",
      "Weighted score 54.92063492063492\n",
      "Harmonic mean 49.21135646687697\n",
      "V-measure score 0.26754571539523003\n",
      "Adjusted Rand score 0.15068512891001715\n",
      "All-in-one score 52.42718446601942 \n",
      "\n",
      "\n",
      "Faculté\n",
      "Number of senses: 3\n",
      "Score for each sense\n",
      "ability       93.333333\n",
      "competence    96.428571\n",
      "university    59.459459\n",
      "Name: default, dtype: float64\n",
      "Overall score 78.75\n",
      "Weighted score 83.07378807378808\n",
      "Harmonic mean 79.14974619289342\n",
      "V-measure score 0.8261874348323801\n",
      "Adjusted Rand score 0.7267718156964887\n",
      "All-in-one score 46.25 \n",
      "\n",
      "\n",
      "Filer\n",
      "Number of senses: 3\n",
      "Score for each sense\n",
      "give         93.103448\n",
      "slip away    78.723404\n",
      "spinning     60.000000\n",
      "Name: default, dtype: float64\n",
      "Overall score 79.16666666666666\n",
      "Weighted score 77.27561751039373\n",
      "Harmonic mean 74.7941103069628\n",
      "V-measure score 0.7631502351446774\n",
      "Adjusted Rand score 0.7207536077601102\n",
      "All-in-one score 48.95833333333333 \n",
      "\n",
      "\n",
      "Glace\n",
      "Number of senses: 5\n",
      "Score for each sense\n",
      "glass             55.555556\n",
      "ice               64.406780\n",
      "ice cream         85.000000\n",
      "mirror            73.076923\n",
      "powdered sugar     0.000000\n",
      "Name: default, dtype: float64\n",
      "Overall score 64.22764227642277\n",
      "Weighted score 55.60785165869911\n",
      "Harmonic mean 0\n",
      "V-measure score 0.46257276792409735\n",
      "Adjusted Rand score 0.35524420187160416\n",
      "All-in-one score 47.96747967479675 \n",
      "\n",
      "\n",
      "Souris\n",
      "Number of senses: 3\n",
      "Score for each sense\n",
      "bat        20.000000\n",
      "pointer    62.962963\n",
      "rodent     58.064516\n",
      "Name: default, dtype: float64\n",
      "Overall score 54.41176470588235\n",
      "Weighted score 47.00915969733175\n",
      "Harmonic mean 36.09909555642942\n",
      "V-measure score 0.5467450019632625\n",
      "Adjusted Rand score 0.3601739638876548\n",
      "All-in-one score 45.588235294117645 \n",
      "\n",
      "\n",
      "Supporter\n",
      "Number of senses: 3\n",
      "Score for each sense\n",
      "endure      57.142857\n",
      "fan        100.000000\n",
      "hold up     53.333333\n",
      "Name: default, dtype: float64\n",
      "Overall score 65.45454545454545\n",
      "Weighted score 70.15873015873017\n",
      "Harmonic mean 64.86486486486487\n",
      "V-measure score 0.5181330698845402\n",
      "Adjusted Rand score 0.38040615016720536\n",
      "All-in-one score 50.90909090909091 \n",
      "\n",
      "\n",
      "Tirer\n",
      "Number of senses: 2\n",
      "Score for each sense\n",
      "pull      0.000000\n",
      "shoot    77.027027\n",
      "Name: default, dtype: float64\n",
      "Overall score 54.807692307692314\n",
      "Weighted score 38.513513513513516\n",
      "Harmonic mean 0\n",
      "V-measure score 0.11830651983401422\n",
      "Adjusted Rand score -0.08332449986727151\n",
      "All-in-one score 71.15384615384616 \n",
      "\n",
      "\n",
      "Tour\n",
      "Number of senses: 5\n",
      "Score for each sense\n",
      "lap       18.750000\n",
      "round    100.000000\n",
      "tower    100.000000\n",
      "trick    100.000000\n",
      "turn      54.166667\n",
      "Name: default, dtype: float64\n",
      "Overall score 67.56756756756756\n",
      "Weighted score 74.58333333333333\n",
      "Harmonic mean 49.1183879093199\n",
      "V-measure score 0.7188764157564035\n",
      "Adjusted Rand score 0.5197285010242826\n",
      "All-in-one score 32.432432432432435 \n",
      "\n",
      "\n",
      "Vol\n",
      "Number of senses: 2\n",
      "Score for each sense\n",
      "flight    51.666667\n",
      "theft     92.000000\n",
      "Name: default, dtype: float64\n",
      "Overall score 63.52941176470588\n",
      "Weighted score 71.83333333333334\n",
      "Harmonic mean 66.17169373549885\n",
      "V-measure score 0.6144199012738755\n",
      "Adjusted Rand score 0.46018754499799025\n",
      "All-in-one score 70.58823529411765 \n",
      "\n"
     ]
    }
   ],
   "source": [
    "weighted_scores = {} # our original metric\n",
    "overall_scores = {} # the percentage of correct predictions across all senses\n",
    "all_in_one_cluster_overall_scores = {} # the percentage of correct predictions if no clustering would take place\n",
    "amount_senses = {} # the amount of different senses\n",
    "v_measure_scores = {} # the v-measure score\n",
    "rand_scores = {} # the adjusted rand score\n",
    "# We also calculate a F1 score in a later code block\n",
    "\n",
    "for filename in os.listdir(f\"{model_name}/Experiment_1/Automatic/\"):\n",
    "    if filename.endswith(\".csv\"):\n",
    "        df = pd.read_csv(f\"{model_name}/Experiment_1/Automatic/\" + filename, sep=\";\", encoding=\"utf-8\", header=0)\n",
    "        target_word = df[\"source\"][1]\n",
    "        print(target_word)\n",
    "        # We calculate the amount of different senses\n",
    "        senses = len(df[\"sense\"].unique())\n",
    "        print(\"Number of senses:\", senses)\n",
    "        percentage_default = (df[\"default\"].sum() / len(df))\n",
    "        # We also calculate this separately for each \"sense\"\n",
    "        percentage_default_mean = df.groupby(\"sense\")[\"default\"].mean()\n",
    "        # We calculate a harmonic mean, as it is more representative of the overall performance\n",
    "        harmonic_mean = statistics.harmonic_mean(df.groupby(\"sense\")[\"default\"].mean())\n",
    "        # We want the mean score across all senses, as it does not mean a lot if a program can correctly define one big cluster containing most of the data and fail at all other senses.\n",
    "        percentage_weighted = percentage_default_mean.mean()\n",
    "        v_measure = v_measure_score(df[\"sense\"], df[\"cluster\"])\n",
    "        rand = adjusted_rand_score(df[\"sense\"], df[\"cluster\"])\n",
    "\n",
    "\n",
    "        print(\"Score for each\", percentage_default_mean*100)\n",
    "        print(\"Overall score\", percentage_default*100)\n",
    "        print(\"Weighted score\", percentage_weighted*100)\n",
    "        print(\"Harmonic mean\", harmonic_mean*100)\n",
    "        print(\"V-measure score\", v_measure)\n",
    "        print(\"Adjusted Rand score\", rand)\n",
    "        weighted_scores[target_word] = percentage_weighted\n",
    "        overall_scores[target_word] = percentage_default\n",
    "        amount_senses[target_word] = senses\n",
    "        v_measure_scores[target_word] = v_measure\n",
    "        rand_scores[target_word] = rand\n",
    "        # We also calculate the score if no clustering would take place\n",
    "        default = df[\"sense\"].value_counts().idxmax()\n",
    "        \n",
    "        # We calculate the overall score: this is the percentage of this sense in the total dataframe\n",
    "        all_in_one_cluster_score = (df[\"sense\"] == default).sum() / len(df)\n",
    "        all_in_one_cluster_overall_scores[target_word] = all_in_one_cluster_score\n",
    "        print(\"All-in-one score\", all_in_one_cluster_score*100, \"\\n\\n\")"
   ],
   "metadata": {
    "collapsed": false,
    "ExecuteTime": {
     "end_time": "2024-05-17T21:39:48.777394Z",
     "start_time": "2024-05-17T21:39:48.484474Z"
    }
   },
   "id": "6557d2e044505465",
   "execution_count": 19
  },
  {
   "cell_type": "markdown",
   "source": [
    "# Calculating true F1 score\n",
    "\n",
    "To have a comparable measure of cluster quality, we will calculate F1 scores\n",
    "they consist of Precision and Recall scores, and is calculated by taking their harmonic mean\n",
    "\n",
    "Precision is the amount of correct instances of a sense in its biggest cluster, divided by the number of points in that cluster\n",
    "Recall is the amount of correct instances of a sense in its biggest cluster, divided by the number of points in the sense\n",
    "\n",
    "we save these values in a dictionary of dictionaries for each target word, which in turn contain precision and recall scores for each sense\n",
    "\n",
    "\n",
    "Using skmetrics f1 does not work (gives values of 0 where it should not), so we will calculate it ourselves"
   ],
   "metadata": {
    "collapsed": false
   },
   "id": "38a21f1cf09b11d9"
  },
  {
   "cell_type": "code",
   "outputs": [
    {
     "name": "stdout",
     "output_type": "stream",
     "text": [
      "\n",
      "\n",
      " Avocat\n",
      "Number of senses: 2\n",
      "\n",
      "sense: lawyer\n",
      "instances of sense: 56\n",
      "amount of correct instances: 34\n",
      "correct cluster number: 2\n",
      "total amount of points in biggest cluster: 34\n",
      "precision: 1.0\n",
      "recall 0.6071428571428571\n",
      "F1 0.7555555555555555\n",
      "\n",
      "sense: avocado\n",
      "instances of sense: 28\n",
      "amount of correct instances: 28\n",
      "correct cluster number: 1\n",
      "total amount of points in biggest cluster: 28\n",
      "precision: 1.0\n",
      "recall 1.0\n",
      "F1 1.0\n",
      "\n",
      "\n",
      " Bien\n",
      "Number of senses: 3\n",
      "\n",
      "sense: property\n",
      "instances of sense: 49\n",
      "amount of correct instances: 38\n",
      "correct cluster number: 2\n",
      "total amount of points in biggest cluster: 38\n",
      "precision: 1.0\n",
      "recall 0.7755102040816326\n",
      "F1 0.8735632183908046\n",
      "\n",
      "sense: wellbeing\n",
      "instances of sense: 20\n",
      "amount of correct instances: 19\n",
      "correct cluster number: 4\n",
      "total amount of points in biggest cluster: 28\n",
      "precision: 0.6785714285714286\n",
      "recall 0.95\n",
      "F1 0.7916666666666667\n",
      "\n",
      "sense: good\n",
      "instances of sense: 29\n",
      "amount of correct instances: 20\n",
      "correct cluster number: 1\n",
      "total amount of points in biggest cluster: 20\n",
      "precision: 1.0\n",
      "recall 0.6896551724137931\n",
      "F1 0.8163265306122449\n",
      "\n",
      "\n",
      " Bureau\n",
      "Number of senses: 3\n",
      "\n",
      "sense: desk\n",
      "instances of sense: 35\n",
      "amount of correct instances: 26\n",
      "correct cluster number: 3\n",
      "total amount of points in biggest cluster: 42\n",
      "precision: 0.6190476190476191\n",
      "recall 0.7428571428571429\n",
      "F1 0.6753246753246753\n",
      "\n",
      "sense: cabinet\n",
      "instances of sense: 14\n",
      "amount of correct instances: 8\n",
      "correct cluster number: 2\n",
      "total amount of points in biggest cluster: 14\n",
      "precision: 0.5714285714285714\n",
      "recall 0.5714285714285714\n",
      "F1 0.5714285714285714\n",
      "\n",
      "sense: office\n",
      "instances of sense: 54\n",
      "amount of correct instances: 18\n",
      "correct cluster number: 1\n",
      "total amount of points in biggest cluster: 23\n",
      "precision: 0.782608695652174\n",
      "recall 0.3333333333333333\n",
      "F1 0.4675324675324675\n",
      "\n",
      "\n",
      " Faculté\n",
      "Number of senses: 3\n",
      "\n",
      "sense: university\n",
      "instances of sense: 37\n",
      "amount of correct instances: 22\n",
      "correct cluster number: 1\n",
      "total amount of points in biggest cluster: 22\n",
      "precision: 1.0\n",
      "recall 0.5945945945945946\n",
      "F1 0.7457627118644068\n",
      "\n",
      "sense: competence\n",
      "instances of sense: 28\n",
      "amount of correct instances: 27\n",
      "correct cluster number: 4\n",
      "total amount of points in biggest cluster: 27\n",
      "precision: 1.0\n",
      "recall 0.9642857142857143\n",
      "F1 0.9818181818181818\n",
      "\n",
      "sense: ability\n",
      "instances of sense: 15\n",
      "amount of correct instances: 14\n",
      "correct cluster number: 2\n",
      "total amount of points in biggest cluster: 14\n",
      "precision: 1.0\n",
      "recall 0.9333333333333333\n",
      "F1 0.9655172413793104\n",
      "\n",
      "\n",
      " Filer\n",
      "Number of senses: 3\n",
      "\n",
      "sense: slip away\n",
      "instances of sense: 47\n",
      "amount of correct instances: 37\n",
      "correct cluster number: 2\n",
      "total amount of points in biggest cluster: 37\n",
      "precision: 1.0\n",
      "recall 0.7872340425531915\n",
      "F1 0.880952380952381\n",
      "\n",
      "sense: give\n",
      "instances of sense: 29\n",
      "amount of correct instances: 27\n",
      "correct cluster number: 4\n",
      "total amount of points in biggest cluster: 27\n",
      "precision: 1.0\n",
      "recall 0.9310344827586207\n",
      "F1 0.9642857142857142\n",
      "\n",
      "sense: spinning\n",
      "instances of sense: 20\n",
      "amount of correct instances: 12\n",
      "correct cluster number: 1\n",
      "total amount of points in biggest cluster: 12\n",
      "precision: 1.0\n",
      "recall 0.6\n",
      "F1 0.75\n",
      "\n",
      "\n",
      " Glace\n",
      "Number of senses: 5\n",
      "\n",
      "sense: ice\n",
      "instances of sense: 59\n",
      "amount of correct instances: 38\n",
      "correct cluster number: 4\n",
      "total amount of points in biggest cluster: 38\n",
      "precision: 1.0\n",
      "recall 0.6440677966101694\n",
      "F1 0.7835051546391752\n",
      "\n",
      "sense: ice cream\n",
      "instances of sense: 20\n",
      "amount of correct instances: 17\n",
      "correct cluster number: 1\n",
      "total amount of points in biggest cluster: 34\n",
      "precision: 0.5\n",
      "recall 0.85\n",
      "F1 0.6296296296296297\n",
      "\n",
      "sense: glass\n",
      "instances of sense: 9\n",
      "amount of correct instances: 5\n",
      "correct cluster number: 2\n",
      "total amount of points in biggest cluster: 12\n",
      "precision: 0.4166666666666667\n",
      "recall 0.5555555555555556\n",
      "F1 0.4761904761904762\n",
      "\n",
      "sense: mirror\n",
      "instances of sense: 26\n",
      "amount of correct instances: 19\n",
      "correct cluster number: 3\n",
      "total amount of points in biggest cluster: 39\n",
      "precision: 0.48717948717948717\n",
      "recall 0.7307692307692307\n",
      "F1 0.5846153846153845\n",
      "\n",
      "sense: powdered sugar\n",
      "instances of sense: 9\n",
      "amount of correct instances: 0\n",
      "correct cluster number: No cluster\n",
      "total amount of points in biggest cluster: 0\n",
      "precision zero\n",
      "precision: 0\n",
      "recall 0.0\n",
      "F1 0\n",
      "\n",
      "\n",
      " Souris\n",
      "Number of senses: 3\n",
      "\n",
      "sense: bat\n",
      "instances of sense: 10\n",
      "amount of correct instances: 2\n",
      "correct cluster number: 1\n",
      "total amount of points in biggest cluster: 10\n",
      "precision: 0.2\n",
      "recall 0.2\n",
      "F1 0.2\n",
      "\n",
      "sense: pointer\n",
      "instances of sense: 27\n",
      "amount of correct instances: 17\n",
      "correct cluster number: 6\n",
      "total amount of points in biggest cluster: 17\n",
      "precision: 1.0\n",
      "recall 0.6296296296296297\n",
      "F1 0.7727272727272727\n",
      "\n",
      "sense: rodent\n",
      "instances of sense: 31\n",
      "amount of correct instances: 18\n",
      "correct cluster number: 4\n",
      "total amount of points in biggest cluster: 26\n",
      "precision: 0.6923076923076923\n",
      "recall 0.5806451612903226\n",
      "F1 0.6315789473684211\n",
      "\n",
      "\n",
      " Supporter\n",
      "Number of senses: 3\n",
      "\n",
      "sense: endure\n",
      "instances of sense: 28\n",
      "amount of correct instances: 16\n",
      "correct cluster number: 3\n",
      "total amount of points in biggest cluster: 18\n",
      "precision: 0.8888888888888888\n",
      "recall 0.5714285714285714\n",
      "F1 0.6956521739130435\n",
      "\n",
      "sense: hold up\n",
      "instances of sense: 15\n",
      "amount of correct instances: 8\n",
      "correct cluster number: 4\n",
      "total amount of points in biggest cluster: 18\n",
      "precision: 0.4444444444444444\n",
      "recall 0.5333333333333333\n",
      "F1 0.48484848484848486\n",
      "\n",
      "sense: fan\n",
      "instances of sense: 12\n",
      "amount of correct instances: 12\n",
      "correct cluster number: 2\n",
      "total amount of points in biggest cluster: 12\n",
      "precision: 1.0\n",
      "recall 1.0\n",
      "F1 1.0\n",
      "\n",
      "\n",
      " Tirer\n",
      "Number of senses: 2\n",
      "\n",
      "sense: shoot\n",
      "instances of sense: 74\n",
      "amount of correct instances: 57\n",
      "correct cluster number: 3\n",
      "total amount of points in biggest cluster: 87\n",
      "precision: 0.6551724137931034\n",
      "recall 0.7702702702702703\n",
      "F1 0.7080745341614907\n",
      "\n",
      "sense: pull\n",
      "instances of sense: 30\n",
      "amount of correct instances: 0\n",
      "correct cluster number: No cluster\n",
      "total amount of points in biggest cluster: 0\n",
      "precision zero\n",
      "precision: 0\n",
      "recall 0.0\n",
      "F1 0\n",
      "\n",
      "\n",
      " Tour\n",
      "Number of senses: 5\n",
      "\n",
      "sense: lap\n",
      "instances of sense: 16\n",
      "amount of correct instances: 3\n",
      "correct cluster number: 5\n",
      "total amount of points in biggest cluster: 5\n",
      "precision: 0.6\n",
      "recall 0.1875\n",
      "F1 0.2857142857142857\n",
      "\n",
      "sense: trick\n",
      "instances of sense: 14\n",
      "amount of correct instances: 14\n",
      "correct cluster number: 4\n",
      "total amount of points in biggest cluster: 16\n",
      "precision: 0.875\n",
      "recall 1.0\n",
      "F1 0.9333333333333333\n",
      "\n",
      "sense: turn\n",
      "instances of sense: 24\n",
      "amount of correct instances: 13\n",
      "correct cluster number: 7\n",
      "total amount of points in biggest cluster: 13\n",
      "precision: 1.0\n",
      "recall 0.5416666666666666\n",
      "F1 0.7027027027027026\n",
      "\n",
      "sense: round\n",
      "instances of sense: 14\n",
      "amount of correct instances: 14\n",
      "correct cluster number: 3\n",
      "total amount of points in biggest cluster: 25\n",
      "precision: 0.56\n",
      "recall 1.0\n",
      "F1 0.717948717948718\n",
      "\n",
      "sense: tower\n",
      "instances of sense: 6\n",
      "amount of correct instances: 6\n",
      "correct cluster number: 2\n",
      "total amount of points in biggest cluster: 6\n",
      "precision: 1.0\n",
      "recall 1.0\n",
      "F1 1.0\n",
      "\n",
      "\n",
      " Vol\n",
      "Number of senses: 2\n",
      "\n",
      "sense: theft\n",
      "instances of sense: 25\n",
      "amount of correct instances: 23\n",
      "correct cluster number: 4\n",
      "total amount of points in biggest cluster: 23\n",
      "precision: 1.0\n",
      "recall 0.92\n",
      "F1 0.9583333333333334\n",
      "\n",
      "sense: flight\n",
      "instances of sense: 60\n",
      "amount of correct instances: 31\n",
      "correct cluster number: 5\n",
      "total amount of points in biggest cluster: 31\n",
      "precision: 1.0\n",
      "recall 0.5166666666666667\n",
      "F1 0.6813186813186813\n"
     ]
    }
   ],
   "source": [
    "# We create a dictionary of dictionaries to save, for each sense, the ratings of its precision and recall\n",
    "all_scores = {}\n",
    "all_lengths = {}\n",
    "for filename in os.listdir(f\"{model_name}/Experiment_1/Automatic/\"):\n",
    "    if filename.endswith(\".csv\"):\n",
    "        df_F1 = pd.read_csv(f\"{model_name}/Experiment_1/Automatic/\" + filename, sep=\";\", encoding=\"utf-8\", header=0)\n",
    "\n",
    "        target_word = df_F1[\"source\"][1]\n",
    "        print(\"\\n\\n\", target_word)\n",
    "        total_df_length = len(df_F1)\n",
    "        # We calculate the amount of different senses\n",
    "        senses = len(df_F1[\"sense\"].unique())\n",
    "        print(\"Number of senses:\", senses)\n",
    "        target_word_dictionary = {}\n",
    "        target_word_lengths = {}\n",
    "        target_word_lengths[\"total\"] = total_df_length\n",
    "        for sense in df_F1[\"sense\"].unique():\n",
    "            scores = {}\n",
    "            sense_df = df_F1[df_F1[\"sense\"] == sense]\n",
    "                    #precision: number of correct instances in a cluster / total cluster size\n",
    "                    # We calculate the amount of \"default\" instances\n",
    "            sense_len = len(sense_df)\n",
    "        \n",
    "            \n",
    "            correct_df = sense_df[sense_df[\"default\"] == True]\n",
    "            correct_len = len(correct_df)\n",
    "            if correct_len > 0:\n",
    "                correct_cluster = correct_df[\"cluster\"].iloc[0]\n",
    "            else:\n",
    "                correct_cluster = \"No cluster\"\n",
    "                \n",
    "            cluster_len = len(df_F1[df_F1[\"cluster\"] == correct_cluster])\n",
    "            print(\"\\nsense:\", sense)\n",
    "            print(\"instances of sense:\", sense_len)\n",
    "            print(\"amount of correct instances:\", correct_len)\n",
    "            print(\"correct cluster number:\", correct_cluster)\n",
    "            print(\"total amount of points in biggest cluster:\", cluster_len)\n",
    "            \n",
    "            if cluster_len > 0:  \n",
    "                precision = correct_len / cluster_len\n",
    "            else:\n",
    "                precision = 0\n",
    "                print(\"precision zero\")\n",
    "            recall = correct_len / sense_len\n",
    "            print(\"precision:\", precision)\n",
    "            print(\"recall\", recall)\n",
    "            \n",
    "            F1 = statistics.harmonic_mean((precision, recall))\n",
    "            print(\"F1\", F1)\n",
    "            \n",
    "            scores[\"precision\"] = precision\n",
    "            scores[\"recall\"] = recall\n",
    "            scores[\"F1\"] = F1\n",
    "            target_word_dictionary[sense] = scores\n",
    "            target_word_lengths[sense] = sense_len\n",
    "        all_scores[target_word] = target_word_dictionary\n",
    "        all_lengths[target_word] = target_word_lengths\n",
    "            "
   ],
   "metadata": {
    "collapsed": false,
    "ExecuteTime": {
     "end_time": "2024-05-17T21:39:49.384726Z",
     "start_time": "2024-05-17T21:39:49.313130Z"
    }
   },
   "id": "306945c25334c604",
   "execution_count": 20
  },
  {
   "cell_type": "code",
   "outputs": [
    {
     "name": "stdout",
     "output_type": "stream",
     "text": [
      "\n",
      "\n",
      " Avocat\n",
      "lawyer\n",
      "score: 0.7555555555555555\n",
      "length of sense: 56\n",
      "total length: 84\n",
      "added weight: 0.6666666666666666 for a total of 0.6666666666666666\n",
      "F1 score after calc: 0.5037037037037037\n",
      "avocado\n",
      "score: 1.0\n",
      "length of sense: 28\n",
      "total length: 84\n",
      "added weight: 0.3333333333333333 for a total of 1.0\n",
      "F1 score after calc: 0.837037037037037\n",
      "\n",
      "\n",
      " Bien\n",
      "property\n",
      "score: 0.8735632183908046\n",
      "length of sense: 49\n",
      "total length: 98\n",
      "added weight: 0.5 for a total of 0.5\n",
      "F1 score after calc: 0.4367816091954023\n",
      "wellbeing\n",
      "score: 0.7916666666666667\n",
      "length of sense: 20\n",
      "total length: 98\n",
      "added weight: 0.20408163265306123 for a total of 0.7040816326530612\n",
      "F1 score after calc: 0.5983462350457425\n",
      "good\n",
      "score: 0.8163265306122449\n",
      "length of sense: 29\n",
      "total length: 98\n",
      "added weight: 0.29591836734693877 for a total of 1.0\n",
      "F1 score after calc: 0.8399122492065088\n",
      "\n",
      "\n",
      " Bureau\n",
      "desk\n",
      "score: 0.6753246753246753\n",
      "length of sense: 35\n",
      "total length: 103\n",
      "added weight: 0.33980582524271846 for a total of 0.33980582524271846\n",
      "F1 score after calc: 0.22947925860547222\n",
      "cabinet\n",
      "score: 0.5714285714285714\n",
      "length of sense: 14\n",
      "total length: 103\n",
      "added weight: 0.13592233009708737 for a total of 0.47572815533980584\n",
      "F1 score after calc: 0.30714916151809357\n",
      "office\n",
      "score: 0.4675324675324675\n",
      "length of sense: 54\n",
      "total length: 103\n",
      "added weight: 0.5242718446601942 for a total of 1.0\n",
      "F1 score after calc: 0.5522632707098727\n",
      "\n",
      "\n",
      " Faculté\n",
      "university\n",
      "score: 0.7457627118644068\n",
      "length of sense: 37\n",
      "total length: 80\n",
      "added weight: 0.4625 for a total of 0.4625\n",
      "F1 score after calc: 0.34491525423728814\n",
      "competence\n",
      "score: 0.9818181818181818\n",
      "length of sense: 28\n",
      "total length: 80\n",
      "added weight: 0.35 for a total of 0.8125\n",
      "F1 score after calc: 0.6885516178736517\n",
      "ability\n",
      "score: 0.9655172413793104\n",
      "length of sense: 15\n",
      "total length: 80\n",
      "added weight: 0.1875 for a total of 1.0\n",
      "F1 score after calc: 0.8695861006322724\n",
      "\n",
      "\n",
      " Filer\n",
      "slip away\n",
      "score: 0.880952380952381\n",
      "length of sense: 47\n",
      "total length: 96\n",
      "added weight: 0.4895833333333333 for a total of 0.4895833333333333\n",
      "F1 score after calc: 0.4312996031746032\n",
      "give\n",
      "score: 0.9642857142857142\n",
      "length of sense: 29\n",
      "total length: 96\n",
      "added weight: 0.3020833333333333 for a total of 0.7916666666666666\n",
      "F1 score after calc: 0.722594246031746\n",
      "spinning\n",
      "score: 0.75\n",
      "length of sense: 20\n",
      "total length: 96\n",
      "added weight: 0.20833333333333334 for a total of 1.0\n",
      "F1 score after calc: 0.878844246031746\n",
      "\n",
      "\n",
      " Glace\n",
      "ice\n",
      "score: 0.7835051546391752\n",
      "length of sense: 59\n",
      "total length: 123\n",
      "added weight: 0.4796747967479675 for a total of 0.4796747967479675\n",
      "F1 score after calc: 0.37582767580253124\n",
      "ice cream\n",
      "score: 0.6296296296296297\n",
      "length of sense: 20\n",
      "total length: 123\n",
      "added weight: 0.16260162601626016 for a total of 0.6422764227642277\n",
      "F1 score after calc: 0.47820647736832467\n",
      "glass\n",
      "score: 0.4761904761904762\n",
      "length of sense: 9\n",
      "total length: 123\n",
      "added weight: 0.07317073170731707 for a total of 0.7154471544715447\n",
      "F1 score after calc: 0.5130496829432376\n",
      "mirror\n",
      "score: 0.5846153846153845\n",
      "length of sense: 26\n",
      "total length: 123\n",
      "added weight: 0.21138211382113822 for a total of 0.926829268292683\n",
      "F1 score after calc: 0.6366269187155953\n",
      "powdered sugar\n",
      "score: 0\n",
      "length of sense: 9\n",
      "total length: 123\n",
      "added weight: 0.07317073170731707 for a total of 1.0\n",
      "F1 score after calc: 0.6366269187155953\n",
      "\n",
      "\n",
      " Souris\n",
      "bat\n",
      "score: 0.2\n",
      "length of sense: 10\n",
      "total length: 68\n",
      "added weight: 0.14705882352941177 for a total of 0.14705882352941177\n",
      "F1 score after calc: 0.029411764705882356\n",
      "pointer\n",
      "score: 0.7727272727272727\n",
      "length of sense: 27\n",
      "total length: 68\n",
      "added weight: 0.39705882352941174 for a total of 0.5441176470588235\n",
      "F1 score after calc: 0.3362299465240641\n",
      "rodent\n",
      "score: 0.6315789473684211\n",
      "length of sense: 31\n",
      "total length: 68\n",
      "added weight: 0.45588235294117646 for a total of 1.0\n",
      "F1 score after calc: 0.6241556431184914\n",
      "\n",
      "\n",
      " Supporter\n",
      "endure\n",
      "score: 0.6956521739130435\n",
      "length of sense: 28\n",
      "total length: 55\n",
      "added weight: 0.509090909090909 for a total of 0.509090909090909\n",
      "F1 score after calc: 0.35415019762845845\n",
      "hold up\n",
      "score: 0.48484848484848486\n",
      "length of sense: 15\n",
      "total length: 55\n",
      "added weight: 0.2727272727272727 for a total of 0.7818181818181817\n",
      "F1 score after calc: 0.48638160258713614\n",
      "fan\n",
      "score: 1.0\n",
      "length of sense: 12\n",
      "total length: 55\n",
      "added weight: 0.21818181818181817 for a total of 0.9999999999999999\n",
      "F1 score after calc: 0.7045634207689543\n",
      "\n",
      "\n",
      " Tirer\n",
      "shoot\n",
      "score: 0.7080745341614907\n",
      "length of sense: 74\n",
      "total length: 104\n",
      "added weight: 0.7115384615384616 for a total of 0.7115384615384616\n",
      "F1 score after calc: 0.5038222646918299\n",
      "pull\n",
      "score: 0\n",
      "length of sense: 30\n",
      "total length: 104\n",
      "added weight: 0.28846153846153844 for a total of 1.0\n",
      "F1 score after calc: 0.5038222646918299\n",
      "\n",
      "\n",
      " Tour\n",
      "lap\n",
      "score: 0.2857142857142857\n",
      "length of sense: 16\n",
      "total length: 74\n",
      "added weight: 0.21621621621621623 for a total of 0.21621621621621623\n",
      "F1 score after calc: 0.06177606177606178\n",
      "trick\n",
      "score: 0.9333333333333333\n",
      "length of sense: 14\n",
      "total length: 74\n",
      "added weight: 0.1891891891891892 for a total of 0.40540540540540543\n",
      "F1 score after calc: 0.23835263835263837\n",
      "turn\n",
      "score: 0.7027027027027026\n",
      "length of sense: 24\n",
      "total length: 74\n",
      "added weight: 0.32432432432432434 for a total of 0.7297297297297298\n",
      "F1 score after calc: 0.46625621760756897\n",
      "round\n",
      "score: 0.717948717948718\n",
      "length of sense: 14\n",
      "total length: 74\n",
      "added weight: 0.1891891891891892 for a total of 0.9189189189189191\n",
      "F1 score after calc: 0.6020843534357048\n",
      "tower\n",
      "score: 1.0\n",
      "length of sense: 6\n",
      "total length: 74\n",
      "added weight: 0.08108108108108109 for a total of 1.0000000000000002\n",
      "F1 score after calc: 0.6831654345167859\n",
      "\n",
      "\n",
      " Vol\n",
      "theft\n",
      "score: 0.9583333333333334\n",
      "length of sense: 25\n",
      "total length: 85\n",
      "added weight: 0.29411764705882354 for a total of 0.29411764705882354\n",
      "F1 score after calc: 0.2818627450980392\n",
      "flight\n",
      "score: 0.6813186813186813\n",
      "length of sense: 60\n",
      "total length: 85\n",
      "added weight: 0.7058823529411765 for a total of 1.0\n",
      "F1 score after calc: 0.7627935789700496\n"
     ]
    }
   ],
   "source": [
    "# Total F1: weighted average of the F1 scores of each gold standard sense\n",
    "# We calculate the weight for each sense of the dataframe (the amount of instances of this sense divided by the total amount of instances)\n",
    "# We make a dictionary F1_scores, in which each target word is associated with its F1 score\n",
    "F1_scores = {}\n",
    "for target_word in all_scores:\n",
    "    F1 = 0\n",
    "    weight = 0\n",
    "    print(\"\\n\\n\", target_word)\n",
    "    for sense in all_scores[target_word]:\n",
    "        score = all_scores[target_word][sense][\"F1\"]\n",
    "        print(sense)\n",
    "        print(\"score:\", score)\n",
    "        \n",
    "        len_sense = all_lengths[target_word][sense]\n",
    "        print(\"length of sense:\", len_sense)\n",
    "        \n",
    "        len_total = all_lengths[target_word][\"total\"]\n",
    "        print(\"total length:\", len_total)\n",
    "        added_weight = len_sense / len_total\n",
    "        weight += added_weight\n",
    "        print(\"added weight:\", added_weight, \"for a total of\", weight)\n",
    "        F1 += score * (len_sense / len_total)\n",
    "        print(\"F1 score after calc:\", F1)\n",
    "    F1_scores[target_word] = F1\n",
    "\n"
   ],
   "metadata": {
    "collapsed": false,
    "ExecuteTime": {
     "end_time": "2024-05-17T21:39:49.424095Z",
     "start_time": "2024-05-17T21:39:49.414649Z"
    }
   },
   "id": "24e65d1f800fc59d",
   "execution_count": 21
  },
  {
   "cell_type": "code",
   "outputs": [
    {
     "name": "stdout",
     "output_type": "stream",
     "text": [
      "\n",
      "\n",
      " Avocat\n",
      "Number of senses: 2\n",
      "\n",
      "sense: lawyer\n",
      "instances of sense: 56\n",
      "amount of correct instances: 56\n",
      "correct cluster number: 0\n",
      "total amount of points in biggest cluster: 84\n",
      "precision: 0.6666666666666666\n",
      "recall 1.0\n",
      "F1 0.8\n",
      "\n",
      "sense: avocado\n",
      "instances of sense: 28\n",
      "amount of correct instances: 0\n",
      "correct cluster number: No cluster\n",
      "total amount of points in biggest cluster: 0\n",
      "precision zero\n",
      "precision: 0\n",
      "recall 0.0\n",
      "F1 0\n",
      "\n",
      "\n",
      " Bien\n",
      "Number of senses: 3\n",
      "\n",
      "sense: property\n",
      "instances of sense: 49\n",
      "amount of correct instances: 49\n",
      "correct cluster number: 0\n",
      "total amount of points in biggest cluster: 98\n",
      "precision: 0.5\n",
      "recall 1.0\n",
      "F1 0.6666666666666666\n",
      "\n",
      "sense: wellbeing\n",
      "instances of sense: 20\n",
      "amount of correct instances: 0\n",
      "correct cluster number: No cluster\n",
      "total amount of points in biggest cluster: 0\n",
      "precision zero\n",
      "precision: 0\n",
      "recall 0.0\n",
      "F1 0\n",
      "\n",
      "sense: good\n",
      "instances of sense: 29\n",
      "amount of correct instances: 0\n",
      "correct cluster number: No cluster\n",
      "total amount of points in biggest cluster: 0\n",
      "precision zero\n",
      "precision: 0\n",
      "recall 0.0\n",
      "F1 0\n",
      "\n",
      "\n",
      " Bureau\n",
      "Number of senses: 3\n",
      "\n",
      "sense: desk\n",
      "instances of sense: 35\n",
      "amount of correct instances: 0\n",
      "correct cluster number: No cluster\n",
      "total amount of points in biggest cluster: 0\n",
      "precision zero\n",
      "precision: 0\n",
      "recall 0.0\n",
      "F1 0\n",
      "\n",
      "sense: cabinet\n",
      "instances of sense: 14\n",
      "amount of correct instances: 0\n",
      "correct cluster number: No cluster\n",
      "total amount of points in biggest cluster: 0\n",
      "precision zero\n",
      "precision: 0\n",
      "recall 0.0\n",
      "F1 0\n",
      "\n",
      "sense: office\n",
      "instances of sense: 54\n",
      "amount of correct instances: 54\n",
      "correct cluster number: 0\n",
      "total amount of points in biggest cluster: 103\n",
      "precision: 0.5242718446601942\n",
      "recall 1.0\n",
      "F1 0.6878980891719745\n",
      "\n",
      "\n",
      " Faculté\n",
      "Number of senses: 3\n",
      "\n",
      "sense: university\n",
      "instances of sense: 37\n",
      "amount of correct instances: 37\n",
      "correct cluster number: 0\n",
      "total amount of points in biggest cluster: 80\n",
      "precision: 0.4625\n",
      "recall 1.0\n",
      "F1 0.6324786324786326\n",
      "\n",
      "sense: competence\n",
      "instances of sense: 28\n",
      "amount of correct instances: 0\n",
      "correct cluster number: No cluster\n",
      "total amount of points in biggest cluster: 0\n",
      "precision zero\n",
      "precision: 0\n",
      "recall 0.0\n",
      "F1 0\n",
      "\n",
      "sense: ability\n",
      "instances of sense: 15\n",
      "amount of correct instances: 0\n",
      "correct cluster number: No cluster\n",
      "total amount of points in biggest cluster: 0\n",
      "precision zero\n",
      "precision: 0\n",
      "recall 0.0\n",
      "F1 0\n",
      "\n",
      "\n",
      " Filer\n",
      "Number of senses: 3\n",
      "\n",
      "sense: slip away\n",
      "instances of sense: 47\n",
      "amount of correct instances: 47\n",
      "correct cluster number: 0\n",
      "total amount of points in biggest cluster: 96\n",
      "precision: 0.4895833333333333\n",
      "recall 1.0\n",
      "F1 0.6573426573426573\n",
      "\n",
      "sense: give\n",
      "instances of sense: 29\n",
      "amount of correct instances: 0\n",
      "correct cluster number: No cluster\n",
      "total amount of points in biggest cluster: 0\n",
      "precision zero\n",
      "precision: 0\n",
      "recall 0.0\n",
      "F1 0\n",
      "\n",
      "sense: spinning\n",
      "instances of sense: 20\n",
      "amount of correct instances: 0\n",
      "correct cluster number: No cluster\n",
      "total amount of points in biggest cluster: 0\n",
      "precision zero\n",
      "precision: 0\n",
      "recall 0.0\n",
      "F1 0\n",
      "\n",
      "\n",
      " Glace\n",
      "Number of senses: 5\n",
      "\n",
      "sense: ice\n",
      "instances of sense: 59\n",
      "amount of correct instances: 59\n",
      "correct cluster number: 0\n",
      "total amount of points in biggest cluster: 123\n",
      "precision: 0.4796747967479675\n",
      "recall 1.0\n",
      "F1 0.6483516483516483\n",
      "\n",
      "sense: ice cream\n",
      "instances of sense: 20\n",
      "amount of correct instances: 0\n",
      "correct cluster number: No cluster\n",
      "total amount of points in biggest cluster: 0\n",
      "precision zero\n",
      "precision: 0\n",
      "recall 0.0\n",
      "F1 0\n",
      "\n",
      "sense: glass\n",
      "instances of sense: 9\n",
      "amount of correct instances: 0\n",
      "correct cluster number: No cluster\n",
      "total amount of points in biggest cluster: 0\n",
      "precision zero\n",
      "precision: 0\n",
      "recall 0.0\n",
      "F1 0\n",
      "\n",
      "sense: mirror\n",
      "instances of sense: 26\n",
      "amount of correct instances: 0\n",
      "correct cluster number: No cluster\n",
      "total amount of points in biggest cluster: 0\n",
      "precision zero\n",
      "precision: 0\n",
      "recall 0.0\n",
      "F1 0\n",
      "\n",
      "sense: powdered sugar\n",
      "instances of sense: 9\n",
      "amount of correct instances: 0\n",
      "correct cluster number: No cluster\n",
      "total amount of points in biggest cluster: 0\n",
      "precision zero\n",
      "precision: 0\n",
      "recall 0.0\n",
      "F1 0\n",
      "\n",
      "\n",
      " Souris\n",
      "Number of senses: 3\n",
      "\n",
      "sense: bat\n",
      "instances of sense: 10\n",
      "amount of correct instances: 0\n",
      "correct cluster number: No cluster\n",
      "total amount of points in biggest cluster: 0\n",
      "precision zero\n",
      "precision: 0\n",
      "recall 0.0\n",
      "F1 0\n",
      "\n",
      "sense: pointer\n",
      "instances of sense: 27\n",
      "amount of correct instances: 0\n",
      "correct cluster number: No cluster\n",
      "total amount of points in biggest cluster: 0\n",
      "precision zero\n",
      "precision: 0\n",
      "recall 0.0\n",
      "F1 0\n",
      "\n",
      "sense: rodent\n",
      "instances of sense: 31\n",
      "amount of correct instances: 31\n",
      "correct cluster number: 0\n",
      "total amount of points in biggest cluster: 68\n",
      "precision: 0.45588235294117646\n",
      "recall 1.0\n",
      "F1 0.6262626262626263\n",
      "\n",
      "\n",
      " Supporter\n",
      "Number of senses: 3\n",
      "\n",
      "sense: endure\n",
      "instances of sense: 28\n",
      "amount of correct instances: 28\n",
      "correct cluster number: 0\n",
      "total amount of points in biggest cluster: 55\n",
      "precision: 0.509090909090909\n",
      "recall 1.0\n",
      "F1 0.6746987951807228\n",
      "\n",
      "sense: hold up\n",
      "instances of sense: 15\n",
      "amount of correct instances: 0\n",
      "correct cluster number: No cluster\n",
      "total amount of points in biggest cluster: 0\n",
      "precision zero\n",
      "precision: 0\n",
      "recall 0.0\n",
      "F1 0\n",
      "\n",
      "sense: fan\n",
      "instances of sense: 12\n",
      "amount of correct instances: 0\n",
      "correct cluster number: No cluster\n",
      "total amount of points in biggest cluster: 0\n",
      "precision zero\n",
      "precision: 0\n",
      "recall 0.0\n",
      "F1 0\n",
      "\n",
      "\n",
      " Tirer\n",
      "Number of senses: 2\n",
      "\n",
      "sense: shoot\n",
      "instances of sense: 74\n",
      "amount of correct instances: 74\n",
      "correct cluster number: 0\n",
      "total amount of points in biggest cluster: 104\n",
      "precision: 0.7115384615384616\n",
      "recall 1.0\n",
      "F1 0.8314606741573034\n",
      "\n",
      "sense: pull\n",
      "instances of sense: 30\n",
      "amount of correct instances: 0\n",
      "correct cluster number: No cluster\n",
      "total amount of points in biggest cluster: 0\n",
      "precision zero\n",
      "precision: 0\n",
      "recall 0.0\n",
      "F1 0\n",
      "\n",
      "\n",
      " Tour\n",
      "Number of senses: 5\n",
      "\n",
      "sense: lap\n",
      "instances of sense: 16\n",
      "amount of correct instances: 0\n",
      "correct cluster number: No cluster\n",
      "total amount of points in biggest cluster: 0\n",
      "precision zero\n",
      "precision: 0\n",
      "recall 0.0\n",
      "F1 0\n",
      "\n",
      "sense: trick\n",
      "instances of sense: 14\n",
      "amount of correct instances: 0\n",
      "correct cluster number: No cluster\n",
      "total amount of points in biggest cluster: 0\n",
      "precision zero\n",
      "precision: 0\n",
      "recall 0.0\n",
      "F1 0\n",
      "\n",
      "sense: turn\n",
      "instances of sense: 24\n",
      "amount of correct instances: 24\n",
      "correct cluster number: 0\n",
      "total amount of points in biggest cluster: 74\n",
      "precision: 0.32432432432432434\n",
      "recall 1.0\n",
      "F1 0.489795918367347\n",
      "\n",
      "sense: round\n",
      "instances of sense: 14\n",
      "amount of correct instances: 0\n",
      "correct cluster number: No cluster\n",
      "total amount of points in biggest cluster: 0\n",
      "precision zero\n",
      "precision: 0\n",
      "recall 0.0\n",
      "F1 0\n",
      "\n",
      "sense: tower\n",
      "instances of sense: 6\n",
      "amount of correct instances: 0\n",
      "correct cluster number: No cluster\n",
      "total amount of points in biggest cluster: 0\n",
      "precision zero\n",
      "precision: 0\n",
      "recall 0.0\n",
      "F1 0\n",
      "\n",
      "\n",
      " Vol\n",
      "Number of senses: 2\n",
      "\n",
      "sense: theft\n",
      "instances of sense: 25\n",
      "amount of correct instances: 0\n",
      "correct cluster number: No cluster\n",
      "total amount of points in biggest cluster: 0\n",
      "precision zero\n",
      "precision: 0\n",
      "recall 0.0\n",
      "F1 0\n",
      "\n",
      "sense: flight\n",
      "instances of sense: 60\n",
      "amount of correct instances: 60\n",
      "correct cluster number: 0\n",
      "total amount of points in biggest cluster: 85\n",
      "precision: 0.7058823529411765\n",
      "recall 1.0\n",
      "F1 0.8275862068965518\n",
      "\n",
      "\n",
      " Avocat\n",
      "lawyer\n",
      "score: 0.8\n",
      "length of sense: 56\n",
      "total length: 84\n",
      "added weight: 0.6666666666666666 for a total of 0.6666666666666666\n",
      "F1 score after calc: 0.5333333333333333\n",
      "avocado\n",
      "score: 0\n",
      "length of sense: 28\n",
      "total length: 84\n",
      "added weight: 0.3333333333333333 for a total of 1.0\n",
      "F1 score after calc: 0.5333333333333333\n",
      "\n",
      "\n",
      " Bien\n",
      "property\n",
      "score: 0.6666666666666666\n",
      "length of sense: 49\n",
      "total length: 98\n",
      "added weight: 0.5 for a total of 0.5\n",
      "F1 score after calc: 0.3333333333333333\n",
      "wellbeing\n",
      "score: 0\n",
      "length of sense: 20\n",
      "total length: 98\n",
      "added weight: 0.20408163265306123 for a total of 0.7040816326530612\n",
      "F1 score after calc: 0.3333333333333333\n",
      "good\n",
      "score: 0\n",
      "length of sense: 29\n",
      "total length: 98\n",
      "added weight: 0.29591836734693877 for a total of 1.0\n",
      "F1 score after calc: 0.3333333333333333\n",
      "\n",
      "\n",
      " Bureau\n",
      "desk\n",
      "score: 0\n",
      "length of sense: 35\n",
      "total length: 103\n",
      "added weight: 0.33980582524271846 for a total of 0.33980582524271846\n",
      "F1 score after calc: 0.0\n",
      "cabinet\n",
      "score: 0\n",
      "length of sense: 14\n",
      "total length: 103\n",
      "added weight: 0.13592233009708737 for a total of 0.47572815533980584\n",
      "F1 score after calc: 0.0\n",
      "office\n",
      "score: 0.6878980891719745\n",
      "length of sense: 54\n",
      "total length: 103\n",
      "added weight: 0.5242718446601942 for a total of 1.0\n",
      "F1 score after calc: 0.3606456001484138\n",
      "\n",
      "\n",
      " Faculté\n",
      "university\n",
      "score: 0.6324786324786326\n",
      "length of sense: 37\n",
      "total length: 80\n",
      "added weight: 0.4625 for a total of 0.4625\n",
      "F1 score after calc: 0.2925213675213676\n",
      "competence\n",
      "score: 0\n",
      "length of sense: 28\n",
      "total length: 80\n",
      "added weight: 0.35 for a total of 0.8125\n",
      "F1 score after calc: 0.2925213675213676\n",
      "ability\n",
      "score: 0\n",
      "length of sense: 15\n",
      "total length: 80\n",
      "added weight: 0.1875 for a total of 1.0\n",
      "F1 score after calc: 0.2925213675213676\n",
      "\n",
      "\n",
      " Filer\n",
      "slip away\n",
      "score: 0.6573426573426573\n",
      "length of sense: 47\n",
      "total length: 96\n",
      "added weight: 0.4895833333333333 for a total of 0.4895833333333333\n",
      "F1 score after calc: 0.3218240093240093\n",
      "give\n",
      "score: 0\n",
      "length of sense: 29\n",
      "total length: 96\n",
      "added weight: 0.3020833333333333 for a total of 0.7916666666666666\n",
      "F1 score after calc: 0.3218240093240093\n",
      "spinning\n",
      "score: 0\n",
      "length of sense: 20\n",
      "total length: 96\n",
      "added weight: 0.20833333333333334 for a total of 1.0\n",
      "F1 score after calc: 0.3218240093240093\n",
      "\n",
      "\n",
      " Glace\n",
      "ice\n",
      "score: 0.6483516483516483\n",
      "length of sense: 59\n",
      "total length: 123\n",
      "added weight: 0.4796747967479675 for a total of 0.4796747967479675\n",
      "F1 score after calc: 0.3109979451442866\n",
      "ice cream\n",
      "score: 0\n",
      "length of sense: 20\n",
      "total length: 123\n",
      "added weight: 0.16260162601626016 for a total of 0.6422764227642277\n",
      "F1 score after calc: 0.3109979451442866\n",
      "glass\n",
      "score: 0\n",
      "length of sense: 9\n",
      "total length: 123\n",
      "added weight: 0.07317073170731707 for a total of 0.7154471544715447\n",
      "F1 score after calc: 0.3109979451442866\n",
      "mirror\n",
      "score: 0\n",
      "length of sense: 26\n",
      "total length: 123\n",
      "added weight: 0.21138211382113822 for a total of 0.926829268292683\n",
      "F1 score after calc: 0.3109979451442866\n",
      "powdered sugar\n",
      "score: 0\n",
      "length of sense: 9\n",
      "total length: 123\n",
      "added weight: 0.07317073170731707 for a total of 1.0\n",
      "F1 score after calc: 0.3109979451442866\n",
      "\n",
      "\n",
      " Souris\n",
      "bat\n",
      "score: 0\n",
      "length of sense: 10\n",
      "total length: 68\n",
      "added weight: 0.14705882352941177 for a total of 0.14705882352941177\n",
      "F1 score after calc: 0.0\n",
      "pointer\n",
      "score: 0\n",
      "length of sense: 27\n",
      "total length: 68\n",
      "added weight: 0.39705882352941174 for a total of 0.5441176470588235\n",
      "F1 score after calc: 0.0\n",
      "rodent\n",
      "score: 0.6262626262626263\n",
      "length of sense: 31\n",
      "total length: 68\n",
      "added weight: 0.45588235294117646 for a total of 1.0\n",
      "F1 score after calc: 0.2855020796197267\n",
      "\n",
      "\n",
      " Supporter\n",
      "endure\n",
      "score: 0.6746987951807228\n",
      "length of sense: 28\n",
      "total length: 55\n",
      "added weight: 0.509090909090909 for a total of 0.509090909090909\n",
      "F1 score after calc: 0.34348302300109523\n",
      "hold up\n",
      "score: 0\n",
      "length of sense: 15\n",
      "total length: 55\n",
      "added weight: 0.2727272727272727 for a total of 0.7818181818181817\n",
      "F1 score after calc: 0.34348302300109523\n",
      "fan\n",
      "score: 0\n",
      "length of sense: 12\n",
      "total length: 55\n",
      "added weight: 0.21818181818181817 for a total of 0.9999999999999999\n",
      "F1 score after calc: 0.34348302300109523\n",
      "\n",
      "\n",
      " Tirer\n",
      "shoot\n",
      "score: 0.8314606741573034\n",
      "length of sense: 74\n",
      "total length: 104\n",
      "added weight: 0.7115384615384616 for a total of 0.7115384615384616\n",
      "F1 score after calc: 0.5916162489196197\n",
      "pull\n",
      "score: 0\n",
      "length of sense: 30\n",
      "total length: 104\n",
      "added weight: 0.28846153846153844 for a total of 1.0\n",
      "F1 score after calc: 0.5916162489196197\n",
      "\n",
      "\n",
      " Tour\n",
      "lap\n",
      "score: 0\n",
      "length of sense: 16\n",
      "total length: 74\n",
      "added weight: 0.21621621621621623 for a total of 0.21621621621621623\n",
      "F1 score after calc: 0.0\n",
      "trick\n",
      "score: 0\n",
      "length of sense: 14\n",
      "total length: 74\n",
      "added weight: 0.1891891891891892 for a total of 0.40540540540540543\n",
      "F1 score after calc: 0.0\n",
      "turn\n",
      "score: 0.489795918367347\n",
      "length of sense: 24\n",
      "total length: 74\n",
      "added weight: 0.32432432432432434 for a total of 0.7297297297297298\n",
      "F1 score after calc: 0.15885273028130173\n",
      "round\n",
      "score: 0\n",
      "length of sense: 14\n",
      "total length: 74\n",
      "added weight: 0.1891891891891892 for a total of 0.9189189189189191\n",
      "F1 score after calc: 0.15885273028130173\n",
      "tower\n",
      "score: 0\n",
      "length of sense: 6\n",
      "total length: 74\n",
      "added weight: 0.08108108108108109 for a total of 1.0000000000000002\n",
      "F1 score after calc: 0.15885273028130173\n",
      "\n",
      "\n",
      " Vol\n",
      "theft\n",
      "score: 0\n",
      "length of sense: 25\n",
      "total length: 85\n",
      "added weight: 0.29411764705882354 for a total of 0.29411764705882354\n",
      "F1 score after calc: 0.0\n",
      "flight\n",
      "score: 0.8275862068965518\n",
      "length of sense: 60\n",
      "total length: 85\n",
      "added weight: 0.7058823529411765 for a total of 1.0\n",
      "F1 score after calc: 0.5841784989858013\n"
     ]
    }
   ],
   "source": [
    "# We will also calculate an F1 score for each word when no clustering takes place\n",
    "# We will make a copy of each dataframe and set the \"cluster\" column to 0 for all rows\n",
    "# We create a dictionary of dictionaries to save, for each sense, the ratings of its precision and recall\n",
    "all_scores_no_cluster = {}\n",
    "all_lengths_no_cluster = {}\n",
    "for filename in os.listdir(f\"{model_name}/Experiment_1/Automatic/\"):\n",
    "    if filename.endswith(\".csv\"):\n",
    "        df_F1 = pd.read_csv(f\"{model_name}/Experiment_1/Automatic/\" + filename, sep=\";\", encoding=\"utf-8\", header=0)\n",
    "\n",
    "        target_word = df_F1[\"source\"][1]\n",
    "        # We undo clustering: we set all clusters to 0\n",
    "        # The \"default\" (i.e. \"correct\" category is the most frequent sense)\n",
    "        df_F1[\"cluster\"] = 0\n",
    "        most_freq_sense = df_F1[\"sense\"].value_counts().idxmax()\n",
    "        df_F1[\"default\"] = [1 if sense == most_freq_sense else 0 for sense in df_F1[\"sense\"]]\n",
    "        print(\"\\n\\n\", target_word)\n",
    "        total_df_length = len(df_F1)\n",
    "        # We calculate the amount of different senses\n",
    "        senses = len(df_F1[\"sense\"].unique())\n",
    "        print(\"Number of senses:\", senses)\n",
    "        target_word_dictionary = {}\n",
    "        target_word_lengths = {}\n",
    "        target_word_lengths[\"total\"] = total_df_length\n",
    "        for sense in df_F1[\"sense\"].unique():\n",
    "            scores = {}\n",
    "            sense_df = df_F1[df_F1[\"sense\"] == sense]\n",
    "                    #precision: number of correct instances in a cluster / total cluster size\n",
    "                    # We calculate the amount of \"default\" instances\n",
    "            sense_len = len(sense_df)\n",
    "        \n",
    "            \n",
    "            correct_df = sense_df[sense_df[\"default\"] == True]\n",
    "            correct_len = len(correct_df)\n",
    "            if correct_len > 0:\n",
    "                correct_cluster = correct_df[\"cluster\"].iloc[0]\n",
    "            else:\n",
    "                correct_cluster = \"No cluster\"\n",
    "                \n",
    "            cluster_len = len(df_F1[df_F1[\"cluster\"] == correct_cluster])\n",
    "            print(\"\\nsense:\", sense)\n",
    "            print(\"instances of sense:\", sense_len)\n",
    "            print(\"amount of correct instances:\", correct_len)\n",
    "            print(\"correct cluster number:\", correct_cluster)\n",
    "            print(\"total amount of points in biggest cluster:\", cluster_len)\n",
    "            \n",
    "            if cluster_len > 0:  \n",
    "                precision = correct_len / cluster_len\n",
    "            else:\n",
    "                precision = 0\n",
    "                print(\"precision zero\")\n",
    "            recall = correct_len / sense_len\n",
    "            print(\"precision:\", precision)\n",
    "            print(\"recall\", recall)\n",
    "            \n",
    "            F1 = statistics.harmonic_mean((precision, recall))\n",
    "            print(\"F1\", F1)\n",
    "            \n",
    "            scores[\"precision\"] = precision\n",
    "            scores[\"recall\"] = recall\n",
    "            scores[\"F1\"] = F1\n",
    "            target_word_dictionary[sense] = scores\n",
    "            target_word_lengths[sense] = sense_len\n",
    "        all_scores_no_cluster[target_word] = target_word_dictionary\n",
    "        all_lengths_no_cluster[target_word] = target_word_lengths\n",
    "# Total F1: weighted average of the F1 scores of each gold standard sense\n",
    "# We calculate the weight for each sense of the dataframe (the amount of instances of this sense divided by the total amount of instances)\n",
    "# We make a dictionary F1_scores, in which each target word is associated with its F1 score\n",
    "F1_scores_no_cluster = {}\n",
    "for target_word in all_scores_no_cluster:\n",
    "    F1 = 0\n",
    "    weight = 0\n",
    "    print(\"\\n\\n\", target_word)\n",
    "    for sense in all_scores_no_cluster[target_word]:\n",
    "        score = all_scores_no_cluster[target_word][sense][\"F1\"]\n",
    "        print(sense)\n",
    "        print(\"score:\", score)\n",
    "        \n",
    "        len_sense = all_lengths_no_cluster[target_word][sense]\n",
    "        print(\"length of sense:\", len_sense)\n",
    "        \n",
    "        len_total = all_lengths_no_cluster[target_word][\"total\"]\n",
    "        print(\"total length:\", len_total)\n",
    "        added_weight = len_sense / len_total\n",
    "        weight += added_weight\n",
    "        print(\"added weight:\", added_weight, \"for a total of\", weight)\n",
    "        F1 += score * (len_sense / len_total)\n",
    "        print(\"F1 score after calc:\", F1)\n",
    "    F1_scores_no_cluster[target_word] = F1\n",
    "\n"
   ],
   "metadata": {
    "collapsed": false,
    "ExecuteTime": {
     "end_time": "2024-05-17T21:39:49.554133Z",
     "start_time": "2024-05-17T21:39:49.474962Z"
    }
   },
   "id": "9f8e7d4cba4a08db",
   "execution_count": 22
  },
  {
   "cell_type": "code",
   "outputs": [
    {
     "name": "stdout",
     "output_type": "stream",
     "text": [
      "Nouns average of weighted scores: 0.6848634455301387\n",
      "Nouns average of overall scores: 0.6641909694859185\n",
      "Nouns average of all in one cluster scores: 0.5149002922851882\n",
      "Nouns average of v-measure cluster score: 0.6027714751898909\n",
      "Nouns average of adjusted rand score: 0.47025112930933577\n",
      "Nouns average of F1 scores: 0.7256925291133266\n",
      "Nouns average of F1 scores when no clustering takes place: 0.3574206110459456\n",
      "\n",
      "\n",
      "\n",
      "Verbs average of weighted scores: 0.6198262039421247\n",
      "Verbs average of overall scores: 0.6647630147630148\n",
      "Verbs average of all in one cluster scores: 0.5700709013209013\n",
      "Verbs average of v-measure cluster score: 0.4665299416210773\n",
      "Verbs average of adjusted rand score: 0.339278419353348\n",
      "Verbs average of F1 scores: 0.69574331049751\n",
      "Verbs average of F1 scores when no clustering takes place: 0.41897442708157473\n"
     ]
    }
   ],
   "source": [
    "Nouns = [\"Avocat\", \"Bien\", \"Bureau\", \"Faculté\", \"Glace\", \"Souris\", \"Tour\", \"Vol\"]\n",
    "Verbs = [\"Filer\", \"Supporter\", \"Tirer\"]\n",
    "\n",
    "nouns_average_weighted = np.mean([weighted_scores[noun] for noun in Nouns])\n",
    "nouns_average_overall = np.mean([overall_scores[noun] for noun in Nouns])\n",
    "nouns_average_all_in_one = np.mean([all_in_one_cluster_overall_scores[noun] for noun in Nouns])\n",
    "nouns_average_v_measure = np.mean([v_measure_scores[noun] for noun in Nouns])\n",
    "nouns_average_rand = np.mean([rand_scores[noun] for noun in Nouns])\n",
    "nouns_average_F1 = np.mean([F1_scores[noun] for noun in Nouns])\n",
    "nouns_average_F1_no_cluster = np.mean([F1_scores_no_cluster[noun] for noun in Nouns])\n",
    "\n",
    "\n",
    "verbs_average_weighted = np.mean([weighted_scores[verb] for verb in Verbs])\n",
    "verbs_average_overall = np.mean([overall_scores[verb] for verb in Verbs])\n",
    "verbs_average_all_in_one = np.mean([all_in_one_cluster_overall_scores[verb] for verb in Verbs])\n",
    "verbs_average_v_measure = np.mean([v_measure_scores[verb] for verb in Verbs])\n",
    "verbs_average_rand = np.mean([rand_scores[verb] for verb in Verbs])\n",
    "verbs_average_F1 = np.mean([F1_scores[verb] for verb in Verbs])\n",
    "verbs_average_F1_no_cluster = np.mean([F1_scores_no_cluster[verb] for verb in Verbs])\n",
    "\n",
    "print(\"Nouns average of weighted scores:\", nouns_average_weighted)\n",
    "print(\"Nouns average of overall scores:\", nouns_average_overall)\n",
    "print(\"Nouns average of all in one cluster scores:\", nouns_average_all_in_one)\n",
    "print(\"Nouns average of v-measure cluster score:\", nouns_average_v_measure)\n",
    "print(\"Nouns average of adjusted rand score:\", nouns_average_rand)\n",
    "print(\"Nouns average of F1 scores:\", nouns_average_F1)\n",
    "print(\"Nouns average of F1 scores when no clustering takes place:\", nouns_average_F1_no_cluster)\n",
    "print(\"\\n\\n\")\n",
    "print(\"Verbs average of weighted scores:\", verbs_average_weighted)\n",
    "print(\"Verbs average of overall scores:\", verbs_average_overall)\n",
    "print(\"Verbs average of all in one cluster scores:\", verbs_average_all_in_one)\n",
    "print(\"Verbs average of v-measure cluster score:\", verbs_average_v_measure)\n",
    "print(\"Verbs average of adjusted rand score:\", verbs_average_rand)\n",
    "print(\"Verbs average of F1 scores:\", verbs_average_F1)\n",
    "print(\"Verbs average of F1 scores when no clustering takes place:\", verbs_average_F1_no_cluster)\n"
   ],
   "metadata": {
    "collapsed": false,
    "ExecuteTime": {
     "end_time": "2024-05-17T21:39:49.592901Z",
     "start_time": "2024-05-17T21:39:49.581064Z"
    }
   },
   "id": "eab2c9e12fac0d05",
   "execution_count": 23
  },
  {
   "cell_type": "code",
   "outputs": [],
   "source": [
    "# We create a dataframe from the dictionaries to eventually save the results to a csv file\n",
    "df = pd.DataFrame.from_dict(weighted_scores, orient=\"index\", columns=[\"Weighted\"])\n",
    "df[\"Overall\"] = overall_scores.values()\n",
    "df[\"V_measure\"] = v_measure_scores.values()\n",
    "df[\"Rand\"] = rand_scores.values()\n",
    "df[\"F1\"] = [F1_scores[word] for word in df.index]\n",
    "\n",
    "df[\"Type\"] = [\"Noun\" if word in Nouns else \"Verb\" for word in df.index]\n",
    "df[\"Amount_senses\"] = amount_senses.values()\n",
    "# We add a \"F1\" column to the dataframe\n",
    "\n",
    "# We also create a separate file for the all in one cluster scores\n",
    "df_all_in_one = pd.DataFrame.from_dict(all_in_one_cluster_overall_scores, orient=\"index\", columns=[\"Overall_no_cluster\"])\n",
    "df_all_in_one[\"F1_no_cluster\"] = [F1_scores_no_cluster[word] for word in df_all_in_one.index]\n",
    "df_all_in_one[\"Type\"] = [\"Noun\" if word in Nouns else \"Verb\" for word in df_all_in_one.index]"
   ],
   "metadata": {
    "collapsed": false,
    "ExecuteTime": {
     "end_time": "2024-05-17T21:39:49.981114Z",
     "start_time": "2024-05-17T21:39:49.971894Z"
    }
   },
   "id": "8a9aabe0451dae68",
   "execution_count": 24
  },
  {
   "cell_type": "code",
   "outputs": [],
   "source": [
    "# We add a row 'Average' to the dataframes\n",
    "df_with_average = df.copy()\n",
    "df_with_average.loc[\"Average_nouns\"] = [nouns_average_weighted, nouns_average_overall, nouns_average_v_measure, nouns_average_rand, nouns_average_F1, \"\", \"\"]\n",
    "df_with_average.loc[\"Average_verbs\"] = [verbs_average_weighted, verbs_average_overall, verbs_average_v_measure, verbs_average_rand, verbs_average_F1, \"\", \"\"]\n",
    "df_with_average.loc[\"Global_average\"] = [df[\"Weighted\"].mean(), df[\"Overall\"].mean(), df[\"V_measure\"].mean(), df[\"Rand\"].mean(), df[\"F1\"].mean(), \"\", \"\"] #use the og file, no account of averages\n",
    "\n",
    "\n",
    "# As we don't make a copy, we have to calculate the mean before adding the other averages!\n",
    "df_all_in_one.loc[\"Global_average\"] = [df_all_in_one[\"Overall_no_cluster\"].mean(), df_all_in_one[\"F1_no_cluster\"].mean(), \"\",] \n",
    "df_all_in_one.loc[\"Average_nouns\"] = [nouns_average_all_in_one, nouns_average_F1_no_cluster,\"\"]\n",
    "df_all_in_one.loc[\"Average_verbs\"] = [verbs_average_all_in_one, verbs_average_F1_no_cluster,\"\"]\n"
   ],
   "metadata": {
    "collapsed": false,
    "ExecuteTime": {
     "end_time": "2024-05-17T21:39:50.378688Z",
     "start_time": "2024-05-17T21:39:50.365129Z"
    }
   },
   "id": "c4b233c369aef3ef",
   "execution_count": 25
  },
  {
   "cell_type": "code",
   "outputs": [
    {
     "data": {
      "application/vnd.plotly.v1+json": {
       "data": [
        {
         "hovertemplate": "Type=Noun<br>Weighted=%{x}<br>Overall=%{y}<br>index=%{text}<extra></extra>",
         "legendgroup": "Noun",
         "marker": {
          "color": "#636efa",
          "symbol": "circle"
         },
         "mode": "markers+text",
         "name": "Noun",
         "orientation": "v",
         "showlegend": true,
         "text": [
          "Avocat",
          "Bien",
          "Bureau",
          "Faculté",
          "Glace",
          "Souris",
          "Tour",
          "Vol"
         ],
         "x": [
          0.8035714285714286,
          0.8050551254984754,
          0.5492063492063491,
          0.8307378807378808,
          0.5560785165869911,
          0.4700915969733175,
          0.7458333333333333,
          0.7183333333333334
         ],
         "xaxis": "x",
         "y": [
          0.7380952380952381,
          0.7857142857142857,
          0.5048543689320388,
          0.7875,
          0.6422764227642277,
          0.5441176470588235,
          0.6756756756756757,
          0.6352941176470588
         ],
         "yaxis": "y",
         "type": "scatter"
        },
        {
         "hovertemplate": "Type=Verb<br>Weighted=%{x}<br>Overall=%{y}<br>index=%{text}<extra></extra>",
         "legendgroup": "Verb",
         "marker": {
          "color": "#EF553B",
          "symbol": "circle"
         },
         "mode": "markers+text",
         "name": "Verb",
         "orientation": "v",
         "showlegend": true,
         "text": [
          "Filer",
          "Supporter",
          "Tirer"
         ],
         "x": [
          0.7727561751039373,
          0.7015873015873016,
          0.38513513513513514
         ],
         "xaxis": "x",
         "y": [
          0.7916666666666666,
          0.6545454545454545,
          0.5480769230769231
         ],
         "yaxis": "y",
         "type": "scatter"
        }
       ],
       "layout": {
        "template": {
         "data": {
          "barpolar": [
           {
            "marker": {
             "line": {
              "color": "white",
              "width": 0.5
             },
             "pattern": {
              "fillmode": "overlay",
              "size": 10,
              "solidity": 0.2
             }
            },
            "type": "barpolar"
           }
          ],
          "bar": [
           {
            "error_x": {
             "color": "#2a3f5f"
            },
            "error_y": {
             "color": "#2a3f5f"
            },
            "marker": {
             "line": {
              "color": "white",
              "width": 0.5
             },
             "pattern": {
              "fillmode": "overlay",
              "size": 10,
              "solidity": 0.2
             }
            },
            "type": "bar"
           }
          ],
          "carpet": [
           {
            "aaxis": {
             "endlinecolor": "#2a3f5f",
             "gridcolor": "#C8D4E3",
             "linecolor": "#C8D4E3",
             "minorgridcolor": "#C8D4E3",
             "startlinecolor": "#2a3f5f"
            },
            "baxis": {
             "endlinecolor": "#2a3f5f",
             "gridcolor": "#C8D4E3",
             "linecolor": "#C8D4E3",
             "minorgridcolor": "#C8D4E3",
             "startlinecolor": "#2a3f5f"
            },
            "type": "carpet"
           }
          ],
          "choropleth": [
           {
            "colorbar": {
             "outlinewidth": 0,
             "ticks": ""
            },
            "type": "choropleth"
           }
          ],
          "contourcarpet": [
           {
            "colorbar": {
             "outlinewidth": 0,
             "ticks": ""
            },
            "type": "contourcarpet"
           }
          ],
          "contour": [
           {
            "colorbar": {
             "outlinewidth": 0,
             "ticks": ""
            },
            "colorscale": [
             [
              0.0,
              "#0d0887"
             ],
             [
              0.1111111111111111,
              "#46039f"
             ],
             [
              0.2222222222222222,
              "#7201a8"
             ],
             [
              0.3333333333333333,
              "#9c179e"
             ],
             [
              0.4444444444444444,
              "#bd3786"
             ],
             [
              0.5555555555555556,
              "#d8576b"
             ],
             [
              0.6666666666666666,
              "#ed7953"
             ],
             [
              0.7777777777777778,
              "#fb9f3a"
             ],
             [
              0.8888888888888888,
              "#fdca26"
             ],
             [
              1.0,
              "#f0f921"
             ]
            ],
            "type": "contour"
           }
          ],
          "heatmapgl": [
           {
            "colorbar": {
             "outlinewidth": 0,
             "ticks": ""
            },
            "colorscale": [
             [
              0.0,
              "#0d0887"
             ],
             [
              0.1111111111111111,
              "#46039f"
             ],
             [
              0.2222222222222222,
              "#7201a8"
             ],
             [
              0.3333333333333333,
              "#9c179e"
             ],
             [
              0.4444444444444444,
              "#bd3786"
             ],
             [
              0.5555555555555556,
              "#d8576b"
             ],
             [
              0.6666666666666666,
              "#ed7953"
             ],
             [
              0.7777777777777778,
              "#fb9f3a"
             ],
             [
              0.8888888888888888,
              "#fdca26"
             ],
             [
              1.0,
              "#f0f921"
             ]
            ],
            "type": "heatmapgl"
           }
          ],
          "heatmap": [
           {
            "colorbar": {
             "outlinewidth": 0,
             "ticks": ""
            },
            "colorscale": [
             [
              0.0,
              "#0d0887"
             ],
             [
              0.1111111111111111,
              "#46039f"
             ],
             [
              0.2222222222222222,
              "#7201a8"
             ],
             [
              0.3333333333333333,
              "#9c179e"
             ],
             [
              0.4444444444444444,
              "#bd3786"
             ],
             [
              0.5555555555555556,
              "#d8576b"
             ],
             [
              0.6666666666666666,
              "#ed7953"
             ],
             [
              0.7777777777777778,
              "#fb9f3a"
             ],
             [
              0.8888888888888888,
              "#fdca26"
             ],
             [
              1.0,
              "#f0f921"
             ]
            ],
            "type": "heatmap"
           }
          ],
          "histogram2dcontour": [
           {
            "colorbar": {
             "outlinewidth": 0,
             "ticks": ""
            },
            "colorscale": [
             [
              0.0,
              "#0d0887"
             ],
             [
              0.1111111111111111,
              "#46039f"
             ],
             [
              0.2222222222222222,
              "#7201a8"
             ],
             [
              0.3333333333333333,
              "#9c179e"
             ],
             [
              0.4444444444444444,
              "#bd3786"
             ],
             [
              0.5555555555555556,
              "#d8576b"
             ],
             [
              0.6666666666666666,
              "#ed7953"
             ],
             [
              0.7777777777777778,
              "#fb9f3a"
             ],
             [
              0.8888888888888888,
              "#fdca26"
             ],
             [
              1.0,
              "#f0f921"
             ]
            ],
            "type": "histogram2dcontour"
           }
          ],
          "histogram2d": [
           {
            "colorbar": {
             "outlinewidth": 0,
             "ticks": ""
            },
            "colorscale": [
             [
              0.0,
              "#0d0887"
             ],
             [
              0.1111111111111111,
              "#46039f"
             ],
             [
              0.2222222222222222,
              "#7201a8"
             ],
             [
              0.3333333333333333,
              "#9c179e"
             ],
             [
              0.4444444444444444,
              "#bd3786"
             ],
             [
              0.5555555555555556,
              "#d8576b"
             ],
             [
              0.6666666666666666,
              "#ed7953"
             ],
             [
              0.7777777777777778,
              "#fb9f3a"
             ],
             [
              0.8888888888888888,
              "#fdca26"
             ],
             [
              1.0,
              "#f0f921"
             ]
            ],
            "type": "histogram2d"
           }
          ],
          "histogram": [
           {
            "marker": {
             "pattern": {
              "fillmode": "overlay",
              "size": 10,
              "solidity": 0.2
             }
            },
            "type": "histogram"
           }
          ],
          "mesh3d": [
           {
            "colorbar": {
             "outlinewidth": 0,
             "ticks": ""
            },
            "type": "mesh3d"
           }
          ],
          "parcoords": [
           {
            "line": {
             "colorbar": {
              "outlinewidth": 0,
              "ticks": ""
             }
            },
            "type": "parcoords"
           }
          ],
          "pie": [
           {
            "automargin": true,
            "type": "pie"
           }
          ],
          "scatter3d": [
           {
            "line": {
             "colorbar": {
              "outlinewidth": 0,
              "ticks": ""
             }
            },
            "marker": {
             "colorbar": {
              "outlinewidth": 0,
              "ticks": ""
             }
            },
            "type": "scatter3d"
           }
          ],
          "scattercarpet": [
           {
            "marker": {
             "colorbar": {
              "outlinewidth": 0,
              "ticks": ""
             }
            },
            "type": "scattercarpet"
           }
          ],
          "scattergeo": [
           {
            "marker": {
             "colorbar": {
              "outlinewidth": 0,
              "ticks": ""
             }
            },
            "type": "scattergeo"
           }
          ],
          "scattergl": [
           {
            "marker": {
             "colorbar": {
              "outlinewidth": 0,
              "ticks": ""
             }
            },
            "type": "scattergl"
           }
          ],
          "scattermapbox": [
           {
            "marker": {
             "colorbar": {
              "outlinewidth": 0,
              "ticks": ""
             }
            },
            "type": "scattermapbox"
           }
          ],
          "scatterpolargl": [
           {
            "marker": {
             "colorbar": {
              "outlinewidth": 0,
              "ticks": ""
             }
            },
            "type": "scatterpolargl"
           }
          ],
          "scatterpolar": [
           {
            "marker": {
             "colorbar": {
              "outlinewidth": 0,
              "ticks": ""
             }
            },
            "type": "scatterpolar"
           }
          ],
          "scatter": [
           {
            "fillpattern": {
             "fillmode": "overlay",
             "size": 10,
             "solidity": 0.2
            },
            "type": "scatter"
           }
          ],
          "scatterternary": [
           {
            "marker": {
             "colorbar": {
              "outlinewidth": 0,
              "ticks": ""
             }
            },
            "type": "scatterternary"
           }
          ],
          "surface": [
           {
            "colorbar": {
             "outlinewidth": 0,
             "ticks": ""
            },
            "colorscale": [
             [
              0.0,
              "#0d0887"
             ],
             [
              0.1111111111111111,
              "#46039f"
             ],
             [
              0.2222222222222222,
              "#7201a8"
             ],
             [
              0.3333333333333333,
              "#9c179e"
             ],
             [
              0.4444444444444444,
              "#bd3786"
             ],
             [
              0.5555555555555556,
              "#d8576b"
             ],
             [
              0.6666666666666666,
              "#ed7953"
             ],
             [
              0.7777777777777778,
              "#fb9f3a"
             ],
             [
              0.8888888888888888,
              "#fdca26"
             ],
             [
              1.0,
              "#f0f921"
             ]
            ],
            "type": "surface"
           }
          ],
          "table": [
           {
            "cells": {
             "fill": {
              "color": "#EBF0F8"
             },
             "line": {
              "color": "white"
             }
            },
            "header": {
             "fill": {
              "color": "#C8D4E3"
             },
             "line": {
              "color": "white"
             }
            },
            "type": "table"
           }
          ]
         },
         "layout": {
          "annotationdefaults": {
           "arrowcolor": "#2a3f5f",
           "arrowhead": 0,
           "arrowwidth": 1
          },
          "autotypenumbers": "strict",
          "coloraxis": {
           "colorbar": {
            "outlinewidth": 0,
            "ticks": ""
           }
          },
          "colorscale": {
           "diverging": [
            [
             0,
             "#8e0152"
            ],
            [
             0.1,
             "#c51b7d"
            ],
            [
             0.2,
             "#de77ae"
            ],
            [
             0.3,
             "#f1b6da"
            ],
            [
             0.4,
             "#fde0ef"
            ],
            [
             0.5,
             "#f7f7f7"
            ],
            [
             0.6,
             "#e6f5d0"
            ],
            [
             0.7,
             "#b8e186"
            ],
            [
             0.8,
             "#7fbc41"
            ],
            [
             0.9,
             "#4d9221"
            ],
            [
             1,
             "#276419"
            ]
           ],
           "sequential": [
            [
             0.0,
             "#0d0887"
            ],
            [
             0.1111111111111111,
             "#46039f"
            ],
            [
             0.2222222222222222,
             "#7201a8"
            ],
            [
             0.3333333333333333,
             "#9c179e"
            ],
            [
             0.4444444444444444,
             "#bd3786"
            ],
            [
             0.5555555555555556,
             "#d8576b"
            ],
            [
             0.6666666666666666,
             "#ed7953"
            ],
            [
             0.7777777777777778,
             "#fb9f3a"
            ],
            [
             0.8888888888888888,
             "#fdca26"
            ],
            [
             1.0,
             "#f0f921"
            ]
           ],
           "sequentialminus": [
            [
             0.0,
             "#0d0887"
            ],
            [
             0.1111111111111111,
             "#46039f"
            ],
            [
             0.2222222222222222,
             "#7201a8"
            ],
            [
             0.3333333333333333,
             "#9c179e"
            ],
            [
             0.4444444444444444,
             "#bd3786"
            ],
            [
             0.5555555555555556,
             "#d8576b"
            ],
            [
             0.6666666666666666,
             "#ed7953"
            ],
            [
             0.7777777777777778,
             "#fb9f3a"
            ],
            [
             0.8888888888888888,
             "#fdca26"
            ],
            [
             1.0,
             "#f0f921"
            ]
           ]
          },
          "colorway": [
           "#636efa",
           "#EF553B",
           "#00cc96",
           "#ab63fa",
           "#FFA15A",
           "#19d3f3",
           "#FF6692",
           "#B6E880",
           "#FF97FF",
           "#FECB52"
          ],
          "font": {
           "color": "#2a3f5f"
          },
          "geo": {
           "bgcolor": "white",
           "lakecolor": "white",
           "landcolor": "white",
           "showlakes": true,
           "showland": true,
           "subunitcolor": "#C8D4E3"
          },
          "hoverlabel": {
           "align": "left"
          },
          "hovermode": "closest",
          "mapbox": {
           "style": "light"
          },
          "paper_bgcolor": "white",
          "plot_bgcolor": "white",
          "polar": {
           "angularaxis": {
            "gridcolor": "#EBF0F8",
            "linecolor": "#EBF0F8",
            "ticks": ""
           },
           "bgcolor": "white",
           "radialaxis": {
            "gridcolor": "#EBF0F8",
            "linecolor": "#EBF0F8",
            "ticks": ""
           }
          },
          "scene": {
           "xaxis": {
            "backgroundcolor": "white",
            "gridcolor": "#DFE8F3",
            "gridwidth": 2,
            "linecolor": "#EBF0F8",
            "showbackground": true,
            "ticks": "",
            "zerolinecolor": "#EBF0F8"
           },
           "yaxis": {
            "backgroundcolor": "white",
            "gridcolor": "#DFE8F3",
            "gridwidth": 2,
            "linecolor": "#EBF0F8",
            "showbackground": true,
            "ticks": "",
            "zerolinecolor": "#EBF0F8"
           },
           "zaxis": {
            "backgroundcolor": "white",
            "gridcolor": "#DFE8F3",
            "gridwidth": 2,
            "linecolor": "#EBF0F8",
            "showbackground": true,
            "ticks": "",
            "zerolinecolor": "#EBF0F8"
           }
          },
          "shapedefaults": {
           "line": {
            "color": "#2a3f5f"
           }
          },
          "ternary": {
           "aaxis": {
            "gridcolor": "#DFE8F3",
            "linecolor": "#A2B1C6",
            "ticks": ""
           },
           "baxis": {
            "gridcolor": "#DFE8F3",
            "linecolor": "#A2B1C6",
            "ticks": ""
           },
           "bgcolor": "white",
           "caxis": {
            "gridcolor": "#DFE8F3",
            "linecolor": "#A2B1C6",
            "ticks": ""
           }
          },
          "title": {
           "x": 0.05
          },
          "xaxis": {
           "automargin": true,
           "gridcolor": "#EBF0F8",
           "linecolor": "#EBF0F8",
           "ticks": "",
           "title": {
            "standoff": 15
           },
           "zerolinecolor": "#EBF0F8",
           "zerolinewidth": 2
          },
          "yaxis": {
           "automargin": true,
           "gridcolor": "#EBF0F8",
           "linecolor": "#EBF0F8",
           "ticks": "",
           "title": {
            "standoff": 15
           },
           "zerolinecolor": "#EBF0F8",
           "zerolinewidth": 2
          }
         }
        },
        "xaxis": {
         "anchor": "y",
         "domain": [
          0.0,
          1.0
         ],
         "title": {
          "text": "Weighted"
         }
        },
        "yaxis": {
         "anchor": "x",
         "domain": [
          0.0,
          1.0
         ],
         "title": {
          "text": "Overall"
         }
        },
        "legend": {
         "title": {
          "text": "Type"
         },
         "tracegroupgap": 0
        },
        "title": {
         "text": "Scores for each word, op een manier die weinig zegt eigenlijk"
        }
       },
       "config": {
        "plotlyServerURL": "https://plot.ly"
       }
      },
      "text/html": "<div>                            <div id=\"a1b26e31-b2d2-49c2-9427-c3dc7bd0c6b2\" class=\"plotly-graph-div\" style=\"height:525px; width:100%;\"></div>            <script type=\"text/javascript\">                require([\"plotly\"], function(Plotly) {                    window.PLOTLYENV=window.PLOTLYENV || {};                                    if (document.getElementById(\"a1b26e31-b2d2-49c2-9427-c3dc7bd0c6b2\")) {                    Plotly.newPlot(                        \"a1b26e31-b2d2-49c2-9427-c3dc7bd0c6b2\",                        [{\"hovertemplate\":\"Type=Noun\\u003cbr\\u003eWeighted=%{x}\\u003cbr\\u003eOverall=%{y}\\u003cbr\\u003eindex=%{text}\\u003cextra\\u003e\\u003c\\u002fextra\\u003e\",\"legendgroup\":\"Noun\",\"marker\":{\"color\":\"#636efa\",\"symbol\":\"circle\"},\"mode\":\"markers+text\",\"name\":\"Noun\",\"orientation\":\"v\",\"showlegend\":true,\"text\":[\"Avocat\",\"Bien\",\"Bureau\",\"Facult\\u00e9\",\"Glace\",\"Souris\",\"Tour\",\"Vol\"],\"x\":[0.8035714285714286,0.8050551254984754,0.5492063492063491,0.8307378807378808,0.5560785165869911,0.4700915969733175,0.7458333333333333,0.7183333333333334],\"xaxis\":\"x\",\"y\":[0.7380952380952381,0.7857142857142857,0.5048543689320388,0.7875,0.6422764227642277,0.5441176470588235,0.6756756756756757,0.6352941176470588],\"yaxis\":\"y\",\"type\":\"scatter\"},{\"hovertemplate\":\"Type=Verb\\u003cbr\\u003eWeighted=%{x}\\u003cbr\\u003eOverall=%{y}\\u003cbr\\u003eindex=%{text}\\u003cextra\\u003e\\u003c\\u002fextra\\u003e\",\"legendgroup\":\"Verb\",\"marker\":{\"color\":\"#EF553B\",\"symbol\":\"circle\"},\"mode\":\"markers+text\",\"name\":\"Verb\",\"orientation\":\"v\",\"showlegend\":true,\"text\":[\"Filer\",\"Supporter\",\"Tirer\"],\"x\":[0.7727561751039373,0.7015873015873016,0.38513513513513514],\"xaxis\":\"x\",\"y\":[0.7916666666666666,0.6545454545454545,0.5480769230769231],\"yaxis\":\"y\",\"type\":\"scatter\"}],                        {\"template\":{\"data\":{\"barpolar\":[{\"marker\":{\"line\":{\"color\":\"white\",\"width\":0.5},\"pattern\":{\"fillmode\":\"overlay\",\"size\":10,\"solidity\":0.2}},\"type\":\"barpolar\"}],\"bar\":[{\"error_x\":{\"color\":\"#2a3f5f\"},\"error_y\":{\"color\":\"#2a3f5f\"},\"marker\":{\"line\":{\"color\":\"white\",\"width\":0.5},\"pattern\":{\"fillmode\":\"overlay\",\"size\":10,\"solidity\":0.2}},\"type\":\"bar\"}],\"carpet\":[{\"aaxis\":{\"endlinecolor\":\"#2a3f5f\",\"gridcolor\":\"#C8D4E3\",\"linecolor\":\"#C8D4E3\",\"minorgridcolor\":\"#C8D4E3\",\"startlinecolor\":\"#2a3f5f\"},\"baxis\":{\"endlinecolor\":\"#2a3f5f\",\"gridcolor\":\"#C8D4E3\",\"linecolor\":\"#C8D4E3\",\"minorgridcolor\":\"#C8D4E3\",\"startlinecolor\":\"#2a3f5f\"},\"type\":\"carpet\"}],\"choropleth\":[{\"colorbar\":{\"outlinewidth\":0,\"ticks\":\"\"},\"type\":\"choropleth\"}],\"contourcarpet\":[{\"colorbar\":{\"outlinewidth\":0,\"ticks\":\"\"},\"type\":\"contourcarpet\"}],\"contour\":[{\"colorbar\":{\"outlinewidth\":0,\"ticks\":\"\"},\"colorscale\":[[0.0,\"#0d0887\"],[0.1111111111111111,\"#46039f\"],[0.2222222222222222,\"#7201a8\"],[0.3333333333333333,\"#9c179e\"],[0.4444444444444444,\"#bd3786\"],[0.5555555555555556,\"#d8576b\"],[0.6666666666666666,\"#ed7953\"],[0.7777777777777778,\"#fb9f3a\"],[0.8888888888888888,\"#fdca26\"],[1.0,\"#f0f921\"]],\"type\":\"contour\"}],\"heatmapgl\":[{\"colorbar\":{\"outlinewidth\":0,\"ticks\":\"\"},\"colorscale\":[[0.0,\"#0d0887\"],[0.1111111111111111,\"#46039f\"],[0.2222222222222222,\"#7201a8\"],[0.3333333333333333,\"#9c179e\"],[0.4444444444444444,\"#bd3786\"],[0.5555555555555556,\"#d8576b\"],[0.6666666666666666,\"#ed7953\"],[0.7777777777777778,\"#fb9f3a\"],[0.8888888888888888,\"#fdca26\"],[1.0,\"#f0f921\"]],\"type\":\"heatmapgl\"}],\"heatmap\":[{\"colorbar\":{\"outlinewidth\":0,\"ticks\":\"\"},\"colorscale\":[[0.0,\"#0d0887\"],[0.1111111111111111,\"#46039f\"],[0.2222222222222222,\"#7201a8\"],[0.3333333333333333,\"#9c179e\"],[0.4444444444444444,\"#bd3786\"],[0.5555555555555556,\"#d8576b\"],[0.6666666666666666,\"#ed7953\"],[0.7777777777777778,\"#fb9f3a\"],[0.8888888888888888,\"#fdca26\"],[1.0,\"#f0f921\"]],\"type\":\"heatmap\"}],\"histogram2dcontour\":[{\"colorbar\":{\"outlinewidth\":0,\"ticks\":\"\"},\"colorscale\":[[0.0,\"#0d0887\"],[0.1111111111111111,\"#46039f\"],[0.2222222222222222,\"#7201a8\"],[0.3333333333333333,\"#9c179e\"],[0.4444444444444444,\"#bd3786\"],[0.5555555555555556,\"#d8576b\"],[0.6666666666666666,\"#ed7953\"],[0.7777777777777778,\"#fb9f3a\"],[0.8888888888888888,\"#fdca26\"],[1.0,\"#f0f921\"]],\"type\":\"histogram2dcontour\"}],\"histogram2d\":[{\"colorbar\":{\"outlinewidth\":0,\"ticks\":\"\"},\"colorscale\":[[0.0,\"#0d0887\"],[0.1111111111111111,\"#46039f\"],[0.2222222222222222,\"#7201a8\"],[0.3333333333333333,\"#9c179e\"],[0.4444444444444444,\"#bd3786\"],[0.5555555555555556,\"#d8576b\"],[0.6666666666666666,\"#ed7953\"],[0.7777777777777778,\"#fb9f3a\"],[0.8888888888888888,\"#fdca26\"],[1.0,\"#f0f921\"]],\"type\":\"histogram2d\"}],\"histogram\":[{\"marker\":{\"pattern\":{\"fillmode\":\"overlay\",\"size\":10,\"solidity\":0.2}},\"type\":\"histogram\"}],\"mesh3d\":[{\"colorbar\":{\"outlinewidth\":0,\"ticks\":\"\"},\"type\":\"mesh3d\"}],\"parcoords\":[{\"line\":{\"colorbar\":{\"outlinewidth\":0,\"ticks\":\"\"}},\"type\":\"parcoords\"}],\"pie\":[{\"automargin\":true,\"type\":\"pie\"}],\"scatter3d\":[{\"line\":{\"colorbar\":{\"outlinewidth\":0,\"ticks\":\"\"}},\"marker\":{\"colorbar\":{\"outlinewidth\":0,\"ticks\":\"\"}},\"type\":\"scatter3d\"}],\"scattercarpet\":[{\"marker\":{\"colorbar\":{\"outlinewidth\":0,\"ticks\":\"\"}},\"type\":\"scattercarpet\"}],\"scattergeo\":[{\"marker\":{\"colorbar\":{\"outlinewidth\":0,\"ticks\":\"\"}},\"type\":\"scattergeo\"}],\"scattergl\":[{\"marker\":{\"colorbar\":{\"outlinewidth\":0,\"ticks\":\"\"}},\"type\":\"scattergl\"}],\"scattermapbox\":[{\"marker\":{\"colorbar\":{\"outlinewidth\":0,\"ticks\":\"\"}},\"type\":\"scattermapbox\"}],\"scatterpolargl\":[{\"marker\":{\"colorbar\":{\"outlinewidth\":0,\"ticks\":\"\"}},\"type\":\"scatterpolargl\"}],\"scatterpolar\":[{\"marker\":{\"colorbar\":{\"outlinewidth\":0,\"ticks\":\"\"}},\"type\":\"scatterpolar\"}],\"scatter\":[{\"fillpattern\":{\"fillmode\":\"overlay\",\"size\":10,\"solidity\":0.2},\"type\":\"scatter\"}],\"scatterternary\":[{\"marker\":{\"colorbar\":{\"outlinewidth\":0,\"ticks\":\"\"}},\"type\":\"scatterternary\"}],\"surface\":[{\"colorbar\":{\"outlinewidth\":0,\"ticks\":\"\"},\"colorscale\":[[0.0,\"#0d0887\"],[0.1111111111111111,\"#46039f\"],[0.2222222222222222,\"#7201a8\"],[0.3333333333333333,\"#9c179e\"],[0.4444444444444444,\"#bd3786\"],[0.5555555555555556,\"#d8576b\"],[0.6666666666666666,\"#ed7953\"],[0.7777777777777778,\"#fb9f3a\"],[0.8888888888888888,\"#fdca26\"],[1.0,\"#f0f921\"]],\"type\":\"surface\"}],\"table\":[{\"cells\":{\"fill\":{\"color\":\"#EBF0F8\"},\"line\":{\"color\":\"white\"}},\"header\":{\"fill\":{\"color\":\"#C8D4E3\"},\"line\":{\"color\":\"white\"}},\"type\":\"table\"}]},\"layout\":{\"annotationdefaults\":{\"arrowcolor\":\"#2a3f5f\",\"arrowhead\":0,\"arrowwidth\":1},\"autotypenumbers\":\"strict\",\"coloraxis\":{\"colorbar\":{\"outlinewidth\":0,\"ticks\":\"\"}},\"colorscale\":{\"diverging\":[[0,\"#8e0152\"],[0.1,\"#c51b7d\"],[0.2,\"#de77ae\"],[0.3,\"#f1b6da\"],[0.4,\"#fde0ef\"],[0.5,\"#f7f7f7\"],[0.6,\"#e6f5d0\"],[0.7,\"#b8e186\"],[0.8,\"#7fbc41\"],[0.9,\"#4d9221\"],[1,\"#276419\"]],\"sequential\":[[0.0,\"#0d0887\"],[0.1111111111111111,\"#46039f\"],[0.2222222222222222,\"#7201a8\"],[0.3333333333333333,\"#9c179e\"],[0.4444444444444444,\"#bd3786\"],[0.5555555555555556,\"#d8576b\"],[0.6666666666666666,\"#ed7953\"],[0.7777777777777778,\"#fb9f3a\"],[0.8888888888888888,\"#fdca26\"],[1.0,\"#f0f921\"]],\"sequentialminus\":[[0.0,\"#0d0887\"],[0.1111111111111111,\"#46039f\"],[0.2222222222222222,\"#7201a8\"],[0.3333333333333333,\"#9c179e\"],[0.4444444444444444,\"#bd3786\"],[0.5555555555555556,\"#d8576b\"],[0.6666666666666666,\"#ed7953\"],[0.7777777777777778,\"#fb9f3a\"],[0.8888888888888888,\"#fdca26\"],[1.0,\"#f0f921\"]]},\"colorway\":[\"#636efa\",\"#EF553B\",\"#00cc96\",\"#ab63fa\",\"#FFA15A\",\"#19d3f3\",\"#FF6692\",\"#B6E880\",\"#FF97FF\",\"#FECB52\"],\"font\":{\"color\":\"#2a3f5f\"},\"geo\":{\"bgcolor\":\"white\",\"lakecolor\":\"white\",\"landcolor\":\"white\",\"showlakes\":true,\"showland\":true,\"subunitcolor\":\"#C8D4E3\"},\"hoverlabel\":{\"align\":\"left\"},\"hovermode\":\"closest\",\"mapbox\":{\"style\":\"light\"},\"paper_bgcolor\":\"white\",\"plot_bgcolor\":\"white\",\"polar\":{\"angularaxis\":{\"gridcolor\":\"#EBF0F8\",\"linecolor\":\"#EBF0F8\",\"ticks\":\"\"},\"bgcolor\":\"white\",\"radialaxis\":{\"gridcolor\":\"#EBF0F8\",\"linecolor\":\"#EBF0F8\",\"ticks\":\"\"}},\"scene\":{\"xaxis\":{\"backgroundcolor\":\"white\",\"gridcolor\":\"#DFE8F3\",\"gridwidth\":2,\"linecolor\":\"#EBF0F8\",\"showbackground\":true,\"ticks\":\"\",\"zerolinecolor\":\"#EBF0F8\"},\"yaxis\":{\"backgroundcolor\":\"white\",\"gridcolor\":\"#DFE8F3\",\"gridwidth\":2,\"linecolor\":\"#EBF0F8\",\"showbackground\":true,\"ticks\":\"\",\"zerolinecolor\":\"#EBF0F8\"},\"zaxis\":{\"backgroundcolor\":\"white\",\"gridcolor\":\"#DFE8F3\",\"gridwidth\":2,\"linecolor\":\"#EBF0F8\",\"showbackground\":true,\"ticks\":\"\",\"zerolinecolor\":\"#EBF0F8\"}},\"shapedefaults\":{\"line\":{\"color\":\"#2a3f5f\"}},\"ternary\":{\"aaxis\":{\"gridcolor\":\"#DFE8F3\",\"linecolor\":\"#A2B1C6\",\"ticks\":\"\"},\"baxis\":{\"gridcolor\":\"#DFE8F3\",\"linecolor\":\"#A2B1C6\",\"ticks\":\"\"},\"bgcolor\":\"white\",\"caxis\":{\"gridcolor\":\"#DFE8F3\",\"linecolor\":\"#A2B1C6\",\"ticks\":\"\"}},\"title\":{\"x\":0.05},\"xaxis\":{\"automargin\":true,\"gridcolor\":\"#EBF0F8\",\"linecolor\":\"#EBF0F8\",\"ticks\":\"\",\"title\":{\"standoff\":15},\"zerolinecolor\":\"#EBF0F8\",\"zerolinewidth\":2},\"yaxis\":{\"automargin\":true,\"gridcolor\":\"#EBF0F8\",\"linecolor\":\"#EBF0F8\",\"ticks\":\"\",\"title\":{\"standoff\":15},\"zerolinecolor\":\"#EBF0F8\",\"zerolinewidth\":2}}},\"xaxis\":{\"anchor\":\"y\",\"domain\":[0.0,1.0],\"title\":{\"text\":\"Weighted\"}},\"yaxis\":{\"anchor\":\"x\",\"domain\":[0.0,1.0],\"title\":{\"text\":\"Overall\"}},\"legend\":{\"title\":{\"text\":\"Type\"},\"tracegroupgap\":0},\"title\":{\"text\":\"Scores for each word, op een manier die weinig zegt eigenlijk\"}},                        {\"responsive\": true}                    ).then(function(){\n                            \nvar gd = document.getElementById('a1b26e31-b2d2-49c2-9427-c3dc7bd0c6b2');\nvar x = new MutationObserver(function (mutations, observer) {{\n        var display = window.getComputedStyle(gd).display;\n        if (!display || display === 'none') {{\n            console.log([gd, 'removed!']);\n            Plotly.purge(gd);\n            observer.disconnect();\n        }}\n}});\n\n// Listen for the removal of the full notebook cells\nvar notebookContainer = gd.closest('#notebook-container');\nif (notebookContainer) {{\n    x.observe(notebookContainer, {childList: true});\n}}\n\n// Listen for the clearing of the current output cell\nvar outputEl = gd.closest('.output');\nif (outputEl) {{\n    x.observe(outputEl, {childList: true});\n}}\n\n                        })                };                });            </script>        </div>"
     },
     "metadata": {},
     "output_type": "display_data"
    },
    {
     "data": {
      "application/vnd.plotly.v1+json": {
       "data": [
        {
         "hovertemplate": "Type=Noun<br>V_measure=%{x}<br>F1=%{y}<br>index=%{text}<extra></extra>",
         "legendgroup": "Noun",
         "marker": {
          "color": "#636efa",
          "symbol": "circle"
         },
         "mode": "markers+text",
         "name": "Noun",
         "orientation": "v",
         "showlegend": true,
         "text": [
          "Avocat",
          "Bien",
          "Bureau",
          "Faculté",
          "Glace",
          "Souris",
          "Tour",
          "Vol"
         ],
         "x": [
          0.7402614432011363,
          0.645563121172742,
          0.26754571539523003,
          0.8261874348323801,
          0.46257276792409735,
          0.5467450019632625,
          0.7188764157564035,
          0.6144199012738755
         ],
         "xaxis": "x",
         "y": [
          0.837037037037037,
          0.8399122492065088,
          0.5522632707098727,
          0.8695861006322724,
          0.6366269187155953,
          0.6241556431184914,
          0.6831654345167859,
          0.7627935789700496
         ],
         "yaxis": "y",
         "type": "scatter"
        },
        {
         "hovertemplate": "Type=Verb<br>V_measure=%{x}<br>F1=%{y}<br>index=%{text}<extra></extra>",
         "legendgroup": "Verb",
         "marker": {
          "color": "#EF553B",
          "symbol": "circle"
         },
         "mode": "markers+text",
         "name": "Verb",
         "orientation": "v",
         "showlegend": true,
         "text": [
          "Filer",
          "Supporter",
          "Tirer"
         ],
         "x": [
          0.7631502351446774,
          0.5181330698845402,
          0.11830651983401422
         ],
         "xaxis": "x",
         "y": [
          0.878844246031746,
          0.7045634207689543,
          0.5038222646918299
         ],
         "yaxis": "y",
         "type": "scatter"
        }
       ],
       "layout": {
        "template": {
         "data": {
          "barpolar": [
           {
            "marker": {
             "line": {
              "color": "white",
              "width": 0.5
             },
             "pattern": {
              "fillmode": "overlay",
              "size": 10,
              "solidity": 0.2
             }
            },
            "type": "barpolar"
           }
          ],
          "bar": [
           {
            "error_x": {
             "color": "#2a3f5f"
            },
            "error_y": {
             "color": "#2a3f5f"
            },
            "marker": {
             "line": {
              "color": "white",
              "width": 0.5
             },
             "pattern": {
              "fillmode": "overlay",
              "size": 10,
              "solidity": 0.2
             }
            },
            "type": "bar"
           }
          ],
          "carpet": [
           {
            "aaxis": {
             "endlinecolor": "#2a3f5f",
             "gridcolor": "#C8D4E3",
             "linecolor": "#C8D4E3",
             "minorgridcolor": "#C8D4E3",
             "startlinecolor": "#2a3f5f"
            },
            "baxis": {
             "endlinecolor": "#2a3f5f",
             "gridcolor": "#C8D4E3",
             "linecolor": "#C8D4E3",
             "minorgridcolor": "#C8D4E3",
             "startlinecolor": "#2a3f5f"
            },
            "type": "carpet"
           }
          ],
          "choropleth": [
           {
            "colorbar": {
             "outlinewidth": 0,
             "ticks": ""
            },
            "type": "choropleth"
           }
          ],
          "contourcarpet": [
           {
            "colorbar": {
             "outlinewidth": 0,
             "ticks": ""
            },
            "type": "contourcarpet"
           }
          ],
          "contour": [
           {
            "colorbar": {
             "outlinewidth": 0,
             "ticks": ""
            },
            "colorscale": [
             [
              0.0,
              "#0d0887"
             ],
             [
              0.1111111111111111,
              "#46039f"
             ],
             [
              0.2222222222222222,
              "#7201a8"
             ],
             [
              0.3333333333333333,
              "#9c179e"
             ],
             [
              0.4444444444444444,
              "#bd3786"
             ],
             [
              0.5555555555555556,
              "#d8576b"
             ],
             [
              0.6666666666666666,
              "#ed7953"
             ],
             [
              0.7777777777777778,
              "#fb9f3a"
             ],
             [
              0.8888888888888888,
              "#fdca26"
             ],
             [
              1.0,
              "#f0f921"
             ]
            ],
            "type": "contour"
           }
          ],
          "heatmapgl": [
           {
            "colorbar": {
             "outlinewidth": 0,
             "ticks": ""
            },
            "colorscale": [
             [
              0.0,
              "#0d0887"
             ],
             [
              0.1111111111111111,
              "#46039f"
             ],
             [
              0.2222222222222222,
              "#7201a8"
             ],
             [
              0.3333333333333333,
              "#9c179e"
             ],
             [
              0.4444444444444444,
              "#bd3786"
             ],
             [
              0.5555555555555556,
              "#d8576b"
             ],
             [
              0.6666666666666666,
              "#ed7953"
             ],
             [
              0.7777777777777778,
              "#fb9f3a"
             ],
             [
              0.8888888888888888,
              "#fdca26"
             ],
             [
              1.0,
              "#f0f921"
             ]
            ],
            "type": "heatmapgl"
           }
          ],
          "heatmap": [
           {
            "colorbar": {
             "outlinewidth": 0,
             "ticks": ""
            },
            "colorscale": [
             [
              0.0,
              "#0d0887"
             ],
             [
              0.1111111111111111,
              "#46039f"
             ],
             [
              0.2222222222222222,
              "#7201a8"
             ],
             [
              0.3333333333333333,
              "#9c179e"
             ],
             [
              0.4444444444444444,
              "#bd3786"
             ],
             [
              0.5555555555555556,
              "#d8576b"
             ],
             [
              0.6666666666666666,
              "#ed7953"
             ],
             [
              0.7777777777777778,
              "#fb9f3a"
             ],
             [
              0.8888888888888888,
              "#fdca26"
             ],
             [
              1.0,
              "#f0f921"
             ]
            ],
            "type": "heatmap"
           }
          ],
          "histogram2dcontour": [
           {
            "colorbar": {
             "outlinewidth": 0,
             "ticks": ""
            },
            "colorscale": [
             [
              0.0,
              "#0d0887"
             ],
             [
              0.1111111111111111,
              "#46039f"
             ],
             [
              0.2222222222222222,
              "#7201a8"
             ],
             [
              0.3333333333333333,
              "#9c179e"
             ],
             [
              0.4444444444444444,
              "#bd3786"
             ],
             [
              0.5555555555555556,
              "#d8576b"
             ],
             [
              0.6666666666666666,
              "#ed7953"
             ],
             [
              0.7777777777777778,
              "#fb9f3a"
             ],
             [
              0.8888888888888888,
              "#fdca26"
             ],
             [
              1.0,
              "#f0f921"
             ]
            ],
            "type": "histogram2dcontour"
           }
          ],
          "histogram2d": [
           {
            "colorbar": {
             "outlinewidth": 0,
             "ticks": ""
            },
            "colorscale": [
             [
              0.0,
              "#0d0887"
             ],
             [
              0.1111111111111111,
              "#46039f"
             ],
             [
              0.2222222222222222,
              "#7201a8"
             ],
             [
              0.3333333333333333,
              "#9c179e"
             ],
             [
              0.4444444444444444,
              "#bd3786"
             ],
             [
              0.5555555555555556,
              "#d8576b"
             ],
             [
              0.6666666666666666,
              "#ed7953"
             ],
             [
              0.7777777777777778,
              "#fb9f3a"
             ],
             [
              0.8888888888888888,
              "#fdca26"
             ],
             [
              1.0,
              "#f0f921"
             ]
            ],
            "type": "histogram2d"
           }
          ],
          "histogram": [
           {
            "marker": {
             "pattern": {
              "fillmode": "overlay",
              "size": 10,
              "solidity": 0.2
             }
            },
            "type": "histogram"
           }
          ],
          "mesh3d": [
           {
            "colorbar": {
             "outlinewidth": 0,
             "ticks": ""
            },
            "type": "mesh3d"
           }
          ],
          "parcoords": [
           {
            "line": {
             "colorbar": {
              "outlinewidth": 0,
              "ticks": ""
             }
            },
            "type": "parcoords"
           }
          ],
          "pie": [
           {
            "automargin": true,
            "type": "pie"
           }
          ],
          "scatter3d": [
           {
            "line": {
             "colorbar": {
              "outlinewidth": 0,
              "ticks": ""
             }
            },
            "marker": {
             "colorbar": {
              "outlinewidth": 0,
              "ticks": ""
             }
            },
            "type": "scatter3d"
           }
          ],
          "scattercarpet": [
           {
            "marker": {
             "colorbar": {
              "outlinewidth": 0,
              "ticks": ""
             }
            },
            "type": "scattercarpet"
           }
          ],
          "scattergeo": [
           {
            "marker": {
             "colorbar": {
              "outlinewidth": 0,
              "ticks": ""
             }
            },
            "type": "scattergeo"
           }
          ],
          "scattergl": [
           {
            "marker": {
             "colorbar": {
              "outlinewidth": 0,
              "ticks": ""
             }
            },
            "type": "scattergl"
           }
          ],
          "scattermapbox": [
           {
            "marker": {
             "colorbar": {
              "outlinewidth": 0,
              "ticks": ""
             }
            },
            "type": "scattermapbox"
           }
          ],
          "scatterpolargl": [
           {
            "marker": {
             "colorbar": {
              "outlinewidth": 0,
              "ticks": ""
             }
            },
            "type": "scatterpolargl"
           }
          ],
          "scatterpolar": [
           {
            "marker": {
             "colorbar": {
              "outlinewidth": 0,
              "ticks": ""
             }
            },
            "type": "scatterpolar"
           }
          ],
          "scatter": [
           {
            "fillpattern": {
             "fillmode": "overlay",
             "size": 10,
             "solidity": 0.2
            },
            "type": "scatter"
           }
          ],
          "scatterternary": [
           {
            "marker": {
             "colorbar": {
              "outlinewidth": 0,
              "ticks": ""
             }
            },
            "type": "scatterternary"
           }
          ],
          "surface": [
           {
            "colorbar": {
             "outlinewidth": 0,
             "ticks": ""
            },
            "colorscale": [
             [
              0.0,
              "#0d0887"
             ],
             [
              0.1111111111111111,
              "#46039f"
             ],
             [
              0.2222222222222222,
              "#7201a8"
             ],
             [
              0.3333333333333333,
              "#9c179e"
             ],
             [
              0.4444444444444444,
              "#bd3786"
             ],
             [
              0.5555555555555556,
              "#d8576b"
             ],
             [
              0.6666666666666666,
              "#ed7953"
             ],
             [
              0.7777777777777778,
              "#fb9f3a"
             ],
             [
              0.8888888888888888,
              "#fdca26"
             ],
             [
              1.0,
              "#f0f921"
             ]
            ],
            "type": "surface"
           }
          ],
          "table": [
           {
            "cells": {
             "fill": {
              "color": "#EBF0F8"
             },
             "line": {
              "color": "white"
             }
            },
            "header": {
             "fill": {
              "color": "#C8D4E3"
             },
             "line": {
              "color": "white"
             }
            },
            "type": "table"
           }
          ]
         },
         "layout": {
          "annotationdefaults": {
           "arrowcolor": "#2a3f5f",
           "arrowhead": 0,
           "arrowwidth": 1
          },
          "autotypenumbers": "strict",
          "coloraxis": {
           "colorbar": {
            "outlinewidth": 0,
            "ticks": ""
           }
          },
          "colorscale": {
           "diverging": [
            [
             0,
             "#8e0152"
            ],
            [
             0.1,
             "#c51b7d"
            ],
            [
             0.2,
             "#de77ae"
            ],
            [
             0.3,
             "#f1b6da"
            ],
            [
             0.4,
             "#fde0ef"
            ],
            [
             0.5,
             "#f7f7f7"
            ],
            [
             0.6,
             "#e6f5d0"
            ],
            [
             0.7,
             "#b8e186"
            ],
            [
             0.8,
             "#7fbc41"
            ],
            [
             0.9,
             "#4d9221"
            ],
            [
             1,
             "#276419"
            ]
           ],
           "sequential": [
            [
             0.0,
             "#0d0887"
            ],
            [
             0.1111111111111111,
             "#46039f"
            ],
            [
             0.2222222222222222,
             "#7201a8"
            ],
            [
             0.3333333333333333,
             "#9c179e"
            ],
            [
             0.4444444444444444,
             "#bd3786"
            ],
            [
             0.5555555555555556,
             "#d8576b"
            ],
            [
             0.6666666666666666,
             "#ed7953"
            ],
            [
             0.7777777777777778,
             "#fb9f3a"
            ],
            [
             0.8888888888888888,
             "#fdca26"
            ],
            [
             1.0,
             "#f0f921"
            ]
           ],
           "sequentialminus": [
            [
             0.0,
             "#0d0887"
            ],
            [
             0.1111111111111111,
             "#46039f"
            ],
            [
             0.2222222222222222,
             "#7201a8"
            ],
            [
             0.3333333333333333,
             "#9c179e"
            ],
            [
             0.4444444444444444,
             "#bd3786"
            ],
            [
             0.5555555555555556,
             "#d8576b"
            ],
            [
             0.6666666666666666,
             "#ed7953"
            ],
            [
             0.7777777777777778,
             "#fb9f3a"
            ],
            [
             0.8888888888888888,
             "#fdca26"
            ],
            [
             1.0,
             "#f0f921"
            ]
           ]
          },
          "colorway": [
           "#636efa",
           "#EF553B",
           "#00cc96",
           "#ab63fa",
           "#FFA15A",
           "#19d3f3",
           "#FF6692",
           "#B6E880",
           "#FF97FF",
           "#FECB52"
          ],
          "font": {
           "color": "#2a3f5f"
          },
          "geo": {
           "bgcolor": "white",
           "lakecolor": "white",
           "landcolor": "white",
           "showlakes": true,
           "showland": true,
           "subunitcolor": "#C8D4E3"
          },
          "hoverlabel": {
           "align": "left"
          },
          "hovermode": "closest",
          "mapbox": {
           "style": "light"
          },
          "paper_bgcolor": "white",
          "plot_bgcolor": "white",
          "polar": {
           "angularaxis": {
            "gridcolor": "#EBF0F8",
            "linecolor": "#EBF0F8",
            "ticks": ""
           },
           "bgcolor": "white",
           "radialaxis": {
            "gridcolor": "#EBF0F8",
            "linecolor": "#EBF0F8",
            "ticks": ""
           }
          },
          "scene": {
           "xaxis": {
            "backgroundcolor": "white",
            "gridcolor": "#DFE8F3",
            "gridwidth": 2,
            "linecolor": "#EBF0F8",
            "showbackground": true,
            "ticks": "",
            "zerolinecolor": "#EBF0F8"
           },
           "yaxis": {
            "backgroundcolor": "white",
            "gridcolor": "#DFE8F3",
            "gridwidth": 2,
            "linecolor": "#EBF0F8",
            "showbackground": true,
            "ticks": "",
            "zerolinecolor": "#EBF0F8"
           },
           "zaxis": {
            "backgroundcolor": "white",
            "gridcolor": "#DFE8F3",
            "gridwidth": 2,
            "linecolor": "#EBF0F8",
            "showbackground": true,
            "ticks": "",
            "zerolinecolor": "#EBF0F8"
           }
          },
          "shapedefaults": {
           "line": {
            "color": "#2a3f5f"
           }
          },
          "ternary": {
           "aaxis": {
            "gridcolor": "#DFE8F3",
            "linecolor": "#A2B1C6",
            "ticks": ""
           },
           "baxis": {
            "gridcolor": "#DFE8F3",
            "linecolor": "#A2B1C6",
            "ticks": ""
           },
           "bgcolor": "white",
           "caxis": {
            "gridcolor": "#DFE8F3",
            "linecolor": "#A2B1C6",
            "ticks": ""
           }
          },
          "title": {
           "x": 0.05
          },
          "xaxis": {
           "automargin": true,
           "gridcolor": "#EBF0F8",
           "linecolor": "#EBF0F8",
           "ticks": "",
           "title": {
            "standoff": 15
           },
           "zerolinecolor": "#EBF0F8",
           "zerolinewidth": 2
          },
          "yaxis": {
           "automargin": true,
           "gridcolor": "#EBF0F8",
           "linecolor": "#EBF0F8",
           "ticks": "",
           "title": {
            "standoff": 15
           },
           "zerolinecolor": "#EBF0F8",
           "zerolinewidth": 2
          }
         }
        },
        "xaxis": {
         "anchor": "y",
         "domain": [
          0.0,
          1.0
         ],
         "title": {
          "text": "V_measure"
         }
        },
        "yaxis": {
         "anchor": "x",
         "domain": [
          0.0,
          1.0
         ],
         "title": {
          "text": "F1"
         }
        },
        "legend": {
         "title": {
          "text": "Type"
         },
         "tracegroupgap": 0
        },
        "title": {
         "text": "Scores for each word"
        }
       },
       "config": {
        "plotlyServerURL": "https://plot.ly"
       }
      },
      "text/html": "<div>                            <div id=\"4813aa2e-11f7-440f-8ed3-1f0b6608fcaf\" class=\"plotly-graph-div\" style=\"height:525px; width:100%;\"></div>            <script type=\"text/javascript\">                require([\"plotly\"], function(Plotly) {                    window.PLOTLYENV=window.PLOTLYENV || {};                                    if (document.getElementById(\"4813aa2e-11f7-440f-8ed3-1f0b6608fcaf\")) {                    Plotly.newPlot(                        \"4813aa2e-11f7-440f-8ed3-1f0b6608fcaf\",                        [{\"hovertemplate\":\"Type=Noun\\u003cbr\\u003eV_measure=%{x}\\u003cbr\\u003eF1=%{y}\\u003cbr\\u003eindex=%{text}\\u003cextra\\u003e\\u003c\\u002fextra\\u003e\",\"legendgroup\":\"Noun\",\"marker\":{\"color\":\"#636efa\",\"symbol\":\"circle\"},\"mode\":\"markers+text\",\"name\":\"Noun\",\"orientation\":\"v\",\"showlegend\":true,\"text\":[\"Avocat\",\"Bien\",\"Bureau\",\"Facult\\u00e9\",\"Glace\",\"Souris\",\"Tour\",\"Vol\"],\"x\":[0.7402614432011363,0.645563121172742,0.26754571539523003,0.8261874348323801,0.46257276792409735,0.5467450019632625,0.7188764157564035,0.6144199012738755],\"xaxis\":\"x\",\"y\":[0.837037037037037,0.8399122492065088,0.5522632707098727,0.8695861006322724,0.6366269187155953,0.6241556431184914,0.6831654345167859,0.7627935789700496],\"yaxis\":\"y\",\"type\":\"scatter\"},{\"hovertemplate\":\"Type=Verb\\u003cbr\\u003eV_measure=%{x}\\u003cbr\\u003eF1=%{y}\\u003cbr\\u003eindex=%{text}\\u003cextra\\u003e\\u003c\\u002fextra\\u003e\",\"legendgroup\":\"Verb\",\"marker\":{\"color\":\"#EF553B\",\"symbol\":\"circle\"},\"mode\":\"markers+text\",\"name\":\"Verb\",\"orientation\":\"v\",\"showlegend\":true,\"text\":[\"Filer\",\"Supporter\",\"Tirer\"],\"x\":[0.7631502351446774,0.5181330698845402,0.11830651983401422],\"xaxis\":\"x\",\"y\":[0.878844246031746,0.7045634207689543,0.5038222646918299],\"yaxis\":\"y\",\"type\":\"scatter\"}],                        {\"template\":{\"data\":{\"barpolar\":[{\"marker\":{\"line\":{\"color\":\"white\",\"width\":0.5},\"pattern\":{\"fillmode\":\"overlay\",\"size\":10,\"solidity\":0.2}},\"type\":\"barpolar\"}],\"bar\":[{\"error_x\":{\"color\":\"#2a3f5f\"},\"error_y\":{\"color\":\"#2a3f5f\"},\"marker\":{\"line\":{\"color\":\"white\",\"width\":0.5},\"pattern\":{\"fillmode\":\"overlay\",\"size\":10,\"solidity\":0.2}},\"type\":\"bar\"}],\"carpet\":[{\"aaxis\":{\"endlinecolor\":\"#2a3f5f\",\"gridcolor\":\"#C8D4E3\",\"linecolor\":\"#C8D4E3\",\"minorgridcolor\":\"#C8D4E3\",\"startlinecolor\":\"#2a3f5f\"},\"baxis\":{\"endlinecolor\":\"#2a3f5f\",\"gridcolor\":\"#C8D4E3\",\"linecolor\":\"#C8D4E3\",\"minorgridcolor\":\"#C8D4E3\",\"startlinecolor\":\"#2a3f5f\"},\"type\":\"carpet\"}],\"choropleth\":[{\"colorbar\":{\"outlinewidth\":0,\"ticks\":\"\"},\"type\":\"choropleth\"}],\"contourcarpet\":[{\"colorbar\":{\"outlinewidth\":0,\"ticks\":\"\"},\"type\":\"contourcarpet\"}],\"contour\":[{\"colorbar\":{\"outlinewidth\":0,\"ticks\":\"\"},\"colorscale\":[[0.0,\"#0d0887\"],[0.1111111111111111,\"#46039f\"],[0.2222222222222222,\"#7201a8\"],[0.3333333333333333,\"#9c179e\"],[0.4444444444444444,\"#bd3786\"],[0.5555555555555556,\"#d8576b\"],[0.6666666666666666,\"#ed7953\"],[0.7777777777777778,\"#fb9f3a\"],[0.8888888888888888,\"#fdca26\"],[1.0,\"#f0f921\"]],\"type\":\"contour\"}],\"heatmapgl\":[{\"colorbar\":{\"outlinewidth\":0,\"ticks\":\"\"},\"colorscale\":[[0.0,\"#0d0887\"],[0.1111111111111111,\"#46039f\"],[0.2222222222222222,\"#7201a8\"],[0.3333333333333333,\"#9c179e\"],[0.4444444444444444,\"#bd3786\"],[0.5555555555555556,\"#d8576b\"],[0.6666666666666666,\"#ed7953\"],[0.7777777777777778,\"#fb9f3a\"],[0.8888888888888888,\"#fdca26\"],[1.0,\"#f0f921\"]],\"type\":\"heatmapgl\"}],\"heatmap\":[{\"colorbar\":{\"outlinewidth\":0,\"ticks\":\"\"},\"colorscale\":[[0.0,\"#0d0887\"],[0.1111111111111111,\"#46039f\"],[0.2222222222222222,\"#7201a8\"],[0.3333333333333333,\"#9c179e\"],[0.4444444444444444,\"#bd3786\"],[0.5555555555555556,\"#d8576b\"],[0.6666666666666666,\"#ed7953\"],[0.7777777777777778,\"#fb9f3a\"],[0.8888888888888888,\"#fdca26\"],[1.0,\"#f0f921\"]],\"type\":\"heatmap\"}],\"histogram2dcontour\":[{\"colorbar\":{\"outlinewidth\":0,\"ticks\":\"\"},\"colorscale\":[[0.0,\"#0d0887\"],[0.1111111111111111,\"#46039f\"],[0.2222222222222222,\"#7201a8\"],[0.3333333333333333,\"#9c179e\"],[0.4444444444444444,\"#bd3786\"],[0.5555555555555556,\"#d8576b\"],[0.6666666666666666,\"#ed7953\"],[0.7777777777777778,\"#fb9f3a\"],[0.8888888888888888,\"#fdca26\"],[1.0,\"#f0f921\"]],\"type\":\"histogram2dcontour\"}],\"histogram2d\":[{\"colorbar\":{\"outlinewidth\":0,\"ticks\":\"\"},\"colorscale\":[[0.0,\"#0d0887\"],[0.1111111111111111,\"#46039f\"],[0.2222222222222222,\"#7201a8\"],[0.3333333333333333,\"#9c179e\"],[0.4444444444444444,\"#bd3786\"],[0.5555555555555556,\"#d8576b\"],[0.6666666666666666,\"#ed7953\"],[0.7777777777777778,\"#fb9f3a\"],[0.8888888888888888,\"#fdca26\"],[1.0,\"#f0f921\"]],\"type\":\"histogram2d\"}],\"histogram\":[{\"marker\":{\"pattern\":{\"fillmode\":\"overlay\",\"size\":10,\"solidity\":0.2}},\"type\":\"histogram\"}],\"mesh3d\":[{\"colorbar\":{\"outlinewidth\":0,\"ticks\":\"\"},\"type\":\"mesh3d\"}],\"parcoords\":[{\"line\":{\"colorbar\":{\"outlinewidth\":0,\"ticks\":\"\"}},\"type\":\"parcoords\"}],\"pie\":[{\"automargin\":true,\"type\":\"pie\"}],\"scatter3d\":[{\"line\":{\"colorbar\":{\"outlinewidth\":0,\"ticks\":\"\"}},\"marker\":{\"colorbar\":{\"outlinewidth\":0,\"ticks\":\"\"}},\"type\":\"scatter3d\"}],\"scattercarpet\":[{\"marker\":{\"colorbar\":{\"outlinewidth\":0,\"ticks\":\"\"}},\"type\":\"scattercarpet\"}],\"scattergeo\":[{\"marker\":{\"colorbar\":{\"outlinewidth\":0,\"ticks\":\"\"}},\"type\":\"scattergeo\"}],\"scattergl\":[{\"marker\":{\"colorbar\":{\"outlinewidth\":0,\"ticks\":\"\"}},\"type\":\"scattergl\"}],\"scattermapbox\":[{\"marker\":{\"colorbar\":{\"outlinewidth\":0,\"ticks\":\"\"}},\"type\":\"scattermapbox\"}],\"scatterpolargl\":[{\"marker\":{\"colorbar\":{\"outlinewidth\":0,\"ticks\":\"\"}},\"type\":\"scatterpolargl\"}],\"scatterpolar\":[{\"marker\":{\"colorbar\":{\"outlinewidth\":0,\"ticks\":\"\"}},\"type\":\"scatterpolar\"}],\"scatter\":[{\"fillpattern\":{\"fillmode\":\"overlay\",\"size\":10,\"solidity\":0.2},\"type\":\"scatter\"}],\"scatterternary\":[{\"marker\":{\"colorbar\":{\"outlinewidth\":0,\"ticks\":\"\"}},\"type\":\"scatterternary\"}],\"surface\":[{\"colorbar\":{\"outlinewidth\":0,\"ticks\":\"\"},\"colorscale\":[[0.0,\"#0d0887\"],[0.1111111111111111,\"#46039f\"],[0.2222222222222222,\"#7201a8\"],[0.3333333333333333,\"#9c179e\"],[0.4444444444444444,\"#bd3786\"],[0.5555555555555556,\"#d8576b\"],[0.6666666666666666,\"#ed7953\"],[0.7777777777777778,\"#fb9f3a\"],[0.8888888888888888,\"#fdca26\"],[1.0,\"#f0f921\"]],\"type\":\"surface\"}],\"table\":[{\"cells\":{\"fill\":{\"color\":\"#EBF0F8\"},\"line\":{\"color\":\"white\"}},\"header\":{\"fill\":{\"color\":\"#C8D4E3\"},\"line\":{\"color\":\"white\"}},\"type\":\"table\"}]},\"layout\":{\"annotationdefaults\":{\"arrowcolor\":\"#2a3f5f\",\"arrowhead\":0,\"arrowwidth\":1},\"autotypenumbers\":\"strict\",\"coloraxis\":{\"colorbar\":{\"outlinewidth\":0,\"ticks\":\"\"}},\"colorscale\":{\"diverging\":[[0,\"#8e0152\"],[0.1,\"#c51b7d\"],[0.2,\"#de77ae\"],[0.3,\"#f1b6da\"],[0.4,\"#fde0ef\"],[0.5,\"#f7f7f7\"],[0.6,\"#e6f5d0\"],[0.7,\"#b8e186\"],[0.8,\"#7fbc41\"],[0.9,\"#4d9221\"],[1,\"#276419\"]],\"sequential\":[[0.0,\"#0d0887\"],[0.1111111111111111,\"#46039f\"],[0.2222222222222222,\"#7201a8\"],[0.3333333333333333,\"#9c179e\"],[0.4444444444444444,\"#bd3786\"],[0.5555555555555556,\"#d8576b\"],[0.6666666666666666,\"#ed7953\"],[0.7777777777777778,\"#fb9f3a\"],[0.8888888888888888,\"#fdca26\"],[1.0,\"#f0f921\"]],\"sequentialminus\":[[0.0,\"#0d0887\"],[0.1111111111111111,\"#46039f\"],[0.2222222222222222,\"#7201a8\"],[0.3333333333333333,\"#9c179e\"],[0.4444444444444444,\"#bd3786\"],[0.5555555555555556,\"#d8576b\"],[0.6666666666666666,\"#ed7953\"],[0.7777777777777778,\"#fb9f3a\"],[0.8888888888888888,\"#fdca26\"],[1.0,\"#f0f921\"]]},\"colorway\":[\"#636efa\",\"#EF553B\",\"#00cc96\",\"#ab63fa\",\"#FFA15A\",\"#19d3f3\",\"#FF6692\",\"#B6E880\",\"#FF97FF\",\"#FECB52\"],\"font\":{\"color\":\"#2a3f5f\"},\"geo\":{\"bgcolor\":\"white\",\"lakecolor\":\"white\",\"landcolor\":\"white\",\"showlakes\":true,\"showland\":true,\"subunitcolor\":\"#C8D4E3\"},\"hoverlabel\":{\"align\":\"left\"},\"hovermode\":\"closest\",\"mapbox\":{\"style\":\"light\"},\"paper_bgcolor\":\"white\",\"plot_bgcolor\":\"white\",\"polar\":{\"angularaxis\":{\"gridcolor\":\"#EBF0F8\",\"linecolor\":\"#EBF0F8\",\"ticks\":\"\"},\"bgcolor\":\"white\",\"radialaxis\":{\"gridcolor\":\"#EBF0F8\",\"linecolor\":\"#EBF0F8\",\"ticks\":\"\"}},\"scene\":{\"xaxis\":{\"backgroundcolor\":\"white\",\"gridcolor\":\"#DFE8F3\",\"gridwidth\":2,\"linecolor\":\"#EBF0F8\",\"showbackground\":true,\"ticks\":\"\",\"zerolinecolor\":\"#EBF0F8\"},\"yaxis\":{\"backgroundcolor\":\"white\",\"gridcolor\":\"#DFE8F3\",\"gridwidth\":2,\"linecolor\":\"#EBF0F8\",\"showbackground\":true,\"ticks\":\"\",\"zerolinecolor\":\"#EBF0F8\"},\"zaxis\":{\"backgroundcolor\":\"white\",\"gridcolor\":\"#DFE8F3\",\"gridwidth\":2,\"linecolor\":\"#EBF0F8\",\"showbackground\":true,\"ticks\":\"\",\"zerolinecolor\":\"#EBF0F8\"}},\"shapedefaults\":{\"line\":{\"color\":\"#2a3f5f\"}},\"ternary\":{\"aaxis\":{\"gridcolor\":\"#DFE8F3\",\"linecolor\":\"#A2B1C6\",\"ticks\":\"\"},\"baxis\":{\"gridcolor\":\"#DFE8F3\",\"linecolor\":\"#A2B1C6\",\"ticks\":\"\"},\"bgcolor\":\"white\",\"caxis\":{\"gridcolor\":\"#DFE8F3\",\"linecolor\":\"#A2B1C6\",\"ticks\":\"\"}},\"title\":{\"x\":0.05},\"xaxis\":{\"automargin\":true,\"gridcolor\":\"#EBF0F8\",\"linecolor\":\"#EBF0F8\",\"ticks\":\"\",\"title\":{\"standoff\":15},\"zerolinecolor\":\"#EBF0F8\",\"zerolinewidth\":2},\"yaxis\":{\"automargin\":true,\"gridcolor\":\"#EBF0F8\",\"linecolor\":\"#EBF0F8\",\"ticks\":\"\",\"title\":{\"standoff\":15},\"zerolinecolor\":\"#EBF0F8\",\"zerolinewidth\":2}}},\"xaxis\":{\"anchor\":\"y\",\"domain\":[0.0,1.0],\"title\":{\"text\":\"V_measure\"}},\"yaxis\":{\"anchor\":\"x\",\"domain\":[0.0,1.0],\"title\":{\"text\":\"F1\"}},\"legend\":{\"title\":{\"text\":\"Type\"},\"tracegroupgap\":0},\"title\":{\"text\":\"Scores for each word\"}},                        {\"responsive\": true}                    ).then(function(){\n                            \nvar gd = document.getElementById('4813aa2e-11f7-440f-8ed3-1f0b6608fcaf');\nvar x = new MutationObserver(function (mutations, observer) {{\n        var display = window.getComputedStyle(gd).display;\n        if (!display || display === 'none') {{\n            console.log([gd, 'removed!']);\n            Plotly.purge(gd);\n            observer.disconnect();\n        }}\n}});\n\n// Listen for the removal of the full notebook cells\nvar notebookContainer = gd.closest('#notebook-container');\nif (notebookContainer) {{\n    x.observe(notebookContainer, {childList: true});\n}}\n\n// Listen for the clearing of the current output cell\nvar outputEl = gd.closest('.output');\nif (outputEl) {{\n    x.observe(outputEl, {childList: true});\n}}\n\n                        })                };                });            </script>        </div>"
     },
     "metadata": {},
     "output_type": "display_data"
    }
   ],
   "source": [
    "fig_zegt_weinig = px.scatter(df, x=\"Weighted\", y=\"Overall\", text=df.index, color=\"Type\", title=\"Scores for each word, op een manier die weinig zegt eigenlijk\",template=\"plotly_white\")\n",
    "fig_zegt_weinig.show()\n",
    "fig_zegt_weinig = px.scatter(df, x=\"Weighted\", y=\"Overall\", text=df.index, color=\"Type\", title=\"Scores for each word, op een manier die weinig zegt eigenlijk\",template=\"plotly_white\")\n",
    "fig = px.scatter(df, x=\"V_measure\", y=\"F1\", text=df.index, color=\"Type\", title=\"Scores for each word\",template=\"plotly_white\")\n",
    "fig.show()"
   ],
   "metadata": {
    "collapsed": false,
    "ExecuteTime": {
     "end_time": "2024-05-17T21:39:51.433421Z",
     "start_time": "2024-05-17T21:39:51.173925Z"
    }
   },
   "id": "9cf5576848665d34",
   "execution_count": 26
  },
  {
   "cell_type": "markdown",
   "source": [
    "# Estimating the number of clusters\n",
    "We will now calculate if the model correctly predicts the number of clusters.\n",
    "We will count the number of different manually annotated senses and compare this to the amount of generated clusters."
   ],
   "metadata": {
    "collapsed": false
   },
   "id": "c80357d060300fe0"
  },
  {
   "cell_type": "code",
   "outputs": [
    {
     "name": "stdout",
     "output_type": "stream",
     "text": [
      "Avocat\n",
      "Number of senses: 2\n",
      "Number of clusters: 3\n",
      "1 too many clusters\n",
      "Bien\n",
      "Number of senses: 3\n",
      "Number of clusters: 5\n",
      "2 too many clusters\n",
      "Bureau\n",
      "Number of senses: 3\n",
      "Number of clusters: 4\n",
      "1 too many clusters\n",
      "Faculté\n",
      "Number of senses: 3\n",
      "Number of clusters: 5\n",
      "2 too many clusters\n",
      "Filer\n",
      "Number of senses: 3\n",
      "Number of clusters: 5\n",
      "2 too many clusters\n",
      "Glace\n",
      "Number of senses: 5\n",
      "Number of clusters: 4\n",
      "1 too few clusters\n",
      "Souris\n",
      "Number of senses: 3\n",
      "Number of clusters: 6\n",
      "3 too many clusters\n",
      "Supporter\n",
      "Number of senses: 3\n",
      "Number of clusters: 5\n",
      "2 too many clusters\n",
      "Tirer\n",
      "Number of senses: 2\n",
      "Number of clusters: 2\n",
      "Correct number of clusters\n",
      "Tour\n",
      "Number of senses: 5\n",
      "Number of clusters: 7\n",
      "2 too many clusters\n",
      "Vol\n",
      "Number of senses: 2\n",
      "Number of clusters: 5\n",
      "3 too many clusters\n",
      "Correct: ['Tirer']\n",
      "Close: ['Avocat', 'Bureau', 'Glace']\n",
      "Incorrect: ['Bien', 'Faculté', 'Filer', 'Souris', 'Supporter', 'Tour', 'Vol']\n",
      "Percentage approach: 0.36363636363636365\n"
     ]
    }
   ],
   "source": [
    "correct = []\n",
    "close = [] # One cluster off, often the result of different granularity. Is it ok to report like this or do we have to be more strict?\n",
    "incorrect = []\n",
    "differences = {}\n",
    "for filename in os.listdir(f\"{model_name}/Experiment_1/Automatic/\"):\n",
    "    if filename.endswith(\".csv\"):\n",
    "        df = pd.read_csv(f\"{model_name}/Experiment_1/Automatic/\" + filename, sep=\";\", encoding=\"utf-8\", header=0)\n",
    "        target_word = df[\"source\"][1]\n",
    "        print(target_word)\n",
    "        # We count the number of different senses\n",
    "        senses = len(df[\"sense\"].unique())\n",
    "        # We count the number of clusters\n",
    "        clusters = len(df[\"cluster\"].unique())\n",
    "        print(\"Number of senses:\", senses)\n",
    "        print(\"Number of clusters:\", clusters)\n",
    "        if senses == clusters:\n",
    "            print(\"Correct number of clusters\")\n",
    "            difference = 0\n",
    "            correct.append(target_word)\n",
    "        elif senses > clusters:\n",
    "            difference = senses - clusters\n",
    "            print(difference, \"too few clusters\")\n",
    "            if difference == 1:\n",
    "                close.append(target_word)\n",
    "            else:\n",
    "                incorrect.append(target_word)\n",
    "            difference = -difference\n",
    "        elif senses < clusters:\n",
    "            difference = clusters - senses\n",
    "            print(difference, \"too many clusters\")\n",
    "            if difference == 1:\n",
    "                close.append(target_word)\n",
    "            else:\n",
    "                incorrect.append(target_word)\n",
    "                \n",
    "        differences[target_word] = difference\n",
    "        # We calculate the score\n",
    "        #print(\"Score:\", score)\n",
    "        #scores[target_word] = score\n",
    "\n",
    "print(\"Correct:\", correct)\n",
    "print(\"Close:\", close)\n",
    "print(\"Incorrect:\", incorrect)\n",
    "print(\"Percentage approach:\", (len(correct) + len(close)) / ((len(correct) + len(close) + len(incorrect))))"
   ],
   "metadata": {
    "collapsed": false,
    "ExecuteTime": {
     "end_time": "2024-05-17T21:39:52.176195Z",
     "start_time": "2024-05-17T21:39:52.136081Z"
    }
   },
   "id": "4cea3e6d1b15630a",
   "execution_count": 27
  },
  {
   "cell_type": "markdown",
   "source": [
    "**Results for Camembert:**\n",
    "Baaad (1 correct, 3 close and all the others plain wrong)\n",
    "\n",
    "**Results for Flaubert:**\n",
    "Much worse than experiment 1 (only .45 close, no exact matches)"
   ],
   "metadata": {
    "collapsed": false
   },
   "id": "88dc8d0173e2ba41"
  },
  {
   "cell_type": "code",
   "outputs": [],
   "source": [
    "# We add a \"difference\" column to the dataframe\n",
    "df_with_average[\"Cluster_Estimation\"] = [differences[word] if word in differences else \"\" for word in df_with_average.index]"
   ],
   "metadata": {
    "collapsed": false,
    "ExecuteTime": {
     "end_time": "2024-05-17T21:39:53.052886Z",
     "start_time": "2024-05-17T21:39:53.048415Z"
    }
   },
   "id": "aa822cdc9b22db56",
   "execution_count": 28
  },
  {
   "cell_type": "code",
   "outputs": [],
   "source": [
    "# We save these dataframes to a csv file\n",
    "if not os.path.exists(\"Results/Experiment_1/Automatic/\"):\n",
    "    os.makedirs(\"Results/Experiment_1/Automatic/\")\n",
    "df_with_average.to_csv(f\"Results/Experiment_1/Automatic/{model_name}_scores.csv\", sep=\";\", encoding=\"utf-8\")\n",
    "fig.write_html(f\"Results/Experiment_1/Automatic/{model_name}_scores.html\")\n",
    "df_all_in_one.to_csv(f\"Results/Experiment_1/Automatic/all_in_one_scores.csv\", sep=\";\", encoding=\"utf-8\")"
   ],
   "metadata": {
    "collapsed": false,
    "ExecuteTime": {
     "end_time": "2024-05-17T21:39:54.273492Z",
     "start_time": "2024-05-17T21:39:53.587973Z"
    }
   },
   "id": "855177f329151573",
   "execution_count": 29
  },
  {
   "cell_type": "markdown",
   "source": [
    "# Comparing the Models"
   ],
   "metadata": {
    "collapsed": false
   },
   "id": "87ea861e7fa8b754"
  },
  {
   "cell_type": "code",
   "outputs": [],
   "source": [
    "# We load in both dataframes in the \"Results\" folder\n",
    "df_camembert = pd.read_csv(\"Results/Experiment_1/Automatic/Camembert_scores.csv\", sep=\";\", encoding=\"utf-8\", index_col=0)\n",
    "df_flaubert = pd.read_csv(\"Results/Experiment_1/Automatic/Flaubert_scores.csv\", sep=\";\", encoding=\"utf-8\", index_col=0)\n",
    "\n",
    "# We add a column to both dataframes to indicate the model\n",
    "df_camembert[\"Model\"] = \"Camembert\"\n",
    "df_flaubert[\"Model\"] = \"Flaubert\"\n",
    "\n",
    "# We concatenate both dataframes\n",
    "df = pd.concat([df_camembert, df_flaubert])"
   ],
   "metadata": {
    "collapsed": false,
    "ExecuteTime": {
     "end_time": "2024-05-17T21:39:54.801132Z",
     "start_time": "2024-05-17T21:39:54.786747Z"
    }
   },
   "id": "b745d15d0368c613",
   "execution_count": 30
  },
  {
   "cell_type": "code",
   "outputs": [],
   "source": [
    "# We split the dataframe into two separate dataframes\n",
    "df_weighted = df[[\"Weighted\", \"Model\"]]\n",
    "df_overall = df[[\"Overall\", \"Model\"]]\n",
    "df_v_measure = df[[\"V_measure\", \"Model\"]]\n",
    "df_rand = df[[\"Rand\", \"Model\"]]\n",
    "df_f1 = df[[\"F1\", \"Model\"]]"
   ],
   "metadata": {
    "collapsed": false,
    "ExecuteTime": {
     "end_time": "2024-05-17T21:39:55.377794Z",
     "start_time": "2024-05-17T21:39:55.370535Z"
    }
   },
   "id": "7797faedeaa8d85f",
   "execution_count": 31
  },
  {
   "cell_type": "code",
   "outputs": [],
   "source": [
    "# We transform the dataframes:\n",
    "# - We make two columns, one for each model\n",
    "# - We regroup the instances of the same word (index) in one row\n",
    "df_weighted = df_weighted.pivot(columns=\"Model\")\n",
    "df_overall = df_overall.pivot(columns=\"Model\")\n",
    "df_v_measure = df_v_measure.pivot(columns=\"Model\")\n",
    "df_rand = df_rand.pivot(columns=\"Model\")\n",
    "df_f1 = df_f1.pivot(columns=\"Model\")"
   ],
   "metadata": {
    "collapsed": false,
    "ExecuteTime": {
     "end_time": "2024-05-17T21:39:55.812470Z",
     "start_time": "2024-05-17T21:39:55.794440Z"
    }
   },
   "id": "528f8ddae5fac988",
   "execution_count": 32
  },
  {
   "cell_type": "code",
   "outputs": [],
   "source": [
    "# We save this dataframe to a csv file and to excel\n",
    "\n",
    "df_weighted.to_csv(\"Results/Experiment_1/Automatic/weighted_scores.csv\", sep=\";\", encoding=\"utf-8\")\n",
    "df_overall.to_csv(\"Results/Experiment_1/Automatic/overall_scores.csv\", sep=\";\", encoding=\"utf-8\")\n",
    "df_v_measure.to_csv(\"Results/Experiment_1/Automatic/v_measure_scores.csv\", sep=\";\", encoding=\"utf-8\")\n",
    "df_rand.to_csv(\"Results/Experiment_1/Automatic/rand_scores.csv\", sep=\";\", encoding=\"utf-8\")\n",
    "df_f1.to_csv(\"Results/Experiment_1/Automatic/F1_scores.csv\", sep=\";\", encoding=\"utf-8\")\n",
    "\n",
    "df_weighted.to_excel(\"Results/Experiment_1/Automatic/weighted_scores.xlsx\")\n",
    "df_overall.to_excel(\"Results/Experiment_1/Automatic/overall_scores.xlsx\")\n",
    "df_v_measure.to_excel(\"Results/Experiment_1/Automatic/v_measure_scores.xlsx\")\n",
    "df_rand.to_excel(\"Results/Experiment_1/Automatic/rand_scores.xlsx\")\n",
    "df_f1.to_excel(\"Results/Experiment_1/Automatic/F1_scores.xlsx\")\n"
   ],
   "metadata": {
    "collapsed": false,
    "ExecuteTime": {
     "end_time": "2024-05-17T21:39:56.352633Z",
     "start_time": "2024-05-17T21:39:56.242772Z"
    }
   },
   "id": "beba4c7d95170e1b",
   "execution_count": 33
  },
  {
   "cell_type": "code",
   "outputs": [],
   "source": [
    "# using openpyxl, we open the Results/weighted_scores.xlsx file\n",
    "# we put the highest value of each row in bold\n",
    "wb = openpyxl.load_workbook(\"Results/Experiment_1/Automatic/weighted_scores.xlsx\")\n",
    "ws = wb.active\n",
    "for row in ws.iter_rows(min_row=4, max_row=ws.max_row, min_col=2, max_col=3):\n",
    "    max_value = max([cell.value for cell in row])\n",
    "    for cell in row:\n",
    "        if cell.value == max_value:\n",
    "            cell.font = openpyxl.styles.Font(bold=True)\n",
    "wb.save(\"Results/Experiment_1/Automatic/weighted_scores.xlsx\")\n",
    "\n",
    "# We do the same for the overall scores\n",
    "wb = openpyxl.load_workbook(\"Results/Experiment_1/Automatic/overall_scores.xlsx\")\n",
    "ws = wb.active\n",
    "for row in ws.iter_rows(min_row=4, max_row=ws.max_row, min_col=2, max_col=3):\n",
    "    max_value = max([cell.value for cell in row])\n",
    "    for cell in row:\n",
    "        if cell.value == max_value:\n",
    "            cell.font = openpyxl.styles.Font(bold=True)\n",
    "wb.save(\"Results/Experiment_1/Automatic/overall_scores.xlsx\")\n",
    "\n",
    "# We do the same for the v measure scores\n",
    "wb = openpyxl.load_workbook(\"Results/Experiment_1/Automatic/v_measure_scores.xlsx\")\n",
    "ws = wb.active\n",
    "for row in ws.iter_rows(min_row=4, max_row=ws.max_row, min_col=2, max_col=3):\n",
    "    max_value = max([cell.value for cell in row])\n",
    "    for cell in row:\n",
    "        if cell.value == max_value:\n",
    "            cell.font = openpyxl.styles.Font(bold=True)\n",
    "wb.save(\"Results/Experiment_1/Automatic/v_measure_scores.xlsx\")\n",
    "\n",
    "# and the same for f1 scores\n",
    "\n",
    "# We do the same for the overall scores\n",
    "wb = openpyxl.load_workbook(\"Results/Experiment_1/Automatic/F1_scores.xlsx\")\n",
    "ws = wb.active\n",
    "for row in ws.iter_rows(min_row=4, max_row=ws.max_row, min_col=2, max_col=3):\n",
    "    max_value = max([cell.value for cell in row])\n",
    "    for cell in row:\n",
    "        if cell.value == max_value:\n",
    "            cell.font = openpyxl.styles.Font(bold=True)\n",
    "wb.save(\"Results/Experiment_1/Automatic/F1_scores.xlsx\")"
   ],
   "metadata": {
    "collapsed": false,
    "ExecuteTime": {
     "end_time": "2024-05-17T21:39:56.772704Z",
     "start_time": "2024-05-17T21:39:56.684230Z"
    }
   },
   "id": "9717e412193e2974",
   "execution_count": 34
  },
  {
   "cell_type": "code",
   "outputs": [],
   "source": [
    "df.to_csv(\"Results/Experiment_1/Automatic/results.csv\", sep=\";\", encoding=\"utf-8\")"
   ],
   "metadata": {
    "collapsed": false,
    "ExecuteTime": {
     "end_time": "2024-05-17T21:39:57.164709Z",
     "start_time": "2024-05-17T21:39:57.155993Z"
    }
   },
   "id": "a7796fa72130a8ee",
   "execution_count": 35
  },
  {
   "cell_type": "code",
   "outputs": [
    {
     "data": {
      "application/vnd.plotly.v1+json": {
       "data": [
        {
         "alignmentgroup": "True",
         "hovertemplate": "Model=%{x}<br>Weighted=%{y}<extra></extra>",
         "legendgroup": "Camembert",
         "marker": {
          "color": "#636efa"
         },
         "name": "Camembert",
         "notched": false,
         "offsetgroup": "Camembert",
         "orientation": "v",
         "showlegend": true,
         "x": [
          "Camembert",
          "Camembert",
          "Camembert",
          "Camembert",
          "Camembert",
          "Camembert",
          "Camembert",
          "Camembert",
          "Camembert",
          "Camembert",
          "Camembert",
          "Camembert",
          "Camembert",
          "Camembert"
         ],
         "x0": " ",
         "xaxis": "x",
         "y": [
          0.8035714285714286,
          0.8050551254984754,
          0.5492063492063491,
          0.8307378807378808,
          0.7727561751039373,
          0.5560785165869911,
          0.4700915969733175,
          0.7015873015873016,
          0.3851351351351351,
          0.7458333333333333,
          0.7183333333333334,
          0.6848634455301387,
          0.6198262039421247,
          0.6671260160061349
         ],
         "y0": " ",
         "yaxis": "y",
         "type": "box"
        },
        {
         "alignmentgroup": "True",
         "hovertemplate": "Model=%{x}<br>Weighted=%{y}<extra></extra>",
         "legendgroup": "Flaubert",
         "marker": {
          "color": "#EF553B"
         },
         "name": "Flaubert",
         "notched": false,
         "offsetgroup": "Flaubert",
         "orientation": "v",
         "showlegend": true,
         "x": [
          "Flaubert",
          "Flaubert",
          "Flaubert",
          "Flaubert",
          "Flaubert",
          "Flaubert",
          "Flaubert",
          "Flaubert",
          "Flaubert",
          "Flaubert",
          "Flaubert",
          "Flaubert",
          "Flaubert",
          "Flaubert"
         ],
         "x0": " ",
         "xaxis": "x",
         "y": [
          0.6071428571428571,
          0.7726718273516303,
          0.4696649029982363,
          0.7383955383955384,
          0.5851797505502568,
          0.4190192669853687,
          0.5598566308243728,
          0.5722222222222223,
          0.5621621621621622,
          0.7922619047619047,
          0.9333333333333332,
          0.6615432827241552,
          0.5731880449782137,
          0.6374463997025348
         ],
         "y0": " ",
         "yaxis": "y",
         "type": "box"
        }
       ],
       "layout": {
        "template": {
         "data": {
          "barpolar": [
           {
            "marker": {
             "line": {
              "color": "white",
              "width": 0.5
             },
             "pattern": {
              "fillmode": "overlay",
              "size": 10,
              "solidity": 0.2
             }
            },
            "type": "barpolar"
           }
          ],
          "bar": [
           {
            "error_x": {
             "color": "#2a3f5f"
            },
            "error_y": {
             "color": "#2a3f5f"
            },
            "marker": {
             "line": {
              "color": "white",
              "width": 0.5
             },
             "pattern": {
              "fillmode": "overlay",
              "size": 10,
              "solidity": 0.2
             }
            },
            "type": "bar"
           }
          ],
          "carpet": [
           {
            "aaxis": {
             "endlinecolor": "#2a3f5f",
             "gridcolor": "#C8D4E3",
             "linecolor": "#C8D4E3",
             "minorgridcolor": "#C8D4E3",
             "startlinecolor": "#2a3f5f"
            },
            "baxis": {
             "endlinecolor": "#2a3f5f",
             "gridcolor": "#C8D4E3",
             "linecolor": "#C8D4E3",
             "minorgridcolor": "#C8D4E3",
             "startlinecolor": "#2a3f5f"
            },
            "type": "carpet"
           }
          ],
          "choropleth": [
           {
            "colorbar": {
             "outlinewidth": 0,
             "ticks": ""
            },
            "type": "choropleth"
           }
          ],
          "contourcarpet": [
           {
            "colorbar": {
             "outlinewidth": 0,
             "ticks": ""
            },
            "type": "contourcarpet"
           }
          ],
          "contour": [
           {
            "colorbar": {
             "outlinewidth": 0,
             "ticks": ""
            },
            "colorscale": [
             [
              0.0,
              "#0d0887"
             ],
             [
              0.1111111111111111,
              "#46039f"
             ],
             [
              0.2222222222222222,
              "#7201a8"
             ],
             [
              0.3333333333333333,
              "#9c179e"
             ],
             [
              0.4444444444444444,
              "#bd3786"
             ],
             [
              0.5555555555555556,
              "#d8576b"
             ],
             [
              0.6666666666666666,
              "#ed7953"
             ],
             [
              0.7777777777777778,
              "#fb9f3a"
             ],
             [
              0.8888888888888888,
              "#fdca26"
             ],
             [
              1.0,
              "#f0f921"
             ]
            ],
            "type": "contour"
           }
          ],
          "heatmapgl": [
           {
            "colorbar": {
             "outlinewidth": 0,
             "ticks": ""
            },
            "colorscale": [
             [
              0.0,
              "#0d0887"
             ],
             [
              0.1111111111111111,
              "#46039f"
             ],
             [
              0.2222222222222222,
              "#7201a8"
             ],
             [
              0.3333333333333333,
              "#9c179e"
             ],
             [
              0.4444444444444444,
              "#bd3786"
             ],
             [
              0.5555555555555556,
              "#d8576b"
             ],
             [
              0.6666666666666666,
              "#ed7953"
             ],
             [
              0.7777777777777778,
              "#fb9f3a"
             ],
             [
              0.8888888888888888,
              "#fdca26"
             ],
             [
              1.0,
              "#f0f921"
             ]
            ],
            "type": "heatmapgl"
           }
          ],
          "heatmap": [
           {
            "colorbar": {
             "outlinewidth": 0,
             "ticks": ""
            },
            "colorscale": [
             [
              0.0,
              "#0d0887"
             ],
             [
              0.1111111111111111,
              "#46039f"
             ],
             [
              0.2222222222222222,
              "#7201a8"
             ],
             [
              0.3333333333333333,
              "#9c179e"
             ],
             [
              0.4444444444444444,
              "#bd3786"
             ],
             [
              0.5555555555555556,
              "#d8576b"
             ],
             [
              0.6666666666666666,
              "#ed7953"
             ],
             [
              0.7777777777777778,
              "#fb9f3a"
             ],
             [
              0.8888888888888888,
              "#fdca26"
             ],
             [
              1.0,
              "#f0f921"
             ]
            ],
            "type": "heatmap"
           }
          ],
          "histogram2dcontour": [
           {
            "colorbar": {
             "outlinewidth": 0,
             "ticks": ""
            },
            "colorscale": [
             [
              0.0,
              "#0d0887"
             ],
             [
              0.1111111111111111,
              "#46039f"
             ],
             [
              0.2222222222222222,
              "#7201a8"
             ],
             [
              0.3333333333333333,
              "#9c179e"
             ],
             [
              0.4444444444444444,
              "#bd3786"
             ],
             [
              0.5555555555555556,
              "#d8576b"
             ],
             [
              0.6666666666666666,
              "#ed7953"
             ],
             [
              0.7777777777777778,
              "#fb9f3a"
             ],
             [
              0.8888888888888888,
              "#fdca26"
             ],
             [
              1.0,
              "#f0f921"
             ]
            ],
            "type": "histogram2dcontour"
           }
          ],
          "histogram2d": [
           {
            "colorbar": {
             "outlinewidth": 0,
             "ticks": ""
            },
            "colorscale": [
             [
              0.0,
              "#0d0887"
             ],
             [
              0.1111111111111111,
              "#46039f"
             ],
             [
              0.2222222222222222,
              "#7201a8"
             ],
             [
              0.3333333333333333,
              "#9c179e"
             ],
             [
              0.4444444444444444,
              "#bd3786"
             ],
             [
              0.5555555555555556,
              "#d8576b"
             ],
             [
              0.6666666666666666,
              "#ed7953"
             ],
             [
              0.7777777777777778,
              "#fb9f3a"
             ],
             [
              0.8888888888888888,
              "#fdca26"
             ],
             [
              1.0,
              "#f0f921"
             ]
            ],
            "type": "histogram2d"
           }
          ],
          "histogram": [
           {
            "marker": {
             "pattern": {
              "fillmode": "overlay",
              "size": 10,
              "solidity": 0.2
             }
            },
            "type": "histogram"
           }
          ],
          "mesh3d": [
           {
            "colorbar": {
             "outlinewidth": 0,
             "ticks": ""
            },
            "type": "mesh3d"
           }
          ],
          "parcoords": [
           {
            "line": {
             "colorbar": {
              "outlinewidth": 0,
              "ticks": ""
             }
            },
            "type": "parcoords"
           }
          ],
          "pie": [
           {
            "automargin": true,
            "type": "pie"
           }
          ],
          "scatter3d": [
           {
            "line": {
             "colorbar": {
              "outlinewidth": 0,
              "ticks": ""
             }
            },
            "marker": {
             "colorbar": {
              "outlinewidth": 0,
              "ticks": ""
             }
            },
            "type": "scatter3d"
           }
          ],
          "scattercarpet": [
           {
            "marker": {
             "colorbar": {
              "outlinewidth": 0,
              "ticks": ""
             }
            },
            "type": "scattercarpet"
           }
          ],
          "scattergeo": [
           {
            "marker": {
             "colorbar": {
              "outlinewidth": 0,
              "ticks": ""
             }
            },
            "type": "scattergeo"
           }
          ],
          "scattergl": [
           {
            "marker": {
             "colorbar": {
              "outlinewidth": 0,
              "ticks": ""
             }
            },
            "type": "scattergl"
           }
          ],
          "scattermapbox": [
           {
            "marker": {
             "colorbar": {
              "outlinewidth": 0,
              "ticks": ""
             }
            },
            "type": "scattermapbox"
           }
          ],
          "scatterpolargl": [
           {
            "marker": {
             "colorbar": {
              "outlinewidth": 0,
              "ticks": ""
             }
            },
            "type": "scatterpolargl"
           }
          ],
          "scatterpolar": [
           {
            "marker": {
             "colorbar": {
              "outlinewidth": 0,
              "ticks": ""
             }
            },
            "type": "scatterpolar"
           }
          ],
          "scatter": [
           {
            "fillpattern": {
             "fillmode": "overlay",
             "size": 10,
             "solidity": 0.2
            },
            "type": "scatter"
           }
          ],
          "scatterternary": [
           {
            "marker": {
             "colorbar": {
              "outlinewidth": 0,
              "ticks": ""
             }
            },
            "type": "scatterternary"
           }
          ],
          "surface": [
           {
            "colorbar": {
             "outlinewidth": 0,
             "ticks": ""
            },
            "colorscale": [
             [
              0.0,
              "#0d0887"
             ],
             [
              0.1111111111111111,
              "#46039f"
             ],
             [
              0.2222222222222222,
              "#7201a8"
             ],
             [
              0.3333333333333333,
              "#9c179e"
             ],
             [
              0.4444444444444444,
              "#bd3786"
             ],
             [
              0.5555555555555556,
              "#d8576b"
             ],
             [
              0.6666666666666666,
              "#ed7953"
             ],
             [
              0.7777777777777778,
              "#fb9f3a"
             ],
             [
              0.8888888888888888,
              "#fdca26"
             ],
             [
              1.0,
              "#f0f921"
             ]
            ],
            "type": "surface"
           }
          ],
          "table": [
           {
            "cells": {
             "fill": {
              "color": "#EBF0F8"
             },
             "line": {
              "color": "white"
             }
            },
            "header": {
             "fill": {
              "color": "#C8D4E3"
             },
             "line": {
              "color": "white"
             }
            },
            "type": "table"
           }
          ]
         },
         "layout": {
          "annotationdefaults": {
           "arrowcolor": "#2a3f5f",
           "arrowhead": 0,
           "arrowwidth": 1
          },
          "autotypenumbers": "strict",
          "coloraxis": {
           "colorbar": {
            "outlinewidth": 0,
            "ticks": ""
           }
          },
          "colorscale": {
           "diverging": [
            [
             0,
             "#8e0152"
            ],
            [
             0.1,
             "#c51b7d"
            ],
            [
             0.2,
             "#de77ae"
            ],
            [
             0.3,
             "#f1b6da"
            ],
            [
             0.4,
             "#fde0ef"
            ],
            [
             0.5,
             "#f7f7f7"
            ],
            [
             0.6,
             "#e6f5d0"
            ],
            [
             0.7,
             "#b8e186"
            ],
            [
             0.8,
             "#7fbc41"
            ],
            [
             0.9,
             "#4d9221"
            ],
            [
             1,
             "#276419"
            ]
           ],
           "sequential": [
            [
             0.0,
             "#0d0887"
            ],
            [
             0.1111111111111111,
             "#46039f"
            ],
            [
             0.2222222222222222,
             "#7201a8"
            ],
            [
             0.3333333333333333,
             "#9c179e"
            ],
            [
             0.4444444444444444,
             "#bd3786"
            ],
            [
             0.5555555555555556,
             "#d8576b"
            ],
            [
             0.6666666666666666,
             "#ed7953"
            ],
            [
             0.7777777777777778,
             "#fb9f3a"
            ],
            [
             0.8888888888888888,
             "#fdca26"
            ],
            [
             1.0,
             "#f0f921"
            ]
           ],
           "sequentialminus": [
            [
             0.0,
             "#0d0887"
            ],
            [
             0.1111111111111111,
             "#46039f"
            ],
            [
             0.2222222222222222,
             "#7201a8"
            ],
            [
             0.3333333333333333,
             "#9c179e"
            ],
            [
             0.4444444444444444,
             "#bd3786"
            ],
            [
             0.5555555555555556,
             "#d8576b"
            ],
            [
             0.6666666666666666,
             "#ed7953"
            ],
            [
             0.7777777777777778,
             "#fb9f3a"
            ],
            [
             0.8888888888888888,
             "#fdca26"
            ],
            [
             1.0,
             "#f0f921"
            ]
           ]
          },
          "colorway": [
           "#636efa",
           "#EF553B",
           "#00cc96",
           "#ab63fa",
           "#FFA15A",
           "#19d3f3",
           "#FF6692",
           "#B6E880",
           "#FF97FF",
           "#FECB52"
          ],
          "font": {
           "color": "#2a3f5f"
          },
          "geo": {
           "bgcolor": "white",
           "lakecolor": "white",
           "landcolor": "white",
           "showlakes": true,
           "showland": true,
           "subunitcolor": "#C8D4E3"
          },
          "hoverlabel": {
           "align": "left"
          },
          "hovermode": "closest",
          "mapbox": {
           "style": "light"
          },
          "paper_bgcolor": "white",
          "plot_bgcolor": "white",
          "polar": {
           "angularaxis": {
            "gridcolor": "#EBF0F8",
            "linecolor": "#EBF0F8",
            "ticks": ""
           },
           "bgcolor": "white",
           "radialaxis": {
            "gridcolor": "#EBF0F8",
            "linecolor": "#EBF0F8",
            "ticks": ""
           }
          },
          "scene": {
           "xaxis": {
            "backgroundcolor": "white",
            "gridcolor": "#DFE8F3",
            "gridwidth": 2,
            "linecolor": "#EBF0F8",
            "showbackground": true,
            "ticks": "",
            "zerolinecolor": "#EBF0F8"
           },
           "yaxis": {
            "backgroundcolor": "white",
            "gridcolor": "#DFE8F3",
            "gridwidth": 2,
            "linecolor": "#EBF0F8",
            "showbackground": true,
            "ticks": "",
            "zerolinecolor": "#EBF0F8"
           },
           "zaxis": {
            "backgroundcolor": "white",
            "gridcolor": "#DFE8F3",
            "gridwidth": 2,
            "linecolor": "#EBF0F8",
            "showbackground": true,
            "ticks": "",
            "zerolinecolor": "#EBF0F8"
           }
          },
          "shapedefaults": {
           "line": {
            "color": "#2a3f5f"
           }
          },
          "ternary": {
           "aaxis": {
            "gridcolor": "#DFE8F3",
            "linecolor": "#A2B1C6",
            "ticks": ""
           },
           "baxis": {
            "gridcolor": "#DFE8F3",
            "linecolor": "#A2B1C6",
            "ticks": ""
           },
           "bgcolor": "white",
           "caxis": {
            "gridcolor": "#DFE8F3",
            "linecolor": "#A2B1C6",
            "ticks": ""
           }
          },
          "title": {
           "x": 0.05
          },
          "xaxis": {
           "automargin": true,
           "gridcolor": "#EBF0F8",
           "linecolor": "#EBF0F8",
           "ticks": "",
           "title": {
            "standoff": 15
           },
           "zerolinecolor": "#EBF0F8",
           "zerolinewidth": 2
          },
          "yaxis": {
           "automargin": true,
           "gridcolor": "#EBF0F8",
           "linecolor": "#EBF0F8",
           "ticks": "",
           "title": {
            "standoff": 15
           },
           "zerolinecolor": "#EBF0F8",
           "zerolinewidth": 2
          }
         }
        },
        "xaxis": {
         "anchor": "y",
         "domain": [
          0.0,
          1.0
         ],
         "title": {
          "text": "Model"
         },
         "categoryorder": "array",
         "categoryarray": [
          "Camembert",
          "Flaubert"
         ]
        },
        "yaxis": {
         "anchor": "x",
         "domain": [
          0.0,
          1.0
         ],
         "title": {
          "text": "Weighted"
         }
        },
        "legend": {
         "title": {
          "text": "Model"
         },
         "tracegroupgap": 0
        },
        "title": {
         "text": "Weighted scores for each model"
        },
        "boxmode": "overlay",
        "showlegend": false
       },
       "config": {
        "plotlyServerURL": "https://plot.ly"
       }
      },
      "text/html": "<div>                            <div id=\"6c6af6f7-3fa4-4afe-bc49-0bf5dcf4a6c6\" class=\"plotly-graph-div\" style=\"height:525px; width:100%;\"></div>            <script type=\"text/javascript\">                require([\"plotly\"], function(Plotly) {                    window.PLOTLYENV=window.PLOTLYENV || {};                                    if (document.getElementById(\"6c6af6f7-3fa4-4afe-bc49-0bf5dcf4a6c6\")) {                    Plotly.newPlot(                        \"6c6af6f7-3fa4-4afe-bc49-0bf5dcf4a6c6\",                        [{\"alignmentgroup\":\"True\",\"hovertemplate\":\"Model=%{x}\\u003cbr\\u003eWeighted=%{y}\\u003cextra\\u003e\\u003c\\u002fextra\\u003e\",\"legendgroup\":\"Camembert\",\"marker\":{\"color\":\"#636efa\"},\"name\":\"Camembert\",\"notched\":false,\"offsetgroup\":\"Camembert\",\"orientation\":\"v\",\"showlegend\":true,\"x\":[\"Camembert\",\"Camembert\",\"Camembert\",\"Camembert\",\"Camembert\",\"Camembert\",\"Camembert\",\"Camembert\",\"Camembert\",\"Camembert\",\"Camembert\",\"Camembert\",\"Camembert\",\"Camembert\"],\"x0\":\" \",\"xaxis\":\"x\",\"y\":[0.8035714285714286,0.8050551254984754,0.5492063492063491,0.8307378807378808,0.7727561751039373,0.5560785165869911,0.4700915969733175,0.7015873015873016,0.3851351351351351,0.7458333333333333,0.7183333333333334,0.6848634455301387,0.6198262039421247,0.6671260160061349],\"y0\":\" \",\"yaxis\":\"y\",\"type\":\"box\"},{\"alignmentgroup\":\"True\",\"hovertemplate\":\"Model=%{x}\\u003cbr\\u003eWeighted=%{y}\\u003cextra\\u003e\\u003c\\u002fextra\\u003e\",\"legendgroup\":\"Flaubert\",\"marker\":{\"color\":\"#EF553B\"},\"name\":\"Flaubert\",\"notched\":false,\"offsetgroup\":\"Flaubert\",\"orientation\":\"v\",\"showlegend\":true,\"x\":[\"Flaubert\",\"Flaubert\",\"Flaubert\",\"Flaubert\",\"Flaubert\",\"Flaubert\",\"Flaubert\",\"Flaubert\",\"Flaubert\",\"Flaubert\",\"Flaubert\",\"Flaubert\",\"Flaubert\",\"Flaubert\"],\"x0\":\" \",\"xaxis\":\"x\",\"y\":[0.6071428571428571,0.7726718273516303,0.4696649029982363,0.7383955383955384,0.5851797505502568,0.4190192669853687,0.5598566308243728,0.5722222222222223,0.5621621621621622,0.7922619047619047,0.9333333333333332,0.6615432827241552,0.5731880449782137,0.6374463997025348],\"y0\":\" \",\"yaxis\":\"y\",\"type\":\"box\"}],                        {\"template\":{\"data\":{\"barpolar\":[{\"marker\":{\"line\":{\"color\":\"white\",\"width\":0.5},\"pattern\":{\"fillmode\":\"overlay\",\"size\":10,\"solidity\":0.2}},\"type\":\"barpolar\"}],\"bar\":[{\"error_x\":{\"color\":\"#2a3f5f\"},\"error_y\":{\"color\":\"#2a3f5f\"},\"marker\":{\"line\":{\"color\":\"white\",\"width\":0.5},\"pattern\":{\"fillmode\":\"overlay\",\"size\":10,\"solidity\":0.2}},\"type\":\"bar\"}],\"carpet\":[{\"aaxis\":{\"endlinecolor\":\"#2a3f5f\",\"gridcolor\":\"#C8D4E3\",\"linecolor\":\"#C8D4E3\",\"minorgridcolor\":\"#C8D4E3\",\"startlinecolor\":\"#2a3f5f\"},\"baxis\":{\"endlinecolor\":\"#2a3f5f\",\"gridcolor\":\"#C8D4E3\",\"linecolor\":\"#C8D4E3\",\"minorgridcolor\":\"#C8D4E3\",\"startlinecolor\":\"#2a3f5f\"},\"type\":\"carpet\"}],\"choropleth\":[{\"colorbar\":{\"outlinewidth\":0,\"ticks\":\"\"},\"type\":\"choropleth\"}],\"contourcarpet\":[{\"colorbar\":{\"outlinewidth\":0,\"ticks\":\"\"},\"type\":\"contourcarpet\"}],\"contour\":[{\"colorbar\":{\"outlinewidth\":0,\"ticks\":\"\"},\"colorscale\":[[0.0,\"#0d0887\"],[0.1111111111111111,\"#46039f\"],[0.2222222222222222,\"#7201a8\"],[0.3333333333333333,\"#9c179e\"],[0.4444444444444444,\"#bd3786\"],[0.5555555555555556,\"#d8576b\"],[0.6666666666666666,\"#ed7953\"],[0.7777777777777778,\"#fb9f3a\"],[0.8888888888888888,\"#fdca26\"],[1.0,\"#f0f921\"]],\"type\":\"contour\"}],\"heatmapgl\":[{\"colorbar\":{\"outlinewidth\":0,\"ticks\":\"\"},\"colorscale\":[[0.0,\"#0d0887\"],[0.1111111111111111,\"#46039f\"],[0.2222222222222222,\"#7201a8\"],[0.3333333333333333,\"#9c179e\"],[0.4444444444444444,\"#bd3786\"],[0.5555555555555556,\"#d8576b\"],[0.6666666666666666,\"#ed7953\"],[0.7777777777777778,\"#fb9f3a\"],[0.8888888888888888,\"#fdca26\"],[1.0,\"#f0f921\"]],\"type\":\"heatmapgl\"}],\"heatmap\":[{\"colorbar\":{\"outlinewidth\":0,\"ticks\":\"\"},\"colorscale\":[[0.0,\"#0d0887\"],[0.1111111111111111,\"#46039f\"],[0.2222222222222222,\"#7201a8\"],[0.3333333333333333,\"#9c179e\"],[0.4444444444444444,\"#bd3786\"],[0.5555555555555556,\"#d8576b\"],[0.6666666666666666,\"#ed7953\"],[0.7777777777777778,\"#fb9f3a\"],[0.8888888888888888,\"#fdca26\"],[1.0,\"#f0f921\"]],\"type\":\"heatmap\"}],\"histogram2dcontour\":[{\"colorbar\":{\"outlinewidth\":0,\"ticks\":\"\"},\"colorscale\":[[0.0,\"#0d0887\"],[0.1111111111111111,\"#46039f\"],[0.2222222222222222,\"#7201a8\"],[0.3333333333333333,\"#9c179e\"],[0.4444444444444444,\"#bd3786\"],[0.5555555555555556,\"#d8576b\"],[0.6666666666666666,\"#ed7953\"],[0.7777777777777778,\"#fb9f3a\"],[0.8888888888888888,\"#fdca26\"],[1.0,\"#f0f921\"]],\"type\":\"histogram2dcontour\"}],\"histogram2d\":[{\"colorbar\":{\"outlinewidth\":0,\"ticks\":\"\"},\"colorscale\":[[0.0,\"#0d0887\"],[0.1111111111111111,\"#46039f\"],[0.2222222222222222,\"#7201a8\"],[0.3333333333333333,\"#9c179e\"],[0.4444444444444444,\"#bd3786\"],[0.5555555555555556,\"#d8576b\"],[0.6666666666666666,\"#ed7953\"],[0.7777777777777778,\"#fb9f3a\"],[0.8888888888888888,\"#fdca26\"],[1.0,\"#f0f921\"]],\"type\":\"histogram2d\"}],\"histogram\":[{\"marker\":{\"pattern\":{\"fillmode\":\"overlay\",\"size\":10,\"solidity\":0.2}},\"type\":\"histogram\"}],\"mesh3d\":[{\"colorbar\":{\"outlinewidth\":0,\"ticks\":\"\"},\"type\":\"mesh3d\"}],\"parcoords\":[{\"line\":{\"colorbar\":{\"outlinewidth\":0,\"ticks\":\"\"}},\"type\":\"parcoords\"}],\"pie\":[{\"automargin\":true,\"type\":\"pie\"}],\"scatter3d\":[{\"line\":{\"colorbar\":{\"outlinewidth\":0,\"ticks\":\"\"}},\"marker\":{\"colorbar\":{\"outlinewidth\":0,\"ticks\":\"\"}},\"type\":\"scatter3d\"}],\"scattercarpet\":[{\"marker\":{\"colorbar\":{\"outlinewidth\":0,\"ticks\":\"\"}},\"type\":\"scattercarpet\"}],\"scattergeo\":[{\"marker\":{\"colorbar\":{\"outlinewidth\":0,\"ticks\":\"\"}},\"type\":\"scattergeo\"}],\"scattergl\":[{\"marker\":{\"colorbar\":{\"outlinewidth\":0,\"ticks\":\"\"}},\"type\":\"scattergl\"}],\"scattermapbox\":[{\"marker\":{\"colorbar\":{\"outlinewidth\":0,\"ticks\":\"\"}},\"type\":\"scattermapbox\"}],\"scatterpolargl\":[{\"marker\":{\"colorbar\":{\"outlinewidth\":0,\"ticks\":\"\"}},\"type\":\"scatterpolargl\"}],\"scatterpolar\":[{\"marker\":{\"colorbar\":{\"outlinewidth\":0,\"ticks\":\"\"}},\"type\":\"scatterpolar\"}],\"scatter\":[{\"fillpattern\":{\"fillmode\":\"overlay\",\"size\":10,\"solidity\":0.2},\"type\":\"scatter\"}],\"scatterternary\":[{\"marker\":{\"colorbar\":{\"outlinewidth\":0,\"ticks\":\"\"}},\"type\":\"scatterternary\"}],\"surface\":[{\"colorbar\":{\"outlinewidth\":0,\"ticks\":\"\"},\"colorscale\":[[0.0,\"#0d0887\"],[0.1111111111111111,\"#46039f\"],[0.2222222222222222,\"#7201a8\"],[0.3333333333333333,\"#9c179e\"],[0.4444444444444444,\"#bd3786\"],[0.5555555555555556,\"#d8576b\"],[0.6666666666666666,\"#ed7953\"],[0.7777777777777778,\"#fb9f3a\"],[0.8888888888888888,\"#fdca26\"],[1.0,\"#f0f921\"]],\"type\":\"surface\"}],\"table\":[{\"cells\":{\"fill\":{\"color\":\"#EBF0F8\"},\"line\":{\"color\":\"white\"}},\"header\":{\"fill\":{\"color\":\"#C8D4E3\"},\"line\":{\"color\":\"white\"}},\"type\":\"table\"}]},\"layout\":{\"annotationdefaults\":{\"arrowcolor\":\"#2a3f5f\",\"arrowhead\":0,\"arrowwidth\":1},\"autotypenumbers\":\"strict\",\"coloraxis\":{\"colorbar\":{\"outlinewidth\":0,\"ticks\":\"\"}},\"colorscale\":{\"diverging\":[[0,\"#8e0152\"],[0.1,\"#c51b7d\"],[0.2,\"#de77ae\"],[0.3,\"#f1b6da\"],[0.4,\"#fde0ef\"],[0.5,\"#f7f7f7\"],[0.6,\"#e6f5d0\"],[0.7,\"#b8e186\"],[0.8,\"#7fbc41\"],[0.9,\"#4d9221\"],[1,\"#276419\"]],\"sequential\":[[0.0,\"#0d0887\"],[0.1111111111111111,\"#46039f\"],[0.2222222222222222,\"#7201a8\"],[0.3333333333333333,\"#9c179e\"],[0.4444444444444444,\"#bd3786\"],[0.5555555555555556,\"#d8576b\"],[0.6666666666666666,\"#ed7953\"],[0.7777777777777778,\"#fb9f3a\"],[0.8888888888888888,\"#fdca26\"],[1.0,\"#f0f921\"]],\"sequentialminus\":[[0.0,\"#0d0887\"],[0.1111111111111111,\"#46039f\"],[0.2222222222222222,\"#7201a8\"],[0.3333333333333333,\"#9c179e\"],[0.4444444444444444,\"#bd3786\"],[0.5555555555555556,\"#d8576b\"],[0.6666666666666666,\"#ed7953\"],[0.7777777777777778,\"#fb9f3a\"],[0.8888888888888888,\"#fdca26\"],[1.0,\"#f0f921\"]]},\"colorway\":[\"#636efa\",\"#EF553B\",\"#00cc96\",\"#ab63fa\",\"#FFA15A\",\"#19d3f3\",\"#FF6692\",\"#B6E880\",\"#FF97FF\",\"#FECB52\"],\"font\":{\"color\":\"#2a3f5f\"},\"geo\":{\"bgcolor\":\"white\",\"lakecolor\":\"white\",\"landcolor\":\"white\",\"showlakes\":true,\"showland\":true,\"subunitcolor\":\"#C8D4E3\"},\"hoverlabel\":{\"align\":\"left\"},\"hovermode\":\"closest\",\"mapbox\":{\"style\":\"light\"},\"paper_bgcolor\":\"white\",\"plot_bgcolor\":\"white\",\"polar\":{\"angularaxis\":{\"gridcolor\":\"#EBF0F8\",\"linecolor\":\"#EBF0F8\",\"ticks\":\"\"},\"bgcolor\":\"white\",\"radialaxis\":{\"gridcolor\":\"#EBF0F8\",\"linecolor\":\"#EBF0F8\",\"ticks\":\"\"}},\"scene\":{\"xaxis\":{\"backgroundcolor\":\"white\",\"gridcolor\":\"#DFE8F3\",\"gridwidth\":2,\"linecolor\":\"#EBF0F8\",\"showbackground\":true,\"ticks\":\"\",\"zerolinecolor\":\"#EBF0F8\"},\"yaxis\":{\"backgroundcolor\":\"white\",\"gridcolor\":\"#DFE8F3\",\"gridwidth\":2,\"linecolor\":\"#EBF0F8\",\"showbackground\":true,\"ticks\":\"\",\"zerolinecolor\":\"#EBF0F8\"},\"zaxis\":{\"backgroundcolor\":\"white\",\"gridcolor\":\"#DFE8F3\",\"gridwidth\":2,\"linecolor\":\"#EBF0F8\",\"showbackground\":true,\"ticks\":\"\",\"zerolinecolor\":\"#EBF0F8\"}},\"shapedefaults\":{\"line\":{\"color\":\"#2a3f5f\"}},\"ternary\":{\"aaxis\":{\"gridcolor\":\"#DFE8F3\",\"linecolor\":\"#A2B1C6\",\"ticks\":\"\"},\"baxis\":{\"gridcolor\":\"#DFE8F3\",\"linecolor\":\"#A2B1C6\",\"ticks\":\"\"},\"bgcolor\":\"white\",\"caxis\":{\"gridcolor\":\"#DFE8F3\",\"linecolor\":\"#A2B1C6\",\"ticks\":\"\"}},\"title\":{\"x\":0.05},\"xaxis\":{\"automargin\":true,\"gridcolor\":\"#EBF0F8\",\"linecolor\":\"#EBF0F8\",\"ticks\":\"\",\"title\":{\"standoff\":15},\"zerolinecolor\":\"#EBF0F8\",\"zerolinewidth\":2},\"yaxis\":{\"automargin\":true,\"gridcolor\":\"#EBF0F8\",\"linecolor\":\"#EBF0F8\",\"ticks\":\"\",\"title\":{\"standoff\":15},\"zerolinecolor\":\"#EBF0F8\",\"zerolinewidth\":2}}},\"xaxis\":{\"anchor\":\"y\",\"domain\":[0.0,1.0],\"title\":{\"text\":\"Model\"},\"categoryorder\":\"array\",\"categoryarray\":[\"Camembert\",\"Flaubert\"]},\"yaxis\":{\"anchor\":\"x\",\"domain\":[0.0,1.0],\"title\":{\"text\":\"Weighted\"}},\"legend\":{\"title\":{\"text\":\"Model\"},\"tracegroupgap\":0},\"title\":{\"text\":\"Weighted scores for each model\"},\"boxmode\":\"overlay\",\"showlegend\":false},                        {\"responsive\": true}                    ).then(function(){\n                            \nvar gd = document.getElementById('6c6af6f7-3fa4-4afe-bc49-0bf5dcf4a6c6');\nvar x = new MutationObserver(function (mutations, observer) {{\n        var display = window.getComputedStyle(gd).display;\n        if (!display || display === 'none') {{\n            console.log([gd, 'removed!']);\n            Plotly.purge(gd);\n            observer.disconnect();\n        }}\n}});\n\n// Listen for the removal of the full notebook cells\nvar notebookContainer = gd.closest('#notebook-container');\nif (notebookContainer) {{\n    x.observe(notebookContainer, {childList: true});\n}}\n\n// Listen for the clearing of the current output cell\nvar outputEl = gd.closest('.output');\nif (outputEl) {{\n    x.observe(outputEl, {childList: true});\n}}\n\n                        })                };                });            </script>        </div>"
     },
     "metadata": {},
     "output_type": "display_data"
    },
    {
     "data": {
      "application/vnd.plotly.v1+json": {
       "data": [
        {
         "alignmentgroup": "True",
         "hovertemplate": "Model=%{x}<br>Overall=%{y}<extra></extra>",
         "legendgroup": "Camembert",
         "marker": {
          "color": "#636efa"
         },
         "name": "Camembert",
         "notched": false,
         "offsetgroup": "Camembert",
         "orientation": "v",
         "showlegend": true,
         "x": [
          "Camembert",
          "Camembert",
          "Camembert",
          "Camembert",
          "Camembert",
          "Camembert",
          "Camembert",
          "Camembert",
          "Camembert",
          "Camembert",
          "Camembert",
          "Camembert",
          "Camembert",
          "Camembert"
         ],
         "x0": " ",
         "xaxis": "x",
         "y": [
          0.7380952380952381,
          0.7857142857142857,
          0.5048543689320388,
          0.7875,
          0.7916666666666666,
          0.6422764227642277,
          0.5441176470588235,
          0.6545454545454545,
          0.5480769230769231,
          0.6756756756756757,
          0.6352941176470588,
          0.6641909694859185,
          0.6647630147630148,
          0.6643469818342175
         ],
         "y0": " ",
         "yaxis": "y",
         "type": "box"
        },
        {
         "alignmentgroup": "True",
         "hovertemplate": "Model=%{x}<br>Overall=%{y}<extra></extra>",
         "legendgroup": "Flaubert",
         "marker": {
          "color": "#EF553B"
         },
         "name": "Flaubert",
         "notched": false,
         "offsetgroup": "Flaubert",
         "orientation": "v",
         "showlegend": true,
         "x": [
          "Flaubert",
          "Flaubert",
          "Flaubert",
          "Flaubert",
          "Flaubert",
          "Flaubert",
          "Flaubert",
          "Flaubert",
          "Flaubert",
          "Flaubert",
          "Flaubert",
          "Flaubert",
          "Flaubert",
          "Flaubert"
         ],
         "x0": " ",
         "xaxis": "x",
         "y": [
          0.5357142857142857,
          0.7448979591836735,
          0.5145631067961165,
          0.6875,
          0.59375,
          0.4634146341463415,
          0.6029411764705882,
          0.5454545454545454,
          0.6730769230769231,
          0.7567567567567568,
          0.9058823529411764,
          0.6514587840011175,
          0.6040938228438228,
          0.6385410673218553
         ],
         "y0": " ",
         "yaxis": "y",
         "type": "box"
        }
       ],
       "layout": {
        "template": {
         "data": {
          "barpolar": [
           {
            "marker": {
             "line": {
              "color": "white",
              "width": 0.5
             },
             "pattern": {
              "fillmode": "overlay",
              "size": 10,
              "solidity": 0.2
             }
            },
            "type": "barpolar"
           }
          ],
          "bar": [
           {
            "error_x": {
             "color": "#2a3f5f"
            },
            "error_y": {
             "color": "#2a3f5f"
            },
            "marker": {
             "line": {
              "color": "white",
              "width": 0.5
             },
             "pattern": {
              "fillmode": "overlay",
              "size": 10,
              "solidity": 0.2
             }
            },
            "type": "bar"
           }
          ],
          "carpet": [
           {
            "aaxis": {
             "endlinecolor": "#2a3f5f",
             "gridcolor": "#C8D4E3",
             "linecolor": "#C8D4E3",
             "minorgridcolor": "#C8D4E3",
             "startlinecolor": "#2a3f5f"
            },
            "baxis": {
             "endlinecolor": "#2a3f5f",
             "gridcolor": "#C8D4E3",
             "linecolor": "#C8D4E3",
             "minorgridcolor": "#C8D4E3",
             "startlinecolor": "#2a3f5f"
            },
            "type": "carpet"
           }
          ],
          "choropleth": [
           {
            "colorbar": {
             "outlinewidth": 0,
             "ticks": ""
            },
            "type": "choropleth"
           }
          ],
          "contourcarpet": [
           {
            "colorbar": {
             "outlinewidth": 0,
             "ticks": ""
            },
            "type": "contourcarpet"
           }
          ],
          "contour": [
           {
            "colorbar": {
             "outlinewidth": 0,
             "ticks": ""
            },
            "colorscale": [
             [
              0.0,
              "#0d0887"
             ],
             [
              0.1111111111111111,
              "#46039f"
             ],
             [
              0.2222222222222222,
              "#7201a8"
             ],
             [
              0.3333333333333333,
              "#9c179e"
             ],
             [
              0.4444444444444444,
              "#bd3786"
             ],
             [
              0.5555555555555556,
              "#d8576b"
             ],
             [
              0.6666666666666666,
              "#ed7953"
             ],
             [
              0.7777777777777778,
              "#fb9f3a"
             ],
             [
              0.8888888888888888,
              "#fdca26"
             ],
             [
              1.0,
              "#f0f921"
             ]
            ],
            "type": "contour"
           }
          ],
          "heatmapgl": [
           {
            "colorbar": {
             "outlinewidth": 0,
             "ticks": ""
            },
            "colorscale": [
             [
              0.0,
              "#0d0887"
             ],
             [
              0.1111111111111111,
              "#46039f"
             ],
             [
              0.2222222222222222,
              "#7201a8"
             ],
             [
              0.3333333333333333,
              "#9c179e"
             ],
             [
              0.4444444444444444,
              "#bd3786"
             ],
             [
              0.5555555555555556,
              "#d8576b"
             ],
             [
              0.6666666666666666,
              "#ed7953"
             ],
             [
              0.7777777777777778,
              "#fb9f3a"
             ],
             [
              0.8888888888888888,
              "#fdca26"
             ],
             [
              1.0,
              "#f0f921"
             ]
            ],
            "type": "heatmapgl"
           }
          ],
          "heatmap": [
           {
            "colorbar": {
             "outlinewidth": 0,
             "ticks": ""
            },
            "colorscale": [
             [
              0.0,
              "#0d0887"
             ],
             [
              0.1111111111111111,
              "#46039f"
             ],
             [
              0.2222222222222222,
              "#7201a8"
             ],
             [
              0.3333333333333333,
              "#9c179e"
             ],
             [
              0.4444444444444444,
              "#bd3786"
             ],
             [
              0.5555555555555556,
              "#d8576b"
             ],
             [
              0.6666666666666666,
              "#ed7953"
             ],
             [
              0.7777777777777778,
              "#fb9f3a"
             ],
             [
              0.8888888888888888,
              "#fdca26"
             ],
             [
              1.0,
              "#f0f921"
             ]
            ],
            "type": "heatmap"
           }
          ],
          "histogram2dcontour": [
           {
            "colorbar": {
             "outlinewidth": 0,
             "ticks": ""
            },
            "colorscale": [
             [
              0.0,
              "#0d0887"
             ],
             [
              0.1111111111111111,
              "#46039f"
             ],
             [
              0.2222222222222222,
              "#7201a8"
             ],
             [
              0.3333333333333333,
              "#9c179e"
             ],
             [
              0.4444444444444444,
              "#bd3786"
             ],
             [
              0.5555555555555556,
              "#d8576b"
             ],
             [
              0.6666666666666666,
              "#ed7953"
             ],
             [
              0.7777777777777778,
              "#fb9f3a"
             ],
             [
              0.8888888888888888,
              "#fdca26"
             ],
             [
              1.0,
              "#f0f921"
             ]
            ],
            "type": "histogram2dcontour"
           }
          ],
          "histogram2d": [
           {
            "colorbar": {
             "outlinewidth": 0,
             "ticks": ""
            },
            "colorscale": [
             [
              0.0,
              "#0d0887"
             ],
             [
              0.1111111111111111,
              "#46039f"
             ],
             [
              0.2222222222222222,
              "#7201a8"
             ],
             [
              0.3333333333333333,
              "#9c179e"
             ],
             [
              0.4444444444444444,
              "#bd3786"
             ],
             [
              0.5555555555555556,
              "#d8576b"
             ],
             [
              0.6666666666666666,
              "#ed7953"
             ],
             [
              0.7777777777777778,
              "#fb9f3a"
             ],
             [
              0.8888888888888888,
              "#fdca26"
             ],
             [
              1.0,
              "#f0f921"
             ]
            ],
            "type": "histogram2d"
           }
          ],
          "histogram": [
           {
            "marker": {
             "pattern": {
              "fillmode": "overlay",
              "size": 10,
              "solidity": 0.2
             }
            },
            "type": "histogram"
           }
          ],
          "mesh3d": [
           {
            "colorbar": {
             "outlinewidth": 0,
             "ticks": ""
            },
            "type": "mesh3d"
           }
          ],
          "parcoords": [
           {
            "line": {
             "colorbar": {
              "outlinewidth": 0,
              "ticks": ""
             }
            },
            "type": "parcoords"
           }
          ],
          "pie": [
           {
            "automargin": true,
            "type": "pie"
           }
          ],
          "scatter3d": [
           {
            "line": {
             "colorbar": {
              "outlinewidth": 0,
              "ticks": ""
             }
            },
            "marker": {
             "colorbar": {
              "outlinewidth": 0,
              "ticks": ""
             }
            },
            "type": "scatter3d"
           }
          ],
          "scattercarpet": [
           {
            "marker": {
             "colorbar": {
              "outlinewidth": 0,
              "ticks": ""
             }
            },
            "type": "scattercarpet"
           }
          ],
          "scattergeo": [
           {
            "marker": {
             "colorbar": {
              "outlinewidth": 0,
              "ticks": ""
             }
            },
            "type": "scattergeo"
           }
          ],
          "scattergl": [
           {
            "marker": {
             "colorbar": {
              "outlinewidth": 0,
              "ticks": ""
             }
            },
            "type": "scattergl"
           }
          ],
          "scattermapbox": [
           {
            "marker": {
             "colorbar": {
              "outlinewidth": 0,
              "ticks": ""
             }
            },
            "type": "scattermapbox"
           }
          ],
          "scatterpolargl": [
           {
            "marker": {
             "colorbar": {
              "outlinewidth": 0,
              "ticks": ""
             }
            },
            "type": "scatterpolargl"
           }
          ],
          "scatterpolar": [
           {
            "marker": {
             "colorbar": {
              "outlinewidth": 0,
              "ticks": ""
             }
            },
            "type": "scatterpolar"
           }
          ],
          "scatter": [
           {
            "fillpattern": {
             "fillmode": "overlay",
             "size": 10,
             "solidity": 0.2
            },
            "type": "scatter"
           }
          ],
          "scatterternary": [
           {
            "marker": {
             "colorbar": {
              "outlinewidth": 0,
              "ticks": ""
             }
            },
            "type": "scatterternary"
           }
          ],
          "surface": [
           {
            "colorbar": {
             "outlinewidth": 0,
             "ticks": ""
            },
            "colorscale": [
             [
              0.0,
              "#0d0887"
             ],
             [
              0.1111111111111111,
              "#46039f"
             ],
             [
              0.2222222222222222,
              "#7201a8"
             ],
             [
              0.3333333333333333,
              "#9c179e"
             ],
             [
              0.4444444444444444,
              "#bd3786"
             ],
             [
              0.5555555555555556,
              "#d8576b"
             ],
             [
              0.6666666666666666,
              "#ed7953"
             ],
             [
              0.7777777777777778,
              "#fb9f3a"
             ],
             [
              0.8888888888888888,
              "#fdca26"
             ],
             [
              1.0,
              "#f0f921"
             ]
            ],
            "type": "surface"
           }
          ],
          "table": [
           {
            "cells": {
             "fill": {
              "color": "#EBF0F8"
             },
             "line": {
              "color": "white"
             }
            },
            "header": {
             "fill": {
              "color": "#C8D4E3"
             },
             "line": {
              "color": "white"
             }
            },
            "type": "table"
           }
          ]
         },
         "layout": {
          "annotationdefaults": {
           "arrowcolor": "#2a3f5f",
           "arrowhead": 0,
           "arrowwidth": 1
          },
          "autotypenumbers": "strict",
          "coloraxis": {
           "colorbar": {
            "outlinewidth": 0,
            "ticks": ""
           }
          },
          "colorscale": {
           "diverging": [
            [
             0,
             "#8e0152"
            ],
            [
             0.1,
             "#c51b7d"
            ],
            [
             0.2,
             "#de77ae"
            ],
            [
             0.3,
             "#f1b6da"
            ],
            [
             0.4,
             "#fde0ef"
            ],
            [
             0.5,
             "#f7f7f7"
            ],
            [
             0.6,
             "#e6f5d0"
            ],
            [
             0.7,
             "#b8e186"
            ],
            [
             0.8,
             "#7fbc41"
            ],
            [
             0.9,
             "#4d9221"
            ],
            [
             1,
             "#276419"
            ]
           ],
           "sequential": [
            [
             0.0,
             "#0d0887"
            ],
            [
             0.1111111111111111,
             "#46039f"
            ],
            [
             0.2222222222222222,
             "#7201a8"
            ],
            [
             0.3333333333333333,
             "#9c179e"
            ],
            [
             0.4444444444444444,
             "#bd3786"
            ],
            [
             0.5555555555555556,
             "#d8576b"
            ],
            [
             0.6666666666666666,
             "#ed7953"
            ],
            [
             0.7777777777777778,
             "#fb9f3a"
            ],
            [
             0.8888888888888888,
             "#fdca26"
            ],
            [
             1.0,
             "#f0f921"
            ]
           ],
           "sequentialminus": [
            [
             0.0,
             "#0d0887"
            ],
            [
             0.1111111111111111,
             "#46039f"
            ],
            [
             0.2222222222222222,
             "#7201a8"
            ],
            [
             0.3333333333333333,
             "#9c179e"
            ],
            [
             0.4444444444444444,
             "#bd3786"
            ],
            [
             0.5555555555555556,
             "#d8576b"
            ],
            [
             0.6666666666666666,
             "#ed7953"
            ],
            [
             0.7777777777777778,
             "#fb9f3a"
            ],
            [
             0.8888888888888888,
             "#fdca26"
            ],
            [
             1.0,
             "#f0f921"
            ]
           ]
          },
          "colorway": [
           "#636efa",
           "#EF553B",
           "#00cc96",
           "#ab63fa",
           "#FFA15A",
           "#19d3f3",
           "#FF6692",
           "#B6E880",
           "#FF97FF",
           "#FECB52"
          ],
          "font": {
           "color": "#2a3f5f"
          },
          "geo": {
           "bgcolor": "white",
           "lakecolor": "white",
           "landcolor": "white",
           "showlakes": true,
           "showland": true,
           "subunitcolor": "#C8D4E3"
          },
          "hoverlabel": {
           "align": "left"
          },
          "hovermode": "closest",
          "mapbox": {
           "style": "light"
          },
          "paper_bgcolor": "white",
          "plot_bgcolor": "white",
          "polar": {
           "angularaxis": {
            "gridcolor": "#EBF0F8",
            "linecolor": "#EBF0F8",
            "ticks": ""
           },
           "bgcolor": "white",
           "radialaxis": {
            "gridcolor": "#EBF0F8",
            "linecolor": "#EBF0F8",
            "ticks": ""
           }
          },
          "scene": {
           "xaxis": {
            "backgroundcolor": "white",
            "gridcolor": "#DFE8F3",
            "gridwidth": 2,
            "linecolor": "#EBF0F8",
            "showbackground": true,
            "ticks": "",
            "zerolinecolor": "#EBF0F8"
           },
           "yaxis": {
            "backgroundcolor": "white",
            "gridcolor": "#DFE8F3",
            "gridwidth": 2,
            "linecolor": "#EBF0F8",
            "showbackground": true,
            "ticks": "",
            "zerolinecolor": "#EBF0F8"
           },
           "zaxis": {
            "backgroundcolor": "white",
            "gridcolor": "#DFE8F3",
            "gridwidth": 2,
            "linecolor": "#EBF0F8",
            "showbackground": true,
            "ticks": "",
            "zerolinecolor": "#EBF0F8"
           }
          },
          "shapedefaults": {
           "line": {
            "color": "#2a3f5f"
           }
          },
          "ternary": {
           "aaxis": {
            "gridcolor": "#DFE8F3",
            "linecolor": "#A2B1C6",
            "ticks": ""
           },
           "baxis": {
            "gridcolor": "#DFE8F3",
            "linecolor": "#A2B1C6",
            "ticks": ""
           },
           "bgcolor": "white",
           "caxis": {
            "gridcolor": "#DFE8F3",
            "linecolor": "#A2B1C6",
            "ticks": ""
           }
          },
          "title": {
           "x": 0.05
          },
          "xaxis": {
           "automargin": true,
           "gridcolor": "#EBF0F8",
           "linecolor": "#EBF0F8",
           "ticks": "",
           "title": {
            "standoff": 15
           },
           "zerolinecolor": "#EBF0F8",
           "zerolinewidth": 2
          },
          "yaxis": {
           "automargin": true,
           "gridcolor": "#EBF0F8",
           "linecolor": "#EBF0F8",
           "ticks": "",
           "title": {
            "standoff": 15
           },
           "zerolinecolor": "#EBF0F8",
           "zerolinewidth": 2
          }
         }
        },
        "xaxis": {
         "anchor": "y",
         "domain": [
          0.0,
          1.0
         ],
         "title": {
          "text": "Model"
         },
         "categoryorder": "array",
         "categoryarray": [
          "Camembert",
          "Flaubert"
         ]
        },
        "yaxis": {
         "anchor": "x",
         "domain": [
          0.0,
          1.0
         ],
         "title": {
          "text": "Overall"
         }
        },
        "legend": {
         "title": {
          "text": "Model"
         },
         "tracegroupgap": 0
        },
        "title": {
         "text": "Overall scores for each model"
        },
        "boxmode": "overlay",
        "showlegend": false
       },
       "config": {
        "plotlyServerURL": "https://plot.ly"
       }
      },
      "text/html": "<div>                            <div id=\"16187868-a278-455a-9c52-cf8095275635\" class=\"plotly-graph-div\" style=\"height:525px; width:100%;\"></div>            <script type=\"text/javascript\">                require([\"plotly\"], function(Plotly) {                    window.PLOTLYENV=window.PLOTLYENV || {};                                    if (document.getElementById(\"16187868-a278-455a-9c52-cf8095275635\")) {                    Plotly.newPlot(                        \"16187868-a278-455a-9c52-cf8095275635\",                        [{\"alignmentgroup\":\"True\",\"hovertemplate\":\"Model=%{x}\\u003cbr\\u003eOverall=%{y}\\u003cextra\\u003e\\u003c\\u002fextra\\u003e\",\"legendgroup\":\"Camembert\",\"marker\":{\"color\":\"#636efa\"},\"name\":\"Camembert\",\"notched\":false,\"offsetgroup\":\"Camembert\",\"orientation\":\"v\",\"showlegend\":true,\"x\":[\"Camembert\",\"Camembert\",\"Camembert\",\"Camembert\",\"Camembert\",\"Camembert\",\"Camembert\",\"Camembert\",\"Camembert\",\"Camembert\",\"Camembert\",\"Camembert\",\"Camembert\",\"Camembert\"],\"x0\":\" \",\"xaxis\":\"x\",\"y\":[0.7380952380952381,0.7857142857142857,0.5048543689320388,0.7875,0.7916666666666666,0.6422764227642277,0.5441176470588235,0.6545454545454545,0.5480769230769231,0.6756756756756757,0.6352941176470588,0.6641909694859185,0.6647630147630148,0.6643469818342175],\"y0\":\" \",\"yaxis\":\"y\",\"type\":\"box\"},{\"alignmentgroup\":\"True\",\"hovertemplate\":\"Model=%{x}\\u003cbr\\u003eOverall=%{y}\\u003cextra\\u003e\\u003c\\u002fextra\\u003e\",\"legendgroup\":\"Flaubert\",\"marker\":{\"color\":\"#EF553B\"},\"name\":\"Flaubert\",\"notched\":false,\"offsetgroup\":\"Flaubert\",\"orientation\":\"v\",\"showlegend\":true,\"x\":[\"Flaubert\",\"Flaubert\",\"Flaubert\",\"Flaubert\",\"Flaubert\",\"Flaubert\",\"Flaubert\",\"Flaubert\",\"Flaubert\",\"Flaubert\",\"Flaubert\",\"Flaubert\",\"Flaubert\",\"Flaubert\"],\"x0\":\" \",\"xaxis\":\"x\",\"y\":[0.5357142857142857,0.7448979591836735,0.5145631067961165,0.6875,0.59375,0.4634146341463415,0.6029411764705882,0.5454545454545454,0.6730769230769231,0.7567567567567568,0.9058823529411764,0.6514587840011175,0.6040938228438228,0.6385410673218553],\"y0\":\" \",\"yaxis\":\"y\",\"type\":\"box\"}],                        {\"template\":{\"data\":{\"barpolar\":[{\"marker\":{\"line\":{\"color\":\"white\",\"width\":0.5},\"pattern\":{\"fillmode\":\"overlay\",\"size\":10,\"solidity\":0.2}},\"type\":\"barpolar\"}],\"bar\":[{\"error_x\":{\"color\":\"#2a3f5f\"},\"error_y\":{\"color\":\"#2a3f5f\"},\"marker\":{\"line\":{\"color\":\"white\",\"width\":0.5},\"pattern\":{\"fillmode\":\"overlay\",\"size\":10,\"solidity\":0.2}},\"type\":\"bar\"}],\"carpet\":[{\"aaxis\":{\"endlinecolor\":\"#2a3f5f\",\"gridcolor\":\"#C8D4E3\",\"linecolor\":\"#C8D4E3\",\"minorgridcolor\":\"#C8D4E3\",\"startlinecolor\":\"#2a3f5f\"},\"baxis\":{\"endlinecolor\":\"#2a3f5f\",\"gridcolor\":\"#C8D4E3\",\"linecolor\":\"#C8D4E3\",\"minorgridcolor\":\"#C8D4E3\",\"startlinecolor\":\"#2a3f5f\"},\"type\":\"carpet\"}],\"choropleth\":[{\"colorbar\":{\"outlinewidth\":0,\"ticks\":\"\"},\"type\":\"choropleth\"}],\"contourcarpet\":[{\"colorbar\":{\"outlinewidth\":0,\"ticks\":\"\"},\"type\":\"contourcarpet\"}],\"contour\":[{\"colorbar\":{\"outlinewidth\":0,\"ticks\":\"\"},\"colorscale\":[[0.0,\"#0d0887\"],[0.1111111111111111,\"#46039f\"],[0.2222222222222222,\"#7201a8\"],[0.3333333333333333,\"#9c179e\"],[0.4444444444444444,\"#bd3786\"],[0.5555555555555556,\"#d8576b\"],[0.6666666666666666,\"#ed7953\"],[0.7777777777777778,\"#fb9f3a\"],[0.8888888888888888,\"#fdca26\"],[1.0,\"#f0f921\"]],\"type\":\"contour\"}],\"heatmapgl\":[{\"colorbar\":{\"outlinewidth\":0,\"ticks\":\"\"},\"colorscale\":[[0.0,\"#0d0887\"],[0.1111111111111111,\"#46039f\"],[0.2222222222222222,\"#7201a8\"],[0.3333333333333333,\"#9c179e\"],[0.4444444444444444,\"#bd3786\"],[0.5555555555555556,\"#d8576b\"],[0.6666666666666666,\"#ed7953\"],[0.7777777777777778,\"#fb9f3a\"],[0.8888888888888888,\"#fdca26\"],[1.0,\"#f0f921\"]],\"type\":\"heatmapgl\"}],\"heatmap\":[{\"colorbar\":{\"outlinewidth\":0,\"ticks\":\"\"},\"colorscale\":[[0.0,\"#0d0887\"],[0.1111111111111111,\"#46039f\"],[0.2222222222222222,\"#7201a8\"],[0.3333333333333333,\"#9c179e\"],[0.4444444444444444,\"#bd3786\"],[0.5555555555555556,\"#d8576b\"],[0.6666666666666666,\"#ed7953\"],[0.7777777777777778,\"#fb9f3a\"],[0.8888888888888888,\"#fdca26\"],[1.0,\"#f0f921\"]],\"type\":\"heatmap\"}],\"histogram2dcontour\":[{\"colorbar\":{\"outlinewidth\":0,\"ticks\":\"\"},\"colorscale\":[[0.0,\"#0d0887\"],[0.1111111111111111,\"#46039f\"],[0.2222222222222222,\"#7201a8\"],[0.3333333333333333,\"#9c179e\"],[0.4444444444444444,\"#bd3786\"],[0.5555555555555556,\"#d8576b\"],[0.6666666666666666,\"#ed7953\"],[0.7777777777777778,\"#fb9f3a\"],[0.8888888888888888,\"#fdca26\"],[1.0,\"#f0f921\"]],\"type\":\"histogram2dcontour\"}],\"histogram2d\":[{\"colorbar\":{\"outlinewidth\":0,\"ticks\":\"\"},\"colorscale\":[[0.0,\"#0d0887\"],[0.1111111111111111,\"#46039f\"],[0.2222222222222222,\"#7201a8\"],[0.3333333333333333,\"#9c179e\"],[0.4444444444444444,\"#bd3786\"],[0.5555555555555556,\"#d8576b\"],[0.6666666666666666,\"#ed7953\"],[0.7777777777777778,\"#fb9f3a\"],[0.8888888888888888,\"#fdca26\"],[1.0,\"#f0f921\"]],\"type\":\"histogram2d\"}],\"histogram\":[{\"marker\":{\"pattern\":{\"fillmode\":\"overlay\",\"size\":10,\"solidity\":0.2}},\"type\":\"histogram\"}],\"mesh3d\":[{\"colorbar\":{\"outlinewidth\":0,\"ticks\":\"\"},\"type\":\"mesh3d\"}],\"parcoords\":[{\"line\":{\"colorbar\":{\"outlinewidth\":0,\"ticks\":\"\"}},\"type\":\"parcoords\"}],\"pie\":[{\"automargin\":true,\"type\":\"pie\"}],\"scatter3d\":[{\"line\":{\"colorbar\":{\"outlinewidth\":0,\"ticks\":\"\"}},\"marker\":{\"colorbar\":{\"outlinewidth\":0,\"ticks\":\"\"}},\"type\":\"scatter3d\"}],\"scattercarpet\":[{\"marker\":{\"colorbar\":{\"outlinewidth\":0,\"ticks\":\"\"}},\"type\":\"scattercarpet\"}],\"scattergeo\":[{\"marker\":{\"colorbar\":{\"outlinewidth\":0,\"ticks\":\"\"}},\"type\":\"scattergeo\"}],\"scattergl\":[{\"marker\":{\"colorbar\":{\"outlinewidth\":0,\"ticks\":\"\"}},\"type\":\"scattergl\"}],\"scattermapbox\":[{\"marker\":{\"colorbar\":{\"outlinewidth\":0,\"ticks\":\"\"}},\"type\":\"scattermapbox\"}],\"scatterpolargl\":[{\"marker\":{\"colorbar\":{\"outlinewidth\":0,\"ticks\":\"\"}},\"type\":\"scatterpolargl\"}],\"scatterpolar\":[{\"marker\":{\"colorbar\":{\"outlinewidth\":0,\"ticks\":\"\"}},\"type\":\"scatterpolar\"}],\"scatter\":[{\"fillpattern\":{\"fillmode\":\"overlay\",\"size\":10,\"solidity\":0.2},\"type\":\"scatter\"}],\"scatterternary\":[{\"marker\":{\"colorbar\":{\"outlinewidth\":0,\"ticks\":\"\"}},\"type\":\"scatterternary\"}],\"surface\":[{\"colorbar\":{\"outlinewidth\":0,\"ticks\":\"\"},\"colorscale\":[[0.0,\"#0d0887\"],[0.1111111111111111,\"#46039f\"],[0.2222222222222222,\"#7201a8\"],[0.3333333333333333,\"#9c179e\"],[0.4444444444444444,\"#bd3786\"],[0.5555555555555556,\"#d8576b\"],[0.6666666666666666,\"#ed7953\"],[0.7777777777777778,\"#fb9f3a\"],[0.8888888888888888,\"#fdca26\"],[1.0,\"#f0f921\"]],\"type\":\"surface\"}],\"table\":[{\"cells\":{\"fill\":{\"color\":\"#EBF0F8\"},\"line\":{\"color\":\"white\"}},\"header\":{\"fill\":{\"color\":\"#C8D4E3\"},\"line\":{\"color\":\"white\"}},\"type\":\"table\"}]},\"layout\":{\"annotationdefaults\":{\"arrowcolor\":\"#2a3f5f\",\"arrowhead\":0,\"arrowwidth\":1},\"autotypenumbers\":\"strict\",\"coloraxis\":{\"colorbar\":{\"outlinewidth\":0,\"ticks\":\"\"}},\"colorscale\":{\"diverging\":[[0,\"#8e0152\"],[0.1,\"#c51b7d\"],[0.2,\"#de77ae\"],[0.3,\"#f1b6da\"],[0.4,\"#fde0ef\"],[0.5,\"#f7f7f7\"],[0.6,\"#e6f5d0\"],[0.7,\"#b8e186\"],[0.8,\"#7fbc41\"],[0.9,\"#4d9221\"],[1,\"#276419\"]],\"sequential\":[[0.0,\"#0d0887\"],[0.1111111111111111,\"#46039f\"],[0.2222222222222222,\"#7201a8\"],[0.3333333333333333,\"#9c179e\"],[0.4444444444444444,\"#bd3786\"],[0.5555555555555556,\"#d8576b\"],[0.6666666666666666,\"#ed7953\"],[0.7777777777777778,\"#fb9f3a\"],[0.8888888888888888,\"#fdca26\"],[1.0,\"#f0f921\"]],\"sequentialminus\":[[0.0,\"#0d0887\"],[0.1111111111111111,\"#46039f\"],[0.2222222222222222,\"#7201a8\"],[0.3333333333333333,\"#9c179e\"],[0.4444444444444444,\"#bd3786\"],[0.5555555555555556,\"#d8576b\"],[0.6666666666666666,\"#ed7953\"],[0.7777777777777778,\"#fb9f3a\"],[0.8888888888888888,\"#fdca26\"],[1.0,\"#f0f921\"]]},\"colorway\":[\"#636efa\",\"#EF553B\",\"#00cc96\",\"#ab63fa\",\"#FFA15A\",\"#19d3f3\",\"#FF6692\",\"#B6E880\",\"#FF97FF\",\"#FECB52\"],\"font\":{\"color\":\"#2a3f5f\"},\"geo\":{\"bgcolor\":\"white\",\"lakecolor\":\"white\",\"landcolor\":\"white\",\"showlakes\":true,\"showland\":true,\"subunitcolor\":\"#C8D4E3\"},\"hoverlabel\":{\"align\":\"left\"},\"hovermode\":\"closest\",\"mapbox\":{\"style\":\"light\"},\"paper_bgcolor\":\"white\",\"plot_bgcolor\":\"white\",\"polar\":{\"angularaxis\":{\"gridcolor\":\"#EBF0F8\",\"linecolor\":\"#EBF0F8\",\"ticks\":\"\"},\"bgcolor\":\"white\",\"radialaxis\":{\"gridcolor\":\"#EBF0F8\",\"linecolor\":\"#EBF0F8\",\"ticks\":\"\"}},\"scene\":{\"xaxis\":{\"backgroundcolor\":\"white\",\"gridcolor\":\"#DFE8F3\",\"gridwidth\":2,\"linecolor\":\"#EBF0F8\",\"showbackground\":true,\"ticks\":\"\",\"zerolinecolor\":\"#EBF0F8\"},\"yaxis\":{\"backgroundcolor\":\"white\",\"gridcolor\":\"#DFE8F3\",\"gridwidth\":2,\"linecolor\":\"#EBF0F8\",\"showbackground\":true,\"ticks\":\"\",\"zerolinecolor\":\"#EBF0F8\"},\"zaxis\":{\"backgroundcolor\":\"white\",\"gridcolor\":\"#DFE8F3\",\"gridwidth\":2,\"linecolor\":\"#EBF0F8\",\"showbackground\":true,\"ticks\":\"\",\"zerolinecolor\":\"#EBF0F8\"}},\"shapedefaults\":{\"line\":{\"color\":\"#2a3f5f\"}},\"ternary\":{\"aaxis\":{\"gridcolor\":\"#DFE8F3\",\"linecolor\":\"#A2B1C6\",\"ticks\":\"\"},\"baxis\":{\"gridcolor\":\"#DFE8F3\",\"linecolor\":\"#A2B1C6\",\"ticks\":\"\"},\"bgcolor\":\"white\",\"caxis\":{\"gridcolor\":\"#DFE8F3\",\"linecolor\":\"#A2B1C6\",\"ticks\":\"\"}},\"title\":{\"x\":0.05},\"xaxis\":{\"automargin\":true,\"gridcolor\":\"#EBF0F8\",\"linecolor\":\"#EBF0F8\",\"ticks\":\"\",\"title\":{\"standoff\":15},\"zerolinecolor\":\"#EBF0F8\",\"zerolinewidth\":2},\"yaxis\":{\"automargin\":true,\"gridcolor\":\"#EBF0F8\",\"linecolor\":\"#EBF0F8\",\"ticks\":\"\",\"title\":{\"standoff\":15},\"zerolinecolor\":\"#EBF0F8\",\"zerolinewidth\":2}}},\"xaxis\":{\"anchor\":\"y\",\"domain\":[0.0,1.0],\"title\":{\"text\":\"Model\"},\"categoryorder\":\"array\",\"categoryarray\":[\"Camembert\",\"Flaubert\"]},\"yaxis\":{\"anchor\":\"x\",\"domain\":[0.0,1.0],\"title\":{\"text\":\"Overall\"}},\"legend\":{\"title\":{\"text\":\"Model\"},\"tracegroupgap\":0},\"title\":{\"text\":\"Overall scores for each model\"},\"boxmode\":\"overlay\",\"showlegend\":false},                        {\"responsive\": true}                    ).then(function(){\n                            \nvar gd = document.getElementById('16187868-a278-455a-9c52-cf8095275635');\nvar x = new MutationObserver(function (mutations, observer) {{\n        var display = window.getComputedStyle(gd).display;\n        if (!display || display === 'none') {{\n            console.log([gd, 'removed!']);\n            Plotly.purge(gd);\n            observer.disconnect();\n        }}\n}});\n\n// Listen for the removal of the full notebook cells\nvar notebookContainer = gd.closest('#notebook-container');\nif (notebookContainer) {{\n    x.observe(notebookContainer, {childList: true});\n}}\n\n// Listen for the clearing of the current output cell\nvar outputEl = gd.closest('.output');\nif (outputEl) {{\n    x.observe(outputEl, {childList: true});\n}}\n\n                        })                };                });            </script>        </div>"
     },
     "metadata": {},
     "output_type": "display_data"
    },
    {
     "data": {
      "application/vnd.plotly.v1+json": {
       "data": [
        {
         "alignmentgroup": "True",
         "hovertemplate": "Model=%{x}<br>V_measure=%{y}<extra></extra>",
         "legendgroup": "Camembert",
         "marker": {
          "color": "#636efa"
         },
         "name": "Camembert",
         "notched": false,
         "offsetgroup": "Camembert",
         "orientation": "v",
         "showlegend": true,
         "x": [
          "Camembert",
          "Camembert",
          "Camembert",
          "Camembert",
          "Camembert",
          "Camembert",
          "Camembert",
          "Camembert",
          "Camembert",
          "Camembert",
          "Camembert",
          "Camembert",
          "Camembert",
          "Camembert"
         ],
         "x0": " ",
         "xaxis": "x",
         "y": [
          0.7402614432011363,
          0.645563121172742,
          0.26754571539523,
          0.8261874348323801,
          0.7631502351446774,
          0.4625727679240973,
          0.5467450019632625,
          0.5181330698845402,
          0.1183065198340142,
          0.7188764157564035,
          0.6144199012738755,
          0.6027714751898909,
          0.4665299416210773,
          0.5656146933074871
         ],
         "y0": " ",
         "yaxis": "y",
         "type": "box"
        },
        {
         "alignmentgroup": "True",
         "hovertemplate": "Model=%{x}<br>V_measure=%{y}<extra></extra>",
         "legendgroup": "Flaubert",
         "marker": {
          "color": "#EF553B"
         },
         "name": "Flaubert",
         "notched": false,
         "offsetgroup": "Flaubert",
         "orientation": "v",
         "showlegend": true,
         "x": [
          "Flaubert",
          "Flaubert",
          "Flaubert",
          "Flaubert",
          "Flaubert",
          "Flaubert",
          "Flaubert",
          "Flaubert",
          "Flaubert",
          "Flaubert",
          "Flaubert",
          "Flaubert",
          "Flaubert",
          "Flaubert"
         ],
         "x0": " ",
         "xaxis": "x",
         "y": [
          0.4967000028203699,
          0.7159546698696955,
          0.2715794944407464,
          0.6681173653330227,
          0.5373913978175374,
          0.3697689552971362,
          0.3290205301081308,
          0.4399719772702247,
          0.0247256624402023,
          0.7263163333049256,
          0.7264176181964999,
          0.5379843711713159,
          0.3340296791759882,
          0.4823603642634992
         ],
         "y0": " ",
         "yaxis": "y",
         "type": "box"
        }
       ],
       "layout": {
        "template": {
         "data": {
          "barpolar": [
           {
            "marker": {
             "line": {
              "color": "white",
              "width": 0.5
             },
             "pattern": {
              "fillmode": "overlay",
              "size": 10,
              "solidity": 0.2
             }
            },
            "type": "barpolar"
           }
          ],
          "bar": [
           {
            "error_x": {
             "color": "#2a3f5f"
            },
            "error_y": {
             "color": "#2a3f5f"
            },
            "marker": {
             "line": {
              "color": "white",
              "width": 0.5
             },
             "pattern": {
              "fillmode": "overlay",
              "size": 10,
              "solidity": 0.2
             }
            },
            "type": "bar"
           }
          ],
          "carpet": [
           {
            "aaxis": {
             "endlinecolor": "#2a3f5f",
             "gridcolor": "#C8D4E3",
             "linecolor": "#C8D4E3",
             "minorgridcolor": "#C8D4E3",
             "startlinecolor": "#2a3f5f"
            },
            "baxis": {
             "endlinecolor": "#2a3f5f",
             "gridcolor": "#C8D4E3",
             "linecolor": "#C8D4E3",
             "minorgridcolor": "#C8D4E3",
             "startlinecolor": "#2a3f5f"
            },
            "type": "carpet"
           }
          ],
          "choropleth": [
           {
            "colorbar": {
             "outlinewidth": 0,
             "ticks": ""
            },
            "type": "choropleth"
           }
          ],
          "contourcarpet": [
           {
            "colorbar": {
             "outlinewidth": 0,
             "ticks": ""
            },
            "type": "contourcarpet"
           }
          ],
          "contour": [
           {
            "colorbar": {
             "outlinewidth": 0,
             "ticks": ""
            },
            "colorscale": [
             [
              0.0,
              "#0d0887"
             ],
             [
              0.1111111111111111,
              "#46039f"
             ],
             [
              0.2222222222222222,
              "#7201a8"
             ],
             [
              0.3333333333333333,
              "#9c179e"
             ],
             [
              0.4444444444444444,
              "#bd3786"
             ],
             [
              0.5555555555555556,
              "#d8576b"
             ],
             [
              0.6666666666666666,
              "#ed7953"
             ],
             [
              0.7777777777777778,
              "#fb9f3a"
             ],
             [
              0.8888888888888888,
              "#fdca26"
             ],
             [
              1.0,
              "#f0f921"
             ]
            ],
            "type": "contour"
           }
          ],
          "heatmapgl": [
           {
            "colorbar": {
             "outlinewidth": 0,
             "ticks": ""
            },
            "colorscale": [
             [
              0.0,
              "#0d0887"
             ],
             [
              0.1111111111111111,
              "#46039f"
             ],
             [
              0.2222222222222222,
              "#7201a8"
             ],
             [
              0.3333333333333333,
              "#9c179e"
             ],
             [
              0.4444444444444444,
              "#bd3786"
             ],
             [
              0.5555555555555556,
              "#d8576b"
             ],
             [
              0.6666666666666666,
              "#ed7953"
             ],
             [
              0.7777777777777778,
              "#fb9f3a"
             ],
             [
              0.8888888888888888,
              "#fdca26"
             ],
             [
              1.0,
              "#f0f921"
             ]
            ],
            "type": "heatmapgl"
           }
          ],
          "heatmap": [
           {
            "colorbar": {
             "outlinewidth": 0,
             "ticks": ""
            },
            "colorscale": [
             [
              0.0,
              "#0d0887"
             ],
             [
              0.1111111111111111,
              "#46039f"
             ],
             [
              0.2222222222222222,
              "#7201a8"
             ],
             [
              0.3333333333333333,
              "#9c179e"
             ],
             [
              0.4444444444444444,
              "#bd3786"
             ],
             [
              0.5555555555555556,
              "#d8576b"
             ],
             [
              0.6666666666666666,
              "#ed7953"
             ],
             [
              0.7777777777777778,
              "#fb9f3a"
             ],
             [
              0.8888888888888888,
              "#fdca26"
             ],
             [
              1.0,
              "#f0f921"
             ]
            ],
            "type": "heatmap"
           }
          ],
          "histogram2dcontour": [
           {
            "colorbar": {
             "outlinewidth": 0,
             "ticks": ""
            },
            "colorscale": [
             [
              0.0,
              "#0d0887"
             ],
             [
              0.1111111111111111,
              "#46039f"
             ],
             [
              0.2222222222222222,
              "#7201a8"
             ],
             [
              0.3333333333333333,
              "#9c179e"
             ],
             [
              0.4444444444444444,
              "#bd3786"
             ],
             [
              0.5555555555555556,
              "#d8576b"
             ],
             [
              0.6666666666666666,
              "#ed7953"
             ],
             [
              0.7777777777777778,
              "#fb9f3a"
             ],
             [
              0.8888888888888888,
              "#fdca26"
             ],
             [
              1.0,
              "#f0f921"
             ]
            ],
            "type": "histogram2dcontour"
           }
          ],
          "histogram2d": [
           {
            "colorbar": {
             "outlinewidth": 0,
             "ticks": ""
            },
            "colorscale": [
             [
              0.0,
              "#0d0887"
             ],
             [
              0.1111111111111111,
              "#46039f"
             ],
             [
              0.2222222222222222,
              "#7201a8"
             ],
             [
              0.3333333333333333,
              "#9c179e"
             ],
             [
              0.4444444444444444,
              "#bd3786"
             ],
             [
              0.5555555555555556,
              "#d8576b"
             ],
             [
              0.6666666666666666,
              "#ed7953"
             ],
             [
              0.7777777777777778,
              "#fb9f3a"
             ],
             [
              0.8888888888888888,
              "#fdca26"
             ],
             [
              1.0,
              "#f0f921"
             ]
            ],
            "type": "histogram2d"
           }
          ],
          "histogram": [
           {
            "marker": {
             "pattern": {
              "fillmode": "overlay",
              "size": 10,
              "solidity": 0.2
             }
            },
            "type": "histogram"
           }
          ],
          "mesh3d": [
           {
            "colorbar": {
             "outlinewidth": 0,
             "ticks": ""
            },
            "type": "mesh3d"
           }
          ],
          "parcoords": [
           {
            "line": {
             "colorbar": {
              "outlinewidth": 0,
              "ticks": ""
             }
            },
            "type": "parcoords"
           }
          ],
          "pie": [
           {
            "automargin": true,
            "type": "pie"
           }
          ],
          "scatter3d": [
           {
            "line": {
             "colorbar": {
              "outlinewidth": 0,
              "ticks": ""
             }
            },
            "marker": {
             "colorbar": {
              "outlinewidth": 0,
              "ticks": ""
             }
            },
            "type": "scatter3d"
           }
          ],
          "scattercarpet": [
           {
            "marker": {
             "colorbar": {
              "outlinewidth": 0,
              "ticks": ""
             }
            },
            "type": "scattercarpet"
           }
          ],
          "scattergeo": [
           {
            "marker": {
             "colorbar": {
              "outlinewidth": 0,
              "ticks": ""
             }
            },
            "type": "scattergeo"
           }
          ],
          "scattergl": [
           {
            "marker": {
             "colorbar": {
              "outlinewidth": 0,
              "ticks": ""
             }
            },
            "type": "scattergl"
           }
          ],
          "scattermapbox": [
           {
            "marker": {
             "colorbar": {
              "outlinewidth": 0,
              "ticks": ""
             }
            },
            "type": "scattermapbox"
           }
          ],
          "scatterpolargl": [
           {
            "marker": {
             "colorbar": {
              "outlinewidth": 0,
              "ticks": ""
             }
            },
            "type": "scatterpolargl"
           }
          ],
          "scatterpolar": [
           {
            "marker": {
             "colorbar": {
              "outlinewidth": 0,
              "ticks": ""
             }
            },
            "type": "scatterpolar"
           }
          ],
          "scatter": [
           {
            "fillpattern": {
             "fillmode": "overlay",
             "size": 10,
             "solidity": 0.2
            },
            "type": "scatter"
           }
          ],
          "scatterternary": [
           {
            "marker": {
             "colorbar": {
              "outlinewidth": 0,
              "ticks": ""
             }
            },
            "type": "scatterternary"
           }
          ],
          "surface": [
           {
            "colorbar": {
             "outlinewidth": 0,
             "ticks": ""
            },
            "colorscale": [
             [
              0.0,
              "#0d0887"
             ],
             [
              0.1111111111111111,
              "#46039f"
             ],
             [
              0.2222222222222222,
              "#7201a8"
             ],
             [
              0.3333333333333333,
              "#9c179e"
             ],
             [
              0.4444444444444444,
              "#bd3786"
             ],
             [
              0.5555555555555556,
              "#d8576b"
             ],
             [
              0.6666666666666666,
              "#ed7953"
             ],
             [
              0.7777777777777778,
              "#fb9f3a"
             ],
             [
              0.8888888888888888,
              "#fdca26"
             ],
             [
              1.0,
              "#f0f921"
             ]
            ],
            "type": "surface"
           }
          ],
          "table": [
           {
            "cells": {
             "fill": {
              "color": "#EBF0F8"
             },
             "line": {
              "color": "white"
             }
            },
            "header": {
             "fill": {
              "color": "#C8D4E3"
             },
             "line": {
              "color": "white"
             }
            },
            "type": "table"
           }
          ]
         },
         "layout": {
          "annotationdefaults": {
           "arrowcolor": "#2a3f5f",
           "arrowhead": 0,
           "arrowwidth": 1
          },
          "autotypenumbers": "strict",
          "coloraxis": {
           "colorbar": {
            "outlinewidth": 0,
            "ticks": ""
           }
          },
          "colorscale": {
           "diverging": [
            [
             0,
             "#8e0152"
            ],
            [
             0.1,
             "#c51b7d"
            ],
            [
             0.2,
             "#de77ae"
            ],
            [
             0.3,
             "#f1b6da"
            ],
            [
             0.4,
             "#fde0ef"
            ],
            [
             0.5,
             "#f7f7f7"
            ],
            [
             0.6,
             "#e6f5d0"
            ],
            [
             0.7,
             "#b8e186"
            ],
            [
             0.8,
             "#7fbc41"
            ],
            [
             0.9,
             "#4d9221"
            ],
            [
             1,
             "#276419"
            ]
           ],
           "sequential": [
            [
             0.0,
             "#0d0887"
            ],
            [
             0.1111111111111111,
             "#46039f"
            ],
            [
             0.2222222222222222,
             "#7201a8"
            ],
            [
             0.3333333333333333,
             "#9c179e"
            ],
            [
             0.4444444444444444,
             "#bd3786"
            ],
            [
             0.5555555555555556,
             "#d8576b"
            ],
            [
             0.6666666666666666,
             "#ed7953"
            ],
            [
             0.7777777777777778,
             "#fb9f3a"
            ],
            [
             0.8888888888888888,
             "#fdca26"
            ],
            [
             1.0,
             "#f0f921"
            ]
           ],
           "sequentialminus": [
            [
             0.0,
             "#0d0887"
            ],
            [
             0.1111111111111111,
             "#46039f"
            ],
            [
             0.2222222222222222,
             "#7201a8"
            ],
            [
             0.3333333333333333,
             "#9c179e"
            ],
            [
             0.4444444444444444,
             "#bd3786"
            ],
            [
             0.5555555555555556,
             "#d8576b"
            ],
            [
             0.6666666666666666,
             "#ed7953"
            ],
            [
             0.7777777777777778,
             "#fb9f3a"
            ],
            [
             0.8888888888888888,
             "#fdca26"
            ],
            [
             1.0,
             "#f0f921"
            ]
           ]
          },
          "colorway": [
           "#636efa",
           "#EF553B",
           "#00cc96",
           "#ab63fa",
           "#FFA15A",
           "#19d3f3",
           "#FF6692",
           "#B6E880",
           "#FF97FF",
           "#FECB52"
          ],
          "font": {
           "color": "#2a3f5f"
          },
          "geo": {
           "bgcolor": "white",
           "lakecolor": "white",
           "landcolor": "white",
           "showlakes": true,
           "showland": true,
           "subunitcolor": "#C8D4E3"
          },
          "hoverlabel": {
           "align": "left"
          },
          "hovermode": "closest",
          "mapbox": {
           "style": "light"
          },
          "paper_bgcolor": "white",
          "plot_bgcolor": "white",
          "polar": {
           "angularaxis": {
            "gridcolor": "#EBF0F8",
            "linecolor": "#EBF0F8",
            "ticks": ""
           },
           "bgcolor": "white",
           "radialaxis": {
            "gridcolor": "#EBF0F8",
            "linecolor": "#EBF0F8",
            "ticks": ""
           }
          },
          "scene": {
           "xaxis": {
            "backgroundcolor": "white",
            "gridcolor": "#DFE8F3",
            "gridwidth": 2,
            "linecolor": "#EBF0F8",
            "showbackground": true,
            "ticks": "",
            "zerolinecolor": "#EBF0F8"
           },
           "yaxis": {
            "backgroundcolor": "white",
            "gridcolor": "#DFE8F3",
            "gridwidth": 2,
            "linecolor": "#EBF0F8",
            "showbackground": true,
            "ticks": "",
            "zerolinecolor": "#EBF0F8"
           },
           "zaxis": {
            "backgroundcolor": "white",
            "gridcolor": "#DFE8F3",
            "gridwidth": 2,
            "linecolor": "#EBF0F8",
            "showbackground": true,
            "ticks": "",
            "zerolinecolor": "#EBF0F8"
           }
          },
          "shapedefaults": {
           "line": {
            "color": "#2a3f5f"
           }
          },
          "ternary": {
           "aaxis": {
            "gridcolor": "#DFE8F3",
            "linecolor": "#A2B1C6",
            "ticks": ""
           },
           "baxis": {
            "gridcolor": "#DFE8F3",
            "linecolor": "#A2B1C6",
            "ticks": ""
           },
           "bgcolor": "white",
           "caxis": {
            "gridcolor": "#DFE8F3",
            "linecolor": "#A2B1C6",
            "ticks": ""
           }
          },
          "title": {
           "x": 0.05
          },
          "xaxis": {
           "automargin": true,
           "gridcolor": "#EBF0F8",
           "linecolor": "#EBF0F8",
           "ticks": "",
           "title": {
            "standoff": 15
           },
           "zerolinecolor": "#EBF0F8",
           "zerolinewidth": 2
          },
          "yaxis": {
           "automargin": true,
           "gridcolor": "#EBF0F8",
           "linecolor": "#EBF0F8",
           "ticks": "",
           "title": {
            "standoff": 15
           },
           "zerolinecolor": "#EBF0F8",
           "zerolinewidth": 2
          }
         }
        },
        "xaxis": {
         "anchor": "y",
         "domain": [
          0.0,
          1.0
         ],
         "title": {
          "text": "Model"
         },
         "categoryorder": "array",
         "categoryarray": [
          "Camembert",
          "Flaubert"
         ]
        },
        "yaxis": {
         "anchor": "x",
         "domain": [
          0.0,
          1.0
         ],
         "title": {
          "text": "V_measure"
         }
        },
        "legend": {
         "title": {
          "text": "Model"
         },
         "tracegroupgap": 0
        },
        "title": {
         "text": "V measure clustering scores for each model"
        },
        "boxmode": "overlay",
        "showlegend": false
       },
       "config": {
        "plotlyServerURL": "https://plot.ly"
       }
      },
      "text/html": "<div>                            <div id=\"b70e478e-81e6-48a0-b96c-b7cff32b45af\" class=\"plotly-graph-div\" style=\"height:525px; width:100%;\"></div>            <script type=\"text/javascript\">                require([\"plotly\"], function(Plotly) {                    window.PLOTLYENV=window.PLOTLYENV || {};                                    if (document.getElementById(\"b70e478e-81e6-48a0-b96c-b7cff32b45af\")) {                    Plotly.newPlot(                        \"b70e478e-81e6-48a0-b96c-b7cff32b45af\",                        [{\"alignmentgroup\":\"True\",\"hovertemplate\":\"Model=%{x}\\u003cbr\\u003eV_measure=%{y}\\u003cextra\\u003e\\u003c\\u002fextra\\u003e\",\"legendgroup\":\"Camembert\",\"marker\":{\"color\":\"#636efa\"},\"name\":\"Camembert\",\"notched\":false,\"offsetgroup\":\"Camembert\",\"orientation\":\"v\",\"showlegend\":true,\"x\":[\"Camembert\",\"Camembert\",\"Camembert\",\"Camembert\",\"Camembert\",\"Camembert\",\"Camembert\",\"Camembert\",\"Camembert\",\"Camembert\",\"Camembert\",\"Camembert\",\"Camembert\",\"Camembert\"],\"x0\":\" \",\"xaxis\":\"x\",\"y\":[0.7402614432011363,0.645563121172742,0.26754571539523,0.8261874348323801,0.7631502351446774,0.4625727679240973,0.5467450019632625,0.5181330698845402,0.1183065198340142,0.7188764157564035,0.6144199012738755,0.6027714751898909,0.4665299416210773,0.5656146933074871],\"y0\":\" \",\"yaxis\":\"y\",\"type\":\"box\"},{\"alignmentgroup\":\"True\",\"hovertemplate\":\"Model=%{x}\\u003cbr\\u003eV_measure=%{y}\\u003cextra\\u003e\\u003c\\u002fextra\\u003e\",\"legendgroup\":\"Flaubert\",\"marker\":{\"color\":\"#EF553B\"},\"name\":\"Flaubert\",\"notched\":false,\"offsetgroup\":\"Flaubert\",\"orientation\":\"v\",\"showlegend\":true,\"x\":[\"Flaubert\",\"Flaubert\",\"Flaubert\",\"Flaubert\",\"Flaubert\",\"Flaubert\",\"Flaubert\",\"Flaubert\",\"Flaubert\",\"Flaubert\",\"Flaubert\",\"Flaubert\",\"Flaubert\",\"Flaubert\"],\"x0\":\" \",\"xaxis\":\"x\",\"y\":[0.4967000028203699,0.7159546698696955,0.2715794944407464,0.6681173653330227,0.5373913978175374,0.3697689552971362,0.3290205301081308,0.4399719772702247,0.0247256624402023,0.7263163333049256,0.7264176181964999,0.5379843711713159,0.3340296791759882,0.4823603642634992],\"y0\":\" \",\"yaxis\":\"y\",\"type\":\"box\"}],                        {\"template\":{\"data\":{\"barpolar\":[{\"marker\":{\"line\":{\"color\":\"white\",\"width\":0.5},\"pattern\":{\"fillmode\":\"overlay\",\"size\":10,\"solidity\":0.2}},\"type\":\"barpolar\"}],\"bar\":[{\"error_x\":{\"color\":\"#2a3f5f\"},\"error_y\":{\"color\":\"#2a3f5f\"},\"marker\":{\"line\":{\"color\":\"white\",\"width\":0.5},\"pattern\":{\"fillmode\":\"overlay\",\"size\":10,\"solidity\":0.2}},\"type\":\"bar\"}],\"carpet\":[{\"aaxis\":{\"endlinecolor\":\"#2a3f5f\",\"gridcolor\":\"#C8D4E3\",\"linecolor\":\"#C8D4E3\",\"minorgridcolor\":\"#C8D4E3\",\"startlinecolor\":\"#2a3f5f\"},\"baxis\":{\"endlinecolor\":\"#2a3f5f\",\"gridcolor\":\"#C8D4E3\",\"linecolor\":\"#C8D4E3\",\"minorgridcolor\":\"#C8D4E3\",\"startlinecolor\":\"#2a3f5f\"},\"type\":\"carpet\"}],\"choropleth\":[{\"colorbar\":{\"outlinewidth\":0,\"ticks\":\"\"},\"type\":\"choropleth\"}],\"contourcarpet\":[{\"colorbar\":{\"outlinewidth\":0,\"ticks\":\"\"},\"type\":\"contourcarpet\"}],\"contour\":[{\"colorbar\":{\"outlinewidth\":0,\"ticks\":\"\"},\"colorscale\":[[0.0,\"#0d0887\"],[0.1111111111111111,\"#46039f\"],[0.2222222222222222,\"#7201a8\"],[0.3333333333333333,\"#9c179e\"],[0.4444444444444444,\"#bd3786\"],[0.5555555555555556,\"#d8576b\"],[0.6666666666666666,\"#ed7953\"],[0.7777777777777778,\"#fb9f3a\"],[0.8888888888888888,\"#fdca26\"],[1.0,\"#f0f921\"]],\"type\":\"contour\"}],\"heatmapgl\":[{\"colorbar\":{\"outlinewidth\":0,\"ticks\":\"\"},\"colorscale\":[[0.0,\"#0d0887\"],[0.1111111111111111,\"#46039f\"],[0.2222222222222222,\"#7201a8\"],[0.3333333333333333,\"#9c179e\"],[0.4444444444444444,\"#bd3786\"],[0.5555555555555556,\"#d8576b\"],[0.6666666666666666,\"#ed7953\"],[0.7777777777777778,\"#fb9f3a\"],[0.8888888888888888,\"#fdca26\"],[1.0,\"#f0f921\"]],\"type\":\"heatmapgl\"}],\"heatmap\":[{\"colorbar\":{\"outlinewidth\":0,\"ticks\":\"\"},\"colorscale\":[[0.0,\"#0d0887\"],[0.1111111111111111,\"#46039f\"],[0.2222222222222222,\"#7201a8\"],[0.3333333333333333,\"#9c179e\"],[0.4444444444444444,\"#bd3786\"],[0.5555555555555556,\"#d8576b\"],[0.6666666666666666,\"#ed7953\"],[0.7777777777777778,\"#fb9f3a\"],[0.8888888888888888,\"#fdca26\"],[1.0,\"#f0f921\"]],\"type\":\"heatmap\"}],\"histogram2dcontour\":[{\"colorbar\":{\"outlinewidth\":0,\"ticks\":\"\"},\"colorscale\":[[0.0,\"#0d0887\"],[0.1111111111111111,\"#46039f\"],[0.2222222222222222,\"#7201a8\"],[0.3333333333333333,\"#9c179e\"],[0.4444444444444444,\"#bd3786\"],[0.5555555555555556,\"#d8576b\"],[0.6666666666666666,\"#ed7953\"],[0.7777777777777778,\"#fb9f3a\"],[0.8888888888888888,\"#fdca26\"],[1.0,\"#f0f921\"]],\"type\":\"histogram2dcontour\"}],\"histogram2d\":[{\"colorbar\":{\"outlinewidth\":0,\"ticks\":\"\"},\"colorscale\":[[0.0,\"#0d0887\"],[0.1111111111111111,\"#46039f\"],[0.2222222222222222,\"#7201a8\"],[0.3333333333333333,\"#9c179e\"],[0.4444444444444444,\"#bd3786\"],[0.5555555555555556,\"#d8576b\"],[0.6666666666666666,\"#ed7953\"],[0.7777777777777778,\"#fb9f3a\"],[0.8888888888888888,\"#fdca26\"],[1.0,\"#f0f921\"]],\"type\":\"histogram2d\"}],\"histogram\":[{\"marker\":{\"pattern\":{\"fillmode\":\"overlay\",\"size\":10,\"solidity\":0.2}},\"type\":\"histogram\"}],\"mesh3d\":[{\"colorbar\":{\"outlinewidth\":0,\"ticks\":\"\"},\"type\":\"mesh3d\"}],\"parcoords\":[{\"line\":{\"colorbar\":{\"outlinewidth\":0,\"ticks\":\"\"}},\"type\":\"parcoords\"}],\"pie\":[{\"automargin\":true,\"type\":\"pie\"}],\"scatter3d\":[{\"line\":{\"colorbar\":{\"outlinewidth\":0,\"ticks\":\"\"}},\"marker\":{\"colorbar\":{\"outlinewidth\":0,\"ticks\":\"\"}},\"type\":\"scatter3d\"}],\"scattercarpet\":[{\"marker\":{\"colorbar\":{\"outlinewidth\":0,\"ticks\":\"\"}},\"type\":\"scattercarpet\"}],\"scattergeo\":[{\"marker\":{\"colorbar\":{\"outlinewidth\":0,\"ticks\":\"\"}},\"type\":\"scattergeo\"}],\"scattergl\":[{\"marker\":{\"colorbar\":{\"outlinewidth\":0,\"ticks\":\"\"}},\"type\":\"scattergl\"}],\"scattermapbox\":[{\"marker\":{\"colorbar\":{\"outlinewidth\":0,\"ticks\":\"\"}},\"type\":\"scattermapbox\"}],\"scatterpolargl\":[{\"marker\":{\"colorbar\":{\"outlinewidth\":0,\"ticks\":\"\"}},\"type\":\"scatterpolargl\"}],\"scatterpolar\":[{\"marker\":{\"colorbar\":{\"outlinewidth\":0,\"ticks\":\"\"}},\"type\":\"scatterpolar\"}],\"scatter\":[{\"fillpattern\":{\"fillmode\":\"overlay\",\"size\":10,\"solidity\":0.2},\"type\":\"scatter\"}],\"scatterternary\":[{\"marker\":{\"colorbar\":{\"outlinewidth\":0,\"ticks\":\"\"}},\"type\":\"scatterternary\"}],\"surface\":[{\"colorbar\":{\"outlinewidth\":0,\"ticks\":\"\"},\"colorscale\":[[0.0,\"#0d0887\"],[0.1111111111111111,\"#46039f\"],[0.2222222222222222,\"#7201a8\"],[0.3333333333333333,\"#9c179e\"],[0.4444444444444444,\"#bd3786\"],[0.5555555555555556,\"#d8576b\"],[0.6666666666666666,\"#ed7953\"],[0.7777777777777778,\"#fb9f3a\"],[0.8888888888888888,\"#fdca26\"],[1.0,\"#f0f921\"]],\"type\":\"surface\"}],\"table\":[{\"cells\":{\"fill\":{\"color\":\"#EBF0F8\"},\"line\":{\"color\":\"white\"}},\"header\":{\"fill\":{\"color\":\"#C8D4E3\"},\"line\":{\"color\":\"white\"}},\"type\":\"table\"}]},\"layout\":{\"annotationdefaults\":{\"arrowcolor\":\"#2a3f5f\",\"arrowhead\":0,\"arrowwidth\":1},\"autotypenumbers\":\"strict\",\"coloraxis\":{\"colorbar\":{\"outlinewidth\":0,\"ticks\":\"\"}},\"colorscale\":{\"diverging\":[[0,\"#8e0152\"],[0.1,\"#c51b7d\"],[0.2,\"#de77ae\"],[0.3,\"#f1b6da\"],[0.4,\"#fde0ef\"],[0.5,\"#f7f7f7\"],[0.6,\"#e6f5d0\"],[0.7,\"#b8e186\"],[0.8,\"#7fbc41\"],[0.9,\"#4d9221\"],[1,\"#276419\"]],\"sequential\":[[0.0,\"#0d0887\"],[0.1111111111111111,\"#46039f\"],[0.2222222222222222,\"#7201a8\"],[0.3333333333333333,\"#9c179e\"],[0.4444444444444444,\"#bd3786\"],[0.5555555555555556,\"#d8576b\"],[0.6666666666666666,\"#ed7953\"],[0.7777777777777778,\"#fb9f3a\"],[0.8888888888888888,\"#fdca26\"],[1.0,\"#f0f921\"]],\"sequentialminus\":[[0.0,\"#0d0887\"],[0.1111111111111111,\"#46039f\"],[0.2222222222222222,\"#7201a8\"],[0.3333333333333333,\"#9c179e\"],[0.4444444444444444,\"#bd3786\"],[0.5555555555555556,\"#d8576b\"],[0.6666666666666666,\"#ed7953\"],[0.7777777777777778,\"#fb9f3a\"],[0.8888888888888888,\"#fdca26\"],[1.0,\"#f0f921\"]]},\"colorway\":[\"#636efa\",\"#EF553B\",\"#00cc96\",\"#ab63fa\",\"#FFA15A\",\"#19d3f3\",\"#FF6692\",\"#B6E880\",\"#FF97FF\",\"#FECB52\"],\"font\":{\"color\":\"#2a3f5f\"},\"geo\":{\"bgcolor\":\"white\",\"lakecolor\":\"white\",\"landcolor\":\"white\",\"showlakes\":true,\"showland\":true,\"subunitcolor\":\"#C8D4E3\"},\"hoverlabel\":{\"align\":\"left\"},\"hovermode\":\"closest\",\"mapbox\":{\"style\":\"light\"},\"paper_bgcolor\":\"white\",\"plot_bgcolor\":\"white\",\"polar\":{\"angularaxis\":{\"gridcolor\":\"#EBF0F8\",\"linecolor\":\"#EBF0F8\",\"ticks\":\"\"},\"bgcolor\":\"white\",\"radialaxis\":{\"gridcolor\":\"#EBF0F8\",\"linecolor\":\"#EBF0F8\",\"ticks\":\"\"}},\"scene\":{\"xaxis\":{\"backgroundcolor\":\"white\",\"gridcolor\":\"#DFE8F3\",\"gridwidth\":2,\"linecolor\":\"#EBF0F8\",\"showbackground\":true,\"ticks\":\"\",\"zerolinecolor\":\"#EBF0F8\"},\"yaxis\":{\"backgroundcolor\":\"white\",\"gridcolor\":\"#DFE8F3\",\"gridwidth\":2,\"linecolor\":\"#EBF0F8\",\"showbackground\":true,\"ticks\":\"\",\"zerolinecolor\":\"#EBF0F8\"},\"zaxis\":{\"backgroundcolor\":\"white\",\"gridcolor\":\"#DFE8F3\",\"gridwidth\":2,\"linecolor\":\"#EBF0F8\",\"showbackground\":true,\"ticks\":\"\",\"zerolinecolor\":\"#EBF0F8\"}},\"shapedefaults\":{\"line\":{\"color\":\"#2a3f5f\"}},\"ternary\":{\"aaxis\":{\"gridcolor\":\"#DFE8F3\",\"linecolor\":\"#A2B1C6\",\"ticks\":\"\"},\"baxis\":{\"gridcolor\":\"#DFE8F3\",\"linecolor\":\"#A2B1C6\",\"ticks\":\"\"},\"bgcolor\":\"white\",\"caxis\":{\"gridcolor\":\"#DFE8F3\",\"linecolor\":\"#A2B1C6\",\"ticks\":\"\"}},\"title\":{\"x\":0.05},\"xaxis\":{\"automargin\":true,\"gridcolor\":\"#EBF0F8\",\"linecolor\":\"#EBF0F8\",\"ticks\":\"\",\"title\":{\"standoff\":15},\"zerolinecolor\":\"#EBF0F8\",\"zerolinewidth\":2},\"yaxis\":{\"automargin\":true,\"gridcolor\":\"#EBF0F8\",\"linecolor\":\"#EBF0F8\",\"ticks\":\"\",\"title\":{\"standoff\":15},\"zerolinecolor\":\"#EBF0F8\",\"zerolinewidth\":2}}},\"xaxis\":{\"anchor\":\"y\",\"domain\":[0.0,1.0],\"title\":{\"text\":\"Model\"},\"categoryorder\":\"array\",\"categoryarray\":[\"Camembert\",\"Flaubert\"]},\"yaxis\":{\"anchor\":\"x\",\"domain\":[0.0,1.0],\"title\":{\"text\":\"V_measure\"}},\"legend\":{\"title\":{\"text\":\"Model\"},\"tracegroupgap\":0},\"title\":{\"text\":\"V measure clustering scores for each model\"},\"boxmode\":\"overlay\",\"showlegend\":false},                        {\"responsive\": true}                    ).then(function(){\n                            \nvar gd = document.getElementById('b70e478e-81e6-48a0-b96c-b7cff32b45af');\nvar x = new MutationObserver(function (mutations, observer) {{\n        var display = window.getComputedStyle(gd).display;\n        if (!display || display === 'none') {{\n            console.log([gd, 'removed!']);\n            Plotly.purge(gd);\n            observer.disconnect();\n        }}\n}});\n\n// Listen for the removal of the full notebook cells\nvar notebookContainer = gd.closest('#notebook-container');\nif (notebookContainer) {{\n    x.observe(notebookContainer, {childList: true});\n}}\n\n// Listen for the clearing of the current output cell\nvar outputEl = gd.closest('.output');\nif (outputEl) {{\n    x.observe(outputEl, {childList: true});\n}}\n\n                        })                };                });            </script>        </div>"
     },
     "metadata": {},
     "output_type": "display_data"
    },
    {
     "data": {
      "application/vnd.plotly.v1+json": {
       "data": [
        {
         "alignmentgroup": "True",
         "hovertemplate": "Model=%{x}<br>Rand=%{y}<extra></extra>",
         "legendgroup": "Camembert",
         "marker": {
          "color": "#636efa"
         },
         "name": "Camembert",
         "notched": false,
         "offsetgroup": "Camembert",
         "orientation": "v",
         "showlegend": true,
         "x": [
          "Camembert",
          "Camembert",
          "Camembert",
          "Camembert",
          "Camembert",
          "Camembert",
          "Camembert",
          "Camembert",
          "Camembert",
          "Camembert",
          "Camembert",
          "Camembert",
          "Camembert",
          "Camembert"
         ],
         "x0": " ",
         "xaxis": "x",
         "y": [
          0.5845667942506892,
          0.6046510838359593,
          0.1506851289100171,
          0.7267718156964887,
          0.7207536077601102,
          0.3552442018716041,
          0.3601739638876548,
          0.3804061501672053,
          -0.0833244998672715,
          0.5197285010242826,
          0.4601875449979902,
          0.4702511293093357,
          0.339278419353348,
          0.4345312993213391
         ],
         "y0": " ",
         "yaxis": "y",
         "type": "box"
        },
        {
         "alignmentgroup": "True",
         "hovertemplate": "Model=%{x}<br>Rand=%{y}<extra></extra>",
         "legendgroup": "Flaubert",
         "marker": {
          "color": "#EF553B"
         },
         "name": "Flaubert",
         "notched": false,
         "offsetgroup": "Flaubert",
         "orientation": "v",
         "showlegend": true,
         "x": [
          "Flaubert",
          "Flaubert",
          "Flaubert",
          "Flaubert",
          "Flaubert",
          "Flaubert",
          "Flaubert",
          "Flaubert",
          "Flaubert",
          "Flaubert",
          "Flaubert",
          "Flaubert",
          "Flaubert",
          "Flaubert"
         ],
         "x0": " ",
         "xaxis": "x",
         "y": [
          0.3467616893864885,
          0.6240676959802943,
          0.1557089018429605,
          0.5277040174212573,
          0.4004500790561376,
          0.2227499661384796,
          0.2788328002008041,
          0.2562683376063234,
          0.058890342294142,
          0.5660429173765403,
          0.7451464220866894,
          0.4333768013041892,
          0.2385362529855343,
          0.3802384699445561
         ],
         "y0": " ",
         "yaxis": "y",
         "type": "box"
        }
       ],
       "layout": {
        "template": {
         "data": {
          "barpolar": [
           {
            "marker": {
             "line": {
              "color": "white",
              "width": 0.5
             },
             "pattern": {
              "fillmode": "overlay",
              "size": 10,
              "solidity": 0.2
             }
            },
            "type": "barpolar"
           }
          ],
          "bar": [
           {
            "error_x": {
             "color": "#2a3f5f"
            },
            "error_y": {
             "color": "#2a3f5f"
            },
            "marker": {
             "line": {
              "color": "white",
              "width": 0.5
             },
             "pattern": {
              "fillmode": "overlay",
              "size": 10,
              "solidity": 0.2
             }
            },
            "type": "bar"
           }
          ],
          "carpet": [
           {
            "aaxis": {
             "endlinecolor": "#2a3f5f",
             "gridcolor": "#C8D4E3",
             "linecolor": "#C8D4E3",
             "minorgridcolor": "#C8D4E3",
             "startlinecolor": "#2a3f5f"
            },
            "baxis": {
             "endlinecolor": "#2a3f5f",
             "gridcolor": "#C8D4E3",
             "linecolor": "#C8D4E3",
             "minorgridcolor": "#C8D4E3",
             "startlinecolor": "#2a3f5f"
            },
            "type": "carpet"
           }
          ],
          "choropleth": [
           {
            "colorbar": {
             "outlinewidth": 0,
             "ticks": ""
            },
            "type": "choropleth"
           }
          ],
          "contourcarpet": [
           {
            "colorbar": {
             "outlinewidth": 0,
             "ticks": ""
            },
            "type": "contourcarpet"
           }
          ],
          "contour": [
           {
            "colorbar": {
             "outlinewidth": 0,
             "ticks": ""
            },
            "colorscale": [
             [
              0.0,
              "#0d0887"
             ],
             [
              0.1111111111111111,
              "#46039f"
             ],
             [
              0.2222222222222222,
              "#7201a8"
             ],
             [
              0.3333333333333333,
              "#9c179e"
             ],
             [
              0.4444444444444444,
              "#bd3786"
             ],
             [
              0.5555555555555556,
              "#d8576b"
             ],
             [
              0.6666666666666666,
              "#ed7953"
             ],
             [
              0.7777777777777778,
              "#fb9f3a"
             ],
             [
              0.8888888888888888,
              "#fdca26"
             ],
             [
              1.0,
              "#f0f921"
             ]
            ],
            "type": "contour"
           }
          ],
          "heatmapgl": [
           {
            "colorbar": {
             "outlinewidth": 0,
             "ticks": ""
            },
            "colorscale": [
             [
              0.0,
              "#0d0887"
             ],
             [
              0.1111111111111111,
              "#46039f"
             ],
             [
              0.2222222222222222,
              "#7201a8"
             ],
             [
              0.3333333333333333,
              "#9c179e"
             ],
             [
              0.4444444444444444,
              "#bd3786"
             ],
             [
              0.5555555555555556,
              "#d8576b"
             ],
             [
              0.6666666666666666,
              "#ed7953"
             ],
             [
              0.7777777777777778,
              "#fb9f3a"
             ],
             [
              0.8888888888888888,
              "#fdca26"
             ],
             [
              1.0,
              "#f0f921"
             ]
            ],
            "type": "heatmapgl"
           }
          ],
          "heatmap": [
           {
            "colorbar": {
             "outlinewidth": 0,
             "ticks": ""
            },
            "colorscale": [
             [
              0.0,
              "#0d0887"
             ],
             [
              0.1111111111111111,
              "#46039f"
             ],
             [
              0.2222222222222222,
              "#7201a8"
             ],
             [
              0.3333333333333333,
              "#9c179e"
             ],
             [
              0.4444444444444444,
              "#bd3786"
             ],
             [
              0.5555555555555556,
              "#d8576b"
             ],
             [
              0.6666666666666666,
              "#ed7953"
             ],
             [
              0.7777777777777778,
              "#fb9f3a"
             ],
             [
              0.8888888888888888,
              "#fdca26"
             ],
             [
              1.0,
              "#f0f921"
             ]
            ],
            "type": "heatmap"
           }
          ],
          "histogram2dcontour": [
           {
            "colorbar": {
             "outlinewidth": 0,
             "ticks": ""
            },
            "colorscale": [
             [
              0.0,
              "#0d0887"
             ],
             [
              0.1111111111111111,
              "#46039f"
             ],
             [
              0.2222222222222222,
              "#7201a8"
             ],
             [
              0.3333333333333333,
              "#9c179e"
             ],
             [
              0.4444444444444444,
              "#bd3786"
             ],
             [
              0.5555555555555556,
              "#d8576b"
             ],
             [
              0.6666666666666666,
              "#ed7953"
             ],
             [
              0.7777777777777778,
              "#fb9f3a"
             ],
             [
              0.8888888888888888,
              "#fdca26"
             ],
             [
              1.0,
              "#f0f921"
             ]
            ],
            "type": "histogram2dcontour"
           }
          ],
          "histogram2d": [
           {
            "colorbar": {
             "outlinewidth": 0,
             "ticks": ""
            },
            "colorscale": [
             [
              0.0,
              "#0d0887"
             ],
             [
              0.1111111111111111,
              "#46039f"
             ],
             [
              0.2222222222222222,
              "#7201a8"
             ],
             [
              0.3333333333333333,
              "#9c179e"
             ],
             [
              0.4444444444444444,
              "#bd3786"
             ],
             [
              0.5555555555555556,
              "#d8576b"
             ],
             [
              0.6666666666666666,
              "#ed7953"
             ],
             [
              0.7777777777777778,
              "#fb9f3a"
             ],
             [
              0.8888888888888888,
              "#fdca26"
             ],
             [
              1.0,
              "#f0f921"
             ]
            ],
            "type": "histogram2d"
           }
          ],
          "histogram": [
           {
            "marker": {
             "pattern": {
              "fillmode": "overlay",
              "size": 10,
              "solidity": 0.2
             }
            },
            "type": "histogram"
           }
          ],
          "mesh3d": [
           {
            "colorbar": {
             "outlinewidth": 0,
             "ticks": ""
            },
            "type": "mesh3d"
           }
          ],
          "parcoords": [
           {
            "line": {
             "colorbar": {
              "outlinewidth": 0,
              "ticks": ""
             }
            },
            "type": "parcoords"
           }
          ],
          "pie": [
           {
            "automargin": true,
            "type": "pie"
           }
          ],
          "scatter3d": [
           {
            "line": {
             "colorbar": {
              "outlinewidth": 0,
              "ticks": ""
             }
            },
            "marker": {
             "colorbar": {
              "outlinewidth": 0,
              "ticks": ""
             }
            },
            "type": "scatter3d"
           }
          ],
          "scattercarpet": [
           {
            "marker": {
             "colorbar": {
              "outlinewidth": 0,
              "ticks": ""
             }
            },
            "type": "scattercarpet"
           }
          ],
          "scattergeo": [
           {
            "marker": {
             "colorbar": {
              "outlinewidth": 0,
              "ticks": ""
             }
            },
            "type": "scattergeo"
           }
          ],
          "scattergl": [
           {
            "marker": {
             "colorbar": {
              "outlinewidth": 0,
              "ticks": ""
             }
            },
            "type": "scattergl"
           }
          ],
          "scattermapbox": [
           {
            "marker": {
             "colorbar": {
              "outlinewidth": 0,
              "ticks": ""
             }
            },
            "type": "scattermapbox"
           }
          ],
          "scatterpolargl": [
           {
            "marker": {
             "colorbar": {
              "outlinewidth": 0,
              "ticks": ""
             }
            },
            "type": "scatterpolargl"
           }
          ],
          "scatterpolar": [
           {
            "marker": {
             "colorbar": {
              "outlinewidth": 0,
              "ticks": ""
             }
            },
            "type": "scatterpolar"
           }
          ],
          "scatter": [
           {
            "fillpattern": {
             "fillmode": "overlay",
             "size": 10,
             "solidity": 0.2
            },
            "type": "scatter"
           }
          ],
          "scatterternary": [
           {
            "marker": {
             "colorbar": {
              "outlinewidth": 0,
              "ticks": ""
             }
            },
            "type": "scatterternary"
           }
          ],
          "surface": [
           {
            "colorbar": {
             "outlinewidth": 0,
             "ticks": ""
            },
            "colorscale": [
             [
              0.0,
              "#0d0887"
             ],
             [
              0.1111111111111111,
              "#46039f"
             ],
             [
              0.2222222222222222,
              "#7201a8"
             ],
             [
              0.3333333333333333,
              "#9c179e"
             ],
             [
              0.4444444444444444,
              "#bd3786"
             ],
             [
              0.5555555555555556,
              "#d8576b"
             ],
             [
              0.6666666666666666,
              "#ed7953"
             ],
             [
              0.7777777777777778,
              "#fb9f3a"
             ],
             [
              0.8888888888888888,
              "#fdca26"
             ],
             [
              1.0,
              "#f0f921"
             ]
            ],
            "type": "surface"
           }
          ],
          "table": [
           {
            "cells": {
             "fill": {
              "color": "#EBF0F8"
             },
             "line": {
              "color": "white"
             }
            },
            "header": {
             "fill": {
              "color": "#C8D4E3"
             },
             "line": {
              "color": "white"
             }
            },
            "type": "table"
           }
          ]
         },
         "layout": {
          "annotationdefaults": {
           "arrowcolor": "#2a3f5f",
           "arrowhead": 0,
           "arrowwidth": 1
          },
          "autotypenumbers": "strict",
          "coloraxis": {
           "colorbar": {
            "outlinewidth": 0,
            "ticks": ""
           }
          },
          "colorscale": {
           "diverging": [
            [
             0,
             "#8e0152"
            ],
            [
             0.1,
             "#c51b7d"
            ],
            [
             0.2,
             "#de77ae"
            ],
            [
             0.3,
             "#f1b6da"
            ],
            [
             0.4,
             "#fde0ef"
            ],
            [
             0.5,
             "#f7f7f7"
            ],
            [
             0.6,
             "#e6f5d0"
            ],
            [
             0.7,
             "#b8e186"
            ],
            [
             0.8,
             "#7fbc41"
            ],
            [
             0.9,
             "#4d9221"
            ],
            [
             1,
             "#276419"
            ]
           ],
           "sequential": [
            [
             0.0,
             "#0d0887"
            ],
            [
             0.1111111111111111,
             "#46039f"
            ],
            [
             0.2222222222222222,
             "#7201a8"
            ],
            [
             0.3333333333333333,
             "#9c179e"
            ],
            [
             0.4444444444444444,
             "#bd3786"
            ],
            [
             0.5555555555555556,
             "#d8576b"
            ],
            [
             0.6666666666666666,
             "#ed7953"
            ],
            [
             0.7777777777777778,
             "#fb9f3a"
            ],
            [
             0.8888888888888888,
             "#fdca26"
            ],
            [
             1.0,
             "#f0f921"
            ]
           ],
           "sequentialminus": [
            [
             0.0,
             "#0d0887"
            ],
            [
             0.1111111111111111,
             "#46039f"
            ],
            [
             0.2222222222222222,
             "#7201a8"
            ],
            [
             0.3333333333333333,
             "#9c179e"
            ],
            [
             0.4444444444444444,
             "#bd3786"
            ],
            [
             0.5555555555555556,
             "#d8576b"
            ],
            [
             0.6666666666666666,
             "#ed7953"
            ],
            [
             0.7777777777777778,
             "#fb9f3a"
            ],
            [
             0.8888888888888888,
             "#fdca26"
            ],
            [
             1.0,
             "#f0f921"
            ]
           ]
          },
          "colorway": [
           "#636efa",
           "#EF553B",
           "#00cc96",
           "#ab63fa",
           "#FFA15A",
           "#19d3f3",
           "#FF6692",
           "#B6E880",
           "#FF97FF",
           "#FECB52"
          ],
          "font": {
           "color": "#2a3f5f"
          },
          "geo": {
           "bgcolor": "white",
           "lakecolor": "white",
           "landcolor": "white",
           "showlakes": true,
           "showland": true,
           "subunitcolor": "#C8D4E3"
          },
          "hoverlabel": {
           "align": "left"
          },
          "hovermode": "closest",
          "mapbox": {
           "style": "light"
          },
          "paper_bgcolor": "white",
          "plot_bgcolor": "white",
          "polar": {
           "angularaxis": {
            "gridcolor": "#EBF0F8",
            "linecolor": "#EBF0F8",
            "ticks": ""
           },
           "bgcolor": "white",
           "radialaxis": {
            "gridcolor": "#EBF0F8",
            "linecolor": "#EBF0F8",
            "ticks": ""
           }
          },
          "scene": {
           "xaxis": {
            "backgroundcolor": "white",
            "gridcolor": "#DFE8F3",
            "gridwidth": 2,
            "linecolor": "#EBF0F8",
            "showbackground": true,
            "ticks": "",
            "zerolinecolor": "#EBF0F8"
           },
           "yaxis": {
            "backgroundcolor": "white",
            "gridcolor": "#DFE8F3",
            "gridwidth": 2,
            "linecolor": "#EBF0F8",
            "showbackground": true,
            "ticks": "",
            "zerolinecolor": "#EBF0F8"
           },
           "zaxis": {
            "backgroundcolor": "white",
            "gridcolor": "#DFE8F3",
            "gridwidth": 2,
            "linecolor": "#EBF0F8",
            "showbackground": true,
            "ticks": "",
            "zerolinecolor": "#EBF0F8"
           }
          },
          "shapedefaults": {
           "line": {
            "color": "#2a3f5f"
           }
          },
          "ternary": {
           "aaxis": {
            "gridcolor": "#DFE8F3",
            "linecolor": "#A2B1C6",
            "ticks": ""
           },
           "baxis": {
            "gridcolor": "#DFE8F3",
            "linecolor": "#A2B1C6",
            "ticks": ""
           },
           "bgcolor": "white",
           "caxis": {
            "gridcolor": "#DFE8F3",
            "linecolor": "#A2B1C6",
            "ticks": ""
           }
          },
          "title": {
           "x": 0.05
          },
          "xaxis": {
           "automargin": true,
           "gridcolor": "#EBF0F8",
           "linecolor": "#EBF0F8",
           "ticks": "",
           "title": {
            "standoff": 15
           },
           "zerolinecolor": "#EBF0F8",
           "zerolinewidth": 2
          },
          "yaxis": {
           "automargin": true,
           "gridcolor": "#EBF0F8",
           "linecolor": "#EBF0F8",
           "ticks": "",
           "title": {
            "standoff": 15
           },
           "zerolinecolor": "#EBF0F8",
           "zerolinewidth": 2
          }
         }
        },
        "xaxis": {
         "anchor": "y",
         "domain": [
          0.0,
          1.0
         ],
         "title": {
          "text": "Model"
         },
         "categoryorder": "array",
         "categoryarray": [
          "Camembert",
          "Flaubert"
         ]
        },
        "yaxis": {
         "anchor": "x",
         "domain": [
          0.0,
          1.0
         ],
         "title": {
          "text": "Rand"
         }
        },
        "legend": {
         "title": {
          "text": "Model"
         },
         "tracegroupgap": 0
        },
        "title": {
         "text": "Adjusted Rand scores for each model"
        },
        "boxmode": "overlay",
        "showlegend": false
       },
       "config": {
        "plotlyServerURL": "https://plot.ly"
       }
      },
      "text/html": "<div>                            <div id=\"15e6a27d-214b-4efb-9a48-367588b37801\" class=\"plotly-graph-div\" style=\"height:525px; width:100%;\"></div>            <script type=\"text/javascript\">                require([\"plotly\"], function(Plotly) {                    window.PLOTLYENV=window.PLOTLYENV || {};                                    if (document.getElementById(\"15e6a27d-214b-4efb-9a48-367588b37801\")) {                    Plotly.newPlot(                        \"15e6a27d-214b-4efb-9a48-367588b37801\",                        [{\"alignmentgroup\":\"True\",\"hovertemplate\":\"Model=%{x}\\u003cbr\\u003eRand=%{y}\\u003cextra\\u003e\\u003c\\u002fextra\\u003e\",\"legendgroup\":\"Camembert\",\"marker\":{\"color\":\"#636efa\"},\"name\":\"Camembert\",\"notched\":false,\"offsetgroup\":\"Camembert\",\"orientation\":\"v\",\"showlegend\":true,\"x\":[\"Camembert\",\"Camembert\",\"Camembert\",\"Camembert\",\"Camembert\",\"Camembert\",\"Camembert\",\"Camembert\",\"Camembert\",\"Camembert\",\"Camembert\",\"Camembert\",\"Camembert\",\"Camembert\"],\"x0\":\" \",\"xaxis\":\"x\",\"y\":[0.5845667942506892,0.6046510838359593,0.1506851289100171,0.7267718156964887,0.7207536077601102,0.3552442018716041,0.3601739638876548,0.3804061501672053,-0.0833244998672715,0.5197285010242826,0.4601875449979902,0.4702511293093357,0.339278419353348,0.4345312993213391],\"y0\":\" \",\"yaxis\":\"y\",\"type\":\"box\"},{\"alignmentgroup\":\"True\",\"hovertemplate\":\"Model=%{x}\\u003cbr\\u003eRand=%{y}\\u003cextra\\u003e\\u003c\\u002fextra\\u003e\",\"legendgroup\":\"Flaubert\",\"marker\":{\"color\":\"#EF553B\"},\"name\":\"Flaubert\",\"notched\":false,\"offsetgroup\":\"Flaubert\",\"orientation\":\"v\",\"showlegend\":true,\"x\":[\"Flaubert\",\"Flaubert\",\"Flaubert\",\"Flaubert\",\"Flaubert\",\"Flaubert\",\"Flaubert\",\"Flaubert\",\"Flaubert\",\"Flaubert\",\"Flaubert\",\"Flaubert\",\"Flaubert\",\"Flaubert\"],\"x0\":\" \",\"xaxis\":\"x\",\"y\":[0.3467616893864885,0.6240676959802943,0.1557089018429605,0.5277040174212573,0.4004500790561376,0.2227499661384796,0.2788328002008041,0.2562683376063234,0.058890342294142,0.5660429173765403,0.7451464220866894,0.4333768013041892,0.2385362529855343,0.3802384699445561],\"y0\":\" \",\"yaxis\":\"y\",\"type\":\"box\"}],                        {\"template\":{\"data\":{\"barpolar\":[{\"marker\":{\"line\":{\"color\":\"white\",\"width\":0.5},\"pattern\":{\"fillmode\":\"overlay\",\"size\":10,\"solidity\":0.2}},\"type\":\"barpolar\"}],\"bar\":[{\"error_x\":{\"color\":\"#2a3f5f\"},\"error_y\":{\"color\":\"#2a3f5f\"},\"marker\":{\"line\":{\"color\":\"white\",\"width\":0.5},\"pattern\":{\"fillmode\":\"overlay\",\"size\":10,\"solidity\":0.2}},\"type\":\"bar\"}],\"carpet\":[{\"aaxis\":{\"endlinecolor\":\"#2a3f5f\",\"gridcolor\":\"#C8D4E3\",\"linecolor\":\"#C8D4E3\",\"minorgridcolor\":\"#C8D4E3\",\"startlinecolor\":\"#2a3f5f\"},\"baxis\":{\"endlinecolor\":\"#2a3f5f\",\"gridcolor\":\"#C8D4E3\",\"linecolor\":\"#C8D4E3\",\"minorgridcolor\":\"#C8D4E3\",\"startlinecolor\":\"#2a3f5f\"},\"type\":\"carpet\"}],\"choropleth\":[{\"colorbar\":{\"outlinewidth\":0,\"ticks\":\"\"},\"type\":\"choropleth\"}],\"contourcarpet\":[{\"colorbar\":{\"outlinewidth\":0,\"ticks\":\"\"},\"type\":\"contourcarpet\"}],\"contour\":[{\"colorbar\":{\"outlinewidth\":0,\"ticks\":\"\"},\"colorscale\":[[0.0,\"#0d0887\"],[0.1111111111111111,\"#46039f\"],[0.2222222222222222,\"#7201a8\"],[0.3333333333333333,\"#9c179e\"],[0.4444444444444444,\"#bd3786\"],[0.5555555555555556,\"#d8576b\"],[0.6666666666666666,\"#ed7953\"],[0.7777777777777778,\"#fb9f3a\"],[0.8888888888888888,\"#fdca26\"],[1.0,\"#f0f921\"]],\"type\":\"contour\"}],\"heatmapgl\":[{\"colorbar\":{\"outlinewidth\":0,\"ticks\":\"\"},\"colorscale\":[[0.0,\"#0d0887\"],[0.1111111111111111,\"#46039f\"],[0.2222222222222222,\"#7201a8\"],[0.3333333333333333,\"#9c179e\"],[0.4444444444444444,\"#bd3786\"],[0.5555555555555556,\"#d8576b\"],[0.6666666666666666,\"#ed7953\"],[0.7777777777777778,\"#fb9f3a\"],[0.8888888888888888,\"#fdca26\"],[1.0,\"#f0f921\"]],\"type\":\"heatmapgl\"}],\"heatmap\":[{\"colorbar\":{\"outlinewidth\":0,\"ticks\":\"\"},\"colorscale\":[[0.0,\"#0d0887\"],[0.1111111111111111,\"#46039f\"],[0.2222222222222222,\"#7201a8\"],[0.3333333333333333,\"#9c179e\"],[0.4444444444444444,\"#bd3786\"],[0.5555555555555556,\"#d8576b\"],[0.6666666666666666,\"#ed7953\"],[0.7777777777777778,\"#fb9f3a\"],[0.8888888888888888,\"#fdca26\"],[1.0,\"#f0f921\"]],\"type\":\"heatmap\"}],\"histogram2dcontour\":[{\"colorbar\":{\"outlinewidth\":0,\"ticks\":\"\"},\"colorscale\":[[0.0,\"#0d0887\"],[0.1111111111111111,\"#46039f\"],[0.2222222222222222,\"#7201a8\"],[0.3333333333333333,\"#9c179e\"],[0.4444444444444444,\"#bd3786\"],[0.5555555555555556,\"#d8576b\"],[0.6666666666666666,\"#ed7953\"],[0.7777777777777778,\"#fb9f3a\"],[0.8888888888888888,\"#fdca26\"],[1.0,\"#f0f921\"]],\"type\":\"histogram2dcontour\"}],\"histogram2d\":[{\"colorbar\":{\"outlinewidth\":0,\"ticks\":\"\"},\"colorscale\":[[0.0,\"#0d0887\"],[0.1111111111111111,\"#46039f\"],[0.2222222222222222,\"#7201a8\"],[0.3333333333333333,\"#9c179e\"],[0.4444444444444444,\"#bd3786\"],[0.5555555555555556,\"#d8576b\"],[0.6666666666666666,\"#ed7953\"],[0.7777777777777778,\"#fb9f3a\"],[0.8888888888888888,\"#fdca26\"],[1.0,\"#f0f921\"]],\"type\":\"histogram2d\"}],\"histogram\":[{\"marker\":{\"pattern\":{\"fillmode\":\"overlay\",\"size\":10,\"solidity\":0.2}},\"type\":\"histogram\"}],\"mesh3d\":[{\"colorbar\":{\"outlinewidth\":0,\"ticks\":\"\"},\"type\":\"mesh3d\"}],\"parcoords\":[{\"line\":{\"colorbar\":{\"outlinewidth\":0,\"ticks\":\"\"}},\"type\":\"parcoords\"}],\"pie\":[{\"automargin\":true,\"type\":\"pie\"}],\"scatter3d\":[{\"line\":{\"colorbar\":{\"outlinewidth\":0,\"ticks\":\"\"}},\"marker\":{\"colorbar\":{\"outlinewidth\":0,\"ticks\":\"\"}},\"type\":\"scatter3d\"}],\"scattercarpet\":[{\"marker\":{\"colorbar\":{\"outlinewidth\":0,\"ticks\":\"\"}},\"type\":\"scattercarpet\"}],\"scattergeo\":[{\"marker\":{\"colorbar\":{\"outlinewidth\":0,\"ticks\":\"\"}},\"type\":\"scattergeo\"}],\"scattergl\":[{\"marker\":{\"colorbar\":{\"outlinewidth\":0,\"ticks\":\"\"}},\"type\":\"scattergl\"}],\"scattermapbox\":[{\"marker\":{\"colorbar\":{\"outlinewidth\":0,\"ticks\":\"\"}},\"type\":\"scattermapbox\"}],\"scatterpolargl\":[{\"marker\":{\"colorbar\":{\"outlinewidth\":0,\"ticks\":\"\"}},\"type\":\"scatterpolargl\"}],\"scatterpolar\":[{\"marker\":{\"colorbar\":{\"outlinewidth\":0,\"ticks\":\"\"}},\"type\":\"scatterpolar\"}],\"scatter\":[{\"fillpattern\":{\"fillmode\":\"overlay\",\"size\":10,\"solidity\":0.2},\"type\":\"scatter\"}],\"scatterternary\":[{\"marker\":{\"colorbar\":{\"outlinewidth\":0,\"ticks\":\"\"}},\"type\":\"scatterternary\"}],\"surface\":[{\"colorbar\":{\"outlinewidth\":0,\"ticks\":\"\"},\"colorscale\":[[0.0,\"#0d0887\"],[0.1111111111111111,\"#46039f\"],[0.2222222222222222,\"#7201a8\"],[0.3333333333333333,\"#9c179e\"],[0.4444444444444444,\"#bd3786\"],[0.5555555555555556,\"#d8576b\"],[0.6666666666666666,\"#ed7953\"],[0.7777777777777778,\"#fb9f3a\"],[0.8888888888888888,\"#fdca26\"],[1.0,\"#f0f921\"]],\"type\":\"surface\"}],\"table\":[{\"cells\":{\"fill\":{\"color\":\"#EBF0F8\"},\"line\":{\"color\":\"white\"}},\"header\":{\"fill\":{\"color\":\"#C8D4E3\"},\"line\":{\"color\":\"white\"}},\"type\":\"table\"}]},\"layout\":{\"annotationdefaults\":{\"arrowcolor\":\"#2a3f5f\",\"arrowhead\":0,\"arrowwidth\":1},\"autotypenumbers\":\"strict\",\"coloraxis\":{\"colorbar\":{\"outlinewidth\":0,\"ticks\":\"\"}},\"colorscale\":{\"diverging\":[[0,\"#8e0152\"],[0.1,\"#c51b7d\"],[0.2,\"#de77ae\"],[0.3,\"#f1b6da\"],[0.4,\"#fde0ef\"],[0.5,\"#f7f7f7\"],[0.6,\"#e6f5d0\"],[0.7,\"#b8e186\"],[0.8,\"#7fbc41\"],[0.9,\"#4d9221\"],[1,\"#276419\"]],\"sequential\":[[0.0,\"#0d0887\"],[0.1111111111111111,\"#46039f\"],[0.2222222222222222,\"#7201a8\"],[0.3333333333333333,\"#9c179e\"],[0.4444444444444444,\"#bd3786\"],[0.5555555555555556,\"#d8576b\"],[0.6666666666666666,\"#ed7953\"],[0.7777777777777778,\"#fb9f3a\"],[0.8888888888888888,\"#fdca26\"],[1.0,\"#f0f921\"]],\"sequentialminus\":[[0.0,\"#0d0887\"],[0.1111111111111111,\"#46039f\"],[0.2222222222222222,\"#7201a8\"],[0.3333333333333333,\"#9c179e\"],[0.4444444444444444,\"#bd3786\"],[0.5555555555555556,\"#d8576b\"],[0.6666666666666666,\"#ed7953\"],[0.7777777777777778,\"#fb9f3a\"],[0.8888888888888888,\"#fdca26\"],[1.0,\"#f0f921\"]]},\"colorway\":[\"#636efa\",\"#EF553B\",\"#00cc96\",\"#ab63fa\",\"#FFA15A\",\"#19d3f3\",\"#FF6692\",\"#B6E880\",\"#FF97FF\",\"#FECB52\"],\"font\":{\"color\":\"#2a3f5f\"},\"geo\":{\"bgcolor\":\"white\",\"lakecolor\":\"white\",\"landcolor\":\"white\",\"showlakes\":true,\"showland\":true,\"subunitcolor\":\"#C8D4E3\"},\"hoverlabel\":{\"align\":\"left\"},\"hovermode\":\"closest\",\"mapbox\":{\"style\":\"light\"},\"paper_bgcolor\":\"white\",\"plot_bgcolor\":\"white\",\"polar\":{\"angularaxis\":{\"gridcolor\":\"#EBF0F8\",\"linecolor\":\"#EBF0F8\",\"ticks\":\"\"},\"bgcolor\":\"white\",\"radialaxis\":{\"gridcolor\":\"#EBF0F8\",\"linecolor\":\"#EBF0F8\",\"ticks\":\"\"}},\"scene\":{\"xaxis\":{\"backgroundcolor\":\"white\",\"gridcolor\":\"#DFE8F3\",\"gridwidth\":2,\"linecolor\":\"#EBF0F8\",\"showbackground\":true,\"ticks\":\"\",\"zerolinecolor\":\"#EBF0F8\"},\"yaxis\":{\"backgroundcolor\":\"white\",\"gridcolor\":\"#DFE8F3\",\"gridwidth\":2,\"linecolor\":\"#EBF0F8\",\"showbackground\":true,\"ticks\":\"\",\"zerolinecolor\":\"#EBF0F8\"},\"zaxis\":{\"backgroundcolor\":\"white\",\"gridcolor\":\"#DFE8F3\",\"gridwidth\":2,\"linecolor\":\"#EBF0F8\",\"showbackground\":true,\"ticks\":\"\",\"zerolinecolor\":\"#EBF0F8\"}},\"shapedefaults\":{\"line\":{\"color\":\"#2a3f5f\"}},\"ternary\":{\"aaxis\":{\"gridcolor\":\"#DFE8F3\",\"linecolor\":\"#A2B1C6\",\"ticks\":\"\"},\"baxis\":{\"gridcolor\":\"#DFE8F3\",\"linecolor\":\"#A2B1C6\",\"ticks\":\"\"},\"bgcolor\":\"white\",\"caxis\":{\"gridcolor\":\"#DFE8F3\",\"linecolor\":\"#A2B1C6\",\"ticks\":\"\"}},\"title\":{\"x\":0.05},\"xaxis\":{\"automargin\":true,\"gridcolor\":\"#EBF0F8\",\"linecolor\":\"#EBF0F8\",\"ticks\":\"\",\"title\":{\"standoff\":15},\"zerolinecolor\":\"#EBF0F8\",\"zerolinewidth\":2},\"yaxis\":{\"automargin\":true,\"gridcolor\":\"#EBF0F8\",\"linecolor\":\"#EBF0F8\",\"ticks\":\"\",\"title\":{\"standoff\":15},\"zerolinecolor\":\"#EBF0F8\",\"zerolinewidth\":2}}},\"xaxis\":{\"anchor\":\"y\",\"domain\":[0.0,1.0],\"title\":{\"text\":\"Model\"},\"categoryorder\":\"array\",\"categoryarray\":[\"Camembert\",\"Flaubert\"]},\"yaxis\":{\"anchor\":\"x\",\"domain\":[0.0,1.0],\"title\":{\"text\":\"Rand\"}},\"legend\":{\"title\":{\"text\":\"Model\"},\"tracegroupgap\":0},\"title\":{\"text\":\"Adjusted Rand scores for each model\"},\"boxmode\":\"overlay\",\"showlegend\":false},                        {\"responsive\": true}                    ).then(function(){\n                            \nvar gd = document.getElementById('15e6a27d-214b-4efb-9a48-367588b37801');\nvar x = new MutationObserver(function (mutations, observer) {{\n        var display = window.getComputedStyle(gd).display;\n        if (!display || display === 'none') {{\n            console.log([gd, 'removed!']);\n            Plotly.purge(gd);\n            observer.disconnect();\n        }}\n}});\n\n// Listen for the removal of the full notebook cells\nvar notebookContainer = gd.closest('#notebook-container');\nif (notebookContainer) {{\n    x.observe(notebookContainer, {childList: true});\n}}\n\n// Listen for the clearing of the current output cell\nvar outputEl = gd.closest('.output');\nif (outputEl) {{\n    x.observe(outputEl, {childList: true});\n}}\n\n                        })                };                });            </script>        </div>"
     },
     "metadata": {},
     "output_type": "display_data"
    },
    {
     "data": {
      "application/vnd.plotly.v1+json": {
       "data": [
        {
         "alignmentgroup": "True",
         "hovertemplate": "Model=%{x}<br>F1=%{y}<extra></extra>",
         "legendgroup": "Camembert",
         "marker": {
          "color": "#636efa"
         },
         "name": "Camembert",
         "notched": false,
         "offsetgroup": "Camembert",
         "orientation": "v",
         "showlegend": true,
         "x": [
          "Camembert",
          "Camembert",
          "Camembert",
          "Camembert",
          "Camembert",
          "Camembert",
          "Camembert",
          "Camembert",
          "Camembert",
          "Camembert",
          "Camembert",
          "Camembert",
          "Camembert",
          "Camembert"
         ],
         "x0": " ",
         "xaxis": "x",
         "y": [
          0.837037037037037,
          0.8399122492065088,
          0.5522632707098727,
          0.8695861006322724,
          0.878844246031746,
          0.6366269187155953,
          0.6241556431184914,
          0.7045634207689543,
          0.5038222646918299,
          0.6831654345167859,
          0.7627935789700496,
          0.7256925291133266,
          0.69574331049751,
          0.7175245603999222
         ],
         "y0": " ",
         "yaxis": "y",
         "type": "box"
        },
        {
         "alignmentgroup": "True",
         "hovertemplate": "Model=%{x}<br>F1=%{y}<extra></extra>",
         "legendgroup": "Flaubert",
         "marker": {
          "color": "#EF553B"
         },
         "name": "Flaubert",
         "notched": false,
         "offsetgroup": "Flaubert",
         "orientation": "v",
         "showlegend": true,
         "x": [
          "Flaubert",
          "Flaubert",
          "Flaubert",
          "Flaubert",
          "Flaubert",
          "Flaubert",
          "Flaubert",
          "Flaubert",
          "Flaubert",
          "Flaubert",
          "Flaubert",
          "Flaubert",
          "Flaubert",
          "Flaubert"
         ],
         "x0": " ",
         "xaxis": "x",
         "y": [
          0.6767219708396179,
          0.8466765273008379,
          0.4929390997352162,
          0.762519970709626,
          0.6914605191099324,
          0.4760324083303595,
          0.6588341132491148,
          0.5962821492233257,
          0.6582695208260819,
          0.7742599742599745,
          0.9438128192453452,
          0.7039746104587614,
          0.6486707297197801,
          0.6888917338935848
         ],
         "y0": " ",
         "yaxis": "y",
         "type": "box"
        }
       ],
       "layout": {
        "template": {
         "data": {
          "barpolar": [
           {
            "marker": {
             "line": {
              "color": "white",
              "width": 0.5
             },
             "pattern": {
              "fillmode": "overlay",
              "size": 10,
              "solidity": 0.2
             }
            },
            "type": "barpolar"
           }
          ],
          "bar": [
           {
            "error_x": {
             "color": "#2a3f5f"
            },
            "error_y": {
             "color": "#2a3f5f"
            },
            "marker": {
             "line": {
              "color": "white",
              "width": 0.5
             },
             "pattern": {
              "fillmode": "overlay",
              "size": 10,
              "solidity": 0.2
             }
            },
            "type": "bar"
           }
          ],
          "carpet": [
           {
            "aaxis": {
             "endlinecolor": "#2a3f5f",
             "gridcolor": "#C8D4E3",
             "linecolor": "#C8D4E3",
             "minorgridcolor": "#C8D4E3",
             "startlinecolor": "#2a3f5f"
            },
            "baxis": {
             "endlinecolor": "#2a3f5f",
             "gridcolor": "#C8D4E3",
             "linecolor": "#C8D4E3",
             "minorgridcolor": "#C8D4E3",
             "startlinecolor": "#2a3f5f"
            },
            "type": "carpet"
           }
          ],
          "choropleth": [
           {
            "colorbar": {
             "outlinewidth": 0,
             "ticks": ""
            },
            "type": "choropleth"
           }
          ],
          "contourcarpet": [
           {
            "colorbar": {
             "outlinewidth": 0,
             "ticks": ""
            },
            "type": "contourcarpet"
           }
          ],
          "contour": [
           {
            "colorbar": {
             "outlinewidth": 0,
             "ticks": ""
            },
            "colorscale": [
             [
              0.0,
              "#0d0887"
             ],
             [
              0.1111111111111111,
              "#46039f"
             ],
             [
              0.2222222222222222,
              "#7201a8"
             ],
             [
              0.3333333333333333,
              "#9c179e"
             ],
             [
              0.4444444444444444,
              "#bd3786"
             ],
             [
              0.5555555555555556,
              "#d8576b"
             ],
             [
              0.6666666666666666,
              "#ed7953"
             ],
             [
              0.7777777777777778,
              "#fb9f3a"
             ],
             [
              0.8888888888888888,
              "#fdca26"
             ],
             [
              1.0,
              "#f0f921"
             ]
            ],
            "type": "contour"
           }
          ],
          "heatmapgl": [
           {
            "colorbar": {
             "outlinewidth": 0,
             "ticks": ""
            },
            "colorscale": [
             [
              0.0,
              "#0d0887"
             ],
             [
              0.1111111111111111,
              "#46039f"
             ],
             [
              0.2222222222222222,
              "#7201a8"
             ],
             [
              0.3333333333333333,
              "#9c179e"
             ],
             [
              0.4444444444444444,
              "#bd3786"
             ],
             [
              0.5555555555555556,
              "#d8576b"
             ],
             [
              0.6666666666666666,
              "#ed7953"
             ],
             [
              0.7777777777777778,
              "#fb9f3a"
             ],
             [
              0.8888888888888888,
              "#fdca26"
             ],
             [
              1.0,
              "#f0f921"
             ]
            ],
            "type": "heatmapgl"
           }
          ],
          "heatmap": [
           {
            "colorbar": {
             "outlinewidth": 0,
             "ticks": ""
            },
            "colorscale": [
             [
              0.0,
              "#0d0887"
             ],
             [
              0.1111111111111111,
              "#46039f"
             ],
             [
              0.2222222222222222,
              "#7201a8"
             ],
             [
              0.3333333333333333,
              "#9c179e"
             ],
             [
              0.4444444444444444,
              "#bd3786"
             ],
             [
              0.5555555555555556,
              "#d8576b"
             ],
             [
              0.6666666666666666,
              "#ed7953"
             ],
             [
              0.7777777777777778,
              "#fb9f3a"
             ],
             [
              0.8888888888888888,
              "#fdca26"
             ],
             [
              1.0,
              "#f0f921"
             ]
            ],
            "type": "heatmap"
           }
          ],
          "histogram2dcontour": [
           {
            "colorbar": {
             "outlinewidth": 0,
             "ticks": ""
            },
            "colorscale": [
             [
              0.0,
              "#0d0887"
             ],
             [
              0.1111111111111111,
              "#46039f"
             ],
             [
              0.2222222222222222,
              "#7201a8"
             ],
             [
              0.3333333333333333,
              "#9c179e"
             ],
             [
              0.4444444444444444,
              "#bd3786"
             ],
             [
              0.5555555555555556,
              "#d8576b"
             ],
             [
              0.6666666666666666,
              "#ed7953"
             ],
             [
              0.7777777777777778,
              "#fb9f3a"
             ],
             [
              0.8888888888888888,
              "#fdca26"
             ],
             [
              1.0,
              "#f0f921"
             ]
            ],
            "type": "histogram2dcontour"
           }
          ],
          "histogram2d": [
           {
            "colorbar": {
             "outlinewidth": 0,
             "ticks": ""
            },
            "colorscale": [
             [
              0.0,
              "#0d0887"
             ],
             [
              0.1111111111111111,
              "#46039f"
             ],
             [
              0.2222222222222222,
              "#7201a8"
             ],
             [
              0.3333333333333333,
              "#9c179e"
             ],
             [
              0.4444444444444444,
              "#bd3786"
             ],
             [
              0.5555555555555556,
              "#d8576b"
             ],
             [
              0.6666666666666666,
              "#ed7953"
             ],
             [
              0.7777777777777778,
              "#fb9f3a"
             ],
             [
              0.8888888888888888,
              "#fdca26"
             ],
             [
              1.0,
              "#f0f921"
             ]
            ],
            "type": "histogram2d"
           }
          ],
          "histogram": [
           {
            "marker": {
             "pattern": {
              "fillmode": "overlay",
              "size": 10,
              "solidity": 0.2
             }
            },
            "type": "histogram"
           }
          ],
          "mesh3d": [
           {
            "colorbar": {
             "outlinewidth": 0,
             "ticks": ""
            },
            "type": "mesh3d"
           }
          ],
          "parcoords": [
           {
            "line": {
             "colorbar": {
              "outlinewidth": 0,
              "ticks": ""
             }
            },
            "type": "parcoords"
           }
          ],
          "pie": [
           {
            "automargin": true,
            "type": "pie"
           }
          ],
          "scatter3d": [
           {
            "line": {
             "colorbar": {
              "outlinewidth": 0,
              "ticks": ""
             }
            },
            "marker": {
             "colorbar": {
              "outlinewidth": 0,
              "ticks": ""
             }
            },
            "type": "scatter3d"
           }
          ],
          "scattercarpet": [
           {
            "marker": {
             "colorbar": {
              "outlinewidth": 0,
              "ticks": ""
             }
            },
            "type": "scattercarpet"
           }
          ],
          "scattergeo": [
           {
            "marker": {
             "colorbar": {
              "outlinewidth": 0,
              "ticks": ""
             }
            },
            "type": "scattergeo"
           }
          ],
          "scattergl": [
           {
            "marker": {
             "colorbar": {
              "outlinewidth": 0,
              "ticks": ""
             }
            },
            "type": "scattergl"
           }
          ],
          "scattermapbox": [
           {
            "marker": {
             "colorbar": {
              "outlinewidth": 0,
              "ticks": ""
             }
            },
            "type": "scattermapbox"
           }
          ],
          "scatterpolargl": [
           {
            "marker": {
             "colorbar": {
              "outlinewidth": 0,
              "ticks": ""
             }
            },
            "type": "scatterpolargl"
           }
          ],
          "scatterpolar": [
           {
            "marker": {
             "colorbar": {
              "outlinewidth": 0,
              "ticks": ""
             }
            },
            "type": "scatterpolar"
           }
          ],
          "scatter": [
           {
            "fillpattern": {
             "fillmode": "overlay",
             "size": 10,
             "solidity": 0.2
            },
            "type": "scatter"
           }
          ],
          "scatterternary": [
           {
            "marker": {
             "colorbar": {
              "outlinewidth": 0,
              "ticks": ""
             }
            },
            "type": "scatterternary"
           }
          ],
          "surface": [
           {
            "colorbar": {
             "outlinewidth": 0,
             "ticks": ""
            },
            "colorscale": [
             [
              0.0,
              "#0d0887"
             ],
             [
              0.1111111111111111,
              "#46039f"
             ],
             [
              0.2222222222222222,
              "#7201a8"
             ],
             [
              0.3333333333333333,
              "#9c179e"
             ],
             [
              0.4444444444444444,
              "#bd3786"
             ],
             [
              0.5555555555555556,
              "#d8576b"
             ],
             [
              0.6666666666666666,
              "#ed7953"
             ],
             [
              0.7777777777777778,
              "#fb9f3a"
             ],
             [
              0.8888888888888888,
              "#fdca26"
             ],
             [
              1.0,
              "#f0f921"
             ]
            ],
            "type": "surface"
           }
          ],
          "table": [
           {
            "cells": {
             "fill": {
              "color": "#EBF0F8"
             },
             "line": {
              "color": "white"
             }
            },
            "header": {
             "fill": {
              "color": "#C8D4E3"
             },
             "line": {
              "color": "white"
             }
            },
            "type": "table"
           }
          ]
         },
         "layout": {
          "annotationdefaults": {
           "arrowcolor": "#2a3f5f",
           "arrowhead": 0,
           "arrowwidth": 1
          },
          "autotypenumbers": "strict",
          "coloraxis": {
           "colorbar": {
            "outlinewidth": 0,
            "ticks": ""
           }
          },
          "colorscale": {
           "diverging": [
            [
             0,
             "#8e0152"
            ],
            [
             0.1,
             "#c51b7d"
            ],
            [
             0.2,
             "#de77ae"
            ],
            [
             0.3,
             "#f1b6da"
            ],
            [
             0.4,
             "#fde0ef"
            ],
            [
             0.5,
             "#f7f7f7"
            ],
            [
             0.6,
             "#e6f5d0"
            ],
            [
             0.7,
             "#b8e186"
            ],
            [
             0.8,
             "#7fbc41"
            ],
            [
             0.9,
             "#4d9221"
            ],
            [
             1,
             "#276419"
            ]
           ],
           "sequential": [
            [
             0.0,
             "#0d0887"
            ],
            [
             0.1111111111111111,
             "#46039f"
            ],
            [
             0.2222222222222222,
             "#7201a8"
            ],
            [
             0.3333333333333333,
             "#9c179e"
            ],
            [
             0.4444444444444444,
             "#bd3786"
            ],
            [
             0.5555555555555556,
             "#d8576b"
            ],
            [
             0.6666666666666666,
             "#ed7953"
            ],
            [
             0.7777777777777778,
             "#fb9f3a"
            ],
            [
             0.8888888888888888,
             "#fdca26"
            ],
            [
             1.0,
             "#f0f921"
            ]
           ],
           "sequentialminus": [
            [
             0.0,
             "#0d0887"
            ],
            [
             0.1111111111111111,
             "#46039f"
            ],
            [
             0.2222222222222222,
             "#7201a8"
            ],
            [
             0.3333333333333333,
             "#9c179e"
            ],
            [
             0.4444444444444444,
             "#bd3786"
            ],
            [
             0.5555555555555556,
             "#d8576b"
            ],
            [
             0.6666666666666666,
             "#ed7953"
            ],
            [
             0.7777777777777778,
             "#fb9f3a"
            ],
            [
             0.8888888888888888,
             "#fdca26"
            ],
            [
             1.0,
             "#f0f921"
            ]
           ]
          },
          "colorway": [
           "#636efa",
           "#EF553B",
           "#00cc96",
           "#ab63fa",
           "#FFA15A",
           "#19d3f3",
           "#FF6692",
           "#B6E880",
           "#FF97FF",
           "#FECB52"
          ],
          "font": {
           "color": "#2a3f5f"
          },
          "geo": {
           "bgcolor": "white",
           "lakecolor": "white",
           "landcolor": "white",
           "showlakes": true,
           "showland": true,
           "subunitcolor": "#C8D4E3"
          },
          "hoverlabel": {
           "align": "left"
          },
          "hovermode": "closest",
          "mapbox": {
           "style": "light"
          },
          "paper_bgcolor": "white",
          "plot_bgcolor": "white",
          "polar": {
           "angularaxis": {
            "gridcolor": "#EBF0F8",
            "linecolor": "#EBF0F8",
            "ticks": ""
           },
           "bgcolor": "white",
           "radialaxis": {
            "gridcolor": "#EBF0F8",
            "linecolor": "#EBF0F8",
            "ticks": ""
           }
          },
          "scene": {
           "xaxis": {
            "backgroundcolor": "white",
            "gridcolor": "#DFE8F3",
            "gridwidth": 2,
            "linecolor": "#EBF0F8",
            "showbackground": true,
            "ticks": "",
            "zerolinecolor": "#EBF0F8"
           },
           "yaxis": {
            "backgroundcolor": "white",
            "gridcolor": "#DFE8F3",
            "gridwidth": 2,
            "linecolor": "#EBF0F8",
            "showbackground": true,
            "ticks": "",
            "zerolinecolor": "#EBF0F8"
           },
           "zaxis": {
            "backgroundcolor": "white",
            "gridcolor": "#DFE8F3",
            "gridwidth": 2,
            "linecolor": "#EBF0F8",
            "showbackground": true,
            "ticks": "",
            "zerolinecolor": "#EBF0F8"
           }
          },
          "shapedefaults": {
           "line": {
            "color": "#2a3f5f"
           }
          },
          "ternary": {
           "aaxis": {
            "gridcolor": "#DFE8F3",
            "linecolor": "#A2B1C6",
            "ticks": ""
           },
           "baxis": {
            "gridcolor": "#DFE8F3",
            "linecolor": "#A2B1C6",
            "ticks": ""
           },
           "bgcolor": "white",
           "caxis": {
            "gridcolor": "#DFE8F3",
            "linecolor": "#A2B1C6",
            "ticks": ""
           }
          },
          "title": {
           "x": 0.05
          },
          "xaxis": {
           "automargin": true,
           "gridcolor": "#EBF0F8",
           "linecolor": "#EBF0F8",
           "ticks": "",
           "title": {
            "standoff": 15
           },
           "zerolinecolor": "#EBF0F8",
           "zerolinewidth": 2
          },
          "yaxis": {
           "automargin": true,
           "gridcolor": "#EBF0F8",
           "linecolor": "#EBF0F8",
           "ticks": "",
           "title": {
            "standoff": 15
           },
           "zerolinecolor": "#EBF0F8",
           "zerolinewidth": 2
          }
         }
        },
        "xaxis": {
         "anchor": "y",
         "domain": [
          0.0,
          1.0
         ],
         "title": {
          "text": "Model"
         },
         "categoryorder": "array",
         "categoryarray": [
          "Camembert",
          "Flaubert"
         ]
        },
        "yaxis": {
         "anchor": "x",
         "domain": [
          0.0,
          1.0
         ],
         "title": {
          "text": "F1"
         }
        },
        "legend": {
         "title": {
          "text": "Model"
         },
         "tracegroupgap": 0
        },
        "title": {
         "text": "F1 scores for each model"
        },
        "boxmode": "overlay",
        "showlegend": false
       },
       "config": {
        "plotlyServerURL": "https://plot.ly"
       }
      },
      "text/html": "<div>                            <div id=\"8845e412-c4c8-49d1-9629-387e68546b40\" class=\"plotly-graph-div\" style=\"height:525px; width:100%;\"></div>            <script type=\"text/javascript\">                require([\"plotly\"], function(Plotly) {                    window.PLOTLYENV=window.PLOTLYENV || {};                                    if (document.getElementById(\"8845e412-c4c8-49d1-9629-387e68546b40\")) {                    Plotly.newPlot(                        \"8845e412-c4c8-49d1-9629-387e68546b40\",                        [{\"alignmentgroup\":\"True\",\"hovertemplate\":\"Model=%{x}\\u003cbr\\u003eF1=%{y}\\u003cextra\\u003e\\u003c\\u002fextra\\u003e\",\"legendgroup\":\"Camembert\",\"marker\":{\"color\":\"#636efa\"},\"name\":\"Camembert\",\"notched\":false,\"offsetgroup\":\"Camembert\",\"orientation\":\"v\",\"showlegend\":true,\"x\":[\"Camembert\",\"Camembert\",\"Camembert\",\"Camembert\",\"Camembert\",\"Camembert\",\"Camembert\",\"Camembert\",\"Camembert\",\"Camembert\",\"Camembert\",\"Camembert\",\"Camembert\",\"Camembert\"],\"x0\":\" \",\"xaxis\":\"x\",\"y\":[0.837037037037037,0.8399122492065088,0.5522632707098727,0.8695861006322724,0.878844246031746,0.6366269187155953,0.6241556431184914,0.7045634207689543,0.5038222646918299,0.6831654345167859,0.7627935789700496,0.7256925291133266,0.69574331049751,0.7175245603999222],\"y0\":\" \",\"yaxis\":\"y\",\"type\":\"box\"},{\"alignmentgroup\":\"True\",\"hovertemplate\":\"Model=%{x}\\u003cbr\\u003eF1=%{y}\\u003cextra\\u003e\\u003c\\u002fextra\\u003e\",\"legendgroup\":\"Flaubert\",\"marker\":{\"color\":\"#EF553B\"},\"name\":\"Flaubert\",\"notched\":false,\"offsetgroup\":\"Flaubert\",\"orientation\":\"v\",\"showlegend\":true,\"x\":[\"Flaubert\",\"Flaubert\",\"Flaubert\",\"Flaubert\",\"Flaubert\",\"Flaubert\",\"Flaubert\",\"Flaubert\",\"Flaubert\",\"Flaubert\",\"Flaubert\",\"Flaubert\",\"Flaubert\",\"Flaubert\"],\"x0\":\" \",\"xaxis\":\"x\",\"y\":[0.6767219708396179,0.8466765273008379,0.4929390997352162,0.762519970709626,0.6914605191099324,0.4760324083303595,0.6588341132491148,0.5962821492233257,0.6582695208260819,0.7742599742599745,0.9438128192453452,0.7039746104587614,0.6486707297197801,0.6888917338935848],\"y0\":\" \",\"yaxis\":\"y\",\"type\":\"box\"}],                        {\"template\":{\"data\":{\"barpolar\":[{\"marker\":{\"line\":{\"color\":\"white\",\"width\":0.5},\"pattern\":{\"fillmode\":\"overlay\",\"size\":10,\"solidity\":0.2}},\"type\":\"barpolar\"}],\"bar\":[{\"error_x\":{\"color\":\"#2a3f5f\"},\"error_y\":{\"color\":\"#2a3f5f\"},\"marker\":{\"line\":{\"color\":\"white\",\"width\":0.5},\"pattern\":{\"fillmode\":\"overlay\",\"size\":10,\"solidity\":0.2}},\"type\":\"bar\"}],\"carpet\":[{\"aaxis\":{\"endlinecolor\":\"#2a3f5f\",\"gridcolor\":\"#C8D4E3\",\"linecolor\":\"#C8D4E3\",\"minorgridcolor\":\"#C8D4E3\",\"startlinecolor\":\"#2a3f5f\"},\"baxis\":{\"endlinecolor\":\"#2a3f5f\",\"gridcolor\":\"#C8D4E3\",\"linecolor\":\"#C8D4E3\",\"minorgridcolor\":\"#C8D4E3\",\"startlinecolor\":\"#2a3f5f\"},\"type\":\"carpet\"}],\"choropleth\":[{\"colorbar\":{\"outlinewidth\":0,\"ticks\":\"\"},\"type\":\"choropleth\"}],\"contourcarpet\":[{\"colorbar\":{\"outlinewidth\":0,\"ticks\":\"\"},\"type\":\"contourcarpet\"}],\"contour\":[{\"colorbar\":{\"outlinewidth\":0,\"ticks\":\"\"},\"colorscale\":[[0.0,\"#0d0887\"],[0.1111111111111111,\"#46039f\"],[0.2222222222222222,\"#7201a8\"],[0.3333333333333333,\"#9c179e\"],[0.4444444444444444,\"#bd3786\"],[0.5555555555555556,\"#d8576b\"],[0.6666666666666666,\"#ed7953\"],[0.7777777777777778,\"#fb9f3a\"],[0.8888888888888888,\"#fdca26\"],[1.0,\"#f0f921\"]],\"type\":\"contour\"}],\"heatmapgl\":[{\"colorbar\":{\"outlinewidth\":0,\"ticks\":\"\"},\"colorscale\":[[0.0,\"#0d0887\"],[0.1111111111111111,\"#46039f\"],[0.2222222222222222,\"#7201a8\"],[0.3333333333333333,\"#9c179e\"],[0.4444444444444444,\"#bd3786\"],[0.5555555555555556,\"#d8576b\"],[0.6666666666666666,\"#ed7953\"],[0.7777777777777778,\"#fb9f3a\"],[0.8888888888888888,\"#fdca26\"],[1.0,\"#f0f921\"]],\"type\":\"heatmapgl\"}],\"heatmap\":[{\"colorbar\":{\"outlinewidth\":0,\"ticks\":\"\"},\"colorscale\":[[0.0,\"#0d0887\"],[0.1111111111111111,\"#46039f\"],[0.2222222222222222,\"#7201a8\"],[0.3333333333333333,\"#9c179e\"],[0.4444444444444444,\"#bd3786\"],[0.5555555555555556,\"#d8576b\"],[0.6666666666666666,\"#ed7953\"],[0.7777777777777778,\"#fb9f3a\"],[0.8888888888888888,\"#fdca26\"],[1.0,\"#f0f921\"]],\"type\":\"heatmap\"}],\"histogram2dcontour\":[{\"colorbar\":{\"outlinewidth\":0,\"ticks\":\"\"},\"colorscale\":[[0.0,\"#0d0887\"],[0.1111111111111111,\"#46039f\"],[0.2222222222222222,\"#7201a8\"],[0.3333333333333333,\"#9c179e\"],[0.4444444444444444,\"#bd3786\"],[0.5555555555555556,\"#d8576b\"],[0.6666666666666666,\"#ed7953\"],[0.7777777777777778,\"#fb9f3a\"],[0.8888888888888888,\"#fdca26\"],[1.0,\"#f0f921\"]],\"type\":\"histogram2dcontour\"}],\"histogram2d\":[{\"colorbar\":{\"outlinewidth\":0,\"ticks\":\"\"},\"colorscale\":[[0.0,\"#0d0887\"],[0.1111111111111111,\"#46039f\"],[0.2222222222222222,\"#7201a8\"],[0.3333333333333333,\"#9c179e\"],[0.4444444444444444,\"#bd3786\"],[0.5555555555555556,\"#d8576b\"],[0.6666666666666666,\"#ed7953\"],[0.7777777777777778,\"#fb9f3a\"],[0.8888888888888888,\"#fdca26\"],[1.0,\"#f0f921\"]],\"type\":\"histogram2d\"}],\"histogram\":[{\"marker\":{\"pattern\":{\"fillmode\":\"overlay\",\"size\":10,\"solidity\":0.2}},\"type\":\"histogram\"}],\"mesh3d\":[{\"colorbar\":{\"outlinewidth\":0,\"ticks\":\"\"},\"type\":\"mesh3d\"}],\"parcoords\":[{\"line\":{\"colorbar\":{\"outlinewidth\":0,\"ticks\":\"\"}},\"type\":\"parcoords\"}],\"pie\":[{\"automargin\":true,\"type\":\"pie\"}],\"scatter3d\":[{\"line\":{\"colorbar\":{\"outlinewidth\":0,\"ticks\":\"\"}},\"marker\":{\"colorbar\":{\"outlinewidth\":0,\"ticks\":\"\"}},\"type\":\"scatter3d\"}],\"scattercarpet\":[{\"marker\":{\"colorbar\":{\"outlinewidth\":0,\"ticks\":\"\"}},\"type\":\"scattercarpet\"}],\"scattergeo\":[{\"marker\":{\"colorbar\":{\"outlinewidth\":0,\"ticks\":\"\"}},\"type\":\"scattergeo\"}],\"scattergl\":[{\"marker\":{\"colorbar\":{\"outlinewidth\":0,\"ticks\":\"\"}},\"type\":\"scattergl\"}],\"scattermapbox\":[{\"marker\":{\"colorbar\":{\"outlinewidth\":0,\"ticks\":\"\"}},\"type\":\"scattermapbox\"}],\"scatterpolargl\":[{\"marker\":{\"colorbar\":{\"outlinewidth\":0,\"ticks\":\"\"}},\"type\":\"scatterpolargl\"}],\"scatterpolar\":[{\"marker\":{\"colorbar\":{\"outlinewidth\":0,\"ticks\":\"\"}},\"type\":\"scatterpolar\"}],\"scatter\":[{\"fillpattern\":{\"fillmode\":\"overlay\",\"size\":10,\"solidity\":0.2},\"type\":\"scatter\"}],\"scatterternary\":[{\"marker\":{\"colorbar\":{\"outlinewidth\":0,\"ticks\":\"\"}},\"type\":\"scatterternary\"}],\"surface\":[{\"colorbar\":{\"outlinewidth\":0,\"ticks\":\"\"},\"colorscale\":[[0.0,\"#0d0887\"],[0.1111111111111111,\"#46039f\"],[0.2222222222222222,\"#7201a8\"],[0.3333333333333333,\"#9c179e\"],[0.4444444444444444,\"#bd3786\"],[0.5555555555555556,\"#d8576b\"],[0.6666666666666666,\"#ed7953\"],[0.7777777777777778,\"#fb9f3a\"],[0.8888888888888888,\"#fdca26\"],[1.0,\"#f0f921\"]],\"type\":\"surface\"}],\"table\":[{\"cells\":{\"fill\":{\"color\":\"#EBF0F8\"},\"line\":{\"color\":\"white\"}},\"header\":{\"fill\":{\"color\":\"#C8D4E3\"},\"line\":{\"color\":\"white\"}},\"type\":\"table\"}]},\"layout\":{\"annotationdefaults\":{\"arrowcolor\":\"#2a3f5f\",\"arrowhead\":0,\"arrowwidth\":1},\"autotypenumbers\":\"strict\",\"coloraxis\":{\"colorbar\":{\"outlinewidth\":0,\"ticks\":\"\"}},\"colorscale\":{\"diverging\":[[0,\"#8e0152\"],[0.1,\"#c51b7d\"],[0.2,\"#de77ae\"],[0.3,\"#f1b6da\"],[0.4,\"#fde0ef\"],[0.5,\"#f7f7f7\"],[0.6,\"#e6f5d0\"],[0.7,\"#b8e186\"],[0.8,\"#7fbc41\"],[0.9,\"#4d9221\"],[1,\"#276419\"]],\"sequential\":[[0.0,\"#0d0887\"],[0.1111111111111111,\"#46039f\"],[0.2222222222222222,\"#7201a8\"],[0.3333333333333333,\"#9c179e\"],[0.4444444444444444,\"#bd3786\"],[0.5555555555555556,\"#d8576b\"],[0.6666666666666666,\"#ed7953\"],[0.7777777777777778,\"#fb9f3a\"],[0.8888888888888888,\"#fdca26\"],[1.0,\"#f0f921\"]],\"sequentialminus\":[[0.0,\"#0d0887\"],[0.1111111111111111,\"#46039f\"],[0.2222222222222222,\"#7201a8\"],[0.3333333333333333,\"#9c179e\"],[0.4444444444444444,\"#bd3786\"],[0.5555555555555556,\"#d8576b\"],[0.6666666666666666,\"#ed7953\"],[0.7777777777777778,\"#fb9f3a\"],[0.8888888888888888,\"#fdca26\"],[1.0,\"#f0f921\"]]},\"colorway\":[\"#636efa\",\"#EF553B\",\"#00cc96\",\"#ab63fa\",\"#FFA15A\",\"#19d3f3\",\"#FF6692\",\"#B6E880\",\"#FF97FF\",\"#FECB52\"],\"font\":{\"color\":\"#2a3f5f\"},\"geo\":{\"bgcolor\":\"white\",\"lakecolor\":\"white\",\"landcolor\":\"white\",\"showlakes\":true,\"showland\":true,\"subunitcolor\":\"#C8D4E3\"},\"hoverlabel\":{\"align\":\"left\"},\"hovermode\":\"closest\",\"mapbox\":{\"style\":\"light\"},\"paper_bgcolor\":\"white\",\"plot_bgcolor\":\"white\",\"polar\":{\"angularaxis\":{\"gridcolor\":\"#EBF0F8\",\"linecolor\":\"#EBF0F8\",\"ticks\":\"\"},\"bgcolor\":\"white\",\"radialaxis\":{\"gridcolor\":\"#EBF0F8\",\"linecolor\":\"#EBF0F8\",\"ticks\":\"\"}},\"scene\":{\"xaxis\":{\"backgroundcolor\":\"white\",\"gridcolor\":\"#DFE8F3\",\"gridwidth\":2,\"linecolor\":\"#EBF0F8\",\"showbackground\":true,\"ticks\":\"\",\"zerolinecolor\":\"#EBF0F8\"},\"yaxis\":{\"backgroundcolor\":\"white\",\"gridcolor\":\"#DFE8F3\",\"gridwidth\":2,\"linecolor\":\"#EBF0F8\",\"showbackground\":true,\"ticks\":\"\",\"zerolinecolor\":\"#EBF0F8\"},\"zaxis\":{\"backgroundcolor\":\"white\",\"gridcolor\":\"#DFE8F3\",\"gridwidth\":2,\"linecolor\":\"#EBF0F8\",\"showbackground\":true,\"ticks\":\"\",\"zerolinecolor\":\"#EBF0F8\"}},\"shapedefaults\":{\"line\":{\"color\":\"#2a3f5f\"}},\"ternary\":{\"aaxis\":{\"gridcolor\":\"#DFE8F3\",\"linecolor\":\"#A2B1C6\",\"ticks\":\"\"},\"baxis\":{\"gridcolor\":\"#DFE8F3\",\"linecolor\":\"#A2B1C6\",\"ticks\":\"\"},\"bgcolor\":\"white\",\"caxis\":{\"gridcolor\":\"#DFE8F3\",\"linecolor\":\"#A2B1C6\",\"ticks\":\"\"}},\"title\":{\"x\":0.05},\"xaxis\":{\"automargin\":true,\"gridcolor\":\"#EBF0F8\",\"linecolor\":\"#EBF0F8\",\"ticks\":\"\",\"title\":{\"standoff\":15},\"zerolinecolor\":\"#EBF0F8\",\"zerolinewidth\":2},\"yaxis\":{\"automargin\":true,\"gridcolor\":\"#EBF0F8\",\"linecolor\":\"#EBF0F8\",\"ticks\":\"\",\"title\":{\"standoff\":15},\"zerolinecolor\":\"#EBF0F8\",\"zerolinewidth\":2}}},\"xaxis\":{\"anchor\":\"y\",\"domain\":[0.0,1.0],\"title\":{\"text\":\"Model\"},\"categoryorder\":\"array\",\"categoryarray\":[\"Camembert\",\"Flaubert\"]},\"yaxis\":{\"anchor\":\"x\",\"domain\":[0.0,1.0],\"title\":{\"text\":\"F1\"}},\"legend\":{\"title\":{\"text\":\"Model\"},\"tracegroupgap\":0},\"title\":{\"text\":\"F1 scores for each model\"},\"boxmode\":\"overlay\",\"showlegend\":false},                        {\"responsive\": true}                    ).then(function(){\n                            \nvar gd = document.getElementById('8845e412-c4c8-49d1-9629-387e68546b40');\nvar x = new MutationObserver(function (mutations, observer) {{\n        var display = window.getComputedStyle(gd).display;\n        if (!display || display === 'none') {{\n            console.log([gd, 'removed!']);\n            Plotly.purge(gd);\n            observer.disconnect();\n        }}\n}});\n\n// Listen for the removal of the full notebook cells\nvar notebookContainer = gd.closest('#notebook-container');\nif (notebookContainer) {{\n    x.observe(notebookContainer, {childList: true});\n}}\n\n// Listen for the clearing of the current output cell\nvar outputEl = gd.closest('.output');\nif (outputEl) {{\n    x.observe(outputEl, {childList: true});\n}}\n\n                        })                };                });            </script>        </div>"
     },
     "metadata": {},
     "output_type": "display_data"
    }
   ],
   "source": [
    "# We will make boxplots for the weighted scores of each word\n",
    "fig_weighted = px.box(df, x=\"Model\" ,y=\"Weighted\", color=\"Model\", title=\"Weighted scores for each model\", template=\"plotly_white\")\n",
    "fig_weighted.update(layout_showlegend=False)\n",
    "fig_weighted.show()\n",
    "\n",
    "fig_overall = px.box(df, x=\"Model\" ,y=\"Overall\", color=\"Model\", title=\"Overall scores for each model\", template=\"plotly_white\")\n",
    "fig_overall.update(layout_showlegend=False)\n",
    "fig_overall.show()\n",
    "\n",
    "fig_v_measure = px.box(df, x=\"Model\" ,y=\"V_measure\", color=\"Model\", title=\"V measure clustering scores for each model\", template=\"plotly_white\")\n",
    "fig_v_measure.update(layout_showlegend=False)\n",
    "fig_v_measure.show()\n",
    "\n",
    "fig_rand = px.box(df, x=\"Model\" ,y=\"Rand\", color=\"Model\", title=\"Adjusted Rand scores for each model\", template=\"plotly_white\")\n",
    "fig_rand.update(layout_showlegend=False)\n",
    "fig_rand.show()\n",
    "\n",
    "\n",
    "fig_F1 = px.box(df, x=\"Model\" ,y=\"F1\", color=\"Model\", title=\"F1 scores for each model\", template=\"plotly_white\")\n",
    "fig_F1.update(layout_showlegend=False)\n",
    "fig_F1.show()"
   ],
   "metadata": {
    "collapsed": false,
    "ExecuteTime": {
     "end_time": "2024-05-17T21:39:57.883917Z",
     "start_time": "2024-05-17T21:39:57.600100Z"
    }
   },
   "id": "85768d001217e269",
   "execution_count": 36
  },
  {
   "cell_type": "markdown",
   "source": [
    "As we are more familiar with data visualisation in R, we will use the saved files to create the visualisations in R.\n",
    "\n"
   ],
   "metadata": {
    "collapsed": false
   },
   "id": "401f7c3a5050635a"
  },
  {
   "cell_type": "code",
   "outputs": [],
   "source": [],
   "metadata": {
    "collapsed": false
   },
   "id": "e38c8e47bd3b3422"
  }
 ],
 "metadata": {
  "kernelspec": {
   "display_name": "Python 3",
   "language": "python",
   "name": "python3"
  },
  "language_info": {
   "codemirror_mode": {
    "name": "ipython",
    "version": 2
   },
   "file_extension": ".py",
   "mimetype": "text/x-python",
   "name": "python",
   "nbconvert_exporter": "python",
   "pygments_lexer": "ipython2",
   "version": "2.7.6"
  }
 },
 "nbformat": 4,
 "nbformat_minor": 5
}
