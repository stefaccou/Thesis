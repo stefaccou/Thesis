{
 "cells": [
  {
   "cell_type": "markdown",
   "source": [
    "# Experiment 3: Clustering op substitute word vectors"
   ],
   "metadata": {
    "collapsed": false
   },
   "id": "db7d278e76a7f0d"
  },
  {
   "cell_type": "code",
   "outputs": [],
   "source": [
    "import torch\n",
    "import pandas as pd\n",
    "import os\n",
    "import re\n",
    "import plotly.express as px\n",
    "from sklearn.decomposition import PCA\n",
    "from sklearn.mixture import GaussianMixture\n",
    "from sklearn.metrics.cluster import v_measure_score, adjusted_rand_score\n",
    "import numpy as np\n",
    "import statistics\n",
    "import openpyxl"
   ],
   "metadata": {
    "collapsed": false,
    "ExecuteTime": {
     "end_time": "2024-05-17T21:46:48.548642Z",
     "start_time": "2024-05-17T21:46:42.486856Z"
    }
   },
   "id": "initial_id",
   "execution_count": 1
  },
  {
   "cell_type": "markdown",
   "source": [
    "The second part of this notebook only works if the first part has been ran with both 'Flaubert' and 'Camembert' as model names."
   ],
   "metadata": {
    "collapsed": false
   },
   "id": "de4cec60030f8365"
  },
  {
   "cell_type": "code",
   "outputs": [],
   "source": [
    "model_name = \"Camembert\""
   ],
   "metadata": {
    "collapsed": false,
    "ExecuteTime": {
     "end_time": "2024-05-17T21:48:27.723376Z",
     "start_time": "2024-05-17T21:48:27.719489Z"
    }
   },
   "id": "ce0298e459624da1",
   "execution_count": 27
  },
  {
   "cell_type": "markdown",
   "source": [
    "# AGG-clusters"
   ],
   "metadata": {
    "collapsed": false
   },
   "id": "672029a2291dd92c"
  },
  {
   "cell_type": "code",
   "outputs": [
    {
     "name": "stdout",
     "output_type": "stream",
     "text": [
      "Avocat\n",
      "Number of senses: 2\n",
      "Score for each sense\n",
      "avocado      3.571429\n",
      "lawyer     100.000000\n",
      "Name: agg_default_sub, dtype: float64\n",
      "Overall score 67.85714285714286\n",
      "Weighted score 51.78571428571429\n",
      "Harmonic mean 6.896551724137931\n",
      "V-measure score 6.986774637673365\n",
      "Adjusted Rand score 4.768892707517545\n",
      "All-in-one score 66.66666666666666 \n",
      "\n",
      "\n",
      "Bien\n",
      "Number of senses: 3\n",
      "Score for each sense\n",
      "good         100.000000\n",
      "property      91.836735\n",
      "wellbeing      0.000000\n",
      "Name: agg_default_sub, dtype: float64\n",
      "Overall score 75.51020408163265\n",
      "Weighted score 63.94557823129251\n",
      "Harmonic mean 0\n",
      "V-measure score 69.95502050551441\n",
      "Adjusted Rand score 65.24244952979491\n",
      "All-in-one score 50.0 \n",
      "\n",
      "\n",
      "Bureau\n",
      "Number of senses: 3\n",
      "Score for each sense\n",
      "cabinet     0.000000\n",
      "desk       71.428571\n",
      "office     74.074074\n",
      "Name: agg_default_sub, dtype: float64\n",
      "Overall score 63.10679611650486\n",
      "Weighted score 48.500881834215164\n",
      "Harmonic mean 0\n",
      "V-measure score 27.86332902031756\n",
      "Adjusted Rand score 24.005935246990045\n",
      "All-in-one score 52.42718446601942 \n",
      "\n",
      "\n",
      "Faculté\n",
      "Number of senses: 3\n",
      "Score for each sense\n",
      "ability         0.000000\n",
      "competence     96.428571\n",
      "university    100.000000\n",
      "Name: agg_default_sub, dtype: float64\n",
      "Overall score 80.0\n",
      "Weighted score 65.47619047619048\n",
      "Harmonic mean 0\n",
      "V-measure score 72.79462754857819\n",
      "Adjusted Rand score 70.85239981827252\n",
      "All-in-one score 46.25 \n",
      "\n",
      "\n",
      "Filer\n",
      "Number of senses: 3\n",
      "Score for each sense\n",
      "give          0.00000\n",
      "slip away    97.87234\n",
      "spinning     95.00000\n",
      "Name: agg_default_sub, dtype: float64\n",
      "Overall score 67.70833333333334\n",
      "Weighted score 64.29078014184397\n",
      "Harmonic mean 0\n",
      "V-measure score 57.98644234117336\n",
      "Adjusted Rand score 40.467896485222994\n",
      "All-in-one score 48.95833333333333 \n",
      "\n",
      "Glace\n",
      "Number of senses: 5\n",
      "Score for each sense\n",
      "glass              0.000000\n",
      "ice               94.915254\n",
      "ice cream          0.000000\n",
      "mirror             0.000000\n",
      "powdered sugar     0.000000\n",
      "Name: agg_default_sub, dtype: float64\n",
      "Overall score 45.52845528455284\n",
      "Weighted score 18.983050847457626\n",
      "Harmonic mean 0\n",
      "V-measure score 2.451000034016718\n",
      "Adjusted Rand score -2.3348678017959683\n",
      "All-in-one score 47.96747967479675 \n",
      "\n",
      "\n",
      "Souris\n",
      "Number of senses: 3\n",
      "Score for each sense\n",
      "bat         10.0\n",
      "pointer    100.0\n",
      "rodent     100.0\n",
      "Name: agg_default_sub, dtype: float64\n",
      "Overall score 86.76470588235294\n",
      "Weighted score 70.0\n",
      "Harmonic mean 25.0\n",
      "V-measure score 79.31949135159361\n",
      "Adjusted Rand score 74.67124084141959\n",
      "All-in-one score 45.588235294117645 \n",
      "\n",
      "\n",
      "Supporter\n",
      "Number of senses: 3\n",
      "Score for each sense\n",
      "endure     100.000000\n",
      "fan         91.666667\n",
      "hold up      0.000000\n",
      "Name: agg_default_sub, dtype: float64\n",
      "Overall score 70.9090909090909\n",
      "Weighted score 63.888888888888886\n",
      "Harmonic mean 0\n",
      "V-measure score 64.86930283618034\n",
      "Adjusted Rand score 46.03464891978236\n",
      "All-in-one score 50.90909090909091 \n",
      "\n",
      "\n",
      "Tirer\n",
      "Number of senses: 2\n",
      "Score for each sense\n",
      "pull      0.000000\n",
      "shoot    97.297297\n",
      "Name: agg_default_sub, dtype: float64\n",
      "Overall score 69.23076923076923\n",
      "Weighted score 48.64864864864865\n",
      "Harmonic mean 0\n",
      "V-measure score 1.8673257596631747\n",
      "Adjusted Rand score -2.214586731356753\n",
      "All-in-one score 71.15384615384616 \n",
      "\n",
      "\n",
      "Tour\n",
      "Number of senses: 5\n",
      "Score for each sense\n",
      "lap       0.000000\n",
      "round     0.000000\n",
      "tower     0.000000\n",
      "trick    21.428571\n",
      "turn     95.833333\n",
      "Name: agg_default_sub, dtype: float64\n",
      "Overall score 35.13513513513514\n",
      "Weighted score 23.452380952380953\n",
      "Harmonic mean 0\n",
      "V-measure score 9.736946535733388\n",
      "Adjusted Rand score 0.6291782107490593\n",
      "All-in-one score 32.432432432432435 \n",
      "\n",
      "Vol\n",
      "Number of senses: 2\n",
      "Score for each sense\n",
      "flight    91.666667\n",
      "theft      0.000000\n",
      "Name: agg_default_sub, dtype: float64\n",
      "Overall score 64.70588235294117\n",
      "Weighted score 45.83333333333333\n",
      "Harmonic mean 0\n",
      "V-measure score 4.946875232289851\n",
      "Adjusted Rand score -5.720393606050189\n",
      "All-in-one score 70.58823529411765 \n"
     ]
    }
   ],
   "source": [
    "weighted_scores_agg = {} # our original metric\n",
    "overall_scores_agg = {} # the percentage of correct predictions across all senses\n",
    "all_in_one_cluster_overall_scores_agg = {} # the percentage of correct predictions if no clustering would take place\n",
    "amount_senses = {} # the amount of different senses (does not differ)\n",
    "v_measure_scores_agg = {} # the v-measure score\n",
    "rand_scores_agg = {} # the adjusted rand score\n",
    "# We also calculate a F1 score in a later code block\n",
    "\n",
    "for filename in os.listdir(f\"{model_name}/Experiment_3/Curated\"):\n",
    "    if filename.endswith(\".csv\"):\n",
    "        df = pd.read_csv(f\"{model_name}/Experiment_3/Curated/\" + filename, sep=\";\", encoding=\"utf-8\", header=0)\n",
    "        target_word = df[\"source\"][1]\n",
    "        print(target_word)\n",
    "        # We calculate the amount of different senses\n",
    "        senses = len(df[\"sense\"].unique())\n",
    "        print(\"Number of senses:\", senses)\n",
    "        percentage_default_agg = (df[\"agg_default_sub\"].sum() / len(df))\n",
    "        # We also calculate this separately for each \"sense\"\n",
    "        percentage_default_mean_agg = df.groupby(\"sense\")[\"agg_default_sub\"].mean()\n",
    "        # We calculate a harmonic mean, as it is more representative of the overall performance\n",
    "        harmonic_mean_agg = statistics.harmonic_mean(df.groupby(\"sense\")[\"agg_default_sub\"].mean())\n",
    "        # We want the mean score across all senses, as it does not mean a lot if a program can correctly define one big cluster containing most of the data and fail at all other senses.\n",
    "        percentage_weighted_agg = percentage_default_mean_agg.mean()\n",
    "        v_measure_agg = v_measure_score(df[\"sense\"], df[\"agg_cluster_sub\"])\n",
    "        rand_agg = adjusted_rand_score(df[\"sense\"], df[\"agg_cluster_sub\"])\n",
    "\n",
    "\n",
    "\n",
    "        print(\"Score for each\", percentage_default_mean_agg*100)\n",
    "        print(\"Overall score\", percentage_default_agg*100)\n",
    "        print(\"Weighted score\", percentage_weighted_agg*100)\n",
    "        print(\"Harmonic mean\", harmonic_mean_agg*100)\n",
    "        print(\"V-measure score\", v_measure_agg*100)\n",
    "        print(\"Adjusted Rand score\", rand_agg*100)\n",
    "        weighted_scores_agg[target_word] = percentage_weighted_agg\n",
    "        overall_scores_agg[target_word] = percentage_default_agg\n",
    "        amount_senses[target_word] = senses\n",
    "        v_measure_scores_agg[target_word] = v_measure_agg\n",
    "        rand_scores_agg[target_word] = rand_agg\n",
    "        # We also calculate the score if no clustering would take place\n",
    "        default = df[\"sense\"].value_counts().idxmax()\n",
    "        \n",
    "        # We calculate the overall score: this is the percentage of this sense in the total dataframe\n",
    "        all_in_one_cluster_score_agg = (df[\"sense\"] == default).sum() / len(df)\n",
    "        all_in_one_cluster_overall_scores_agg[target_word] = all_in_one_cluster_score_agg\n",
    "        print(\"All-in-one score\", all_in_one_cluster_score_agg*100, \"\\n\\n\")"
   ],
   "metadata": {
    "collapsed": false,
    "ExecuteTime": {
     "end_time": "2024-05-17T21:48:29.401030Z",
     "start_time": "2024-05-17T21:48:28.709320Z"
    }
   },
   "id": "6557d2e044505465",
   "execution_count": 28
  },
  {
   "cell_type": "code",
   "outputs": [
    {
     "name": "stdout",
     "output_type": "stream",
     "text": [
      "\n",
      "\n",
      " Avocat\n",
      "Number of senses: 2\n",
      "\n",
      "sense: lawyer\n",
      "instances of sense: 56\n",
      "amount of correct instances: 56\n",
      "correct cluster number: 1\n",
      "total amount of points in biggest cluster: 82\n",
      "precision: 0.6829268292682927\n",
      "recall 1.0\n",
      "F1 0.8115942028985508\n",
      "\n",
      "sense: avocado\n",
      "instances of sense: 28\n",
      "amount of correct instances: 1\n",
      "correct cluster number: 2\n",
      "total amount of points in biggest cluster: 1\n",
      "precision: 1.0\n",
      "recall 0.03571428571428571\n",
      "F1 0.06896551724137931\n",
      "\n",
      "\n",
      " Bien\n",
      "Number of senses: 3\n",
      "\n",
      "sense: property\n",
      "instances of sense: 49\n",
      "amount of correct instances: 45\n",
      "correct cluster number: 1\n",
      "total amount of points in biggest cluster: 45\n",
      "precision: 1.0\n",
      "recall 0.9183673469387755\n",
      "F1 0.9574468085106383\n",
      "\n",
      "sense: wellbeing\n",
      "instances of sense: 20\n",
      "amount of correct instances: 0\n",
      "correct cluster number: No cluster\n",
      "total amount of points in biggest cluster: 0\n",
      "precision zero\n",
      "precision: 0\n",
      "recall 0.0\n",
      "F1 0\n",
      "\n",
      "sense: good\n",
      "instances of sense: 29\n",
      "amount of correct instances: 29\n",
      "correct cluster number: 3\n",
      "total amount of points in biggest cluster: 50\n",
      "precision: 0.58\n",
      "recall 1.0\n",
      "F1 0.7341772151898733\n",
      "\n",
      "\n",
      " Bureau\n",
      "Number of senses: 3\n",
      "\n",
      "sense: desk\n",
      "instances of sense: 35\n",
      "amount of correct instances: 25\n",
      "correct cluster number: 3\n",
      "total amount of points in biggest cluster: 31\n",
      "precision: 0.8064516129032258\n",
      "recall 0.7142857142857143\n",
      "F1 0.7575757575757576\n",
      "\n",
      "sense: cabinet\n",
      "instances of sense: 14\n",
      "amount of correct instances: 0\n",
      "correct cluster number: No cluster\n",
      "total amount of points in biggest cluster: 0\n",
      "precision zero\n",
      "precision: 0\n",
      "recall 0.0\n",
      "F1 0\n",
      "\n",
      "sense: office\n",
      "instances of sense: 54\n",
      "amount of correct instances: 40\n",
      "correct cluster number: 1\n",
      "total amount of points in biggest cluster: 60\n",
      "precision: 0.6666666666666666\n",
      "recall 0.7407407407407407\n",
      "F1 0.7017543859649122\n",
      "\n",
      "\n",
      " Faculté\n",
      "Number of senses: 3\n",
      "\n",
      "sense: university\n",
      "instances of sense: 37\n",
      "amount of correct instances: 37\n",
      "correct cluster number: 1\n",
      "total amount of points in biggest cluster: 38\n",
      "precision: 0.9736842105263158\n",
      "recall 1.0\n",
      "F1 0.9866666666666667\n",
      "\n",
      "sense: competence\n",
      "instances of sense: 28\n",
      "amount of correct instances: 27\n",
      "correct cluster number: 2\n",
      "total amount of points in biggest cluster: 41\n",
      "precision: 0.6585365853658537\n",
      "recall 0.9642857142857143\n",
      "F1 0.782608695652174\n",
      "\n",
      "sense: ability\n",
      "instances of sense: 15\n",
      "amount of correct instances: 0\n",
      "correct cluster number: No cluster\n",
      "total amount of points in biggest cluster: 0\n",
      "precision zero\n",
      "precision: 0\n",
      "recall 0.0\n",
      "F1 0\n",
      "\n",
      "\n",
      " Filer\n",
      "Number of senses: 3\n",
      "\n",
      "sense: slip away\n",
      "instances of sense: 47\n",
      "amount of correct instances: 46\n",
      "correct cluster number: 1\n",
      "total amount of points in biggest cluster: 76\n",
      "precision: 0.6052631578947368\n",
      "recall 0.9787234042553191\n",
      "F1 0.7479674796747967\n",
      "\n",
      "sense: give\n",
      "instances of sense: 29\n",
      "amount of correct instances: 0\n",
      "correct cluster number: No cluster\n",
      "total amount of points in biggest cluster: 0\n",
      "precision zero\n",
      "precision: 0\n",
      "recall 0.0\n",
      "F1 0\n",
      "\n",
      "sense: spinning\n",
      "instances of sense: 20\n",
      "amount of correct instances: 19\n",
      "correct cluster number: 3\n",
      "total amount of points in biggest cluster: 19\n",
      "precision: 1.0\n",
      "recall 0.95\n",
      "F1 0.9743589743589743\n",
      "\n",
      "\n",
      " Glace\n",
      "Number of senses: 5\n",
      "\n",
      "sense: ice\n",
      "instances of sense: 59\n",
      "amount of correct instances: 56\n",
      "correct cluster number: 1\n",
      "total amount of points in biggest cluster: 120\n",
      "precision: 0.4666666666666667\n",
      "recall 0.9491525423728814\n",
      "F1 0.6256983240223464\n",
      "\n",
      "sense: ice cream\n",
      "instances of sense: 20\n",
      "amount of correct instances: 0\n",
      "correct cluster number: No cluster\n",
      "total amount of points in biggest cluster: 0\n",
      "precision zero\n",
      "precision: 0\n",
      "recall 0.0\n",
      "F1 0\n",
      "\n",
      "sense: glass\n",
      "instances of sense: 9\n",
      "amount of correct instances: 0\n",
      "correct cluster number: No cluster\n",
      "total amount of points in biggest cluster: 0\n",
      "precision zero\n",
      "precision: 0\n",
      "recall 0.0\n",
      "F1 0\n",
      "\n",
      "sense: mirror\n",
      "instances of sense: 26\n",
      "amount of correct instances: 0\n",
      "correct cluster number: No cluster\n",
      "total amount of points in biggest cluster: 0\n",
      "precision zero\n",
      "precision: 0\n",
      "recall 0.0\n",
      "F1 0\n",
      "\n",
      "sense: powdered sugar\n",
      "instances of sense: 9\n",
      "amount of correct instances: 0\n",
      "correct cluster number: No cluster\n",
      "total amount of points in biggest cluster: 0\n",
      "precision zero\n",
      "precision: 0\n",
      "recall 0.0\n",
      "F1 0\n",
      "\n",
      "\n",
      " Souris\n",
      "Number of senses: 3\n",
      "\n",
      "sense: bat\n",
      "instances of sense: 10\n",
      "amount of correct instances: 1\n",
      "correct cluster number: 2\n",
      "total amount of points in biggest cluster: 1\n",
      "precision: 1.0\n",
      "recall 0.1\n",
      "F1 0.18181818181818182\n",
      "\n",
      "sense: pointer\n",
      "instances of sense: 27\n",
      "amount of correct instances: 27\n",
      "correct cluster number: 3\n",
      "total amount of points in biggest cluster: 27\n",
      "precision: 1.0\n",
      "recall 1.0\n",
      "F1 1.0\n",
      "\n",
      "sense: rodent\n",
      "instances of sense: 31\n",
      "amount of correct instances: 31\n",
      "correct cluster number: 1\n",
      "total amount of points in biggest cluster: 40\n",
      "precision: 0.775\n",
      "recall 1.0\n",
      "F1 0.8732394366197184\n",
      "\n",
      "\n",
      " Supporter\n",
      "Number of senses: 3\n",
      "\n",
      "sense: endure\n",
      "instances of sense: 28\n",
      "amount of correct instances: 28\n",
      "correct cluster number: 3\n",
      "total amount of points in biggest cluster: 43\n",
      "precision: 0.6511627906976745\n",
      "recall 1.0\n",
      "F1 0.7887323943661972\n",
      "\n",
      "sense: hold up\n",
      "instances of sense: 15\n",
      "amount of correct instances: 0\n",
      "correct cluster number: No cluster\n",
      "total amount of points in biggest cluster: 0\n",
      "precision zero\n",
      "precision: 0\n",
      "recall 0.0\n",
      "F1 0\n",
      "\n",
      "sense: fan\n",
      "instances of sense: 12\n",
      "amount of correct instances: 11\n",
      "correct cluster number: 1\n",
      "total amount of points in biggest cluster: 11\n",
      "precision: 1.0\n",
      "recall 0.9166666666666666\n",
      "F1 0.9565217391304347\n",
      "\n",
      "\n",
      " Tirer\n",
      "Number of senses: 2\n",
      "\n",
      "sense: shoot\n",
      "instances of sense: 74\n",
      "amount of correct instances: 72\n",
      "correct cluster number: 1\n",
      "total amount of points in biggest cluster: 102\n",
      "precision: 0.7058823529411765\n",
      "recall 0.972972972972973\n",
      "F1 0.8181818181818182\n",
      "\n",
      "sense: pull\n",
      "instances of sense: 30\n",
      "amount of correct instances: 0\n",
      "correct cluster number: No cluster\n",
      "total amount of points in biggest cluster: 0\n",
      "precision zero\n",
      "precision: 0\n",
      "recall 0.0\n",
      "F1 0\n",
      "\n",
      "\n",
      " Tour\n",
      "Number of senses: 5\n",
      "\n",
      "sense: lap\n",
      "instances of sense: 16\n",
      "amount of correct instances: 0\n",
      "correct cluster number: No cluster\n",
      "total amount of points in biggest cluster: 0\n",
      "precision zero\n",
      "precision: 0\n",
      "recall 0.0\n",
      "F1 0\n",
      "\n",
      "sense: trick\n",
      "instances of sense: 14\n",
      "amount of correct instances: 3\n",
      "correct cluster number: 2\n",
      "total amount of points in biggest cluster: 3\n",
      "precision: 1.0\n",
      "recall 0.21428571428571427\n",
      "F1 0.3529411764705882\n",
      "\n",
      "sense: turn\n",
      "instances of sense: 24\n",
      "amount of correct instances: 23\n",
      "correct cluster number: 1\n",
      "total amount of points in biggest cluster: 70\n",
      "precision: 0.32857142857142857\n",
      "recall 0.9583333333333334\n",
      "F1 0.48936170212765956\n",
      "\n",
      "sense: round\n",
      "instances of sense: 14\n",
      "amount of correct instances: 0\n",
      "correct cluster number: No cluster\n",
      "total amount of points in biggest cluster: 0\n",
      "precision zero\n",
      "precision: 0\n",
      "recall 0.0\n",
      "F1 0\n",
      "\n",
      "sense: tower\n",
      "instances of sense: 6\n",
      "amount of correct instances: 0\n",
      "correct cluster number: No cluster\n",
      "total amount of points in biggest cluster: 0\n",
      "precision zero\n",
      "precision: 0\n",
      "recall 0.0\n",
      "F1 0\n",
      "\n",
      "\n",
      " Vol\n",
      "Number of senses: 2\n",
      "\n",
      "sense: theft\n",
      "instances of sense: 25\n",
      "amount of correct instances: 0\n",
      "correct cluster number: No cluster\n",
      "total amount of points in biggest cluster: 0\n",
      "precision zero\n",
      "precision: 0\n",
      "recall 0.0\n",
      "F1 0\n",
      "\n",
      "sense: flight\n",
      "instances of sense: 60\n",
      "amount of correct instances: 55\n",
      "correct cluster number: 3\n",
      "total amount of points in biggest cluster: 80\n",
      "precision: 0.6875\n",
      "recall 0.9166666666666666\n",
      "F1 0.7857142857142857\n"
     ]
    }
   ],
   "source": [
    "# We create a dictionary of dictionaries to save, for each sense, the ratings of its precision and recall\n",
    "all_scores_agg = {}\n",
    "all_lengths_agg = {}\n",
    "for filename in os.listdir(f\"{model_name}/Experiment_3/Curated/\"):\n",
    "    if filename.endswith(\"csv\"):\n",
    "        df_F1 = pd.read_csv(f\"{model_name}/Experiment_3/Curated/\" + filename, sep=\";\", encoding=\"utf-8\", header=0)\n",
    "\n",
    "        target_word = df_F1[\"source\"][1]\n",
    "        print(\"\\n\\n\", target_word)\n",
    "        total_df_length = len(df_F1)\n",
    "        # We calculate the amount of different senses\n",
    "        senses = len(df_F1[\"sense\"].unique())\n",
    "        print(\"Number of senses:\", senses)\n",
    "        target_word_dictionary = {}\n",
    "        target_word_lengths = {}\n",
    "        target_word_lengths[\"total\"] = total_df_length\n",
    "        for sense in df_F1[\"sense\"].unique():\n",
    "            scores = {}\n",
    "            sense_df = df_F1[df_F1[\"sense\"] == sense]\n",
    "                    #precision: number of correct instances in a cluster / total cluster size\n",
    "                    # We calculate the amount of \"default\" instances\n",
    "            sense_len = len(sense_df)\n",
    "        \n",
    "            \n",
    "            correct_df = sense_df[sense_df[\"agg_default_sub\"] == True]\n",
    "            correct_len = len(correct_df)\n",
    "            if correct_len > 0:\n",
    "                correct_cluster = correct_df[\"agg_cluster_sub\"].iloc[0]\n",
    "            else:\n",
    "                correct_cluster = \"No cluster\"\n",
    "                \n",
    "            cluster_len = len(df_F1[df_F1[\"agg_cluster_sub\"] == correct_cluster])\n",
    "            print(\"\\nsense:\", sense)\n",
    "            print(\"instances of sense:\", sense_len)\n",
    "            print(\"amount of correct instances:\", correct_len)\n",
    "            print(\"correct cluster number:\", correct_cluster)\n",
    "            print(\"total amount of points in biggest cluster:\", cluster_len)\n",
    "            \n",
    "            if cluster_len > 0:  \n",
    "                precision = correct_len / cluster_len\n",
    "            else:\n",
    "                precision = 0\n",
    "                print(\"precision zero\")\n",
    "            recall = correct_len / sense_len\n",
    "            print(\"precision:\", precision)\n",
    "            print(\"recall\", recall)\n",
    "            \n",
    "            F1 = statistics.harmonic_mean((precision, recall))\n",
    "            print(\"F1\", F1)\n",
    "            \n",
    "            scores[\"precision\"] = precision\n",
    "            scores[\"recall\"] = recall\n",
    "            scores[\"F1\"] = F1\n",
    "            target_word_dictionary[sense] = scores\n",
    "            target_word_lengths[sense] = sense_len\n",
    "        all_scores_agg[target_word] = target_word_dictionary\n",
    "        all_lengths_agg[target_word] = target_word_lengths\n",
    "            "
   ],
   "metadata": {
    "collapsed": false,
    "ExecuteTime": {
     "end_time": "2024-05-17T21:48:30.520704Z",
     "start_time": "2024-05-17T21:48:30.455087Z"
    }
   },
   "id": "6a8e6ffd94c88553",
   "execution_count": 29
  },
  {
   "cell_type": "code",
   "outputs": [
    {
     "name": "stdout",
     "output_type": "stream",
     "text": [
      "\n",
      "\n",
      " Avocat\n",
      "lawyer\n",
      "score: 0.8115942028985508\n",
      "length of sense: 56\n",
      "total length: 84\n",
      "added weight: 0.6666666666666666 for a total of 0.6666666666666666\n",
      "F1 score after calc: 54.106280193236714\n",
      "avocado\n",
      "score: 0.06896551724137931\n",
      "length of sense: 28\n",
      "total length: 84\n",
      "added weight: 0.3333333333333333 for a total of 1.0\n",
      "F1 score after calc: 56.40513076794935\n",
      "\n",
      "\n",
      " Bien\n",
      "property\n",
      "score: 0.9574468085106383\n",
      "length of sense: 49\n",
      "total length: 98\n",
      "added weight: 0.5 for a total of 0.5\n",
      "F1 score after calc: 47.87234042553192\n",
      "wellbeing\n",
      "score: 0\n",
      "length of sense: 20\n",
      "total length: 98\n",
      "added weight: 0.20408163265306123 for a total of 0.7040816326530612\n",
      "F1 score after calc: 47.87234042553192\n",
      "good\n",
      "score: 0.7341772151898733\n",
      "length of sense: 29\n",
      "total length: 98\n",
      "added weight: 0.29591836734693877 for a total of 1.0\n",
      "F1 score after calc: 69.59799271176286\n",
      "\n",
      "\n",
      " Bureau\n",
      "desk\n",
      "score: 0.7575757575757576\n",
      "length of sense: 35\n",
      "total length: 103\n",
      "added weight: 0.33980582524271846 for a total of 0.33980582524271846\n",
      "F1 score after calc: 25.74286554869079\n",
      "cabinet\n",
      "score: 0\n",
      "length of sense: 14\n",
      "total length: 103\n",
      "added weight: 0.13592233009708737 for a total of 0.47572815533980584\n",
      "F1 score after calc: 25.74286554869079\n",
      "office\n",
      "score: 0.7017543859649122\n",
      "length of sense: 54\n",
      "total length: 103\n",
      "added weight: 0.5242718446601942 for a total of 1.0\n",
      "F1 score after calc: 62.53387219151143\n",
      "\n",
      "\n",
      " Faculté\n",
      "university\n",
      "score: 0.9866666666666667\n",
      "length of sense: 37\n",
      "total length: 80\n",
      "added weight: 0.4625 for a total of 0.4625\n",
      "F1 score after calc: 45.63333333333334\n",
      "competence\n",
      "score: 0.782608695652174\n",
      "length of sense: 28\n",
      "total length: 80\n",
      "added weight: 0.35 for a total of 0.8125\n",
      "F1 score after calc: 73.02463768115942\n",
      "ability\n",
      "score: 0\n",
      "length of sense: 15\n",
      "total length: 80\n",
      "added weight: 0.1875 for a total of 1.0\n",
      "F1 score after calc: 73.02463768115942\n",
      "\n",
      "\n",
      " Filer\n",
      "slip away\n",
      "score: 0.7479674796747967\n",
      "length of sense: 47\n",
      "total length: 96\n",
      "added weight: 0.4895833333333333 for a total of 0.4895833333333333\n",
      "F1 score after calc: 36.61924119241192\n",
      "give\n",
      "score: 0\n",
      "length of sense: 29\n",
      "total length: 96\n",
      "added weight: 0.3020833333333333 for a total of 0.7916666666666666\n",
      "F1 score after calc: 36.61924119241192\n",
      "spinning\n",
      "score: 0.9743589743589743\n",
      "length of sense: 20\n",
      "total length: 96\n",
      "added weight: 0.20833333333333334 for a total of 1.0\n",
      "F1 score after calc: 56.91838649155723\n",
      "\n",
      "\n",
      " Glace\n",
      "ice\n",
      "score: 0.6256983240223464\n",
      "length of sense: 59\n",
      "total length: 123\n",
      "added weight: 0.4796747967479675 for a total of 0.4796747967479675\n",
      "F1 score after calc: 30.013171640096292\n",
      "ice cream\n",
      "score: 0\n",
      "length of sense: 20\n",
      "total length: 123\n",
      "added weight: 0.16260162601626016 for a total of 0.6422764227642277\n",
      "F1 score after calc: 30.013171640096292\n",
      "glass\n",
      "score: 0\n",
      "length of sense: 9\n",
      "total length: 123\n",
      "added weight: 0.07317073170731707 for a total of 0.7154471544715447\n",
      "F1 score after calc: 30.013171640096292\n",
      "mirror\n",
      "score: 0\n",
      "length of sense: 26\n",
      "total length: 123\n",
      "added weight: 0.21138211382113822 for a total of 0.926829268292683\n",
      "F1 score after calc: 30.013171640096292\n",
      "powdered sugar\n",
      "score: 0\n",
      "length of sense: 9\n",
      "total length: 123\n",
      "added weight: 0.07317073170731707 for a total of 1.0\n",
      "F1 score after calc: 30.013171640096292\n",
      "\n",
      "\n",
      " Souris\n",
      "bat\n",
      "score: 0.18181818181818182\n",
      "length of sense: 10\n",
      "total length: 68\n",
      "added weight: 0.14705882352941177 for a total of 0.14705882352941177\n",
      "F1 score after calc: 2.6737967914438507\n",
      "pointer\n",
      "score: 1.0\n",
      "length of sense: 27\n",
      "total length: 68\n",
      "added weight: 0.39705882352941174 for a total of 0.5441176470588235\n",
      "F1 score after calc: 42.37967914438502\n",
      "rodent\n",
      "score: 0.8732394366197184\n",
      "length of sense: 31\n",
      "total length: 68\n",
      "added weight: 0.45588235294117646 for a total of 1.0\n",
      "F1 score after calc: 82.18912404910748\n",
      "\n",
      "\n",
      " Supporter\n",
      "endure\n",
      "score: 0.7887323943661972\n",
      "length of sense: 28\n",
      "total length: 55\n",
      "added weight: 0.509090909090909 for a total of 0.509090909090909\n",
      "F1 score after calc: 40.153649167733676\n",
      "hold up\n",
      "score: 0\n",
      "length of sense: 15\n",
      "total length: 55\n",
      "added weight: 0.2727272727272727 for a total of 0.7818181818181817\n",
      "F1 score after calc: 40.153649167733676\n",
      "fan\n",
      "score: 0.9565217391304347\n",
      "length of sense: 12\n",
      "total length: 55\n",
      "added weight: 0.21818181818181817 for a total of 0.9999999999999999\n",
      "F1 score after calc: 61.023214385124966\n",
      "\n",
      "\n",
      " Tirer\n",
      "shoot\n",
      "score: 0.8181818181818182\n",
      "length of sense: 74\n",
      "total length: 104\n",
      "added weight: 0.7115384615384616 for a total of 0.7115384615384616\n",
      "F1 score after calc: 58.21678321678322\n",
      "pull\n",
      "score: 0\n",
      "length of sense: 30\n",
      "total length: 104\n",
      "added weight: 0.28846153846153844 for a total of 1.0\n",
      "F1 score after calc: 58.21678321678322\n",
      "\n",
      "\n",
      " Tour\n",
      "lap\n",
      "score: 0\n",
      "length of sense: 16\n",
      "total length: 74\n",
      "added weight: 0.21621621621621623 for a total of 0.21621621621621623\n",
      "F1 score after calc: 0.0\n",
      "trick\n",
      "score: 0.3529411764705882\n",
      "length of sense: 14\n",
      "total length: 74\n",
      "added weight: 0.1891891891891892 for a total of 0.40540540540540543\n",
      "F1 score after calc: 6.677265500794912\n",
      "turn\n",
      "score: 0.48936170212765956\n",
      "length of sense: 24\n",
      "total length: 74\n",
      "added weight: 0.32432432432432434 for a total of 0.7297297297297298\n",
      "F1 score after calc: 22.548455840070357\n",
      "round\n",
      "score: 0\n",
      "length of sense: 14\n",
      "total length: 74\n",
      "added weight: 0.1891891891891892 for a total of 0.9189189189189191\n",
      "F1 score after calc: 22.548455840070357\n",
      "tower\n",
      "score: 0\n",
      "length of sense: 6\n",
      "total length: 74\n",
      "added weight: 0.08108108108108109 for a total of 1.0000000000000002\n",
      "F1 score after calc: 22.548455840070357\n",
      "\n",
      "\n",
      " Vol\n",
      "theft\n",
      "score: 0\n",
      "length of sense: 25\n",
      "total length: 85\n",
      "added weight: 0.29411764705882354 for a total of 0.29411764705882354\n",
      "F1 score after calc: 0.0\n",
      "flight\n",
      "score: 0.7857142857142857\n",
      "length of sense: 60\n",
      "total length: 85\n",
      "added weight: 0.7058823529411765 for a total of 1.0\n",
      "F1 score after calc: 55.46218487394958\n"
     ]
    }
   ],
   "source": [
    "# Total F1: weighted average of the F1 scores of each gold standard sense\n",
    "# We calculate the weight for each sense of the dataframe (the amount of instances of this sense divided by the total amount of instances)\n",
    "# We make a dictionary F1_scores, in which each target word is associated with its F1 score\n",
    "F1_scores_agg = {}\n",
    "for target_word in all_scores_agg:\n",
    "    F1 = 0\n",
    "    weight = 0\n",
    "    print(\"\\n\\n\", target_word)\n",
    "    for sense in all_scores_agg[target_word]:\n",
    "        score = all_scores_agg[target_word][sense][\"F1\"]\n",
    "        print(sense)\n",
    "        print(\"score:\", score)\n",
    "        \n",
    "        len_sense = all_lengths_agg[target_word][sense]\n",
    "        print(\"length of sense:\", len_sense)\n",
    "        \n",
    "        len_total = all_lengths_agg[target_word][\"total\"]\n",
    "        print(\"total length:\", len_total)\n",
    "        added_weight = len_sense / len_total\n",
    "        weight += added_weight\n",
    "        print(\"added weight:\", added_weight, \"for a total of\", weight)\n",
    "        F1 += score * (len_sense / len_total)\n",
    "        print(\"F1 score after calc:\", F1*100)\n",
    "    F1_scores_agg[target_word] = F1\n",
    "\n"
   ],
   "metadata": {
    "collapsed": false,
    "ExecuteTime": {
     "end_time": "2024-05-17T21:48:31.162074Z",
     "start_time": "2024-05-17T21:48:31.150776Z"
    }
   },
   "id": "2d62984f1ba7bd7c",
   "execution_count": 30
  },
  {
   "cell_type": "code",
   "outputs": [
    {
     "name": "stdout",
     "output_type": "stream",
     "text": [
      "\n",
      "\n",
      " Avocat\n",
      "Number of senses: 2\n",
      "\n",
      "sense: lawyer\n",
      "instances of sense: 56\n",
      "amount of correct instances: 56\n",
      "correct cluster number: 0\n",
      "total amount of points in biggest cluster: 84\n",
      "precision: 0.6666666666666666\n",
      "recall 1.0\n",
      "F1 0.8\n",
      "\n",
      "sense: avocado\n",
      "instances of sense: 28\n",
      "amount of correct instances: 0\n",
      "correct cluster number: No cluster\n",
      "total amount of points in biggest cluster: 0\n",
      "precision zero\n",
      "precision: 0\n",
      "recall 0.0\n",
      "F1 0\n",
      "\n",
      "\n",
      " Bien\n",
      "Number of senses: 3\n",
      "\n",
      "sense: property\n",
      "instances of sense: 49\n",
      "amount of correct instances: 49\n",
      "correct cluster number: 0\n",
      "total amount of points in biggest cluster: 98\n",
      "precision: 0.5\n",
      "recall 1.0\n",
      "F1 0.6666666666666666\n",
      "\n",
      "sense: wellbeing\n",
      "instances of sense: 20\n",
      "amount of correct instances: 0\n",
      "correct cluster number: No cluster\n",
      "total amount of points in biggest cluster: 0\n",
      "precision zero\n",
      "precision: 0\n",
      "recall 0.0\n",
      "F1 0\n",
      "\n",
      "sense: good\n",
      "instances of sense: 29\n",
      "amount of correct instances: 0\n",
      "correct cluster number: No cluster\n",
      "total amount of points in biggest cluster: 0\n",
      "precision zero\n",
      "precision: 0\n",
      "recall 0.0\n",
      "F1 0\n",
      "\n",
      "\n",
      " Bureau\n",
      "Number of senses: 3\n",
      "\n",
      "sense: desk\n",
      "instances of sense: 35\n",
      "amount of correct instances: 0\n",
      "correct cluster number: No cluster\n",
      "total amount of points in biggest cluster: 0\n",
      "precision zero\n",
      "precision: 0\n",
      "recall 0.0\n",
      "F1 0\n",
      "\n",
      "sense: cabinet\n",
      "instances of sense: 14\n",
      "amount of correct instances: 0\n",
      "correct cluster number: No cluster\n",
      "total amount of points in biggest cluster: 0\n",
      "precision zero\n",
      "precision: 0\n",
      "recall 0.0\n",
      "F1 0\n",
      "\n",
      "sense: office\n",
      "instances of sense: 54\n",
      "amount of correct instances: 54\n",
      "correct cluster number: 0\n",
      "total amount of points in biggest cluster: 103\n",
      "precision: 0.5242718446601942\n",
      "recall 1.0\n",
      "F1 0.6878980891719745\n",
      "\n",
      "\n",
      " Faculté\n",
      "Number of senses: 3\n",
      "\n",
      "sense: university\n",
      "instances of sense: 37\n",
      "amount of correct instances: 37\n",
      "correct cluster number: 0\n",
      "total amount of points in biggest cluster: 80\n",
      "precision: 0.4625\n",
      "recall 1.0\n",
      "F1 0.6324786324786326\n",
      "\n",
      "sense: competence\n",
      "instances of sense: 28\n",
      "amount of correct instances: 0\n",
      "correct cluster number: No cluster\n",
      "total amount of points in biggest cluster: 0\n",
      "precision zero\n",
      "precision: 0\n",
      "recall 0.0\n",
      "F1 0\n",
      "\n",
      "sense: ability\n",
      "instances of sense: 15\n",
      "amount of correct instances: 0\n",
      "correct cluster number: No cluster\n",
      "total amount of points in biggest cluster: 0\n",
      "precision zero\n",
      "precision: 0\n",
      "recall 0.0\n",
      "F1 0\n",
      "\n",
      "\n",
      " Filer\n",
      "Number of senses: 3\n",
      "\n",
      "sense: slip away\n",
      "instances of sense: 47\n",
      "amount of correct instances: 47\n",
      "correct cluster number: 0\n",
      "total amount of points in biggest cluster: 96\n",
      "precision: 0.4895833333333333\n",
      "recall 1.0\n",
      "F1 0.6573426573426573\n",
      "\n",
      "sense: give\n",
      "instances of sense: 29\n",
      "amount of correct instances: 0\n",
      "correct cluster number: No cluster\n",
      "total amount of points in biggest cluster: 0\n",
      "precision zero\n",
      "precision: 0\n",
      "recall 0.0\n",
      "F1 0\n",
      "\n",
      "sense: spinning\n",
      "instances of sense: 20\n",
      "amount of correct instances: 0\n",
      "correct cluster number: No cluster\n",
      "total amount of points in biggest cluster: 0\n",
      "precision zero\n",
      "precision: 0\n",
      "recall 0.0\n",
      "F1 0\n",
      "\n",
      "\n",
      " Glace\n",
      "Number of senses: 5\n",
      "\n",
      "sense: ice\n",
      "instances of sense: 59\n",
      "amount of correct instances: 59\n",
      "correct cluster number: 0\n",
      "total amount of points in biggest cluster: 123\n",
      "precision: 0.4796747967479675\n",
      "recall 1.0\n",
      "F1 0.6483516483516483\n",
      "\n",
      "sense: ice cream\n",
      "instances of sense: 20\n",
      "amount of correct instances: 0\n",
      "correct cluster number: No cluster\n",
      "total amount of points in biggest cluster: 0\n",
      "precision zero\n",
      "precision: 0\n",
      "recall 0.0\n",
      "F1 0\n",
      "\n",
      "sense: glass\n",
      "instances of sense: 9\n",
      "amount of correct instances: 0\n",
      "correct cluster number: No cluster\n",
      "total amount of points in biggest cluster: 0\n",
      "precision zero\n",
      "precision: 0\n",
      "recall 0.0\n",
      "F1 0\n",
      "\n",
      "sense: mirror\n",
      "instances of sense: 26\n",
      "amount of correct instances: 0\n",
      "correct cluster number: No cluster\n",
      "total amount of points in biggest cluster: 0\n",
      "precision zero\n",
      "precision: 0\n",
      "recall 0.0\n",
      "F1 0\n",
      "\n",
      "sense: powdered sugar\n",
      "instances of sense: 9\n",
      "amount of correct instances: 0\n",
      "correct cluster number: No cluster\n",
      "total amount of points in biggest cluster: 0\n",
      "precision zero\n",
      "precision: 0\n",
      "recall 0.0\n",
      "F1 0\n",
      "\n",
      "\n",
      " Souris\n",
      "Number of senses: 3\n",
      "\n",
      "sense: bat\n",
      "instances of sense: 10\n",
      "amount of correct instances: 0\n",
      "correct cluster number: No cluster\n",
      "total amount of points in biggest cluster: 0\n",
      "precision zero\n",
      "precision: 0\n",
      "recall 0.0\n",
      "F1 0\n",
      "\n",
      "sense: pointer\n",
      "instances of sense: 27\n",
      "amount of correct instances: 0\n",
      "correct cluster number: No cluster\n",
      "total amount of points in biggest cluster: 0\n",
      "precision zero\n",
      "precision: 0\n",
      "recall 0.0\n",
      "F1 0\n",
      "\n",
      "sense: rodent\n",
      "instances of sense: 31\n",
      "amount of correct instances: 31\n",
      "correct cluster number: 0\n",
      "total amount of points in biggest cluster: 68\n",
      "precision: 0.45588235294117646\n",
      "recall 1.0\n",
      "F1 0.6262626262626263\n",
      "\n",
      "\n",
      " Supporter\n",
      "Number of senses: 3\n",
      "\n",
      "sense: endure\n",
      "instances of sense: 28\n",
      "amount of correct instances: 28\n",
      "correct cluster number: 0\n",
      "total amount of points in biggest cluster: 55\n",
      "precision: 0.509090909090909\n",
      "recall 1.0\n",
      "F1 0.6746987951807228\n",
      "\n",
      "sense: hold up\n",
      "instances of sense: 15\n",
      "amount of correct instances: 0\n",
      "correct cluster number: No cluster\n",
      "total amount of points in biggest cluster: 0\n",
      "precision zero\n",
      "precision: 0\n",
      "recall 0.0\n",
      "F1 0\n",
      "\n",
      "sense: fan\n",
      "instances of sense: 12\n",
      "amount of correct instances: 0\n",
      "correct cluster number: No cluster\n",
      "total amount of points in biggest cluster: 0\n",
      "precision zero\n",
      "precision: 0\n",
      "recall 0.0\n",
      "F1 0\n",
      "\n",
      "\n",
      " Tirer\n",
      "Number of senses: 2\n",
      "\n",
      "sense: shoot\n",
      "instances of sense: 74\n",
      "amount of correct instances: 74\n",
      "correct cluster number: 0\n",
      "total amount of points in biggest cluster: 104\n",
      "precision: 0.7115384615384616\n",
      "recall 1.0\n",
      "F1 0.8314606741573034\n",
      "\n",
      "sense: pull\n",
      "instances of sense: 30\n",
      "amount of correct instances: 0\n",
      "correct cluster number: No cluster\n",
      "total amount of points in biggest cluster: 0\n",
      "precision zero\n",
      "precision: 0\n",
      "recall 0.0\n",
      "F1 0\n",
      "\n",
      "\n",
      " Tour\n",
      "Number of senses: 5\n",
      "\n",
      "sense: lap\n",
      "instances of sense: 16\n",
      "amount of correct instances: 0\n",
      "correct cluster number: No cluster\n",
      "total amount of points in biggest cluster: 0\n",
      "precision zero\n",
      "precision: 0\n",
      "recall 0.0\n",
      "F1 0\n",
      "\n",
      "sense: trick\n",
      "instances of sense: 14\n",
      "amount of correct instances: 0\n",
      "correct cluster number: No cluster\n",
      "total amount of points in biggest cluster: 0\n",
      "precision zero\n",
      "precision: 0\n",
      "recall 0.0\n",
      "F1 0\n",
      "\n",
      "sense: turn\n",
      "instances of sense: 24\n",
      "amount of correct instances: 24\n",
      "correct cluster number: 0\n",
      "total amount of points in biggest cluster: 74\n",
      "precision: 0.32432432432432434\n",
      "recall 1.0\n",
      "F1 0.489795918367347\n",
      "\n",
      "sense: round\n",
      "instances of sense: 14\n",
      "amount of correct instances: 0\n",
      "correct cluster number: No cluster\n",
      "total amount of points in biggest cluster: 0\n",
      "precision zero\n",
      "precision: 0\n",
      "recall 0.0\n",
      "F1 0\n",
      "\n",
      "sense: tower\n",
      "instances of sense: 6\n",
      "amount of correct instances: 0\n",
      "correct cluster number: No cluster\n",
      "total amount of points in biggest cluster: 0\n",
      "precision zero\n",
      "precision: 0\n",
      "recall 0.0\n",
      "F1 0\n",
      "\n",
      "\n",
      " Vol\n",
      "Number of senses: 2\n",
      "\n",
      "sense: theft\n",
      "instances of sense: 25\n",
      "amount of correct instances: 0\n",
      "correct cluster number: No cluster\n",
      "total amount of points in biggest cluster: 0\n",
      "precision zero\n",
      "precision: 0\n",
      "recall 0.0\n",
      "F1 0\n",
      "\n",
      "sense: flight\n",
      "instances of sense: 60\n",
      "amount of correct instances: 60\n",
      "correct cluster number: 0\n",
      "total amount of points in biggest cluster: 85\n",
      "precision: 0.7058823529411765\n",
      "recall 1.0\n",
      "F1 0.8275862068965518\n",
      "\n",
      "\n",
      " Avocat\n",
      "lawyer\n",
      "score: 0.8\n",
      "length of sense: 56\n",
      "total length: 84\n",
      "added weight: 0.6666666666666666 for a total of 0.6666666666666666\n",
      "F1 score after calc: 0.5333333333333333\n",
      "avocado\n",
      "score: 0\n",
      "length of sense: 28\n",
      "total length: 84\n",
      "added weight: 0.3333333333333333 for a total of 1.0\n",
      "F1 score after calc: 0.5333333333333333\n",
      "\n",
      "\n",
      " Bien\n",
      "property\n",
      "score: 0.6666666666666666\n",
      "length of sense: 49\n",
      "total length: 98\n",
      "added weight: 0.5 for a total of 0.5\n",
      "F1 score after calc: 0.3333333333333333\n",
      "wellbeing\n",
      "score: 0\n",
      "length of sense: 20\n",
      "total length: 98\n",
      "added weight: 0.20408163265306123 for a total of 0.7040816326530612\n",
      "F1 score after calc: 0.3333333333333333\n",
      "good\n",
      "score: 0\n",
      "length of sense: 29\n",
      "total length: 98\n",
      "added weight: 0.29591836734693877 for a total of 1.0\n",
      "F1 score after calc: 0.3333333333333333\n",
      "\n",
      "\n",
      " Bureau\n",
      "desk\n",
      "score: 0\n",
      "length of sense: 35\n",
      "total length: 103\n",
      "added weight: 0.33980582524271846 for a total of 0.33980582524271846\n",
      "F1 score after calc: 0.0\n",
      "cabinet\n",
      "score: 0\n",
      "length of sense: 14\n",
      "total length: 103\n",
      "added weight: 0.13592233009708737 for a total of 0.47572815533980584\n",
      "F1 score after calc: 0.0\n",
      "office\n",
      "score: 0.6878980891719745\n",
      "length of sense: 54\n",
      "total length: 103\n",
      "added weight: 0.5242718446601942 for a total of 1.0\n",
      "F1 score after calc: 0.3606456001484138\n",
      "\n",
      "\n",
      " Faculté\n",
      "university\n",
      "score: 0.6324786324786326\n",
      "length of sense: 37\n",
      "total length: 80\n",
      "added weight: 0.4625 for a total of 0.4625\n",
      "F1 score after calc: 0.2925213675213676\n",
      "competence\n",
      "score: 0\n",
      "length of sense: 28\n",
      "total length: 80\n",
      "added weight: 0.35 for a total of 0.8125\n",
      "F1 score after calc: 0.2925213675213676\n",
      "ability\n",
      "score: 0\n",
      "length of sense: 15\n",
      "total length: 80\n",
      "added weight: 0.1875 for a total of 1.0\n",
      "F1 score after calc: 0.2925213675213676\n",
      "\n",
      "\n",
      " Filer\n",
      "slip away\n",
      "score: 0.6573426573426573\n",
      "length of sense: 47\n",
      "total length: 96\n",
      "added weight: 0.4895833333333333 for a total of 0.4895833333333333\n",
      "F1 score after calc: 0.3218240093240093\n",
      "give\n",
      "score: 0\n",
      "length of sense: 29\n",
      "total length: 96\n",
      "added weight: 0.3020833333333333 for a total of 0.7916666666666666\n",
      "F1 score after calc: 0.3218240093240093\n",
      "spinning\n",
      "score: 0\n",
      "length of sense: 20\n",
      "total length: 96\n",
      "added weight: 0.20833333333333334 for a total of 1.0\n",
      "F1 score after calc: 0.3218240093240093\n",
      "\n",
      "\n",
      " Glace\n",
      "ice\n",
      "score: 0.6483516483516483\n",
      "length of sense: 59\n",
      "total length: 123\n",
      "added weight: 0.4796747967479675 for a total of 0.4796747967479675\n",
      "F1 score after calc: 0.3109979451442866\n",
      "ice cream\n",
      "score: 0\n",
      "length of sense: 20\n",
      "total length: 123\n",
      "added weight: 0.16260162601626016 for a total of 0.6422764227642277\n",
      "F1 score after calc: 0.3109979451442866\n",
      "glass\n",
      "score: 0\n",
      "length of sense: 9\n",
      "total length: 123\n",
      "added weight: 0.07317073170731707 for a total of 0.7154471544715447\n",
      "F1 score after calc: 0.3109979451442866\n",
      "mirror\n",
      "score: 0\n",
      "length of sense: 26\n",
      "total length: 123\n",
      "added weight: 0.21138211382113822 for a total of 0.926829268292683\n",
      "F1 score after calc: 0.3109979451442866\n",
      "powdered sugar\n",
      "score: 0\n",
      "length of sense: 9\n",
      "total length: 123\n",
      "added weight: 0.07317073170731707 for a total of 1.0\n",
      "F1 score after calc: 0.3109979451442866\n",
      "\n",
      "\n",
      " Souris\n",
      "bat\n",
      "score: 0\n",
      "length of sense: 10\n",
      "total length: 68\n",
      "added weight: 0.14705882352941177 for a total of 0.14705882352941177\n",
      "F1 score after calc: 0.0\n",
      "pointer\n",
      "score: 0\n",
      "length of sense: 27\n",
      "total length: 68\n",
      "added weight: 0.39705882352941174 for a total of 0.5441176470588235\n",
      "F1 score after calc: 0.0\n",
      "rodent\n",
      "score: 0.6262626262626263\n",
      "length of sense: 31\n",
      "total length: 68\n",
      "added weight: 0.45588235294117646 for a total of 1.0\n",
      "F1 score after calc: 0.2855020796197267\n",
      "\n",
      "\n",
      " Supporter\n",
      "endure\n",
      "score: 0.6746987951807228\n",
      "length of sense: 28\n",
      "total length: 55\n",
      "added weight: 0.509090909090909 for a total of 0.509090909090909\n",
      "F1 score after calc: 0.34348302300109523\n",
      "hold up\n",
      "score: 0\n",
      "length of sense: 15\n",
      "total length: 55\n",
      "added weight: 0.2727272727272727 for a total of 0.7818181818181817\n",
      "F1 score after calc: 0.34348302300109523\n",
      "fan\n",
      "score: 0\n",
      "length of sense: 12\n",
      "total length: 55\n",
      "added weight: 0.21818181818181817 for a total of 0.9999999999999999\n",
      "F1 score after calc: 0.34348302300109523\n",
      "\n",
      "\n",
      " Tirer\n",
      "shoot\n",
      "score: 0.8314606741573034\n",
      "length of sense: 74\n",
      "total length: 104\n",
      "added weight: 0.7115384615384616 for a total of 0.7115384615384616\n",
      "F1 score after calc: 0.5916162489196197\n",
      "pull\n",
      "score: 0\n",
      "length of sense: 30\n",
      "total length: 104\n",
      "added weight: 0.28846153846153844 for a total of 1.0\n",
      "F1 score after calc: 0.5916162489196197\n",
      "\n",
      "\n",
      " Tour\n",
      "lap\n",
      "score: 0\n",
      "length of sense: 16\n",
      "total length: 74\n",
      "added weight: 0.21621621621621623 for a total of 0.21621621621621623\n",
      "F1 score after calc: 0.0\n",
      "trick\n",
      "score: 0\n",
      "length of sense: 14\n",
      "total length: 74\n",
      "added weight: 0.1891891891891892 for a total of 0.40540540540540543\n",
      "F1 score after calc: 0.0\n",
      "turn\n",
      "score: 0.489795918367347\n",
      "length of sense: 24\n",
      "total length: 74\n",
      "added weight: 0.32432432432432434 for a total of 0.7297297297297298\n",
      "F1 score after calc: 0.15885273028130173\n",
      "round\n",
      "score: 0\n",
      "length of sense: 14\n",
      "total length: 74\n",
      "added weight: 0.1891891891891892 for a total of 0.9189189189189191\n",
      "F1 score after calc: 0.15885273028130173\n",
      "tower\n",
      "score: 0\n",
      "length of sense: 6\n",
      "total length: 74\n",
      "added weight: 0.08108108108108109 for a total of 1.0000000000000002\n",
      "F1 score after calc: 0.15885273028130173\n",
      "\n",
      "\n",
      " Vol\n",
      "theft\n",
      "score: 0\n",
      "length of sense: 25\n",
      "total length: 85\n",
      "added weight: 0.29411764705882354 for a total of 0.29411764705882354\n",
      "F1 score after calc: 0.0\n",
      "flight\n",
      "score: 0.8275862068965518\n",
      "length of sense: 60\n",
      "total length: 85\n",
      "added weight: 0.7058823529411765 for a total of 1.0\n",
      "F1 score after calc: 0.5841784989858013\n"
     ]
    }
   ],
   "source": [
    "# We will also calculate an F1 score for each word when no clustering takes place\n",
    "# We will make a copy of each dataframe and set the \"cluster\" column to 0 for all rows\n",
    "# We create a dictionary of dictionaries to save, for each sense, the ratings of its precision and recall\n",
    "all_scores_no_cluster = {}\n",
    "all_lengths_no_cluster = {}\n",
    "for filename in os.listdir(f\"{model_name}/Experiment_1/Curated\"):\n",
    "    if filename.endswith(\"csv\"):\n",
    "        df_F1 = pd.read_csv(f\"{model_name}/Experiment_1/Curated/\" + filename, sep=\";\", encoding=\"utf-8\", header=0)\n",
    "\n",
    "        target_word = df_F1[\"source\"][1]\n",
    "        # We undo clustering: we set all clusters to 0\n",
    "        # The \"default\" (i.e. \"correct\" category is the most frequent sense)\n",
    "        df_F1[\"cluster\"] = 0\n",
    "        most_freq_sense = df_F1[\"sense\"].value_counts().idxmax()\n",
    "        df_F1[\"default\"] = [1 if sense == most_freq_sense else 0 for sense in df_F1[\"sense\"]]\n",
    "        print(\"\\n\\n\", target_word)\n",
    "        total_df_length = len(df_F1)\n",
    "        # We calculate the amount of different senses\n",
    "        senses = len(df_F1[\"sense\"].unique())\n",
    "        print(\"Number of senses:\", senses)\n",
    "        target_word_dictionary = {}\n",
    "        target_word_lengths = {}\n",
    "        target_word_lengths[\"total\"] = total_df_length\n",
    "        for sense in df_F1[\"sense\"].unique():\n",
    "            scores = {}\n",
    "            sense_df = df_F1[df_F1[\"sense\"] == sense]\n",
    "                    #precision: number of correct instances in a cluster / total cluster size\n",
    "                    # We calculate the amount of \"default\" instances\n",
    "            sense_len = len(sense_df)\n",
    "        \n",
    "            \n",
    "            correct_df = sense_df[sense_df[\"default\"] == True]\n",
    "            correct_len = len(correct_df)\n",
    "            if correct_len > 0:\n",
    "                correct_cluster = correct_df[\"cluster\"].iloc[0]\n",
    "            else:\n",
    "                correct_cluster = \"No cluster\"\n",
    "                \n",
    "            cluster_len = len(df_F1[df_F1[\"cluster\"] == correct_cluster])\n",
    "            print(\"\\nsense:\", sense)\n",
    "            print(\"instances of sense:\", sense_len)\n",
    "            print(\"amount of correct instances:\", correct_len)\n",
    "            print(\"correct cluster number:\", correct_cluster)\n",
    "            print(\"total amount of points in biggest cluster:\", cluster_len)\n",
    "            \n",
    "            if cluster_len > 0:  \n",
    "                precision = correct_len / cluster_len\n",
    "            else:\n",
    "                precision = 0\n",
    "                print(\"precision zero\")\n",
    "            recall = correct_len / sense_len\n",
    "            print(\"precision:\", precision)\n",
    "            print(\"recall\", recall)\n",
    "            \n",
    "            F1 = statistics.harmonic_mean((precision, recall))\n",
    "            print(\"F1\", F1)\n",
    "            \n",
    "            scores[\"precision\"] = precision\n",
    "            scores[\"recall\"] = recall\n",
    "            scores[\"F1\"] = F1\n",
    "            target_word_dictionary[sense] = scores\n",
    "            target_word_lengths[sense] = sense_len\n",
    "        all_scores_no_cluster[target_word] = target_word_dictionary\n",
    "        all_lengths_no_cluster[target_word] = target_word_lengths\n",
    "# Total F1: weighted average of the F1 scores of each gold standard sense\n",
    "# We calculate the weight for each sense of the dataframe (the amount of instances of this sense divided by the total amount of instances)\n",
    "# We make a dictionary F1_scores, in which each target word is associated with its F1 score\n",
    "F1_scores_no_cluster = {}\n",
    "for target_word in all_scores_no_cluster:\n",
    "    F1 = 0\n",
    "    weight = 0\n",
    "    print(\"\\n\\n\", target_word)\n",
    "    for sense in all_scores_no_cluster[target_word]:\n",
    "        score = all_scores_no_cluster[target_word][sense][\"F1\"]\n",
    "        print(sense)\n",
    "        print(\"score:\", score)\n",
    "        \n",
    "        len_sense = all_lengths_no_cluster[target_word][sense]\n",
    "        print(\"length of sense:\", len_sense)\n",
    "        \n",
    "        len_total = all_lengths_no_cluster[target_word][\"total\"]\n",
    "        print(\"total length:\", len_total)\n",
    "        added_weight = len_sense / len_total\n",
    "        weight += added_weight\n",
    "        print(\"added weight:\", added_weight, \"for a total of\", weight)\n",
    "        F1 += score * (len_sense / len_total)\n",
    "        print(\"F1 score after calc:\", F1)\n",
    "    F1_scores_no_cluster[target_word] = F1\n",
    "\n"
   ],
   "metadata": {
    "collapsed": false,
    "ExecuteTime": {
     "end_time": "2024-05-17T21:48:31.757148Z",
     "start_time": "2024-05-17T21:48:31.675675Z"
    }
   },
   "id": "5e0171a680af6377",
   "execution_count": 31
  },
  {
   "cell_type": "code",
   "outputs": [
    {
     "name": "stdout",
     "output_type": "stream",
     "text": [
      "Nouns average of weighted scores: 0.48497141245073044\n",
      "Nouns average of overall scores: 0.6482604021378281\n",
      "Nouns average of all in one cluster scores: 0.5149002922851882\n",
      "Nouns average of v-measure cluster score: 0.34256758108214636\n",
      "Nouns average of rand score: 0.2901435436836219\n",
      "Nouns average of F1 scores: 0.5647182121945085\n",
      "Nouns average of F1 scores when no clustering takes place: 0.3574206110459456\n",
      "\n",
      "\n",
      "\n",
      "Verbs average of weighted scores: 0.5894277255979383\n",
      "Verbs average of overall scores: 0.6928273115773115\n",
      "Verbs average of all in one cluster scores: 0.5700709013209013\n",
      "Verbs average of v-measure cluster score: 0.4157435697900562\n",
      "Verbs average of rand score: 0.28095986224549535\n",
      "Verbs average of F1 scores: 0.5871946136448848\n",
      "Verbs average of F1 scores when no clustering takes place: 0.41897442708157473\n"
     ]
    }
   ],
   "source": [
    "Nouns = [\"Avocat\", \"Bien\", \"Bureau\", \"Faculté\", \"Glace\", \"Souris\", \"Tour\", \"Vol\"]\n",
    "Verbs = [\"Filer\", \"Supporter\", \"Tirer\"]\n",
    "\n",
    "nouns_average_weighted_agg = np.mean([weighted_scores_agg[noun] for noun in Nouns])\n",
    "nouns_average_overall_agg = np.mean([overall_scores_agg[noun] for noun in Nouns])\n",
    "nouns_average_all_in_one_agg = np.mean([all_in_one_cluster_overall_scores_agg[noun] for noun in Nouns])\n",
    "nouns_average_v_measure_agg = np.mean([v_measure_scores_agg[noun] for noun in Nouns])\n",
    "nouns_average_rand_agg = np.mean([rand_scores_agg[noun] for noun in Nouns])\n",
    "nouns_average_F1_agg = np.mean([F1_scores_agg[noun] for noun in Nouns])\n",
    "nouns_average_F1_no_cluster = np.mean([F1_scores_no_cluster[noun] for noun in Nouns])\n",
    "\n",
    "\n",
    "verbs_average_weighted_agg = np.mean([weighted_scores_agg[verb] for verb in Verbs])\n",
    "verbs_average_overall_agg = np.mean([overall_scores_agg[verb] for verb in Verbs])\n",
    "verbs_average_all_in_one_agg = np.mean([all_in_one_cluster_overall_scores_agg[verb] for verb in Verbs])\n",
    "verbs_average_v_measure_agg = np.mean([v_measure_scores_agg[verb] for verb in Verbs])\n",
    "verbs_average_rand_agg = np.mean([rand_scores_agg[verb] for verb in Verbs])\n",
    "verbs_average_F1_agg = np.mean([F1_scores_agg[verb] for verb in Verbs])\n",
    "verbs_average_F1_no_cluster = np.mean([F1_scores_no_cluster[verb] for verb in Verbs])\n",
    "\n",
    "print(\"Nouns average of weighted scores:\", nouns_average_weighted_agg)\n",
    "print(\"Nouns average of overall scores:\", nouns_average_overall_agg)\n",
    "print(\"Nouns average of all in one cluster scores:\", nouns_average_all_in_one_agg)\n",
    "print(\"Nouns average of v-measure cluster score:\", nouns_average_v_measure_agg)\n",
    "print(\"Nouns average of rand score:\", nouns_average_rand_agg)\n",
    "print(\"Nouns average of F1 scores:\", nouns_average_F1_agg)\n",
    "print(\"Nouns average of F1 scores when no clustering takes place:\", nouns_average_F1_no_cluster)\n",
    "print(\"\\n\\n\")\n",
    "print(\"Verbs average of weighted scores:\", verbs_average_weighted_agg)\n",
    "print(\"Verbs average of overall scores:\", verbs_average_overall_agg)\n",
    "print(\"Verbs average of all in one cluster scores:\", verbs_average_all_in_one_agg)\n",
    "print(\"Verbs average of v-measure cluster score:\", verbs_average_v_measure_agg)\n",
    "print(\"Verbs average of rand score:\", verbs_average_rand_agg)\n",
    "print(\"Verbs average of F1 scores:\", verbs_average_F1_agg)\n",
    "print(\"Verbs average of F1 scores when no clustering takes place:\", verbs_average_F1_no_cluster)\n"
   ],
   "metadata": {
    "collapsed": false,
    "ExecuteTime": {
     "end_time": "2024-05-17T21:48:32.272142Z",
     "start_time": "2024-05-17T21:48:32.260052Z"
    }
   },
   "id": "1a2e3014bee88c00",
   "execution_count": 32
  },
  {
   "cell_type": "code",
   "outputs": [],
   "source": [
    "# We create a dataframe from the dictionaries to eventually save the results to a csv file\n",
    "df_agg = pd.DataFrame.from_dict(weighted_scores_agg, orient=\"index\", columns=[\"Weighted\"])\n",
    "df_agg[\"Overall\"] = overall_scores_agg.values()\n",
    "df_agg[\"V_measure\"] = v_measure_scores_agg.values()\n",
    "df_agg[\"Rand\"] = rand_scores_agg.values()\n",
    "df_agg[\"F1\"] = [F1_scores_agg[word] for word in df_agg.index]\n",
    "\n",
    "df_agg[\"Type\"] = [\"Noun\" if word in Nouns else \"Verb\" for word in df_agg.index]\n",
    "df_agg[\"Amount_senses\"] = amount_senses.values()\n",
    "# We add a \"F1\" column to the dataframe\n",
    "\n",
    "# We also create a separate file for the all in one cluster scores\n",
    "df_all_in_one_agg = pd.DataFrame.from_dict(all_in_one_cluster_overall_scores_agg, orient=\"index\", columns=[\"Overall_no_cluster\"])\n",
    "df_all_in_one_agg[\"F1_no_cluster\"] = [F1_scores_no_cluster[word] for word in df_all_in_one_agg.index]\n",
    "df_all_in_one_agg[\"Type\"] = [\"Noun\" if word in Nouns else \"Verb\" for word in df_all_in_one_agg.index]"
   ],
   "metadata": {
    "collapsed": false,
    "ExecuteTime": {
     "end_time": "2024-05-17T21:48:32.960836Z",
     "start_time": "2024-05-17T21:48:32.949759Z"
    }
   },
   "id": "66d1c48f7db710d7",
   "execution_count": 33
  },
  {
   "cell_type": "code",
   "outputs": [],
   "source": [
    "# We add a row 'Average' to the dataframes\n",
    "df_with_average_agg = df_agg.copy()\n",
    "df_with_average_agg.loc[\"Average_nouns\"] = [nouns_average_weighted_agg, nouns_average_overall_agg, nouns_average_v_measure_agg, nouns_average_rand_agg, nouns_average_F1_agg, \"\", \"\"]\n",
    "df_with_average_agg.loc[\"Average_verbs\"] = [verbs_average_weighted_agg, verbs_average_overall_agg, verbs_average_v_measure_agg, verbs_average_rand_agg, verbs_average_F1_agg, \"\", \"\"]\n",
    "df_with_average_agg.loc[\"Global_average\"] = [df_agg[\"Weighted\"].mean(), df_agg[\"Overall\"].mean(), df_agg[\"V_measure\"].mean(), df_agg[\"Rand\"].mean(), df_agg[\"F1\"].mean(), \"\", \"\"] #use the og file, no account of averages\n",
    "\n",
    "\n",
    "# As we don't make a copy, we have to calculate the mean before adding the other averages!\n",
    "df_all_in_one_agg.loc[\"Global_average\"] = [df_all_in_one_agg[\"Overall_no_cluster\"].mean(), df_all_in_one_agg[\"F1_no_cluster\"].mean(), \"\",] \n",
    "df_all_in_one_agg.loc[\"Average_nouns\"] = [nouns_average_all_in_one_agg, nouns_average_F1_no_cluster,\"\"]\n",
    "df_all_in_one_agg.loc[\"Average_verbs\"] = [verbs_average_all_in_one_agg, verbs_average_F1_no_cluster,\"\"]\n"
   ],
   "metadata": {
    "collapsed": false,
    "ExecuteTime": {
     "end_time": "2024-05-17T21:48:33.946033Z",
     "start_time": "2024-05-17T21:48:33.933154Z"
    }
   },
   "id": "3b056c45623e9edb",
   "execution_count": 34
  },
  {
   "cell_type": "code",
   "outputs": [
    {
     "data": {
      "application/vnd.plotly.v1+json": {
       "data": [
        {
         "hovertemplate": "Type=Noun<br>Weighted=%{x}<br>Overall=%{y}<br>index=%{text}<extra></extra>",
         "legendgroup": "Noun",
         "marker": {
          "color": "#636efa",
          "symbol": "circle"
         },
         "mode": "markers+text",
         "name": "Noun",
         "orientation": "v",
         "showlegend": true,
         "text": [
          "Avocat",
          "Bien",
          "Bureau",
          "Faculté",
          "Glace",
          "Souris",
          "Tour",
          "Vol"
         ],
         "x": [
          0.5178571428571429,
          0.6394557823129251,
          0.48500881834215165,
          0.6547619047619048,
          0.18983050847457628,
          0.7000000000000001,
          0.23452380952380952,
          0.4583333333333333
         ],
         "xaxis": "x",
         "y": [
          0.6785714285714286,
          0.7551020408163265,
          0.6310679611650486,
          0.8,
          0.45528455284552843,
          0.8676470588235294,
          0.35135135135135137,
          0.6470588235294118
         ],
         "yaxis": "y",
         "type": "scatter"
        },
        {
         "hovertemplate": "Type=Verb<br>Weighted=%{x}<br>Overall=%{y}<br>index=%{text}<extra></extra>",
         "legendgroup": "Verb",
         "marker": {
          "color": "#EF553B",
          "symbol": "circle"
         },
         "mode": "markers+text",
         "name": "Verb",
         "orientation": "v",
         "showlegend": true,
         "text": [
          "Filer",
          "Supporter",
          "Tirer"
         ],
         "x": [
          0.6429078014184397,
          0.6388888888888888,
          0.4864864864864865
         ],
         "xaxis": "x",
         "y": [
          0.6770833333333334,
          0.7090909090909091,
          0.6923076923076923
         ],
         "yaxis": "y",
         "type": "scatter"
        }
       ],
       "layout": {
        "template": {
         "data": {
          "barpolar": [
           {
            "marker": {
             "line": {
              "color": "white",
              "width": 0.5
             },
             "pattern": {
              "fillmode": "overlay",
              "size": 10,
              "solidity": 0.2
             }
            },
            "type": "barpolar"
           }
          ],
          "bar": [
           {
            "error_x": {
             "color": "#2a3f5f"
            },
            "error_y": {
             "color": "#2a3f5f"
            },
            "marker": {
             "line": {
              "color": "white",
              "width": 0.5
             },
             "pattern": {
              "fillmode": "overlay",
              "size": 10,
              "solidity": 0.2
             }
            },
            "type": "bar"
           }
          ],
          "carpet": [
           {
            "aaxis": {
             "endlinecolor": "#2a3f5f",
             "gridcolor": "#C8D4E3",
             "linecolor": "#C8D4E3",
             "minorgridcolor": "#C8D4E3",
             "startlinecolor": "#2a3f5f"
            },
            "baxis": {
             "endlinecolor": "#2a3f5f",
             "gridcolor": "#C8D4E3",
             "linecolor": "#C8D4E3",
             "minorgridcolor": "#C8D4E3",
             "startlinecolor": "#2a3f5f"
            },
            "type": "carpet"
           }
          ],
          "choropleth": [
           {
            "colorbar": {
             "outlinewidth": 0,
             "ticks": ""
            },
            "type": "choropleth"
           }
          ],
          "contourcarpet": [
           {
            "colorbar": {
             "outlinewidth": 0,
             "ticks": ""
            },
            "type": "contourcarpet"
           }
          ],
          "contour": [
           {
            "colorbar": {
             "outlinewidth": 0,
             "ticks": ""
            },
            "colorscale": [
             [
              0.0,
              "#0d0887"
             ],
             [
              0.1111111111111111,
              "#46039f"
             ],
             [
              0.2222222222222222,
              "#7201a8"
             ],
             [
              0.3333333333333333,
              "#9c179e"
             ],
             [
              0.4444444444444444,
              "#bd3786"
             ],
             [
              0.5555555555555556,
              "#d8576b"
             ],
             [
              0.6666666666666666,
              "#ed7953"
             ],
             [
              0.7777777777777778,
              "#fb9f3a"
             ],
             [
              0.8888888888888888,
              "#fdca26"
             ],
             [
              1.0,
              "#f0f921"
             ]
            ],
            "type": "contour"
           }
          ],
          "heatmapgl": [
           {
            "colorbar": {
             "outlinewidth": 0,
             "ticks": ""
            },
            "colorscale": [
             [
              0.0,
              "#0d0887"
             ],
             [
              0.1111111111111111,
              "#46039f"
             ],
             [
              0.2222222222222222,
              "#7201a8"
             ],
             [
              0.3333333333333333,
              "#9c179e"
             ],
             [
              0.4444444444444444,
              "#bd3786"
             ],
             [
              0.5555555555555556,
              "#d8576b"
             ],
             [
              0.6666666666666666,
              "#ed7953"
             ],
             [
              0.7777777777777778,
              "#fb9f3a"
             ],
             [
              0.8888888888888888,
              "#fdca26"
             ],
             [
              1.0,
              "#f0f921"
             ]
            ],
            "type": "heatmapgl"
           }
          ],
          "heatmap": [
           {
            "colorbar": {
             "outlinewidth": 0,
             "ticks": ""
            },
            "colorscale": [
             [
              0.0,
              "#0d0887"
             ],
             [
              0.1111111111111111,
              "#46039f"
             ],
             [
              0.2222222222222222,
              "#7201a8"
             ],
             [
              0.3333333333333333,
              "#9c179e"
             ],
             [
              0.4444444444444444,
              "#bd3786"
             ],
             [
              0.5555555555555556,
              "#d8576b"
             ],
             [
              0.6666666666666666,
              "#ed7953"
             ],
             [
              0.7777777777777778,
              "#fb9f3a"
             ],
             [
              0.8888888888888888,
              "#fdca26"
             ],
             [
              1.0,
              "#f0f921"
             ]
            ],
            "type": "heatmap"
           }
          ],
          "histogram2dcontour": [
           {
            "colorbar": {
             "outlinewidth": 0,
             "ticks": ""
            },
            "colorscale": [
             [
              0.0,
              "#0d0887"
             ],
             [
              0.1111111111111111,
              "#46039f"
             ],
             [
              0.2222222222222222,
              "#7201a8"
             ],
             [
              0.3333333333333333,
              "#9c179e"
             ],
             [
              0.4444444444444444,
              "#bd3786"
             ],
             [
              0.5555555555555556,
              "#d8576b"
             ],
             [
              0.6666666666666666,
              "#ed7953"
             ],
             [
              0.7777777777777778,
              "#fb9f3a"
             ],
             [
              0.8888888888888888,
              "#fdca26"
             ],
             [
              1.0,
              "#f0f921"
             ]
            ],
            "type": "histogram2dcontour"
           }
          ],
          "histogram2d": [
           {
            "colorbar": {
             "outlinewidth": 0,
             "ticks": ""
            },
            "colorscale": [
             [
              0.0,
              "#0d0887"
             ],
             [
              0.1111111111111111,
              "#46039f"
             ],
             [
              0.2222222222222222,
              "#7201a8"
             ],
             [
              0.3333333333333333,
              "#9c179e"
             ],
             [
              0.4444444444444444,
              "#bd3786"
             ],
             [
              0.5555555555555556,
              "#d8576b"
             ],
             [
              0.6666666666666666,
              "#ed7953"
             ],
             [
              0.7777777777777778,
              "#fb9f3a"
             ],
             [
              0.8888888888888888,
              "#fdca26"
             ],
             [
              1.0,
              "#f0f921"
             ]
            ],
            "type": "histogram2d"
           }
          ],
          "histogram": [
           {
            "marker": {
             "pattern": {
              "fillmode": "overlay",
              "size": 10,
              "solidity": 0.2
             }
            },
            "type": "histogram"
           }
          ],
          "mesh3d": [
           {
            "colorbar": {
             "outlinewidth": 0,
             "ticks": ""
            },
            "type": "mesh3d"
           }
          ],
          "parcoords": [
           {
            "line": {
             "colorbar": {
              "outlinewidth": 0,
              "ticks": ""
             }
            },
            "type": "parcoords"
           }
          ],
          "pie": [
           {
            "automargin": true,
            "type": "pie"
           }
          ],
          "scatter3d": [
           {
            "line": {
             "colorbar": {
              "outlinewidth": 0,
              "ticks": ""
             }
            },
            "marker": {
             "colorbar": {
              "outlinewidth": 0,
              "ticks": ""
             }
            },
            "type": "scatter3d"
           }
          ],
          "scattercarpet": [
           {
            "marker": {
             "colorbar": {
              "outlinewidth": 0,
              "ticks": ""
             }
            },
            "type": "scattercarpet"
           }
          ],
          "scattergeo": [
           {
            "marker": {
             "colorbar": {
              "outlinewidth": 0,
              "ticks": ""
             }
            },
            "type": "scattergeo"
           }
          ],
          "scattergl": [
           {
            "marker": {
             "colorbar": {
              "outlinewidth": 0,
              "ticks": ""
             }
            },
            "type": "scattergl"
           }
          ],
          "scattermapbox": [
           {
            "marker": {
             "colorbar": {
              "outlinewidth": 0,
              "ticks": ""
             }
            },
            "type": "scattermapbox"
           }
          ],
          "scatterpolargl": [
           {
            "marker": {
             "colorbar": {
              "outlinewidth": 0,
              "ticks": ""
             }
            },
            "type": "scatterpolargl"
           }
          ],
          "scatterpolar": [
           {
            "marker": {
             "colorbar": {
              "outlinewidth": 0,
              "ticks": ""
             }
            },
            "type": "scatterpolar"
           }
          ],
          "scatter": [
           {
            "fillpattern": {
             "fillmode": "overlay",
             "size": 10,
             "solidity": 0.2
            },
            "type": "scatter"
           }
          ],
          "scatterternary": [
           {
            "marker": {
             "colorbar": {
              "outlinewidth": 0,
              "ticks": ""
             }
            },
            "type": "scatterternary"
           }
          ],
          "surface": [
           {
            "colorbar": {
             "outlinewidth": 0,
             "ticks": ""
            },
            "colorscale": [
             [
              0.0,
              "#0d0887"
             ],
             [
              0.1111111111111111,
              "#46039f"
             ],
             [
              0.2222222222222222,
              "#7201a8"
             ],
             [
              0.3333333333333333,
              "#9c179e"
             ],
             [
              0.4444444444444444,
              "#bd3786"
             ],
             [
              0.5555555555555556,
              "#d8576b"
             ],
             [
              0.6666666666666666,
              "#ed7953"
             ],
             [
              0.7777777777777778,
              "#fb9f3a"
             ],
             [
              0.8888888888888888,
              "#fdca26"
             ],
             [
              1.0,
              "#f0f921"
             ]
            ],
            "type": "surface"
           }
          ],
          "table": [
           {
            "cells": {
             "fill": {
              "color": "#EBF0F8"
             },
             "line": {
              "color": "white"
             }
            },
            "header": {
             "fill": {
              "color": "#C8D4E3"
             },
             "line": {
              "color": "white"
             }
            },
            "type": "table"
           }
          ]
         },
         "layout": {
          "annotationdefaults": {
           "arrowcolor": "#2a3f5f",
           "arrowhead": 0,
           "arrowwidth": 1
          },
          "autotypenumbers": "strict",
          "coloraxis": {
           "colorbar": {
            "outlinewidth": 0,
            "ticks": ""
           }
          },
          "colorscale": {
           "diverging": [
            [
             0,
             "#8e0152"
            ],
            [
             0.1,
             "#c51b7d"
            ],
            [
             0.2,
             "#de77ae"
            ],
            [
             0.3,
             "#f1b6da"
            ],
            [
             0.4,
             "#fde0ef"
            ],
            [
             0.5,
             "#f7f7f7"
            ],
            [
             0.6,
             "#e6f5d0"
            ],
            [
             0.7,
             "#b8e186"
            ],
            [
             0.8,
             "#7fbc41"
            ],
            [
             0.9,
             "#4d9221"
            ],
            [
             1,
             "#276419"
            ]
           ],
           "sequential": [
            [
             0.0,
             "#0d0887"
            ],
            [
             0.1111111111111111,
             "#46039f"
            ],
            [
             0.2222222222222222,
             "#7201a8"
            ],
            [
             0.3333333333333333,
             "#9c179e"
            ],
            [
             0.4444444444444444,
             "#bd3786"
            ],
            [
             0.5555555555555556,
             "#d8576b"
            ],
            [
             0.6666666666666666,
             "#ed7953"
            ],
            [
             0.7777777777777778,
             "#fb9f3a"
            ],
            [
             0.8888888888888888,
             "#fdca26"
            ],
            [
             1.0,
             "#f0f921"
            ]
           ],
           "sequentialminus": [
            [
             0.0,
             "#0d0887"
            ],
            [
             0.1111111111111111,
             "#46039f"
            ],
            [
             0.2222222222222222,
             "#7201a8"
            ],
            [
             0.3333333333333333,
             "#9c179e"
            ],
            [
             0.4444444444444444,
             "#bd3786"
            ],
            [
             0.5555555555555556,
             "#d8576b"
            ],
            [
             0.6666666666666666,
             "#ed7953"
            ],
            [
             0.7777777777777778,
             "#fb9f3a"
            ],
            [
             0.8888888888888888,
             "#fdca26"
            ],
            [
             1.0,
             "#f0f921"
            ]
           ]
          },
          "colorway": [
           "#636efa",
           "#EF553B",
           "#00cc96",
           "#ab63fa",
           "#FFA15A",
           "#19d3f3",
           "#FF6692",
           "#B6E880",
           "#FF97FF",
           "#FECB52"
          ],
          "font": {
           "color": "#2a3f5f"
          },
          "geo": {
           "bgcolor": "white",
           "lakecolor": "white",
           "landcolor": "white",
           "showlakes": true,
           "showland": true,
           "subunitcolor": "#C8D4E3"
          },
          "hoverlabel": {
           "align": "left"
          },
          "hovermode": "closest",
          "mapbox": {
           "style": "light"
          },
          "paper_bgcolor": "white",
          "plot_bgcolor": "white",
          "polar": {
           "angularaxis": {
            "gridcolor": "#EBF0F8",
            "linecolor": "#EBF0F8",
            "ticks": ""
           },
           "bgcolor": "white",
           "radialaxis": {
            "gridcolor": "#EBF0F8",
            "linecolor": "#EBF0F8",
            "ticks": ""
           }
          },
          "scene": {
           "xaxis": {
            "backgroundcolor": "white",
            "gridcolor": "#DFE8F3",
            "gridwidth": 2,
            "linecolor": "#EBF0F8",
            "showbackground": true,
            "ticks": "",
            "zerolinecolor": "#EBF0F8"
           },
           "yaxis": {
            "backgroundcolor": "white",
            "gridcolor": "#DFE8F3",
            "gridwidth": 2,
            "linecolor": "#EBF0F8",
            "showbackground": true,
            "ticks": "",
            "zerolinecolor": "#EBF0F8"
           },
           "zaxis": {
            "backgroundcolor": "white",
            "gridcolor": "#DFE8F3",
            "gridwidth": 2,
            "linecolor": "#EBF0F8",
            "showbackground": true,
            "ticks": "",
            "zerolinecolor": "#EBF0F8"
           }
          },
          "shapedefaults": {
           "line": {
            "color": "#2a3f5f"
           }
          },
          "ternary": {
           "aaxis": {
            "gridcolor": "#DFE8F3",
            "linecolor": "#A2B1C6",
            "ticks": ""
           },
           "baxis": {
            "gridcolor": "#DFE8F3",
            "linecolor": "#A2B1C6",
            "ticks": ""
           },
           "bgcolor": "white",
           "caxis": {
            "gridcolor": "#DFE8F3",
            "linecolor": "#A2B1C6",
            "ticks": ""
           }
          },
          "title": {
           "x": 0.05
          },
          "xaxis": {
           "automargin": true,
           "gridcolor": "#EBF0F8",
           "linecolor": "#EBF0F8",
           "ticks": "",
           "title": {
            "standoff": 15
           },
           "zerolinecolor": "#EBF0F8",
           "zerolinewidth": 2
          },
          "yaxis": {
           "automargin": true,
           "gridcolor": "#EBF0F8",
           "linecolor": "#EBF0F8",
           "ticks": "",
           "title": {
            "standoff": 15
           },
           "zerolinecolor": "#EBF0F8",
           "zerolinewidth": 2
          }
         }
        },
        "xaxis": {
         "anchor": "y",
         "domain": [
          0.0,
          1.0
         ],
         "title": {
          "text": "Weighted"
         }
        },
        "yaxis": {
         "anchor": "x",
         "domain": [
          0.0,
          1.0
         ],
         "title": {
          "text": "Overall"
         }
        },
        "legend": {
         "title": {
          "text": "Type"
         },
         "tracegroupgap": 0
        },
        "title": {
         "text": "Scores for each word, op een manier die weinig zegt eigenlijk"
        }
       },
       "config": {
        "plotlyServerURL": "https://plot.ly"
       }
      },
      "text/html": "<div>                            <div id=\"0198d09d-f903-49ba-8307-79a18d664209\" class=\"plotly-graph-div\" style=\"height:525px; width:100%;\"></div>            <script type=\"text/javascript\">                require([\"plotly\"], function(Plotly) {                    window.PLOTLYENV=window.PLOTLYENV || {};                                    if (document.getElementById(\"0198d09d-f903-49ba-8307-79a18d664209\")) {                    Plotly.newPlot(                        \"0198d09d-f903-49ba-8307-79a18d664209\",                        [{\"hovertemplate\":\"Type=Noun\\u003cbr\\u003eWeighted=%{x}\\u003cbr\\u003eOverall=%{y}\\u003cbr\\u003eindex=%{text}\\u003cextra\\u003e\\u003c\\u002fextra\\u003e\",\"legendgroup\":\"Noun\",\"marker\":{\"color\":\"#636efa\",\"symbol\":\"circle\"},\"mode\":\"markers+text\",\"name\":\"Noun\",\"orientation\":\"v\",\"showlegend\":true,\"text\":[\"Avocat\",\"Bien\",\"Bureau\",\"Facult\\u00e9\",\"Glace\",\"Souris\",\"Tour\",\"Vol\"],\"x\":[0.5178571428571429,0.6394557823129251,0.48500881834215165,0.6547619047619048,0.18983050847457628,0.7000000000000001,0.23452380952380952,0.4583333333333333],\"xaxis\":\"x\",\"y\":[0.6785714285714286,0.7551020408163265,0.6310679611650486,0.8,0.45528455284552843,0.8676470588235294,0.35135135135135137,0.6470588235294118],\"yaxis\":\"y\",\"type\":\"scatter\"},{\"hovertemplate\":\"Type=Verb\\u003cbr\\u003eWeighted=%{x}\\u003cbr\\u003eOverall=%{y}\\u003cbr\\u003eindex=%{text}\\u003cextra\\u003e\\u003c\\u002fextra\\u003e\",\"legendgroup\":\"Verb\",\"marker\":{\"color\":\"#EF553B\",\"symbol\":\"circle\"},\"mode\":\"markers+text\",\"name\":\"Verb\",\"orientation\":\"v\",\"showlegend\":true,\"text\":[\"Filer\",\"Supporter\",\"Tirer\"],\"x\":[0.6429078014184397,0.6388888888888888,0.4864864864864865],\"xaxis\":\"x\",\"y\":[0.6770833333333334,0.7090909090909091,0.6923076923076923],\"yaxis\":\"y\",\"type\":\"scatter\"}],                        {\"template\":{\"data\":{\"barpolar\":[{\"marker\":{\"line\":{\"color\":\"white\",\"width\":0.5},\"pattern\":{\"fillmode\":\"overlay\",\"size\":10,\"solidity\":0.2}},\"type\":\"barpolar\"}],\"bar\":[{\"error_x\":{\"color\":\"#2a3f5f\"},\"error_y\":{\"color\":\"#2a3f5f\"},\"marker\":{\"line\":{\"color\":\"white\",\"width\":0.5},\"pattern\":{\"fillmode\":\"overlay\",\"size\":10,\"solidity\":0.2}},\"type\":\"bar\"}],\"carpet\":[{\"aaxis\":{\"endlinecolor\":\"#2a3f5f\",\"gridcolor\":\"#C8D4E3\",\"linecolor\":\"#C8D4E3\",\"minorgridcolor\":\"#C8D4E3\",\"startlinecolor\":\"#2a3f5f\"},\"baxis\":{\"endlinecolor\":\"#2a3f5f\",\"gridcolor\":\"#C8D4E3\",\"linecolor\":\"#C8D4E3\",\"minorgridcolor\":\"#C8D4E3\",\"startlinecolor\":\"#2a3f5f\"},\"type\":\"carpet\"}],\"choropleth\":[{\"colorbar\":{\"outlinewidth\":0,\"ticks\":\"\"},\"type\":\"choropleth\"}],\"contourcarpet\":[{\"colorbar\":{\"outlinewidth\":0,\"ticks\":\"\"},\"type\":\"contourcarpet\"}],\"contour\":[{\"colorbar\":{\"outlinewidth\":0,\"ticks\":\"\"},\"colorscale\":[[0.0,\"#0d0887\"],[0.1111111111111111,\"#46039f\"],[0.2222222222222222,\"#7201a8\"],[0.3333333333333333,\"#9c179e\"],[0.4444444444444444,\"#bd3786\"],[0.5555555555555556,\"#d8576b\"],[0.6666666666666666,\"#ed7953\"],[0.7777777777777778,\"#fb9f3a\"],[0.8888888888888888,\"#fdca26\"],[1.0,\"#f0f921\"]],\"type\":\"contour\"}],\"heatmapgl\":[{\"colorbar\":{\"outlinewidth\":0,\"ticks\":\"\"},\"colorscale\":[[0.0,\"#0d0887\"],[0.1111111111111111,\"#46039f\"],[0.2222222222222222,\"#7201a8\"],[0.3333333333333333,\"#9c179e\"],[0.4444444444444444,\"#bd3786\"],[0.5555555555555556,\"#d8576b\"],[0.6666666666666666,\"#ed7953\"],[0.7777777777777778,\"#fb9f3a\"],[0.8888888888888888,\"#fdca26\"],[1.0,\"#f0f921\"]],\"type\":\"heatmapgl\"}],\"heatmap\":[{\"colorbar\":{\"outlinewidth\":0,\"ticks\":\"\"},\"colorscale\":[[0.0,\"#0d0887\"],[0.1111111111111111,\"#46039f\"],[0.2222222222222222,\"#7201a8\"],[0.3333333333333333,\"#9c179e\"],[0.4444444444444444,\"#bd3786\"],[0.5555555555555556,\"#d8576b\"],[0.6666666666666666,\"#ed7953\"],[0.7777777777777778,\"#fb9f3a\"],[0.8888888888888888,\"#fdca26\"],[1.0,\"#f0f921\"]],\"type\":\"heatmap\"}],\"histogram2dcontour\":[{\"colorbar\":{\"outlinewidth\":0,\"ticks\":\"\"},\"colorscale\":[[0.0,\"#0d0887\"],[0.1111111111111111,\"#46039f\"],[0.2222222222222222,\"#7201a8\"],[0.3333333333333333,\"#9c179e\"],[0.4444444444444444,\"#bd3786\"],[0.5555555555555556,\"#d8576b\"],[0.6666666666666666,\"#ed7953\"],[0.7777777777777778,\"#fb9f3a\"],[0.8888888888888888,\"#fdca26\"],[1.0,\"#f0f921\"]],\"type\":\"histogram2dcontour\"}],\"histogram2d\":[{\"colorbar\":{\"outlinewidth\":0,\"ticks\":\"\"},\"colorscale\":[[0.0,\"#0d0887\"],[0.1111111111111111,\"#46039f\"],[0.2222222222222222,\"#7201a8\"],[0.3333333333333333,\"#9c179e\"],[0.4444444444444444,\"#bd3786\"],[0.5555555555555556,\"#d8576b\"],[0.6666666666666666,\"#ed7953\"],[0.7777777777777778,\"#fb9f3a\"],[0.8888888888888888,\"#fdca26\"],[1.0,\"#f0f921\"]],\"type\":\"histogram2d\"}],\"histogram\":[{\"marker\":{\"pattern\":{\"fillmode\":\"overlay\",\"size\":10,\"solidity\":0.2}},\"type\":\"histogram\"}],\"mesh3d\":[{\"colorbar\":{\"outlinewidth\":0,\"ticks\":\"\"},\"type\":\"mesh3d\"}],\"parcoords\":[{\"line\":{\"colorbar\":{\"outlinewidth\":0,\"ticks\":\"\"}},\"type\":\"parcoords\"}],\"pie\":[{\"automargin\":true,\"type\":\"pie\"}],\"scatter3d\":[{\"line\":{\"colorbar\":{\"outlinewidth\":0,\"ticks\":\"\"}},\"marker\":{\"colorbar\":{\"outlinewidth\":0,\"ticks\":\"\"}},\"type\":\"scatter3d\"}],\"scattercarpet\":[{\"marker\":{\"colorbar\":{\"outlinewidth\":0,\"ticks\":\"\"}},\"type\":\"scattercarpet\"}],\"scattergeo\":[{\"marker\":{\"colorbar\":{\"outlinewidth\":0,\"ticks\":\"\"}},\"type\":\"scattergeo\"}],\"scattergl\":[{\"marker\":{\"colorbar\":{\"outlinewidth\":0,\"ticks\":\"\"}},\"type\":\"scattergl\"}],\"scattermapbox\":[{\"marker\":{\"colorbar\":{\"outlinewidth\":0,\"ticks\":\"\"}},\"type\":\"scattermapbox\"}],\"scatterpolargl\":[{\"marker\":{\"colorbar\":{\"outlinewidth\":0,\"ticks\":\"\"}},\"type\":\"scatterpolargl\"}],\"scatterpolar\":[{\"marker\":{\"colorbar\":{\"outlinewidth\":0,\"ticks\":\"\"}},\"type\":\"scatterpolar\"}],\"scatter\":[{\"fillpattern\":{\"fillmode\":\"overlay\",\"size\":10,\"solidity\":0.2},\"type\":\"scatter\"}],\"scatterternary\":[{\"marker\":{\"colorbar\":{\"outlinewidth\":0,\"ticks\":\"\"}},\"type\":\"scatterternary\"}],\"surface\":[{\"colorbar\":{\"outlinewidth\":0,\"ticks\":\"\"},\"colorscale\":[[0.0,\"#0d0887\"],[0.1111111111111111,\"#46039f\"],[0.2222222222222222,\"#7201a8\"],[0.3333333333333333,\"#9c179e\"],[0.4444444444444444,\"#bd3786\"],[0.5555555555555556,\"#d8576b\"],[0.6666666666666666,\"#ed7953\"],[0.7777777777777778,\"#fb9f3a\"],[0.8888888888888888,\"#fdca26\"],[1.0,\"#f0f921\"]],\"type\":\"surface\"}],\"table\":[{\"cells\":{\"fill\":{\"color\":\"#EBF0F8\"},\"line\":{\"color\":\"white\"}},\"header\":{\"fill\":{\"color\":\"#C8D4E3\"},\"line\":{\"color\":\"white\"}},\"type\":\"table\"}]},\"layout\":{\"annotationdefaults\":{\"arrowcolor\":\"#2a3f5f\",\"arrowhead\":0,\"arrowwidth\":1},\"autotypenumbers\":\"strict\",\"coloraxis\":{\"colorbar\":{\"outlinewidth\":0,\"ticks\":\"\"}},\"colorscale\":{\"diverging\":[[0,\"#8e0152\"],[0.1,\"#c51b7d\"],[0.2,\"#de77ae\"],[0.3,\"#f1b6da\"],[0.4,\"#fde0ef\"],[0.5,\"#f7f7f7\"],[0.6,\"#e6f5d0\"],[0.7,\"#b8e186\"],[0.8,\"#7fbc41\"],[0.9,\"#4d9221\"],[1,\"#276419\"]],\"sequential\":[[0.0,\"#0d0887\"],[0.1111111111111111,\"#46039f\"],[0.2222222222222222,\"#7201a8\"],[0.3333333333333333,\"#9c179e\"],[0.4444444444444444,\"#bd3786\"],[0.5555555555555556,\"#d8576b\"],[0.6666666666666666,\"#ed7953\"],[0.7777777777777778,\"#fb9f3a\"],[0.8888888888888888,\"#fdca26\"],[1.0,\"#f0f921\"]],\"sequentialminus\":[[0.0,\"#0d0887\"],[0.1111111111111111,\"#46039f\"],[0.2222222222222222,\"#7201a8\"],[0.3333333333333333,\"#9c179e\"],[0.4444444444444444,\"#bd3786\"],[0.5555555555555556,\"#d8576b\"],[0.6666666666666666,\"#ed7953\"],[0.7777777777777778,\"#fb9f3a\"],[0.8888888888888888,\"#fdca26\"],[1.0,\"#f0f921\"]]},\"colorway\":[\"#636efa\",\"#EF553B\",\"#00cc96\",\"#ab63fa\",\"#FFA15A\",\"#19d3f3\",\"#FF6692\",\"#B6E880\",\"#FF97FF\",\"#FECB52\"],\"font\":{\"color\":\"#2a3f5f\"},\"geo\":{\"bgcolor\":\"white\",\"lakecolor\":\"white\",\"landcolor\":\"white\",\"showlakes\":true,\"showland\":true,\"subunitcolor\":\"#C8D4E3\"},\"hoverlabel\":{\"align\":\"left\"},\"hovermode\":\"closest\",\"mapbox\":{\"style\":\"light\"},\"paper_bgcolor\":\"white\",\"plot_bgcolor\":\"white\",\"polar\":{\"angularaxis\":{\"gridcolor\":\"#EBF0F8\",\"linecolor\":\"#EBF0F8\",\"ticks\":\"\"},\"bgcolor\":\"white\",\"radialaxis\":{\"gridcolor\":\"#EBF0F8\",\"linecolor\":\"#EBF0F8\",\"ticks\":\"\"}},\"scene\":{\"xaxis\":{\"backgroundcolor\":\"white\",\"gridcolor\":\"#DFE8F3\",\"gridwidth\":2,\"linecolor\":\"#EBF0F8\",\"showbackground\":true,\"ticks\":\"\",\"zerolinecolor\":\"#EBF0F8\"},\"yaxis\":{\"backgroundcolor\":\"white\",\"gridcolor\":\"#DFE8F3\",\"gridwidth\":2,\"linecolor\":\"#EBF0F8\",\"showbackground\":true,\"ticks\":\"\",\"zerolinecolor\":\"#EBF0F8\"},\"zaxis\":{\"backgroundcolor\":\"white\",\"gridcolor\":\"#DFE8F3\",\"gridwidth\":2,\"linecolor\":\"#EBF0F8\",\"showbackground\":true,\"ticks\":\"\",\"zerolinecolor\":\"#EBF0F8\"}},\"shapedefaults\":{\"line\":{\"color\":\"#2a3f5f\"}},\"ternary\":{\"aaxis\":{\"gridcolor\":\"#DFE8F3\",\"linecolor\":\"#A2B1C6\",\"ticks\":\"\"},\"baxis\":{\"gridcolor\":\"#DFE8F3\",\"linecolor\":\"#A2B1C6\",\"ticks\":\"\"},\"bgcolor\":\"white\",\"caxis\":{\"gridcolor\":\"#DFE8F3\",\"linecolor\":\"#A2B1C6\",\"ticks\":\"\"}},\"title\":{\"x\":0.05},\"xaxis\":{\"automargin\":true,\"gridcolor\":\"#EBF0F8\",\"linecolor\":\"#EBF0F8\",\"ticks\":\"\",\"title\":{\"standoff\":15},\"zerolinecolor\":\"#EBF0F8\",\"zerolinewidth\":2},\"yaxis\":{\"automargin\":true,\"gridcolor\":\"#EBF0F8\",\"linecolor\":\"#EBF0F8\",\"ticks\":\"\",\"title\":{\"standoff\":15},\"zerolinecolor\":\"#EBF0F8\",\"zerolinewidth\":2}}},\"xaxis\":{\"anchor\":\"y\",\"domain\":[0.0,1.0],\"title\":{\"text\":\"Weighted\"}},\"yaxis\":{\"anchor\":\"x\",\"domain\":[0.0,1.0],\"title\":{\"text\":\"Overall\"}},\"legend\":{\"title\":{\"text\":\"Type\"},\"tracegroupgap\":0},\"title\":{\"text\":\"Scores for each word, op een manier die weinig zegt eigenlijk\"}},                        {\"responsive\": true}                    ).then(function(){\n                            \nvar gd = document.getElementById('0198d09d-f903-49ba-8307-79a18d664209');\nvar x = new MutationObserver(function (mutations, observer) {{\n        var display = window.getComputedStyle(gd).display;\n        if (!display || display === 'none') {{\n            console.log([gd, 'removed!']);\n            Plotly.purge(gd);\n            observer.disconnect();\n        }}\n}});\n\n// Listen for the removal of the full notebook cells\nvar notebookContainer = gd.closest('#notebook-container');\nif (notebookContainer) {{\n    x.observe(notebookContainer, {childList: true});\n}}\n\n// Listen for the clearing of the current output cell\nvar outputEl = gd.closest('.output');\nif (outputEl) {{\n    x.observe(outputEl, {childList: true});\n}}\n\n                        })                };                });            </script>        </div>"
     },
     "metadata": {},
     "output_type": "display_data"
    },
    {
     "data": {
      "application/vnd.plotly.v1+json": {
       "data": [
        {
         "hovertemplate": "Type=Noun<br>V_measure=%{x}<br>F1=%{y}<br>index=%{text}<extra></extra>",
         "legendgroup": "Noun",
         "marker": {
          "color": "#636efa",
          "symbol": "circle"
         },
         "mode": "markers+text",
         "name": "Noun",
         "orientation": "v",
         "showlegend": true,
         "text": [
          "Avocat",
          "Bien",
          "Bureau",
          "Faculté",
          "Glace",
          "Souris",
          "Tour",
          "Vol"
         ],
         "x": [
          0.06986774637673365,
          0.6995502050551441,
          0.2786332902031756,
          0.727946275485782,
          0.02451000034016718,
          0.7931949135159362,
          0.09736946535733389,
          0.049468752322898504
         ],
         "xaxis": "x",
         "y": [
          0.5640513076794935,
          0.6959799271176286,
          0.6253387219151143,
          0.7302463768115942,
          0.3001317164009629,
          0.8218912404910748,
          0.22548455840070358,
          0.5546218487394958
         ],
         "yaxis": "y",
         "type": "scatter"
        },
        {
         "hovertemplate": "Type=Verb<br>V_measure=%{x}<br>F1=%{y}<br>index=%{text}<extra></extra>",
         "legendgroup": "Verb",
         "marker": {
          "color": "#EF553B",
          "symbol": "circle"
         },
         "mode": "markers+text",
         "name": "Verb",
         "orientation": "v",
         "showlegend": true,
         "text": [
          "Filer",
          "Supporter",
          "Tirer"
         ],
         "x": [
          0.5798644234117336,
          0.6486930283618033,
          0.018673257596631746
         ],
         "xaxis": "x",
         "y": [
          0.5691838649155723,
          0.6102321438512497,
          0.5821678321678322
         ],
         "yaxis": "y",
         "type": "scatter"
        }
       ],
       "layout": {
        "template": {
         "data": {
          "barpolar": [
           {
            "marker": {
             "line": {
              "color": "white",
              "width": 0.5
             },
             "pattern": {
              "fillmode": "overlay",
              "size": 10,
              "solidity": 0.2
             }
            },
            "type": "barpolar"
           }
          ],
          "bar": [
           {
            "error_x": {
             "color": "#2a3f5f"
            },
            "error_y": {
             "color": "#2a3f5f"
            },
            "marker": {
             "line": {
              "color": "white",
              "width": 0.5
             },
             "pattern": {
              "fillmode": "overlay",
              "size": 10,
              "solidity": 0.2
             }
            },
            "type": "bar"
           }
          ],
          "carpet": [
           {
            "aaxis": {
             "endlinecolor": "#2a3f5f",
             "gridcolor": "#C8D4E3",
             "linecolor": "#C8D4E3",
             "minorgridcolor": "#C8D4E3",
             "startlinecolor": "#2a3f5f"
            },
            "baxis": {
             "endlinecolor": "#2a3f5f",
             "gridcolor": "#C8D4E3",
             "linecolor": "#C8D4E3",
             "minorgridcolor": "#C8D4E3",
             "startlinecolor": "#2a3f5f"
            },
            "type": "carpet"
           }
          ],
          "choropleth": [
           {
            "colorbar": {
             "outlinewidth": 0,
             "ticks": ""
            },
            "type": "choropleth"
           }
          ],
          "contourcarpet": [
           {
            "colorbar": {
             "outlinewidth": 0,
             "ticks": ""
            },
            "type": "contourcarpet"
           }
          ],
          "contour": [
           {
            "colorbar": {
             "outlinewidth": 0,
             "ticks": ""
            },
            "colorscale": [
             [
              0.0,
              "#0d0887"
             ],
             [
              0.1111111111111111,
              "#46039f"
             ],
             [
              0.2222222222222222,
              "#7201a8"
             ],
             [
              0.3333333333333333,
              "#9c179e"
             ],
             [
              0.4444444444444444,
              "#bd3786"
             ],
             [
              0.5555555555555556,
              "#d8576b"
             ],
             [
              0.6666666666666666,
              "#ed7953"
             ],
             [
              0.7777777777777778,
              "#fb9f3a"
             ],
             [
              0.8888888888888888,
              "#fdca26"
             ],
             [
              1.0,
              "#f0f921"
             ]
            ],
            "type": "contour"
           }
          ],
          "heatmapgl": [
           {
            "colorbar": {
             "outlinewidth": 0,
             "ticks": ""
            },
            "colorscale": [
             [
              0.0,
              "#0d0887"
             ],
             [
              0.1111111111111111,
              "#46039f"
             ],
             [
              0.2222222222222222,
              "#7201a8"
             ],
             [
              0.3333333333333333,
              "#9c179e"
             ],
             [
              0.4444444444444444,
              "#bd3786"
             ],
             [
              0.5555555555555556,
              "#d8576b"
             ],
             [
              0.6666666666666666,
              "#ed7953"
             ],
             [
              0.7777777777777778,
              "#fb9f3a"
             ],
             [
              0.8888888888888888,
              "#fdca26"
             ],
             [
              1.0,
              "#f0f921"
             ]
            ],
            "type": "heatmapgl"
           }
          ],
          "heatmap": [
           {
            "colorbar": {
             "outlinewidth": 0,
             "ticks": ""
            },
            "colorscale": [
             [
              0.0,
              "#0d0887"
             ],
             [
              0.1111111111111111,
              "#46039f"
             ],
             [
              0.2222222222222222,
              "#7201a8"
             ],
             [
              0.3333333333333333,
              "#9c179e"
             ],
             [
              0.4444444444444444,
              "#bd3786"
             ],
             [
              0.5555555555555556,
              "#d8576b"
             ],
             [
              0.6666666666666666,
              "#ed7953"
             ],
             [
              0.7777777777777778,
              "#fb9f3a"
             ],
             [
              0.8888888888888888,
              "#fdca26"
             ],
             [
              1.0,
              "#f0f921"
             ]
            ],
            "type": "heatmap"
           }
          ],
          "histogram2dcontour": [
           {
            "colorbar": {
             "outlinewidth": 0,
             "ticks": ""
            },
            "colorscale": [
             [
              0.0,
              "#0d0887"
             ],
             [
              0.1111111111111111,
              "#46039f"
             ],
             [
              0.2222222222222222,
              "#7201a8"
             ],
             [
              0.3333333333333333,
              "#9c179e"
             ],
             [
              0.4444444444444444,
              "#bd3786"
             ],
             [
              0.5555555555555556,
              "#d8576b"
             ],
             [
              0.6666666666666666,
              "#ed7953"
             ],
             [
              0.7777777777777778,
              "#fb9f3a"
             ],
             [
              0.8888888888888888,
              "#fdca26"
             ],
             [
              1.0,
              "#f0f921"
             ]
            ],
            "type": "histogram2dcontour"
           }
          ],
          "histogram2d": [
           {
            "colorbar": {
             "outlinewidth": 0,
             "ticks": ""
            },
            "colorscale": [
             [
              0.0,
              "#0d0887"
             ],
             [
              0.1111111111111111,
              "#46039f"
             ],
             [
              0.2222222222222222,
              "#7201a8"
             ],
             [
              0.3333333333333333,
              "#9c179e"
             ],
             [
              0.4444444444444444,
              "#bd3786"
             ],
             [
              0.5555555555555556,
              "#d8576b"
             ],
             [
              0.6666666666666666,
              "#ed7953"
             ],
             [
              0.7777777777777778,
              "#fb9f3a"
             ],
             [
              0.8888888888888888,
              "#fdca26"
             ],
             [
              1.0,
              "#f0f921"
             ]
            ],
            "type": "histogram2d"
           }
          ],
          "histogram": [
           {
            "marker": {
             "pattern": {
              "fillmode": "overlay",
              "size": 10,
              "solidity": 0.2
             }
            },
            "type": "histogram"
           }
          ],
          "mesh3d": [
           {
            "colorbar": {
             "outlinewidth": 0,
             "ticks": ""
            },
            "type": "mesh3d"
           }
          ],
          "parcoords": [
           {
            "line": {
             "colorbar": {
              "outlinewidth": 0,
              "ticks": ""
             }
            },
            "type": "parcoords"
           }
          ],
          "pie": [
           {
            "automargin": true,
            "type": "pie"
           }
          ],
          "scatter3d": [
           {
            "line": {
             "colorbar": {
              "outlinewidth": 0,
              "ticks": ""
             }
            },
            "marker": {
             "colorbar": {
              "outlinewidth": 0,
              "ticks": ""
             }
            },
            "type": "scatter3d"
           }
          ],
          "scattercarpet": [
           {
            "marker": {
             "colorbar": {
              "outlinewidth": 0,
              "ticks": ""
             }
            },
            "type": "scattercarpet"
           }
          ],
          "scattergeo": [
           {
            "marker": {
             "colorbar": {
              "outlinewidth": 0,
              "ticks": ""
             }
            },
            "type": "scattergeo"
           }
          ],
          "scattergl": [
           {
            "marker": {
             "colorbar": {
              "outlinewidth": 0,
              "ticks": ""
             }
            },
            "type": "scattergl"
           }
          ],
          "scattermapbox": [
           {
            "marker": {
             "colorbar": {
              "outlinewidth": 0,
              "ticks": ""
             }
            },
            "type": "scattermapbox"
           }
          ],
          "scatterpolargl": [
           {
            "marker": {
             "colorbar": {
              "outlinewidth": 0,
              "ticks": ""
             }
            },
            "type": "scatterpolargl"
           }
          ],
          "scatterpolar": [
           {
            "marker": {
             "colorbar": {
              "outlinewidth": 0,
              "ticks": ""
             }
            },
            "type": "scatterpolar"
           }
          ],
          "scatter": [
           {
            "fillpattern": {
             "fillmode": "overlay",
             "size": 10,
             "solidity": 0.2
            },
            "type": "scatter"
           }
          ],
          "scatterternary": [
           {
            "marker": {
             "colorbar": {
              "outlinewidth": 0,
              "ticks": ""
             }
            },
            "type": "scatterternary"
           }
          ],
          "surface": [
           {
            "colorbar": {
             "outlinewidth": 0,
             "ticks": ""
            },
            "colorscale": [
             [
              0.0,
              "#0d0887"
             ],
             [
              0.1111111111111111,
              "#46039f"
             ],
             [
              0.2222222222222222,
              "#7201a8"
             ],
             [
              0.3333333333333333,
              "#9c179e"
             ],
             [
              0.4444444444444444,
              "#bd3786"
             ],
             [
              0.5555555555555556,
              "#d8576b"
             ],
             [
              0.6666666666666666,
              "#ed7953"
             ],
             [
              0.7777777777777778,
              "#fb9f3a"
             ],
             [
              0.8888888888888888,
              "#fdca26"
             ],
             [
              1.0,
              "#f0f921"
             ]
            ],
            "type": "surface"
           }
          ],
          "table": [
           {
            "cells": {
             "fill": {
              "color": "#EBF0F8"
             },
             "line": {
              "color": "white"
             }
            },
            "header": {
             "fill": {
              "color": "#C8D4E3"
             },
             "line": {
              "color": "white"
             }
            },
            "type": "table"
           }
          ]
         },
         "layout": {
          "annotationdefaults": {
           "arrowcolor": "#2a3f5f",
           "arrowhead": 0,
           "arrowwidth": 1
          },
          "autotypenumbers": "strict",
          "coloraxis": {
           "colorbar": {
            "outlinewidth": 0,
            "ticks": ""
           }
          },
          "colorscale": {
           "diverging": [
            [
             0,
             "#8e0152"
            ],
            [
             0.1,
             "#c51b7d"
            ],
            [
             0.2,
             "#de77ae"
            ],
            [
             0.3,
             "#f1b6da"
            ],
            [
             0.4,
             "#fde0ef"
            ],
            [
             0.5,
             "#f7f7f7"
            ],
            [
             0.6,
             "#e6f5d0"
            ],
            [
             0.7,
             "#b8e186"
            ],
            [
             0.8,
             "#7fbc41"
            ],
            [
             0.9,
             "#4d9221"
            ],
            [
             1,
             "#276419"
            ]
           ],
           "sequential": [
            [
             0.0,
             "#0d0887"
            ],
            [
             0.1111111111111111,
             "#46039f"
            ],
            [
             0.2222222222222222,
             "#7201a8"
            ],
            [
             0.3333333333333333,
             "#9c179e"
            ],
            [
             0.4444444444444444,
             "#bd3786"
            ],
            [
             0.5555555555555556,
             "#d8576b"
            ],
            [
             0.6666666666666666,
             "#ed7953"
            ],
            [
             0.7777777777777778,
             "#fb9f3a"
            ],
            [
             0.8888888888888888,
             "#fdca26"
            ],
            [
             1.0,
             "#f0f921"
            ]
           ],
           "sequentialminus": [
            [
             0.0,
             "#0d0887"
            ],
            [
             0.1111111111111111,
             "#46039f"
            ],
            [
             0.2222222222222222,
             "#7201a8"
            ],
            [
             0.3333333333333333,
             "#9c179e"
            ],
            [
             0.4444444444444444,
             "#bd3786"
            ],
            [
             0.5555555555555556,
             "#d8576b"
            ],
            [
             0.6666666666666666,
             "#ed7953"
            ],
            [
             0.7777777777777778,
             "#fb9f3a"
            ],
            [
             0.8888888888888888,
             "#fdca26"
            ],
            [
             1.0,
             "#f0f921"
            ]
           ]
          },
          "colorway": [
           "#636efa",
           "#EF553B",
           "#00cc96",
           "#ab63fa",
           "#FFA15A",
           "#19d3f3",
           "#FF6692",
           "#B6E880",
           "#FF97FF",
           "#FECB52"
          ],
          "font": {
           "color": "#2a3f5f"
          },
          "geo": {
           "bgcolor": "white",
           "lakecolor": "white",
           "landcolor": "white",
           "showlakes": true,
           "showland": true,
           "subunitcolor": "#C8D4E3"
          },
          "hoverlabel": {
           "align": "left"
          },
          "hovermode": "closest",
          "mapbox": {
           "style": "light"
          },
          "paper_bgcolor": "white",
          "plot_bgcolor": "white",
          "polar": {
           "angularaxis": {
            "gridcolor": "#EBF0F8",
            "linecolor": "#EBF0F8",
            "ticks": ""
           },
           "bgcolor": "white",
           "radialaxis": {
            "gridcolor": "#EBF0F8",
            "linecolor": "#EBF0F8",
            "ticks": ""
           }
          },
          "scene": {
           "xaxis": {
            "backgroundcolor": "white",
            "gridcolor": "#DFE8F3",
            "gridwidth": 2,
            "linecolor": "#EBF0F8",
            "showbackground": true,
            "ticks": "",
            "zerolinecolor": "#EBF0F8"
           },
           "yaxis": {
            "backgroundcolor": "white",
            "gridcolor": "#DFE8F3",
            "gridwidth": 2,
            "linecolor": "#EBF0F8",
            "showbackground": true,
            "ticks": "",
            "zerolinecolor": "#EBF0F8"
           },
           "zaxis": {
            "backgroundcolor": "white",
            "gridcolor": "#DFE8F3",
            "gridwidth": 2,
            "linecolor": "#EBF0F8",
            "showbackground": true,
            "ticks": "",
            "zerolinecolor": "#EBF0F8"
           }
          },
          "shapedefaults": {
           "line": {
            "color": "#2a3f5f"
           }
          },
          "ternary": {
           "aaxis": {
            "gridcolor": "#DFE8F3",
            "linecolor": "#A2B1C6",
            "ticks": ""
           },
           "baxis": {
            "gridcolor": "#DFE8F3",
            "linecolor": "#A2B1C6",
            "ticks": ""
           },
           "bgcolor": "white",
           "caxis": {
            "gridcolor": "#DFE8F3",
            "linecolor": "#A2B1C6",
            "ticks": ""
           }
          },
          "title": {
           "x": 0.05
          },
          "xaxis": {
           "automargin": true,
           "gridcolor": "#EBF0F8",
           "linecolor": "#EBF0F8",
           "ticks": "",
           "title": {
            "standoff": 15
           },
           "zerolinecolor": "#EBF0F8",
           "zerolinewidth": 2
          },
          "yaxis": {
           "automargin": true,
           "gridcolor": "#EBF0F8",
           "linecolor": "#EBF0F8",
           "ticks": "",
           "title": {
            "standoff": 15
           },
           "zerolinecolor": "#EBF0F8",
           "zerolinewidth": 2
          }
         }
        },
        "xaxis": {
         "anchor": "y",
         "domain": [
          0.0,
          1.0
         ],
         "title": {
          "text": "V_measure"
         }
        },
        "yaxis": {
         "anchor": "x",
         "domain": [
          0.0,
          1.0
         ],
         "title": {
          "text": "F1"
         }
        },
        "legend": {
         "title": {
          "text": "Type"
         },
         "tracegroupgap": 0
        },
        "title": {
         "text": "Scores for each word"
        }
       },
       "config": {
        "plotlyServerURL": "https://plot.ly"
       }
      },
      "text/html": "<div>                            <div id=\"8ab8e3df-0db9-480d-8c51-28d6af3cb3ea\" class=\"plotly-graph-div\" style=\"height:525px; width:100%;\"></div>            <script type=\"text/javascript\">                require([\"plotly\"], function(Plotly) {                    window.PLOTLYENV=window.PLOTLYENV || {};                                    if (document.getElementById(\"8ab8e3df-0db9-480d-8c51-28d6af3cb3ea\")) {                    Plotly.newPlot(                        \"8ab8e3df-0db9-480d-8c51-28d6af3cb3ea\",                        [{\"hovertemplate\":\"Type=Noun\\u003cbr\\u003eV_measure=%{x}\\u003cbr\\u003eF1=%{y}\\u003cbr\\u003eindex=%{text}\\u003cextra\\u003e\\u003c\\u002fextra\\u003e\",\"legendgroup\":\"Noun\",\"marker\":{\"color\":\"#636efa\",\"symbol\":\"circle\"},\"mode\":\"markers+text\",\"name\":\"Noun\",\"orientation\":\"v\",\"showlegend\":true,\"text\":[\"Avocat\",\"Bien\",\"Bureau\",\"Facult\\u00e9\",\"Glace\",\"Souris\",\"Tour\",\"Vol\"],\"x\":[0.06986774637673365,0.6995502050551441,0.2786332902031756,0.727946275485782,0.02451000034016718,0.7931949135159362,0.09736946535733389,0.049468752322898504],\"xaxis\":\"x\",\"y\":[0.5640513076794935,0.6959799271176286,0.6253387219151143,0.7302463768115942,0.3001317164009629,0.8218912404910748,0.22548455840070358,0.5546218487394958],\"yaxis\":\"y\",\"type\":\"scatter\"},{\"hovertemplate\":\"Type=Verb\\u003cbr\\u003eV_measure=%{x}\\u003cbr\\u003eF1=%{y}\\u003cbr\\u003eindex=%{text}\\u003cextra\\u003e\\u003c\\u002fextra\\u003e\",\"legendgroup\":\"Verb\",\"marker\":{\"color\":\"#EF553B\",\"symbol\":\"circle\"},\"mode\":\"markers+text\",\"name\":\"Verb\",\"orientation\":\"v\",\"showlegend\":true,\"text\":[\"Filer\",\"Supporter\",\"Tirer\"],\"x\":[0.5798644234117336,0.6486930283618033,0.018673257596631746],\"xaxis\":\"x\",\"y\":[0.5691838649155723,0.6102321438512497,0.5821678321678322],\"yaxis\":\"y\",\"type\":\"scatter\"}],                        {\"template\":{\"data\":{\"barpolar\":[{\"marker\":{\"line\":{\"color\":\"white\",\"width\":0.5},\"pattern\":{\"fillmode\":\"overlay\",\"size\":10,\"solidity\":0.2}},\"type\":\"barpolar\"}],\"bar\":[{\"error_x\":{\"color\":\"#2a3f5f\"},\"error_y\":{\"color\":\"#2a3f5f\"},\"marker\":{\"line\":{\"color\":\"white\",\"width\":0.5},\"pattern\":{\"fillmode\":\"overlay\",\"size\":10,\"solidity\":0.2}},\"type\":\"bar\"}],\"carpet\":[{\"aaxis\":{\"endlinecolor\":\"#2a3f5f\",\"gridcolor\":\"#C8D4E3\",\"linecolor\":\"#C8D4E3\",\"minorgridcolor\":\"#C8D4E3\",\"startlinecolor\":\"#2a3f5f\"},\"baxis\":{\"endlinecolor\":\"#2a3f5f\",\"gridcolor\":\"#C8D4E3\",\"linecolor\":\"#C8D4E3\",\"minorgridcolor\":\"#C8D4E3\",\"startlinecolor\":\"#2a3f5f\"},\"type\":\"carpet\"}],\"choropleth\":[{\"colorbar\":{\"outlinewidth\":0,\"ticks\":\"\"},\"type\":\"choropleth\"}],\"contourcarpet\":[{\"colorbar\":{\"outlinewidth\":0,\"ticks\":\"\"},\"type\":\"contourcarpet\"}],\"contour\":[{\"colorbar\":{\"outlinewidth\":0,\"ticks\":\"\"},\"colorscale\":[[0.0,\"#0d0887\"],[0.1111111111111111,\"#46039f\"],[0.2222222222222222,\"#7201a8\"],[0.3333333333333333,\"#9c179e\"],[0.4444444444444444,\"#bd3786\"],[0.5555555555555556,\"#d8576b\"],[0.6666666666666666,\"#ed7953\"],[0.7777777777777778,\"#fb9f3a\"],[0.8888888888888888,\"#fdca26\"],[1.0,\"#f0f921\"]],\"type\":\"contour\"}],\"heatmapgl\":[{\"colorbar\":{\"outlinewidth\":0,\"ticks\":\"\"},\"colorscale\":[[0.0,\"#0d0887\"],[0.1111111111111111,\"#46039f\"],[0.2222222222222222,\"#7201a8\"],[0.3333333333333333,\"#9c179e\"],[0.4444444444444444,\"#bd3786\"],[0.5555555555555556,\"#d8576b\"],[0.6666666666666666,\"#ed7953\"],[0.7777777777777778,\"#fb9f3a\"],[0.8888888888888888,\"#fdca26\"],[1.0,\"#f0f921\"]],\"type\":\"heatmapgl\"}],\"heatmap\":[{\"colorbar\":{\"outlinewidth\":0,\"ticks\":\"\"},\"colorscale\":[[0.0,\"#0d0887\"],[0.1111111111111111,\"#46039f\"],[0.2222222222222222,\"#7201a8\"],[0.3333333333333333,\"#9c179e\"],[0.4444444444444444,\"#bd3786\"],[0.5555555555555556,\"#d8576b\"],[0.6666666666666666,\"#ed7953\"],[0.7777777777777778,\"#fb9f3a\"],[0.8888888888888888,\"#fdca26\"],[1.0,\"#f0f921\"]],\"type\":\"heatmap\"}],\"histogram2dcontour\":[{\"colorbar\":{\"outlinewidth\":0,\"ticks\":\"\"},\"colorscale\":[[0.0,\"#0d0887\"],[0.1111111111111111,\"#46039f\"],[0.2222222222222222,\"#7201a8\"],[0.3333333333333333,\"#9c179e\"],[0.4444444444444444,\"#bd3786\"],[0.5555555555555556,\"#d8576b\"],[0.6666666666666666,\"#ed7953\"],[0.7777777777777778,\"#fb9f3a\"],[0.8888888888888888,\"#fdca26\"],[1.0,\"#f0f921\"]],\"type\":\"histogram2dcontour\"}],\"histogram2d\":[{\"colorbar\":{\"outlinewidth\":0,\"ticks\":\"\"},\"colorscale\":[[0.0,\"#0d0887\"],[0.1111111111111111,\"#46039f\"],[0.2222222222222222,\"#7201a8\"],[0.3333333333333333,\"#9c179e\"],[0.4444444444444444,\"#bd3786\"],[0.5555555555555556,\"#d8576b\"],[0.6666666666666666,\"#ed7953\"],[0.7777777777777778,\"#fb9f3a\"],[0.8888888888888888,\"#fdca26\"],[1.0,\"#f0f921\"]],\"type\":\"histogram2d\"}],\"histogram\":[{\"marker\":{\"pattern\":{\"fillmode\":\"overlay\",\"size\":10,\"solidity\":0.2}},\"type\":\"histogram\"}],\"mesh3d\":[{\"colorbar\":{\"outlinewidth\":0,\"ticks\":\"\"},\"type\":\"mesh3d\"}],\"parcoords\":[{\"line\":{\"colorbar\":{\"outlinewidth\":0,\"ticks\":\"\"}},\"type\":\"parcoords\"}],\"pie\":[{\"automargin\":true,\"type\":\"pie\"}],\"scatter3d\":[{\"line\":{\"colorbar\":{\"outlinewidth\":0,\"ticks\":\"\"}},\"marker\":{\"colorbar\":{\"outlinewidth\":0,\"ticks\":\"\"}},\"type\":\"scatter3d\"}],\"scattercarpet\":[{\"marker\":{\"colorbar\":{\"outlinewidth\":0,\"ticks\":\"\"}},\"type\":\"scattercarpet\"}],\"scattergeo\":[{\"marker\":{\"colorbar\":{\"outlinewidth\":0,\"ticks\":\"\"}},\"type\":\"scattergeo\"}],\"scattergl\":[{\"marker\":{\"colorbar\":{\"outlinewidth\":0,\"ticks\":\"\"}},\"type\":\"scattergl\"}],\"scattermapbox\":[{\"marker\":{\"colorbar\":{\"outlinewidth\":0,\"ticks\":\"\"}},\"type\":\"scattermapbox\"}],\"scatterpolargl\":[{\"marker\":{\"colorbar\":{\"outlinewidth\":0,\"ticks\":\"\"}},\"type\":\"scatterpolargl\"}],\"scatterpolar\":[{\"marker\":{\"colorbar\":{\"outlinewidth\":0,\"ticks\":\"\"}},\"type\":\"scatterpolar\"}],\"scatter\":[{\"fillpattern\":{\"fillmode\":\"overlay\",\"size\":10,\"solidity\":0.2},\"type\":\"scatter\"}],\"scatterternary\":[{\"marker\":{\"colorbar\":{\"outlinewidth\":0,\"ticks\":\"\"}},\"type\":\"scatterternary\"}],\"surface\":[{\"colorbar\":{\"outlinewidth\":0,\"ticks\":\"\"},\"colorscale\":[[0.0,\"#0d0887\"],[0.1111111111111111,\"#46039f\"],[0.2222222222222222,\"#7201a8\"],[0.3333333333333333,\"#9c179e\"],[0.4444444444444444,\"#bd3786\"],[0.5555555555555556,\"#d8576b\"],[0.6666666666666666,\"#ed7953\"],[0.7777777777777778,\"#fb9f3a\"],[0.8888888888888888,\"#fdca26\"],[1.0,\"#f0f921\"]],\"type\":\"surface\"}],\"table\":[{\"cells\":{\"fill\":{\"color\":\"#EBF0F8\"},\"line\":{\"color\":\"white\"}},\"header\":{\"fill\":{\"color\":\"#C8D4E3\"},\"line\":{\"color\":\"white\"}},\"type\":\"table\"}]},\"layout\":{\"annotationdefaults\":{\"arrowcolor\":\"#2a3f5f\",\"arrowhead\":0,\"arrowwidth\":1},\"autotypenumbers\":\"strict\",\"coloraxis\":{\"colorbar\":{\"outlinewidth\":0,\"ticks\":\"\"}},\"colorscale\":{\"diverging\":[[0,\"#8e0152\"],[0.1,\"#c51b7d\"],[0.2,\"#de77ae\"],[0.3,\"#f1b6da\"],[0.4,\"#fde0ef\"],[0.5,\"#f7f7f7\"],[0.6,\"#e6f5d0\"],[0.7,\"#b8e186\"],[0.8,\"#7fbc41\"],[0.9,\"#4d9221\"],[1,\"#276419\"]],\"sequential\":[[0.0,\"#0d0887\"],[0.1111111111111111,\"#46039f\"],[0.2222222222222222,\"#7201a8\"],[0.3333333333333333,\"#9c179e\"],[0.4444444444444444,\"#bd3786\"],[0.5555555555555556,\"#d8576b\"],[0.6666666666666666,\"#ed7953\"],[0.7777777777777778,\"#fb9f3a\"],[0.8888888888888888,\"#fdca26\"],[1.0,\"#f0f921\"]],\"sequentialminus\":[[0.0,\"#0d0887\"],[0.1111111111111111,\"#46039f\"],[0.2222222222222222,\"#7201a8\"],[0.3333333333333333,\"#9c179e\"],[0.4444444444444444,\"#bd3786\"],[0.5555555555555556,\"#d8576b\"],[0.6666666666666666,\"#ed7953\"],[0.7777777777777778,\"#fb9f3a\"],[0.8888888888888888,\"#fdca26\"],[1.0,\"#f0f921\"]]},\"colorway\":[\"#636efa\",\"#EF553B\",\"#00cc96\",\"#ab63fa\",\"#FFA15A\",\"#19d3f3\",\"#FF6692\",\"#B6E880\",\"#FF97FF\",\"#FECB52\"],\"font\":{\"color\":\"#2a3f5f\"},\"geo\":{\"bgcolor\":\"white\",\"lakecolor\":\"white\",\"landcolor\":\"white\",\"showlakes\":true,\"showland\":true,\"subunitcolor\":\"#C8D4E3\"},\"hoverlabel\":{\"align\":\"left\"},\"hovermode\":\"closest\",\"mapbox\":{\"style\":\"light\"},\"paper_bgcolor\":\"white\",\"plot_bgcolor\":\"white\",\"polar\":{\"angularaxis\":{\"gridcolor\":\"#EBF0F8\",\"linecolor\":\"#EBF0F8\",\"ticks\":\"\"},\"bgcolor\":\"white\",\"radialaxis\":{\"gridcolor\":\"#EBF0F8\",\"linecolor\":\"#EBF0F8\",\"ticks\":\"\"}},\"scene\":{\"xaxis\":{\"backgroundcolor\":\"white\",\"gridcolor\":\"#DFE8F3\",\"gridwidth\":2,\"linecolor\":\"#EBF0F8\",\"showbackground\":true,\"ticks\":\"\",\"zerolinecolor\":\"#EBF0F8\"},\"yaxis\":{\"backgroundcolor\":\"white\",\"gridcolor\":\"#DFE8F3\",\"gridwidth\":2,\"linecolor\":\"#EBF0F8\",\"showbackground\":true,\"ticks\":\"\",\"zerolinecolor\":\"#EBF0F8\"},\"zaxis\":{\"backgroundcolor\":\"white\",\"gridcolor\":\"#DFE8F3\",\"gridwidth\":2,\"linecolor\":\"#EBF0F8\",\"showbackground\":true,\"ticks\":\"\",\"zerolinecolor\":\"#EBF0F8\"}},\"shapedefaults\":{\"line\":{\"color\":\"#2a3f5f\"}},\"ternary\":{\"aaxis\":{\"gridcolor\":\"#DFE8F3\",\"linecolor\":\"#A2B1C6\",\"ticks\":\"\"},\"baxis\":{\"gridcolor\":\"#DFE8F3\",\"linecolor\":\"#A2B1C6\",\"ticks\":\"\"},\"bgcolor\":\"white\",\"caxis\":{\"gridcolor\":\"#DFE8F3\",\"linecolor\":\"#A2B1C6\",\"ticks\":\"\"}},\"title\":{\"x\":0.05},\"xaxis\":{\"automargin\":true,\"gridcolor\":\"#EBF0F8\",\"linecolor\":\"#EBF0F8\",\"ticks\":\"\",\"title\":{\"standoff\":15},\"zerolinecolor\":\"#EBF0F8\",\"zerolinewidth\":2},\"yaxis\":{\"automargin\":true,\"gridcolor\":\"#EBF0F8\",\"linecolor\":\"#EBF0F8\",\"ticks\":\"\",\"title\":{\"standoff\":15},\"zerolinecolor\":\"#EBF0F8\",\"zerolinewidth\":2}}},\"xaxis\":{\"anchor\":\"y\",\"domain\":[0.0,1.0],\"title\":{\"text\":\"V_measure\"}},\"yaxis\":{\"anchor\":\"x\",\"domain\":[0.0,1.0],\"title\":{\"text\":\"F1\"}},\"legend\":{\"title\":{\"text\":\"Type\"},\"tracegroupgap\":0},\"title\":{\"text\":\"Scores for each word\"}},                        {\"responsive\": true}                    ).then(function(){\n                            \nvar gd = document.getElementById('8ab8e3df-0db9-480d-8c51-28d6af3cb3ea');\nvar x = new MutationObserver(function (mutations, observer) {{\n        var display = window.getComputedStyle(gd).display;\n        if (!display || display === 'none') {{\n            console.log([gd, 'removed!']);\n            Plotly.purge(gd);\n            observer.disconnect();\n        }}\n}});\n\n// Listen for the removal of the full notebook cells\nvar notebookContainer = gd.closest('#notebook-container');\nif (notebookContainer) {{\n    x.observe(notebookContainer, {childList: true});\n}}\n\n// Listen for the clearing of the current output cell\nvar outputEl = gd.closest('.output');\nif (outputEl) {{\n    x.observe(outputEl, {childList: true});\n}}\n\n                        })                };                });            </script>        </div>"
     },
     "metadata": {},
     "output_type": "display_data"
    }
   ],
   "source": [
    "fig_zegt_weinig = px.scatter(df_agg, x=\"Weighted\", y=\"Overall\", text=df_agg.index, color=\"Type\", title=\"Scores for each word, op een manier die weinig zegt eigenlijk\",template=\"plotly_white\")\n",
    "fig_zegt_weinig.show()\n",
    "fig_zegt_weinig = px.scatter(df_agg, x=\"Weighted\", y=\"Overall\", text=df_agg.index, color=\"Type\", title=\"Scores for each word, op een manier die weinig zegt eigenlijk\",template=\"plotly_white\")\n",
    "fig = px.scatter(df_agg, x=\"V_measure\", y=\"F1\", text=df_agg.index, color=\"Type\", title=\"Scores for each word\",template=\"plotly_white\")\n",
    "fig.show()"
   ],
   "metadata": {
    "collapsed": false,
    "ExecuteTime": {
     "end_time": "2024-05-17T21:48:34.788311Z",
     "start_time": "2024-05-17T21:48:34.620889Z"
    }
   },
   "id": "631fc5f0ac2ff6fe",
   "execution_count": 35
  },
  {
   "cell_type": "markdown",
   "source": [
    "# Estimating the number of clusters\n",
    "We will now calculate if the model correctly predicts the number of clusters.\n",
    "We will count the number of different manually annotated senses and compare this to the amount of generated clusters."
   ],
   "metadata": {
    "collapsed": false
   },
   "id": "8d8fd95d03f1e33e"
  },
  {
   "cell_type": "code",
   "outputs": [
    {
     "name": "stdout",
     "output_type": "stream",
     "text": [
      "Avocat\n",
      "Number of senses: 2\n",
      "Number of clusters: 3\n",
      "1 too many clusters\n",
      "Bien\n",
      "Number of senses: 3\n",
      "Number of clusters: 3\n",
      "Correct number of clusters\n",
      "Bureau\n",
      "Number of senses: 3\n",
      "Number of clusters: 3\n",
      "Correct number of clusters\n",
      "Faculté\n",
      "Number of senses: 3\n",
      "Number of clusters: 3\n",
      "Correct number of clusters\n",
      "Filer\n",
      "Number of senses: 3\n",
      "Number of clusters: 3\n",
      "Correct number of clusters\n",
      "Glace\n",
      "Number of senses: 5\n",
      "Number of clusters: 3\n",
      "2 too few clusters\n",
      "Souris\n",
      "Number of senses: 3\n",
      "Number of clusters: 3\n",
      "Correct number of clusters\n",
      "Supporter\n",
      "Number of senses: 3\n",
      "Number of clusters: 3\n",
      "Correct number of clusters\n",
      "Tirer\n",
      "Number of senses: 2\n",
      "Number of clusters: 3\n",
      "1 too many clusters\n",
      "Tour\n",
      "Number of senses: 5\n",
      "Number of clusters: 3\n",
      "2 too few clusters\n",
      "Vol\n",
      "Number of senses: 2\n",
      "Number of clusters: 3\n",
      "1 too many clusters\n",
      "Correct: ['Bien', 'Bureau', 'Faculté', 'Filer', 'Souris', 'Supporter']\n",
      "Close: ['Avocat', 'Tirer', 'Vol']\n",
      "Incorrect: ['Glace', 'Tour']\n",
      "Percentage approach: 0.8181818181818182\n"
     ]
    }
   ],
   "source": [
    "correct = []\n",
    "close = [] # One cluster off, often the result of different granularity. Is it ok to report like this or do we have to be more strict?\n",
    "incorrect = []\n",
    "differences_agg = {}\n",
    "for filename in os.listdir(f\"{model_name}/Experiment_3/Curated/\"):\n",
    "    if filename.endswith(\"csv\"):\n",
    "        df = pd.read_csv(f\"{model_name}/Experiment_3/Curated/\" + filename, sep=\";\", encoding=\"utf-8\", header=0)\n",
    "        target_word = df[\"source\"][1]\n",
    "        print(target_word)\n",
    "        # We count the number of different senses\n",
    "        senses = len(df[\"sense\"].unique())\n",
    "        # We count the number of clusters\n",
    "        clusters = len(df[\"agg_cluster_sub\"].unique())\n",
    "        print(\"Number of senses:\", senses)\n",
    "        print(\"Number of clusters:\", clusters)\n",
    "        if senses == clusters:\n",
    "            print(\"Correct number of clusters\")\n",
    "            difference = 0\n",
    "            correct.append(target_word)\n",
    "        elif senses > clusters:\n",
    "            difference = senses - clusters\n",
    "            print(difference, \"too few clusters\")\n",
    "            if difference == 1:\n",
    "                close.append(target_word)\n",
    "            else:\n",
    "                incorrect.append(target_word)\n",
    "            difference = -difference\n",
    "        elif senses < clusters:\n",
    "            difference = clusters - senses\n",
    "            print(difference, \"too many clusters\")\n",
    "            if difference == 1:\n",
    "                close.append(target_word)\n",
    "            else:\n",
    "                incorrect.append(target_word)\n",
    "                \n",
    "        differences_agg[target_word] = difference\n",
    "        # We calculate the score\n",
    "        #print(\"Score:\", score)\n",
    "        #scores[target_word] = score\n",
    "\n",
    "print(\"Correct:\", correct)\n",
    "print(\"Close:\", close)\n",
    "print(\"Incorrect:\", incorrect)\n",
    "print(\"Percentage approach:\", (len(correct) + len(close)) / ((len(correct) + len(close) + len(incorrect))))"
   ],
   "metadata": {
    "collapsed": false,
    "ExecuteTime": {
     "end_time": "2024-05-17T21:48:35.644004Z",
     "start_time": "2024-05-17T21:48:35.603200Z"
    }
   },
   "id": "45b368ae1793d1b9",
   "execution_count": 36
  },
  {
   "cell_type": "code",
   "outputs": [],
   "source": [
    "# We add a \"difference\" column to the dataframe\n",
    "df_with_average_agg[\"Cluster_Estimation\"] = [differences_agg[word] if word in differences_agg else \"\" for word in df_with_average_agg.index]"
   ],
   "metadata": {
    "collapsed": false,
    "ExecuteTime": {
     "end_time": "2024-05-17T21:48:36.163520Z",
     "start_time": "2024-05-17T21:48:36.159117Z"
    }
   },
   "id": "654ccd07a13d2471",
   "execution_count": 37
  },
  {
   "cell_type": "code",
   "outputs": [],
   "source": [
    "# We save these dataframes to a csv file\n",
    "if not os.path.exists(f\"Results/Experiment_3/Curated/AGG\"):\n",
    "    os.makedirs(f\"Results/Experiment_3/Curated/AGG\")\n",
    "df_with_average_agg.to_csv(f\"Results/Experiment_3/Curated/AGG/{model_name}_scores.csv\", sep=\";\", encoding=\"utf-8\")\n",
    "fig.write_html(f\"Results/Experiment_3/Curated/AGG/{model_name}_scores.html\")\n",
    "df_all_in_one_agg.to_csv(f\"Results/Experiment_3/Curated/AGG/all_in_one_scores.csv\", sep=\";\", encoding=\"utf-8\")"
   ],
   "metadata": {
    "collapsed": false,
    "ExecuteTime": {
     "end_time": "2024-05-17T21:48:37.135606Z",
     "start_time": "2024-05-17T21:48:37.089640Z"
    }
   },
   "id": "8727920f4ce26e6a",
   "execution_count": 38
  },
  {
   "cell_type": "markdown",
   "source": [
    "# BIC"
   ],
   "metadata": {
    "collapsed": false
   },
   "id": "2ef66bc9d14ed992"
  },
  {
   "cell_type": "code",
   "outputs": [
    {
     "name": "stdout",
     "output_type": "stream",
     "text": [
      "Avocat\n",
      "Number of senses: 2\n",
      "Score for each sense\n",
      "avocado    82.142857\n",
      "lawyer     50.000000\n",
      "Name: BIC_default_sub, dtype: float64\n",
      "Overall score 60.71428571428571\n",
      "Weighted score 66.07142857142857\n",
      "Harmonic mean 62.16216216216216\n",
      "V-measure score 67.3013991940131\n",
      "Adjusted Rand score 50.487163436973994\n",
      "All-in-one score 66.66666666666666 \n",
      "\n",
      "\n",
      "Bien\n",
      "Number of senses: 3\n",
      "Score for each sense\n",
      "good         89.655172\n",
      "property     91.836735\n",
      "wellbeing     0.000000\n",
      "Name: BIC_default_sub, dtype: float64\n",
      "Overall score 72.44897959183673\n",
      "Weighted score 60.49730236922355\n",
      "Harmonic mean 0\n",
      "V-measure score 64.64984284340453\n",
      "Adjusted Rand score 63.69332318496678\n",
      "All-in-one score 50.0 \n",
      "\n",
      "\n",
      "Bureau\n",
      "Number of senses: 3\n",
      "Score for each sense\n",
      "cabinet    85.714286\n",
      "desk       82.857143\n",
      "office     72.222222\n",
      "Name: BIC_default_sub, dtype: float64\n",
      "Overall score 77.66990291262135\n",
      "Weighted score 80.26455026455027\n",
      "Harmonic mean 79.82590283496059\n",
      "V-measure score 41.2859145685326\n",
      "Adjusted Rand score 40.58002715555123\n",
      "All-in-one score 52.42718446601942 \n",
      "\n",
      "\n",
      "Faculté\n",
      "Number of senses: 3\n",
      "Score for each sense\n",
      "ability        80.000000\n",
      "competence     53.571429\n",
      "university    100.000000\n",
      "Name: BIC_default_sub, dtype: float64\n",
      "Overall score 80.0\n",
      "Weighted score 77.85714285714286\n",
      "Harmonic mean 72.8744939271255\n",
      "V-measure score 65.90790808687689\n",
      "Adjusted Rand score 68.76074488938916\n",
      "All-in-one score 46.25 \n",
      "\n",
      "\n",
      "Filer\n",
      "Number of senses: 3\n",
      "Score for each sense\n",
      "give         100.0\n",
      "slip away    100.0\n",
      "spinning      95.0\n",
      "Name: BIC_default_sub, dtype: float64\n",
      "Overall score 98.95833333333334\n",
      "Weighted score 98.33333333333334\n",
      "Harmonic mean 98.27586206896551\n",
      "V-measure score 95.54928955680964\n",
      "Adjusted Rand score 96.89839076195335\n",
      "All-in-one score 48.95833333333333 \n",
      "\n",
      "\n",
      "Glace\n",
      "Number of senses: 5\n",
      "Score for each sense\n",
      "glass             88.888889\n",
      "ice               93.220339\n",
      "ice cream         90.000000\n",
      "mirror            84.615385\n",
      "powdered sugar     0.000000\n",
      "Name: BIC_default_sub, dtype: float64\n",
      "Overall score 83.73983739837398\n",
      "Weighted score 71.34492249746486\n",
      "Harmonic mean 0\n",
      "V-measure score 70.23313562856619\n",
      "Adjusted Rand score 74.35127877492545\n",
      "All-in-one score 47.96747967479675 \n",
      "\n",
      "\n",
      "Souris\n",
      "Number of senses: 3\n",
      "Score for each sense\n",
      "bat          0.000000\n",
      "pointer     55.555556\n",
      "rodent     100.000000\n",
      "Name: BIC_default_sub, dtype: float64\n",
      "Overall score 67.64705882352942\n",
      "Weighted score 51.85185185185185\n",
      "Harmonic mean 0\n",
      "V-measure score 68.85598700400486\n",
      "Adjusted Rand score 55.57075157402181\n",
      "All-in-one score 45.588235294117645 \n",
      "\n",
      "\n",
      "Supporter\n",
      "Number of senses: 3\n",
      "Score for each sense\n",
      "endure      71.428571\n",
      "fan        100.000000\n",
      "hold up     73.333333\n",
      "Name: BIC_default_sub, dtype: float64\n",
      "Overall score 78.18181818181819\n",
      "Weighted score 81.5873015873016\n",
      "Harmonic mean 79.71014492753623\n",
      "V-measure score 57.231828604228085\n",
      "Adjusted Rand score 45.50974752317034\n",
      "All-in-one score 50.90909090909091 \n",
      "\n",
      "\n",
      "Tirer\n",
      "Number of senses: 2\n",
      "Score for each sense\n",
      "pull     96.666667\n",
      "shoot    59.459459\n",
      "Name: BIC_default_sub, dtype: float64\n",
      "Overall score 70.1923076923077\n",
      "Weighted score 78.06306306306307\n",
      "Harmonic mean 73.62954414310444\n",
      "V-measure score 52.26428807946941\n",
      "Adjusted Rand score 42.81772819419988\n",
      "All-in-one score 71.15384615384616 \n",
      "\n",
      "\n",
      "Tour\n",
      "Number of senses: 5\n",
      "Score for each sense\n",
      "lap        0.000000\n",
      "round    100.000000\n",
      "tower      0.000000\n",
      "trick     42.857143\n",
      "turn     100.000000\n",
      "Name: BIC_default_sub, dtype: float64\n",
      "Overall score 59.45945945945946\n",
      "Weighted score 48.57142857142858\n",
      "Harmonic mean 0\n",
      "V-measure score 43.81248117702465\n",
      "Adjusted Rand score 29.84841612253294\n",
      "All-in-one score 32.432432432432435 \n",
      "\n",
      "\n",
      "Vol\n",
      "Number of senses: 2\n",
      "Score for each sense\n",
      "flight     50.0\n",
      "theft     100.0\n",
      "Name: BIC_default_sub, dtype: float64\n",
      "Overall score 64.70588235294117\n",
      "Weighted score 75.0\n",
      "Harmonic mean 66.66666666666666\n",
      "V-measure score 57.95697623512835\n",
      "Adjusted Rand score 43.95354438170676\n",
      "All-in-one score 70.58823529411765 \n"
     ]
    }
   ],
   "source": [
    "weighted_scores_BIC = {} # our original metric\n",
    "overall_scores_BIC = {} # the percentage of correct predictions across all senses\n",
    "all_in_one_cluster_overall_scores_BIC = {} # the percentage of correct predictions if no clustering would take place\n",
    "amount_senses = {} # the amount of different senses (does not differ)\n",
    "v_measure_scores_BIC = {} # the v-measure score\n",
    "rand_scores_BIC = {} # the adjusted rand score\n",
    "# We also calculate a F1 score in a later code block\n",
    "\n",
    "for filename in os.listdir(f\"{model_name}/Experiment_3/Curated/\"):\n",
    "    if filename.endswith(\"csv\"):\n",
    "        df = pd.read_csv(f\"{model_name}/Experiment_3/Curated/\" + filename, sep=\";\", encoding=\"utf-8\", header=0)\n",
    "        target_word = df[\"source\"][1]\n",
    "        print(target_word)\n",
    "        # We calculate the amount of different senses\n",
    "        senses = len(df[\"sense\"].unique())\n",
    "        print(\"Number of senses:\", senses)\n",
    "        percentage_default_BIC = (df[\"BIC_default_sub\"].sum() / len(df))\n",
    "        # We also calculate this separately for each \"sense\"\n",
    "        percentage_default_mean_BIC = df.groupby(\"sense\")[\"BIC_default_sub\"].mean()\n",
    "        # We calculate a harmonic mean, as it is more representative of the overall performance\n",
    "        harmonic_mean_BIC = statistics.harmonic_mean(df.groupby(\"sense\")[\"BIC_default_sub\"].mean())\n",
    "        # We want the mean score across all senses, as it does not mean a lot if a program can correctly define one big cluster containing most of the data and fail at all other senses.\n",
    "        percentage_weighted_BIC = percentage_default_mean_BIC.mean()\n",
    "        v_measure_BIC = v_measure_score(df[\"sense\"], df[\"BIC_cluster_sub\"])\n",
    "        rand_BIC = adjusted_rand_score(df[\"sense\"], df[\"BIC_cluster_sub\"])\n",
    "\n",
    "\n",
    "\n",
    "        print(\"Score for each\", percentage_default_mean_BIC*100)\n",
    "        print(\"Overall score\", percentage_default_BIC*100)\n",
    "        print(\"Weighted score\", percentage_weighted_BIC*100)\n",
    "        print(\"Harmonic mean\", harmonic_mean_BIC*100)\n",
    "        print(\"V-measure score\", v_measure_BIC*100)\n",
    "        print(\"Adjusted Rand score\", rand_BIC*100)\n",
    "        weighted_scores_BIC[target_word] = percentage_weighted_BIC\n",
    "        overall_scores_BIC[target_word] = percentage_default_BIC\n",
    "        amount_senses[target_word] = senses\n",
    "        v_measure_scores_BIC[target_word] = v_measure_BIC\n",
    "        rand_scores_BIC[target_word] = rand_BIC\n",
    "        # We also calculate the score if no clustering would take place\n",
    "        default = df[\"sense\"].value_counts().idxmax()\n",
    "        \n",
    "        # We calculate the overall score: this is the percentage of this sense in the total dataframe\n",
    "        all_in_one_cluster_score_BIC = (df[\"sense\"] == default).sum() / len(df)\n",
    "        all_in_one_cluster_overall_scores_BIC[target_word] = all_in_one_cluster_score_BIC\n",
    "        print(\"All-in-one score\", all_in_one_cluster_score_BIC*100, \"\\n\\n\")"
   ],
   "metadata": {
    "collapsed": false,
    "ExecuteTime": {
     "end_time": "2024-05-17T21:48:38.605064Z",
     "start_time": "2024-05-17T21:48:38.533370Z"
    }
   },
   "id": "a17defd5f9a436bd",
   "execution_count": 39
  },
  {
   "cell_type": "code",
   "outputs": [
    {
     "name": "stdout",
     "output_type": "stream",
     "text": [
      "\n",
      "\n",
      " Avocat\n",
      "Number of senses: 2\n",
      "\n",
      "sense: lawyer\n",
      "instances of sense: 56\n",
      "amount of correct instances: 28\n",
      "correct cluster number: 1\n",
      "total amount of points in biggest cluster: 28\n",
      "precision: 1.0\n",
      "recall 0.5\n",
      "F1 0.6666666666666666\n",
      "\n",
      "sense: avocado\n",
      "instances of sense: 28\n",
      "amount of correct instances: 23\n",
      "correct cluster number: 2\n",
      "total amount of points in biggest cluster: 23\n",
      "precision: 1.0\n",
      "recall 0.8214285714285714\n",
      "F1 0.9019607843137255\n",
      "\n",
      "\n",
      " Bien\n",
      "Number of senses: 3\n",
      "\n",
      "sense: property\n",
      "instances of sense: 49\n",
      "amount of correct instances: 45\n",
      "correct cluster number: 3\n",
      "total amount of points in biggest cluster: 45\n",
      "precision: 1.0\n",
      "recall 0.9183673469387755\n",
      "F1 0.9574468085106383\n",
      "\n",
      "sense: wellbeing\n",
      "instances of sense: 20\n",
      "amount of correct instances: 0\n",
      "correct cluster number: No cluster\n",
      "total amount of points in biggest cluster: 0\n",
      "precision zero\n",
      "precision: 0\n",
      "recall 0.0\n",
      "F1 0\n",
      "\n",
      "sense: good\n",
      "instances of sense: 29\n",
      "amount of correct instances: 26\n",
      "correct cluster number: 2\n",
      "total amount of points in biggest cluster: 47\n",
      "precision: 0.5531914893617021\n",
      "recall 0.896551724137931\n",
      "F1 0.6842105263157895\n",
      "\n",
      "\n",
      " Bureau\n",
      "Number of senses: 3\n",
      "\n",
      "sense: desk\n",
      "instances of sense: 35\n",
      "amount of correct instances: 29\n",
      "correct cluster number: 2\n",
      "total amount of points in biggest cluster: 37\n",
      "precision: 0.7837837837837838\n",
      "recall 0.8285714285714286\n",
      "F1 0.8055555555555556\n",
      "\n",
      "sense: cabinet\n",
      "instances of sense: 14\n",
      "amount of correct instances: 12\n",
      "correct cluster number: 1\n",
      "total amount of points in biggest cluster: 19\n",
      "precision: 0.631578947368421\n",
      "recall 0.8571428571428571\n",
      "F1 0.7272727272727272\n",
      "\n",
      "sense: office\n",
      "instances of sense: 54\n",
      "amount of correct instances: 39\n",
      "correct cluster number: 3\n",
      "total amount of points in biggest cluster: 47\n",
      "precision: 0.8297872340425532\n",
      "recall 0.7222222222222222\n",
      "F1 0.7722772277227723\n",
      "\n",
      "\n",
      " Faculté\n",
      "Number of senses: 3\n",
      "\n",
      "sense: university\n",
      "instances of sense: 37\n",
      "amount of correct instances: 37\n",
      "correct cluster number: 1\n",
      "total amount of points in biggest cluster: 38\n",
      "precision: 0.9736842105263158\n",
      "recall 1.0\n",
      "F1 0.9866666666666667\n",
      "\n",
      "sense: competence\n",
      "instances of sense: 28\n",
      "amount of correct instances: 15\n",
      "correct cluster number: 2\n",
      "total amount of points in biggest cluster: 17\n",
      "precision: 0.8823529411764706\n",
      "recall 0.5357142857142857\n",
      "F1 0.6666666666666666\n",
      "\n",
      "sense: ability\n",
      "instances of sense: 15\n",
      "amount of correct instances: 12\n",
      "correct cluster number: 3\n",
      "total amount of points in biggest cluster: 25\n",
      "precision: 0.48\n",
      "recall 0.8\n",
      "F1 0.6\n",
      "\n",
      "\n",
      " Filer\n",
      "Number of senses: 3\n",
      "\n",
      "sense: slip away\n",
      "instances of sense: 47\n",
      "amount of correct instances: 47\n",
      "correct cluster number: 1\n",
      "total amount of points in biggest cluster: 48\n",
      "precision: 0.9791666666666666\n",
      "recall 1.0\n",
      "F1 0.9894736842105263\n",
      "\n",
      "sense: give\n",
      "instances of sense: 29\n",
      "amount of correct instances: 29\n",
      "correct cluster number: 2\n",
      "total amount of points in biggest cluster: 29\n",
      "precision: 1.0\n",
      "recall 1.0\n",
      "F1 1.0\n",
      "\n",
      "sense: spinning\n",
      "instances of sense: 20\n",
      "amount of correct instances: 19\n",
      "correct cluster number: 3\n",
      "total amount of points in biggest cluster: 19\n",
      "precision: 1.0\n",
      "recall 0.95\n",
      "F1 0.9743589743589743\n",
      "\n",
      "\n",
      " Glace\n",
      "Number of senses: 5\n",
      "\n",
      "sense: ice\n",
      "instances of sense: 59\n",
      "amount of correct instances: 55\n",
      "correct cluster number: 2\n",
      "total amount of points in biggest cluster: 58\n",
      "precision: 0.9482758620689655\n",
      "recall 0.9322033898305084\n",
      "F1 0.9401709401709402\n",
      "\n",
      "sense: ice cream\n",
      "instances of sense: 20\n",
      "amount of correct instances: 18\n",
      "correct cluster number: 4\n",
      "total amount of points in biggest cluster: 28\n",
      "precision: 0.6428571428571429\n",
      "recall 0.9\n",
      "F1 0.75\n",
      "\n",
      "sense: glass\n",
      "instances of sense: 9\n",
      "amount of correct instances: 8\n",
      "correct cluster number: 3\n",
      "total amount of points in biggest cluster: 11\n",
      "precision: 0.7272727272727273\n",
      "recall 0.8888888888888888\n",
      "F1 0.8\n",
      "\n",
      "sense: mirror\n",
      "instances of sense: 26\n",
      "amount of correct instances: 22\n",
      "correct cluster number: 1\n",
      "total amount of points in biggest cluster: 26\n",
      "precision: 0.8461538461538461\n",
      "recall 0.8461538461538461\n",
      "F1 0.8461538461538461\n",
      "\n",
      "sense: powdered sugar\n",
      "instances of sense: 9\n",
      "amount of correct instances: 0\n",
      "correct cluster number: No cluster\n",
      "total amount of points in biggest cluster: 0\n",
      "precision zero\n",
      "precision: 0\n",
      "recall 0.0\n",
      "F1 0\n",
      "\n",
      "\n",
      " Souris\n",
      "Number of senses: 3\n",
      "\n",
      "sense: bat\n",
      "instances of sense: 10\n",
      "amount of correct instances: 0\n",
      "correct cluster number: No cluster\n",
      "total amount of points in biggest cluster: 0\n",
      "precision zero\n",
      "precision: 0\n",
      "recall 0.0\n",
      "F1 0\n",
      "\n",
      "sense: pointer\n",
      "instances of sense: 27\n",
      "amount of correct instances: 15\n",
      "correct cluster number: 1\n",
      "total amount of points in biggest cluster: 15\n",
      "precision: 1.0\n",
      "recall 0.5555555555555556\n",
      "F1 0.7142857142857143\n",
      "\n",
      "sense: rodent\n",
      "instances of sense: 31\n",
      "amount of correct instances: 31\n",
      "correct cluster number: 2\n",
      "total amount of points in biggest cluster: 41\n",
      "precision: 0.7560975609756098\n",
      "recall 1.0\n",
      "F1 0.8611111111111112\n",
      "\n",
      "\n",
      " Supporter\n",
      "Number of senses: 3\n",
      "\n",
      "sense: endure\n",
      "instances of sense: 28\n",
      "amount of correct instances: 20\n",
      "correct cluster number: 3\n",
      "total amount of points in biggest cluster: 24\n",
      "precision: 0.8333333333333334\n",
      "recall 0.7142857142857143\n",
      "F1 0.7692307692307693\n",
      "\n",
      "sense: hold up\n",
      "instances of sense: 15\n",
      "amount of correct instances: 11\n",
      "correct cluster number: 2\n",
      "total amount of points in biggest cluster: 19\n",
      "precision: 0.5789473684210527\n",
      "recall 0.7333333333333333\n",
      "F1 0.6470588235294117\n",
      "\n",
      "sense: fan\n",
      "instances of sense: 12\n",
      "amount of correct instances: 12\n",
      "correct cluster number: 1\n",
      "total amount of points in biggest cluster: 12\n",
      "precision: 1.0\n",
      "recall 1.0\n",
      "F1 1.0\n",
      "\n",
      "\n",
      " Tirer\n",
      "Number of senses: 2\n",
      "\n",
      "sense: shoot\n",
      "instances of sense: 74\n",
      "amount of correct instances: 44\n",
      "correct cluster number: 2\n",
      "total amount of points in biggest cluster: 45\n",
      "precision: 0.9777777777777777\n",
      "recall 0.5945945945945946\n",
      "F1 0.7394957983193278\n",
      "\n",
      "sense: pull\n",
      "instances of sense: 30\n",
      "amount of correct instances: 29\n",
      "correct cluster number: 3\n",
      "total amount of points in biggest cluster: 33\n",
      "precision: 0.8787878787878788\n",
      "recall 0.9666666666666667\n",
      "F1 0.9206349206349206\n",
      "\n",
      "\n",
      " Tour\n",
      "Number of senses: 5\n",
      "\n",
      "sense: lap\n",
      "instances of sense: 16\n",
      "amount of correct instances: 0\n",
      "correct cluster number: No cluster\n",
      "total amount of points in biggest cluster: 0\n",
      "precision zero\n",
      "precision: 0\n",
      "recall 0.0\n",
      "F1 0\n",
      "\n",
      "sense: trick\n",
      "instances of sense: 14\n",
      "amount of correct instances: 6\n",
      "correct cluster number: 1\n",
      "total amount of points in biggest cluster: 6\n",
      "precision: 1.0\n",
      "recall 0.42857142857142855\n",
      "F1 0.6\n",
      "\n",
      "sense: turn\n",
      "instances of sense: 24\n",
      "amount of correct instances: 24\n",
      "correct cluster number: 2\n",
      "total amount of points in biggest cluster: 45\n",
      "precision: 0.5333333333333333\n",
      "recall 1.0\n",
      "F1 0.6956521739130435\n",
      "\n",
      "sense: round\n",
      "instances of sense: 14\n",
      "amount of correct instances: 14\n",
      "correct cluster number: 3\n",
      "total amount of points in biggest cluster: 23\n",
      "precision: 0.6086956521739131\n",
      "recall 1.0\n",
      "F1 0.7567567567567568\n",
      "\n",
      "sense: tower\n",
      "instances of sense: 6\n",
      "amount of correct instances: 0\n",
      "correct cluster number: No cluster\n",
      "total amount of points in biggest cluster: 0\n",
      "precision zero\n",
      "precision: 0\n",
      "recall 0.0\n",
      "F1 0\n",
      "\n",
      "\n",
      " Vol\n",
      "Number of senses: 2\n",
      "\n",
      "sense: theft\n",
      "instances of sense: 25\n",
      "amount of correct instances: 25\n",
      "correct cluster number: 3\n",
      "total amount of points in biggest cluster: 28\n",
      "precision: 0.8928571428571429\n",
      "recall 1.0\n",
      "F1 0.9433962264150944\n",
      "\n",
      "sense: flight\n",
      "instances of sense: 60\n",
      "amount of correct instances: 30\n",
      "correct cluster number: 1\n",
      "total amount of points in biggest cluster: 30\n",
      "precision: 1.0\n",
      "recall 0.5\n",
      "F1 0.6666666666666666\n"
     ]
    }
   ],
   "source": [
    "# We create a dictionary of dictionaries to save, for each sense, the ratings of its precision and recall\n",
    "all_scores_BIC = {}\n",
    "all_lengths_BIC = {}\n",
    "for filename in os.listdir(f\"{model_name}/Experiment_3/Curated/\"):\n",
    "    if filename.endswith(\"csv\"):\n",
    "        df_F1 = pd.read_csv(f\"{model_name}/Experiment_3/Curated/\" + filename, sep=\";\", encoding=\"utf-8\", header=0)\n",
    "\n",
    "        target_word = df_F1[\"source\"][1]\n",
    "        print(\"\\n\\n\", target_word)\n",
    "        total_df_length = len(df_F1)\n",
    "        # We calculate the amount of different senses\n",
    "        senses = len(df_F1[\"sense\"].unique())\n",
    "        print(\"Number of senses:\", senses)\n",
    "        target_word_dictionary = {}\n",
    "        target_word_lengths = {}\n",
    "        target_word_lengths[\"total\"] = total_df_length\n",
    "        for sense in df_F1[\"sense\"].unique():\n",
    "            scores = {}\n",
    "            sense_df = df_F1[df_F1[\"sense\"] == sense]\n",
    "                    #precision: number of correct instances in a cluster / total cluster size\n",
    "                    # We calculate the amount of \"default\" instances\n",
    "            sense_len = len(sense_df)\n",
    "        \n",
    "            \n",
    "            correct_df = sense_df[sense_df[\"BIC_default_sub\"] == True]\n",
    "            correct_len = len(correct_df)\n",
    "            if correct_len > 0:\n",
    "                correct_cluster = correct_df[\"BIC_cluster_sub\"].iloc[0]\n",
    "            else:\n",
    "                correct_cluster = \"No cluster\"\n",
    "                \n",
    "            cluster_len = len(df_F1[df_F1[\"BIC_cluster_sub\"] == correct_cluster])\n",
    "            print(\"\\nsense:\", sense)\n",
    "            print(\"instances of sense:\", sense_len)\n",
    "            print(\"amount of correct instances:\", correct_len)\n",
    "            print(\"correct cluster number:\", correct_cluster)\n",
    "            print(\"total amount of points in biggest cluster:\", cluster_len)\n",
    "            \n",
    "            if cluster_len > 0:  \n",
    "                precision = correct_len / cluster_len\n",
    "            else:\n",
    "                precision = 0\n",
    "                print(\"precision zero\")\n",
    "            recall = correct_len / sense_len\n",
    "            print(\"precision:\", precision)\n",
    "            print(\"recall\", recall)\n",
    "            \n",
    "            F1 = statistics.harmonic_mean((precision, recall))\n",
    "            print(\"F1\", F1)\n",
    "            \n",
    "            scores[\"precision\"] = precision\n",
    "            scores[\"recall\"] = recall\n",
    "            scores[\"F1\"] = F1\n",
    "            target_word_dictionary[sense] = scores\n",
    "            target_word_lengths[sense] = sense_len\n",
    "        all_scores_BIC[target_word] = target_word_dictionary\n",
    "        all_lengths_BIC[target_word] = target_word_lengths\n",
    "            "
   ],
   "metadata": {
    "collapsed": false,
    "ExecuteTime": {
     "end_time": "2024-05-17T21:48:39.438077Z",
     "start_time": "2024-05-17T21:48:39.351595Z"
    }
   },
   "id": "803d87d48c9975ae",
   "execution_count": 40
  },
  {
   "cell_type": "code",
   "outputs": [
    {
     "name": "stdout",
     "output_type": "stream",
     "text": [
      "\n",
      "\n",
      " Avocat\n",
      "lawyer\n",
      "score: 0.6666666666666666\n",
      "length of sense: 56\n",
      "total length: 84\n",
      "added weight: 0.6666666666666666 for a total of 0.6666666666666666\n",
      "F1 score after calc: 44.44444444444444\n",
      "avocado\n",
      "score: 0.9019607843137255\n",
      "length of sense: 28\n",
      "total length: 84\n",
      "added weight: 0.3333333333333333 for a total of 1.0\n",
      "F1 score after calc: 74.50980392156863\n",
      "\n",
      "\n",
      " Bien\n",
      "property\n",
      "score: 0.9574468085106383\n",
      "length of sense: 49\n",
      "total length: 98\n",
      "added weight: 0.5 for a total of 0.5\n",
      "F1 score after calc: 47.87234042553192\n",
      "wellbeing\n",
      "score: 0\n",
      "length of sense: 20\n",
      "total length: 98\n",
      "added weight: 0.20408163265306123 for a total of 0.7040816326530612\n",
      "F1 score after calc: 47.87234042553192\n",
      "good\n",
      "score: 0.6842105263157895\n",
      "length of sense: 29\n",
      "total length: 98\n",
      "added weight: 0.29591836734693877 for a total of 1.0\n",
      "F1 score after calc: 68.11938661242773\n",
      "\n",
      "\n",
      " Bureau\n",
      "desk\n",
      "score: 0.8055555555555556\n",
      "length of sense: 35\n",
      "total length: 103\n",
      "added weight: 0.33980582524271846 for a total of 0.33980582524271846\n",
      "F1 score after calc: 27.37324703344121\n",
      "cabinet\n",
      "score: 0.7272727272727272\n",
      "length of sense: 14\n",
      "total length: 103\n",
      "added weight: 0.13592233009708737 for a total of 0.47572815533980584\n",
      "F1 score after calc: 37.25850740413848\n",
      "office\n",
      "score: 0.7722772277227723\n",
      "length of sense: 54\n",
      "total length: 103\n",
      "added weight: 0.5242718446601942 for a total of 1.0\n",
      "F1 score after calc: 77.74682808086635\n",
      "\n",
      "\n",
      " Faculté\n",
      "university\n",
      "score: 0.9866666666666667\n",
      "length of sense: 37\n",
      "total length: 80\n",
      "added weight: 0.4625 for a total of 0.4625\n",
      "F1 score after calc: 45.63333333333334\n",
      "competence\n",
      "score: 0.6666666666666666\n",
      "length of sense: 28\n",
      "total length: 80\n",
      "added weight: 0.35 for a total of 0.8125\n",
      "F1 score after calc: 68.96666666666667\n",
      "ability\n",
      "score: 0.6\n",
      "length of sense: 15\n",
      "total length: 80\n",
      "added weight: 0.1875 for a total of 1.0\n",
      "F1 score after calc: 80.21666666666667\n",
      "\n",
      "\n",
      " Filer\n",
      "slip away\n",
      "score: 0.9894736842105263\n",
      "length of sense: 47\n",
      "total length: 96\n",
      "added weight: 0.4895833333333333 for a total of 0.4895833333333333\n",
      "F1 score after calc: 48.44298245614035\n",
      "give\n",
      "score: 1.0\n",
      "length of sense: 29\n",
      "total length: 96\n",
      "added weight: 0.3020833333333333 for a total of 0.7916666666666666\n",
      "F1 score after calc: 78.65131578947368\n",
      "spinning\n",
      "score: 0.9743589743589743\n",
      "length of sense: 20\n",
      "total length: 96\n",
      "added weight: 0.20833333333333334 for a total of 1.0\n",
      "F1 score after calc: 98.95046108861898\n",
      "\n",
      "\n",
      " Glace\n",
      "ice\n",
      "score: 0.9401709401709402\n",
      "length of sense: 59\n",
      "total length: 123\n",
      "added weight: 0.4796747967479675 for a total of 0.4796747967479675\n",
      "F1 score after calc: 45.09763046348412\n",
      "ice cream\n",
      "score: 0.75\n",
      "length of sense: 20\n",
      "total length: 123\n",
      "added weight: 0.16260162601626016 for a total of 0.6422764227642277\n",
      "F1 score after calc: 57.29275241470364\n",
      "glass\n",
      "score: 0.8\n",
      "length of sense: 9\n",
      "total length: 123\n",
      "added weight: 0.07317073170731707 for a total of 0.7154471544715447\n",
      "F1 score after calc: 63.14641095128901\n",
      "mirror\n",
      "score: 0.8461538461538461\n",
      "length of sense: 26\n",
      "total length: 123\n",
      "added weight: 0.21138211382113822 for a total of 0.926829268292683\n",
      "F1 score after calc: 81.03258981307762\n",
      "powdered sugar\n",
      "score: 0\n",
      "length of sense: 9\n",
      "total length: 123\n",
      "added weight: 0.07317073170731707 for a total of 1.0\n",
      "F1 score after calc: 81.03258981307762\n",
      "\n",
      "\n",
      " Souris\n",
      "bat\n",
      "score: 0\n",
      "length of sense: 10\n",
      "total length: 68\n",
      "added weight: 0.14705882352941177 for a total of 0.14705882352941177\n",
      "F1 score after calc: 0.0\n",
      "pointer\n",
      "score: 0.7142857142857143\n",
      "length of sense: 27\n",
      "total length: 68\n",
      "added weight: 0.39705882352941174 for a total of 0.5441176470588235\n",
      "F1 score after calc: 28.361344537815125\n",
      "rodent\n",
      "score: 0.8611111111111112\n",
      "length of sense: 31\n",
      "total length: 68\n",
      "added weight: 0.45588235294117646 for a total of 1.0\n",
      "F1 score after calc: 67.61788048552755\n",
      "\n",
      "\n",
      " Supporter\n",
      "endure\n",
      "score: 0.7692307692307693\n",
      "length of sense: 28\n",
      "total length: 55\n",
      "added weight: 0.509090909090909 for a total of 0.509090909090909\n",
      "F1 score after calc: 39.16083916083916\n",
      "hold up\n",
      "score: 0.6470588235294117\n",
      "length of sense: 15\n",
      "total length: 55\n",
      "added weight: 0.2727272727272727 for a total of 0.7818181818181817\n",
      "F1 score after calc: 56.80789798436857\n",
      "fan\n",
      "score: 1.0\n",
      "length of sense: 12\n",
      "total length: 55\n",
      "added weight: 0.21818181818181817 for a total of 0.9999999999999999\n",
      "F1 score after calc: 78.62607980255038\n",
      "\n",
      "\n",
      " Tirer\n",
      "shoot\n",
      "score: 0.7394957983193278\n",
      "length of sense: 74\n",
      "total length: 104\n",
      "added weight: 0.7115384615384616 for a total of 0.7115384615384616\n",
      "F1 score after calc: 52.61797026502909\n",
      "pull\n",
      "score: 0.9206349206349206\n",
      "length of sense: 30\n",
      "total length: 104\n",
      "added weight: 0.28846153846153844 for a total of 1.0\n",
      "F1 score after calc: 79.17474682180564\n",
      "\n",
      "\n",
      " Tour\n",
      "lap\n",
      "score: 0\n",
      "length of sense: 16\n",
      "total length: 74\n",
      "added weight: 0.21621621621621623 for a total of 0.21621621621621623\n",
      "F1 score after calc: 0.0\n",
      "trick\n",
      "score: 0.6\n",
      "length of sense: 14\n",
      "total length: 74\n",
      "added weight: 0.1891891891891892 for a total of 0.40540540540540543\n",
      "F1 score after calc: 11.351351351351353\n",
      "turn\n",
      "score: 0.6956521739130435\n",
      "length of sense: 24\n",
      "total length: 74\n",
      "added weight: 0.32432432432432434 for a total of 0.7297297297297298\n",
      "F1 score after calc: 33.913043478260875\n",
      "round\n",
      "score: 0.7567567567567568\n",
      "length of sense: 14\n",
      "total length: 74\n",
      "added weight: 0.1891891891891892 for a total of 0.9189189189189191\n",
      "F1 score after calc: 48.230063200686004\n",
      "tower\n",
      "score: 0\n",
      "length of sense: 6\n",
      "total length: 74\n",
      "added weight: 0.08108108108108109 for a total of 1.0000000000000002\n",
      "F1 score after calc: 48.230063200686004\n",
      "\n",
      "\n",
      " Vol\n",
      "theft\n",
      "score: 0.9433962264150944\n",
      "length of sense: 25\n",
      "total length: 85\n",
      "added weight: 0.29411764705882354 for a total of 0.29411764705882354\n",
      "F1 score after calc: 27.746947835738073\n",
      "flight\n",
      "score: 0.6666666666666666\n",
      "length of sense: 60\n",
      "total length: 85\n",
      "added weight: 0.7058823529411765 for a total of 1.0\n",
      "F1 score after calc: 74.80577136514984\n"
     ]
    }
   ],
   "source": [
    "# Total F1: weighted average of the F1 scores of each gold standard sense\n",
    "# We calculate the weight for each sense of the dataframe (the amount of instances of this sense divided by the total amount of instances)\n",
    "# We make a dictionary F1_scores, in which each target word is associated with its F1 score\n",
    "F1_scores_BIC = {}\n",
    "for target_word in all_scores_BIC:\n",
    "    F1 = 0\n",
    "    weight = 0\n",
    "    print(\"\\n\\n\", target_word)\n",
    "    for sense in all_scores_BIC[target_word]:\n",
    "        score = all_scores_BIC[target_word][sense][\"F1\"]\n",
    "        print(sense)\n",
    "        print(\"score:\", score)\n",
    "        \n",
    "        len_sense = all_lengths_BIC[target_word][sense]\n",
    "        print(\"length of sense:\", len_sense)\n",
    "        \n",
    "        len_total = all_lengths_BIC[target_word][\"total\"]\n",
    "        print(\"total length:\", len_total)\n",
    "        added_weight = len_sense / len_total\n",
    "        weight += added_weight\n",
    "        print(\"added weight:\", added_weight, \"for a total of\", weight)\n",
    "        F1 += score * (len_sense / len_total)\n",
    "        print(\"F1 score after calc:\", F1*100)\n",
    "    F1_scores_BIC[target_word] = F1\n",
    "\n"
   ],
   "metadata": {
    "collapsed": false,
    "ExecuteTime": {
     "end_time": "2024-05-17T21:48:39.861426Z",
     "start_time": "2024-05-17T21:48:39.850747Z"
    }
   },
   "id": "504d3f61b0cd6507",
   "execution_count": 41
  },
  {
   "cell_type": "code",
   "outputs": [
    {
     "name": "stdout",
     "output_type": "stream",
     "text": [
      "\n",
      "\n",
      " Avocat\n",
      "Number of senses: 2\n",
      "\n",
      "sense: lawyer\n",
      "instances of sense: 56\n",
      "amount of correct instances: 56\n",
      "correct cluster number: 0\n",
      "total amount of points in biggest cluster: 84\n",
      "precision: 0.6666666666666666\n",
      "recall 1.0\n",
      "F1 0.8\n",
      "\n",
      "sense: avocado\n",
      "instances of sense: 28\n",
      "amount of correct instances: 0\n",
      "correct cluster number: No cluster\n",
      "total amount of points in biggest cluster: 0\n",
      "precision zero\n",
      "precision: 0\n",
      "recall 0.0\n",
      "F1 0\n",
      "\n",
      "\n",
      " Bien\n",
      "Number of senses: 3\n",
      "\n",
      "sense: property\n",
      "instances of sense: 49\n",
      "amount of correct instances: 49\n",
      "correct cluster number: 0\n",
      "total amount of points in biggest cluster: 98\n",
      "precision: 0.5\n",
      "recall 1.0\n",
      "F1 0.6666666666666666\n",
      "\n",
      "sense: wellbeing\n",
      "instances of sense: 20\n",
      "amount of correct instances: 0\n",
      "correct cluster number: No cluster\n",
      "total amount of points in biggest cluster: 0\n",
      "precision zero\n",
      "precision: 0\n",
      "recall 0.0\n",
      "F1 0\n",
      "\n",
      "sense: good\n",
      "instances of sense: 29\n",
      "amount of correct instances: 0\n",
      "correct cluster number: No cluster\n",
      "total amount of points in biggest cluster: 0\n",
      "precision zero\n",
      "precision: 0\n",
      "recall 0.0\n",
      "F1 0\n",
      "\n",
      "\n",
      " Bureau\n",
      "Number of senses: 3\n",
      "\n",
      "sense: desk\n",
      "instances of sense: 35\n",
      "amount of correct instances: 0\n",
      "correct cluster number: No cluster\n",
      "total amount of points in biggest cluster: 0\n",
      "precision zero\n",
      "precision: 0\n",
      "recall 0.0\n",
      "F1 0\n",
      "\n",
      "sense: cabinet\n",
      "instances of sense: 14\n",
      "amount of correct instances: 0\n",
      "correct cluster number: No cluster\n",
      "total amount of points in biggest cluster: 0\n",
      "precision zero\n",
      "precision: 0\n",
      "recall 0.0\n",
      "F1 0\n",
      "\n",
      "sense: office\n",
      "instances of sense: 54\n",
      "amount of correct instances: 54\n",
      "correct cluster number: 0\n",
      "total amount of points in biggest cluster: 103\n",
      "precision: 0.5242718446601942\n",
      "recall 1.0\n",
      "F1 0.6878980891719745\n",
      "\n",
      "\n",
      " Faculté\n",
      "Number of senses: 3\n",
      "\n",
      "sense: university\n",
      "instances of sense: 37\n",
      "amount of correct instances: 37\n",
      "correct cluster number: 0\n",
      "total amount of points in biggest cluster: 80\n",
      "precision: 0.4625\n",
      "recall 1.0\n",
      "F1 0.6324786324786326\n",
      "\n",
      "sense: competence\n",
      "instances of sense: 28\n",
      "amount of correct instances: 0\n",
      "correct cluster number: No cluster\n",
      "total amount of points in biggest cluster: 0\n",
      "precision zero\n",
      "precision: 0\n",
      "recall 0.0\n",
      "F1 0\n",
      "\n",
      "sense: ability\n",
      "instances of sense: 15\n",
      "amount of correct instances: 0\n",
      "correct cluster number: No cluster\n",
      "total amount of points in biggest cluster: 0\n",
      "precision zero\n",
      "precision: 0\n",
      "recall 0.0\n",
      "F1 0\n",
      "\n",
      "\n",
      " Filer\n",
      "Number of senses: 3\n",
      "\n",
      "sense: slip away\n",
      "instances of sense: 47\n",
      "amount of correct instances: 47\n",
      "correct cluster number: 0\n",
      "total amount of points in biggest cluster: 96\n",
      "precision: 0.4895833333333333\n",
      "recall 1.0\n",
      "F1 0.6573426573426573\n",
      "\n",
      "sense: give\n",
      "instances of sense: 29\n",
      "amount of correct instances: 0\n",
      "correct cluster number: No cluster\n",
      "total amount of points in biggest cluster: 0\n",
      "precision zero\n",
      "precision: 0\n",
      "recall 0.0\n",
      "F1 0\n",
      "\n",
      "sense: spinning\n",
      "instances of sense: 20\n",
      "amount of correct instances: 0\n",
      "correct cluster number: No cluster\n",
      "total amount of points in biggest cluster: 0\n",
      "precision zero\n",
      "precision: 0\n",
      "recall 0.0\n",
      "F1 0\n",
      "\n",
      "\n",
      " Glace\n",
      "Number of senses: 5\n",
      "\n",
      "sense: ice\n",
      "instances of sense: 59\n",
      "amount of correct instances: 59\n",
      "correct cluster number: 0\n",
      "total amount of points in biggest cluster: 123\n",
      "precision: 0.4796747967479675\n",
      "recall 1.0\n",
      "F1 0.6483516483516483\n",
      "\n",
      "sense: ice cream\n",
      "instances of sense: 20\n",
      "amount of correct instances: 0\n",
      "correct cluster number: No cluster\n",
      "total amount of points in biggest cluster: 0\n",
      "precision zero\n",
      "precision: 0\n",
      "recall 0.0\n",
      "F1 0\n",
      "\n",
      "sense: glass\n",
      "instances of sense: 9\n",
      "amount of correct instances: 0\n",
      "correct cluster number: No cluster\n",
      "total amount of points in biggest cluster: 0\n",
      "precision zero\n",
      "precision: 0\n",
      "recall 0.0\n",
      "F1 0\n",
      "\n",
      "sense: mirror\n",
      "instances of sense: 26\n",
      "amount of correct instances: 0\n",
      "correct cluster number: No cluster\n",
      "total amount of points in biggest cluster: 0\n",
      "precision zero\n",
      "precision: 0\n",
      "recall 0.0\n",
      "F1 0\n",
      "\n",
      "sense: powdered sugar\n",
      "instances of sense: 9\n",
      "amount of correct instances: 0\n",
      "correct cluster number: No cluster\n",
      "total amount of points in biggest cluster: 0\n",
      "precision zero\n",
      "precision: 0\n",
      "recall 0.0\n",
      "F1 0\n",
      "\n",
      "\n",
      " Souris\n",
      "Number of senses: 3\n",
      "\n",
      "sense: bat\n",
      "instances of sense: 10\n",
      "amount of correct instances: 0\n",
      "correct cluster number: No cluster\n",
      "total amount of points in biggest cluster: 0\n",
      "precision zero\n",
      "precision: 0\n",
      "recall 0.0\n",
      "F1 0\n",
      "\n",
      "sense: pointer\n",
      "instances of sense: 27\n",
      "amount of correct instances: 0\n",
      "correct cluster number: No cluster\n",
      "total amount of points in biggest cluster: 0\n",
      "precision zero\n",
      "precision: 0\n",
      "recall 0.0\n",
      "F1 0\n",
      "\n",
      "sense: rodent\n",
      "instances of sense: 31\n",
      "amount of correct instances: 31\n",
      "correct cluster number: 0\n",
      "total amount of points in biggest cluster: 68\n",
      "precision: 0.45588235294117646\n",
      "recall 1.0\n",
      "F1 0.6262626262626263\n",
      "\n",
      "\n",
      " Supporter\n",
      "Number of senses: 3\n",
      "\n",
      "sense: endure\n",
      "instances of sense: 28\n",
      "amount of correct instances: 28\n",
      "correct cluster number: 0\n",
      "total amount of points in biggest cluster: 55\n",
      "precision: 0.509090909090909\n",
      "recall 1.0\n",
      "F1 0.6746987951807228\n",
      "\n",
      "sense: hold up\n",
      "instances of sense: 15\n",
      "amount of correct instances: 0\n",
      "correct cluster number: No cluster\n",
      "total amount of points in biggest cluster: 0\n",
      "precision zero\n",
      "precision: 0\n",
      "recall 0.0\n",
      "F1 0\n",
      "\n",
      "sense: fan\n",
      "instances of sense: 12\n",
      "amount of correct instances: 0\n",
      "correct cluster number: No cluster\n",
      "total amount of points in biggest cluster: 0\n",
      "precision zero\n",
      "precision: 0\n",
      "recall 0.0\n",
      "F1 0\n",
      "\n",
      "\n",
      " Tirer\n",
      "Number of senses: 2\n",
      "\n",
      "sense: shoot\n",
      "instances of sense: 74\n",
      "amount of correct instances: 74\n",
      "correct cluster number: 0\n",
      "total amount of points in biggest cluster: 104\n",
      "precision: 0.7115384615384616\n",
      "recall 1.0\n",
      "F1 0.8314606741573034\n",
      "\n",
      "sense: pull\n",
      "instances of sense: 30\n",
      "amount of correct instances: 0\n",
      "correct cluster number: No cluster\n",
      "total amount of points in biggest cluster: 0\n",
      "precision zero\n",
      "precision: 0\n",
      "recall 0.0\n",
      "F1 0\n",
      "\n",
      "\n",
      " Tour\n",
      "Number of senses: 5\n",
      "\n",
      "sense: lap\n",
      "instances of sense: 16\n",
      "amount of correct instances: 0\n",
      "correct cluster number: No cluster\n",
      "total amount of points in biggest cluster: 0\n",
      "precision zero\n",
      "precision: 0\n",
      "recall 0.0\n",
      "F1 0\n",
      "\n",
      "sense: trick\n",
      "instances of sense: 14\n",
      "amount of correct instances: 0\n",
      "correct cluster number: No cluster\n",
      "total amount of points in biggest cluster: 0\n",
      "precision zero\n",
      "precision: 0\n",
      "recall 0.0\n",
      "F1 0\n",
      "\n",
      "sense: turn\n",
      "instances of sense: 24\n",
      "amount of correct instances: 24\n",
      "correct cluster number: 0\n",
      "total amount of points in biggest cluster: 74\n",
      "precision: 0.32432432432432434\n",
      "recall 1.0\n",
      "F1 0.489795918367347\n",
      "\n",
      "sense: round\n",
      "instances of sense: 14\n",
      "amount of correct instances: 0\n",
      "correct cluster number: No cluster\n",
      "total amount of points in biggest cluster: 0\n",
      "precision zero\n",
      "precision: 0\n",
      "recall 0.0\n",
      "F1 0\n",
      "\n",
      "sense: tower\n",
      "instances of sense: 6\n",
      "amount of correct instances: 0\n",
      "correct cluster number: No cluster\n",
      "total amount of points in biggest cluster: 0\n",
      "precision zero\n",
      "precision: 0\n",
      "recall 0.0\n",
      "F1 0\n",
      "\n",
      "\n",
      " Vol\n",
      "Number of senses: 2\n",
      "\n",
      "sense: theft\n",
      "instances of sense: 25\n",
      "amount of correct instances: 0\n",
      "correct cluster number: No cluster\n",
      "total amount of points in biggest cluster: 0\n",
      "precision zero\n",
      "precision: 0\n",
      "recall 0.0\n",
      "F1 0\n",
      "\n",
      "sense: flight\n",
      "instances of sense: 60\n",
      "amount of correct instances: 60\n",
      "correct cluster number: 0\n",
      "total amount of points in biggest cluster: 85\n",
      "precision: 0.7058823529411765\n",
      "recall 1.0\n",
      "F1 0.8275862068965518\n",
      "\n",
      "\n",
      " Avocat\n",
      "lawyer\n",
      "score: 0.8\n",
      "length of sense: 56\n",
      "total length: 84\n",
      "added weight: 0.6666666666666666 for a total of 0.6666666666666666\n",
      "F1 score after calc: 0.5333333333333333\n",
      "avocado\n",
      "score: 0\n",
      "length of sense: 28\n",
      "total length: 84\n",
      "added weight: 0.3333333333333333 for a total of 1.0\n",
      "F1 score after calc: 0.5333333333333333\n",
      "\n",
      "\n",
      " Bien\n",
      "property\n",
      "score: 0.6666666666666666\n",
      "length of sense: 49\n",
      "total length: 98\n",
      "added weight: 0.5 for a total of 0.5\n",
      "F1 score after calc: 0.3333333333333333\n",
      "wellbeing\n",
      "score: 0\n",
      "length of sense: 20\n",
      "total length: 98\n",
      "added weight: 0.20408163265306123 for a total of 0.7040816326530612\n",
      "F1 score after calc: 0.3333333333333333\n",
      "good\n",
      "score: 0\n",
      "length of sense: 29\n",
      "total length: 98\n",
      "added weight: 0.29591836734693877 for a total of 1.0\n",
      "F1 score after calc: 0.3333333333333333\n",
      "\n",
      "\n",
      " Bureau\n",
      "desk\n",
      "score: 0\n",
      "length of sense: 35\n",
      "total length: 103\n",
      "added weight: 0.33980582524271846 for a total of 0.33980582524271846\n",
      "F1 score after calc: 0.0\n",
      "cabinet\n",
      "score: 0\n",
      "length of sense: 14\n",
      "total length: 103\n",
      "added weight: 0.13592233009708737 for a total of 0.47572815533980584\n",
      "F1 score after calc: 0.0\n",
      "office\n",
      "score: 0.6878980891719745\n",
      "length of sense: 54\n",
      "total length: 103\n",
      "added weight: 0.5242718446601942 for a total of 1.0\n",
      "F1 score after calc: 0.3606456001484138\n",
      "\n",
      "\n",
      " Faculté\n",
      "university\n",
      "score: 0.6324786324786326\n",
      "length of sense: 37\n",
      "total length: 80\n",
      "added weight: 0.4625 for a total of 0.4625\n",
      "F1 score after calc: 0.2925213675213676\n",
      "competence\n",
      "score: 0\n",
      "length of sense: 28\n",
      "total length: 80\n",
      "added weight: 0.35 for a total of 0.8125\n",
      "F1 score after calc: 0.2925213675213676\n",
      "ability\n",
      "score: 0\n",
      "length of sense: 15\n",
      "total length: 80\n",
      "added weight: 0.1875 for a total of 1.0\n",
      "F1 score after calc: 0.2925213675213676\n",
      "\n",
      "\n",
      " Filer\n",
      "slip away\n",
      "score: 0.6573426573426573\n",
      "length of sense: 47\n",
      "total length: 96\n",
      "added weight: 0.4895833333333333 for a total of 0.4895833333333333\n",
      "F1 score after calc: 0.3218240093240093\n",
      "give\n",
      "score: 0\n",
      "length of sense: 29\n",
      "total length: 96\n",
      "added weight: 0.3020833333333333 for a total of 0.7916666666666666\n",
      "F1 score after calc: 0.3218240093240093\n",
      "spinning\n",
      "score: 0\n",
      "length of sense: 20\n",
      "total length: 96\n",
      "added weight: 0.20833333333333334 for a total of 1.0\n",
      "F1 score after calc: 0.3218240093240093\n",
      "\n",
      "\n",
      " Glace\n",
      "ice\n",
      "score: 0.6483516483516483\n",
      "length of sense: 59\n",
      "total length: 123\n",
      "added weight: 0.4796747967479675 for a total of 0.4796747967479675\n",
      "F1 score after calc: 0.3109979451442866\n",
      "ice cream\n",
      "score: 0\n",
      "length of sense: 20\n",
      "total length: 123\n",
      "added weight: 0.16260162601626016 for a total of 0.6422764227642277\n",
      "F1 score after calc: 0.3109979451442866\n",
      "glass\n",
      "score: 0\n",
      "length of sense: 9\n",
      "total length: 123\n",
      "added weight: 0.07317073170731707 for a total of 0.7154471544715447\n",
      "F1 score after calc: 0.3109979451442866\n",
      "mirror\n",
      "score: 0\n",
      "length of sense: 26\n",
      "total length: 123\n",
      "added weight: 0.21138211382113822 for a total of 0.926829268292683\n",
      "F1 score after calc: 0.3109979451442866\n",
      "powdered sugar\n",
      "score: 0\n",
      "length of sense: 9\n",
      "total length: 123\n",
      "added weight: 0.07317073170731707 for a total of 1.0\n",
      "F1 score after calc: 0.3109979451442866\n",
      "\n",
      "\n",
      " Souris\n",
      "bat\n",
      "score: 0\n",
      "length of sense: 10\n",
      "total length: 68\n",
      "added weight: 0.14705882352941177 for a total of 0.14705882352941177\n",
      "F1 score after calc: 0.0\n",
      "pointer\n",
      "score: 0\n",
      "length of sense: 27\n",
      "total length: 68\n",
      "added weight: 0.39705882352941174 for a total of 0.5441176470588235\n",
      "F1 score after calc: 0.0\n",
      "rodent\n",
      "score: 0.6262626262626263\n",
      "length of sense: 31\n",
      "total length: 68\n",
      "added weight: 0.45588235294117646 for a total of 1.0\n",
      "F1 score after calc: 0.2855020796197267\n",
      "\n",
      "\n",
      " Supporter\n",
      "endure\n",
      "score: 0.6746987951807228\n",
      "length of sense: 28\n",
      "total length: 55\n",
      "added weight: 0.509090909090909 for a total of 0.509090909090909\n",
      "F1 score after calc: 0.34348302300109523\n",
      "hold up\n",
      "score: 0\n",
      "length of sense: 15\n",
      "total length: 55\n",
      "added weight: 0.2727272727272727 for a total of 0.7818181818181817\n",
      "F1 score after calc: 0.34348302300109523\n",
      "fan\n",
      "score: 0\n",
      "length of sense: 12\n",
      "total length: 55\n",
      "added weight: 0.21818181818181817 for a total of 0.9999999999999999\n",
      "F1 score after calc: 0.34348302300109523\n",
      "\n",
      "\n",
      " Tirer\n",
      "shoot\n",
      "score: 0.8314606741573034\n",
      "length of sense: 74\n",
      "total length: 104\n",
      "added weight: 0.7115384615384616 for a total of 0.7115384615384616\n",
      "F1 score after calc: 0.5916162489196197\n",
      "pull\n",
      "score: 0\n",
      "length of sense: 30\n",
      "total length: 104\n",
      "added weight: 0.28846153846153844 for a total of 1.0\n",
      "F1 score after calc: 0.5916162489196197\n",
      "\n",
      "\n",
      " Tour\n",
      "lap\n",
      "score: 0\n",
      "length of sense: 16\n",
      "total length: 74\n",
      "added weight: 0.21621621621621623 for a total of 0.21621621621621623\n",
      "F1 score after calc: 0.0\n",
      "trick\n",
      "score: 0\n",
      "length of sense: 14\n",
      "total length: 74\n",
      "added weight: 0.1891891891891892 for a total of 0.40540540540540543\n",
      "F1 score after calc: 0.0\n",
      "turn\n",
      "score: 0.489795918367347\n",
      "length of sense: 24\n",
      "total length: 74\n",
      "added weight: 0.32432432432432434 for a total of 0.7297297297297298\n",
      "F1 score after calc: 0.15885273028130173\n",
      "round\n",
      "score: 0\n",
      "length of sense: 14\n",
      "total length: 74\n",
      "added weight: 0.1891891891891892 for a total of 0.9189189189189191\n",
      "F1 score after calc: 0.15885273028130173\n",
      "tower\n",
      "score: 0\n",
      "length of sense: 6\n",
      "total length: 74\n",
      "added weight: 0.08108108108108109 for a total of 1.0000000000000002\n",
      "F1 score after calc: 0.15885273028130173\n",
      "\n",
      "\n",
      " Vol\n",
      "theft\n",
      "score: 0\n",
      "length of sense: 25\n",
      "total length: 85\n",
      "added weight: 0.29411764705882354 for a total of 0.29411764705882354\n",
      "F1 score after calc: 0.0\n",
      "flight\n",
      "score: 0.8275862068965518\n",
      "length of sense: 60\n",
      "total length: 85\n",
      "added weight: 0.7058823529411765 for a total of 1.0\n",
      "F1 score after calc: 0.5841784989858013\n"
     ]
    }
   ],
   "source": [
    "# We will also calculate an F1 score for each word when no clustering takes place\n",
    "# We will make a copy of each dataframe and set the \"cluster\" column to 0 for all rows\n",
    "# We create a dictionary of dictionaries to save, for each sense, the ratings of its precision and recall\n",
    "all_scores_no_cluster = {}\n",
    "all_lengths_no_cluster = {}\n",
    "for filename in os.listdir(f\"{model_name}/Experiment_1/Curated/\"):\n",
    "    if filename.endswith(\"csv\"):\n",
    "        df_F1 = pd.read_csv(f\"{model_name}/Experiment_1/Curated/\" + filename, sep=\";\", encoding=\"utf-8\", header=0)\n",
    "\n",
    "        target_word = df_F1[\"source\"][1]\n",
    "        # We undo clustering: we set all clusters to 0\n",
    "        # The \"default\" (i.e. \"correct\" category is the most frequent sense)\n",
    "        df_F1[\"cluster\"] = 0\n",
    "        most_freq_sense = df_F1[\"sense\"].value_counts().idxmax()\n",
    "        df_F1[\"default\"] = [1 if sense == most_freq_sense else 0 for sense in df_F1[\"sense\"]]\n",
    "        print(\"\\n\\n\", target_word)\n",
    "        total_df_length = len(df_F1)\n",
    "        # We calculate the amount of different senses\n",
    "        senses = len(df_F1[\"sense\"].unique())\n",
    "        print(\"Number of senses:\", senses)\n",
    "        target_word_dictionary = {}\n",
    "        target_word_lengths = {}\n",
    "        target_word_lengths[\"total\"] = total_df_length\n",
    "        for sense in df_F1[\"sense\"].unique():\n",
    "            scores = {}\n",
    "            sense_df = df_F1[df_F1[\"sense\"] == sense]\n",
    "                    #precision: number of correct instances in a cluster / total cluster size\n",
    "                    # We calculate the amount of \"default\" instances\n",
    "            sense_len = len(sense_df)\n",
    "        \n",
    "            \n",
    "            correct_df = sense_df[sense_df[\"default\"] == True]\n",
    "            correct_len = len(correct_df)\n",
    "            if correct_len > 0:\n",
    "                correct_cluster = correct_df[\"cluster\"].iloc[0]\n",
    "            else:\n",
    "                correct_cluster = \"No cluster\"\n",
    "                \n",
    "            cluster_len = len(df_F1[df_F1[\"cluster\"] == correct_cluster])\n",
    "            print(\"\\nsense:\", sense)\n",
    "            print(\"instances of sense:\", sense_len)\n",
    "            print(\"amount of correct instances:\", correct_len)\n",
    "            print(\"correct cluster number:\", correct_cluster)\n",
    "            print(\"total amount of points in biggest cluster:\", cluster_len)\n",
    "            \n",
    "            if cluster_len > 0:  \n",
    "                precision = correct_len / cluster_len\n",
    "            else:\n",
    "                precision = 0\n",
    "                print(\"precision zero\")\n",
    "            recall = correct_len / sense_len\n",
    "            print(\"precision:\", precision)\n",
    "            print(\"recall\", recall)\n",
    "            \n",
    "            F1 = statistics.harmonic_mean((precision, recall))\n",
    "            print(\"F1\", F1)\n",
    "            \n",
    "            scores[\"precision\"] = precision\n",
    "            scores[\"recall\"] = recall\n",
    "            scores[\"F1\"] = F1\n",
    "            target_word_dictionary[sense] = scores\n",
    "            target_word_lengths[sense] = sense_len\n",
    "        all_scores_no_cluster[target_word] = target_word_dictionary\n",
    "        all_lengths_no_cluster[target_word] = target_word_lengths\n",
    "# Total F1: weighted average of the F1 scores of each gold standard sense\n",
    "# We calculate the weight for each sense of the dataframe (the amount of instances of this sense divided by the total amount of instances)\n",
    "# We make a dictionary F1_scores, in which each target word is associated with its F1 score\n",
    "F1_scores_no_cluster = {}\n",
    "for target_word in all_scores_no_cluster:\n",
    "    F1 = 0\n",
    "    weight = 0\n",
    "    print(\"\\n\\n\", target_word)\n",
    "    for sense in all_scores_no_cluster[target_word]:\n",
    "        score = all_scores_no_cluster[target_word][sense][\"F1\"]\n",
    "        print(sense)\n",
    "        print(\"score:\", score)\n",
    "        \n",
    "        len_sense = all_lengths_no_cluster[target_word][sense]\n",
    "        print(\"length of sense:\", len_sense)\n",
    "        \n",
    "        len_total = all_lengths_no_cluster[target_word][\"total\"]\n",
    "        print(\"total length:\", len_total)\n",
    "        added_weight = len_sense / len_total\n",
    "        weight += added_weight\n",
    "        print(\"added weight:\", added_weight, \"for a total of\", weight)\n",
    "        F1 += score * (len_sense / len_total)\n",
    "        print(\"F1 score after calc:\", F1)\n",
    "    F1_scores_no_cluster[target_word] = F1\n",
    "\n"
   ],
   "metadata": {
    "collapsed": false,
    "ExecuteTime": {
     "end_time": "2024-05-17T21:48:40.749657Z",
     "start_time": "2024-05-17T21:48:40.674196Z"
    }
   },
   "id": "85d4acb39dff1994",
   "execution_count": 42
  },
  {
   "cell_type": "code",
   "outputs": [
    {
     "name": "stdout",
     "output_type": "stream",
     "text": [
      "Nouns average of weighted scores: 0.6643232837288631\n",
      "Nouns average of overall scores: 0.7079817578163099\n",
      "Nouns average of all in one cluster scores: 0.5149002922851882\n",
      "Nouns average of v-measure cluster score: 0.6000045559219389\n",
      "Nouns average of rand score: 0.5340565619000852\n",
      "Nouns average of F1 scores: 0.715348737682463\n",
      "Nouns average of F1 scores when no clustering takes place: 0.3574206110459456\n",
      "\n",
      "\n",
      "\n",
      "Verbs average of weighted scores: 0.8599456599456601\n",
      "Verbs average of overall scores: 0.8244415306915306\n",
      "Verbs average of all in one cluster scores: 0.5700709013209013\n",
      "Verbs average of v-measure cluster score: 0.6834846874683572\n",
      "Verbs average of rand score: 0.6174195549310785\n",
      "Verbs average of F1 scores: 0.8558376257099166\n",
      "Verbs average of F1 scores when no clustering takes place: 0.41897442708157473\n"
     ]
    }
   ],
   "source": [
    "Nouns = [\"Avocat\", \"Bien\", \"Bureau\", \"Faculté\", \"Glace\", \"Souris\", \"Tour\", \"Vol\"]\n",
    "Verbs = [\"Filer\", \"Supporter\", \"Tirer\"]\n",
    "\n",
    "nouns_average_weighted_BIC = np.mean([weighted_scores_BIC[noun] for noun in Nouns])\n",
    "nouns_average_overall_BIC = np.mean([overall_scores_BIC[noun] for noun in Nouns])\n",
    "nouns_average_all_in_one_BIC = np.mean([all_in_one_cluster_overall_scores_BIC[noun] for noun in Nouns])\n",
    "nouns_average_v_measure_BIC = np.mean([v_measure_scores_BIC[noun] for noun in Nouns])\n",
    "nouns_average_rand_BIC = np.mean([rand_scores_BIC[noun] for noun in Nouns])\n",
    "nouns_average_F1_BIC = np.mean([F1_scores_BIC[noun] for noun in Nouns])\n",
    "nouns_average_F1_no_cluster = np.mean([F1_scores_no_cluster[noun] for noun in Nouns])\n",
    "\n",
    "\n",
    "verbs_average_weighted_BIC = np.mean([weighted_scores_BIC[verb] for verb in Verbs])\n",
    "verbs_average_overall_BIC = np.mean([overall_scores_BIC[verb] for verb in Verbs])\n",
    "verbs_average_all_in_one_BIC = np.mean([all_in_one_cluster_overall_scores_BIC[verb] for verb in Verbs])\n",
    "verbs_average_v_measure_BIC = np.mean([v_measure_scores_BIC[verb] for verb in Verbs])\n",
    "verbs_average_rand_BIC = np.mean([rand_scores_BIC[verb] for verb in Verbs])\n",
    "verbs_average_F1_BIC = np.mean([F1_scores_BIC[verb] for verb in Verbs])\n",
    "verbs_average_F1_no_cluster = np.mean([F1_scores_no_cluster[verb] for verb in Verbs])\n",
    "\n",
    "print(\"Nouns average of weighted scores:\", nouns_average_weighted_BIC)\n",
    "print(\"Nouns average of overall scores:\", nouns_average_overall_BIC)\n",
    "print(\"Nouns average of all in one cluster scores:\", nouns_average_all_in_one_BIC)\n",
    "print(\"Nouns average of v-measure cluster score:\", nouns_average_v_measure_BIC)\n",
    "print(\"Nouns average of rand score:\", nouns_average_rand_BIC)\n",
    "print(\"Nouns average of F1 scores:\", nouns_average_F1_BIC)\n",
    "print(\"Nouns average of F1 scores when no clustering takes place:\", nouns_average_F1_no_cluster)\n",
    "print(\"\\n\\n\")\n",
    "print(\"Verbs average of weighted scores:\", verbs_average_weighted_BIC)\n",
    "print(\"Verbs average of overall scores:\", verbs_average_overall_BIC)\n",
    "print(\"Verbs average of all in one cluster scores:\", verbs_average_all_in_one_BIC)\n",
    "print(\"Verbs average of v-measure cluster score:\", verbs_average_v_measure_BIC)\n",
    "print(\"Verbs average of rand score:\", verbs_average_rand_BIC)\n",
    "print(\"Verbs average of F1 scores:\", verbs_average_F1_BIC)\n",
    "print(\"Verbs average of F1 scores when no clustering takes place:\", verbs_average_F1_no_cluster)\n"
   ],
   "metadata": {
    "collapsed": false,
    "ExecuteTime": {
     "end_time": "2024-05-17T21:48:41.341280Z",
     "start_time": "2024-05-17T21:48:41.330705Z"
    }
   },
   "id": "3507c676a868db20",
   "execution_count": 43
  },
  {
   "cell_type": "code",
   "outputs": [],
   "source": [
    "# We create a dataframe from the dictionaries to eventually save the results to a csv file\n",
    "df_BIC = pd.DataFrame.from_dict(weighted_scores_BIC, orient=\"index\", columns=[\"Weighted\"])\n",
    "df_BIC[\"Overall\"] = overall_scores_BIC.values()\n",
    "df_BIC[\"V_measure\"] = v_measure_scores_BIC.values()\n",
    "df_BIC[\"Rand\"] = rand_scores_BIC.values()\n",
    "df_BIC[\"F1\"] = [F1_scores_BIC[word] for word in df_BIC.index]\n",
    "\n",
    "df_BIC[\"Type\"] = [\"Noun\" if word in Nouns else \"Verb\" for word in df_BIC.index]\n",
    "df_BIC[\"Amount_senses\"] = amount_senses.values()\n",
    "# We add a \"F1\" column to the dataframe\n",
    "\n",
    "# We also create a separate file for the all in one cluster scores\n",
    "df_all_in_one_BIC = pd.DataFrame.from_dict(all_in_one_cluster_overall_scores_BIC, orient=\"index\", columns=[\"Overall_no_cluster\"])\n",
    "df_all_in_one_BIC[\"F1_no_cluster\"] = [F1_scores_no_cluster[word] for word in df_all_in_one_BIC.index]\n",
    "df_all_in_one_BIC[\"Type\"] = [\"Noun\" if word in Nouns else \"Verb\" for word in df_all_in_one_BIC.index]"
   ],
   "metadata": {
    "collapsed": false,
    "ExecuteTime": {
     "end_time": "2024-05-17T21:48:41.882014Z",
     "start_time": "2024-05-17T21:48:41.872950Z"
    }
   },
   "id": "a98b3a7b755b962a",
   "execution_count": 44
  },
  {
   "cell_type": "code",
   "outputs": [],
   "source": [
    "# We add a row 'Average' to the dataframes\n",
    "df_with_average_BIC = df_BIC.copy()\n",
    "df_with_average_BIC.loc[\"Average_nouns\"] = [nouns_average_weighted_BIC, nouns_average_overall_BIC, nouns_average_v_measure_BIC, nouns_average_rand_BIC, nouns_average_F1_BIC, \"\", \"\"]\n",
    "df_with_average_BIC.loc[\"Average_verbs\"] = [verbs_average_weighted_BIC, verbs_average_overall_BIC, verbs_average_v_measure_BIC, verbs_average_rand_BIC, verbs_average_F1_BIC, \"\", \"\"]\n",
    "df_with_average_BIC.loc[\"Global_average\"] = [df_BIC[\"Weighted\"].mean(), df_BIC[\"Overall\"].mean(), df_BIC[\"V_measure\"].mean(), df_BIC[\"Rand\"].mean(), df_BIC[\"F1\"].mean(), \"\", \"\"] #use the og file, no account of averages\n",
    "\n",
    "\n",
    "# As we don't make a copy, we have to calculate the mean before adding the other averages!\n",
    "df_all_in_one_BIC.loc[\"Global_average\"] = [df_all_in_one_BIC[\"Overall_no_cluster\"].mean(), df_all_in_one_BIC[\"F1_no_cluster\"].mean(), \"\",] \n",
    "df_all_in_one_BIC.loc[\"Average_nouns\"] = [nouns_average_all_in_one_BIC, nouns_average_F1_no_cluster,\"\"]\n",
    "df_all_in_one_BIC.loc[\"Average_verbs\"] = [verbs_average_all_in_one_BIC, verbs_average_F1_no_cluster,\"\"]\n"
   ],
   "metadata": {
    "collapsed": false,
    "ExecuteTime": {
     "end_time": "2024-05-17T21:48:42.477429Z",
     "start_time": "2024-05-17T21:48:42.463312Z"
    }
   },
   "id": "88fd8bd779c5c5ed",
   "execution_count": 45
  },
  {
   "cell_type": "code",
   "outputs": [
    {
     "data": {
      "application/vnd.plotly.v1+json": {
       "data": [
        {
         "hovertemplate": "Type=Noun<br>Weighted=%{x}<br>Overall=%{y}<br>index=%{text}<extra></extra>",
         "legendgroup": "Noun",
         "marker": {
          "color": "#636efa",
          "symbol": "circle"
         },
         "mode": "markers+text",
         "name": "Noun",
         "orientation": "v",
         "showlegend": true,
         "text": [
          "Avocat",
          "Bien",
          "Bureau",
          "Faculté",
          "Glace",
          "Souris",
          "Tour",
          "Vol"
         ],
         "x": [
          0.6607142857142857,
          0.6049730236922355,
          0.8026455026455026,
          0.7785714285714286,
          0.7134492249746487,
          0.5185185185185185,
          0.48571428571428577,
          0.75
         ],
         "xaxis": "x",
         "y": [
          0.6071428571428571,
          0.7244897959183674,
          0.7766990291262136,
          0.8,
          0.8373983739837398,
          0.6764705882352942,
          0.5945945945945946,
          0.6470588235294118
         ],
         "yaxis": "y",
         "type": "scatter"
        },
        {
         "hovertemplate": "Type=Verb<br>Weighted=%{x}<br>Overall=%{y}<br>index=%{text}<extra></extra>",
         "legendgroup": "Verb",
         "marker": {
          "color": "#EF553B",
          "symbol": "circle"
         },
         "mode": "markers+text",
         "name": "Verb",
         "orientation": "v",
         "showlegend": true,
         "text": [
          "Filer",
          "Supporter",
          "Tirer"
         ],
         "x": [
          0.9833333333333334,
          0.815873015873016,
          0.7806306306306307
         ],
         "xaxis": "x",
         "y": [
          0.9895833333333334,
          0.7818181818181819,
          0.7019230769230769
         ],
         "yaxis": "y",
         "type": "scatter"
        }
       ],
       "layout": {
        "template": {
         "data": {
          "barpolar": [
           {
            "marker": {
             "line": {
              "color": "white",
              "width": 0.5
             },
             "pattern": {
              "fillmode": "overlay",
              "size": 10,
              "solidity": 0.2
             }
            },
            "type": "barpolar"
           }
          ],
          "bar": [
           {
            "error_x": {
             "color": "#2a3f5f"
            },
            "error_y": {
             "color": "#2a3f5f"
            },
            "marker": {
             "line": {
              "color": "white",
              "width": 0.5
             },
             "pattern": {
              "fillmode": "overlay",
              "size": 10,
              "solidity": 0.2
             }
            },
            "type": "bar"
           }
          ],
          "carpet": [
           {
            "aaxis": {
             "endlinecolor": "#2a3f5f",
             "gridcolor": "#C8D4E3",
             "linecolor": "#C8D4E3",
             "minorgridcolor": "#C8D4E3",
             "startlinecolor": "#2a3f5f"
            },
            "baxis": {
             "endlinecolor": "#2a3f5f",
             "gridcolor": "#C8D4E3",
             "linecolor": "#C8D4E3",
             "minorgridcolor": "#C8D4E3",
             "startlinecolor": "#2a3f5f"
            },
            "type": "carpet"
           }
          ],
          "choropleth": [
           {
            "colorbar": {
             "outlinewidth": 0,
             "ticks": ""
            },
            "type": "choropleth"
           }
          ],
          "contourcarpet": [
           {
            "colorbar": {
             "outlinewidth": 0,
             "ticks": ""
            },
            "type": "contourcarpet"
           }
          ],
          "contour": [
           {
            "colorbar": {
             "outlinewidth": 0,
             "ticks": ""
            },
            "colorscale": [
             [
              0.0,
              "#0d0887"
             ],
             [
              0.1111111111111111,
              "#46039f"
             ],
             [
              0.2222222222222222,
              "#7201a8"
             ],
             [
              0.3333333333333333,
              "#9c179e"
             ],
             [
              0.4444444444444444,
              "#bd3786"
             ],
             [
              0.5555555555555556,
              "#d8576b"
             ],
             [
              0.6666666666666666,
              "#ed7953"
             ],
             [
              0.7777777777777778,
              "#fb9f3a"
             ],
             [
              0.8888888888888888,
              "#fdca26"
             ],
             [
              1.0,
              "#f0f921"
             ]
            ],
            "type": "contour"
           }
          ],
          "heatmapgl": [
           {
            "colorbar": {
             "outlinewidth": 0,
             "ticks": ""
            },
            "colorscale": [
             [
              0.0,
              "#0d0887"
             ],
             [
              0.1111111111111111,
              "#46039f"
             ],
             [
              0.2222222222222222,
              "#7201a8"
             ],
             [
              0.3333333333333333,
              "#9c179e"
             ],
             [
              0.4444444444444444,
              "#bd3786"
             ],
             [
              0.5555555555555556,
              "#d8576b"
             ],
             [
              0.6666666666666666,
              "#ed7953"
             ],
             [
              0.7777777777777778,
              "#fb9f3a"
             ],
             [
              0.8888888888888888,
              "#fdca26"
             ],
             [
              1.0,
              "#f0f921"
             ]
            ],
            "type": "heatmapgl"
           }
          ],
          "heatmap": [
           {
            "colorbar": {
             "outlinewidth": 0,
             "ticks": ""
            },
            "colorscale": [
             [
              0.0,
              "#0d0887"
             ],
             [
              0.1111111111111111,
              "#46039f"
             ],
             [
              0.2222222222222222,
              "#7201a8"
             ],
             [
              0.3333333333333333,
              "#9c179e"
             ],
             [
              0.4444444444444444,
              "#bd3786"
             ],
             [
              0.5555555555555556,
              "#d8576b"
             ],
             [
              0.6666666666666666,
              "#ed7953"
             ],
             [
              0.7777777777777778,
              "#fb9f3a"
             ],
             [
              0.8888888888888888,
              "#fdca26"
             ],
             [
              1.0,
              "#f0f921"
             ]
            ],
            "type": "heatmap"
           }
          ],
          "histogram2dcontour": [
           {
            "colorbar": {
             "outlinewidth": 0,
             "ticks": ""
            },
            "colorscale": [
             [
              0.0,
              "#0d0887"
             ],
             [
              0.1111111111111111,
              "#46039f"
             ],
             [
              0.2222222222222222,
              "#7201a8"
             ],
             [
              0.3333333333333333,
              "#9c179e"
             ],
             [
              0.4444444444444444,
              "#bd3786"
             ],
             [
              0.5555555555555556,
              "#d8576b"
             ],
             [
              0.6666666666666666,
              "#ed7953"
             ],
             [
              0.7777777777777778,
              "#fb9f3a"
             ],
             [
              0.8888888888888888,
              "#fdca26"
             ],
             [
              1.0,
              "#f0f921"
             ]
            ],
            "type": "histogram2dcontour"
           }
          ],
          "histogram2d": [
           {
            "colorbar": {
             "outlinewidth": 0,
             "ticks": ""
            },
            "colorscale": [
             [
              0.0,
              "#0d0887"
             ],
             [
              0.1111111111111111,
              "#46039f"
             ],
             [
              0.2222222222222222,
              "#7201a8"
             ],
             [
              0.3333333333333333,
              "#9c179e"
             ],
             [
              0.4444444444444444,
              "#bd3786"
             ],
             [
              0.5555555555555556,
              "#d8576b"
             ],
             [
              0.6666666666666666,
              "#ed7953"
             ],
             [
              0.7777777777777778,
              "#fb9f3a"
             ],
             [
              0.8888888888888888,
              "#fdca26"
             ],
             [
              1.0,
              "#f0f921"
             ]
            ],
            "type": "histogram2d"
           }
          ],
          "histogram": [
           {
            "marker": {
             "pattern": {
              "fillmode": "overlay",
              "size": 10,
              "solidity": 0.2
             }
            },
            "type": "histogram"
           }
          ],
          "mesh3d": [
           {
            "colorbar": {
             "outlinewidth": 0,
             "ticks": ""
            },
            "type": "mesh3d"
           }
          ],
          "parcoords": [
           {
            "line": {
             "colorbar": {
              "outlinewidth": 0,
              "ticks": ""
             }
            },
            "type": "parcoords"
           }
          ],
          "pie": [
           {
            "automargin": true,
            "type": "pie"
           }
          ],
          "scatter3d": [
           {
            "line": {
             "colorbar": {
              "outlinewidth": 0,
              "ticks": ""
             }
            },
            "marker": {
             "colorbar": {
              "outlinewidth": 0,
              "ticks": ""
             }
            },
            "type": "scatter3d"
           }
          ],
          "scattercarpet": [
           {
            "marker": {
             "colorbar": {
              "outlinewidth": 0,
              "ticks": ""
             }
            },
            "type": "scattercarpet"
           }
          ],
          "scattergeo": [
           {
            "marker": {
             "colorbar": {
              "outlinewidth": 0,
              "ticks": ""
             }
            },
            "type": "scattergeo"
           }
          ],
          "scattergl": [
           {
            "marker": {
             "colorbar": {
              "outlinewidth": 0,
              "ticks": ""
             }
            },
            "type": "scattergl"
           }
          ],
          "scattermapbox": [
           {
            "marker": {
             "colorbar": {
              "outlinewidth": 0,
              "ticks": ""
             }
            },
            "type": "scattermapbox"
           }
          ],
          "scatterpolargl": [
           {
            "marker": {
             "colorbar": {
              "outlinewidth": 0,
              "ticks": ""
             }
            },
            "type": "scatterpolargl"
           }
          ],
          "scatterpolar": [
           {
            "marker": {
             "colorbar": {
              "outlinewidth": 0,
              "ticks": ""
             }
            },
            "type": "scatterpolar"
           }
          ],
          "scatter": [
           {
            "fillpattern": {
             "fillmode": "overlay",
             "size": 10,
             "solidity": 0.2
            },
            "type": "scatter"
           }
          ],
          "scatterternary": [
           {
            "marker": {
             "colorbar": {
              "outlinewidth": 0,
              "ticks": ""
             }
            },
            "type": "scatterternary"
           }
          ],
          "surface": [
           {
            "colorbar": {
             "outlinewidth": 0,
             "ticks": ""
            },
            "colorscale": [
             [
              0.0,
              "#0d0887"
             ],
             [
              0.1111111111111111,
              "#46039f"
             ],
             [
              0.2222222222222222,
              "#7201a8"
             ],
             [
              0.3333333333333333,
              "#9c179e"
             ],
             [
              0.4444444444444444,
              "#bd3786"
             ],
             [
              0.5555555555555556,
              "#d8576b"
             ],
             [
              0.6666666666666666,
              "#ed7953"
             ],
             [
              0.7777777777777778,
              "#fb9f3a"
             ],
             [
              0.8888888888888888,
              "#fdca26"
             ],
             [
              1.0,
              "#f0f921"
             ]
            ],
            "type": "surface"
           }
          ],
          "table": [
           {
            "cells": {
             "fill": {
              "color": "#EBF0F8"
             },
             "line": {
              "color": "white"
             }
            },
            "header": {
             "fill": {
              "color": "#C8D4E3"
             },
             "line": {
              "color": "white"
             }
            },
            "type": "table"
           }
          ]
         },
         "layout": {
          "annotationdefaults": {
           "arrowcolor": "#2a3f5f",
           "arrowhead": 0,
           "arrowwidth": 1
          },
          "autotypenumbers": "strict",
          "coloraxis": {
           "colorbar": {
            "outlinewidth": 0,
            "ticks": ""
           }
          },
          "colorscale": {
           "diverging": [
            [
             0,
             "#8e0152"
            ],
            [
             0.1,
             "#c51b7d"
            ],
            [
             0.2,
             "#de77ae"
            ],
            [
             0.3,
             "#f1b6da"
            ],
            [
             0.4,
             "#fde0ef"
            ],
            [
             0.5,
             "#f7f7f7"
            ],
            [
             0.6,
             "#e6f5d0"
            ],
            [
             0.7,
             "#b8e186"
            ],
            [
             0.8,
             "#7fbc41"
            ],
            [
             0.9,
             "#4d9221"
            ],
            [
             1,
             "#276419"
            ]
           ],
           "sequential": [
            [
             0.0,
             "#0d0887"
            ],
            [
             0.1111111111111111,
             "#46039f"
            ],
            [
             0.2222222222222222,
             "#7201a8"
            ],
            [
             0.3333333333333333,
             "#9c179e"
            ],
            [
             0.4444444444444444,
             "#bd3786"
            ],
            [
             0.5555555555555556,
             "#d8576b"
            ],
            [
             0.6666666666666666,
             "#ed7953"
            ],
            [
             0.7777777777777778,
             "#fb9f3a"
            ],
            [
             0.8888888888888888,
             "#fdca26"
            ],
            [
             1.0,
             "#f0f921"
            ]
           ],
           "sequentialminus": [
            [
             0.0,
             "#0d0887"
            ],
            [
             0.1111111111111111,
             "#46039f"
            ],
            [
             0.2222222222222222,
             "#7201a8"
            ],
            [
             0.3333333333333333,
             "#9c179e"
            ],
            [
             0.4444444444444444,
             "#bd3786"
            ],
            [
             0.5555555555555556,
             "#d8576b"
            ],
            [
             0.6666666666666666,
             "#ed7953"
            ],
            [
             0.7777777777777778,
             "#fb9f3a"
            ],
            [
             0.8888888888888888,
             "#fdca26"
            ],
            [
             1.0,
             "#f0f921"
            ]
           ]
          },
          "colorway": [
           "#636efa",
           "#EF553B",
           "#00cc96",
           "#ab63fa",
           "#FFA15A",
           "#19d3f3",
           "#FF6692",
           "#B6E880",
           "#FF97FF",
           "#FECB52"
          ],
          "font": {
           "color": "#2a3f5f"
          },
          "geo": {
           "bgcolor": "white",
           "lakecolor": "white",
           "landcolor": "white",
           "showlakes": true,
           "showland": true,
           "subunitcolor": "#C8D4E3"
          },
          "hoverlabel": {
           "align": "left"
          },
          "hovermode": "closest",
          "mapbox": {
           "style": "light"
          },
          "paper_bgcolor": "white",
          "plot_bgcolor": "white",
          "polar": {
           "angularaxis": {
            "gridcolor": "#EBF0F8",
            "linecolor": "#EBF0F8",
            "ticks": ""
           },
           "bgcolor": "white",
           "radialaxis": {
            "gridcolor": "#EBF0F8",
            "linecolor": "#EBF0F8",
            "ticks": ""
           }
          },
          "scene": {
           "xaxis": {
            "backgroundcolor": "white",
            "gridcolor": "#DFE8F3",
            "gridwidth": 2,
            "linecolor": "#EBF0F8",
            "showbackground": true,
            "ticks": "",
            "zerolinecolor": "#EBF0F8"
           },
           "yaxis": {
            "backgroundcolor": "white",
            "gridcolor": "#DFE8F3",
            "gridwidth": 2,
            "linecolor": "#EBF0F8",
            "showbackground": true,
            "ticks": "",
            "zerolinecolor": "#EBF0F8"
           },
           "zaxis": {
            "backgroundcolor": "white",
            "gridcolor": "#DFE8F3",
            "gridwidth": 2,
            "linecolor": "#EBF0F8",
            "showbackground": true,
            "ticks": "",
            "zerolinecolor": "#EBF0F8"
           }
          },
          "shapedefaults": {
           "line": {
            "color": "#2a3f5f"
           }
          },
          "ternary": {
           "aaxis": {
            "gridcolor": "#DFE8F3",
            "linecolor": "#A2B1C6",
            "ticks": ""
           },
           "baxis": {
            "gridcolor": "#DFE8F3",
            "linecolor": "#A2B1C6",
            "ticks": ""
           },
           "bgcolor": "white",
           "caxis": {
            "gridcolor": "#DFE8F3",
            "linecolor": "#A2B1C6",
            "ticks": ""
           }
          },
          "title": {
           "x": 0.05
          },
          "xaxis": {
           "automargin": true,
           "gridcolor": "#EBF0F8",
           "linecolor": "#EBF0F8",
           "ticks": "",
           "title": {
            "standoff": 15
           },
           "zerolinecolor": "#EBF0F8",
           "zerolinewidth": 2
          },
          "yaxis": {
           "automargin": true,
           "gridcolor": "#EBF0F8",
           "linecolor": "#EBF0F8",
           "ticks": "",
           "title": {
            "standoff": 15
           },
           "zerolinecolor": "#EBF0F8",
           "zerolinewidth": 2
          }
         }
        },
        "xaxis": {
         "anchor": "y",
         "domain": [
          0.0,
          1.0
         ],
         "title": {
          "text": "Weighted"
         }
        },
        "yaxis": {
         "anchor": "x",
         "domain": [
          0.0,
          1.0
         ],
         "title": {
          "text": "Overall"
         }
        },
        "legend": {
         "title": {
          "text": "Type"
         },
         "tracegroupgap": 0
        },
        "title": {
         "text": "Scores for each word, op een manier die weinig zegt eigenlijk"
        }
       },
       "config": {
        "plotlyServerURL": "https://plot.ly"
       }
      },
      "text/html": "<div>                            <div id=\"d7f4d9b3-4a5d-4af1-8232-33e1febe18ef\" class=\"plotly-graph-div\" style=\"height:525px; width:100%;\"></div>            <script type=\"text/javascript\">                require([\"plotly\"], function(Plotly) {                    window.PLOTLYENV=window.PLOTLYENV || {};                                    if (document.getElementById(\"d7f4d9b3-4a5d-4af1-8232-33e1febe18ef\")) {                    Plotly.newPlot(                        \"d7f4d9b3-4a5d-4af1-8232-33e1febe18ef\",                        [{\"hovertemplate\":\"Type=Noun\\u003cbr\\u003eWeighted=%{x}\\u003cbr\\u003eOverall=%{y}\\u003cbr\\u003eindex=%{text}\\u003cextra\\u003e\\u003c\\u002fextra\\u003e\",\"legendgroup\":\"Noun\",\"marker\":{\"color\":\"#636efa\",\"symbol\":\"circle\"},\"mode\":\"markers+text\",\"name\":\"Noun\",\"orientation\":\"v\",\"showlegend\":true,\"text\":[\"Avocat\",\"Bien\",\"Bureau\",\"Facult\\u00e9\",\"Glace\",\"Souris\",\"Tour\",\"Vol\"],\"x\":[0.6607142857142857,0.6049730236922355,0.8026455026455026,0.7785714285714286,0.7134492249746487,0.5185185185185185,0.48571428571428577,0.75],\"xaxis\":\"x\",\"y\":[0.6071428571428571,0.7244897959183674,0.7766990291262136,0.8,0.8373983739837398,0.6764705882352942,0.5945945945945946,0.6470588235294118],\"yaxis\":\"y\",\"type\":\"scatter\"},{\"hovertemplate\":\"Type=Verb\\u003cbr\\u003eWeighted=%{x}\\u003cbr\\u003eOverall=%{y}\\u003cbr\\u003eindex=%{text}\\u003cextra\\u003e\\u003c\\u002fextra\\u003e\",\"legendgroup\":\"Verb\",\"marker\":{\"color\":\"#EF553B\",\"symbol\":\"circle\"},\"mode\":\"markers+text\",\"name\":\"Verb\",\"orientation\":\"v\",\"showlegend\":true,\"text\":[\"Filer\",\"Supporter\",\"Tirer\"],\"x\":[0.9833333333333334,0.815873015873016,0.7806306306306307],\"xaxis\":\"x\",\"y\":[0.9895833333333334,0.7818181818181819,0.7019230769230769],\"yaxis\":\"y\",\"type\":\"scatter\"}],                        {\"template\":{\"data\":{\"barpolar\":[{\"marker\":{\"line\":{\"color\":\"white\",\"width\":0.5},\"pattern\":{\"fillmode\":\"overlay\",\"size\":10,\"solidity\":0.2}},\"type\":\"barpolar\"}],\"bar\":[{\"error_x\":{\"color\":\"#2a3f5f\"},\"error_y\":{\"color\":\"#2a3f5f\"},\"marker\":{\"line\":{\"color\":\"white\",\"width\":0.5},\"pattern\":{\"fillmode\":\"overlay\",\"size\":10,\"solidity\":0.2}},\"type\":\"bar\"}],\"carpet\":[{\"aaxis\":{\"endlinecolor\":\"#2a3f5f\",\"gridcolor\":\"#C8D4E3\",\"linecolor\":\"#C8D4E3\",\"minorgridcolor\":\"#C8D4E3\",\"startlinecolor\":\"#2a3f5f\"},\"baxis\":{\"endlinecolor\":\"#2a3f5f\",\"gridcolor\":\"#C8D4E3\",\"linecolor\":\"#C8D4E3\",\"minorgridcolor\":\"#C8D4E3\",\"startlinecolor\":\"#2a3f5f\"},\"type\":\"carpet\"}],\"choropleth\":[{\"colorbar\":{\"outlinewidth\":0,\"ticks\":\"\"},\"type\":\"choropleth\"}],\"contourcarpet\":[{\"colorbar\":{\"outlinewidth\":0,\"ticks\":\"\"},\"type\":\"contourcarpet\"}],\"contour\":[{\"colorbar\":{\"outlinewidth\":0,\"ticks\":\"\"},\"colorscale\":[[0.0,\"#0d0887\"],[0.1111111111111111,\"#46039f\"],[0.2222222222222222,\"#7201a8\"],[0.3333333333333333,\"#9c179e\"],[0.4444444444444444,\"#bd3786\"],[0.5555555555555556,\"#d8576b\"],[0.6666666666666666,\"#ed7953\"],[0.7777777777777778,\"#fb9f3a\"],[0.8888888888888888,\"#fdca26\"],[1.0,\"#f0f921\"]],\"type\":\"contour\"}],\"heatmapgl\":[{\"colorbar\":{\"outlinewidth\":0,\"ticks\":\"\"},\"colorscale\":[[0.0,\"#0d0887\"],[0.1111111111111111,\"#46039f\"],[0.2222222222222222,\"#7201a8\"],[0.3333333333333333,\"#9c179e\"],[0.4444444444444444,\"#bd3786\"],[0.5555555555555556,\"#d8576b\"],[0.6666666666666666,\"#ed7953\"],[0.7777777777777778,\"#fb9f3a\"],[0.8888888888888888,\"#fdca26\"],[1.0,\"#f0f921\"]],\"type\":\"heatmapgl\"}],\"heatmap\":[{\"colorbar\":{\"outlinewidth\":0,\"ticks\":\"\"},\"colorscale\":[[0.0,\"#0d0887\"],[0.1111111111111111,\"#46039f\"],[0.2222222222222222,\"#7201a8\"],[0.3333333333333333,\"#9c179e\"],[0.4444444444444444,\"#bd3786\"],[0.5555555555555556,\"#d8576b\"],[0.6666666666666666,\"#ed7953\"],[0.7777777777777778,\"#fb9f3a\"],[0.8888888888888888,\"#fdca26\"],[1.0,\"#f0f921\"]],\"type\":\"heatmap\"}],\"histogram2dcontour\":[{\"colorbar\":{\"outlinewidth\":0,\"ticks\":\"\"},\"colorscale\":[[0.0,\"#0d0887\"],[0.1111111111111111,\"#46039f\"],[0.2222222222222222,\"#7201a8\"],[0.3333333333333333,\"#9c179e\"],[0.4444444444444444,\"#bd3786\"],[0.5555555555555556,\"#d8576b\"],[0.6666666666666666,\"#ed7953\"],[0.7777777777777778,\"#fb9f3a\"],[0.8888888888888888,\"#fdca26\"],[1.0,\"#f0f921\"]],\"type\":\"histogram2dcontour\"}],\"histogram2d\":[{\"colorbar\":{\"outlinewidth\":0,\"ticks\":\"\"},\"colorscale\":[[0.0,\"#0d0887\"],[0.1111111111111111,\"#46039f\"],[0.2222222222222222,\"#7201a8\"],[0.3333333333333333,\"#9c179e\"],[0.4444444444444444,\"#bd3786\"],[0.5555555555555556,\"#d8576b\"],[0.6666666666666666,\"#ed7953\"],[0.7777777777777778,\"#fb9f3a\"],[0.8888888888888888,\"#fdca26\"],[1.0,\"#f0f921\"]],\"type\":\"histogram2d\"}],\"histogram\":[{\"marker\":{\"pattern\":{\"fillmode\":\"overlay\",\"size\":10,\"solidity\":0.2}},\"type\":\"histogram\"}],\"mesh3d\":[{\"colorbar\":{\"outlinewidth\":0,\"ticks\":\"\"},\"type\":\"mesh3d\"}],\"parcoords\":[{\"line\":{\"colorbar\":{\"outlinewidth\":0,\"ticks\":\"\"}},\"type\":\"parcoords\"}],\"pie\":[{\"automargin\":true,\"type\":\"pie\"}],\"scatter3d\":[{\"line\":{\"colorbar\":{\"outlinewidth\":0,\"ticks\":\"\"}},\"marker\":{\"colorbar\":{\"outlinewidth\":0,\"ticks\":\"\"}},\"type\":\"scatter3d\"}],\"scattercarpet\":[{\"marker\":{\"colorbar\":{\"outlinewidth\":0,\"ticks\":\"\"}},\"type\":\"scattercarpet\"}],\"scattergeo\":[{\"marker\":{\"colorbar\":{\"outlinewidth\":0,\"ticks\":\"\"}},\"type\":\"scattergeo\"}],\"scattergl\":[{\"marker\":{\"colorbar\":{\"outlinewidth\":0,\"ticks\":\"\"}},\"type\":\"scattergl\"}],\"scattermapbox\":[{\"marker\":{\"colorbar\":{\"outlinewidth\":0,\"ticks\":\"\"}},\"type\":\"scattermapbox\"}],\"scatterpolargl\":[{\"marker\":{\"colorbar\":{\"outlinewidth\":0,\"ticks\":\"\"}},\"type\":\"scatterpolargl\"}],\"scatterpolar\":[{\"marker\":{\"colorbar\":{\"outlinewidth\":0,\"ticks\":\"\"}},\"type\":\"scatterpolar\"}],\"scatter\":[{\"fillpattern\":{\"fillmode\":\"overlay\",\"size\":10,\"solidity\":0.2},\"type\":\"scatter\"}],\"scatterternary\":[{\"marker\":{\"colorbar\":{\"outlinewidth\":0,\"ticks\":\"\"}},\"type\":\"scatterternary\"}],\"surface\":[{\"colorbar\":{\"outlinewidth\":0,\"ticks\":\"\"},\"colorscale\":[[0.0,\"#0d0887\"],[0.1111111111111111,\"#46039f\"],[0.2222222222222222,\"#7201a8\"],[0.3333333333333333,\"#9c179e\"],[0.4444444444444444,\"#bd3786\"],[0.5555555555555556,\"#d8576b\"],[0.6666666666666666,\"#ed7953\"],[0.7777777777777778,\"#fb9f3a\"],[0.8888888888888888,\"#fdca26\"],[1.0,\"#f0f921\"]],\"type\":\"surface\"}],\"table\":[{\"cells\":{\"fill\":{\"color\":\"#EBF0F8\"},\"line\":{\"color\":\"white\"}},\"header\":{\"fill\":{\"color\":\"#C8D4E3\"},\"line\":{\"color\":\"white\"}},\"type\":\"table\"}]},\"layout\":{\"annotationdefaults\":{\"arrowcolor\":\"#2a3f5f\",\"arrowhead\":0,\"arrowwidth\":1},\"autotypenumbers\":\"strict\",\"coloraxis\":{\"colorbar\":{\"outlinewidth\":0,\"ticks\":\"\"}},\"colorscale\":{\"diverging\":[[0,\"#8e0152\"],[0.1,\"#c51b7d\"],[0.2,\"#de77ae\"],[0.3,\"#f1b6da\"],[0.4,\"#fde0ef\"],[0.5,\"#f7f7f7\"],[0.6,\"#e6f5d0\"],[0.7,\"#b8e186\"],[0.8,\"#7fbc41\"],[0.9,\"#4d9221\"],[1,\"#276419\"]],\"sequential\":[[0.0,\"#0d0887\"],[0.1111111111111111,\"#46039f\"],[0.2222222222222222,\"#7201a8\"],[0.3333333333333333,\"#9c179e\"],[0.4444444444444444,\"#bd3786\"],[0.5555555555555556,\"#d8576b\"],[0.6666666666666666,\"#ed7953\"],[0.7777777777777778,\"#fb9f3a\"],[0.8888888888888888,\"#fdca26\"],[1.0,\"#f0f921\"]],\"sequentialminus\":[[0.0,\"#0d0887\"],[0.1111111111111111,\"#46039f\"],[0.2222222222222222,\"#7201a8\"],[0.3333333333333333,\"#9c179e\"],[0.4444444444444444,\"#bd3786\"],[0.5555555555555556,\"#d8576b\"],[0.6666666666666666,\"#ed7953\"],[0.7777777777777778,\"#fb9f3a\"],[0.8888888888888888,\"#fdca26\"],[1.0,\"#f0f921\"]]},\"colorway\":[\"#636efa\",\"#EF553B\",\"#00cc96\",\"#ab63fa\",\"#FFA15A\",\"#19d3f3\",\"#FF6692\",\"#B6E880\",\"#FF97FF\",\"#FECB52\"],\"font\":{\"color\":\"#2a3f5f\"},\"geo\":{\"bgcolor\":\"white\",\"lakecolor\":\"white\",\"landcolor\":\"white\",\"showlakes\":true,\"showland\":true,\"subunitcolor\":\"#C8D4E3\"},\"hoverlabel\":{\"align\":\"left\"},\"hovermode\":\"closest\",\"mapbox\":{\"style\":\"light\"},\"paper_bgcolor\":\"white\",\"plot_bgcolor\":\"white\",\"polar\":{\"angularaxis\":{\"gridcolor\":\"#EBF0F8\",\"linecolor\":\"#EBF0F8\",\"ticks\":\"\"},\"bgcolor\":\"white\",\"radialaxis\":{\"gridcolor\":\"#EBF0F8\",\"linecolor\":\"#EBF0F8\",\"ticks\":\"\"}},\"scene\":{\"xaxis\":{\"backgroundcolor\":\"white\",\"gridcolor\":\"#DFE8F3\",\"gridwidth\":2,\"linecolor\":\"#EBF0F8\",\"showbackground\":true,\"ticks\":\"\",\"zerolinecolor\":\"#EBF0F8\"},\"yaxis\":{\"backgroundcolor\":\"white\",\"gridcolor\":\"#DFE8F3\",\"gridwidth\":2,\"linecolor\":\"#EBF0F8\",\"showbackground\":true,\"ticks\":\"\",\"zerolinecolor\":\"#EBF0F8\"},\"zaxis\":{\"backgroundcolor\":\"white\",\"gridcolor\":\"#DFE8F3\",\"gridwidth\":2,\"linecolor\":\"#EBF0F8\",\"showbackground\":true,\"ticks\":\"\",\"zerolinecolor\":\"#EBF0F8\"}},\"shapedefaults\":{\"line\":{\"color\":\"#2a3f5f\"}},\"ternary\":{\"aaxis\":{\"gridcolor\":\"#DFE8F3\",\"linecolor\":\"#A2B1C6\",\"ticks\":\"\"},\"baxis\":{\"gridcolor\":\"#DFE8F3\",\"linecolor\":\"#A2B1C6\",\"ticks\":\"\"},\"bgcolor\":\"white\",\"caxis\":{\"gridcolor\":\"#DFE8F3\",\"linecolor\":\"#A2B1C6\",\"ticks\":\"\"}},\"title\":{\"x\":0.05},\"xaxis\":{\"automargin\":true,\"gridcolor\":\"#EBF0F8\",\"linecolor\":\"#EBF0F8\",\"ticks\":\"\",\"title\":{\"standoff\":15},\"zerolinecolor\":\"#EBF0F8\",\"zerolinewidth\":2},\"yaxis\":{\"automargin\":true,\"gridcolor\":\"#EBF0F8\",\"linecolor\":\"#EBF0F8\",\"ticks\":\"\",\"title\":{\"standoff\":15},\"zerolinecolor\":\"#EBF0F8\",\"zerolinewidth\":2}}},\"xaxis\":{\"anchor\":\"y\",\"domain\":[0.0,1.0],\"title\":{\"text\":\"Weighted\"}},\"yaxis\":{\"anchor\":\"x\",\"domain\":[0.0,1.0],\"title\":{\"text\":\"Overall\"}},\"legend\":{\"title\":{\"text\":\"Type\"},\"tracegroupgap\":0},\"title\":{\"text\":\"Scores for each word, op een manier die weinig zegt eigenlijk\"}},                        {\"responsive\": true}                    ).then(function(){\n                            \nvar gd = document.getElementById('d7f4d9b3-4a5d-4af1-8232-33e1febe18ef');\nvar x = new MutationObserver(function (mutations, observer) {{\n        var display = window.getComputedStyle(gd).display;\n        if (!display || display === 'none') {{\n            console.log([gd, 'removed!']);\n            Plotly.purge(gd);\n            observer.disconnect();\n        }}\n}});\n\n// Listen for the removal of the full notebook cells\nvar notebookContainer = gd.closest('#notebook-container');\nif (notebookContainer) {{\n    x.observe(notebookContainer, {childList: true});\n}}\n\n// Listen for the clearing of the current output cell\nvar outputEl = gd.closest('.output');\nif (outputEl) {{\n    x.observe(outputEl, {childList: true});\n}}\n\n                        })                };                });            </script>        </div>"
     },
     "metadata": {},
     "output_type": "display_data"
    },
    {
     "data": {
      "application/vnd.plotly.v1+json": {
       "data": [
        {
         "hovertemplate": "Type=Noun<br>V_measure=%{x}<br>F1=%{y}<br>index=%{text}<extra></extra>",
         "legendgroup": "Noun",
         "marker": {
          "color": "#636efa",
          "symbol": "circle"
         },
         "mode": "markers+text",
         "name": "Noun",
         "orientation": "v",
         "showlegend": true,
         "text": [
          "Avocat",
          "Bien",
          "Bureau",
          "Faculté",
          "Glace",
          "Souris",
          "Tour",
          "Vol"
         ],
         "x": [
          0.673013991940131,
          0.6464984284340453,
          0.412859145685326,
          0.6590790808687689,
          0.7023313562856619,
          0.6885598700400486,
          0.4381248117702465,
          0.5795697623512835
         ],
         "xaxis": "x",
         "y": [
          0.7450980392156863,
          0.6811938661242773,
          0.7774682808086635,
          0.8021666666666667,
          0.8103258981307763,
          0.6761788048552755,
          0.48230063200686,
          0.7480577136514983
         ],
         "yaxis": "y",
         "type": "scatter"
        },
        {
         "hovertemplate": "Type=Verb<br>V_measure=%{x}<br>F1=%{y}<br>index=%{text}<extra></extra>",
         "legendgroup": "Verb",
         "marker": {
          "color": "#EF553B",
          "symbol": "circle"
         },
         "mode": "markers+text",
         "name": "Verb",
         "orientation": "v",
         "showlegend": true,
         "text": [
          "Filer",
          "Supporter",
          "Tirer"
         ],
         "x": [
          0.9554928955680965,
          0.5723182860422809,
          0.5226428807946941
         ],
         "xaxis": "x",
         "y": [
          0.9895046108861898,
          0.7862607980255039,
          0.7917474682180564
         ],
         "yaxis": "y",
         "type": "scatter"
        }
       ],
       "layout": {
        "template": {
         "data": {
          "barpolar": [
           {
            "marker": {
             "line": {
              "color": "white",
              "width": 0.5
             },
             "pattern": {
              "fillmode": "overlay",
              "size": 10,
              "solidity": 0.2
             }
            },
            "type": "barpolar"
           }
          ],
          "bar": [
           {
            "error_x": {
             "color": "#2a3f5f"
            },
            "error_y": {
             "color": "#2a3f5f"
            },
            "marker": {
             "line": {
              "color": "white",
              "width": 0.5
             },
             "pattern": {
              "fillmode": "overlay",
              "size": 10,
              "solidity": 0.2
             }
            },
            "type": "bar"
           }
          ],
          "carpet": [
           {
            "aaxis": {
             "endlinecolor": "#2a3f5f",
             "gridcolor": "#C8D4E3",
             "linecolor": "#C8D4E3",
             "minorgridcolor": "#C8D4E3",
             "startlinecolor": "#2a3f5f"
            },
            "baxis": {
             "endlinecolor": "#2a3f5f",
             "gridcolor": "#C8D4E3",
             "linecolor": "#C8D4E3",
             "minorgridcolor": "#C8D4E3",
             "startlinecolor": "#2a3f5f"
            },
            "type": "carpet"
           }
          ],
          "choropleth": [
           {
            "colorbar": {
             "outlinewidth": 0,
             "ticks": ""
            },
            "type": "choropleth"
           }
          ],
          "contourcarpet": [
           {
            "colorbar": {
             "outlinewidth": 0,
             "ticks": ""
            },
            "type": "contourcarpet"
           }
          ],
          "contour": [
           {
            "colorbar": {
             "outlinewidth": 0,
             "ticks": ""
            },
            "colorscale": [
             [
              0.0,
              "#0d0887"
             ],
             [
              0.1111111111111111,
              "#46039f"
             ],
             [
              0.2222222222222222,
              "#7201a8"
             ],
             [
              0.3333333333333333,
              "#9c179e"
             ],
             [
              0.4444444444444444,
              "#bd3786"
             ],
             [
              0.5555555555555556,
              "#d8576b"
             ],
             [
              0.6666666666666666,
              "#ed7953"
             ],
             [
              0.7777777777777778,
              "#fb9f3a"
             ],
             [
              0.8888888888888888,
              "#fdca26"
             ],
             [
              1.0,
              "#f0f921"
             ]
            ],
            "type": "contour"
           }
          ],
          "heatmapgl": [
           {
            "colorbar": {
             "outlinewidth": 0,
             "ticks": ""
            },
            "colorscale": [
             [
              0.0,
              "#0d0887"
             ],
             [
              0.1111111111111111,
              "#46039f"
             ],
             [
              0.2222222222222222,
              "#7201a8"
             ],
             [
              0.3333333333333333,
              "#9c179e"
             ],
             [
              0.4444444444444444,
              "#bd3786"
             ],
             [
              0.5555555555555556,
              "#d8576b"
             ],
             [
              0.6666666666666666,
              "#ed7953"
             ],
             [
              0.7777777777777778,
              "#fb9f3a"
             ],
             [
              0.8888888888888888,
              "#fdca26"
             ],
             [
              1.0,
              "#f0f921"
             ]
            ],
            "type": "heatmapgl"
           }
          ],
          "heatmap": [
           {
            "colorbar": {
             "outlinewidth": 0,
             "ticks": ""
            },
            "colorscale": [
             [
              0.0,
              "#0d0887"
             ],
             [
              0.1111111111111111,
              "#46039f"
             ],
             [
              0.2222222222222222,
              "#7201a8"
             ],
             [
              0.3333333333333333,
              "#9c179e"
             ],
             [
              0.4444444444444444,
              "#bd3786"
             ],
             [
              0.5555555555555556,
              "#d8576b"
             ],
             [
              0.6666666666666666,
              "#ed7953"
             ],
             [
              0.7777777777777778,
              "#fb9f3a"
             ],
             [
              0.8888888888888888,
              "#fdca26"
             ],
             [
              1.0,
              "#f0f921"
             ]
            ],
            "type": "heatmap"
           }
          ],
          "histogram2dcontour": [
           {
            "colorbar": {
             "outlinewidth": 0,
             "ticks": ""
            },
            "colorscale": [
             [
              0.0,
              "#0d0887"
             ],
             [
              0.1111111111111111,
              "#46039f"
             ],
             [
              0.2222222222222222,
              "#7201a8"
             ],
             [
              0.3333333333333333,
              "#9c179e"
             ],
             [
              0.4444444444444444,
              "#bd3786"
             ],
             [
              0.5555555555555556,
              "#d8576b"
             ],
             [
              0.6666666666666666,
              "#ed7953"
             ],
             [
              0.7777777777777778,
              "#fb9f3a"
             ],
             [
              0.8888888888888888,
              "#fdca26"
             ],
             [
              1.0,
              "#f0f921"
             ]
            ],
            "type": "histogram2dcontour"
           }
          ],
          "histogram2d": [
           {
            "colorbar": {
             "outlinewidth": 0,
             "ticks": ""
            },
            "colorscale": [
             [
              0.0,
              "#0d0887"
             ],
             [
              0.1111111111111111,
              "#46039f"
             ],
             [
              0.2222222222222222,
              "#7201a8"
             ],
             [
              0.3333333333333333,
              "#9c179e"
             ],
             [
              0.4444444444444444,
              "#bd3786"
             ],
             [
              0.5555555555555556,
              "#d8576b"
             ],
             [
              0.6666666666666666,
              "#ed7953"
             ],
             [
              0.7777777777777778,
              "#fb9f3a"
             ],
             [
              0.8888888888888888,
              "#fdca26"
             ],
             [
              1.0,
              "#f0f921"
             ]
            ],
            "type": "histogram2d"
           }
          ],
          "histogram": [
           {
            "marker": {
             "pattern": {
              "fillmode": "overlay",
              "size": 10,
              "solidity": 0.2
             }
            },
            "type": "histogram"
           }
          ],
          "mesh3d": [
           {
            "colorbar": {
             "outlinewidth": 0,
             "ticks": ""
            },
            "type": "mesh3d"
           }
          ],
          "parcoords": [
           {
            "line": {
             "colorbar": {
              "outlinewidth": 0,
              "ticks": ""
             }
            },
            "type": "parcoords"
           }
          ],
          "pie": [
           {
            "automargin": true,
            "type": "pie"
           }
          ],
          "scatter3d": [
           {
            "line": {
             "colorbar": {
              "outlinewidth": 0,
              "ticks": ""
             }
            },
            "marker": {
             "colorbar": {
              "outlinewidth": 0,
              "ticks": ""
             }
            },
            "type": "scatter3d"
           }
          ],
          "scattercarpet": [
           {
            "marker": {
             "colorbar": {
              "outlinewidth": 0,
              "ticks": ""
             }
            },
            "type": "scattercarpet"
           }
          ],
          "scattergeo": [
           {
            "marker": {
             "colorbar": {
              "outlinewidth": 0,
              "ticks": ""
             }
            },
            "type": "scattergeo"
           }
          ],
          "scattergl": [
           {
            "marker": {
             "colorbar": {
              "outlinewidth": 0,
              "ticks": ""
             }
            },
            "type": "scattergl"
           }
          ],
          "scattermapbox": [
           {
            "marker": {
             "colorbar": {
              "outlinewidth": 0,
              "ticks": ""
             }
            },
            "type": "scattermapbox"
           }
          ],
          "scatterpolargl": [
           {
            "marker": {
             "colorbar": {
              "outlinewidth": 0,
              "ticks": ""
             }
            },
            "type": "scatterpolargl"
           }
          ],
          "scatterpolar": [
           {
            "marker": {
             "colorbar": {
              "outlinewidth": 0,
              "ticks": ""
             }
            },
            "type": "scatterpolar"
           }
          ],
          "scatter": [
           {
            "fillpattern": {
             "fillmode": "overlay",
             "size": 10,
             "solidity": 0.2
            },
            "type": "scatter"
           }
          ],
          "scatterternary": [
           {
            "marker": {
             "colorbar": {
              "outlinewidth": 0,
              "ticks": ""
             }
            },
            "type": "scatterternary"
           }
          ],
          "surface": [
           {
            "colorbar": {
             "outlinewidth": 0,
             "ticks": ""
            },
            "colorscale": [
             [
              0.0,
              "#0d0887"
             ],
             [
              0.1111111111111111,
              "#46039f"
             ],
             [
              0.2222222222222222,
              "#7201a8"
             ],
             [
              0.3333333333333333,
              "#9c179e"
             ],
             [
              0.4444444444444444,
              "#bd3786"
             ],
             [
              0.5555555555555556,
              "#d8576b"
             ],
             [
              0.6666666666666666,
              "#ed7953"
             ],
             [
              0.7777777777777778,
              "#fb9f3a"
             ],
             [
              0.8888888888888888,
              "#fdca26"
             ],
             [
              1.0,
              "#f0f921"
             ]
            ],
            "type": "surface"
           }
          ],
          "table": [
           {
            "cells": {
             "fill": {
              "color": "#EBF0F8"
             },
             "line": {
              "color": "white"
             }
            },
            "header": {
             "fill": {
              "color": "#C8D4E3"
             },
             "line": {
              "color": "white"
             }
            },
            "type": "table"
           }
          ]
         },
         "layout": {
          "annotationdefaults": {
           "arrowcolor": "#2a3f5f",
           "arrowhead": 0,
           "arrowwidth": 1
          },
          "autotypenumbers": "strict",
          "coloraxis": {
           "colorbar": {
            "outlinewidth": 0,
            "ticks": ""
           }
          },
          "colorscale": {
           "diverging": [
            [
             0,
             "#8e0152"
            ],
            [
             0.1,
             "#c51b7d"
            ],
            [
             0.2,
             "#de77ae"
            ],
            [
             0.3,
             "#f1b6da"
            ],
            [
             0.4,
             "#fde0ef"
            ],
            [
             0.5,
             "#f7f7f7"
            ],
            [
             0.6,
             "#e6f5d0"
            ],
            [
             0.7,
             "#b8e186"
            ],
            [
             0.8,
             "#7fbc41"
            ],
            [
             0.9,
             "#4d9221"
            ],
            [
             1,
             "#276419"
            ]
           ],
           "sequential": [
            [
             0.0,
             "#0d0887"
            ],
            [
             0.1111111111111111,
             "#46039f"
            ],
            [
             0.2222222222222222,
             "#7201a8"
            ],
            [
             0.3333333333333333,
             "#9c179e"
            ],
            [
             0.4444444444444444,
             "#bd3786"
            ],
            [
             0.5555555555555556,
             "#d8576b"
            ],
            [
             0.6666666666666666,
             "#ed7953"
            ],
            [
             0.7777777777777778,
             "#fb9f3a"
            ],
            [
             0.8888888888888888,
             "#fdca26"
            ],
            [
             1.0,
             "#f0f921"
            ]
           ],
           "sequentialminus": [
            [
             0.0,
             "#0d0887"
            ],
            [
             0.1111111111111111,
             "#46039f"
            ],
            [
             0.2222222222222222,
             "#7201a8"
            ],
            [
             0.3333333333333333,
             "#9c179e"
            ],
            [
             0.4444444444444444,
             "#bd3786"
            ],
            [
             0.5555555555555556,
             "#d8576b"
            ],
            [
             0.6666666666666666,
             "#ed7953"
            ],
            [
             0.7777777777777778,
             "#fb9f3a"
            ],
            [
             0.8888888888888888,
             "#fdca26"
            ],
            [
             1.0,
             "#f0f921"
            ]
           ]
          },
          "colorway": [
           "#636efa",
           "#EF553B",
           "#00cc96",
           "#ab63fa",
           "#FFA15A",
           "#19d3f3",
           "#FF6692",
           "#B6E880",
           "#FF97FF",
           "#FECB52"
          ],
          "font": {
           "color": "#2a3f5f"
          },
          "geo": {
           "bgcolor": "white",
           "lakecolor": "white",
           "landcolor": "white",
           "showlakes": true,
           "showland": true,
           "subunitcolor": "#C8D4E3"
          },
          "hoverlabel": {
           "align": "left"
          },
          "hovermode": "closest",
          "mapbox": {
           "style": "light"
          },
          "paper_bgcolor": "white",
          "plot_bgcolor": "white",
          "polar": {
           "angularaxis": {
            "gridcolor": "#EBF0F8",
            "linecolor": "#EBF0F8",
            "ticks": ""
           },
           "bgcolor": "white",
           "radialaxis": {
            "gridcolor": "#EBF0F8",
            "linecolor": "#EBF0F8",
            "ticks": ""
           }
          },
          "scene": {
           "xaxis": {
            "backgroundcolor": "white",
            "gridcolor": "#DFE8F3",
            "gridwidth": 2,
            "linecolor": "#EBF0F8",
            "showbackground": true,
            "ticks": "",
            "zerolinecolor": "#EBF0F8"
           },
           "yaxis": {
            "backgroundcolor": "white",
            "gridcolor": "#DFE8F3",
            "gridwidth": 2,
            "linecolor": "#EBF0F8",
            "showbackground": true,
            "ticks": "",
            "zerolinecolor": "#EBF0F8"
           },
           "zaxis": {
            "backgroundcolor": "white",
            "gridcolor": "#DFE8F3",
            "gridwidth": 2,
            "linecolor": "#EBF0F8",
            "showbackground": true,
            "ticks": "",
            "zerolinecolor": "#EBF0F8"
           }
          },
          "shapedefaults": {
           "line": {
            "color": "#2a3f5f"
           }
          },
          "ternary": {
           "aaxis": {
            "gridcolor": "#DFE8F3",
            "linecolor": "#A2B1C6",
            "ticks": ""
           },
           "baxis": {
            "gridcolor": "#DFE8F3",
            "linecolor": "#A2B1C6",
            "ticks": ""
           },
           "bgcolor": "white",
           "caxis": {
            "gridcolor": "#DFE8F3",
            "linecolor": "#A2B1C6",
            "ticks": ""
           }
          },
          "title": {
           "x": 0.05
          },
          "xaxis": {
           "automargin": true,
           "gridcolor": "#EBF0F8",
           "linecolor": "#EBF0F8",
           "ticks": "",
           "title": {
            "standoff": 15
           },
           "zerolinecolor": "#EBF0F8",
           "zerolinewidth": 2
          },
          "yaxis": {
           "automargin": true,
           "gridcolor": "#EBF0F8",
           "linecolor": "#EBF0F8",
           "ticks": "",
           "title": {
            "standoff": 15
           },
           "zerolinecolor": "#EBF0F8",
           "zerolinewidth": 2
          }
         }
        },
        "xaxis": {
         "anchor": "y",
         "domain": [
          0.0,
          1.0
         ],
         "title": {
          "text": "V_measure"
         }
        },
        "yaxis": {
         "anchor": "x",
         "domain": [
          0.0,
          1.0
         ],
         "title": {
          "text": "F1"
         }
        },
        "legend": {
         "title": {
          "text": "Type"
         },
         "tracegroupgap": 0
        },
        "title": {
         "text": "Scores for each word"
        }
       },
       "config": {
        "plotlyServerURL": "https://plot.ly"
       }
      },
      "text/html": "<div>                            <div id=\"1228fc30-c81f-425c-8e41-ff1651c773d6\" class=\"plotly-graph-div\" style=\"height:525px; width:100%;\"></div>            <script type=\"text/javascript\">                require([\"plotly\"], function(Plotly) {                    window.PLOTLYENV=window.PLOTLYENV || {};                                    if (document.getElementById(\"1228fc30-c81f-425c-8e41-ff1651c773d6\")) {                    Plotly.newPlot(                        \"1228fc30-c81f-425c-8e41-ff1651c773d6\",                        [{\"hovertemplate\":\"Type=Noun\\u003cbr\\u003eV_measure=%{x}\\u003cbr\\u003eF1=%{y}\\u003cbr\\u003eindex=%{text}\\u003cextra\\u003e\\u003c\\u002fextra\\u003e\",\"legendgroup\":\"Noun\",\"marker\":{\"color\":\"#636efa\",\"symbol\":\"circle\"},\"mode\":\"markers+text\",\"name\":\"Noun\",\"orientation\":\"v\",\"showlegend\":true,\"text\":[\"Avocat\",\"Bien\",\"Bureau\",\"Facult\\u00e9\",\"Glace\",\"Souris\",\"Tour\",\"Vol\"],\"x\":[0.673013991940131,0.6464984284340453,0.412859145685326,0.6590790808687689,0.7023313562856619,0.6885598700400486,0.4381248117702465,0.5795697623512835],\"xaxis\":\"x\",\"y\":[0.7450980392156863,0.6811938661242773,0.7774682808086635,0.8021666666666667,0.8103258981307763,0.6761788048552755,0.48230063200686,0.7480577136514983],\"yaxis\":\"y\",\"type\":\"scatter\"},{\"hovertemplate\":\"Type=Verb\\u003cbr\\u003eV_measure=%{x}\\u003cbr\\u003eF1=%{y}\\u003cbr\\u003eindex=%{text}\\u003cextra\\u003e\\u003c\\u002fextra\\u003e\",\"legendgroup\":\"Verb\",\"marker\":{\"color\":\"#EF553B\",\"symbol\":\"circle\"},\"mode\":\"markers+text\",\"name\":\"Verb\",\"orientation\":\"v\",\"showlegend\":true,\"text\":[\"Filer\",\"Supporter\",\"Tirer\"],\"x\":[0.9554928955680965,0.5723182860422809,0.5226428807946941],\"xaxis\":\"x\",\"y\":[0.9895046108861898,0.7862607980255039,0.7917474682180564],\"yaxis\":\"y\",\"type\":\"scatter\"}],                        {\"template\":{\"data\":{\"barpolar\":[{\"marker\":{\"line\":{\"color\":\"white\",\"width\":0.5},\"pattern\":{\"fillmode\":\"overlay\",\"size\":10,\"solidity\":0.2}},\"type\":\"barpolar\"}],\"bar\":[{\"error_x\":{\"color\":\"#2a3f5f\"},\"error_y\":{\"color\":\"#2a3f5f\"},\"marker\":{\"line\":{\"color\":\"white\",\"width\":0.5},\"pattern\":{\"fillmode\":\"overlay\",\"size\":10,\"solidity\":0.2}},\"type\":\"bar\"}],\"carpet\":[{\"aaxis\":{\"endlinecolor\":\"#2a3f5f\",\"gridcolor\":\"#C8D4E3\",\"linecolor\":\"#C8D4E3\",\"minorgridcolor\":\"#C8D4E3\",\"startlinecolor\":\"#2a3f5f\"},\"baxis\":{\"endlinecolor\":\"#2a3f5f\",\"gridcolor\":\"#C8D4E3\",\"linecolor\":\"#C8D4E3\",\"minorgridcolor\":\"#C8D4E3\",\"startlinecolor\":\"#2a3f5f\"},\"type\":\"carpet\"}],\"choropleth\":[{\"colorbar\":{\"outlinewidth\":0,\"ticks\":\"\"},\"type\":\"choropleth\"}],\"contourcarpet\":[{\"colorbar\":{\"outlinewidth\":0,\"ticks\":\"\"},\"type\":\"contourcarpet\"}],\"contour\":[{\"colorbar\":{\"outlinewidth\":0,\"ticks\":\"\"},\"colorscale\":[[0.0,\"#0d0887\"],[0.1111111111111111,\"#46039f\"],[0.2222222222222222,\"#7201a8\"],[0.3333333333333333,\"#9c179e\"],[0.4444444444444444,\"#bd3786\"],[0.5555555555555556,\"#d8576b\"],[0.6666666666666666,\"#ed7953\"],[0.7777777777777778,\"#fb9f3a\"],[0.8888888888888888,\"#fdca26\"],[1.0,\"#f0f921\"]],\"type\":\"contour\"}],\"heatmapgl\":[{\"colorbar\":{\"outlinewidth\":0,\"ticks\":\"\"},\"colorscale\":[[0.0,\"#0d0887\"],[0.1111111111111111,\"#46039f\"],[0.2222222222222222,\"#7201a8\"],[0.3333333333333333,\"#9c179e\"],[0.4444444444444444,\"#bd3786\"],[0.5555555555555556,\"#d8576b\"],[0.6666666666666666,\"#ed7953\"],[0.7777777777777778,\"#fb9f3a\"],[0.8888888888888888,\"#fdca26\"],[1.0,\"#f0f921\"]],\"type\":\"heatmapgl\"}],\"heatmap\":[{\"colorbar\":{\"outlinewidth\":0,\"ticks\":\"\"},\"colorscale\":[[0.0,\"#0d0887\"],[0.1111111111111111,\"#46039f\"],[0.2222222222222222,\"#7201a8\"],[0.3333333333333333,\"#9c179e\"],[0.4444444444444444,\"#bd3786\"],[0.5555555555555556,\"#d8576b\"],[0.6666666666666666,\"#ed7953\"],[0.7777777777777778,\"#fb9f3a\"],[0.8888888888888888,\"#fdca26\"],[1.0,\"#f0f921\"]],\"type\":\"heatmap\"}],\"histogram2dcontour\":[{\"colorbar\":{\"outlinewidth\":0,\"ticks\":\"\"},\"colorscale\":[[0.0,\"#0d0887\"],[0.1111111111111111,\"#46039f\"],[0.2222222222222222,\"#7201a8\"],[0.3333333333333333,\"#9c179e\"],[0.4444444444444444,\"#bd3786\"],[0.5555555555555556,\"#d8576b\"],[0.6666666666666666,\"#ed7953\"],[0.7777777777777778,\"#fb9f3a\"],[0.8888888888888888,\"#fdca26\"],[1.0,\"#f0f921\"]],\"type\":\"histogram2dcontour\"}],\"histogram2d\":[{\"colorbar\":{\"outlinewidth\":0,\"ticks\":\"\"},\"colorscale\":[[0.0,\"#0d0887\"],[0.1111111111111111,\"#46039f\"],[0.2222222222222222,\"#7201a8\"],[0.3333333333333333,\"#9c179e\"],[0.4444444444444444,\"#bd3786\"],[0.5555555555555556,\"#d8576b\"],[0.6666666666666666,\"#ed7953\"],[0.7777777777777778,\"#fb9f3a\"],[0.8888888888888888,\"#fdca26\"],[1.0,\"#f0f921\"]],\"type\":\"histogram2d\"}],\"histogram\":[{\"marker\":{\"pattern\":{\"fillmode\":\"overlay\",\"size\":10,\"solidity\":0.2}},\"type\":\"histogram\"}],\"mesh3d\":[{\"colorbar\":{\"outlinewidth\":0,\"ticks\":\"\"},\"type\":\"mesh3d\"}],\"parcoords\":[{\"line\":{\"colorbar\":{\"outlinewidth\":0,\"ticks\":\"\"}},\"type\":\"parcoords\"}],\"pie\":[{\"automargin\":true,\"type\":\"pie\"}],\"scatter3d\":[{\"line\":{\"colorbar\":{\"outlinewidth\":0,\"ticks\":\"\"}},\"marker\":{\"colorbar\":{\"outlinewidth\":0,\"ticks\":\"\"}},\"type\":\"scatter3d\"}],\"scattercarpet\":[{\"marker\":{\"colorbar\":{\"outlinewidth\":0,\"ticks\":\"\"}},\"type\":\"scattercarpet\"}],\"scattergeo\":[{\"marker\":{\"colorbar\":{\"outlinewidth\":0,\"ticks\":\"\"}},\"type\":\"scattergeo\"}],\"scattergl\":[{\"marker\":{\"colorbar\":{\"outlinewidth\":0,\"ticks\":\"\"}},\"type\":\"scattergl\"}],\"scattermapbox\":[{\"marker\":{\"colorbar\":{\"outlinewidth\":0,\"ticks\":\"\"}},\"type\":\"scattermapbox\"}],\"scatterpolargl\":[{\"marker\":{\"colorbar\":{\"outlinewidth\":0,\"ticks\":\"\"}},\"type\":\"scatterpolargl\"}],\"scatterpolar\":[{\"marker\":{\"colorbar\":{\"outlinewidth\":0,\"ticks\":\"\"}},\"type\":\"scatterpolar\"}],\"scatter\":[{\"fillpattern\":{\"fillmode\":\"overlay\",\"size\":10,\"solidity\":0.2},\"type\":\"scatter\"}],\"scatterternary\":[{\"marker\":{\"colorbar\":{\"outlinewidth\":0,\"ticks\":\"\"}},\"type\":\"scatterternary\"}],\"surface\":[{\"colorbar\":{\"outlinewidth\":0,\"ticks\":\"\"},\"colorscale\":[[0.0,\"#0d0887\"],[0.1111111111111111,\"#46039f\"],[0.2222222222222222,\"#7201a8\"],[0.3333333333333333,\"#9c179e\"],[0.4444444444444444,\"#bd3786\"],[0.5555555555555556,\"#d8576b\"],[0.6666666666666666,\"#ed7953\"],[0.7777777777777778,\"#fb9f3a\"],[0.8888888888888888,\"#fdca26\"],[1.0,\"#f0f921\"]],\"type\":\"surface\"}],\"table\":[{\"cells\":{\"fill\":{\"color\":\"#EBF0F8\"},\"line\":{\"color\":\"white\"}},\"header\":{\"fill\":{\"color\":\"#C8D4E3\"},\"line\":{\"color\":\"white\"}},\"type\":\"table\"}]},\"layout\":{\"annotationdefaults\":{\"arrowcolor\":\"#2a3f5f\",\"arrowhead\":0,\"arrowwidth\":1},\"autotypenumbers\":\"strict\",\"coloraxis\":{\"colorbar\":{\"outlinewidth\":0,\"ticks\":\"\"}},\"colorscale\":{\"diverging\":[[0,\"#8e0152\"],[0.1,\"#c51b7d\"],[0.2,\"#de77ae\"],[0.3,\"#f1b6da\"],[0.4,\"#fde0ef\"],[0.5,\"#f7f7f7\"],[0.6,\"#e6f5d0\"],[0.7,\"#b8e186\"],[0.8,\"#7fbc41\"],[0.9,\"#4d9221\"],[1,\"#276419\"]],\"sequential\":[[0.0,\"#0d0887\"],[0.1111111111111111,\"#46039f\"],[0.2222222222222222,\"#7201a8\"],[0.3333333333333333,\"#9c179e\"],[0.4444444444444444,\"#bd3786\"],[0.5555555555555556,\"#d8576b\"],[0.6666666666666666,\"#ed7953\"],[0.7777777777777778,\"#fb9f3a\"],[0.8888888888888888,\"#fdca26\"],[1.0,\"#f0f921\"]],\"sequentialminus\":[[0.0,\"#0d0887\"],[0.1111111111111111,\"#46039f\"],[0.2222222222222222,\"#7201a8\"],[0.3333333333333333,\"#9c179e\"],[0.4444444444444444,\"#bd3786\"],[0.5555555555555556,\"#d8576b\"],[0.6666666666666666,\"#ed7953\"],[0.7777777777777778,\"#fb9f3a\"],[0.8888888888888888,\"#fdca26\"],[1.0,\"#f0f921\"]]},\"colorway\":[\"#636efa\",\"#EF553B\",\"#00cc96\",\"#ab63fa\",\"#FFA15A\",\"#19d3f3\",\"#FF6692\",\"#B6E880\",\"#FF97FF\",\"#FECB52\"],\"font\":{\"color\":\"#2a3f5f\"},\"geo\":{\"bgcolor\":\"white\",\"lakecolor\":\"white\",\"landcolor\":\"white\",\"showlakes\":true,\"showland\":true,\"subunitcolor\":\"#C8D4E3\"},\"hoverlabel\":{\"align\":\"left\"},\"hovermode\":\"closest\",\"mapbox\":{\"style\":\"light\"},\"paper_bgcolor\":\"white\",\"plot_bgcolor\":\"white\",\"polar\":{\"angularaxis\":{\"gridcolor\":\"#EBF0F8\",\"linecolor\":\"#EBF0F8\",\"ticks\":\"\"},\"bgcolor\":\"white\",\"radialaxis\":{\"gridcolor\":\"#EBF0F8\",\"linecolor\":\"#EBF0F8\",\"ticks\":\"\"}},\"scene\":{\"xaxis\":{\"backgroundcolor\":\"white\",\"gridcolor\":\"#DFE8F3\",\"gridwidth\":2,\"linecolor\":\"#EBF0F8\",\"showbackground\":true,\"ticks\":\"\",\"zerolinecolor\":\"#EBF0F8\"},\"yaxis\":{\"backgroundcolor\":\"white\",\"gridcolor\":\"#DFE8F3\",\"gridwidth\":2,\"linecolor\":\"#EBF0F8\",\"showbackground\":true,\"ticks\":\"\",\"zerolinecolor\":\"#EBF0F8\"},\"zaxis\":{\"backgroundcolor\":\"white\",\"gridcolor\":\"#DFE8F3\",\"gridwidth\":2,\"linecolor\":\"#EBF0F8\",\"showbackground\":true,\"ticks\":\"\",\"zerolinecolor\":\"#EBF0F8\"}},\"shapedefaults\":{\"line\":{\"color\":\"#2a3f5f\"}},\"ternary\":{\"aaxis\":{\"gridcolor\":\"#DFE8F3\",\"linecolor\":\"#A2B1C6\",\"ticks\":\"\"},\"baxis\":{\"gridcolor\":\"#DFE8F3\",\"linecolor\":\"#A2B1C6\",\"ticks\":\"\"},\"bgcolor\":\"white\",\"caxis\":{\"gridcolor\":\"#DFE8F3\",\"linecolor\":\"#A2B1C6\",\"ticks\":\"\"}},\"title\":{\"x\":0.05},\"xaxis\":{\"automargin\":true,\"gridcolor\":\"#EBF0F8\",\"linecolor\":\"#EBF0F8\",\"ticks\":\"\",\"title\":{\"standoff\":15},\"zerolinecolor\":\"#EBF0F8\",\"zerolinewidth\":2},\"yaxis\":{\"automargin\":true,\"gridcolor\":\"#EBF0F8\",\"linecolor\":\"#EBF0F8\",\"ticks\":\"\",\"title\":{\"standoff\":15},\"zerolinecolor\":\"#EBF0F8\",\"zerolinewidth\":2}}},\"xaxis\":{\"anchor\":\"y\",\"domain\":[0.0,1.0],\"title\":{\"text\":\"V_measure\"}},\"yaxis\":{\"anchor\":\"x\",\"domain\":[0.0,1.0],\"title\":{\"text\":\"F1\"}},\"legend\":{\"title\":{\"text\":\"Type\"},\"tracegroupgap\":0},\"title\":{\"text\":\"Scores for each word\"}},                        {\"responsive\": true}                    ).then(function(){\n                            \nvar gd = document.getElementById('1228fc30-c81f-425c-8e41-ff1651c773d6');\nvar x = new MutationObserver(function (mutations, observer) {{\n        var display = window.getComputedStyle(gd).display;\n        if (!display || display === 'none') {{\n            console.log([gd, 'removed!']);\n            Plotly.purge(gd);\n            observer.disconnect();\n        }}\n}});\n\n// Listen for the removal of the full notebook cells\nvar notebookContainer = gd.closest('#notebook-container');\nif (notebookContainer) {{\n    x.observe(notebookContainer, {childList: true});\n}}\n\n// Listen for the clearing of the current output cell\nvar outputEl = gd.closest('.output');\nif (outputEl) {{\n    x.observe(outputEl, {childList: true});\n}}\n\n                        })                };                });            </script>        </div>"
     },
     "metadata": {},
     "output_type": "display_data"
    }
   ],
   "source": [
    "fig_zegt_weinig = px.scatter(df_BIC, x=\"Weighted\", y=\"Overall\", text=df_BIC.index, color=\"Type\", title=\"Scores for each word, op een manier die weinig zegt eigenlijk\",template=\"plotly_white\")\n",
    "fig_zegt_weinig.show()\n",
    "fig_zegt_weinig = px.scatter(df_BIC, x=\"Weighted\", y=\"Overall\", text=df_BIC.index, color=\"Type\", title=\"Scores for each word, op een manier die weinig zegt eigenlijk\",template=\"plotly_white\")\n",
    "fig = px.scatter(df_BIC, x=\"V_measure\", y=\"F1\", text=df_BIC.index, color=\"Type\", title=\"Scores for each word\",template=\"plotly_white\")\n",
    "fig.show()"
   ],
   "metadata": {
    "collapsed": false,
    "ExecuteTime": {
     "end_time": "2024-05-17T21:48:43.176687Z",
     "start_time": "2024-05-17T21:48:43.000911Z"
    }
   },
   "id": "33cd781c855816ec",
   "execution_count": 46
  },
  {
   "cell_type": "code",
   "outputs": [
    {
     "name": "stdout",
     "output_type": "stream",
     "text": [
      "Avocat\n",
      "Number of senses: 2\n",
      "Number of clusters: 4\n",
      "2 too many clusters\n",
      "Bien\n",
      "Number of senses: 3\n",
      "Number of clusters: 3\n",
      "Correct number of clusters\n",
      "Bureau\n",
      "Number of senses: 3\n",
      "Number of clusters: 3\n",
      "Correct number of clusters\n",
      "Faculté\n",
      "Number of senses: 3\n",
      "Number of clusters: 3\n",
      "Correct number of clusters\n",
      "Filer\n",
      "Number of senses: 3\n",
      "Number of clusters: 3\n",
      "Correct number of clusters\n",
      "Glace\n",
      "Number of senses: 5\n",
      "Number of clusters: 4\n",
      "1 too few clusters\n",
      "Souris\n",
      "Number of senses: 3\n",
      "Number of clusters: 3\n",
      "Correct number of clusters\n",
      "Supporter\n",
      "Number of senses: 3\n",
      "Number of clusters: 3\n",
      "Correct number of clusters\n",
      "Tirer\n",
      "Number of senses: 2\n",
      "Number of clusters: 3\n",
      "1 too many clusters\n",
      "Tour\n",
      "Number of senses: 5\n",
      "Number of clusters: 3\n",
      "2 too few clusters\n",
      "Vol\n",
      "Number of senses: 2\n",
      "Number of clusters: 3\n",
      "1 too many clusters\n",
      "Correct: ['Bien', 'Bureau', 'Faculté', 'Filer', 'Souris', 'Supporter']\n",
      "Close: ['Glace', 'Tirer', 'Vol']\n",
      "Incorrect: ['Avocat', 'Tour']\n",
      "Percentage approach: 0.8181818181818182\n"
     ]
    }
   ],
   "source": [
    "correct = []\n",
    "close = [] # One cluster off, often the result of different granularity. Is it ok to report like this or do we have to be more strict?\n",
    "incorrect = []\n",
    "differences_BIC = {}\n",
    "for filename in os.listdir(f\"{model_name}/Experiment_3/Curated/\"):\n",
    "    if filename.endswith(\"csv\"):\n",
    "        df = pd.read_csv(f\"{model_name}/Experiment_3/Curated/\" + filename, sep=\";\", encoding=\"utf-8\", header=0)\n",
    "        target_word = df[\"source\"][1]\n",
    "        print(target_word)\n",
    "        # We count the number of different senses\n",
    "        senses = len(df[\"sense\"].unique())\n",
    "        # We count the number of clusters\n",
    "        clusters = len(df[\"BIC_cluster_sub\"].unique())\n",
    "        print(\"Number of senses:\", senses)\n",
    "        print(\"Number of clusters:\", clusters)\n",
    "        if senses == clusters:\n",
    "            print(\"Correct number of clusters\")\n",
    "            difference = 0\n",
    "            correct.append(target_word)\n",
    "        elif senses > clusters:\n",
    "            difference = senses - clusters\n",
    "            print(difference, \"too few clusters\")\n",
    "            if difference == 1:\n",
    "                close.append(target_word)\n",
    "            else:\n",
    "                incorrect.append(target_word)\n",
    "            difference = -difference\n",
    "        elif senses < clusters:\n",
    "            difference = clusters - senses\n",
    "            print(difference, \"too many clusters\")\n",
    "            if difference == 1:\n",
    "                close.append(target_word)\n",
    "            else:\n",
    "                incorrect.append(target_word)\n",
    "                \n",
    "        differences_BIC[target_word] = difference\n",
    "        # We calculate the score\n",
    "        #print(\"Score:\", score)\n",
    "        #scores[target_word] = score\n",
    "\n",
    "print(\"Correct:\", correct)\n",
    "print(\"Close:\", close)\n",
    "print(\"Incorrect:\", incorrect)\n",
    "print(\"Percentage approach:\", (len(correct) + len(close)) / ((len(correct) + len(close) + len(incorrect))))"
   ],
   "metadata": {
    "collapsed": false,
    "ExecuteTime": {
     "end_time": "2024-05-17T21:48:43.837736Z",
     "start_time": "2024-05-17T21:48:43.805737Z"
    }
   },
   "id": "a5d4593f25a74aa1",
   "execution_count": 47
  },
  {
   "cell_type": "code",
   "outputs": [],
   "source": [
    "# We add a \"difference\" column to the dataframe\n",
    "df_with_average_BIC[\"Cluster_Estimation\"] = [differences_BIC[word] if word in differences_BIC else \"\" for word in df_with_average_BIC.index]"
   ],
   "metadata": {
    "collapsed": false,
    "ExecuteTime": {
     "end_time": "2024-05-17T21:48:44.714598Z",
     "start_time": "2024-05-17T21:48:44.709867Z"
    }
   },
   "id": "43ee30f536d9dfc",
   "execution_count": 48
  },
  {
   "cell_type": "code",
   "outputs": [],
   "source": [
    "# We save these dataframes to a csv file\n",
    "if not os.path.exists(f\"Results/Experiment_3/Curated/BIC/\"):\n",
    "    os.makedirs(f\"Results/Experiment_3/Curated/BIC/\")\n",
    "df_with_average_BIC.to_csv(f\"Results/Experiment_3/Curated/BIC/{model_name}_scores.csv\", sep=\";\", encoding=\"utf-8\")\n",
    "fig.write_html(f\"Results/Experiment_3/Curated/BIC/{model_name}_scores.html\")\n",
    "df_all_in_one_BIC.to_csv(f\"Results/Experiment_3/Curated/BIC/all_in_one_scores.csv\", sep=\";\", encoding=\"utf-8\")"
   ],
   "metadata": {
    "collapsed": false,
    "ExecuteTime": {
     "end_time": "2024-05-17T21:48:45.367529Z",
     "start_time": "2024-05-17T21:48:45.320440Z"
    }
   },
   "id": "7b4b76aaecbc8e0a",
   "execution_count": 49
  },
  {
   "cell_type": "markdown",
   "source": [
    "# Comparing the Models"
   ],
   "metadata": {
    "collapsed": false
   },
   "id": "87ea861e7fa8b754"
  },
  {
   "cell_type": "code",
   "outputs": [],
   "source": [
    "Methods = [\"BIC\", \"AGG\"]\n",
    "Method = Methods[0]"
   ],
   "metadata": {
    "collapsed": false,
    "ExecuteTime": {
     "end_time": "2024-05-17T21:48:46.503039Z",
     "start_time": "2024-05-17T21:48:46.499325Z"
    }
   },
   "id": "ab2ac1c73ac276a",
   "execution_count": 50
  },
  {
   "cell_type": "code",
   "outputs": [],
   "source": [
    "# We load in both dataframes in the \"Results\" folder\n",
    "df_camembert = pd.read_csv(f\"Results/Experiment_3/Curated/{Method}/Camembert_scores.csv\", sep=\";\", encoding=\"utf-8\", index_col=0)\n",
    "df_flaubert = pd.read_csv(f\"Results/Experiment_3/Curated/{Method}/Flaubert_scores.csv\", sep=\";\", encoding=\"utf-8\", index_col=0)\n",
    "\n",
    "# We add a column to both dataframes to indicate the model\n",
    "df_camembert[\"Model\"] = \"Camembert\"\n",
    "df_flaubert[\"Model\"] = \"Flaubert\"\n",
    "\n",
    "# We concatenate both dataframes\n",
    "df = pd.concat([df_camembert, df_flaubert])"
   ],
   "metadata": {
    "collapsed": false,
    "ExecuteTime": {
     "end_time": "2024-05-17T21:48:47.090477Z",
     "start_time": "2024-05-17T21:48:47.080804Z"
    }
   },
   "id": "b745d15d0368c613",
   "execution_count": 51
  },
  {
   "cell_type": "code",
   "outputs": [],
   "source": [
    "# We split the dataframe into two separate dataframes\n",
    "df_weighted = df[[\"Weighted\", \"Model\"]]\n",
    "df_overall = df[[\"Overall\", \"Model\"]]\n",
    "df_v_measure = df[[\"V_measure\", \"Model\"]]\n",
    "df_rand = df[[\"Rand\", \"Model\"]]\n",
    "df_f1 = df[[\"F1\", \"Model\"]]"
   ],
   "metadata": {
    "collapsed": false,
    "ExecuteTime": {
     "end_time": "2024-05-17T21:48:48.009149Z",
     "start_time": "2024-05-17T21:48:47.998946Z"
    }
   },
   "id": "7797faedeaa8d85f",
   "execution_count": 52
  },
  {
   "cell_type": "code",
   "outputs": [],
   "source": [
    "# We transform the dataframes:\n",
    "# - We make two columns, one for each model\n",
    "# - We regroup the instances of the same word (index) in one row\n",
    "df_weighted = df_weighted.pivot(columns=\"Model\")\n",
    "df_overall = df_overall.pivot(columns=\"Model\")\n",
    "df_v_measure = df_v_measure.pivot(columns=\"Model\")\n",
    "df_rand = df_rand.pivot(columns=\"Model\")\n",
    "df_f1 = df_f1.pivot(columns=\"Model\")"
   ],
   "metadata": {
    "collapsed": false,
    "ExecuteTime": {
     "end_time": "2024-05-17T21:48:48.624091Z",
     "start_time": "2024-05-17T21:48:48.607032Z"
    }
   },
   "id": "528f8ddae5fac988",
   "execution_count": 53
  },
  {
   "cell_type": "code",
   "outputs": [],
   "source": [
    "# We save this dataframe to a csv file and to excel\n",
    "df_weighted.to_csv(f\"Results/Experiment_3/Curated/{Method}/weighted_scores.csv\", sep=\";\", encoding=\"utf-8\")\n",
    "df_overall.to_csv(f\"Results/Experiment_3/Curated/{Method}/overall_scores.csv\", sep=\";\", encoding=\"utf-8\")\n",
    "df_v_measure.to_csv(f\"Results/Experiment_3/Curated/{Method}/v_measure_scores.csv\", sep=\";\", encoding=\"utf-8\")\n",
    "df_rand.to_csv(f\"Results/Experiment_3/Curated/{Method}/rand_scores.csv\", sep=\";\", encoding=\"utf-8\")\n",
    "df_f1.to_csv(f\"Results/Experiment_3/Curated/{Method}/F1_scores.csv\", sep=\";\", encoding=\"utf-8\")\n",
    "\n",
    "df_weighted.to_excel(f\"Results/Experiment_3/Curated/{Method}/weighted_scores.xlsx\")\n",
    "df_overall.to_excel(f\"Results/Experiment_3/Curated/{Method}/overall_scores.xlsx\")\n",
    "df_v_measure.to_excel(f\"Results/Experiment_3/Curated/{Method}/v_measure_scores.xlsx\")\n",
    "df_rand.to_excel(f\"Results/Experiment_3/Curated/{Method}/rand_scores.xlsx\")\n",
    "df_f1.to_excel(f\"Results/Experiment_3/Curated/{Method}/F1_scores.xlsx\")\n"
   ],
   "metadata": {
    "collapsed": false,
    "ExecuteTime": {
     "end_time": "2024-05-17T21:48:49.163323Z",
     "start_time": "2024-05-17T21:48:49.064172Z"
    }
   },
   "id": "beba4c7d95170e1b",
   "execution_count": 54
  },
  {
   "cell_type": "code",
   "outputs": [],
   "source": [
    "# using openpyxl, we open the Results/weighted_scores.xlsx file\n",
    "# we put the highest value of each row in bold\n",
    "wb = openpyxl.load_workbook(f\"Results/Experiment_3/Curated/{Method}/weighted_scores.xlsx\")\n",
    "ws = wb.active\n",
    "for row in ws.iter_rows(min_row=4, max_row=ws.max_row, min_col=2, max_col=3):\n",
    "    max_value = max([cell.value for cell in row])\n",
    "    for cell in row:\n",
    "        if cell.value == max_value:\n",
    "            cell.font = openpyxl.styles.Font(bold=True)\n",
    "wb.save(f\"Results/Experiment_3/Curated/{Method}/weighted_scores.xlsx\")\n",
    "\n",
    "# We do the same for the overall scores\n",
    "wb = openpyxl.load_workbook(f\"Results/Experiment_3/Curated/{Method}/overall_scores.xlsx\")\n",
    "ws = wb.active\n",
    "for row in ws.iter_rows(min_row=4, max_row=ws.max_row, min_col=2, max_col=3):\n",
    "    max_value = max([cell.value for cell in row])\n",
    "    for cell in row:\n",
    "        if cell.value == max_value:\n",
    "            cell.font = openpyxl.styles.Font(bold=True)\n",
    "wb.save(f\"Results/Experiment_3/Curated/{Method}/overall_scores.xlsx\")\n",
    "\n",
    "# We do the same for the v measure scores\n",
    "wb = openpyxl.load_workbook(f\"Results/Experiment_3/Curated/{Method}/v_measure_scores.xlsx\")\n",
    "ws = wb.active\n",
    "for row in ws.iter_rows(min_row=4, max_row=ws.max_row, min_col=2, max_col=3):\n",
    "    max_value = max([cell.value for cell in row])\n",
    "    for cell in row:\n",
    "        if cell.value == max_value:\n",
    "            cell.font = openpyxl.styles.Font(bold=True)\n",
    "wb.save(f\"Results/Experiment_3/Curated/{Method}/v_measure_scores.xlsx\")\n",
    "\n",
    "# And for Rand scores\n",
    "wb = openpyxl.load_workbook(f\"Results/Experiment_3/Curated/{Method}/rand_scores.xlsx\")\n",
    "ws = wb.active\n",
    "for row in ws.iter_rows(min_row=4, max_row=ws.max_row, min_col=2, max_col=3):\n",
    "    max_value = max([cell.value for cell in row])\n",
    "    for cell in row:\n",
    "        if cell.value == max_value:\n",
    "            cell.font = openpyxl.styles.Font(bold=True)\n",
    "wb.save(f\"Results/Experiment_3/Curated/{Method}/rand_scores.xlsx\")\n",
    "\n",
    "# and the same for f1 scores\n",
    "\n",
    "# We do the same for the overall scores\n",
    "wb = openpyxl.load_workbook(f\"Results/Experiment_3/Curated/{Method}/F1_scores.xlsx\")\n",
    "ws = wb.active\n",
    "for row in ws.iter_rows(min_row=4, max_row=ws.max_row, min_col=2, max_col=3):\n",
    "    max_value = max([cell.value for cell in row])\n",
    "    for cell in row:\n",
    "        if cell.value == max_value:\n",
    "            cell.font = openpyxl.styles.Font(bold=True)\n",
    "wb.save(f\"Results/Experiment_3/Curated/{Method}/F1_scores.xlsx\")"
   ],
   "metadata": {
    "collapsed": false,
    "ExecuteTime": {
     "end_time": "2024-05-17T21:48:49.803270Z",
     "start_time": "2024-05-17T21:48:49.701157Z"
    }
   },
   "id": "9717e412193e2974",
   "execution_count": 55
  },
  {
   "cell_type": "code",
   "outputs": [],
   "source": [
    "df.to_csv(f\"Results/Experiment_3/Curated/{Method}/results.csv\", sep=\";\", encoding=\"utf-8\")"
   ],
   "metadata": {
    "collapsed": false,
    "ExecuteTime": {
     "end_time": "2024-05-17T21:48:51.962501Z",
     "start_time": "2024-05-17T21:48:51.955092Z"
    }
   },
   "id": "a7796fa72130a8ee",
   "execution_count": 56
  },
  {
   "cell_type": "code",
   "outputs": [
    {
     "data": {
      "application/vnd.plotly.v1+json": {
       "data": [
        {
         "alignmentgroup": "True",
         "hovertemplate": "Model=%{x}<br>Weighted=%{y}<extra></extra>",
         "legendgroup": "Camembert",
         "marker": {
          "color": "#636efa"
         },
         "name": "Camembert",
         "notched": false,
         "offsetgroup": "Camembert",
         "orientation": "v",
         "showlegend": true,
         "x": [
          "Camembert",
          "Camembert",
          "Camembert",
          "Camembert",
          "Camembert",
          "Camembert",
          "Camembert",
          "Camembert",
          "Camembert",
          "Camembert",
          "Camembert",
          "Camembert",
          "Camembert",
          "Camembert"
         ],
         "x0": " ",
         "xaxis": "x",
         "y": [
          0.6607142857142857,
          0.6049730236922355,
          0.8026455026455026,
          0.7785714285714286,
          0.9833333333333334,
          0.7134492249746487,
          0.5185185185185185,
          0.815873015873016,
          0.7806306306306307,
          0.4857142857142857,
          0.75,
          0.6643232837288631,
          0.8599456599456601,
          0.7176748408788987
         ],
         "y0": " ",
         "yaxis": "y",
         "type": "box"
        },
        {
         "alignmentgroup": "True",
         "hovertemplate": "Model=%{x}<br>Weighted=%{y}<extra></extra>",
         "legendgroup": "Flaubert",
         "marker": {
          "color": "#EF553B"
         },
         "name": "Flaubert",
         "notched": false,
         "offsetgroup": "Flaubert",
         "orientation": "v",
         "showlegend": true,
         "x": [
          "Flaubert",
          "Flaubert",
          "Flaubert",
          "Flaubert",
          "Flaubert",
          "Flaubert",
          "Flaubert",
          "Flaubert",
          "Flaubert",
          "Flaubert",
          "Flaubert",
          "Flaubert",
          "Flaubert",
          "Flaubert"
         ],
         "x0": " ",
         "xaxis": "x",
         "y": [
          0.6607142857142857,
          0.4515951208069435,
          0.3881834215167548,
          0.640990990990991,
          0.4849596478356566,
          0.2420599739243807,
          0.3847072879330944,
          0.2571428571428571,
          0.6247747747747747,
          0.3154761904761904,
          0.6266666666666667,
          0.4637992422536634,
          0.4556257599177628,
          0.4615701107075087
         ],
         "y0": " ",
         "yaxis": "y",
         "type": "box"
        }
       ],
       "layout": {
        "template": {
         "data": {
          "barpolar": [
           {
            "marker": {
             "line": {
              "color": "white",
              "width": 0.5
             },
             "pattern": {
              "fillmode": "overlay",
              "size": 10,
              "solidity": 0.2
             }
            },
            "type": "barpolar"
           }
          ],
          "bar": [
           {
            "error_x": {
             "color": "#2a3f5f"
            },
            "error_y": {
             "color": "#2a3f5f"
            },
            "marker": {
             "line": {
              "color": "white",
              "width": 0.5
             },
             "pattern": {
              "fillmode": "overlay",
              "size": 10,
              "solidity": 0.2
             }
            },
            "type": "bar"
           }
          ],
          "carpet": [
           {
            "aaxis": {
             "endlinecolor": "#2a3f5f",
             "gridcolor": "#C8D4E3",
             "linecolor": "#C8D4E3",
             "minorgridcolor": "#C8D4E3",
             "startlinecolor": "#2a3f5f"
            },
            "baxis": {
             "endlinecolor": "#2a3f5f",
             "gridcolor": "#C8D4E3",
             "linecolor": "#C8D4E3",
             "minorgridcolor": "#C8D4E3",
             "startlinecolor": "#2a3f5f"
            },
            "type": "carpet"
           }
          ],
          "choropleth": [
           {
            "colorbar": {
             "outlinewidth": 0,
             "ticks": ""
            },
            "type": "choropleth"
           }
          ],
          "contourcarpet": [
           {
            "colorbar": {
             "outlinewidth": 0,
             "ticks": ""
            },
            "type": "contourcarpet"
           }
          ],
          "contour": [
           {
            "colorbar": {
             "outlinewidth": 0,
             "ticks": ""
            },
            "colorscale": [
             [
              0.0,
              "#0d0887"
             ],
             [
              0.1111111111111111,
              "#46039f"
             ],
             [
              0.2222222222222222,
              "#7201a8"
             ],
             [
              0.3333333333333333,
              "#9c179e"
             ],
             [
              0.4444444444444444,
              "#bd3786"
             ],
             [
              0.5555555555555556,
              "#d8576b"
             ],
             [
              0.6666666666666666,
              "#ed7953"
             ],
             [
              0.7777777777777778,
              "#fb9f3a"
             ],
             [
              0.8888888888888888,
              "#fdca26"
             ],
             [
              1.0,
              "#f0f921"
             ]
            ],
            "type": "contour"
           }
          ],
          "heatmapgl": [
           {
            "colorbar": {
             "outlinewidth": 0,
             "ticks": ""
            },
            "colorscale": [
             [
              0.0,
              "#0d0887"
             ],
             [
              0.1111111111111111,
              "#46039f"
             ],
             [
              0.2222222222222222,
              "#7201a8"
             ],
             [
              0.3333333333333333,
              "#9c179e"
             ],
             [
              0.4444444444444444,
              "#bd3786"
             ],
             [
              0.5555555555555556,
              "#d8576b"
             ],
             [
              0.6666666666666666,
              "#ed7953"
             ],
             [
              0.7777777777777778,
              "#fb9f3a"
             ],
             [
              0.8888888888888888,
              "#fdca26"
             ],
             [
              1.0,
              "#f0f921"
             ]
            ],
            "type": "heatmapgl"
           }
          ],
          "heatmap": [
           {
            "colorbar": {
             "outlinewidth": 0,
             "ticks": ""
            },
            "colorscale": [
             [
              0.0,
              "#0d0887"
             ],
             [
              0.1111111111111111,
              "#46039f"
             ],
             [
              0.2222222222222222,
              "#7201a8"
             ],
             [
              0.3333333333333333,
              "#9c179e"
             ],
             [
              0.4444444444444444,
              "#bd3786"
             ],
             [
              0.5555555555555556,
              "#d8576b"
             ],
             [
              0.6666666666666666,
              "#ed7953"
             ],
             [
              0.7777777777777778,
              "#fb9f3a"
             ],
             [
              0.8888888888888888,
              "#fdca26"
             ],
             [
              1.0,
              "#f0f921"
             ]
            ],
            "type": "heatmap"
           }
          ],
          "histogram2dcontour": [
           {
            "colorbar": {
             "outlinewidth": 0,
             "ticks": ""
            },
            "colorscale": [
             [
              0.0,
              "#0d0887"
             ],
             [
              0.1111111111111111,
              "#46039f"
             ],
             [
              0.2222222222222222,
              "#7201a8"
             ],
             [
              0.3333333333333333,
              "#9c179e"
             ],
             [
              0.4444444444444444,
              "#bd3786"
             ],
             [
              0.5555555555555556,
              "#d8576b"
             ],
             [
              0.6666666666666666,
              "#ed7953"
             ],
             [
              0.7777777777777778,
              "#fb9f3a"
             ],
             [
              0.8888888888888888,
              "#fdca26"
             ],
             [
              1.0,
              "#f0f921"
             ]
            ],
            "type": "histogram2dcontour"
           }
          ],
          "histogram2d": [
           {
            "colorbar": {
             "outlinewidth": 0,
             "ticks": ""
            },
            "colorscale": [
             [
              0.0,
              "#0d0887"
             ],
             [
              0.1111111111111111,
              "#46039f"
             ],
             [
              0.2222222222222222,
              "#7201a8"
             ],
             [
              0.3333333333333333,
              "#9c179e"
             ],
             [
              0.4444444444444444,
              "#bd3786"
             ],
             [
              0.5555555555555556,
              "#d8576b"
             ],
             [
              0.6666666666666666,
              "#ed7953"
             ],
             [
              0.7777777777777778,
              "#fb9f3a"
             ],
             [
              0.8888888888888888,
              "#fdca26"
             ],
             [
              1.0,
              "#f0f921"
             ]
            ],
            "type": "histogram2d"
           }
          ],
          "histogram": [
           {
            "marker": {
             "pattern": {
              "fillmode": "overlay",
              "size": 10,
              "solidity": 0.2
             }
            },
            "type": "histogram"
           }
          ],
          "mesh3d": [
           {
            "colorbar": {
             "outlinewidth": 0,
             "ticks": ""
            },
            "type": "mesh3d"
           }
          ],
          "parcoords": [
           {
            "line": {
             "colorbar": {
              "outlinewidth": 0,
              "ticks": ""
             }
            },
            "type": "parcoords"
           }
          ],
          "pie": [
           {
            "automargin": true,
            "type": "pie"
           }
          ],
          "scatter3d": [
           {
            "line": {
             "colorbar": {
              "outlinewidth": 0,
              "ticks": ""
             }
            },
            "marker": {
             "colorbar": {
              "outlinewidth": 0,
              "ticks": ""
             }
            },
            "type": "scatter3d"
           }
          ],
          "scattercarpet": [
           {
            "marker": {
             "colorbar": {
              "outlinewidth": 0,
              "ticks": ""
             }
            },
            "type": "scattercarpet"
           }
          ],
          "scattergeo": [
           {
            "marker": {
             "colorbar": {
              "outlinewidth": 0,
              "ticks": ""
             }
            },
            "type": "scattergeo"
           }
          ],
          "scattergl": [
           {
            "marker": {
             "colorbar": {
              "outlinewidth": 0,
              "ticks": ""
             }
            },
            "type": "scattergl"
           }
          ],
          "scattermapbox": [
           {
            "marker": {
             "colorbar": {
              "outlinewidth": 0,
              "ticks": ""
             }
            },
            "type": "scattermapbox"
           }
          ],
          "scatterpolargl": [
           {
            "marker": {
             "colorbar": {
              "outlinewidth": 0,
              "ticks": ""
             }
            },
            "type": "scatterpolargl"
           }
          ],
          "scatterpolar": [
           {
            "marker": {
             "colorbar": {
              "outlinewidth": 0,
              "ticks": ""
             }
            },
            "type": "scatterpolar"
           }
          ],
          "scatter": [
           {
            "fillpattern": {
             "fillmode": "overlay",
             "size": 10,
             "solidity": 0.2
            },
            "type": "scatter"
           }
          ],
          "scatterternary": [
           {
            "marker": {
             "colorbar": {
              "outlinewidth": 0,
              "ticks": ""
             }
            },
            "type": "scatterternary"
           }
          ],
          "surface": [
           {
            "colorbar": {
             "outlinewidth": 0,
             "ticks": ""
            },
            "colorscale": [
             [
              0.0,
              "#0d0887"
             ],
             [
              0.1111111111111111,
              "#46039f"
             ],
             [
              0.2222222222222222,
              "#7201a8"
             ],
             [
              0.3333333333333333,
              "#9c179e"
             ],
             [
              0.4444444444444444,
              "#bd3786"
             ],
             [
              0.5555555555555556,
              "#d8576b"
             ],
             [
              0.6666666666666666,
              "#ed7953"
             ],
             [
              0.7777777777777778,
              "#fb9f3a"
             ],
             [
              0.8888888888888888,
              "#fdca26"
             ],
             [
              1.0,
              "#f0f921"
             ]
            ],
            "type": "surface"
           }
          ],
          "table": [
           {
            "cells": {
             "fill": {
              "color": "#EBF0F8"
             },
             "line": {
              "color": "white"
             }
            },
            "header": {
             "fill": {
              "color": "#C8D4E3"
             },
             "line": {
              "color": "white"
             }
            },
            "type": "table"
           }
          ]
         },
         "layout": {
          "annotationdefaults": {
           "arrowcolor": "#2a3f5f",
           "arrowhead": 0,
           "arrowwidth": 1
          },
          "autotypenumbers": "strict",
          "coloraxis": {
           "colorbar": {
            "outlinewidth": 0,
            "ticks": ""
           }
          },
          "colorscale": {
           "diverging": [
            [
             0,
             "#8e0152"
            ],
            [
             0.1,
             "#c51b7d"
            ],
            [
             0.2,
             "#de77ae"
            ],
            [
             0.3,
             "#f1b6da"
            ],
            [
             0.4,
             "#fde0ef"
            ],
            [
             0.5,
             "#f7f7f7"
            ],
            [
             0.6,
             "#e6f5d0"
            ],
            [
             0.7,
             "#b8e186"
            ],
            [
             0.8,
             "#7fbc41"
            ],
            [
             0.9,
             "#4d9221"
            ],
            [
             1,
             "#276419"
            ]
           ],
           "sequential": [
            [
             0.0,
             "#0d0887"
            ],
            [
             0.1111111111111111,
             "#46039f"
            ],
            [
             0.2222222222222222,
             "#7201a8"
            ],
            [
             0.3333333333333333,
             "#9c179e"
            ],
            [
             0.4444444444444444,
             "#bd3786"
            ],
            [
             0.5555555555555556,
             "#d8576b"
            ],
            [
             0.6666666666666666,
             "#ed7953"
            ],
            [
             0.7777777777777778,
             "#fb9f3a"
            ],
            [
             0.8888888888888888,
             "#fdca26"
            ],
            [
             1.0,
             "#f0f921"
            ]
           ],
           "sequentialminus": [
            [
             0.0,
             "#0d0887"
            ],
            [
             0.1111111111111111,
             "#46039f"
            ],
            [
             0.2222222222222222,
             "#7201a8"
            ],
            [
             0.3333333333333333,
             "#9c179e"
            ],
            [
             0.4444444444444444,
             "#bd3786"
            ],
            [
             0.5555555555555556,
             "#d8576b"
            ],
            [
             0.6666666666666666,
             "#ed7953"
            ],
            [
             0.7777777777777778,
             "#fb9f3a"
            ],
            [
             0.8888888888888888,
             "#fdca26"
            ],
            [
             1.0,
             "#f0f921"
            ]
           ]
          },
          "colorway": [
           "#636efa",
           "#EF553B",
           "#00cc96",
           "#ab63fa",
           "#FFA15A",
           "#19d3f3",
           "#FF6692",
           "#B6E880",
           "#FF97FF",
           "#FECB52"
          ],
          "font": {
           "color": "#2a3f5f"
          },
          "geo": {
           "bgcolor": "white",
           "lakecolor": "white",
           "landcolor": "white",
           "showlakes": true,
           "showland": true,
           "subunitcolor": "#C8D4E3"
          },
          "hoverlabel": {
           "align": "left"
          },
          "hovermode": "closest",
          "mapbox": {
           "style": "light"
          },
          "paper_bgcolor": "white",
          "plot_bgcolor": "white",
          "polar": {
           "angularaxis": {
            "gridcolor": "#EBF0F8",
            "linecolor": "#EBF0F8",
            "ticks": ""
           },
           "bgcolor": "white",
           "radialaxis": {
            "gridcolor": "#EBF0F8",
            "linecolor": "#EBF0F8",
            "ticks": ""
           }
          },
          "scene": {
           "xaxis": {
            "backgroundcolor": "white",
            "gridcolor": "#DFE8F3",
            "gridwidth": 2,
            "linecolor": "#EBF0F8",
            "showbackground": true,
            "ticks": "",
            "zerolinecolor": "#EBF0F8"
           },
           "yaxis": {
            "backgroundcolor": "white",
            "gridcolor": "#DFE8F3",
            "gridwidth": 2,
            "linecolor": "#EBF0F8",
            "showbackground": true,
            "ticks": "",
            "zerolinecolor": "#EBF0F8"
           },
           "zaxis": {
            "backgroundcolor": "white",
            "gridcolor": "#DFE8F3",
            "gridwidth": 2,
            "linecolor": "#EBF0F8",
            "showbackground": true,
            "ticks": "",
            "zerolinecolor": "#EBF0F8"
           }
          },
          "shapedefaults": {
           "line": {
            "color": "#2a3f5f"
           }
          },
          "ternary": {
           "aaxis": {
            "gridcolor": "#DFE8F3",
            "linecolor": "#A2B1C6",
            "ticks": ""
           },
           "baxis": {
            "gridcolor": "#DFE8F3",
            "linecolor": "#A2B1C6",
            "ticks": ""
           },
           "bgcolor": "white",
           "caxis": {
            "gridcolor": "#DFE8F3",
            "linecolor": "#A2B1C6",
            "ticks": ""
           }
          },
          "title": {
           "x": 0.05
          },
          "xaxis": {
           "automargin": true,
           "gridcolor": "#EBF0F8",
           "linecolor": "#EBF0F8",
           "ticks": "",
           "title": {
            "standoff": 15
           },
           "zerolinecolor": "#EBF0F8",
           "zerolinewidth": 2
          },
          "yaxis": {
           "automargin": true,
           "gridcolor": "#EBF0F8",
           "linecolor": "#EBF0F8",
           "ticks": "",
           "title": {
            "standoff": 15
           },
           "zerolinecolor": "#EBF0F8",
           "zerolinewidth": 2
          }
         }
        },
        "xaxis": {
         "anchor": "y",
         "domain": [
          0.0,
          1.0
         ],
         "title": {
          "text": "Model"
         },
         "categoryorder": "array",
         "categoryarray": [
          "Camembert",
          "Flaubert"
         ]
        },
        "yaxis": {
         "anchor": "x",
         "domain": [
          0.0,
          1.0
         ],
         "title": {
          "text": "Weighted"
         }
        },
        "legend": {
         "title": {
          "text": "Model"
         },
         "tracegroupgap": 0
        },
        "title": {
         "text": "Weighted scores for each model"
        },
        "boxmode": "overlay",
        "showlegend": false
       },
       "config": {
        "plotlyServerURL": "https://plot.ly"
       }
      },
      "text/html": "<div>                            <div id=\"6acb39d5-2285-4add-95d7-568ff4cde14d\" class=\"plotly-graph-div\" style=\"height:525px; width:100%;\"></div>            <script type=\"text/javascript\">                require([\"plotly\"], function(Plotly) {                    window.PLOTLYENV=window.PLOTLYENV || {};                                    if (document.getElementById(\"6acb39d5-2285-4add-95d7-568ff4cde14d\")) {                    Plotly.newPlot(                        \"6acb39d5-2285-4add-95d7-568ff4cde14d\",                        [{\"alignmentgroup\":\"True\",\"hovertemplate\":\"Model=%{x}\\u003cbr\\u003eWeighted=%{y}\\u003cextra\\u003e\\u003c\\u002fextra\\u003e\",\"legendgroup\":\"Camembert\",\"marker\":{\"color\":\"#636efa\"},\"name\":\"Camembert\",\"notched\":false,\"offsetgroup\":\"Camembert\",\"orientation\":\"v\",\"showlegend\":true,\"x\":[\"Camembert\",\"Camembert\",\"Camembert\",\"Camembert\",\"Camembert\",\"Camembert\",\"Camembert\",\"Camembert\",\"Camembert\",\"Camembert\",\"Camembert\",\"Camembert\",\"Camembert\",\"Camembert\"],\"x0\":\" \",\"xaxis\":\"x\",\"y\":[0.6607142857142857,0.6049730236922355,0.8026455026455026,0.7785714285714286,0.9833333333333334,0.7134492249746487,0.5185185185185185,0.815873015873016,0.7806306306306307,0.4857142857142857,0.75,0.6643232837288631,0.8599456599456601,0.7176748408788987],\"y0\":\" \",\"yaxis\":\"y\",\"type\":\"box\"},{\"alignmentgroup\":\"True\",\"hovertemplate\":\"Model=%{x}\\u003cbr\\u003eWeighted=%{y}\\u003cextra\\u003e\\u003c\\u002fextra\\u003e\",\"legendgroup\":\"Flaubert\",\"marker\":{\"color\":\"#EF553B\"},\"name\":\"Flaubert\",\"notched\":false,\"offsetgroup\":\"Flaubert\",\"orientation\":\"v\",\"showlegend\":true,\"x\":[\"Flaubert\",\"Flaubert\",\"Flaubert\",\"Flaubert\",\"Flaubert\",\"Flaubert\",\"Flaubert\",\"Flaubert\",\"Flaubert\",\"Flaubert\",\"Flaubert\",\"Flaubert\",\"Flaubert\",\"Flaubert\"],\"x0\":\" \",\"xaxis\":\"x\",\"y\":[0.6607142857142857,0.4515951208069435,0.3881834215167548,0.640990990990991,0.4849596478356566,0.2420599739243807,0.3847072879330944,0.2571428571428571,0.6247747747747747,0.3154761904761904,0.6266666666666667,0.4637992422536634,0.4556257599177628,0.4615701107075087],\"y0\":\" \",\"yaxis\":\"y\",\"type\":\"box\"}],                        {\"template\":{\"data\":{\"barpolar\":[{\"marker\":{\"line\":{\"color\":\"white\",\"width\":0.5},\"pattern\":{\"fillmode\":\"overlay\",\"size\":10,\"solidity\":0.2}},\"type\":\"barpolar\"}],\"bar\":[{\"error_x\":{\"color\":\"#2a3f5f\"},\"error_y\":{\"color\":\"#2a3f5f\"},\"marker\":{\"line\":{\"color\":\"white\",\"width\":0.5},\"pattern\":{\"fillmode\":\"overlay\",\"size\":10,\"solidity\":0.2}},\"type\":\"bar\"}],\"carpet\":[{\"aaxis\":{\"endlinecolor\":\"#2a3f5f\",\"gridcolor\":\"#C8D4E3\",\"linecolor\":\"#C8D4E3\",\"minorgridcolor\":\"#C8D4E3\",\"startlinecolor\":\"#2a3f5f\"},\"baxis\":{\"endlinecolor\":\"#2a3f5f\",\"gridcolor\":\"#C8D4E3\",\"linecolor\":\"#C8D4E3\",\"minorgridcolor\":\"#C8D4E3\",\"startlinecolor\":\"#2a3f5f\"},\"type\":\"carpet\"}],\"choropleth\":[{\"colorbar\":{\"outlinewidth\":0,\"ticks\":\"\"},\"type\":\"choropleth\"}],\"contourcarpet\":[{\"colorbar\":{\"outlinewidth\":0,\"ticks\":\"\"},\"type\":\"contourcarpet\"}],\"contour\":[{\"colorbar\":{\"outlinewidth\":0,\"ticks\":\"\"},\"colorscale\":[[0.0,\"#0d0887\"],[0.1111111111111111,\"#46039f\"],[0.2222222222222222,\"#7201a8\"],[0.3333333333333333,\"#9c179e\"],[0.4444444444444444,\"#bd3786\"],[0.5555555555555556,\"#d8576b\"],[0.6666666666666666,\"#ed7953\"],[0.7777777777777778,\"#fb9f3a\"],[0.8888888888888888,\"#fdca26\"],[1.0,\"#f0f921\"]],\"type\":\"contour\"}],\"heatmapgl\":[{\"colorbar\":{\"outlinewidth\":0,\"ticks\":\"\"},\"colorscale\":[[0.0,\"#0d0887\"],[0.1111111111111111,\"#46039f\"],[0.2222222222222222,\"#7201a8\"],[0.3333333333333333,\"#9c179e\"],[0.4444444444444444,\"#bd3786\"],[0.5555555555555556,\"#d8576b\"],[0.6666666666666666,\"#ed7953\"],[0.7777777777777778,\"#fb9f3a\"],[0.8888888888888888,\"#fdca26\"],[1.0,\"#f0f921\"]],\"type\":\"heatmapgl\"}],\"heatmap\":[{\"colorbar\":{\"outlinewidth\":0,\"ticks\":\"\"},\"colorscale\":[[0.0,\"#0d0887\"],[0.1111111111111111,\"#46039f\"],[0.2222222222222222,\"#7201a8\"],[0.3333333333333333,\"#9c179e\"],[0.4444444444444444,\"#bd3786\"],[0.5555555555555556,\"#d8576b\"],[0.6666666666666666,\"#ed7953\"],[0.7777777777777778,\"#fb9f3a\"],[0.8888888888888888,\"#fdca26\"],[1.0,\"#f0f921\"]],\"type\":\"heatmap\"}],\"histogram2dcontour\":[{\"colorbar\":{\"outlinewidth\":0,\"ticks\":\"\"},\"colorscale\":[[0.0,\"#0d0887\"],[0.1111111111111111,\"#46039f\"],[0.2222222222222222,\"#7201a8\"],[0.3333333333333333,\"#9c179e\"],[0.4444444444444444,\"#bd3786\"],[0.5555555555555556,\"#d8576b\"],[0.6666666666666666,\"#ed7953\"],[0.7777777777777778,\"#fb9f3a\"],[0.8888888888888888,\"#fdca26\"],[1.0,\"#f0f921\"]],\"type\":\"histogram2dcontour\"}],\"histogram2d\":[{\"colorbar\":{\"outlinewidth\":0,\"ticks\":\"\"},\"colorscale\":[[0.0,\"#0d0887\"],[0.1111111111111111,\"#46039f\"],[0.2222222222222222,\"#7201a8\"],[0.3333333333333333,\"#9c179e\"],[0.4444444444444444,\"#bd3786\"],[0.5555555555555556,\"#d8576b\"],[0.6666666666666666,\"#ed7953\"],[0.7777777777777778,\"#fb9f3a\"],[0.8888888888888888,\"#fdca26\"],[1.0,\"#f0f921\"]],\"type\":\"histogram2d\"}],\"histogram\":[{\"marker\":{\"pattern\":{\"fillmode\":\"overlay\",\"size\":10,\"solidity\":0.2}},\"type\":\"histogram\"}],\"mesh3d\":[{\"colorbar\":{\"outlinewidth\":0,\"ticks\":\"\"},\"type\":\"mesh3d\"}],\"parcoords\":[{\"line\":{\"colorbar\":{\"outlinewidth\":0,\"ticks\":\"\"}},\"type\":\"parcoords\"}],\"pie\":[{\"automargin\":true,\"type\":\"pie\"}],\"scatter3d\":[{\"line\":{\"colorbar\":{\"outlinewidth\":0,\"ticks\":\"\"}},\"marker\":{\"colorbar\":{\"outlinewidth\":0,\"ticks\":\"\"}},\"type\":\"scatter3d\"}],\"scattercarpet\":[{\"marker\":{\"colorbar\":{\"outlinewidth\":0,\"ticks\":\"\"}},\"type\":\"scattercarpet\"}],\"scattergeo\":[{\"marker\":{\"colorbar\":{\"outlinewidth\":0,\"ticks\":\"\"}},\"type\":\"scattergeo\"}],\"scattergl\":[{\"marker\":{\"colorbar\":{\"outlinewidth\":0,\"ticks\":\"\"}},\"type\":\"scattergl\"}],\"scattermapbox\":[{\"marker\":{\"colorbar\":{\"outlinewidth\":0,\"ticks\":\"\"}},\"type\":\"scattermapbox\"}],\"scatterpolargl\":[{\"marker\":{\"colorbar\":{\"outlinewidth\":0,\"ticks\":\"\"}},\"type\":\"scatterpolargl\"}],\"scatterpolar\":[{\"marker\":{\"colorbar\":{\"outlinewidth\":0,\"ticks\":\"\"}},\"type\":\"scatterpolar\"}],\"scatter\":[{\"fillpattern\":{\"fillmode\":\"overlay\",\"size\":10,\"solidity\":0.2},\"type\":\"scatter\"}],\"scatterternary\":[{\"marker\":{\"colorbar\":{\"outlinewidth\":0,\"ticks\":\"\"}},\"type\":\"scatterternary\"}],\"surface\":[{\"colorbar\":{\"outlinewidth\":0,\"ticks\":\"\"},\"colorscale\":[[0.0,\"#0d0887\"],[0.1111111111111111,\"#46039f\"],[0.2222222222222222,\"#7201a8\"],[0.3333333333333333,\"#9c179e\"],[0.4444444444444444,\"#bd3786\"],[0.5555555555555556,\"#d8576b\"],[0.6666666666666666,\"#ed7953\"],[0.7777777777777778,\"#fb9f3a\"],[0.8888888888888888,\"#fdca26\"],[1.0,\"#f0f921\"]],\"type\":\"surface\"}],\"table\":[{\"cells\":{\"fill\":{\"color\":\"#EBF0F8\"},\"line\":{\"color\":\"white\"}},\"header\":{\"fill\":{\"color\":\"#C8D4E3\"},\"line\":{\"color\":\"white\"}},\"type\":\"table\"}]},\"layout\":{\"annotationdefaults\":{\"arrowcolor\":\"#2a3f5f\",\"arrowhead\":0,\"arrowwidth\":1},\"autotypenumbers\":\"strict\",\"coloraxis\":{\"colorbar\":{\"outlinewidth\":0,\"ticks\":\"\"}},\"colorscale\":{\"diverging\":[[0,\"#8e0152\"],[0.1,\"#c51b7d\"],[0.2,\"#de77ae\"],[0.3,\"#f1b6da\"],[0.4,\"#fde0ef\"],[0.5,\"#f7f7f7\"],[0.6,\"#e6f5d0\"],[0.7,\"#b8e186\"],[0.8,\"#7fbc41\"],[0.9,\"#4d9221\"],[1,\"#276419\"]],\"sequential\":[[0.0,\"#0d0887\"],[0.1111111111111111,\"#46039f\"],[0.2222222222222222,\"#7201a8\"],[0.3333333333333333,\"#9c179e\"],[0.4444444444444444,\"#bd3786\"],[0.5555555555555556,\"#d8576b\"],[0.6666666666666666,\"#ed7953\"],[0.7777777777777778,\"#fb9f3a\"],[0.8888888888888888,\"#fdca26\"],[1.0,\"#f0f921\"]],\"sequentialminus\":[[0.0,\"#0d0887\"],[0.1111111111111111,\"#46039f\"],[0.2222222222222222,\"#7201a8\"],[0.3333333333333333,\"#9c179e\"],[0.4444444444444444,\"#bd3786\"],[0.5555555555555556,\"#d8576b\"],[0.6666666666666666,\"#ed7953\"],[0.7777777777777778,\"#fb9f3a\"],[0.8888888888888888,\"#fdca26\"],[1.0,\"#f0f921\"]]},\"colorway\":[\"#636efa\",\"#EF553B\",\"#00cc96\",\"#ab63fa\",\"#FFA15A\",\"#19d3f3\",\"#FF6692\",\"#B6E880\",\"#FF97FF\",\"#FECB52\"],\"font\":{\"color\":\"#2a3f5f\"},\"geo\":{\"bgcolor\":\"white\",\"lakecolor\":\"white\",\"landcolor\":\"white\",\"showlakes\":true,\"showland\":true,\"subunitcolor\":\"#C8D4E3\"},\"hoverlabel\":{\"align\":\"left\"},\"hovermode\":\"closest\",\"mapbox\":{\"style\":\"light\"},\"paper_bgcolor\":\"white\",\"plot_bgcolor\":\"white\",\"polar\":{\"angularaxis\":{\"gridcolor\":\"#EBF0F8\",\"linecolor\":\"#EBF0F8\",\"ticks\":\"\"},\"bgcolor\":\"white\",\"radialaxis\":{\"gridcolor\":\"#EBF0F8\",\"linecolor\":\"#EBF0F8\",\"ticks\":\"\"}},\"scene\":{\"xaxis\":{\"backgroundcolor\":\"white\",\"gridcolor\":\"#DFE8F3\",\"gridwidth\":2,\"linecolor\":\"#EBF0F8\",\"showbackground\":true,\"ticks\":\"\",\"zerolinecolor\":\"#EBF0F8\"},\"yaxis\":{\"backgroundcolor\":\"white\",\"gridcolor\":\"#DFE8F3\",\"gridwidth\":2,\"linecolor\":\"#EBF0F8\",\"showbackground\":true,\"ticks\":\"\",\"zerolinecolor\":\"#EBF0F8\"},\"zaxis\":{\"backgroundcolor\":\"white\",\"gridcolor\":\"#DFE8F3\",\"gridwidth\":2,\"linecolor\":\"#EBF0F8\",\"showbackground\":true,\"ticks\":\"\",\"zerolinecolor\":\"#EBF0F8\"}},\"shapedefaults\":{\"line\":{\"color\":\"#2a3f5f\"}},\"ternary\":{\"aaxis\":{\"gridcolor\":\"#DFE8F3\",\"linecolor\":\"#A2B1C6\",\"ticks\":\"\"},\"baxis\":{\"gridcolor\":\"#DFE8F3\",\"linecolor\":\"#A2B1C6\",\"ticks\":\"\"},\"bgcolor\":\"white\",\"caxis\":{\"gridcolor\":\"#DFE8F3\",\"linecolor\":\"#A2B1C6\",\"ticks\":\"\"}},\"title\":{\"x\":0.05},\"xaxis\":{\"automargin\":true,\"gridcolor\":\"#EBF0F8\",\"linecolor\":\"#EBF0F8\",\"ticks\":\"\",\"title\":{\"standoff\":15},\"zerolinecolor\":\"#EBF0F8\",\"zerolinewidth\":2},\"yaxis\":{\"automargin\":true,\"gridcolor\":\"#EBF0F8\",\"linecolor\":\"#EBF0F8\",\"ticks\":\"\",\"title\":{\"standoff\":15},\"zerolinecolor\":\"#EBF0F8\",\"zerolinewidth\":2}}},\"xaxis\":{\"anchor\":\"y\",\"domain\":[0.0,1.0],\"title\":{\"text\":\"Model\"},\"categoryorder\":\"array\",\"categoryarray\":[\"Camembert\",\"Flaubert\"]},\"yaxis\":{\"anchor\":\"x\",\"domain\":[0.0,1.0],\"title\":{\"text\":\"Weighted\"}},\"legend\":{\"title\":{\"text\":\"Model\"},\"tracegroupgap\":0},\"title\":{\"text\":\"Weighted scores for each model\"},\"boxmode\":\"overlay\",\"showlegend\":false},                        {\"responsive\": true}                    ).then(function(){\n                            \nvar gd = document.getElementById('6acb39d5-2285-4add-95d7-568ff4cde14d');\nvar x = new MutationObserver(function (mutations, observer) {{\n        var display = window.getComputedStyle(gd).display;\n        if (!display || display === 'none') {{\n            console.log([gd, 'removed!']);\n            Plotly.purge(gd);\n            observer.disconnect();\n        }}\n}});\n\n// Listen for the removal of the full notebook cells\nvar notebookContainer = gd.closest('#notebook-container');\nif (notebookContainer) {{\n    x.observe(notebookContainer, {childList: true});\n}}\n\n// Listen for the clearing of the current output cell\nvar outputEl = gd.closest('.output');\nif (outputEl) {{\n    x.observe(outputEl, {childList: true});\n}}\n\n                        })                };                });            </script>        </div>"
     },
     "metadata": {},
     "output_type": "display_data"
    },
    {
     "data": {
      "application/vnd.plotly.v1+json": {
       "data": [
        {
         "alignmentgroup": "True",
         "hovertemplate": "Model=%{x}<br>Overall=%{y}<extra></extra>",
         "legendgroup": "Camembert",
         "marker": {
          "color": "#636efa"
         },
         "name": "Camembert",
         "notched": false,
         "offsetgroup": "Camembert",
         "orientation": "v",
         "showlegend": true,
         "x": [
          "Camembert",
          "Camembert",
          "Camembert",
          "Camembert",
          "Camembert",
          "Camembert",
          "Camembert",
          "Camembert",
          "Camembert",
          "Camembert",
          "Camembert",
          "Camembert",
          "Camembert",
          "Camembert"
         ],
         "x0": " ",
         "xaxis": "x",
         "y": [
          0.6071428571428571,
          0.7244897959183674,
          0.7766990291262136,
          0.8,
          0.9895833333333334,
          0.8373983739837398,
          0.6764705882352942,
          0.7818181818181819,
          0.7019230769230769,
          0.5945945945945946,
          0.6470588235294118,
          0.7079817578163099,
          0.8244415306915306,
          0.7397435140550065
         ],
         "y0": " ",
         "yaxis": "y",
         "type": "box"
        },
        {
         "alignmentgroup": "True",
         "hovertemplate": "Model=%{x}<br>Overall=%{y}<extra></extra>",
         "legendgroup": "Flaubert",
         "marker": {
          "color": "#EF553B"
         },
         "name": "Flaubert",
         "notched": false,
         "offsetgroup": "Flaubert",
         "orientation": "v",
         "showlegend": true,
         "x": [
          "Flaubert",
          "Flaubert",
          "Flaubert",
          "Flaubert",
          "Flaubert",
          "Flaubert",
          "Flaubert",
          "Flaubert",
          "Flaubert",
          "Flaubert",
          "Flaubert",
          "Flaubert",
          "Flaubert",
          "Flaubert"
         ],
         "x0": " ",
         "xaxis": "x",
         "y": [
          0.7023809523809523,
          0.5204081632653061,
          0.4563106796116505,
          0.75,
          0.53125,
          0.4227642276422764,
          0.5,
          0.3454545454545454,
          0.6634615384615384,
          0.3918918918918919,
          0.5882352941176471,
          0.5414989011137156,
          0.5133886946386946,
          0.5338324811659826
         ],
         "y0": " ",
         "yaxis": "y",
         "type": "box"
        }
       ],
       "layout": {
        "template": {
         "data": {
          "barpolar": [
           {
            "marker": {
             "line": {
              "color": "white",
              "width": 0.5
             },
             "pattern": {
              "fillmode": "overlay",
              "size": 10,
              "solidity": 0.2
             }
            },
            "type": "barpolar"
           }
          ],
          "bar": [
           {
            "error_x": {
             "color": "#2a3f5f"
            },
            "error_y": {
             "color": "#2a3f5f"
            },
            "marker": {
             "line": {
              "color": "white",
              "width": 0.5
             },
             "pattern": {
              "fillmode": "overlay",
              "size": 10,
              "solidity": 0.2
             }
            },
            "type": "bar"
           }
          ],
          "carpet": [
           {
            "aaxis": {
             "endlinecolor": "#2a3f5f",
             "gridcolor": "#C8D4E3",
             "linecolor": "#C8D4E3",
             "minorgridcolor": "#C8D4E3",
             "startlinecolor": "#2a3f5f"
            },
            "baxis": {
             "endlinecolor": "#2a3f5f",
             "gridcolor": "#C8D4E3",
             "linecolor": "#C8D4E3",
             "minorgridcolor": "#C8D4E3",
             "startlinecolor": "#2a3f5f"
            },
            "type": "carpet"
           }
          ],
          "choropleth": [
           {
            "colorbar": {
             "outlinewidth": 0,
             "ticks": ""
            },
            "type": "choropleth"
           }
          ],
          "contourcarpet": [
           {
            "colorbar": {
             "outlinewidth": 0,
             "ticks": ""
            },
            "type": "contourcarpet"
           }
          ],
          "contour": [
           {
            "colorbar": {
             "outlinewidth": 0,
             "ticks": ""
            },
            "colorscale": [
             [
              0.0,
              "#0d0887"
             ],
             [
              0.1111111111111111,
              "#46039f"
             ],
             [
              0.2222222222222222,
              "#7201a8"
             ],
             [
              0.3333333333333333,
              "#9c179e"
             ],
             [
              0.4444444444444444,
              "#bd3786"
             ],
             [
              0.5555555555555556,
              "#d8576b"
             ],
             [
              0.6666666666666666,
              "#ed7953"
             ],
             [
              0.7777777777777778,
              "#fb9f3a"
             ],
             [
              0.8888888888888888,
              "#fdca26"
             ],
             [
              1.0,
              "#f0f921"
             ]
            ],
            "type": "contour"
           }
          ],
          "heatmapgl": [
           {
            "colorbar": {
             "outlinewidth": 0,
             "ticks": ""
            },
            "colorscale": [
             [
              0.0,
              "#0d0887"
             ],
             [
              0.1111111111111111,
              "#46039f"
             ],
             [
              0.2222222222222222,
              "#7201a8"
             ],
             [
              0.3333333333333333,
              "#9c179e"
             ],
             [
              0.4444444444444444,
              "#bd3786"
             ],
             [
              0.5555555555555556,
              "#d8576b"
             ],
             [
              0.6666666666666666,
              "#ed7953"
             ],
             [
              0.7777777777777778,
              "#fb9f3a"
             ],
             [
              0.8888888888888888,
              "#fdca26"
             ],
             [
              1.0,
              "#f0f921"
             ]
            ],
            "type": "heatmapgl"
           }
          ],
          "heatmap": [
           {
            "colorbar": {
             "outlinewidth": 0,
             "ticks": ""
            },
            "colorscale": [
             [
              0.0,
              "#0d0887"
             ],
             [
              0.1111111111111111,
              "#46039f"
             ],
             [
              0.2222222222222222,
              "#7201a8"
             ],
             [
              0.3333333333333333,
              "#9c179e"
             ],
             [
              0.4444444444444444,
              "#bd3786"
             ],
             [
              0.5555555555555556,
              "#d8576b"
             ],
             [
              0.6666666666666666,
              "#ed7953"
             ],
             [
              0.7777777777777778,
              "#fb9f3a"
             ],
             [
              0.8888888888888888,
              "#fdca26"
             ],
             [
              1.0,
              "#f0f921"
             ]
            ],
            "type": "heatmap"
           }
          ],
          "histogram2dcontour": [
           {
            "colorbar": {
             "outlinewidth": 0,
             "ticks": ""
            },
            "colorscale": [
             [
              0.0,
              "#0d0887"
             ],
             [
              0.1111111111111111,
              "#46039f"
             ],
             [
              0.2222222222222222,
              "#7201a8"
             ],
             [
              0.3333333333333333,
              "#9c179e"
             ],
             [
              0.4444444444444444,
              "#bd3786"
             ],
             [
              0.5555555555555556,
              "#d8576b"
             ],
             [
              0.6666666666666666,
              "#ed7953"
             ],
             [
              0.7777777777777778,
              "#fb9f3a"
             ],
             [
              0.8888888888888888,
              "#fdca26"
             ],
             [
              1.0,
              "#f0f921"
             ]
            ],
            "type": "histogram2dcontour"
           }
          ],
          "histogram2d": [
           {
            "colorbar": {
             "outlinewidth": 0,
             "ticks": ""
            },
            "colorscale": [
             [
              0.0,
              "#0d0887"
             ],
             [
              0.1111111111111111,
              "#46039f"
             ],
             [
              0.2222222222222222,
              "#7201a8"
             ],
             [
              0.3333333333333333,
              "#9c179e"
             ],
             [
              0.4444444444444444,
              "#bd3786"
             ],
             [
              0.5555555555555556,
              "#d8576b"
             ],
             [
              0.6666666666666666,
              "#ed7953"
             ],
             [
              0.7777777777777778,
              "#fb9f3a"
             ],
             [
              0.8888888888888888,
              "#fdca26"
             ],
             [
              1.0,
              "#f0f921"
             ]
            ],
            "type": "histogram2d"
           }
          ],
          "histogram": [
           {
            "marker": {
             "pattern": {
              "fillmode": "overlay",
              "size": 10,
              "solidity": 0.2
             }
            },
            "type": "histogram"
           }
          ],
          "mesh3d": [
           {
            "colorbar": {
             "outlinewidth": 0,
             "ticks": ""
            },
            "type": "mesh3d"
           }
          ],
          "parcoords": [
           {
            "line": {
             "colorbar": {
              "outlinewidth": 0,
              "ticks": ""
             }
            },
            "type": "parcoords"
           }
          ],
          "pie": [
           {
            "automargin": true,
            "type": "pie"
           }
          ],
          "scatter3d": [
           {
            "line": {
             "colorbar": {
              "outlinewidth": 0,
              "ticks": ""
             }
            },
            "marker": {
             "colorbar": {
              "outlinewidth": 0,
              "ticks": ""
             }
            },
            "type": "scatter3d"
           }
          ],
          "scattercarpet": [
           {
            "marker": {
             "colorbar": {
              "outlinewidth": 0,
              "ticks": ""
             }
            },
            "type": "scattercarpet"
           }
          ],
          "scattergeo": [
           {
            "marker": {
             "colorbar": {
              "outlinewidth": 0,
              "ticks": ""
             }
            },
            "type": "scattergeo"
           }
          ],
          "scattergl": [
           {
            "marker": {
             "colorbar": {
              "outlinewidth": 0,
              "ticks": ""
             }
            },
            "type": "scattergl"
           }
          ],
          "scattermapbox": [
           {
            "marker": {
             "colorbar": {
              "outlinewidth": 0,
              "ticks": ""
             }
            },
            "type": "scattermapbox"
           }
          ],
          "scatterpolargl": [
           {
            "marker": {
             "colorbar": {
              "outlinewidth": 0,
              "ticks": ""
             }
            },
            "type": "scatterpolargl"
           }
          ],
          "scatterpolar": [
           {
            "marker": {
             "colorbar": {
              "outlinewidth": 0,
              "ticks": ""
             }
            },
            "type": "scatterpolar"
           }
          ],
          "scatter": [
           {
            "fillpattern": {
             "fillmode": "overlay",
             "size": 10,
             "solidity": 0.2
            },
            "type": "scatter"
           }
          ],
          "scatterternary": [
           {
            "marker": {
             "colorbar": {
              "outlinewidth": 0,
              "ticks": ""
             }
            },
            "type": "scatterternary"
           }
          ],
          "surface": [
           {
            "colorbar": {
             "outlinewidth": 0,
             "ticks": ""
            },
            "colorscale": [
             [
              0.0,
              "#0d0887"
             ],
             [
              0.1111111111111111,
              "#46039f"
             ],
             [
              0.2222222222222222,
              "#7201a8"
             ],
             [
              0.3333333333333333,
              "#9c179e"
             ],
             [
              0.4444444444444444,
              "#bd3786"
             ],
             [
              0.5555555555555556,
              "#d8576b"
             ],
             [
              0.6666666666666666,
              "#ed7953"
             ],
             [
              0.7777777777777778,
              "#fb9f3a"
             ],
             [
              0.8888888888888888,
              "#fdca26"
             ],
             [
              1.0,
              "#f0f921"
             ]
            ],
            "type": "surface"
           }
          ],
          "table": [
           {
            "cells": {
             "fill": {
              "color": "#EBF0F8"
             },
             "line": {
              "color": "white"
             }
            },
            "header": {
             "fill": {
              "color": "#C8D4E3"
             },
             "line": {
              "color": "white"
             }
            },
            "type": "table"
           }
          ]
         },
         "layout": {
          "annotationdefaults": {
           "arrowcolor": "#2a3f5f",
           "arrowhead": 0,
           "arrowwidth": 1
          },
          "autotypenumbers": "strict",
          "coloraxis": {
           "colorbar": {
            "outlinewidth": 0,
            "ticks": ""
           }
          },
          "colorscale": {
           "diverging": [
            [
             0,
             "#8e0152"
            ],
            [
             0.1,
             "#c51b7d"
            ],
            [
             0.2,
             "#de77ae"
            ],
            [
             0.3,
             "#f1b6da"
            ],
            [
             0.4,
             "#fde0ef"
            ],
            [
             0.5,
             "#f7f7f7"
            ],
            [
             0.6,
             "#e6f5d0"
            ],
            [
             0.7,
             "#b8e186"
            ],
            [
             0.8,
             "#7fbc41"
            ],
            [
             0.9,
             "#4d9221"
            ],
            [
             1,
             "#276419"
            ]
           ],
           "sequential": [
            [
             0.0,
             "#0d0887"
            ],
            [
             0.1111111111111111,
             "#46039f"
            ],
            [
             0.2222222222222222,
             "#7201a8"
            ],
            [
             0.3333333333333333,
             "#9c179e"
            ],
            [
             0.4444444444444444,
             "#bd3786"
            ],
            [
             0.5555555555555556,
             "#d8576b"
            ],
            [
             0.6666666666666666,
             "#ed7953"
            ],
            [
             0.7777777777777778,
             "#fb9f3a"
            ],
            [
             0.8888888888888888,
             "#fdca26"
            ],
            [
             1.0,
             "#f0f921"
            ]
           ],
           "sequentialminus": [
            [
             0.0,
             "#0d0887"
            ],
            [
             0.1111111111111111,
             "#46039f"
            ],
            [
             0.2222222222222222,
             "#7201a8"
            ],
            [
             0.3333333333333333,
             "#9c179e"
            ],
            [
             0.4444444444444444,
             "#bd3786"
            ],
            [
             0.5555555555555556,
             "#d8576b"
            ],
            [
             0.6666666666666666,
             "#ed7953"
            ],
            [
             0.7777777777777778,
             "#fb9f3a"
            ],
            [
             0.8888888888888888,
             "#fdca26"
            ],
            [
             1.0,
             "#f0f921"
            ]
           ]
          },
          "colorway": [
           "#636efa",
           "#EF553B",
           "#00cc96",
           "#ab63fa",
           "#FFA15A",
           "#19d3f3",
           "#FF6692",
           "#B6E880",
           "#FF97FF",
           "#FECB52"
          ],
          "font": {
           "color": "#2a3f5f"
          },
          "geo": {
           "bgcolor": "white",
           "lakecolor": "white",
           "landcolor": "white",
           "showlakes": true,
           "showland": true,
           "subunitcolor": "#C8D4E3"
          },
          "hoverlabel": {
           "align": "left"
          },
          "hovermode": "closest",
          "mapbox": {
           "style": "light"
          },
          "paper_bgcolor": "white",
          "plot_bgcolor": "white",
          "polar": {
           "angularaxis": {
            "gridcolor": "#EBF0F8",
            "linecolor": "#EBF0F8",
            "ticks": ""
           },
           "bgcolor": "white",
           "radialaxis": {
            "gridcolor": "#EBF0F8",
            "linecolor": "#EBF0F8",
            "ticks": ""
           }
          },
          "scene": {
           "xaxis": {
            "backgroundcolor": "white",
            "gridcolor": "#DFE8F3",
            "gridwidth": 2,
            "linecolor": "#EBF0F8",
            "showbackground": true,
            "ticks": "",
            "zerolinecolor": "#EBF0F8"
           },
           "yaxis": {
            "backgroundcolor": "white",
            "gridcolor": "#DFE8F3",
            "gridwidth": 2,
            "linecolor": "#EBF0F8",
            "showbackground": true,
            "ticks": "",
            "zerolinecolor": "#EBF0F8"
           },
           "zaxis": {
            "backgroundcolor": "white",
            "gridcolor": "#DFE8F3",
            "gridwidth": 2,
            "linecolor": "#EBF0F8",
            "showbackground": true,
            "ticks": "",
            "zerolinecolor": "#EBF0F8"
           }
          },
          "shapedefaults": {
           "line": {
            "color": "#2a3f5f"
           }
          },
          "ternary": {
           "aaxis": {
            "gridcolor": "#DFE8F3",
            "linecolor": "#A2B1C6",
            "ticks": ""
           },
           "baxis": {
            "gridcolor": "#DFE8F3",
            "linecolor": "#A2B1C6",
            "ticks": ""
           },
           "bgcolor": "white",
           "caxis": {
            "gridcolor": "#DFE8F3",
            "linecolor": "#A2B1C6",
            "ticks": ""
           }
          },
          "title": {
           "x": 0.05
          },
          "xaxis": {
           "automargin": true,
           "gridcolor": "#EBF0F8",
           "linecolor": "#EBF0F8",
           "ticks": "",
           "title": {
            "standoff": 15
           },
           "zerolinecolor": "#EBF0F8",
           "zerolinewidth": 2
          },
          "yaxis": {
           "automargin": true,
           "gridcolor": "#EBF0F8",
           "linecolor": "#EBF0F8",
           "ticks": "",
           "title": {
            "standoff": 15
           },
           "zerolinecolor": "#EBF0F8",
           "zerolinewidth": 2
          }
         }
        },
        "xaxis": {
         "anchor": "y",
         "domain": [
          0.0,
          1.0
         ],
         "title": {
          "text": "Model"
         },
         "categoryorder": "array",
         "categoryarray": [
          "Camembert",
          "Flaubert"
         ]
        },
        "yaxis": {
         "anchor": "x",
         "domain": [
          0.0,
          1.0
         ],
         "title": {
          "text": "Overall"
         }
        },
        "legend": {
         "title": {
          "text": "Model"
         },
         "tracegroupgap": 0
        },
        "title": {
         "text": "Overall scores for each model"
        },
        "boxmode": "overlay",
        "showlegend": false
       },
       "config": {
        "plotlyServerURL": "https://plot.ly"
       }
      },
      "text/html": "<div>                            <div id=\"cc43da68-d123-4a4a-ae2e-dc4bfe53e992\" class=\"plotly-graph-div\" style=\"height:525px; width:100%;\"></div>            <script type=\"text/javascript\">                require([\"plotly\"], function(Plotly) {                    window.PLOTLYENV=window.PLOTLYENV || {};                                    if (document.getElementById(\"cc43da68-d123-4a4a-ae2e-dc4bfe53e992\")) {                    Plotly.newPlot(                        \"cc43da68-d123-4a4a-ae2e-dc4bfe53e992\",                        [{\"alignmentgroup\":\"True\",\"hovertemplate\":\"Model=%{x}\\u003cbr\\u003eOverall=%{y}\\u003cextra\\u003e\\u003c\\u002fextra\\u003e\",\"legendgroup\":\"Camembert\",\"marker\":{\"color\":\"#636efa\"},\"name\":\"Camembert\",\"notched\":false,\"offsetgroup\":\"Camembert\",\"orientation\":\"v\",\"showlegend\":true,\"x\":[\"Camembert\",\"Camembert\",\"Camembert\",\"Camembert\",\"Camembert\",\"Camembert\",\"Camembert\",\"Camembert\",\"Camembert\",\"Camembert\",\"Camembert\",\"Camembert\",\"Camembert\",\"Camembert\"],\"x0\":\" \",\"xaxis\":\"x\",\"y\":[0.6071428571428571,0.7244897959183674,0.7766990291262136,0.8,0.9895833333333334,0.8373983739837398,0.6764705882352942,0.7818181818181819,0.7019230769230769,0.5945945945945946,0.6470588235294118,0.7079817578163099,0.8244415306915306,0.7397435140550065],\"y0\":\" \",\"yaxis\":\"y\",\"type\":\"box\"},{\"alignmentgroup\":\"True\",\"hovertemplate\":\"Model=%{x}\\u003cbr\\u003eOverall=%{y}\\u003cextra\\u003e\\u003c\\u002fextra\\u003e\",\"legendgroup\":\"Flaubert\",\"marker\":{\"color\":\"#EF553B\"},\"name\":\"Flaubert\",\"notched\":false,\"offsetgroup\":\"Flaubert\",\"orientation\":\"v\",\"showlegend\":true,\"x\":[\"Flaubert\",\"Flaubert\",\"Flaubert\",\"Flaubert\",\"Flaubert\",\"Flaubert\",\"Flaubert\",\"Flaubert\",\"Flaubert\",\"Flaubert\",\"Flaubert\",\"Flaubert\",\"Flaubert\",\"Flaubert\"],\"x0\":\" \",\"xaxis\":\"x\",\"y\":[0.7023809523809523,0.5204081632653061,0.4563106796116505,0.75,0.53125,0.4227642276422764,0.5,0.3454545454545454,0.6634615384615384,0.3918918918918919,0.5882352941176471,0.5414989011137156,0.5133886946386946,0.5338324811659826],\"y0\":\" \",\"yaxis\":\"y\",\"type\":\"box\"}],                        {\"template\":{\"data\":{\"barpolar\":[{\"marker\":{\"line\":{\"color\":\"white\",\"width\":0.5},\"pattern\":{\"fillmode\":\"overlay\",\"size\":10,\"solidity\":0.2}},\"type\":\"barpolar\"}],\"bar\":[{\"error_x\":{\"color\":\"#2a3f5f\"},\"error_y\":{\"color\":\"#2a3f5f\"},\"marker\":{\"line\":{\"color\":\"white\",\"width\":0.5},\"pattern\":{\"fillmode\":\"overlay\",\"size\":10,\"solidity\":0.2}},\"type\":\"bar\"}],\"carpet\":[{\"aaxis\":{\"endlinecolor\":\"#2a3f5f\",\"gridcolor\":\"#C8D4E3\",\"linecolor\":\"#C8D4E3\",\"minorgridcolor\":\"#C8D4E3\",\"startlinecolor\":\"#2a3f5f\"},\"baxis\":{\"endlinecolor\":\"#2a3f5f\",\"gridcolor\":\"#C8D4E3\",\"linecolor\":\"#C8D4E3\",\"minorgridcolor\":\"#C8D4E3\",\"startlinecolor\":\"#2a3f5f\"},\"type\":\"carpet\"}],\"choropleth\":[{\"colorbar\":{\"outlinewidth\":0,\"ticks\":\"\"},\"type\":\"choropleth\"}],\"contourcarpet\":[{\"colorbar\":{\"outlinewidth\":0,\"ticks\":\"\"},\"type\":\"contourcarpet\"}],\"contour\":[{\"colorbar\":{\"outlinewidth\":0,\"ticks\":\"\"},\"colorscale\":[[0.0,\"#0d0887\"],[0.1111111111111111,\"#46039f\"],[0.2222222222222222,\"#7201a8\"],[0.3333333333333333,\"#9c179e\"],[0.4444444444444444,\"#bd3786\"],[0.5555555555555556,\"#d8576b\"],[0.6666666666666666,\"#ed7953\"],[0.7777777777777778,\"#fb9f3a\"],[0.8888888888888888,\"#fdca26\"],[1.0,\"#f0f921\"]],\"type\":\"contour\"}],\"heatmapgl\":[{\"colorbar\":{\"outlinewidth\":0,\"ticks\":\"\"},\"colorscale\":[[0.0,\"#0d0887\"],[0.1111111111111111,\"#46039f\"],[0.2222222222222222,\"#7201a8\"],[0.3333333333333333,\"#9c179e\"],[0.4444444444444444,\"#bd3786\"],[0.5555555555555556,\"#d8576b\"],[0.6666666666666666,\"#ed7953\"],[0.7777777777777778,\"#fb9f3a\"],[0.8888888888888888,\"#fdca26\"],[1.0,\"#f0f921\"]],\"type\":\"heatmapgl\"}],\"heatmap\":[{\"colorbar\":{\"outlinewidth\":0,\"ticks\":\"\"},\"colorscale\":[[0.0,\"#0d0887\"],[0.1111111111111111,\"#46039f\"],[0.2222222222222222,\"#7201a8\"],[0.3333333333333333,\"#9c179e\"],[0.4444444444444444,\"#bd3786\"],[0.5555555555555556,\"#d8576b\"],[0.6666666666666666,\"#ed7953\"],[0.7777777777777778,\"#fb9f3a\"],[0.8888888888888888,\"#fdca26\"],[1.0,\"#f0f921\"]],\"type\":\"heatmap\"}],\"histogram2dcontour\":[{\"colorbar\":{\"outlinewidth\":0,\"ticks\":\"\"},\"colorscale\":[[0.0,\"#0d0887\"],[0.1111111111111111,\"#46039f\"],[0.2222222222222222,\"#7201a8\"],[0.3333333333333333,\"#9c179e\"],[0.4444444444444444,\"#bd3786\"],[0.5555555555555556,\"#d8576b\"],[0.6666666666666666,\"#ed7953\"],[0.7777777777777778,\"#fb9f3a\"],[0.8888888888888888,\"#fdca26\"],[1.0,\"#f0f921\"]],\"type\":\"histogram2dcontour\"}],\"histogram2d\":[{\"colorbar\":{\"outlinewidth\":0,\"ticks\":\"\"},\"colorscale\":[[0.0,\"#0d0887\"],[0.1111111111111111,\"#46039f\"],[0.2222222222222222,\"#7201a8\"],[0.3333333333333333,\"#9c179e\"],[0.4444444444444444,\"#bd3786\"],[0.5555555555555556,\"#d8576b\"],[0.6666666666666666,\"#ed7953\"],[0.7777777777777778,\"#fb9f3a\"],[0.8888888888888888,\"#fdca26\"],[1.0,\"#f0f921\"]],\"type\":\"histogram2d\"}],\"histogram\":[{\"marker\":{\"pattern\":{\"fillmode\":\"overlay\",\"size\":10,\"solidity\":0.2}},\"type\":\"histogram\"}],\"mesh3d\":[{\"colorbar\":{\"outlinewidth\":0,\"ticks\":\"\"},\"type\":\"mesh3d\"}],\"parcoords\":[{\"line\":{\"colorbar\":{\"outlinewidth\":0,\"ticks\":\"\"}},\"type\":\"parcoords\"}],\"pie\":[{\"automargin\":true,\"type\":\"pie\"}],\"scatter3d\":[{\"line\":{\"colorbar\":{\"outlinewidth\":0,\"ticks\":\"\"}},\"marker\":{\"colorbar\":{\"outlinewidth\":0,\"ticks\":\"\"}},\"type\":\"scatter3d\"}],\"scattercarpet\":[{\"marker\":{\"colorbar\":{\"outlinewidth\":0,\"ticks\":\"\"}},\"type\":\"scattercarpet\"}],\"scattergeo\":[{\"marker\":{\"colorbar\":{\"outlinewidth\":0,\"ticks\":\"\"}},\"type\":\"scattergeo\"}],\"scattergl\":[{\"marker\":{\"colorbar\":{\"outlinewidth\":0,\"ticks\":\"\"}},\"type\":\"scattergl\"}],\"scattermapbox\":[{\"marker\":{\"colorbar\":{\"outlinewidth\":0,\"ticks\":\"\"}},\"type\":\"scattermapbox\"}],\"scatterpolargl\":[{\"marker\":{\"colorbar\":{\"outlinewidth\":0,\"ticks\":\"\"}},\"type\":\"scatterpolargl\"}],\"scatterpolar\":[{\"marker\":{\"colorbar\":{\"outlinewidth\":0,\"ticks\":\"\"}},\"type\":\"scatterpolar\"}],\"scatter\":[{\"fillpattern\":{\"fillmode\":\"overlay\",\"size\":10,\"solidity\":0.2},\"type\":\"scatter\"}],\"scatterternary\":[{\"marker\":{\"colorbar\":{\"outlinewidth\":0,\"ticks\":\"\"}},\"type\":\"scatterternary\"}],\"surface\":[{\"colorbar\":{\"outlinewidth\":0,\"ticks\":\"\"},\"colorscale\":[[0.0,\"#0d0887\"],[0.1111111111111111,\"#46039f\"],[0.2222222222222222,\"#7201a8\"],[0.3333333333333333,\"#9c179e\"],[0.4444444444444444,\"#bd3786\"],[0.5555555555555556,\"#d8576b\"],[0.6666666666666666,\"#ed7953\"],[0.7777777777777778,\"#fb9f3a\"],[0.8888888888888888,\"#fdca26\"],[1.0,\"#f0f921\"]],\"type\":\"surface\"}],\"table\":[{\"cells\":{\"fill\":{\"color\":\"#EBF0F8\"},\"line\":{\"color\":\"white\"}},\"header\":{\"fill\":{\"color\":\"#C8D4E3\"},\"line\":{\"color\":\"white\"}},\"type\":\"table\"}]},\"layout\":{\"annotationdefaults\":{\"arrowcolor\":\"#2a3f5f\",\"arrowhead\":0,\"arrowwidth\":1},\"autotypenumbers\":\"strict\",\"coloraxis\":{\"colorbar\":{\"outlinewidth\":0,\"ticks\":\"\"}},\"colorscale\":{\"diverging\":[[0,\"#8e0152\"],[0.1,\"#c51b7d\"],[0.2,\"#de77ae\"],[0.3,\"#f1b6da\"],[0.4,\"#fde0ef\"],[0.5,\"#f7f7f7\"],[0.6,\"#e6f5d0\"],[0.7,\"#b8e186\"],[0.8,\"#7fbc41\"],[0.9,\"#4d9221\"],[1,\"#276419\"]],\"sequential\":[[0.0,\"#0d0887\"],[0.1111111111111111,\"#46039f\"],[0.2222222222222222,\"#7201a8\"],[0.3333333333333333,\"#9c179e\"],[0.4444444444444444,\"#bd3786\"],[0.5555555555555556,\"#d8576b\"],[0.6666666666666666,\"#ed7953\"],[0.7777777777777778,\"#fb9f3a\"],[0.8888888888888888,\"#fdca26\"],[1.0,\"#f0f921\"]],\"sequentialminus\":[[0.0,\"#0d0887\"],[0.1111111111111111,\"#46039f\"],[0.2222222222222222,\"#7201a8\"],[0.3333333333333333,\"#9c179e\"],[0.4444444444444444,\"#bd3786\"],[0.5555555555555556,\"#d8576b\"],[0.6666666666666666,\"#ed7953\"],[0.7777777777777778,\"#fb9f3a\"],[0.8888888888888888,\"#fdca26\"],[1.0,\"#f0f921\"]]},\"colorway\":[\"#636efa\",\"#EF553B\",\"#00cc96\",\"#ab63fa\",\"#FFA15A\",\"#19d3f3\",\"#FF6692\",\"#B6E880\",\"#FF97FF\",\"#FECB52\"],\"font\":{\"color\":\"#2a3f5f\"},\"geo\":{\"bgcolor\":\"white\",\"lakecolor\":\"white\",\"landcolor\":\"white\",\"showlakes\":true,\"showland\":true,\"subunitcolor\":\"#C8D4E3\"},\"hoverlabel\":{\"align\":\"left\"},\"hovermode\":\"closest\",\"mapbox\":{\"style\":\"light\"},\"paper_bgcolor\":\"white\",\"plot_bgcolor\":\"white\",\"polar\":{\"angularaxis\":{\"gridcolor\":\"#EBF0F8\",\"linecolor\":\"#EBF0F8\",\"ticks\":\"\"},\"bgcolor\":\"white\",\"radialaxis\":{\"gridcolor\":\"#EBF0F8\",\"linecolor\":\"#EBF0F8\",\"ticks\":\"\"}},\"scene\":{\"xaxis\":{\"backgroundcolor\":\"white\",\"gridcolor\":\"#DFE8F3\",\"gridwidth\":2,\"linecolor\":\"#EBF0F8\",\"showbackground\":true,\"ticks\":\"\",\"zerolinecolor\":\"#EBF0F8\"},\"yaxis\":{\"backgroundcolor\":\"white\",\"gridcolor\":\"#DFE8F3\",\"gridwidth\":2,\"linecolor\":\"#EBF0F8\",\"showbackground\":true,\"ticks\":\"\",\"zerolinecolor\":\"#EBF0F8\"},\"zaxis\":{\"backgroundcolor\":\"white\",\"gridcolor\":\"#DFE8F3\",\"gridwidth\":2,\"linecolor\":\"#EBF0F8\",\"showbackground\":true,\"ticks\":\"\",\"zerolinecolor\":\"#EBF0F8\"}},\"shapedefaults\":{\"line\":{\"color\":\"#2a3f5f\"}},\"ternary\":{\"aaxis\":{\"gridcolor\":\"#DFE8F3\",\"linecolor\":\"#A2B1C6\",\"ticks\":\"\"},\"baxis\":{\"gridcolor\":\"#DFE8F3\",\"linecolor\":\"#A2B1C6\",\"ticks\":\"\"},\"bgcolor\":\"white\",\"caxis\":{\"gridcolor\":\"#DFE8F3\",\"linecolor\":\"#A2B1C6\",\"ticks\":\"\"}},\"title\":{\"x\":0.05},\"xaxis\":{\"automargin\":true,\"gridcolor\":\"#EBF0F8\",\"linecolor\":\"#EBF0F8\",\"ticks\":\"\",\"title\":{\"standoff\":15},\"zerolinecolor\":\"#EBF0F8\",\"zerolinewidth\":2},\"yaxis\":{\"automargin\":true,\"gridcolor\":\"#EBF0F8\",\"linecolor\":\"#EBF0F8\",\"ticks\":\"\",\"title\":{\"standoff\":15},\"zerolinecolor\":\"#EBF0F8\",\"zerolinewidth\":2}}},\"xaxis\":{\"anchor\":\"y\",\"domain\":[0.0,1.0],\"title\":{\"text\":\"Model\"},\"categoryorder\":\"array\",\"categoryarray\":[\"Camembert\",\"Flaubert\"]},\"yaxis\":{\"anchor\":\"x\",\"domain\":[0.0,1.0],\"title\":{\"text\":\"Overall\"}},\"legend\":{\"title\":{\"text\":\"Model\"},\"tracegroupgap\":0},\"title\":{\"text\":\"Overall scores for each model\"},\"boxmode\":\"overlay\",\"showlegend\":false},                        {\"responsive\": true}                    ).then(function(){\n                            \nvar gd = document.getElementById('cc43da68-d123-4a4a-ae2e-dc4bfe53e992');\nvar x = new MutationObserver(function (mutations, observer) {{\n        var display = window.getComputedStyle(gd).display;\n        if (!display || display === 'none') {{\n            console.log([gd, 'removed!']);\n            Plotly.purge(gd);\n            observer.disconnect();\n        }}\n}});\n\n// Listen for the removal of the full notebook cells\nvar notebookContainer = gd.closest('#notebook-container');\nif (notebookContainer) {{\n    x.observe(notebookContainer, {childList: true});\n}}\n\n// Listen for the clearing of the current output cell\nvar outputEl = gd.closest('.output');\nif (outputEl) {{\n    x.observe(outputEl, {childList: true});\n}}\n\n                        })                };                });            </script>        </div>"
     },
     "metadata": {},
     "output_type": "display_data"
    },
    {
     "data": {
      "application/vnd.plotly.v1+json": {
       "data": [
        {
         "alignmentgroup": "True",
         "hovertemplate": "Model=%{x}<br>V_measure=%{y}<extra></extra>",
         "legendgroup": "Camembert",
         "marker": {
          "color": "#636efa"
         },
         "name": "Camembert",
         "notched": false,
         "offsetgroup": "Camembert",
         "orientation": "v",
         "showlegend": true,
         "x": [
          "Camembert",
          "Camembert",
          "Camembert",
          "Camembert",
          "Camembert",
          "Camembert",
          "Camembert",
          "Camembert",
          "Camembert",
          "Camembert",
          "Camembert",
          "Camembert",
          "Camembert",
          "Camembert"
         ],
         "x0": " ",
         "xaxis": "x",
         "y": [
          0.673013991940131,
          0.6464984284340453,
          0.412859145685326,
          0.6590790808687689,
          0.9554928955680964,
          0.7023313562856619,
          0.6885598700400486,
          0.5723182860422809,
          0.5226428807946941,
          0.4381248117702465,
          0.5795697623512835,
          0.6000045559219389,
          0.6834846874683572,
          0.6227718645255077
         ],
         "y0": " ",
         "yaxis": "y",
         "type": "box"
        },
        {
         "alignmentgroup": "True",
         "hovertemplate": "Model=%{x}<br>V_measure=%{y}<extra></extra>",
         "legendgroup": "Flaubert",
         "marker": {
          "color": "#EF553B"
         },
         "name": "Flaubert",
         "notched": false,
         "offsetgroup": "Flaubert",
         "orientation": "v",
         "showlegend": true,
         "x": [
          "Flaubert",
          "Flaubert",
          "Flaubert",
          "Flaubert",
          "Flaubert",
          "Flaubert",
          "Flaubert",
          "Flaubert",
          "Flaubert",
          "Flaubert",
          "Flaubert",
          "Flaubert",
          "Flaubert",
          "Flaubert"
         ],
         "x0": " ",
         "xaxis": "x",
         "y": [
          0.3227314723273998,
          0.1243336003889147,
          0.0704960675292033,
          0.4295448090592027,
          0.2671021338134137,
          0.1487395908383962,
          0.3068378322915465,
          0.1460829707277923,
          0.1157909106926246,
          0.1262607653540058,
          0.3768161910000364,
          0.2382200410985882,
          0.1763253384112768,
          0.2213396676384124
         ],
         "y0": " ",
         "yaxis": "y",
         "type": "box"
        }
       ],
       "layout": {
        "template": {
         "data": {
          "barpolar": [
           {
            "marker": {
             "line": {
              "color": "white",
              "width": 0.5
             },
             "pattern": {
              "fillmode": "overlay",
              "size": 10,
              "solidity": 0.2
             }
            },
            "type": "barpolar"
           }
          ],
          "bar": [
           {
            "error_x": {
             "color": "#2a3f5f"
            },
            "error_y": {
             "color": "#2a3f5f"
            },
            "marker": {
             "line": {
              "color": "white",
              "width": 0.5
             },
             "pattern": {
              "fillmode": "overlay",
              "size": 10,
              "solidity": 0.2
             }
            },
            "type": "bar"
           }
          ],
          "carpet": [
           {
            "aaxis": {
             "endlinecolor": "#2a3f5f",
             "gridcolor": "#C8D4E3",
             "linecolor": "#C8D4E3",
             "minorgridcolor": "#C8D4E3",
             "startlinecolor": "#2a3f5f"
            },
            "baxis": {
             "endlinecolor": "#2a3f5f",
             "gridcolor": "#C8D4E3",
             "linecolor": "#C8D4E3",
             "minorgridcolor": "#C8D4E3",
             "startlinecolor": "#2a3f5f"
            },
            "type": "carpet"
           }
          ],
          "choropleth": [
           {
            "colorbar": {
             "outlinewidth": 0,
             "ticks": ""
            },
            "type": "choropleth"
           }
          ],
          "contourcarpet": [
           {
            "colorbar": {
             "outlinewidth": 0,
             "ticks": ""
            },
            "type": "contourcarpet"
           }
          ],
          "contour": [
           {
            "colorbar": {
             "outlinewidth": 0,
             "ticks": ""
            },
            "colorscale": [
             [
              0.0,
              "#0d0887"
             ],
             [
              0.1111111111111111,
              "#46039f"
             ],
             [
              0.2222222222222222,
              "#7201a8"
             ],
             [
              0.3333333333333333,
              "#9c179e"
             ],
             [
              0.4444444444444444,
              "#bd3786"
             ],
             [
              0.5555555555555556,
              "#d8576b"
             ],
             [
              0.6666666666666666,
              "#ed7953"
             ],
             [
              0.7777777777777778,
              "#fb9f3a"
             ],
             [
              0.8888888888888888,
              "#fdca26"
             ],
             [
              1.0,
              "#f0f921"
             ]
            ],
            "type": "contour"
           }
          ],
          "heatmapgl": [
           {
            "colorbar": {
             "outlinewidth": 0,
             "ticks": ""
            },
            "colorscale": [
             [
              0.0,
              "#0d0887"
             ],
             [
              0.1111111111111111,
              "#46039f"
             ],
             [
              0.2222222222222222,
              "#7201a8"
             ],
             [
              0.3333333333333333,
              "#9c179e"
             ],
             [
              0.4444444444444444,
              "#bd3786"
             ],
             [
              0.5555555555555556,
              "#d8576b"
             ],
             [
              0.6666666666666666,
              "#ed7953"
             ],
             [
              0.7777777777777778,
              "#fb9f3a"
             ],
             [
              0.8888888888888888,
              "#fdca26"
             ],
             [
              1.0,
              "#f0f921"
             ]
            ],
            "type": "heatmapgl"
           }
          ],
          "heatmap": [
           {
            "colorbar": {
             "outlinewidth": 0,
             "ticks": ""
            },
            "colorscale": [
             [
              0.0,
              "#0d0887"
             ],
             [
              0.1111111111111111,
              "#46039f"
             ],
             [
              0.2222222222222222,
              "#7201a8"
             ],
             [
              0.3333333333333333,
              "#9c179e"
             ],
             [
              0.4444444444444444,
              "#bd3786"
             ],
             [
              0.5555555555555556,
              "#d8576b"
             ],
             [
              0.6666666666666666,
              "#ed7953"
             ],
             [
              0.7777777777777778,
              "#fb9f3a"
             ],
             [
              0.8888888888888888,
              "#fdca26"
             ],
             [
              1.0,
              "#f0f921"
             ]
            ],
            "type": "heatmap"
           }
          ],
          "histogram2dcontour": [
           {
            "colorbar": {
             "outlinewidth": 0,
             "ticks": ""
            },
            "colorscale": [
             [
              0.0,
              "#0d0887"
             ],
             [
              0.1111111111111111,
              "#46039f"
             ],
             [
              0.2222222222222222,
              "#7201a8"
             ],
             [
              0.3333333333333333,
              "#9c179e"
             ],
             [
              0.4444444444444444,
              "#bd3786"
             ],
             [
              0.5555555555555556,
              "#d8576b"
             ],
             [
              0.6666666666666666,
              "#ed7953"
             ],
             [
              0.7777777777777778,
              "#fb9f3a"
             ],
             [
              0.8888888888888888,
              "#fdca26"
             ],
             [
              1.0,
              "#f0f921"
             ]
            ],
            "type": "histogram2dcontour"
           }
          ],
          "histogram2d": [
           {
            "colorbar": {
             "outlinewidth": 0,
             "ticks": ""
            },
            "colorscale": [
             [
              0.0,
              "#0d0887"
             ],
             [
              0.1111111111111111,
              "#46039f"
             ],
             [
              0.2222222222222222,
              "#7201a8"
             ],
             [
              0.3333333333333333,
              "#9c179e"
             ],
             [
              0.4444444444444444,
              "#bd3786"
             ],
             [
              0.5555555555555556,
              "#d8576b"
             ],
             [
              0.6666666666666666,
              "#ed7953"
             ],
             [
              0.7777777777777778,
              "#fb9f3a"
             ],
             [
              0.8888888888888888,
              "#fdca26"
             ],
             [
              1.0,
              "#f0f921"
             ]
            ],
            "type": "histogram2d"
           }
          ],
          "histogram": [
           {
            "marker": {
             "pattern": {
              "fillmode": "overlay",
              "size": 10,
              "solidity": 0.2
             }
            },
            "type": "histogram"
           }
          ],
          "mesh3d": [
           {
            "colorbar": {
             "outlinewidth": 0,
             "ticks": ""
            },
            "type": "mesh3d"
           }
          ],
          "parcoords": [
           {
            "line": {
             "colorbar": {
              "outlinewidth": 0,
              "ticks": ""
             }
            },
            "type": "parcoords"
           }
          ],
          "pie": [
           {
            "automargin": true,
            "type": "pie"
           }
          ],
          "scatter3d": [
           {
            "line": {
             "colorbar": {
              "outlinewidth": 0,
              "ticks": ""
             }
            },
            "marker": {
             "colorbar": {
              "outlinewidth": 0,
              "ticks": ""
             }
            },
            "type": "scatter3d"
           }
          ],
          "scattercarpet": [
           {
            "marker": {
             "colorbar": {
              "outlinewidth": 0,
              "ticks": ""
             }
            },
            "type": "scattercarpet"
           }
          ],
          "scattergeo": [
           {
            "marker": {
             "colorbar": {
              "outlinewidth": 0,
              "ticks": ""
             }
            },
            "type": "scattergeo"
           }
          ],
          "scattergl": [
           {
            "marker": {
             "colorbar": {
              "outlinewidth": 0,
              "ticks": ""
             }
            },
            "type": "scattergl"
           }
          ],
          "scattermapbox": [
           {
            "marker": {
             "colorbar": {
              "outlinewidth": 0,
              "ticks": ""
             }
            },
            "type": "scattermapbox"
           }
          ],
          "scatterpolargl": [
           {
            "marker": {
             "colorbar": {
              "outlinewidth": 0,
              "ticks": ""
             }
            },
            "type": "scatterpolargl"
           }
          ],
          "scatterpolar": [
           {
            "marker": {
             "colorbar": {
              "outlinewidth": 0,
              "ticks": ""
             }
            },
            "type": "scatterpolar"
           }
          ],
          "scatter": [
           {
            "fillpattern": {
             "fillmode": "overlay",
             "size": 10,
             "solidity": 0.2
            },
            "type": "scatter"
           }
          ],
          "scatterternary": [
           {
            "marker": {
             "colorbar": {
              "outlinewidth": 0,
              "ticks": ""
             }
            },
            "type": "scatterternary"
           }
          ],
          "surface": [
           {
            "colorbar": {
             "outlinewidth": 0,
             "ticks": ""
            },
            "colorscale": [
             [
              0.0,
              "#0d0887"
             ],
             [
              0.1111111111111111,
              "#46039f"
             ],
             [
              0.2222222222222222,
              "#7201a8"
             ],
             [
              0.3333333333333333,
              "#9c179e"
             ],
             [
              0.4444444444444444,
              "#bd3786"
             ],
             [
              0.5555555555555556,
              "#d8576b"
             ],
             [
              0.6666666666666666,
              "#ed7953"
             ],
             [
              0.7777777777777778,
              "#fb9f3a"
             ],
             [
              0.8888888888888888,
              "#fdca26"
             ],
             [
              1.0,
              "#f0f921"
             ]
            ],
            "type": "surface"
           }
          ],
          "table": [
           {
            "cells": {
             "fill": {
              "color": "#EBF0F8"
             },
             "line": {
              "color": "white"
             }
            },
            "header": {
             "fill": {
              "color": "#C8D4E3"
             },
             "line": {
              "color": "white"
             }
            },
            "type": "table"
           }
          ]
         },
         "layout": {
          "annotationdefaults": {
           "arrowcolor": "#2a3f5f",
           "arrowhead": 0,
           "arrowwidth": 1
          },
          "autotypenumbers": "strict",
          "coloraxis": {
           "colorbar": {
            "outlinewidth": 0,
            "ticks": ""
           }
          },
          "colorscale": {
           "diverging": [
            [
             0,
             "#8e0152"
            ],
            [
             0.1,
             "#c51b7d"
            ],
            [
             0.2,
             "#de77ae"
            ],
            [
             0.3,
             "#f1b6da"
            ],
            [
             0.4,
             "#fde0ef"
            ],
            [
             0.5,
             "#f7f7f7"
            ],
            [
             0.6,
             "#e6f5d0"
            ],
            [
             0.7,
             "#b8e186"
            ],
            [
             0.8,
             "#7fbc41"
            ],
            [
             0.9,
             "#4d9221"
            ],
            [
             1,
             "#276419"
            ]
           ],
           "sequential": [
            [
             0.0,
             "#0d0887"
            ],
            [
             0.1111111111111111,
             "#46039f"
            ],
            [
             0.2222222222222222,
             "#7201a8"
            ],
            [
             0.3333333333333333,
             "#9c179e"
            ],
            [
             0.4444444444444444,
             "#bd3786"
            ],
            [
             0.5555555555555556,
             "#d8576b"
            ],
            [
             0.6666666666666666,
             "#ed7953"
            ],
            [
             0.7777777777777778,
             "#fb9f3a"
            ],
            [
             0.8888888888888888,
             "#fdca26"
            ],
            [
             1.0,
             "#f0f921"
            ]
           ],
           "sequentialminus": [
            [
             0.0,
             "#0d0887"
            ],
            [
             0.1111111111111111,
             "#46039f"
            ],
            [
             0.2222222222222222,
             "#7201a8"
            ],
            [
             0.3333333333333333,
             "#9c179e"
            ],
            [
             0.4444444444444444,
             "#bd3786"
            ],
            [
             0.5555555555555556,
             "#d8576b"
            ],
            [
             0.6666666666666666,
             "#ed7953"
            ],
            [
             0.7777777777777778,
             "#fb9f3a"
            ],
            [
             0.8888888888888888,
             "#fdca26"
            ],
            [
             1.0,
             "#f0f921"
            ]
           ]
          },
          "colorway": [
           "#636efa",
           "#EF553B",
           "#00cc96",
           "#ab63fa",
           "#FFA15A",
           "#19d3f3",
           "#FF6692",
           "#B6E880",
           "#FF97FF",
           "#FECB52"
          ],
          "font": {
           "color": "#2a3f5f"
          },
          "geo": {
           "bgcolor": "white",
           "lakecolor": "white",
           "landcolor": "white",
           "showlakes": true,
           "showland": true,
           "subunitcolor": "#C8D4E3"
          },
          "hoverlabel": {
           "align": "left"
          },
          "hovermode": "closest",
          "mapbox": {
           "style": "light"
          },
          "paper_bgcolor": "white",
          "plot_bgcolor": "white",
          "polar": {
           "angularaxis": {
            "gridcolor": "#EBF0F8",
            "linecolor": "#EBF0F8",
            "ticks": ""
           },
           "bgcolor": "white",
           "radialaxis": {
            "gridcolor": "#EBF0F8",
            "linecolor": "#EBF0F8",
            "ticks": ""
           }
          },
          "scene": {
           "xaxis": {
            "backgroundcolor": "white",
            "gridcolor": "#DFE8F3",
            "gridwidth": 2,
            "linecolor": "#EBF0F8",
            "showbackground": true,
            "ticks": "",
            "zerolinecolor": "#EBF0F8"
           },
           "yaxis": {
            "backgroundcolor": "white",
            "gridcolor": "#DFE8F3",
            "gridwidth": 2,
            "linecolor": "#EBF0F8",
            "showbackground": true,
            "ticks": "",
            "zerolinecolor": "#EBF0F8"
           },
           "zaxis": {
            "backgroundcolor": "white",
            "gridcolor": "#DFE8F3",
            "gridwidth": 2,
            "linecolor": "#EBF0F8",
            "showbackground": true,
            "ticks": "",
            "zerolinecolor": "#EBF0F8"
           }
          },
          "shapedefaults": {
           "line": {
            "color": "#2a3f5f"
           }
          },
          "ternary": {
           "aaxis": {
            "gridcolor": "#DFE8F3",
            "linecolor": "#A2B1C6",
            "ticks": ""
           },
           "baxis": {
            "gridcolor": "#DFE8F3",
            "linecolor": "#A2B1C6",
            "ticks": ""
           },
           "bgcolor": "white",
           "caxis": {
            "gridcolor": "#DFE8F3",
            "linecolor": "#A2B1C6",
            "ticks": ""
           }
          },
          "title": {
           "x": 0.05
          },
          "xaxis": {
           "automargin": true,
           "gridcolor": "#EBF0F8",
           "linecolor": "#EBF0F8",
           "ticks": "",
           "title": {
            "standoff": 15
           },
           "zerolinecolor": "#EBF0F8",
           "zerolinewidth": 2
          },
          "yaxis": {
           "automargin": true,
           "gridcolor": "#EBF0F8",
           "linecolor": "#EBF0F8",
           "ticks": "",
           "title": {
            "standoff": 15
           },
           "zerolinecolor": "#EBF0F8",
           "zerolinewidth": 2
          }
         }
        },
        "xaxis": {
         "anchor": "y",
         "domain": [
          0.0,
          1.0
         ],
         "title": {
          "text": "Model"
         },
         "categoryorder": "array",
         "categoryarray": [
          "Camembert",
          "Flaubert"
         ]
        },
        "yaxis": {
         "anchor": "x",
         "domain": [
          0.0,
          1.0
         ],
         "title": {
          "text": "V_measure"
         }
        },
        "legend": {
         "title": {
          "text": "Model"
         },
         "tracegroupgap": 0
        },
        "title": {
         "text": "V measure clustering scores for each model"
        },
        "boxmode": "overlay",
        "showlegend": false
       },
       "config": {
        "plotlyServerURL": "https://plot.ly"
       }
      },
      "text/html": "<div>                            <div id=\"cab08e7a-65c1-411d-b229-89ed211cf771\" class=\"plotly-graph-div\" style=\"height:525px; width:100%;\"></div>            <script type=\"text/javascript\">                require([\"plotly\"], function(Plotly) {                    window.PLOTLYENV=window.PLOTLYENV || {};                                    if (document.getElementById(\"cab08e7a-65c1-411d-b229-89ed211cf771\")) {                    Plotly.newPlot(                        \"cab08e7a-65c1-411d-b229-89ed211cf771\",                        [{\"alignmentgroup\":\"True\",\"hovertemplate\":\"Model=%{x}\\u003cbr\\u003eV_measure=%{y}\\u003cextra\\u003e\\u003c\\u002fextra\\u003e\",\"legendgroup\":\"Camembert\",\"marker\":{\"color\":\"#636efa\"},\"name\":\"Camembert\",\"notched\":false,\"offsetgroup\":\"Camembert\",\"orientation\":\"v\",\"showlegend\":true,\"x\":[\"Camembert\",\"Camembert\",\"Camembert\",\"Camembert\",\"Camembert\",\"Camembert\",\"Camembert\",\"Camembert\",\"Camembert\",\"Camembert\",\"Camembert\",\"Camembert\",\"Camembert\",\"Camembert\"],\"x0\":\" \",\"xaxis\":\"x\",\"y\":[0.673013991940131,0.6464984284340453,0.412859145685326,0.6590790808687689,0.9554928955680964,0.7023313562856619,0.6885598700400486,0.5723182860422809,0.5226428807946941,0.4381248117702465,0.5795697623512835,0.6000045559219389,0.6834846874683572,0.6227718645255077],\"y0\":\" \",\"yaxis\":\"y\",\"type\":\"box\"},{\"alignmentgroup\":\"True\",\"hovertemplate\":\"Model=%{x}\\u003cbr\\u003eV_measure=%{y}\\u003cextra\\u003e\\u003c\\u002fextra\\u003e\",\"legendgroup\":\"Flaubert\",\"marker\":{\"color\":\"#EF553B\"},\"name\":\"Flaubert\",\"notched\":false,\"offsetgroup\":\"Flaubert\",\"orientation\":\"v\",\"showlegend\":true,\"x\":[\"Flaubert\",\"Flaubert\",\"Flaubert\",\"Flaubert\",\"Flaubert\",\"Flaubert\",\"Flaubert\",\"Flaubert\",\"Flaubert\",\"Flaubert\",\"Flaubert\",\"Flaubert\",\"Flaubert\",\"Flaubert\"],\"x0\":\" \",\"xaxis\":\"x\",\"y\":[0.3227314723273998,0.1243336003889147,0.0704960675292033,0.4295448090592027,0.2671021338134137,0.1487395908383962,0.3068378322915465,0.1460829707277923,0.1157909106926246,0.1262607653540058,0.3768161910000364,0.2382200410985882,0.1763253384112768,0.2213396676384124],\"y0\":\" \",\"yaxis\":\"y\",\"type\":\"box\"}],                        {\"template\":{\"data\":{\"barpolar\":[{\"marker\":{\"line\":{\"color\":\"white\",\"width\":0.5},\"pattern\":{\"fillmode\":\"overlay\",\"size\":10,\"solidity\":0.2}},\"type\":\"barpolar\"}],\"bar\":[{\"error_x\":{\"color\":\"#2a3f5f\"},\"error_y\":{\"color\":\"#2a3f5f\"},\"marker\":{\"line\":{\"color\":\"white\",\"width\":0.5},\"pattern\":{\"fillmode\":\"overlay\",\"size\":10,\"solidity\":0.2}},\"type\":\"bar\"}],\"carpet\":[{\"aaxis\":{\"endlinecolor\":\"#2a3f5f\",\"gridcolor\":\"#C8D4E3\",\"linecolor\":\"#C8D4E3\",\"minorgridcolor\":\"#C8D4E3\",\"startlinecolor\":\"#2a3f5f\"},\"baxis\":{\"endlinecolor\":\"#2a3f5f\",\"gridcolor\":\"#C8D4E3\",\"linecolor\":\"#C8D4E3\",\"minorgridcolor\":\"#C8D4E3\",\"startlinecolor\":\"#2a3f5f\"},\"type\":\"carpet\"}],\"choropleth\":[{\"colorbar\":{\"outlinewidth\":0,\"ticks\":\"\"},\"type\":\"choropleth\"}],\"contourcarpet\":[{\"colorbar\":{\"outlinewidth\":0,\"ticks\":\"\"},\"type\":\"contourcarpet\"}],\"contour\":[{\"colorbar\":{\"outlinewidth\":0,\"ticks\":\"\"},\"colorscale\":[[0.0,\"#0d0887\"],[0.1111111111111111,\"#46039f\"],[0.2222222222222222,\"#7201a8\"],[0.3333333333333333,\"#9c179e\"],[0.4444444444444444,\"#bd3786\"],[0.5555555555555556,\"#d8576b\"],[0.6666666666666666,\"#ed7953\"],[0.7777777777777778,\"#fb9f3a\"],[0.8888888888888888,\"#fdca26\"],[1.0,\"#f0f921\"]],\"type\":\"contour\"}],\"heatmapgl\":[{\"colorbar\":{\"outlinewidth\":0,\"ticks\":\"\"},\"colorscale\":[[0.0,\"#0d0887\"],[0.1111111111111111,\"#46039f\"],[0.2222222222222222,\"#7201a8\"],[0.3333333333333333,\"#9c179e\"],[0.4444444444444444,\"#bd3786\"],[0.5555555555555556,\"#d8576b\"],[0.6666666666666666,\"#ed7953\"],[0.7777777777777778,\"#fb9f3a\"],[0.8888888888888888,\"#fdca26\"],[1.0,\"#f0f921\"]],\"type\":\"heatmapgl\"}],\"heatmap\":[{\"colorbar\":{\"outlinewidth\":0,\"ticks\":\"\"},\"colorscale\":[[0.0,\"#0d0887\"],[0.1111111111111111,\"#46039f\"],[0.2222222222222222,\"#7201a8\"],[0.3333333333333333,\"#9c179e\"],[0.4444444444444444,\"#bd3786\"],[0.5555555555555556,\"#d8576b\"],[0.6666666666666666,\"#ed7953\"],[0.7777777777777778,\"#fb9f3a\"],[0.8888888888888888,\"#fdca26\"],[1.0,\"#f0f921\"]],\"type\":\"heatmap\"}],\"histogram2dcontour\":[{\"colorbar\":{\"outlinewidth\":0,\"ticks\":\"\"},\"colorscale\":[[0.0,\"#0d0887\"],[0.1111111111111111,\"#46039f\"],[0.2222222222222222,\"#7201a8\"],[0.3333333333333333,\"#9c179e\"],[0.4444444444444444,\"#bd3786\"],[0.5555555555555556,\"#d8576b\"],[0.6666666666666666,\"#ed7953\"],[0.7777777777777778,\"#fb9f3a\"],[0.8888888888888888,\"#fdca26\"],[1.0,\"#f0f921\"]],\"type\":\"histogram2dcontour\"}],\"histogram2d\":[{\"colorbar\":{\"outlinewidth\":0,\"ticks\":\"\"},\"colorscale\":[[0.0,\"#0d0887\"],[0.1111111111111111,\"#46039f\"],[0.2222222222222222,\"#7201a8\"],[0.3333333333333333,\"#9c179e\"],[0.4444444444444444,\"#bd3786\"],[0.5555555555555556,\"#d8576b\"],[0.6666666666666666,\"#ed7953\"],[0.7777777777777778,\"#fb9f3a\"],[0.8888888888888888,\"#fdca26\"],[1.0,\"#f0f921\"]],\"type\":\"histogram2d\"}],\"histogram\":[{\"marker\":{\"pattern\":{\"fillmode\":\"overlay\",\"size\":10,\"solidity\":0.2}},\"type\":\"histogram\"}],\"mesh3d\":[{\"colorbar\":{\"outlinewidth\":0,\"ticks\":\"\"},\"type\":\"mesh3d\"}],\"parcoords\":[{\"line\":{\"colorbar\":{\"outlinewidth\":0,\"ticks\":\"\"}},\"type\":\"parcoords\"}],\"pie\":[{\"automargin\":true,\"type\":\"pie\"}],\"scatter3d\":[{\"line\":{\"colorbar\":{\"outlinewidth\":0,\"ticks\":\"\"}},\"marker\":{\"colorbar\":{\"outlinewidth\":0,\"ticks\":\"\"}},\"type\":\"scatter3d\"}],\"scattercarpet\":[{\"marker\":{\"colorbar\":{\"outlinewidth\":0,\"ticks\":\"\"}},\"type\":\"scattercarpet\"}],\"scattergeo\":[{\"marker\":{\"colorbar\":{\"outlinewidth\":0,\"ticks\":\"\"}},\"type\":\"scattergeo\"}],\"scattergl\":[{\"marker\":{\"colorbar\":{\"outlinewidth\":0,\"ticks\":\"\"}},\"type\":\"scattergl\"}],\"scattermapbox\":[{\"marker\":{\"colorbar\":{\"outlinewidth\":0,\"ticks\":\"\"}},\"type\":\"scattermapbox\"}],\"scatterpolargl\":[{\"marker\":{\"colorbar\":{\"outlinewidth\":0,\"ticks\":\"\"}},\"type\":\"scatterpolargl\"}],\"scatterpolar\":[{\"marker\":{\"colorbar\":{\"outlinewidth\":0,\"ticks\":\"\"}},\"type\":\"scatterpolar\"}],\"scatter\":[{\"fillpattern\":{\"fillmode\":\"overlay\",\"size\":10,\"solidity\":0.2},\"type\":\"scatter\"}],\"scatterternary\":[{\"marker\":{\"colorbar\":{\"outlinewidth\":0,\"ticks\":\"\"}},\"type\":\"scatterternary\"}],\"surface\":[{\"colorbar\":{\"outlinewidth\":0,\"ticks\":\"\"},\"colorscale\":[[0.0,\"#0d0887\"],[0.1111111111111111,\"#46039f\"],[0.2222222222222222,\"#7201a8\"],[0.3333333333333333,\"#9c179e\"],[0.4444444444444444,\"#bd3786\"],[0.5555555555555556,\"#d8576b\"],[0.6666666666666666,\"#ed7953\"],[0.7777777777777778,\"#fb9f3a\"],[0.8888888888888888,\"#fdca26\"],[1.0,\"#f0f921\"]],\"type\":\"surface\"}],\"table\":[{\"cells\":{\"fill\":{\"color\":\"#EBF0F8\"},\"line\":{\"color\":\"white\"}},\"header\":{\"fill\":{\"color\":\"#C8D4E3\"},\"line\":{\"color\":\"white\"}},\"type\":\"table\"}]},\"layout\":{\"annotationdefaults\":{\"arrowcolor\":\"#2a3f5f\",\"arrowhead\":0,\"arrowwidth\":1},\"autotypenumbers\":\"strict\",\"coloraxis\":{\"colorbar\":{\"outlinewidth\":0,\"ticks\":\"\"}},\"colorscale\":{\"diverging\":[[0,\"#8e0152\"],[0.1,\"#c51b7d\"],[0.2,\"#de77ae\"],[0.3,\"#f1b6da\"],[0.4,\"#fde0ef\"],[0.5,\"#f7f7f7\"],[0.6,\"#e6f5d0\"],[0.7,\"#b8e186\"],[0.8,\"#7fbc41\"],[0.9,\"#4d9221\"],[1,\"#276419\"]],\"sequential\":[[0.0,\"#0d0887\"],[0.1111111111111111,\"#46039f\"],[0.2222222222222222,\"#7201a8\"],[0.3333333333333333,\"#9c179e\"],[0.4444444444444444,\"#bd3786\"],[0.5555555555555556,\"#d8576b\"],[0.6666666666666666,\"#ed7953\"],[0.7777777777777778,\"#fb9f3a\"],[0.8888888888888888,\"#fdca26\"],[1.0,\"#f0f921\"]],\"sequentialminus\":[[0.0,\"#0d0887\"],[0.1111111111111111,\"#46039f\"],[0.2222222222222222,\"#7201a8\"],[0.3333333333333333,\"#9c179e\"],[0.4444444444444444,\"#bd3786\"],[0.5555555555555556,\"#d8576b\"],[0.6666666666666666,\"#ed7953\"],[0.7777777777777778,\"#fb9f3a\"],[0.8888888888888888,\"#fdca26\"],[1.0,\"#f0f921\"]]},\"colorway\":[\"#636efa\",\"#EF553B\",\"#00cc96\",\"#ab63fa\",\"#FFA15A\",\"#19d3f3\",\"#FF6692\",\"#B6E880\",\"#FF97FF\",\"#FECB52\"],\"font\":{\"color\":\"#2a3f5f\"},\"geo\":{\"bgcolor\":\"white\",\"lakecolor\":\"white\",\"landcolor\":\"white\",\"showlakes\":true,\"showland\":true,\"subunitcolor\":\"#C8D4E3\"},\"hoverlabel\":{\"align\":\"left\"},\"hovermode\":\"closest\",\"mapbox\":{\"style\":\"light\"},\"paper_bgcolor\":\"white\",\"plot_bgcolor\":\"white\",\"polar\":{\"angularaxis\":{\"gridcolor\":\"#EBF0F8\",\"linecolor\":\"#EBF0F8\",\"ticks\":\"\"},\"bgcolor\":\"white\",\"radialaxis\":{\"gridcolor\":\"#EBF0F8\",\"linecolor\":\"#EBF0F8\",\"ticks\":\"\"}},\"scene\":{\"xaxis\":{\"backgroundcolor\":\"white\",\"gridcolor\":\"#DFE8F3\",\"gridwidth\":2,\"linecolor\":\"#EBF0F8\",\"showbackground\":true,\"ticks\":\"\",\"zerolinecolor\":\"#EBF0F8\"},\"yaxis\":{\"backgroundcolor\":\"white\",\"gridcolor\":\"#DFE8F3\",\"gridwidth\":2,\"linecolor\":\"#EBF0F8\",\"showbackground\":true,\"ticks\":\"\",\"zerolinecolor\":\"#EBF0F8\"},\"zaxis\":{\"backgroundcolor\":\"white\",\"gridcolor\":\"#DFE8F3\",\"gridwidth\":2,\"linecolor\":\"#EBF0F8\",\"showbackground\":true,\"ticks\":\"\",\"zerolinecolor\":\"#EBF0F8\"}},\"shapedefaults\":{\"line\":{\"color\":\"#2a3f5f\"}},\"ternary\":{\"aaxis\":{\"gridcolor\":\"#DFE8F3\",\"linecolor\":\"#A2B1C6\",\"ticks\":\"\"},\"baxis\":{\"gridcolor\":\"#DFE8F3\",\"linecolor\":\"#A2B1C6\",\"ticks\":\"\"},\"bgcolor\":\"white\",\"caxis\":{\"gridcolor\":\"#DFE8F3\",\"linecolor\":\"#A2B1C6\",\"ticks\":\"\"}},\"title\":{\"x\":0.05},\"xaxis\":{\"automargin\":true,\"gridcolor\":\"#EBF0F8\",\"linecolor\":\"#EBF0F8\",\"ticks\":\"\",\"title\":{\"standoff\":15},\"zerolinecolor\":\"#EBF0F8\",\"zerolinewidth\":2},\"yaxis\":{\"automargin\":true,\"gridcolor\":\"#EBF0F8\",\"linecolor\":\"#EBF0F8\",\"ticks\":\"\",\"title\":{\"standoff\":15},\"zerolinecolor\":\"#EBF0F8\",\"zerolinewidth\":2}}},\"xaxis\":{\"anchor\":\"y\",\"domain\":[0.0,1.0],\"title\":{\"text\":\"Model\"},\"categoryorder\":\"array\",\"categoryarray\":[\"Camembert\",\"Flaubert\"]},\"yaxis\":{\"anchor\":\"x\",\"domain\":[0.0,1.0],\"title\":{\"text\":\"V_measure\"}},\"legend\":{\"title\":{\"text\":\"Model\"},\"tracegroupgap\":0},\"title\":{\"text\":\"V measure clustering scores for each model\"},\"boxmode\":\"overlay\",\"showlegend\":false},                        {\"responsive\": true}                    ).then(function(){\n                            \nvar gd = document.getElementById('cab08e7a-65c1-411d-b229-89ed211cf771');\nvar x = new MutationObserver(function (mutations, observer) {{\n        var display = window.getComputedStyle(gd).display;\n        if (!display || display === 'none') {{\n            console.log([gd, 'removed!']);\n            Plotly.purge(gd);\n            observer.disconnect();\n        }}\n}});\n\n// Listen for the removal of the full notebook cells\nvar notebookContainer = gd.closest('#notebook-container');\nif (notebookContainer) {{\n    x.observe(notebookContainer, {childList: true});\n}}\n\n// Listen for the clearing of the current output cell\nvar outputEl = gd.closest('.output');\nif (outputEl) {{\n    x.observe(outputEl, {childList: true});\n}}\n\n                        })                };                });            </script>        </div>"
     },
     "metadata": {},
     "output_type": "display_data"
    },
    {
     "data": {
      "application/vnd.plotly.v1+json": {
       "data": [
        {
         "alignmentgroup": "True",
         "hovertemplate": "Model=%{x}<br>Rand=%{y}<extra></extra>",
         "legendgroup": "Camembert",
         "marker": {
          "color": "#636efa"
         },
         "name": "Camembert",
         "notched": false,
         "offsetgroup": "Camembert",
         "orientation": "v",
         "showlegend": true,
         "x": [
          "Camembert",
          "Camembert",
          "Camembert",
          "Camembert",
          "Camembert",
          "Camembert",
          "Camembert",
          "Camembert",
          "Camembert",
          "Camembert",
          "Camembert",
          "Camembert",
          "Camembert",
          "Camembert"
         ],
         "x0": " ",
         "xaxis": "x",
         "y": [
          0.5048716343697399,
          0.6369332318496678,
          0.4058002715555123,
          0.6876074488938916,
          0.9689839076195336,
          0.7435127877492544,
          0.5557075157402181,
          0.4550974752317034,
          0.4281772819419988,
          0.2984841612253294,
          0.4395354438170676,
          0.5340565619000852,
          0.6174195549310785,
          0.5567919236358106
         ],
         "y0": " ",
         "yaxis": "y",
         "type": "box"
        },
        {
         "alignmentgroup": "True",
         "hovertemplate": "Model=%{x}<br>Rand=%{y}<extra></extra>",
         "legendgroup": "Flaubert",
         "marker": {
          "color": "#EF553B"
         },
         "name": "Flaubert",
         "notched": false,
         "offsetgroup": "Flaubert",
         "orientation": "v",
         "showlegend": true,
         "x": [
          "Flaubert",
          "Flaubert",
          "Flaubert",
          "Flaubert",
          "Flaubert",
          "Flaubert",
          "Flaubert",
          "Flaubert",
          "Flaubert",
          "Flaubert",
          "Flaubert",
          "Flaubert",
          "Flaubert",
          "Flaubert"
         ],
         "x0": " ",
         "xaxis": "x",
         "y": [
          0.3685909025783078,
          0.1387622122785199,
          0.0343676008660635,
          0.4740147136207822,
          0.0716143788310965,
          0.0689698393743055,
          0.0623961000432972,
          -0.0071831951040854,
          0.2078243510143005,
          0.0489856916859732,
          0.3091281645711821,
          0.1881519031273039,
          0.0907518449137705,
          0.1615882508872493
         ],
         "y0": " ",
         "yaxis": "y",
         "type": "box"
        }
       ],
       "layout": {
        "template": {
         "data": {
          "barpolar": [
           {
            "marker": {
             "line": {
              "color": "white",
              "width": 0.5
             },
             "pattern": {
              "fillmode": "overlay",
              "size": 10,
              "solidity": 0.2
             }
            },
            "type": "barpolar"
           }
          ],
          "bar": [
           {
            "error_x": {
             "color": "#2a3f5f"
            },
            "error_y": {
             "color": "#2a3f5f"
            },
            "marker": {
             "line": {
              "color": "white",
              "width": 0.5
             },
             "pattern": {
              "fillmode": "overlay",
              "size": 10,
              "solidity": 0.2
             }
            },
            "type": "bar"
           }
          ],
          "carpet": [
           {
            "aaxis": {
             "endlinecolor": "#2a3f5f",
             "gridcolor": "#C8D4E3",
             "linecolor": "#C8D4E3",
             "minorgridcolor": "#C8D4E3",
             "startlinecolor": "#2a3f5f"
            },
            "baxis": {
             "endlinecolor": "#2a3f5f",
             "gridcolor": "#C8D4E3",
             "linecolor": "#C8D4E3",
             "minorgridcolor": "#C8D4E3",
             "startlinecolor": "#2a3f5f"
            },
            "type": "carpet"
           }
          ],
          "choropleth": [
           {
            "colorbar": {
             "outlinewidth": 0,
             "ticks": ""
            },
            "type": "choropleth"
           }
          ],
          "contourcarpet": [
           {
            "colorbar": {
             "outlinewidth": 0,
             "ticks": ""
            },
            "type": "contourcarpet"
           }
          ],
          "contour": [
           {
            "colorbar": {
             "outlinewidth": 0,
             "ticks": ""
            },
            "colorscale": [
             [
              0.0,
              "#0d0887"
             ],
             [
              0.1111111111111111,
              "#46039f"
             ],
             [
              0.2222222222222222,
              "#7201a8"
             ],
             [
              0.3333333333333333,
              "#9c179e"
             ],
             [
              0.4444444444444444,
              "#bd3786"
             ],
             [
              0.5555555555555556,
              "#d8576b"
             ],
             [
              0.6666666666666666,
              "#ed7953"
             ],
             [
              0.7777777777777778,
              "#fb9f3a"
             ],
             [
              0.8888888888888888,
              "#fdca26"
             ],
             [
              1.0,
              "#f0f921"
             ]
            ],
            "type": "contour"
           }
          ],
          "heatmapgl": [
           {
            "colorbar": {
             "outlinewidth": 0,
             "ticks": ""
            },
            "colorscale": [
             [
              0.0,
              "#0d0887"
             ],
             [
              0.1111111111111111,
              "#46039f"
             ],
             [
              0.2222222222222222,
              "#7201a8"
             ],
             [
              0.3333333333333333,
              "#9c179e"
             ],
             [
              0.4444444444444444,
              "#bd3786"
             ],
             [
              0.5555555555555556,
              "#d8576b"
             ],
             [
              0.6666666666666666,
              "#ed7953"
             ],
             [
              0.7777777777777778,
              "#fb9f3a"
             ],
             [
              0.8888888888888888,
              "#fdca26"
             ],
             [
              1.0,
              "#f0f921"
             ]
            ],
            "type": "heatmapgl"
           }
          ],
          "heatmap": [
           {
            "colorbar": {
             "outlinewidth": 0,
             "ticks": ""
            },
            "colorscale": [
             [
              0.0,
              "#0d0887"
             ],
             [
              0.1111111111111111,
              "#46039f"
             ],
             [
              0.2222222222222222,
              "#7201a8"
             ],
             [
              0.3333333333333333,
              "#9c179e"
             ],
             [
              0.4444444444444444,
              "#bd3786"
             ],
             [
              0.5555555555555556,
              "#d8576b"
             ],
             [
              0.6666666666666666,
              "#ed7953"
             ],
             [
              0.7777777777777778,
              "#fb9f3a"
             ],
             [
              0.8888888888888888,
              "#fdca26"
             ],
             [
              1.0,
              "#f0f921"
             ]
            ],
            "type": "heatmap"
           }
          ],
          "histogram2dcontour": [
           {
            "colorbar": {
             "outlinewidth": 0,
             "ticks": ""
            },
            "colorscale": [
             [
              0.0,
              "#0d0887"
             ],
             [
              0.1111111111111111,
              "#46039f"
             ],
             [
              0.2222222222222222,
              "#7201a8"
             ],
             [
              0.3333333333333333,
              "#9c179e"
             ],
             [
              0.4444444444444444,
              "#bd3786"
             ],
             [
              0.5555555555555556,
              "#d8576b"
             ],
             [
              0.6666666666666666,
              "#ed7953"
             ],
             [
              0.7777777777777778,
              "#fb9f3a"
             ],
             [
              0.8888888888888888,
              "#fdca26"
             ],
             [
              1.0,
              "#f0f921"
             ]
            ],
            "type": "histogram2dcontour"
           }
          ],
          "histogram2d": [
           {
            "colorbar": {
             "outlinewidth": 0,
             "ticks": ""
            },
            "colorscale": [
             [
              0.0,
              "#0d0887"
             ],
             [
              0.1111111111111111,
              "#46039f"
             ],
             [
              0.2222222222222222,
              "#7201a8"
             ],
             [
              0.3333333333333333,
              "#9c179e"
             ],
             [
              0.4444444444444444,
              "#bd3786"
             ],
             [
              0.5555555555555556,
              "#d8576b"
             ],
             [
              0.6666666666666666,
              "#ed7953"
             ],
             [
              0.7777777777777778,
              "#fb9f3a"
             ],
             [
              0.8888888888888888,
              "#fdca26"
             ],
             [
              1.0,
              "#f0f921"
             ]
            ],
            "type": "histogram2d"
           }
          ],
          "histogram": [
           {
            "marker": {
             "pattern": {
              "fillmode": "overlay",
              "size": 10,
              "solidity": 0.2
             }
            },
            "type": "histogram"
           }
          ],
          "mesh3d": [
           {
            "colorbar": {
             "outlinewidth": 0,
             "ticks": ""
            },
            "type": "mesh3d"
           }
          ],
          "parcoords": [
           {
            "line": {
             "colorbar": {
              "outlinewidth": 0,
              "ticks": ""
             }
            },
            "type": "parcoords"
           }
          ],
          "pie": [
           {
            "automargin": true,
            "type": "pie"
           }
          ],
          "scatter3d": [
           {
            "line": {
             "colorbar": {
              "outlinewidth": 0,
              "ticks": ""
             }
            },
            "marker": {
             "colorbar": {
              "outlinewidth": 0,
              "ticks": ""
             }
            },
            "type": "scatter3d"
           }
          ],
          "scattercarpet": [
           {
            "marker": {
             "colorbar": {
              "outlinewidth": 0,
              "ticks": ""
             }
            },
            "type": "scattercarpet"
           }
          ],
          "scattergeo": [
           {
            "marker": {
             "colorbar": {
              "outlinewidth": 0,
              "ticks": ""
             }
            },
            "type": "scattergeo"
           }
          ],
          "scattergl": [
           {
            "marker": {
             "colorbar": {
              "outlinewidth": 0,
              "ticks": ""
             }
            },
            "type": "scattergl"
           }
          ],
          "scattermapbox": [
           {
            "marker": {
             "colorbar": {
              "outlinewidth": 0,
              "ticks": ""
             }
            },
            "type": "scattermapbox"
           }
          ],
          "scatterpolargl": [
           {
            "marker": {
             "colorbar": {
              "outlinewidth": 0,
              "ticks": ""
             }
            },
            "type": "scatterpolargl"
           }
          ],
          "scatterpolar": [
           {
            "marker": {
             "colorbar": {
              "outlinewidth": 0,
              "ticks": ""
             }
            },
            "type": "scatterpolar"
           }
          ],
          "scatter": [
           {
            "fillpattern": {
             "fillmode": "overlay",
             "size": 10,
             "solidity": 0.2
            },
            "type": "scatter"
           }
          ],
          "scatterternary": [
           {
            "marker": {
             "colorbar": {
              "outlinewidth": 0,
              "ticks": ""
             }
            },
            "type": "scatterternary"
           }
          ],
          "surface": [
           {
            "colorbar": {
             "outlinewidth": 0,
             "ticks": ""
            },
            "colorscale": [
             [
              0.0,
              "#0d0887"
             ],
             [
              0.1111111111111111,
              "#46039f"
             ],
             [
              0.2222222222222222,
              "#7201a8"
             ],
             [
              0.3333333333333333,
              "#9c179e"
             ],
             [
              0.4444444444444444,
              "#bd3786"
             ],
             [
              0.5555555555555556,
              "#d8576b"
             ],
             [
              0.6666666666666666,
              "#ed7953"
             ],
             [
              0.7777777777777778,
              "#fb9f3a"
             ],
             [
              0.8888888888888888,
              "#fdca26"
             ],
             [
              1.0,
              "#f0f921"
             ]
            ],
            "type": "surface"
           }
          ],
          "table": [
           {
            "cells": {
             "fill": {
              "color": "#EBF0F8"
             },
             "line": {
              "color": "white"
             }
            },
            "header": {
             "fill": {
              "color": "#C8D4E3"
             },
             "line": {
              "color": "white"
             }
            },
            "type": "table"
           }
          ]
         },
         "layout": {
          "annotationdefaults": {
           "arrowcolor": "#2a3f5f",
           "arrowhead": 0,
           "arrowwidth": 1
          },
          "autotypenumbers": "strict",
          "coloraxis": {
           "colorbar": {
            "outlinewidth": 0,
            "ticks": ""
           }
          },
          "colorscale": {
           "diverging": [
            [
             0,
             "#8e0152"
            ],
            [
             0.1,
             "#c51b7d"
            ],
            [
             0.2,
             "#de77ae"
            ],
            [
             0.3,
             "#f1b6da"
            ],
            [
             0.4,
             "#fde0ef"
            ],
            [
             0.5,
             "#f7f7f7"
            ],
            [
             0.6,
             "#e6f5d0"
            ],
            [
             0.7,
             "#b8e186"
            ],
            [
             0.8,
             "#7fbc41"
            ],
            [
             0.9,
             "#4d9221"
            ],
            [
             1,
             "#276419"
            ]
           ],
           "sequential": [
            [
             0.0,
             "#0d0887"
            ],
            [
             0.1111111111111111,
             "#46039f"
            ],
            [
             0.2222222222222222,
             "#7201a8"
            ],
            [
             0.3333333333333333,
             "#9c179e"
            ],
            [
             0.4444444444444444,
             "#bd3786"
            ],
            [
             0.5555555555555556,
             "#d8576b"
            ],
            [
             0.6666666666666666,
             "#ed7953"
            ],
            [
             0.7777777777777778,
             "#fb9f3a"
            ],
            [
             0.8888888888888888,
             "#fdca26"
            ],
            [
             1.0,
             "#f0f921"
            ]
           ],
           "sequentialminus": [
            [
             0.0,
             "#0d0887"
            ],
            [
             0.1111111111111111,
             "#46039f"
            ],
            [
             0.2222222222222222,
             "#7201a8"
            ],
            [
             0.3333333333333333,
             "#9c179e"
            ],
            [
             0.4444444444444444,
             "#bd3786"
            ],
            [
             0.5555555555555556,
             "#d8576b"
            ],
            [
             0.6666666666666666,
             "#ed7953"
            ],
            [
             0.7777777777777778,
             "#fb9f3a"
            ],
            [
             0.8888888888888888,
             "#fdca26"
            ],
            [
             1.0,
             "#f0f921"
            ]
           ]
          },
          "colorway": [
           "#636efa",
           "#EF553B",
           "#00cc96",
           "#ab63fa",
           "#FFA15A",
           "#19d3f3",
           "#FF6692",
           "#B6E880",
           "#FF97FF",
           "#FECB52"
          ],
          "font": {
           "color": "#2a3f5f"
          },
          "geo": {
           "bgcolor": "white",
           "lakecolor": "white",
           "landcolor": "white",
           "showlakes": true,
           "showland": true,
           "subunitcolor": "#C8D4E3"
          },
          "hoverlabel": {
           "align": "left"
          },
          "hovermode": "closest",
          "mapbox": {
           "style": "light"
          },
          "paper_bgcolor": "white",
          "plot_bgcolor": "white",
          "polar": {
           "angularaxis": {
            "gridcolor": "#EBF0F8",
            "linecolor": "#EBF0F8",
            "ticks": ""
           },
           "bgcolor": "white",
           "radialaxis": {
            "gridcolor": "#EBF0F8",
            "linecolor": "#EBF0F8",
            "ticks": ""
           }
          },
          "scene": {
           "xaxis": {
            "backgroundcolor": "white",
            "gridcolor": "#DFE8F3",
            "gridwidth": 2,
            "linecolor": "#EBF0F8",
            "showbackground": true,
            "ticks": "",
            "zerolinecolor": "#EBF0F8"
           },
           "yaxis": {
            "backgroundcolor": "white",
            "gridcolor": "#DFE8F3",
            "gridwidth": 2,
            "linecolor": "#EBF0F8",
            "showbackground": true,
            "ticks": "",
            "zerolinecolor": "#EBF0F8"
           },
           "zaxis": {
            "backgroundcolor": "white",
            "gridcolor": "#DFE8F3",
            "gridwidth": 2,
            "linecolor": "#EBF0F8",
            "showbackground": true,
            "ticks": "",
            "zerolinecolor": "#EBF0F8"
           }
          },
          "shapedefaults": {
           "line": {
            "color": "#2a3f5f"
           }
          },
          "ternary": {
           "aaxis": {
            "gridcolor": "#DFE8F3",
            "linecolor": "#A2B1C6",
            "ticks": ""
           },
           "baxis": {
            "gridcolor": "#DFE8F3",
            "linecolor": "#A2B1C6",
            "ticks": ""
           },
           "bgcolor": "white",
           "caxis": {
            "gridcolor": "#DFE8F3",
            "linecolor": "#A2B1C6",
            "ticks": ""
           }
          },
          "title": {
           "x": 0.05
          },
          "xaxis": {
           "automargin": true,
           "gridcolor": "#EBF0F8",
           "linecolor": "#EBF0F8",
           "ticks": "",
           "title": {
            "standoff": 15
           },
           "zerolinecolor": "#EBF0F8",
           "zerolinewidth": 2
          },
          "yaxis": {
           "automargin": true,
           "gridcolor": "#EBF0F8",
           "linecolor": "#EBF0F8",
           "ticks": "",
           "title": {
            "standoff": 15
           },
           "zerolinecolor": "#EBF0F8",
           "zerolinewidth": 2
          }
         }
        },
        "xaxis": {
         "anchor": "y",
         "domain": [
          0.0,
          1.0
         ],
         "title": {
          "text": "Model"
         },
         "categoryorder": "array",
         "categoryarray": [
          "Camembert",
          "Flaubert"
         ]
        },
        "yaxis": {
         "anchor": "x",
         "domain": [
          0.0,
          1.0
         ],
         "title": {
          "text": "Rand"
         }
        },
        "legend": {
         "title": {
          "text": "Model"
         },
         "tracegroupgap": 0
        },
        "title": {
         "text": "Rand scores for each model"
        },
        "boxmode": "overlay",
        "showlegend": false
       },
       "config": {
        "plotlyServerURL": "https://plot.ly"
       }
      },
      "text/html": "<div>                            <div id=\"c63bca67-b983-460b-87e2-c99b33a82542\" class=\"plotly-graph-div\" style=\"height:525px; width:100%;\"></div>            <script type=\"text/javascript\">                require([\"plotly\"], function(Plotly) {                    window.PLOTLYENV=window.PLOTLYENV || {};                                    if (document.getElementById(\"c63bca67-b983-460b-87e2-c99b33a82542\")) {                    Plotly.newPlot(                        \"c63bca67-b983-460b-87e2-c99b33a82542\",                        [{\"alignmentgroup\":\"True\",\"hovertemplate\":\"Model=%{x}\\u003cbr\\u003eRand=%{y}\\u003cextra\\u003e\\u003c\\u002fextra\\u003e\",\"legendgroup\":\"Camembert\",\"marker\":{\"color\":\"#636efa\"},\"name\":\"Camembert\",\"notched\":false,\"offsetgroup\":\"Camembert\",\"orientation\":\"v\",\"showlegend\":true,\"x\":[\"Camembert\",\"Camembert\",\"Camembert\",\"Camembert\",\"Camembert\",\"Camembert\",\"Camembert\",\"Camembert\",\"Camembert\",\"Camembert\",\"Camembert\",\"Camembert\",\"Camembert\",\"Camembert\"],\"x0\":\" \",\"xaxis\":\"x\",\"y\":[0.5048716343697399,0.6369332318496678,0.4058002715555123,0.6876074488938916,0.9689839076195336,0.7435127877492544,0.5557075157402181,0.4550974752317034,0.4281772819419988,0.2984841612253294,0.4395354438170676,0.5340565619000852,0.6174195549310785,0.5567919236358106],\"y0\":\" \",\"yaxis\":\"y\",\"type\":\"box\"},{\"alignmentgroup\":\"True\",\"hovertemplate\":\"Model=%{x}\\u003cbr\\u003eRand=%{y}\\u003cextra\\u003e\\u003c\\u002fextra\\u003e\",\"legendgroup\":\"Flaubert\",\"marker\":{\"color\":\"#EF553B\"},\"name\":\"Flaubert\",\"notched\":false,\"offsetgroup\":\"Flaubert\",\"orientation\":\"v\",\"showlegend\":true,\"x\":[\"Flaubert\",\"Flaubert\",\"Flaubert\",\"Flaubert\",\"Flaubert\",\"Flaubert\",\"Flaubert\",\"Flaubert\",\"Flaubert\",\"Flaubert\",\"Flaubert\",\"Flaubert\",\"Flaubert\",\"Flaubert\"],\"x0\":\" \",\"xaxis\":\"x\",\"y\":[0.3685909025783078,0.1387622122785199,0.0343676008660635,0.4740147136207822,0.0716143788310965,0.0689698393743055,0.0623961000432972,-0.0071831951040854,0.2078243510143005,0.0489856916859732,0.3091281645711821,0.1881519031273039,0.0907518449137705,0.1615882508872493],\"y0\":\" \",\"yaxis\":\"y\",\"type\":\"box\"}],                        {\"template\":{\"data\":{\"barpolar\":[{\"marker\":{\"line\":{\"color\":\"white\",\"width\":0.5},\"pattern\":{\"fillmode\":\"overlay\",\"size\":10,\"solidity\":0.2}},\"type\":\"barpolar\"}],\"bar\":[{\"error_x\":{\"color\":\"#2a3f5f\"},\"error_y\":{\"color\":\"#2a3f5f\"},\"marker\":{\"line\":{\"color\":\"white\",\"width\":0.5},\"pattern\":{\"fillmode\":\"overlay\",\"size\":10,\"solidity\":0.2}},\"type\":\"bar\"}],\"carpet\":[{\"aaxis\":{\"endlinecolor\":\"#2a3f5f\",\"gridcolor\":\"#C8D4E3\",\"linecolor\":\"#C8D4E3\",\"minorgridcolor\":\"#C8D4E3\",\"startlinecolor\":\"#2a3f5f\"},\"baxis\":{\"endlinecolor\":\"#2a3f5f\",\"gridcolor\":\"#C8D4E3\",\"linecolor\":\"#C8D4E3\",\"minorgridcolor\":\"#C8D4E3\",\"startlinecolor\":\"#2a3f5f\"},\"type\":\"carpet\"}],\"choropleth\":[{\"colorbar\":{\"outlinewidth\":0,\"ticks\":\"\"},\"type\":\"choropleth\"}],\"contourcarpet\":[{\"colorbar\":{\"outlinewidth\":0,\"ticks\":\"\"},\"type\":\"contourcarpet\"}],\"contour\":[{\"colorbar\":{\"outlinewidth\":0,\"ticks\":\"\"},\"colorscale\":[[0.0,\"#0d0887\"],[0.1111111111111111,\"#46039f\"],[0.2222222222222222,\"#7201a8\"],[0.3333333333333333,\"#9c179e\"],[0.4444444444444444,\"#bd3786\"],[0.5555555555555556,\"#d8576b\"],[0.6666666666666666,\"#ed7953\"],[0.7777777777777778,\"#fb9f3a\"],[0.8888888888888888,\"#fdca26\"],[1.0,\"#f0f921\"]],\"type\":\"contour\"}],\"heatmapgl\":[{\"colorbar\":{\"outlinewidth\":0,\"ticks\":\"\"},\"colorscale\":[[0.0,\"#0d0887\"],[0.1111111111111111,\"#46039f\"],[0.2222222222222222,\"#7201a8\"],[0.3333333333333333,\"#9c179e\"],[0.4444444444444444,\"#bd3786\"],[0.5555555555555556,\"#d8576b\"],[0.6666666666666666,\"#ed7953\"],[0.7777777777777778,\"#fb9f3a\"],[0.8888888888888888,\"#fdca26\"],[1.0,\"#f0f921\"]],\"type\":\"heatmapgl\"}],\"heatmap\":[{\"colorbar\":{\"outlinewidth\":0,\"ticks\":\"\"},\"colorscale\":[[0.0,\"#0d0887\"],[0.1111111111111111,\"#46039f\"],[0.2222222222222222,\"#7201a8\"],[0.3333333333333333,\"#9c179e\"],[0.4444444444444444,\"#bd3786\"],[0.5555555555555556,\"#d8576b\"],[0.6666666666666666,\"#ed7953\"],[0.7777777777777778,\"#fb9f3a\"],[0.8888888888888888,\"#fdca26\"],[1.0,\"#f0f921\"]],\"type\":\"heatmap\"}],\"histogram2dcontour\":[{\"colorbar\":{\"outlinewidth\":0,\"ticks\":\"\"},\"colorscale\":[[0.0,\"#0d0887\"],[0.1111111111111111,\"#46039f\"],[0.2222222222222222,\"#7201a8\"],[0.3333333333333333,\"#9c179e\"],[0.4444444444444444,\"#bd3786\"],[0.5555555555555556,\"#d8576b\"],[0.6666666666666666,\"#ed7953\"],[0.7777777777777778,\"#fb9f3a\"],[0.8888888888888888,\"#fdca26\"],[1.0,\"#f0f921\"]],\"type\":\"histogram2dcontour\"}],\"histogram2d\":[{\"colorbar\":{\"outlinewidth\":0,\"ticks\":\"\"},\"colorscale\":[[0.0,\"#0d0887\"],[0.1111111111111111,\"#46039f\"],[0.2222222222222222,\"#7201a8\"],[0.3333333333333333,\"#9c179e\"],[0.4444444444444444,\"#bd3786\"],[0.5555555555555556,\"#d8576b\"],[0.6666666666666666,\"#ed7953\"],[0.7777777777777778,\"#fb9f3a\"],[0.8888888888888888,\"#fdca26\"],[1.0,\"#f0f921\"]],\"type\":\"histogram2d\"}],\"histogram\":[{\"marker\":{\"pattern\":{\"fillmode\":\"overlay\",\"size\":10,\"solidity\":0.2}},\"type\":\"histogram\"}],\"mesh3d\":[{\"colorbar\":{\"outlinewidth\":0,\"ticks\":\"\"},\"type\":\"mesh3d\"}],\"parcoords\":[{\"line\":{\"colorbar\":{\"outlinewidth\":0,\"ticks\":\"\"}},\"type\":\"parcoords\"}],\"pie\":[{\"automargin\":true,\"type\":\"pie\"}],\"scatter3d\":[{\"line\":{\"colorbar\":{\"outlinewidth\":0,\"ticks\":\"\"}},\"marker\":{\"colorbar\":{\"outlinewidth\":0,\"ticks\":\"\"}},\"type\":\"scatter3d\"}],\"scattercarpet\":[{\"marker\":{\"colorbar\":{\"outlinewidth\":0,\"ticks\":\"\"}},\"type\":\"scattercarpet\"}],\"scattergeo\":[{\"marker\":{\"colorbar\":{\"outlinewidth\":0,\"ticks\":\"\"}},\"type\":\"scattergeo\"}],\"scattergl\":[{\"marker\":{\"colorbar\":{\"outlinewidth\":0,\"ticks\":\"\"}},\"type\":\"scattergl\"}],\"scattermapbox\":[{\"marker\":{\"colorbar\":{\"outlinewidth\":0,\"ticks\":\"\"}},\"type\":\"scattermapbox\"}],\"scatterpolargl\":[{\"marker\":{\"colorbar\":{\"outlinewidth\":0,\"ticks\":\"\"}},\"type\":\"scatterpolargl\"}],\"scatterpolar\":[{\"marker\":{\"colorbar\":{\"outlinewidth\":0,\"ticks\":\"\"}},\"type\":\"scatterpolar\"}],\"scatter\":[{\"fillpattern\":{\"fillmode\":\"overlay\",\"size\":10,\"solidity\":0.2},\"type\":\"scatter\"}],\"scatterternary\":[{\"marker\":{\"colorbar\":{\"outlinewidth\":0,\"ticks\":\"\"}},\"type\":\"scatterternary\"}],\"surface\":[{\"colorbar\":{\"outlinewidth\":0,\"ticks\":\"\"},\"colorscale\":[[0.0,\"#0d0887\"],[0.1111111111111111,\"#46039f\"],[0.2222222222222222,\"#7201a8\"],[0.3333333333333333,\"#9c179e\"],[0.4444444444444444,\"#bd3786\"],[0.5555555555555556,\"#d8576b\"],[0.6666666666666666,\"#ed7953\"],[0.7777777777777778,\"#fb9f3a\"],[0.8888888888888888,\"#fdca26\"],[1.0,\"#f0f921\"]],\"type\":\"surface\"}],\"table\":[{\"cells\":{\"fill\":{\"color\":\"#EBF0F8\"},\"line\":{\"color\":\"white\"}},\"header\":{\"fill\":{\"color\":\"#C8D4E3\"},\"line\":{\"color\":\"white\"}},\"type\":\"table\"}]},\"layout\":{\"annotationdefaults\":{\"arrowcolor\":\"#2a3f5f\",\"arrowhead\":0,\"arrowwidth\":1},\"autotypenumbers\":\"strict\",\"coloraxis\":{\"colorbar\":{\"outlinewidth\":0,\"ticks\":\"\"}},\"colorscale\":{\"diverging\":[[0,\"#8e0152\"],[0.1,\"#c51b7d\"],[0.2,\"#de77ae\"],[0.3,\"#f1b6da\"],[0.4,\"#fde0ef\"],[0.5,\"#f7f7f7\"],[0.6,\"#e6f5d0\"],[0.7,\"#b8e186\"],[0.8,\"#7fbc41\"],[0.9,\"#4d9221\"],[1,\"#276419\"]],\"sequential\":[[0.0,\"#0d0887\"],[0.1111111111111111,\"#46039f\"],[0.2222222222222222,\"#7201a8\"],[0.3333333333333333,\"#9c179e\"],[0.4444444444444444,\"#bd3786\"],[0.5555555555555556,\"#d8576b\"],[0.6666666666666666,\"#ed7953\"],[0.7777777777777778,\"#fb9f3a\"],[0.8888888888888888,\"#fdca26\"],[1.0,\"#f0f921\"]],\"sequentialminus\":[[0.0,\"#0d0887\"],[0.1111111111111111,\"#46039f\"],[0.2222222222222222,\"#7201a8\"],[0.3333333333333333,\"#9c179e\"],[0.4444444444444444,\"#bd3786\"],[0.5555555555555556,\"#d8576b\"],[0.6666666666666666,\"#ed7953\"],[0.7777777777777778,\"#fb9f3a\"],[0.8888888888888888,\"#fdca26\"],[1.0,\"#f0f921\"]]},\"colorway\":[\"#636efa\",\"#EF553B\",\"#00cc96\",\"#ab63fa\",\"#FFA15A\",\"#19d3f3\",\"#FF6692\",\"#B6E880\",\"#FF97FF\",\"#FECB52\"],\"font\":{\"color\":\"#2a3f5f\"},\"geo\":{\"bgcolor\":\"white\",\"lakecolor\":\"white\",\"landcolor\":\"white\",\"showlakes\":true,\"showland\":true,\"subunitcolor\":\"#C8D4E3\"},\"hoverlabel\":{\"align\":\"left\"},\"hovermode\":\"closest\",\"mapbox\":{\"style\":\"light\"},\"paper_bgcolor\":\"white\",\"plot_bgcolor\":\"white\",\"polar\":{\"angularaxis\":{\"gridcolor\":\"#EBF0F8\",\"linecolor\":\"#EBF0F8\",\"ticks\":\"\"},\"bgcolor\":\"white\",\"radialaxis\":{\"gridcolor\":\"#EBF0F8\",\"linecolor\":\"#EBF0F8\",\"ticks\":\"\"}},\"scene\":{\"xaxis\":{\"backgroundcolor\":\"white\",\"gridcolor\":\"#DFE8F3\",\"gridwidth\":2,\"linecolor\":\"#EBF0F8\",\"showbackground\":true,\"ticks\":\"\",\"zerolinecolor\":\"#EBF0F8\"},\"yaxis\":{\"backgroundcolor\":\"white\",\"gridcolor\":\"#DFE8F3\",\"gridwidth\":2,\"linecolor\":\"#EBF0F8\",\"showbackground\":true,\"ticks\":\"\",\"zerolinecolor\":\"#EBF0F8\"},\"zaxis\":{\"backgroundcolor\":\"white\",\"gridcolor\":\"#DFE8F3\",\"gridwidth\":2,\"linecolor\":\"#EBF0F8\",\"showbackground\":true,\"ticks\":\"\",\"zerolinecolor\":\"#EBF0F8\"}},\"shapedefaults\":{\"line\":{\"color\":\"#2a3f5f\"}},\"ternary\":{\"aaxis\":{\"gridcolor\":\"#DFE8F3\",\"linecolor\":\"#A2B1C6\",\"ticks\":\"\"},\"baxis\":{\"gridcolor\":\"#DFE8F3\",\"linecolor\":\"#A2B1C6\",\"ticks\":\"\"},\"bgcolor\":\"white\",\"caxis\":{\"gridcolor\":\"#DFE8F3\",\"linecolor\":\"#A2B1C6\",\"ticks\":\"\"}},\"title\":{\"x\":0.05},\"xaxis\":{\"automargin\":true,\"gridcolor\":\"#EBF0F8\",\"linecolor\":\"#EBF0F8\",\"ticks\":\"\",\"title\":{\"standoff\":15},\"zerolinecolor\":\"#EBF0F8\",\"zerolinewidth\":2},\"yaxis\":{\"automargin\":true,\"gridcolor\":\"#EBF0F8\",\"linecolor\":\"#EBF0F8\",\"ticks\":\"\",\"title\":{\"standoff\":15},\"zerolinecolor\":\"#EBF0F8\",\"zerolinewidth\":2}}},\"xaxis\":{\"anchor\":\"y\",\"domain\":[0.0,1.0],\"title\":{\"text\":\"Model\"},\"categoryorder\":\"array\",\"categoryarray\":[\"Camembert\",\"Flaubert\"]},\"yaxis\":{\"anchor\":\"x\",\"domain\":[0.0,1.0],\"title\":{\"text\":\"Rand\"}},\"legend\":{\"title\":{\"text\":\"Model\"},\"tracegroupgap\":0},\"title\":{\"text\":\"Rand scores for each model\"},\"boxmode\":\"overlay\",\"showlegend\":false},                        {\"responsive\": true}                    ).then(function(){\n                            \nvar gd = document.getElementById('c63bca67-b983-460b-87e2-c99b33a82542');\nvar x = new MutationObserver(function (mutations, observer) {{\n        var display = window.getComputedStyle(gd).display;\n        if (!display || display === 'none') {{\n            console.log([gd, 'removed!']);\n            Plotly.purge(gd);\n            observer.disconnect();\n        }}\n}});\n\n// Listen for the removal of the full notebook cells\nvar notebookContainer = gd.closest('#notebook-container');\nif (notebookContainer) {{\n    x.observe(notebookContainer, {childList: true});\n}}\n\n// Listen for the clearing of the current output cell\nvar outputEl = gd.closest('.output');\nif (outputEl) {{\n    x.observe(outputEl, {childList: true});\n}}\n\n                        })                };                });            </script>        </div>"
     },
     "metadata": {},
     "output_type": "display_data"
    },
    {
     "data": {
      "application/vnd.plotly.v1+json": {
       "data": [
        {
         "alignmentgroup": "True",
         "hovertemplate": "Model=%{x}<br>F1=%{y}<extra></extra>",
         "legendgroup": "Camembert",
         "marker": {
          "color": "#636efa"
         },
         "name": "Camembert",
         "notched": false,
         "offsetgroup": "Camembert",
         "orientation": "v",
         "showlegend": true,
         "x": [
          "Camembert",
          "Camembert",
          "Camembert",
          "Camembert",
          "Camembert",
          "Camembert",
          "Camembert",
          "Camembert",
          "Camembert",
          "Camembert",
          "Camembert",
          "Camembert",
          "Camembert",
          "Camembert"
         ],
         "x0": " ",
         "xaxis": "x",
         "y": [
          0.7450980392156863,
          0.6811938661242773,
          0.7774682808086635,
          0.8021666666666667,
          0.9895046108861898,
          0.8103258981307763,
          0.6761788048552755,
          0.7862607980255039,
          0.7917474682180564,
          0.48230063200686,
          0.7480577136514983,
          0.715348737682463,
          0.8558376257099166,
          0.7536638889626776
         ],
         "y0": " ",
         "yaxis": "y",
         "type": "box"
        },
        {
         "alignmentgroup": "True",
         "hovertemplate": "Model=%{x}<br>F1=%{y}<extra></extra>",
         "legendgroup": "Flaubert",
         "marker": {
          "color": "#EF553B"
         },
         "name": "Flaubert",
         "notched": false,
         "offsetgroup": "Flaubert",
         "orientation": "v",
         "showlegend": true,
         "x": [
          "Flaubert",
          "Flaubert",
          "Flaubert",
          "Flaubert",
          "Flaubert",
          "Flaubert",
          "Flaubert",
          "Flaubert",
          "Flaubert",
          "Flaubert",
          "Flaubert",
          "Flaubert",
          "Flaubert",
          "Flaubert"
         ],
         "x0": " ",
         "xaxis": "x",
         "y": [
          0.745920745920746,
          0.5167451002539563,
          0.4515913042539176,
          0.7135975609756098,
          0.4934101134585289,
          0.3689050786611762,
          0.5015082956259427,
          0.2976933514246946,
          0.7151431744652084,
          0.3046671649347832,
          0.7016261049874495,
          0.5380701694516976,
          0.502082213116144,
          0.5282552722692739
         ],
         "y0": " ",
         "yaxis": "y",
         "type": "box"
        }
       ],
       "layout": {
        "template": {
         "data": {
          "barpolar": [
           {
            "marker": {
             "line": {
              "color": "white",
              "width": 0.5
             },
             "pattern": {
              "fillmode": "overlay",
              "size": 10,
              "solidity": 0.2
             }
            },
            "type": "barpolar"
           }
          ],
          "bar": [
           {
            "error_x": {
             "color": "#2a3f5f"
            },
            "error_y": {
             "color": "#2a3f5f"
            },
            "marker": {
             "line": {
              "color": "white",
              "width": 0.5
             },
             "pattern": {
              "fillmode": "overlay",
              "size": 10,
              "solidity": 0.2
             }
            },
            "type": "bar"
           }
          ],
          "carpet": [
           {
            "aaxis": {
             "endlinecolor": "#2a3f5f",
             "gridcolor": "#C8D4E3",
             "linecolor": "#C8D4E3",
             "minorgridcolor": "#C8D4E3",
             "startlinecolor": "#2a3f5f"
            },
            "baxis": {
             "endlinecolor": "#2a3f5f",
             "gridcolor": "#C8D4E3",
             "linecolor": "#C8D4E3",
             "minorgridcolor": "#C8D4E3",
             "startlinecolor": "#2a3f5f"
            },
            "type": "carpet"
           }
          ],
          "choropleth": [
           {
            "colorbar": {
             "outlinewidth": 0,
             "ticks": ""
            },
            "type": "choropleth"
           }
          ],
          "contourcarpet": [
           {
            "colorbar": {
             "outlinewidth": 0,
             "ticks": ""
            },
            "type": "contourcarpet"
           }
          ],
          "contour": [
           {
            "colorbar": {
             "outlinewidth": 0,
             "ticks": ""
            },
            "colorscale": [
             [
              0.0,
              "#0d0887"
             ],
             [
              0.1111111111111111,
              "#46039f"
             ],
             [
              0.2222222222222222,
              "#7201a8"
             ],
             [
              0.3333333333333333,
              "#9c179e"
             ],
             [
              0.4444444444444444,
              "#bd3786"
             ],
             [
              0.5555555555555556,
              "#d8576b"
             ],
             [
              0.6666666666666666,
              "#ed7953"
             ],
             [
              0.7777777777777778,
              "#fb9f3a"
             ],
             [
              0.8888888888888888,
              "#fdca26"
             ],
             [
              1.0,
              "#f0f921"
             ]
            ],
            "type": "contour"
           }
          ],
          "heatmapgl": [
           {
            "colorbar": {
             "outlinewidth": 0,
             "ticks": ""
            },
            "colorscale": [
             [
              0.0,
              "#0d0887"
             ],
             [
              0.1111111111111111,
              "#46039f"
             ],
             [
              0.2222222222222222,
              "#7201a8"
             ],
             [
              0.3333333333333333,
              "#9c179e"
             ],
             [
              0.4444444444444444,
              "#bd3786"
             ],
             [
              0.5555555555555556,
              "#d8576b"
             ],
             [
              0.6666666666666666,
              "#ed7953"
             ],
             [
              0.7777777777777778,
              "#fb9f3a"
             ],
             [
              0.8888888888888888,
              "#fdca26"
             ],
             [
              1.0,
              "#f0f921"
             ]
            ],
            "type": "heatmapgl"
           }
          ],
          "heatmap": [
           {
            "colorbar": {
             "outlinewidth": 0,
             "ticks": ""
            },
            "colorscale": [
             [
              0.0,
              "#0d0887"
             ],
             [
              0.1111111111111111,
              "#46039f"
             ],
             [
              0.2222222222222222,
              "#7201a8"
             ],
             [
              0.3333333333333333,
              "#9c179e"
             ],
             [
              0.4444444444444444,
              "#bd3786"
             ],
             [
              0.5555555555555556,
              "#d8576b"
             ],
             [
              0.6666666666666666,
              "#ed7953"
             ],
             [
              0.7777777777777778,
              "#fb9f3a"
             ],
             [
              0.8888888888888888,
              "#fdca26"
             ],
             [
              1.0,
              "#f0f921"
             ]
            ],
            "type": "heatmap"
           }
          ],
          "histogram2dcontour": [
           {
            "colorbar": {
             "outlinewidth": 0,
             "ticks": ""
            },
            "colorscale": [
             [
              0.0,
              "#0d0887"
             ],
             [
              0.1111111111111111,
              "#46039f"
             ],
             [
              0.2222222222222222,
              "#7201a8"
             ],
             [
              0.3333333333333333,
              "#9c179e"
             ],
             [
              0.4444444444444444,
              "#bd3786"
             ],
             [
              0.5555555555555556,
              "#d8576b"
             ],
             [
              0.6666666666666666,
              "#ed7953"
             ],
             [
              0.7777777777777778,
              "#fb9f3a"
             ],
             [
              0.8888888888888888,
              "#fdca26"
             ],
             [
              1.0,
              "#f0f921"
             ]
            ],
            "type": "histogram2dcontour"
           }
          ],
          "histogram2d": [
           {
            "colorbar": {
             "outlinewidth": 0,
             "ticks": ""
            },
            "colorscale": [
             [
              0.0,
              "#0d0887"
             ],
             [
              0.1111111111111111,
              "#46039f"
             ],
             [
              0.2222222222222222,
              "#7201a8"
             ],
             [
              0.3333333333333333,
              "#9c179e"
             ],
             [
              0.4444444444444444,
              "#bd3786"
             ],
             [
              0.5555555555555556,
              "#d8576b"
             ],
             [
              0.6666666666666666,
              "#ed7953"
             ],
             [
              0.7777777777777778,
              "#fb9f3a"
             ],
             [
              0.8888888888888888,
              "#fdca26"
             ],
             [
              1.0,
              "#f0f921"
             ]
            ],
            "type": "histogram2d"
           }
          ],
          "histogram": [
           {
            "marker": {
             "pattern": {
              "fillmode": "overlay",
              "size": 10,
              "solidity": 0.2
             }
            },
            "type": "histogram"
           }
          ],
          "mesh3d": [
           {
            "colorbar": {
             "outlinewidth": 0,
             "ticks": ""
            },
            "type": "mesh3d"
           }
          ],
          "parcoords": [
           {
            "line": {
             "colorbar": {
              "outlinewidth": 0,
              "ticks": ""
             }
            },
            "type": "parcoords"
           }
          ],
          "pie": [
           {
            "automargin": true,
            "type": "pie"
           }
          ],
          "scatter3d": [
           {
            "line": {
             "colorbar": {
              "outlinewidth": 0,
              "ticks": ""
             }
            },
            "marker": {
             "colorbar": {
              "outlinewidth": 0,
              "ticks": ""
             }
            },
            "type": "scatter3d"
           }
          ],
          "scattercarpet": [
           {
            "marker": {
             "colorbar": {
              "outlinewidth": 0,
              "ticks": ""
             }
            },
            "type": "scattercarpet"
           }
          ],
          "scattergeo": [
           {
            "marker": {
             "colorbar": {
              "outlinewidth": 0,
              "ticks": ""
             }
            },
            "type": "scattergeo"
           }
          ],
          "scattergl": [
           {
            "marker": {
             "colorbar": {
              "outlinewidth": 0,
              "ticks": ""
             }
            },
            "type": "scattergl"
           }
          ],
          "scattermapbox": [
           {
            "marker": {
             "colorbar": {
              "outlinewidth": 0,
              "ticks": ""
             }
            },
            "type": "scattermapbox"
           }
          ],
          "scatterpolargl": [
           {
            "marker": {
             "colorbar": {
              "outlinewidth": 0,
              "ticks": ""
             }
            },
            "type": "scatterpolargl"
           }
          ],
          "scatterpolar": [
           {
            "marker": {
             "colorbar": {
              "outlinewidth": 0,
              "ticks": ""
             }
            },
            "type": "scatterpolar"
           }
          ],
          "scatter": [
           {
            "fillpattern": {
             "fillmode": "overlay",
             "size": 10,
             "solidity": 0.2
            },
            "type": "scatter"
           }
          ],
          "scatterternary": [
           {
            "marker": {
             "colorbar": {
              "outlinewidth": 0,
              "ticks": ""
             }
            },
            "type": "scatterternary"
           }
          ],
          "surface": [
           {
            "colorbar": {
             "outlinewidth": 0,
             "ticks": ""
            },
            "colorscale": [
             [
              0.0,
              "#0d0887"
             ],
             [
              0.1111111111111111,
              "#46039f"
             ],
             [
              0.2222222222222222,
              "#7201a8"
             ],
             [
              0.3333333333333333,
              "#9c179e"
             ],
             [
              0.4444444444444444,
              "#bd3786"
             ],
             [
              0.5555555555555556,
              "#d8576b"
             ],
             [
              0.6666666666666666,
              "#ed7953"
             ],
             [
              0.7777777777777778,
              "#fb9f3a"
             ],
             [
              0.8888888888888888,
              "#fdca26"
             ],
             [
              1.0,
              "#f0f921"
             ]
            ],
            "type": "surface"
           }
          ],
          "table": [
           {
            "cells": {
             "fill": {
              "color": "#EBF0F8"
             },
             "line": {
              "color": "white"
             }
            },
            "header": {
             "fill": {
              "color": "#C8D4E3"
             },
             "line": {
              "color": "white"
             }
            },
            "type": "table"
           }
          ]
         },
         "layout": {
          "annotationdefaults": {
           "arrowcolor": "#2a3f5f",
           "arrowhead": 0,
           "arrowwidth": 1
          },
          "autotypenumbers": "strict",
          "coloraxis": {
           "colorbar": {
            "outlinewidth": 0,
            "ticks": ""
           }
          },
          "colorscale": {
           "diverging": [
            [
             0,
             "#8e0152"
            ],
            [
             0.1,
             "#c51b7d"
            ],
            [
             0.2,
             "#de77ae"
            ],
            [
             0.3,
             "#f1b6da"
            ],
            [
             0.4,
             "#fde0ef"
            ],
            [
             0.5,
             "#f7f7f7"
            ],
            [
             0.6,
             "#e6f5d0"
            ],
            [
             0.7,
             "#b8e186"
            ],
            [
             0.8,
             "#7fbc41"
            ],
            [
             0.9,
             "#4d9221"
            ],
            [
             1,
             "#276419"
            ]
           ],
           "sequential": [
            [
             0.0,
             "#0d0887"
            ],
            [
             0.1111111111111111,
             "#46039f"
            ],
            [
             0.2222222222222222,
             "#7201a8"
            ],
            [
             0.3333333333333333,
             "#9c179e"
            ],
            [
             0.4444444444444444,
             "#bd3786"
            ],
            [
             0.5555555555555556,
             "#d8576b"
            ],
            [
             0.6666666666666666,
             "#ed7953"
            ],
            [
             0.7777777777777778,
             "#fb9f3a"
            ],
            [
             0.8888888888888888,
             "#fdca26"
            ],
            [
             1.0,
             "#f0f921"
            ]
           ],
           "sequentialminus": [
            [
             0.0,
             "#0d0887"
            ],
            [
             0.1111111111111111,
             "#46039f"
            ],
            [
             0.2222222222222222,
             "#7201a8"
            ],
            [
             0.3333333333333333,
             "#9c179e"
            ],
            [
             0.4444444444444444,
             "#bd3786"
            ],
            [
             0.5555555555555556,
             "#d8576b"
            ],
            [
             0.6666666666666666,
             "#ed7953"
            ],
            [
             0.7777777777777778,
             "#fb9f3a"
            ],
            [
             0.8888888888888888,
             "#fdca26"
            ],
            [
             1.0,
             "#f0f921"
            ]
           ]
          },
          "colorway": [
           "#636efa",
           "#EF553B",
           "#00cc96",
           "#ab63fa",
           "#FFA15A",
           "#19d3f3",
           "#FF6692",
           "#B6E880",
           "#FF97FF",
           "#FECB52"
          ],
          "font": {
           "color": "#2a3f5f"
          },
          "geo": {
           "bgcolor": "white",
           "lakecolor": "white",
           "landcolor": "white",
           "showlakes": true,
           "showland": true,
           "subunitcolor": "#C8D4E3"
          },
          "hoverlabel": {
           "align": "left"
          },
          "hovermode": "closest",
          "mapbox": {
           "style": "light"
          },
          "paper_bgcolor": "white",
          "plot_bgcolor": "white",
          "polar": {
           "angularaxis": {
            "gridcolor": "#EBF0F8",
            "linecolor": "#EBF0F8",
            "ticks": ""
           },
           "bgcolor": "white",
           "radialaxis": {
            "gridcolor": "#EBF0F8",
            "linecolor": "#EBF0F8",
            "ticks": ""
           }
          },
          "scene": {
           "xaxis": {
            "backgroundcolor": "white",
            "gridcolor": "#DFE8F3",
            "gridwidth": 2,
            "linecolor": "#EBF0F8",
            "showbackground": true,
            "ticks": "",
            "zerolinecolor": "#EBF0F8"
           },
           "yaxis": {
            "backgroundcolor": "white",
            "gridcolor": "#DFE8F3",
            "gridwidth": 2,
            "linecolor": "#EBF0F8",
            "showbackground": true,
            "ticks": "",
            "zerolinecolor": "#EBF0F8"
           },
           "zaxis": {
            "backgroundcolor": "white",
            "gridcolor": "#DFE8F3",
            "gridwidth": 2,
            "linecolor": "#EBF0F8",
            "showbackground": true,
            "ticks": "",
            "zerolinecolor": "#EBF0F8"
           }
          },
          "shapedefaults": {
           "line": {
            "color": "#2a3f5f"
           }
          },
          "ternary": {
           "aaxis": {
            "gridcolor": "#DFE8F3",
            "linecolor": "#A2B1C6",
            "ticks": ""
           },
           "baxis": {
            "gridcolor": "#DFE8F3",
            "linecolor": "#A2B1C6",
            "ticks": ""
           },
           "bgcolor": "white",
           "caxis": {
            "gridcolor": "#DFE8F3",
            "linecolor": "#A2B1C6",
            "ticks": ""
           }
          },
          "title": {
           "x": 0.05
          },
          "xaxis": {
           "automargin": true,
           "gridcolor": "#EBF0F8",
           "linecolor": "#EBF0F8",
           "ticks": "",
           "title": {
            "standoff": 15
           },
           "zerolinecolor": "#EBF0F8",
           "zerolinewidth": 2
          },
          "yaxis": {
           "automargin": true,
           "gridcolor": "#EBF0F8",
           "linecolor": "#EBF0F8",
           "ticks": "",
           "title": {
            "standoff": 15
           },
           "zerolinecolor": "#EBF0F8",
           "zerolinewidth": 2
          }
         }
        },
        "xaxis": {
         "anchor": "y",
         "domain": [
          0.0,
          1.0
         ],
         "title": {
          "text": "Model"
         },
         "categoryorder": "array",
         "categoryarray": [
          "Camembert",
          "Flaubert"
         ]
        },
        "yaxis": {
         "anchor": "x",
         "domain": [
          0.0,
          1.0
         ],
         "title": {
          "text": "F1"
         }
        },
        "legend": {
         "title": {
          "text": "Model"
         },
         "tracegroupgap": 0
        },
        "title": {
         "text": "F1 scores for each model"
        },
        "boxmode": "overlay",
        "showlegend": false
       },
       "config": {
        "plotlyServerURL": "https://plot.ly"
       }
      },
      "text/html": "<div>                            <div id=\"d44f18a2-8d29-4560-a00c-e2138dd8c380\" class=\"plotly-graph-div\" style=\"height:525px; width:100%;\"></div>            <script type=\"text/javascript\">                require([\"plotly\"], function(Plotly) {                    window.PLOTLYENV=window.PLOTLYENV || {};                                    if (document.getElementById(\"d44f18a2-8d29-4560-a00c-e2138dd8c380\")) {                    Plotly.newPlot(                        \"d44f18a2-8d29-4560-a00c-e2138dd8c380\",                        [{\"alignmentgroup\":\"True\",\"hovertemplate\":\"Model=%{x}\\u003cbr\\u003eF1=%{y}\\u003cextra\\u003e\\u003c\\u002fextra\\u003e\",\"legendgroup\":\"Camembert\",\"marker\":{\"color\":\"#636efa\"},\"name\":\"Camembert\",\"notched\":false,\"offsetgroup\":\"Camembert\",\"orientation\":\"v\",\"showlegend\":true,\"x\":[\"Camembert\",\"Camembert\",\"Camembert\",\"Camembert\",\"Camembert\",\"Camembert\",\"Camembert\",\"Camembert\",\"Camembert\",\"Camembert\",\"Camembert\",\"Camembert\",\"Camembert\",\"Camembert\"],\"x0\":\" \",\"xaxis\":\"x\",\"y\":[0.7450980392156863,0.6811938661242773,0.7774682808086635,0.8021666666666667,0.9895046108861898,0.8103258981307763,0.6761788048552755,0.7862607980255039,0.7917474682180564,0.48230063200686,0.7480577136514983,0.715348737682463,0.8558376257099166,0.7536638889626776],\"y0\":\" \",\"yaxis\":\"y\",\"type\":\"box\"},{\"alignmentgroup\":\"True\",\"hovertemplate\":\"Model=%{x}\\u003cbr\\u003eF1=%{y}\\u003cextra\\u003e\\u003c\\u002fextra\\u003e\",\"legendgroup\":\"Flaubert\",\"marker\":{\"color\":\"#EF553B\"},\"name\":\"Flaubert\",\"notched\":false,\"offsetgroup\":\"Flaubert\",\"orientation\":\"v\",\"showlegend\":true,\"x\":[\"Flaubert\",\"Flaubert\",\"Flaubert\",\"Flaubert\",\"Flaubert\",\"Flaubert\",\"Flaubert\",\"Flaubert\",\"Flaubert\",\"Flaubert\",\"Flaubert\",\"Flaubert\",\"Flaubert\",\"Flaubert\"],\"x0\":\" \",\"xaxis\":\"x\",\"y\":[0.745920745920746,0.5167451002539563,0.4515913042539176,0.7135975609756098,0.4934101134585289,0.3689050786611762,0.5015082956259427,0.2976933514246946,0.7151431744652084,0.3046671649347832,0.7016261049874495,0.5380701694516976,0.502082213116144,0.5282552722692739],\"y0\":\" \",\"yaxis\":\"y\",\"type\":\"box\"}],                        {\"template\":{\"data\":{\"barpolar\":[{\"marker\":{\"line\":{\"color\":\"white\",\"width\":0.5},\"pattern\":{\"fillmode\":\"overlay\",\"size\":10,\"solidity\":0.2}},\"type\":\"barpolar\"}],\"bar\":[{\"error_x\":{\"color\":\"#2a3f5f\"},\"error_y\":{\"color\":\"#2a3f5f\"},\"marker\":{\"line\":{\"color\":\"white\",\"width\":0.5},\"pattern\":{\"fillmode\":\"overlay\",\"size\":10,\"solidity\":0.2}},\"type\":\"bar\"}],\"carpet\":[{\"aaxis\":{\"endlinecolor\":\"#2a3f5f\",\"gridcolor\":\"#C8D4E3\",\"linecolor\":\"#C8D4E3\",\"minorgridcolor\":\"#C8D4E3\",\"startlinecolor\":\"#2a3f5f\"},\"baxis\":{\"endlinecolor\":\"#2a3f5f\",\"gridcolor\":\"#C8D4E3\",\"linecolor\":\"#C8D4E3\",\"minorgridcolor\":\"#C8D4E3\",\"startlinecolor\":\"#2a3f5f\"},\"type\":\"carpet\"}],\"choropleth\":[{\"colorbar\":{\"outlinewidth\":0,\"ticks\":\"\"},\"type\":\"choropleth\"}],\"contourcarpet\":[{\"colorbar\":{\"outlinewidth\":0,\"ticks\":\"\"},\"type\":\"contourcarpet\"}],\"contour\":[{\"colorbar\":{\"outlinewidth\":0,\"ticks\":\"\"},\"colorscale\":[[0.0,\"#0d0887\"],[0.1111111111111111,\"#46039f\"],[0.2222222222222222,\"#7201a8\"],[0.3333333333333333,\"#9c179e\"],[0.4444444444444444,\"#bd3786\"],[0.5555555555555556,\"#d8576b\"],[0.6666666666666666,\"#ed7953\"],[0.7777777777777778,\"#fb9f3a\"],[0.8888888888888888,\"#fdca26\"],[1.0,\"#f0f921\"]],\"type\":\"contour\"}],\"heatmapgl\":[{\"colorbar\":{\"outlinewidth\":0,\"ticks\":\"\"},\"colorscale\":[[0.0,\"#0d0887\"],[0.1111111111111111,\"#46039f\"],[0.2222222222222222,\"#7201a8\"],[0.3333333333333333,\"#9c179e\"],[0.4444444444444444,\"#bd3786\"],[0.5555555555555556,\"#d8576b\"],[0.6666666666666666,\"#ed7953\"],[0.7777777777777778,\"#fb9f3a\"],[0.8888888888888888,\"#fdca26\"],[1.0,\"#f0f921\"]],\"type\":\"heatmapgl\"}],\"heatmap\":[{\"colorbar\":{\"outlinewidth\":0,\"ticks\":\"\"},\"colorscale\":[[0.0,\"#0d0887\"],[0.1111111111111111,\"#46039f\"],[0.2222222222222222,\"#7201a8\"],[0.3333333333333333,\"#9c179e\"],[0.4444444444444444,\"#bd3786\"],[0.5555555555555556,\"#d8576b\"],[0.6666666666666666,\"#ed7953\"],[0.7777777777777778,\"#fb9f3a\"],[0.8888888888888888,\"#fdca26\"],[1.0,\"#f0f921\"]],\"type\":\"heatmap\"}],\"histogram2dcontour\":[{\"colorbar\":{\"outlinewidth\":0,\"ticks\":\"\"},\"colorscale\":[[0.0,\"#0d0887\"],[0.1111111111111111,\"#46039f\"],[0.2222222222222222,\"#7201a8\"],[0.3333333333333333,\"#9c179e\"],[0.4444444444444444,\"#bd3786\"],[0.5555555555555556,\"#d8576b\"],[0.6666666666666666,\"#ed7953\"],[0.7777777777777778,\"#fb9f3a\"],[0.8888888888888888,\"#fdca26\"],[1.0,\"#f0f921\"]],\"type\":\"histogram2dcontour\"}],\"histogram2d\":[{\"colorbar\":{\"outlinewidth\":0,\"ticks\":\"\"},\"colorscale\":[[0.0,\"#0d0887\"],[0.1111111111111111,\"#46039f\"],[0.2222222222222222,\"#7201a8\"],[0.3333333333333333,\"#9c179e\"],[0.4444444444444444,\"#bd3786\"],[0.5555555555555556,\"#d8576b\"],[0.6666666666666666,\"#ed7953\"],[0.7777777777777778,\"#fb9f3a\"],[0.8888888888888888,\"#fdca26\"],[1.0,\"#f0f921\"]],\"type\":\"histogram2d\"}],\"histogram\":[{\"marker\":{\"pattern\":{\"fillmode\":\"overlay\",\"size\":10,\"solidity\":0.2}},\"type\":\"histogram\"}],\"mesh3d\":[{\"colorbar\":{\"outlinewidth\":0,\"ticks\":\"\"},\"type\":\"mesh3d\"}],\"parcoords\":[{\"line\":{\"colorbar\":{\"outlinewidth\":0,\"ticks\":\"\"}},\"type\":\"parcoords\"}],\"pie\":[{\"automargin\":true,\"type\":\"pie\"}],\"scatter3d\":[{\"line\":{\"colorbar\":{\"outlinewidth\":0,\"ticks\":\"\"}},\"marker\":{\"colorbar\":{\"outlinewidth\":0,\"ticks\":\"\"}},\"type\":\"scatter3d\"}],\"scattercarpet\":[{\"marker\":{\"colorbar\":{\"outlinewidth\":0,\"ticks\":\"\"}},\"type\":\"scattercarpet\"}],\"scattergeo\":[{\"marker\":{\"colorbar\":{\"outlinewidth\":0,\"ticks\":\"\"}},\"type\":\"scattergeo\"}],\"scattergl\":[{\"marker\":{\"colorbar\":{\"outlinewidth\":0,\"ticks\":\"\"}},\"type\":\"scattergl\"}],\"scattermapbox\":[{\"marker\":{\"colorbar\":{\"outlinewidth\":0,\"ticks\":\"\"}},\"type\":\"scattermapbox\"}],\"scatterpolargl\":[{\"marker\":{\"colorbar\":{\"outlinewidth\":0,\"ticks\":\"\"}},\"type\":\"scatterpolargl\"}],\"scatterpolar\":[{\"marker\":{\"colorbar\":{\"outlinewidth\":0,\"ticks\":\"\"}},\"type\":\"scatterpolar\"}],\"scatter\":[{\"fillpattern\":{\"fillmode\":\"overlay\",\"size\":10,\"solidity\":0.2},\"type\":\"scatter\"}],\"scatterternary\":[{\"marker\":{\"colorbar\":{\"outlinewidth\":0,\"ticks\":\"\"}},\"type\":\"scatterternary\"}],\"surface\":[{\"colorbar\":{\"outlinewidth\":0,\"ticks\":\"\"},\"colorscale\":[[0.0,\"#0d0887\"],[0.1111111111111111,\"#46039f\"],[0.2222222222222222,\"#7201a8\"],[0.3333333333333333,\"#9c179e\"],[0.4444444444444444,\"#bd3786\"],[0.5555555555555556,\"#d8576b\"],[0.6666666666666666,\"#ed7953\"],[0.7777777777777778,\"#fb9f3a\"],[0.8888888888888888,\"#fdca26\"],[1.0,\"#f0f921\"]],\"type\":\"surface\"}],\"table\":[{\"cells\":{\"fill\":{\"color\":\"#EBF0F8\"},\"line\":{\"color\":\"white\"}},\"header\":{\"fill\":{\"color\":\"#C8D4E3\"},\"line\":{\"color\":\"white\"}},\"type\":\"table\"}]},\"layout\":{\"annotationdefaults\":{\"arrowcolor\":\"#2a3f5f\",\"arrowhead\":0,\"arrowwidth\":1},\"autotypenumbers\":\"strict\",\"coloraxis\":{\"colorbar\":{\"outlinewidth\":0,\"ticks\":\"\"}},\"colorscale\":{\"diverging\":[[0,\"#8e0152\"],[0.1,\"#c51b7d\"],[0.2,\"#de77ae\"],[0.3,\"#f1b6da\"],[0.4,\"#fde0ef\"],[0.5,\"#f7f7f7\"],[0.6,\"#e6f5d0\"],[0.7,\"#b8e186\"],[0.8,\"#7fbc41\"],[0.9,\"#4d9221\"],[1,\"#276419\"]],\"sequential\":[[0.0,\"#0d0887\"],[0.1111111111111111,\"#46039f\"],[0.2222222222222222,\"#7201a8\"],[0.3333333333333333,\"#9c179e\"],[0.4444444444444444,\"#bd3786\"],[0.5555555555555556,\"#d8576b\"],[0.6666666666666666,\"#ed7953\"],[0.7777777777777778,\"#fb9f3a\"],[0.8888888888888888,\"#fdca26\"],[1.0,\"#f0f921\"]],\"sequentialminus\":[[0.0,\"#0d0887\"],[0.1111111111111111,\"#46039f\"],[0.2222222222222222,\"#7201a8\"],[0.3333333333333333,\"#9c179e\"],[0.4444444444444444,\"#bd3786\"],[0.5555555555555556,\"#d8576b\"],[0.6666666666666666,\"#ed7953\"],[0.7777777777777778,\"#fb9f3a\"],[0.8888888888888888,\"#fdca26\"],[1.0,\"#f0f921\"]]},\"colorway\":[\"#636efa\",\"#EF553B\",\"#00cc96\",\"#ab63fa\",\"#FFA15A\",\"#19d3f3\",\"#FF6692\",\"#B6E880\",\"#FF97FF\",\"#FECB52\"],\"font\":{\"color\":\"#2a3f5f\"},\"geo\":{\"bgcolor\":\"white\",\"lakecolor\":\"white\",\"landcolor\":\"white\",\"showlakes\":true,\"showland\":true,\"subunitcolor\":\"#C8D4E3\"},\"hoverlabel\":{\"align\":\"left\"},\"hovermode\":\"closest\",\"mapbox\":{\"style\":\"light\"},\"paper_bgcolor\":\"white\",\"plot_bgcolor\":\"white\",\"polar\":{\"angularaxis\":{\"gridcolor\":\"#EBF0F8\",\"linecolor\":\"#EBF0F8\",\"ticks\":\"\"},\"bgcolor\":\"white\",\"radialaxis\":{\"gridcolor\":\"#EBF0F8\",\"linecolor\":\"#EBF0F8\",\"ticks\":\"\"}},\"scene\":{\"xaxis\":{\"backgroundcolor\":\"white\",\"gridcolor\":\"#DFE8F3\",\"gridwidth\":2,\"linecolor\":\"#EBF0F8\",\"showbackground\":true,\"ticks\":\"\",\"zerolinecolor\":\"#EBF0F8\"},\"yaxis\":{\"backgroundcolor\":\"white\",\"gridcolor\":\"#DFE8F3\",\"gridwidth\":2,\"linecolor\":\"#EBF0F8\",\"showbackground\":true,\"ticks\":\"\",\"zerolinecolor\":\"#EBF0F8\"},\"zaxis\":{\"backgroundcolor\":\"white\",\"gridcolor\":\"#DFE8F3\",\"gridwidth\":2,\"linecolor\":\"#EBF0F8\",\"showbackground\":true,\"ticks\":\"\",\"zerolinecolor\":\"#EBF0F8\"}},\"shapedefaults\":{\"line\":{\"color\":\"#2a3f5f\"}},\"ternary\":{\"aaxis\":{\"gridcolor\":\"#DFE8F3\",\"linecolor\":\"#A2B1C6\",\"ticks\":\"\"},\"baxis\":{\"gridcolor\":\"#DFE8F3\",\"linecolor\":\"#A2B1C6\",\"ticks\":\"\"},\"bgcolor\":\"white\",\"caxis\":{\"gridcolor\":\"#DFE8F3\",\"linecolor\":\"#A2B1C6\",\"ticks\":\"\"}},\"title\":{\"x\":0.05},\"xaxis\":{\"automargin\":true,\"gridcolor\":\"#EBF0F8\",\"linecolor\":\"#EBF0F8\",\"ticks\":\"\",\"title\":{\"standoff\":15},\"zerolinecolor\":\"#EBF0F8\",\"zerolinewidth\":2},\"yaxis\":{\"automargin\":true,\"gridcolor\":\"#EBF0F8\",\"linecolor\":\"#EBF0F8\",\"ticks\":\"\",\"title\":{\"standoff\":15},\"zerolinecolor\":\"#EBF0F8\",\"zerolinewidth\":2}}},\"xaxis\":{\"anchor\":\"y\",\"domain\":[0.0,1.0],\"title\":{\"text\":\"Model\"},\"categoryorder\":\"array\",\"categoryarray\":[\"Camembert\",\"Flaubert\"]},\"yaxis\":{\"anchor\":\"x\",\"domain\":[0.0,1.0],\"title\":{\"text\":\"F1\"}},\"legend\":{\"title\":{\"text\":\"Model\"},\"tracegroupgap\":0},\"title\":{\"text\":\"F1 scores for each model\"},\"boxmode\":\"overlay\",\"showlegend\":false},                        {\"responsive\": true}                    ).then(function(){\n                            \nvar gd = document.getElementById('d44f18a2-8d29-4560-a00c-e2138dd8c380');\nvar x = new MutationObserver(function (mutations, observer) {{\n        var display = window.getComputedStyle(gd).display;\n        if (!display || display === 'none') {{\n            console.log([gd, 'removed!']);\n            Plotly.purge(gd);\n            observer.disconnect();\n        }}\n}});\n\n// Listen for the removal of the full notebook cells\nvar notebookContainer = gd.closest('#notebook-container');\nif (notebookContainer) {{\n    x.observe(notebookContainer, {childList: true});\n}}\n\n// Listen for the clearing of the current output cell\nvar outputEl = gd.closest('.output');\nif (outputEl) {{\n    x.observe(outputEl, {childList: true});\n}}\n\n                        })                };                });            </script>        </div>"
     },
     "metadata": {},
     "output_type": "display_data"
    }
   ],
   "source": [
    "# We will make boxplots for the weighted scores of each word\n",
    "fig_weighted = px.box(df, x=\"Model\" ,y=\"Weighted\", color=\"Model\", title=\"Weighted scores for each model\", template=\"plotly_white\")\n",
    "fig_weighted.update(layout_showlegend=False)\n",
    "fig_weighted.show()\n",
    "\n",
    "fig_overall = px.box(df, x=\"Model\" ,y=\"Overall\", color=\"Model\", title=\"Overall scores for each model\", template=\"plotly_white\")\n",
    "fig_overall.update(layout_showlegend=False)\n",
    "fig_overall.show()\n",
    "\n",
    "fig_v_measure = px.box(df, x=\"Model\" ,y=\"V_measure\", color=\"Model\", title=\"V measure clustering scores for each model\", template=\"plotly_white\")\n",
    "fig_v_measure.update(layout_showlegend=False)\n",
    "fig_v_measure.show()\n",
    "\n",
    "fig_rand = px.box(df, x=\"Model\" ,y=\"Rand\", color=\"Model\", title=\"Rand scores for each model\", template=\"plotly_white\")\n",
    "fig_rand.update(layout_showlegend=False)\n",
    "fig_rand.show()\n",
    "\n",
    "fig_F1 = px.box(df, x=\"Model\" ,y=\"F1\", color=\"Model\", title=\"F1 scores for each model\", template=\"plotly_white\")\n",
    "fig_F1.update(layout_showlegend=False)\n",
    "fig_F1.show()"
   ],
   "metadata": {
    "collapsed": false,
    "ExecuteTime": {
     "end_time": "2024-05-17T21:48:53.191299Z",
     "start_time": "2024-05-17T21:48:52.878492Z"
    }
   },
   "id": "85768d001217e269",
   "execution_count": 57
  },
  {
   "cell_type": "markdown",
   "source": [
    "As we are more familiar with data visualisation in R, we will use the saved files to create the visualisations in R.\n",
    "\n"
   ],
   "metadata": {
    "collapsed": false
   },
   "id": "401f7c3a5050635a"
  },
  {
   "cell_type": "code",
   "outputs": [],
   "source": [],
   "metadata": {
    "collapsed": false
   },
   "id": "cd45fc9e28e92fa5"
  }
 ],
 "metadata": {
  "kernelspec": {
   "display_name": "Python 3",
   "language": "python",
   "name": "python3"
  },
  "language_info": {
   "codemirror_mode": {
    "name": "ipython",
    "version": 2
   },
   "file_extension": ".py",
   "mimetype": "text/x-python",
   "name": "python",
   "nbconvert_exporter": "python",
   "pygments_lexer": "ipython2",
   "version": "2.7.6"
  }
 },
 "nbformat": 4,
 "nbformat_minor": 5
}
