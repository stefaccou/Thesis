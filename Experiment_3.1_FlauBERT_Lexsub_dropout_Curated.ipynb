{
 "cells": [
  {
   "cell_type": "code",
   "execution_count": 1,
   "id": "initial_id",
   "metadata": {
    "ExecuteTime": {
     "end_time": "2024-05-04T09:48:42.824561Z",
     "start_time": "2024-05-04T09:48:38.898947Z"
    }
   },
   "outputs": [
    {
     "name": "stderr",
     "output_type": "stream",
     "text": [
      "Cloning into 'Lexical-Substitution'...\n"
     ]
    }
   ],
   "source": [
    "# origineel: aangepast om op CamemBERT te werken\n",
    "# !git clone https://github.com/jvladika/Lexical-Substitution.git"
   ]
  },
  {
   "cell_type": "code",
   "execution_count": null,
   "id": "12d5d2c990307dbb",
   "metadata": {
    "collapsed": false,
    "is_executing": true
   },
   "outputs": [],
   "source": [
    "from transformers import AutoTokenizer, FlaubertModel, FlaubertWithLMHeadModel\n",
    "import pandas as pd\n",
    "import os\n",
    "import re\n",
    "from sklearn.mixture import GaussianMixture\n",
    "import warnings\n",
    "from sklearn.cluster import AgglomerativeClustering\n",
    "from sklearn.decomposition import TruncatedSVD\n",
    "from french_lefff_lemmatizer.french_lefff_lemmatizer import FrenchLefffLemmatizer as fll\n",
    "import torch\n",
    "import string\n",
    "import nltk\n",
    "import time\n",
    "import numpy as np\n",
    "from tqdm import tqdm\n",
    "# Cuda\n",
    "device = torch.device(\"cuda\" if torch.cuda.is_available() else \"cpu\")\n",
    "\n",
    "tokenizer = AutoTokenizer.from_pretrained('flaubert/flaubert_base_cased')\n",
    "lm_model = FlaubertWithLMHeadModel.from_pretrained('flaubert/flaubert_base_cased').to(device)\n",
    "raw_model = FlaubertModel.from_pretrained('flaubert/flaubert_base_cased', output_hidden_states=True, output_attentions=True).to(device)\n",
    "def load_transformers():\n",
    "    return tokenizer, lm_model, raw_model"
   ]
  },
  {
   "cell_type": "code",
   "execution_count": null,
   "id": "70a6a28cb34345b2",
   "metadata": {
    "collapsed": false
   },
   "outputs": [],
   "source": [
    "# imports from filter\n",
    "def filter_substitutions(substitutions):\n",
    "    dels = list()\n",
    "    for sub in substitutions:\n",
    "        if sub.lower() in substitutions and sub.capitalize() in substitutions:\n",
    "            dels.append(sub.capitalize())\n",
    "        if sub.lower() in substitutions and sub.upper() in substitutions:\n",
    "            dels.append(sub.upper())\n",
    "        if sub in nltk.corpus.stopwords.words('french') or sub in string.punctuation:\n",
    "            dels.append(sub)\n",
    "    dels = list(set(dels))\n",
    "    for d in dels:\n",
    "        substitutions.remove(d)\n",
    "    return substitutions\n",
    "\n",
    "def filter_words(target, words, scores, tokens):\n",
    "    # lets time\n",
    "    time_filter = time.time()\n",
    "    dels = list()\n",
    "    toks = tokens.tolist()\n",
    "    blacklist = [target, target.capitalize()]\n",
    "    \n",
    "    for w in words:\n",
    "        if w.lower() in words and w.capitalize() in words:\n",
    "            dels.append(w.capitalize())\n",
    "        if w.lower() in words and w.upper() in words:\n",
    "            dels.append(w.upper())\n",
    "        if w in nltk.corpus.stopwords.words('french') or w in string.punctuation:\n",
    "            dels.append(w)\n",
    "        if w in blacklist:\n",
    "            dels.append(w)\n",
    "    \n",
    "\n",
    "    dels = list(set(dels))\n",
    "    for d in dels:\n",
    "        del scores[words.index(d)]\n",
    "        del toks[words.index(d)]\n",
    "        words.remove(d)\n",
    "    \n",
    "\n",
    "    return words, scores, torch.tensor(toks)\n",
    "# imports from scores\n",
    "\n",
    "#Calculates the similarity score\n",
    "def similarity_score(original_output, subst_output, k):\n",
    "    mask_idx = k\n",
    "    cos_sim = torch.nn.CosineSimilarity(dim=1, eps=1e-6)\n",
    "    # Veranderen 3 naar 2\n",
    "    weights = torch.div(torch.stack(list(original_output[2])).squeeze().sum(0).sum(0), (12 * 12.0))\n",
    "\n",
    "    #Calculate the similarittimey score \n",
    "    #SIM(x, x'; k) = sum_i^L [ w_{i,k} * cos(h(x_i|x), h(x_i'|x')) ]\n",
    "\n",
    "    #subst_output = raw_model(sent.reshape(1, sent.shape[0]))\n",
    "    suma = 0.0\n",
    "    # Veranderen 2 naar 1\n",
    "    sent_len = original_output[1][2].shape[1]\n",
    "\n",
    "    for token_idx in range(sent_len): \n",
    "        # Veranderen 2 naar 1\n",
    "        original_hidden = original_output[1]\n",
    "        # Veranderen 2 naar 1\n",
    "        subst_hidden = subst_output[1]\n",
    "\n",
    "        #Calculate the contextualized representation of the i-th word as a concatenation of RoBERTa's values in its last four layers\n",
    "        context_original = torch.cat( tuple( [original_hidden[hs_idx][:, token_idx, :] for hs_idx in [1, 2, 3, 4]] ), dim=1)\n",
    "        context_subst = torch.cat( tuple( [subst_hidden[hs_idx][:, token_idx, :] for hs_idx in [1, 2, 3, 4]] ), dim=1)\n",
    "        suma += weights[mask_idx][token_idx] * cos_sim(context_original, context_subst)\n",
    "\n",
    "    substitute_validation = suma\n",
    "    return substitute_validation\n",
    "\n",
    "\n",
    "#Calculates the proposal score\n",
    "def proposal_score(original_score, subst_scores):\n",
    "    subst_scores = torch.tensor(subst_scores)\n",
    "    # we have to revert original_score to cpu\n",
    "    original_score = original_score.cpu()\n",
    "    return np.log(torch.div(subst_scores , (1.0 - original_score)) )\n",
    "\n",
    "\n",
    "#finals, props, subval = calc_scores(scores, input_ids[i], input_embeds[i], original_score, mask_position)\n",
    "def calc_scores(scr, sentences, original_output, original_score, mask_index):\n",
    "    #Get representations of all substitute sentences\n",
    "    sentences= torch.tensor(sentences).to(device)\n",
    "    subst_output = raw_model(sentences)\n",
    "\n",
    "    prop_score = proposal_score(original_score, scr) # this is cpu\n",
    "    substitute_validation = similarity_score(original_output, subst_output, mask_index)\n",
    "\n",
    "    alpha = 0.003\n",
    "    # Move prop_score to the same device as substitute_validation before the operation\n",
    "    prop_score = prop_score.to(substitute_validation.device)\n",
    "\n",
    "    final_score = substitute_validation + alpha*prop_score\n",
    "    \n",
    "    '''\n",
    "    print(\"Proposal score: \" + str(prop_score))\n",
    "    print(\"Subst. validation: \" + str(substitute_validation))\n",
    "    print(\"Final score for \" + str(final_score) + \"\\n\")\n",
    "    '''\n",
    "    return final_score, prop_score, substitute_validation"
   ]
  },
  {
   "cell_type": "code",
   "execution_count": null,
   "id": "cf443f5c962246d3",
   "metadata": {
    "collapsed": false
   },
   "outputs": [],
   "source": [
    "def lexsub_dropout(sentence, target, topk=15):\n",
    "    sentence = sentence.replace('-', ' ')\n",
    "    table = str.maketrans(dict.fromkeys(string.punctuation)) \n",
    "\n",
    "    #Remove unnecessary punctuation from the sentence (such as: \"GET *free food *coupons!!\")\n",
    "    split_sent = nltk.word_tokenize(sentence)\n",
    "    split_sent = list(map(lambda wrd : wrd.translate(table) if wrd not in string.punctuation else wrd, split_sent))\n",
    "    original_sent = ' '.join(split_sent)\n",
    "\n",
    "    #Get raw model word embeddings for words in the sentence\n",
    "    original_token_input = tokenizer.encode(\" \"+original_sent, return_tensors=\"pt\").to(device)\n",
    "    original_output = raw_model(original_token_input)\n",
    "    # TVDC hidden_states zitten op index 1 ipv 2\n",
    "    inputs_embeds = original_output[1][1]\n",
    "\n",
    "    #The target word to substitute\n",
    "    target_token_id = tokenizer.encode(\" \"+target)[1]\n",
    "    input_ids = tokenizer.encode(\" \" + original_sent)\n",
    "    \n",
    "    mask_position = input_ids.index(target_token_id)\n",
    "    #input_ids = torch.tensor(input_ids).to(device)\n",
    "    #Set a percentage of randomly selected embedding weights of the target word to 0.\n",
    "    embedding_dim = 768\n",
    "    dropout_percent = 0.3\n",
    "    dropout_amount = round(dropout_percent*embedding_dim)\n",
    "\n",
    "    #Start timing the experiment.\n",
    "    start = time.time()\n",
    "\n",
    "    #Run multiple experiments and then take average because of stochastic nature of choosing indices to dropout (sometimes the predictions are gibberish)\n",
    "    all_scores = dict()\n",
    "    all_counts = dict()\n",
    "    num_iterations = 5\n",
    "    for it in range(num_iterations):\n",
    "        #Choose the weight indices to drop out.\n",
    "        dropout_indices = np.random.choice(embedding_dim, dropout_amount, replace=False)\n",
    "        #Apply dropout to the embeddings\n",
    "        inputs_embeds[0, mask_position, dropout_indices] = 0\n",
    "        #Pass the embeddings where masked word's embedding is partially droppped out to the model \n",
    "        with torch.no_grad():\n",
    "                output = lm_model(inputs_embeds=inputs_embeds)\n",
    "        logits = output[0].squeeze()\n",
    "        #Get top guesses\n",
    "        mask_logits = logits[mask_position]\n",
    "        top_tokens = torch.topk(mask_logits, k=16, dim=0)[1]\n",
    "        scores = torch.softmax(mask_logits, dim=0)[top_tokens].tolist()\n",
    "        words = [tokenizer.decode(i.item()).strip() for i in top_tokens]\n",
    "        words, scores, top_tokens = filter_words(target, words, scores, top_tokens) # THIS IS WHAT MAKES IT SLOW\n",
    "        assert len(words) == len(scores)\n",
    "        if len(words) == 0: \n",
    "            continue\n",
    "\n",
    "        #Calculate proposal scores, substitute validation scores, and final scores\n",
    "        original_score = torch.softmax(mask_logits, dim=0)[target_token_id]\n",
    "        sentences = list()\n",
    "        for i in range(len(words)):\n",
    "            subst_word = top_tokens[i]\n",
    "            input_ids[mask_position] = int(subst_word)\n",
    "            sentences.append(list(input_ids))\n",
    "       \n",
    "        finals, props, subval = calc_scores(scores, sentences, original_output, original_score, mask_position)\n",
    "        finals = map(lambda f : float(f), finals)\n",
    "        props = map(lambda f : float(f), props)\n",
    "        subval = map(lambda f : float(f), subval)\n",
    "\n",
    "        if target in words:\n",
    "            words.remove(target)\n",
    "\n",
    "        #Update total scores and counts in the dictionary\n",
    "        res = dict(zip(words, finals))\n",
    "        for w, s in res.items():\n",
    "            all_scores[w] = all_scores[w] + s if w in all_scores.keys() else s\n",
    "            all_counts[w] = all_counts[w] + 1 if w in all_counts.keys() else 1\n",
    "    #Get the average of accumulated scores.\n",
    "    for w, s in all_scores.items():\n",
    "        all_scores[w] = s / all_counts[w]\n",
    "    words, finals = list(all_scores.keys()), list(all_scores.values())\n",
    "\n",
    "\n",
    "    #Sort the found substitutes by scores and print them out.\n",
    "    x = dict(zip(words, finals)) # list of words and final scores in dict form\n",
    "    sorted_list = list(sorted(x.items(), key=lambda item: item[1], reverse=True))[:topk] # take the \"topk\" best substitutes\n",
    "    #print([\"({0}: {1:0.8f})\".format(k, v) for k,v in sorted_list])\n",
    "    #print(\"Elapsed time: \", time.time() - start, \"\\n\")\n",
    "    return sorted_list\n",
    "WSD_PATTERN = r' (\\w+)/\\w+\\.\\w\\.\\d+' # (Woord), letterlijke slash, woord, letterlijke punt, letter, cijfer(s)\n",
    "\n",
    "\n",
    "def preproc_sentence(sentence):\n",
    "    sent_preproc = re.sub(WSD_PATTERN, r'\\1', sentence) # Alleen woord blijft over\n",
    "    return sent_preproc"
   ]
  },
  {
   "cell_type": "code",
   "outputs": [
    {
     "name": "stdout",
     "output_type": "stream",
     "text": [
      "['(chien: 0.94006187)', '(lapin: 0.93172437)', '(loup: 0.91865864)', '(souris: 0.90812165)', '(cheval: 0.90654725)', '(gris: 0.88889819)', '(chassé: 0.88627207)', '(té: 0.88561562)', '(crash: 0.88475007)', '(Super: 0.88032937)', '(Blanc: 0.88023603)', '(pe: 0.87729859)', '(Ch: 0.87567955)', '(ee: 0.87442511)', '(ie: 0.87264225)']\n",
      "Elapsed time:  1.1112093925476074 \n"
     ]
    }
   ],
   "source": [
    "test = lexsub_dropout(\"Le chat gris est assis sur le tapis.\", \"chat\")"
   ],
   "metadata": {
    "collapsed": false,
    "ExecuteTime": {
     "end_time": "2024-05-20T20:27:02.414966Z",
     "start_time": "2024-05-20T20:27:00.556245Z"
    }
   },
   "id": "eed70ea457cb5a21",
   "execution_count": 4
  },
  {
   "cell_type": "markdown",
   "id": "5ea09ae958f3609a",
   "metadata": {
    "collapsed": false
   },
   "source": [
    "# We apply this method to the dataset"
   ]
  },
  {
   "cell_type": "code",
   "outputs": [],
   "source": [
    "model_name = \"Flaubert\"\n",
    "all_predictions = {}"
   ],
   "metadata": {
    "collapsed": false,
    "ExecuteTime": {
     "end_time": "2024-05-20T20:27:10.625330Z",
     "start_time": "2024-05-20T20:27:10.618628Z"
    }
   },
   "id": "d78ecb1b3acde6ff",
   "execution_count": 8
  },
  {
   "cell_type": "code",
   "outputs": [
    {
     "name": "stderr",
     "output_type": "stream",
     "text": [
      "100%|██████████| 84/84 [01:15<00:00,  1.11it/s]\n"
     ]
    }
   ],
   "source": [
    "lemmatizer = fll()\n",
    "for filename in os.listdir(f\"{model_name}/Experiment_1/Curated\"):\n",
    "    if filename.endswith(\"Avocat.csv\"):\n",
    "        df = pd.read_csv(f\"{model_name}/Experiment_1/Curated/\" + filename, sep=\";\", encoding=\"utf-8\", header=0)\n",
    "        # We calculate predictions\n",
    "        predictions = []\n",
    "        keyword = df[\"source\"][1].lower()\n",
    "        sentences = df[\"match\"].values\n",
    "        if keyword == \"tour\":\n",
    "            sentences = [preproc_sentence(sentence) for sentence in sentences]\n",
    "        for sentence in tqdm(sentences):\n",
    "            #print(sentence)\n",
    "            substitutions = lexsub_dropout(sentence, keyword)\n",
    "            sentence_tuple = (sentence, substitutions)\n",
    "            predictions.append(sentence_tuple)\n",
    "        all_predictions[keyword] = predictions\n",
    "        "
   ],
   "metadata": {
    "collapsed": false,
    "ExecuteTime": {
     "end_time": "2024-05-20T20:29:03.447993Z",
     "start_time": "2024-05-20T20:27:44.914050Z"
    }
   },
   "id": "7347c22e42b370c3",
   "execution_count": 11
  },
  {
   "cell_type": "code",
   "outputs": [],
   "source": [
    "# We save the predictions to a pandas dataframe (columns \"keyword\", 'sentence', 'predictions'\n",
    "if not os.path.exists(f\"{model_name}/Experiment_3/Curated/predictions/\"):\n",
    "    os.makedirs(f\"{model_name}/Experiment_3/Curated/predictions/\")\n",
    "for match, predictions in all_predictions.items():\n",
    "    df = pd.DataFrame(predictions, columns=[\"match\", \"predictions\"])\n",
    "    df[\"source\"] = match\n",
    "    # we add a 'match'\n",
    "    df.to_csv(f\"{model_name}/Experiment_3/Curated/predictions/{match}.csv\", sep=\";\", encoding=\"utf-8\", index=False)"
   ],
   "metadata": {
    "collapsed": false,
    "ExecuteTime": {
     "end_time": "2024-05-17T18:30:26.362295Z",
     "start_time": "2024-05-17T18:30:26.144710Z"
    }
   },
   "id": "4c43338b852fa9da",
   "execution_count": 18
  },
  {
   "cell_type": "code",
   "outputs": [],
   "source": [
    "df = pd.DataFrame(columns=[\"source\", \"match\", \"predictions\"])\n",
    "for match, predictions in all_predictions.items():\n",
    "    for sentence, subs in predictions:\n",
    "        new_row = pd.DataFrame({\"source\": [match], \"match\": [sentence], \"predictions\": [subs]})\n",
    "        df = pd.concat([df, new_row], ignore_index=True)"
   ],
   "metadata": {
    "collapsed": false,
    "ExecuteTime": {
     "end_time": "2024-05-20T20:29:03.515439Z",
     "start_time": "2024-05-20T20:29:03.451046Z"
    }
   },
   "id": "861192da02200917",
   "execution_count": 12
  },
  {
   "cell_type": "code",
   "outputs": [],
   "source": [
    "# We then create a list of all the different words in \"forward\" and \"backward\"\n",
    "all_words = {}\n",
    "for match, predictions in all_predictions.items():\n",
    "    all_words[match] = []\n",
    "    for sentence, subs in predictions:\n",
    "        all_words[match].extend([prediction[0] for prediction in subs])\n",
    "    all_words[match] = list(set(all_words[match]))\n",
    "\n"
   ],
   "metadata": {
    "collapsed": false,
    "ExecuteTime": {
     "end_time": "2024-05-20T20:29:03.528858Z",
     "start_time": "2024-05-20T20:29:03.518802Z"
    }
   },
   "id": "72b264034b69b1c5",
   "execution_count": 13
  },
  {
   "cell_type": "code",
   "outputs": [
    {
     "name": "stdout",
     "output_type": "stream",
     "text": [
      "created dataframe for  avocat\n",
      "converted avocat into <class 'numpy.ndarray'>\n"
     ]
    }
   ],
   "source": [
    "# Represent the sentences as sparse vectors\n",
    "# We do this by making a dataframe for each word: the index is the sentence, the columns are the words, and the values are the probabilities\n",
    "# We transform the dataframe\n",
    "vectors = {}\n",
    "for keyword, predictions in all_predictions.items():\n",
    "    df_sparse = pd.DataFrame(columns=[\"source\", \"match\"] + all_words[keyword])\n",
    "    print(\"created dataframe for \", keyword)\n",
    "    rows = []\n",
    "    for sentence, subs in predictions:\n",
    "        row = {\"source\": keyword, \"match\": sentence}\n",
    "        for word in all_words[keyword]:\n",
    "            row[word] = 0\n",
    "        for prediction in subs:\n",
    "            word, prob = prediction\n",
    "            row[word] = + prob  # We want to add to it if it already exists (forward and backward)\n",
    "        rows.append(row)\n",
    "    df_sparse = pd.DataFrame(rows)\n",
    "    vector = df_sparse.drop(columns=[\"source\", \"match\"]).values\n",
    "    # We now have a numpy ndarray, which we can transform using the TfidfTransformer\n",
    "    #transformer = TfidfTransformer()\n",
    "    #vector_Tfidf = transformer.fit_transform(vector)\n",
    "    finite_vals = vector[np.isfinite(vector)]\n",
    "    max_finite_val = np.max(finite_vals) if finite_vals.size > 0 else 1\n",
    "    vector[np.isinf(vector)] = max_finite_val\n",
    "    \n",
    "    # Replace NaNs with zero\n",
    "    vector[np.isnan(vector)] = 0\n",
    "    svd = TruncatedSVD(n_components=100)\n",
    "    vector_SVD = svd.fit_transform(vector)\n",
    "    vectors[keyword] = vector_SVD\n",
    "    print(f\"converted {keyword} into {type(vector)}\")\n"
   ],
   "metadata": {
    "collapsed": false,
    "ExecuteTime": {
     "end_time": "2024-05-20T20:29:04.105908Z",
     "start_time": "2024-05-20T20:29:03.533825Z"
    }
   },
   "id": "f1843ab8a2d11e88",
   "execution_count": 14
  },
  {
   "cell_type": "code",
   "outputs": [
    {
     "name": "stdout",
     "output_type": "stream",
     "text": [
      "Fitting model with 3 clusters\n",
      "Fitting model with 4 clusters\n",
      "Fitting model with 5 clusters\n",
      "Fitting model with 6 clusters\n",
      "Fitting model with 7 clusters\n",
      "Fitting model with 8 clusters\n",
      "Fitting model with 9 clusters\n",
      "Fitting model with 10 clusters\n",
      "Optimal number of clusters: 3\n",
      "Number of clusters: 3\n",
      "agg:\n",
      "Score for each sense\n",
      "avocado     7.142857\n",
      "lawyer     94.642857\n",
      "Name: agg_default_sub, dtype: float64\n",
      "Overall score 65.47619047619048\n",
      "BIC:\n",
      "Score for each sense\n",
      "avocado    96.428571\n",
      "lawyer     39.285714\n",
      "Name: BIC_default_sub, dtype: float64\n",
      "Overall score 58.333333333333336\n"
     ]
    }
   ],
   "source": [
    "# Initialize the clustering algorithm\n",
    "warnings.filterwarnings(\"ignore\")\n",
    "# 'n_clusters' is the number of clusters we want to form (and also the number of clusters to be found)\n",
    "# 'linkage' is the linkage criterion (can be 'ward', 'complete', 'average', 'single')\n",
    "clustermin = 3\n",
    "\n",
    "agg_clustering = AgglomerativeClustering(n_clusters=clustermin, metric='cosine', linkage='average')\n",
    "\n",
    "# Range of potential cluster numbers to test\n",
    "cluster_range = range(clustermin, 11)\n",
    "\n",
    "for keyword, vector_SVD in vectors.items():\n",
    "    df = pd.read_csv(f\"{model_name}/Experiment_1/Curated/{keyword}.csv\", sep=\";\", encoding=\"utf-8\", header=0)\n",
    "    # Apply the clustering algorithm to the SVD-transformed vectors\n",
    "    agg_clusters = agg_clustering.fit_predict(vector_SVD)\n",
    "\n",
    "    # 'agg_clusters' is now an array where the i-th element is the cluster label of the i-th instance\n",
    "    # We add \"1\" to all clusters to start counting at 1 instead of 0\n",
    "    agg_clusters += 1\n",
    "    # We add the cluster label to the original dataframe, corresponding to the correct index\n",
    "\n",
    "    df[\"agg_cluster_sub\"] = agg_clusters\n",
    "\n",
    "    # List to hold BIC values\n",
    "    bic_values = []\n",
    "\n",
    "    # Fit Gaussian Mixture Models for each number of clusters\n",
    "    for i in cluster_range:\n",
    "        print(f\"Fitting model with {i} clusters\")\n",
    "        gmm = GaussianMixture(n_components=i, random_state=0).fit(vector_SVD)\n",
    "        bic_values.append(gmm.bic(vector_SVD))\n",
    "\n",
    "    # Find the number of clusters that gives the minimum BIC\n",
    "    optimal_clusters = cluster_range[np.argmin(bic_values)]\n",
    "    print(f\"Optimal number of clusters: {optimal_clusters}\")\n",
    "\n",
    "    # Fit the optimal model\n",
    "    gmm_optimal = GaussianMixture(n_components=optimal_clusters).fit(vector_SVD)\n",
    "\n",
    "    # Predict the cluster for each data point\n",
    "    BIC_clusters = gmm_optimal.predict(vector_SVD)\n",
    "    # We want them to start counting at \"1\" instead of \"0\"\n",
    "    BIC_clusters += 1\n",
    "    print(f\"Number of clusters: {len(np.unique(BIC_clusters))}\")\n",
    "    df[\"BIC_cluster_sub\"] = BIC_clusters\n",
    "\n",
    "    # We calculate a score for the clustering scores (starting before the outliers are removed)\n",
    "    # Group the dataframe by \"sense\" and \"cluster\", and calculate the size of each group\n",
    "    df_grouped = df.groupby([\"sense\", \"agg_cluster_sub\"]).size().reset_index(name=\"count\")\n",
    "\n",
    "    # Sort these clusters by size in descending order\n",
    "    df_grouped = df_grouped.sort_values(by=\"count\", ascending=False)\n",
    "\n",
    "    # Initialize an empty dictionary to store the cluster numbers that have been assigned as default clusters\n",
    "    # If the cluster number is not taken, we assign it to the corresponding \"sense\"\n",
    "    # Else, we try to assign it to the next cluster number\n",
    "    cluster_dict = {}\n",
    "    for index, row in df_grouped.iterrows():\n",
    "        if row[\"sense\"] not in cluster_dict:\n",
    "            if row[\"agg_cluster_sub\"] not in cluster_dict.values():\n",
    "                cluster_dict[row[\"sense\"]] = row[\"agg_cluster_sub\"]\n",
    "\n",
    "        # We add \"sense\" values that have no entry in cluster_dict and set value to 0 (always seen as wrong)\n",
    "    for sense in df[\"sense\"].unique():\n",
    "        if sense not in cluster_dict:\n",
    "            cluster_dict[sense] = 0\n",
    "\n",
    "    # Add a new column \"default\" to the original dataframe\n",
    "    df[\"agg_default_sub\"] = df.apply(lambda x: x[\"agg_cluster_sub\"] == cluster_dict[x[\"sense\"]], axis=1)\n",
    "\n",
    "    # We calculate the percentage of default clusters\n",
    "    percentage_default = (df[\"agg_default_sub\"].sum() / len(df)) * 100\n",
    "    # We also calculate this separately for each \"sense\"\n",
    "    percentage_default_mean = df.groupby(\"sense\")[\"agg_default_sub\"].mean() * 100\n",
    "\n",
    "    # We want the mean score across all senses, as it does not mean a lot if a program can correctly define one big cluster containing most of the data and fail at all other senses.\n",
    "    percentage_weighted = percentage_default_mean.mean()\n",
    "    print(\"agg:\")\n",
    "    print(\"Score for each\", percentage_default_mean)\n",
    "    print(\"Overall score\", percentage_default)\n",
    "\n",
    "    #----------------------------------------------------------------------------------------------------\n",
    "    # We do this again for BIC clusters\n",
    "    #----------------------------------------------------------------------------------------------------\n",
    "\n",
    "    # We calculate a score for the clustering scores (starting before the outliers are removed)\n",
    "    # Group the dataframe by \"sense\" and \"cluster\", and calculate the size of each group\n",
    "    df_grouped = df.groupby([\"sense\", \"BIC_cluster_sub\"]).size().reset_index(name=\"count\")\n",
    "\n",
    "    # Sort these clusters by size in descending order\n",
    "    df_grouped = df_grouped.sort_values(by=\"count\", ascending=False)\n",
    "\n",
    "    # Initialize an empty dictionary to store the cluster numbers that have been assigned as default clusters\n",
    "    # If the cluster number is not taken, we assign it to the corresponding \"sense\"\n",
    "    # Else, we try to assign it to the next cluster number\n",
    "    cluster_dict = {}\n",
    "    for index, row in df_grouped.iterrows():\n",
    "        if row[\"sense\"] not in cluster_dict:\n",
    "            if row[\"BIC_cluster_sub\"] not in cluster_dict.values():\n",
    "                cluster_dict[row[\"sense\"]] = row[\"BIC_cluster_sub\"]\n",
    "\n",
    "        # We add \"sense\" values that have no entry in cluster_dict and set value to 0 (always seen as wrong)\n",
    "    for sense in df[\"sense\"].unique():\n",
    "        if sense not in cluster_dict:\n",
    "            cluster_dict[sense] = 0\n",
    "\n",
    "    # Add a new column \"default\" to the original dataframe\n",
    "    df[\"BIC_default_sub\"] = df.apply(lambda x: x[\"BIC_cluster_sub\"] == cluster_dict[x[\"sense\"]], axis=1)\n",
    "\n",
    "    # We calculate the percentage of default clusters\n",
    "    percentage_default = (df[\"BIC_default_sub\"].sum() / len(df)) * 100\n",
    "    # We also calculate this separately for each \"sense\"\n",
    "    percentage_default_mean = df.groupby(\"sense\")[\"BIC_default_sub\"].mean() * 100\n",
    "\n",
    "    # We want the mean score across all senses, as it does not mean a lot if a program can correctly define one big cluster containing most of the data and fail at all other senses.\n",
    "    percentage_weighted = percentage_default_mean.mean()\n",
    "    print(\"BIC:\")\n",
    "    print(\"Score for each\", percentage_default_mean)\n",
    "    print(\"Overall score\", percentage_default)\n",
    "\n",
    "    #df.to_csv(f\"{model_name}/Experiment_3/Curated/{keyword}.csv\", sep=\";\", encoding=\"utf-8\", index=False)"
   ],
   "metadata": {
    "collapsed": false,
    "ExecuteTime": {
     "end_time": "2024-05-20T20:29:34.889824Z",
     "start_time": "2024-05-20T20:29:33.711249Z"
    }
   },
   "id": "7c8bbf9e123673b3",
   "execution_count": 16
  },
  {
   "cell_type": "code",
   "outputs": [],
   "source": [
    "import plotly.express as px\n",
    "from sklearn.decomposition import PCA"
   ],
   "metadata": {
    "collapsed": false,
    "ExecuteTime": {
     "end_time": "2024-05-20T20:36:46.699853Z",
     "start_time": "2024-05-20T20:36:46.689333Z"
    }
   },
   "id": "671d97d8f3801699",
   "execution_count": 23
  },
  {
   "cell_type": "code",
   "outputs": [],
   "source": [
    "# We load in the dataframe\n",
    "df = pd.read_csv(f\"{model_name}/Experiment_3/Curated/Avocat.csv\", sep=\";\", encoding=\"utf-8\", header=0)"
   ],
   "metadata": {
    "collapsed": false,
    "ExecuteTime": {
     "end_time": "2024-05-20T20:31:15.452534Z",
     "start_time": "2024-05-20T20:31:15.400461Z"
    }
   },
   "id": "632e619df46b8970",
   "execution_count": 19
  },
  {
   "cell_type": "code",
   "outputs": [],
   "source": [
    "# functie om dataframe uit te breiden met drie PCA-waarden\n",
    "def extend_df_with_pca(df, m_np):\n",
    "    df_new = df.copy()\n",
    "\n",
    "    pca = PCA(n_components=3)\n",
    "    components = pca.fit_transform(m_np)\n",
    "\n",
    "    df_new.insert(1, 'x', components[:,0])\n",
    "    df_new.insert(2, 'y', components[:,1])\n",
    "    df_new.insert(3, 'z', components[:,2])\n",
    "\n",
    "    return df_new\n"
   ],
   "metadata": {
    "collapsed": false,
    "ExecuteTime": {
     "end_time": "2024-05-20T20:36:57.804333Z",
     "start_time": "2024-05-20T20:36:57.795277Z"
    }
   },
   "id": "cf921e4f90c518d7",
   "execution_count": 24
  },
  {
   "cell_type": "code",
   "outputs": [],
   "source": [
    "# We make representations by employing PCA upon the vector_SVD\n",
    "# We delete columns \"x\", \"y\" and \"z\" if they already exist\n",
    "if \"x\" in df.columns:\n",
    "    df = df.drop(columns=[\"x\", \"y\", \"z\"])\n",
    "\n",
    "df_vis = extend_df_with_pca(df, vectors[\"avocat\"])"
   ],
   "metadata": {
    "collapsed": false,
    "ExecuteTime": {
     "end_time": "2024-05-20T20:39:07.880779Z",
     "start_time": "2024-05-20T20:39:07.861924Z"
    }
   },
   "id": "adc10229b4edc7ed",
   "execution_count": 27
  },
  {
   "cell_type": "code",
   "outputs": [
    {
     "data": {
      "application/vnd.plotly.v1+json": {
       "data": [
        {
         "customdata": [
          [
           " - S'ajoutent 2 plaintes déposées contre le même militant : en mars 2017 par l' avocat montpelliérain du BNVCA David Mendel qui avait plaidé contre Saadia et Husein, pour « Menaces contre un avocat ». "
          ],
          [
           " L' avocat fait du droit, il n'est pas le seul; mais cela ne signifie pas que tous ceux qui font du droit soient avocats ou aient vocation à le devenir sauf à diluer la profession. "
          ],
          [
           " Si vous avez besoin d'un conseil juridique ou que vous subissez une situation grave (ex : harcèlement), le SFE peut vous venir en aide avant de faire appel à un avocat . "
          ],
          [
           " La première démarche est d'aller voir en premier lieu un avocat spécialisé en droit des sociétés ensuite l'expert comptable. "
          ],
          [
           " Celui-ci prévoit que \"70 % des résultats soient destinés à l'autofinancement pour permettre à l'entreprise de se développer\", selon Maitre Christophe Thévenet, avocat de l'hebdomadaire. \"On a voté une résolution supplémentaire pour attribuer les 30 % restants à l'autofinancement\", ajoute l' avocat qui rappelle que la répartition des plus de 4 millions d'euros de dons sera confiée à une commission de sages désignés, à la demande du journal, par le ministère de la Justice. "
          ],
          [
           " Les locaux d'une ancienne école d' avocat seront réhabilités et réaménagés pour accueillir la fondation agir sur l'Audition associée à un laboratoire de recherche dédié à l'équipe du Pr Christine Petit. "
          ],
          [
           " Un avocat turc a porté plainte contre l'Inter Milan et demande à l'UEFA d'enlever au club italien les points acquis face à Fenerbahçe. "
          ],
          [
           " Elle évoque des « professions sensibles, qui incitent aux conflits d'intérêts ou qui peuvent les provoquer : avocat , conseil juridique ». « Mais je ne vois pas à quel titre on imposerait à un parlementaire qui est agriculteur, ou dentiste, de cesser de l'être. "
          ],
          [
           " M. Coronado a raison : dès lors qu'un acte de procédure est réalisé en présence d'un avocat , celui-ci doit être informé, quoi qu'il arrive, d'un déplacement éventuel. "
          ],
          [
           " L'accusé Kimbangu, n'était pas assisté par un avocat . "
          ],
          [
           " En plus de la peine de prison, Berkane Makhlouf, 32 ans, a été condamné à indemniser les plaignants « à hauteur de 1 000 à 2 000 euros pour chacun d'entre eux », a expliqué au « Figaro » Me Dominique-Jean Lardans, l' avocat des surveillants. "
          ],
          [
           " Un fournisseur de services participant peut refuser de fournir tout renseignement ou document que demande le Commissaire, s'il peut démontrer, à la satisfaction de ce dernier, que le matériel est assujetti au secret professionnel qui lie un avocat à son client, ou qu'en le fournissant, le fournisseur de services participant commettrait une infraction à la loi. "
          ],
          [
           " Après une première activité en qualité de greffier-rédacteur au Tribunal d'arrondissement de la Broye et du Nord vaudois, j'ai effectué mon stage d' avocat auprès de Me Paul-Arthur Treyvaud à Yverdon-les-Bains. "
          ],
          [
           " Tamarii Nuutania envoie une première salve de courriers à vingt détenus, détaillant les étapes de la procédure d'indemnisation accompagnés d'un questionnaire établi par l'OIP devant permettre une description précise de leurs conditions matérielles de détention, et d'un formulaire permettant de désigner Me Millet comme avocat devant le tribunal administratif. "
          ],
          [
           " Son avocat a annoncé le 7 juin qu'il avait mis fin à son mouvement, car il se sentait trop faible physiquement. "
          ],
          [
           " Il va falloir que tous ceux qui se disent opposés à la LGV pensent qu'un recours n'est pas gratuit parce qu'il faut un bon avocat si possible au Conseil et que le collectif limousin non lgv oui au POLT, lance un appel aux dons par souscription : http://limogespoitiers.com/souscription-pour-le-recours.../ "
          ],
          [
           " En effet, l' avocat est rémunéré en fonction du temps passé pour traiter le dossier. "
          ],
          [
           " Sauf qu'une requête avec assistance de l' avocat n'est pas gratuite, pas immédiate non plus, et à la fin, c'est toujours le même qui paye. "
          ],
          [
           " Des groupes sont constitués (24, 12 ou 6) pour les matières qui nécessitent un échange important entre les intervenants et les élèves qui sont mis en situation, en particulier lors de la correction de devoirs réalisés à domicile : rédaction d'acte d' avocat , de contrats, de projets en groupe, d'écritures et de consultations et exercices de plaidoirie. "
          ],
          [
           " bonjour Madame merci de votre soutient je suis a la recherche d'un avocat qui pourrait m'aider il faut un avocat qui a des connaissances en droit européens une autre chose aussi il y a l'assemblée générale de l'UPBPF qui a lieu le 27 février a NAMUR moi personnellement je vais m'y rendre il faudrait être le plus possible afin de pouvoir intervenir a cette assemblée je dois aussi très prochainement rencontrer un journaliste de la voix du Nord je vous tiendrez au courant de l'évolution de mes actions sur ce forum je souhaite que d'autres parents comme nous vont se manifester crdlt "
          ],
          [
           " Connu comme l' avocat des « barons de la cocaà¯ne »[réf. nécessaire] du Pérou et de Colombie, Montesinos poursuit les années 1980 des « grands procès », en gagnant la confiance de divers narcotrafiquants. "
          ],
          [
           " L' avocat en droit bancaire prend en compte les revenus de son client afin de lui proposer la meilleure défense, sans que cela soit négatif pour son budget. "
          ],
          [
           " Les chiffres donnent le tournis dans ce très long rapport rédigé par le juge Van Ruymbeke en vue du renvoi devant le Tribunal Correctionnel de Lamine Diack, de Papa Massata Diack, d'Habib Cissé, leur avocat , du Docteur Gabriel Dollé, des Russes Melnikov et Balakhnitchev. "
          ],
          [
           "Un annonceur vante son produit auprès des consommateurs par un spot publicitaire, un avocat défend son client auprès du juge par une plaidoirie, un politicien se fait valoir auprès des électeurs par un beau discours : dans une conception classique de la communication, un émetteur adresse un message à une cible par un vecteur."
          ],
          [
           "Votre avocat défend aussi vos droits et vos intérêts en cas de conflits ou de litiges entre associés, de concurrence déloyale, etc. Maitre CALVET vous conseille, vous accompagne et vous représente devant les juridictions tout en assurant votre défense pour tous les sujets relatifs au droit des affaires et au droit commercial."
          ],
          [
           "Yvan Colonna, a contrario de tout accusé ne méritait même pas qu'un avocat le défende ."
          ],
          [
           "Parmi les rares qui élèvent la voix, il y a Raphaël Kempf, avocat qui a défendu nombre de Gilets jaunes interpellés."
          ],
          [
           "Un avocat qui a défendu un homme politique accusé de viol tout en critiquant les féministes et #MeToo est désormais ministre de la justice."
          ],
          [
           "Mais cet avocat a défendu le Front Polisario, mouvement indépendantiste du Sahara occidental : une provocation pour les Marocains."
          ],
          [
           "En 1998, le célèbre avocat défend le jardinier Omar Raddad, accusé du meurtre de sa patronne Ghislaine Marchal et condamné en 1994, à 18 ans de réclusion."
          ],
          [
           "Il est normal que l' avocat défende son client, mais il faut aussi que le ministère public apporte la contradiction, afin que le juge du siège puisse trancher."
          ],
          [
           "Comme le rapporte Le Parisien, dans le recours présenté, les députés s'interrogent sur l'absence de la signature du ministre du Budget sur le décret, pour une mesure qui impacte les finances publiques. \"Nous plaidons aussi l'erreur de fait de l'administration qui a appuyé cette mesure sur une expérimentation qui, elle-même l'a reconnu, n'est pas significative\", a fait savoir au quotidien Rémy Josseaume, l' avocat défendant la requête des députés."
          ],
          [
           "Et malgré la bouteille jetée à la tête de notre éditeur, son avocat plaide la relaxe."
          ],
          [
           "L' avocat a plaidé l'acquittement, ainsi que ses deux collaborateurs."
          ],
          [
           "Viole et découpe une gamine en morceaux et ton gentil avocat plaidera un égarement de jeunesse."
          ],
          [
           "Un avocat plaide l'irresponsabilité, l'autre recommande l'obligation de soins."
          ],
          [
           "Son avocat a plaidé qu'un dénommé Silvère Martel, qui faisait le taxi au noir à Outreau, qui avait un enfant de huit ans du nom de Vincent, et qui était inquiété dans une autre affaire d'agression sexuelle, n'était pas mis en examen, alors que les enfants mettaient en cause un M. Martel ayant un fils Vincent de huit ans... Quant à Mme Odile Marécaux, elle a produit un certificat médical de janvier 2001 si je me souviens bien, montrant que son fils est indemne de toute agression sexuelle, alors que"
          ],
          [
           "Pendant tout le temps où le président l'a exposé et où mon avocat a plaidé , l' avocat général a dessiné."
          ],
          [
           "Un avocat plaidant pour l'état d'un enfant âgé de cinq ans, le fit amener à l'audience."
          ],
          [
           "Avant sa nomination à la Cour d'appel, il était un avocat spécialisé en litige, ayant plaidé dans divers secteurs du droit, tant devant la Cour suprême du Canada et la Cour fédérale, que devant toutes les instances judiciaires québécoises et les tribunaux administratifs."
          ],
          [
           "Robert Bilott est un avocat spécialisé dans la défense des industries chimiques."
          ],
          [
           "Nicolas Hournon, avocat bisontin spécialisé notamment dans le droit de la distribution, de la propriété industrielle et de la propriété intellectuelle a confié la création de son identité visuelle et de son site Internet à notre agence."
          ],
          [
           "Nous nous sommes entourés des experts du secteur : Bernard Boutboul [dirigeant du cabinet Gira Conseil, NDLR] et l' avocat spécialisé Olivier Deschamps."
          ],
          [
           "Comme Me Arnaud Gossement, avocat spécialisé dans le droit de l'environnement, le faisait remarquer dans une interview pour La Croix, si \" ce sont de belles avancées, [...] tout dépendra des moyens de contrôle qui accompagneront ces mesures. \" Moyens de contrôle mais aussi moyens financiers et humains."
          ]
         ],
         "hovertemplate": "sense=lawyer<br>BIC_default_sub=True<br>x=%{x}<br>y=%{y}<br>match=%{customdata[0]}<extra></extra>",
         "legendgroup": "lawyer, True",
         "marker": {
          "color": "#636efa",
          "symbol": "circle"
         },
         "mode": "markers",
         "name": "lawyer, True",
         "orientation": "v",
         "showlegend": true,
         "x": [
          0.6036199600626728,
          -0.061747291538538016,
          1.3789608485631015,
          -1.1091921312934145,
          1.036481707098264,
          0.13344398256418577,
          1.187869442529758,
          0.7077481331509493,
          0.3841623499993843,
          -0.323816822248495,
          0.583456636253432,
          1.3691398843056222,
          1.483040869065046,
          1.393131905890905,
          -0.07219489412225509,
          1.4202393236512678,
          0.6451910553945208,
          1.062172239656666,
          0.32996413199012975,
          1.5518576391377785,
          0.24449935221728789,
          0.07543388178277291,
          0.5414119007500369,
          1.2894357634458502,
          1.059634771797594,
          0.920792984674085,
          1.163915224081736,
          0.5806206908179553,
          -1.0424276467470437,
          1.2367389825026982,
          0.1603062010763346,
          0.8477205986895322,
          0.49880499141842144,
          -0.3144857736817675,
          -0.4004618646197949,
          0.7169665532065761,
          0.5796976333087744,
          1.2845543085725042,
          0.782882148605226,
          1.4617567487866086,
          -0.6818115426490918,
          1.144457133303146,
          0.5953936575001422,
          1.6724184509110431
         ],
         "xaxis": "x",
         "y": [
          -0.37765642525747944,
          -0.9370094291659332,
          -0.21351659013913418,
          0.1585738503306003,
          0.7189087781573683,
          -1.2023433370487353,
          0.9299415650472044,
          0.7476596531344691,
          -0.5224964783949995,
          -0.21229996274629953,
          -0.521561535218656,
          1.5562712555243101,
          0.9770994031064674,
          0.26395610243128476,
          -1.0596481152020099,
          0.6976832959980632,
          -0.7980363937331277,
          -0.464786046825908,
          -0.5820825803891997,
          -0.14956787214674727,
          -0.2745527236777068,
          -0.00458948310771358,
          0.3661632818081126,
          1.586074450729205,
          0.7270885578633266,
          -0.2740711243404276,
          0.38310444234979696,
          -0.027979349481856614,
          -0.28705745310582564,
          1.3145754036089239,
          0.020267817355431834,
          0.613150595978009,
          -0.6827556489816066,
          0.2529322941234942,
          -0.34548295400529044,
          -0.1680875173327077,
          -0.6176603913736248,
          0.5742496072691139,
          -0.16836276970659356,
          -0.0020832310745260707,
          -0.3808169591101116,
          0.2902643246948511,
          -0.8554568741704033,
          0.7323264460223942
         ],
         "yaxis": "y",
         "type": "scatter"
        },
        {
         "customdata": [
          [
           " L' avocat de Christine Lagarde se veut rassurant: l'enquête durera longtemps avant d'aboutir à un résultat. "
          ],
          [
           " avocat en droit des affaires - 63 km de Borchtlombeek "
          ],
          [
           " Ce qui n'est souvent pas le cas d'un avocat qui réside très loin de son client. "
          ],
          [
           " Nous avons demandé à Me Prosper Farama, avocat dans ce dossier, d'apprécier l'action des uns et des autres. "
          ],
          [
           " Organe professionel de gestion et de contrôle de la profession d' avocat, qui réunit obligatoirement tous les avocats d'un même barreau. "
          ],
          [
           "Un avocat qui défend son client ne partage pas ses valeurs."
          ],
          [
           "Dans le cas échéant, votre avocat plaidera votre cause et défendra vos intérêts."
          ],
          [
           "Il a réussi son pari, brillant avocat il a plaidé le viol par consentement mutuel."
          ],
          [
           "Son avocat a plaidé l'acquittement."
          ],
          [
           "M. Moseley est un avocat plaidant chevronné du domaine des valeurs mobilières qui a plus de 20 ans d'expérience dans la conformité et l'application de la loi, y compris dans les instances civiles et réglementaires."
          ],
          [
           "Nous vous mettons en relation avec un avocat spécialisé et expérimenté qui rédigera votre contrat et répondra à toutes vos questions"
          ],
          [
           "Un avocat spécialisé et expérimenté en droit des contrats rédige mon contrat"
          ]
         ],
         "hovertemplate": "sense=lawyer<br>BIC_default_sub=False<br>x=%{x}<br>y=%{y}<br>match=%{customdata[0]}<extra></extra>",
         "legendgroup": "lawyer, False",
         "marker": {
          "color": "#636efa",
          "symbol": "diamond"
         },
         "mode": "markers",
         "name": "lawyer, False",
         "orientation": "v",
         "showlegend": true,
         "x": [
          0.5874642841680906,
          -1.4103763708746055,
          -0.9293091775907653,
          0.573050723710169,
          -0.22761942240833324,
          -1.5008249923615864,
          1.0651640075693558,
          -1.6077248949449643,
          0.09638446197998937,
          0.8576455760427012,
          -1.5045143839419783,
          -1.473513922515416
         ],
         "xaxis": "x",
         "y": [
          0.242148839881327,
          0.8616361287517242,
          0.0145167141796642,
          -0.8212092177297999,
          -0.7393095229523934,
          0.9836331792812587,
          -0.36638761440280376,
          0.8123761160232251,
          -0.8406748365867438,
          0.05538795272316044,
          0.9679852343284568,
          0.9398904402354517
         ],
         "yaxis": "y",
         "type": "scatter"
        },
        {
         "customdata": [
          [
           "Le caviar d'aubergine se déguste avec un avocat par exemple ou un poisson grillé."
          ],
          [
           "La chair fondante de l' avocat se cuisine en une savoureuse palette de recettes faciles et rapides à préparer"
          ],
          [
           "Les acides gras polyinsaturés contenus dans l' avocat y contribuent."
          ],
          [
           "Que faire avec de l' avocat ? +15 idées recettes à tester !"
          ],
          [
           "Superbe crème et aromatique, avec avocat sur le dessus - se réveille les esprits en 25 minutes."
          ],
          [
           "L'arbre à avocat (avocatier), un arbre exotique qui peut pousser en intérieur ... Avec ses grandes feuilles brillantes et ses fruits goûteux"
          ],
          [
           "Le principal ingrédient est avocat guacamole, qui contient des acides gras mono-insaturés abondantes"
          ],
          [
           "Excepté pour en faire du guacamole, vous n'avez aucune idée de comment cuisiner et intégrer l' avocat dans vos recettes salées"
          ],
          [
           "Une fois les filets cuits, tailles-les (pas jusqu'au bout) et intercalez les tranches d' avocat."
          ],
          [
           "De la garniture des tartines aux desserts en passant par les boissons frappées, l' avocat est souvent présenté comme un aliment sain."
          ],
          [
           "L' avocat, ainsi que des fruits comme les pommes, les pêches, les framboises et les myrtilles, contiennent des substances chimiques naturelles appelées salicylates"
          ],
          [
           "Pour commencer, peler et couper l' avocat en tranches, puis les asperger de jus de citron, de sel et de poivre."
          ],
          [
           "Dans un plat, mixer l' avocat avec l'oignon et la tomate, ajoutez le sel ainsi que le citron et le tabasco et la coriandre."
          ],
          [
           "Si vous craignez d'abimer la chair, pelez délicatement l' avocat ."
          ],
          [
           "Si vous craignez d'abimer la chair, pelez délicatement l' avocat ."
          ]
         ],
         "hovertemplate": "sense=avocado<br>BIC_default_sub=True<br>x=%{x}<br>y=%{y}<br>match=%{customdata[0]}<extra></extra>",
         "legendgroup": "avocado, True",
         "marker": {
          "color": "#EF553B",
          "symbol": "circle"
         },
         "mode": "markers",
         "name": "avocado, True",
         "orientation": "v",
         "showlegend": true,
         "x": [
          -1.3047834343687366,
          -1.6275055403522785,
          -1.142278714153782,
          -1.4695046924571264,
          -1.0052669217535077,
          -1.4343368393271148,
          -1.5184684525871512,
          -0.7620321288561257,
          0.10116243700043209,
          -0.26882487395368926,
          -1.2331629584715225,
          -0.7586379846139119,
          -1.1326167880800462,
          -0.4665144112124204,
          -1.3957169303708223
         ],
         "xaxis": "x",
         "y": [
          0.34261244396154233,
          1.1072258985512817,
          0.4379817406744967,
          0.9369764472699144,
          0.13881678865022212,
          0.8962402146708578,
          0.9550491971640638,
          0.030884035064867418,
          -0.22381254999471972,
          -0.46521086802372397,
          0.5080749963270274,
          -0.8472838896055165,
          -0.4592343460189836,
          -0.3865971972552961,
          0.4150182600557503
         ],
         "yaxis": "y",
         "type": "scatter"
        },
        {
         "customdata": [
          [
           "Pour griller l' avocat, il vaut mieux le couper en deux, retirer le noyau et arroser la chair d'huile et de jus de citron. "
          ],
          [
           "Coupez votre avocat en deux, retirez son noyau et réveillez-le simplement avec du jus de citron et de la fleur de sel."
          ],
          [
           "Pour cette recette de Doce de abacate (crème d' avocat), vous pouvez compter 15 minutes de préparation."
          ],
          [
           "Posez des emporte-pièces sur des assiettes, puis mettez une couche d' avocat, une couche de mangue et terminez par le crabe."
          ],
          [
           "L' avocat, ou Persea americana, est un fruit qui appartient à la famille des lauracées, un groupe qui comprend également des membres tels que la cannelle et le laurier."
          ],
          [
           "Heureusement il existe ce que l'on appelle des anti-oxydants qui agissent comme la peinture empêche le fer de s'oxyder, ou le citron qui empêche l' avocat coupé de noircir."
          ],
          [
           "Dans le bol de votre mixeur ou de votre blender, placez les bananes et l' avocat coupés en morceaux, les dattes dénoyautées, le jus de citron, le cacao cru et l'huile de coco fondue."
          ],
          [
           "Mixez un avocat pour que ça fasse une purée puis mélangez-le à de l'huile d'olive avec quelques gouttes de jus de citron pour la brillance."
          ],
          [
           "Pelez l' avocat , coupez-le en deux puis enlevez le noyau (on plante le couteau dedans, on tourne et on retire)."
          ],
          [
           "Pelez l' avocat , coupez-le en deux puis enlevez le noyau (on plante le couteau dedans, on tourne et on retire)."
          ],
          [
           "Vous avez besoin de : Pour le gâteau: 1 avocat mûr , réduit en purée jusqu'à consistance lisse, 2 cuillères à café de..."
          ],
          [
           "Entre-temps, pour la crème, retirez le noyau d'un avocat mûr , placez la chair dans un grand bol."
          ],
          [
           "Ingrédients : 180g de quinoa non cuit, 1 avocat mûr mais encore ferme coupé en tranches ou en dés, 125g de framboises, 1/2 oignon rouge coupé en dés, 150g de fêta émiettée, 75g d'amandes effilées, feuilles de basilic frais"
          ]
         ],
         "hovertemplate": "sense=avocado<br>BIC_default_sub=False<br>x=%{x}<br>y=%{y}<br>match=%{customdata[0]}<extra></extra>",
         "legendgroup": "avocado, False",
         "marker": {
          "color": "#EF553B",
          "symbol": "diamond"
         },
         "mode": "markers",
         "name": "avocado, False",
         "orientation": "v",
         "showlegend": true,
         "x": [
          0.1419336157819056,
          -0.23844285136540516,
          -0.7753393851881312,
          -0.6634486967048705,
          0.008914360593949263,
          -0.5814633543909291,
          -0.6888279493137907,
          0.5879631792445111,
          -0.39074971752614446,
          -1.0297733402903093,
          -1.0035021414471554,
          -1.3643433117434514,
          -1.2320421827866672
         ],
         "xaxis": "x",
         "y": [
          -0.5645114098150522,
          -0.6817191332562369,
          -0.2822010515970267,
          -0.6201934757537038,
          -0.699482555771959,
          -1.3905009482275483,
          -1.358726458696677,
          -0.24732016150212469,
          -1.2569024613332533,
          -0.45239827662902654,
          -0.39877138673541135,
          0.41051692853550903,
          0.26514592576240265
         ],
         "yaxis": "y",
         "type": "scatter"
        }
       ],
       "layout": {
        "template": {
         "data": {
          "barpolar": [
           {
            "marker": {
             "line": {
              "color": "white",
              "width": 0.5
             },
             "pattern": {
              "fillmode": "overlay",
              "size": 10,
              "solidity": 0.2
             }
            },
            "type": "barpolar"
           }
          ],
          "bar": [
           {
            "error_x": {
             "color": "#2a3f5f"
            },
            "error_y": {
             "color": "#2a3f5f"
            },
            "marker": {
             "line": {
              "color": "white",
              "width": 0.5
             },
             "pattern": {
              "fillmode": "overlay",
              "size": 10,
              "solidity": 0.2
             }
            },
            "type": "bar"
           }
          ],
          "carpet": [
           {
            "aaxis": {
             "endlinecolor": "#2a3f5f",
             "gridcolor": "#C8D4E3",
             "linecolor": "#C8D4E3",
             "minorgridcolor": "#C8D4E3",
             "startlinecolor": "#2a3f5f"
            },
            "baxis": {
             "endlinecolor": "#2a3f5f",
             "gridcolor": "#C8D4E3",
             "linecolor": "#C8D4E3",
             "minorgridcolor": "#C8D4E3",
             "startlinecolor": "#2a3f5f"
            },
            "type": "carpet"
           }
          ],
          "choropleth": [
           {
            "colorbar": {
             "outlinewidth": 0,
             "ticks": ""
            },
            "type": "choropleth"
           }
          ],
          "contourcarpet": [
           {
            "colorbar": {
             "outlinewidth": 0,
             "ticks": ""
            },
            "type": "contourcarpet"
           }
          ],
          "contour": [
           {
            "colorbar": {
             "outlinewidth": 0,
             "ticks": ""
            },
            "colorscale": [
             [
              0.0,
              "#0d0887"
             ],
             [
              0.1111111111111111,
              "#46039f"
             ],
             [
              0.2222222222222222,
              "#7201a8"
             ],
             [
              0.3333333333333333,
              "#9c179e"
             ],
             [
              0.4444444444444444,
              "#bd3786"
             ],
             [
              0.5555555555555556,
              "#d8576b"
             ],
             [
              0.6666666666666666,
              "#ed7953"
             ],
             [
              0.7777777777777778,
              "#fb9f3a"
             ],
             [
              0.8888888888888888,
              "#fdca26"
             ],
             [
              1.0,
              "#f0f921"
             ]
            ],
            "type": "contour"
           }
          ],
          "heatmapgl": [
           {
            "colorbar": {
             "outlinewidth": 0,
             "ticks": ""
            },
            "colorscale": [
             [
              0.0,
              "#0d0887"
             ],
             [
              0.1111111111111111,
              "#46039f"
             ],
             [
              0.2222222222222222,
              "#7201a8"
             ],
             [
              0.3333333333333333,
              "#9c179e"
             ],
             [
              0.4444444444444444,
              "#bd3786"
             ],
             [
              0.5555555555555556,
              "#d8576b"
             ],
             [
              0.6666666666666666,
              "#ed7953"
             ],
             [
              0.7777777777777778,
              "#fb9f3a"
             ],
             [
              0.8888888888888888,
              "#fdca26"
             ],
             [
              1.0,
              "#f0f921"
             ]
            ],
            "type": "heatmapgl"
           }
          ],
          "heatmap": [
           {
            "colorbar": {
             "outlinewidth": 0,
             "ticks": ""
            },
            "colorscale": [
             [
              0.0,
              "#0d0887"
             ],
             [
              0.1111111111111111,
              "#46039f"
             ],
             [
              0.2222222222222222,
              "#7201a8"
             ],
             [
              0.3333333333333333,
              "#9c179e"
             ],
             [
              0.4444444444444444,
              "#bd3786"
             ],
             [
              0.5555555555555556,
              "#d8576b"
             ],
             [
              0.6666666666666666,
              "#ed7953"
             ],
             [
              0.7777777777777778,
              "#fb9f3a"
             ],
             [
              0.8888888888888888,
              "#fdca26"
             ],
             [
              1.0,
              "#f0f921"
             ]
            ],
            "type": "heatmap"
           }
          ],
          "histogram2dcontour": [
           {
            "colorbar": {
             "outlinewidth": 0,
             "ticks": ""
            },
            "colorscale": [
             [
              0.0,
              "#0d0887"
             ],
             [
              0.1111111111111111,
              "#46039f"
             ],
             [
              0.2222222222222222,
              "#7201a8"
             ],
             [
              0.3333333333333333,
              "#9c179e"
             ],
             [
              0.4444444444444444,
              "#bd3786"
             ],
             [
              0.5555555555555556,
              "#d8576b"
             ],
             [
              0.6666666666666666,
              "#ed7953"
             ],
             [
              0.7777777777777778,
              "#fb9f3a"
             ],
             [
              0.8888888888888888,
              "#fdca26"
             ],
             [
              1.0,
              "#f0f921"
             ]
            ],
            "type": "histogram2dcontour"
           }
          ],
          "histogram2d": [
           {
            "colorbar": {
             "outlinewidth": 0,
             "ticks": ""
            },
            "colorscale": [
             [
              0.0,
              "#0d0887"
             ],
             [
              0.1111111111111111,
              "#46039f"
             ],
             [
              0.2222222222222222,
              "#7201a8"
             ],
             [
              0.3333333333333333,
              "#9c179e"
             ],
             [
              0.4444444444444444,
              "#bd3786"
             ],
             [
              0.5555555555555556,
              "#d8576b"
             ],
             [
              0.6666666666666666,
              "#ed7953"
             ],
             [
              0.7777777777777778,
              "#fb9f3a"
             ],
             [
              0.8888888888888888,
              "#fdca26"
             ],
             [
              1.0,
              "#f0f921"
             ]
            ],
            "type": "histogram2d"
           }
          ],
          "histogram": [
           {
            "marker": {
             "pattern": {
              "fillmode": "overlay",
              "size": 10,
              "solidity": 0.2
             }
            },
            "type": "histogram"
           }
          ],
          "mesh3d": [
           {
            "colorbar": {
             "outlinewidth": 0,
             "ticks": ""
            },
            "type": "mesh3d"
           }
          ],
          "parcoords": [
           {
            "line": {
             "colorbar": {
              "outlinewidth": 0,
              "ticks": ""
             }
            },
            "type": "parcoords"
           }
          ],
          "pie": [
           {
            "automargin": true,
            "type": "pie"
           }
          ],
          "scatter3d": [
           {
            "line": {
             "colorbar": {
              "outlinewidth": 0,
              "ticks": ""
             }
            },
            "marker": {
             "colorbar": {
              "outlinewidth": 0,
              "ticks": ""
             }
            },
            "type": "scatter3d"
           }
          ],
          "scattercarpet": [
           {
            "marker": {
             "colorbar": {
              "outlinewidth": 0,
              "ticks": ""
             }
            },
            "type": "scattercarpet"
           }
          ],
          "scattergeo": [
           {
            "marker": {
             "colorbar": {
              "outlinewidth": 0,
              "ticks": ""
             }
            },
            "type": "scattergeo"
           }
          ],
          "scattergl": [
           {
            "marker": {
             "colorbar": {
              "outlinewidth": 0,
              "ticks": ""
             }
            },
            "type": "scattergl"
           }
          ],
          "scattermapbox": [
           {
            "marker": {
             "colorbar": {
              "outlinewidth": 0,
              "ticks": ""
             }
            },
            "type": "scattermapbox"
           }
          ],
          "scatterpolargl": [
           {
            "marker": {
             "colorbar": {
              "outlinewidth": 0,
              "ticks": ""
             }
            },
            "type": "scatterpolargl"
           }
          ],
          "scatterpolar": [
           {
            "marker": {
             "colorbar": {
              "outlinewidth": 0,
              "ticks": ""
             }
            },
            "type": "scatterpolar"
           }
          ],
          "scatter": [
           {
            "fillpattern": {
             "fillmode": "overlay",
             "size": 10,
             "solidity": 0.2
            },
            "type": "scatter"
           }
          ],
          "scatterternary": [
           {
            "marker": {
             "colorbar": {
              "outlinewidth": 0,
              "ticks": ""
             }
            },
            "type": "scatterternary"
           }
          ],
          "surface": [
           {
            "colorbar": {
             "outlinewidth": 0,
             "ticks": ""
            },
            "colorscale": [
             [
              0.0,
              "#0d0887"
             ],
             [
              0.1111111111111111,
              "#46039f"
             ],
             [
              0.2222222222222222,
              "#7201a8"
             ],
             [
              0.3333333333333333,
              "#9c179e"
             ],
             [
              0.4444444444444444,
              "#bd3786"
             ],
             [
              0.5555555555555556,
              "#d8576b"
             ],
             [
              0.6666666666666666,
              "#ed7953"
             ],
             [
              0.7777777777777778,
              "#fb9f3a"
             ],
             [
              0.8888888888888888,
              "#fdca26"
             ],
             [
              1.0,
              "#f0f921"
             ]
            ],
            "type": "surface"
           }
          ],
          "table": [
           {
            "cells": {
             "fill": {
              "color": "#EBF0F8"
             },
             "line": {
              "color": "white"
             }
            },
            "header": {
             "fill": {
              "color": "#C8D4E3"
             },
             "line": {
              "color": "white"
             }
            },
            "type": "table"
           }
          ]
         },
         "layout": {
          "annotationdefaults": {
           "arrowcolor": "#2a3f5f",
           "arrowhead": 0,
           "arrowwidth": 1
          },
          "autotypenumbers": "strict",
          "coloraxis": {
           "colorbar": {
            "outlinewidth": 0,
            "ticks": ""
           }
          },
          "colorscale": {
           "diverging": [
            [
             0,
             "#8e0152"
            ],
            [
             0.1,
             "#c51b7d"
            ],
            [
             0.2,
             "#de77ae"
            ],
            [
             0.3,
             "#f1b6da"
            ],
            [
             0.4,
             "#fde0ef"
            ],
            [
             0.5,
             "#f7f7f7"
            ],
            [
             0.6,
             "#e6f5d0"
            ],
            [
             0.7,
             "#b8e186"
            ],
            [
             0.8,
             "#7fbc41"
            ],
            [
             0.9,
             "#4d9221"
            ],
            [
             1,
             "#276419"
            ]
           ],
           "sequential": [
            [
             0.0,
             "#0d0887"
            ],
            [
             0.1111111111111111,
             "#46039f"
            ],
            [
             0.2222222222222222,
             "#7201a8"
            ],
            [
             0.3333333333333333,
             "#9c179e"
            ],
            [
             0.4444444444444444,
             "#bd3786"
            ],
            [
             0.5555555555555556,
             "#d8576b"
            ],
            [
             0.6666666666666666,
             "#ed7953"
            ],
            [
             0.7777777777777778,
             "#fb9f3a"
            ],
            [
             0.8888888888888888,
             "#fdca26"
            ],
            [
             1.0,
             "#f0f921"
            ]
           ],
           "sequentialminus": [
            [
             0.0,
             "#0d0887"
            ],
            [
             0.1111111111111111,
             "#46039f"
            ],
            [
             0.2222222222222222,
             "#7201a8"
            ],
            [
             0.3333333333333333,
             "#9c179e"
            ],
            [
             0.4444444444444444,
             "#bd3786"
            ],
            [
             0.5555555555555556,
             "#d8576b"
            ],
            [
             0.6666666666666666,
             "#ed7953"
            ],
            [
             0.7777777777777778,
             "#fb9f3a"
            ],
            [
             0.8888888888888888,
             "#fdca26"
            ],
            [
             1.0,
             "#f0f921"
            ]
           ]
          },
          "colorway": [
           "#636efa",
           "#EF553B",
           "#00cc96",
           "#ab63fa",
           "#FFA15A",
           "#19d3f3",
           "#FF6692",
           "#B6E880",
           "#FF97FF",
           "#FECB52"
          ],
          "font": {
           "color": "#2a3f5f"
          },
          "geo": {
           "bgcolor": "white",
           "lakecolor": "white",
           "landcolor": "white",
           "showlakes": true,
           "showland": true,
           "subunitcolor": "#C8D4E3"
          },
          "hoverlabel": {
           "align": "left"
          },
          "hovermode": "closest",
          "mapbox": {
           "style": "light"
          },
          "paper_bgcolor": "white",
          "plot_bgcolor": "white",
          "polar": {
           "angularaxis": {
            "gridcolor": "#EBF0F8",
            "linecolor": "#EBF0F8",
            "ticks": ""
           },
           "bgcolor": "white",
           "radialaxis": {
            "gridcolor": "#EBF0F8",
            "linecolor": "#EBF0F8",
            "ticks": ""
           }
          },
          "scene": {
           "xaxis": {
            "backgroundcolor": "white",
            "gridcolor": "#DFE8F3",
            "gridwidth": 2,
            "linecolor": "#EBF0F8",
            "showbackground": true,
            "ticks": "",
            "zerolinecolor": "#EBF0F8"
           },
           "yaxis": {
            "backgroundcolor": "white",
            "gridcolor": "#DFE8F3",
            "gridwidth": 2,
            "linecolor": "#EBF0F8",
            "showbackground": true,
            "ticks": "",
            "zerolinecolor": "#EBF0F8"
           },
           "zaxis": {
            "backgroundcolor": "white",
            "gridcolor": "#DFE8F3",
            "gridwidth": 2,
            "linecolor": "#EBF0F8",
            "showbackground": true,
            "ticks": "",
            "zerolinecolor": "#EBF0F8"
           }
          },
          "shapedefaults": {
           "line": {
            "color": "#2a3f5f"
           }
          },
          "ternary": {
           "aaxis": {
            "gridcolor": "#DFE8F3",
            "linecolor": "#A2B1C6",
            "ticks": ""
           },
           "baxis": {
            "gridcolor": "#DFE8F3",
            "linecolor": "#A2B1C6",
            "ticks": ""
           },
           "bgcolor": "white",
           "caxis": {
            "gridcolor": "#DFE8F3",
            "linecolor": "#A2B1C6",
            "ticks": ""
           }
          },
          "title": {
           "x": 0.05
          },
          "xaxis": {
           "automargin": true,
           "gridcolor": "#EBF0F8",
           "linecolor": "#EBF0F8",
           "ticks": "",
           "title": {
            "standoff": 15
           },
           "zerolinecolor": "#EBF0F8",
           "zerolinewidth": 2
          },
          "yaxis": {
           "automargin": true,
           "gridcolor": "#EBF0F8",
           "linecolor": "#EBF0F8",
           "ticks": "",
           "title": {
            "standoff": 15
           },
           "zerolinecolor": "#EBF0F8",
           "zerolinewidth": 2
          }
         }
        },
        "xaxis": {
         "anchor": "y",
         "domain": [
          0.0,
          1.0
         ],
         "title": {
          "text": "x"
         }
        },
        "yaxis": {
         "anchor": "x",
         "domain": [
          0.0,
          1.0
         ],
         "title": {
          "text": "y"
         }
        },
        "legend": {
         "title": {
          "text": "sense, BIC_default_sub"
         },
         "tracegroupgap": 0
        },
        "margin": {
         "t": 60
        },
        "title": {
         "text": "Clusters Avocat<br></sub>",
         "y": 0.9,
         "x": 0.5,
         "xanchor": "center",
         "yanchor": "top"
        }
       },
       "config": {
        "plotlyServerURL": "https://plot.ly"
       }
      },
      "text/html": "<div>                            <div id=\"915e6106-dfc6-4465-9ca5-f07b656e8b46\" class=\"plotly-graph-div\" style=\"height:525px; width:100%;\"></div>            <script type=\"text/javascript\">                require([\"plotly\"], function(Plotly) {                    window.PLOTLYENV=window.PLOTLYENV || {};                                    if (document.getElementById(\"915e6106-dfc6-4465-9ca5-f07b656e8b46\")) {                    Plotly.newPlot(                        \"915e6106-dfc6-4465-9ca5-f07b656e8b46\",                        [{\"customdata\":[[\" - S'ajoutent 2 plaintes d\\u00e9pos\\u00e9es contre le m\\u00eame militant : en mars 2017 par l' avocat montpelli\\u00e9rain du BNVCA David Mendel qui avait plaid\\u00e9 contre Saadia et Husein, pour \\u00ab Menaces contre un avocat \\u00bb. \"],[\" L' avocat fait du droit, il n'est pas le seul; mais cela ne signifie pas que tous ceux qui font du droit soient avocats ou aient vocation \\u00e0 le devenir sauf \\u00e0 diluer la profession. \"],[\" Si vous avez besoin d'un conseil juridique ou que vous subissez une situation grave (ex : harc\\u00e8lement), le SFE peut vous venir en aide avant de faire appel \\u00e0 un avocat . \"],[\" La premi\\u00e8re d\\u00e9marche est d'aller voir en premier lieu un avocat sp\\u00e9cialis\\u00e9 en droit des soci\\u00e9t\\u00e9s ensuite l'expert comptable. \"],[\" Celui-ci pr\\u00e9voit que \\\"70 % des r\\u00e9sultats soient destin\\u00e9s \\u00e0 l'autofinancement pour permettre \\u00e0 l'entreprise de se d\\u00e9velopper\\\", selon Maitre Christophe Th\\u00e9venet, avocat de l'hebdomadaire. \\\"On a vot\\u00e9 une r\\u00e9solution suppl\\u00e9mentaire pour attribuer les 30 % restants \\u00e0 l'autofinancement\\\", ajoute l' avocat qui rappelle que la r\\u00e9partition des plus de 4 millions d'euros de dons sera confi\\u00e9e \\u00e0 une commission de sages d\\u00e9sign\\u00e9s, \\u00e0 la demande du journal, par le minist\\u00e8re de la Justice. \"],[\" Les locaux d'une ancienne \\u00e9cole d' avocat seront r\\u00e9habilit\\u00e9s et r\\u00e9am\\u00e9nag\\u00e9s pour accueillir la fondation agir sur l'Audition associ\\u00e9e \\u00e0 un laboratoire de recherche d\\u00e9di\\u00e9 \\u00e0 l'\\u00e9quipe du Pr Christine Petit. \"],[\" Un avocat turc a port\\u00e9 plainte contre l'Inter Milan et demande \\u00e0 l'UEFA d'enlever au club italien les points acquis face \\u00e0 Fenerbah\\u00e7e. \"],[\" Elle \\u00e9voque des \\u00ab professions sensibles, qui incitent aux conflits d'int\\u00e9r\\u00eats ou qui peuvent les provoquer : avocat , conseil juridique \\u00bb. \\u00ab Mais je ne vois pas \\u00e0 quel titre on imposerait \\u00e0 un parlementaire qui est agriculteur, ou dentiste, de cesser de l'\\u00eatre. \"],[\" M. Coronado a raison : d\\u00e8s lors qu'un acte de proc\\u00e9dure est r\\u00e9alis\\u00e9 en pr\\u00e9sence d'un avocat , celui-ci doit \\u00eatre inform\\u00e9, quoi qu'il arrive, d'un d\\u00e9placement \\u00e9ventuel. \"],[\" L'accus\\u00e9 Kimbangu, n'\\u00e9tait pas assist\\u00e9 par un avocat . \"],[\" En plus de la peine de prison, Berkane Makhlouf, 32 ans, a \\u00e9t\\u00e9 condamn\\u00e9 \\u00e0 indemniser les plaignants \\u00ab \\u00e0 hauteur de 1 000 \\u00e0 2 000 euros pour chacun d'entre eux \\u00bb, a expliqu\\u00e9 au \\u00ab Figaro \\u00bb Me Dominique-Jean Lardans, l' avocat des surveillants. \"],[\" Un fournisseur de services participant peut refuser de fournir tout renseignement ou document que demande le Commissaire, s'il peut d\\u00e9montrer, \\u00e0 la satisfaction de ce dernier, que le mat\\u00e9riel est assujetti au secret professionnel qui lie un avocat \\u00e0 son client, ou qu'en le fournissant, le fournisseur de services participant commettrait une infraction \\u00e0 la loi. \"],[\" Apr\\u00e8s une premi\\u00e8re activit\\u00e9 en qualit\\u00e9 de greffier-r\\u00e9dacteur au Tribunal d'arrondissement de la Broye et du Nord vaudois, j'ai effectu\\u00e9 mon stage d' avocat aupr\\u00e8s de Me Paul-Arthur Treyvaud \\u00e0 Yverdon-les-Bains. \"],[\" Tamarii Nuutania envoie une premi\\u00e8re salve de courriers \\u00e0 vingt d\\u00e9tenus, d\\u00e9taillant les \\u00e9tapes de la proc\\u00e9dure d'indemnisation accompagn\\u00e9s d'un questionnaire \\u00e9tabli par l'OIP devant permettre une description pr\\u00e9cise de leurs conditions mat\\u00e9rielles de d\\u00e9tention, et d'un formulaire permettant de d\\u00e9signer Me Millet comme avocat devant le tribunal administratif. \"],[\" Son avocat a annonc\\u00e9 le 7 juin qu'il avait mis fin \\u00e0 son mouvement, car il se sentait trop faible physiquement. \"],[\" Il va falloir que tous ceux qui se disent oppos\\u00e9s \\u00e0 la LGV pensent qu'un recours n'est pas gratuit parce qu'il faut un bon avocat si possible au Conseil et que le collectif limousin non lgv oui au POLT, lance un appel aux dons par souscription : http:\\u002f\\u002flimogespoitiers.com\\u002fsouscription-pour-le-recours...\\u002f \"],[\" En effet, l' avocat est r\\u00e9mun\\u00e9r\\u00e9 en fonction du temps pass\\u00e9 pour traiter le dossier. \"],[\" Sauf qu'une requ\\u00eate avec assistance de l' avocat n'est pas gratuite, pas imm\\u00e9diate non plus, et \\u00e0 la fin, c'est toujours le m\\u00eame qui paye. \"],[\" Des groupes sont constitu\\u00e9s (24, 12 ou 6) pour les mati\\u00e8res qui n\\u00e9cessitent un \\u00e9change important entre les intervenants et les \\u00e9l\\u00e8ves qui sont mis en situation, en particulier lors de la correction de devoirs r\\u00e9alis\\u00e9s \\u00e0 domicile : r\\u00e9daction d'acte d' avocat , de contrats, de projets en groupe, d'\\u00e9critures et de consultations et exercices de plaidoirie. \"],[\" bonjour Madame merci de votre soutient je suis a la recherche d'un avocat qui pourrait m'aider il faut un avocat qui a des connaissances en droit europ\\u00e9ens une autre chose aussi il y a l'assembl\\u00e9e g\\u00e9n\\u00e9rale de l'UPBPF qui a lieu le 27 f\\u00e9vrier a NAMUR moi personnellement je vais m'y rendre il faudrait \\u00eatre le plus possible afin de pouvoir intervenir a cette assembl\\u00e9e je dois aussi tr\\u00e8s prochainement rencontrer un journaliste de la voix du Nord je vous tiendrez au courant de l'\\u00e9volution de mes actions sur ce forum je souhaite que d'autres parents comme nous vont se manifester crdlt \"],[\" Connu comme l' avocat des \\u00ab barons de la coca\\u00e0\\u00afne \\u00bb[r\\u00e9f. n\\u00e9cessaire] du P\\u00e9rou et de Colombie, Montesinos poursuit les ann\\u00e9es 1980 des \\u00ab grands proc\\u00e8s \\u00bb, en gagnant la confiance de divers narcotrafiquants. \"],[\" L' avocat en droit bancaire prend en compte les revenus de son client afin de lui proposer la meilleure d\\u00e9fense, sans que cela soit n\\u00e9gatif pour son budget. \"],[\" Les chiffres donnent le tournis dans ce tr\\u00e8s long rapport r\\u00e9dig\\u00e9 par le juge Van Ruymbeke en vue du renvoi devant le Tribunal Correctionnel de Lamine Diack, de Papa Massata Diack, d'Habib Ciss\\u00e9, leur avocat , du Docteur Gabriel Doll\\u00e9, des Russes Melnikov et Balakhnitchev. \"],[\"Un annonceur vante son produit aupr\\u00e8s des consommateurs par un spot publicitaire, un avocat d\\u00e9fend son client aupr\\u00e8s du juge par une plaidoirie, un politicien se fait valoir aupr\\u00e8s des \\u00e9lecteurs par un beau discours : dans une conception classique de la communication, un \\u00e9metteur adresse un message \\u00e0 une cible par un vecteur.\"],[\"Votre avocat d\\u00e9fend aussi vos droits et vos int\\u00e9r\\u00eats en cas de conflits ou de litiges entre associ\\u00e9s, de concurrence d\\u00e9loyale, etc. Maitre CALVET vous conseille, vous accompagne et vous repr\\u00e9sente devant les juridictions tout en assurant votre d\\u00e9fense pour tous les sujets relatifs au droit des affaires et au droit commercial.\"],[\"Yvan Colonna, a contrario de tout accus\\u00e9 ne m\\u00e9ritait m\\u00eame pas qu'un avocat le d\\u00e9fende .\"],[\"Parmi les rares qui \\u00e9l\\u00e8vent la voix, il y a Rapha\\u00ebl Kempf, avocat qui a d\\u00e9fendu nombre de Gilets jaunes interpell\\u00e9s.\"],[\"Un avocat qui a d\\u00e9fendu un homme politique accus\\u00e9 de viol tout en critiquant les f\\u00e9ministes et #MeToo est d\\u00e9sormais ministre de la justice.\"],[\"Mais cet avocat a d\\u00e9fendu le Front Polisario, mouvement ind\\u00e9pendantiste du Sahara occidental : une provocation pour les Marocains.\"],[\"En 1998, le c\\u00e9l\\u00e8bre avocat d\\u00e9fend le jardinier Omar Raddad, accus\\u00e9 du meurtre de sa patronne Ghislaine Marchal et condamn\\u00e9 en 1994, \\u00e0 18 ans de r\\u00e9clusion.\"],[\"Il est normal que l' avocat d\\u00e9fende son client, mais il faut aussi que le minist\\u00e8re public apporte la contradiction, afin que le juge du si\\u00e8ge puisse trancher.\"],[\"Comme le rapporte Le Parisien, dans le recours pr\\u00e9sent\\u00e9, les d\\u00e9put\\u00e9s s'interrogent sur l'absence de la signature du ministre du Budget sur le d\\u00e9cret, pour une mesure qui impacte les finances publiques. \\\"Nous plaidons aussi l'erreur de fait de l'administration qui a appuy\\u00e9 cette mesure sur une exp\\u00e9rimentation qui, elle-m\\u00eame l'a reconnu, n'est pas significative\\\", a fait savoir au quotidien R\\u00e9my Josseaume, l' avocat d\\u00e9fendant la requ\\u00eate des d\\u00e9put\\u00e9s.\"],[\"Et malgr\\u00e9 la bouteille jet\\u00e9e \\u00e0 la t\\u00eate de notre \\u00e9diteur, son avocat plaide la relaxe.\"],[\"L' avocat a plaid\\u00e9 l'acquittement, ainsi que ses deux collaborateurs.\"],[\"Viole et d\\u00e9coupe une gamine en morceaux et ton gentil avocat plaidera un \\u00e9garement de jeunesse.\"],[\"Un avocat plaide l'irresponsabilit\\u00e9, l'autre recommande l'obligation de soins.\"],[\"Son avocat a plaid\\u00e9 qu'un d\\u00e9nomm\\u00e9 Silv\\u00e8re Martel, qui faisait le taxi au noir \\u00e0 Outreau, qui avait un enfant de huit ans du nom de Vincent, et qui \\u00e9tait inqui\\u00e9t\\u00e9 dans une autre affaire d'agression sexuelle, n'\\u00e9tait pas mis en examen, alors que les enfants mettaient en cause un M. Martel ayant un fils Vincent de huit ans... Quant \\u00e0 Mme Odile Mar\\u00e9caux, elle a produit un certificat m\\u00e9dical de janvier 2001 si je me souviens bien, montrant que son fils est indemne de toute agression sexuelle, alors que\"],[\"Pendant tout le temps o\\u00f9 le pr\\u00e9sident l'a expos\\u00e9 et o\\u00f9 mon avocat a plaid\\u00e9 , l' avocat g\\u00e9n\\u00e9ral a dessin\\u00e9.\"],[\"Un avocat plaidant pour l'\\u00e9tat d'un enfant \\u00e2g\\u00e9 de cinq ans, le fit amener \\u00e0 l'audience.\"],[\"Avant sa nomination \\u00e0 la Cour d'appel, il \\u00e9tait un avocat sp\\u00e9cialis\\u00e9 en litige, ayant plaid\\u00e9 dans divers secteurs du droit, tant devant la Cour supr\\u00eame du Canada et la Cour f\\u00e9d\\u00e9rale, que devant toutes les instances judiciaires qu\\u00e9b\\u00e9coises et les tribunaux administratifs.\"],[\"Robert Bilott est un avocat sp\\u00e9cialis\\u00e9 dans la d\\u00e9fense des industries chimiques.\"],[\"Nicolas Hournon, avocat bisontin sp\\u00e9cialis\\u00e9 notamment dans le droit de la distribution, de la propri\\u00e9t\\u00e9 industrielle et de la propri\\u00e9t\\u00e9 intellectuelle a confi\\u00e9 la cr\\u00e9ation de son identit\\u00e9 visuelle et de son site Internet \\u00e0 notre agence.\"],[\"Nous nous sommes entour\\u00e9s des experts du secteur : Bernard Boutboul [dirigeant du cabinet Gira Conseil, NDLR] et l' avocat sp\\u00e9cialis\\u00e9 Olivier Deschamps.\"],[\"Comme Me Arnaud Gossement, avocat sp\\u00e9cialis\\u00e9 dans le droit de l'environnement, le faisait remarquer dans une interview pour La Croix, si \\\" ce sont de belles avanc\\u00e9es, [...] tout d\\u00e9pendra des moyens de contr\\u00f4le qui accompagneront ces mesures. \\\" Moyens de contr\\u00f4le mais aussi moyens financiers et humains.\"]],\"hovertemplate\":\"sense=lawyer\\u003cbr\\u003eBIC_default_sub=True\\u003cbr\\u003ex=%{x}\\u003cbr\\u003ey=%{y}\\u003cbr\\u003ematch=%{customdata[0]}\\u003cextra\\u003e\\u003c\\u002fextra\\u003e\",\"legendgroup\":\"lawyer, True\",\"marker\":{\"color\":\"#636efa\",\"symbol\":\"circle\"},\"mode\":\"markers\",\"name\":\"lawyer, True\",\"orientation\":\"v\",\"showlegend\":true,\"x\":[0.6036199600626728,-0.061747291538538016,1.3789608485631015,-1.1091921312934145,1.036481707098264,0.13344398256418577,1.187869442529758,0.7077481331509493,0.3841623499993843,-0.323816822248495,0.583456636253432,1.3691398843056222,1.483040869065046,1.393131905890905,-0.07219489412225509,1.4202393236512678,0.6451910553945208,1.062172239656666,0.32996413199012975,1.5518576391377785,0.24449935221728789,0.07543388178277291,0.5414119007500369,1.2894357634458502,1.059634771797594,0.920792984674085,1.163915224081736,0.5806206908179553,-1.0424276467470437,1.2367389825026982,0.1603062010763346,0.8477205986895322,0.49880499141842144,-0.3144857736817675,-0.4004618646197949,0.7169665532065761,0.5796976333087744,1.2845543085725042,0.782882148605226,1.4617567487866086,-0.6818115426490918,1.144457133303146,0.5953936575001422,1.6724184509110431],\"xaxis\":\"x\",\"y\":[-0.37765642525747944,-0.9370094291659332,-0.21351659013913418,0.1585738503306003,0.7189087781573683,-1.2023433370487353,0.9299415650472044,0.7476596531344691,-0.5224964783949995,-0.21229996274629953,-0.521561535218656,1.5562712555243101,0.9770994031064674,0.26395610243128476,-1.0596481152020099,0.6976832959980632,-0.7980363937331277,-0.464786046825908,-0.5820825803891997,-0.14956787214674727,-0.2745527236777068,-0.00458948310771358,0.3661632818081126,1.586074450729205,0.7270885578633266,-0.2740711243404276,0.38310444234979696,-0.027979349481856614,-0.28705745310582564,1.3145754036089239,0.020267817355431834,0.613150595978009,-0.6827556489816066,0.2529322941234942,-0.34548295400529044,-0.1680875173327077,-0.6176603913736248,0.5742496072691139,-0.16836276970659356,-0.0020832310745260707,-0.3808169591101116,0.2902643246948511,-0.8554568741704033,0.7323264460223942],\"yaxis\":\"y\",\"type\":\"scatter\"},{\"customdata\":[[\" L' avocat de Christine Lagarde se veut rassurant: l'enqu\\u00eate durera longtemps avant d'aboutir \\u00e0 un r\\u00e9sultat. \"],[\" avocat en droit des affaires - 63 km de Borchtlombeek \"],[\" Ce qui n'est souvent pas le cas d'un avocat qui r\\u00e9side tr\\u00e8s loin de son client. \"],[\" Nous avons demand\\u00e9 \\u00e0 Me Prosper Farama, avocat dans ce dossier, d'appr\\u00e9cier l'action des uns et des autres. \"],[\" Organe professionel de gestion et de contr\\u00f4le de la profession d' avocat, qui r\\u00e9unit obligatoirement tous les avocats d'un m\\u00eame barreau. \"],[\"Un avocat qui d\\u00e9fend son client ne partage pas ses valeurs.\"],[\"Dans le cas \\u00e9ch\\u00e9ant, votre avocat plaidera votre cause et d\\u00e9fendra vos int\\u00e9r\\u00eats.\"],[\"Il a r\\u00e9ussi son pari, brillant avocat il a plaid\\u00e9 le viol par consentement mutuel.\"],[\"Son avocat a plaid\\u00e9 l'acquittement.\"],[\"M. Moseley est un avocat plaidant chevronn\\u00e9 du domaine des valeurs mobili\\u00e8res qui a plus de 20 ans d'exp\\u00e9rience dans la conformit\\u00e9 et l'application de la loi, y compris dans les instances civiles et r\\u00e9glementaires.\"],[\"Nous vous mettons en relation avec un avocat sp\\u00e9cialis\\u00e9 et exp\\u00e9riment\\u00e9 qui r\\u00e9digera votre contrat et r\\u00e9pondra \\u00e0 toutes vos questions\"],[\"Un avocat sp\\u00e9cialis\\u00e9 et exp\\u00e9riment\\u00e9 en droit des contrats r\\u00e9dige mon contrat\"]],\"hovertemplate\":\"sense=lawyer\\u003cbr\\u003eBIC_default_sub=False\\u003cbr\\u003ex=%{x}\\u003cbr\\u003ey=%{y}\\u003cbr\\u003ematch=%{customdata[0]}\\u003cextra\\u003e\\u003c\\u002fextra\\u003e\",\"legendgroup\":\"lawyer, False\",\"marker\":{\"color\":\"#636efa\",\"symbol\":\"diamond\"},\"mode\":\"markers\",\"name\":\"lawyer, False\",\"orientation\":\"v\",\"showlegend\":true,\"x\":[0.5874642841680906,-1.4103763708746055,-0.9293091775907653,0.573050723710169,-0.22761942240833324,-1.5008249923615864,1.0651640075693558,-1.6077248949449643,0.09638446197998937,0.8576455760427012,-1.5045143839419783,-1.473513922515416],\"xaxis\":\"x\",\"y\":[0.242148839881327,0.8616361287517242,0.0145167141796642,-0.8212092177297999,-0.7393095229523934,0.9836331792812587,-0.36638761440280376,0.8123761160232251,-0.8406748365867438,0.05538795272316044,0.9679852343284568,0.9398904402354517],\"yaxis\":\"y\",\"type\":\"scatter\"},{\"customdata\":[[\"Le caviar d'aubergine se d\\u00e9guste avec un avocat par exemple ou un poisson grill\\u00e9.\"],[\"La chair fondante de l' avocat se cuisine en une savoureuse palette de recettes faciles et rapides \\u00e0 pr\\u00e9parer\"],[\"Les acides gras polyinsatur\\u00e9s contenus dans l' avocat y contribuent.\"],[\"Que faire avec de l' avocat ? +15 id\\u00e9es recettes \\u00e0 tester !\"],[\"Superbe cr\\u00e8me et aromatique, avec avocat sur le dessus - se r\\u00e9veille les esprits en 25 minutes.\"],[\"L'arbre \\u00e0 avocat (avocatier), un arbre exotique qui peut pousser en int\\u00e9rieur ... Avec ses grandes feuilles brillantes et ses fruits go\\u00fbteux\"],[\"Le principal ingr\\u00e9dient est avocat guacamole, qui contient des acides gras mono-insatur\\u00e9s abondantes\"],[\"Except\\u00e9 pour en faire du guacamole, vous n'avez aucune id\\u00e9e de comment cuisiner et int\\u00e9grer l' avocat dans vos recettes sal\\u00e9es\"],[\"Une fois les filets cuits, tailles-les (pas jusqu'au bout) et intercalez les tranches d' avocat.\"],[\"De la garniture des tartines aux desserts en passant par les boissons frapp\\u00e9es, l' avocat est souvent pr\\u00e9sent\\u00e9 comme un aliment sain.\"],[\"L' avocat, ainsi que des fruits comme les pommes, les p\\u00eaches, les framboises et les myrtilles, contiennent des substances chimiques naturelles appel\\u00e9es salicylates\"],[\"Pour commencer, peler et couper l' avocat en tranches, puis les asperger de jus de citron, de sel et de poivre.\"],[\"Dans un plat, mixer l' avocat avec l'oignon et la tomate, ajoutez le sel ainsi que le citron et le tabasco et la coriandre.\"],[\"Si vous craignez d'abimer la chair, pelez d\\u00e9licatement l' avocat .\"],[\"Si vous craignez d'abimer la chair, pelez d\\u00e9licatement l' avocat .\"]],\"hovertemplate\":\"sense=avocado\\u003cbr\\u003eBIC_default_sub=True\\u003cbr\\u003ex=%{x}\\u003cbr\\u003ey=%{y}\\u003cbr\\u003ematch=%{customdata[0]}\\u003cextra\\u003e\\u003c\\u002fextra\\u003e\",\"legendgroup\":\"avocado, True\",\"marker\":{\"color\":\"#EF553B\",\"symbol\":\"circle\"},\"mode\":\"markers\",\"name\":\"avocado, True\",\"orientation\":\"v\",\"showlegend\":true,\"x\":[-1.3047834343687366,-1.6275055403522785,-1.142278714153782,-1.4695046924571264,-1.0052669217535077,-1.4343368393271148,-1.5184684525871512,-0.7620321288561257,0.10116243700043209,-0.26882487395368926,-1.2331629584715225,-0.7586379846139119,-1.1326167880800462,-0.4665144112124204,-1.3957169303708223],\"xaxis\":\"x\",\"y\":[0.34261244396154233,1.1072258985512817,0.4379817406744967,0.9369764472699144,0.13881678865022212,0.8962402146708578,0.9550491971640638,0.030884035064867418,-0.22381254999471972,-0.46521086802372397,0.5080749963270274,-0.8472838896055165,-0.4592343460189836,-0.3865971972552961,0.4150182600557503],\"yaxis\":\"y\",\"type\":\"scatter\"},{\"customdata\":[[\"Pour griller l' avocat, il vaut mieux le couper en deux, retirer le noyau et arroser la chair d'huile et de jus de citron. \"],[\"Coupez votre avocat en deux, retirez son noyau et r\\u00e9veillez-le simplement avec du jus de citron et de la fleur de sel.\"],[\"Pour cette recette de Doce de abacate (cr\\u00e8me d' avocat), vous pouvez compter 15 minutes de pr\\u00e9paration.\"],[\"Posez des emporte-pi\\u00e8ces sur des assiettes, puis mettez une couche d' avocat, une couche de mangue et terminez par le crabe.\"],[\"L' avocat, ou Persea americana, est un fruit qui appartient \\u00e0 la famille des laurac\\u00e9es, un groupe qui comprend \\u00e9galement des membres tels que la cannelle et le laurier.\"],[\"Heureusement il existe ce que l'on appelle des anti-oxydants qui agissent comme la peinture emp\\u00eache le fer de s'oxyder, ou le citron qui emp\\u00eache l' avocat coup\\u00e9 de noircir.\"],[\"Dans le bol de votre mixeur ou de votre blender, placez les bananes et l' avocat coup\\u00e9s en morceaux, les dattes d\\u00e9noyaut\\u00e9es, le jus de citron, le cacao cru et l'huile de coco fondue.\"],[\"Mixez un avocat pour que \\u00e7a fasse une pur\\u00e9e puis m\\u00e9langez-le \\u00e0 de l'huile d'olive avec quelques gouttes de jus de citron pour la brillance.\"],[\"Pelez l' avocat , coupez-le en deux puis enlevez le noyau (on plante le couteau dedans, on tourne et on retire).\"],[\"Pelez l' avocat , coupez-le en deux puis enlevez le noyau (on plante le couteau dedans, on tourne et on retire).\"],[\"Vous avez besoin de : Pour le g\\u00e2teau: 1 avocat m\\u00fbr , r\\u00e9duit en pur\\u00e9e jusqu'\\u00e0 consistance lisse, 2 cuill\\u00e8res \\u00e0 caf\\u00e9 de...\"],[\"Entre-temps, pour la cr\\u00e8me, retirez le noyau d'un avocat m\\u00fbr , placez la chair dans un grand bol.\"],[\"Ingr\\u00e9dients : 180g de quinoa non cuit, 1 avocat m\\u00fbr mais encore ferme coup\\u00e9 en tranches ou en d\\u00e9s, 125g de framboises, 1\\u002f2 oignon rouge coup\\u00e9 en d\\u00e9s, 150g de f\\u00eata \\u00e9miett\\u00e9e, 75g d'amandes effil\\u00e9es, feuilles de basilic frais\"]],\"hovertemplate\":\"sense=avocado\\u003cbr\\u003eBIC_default_sub=False\\u003cbr\\u003ex=%{x}\\u003cbr\\u003ey=%{y}\\u003cbr\\u003ematch=%{customdata[0]}\\u003cextra\\u003e\\u003c\\u002fextra\\u003e\",\"legendgroup\":\"avocado, False\",\"marker\":{\"color\":\"#EF553B\",\"symbol\":\"diamond\"},\"mode\":\"markers\",\"name\":\"avocado, False\",\"orientation\":\"v\",\"showlegend\":true,\"x\":[0.1419336157819056,-0.23844285136540516,-0.7753393851881312,-0.6634486967048705,0.008914360593949263,-0.5814633543909291,-0.6888279493137907,0.5879631792445111,-0.39074971752614446,-1.0297733402903093,-1.0035021414471554,-1.3643433117434514,-1.2320421827866672],\"xaxis\":\"x\",\"y\":[-0.5645114098150522,-0.6817191332562369,-0.2822010515970267,-0.6201934757537038,-0.699482555771959,-1.3905009482275483,-1.358726458696677,-0.24732016150212469,-1.2569024613332533,-0.45239827662902654,-0.39877138673541135,0.41051692853550903,0.26514592576240265],\"yaxis\":\"y\",\"type\":\"scatter\"}],                        {\"template\":{\"data\":{\"barpolar\":[{\"marker\":{\"line\":{\"color\":\"white\",\"width\":0.5},\"pattern\":{\"fillmode\":\"overlay\",\"size\":10,\"solidity\":0.2}},\"type\":\"barpolar\"}],\"bar\":[{\"error_x\":{\"color\":\"#2a3f5f\"},\"error_y\":{\"color\":\"#2a3f5f\"},\"marker\":{\"line\":{\"color\":\"white\",\"width\":0.5},\"pattern\":{\"fillmode\":\"overlay\",\"size\":10,\"solidity\":0.2}},\"type\":\"bar\"}],\"carpet\":[{\"aaxis\":{\"endlinecolor\":\"#2a3f5f\",\"gridcolor\":\"#C8D4E3\",\"linecolor\":\"#C8D4E3\",\"minorgridcolor\":\"#C8D4E3\",\"startlinecolor\":\"#2a3f5f\"},\"baxis\":{\"endlinecolor\":\"#2a3f5f\",\"gridcolor\":\"#C8D4E3\",\"linecolor\":\"#C8D4E3\",\"minorgridcolor\":\"#C8D4E3\",\"startlinecolor\":\"#2a3f5f\"},\"type\":\"carpet\"}],\"choropleth\":[{\"colorbar\":{\"outlinewidth\":0,\"ticks\":\"\"},\"type\":\"choropleth\"}],\"contourcarpet\":[{\"colorbar\":{\"outlinewidth\":0,\"ticks\":\"\"},\"type\":\"contourcarpet\"}],\"contour\":[{\"colorbar\":{\"outlinewidth\":0,\"ticks\":\"\"},\"colorscale\":[[0.0,\"#0d0887\"],[0.1111111111111111,\"#46039f\"],[0.2222222222222222,\"#7201a8\"],[0.3333333333333333,\"#9c179e\"],[0.4444444444444444,\"#bd3786\"],[0.5555555555555556,\"#d8576b\"],[0.6666666666666666,\"#ed7953\"],[0.7777777777777778,\"#fb9f3a\"],[0.8888888888888888,\"#fdca26\"],[1.0,\"#f0f921\"]],\"type\":\"contour\"}],\"heatmapgl\":[{\"colorbar\":{\"outlinewidth\":0,\"ticks\":\"\"},\"colorscale\":[[0.0,\"#0d0887\"],[0.1111111111111111,\"#46039f\"],[0.2222222222222222,\"#7201a8\"],[0.3333333333333333,\"#9c179e\"],[0.4444444444444444,\"#bd3786\"],[0.5555555555555556,\"#d8576b\"],[0.6666666666666666,\"#ed7953\"],[0.7777777777777778,\"#fb9f3a\"],[0.8888888888888888,\"#fdca26\"],[1.0,\"#f0f921\"]],\"type\":\"heatmapgl\"}],\"heatmap\":[{\"colorbar\":{\"outlinewidth\":0,\"ticks\":\"\"},\"colorscale\":[[0.0,\"#0d0887\"],[0.1111111111111111,\"#46039f\"],[0.2222222222222222,\"#7201a8\"],[0.3333333333333333,\"#9c179e\"],[0.4444444444444444,\"#bd3786\"],[0.5555555555555556,\"#d8576b\"],[0.6666666666666666,\"#ed7953\"],[0.7777777777777778,\"#fb9f3a\"],[0.8888888888888888,\"#fdca26\"],[1.0,\"#f0f921\"]],\"type\":\"heatmap\"}],\"histogram2dcontour\":[{\"colorbar\":{\"outlinewidth\":0,\"ticks\":\"\"},\"colorscale\":[[0.0,\"#0d0887\"],[0.1111111111111111,\"#46039f\"],[0.2222222222222222,\"#7201a8\"],[0.3333333333333333,\"#9c179e\"],[0.4444444444444444,\"#bd3786\"],[0.5555555555555556,\"#d8576b\"],[0.6666666666666666,\"#ed7953\"],[0.7777777777777778,\"#fb9f3a\"],[0.8888888888888888,\"#fdca26\"],[1.0,\"#f0f921\"]],\"type\":\"histogram2dcontour\"}],\"histogram2d\":[{\"colorbar\":{\"outlinewidth\":0,\"ticks\":\"\"},\"colorscale\":[[0.0,\"#0d0887\"],[0.1111111111111111,\"#46039f\"],[0.2222222222222222,\"#7201a8\"],[0.3333333333333333,\"#9c179e\"],[0.4444444444444444,\"#bd3786\"],[0.5555555555555556,\"#d8576b\"],[0.6666666666666666,\"#ed7953\"],[0.7777777777777778,\"#fb9f3a\"],[0.8888888888888888,\"#fdca26\"],[1.0,\"#f0f921\"]],\"type\":\"histogram2d\"}],\"histogram\":[{\"marker\":{\"pattern\":{\"fillmode\":\"overlay\",\"size\":10,\"solidity\":0.2}},\"type\":\"histogram\"}],\"mesh3d\":[{\"colorbar\":{\"outlinewidth\":0,\"ticks\":\"\"},\"type\":\"mesh3d\"}],\"parcoords\":[{\"line\":{\"colorbar\":{\"outlinewidth\":0,\"ticks\":\"\"}},\"type\":\"parcoords\"}],\"pie\":[{\"automargin\":true,\"type\":\"pie\"}],\"scatter3d\":[{\"line\":{\"colorbar\":{\"outlinewidth\":0,\"ticks\":\"\"}},\"marker\":{\"colorbar\":{\"outlinewidth\":0,\"ticks\":\"\"}},\"type\":\"scatter3d\"}],\"scattercarpet\":[{\"marker\":{\"colorbar\":{\"outlinewidth\":0,\"ticks\":\"\"}},\"type\":\"scattercarpet\"}],\"scattergeo\":[{\"marker\":{\"colorbar\":{\"outlinewidth\":0,\"ticks\":\"\"}},\"type\":\"scattergeo\"}],\"scattergl\":[{\"marker\":{\"colorbar\":{\"outlinewidth\":0,\"ticks\":\"\"}},\"type\":\"scattergl\"}],\"scattermapbox\":[{\"marker\":{\"colorbar\":{\"outlinewidth\":0,\"ticks\":\"\"}},\"type\":\"scattermapbox\"}],\"scatterpolargl\":[{\"marker\":{\"colorbar\":{\"outlinewidth\":0,\"ticks\":\"\"}},\"type\":\"scatterpolargl\"}],\"scatterpolar\":[{\"marker\":{\"colorbar\":{\"outlinewidth\":0,\"ticks\":\"\"}},\"type\":\"scatterpolar\"}],\"scatter\":[{\"fillpattern\":{\"fillmode\":\"overlay\",\"size\":10,\"solidity\":0.2},\"type\":\"scatter\"}],\"scatterternary\":[{\"marker\":{\"colorbar\":{\"outlinewidth\":0,\"ticks\":\"\"}},\"type\":\"scatterternary\"}],\"surface\":[{\"colorbar\":{\"outlinewidth\":0,\"ticks\":\"\"},\"colorscale\":[[0.0,\"#0d0887\"],[0.1111111111111111,\"#46039f\"],[0.2222222222222222,\"#7201a8\"],[0.3333333333333333,\"#9c179e\"],[0.4444444444444444,\"#bd3786\"],[0.5555555555555556,\"#d8576b\"],[0.6666666666666666,\"#ed7953\"],[0.7777777777777778,\"#fb9f3a\"],[0.8888888888888888,\"#fdca26\"],[1.0,\"#f0f921\"]],\"type\":\"surface\"}],\"table\":[{\"cells\":{\"fill\":{\"color\":\"#EBF0F8\"},\"line\":{\"color\":\"white\"}},\"header\":{\"fill\":{\"color\":\"#C8D4E3\"},\"line\":{\"color\":\"white\"}},\"type\":\"table\"}]},\"layout\":{\"annotationdefaults\":{\"arrowcolor\":\"#2a3f5f\",\"arrowhead\":0,\"arrowwidth\":1},\"autotypenumbers\":\"strict\",\"coloraxis\":{\"colorbar\":{\"outlinewidth\":0,\"ticks\":\"\"}},\"colorscale\":{\"diverging\":[[0,\"#8e0152\"],[0.1,\"#c51b7d\"],[0.2,\"#de77ae\"],[0.3,\"#f1b6da\"],[0.4,\"#fde0ef\"],[0.5,\"#f7f7f7\"],[0.6,\"#e6f5d0\"],[0.7,\"#b8e186\"],[0.8,\"#7fbc41\"],[0.9,\"#4d9221\"],[1,\"#276419\"]],\"sequential\":[[0.0,\"#0d0887\"],[0.1111111111111111,\"#46039f\"],[0.2222222222222222,\"#7201a8\"],[0.3333333333333333,\"#9c179e\"],[0.4444444444444444,\"#bd3786\"],[0.5555555555555556,\"#d8576b\"],[0.6666666666666666,\"#ed7953\"],[0.7777777777777778,\"#fb9f3a\"],[0.8888888888888888,\"#fdca26\"],[1.0,\"#f0f921\"]],\"sequentialminus\":[[0.0,\"#0d0887\"],[0.1111111111111111,\"#46039f\"],[0.2222222222222222,\"#7201a8\"],[0.3333333333333333,\"#9c179e\"],[0.4444444444444444,\"#bd3786\"],[0.5555555555555556,\"#d8576b\"],[0.6666666666666666,\"#ed7953\"],[0.7777777777777778,\"#fb9f3a\"],[0.8888888888888888,\"#fdca26\"],[1.0,\"#f0f921\"]]},\"colorway\":[\"#636efa\",\"#EF553B\",\"#00cc96\",\"#ab63fa\",\"#FFA15A\",\"#19d3f3\",\"#FF6692\",\"#B6E880\",\"#FF97FF\",\"#FECB52\"],\"font\":{\"color\":\"#2a3f5f\"},\"geo\":{\"bgcolor\":\"white\",\"lakecolor\":\"white\",\"landcolor\":\"white\",\"showlakes\":true,\"showland\":true,\"subunitcolor\":\"#C8D4E3\"},\"hoverlabel\":{\"align\":\"left\"},\"hovermode\":\"closest\",\"mapbox\":{\"style\":\"light\"},\"paper_bgcolor\":\"white\",\"plot_bgcolor\":\"white\",\"polar\":{\"angularaxis\":{\"gridcolor\":\"#EBF0F8\",\"linecolor\":\"#EBF0F8\",\"ticks\":\"\"},\"bgcolor\":\"white\",\"radialaxis\":{\"gridcolor\":\"#EBF0F8\",\"linecolor\":\"#EBF0F8\",\"ticks\":\"\"}},\"scene\":{\"xaxis\":{\"backgroundcolor\":\"white\",\"gridcolor\":\"#DFE8F3\",\"gridwidth\":2,\"linecolor\":\"#EBF0F8\",\"showbackground\":true,\"ticks\":\"\",\"zerolinecolor\":\"#EBF0F8\"},\"yaxis\":{\"backgroundcolor\":\"white\",\"gridcolor\":\"#DFE8F3\",\"gridwidth\":2,\"linecolor\":\"#EBF0F8\",\"showbackground\":true,\"ticks\":\"\",\"zerolinecolor\":\"#EBF0F8\"},\"zaxis\":{\"backgroundcolor\":\"white\",\"gridcolor\":\"#DFE8F3\",\"gridwidth\":2,\"linecolor\":\"#EBF0F8\",\"showbackground\":true,\"ticks\":\"\",\"zerolinecolor\":\"#EBF0F8\"}},\"shapedefaults\":{\"line\":{\"color\":\"#2a3f5f\"}},\"ternary\":{\"aaxis\":{\"gridcolor\":\"#DFE8F3\",\"linecolor\":\"#A2B1C6\",\"ticks\":\"\"},\"baxis\":{\"gridcolor\":\"#DFE8F3\",\"linecolor\":\"#A2B1C6\",\"ticks\":\"\"},\"bgcolor\":\"white\",\"caxis\":{\"gridcolor\":\"#DFE8F3\",\"linecolor\":\"#A2B1C6\",\"ticks\":\"\"}},\"title\":{\"x\":0.05},\"xaxis\":{\"automargin\":true,\"gridcolor\":\"#EBF0F8\",\"linecolor\":\"#EBF0F8\",\"ticks\":\"\",\"title\":{\"standoff\":15},\"zerolinecolor\":\"#EBF0F8\",\"zerolinewidth\":2},\"yaxis\":{\"automargin\":true,\"gridcolor\":\"#EBF0F8\",\"linecolor\":\"#EBF0F8\",\"ticks\":\"\",\"title\":{\"standoff\":15},\"zerolinecolor\":\"#EBF0F8\",\"zerolinewidth\":2}}},\"xaxis\":{\"anchor\":\"y\",\"domain\":[0.0,1.0],\"title\":{\"text\":\"x\"}},\"yaxis\":{\"anchor\":\"x\",\"domain\":[0.0,1.0],\"title\":{\"text\":\"y\"}},\"legend\":{\"title\":{\"text\":\"sense, BIC_default_sub\"},\"tracegroupgap\":0},\"margin\":{\"t\":60},\"title\":{\"text\":\"Clusters Avocat\\u003cbr\\u003e\\u003c\\u002fsub\\u003e\",\"y\":0.9,\"x\":0.5,\"xanchor\":\"center\",\"yanchor\":\"top\"}},                        {\"responsive\": true}                    ).then(function(){\n                            \nvar gd = document.getElementById('915e6106-dfc6-4465-9ca5-f07b656e8b46');\nvar x = new MutationObserver(function (mutations, observer) {{\n        var display = window.getComputedStyle(gd).display;\n        if (!display || display === 'none') {{\n            console.log([gd, 'removed!']);\n            Plotly.purge(gd);\n            observer.disconnect();\n        }}\n}});\n\n// Listen for the removal of the full notebook cells\nvar notebookContainer = gd.closest('#notebook-container');\nif (notebookContainer) {{\n    x.observe(notebookContainer, {childList: true});\n}}\n\n// Listen for the clearing of the current output cell\nvar outputEl = gd.closest('.output');\nif (outputEl) {{\n    x.observe(outputEl, {childList: true});\n}}\n\n                        })                };                });            </script>        </div>"
     },
     "metadata": {},
     "output_type": "display_data"
    }
   ],
   "source": [
    "# We visualize the scores\n",
    "fig_2d_cluster = px.scatter(df_vis, x=\"x\", y=\"y\", color=\"sense\", symbol=\"BIC_default_sub\",\n",
    "                 hover_data='match',\n",
    "                 template=\"plotly_white\")\n",
    "fig_2d_cluster.update_layout(\n",
    "    title={\n",
    "        'text': f\"Clusters Avocat<br></sub>\"\n",
    "        ,  #f\"<sub><br>Clustering score: {percentage_weighted:.2f}%</sub>\",\n",
    "        'y':0.9,\n",
    "        'x':0.5,\n",
    "        'xanchor': 'center',\n",
    "        'yanchor': 'top'})\n",
    "fig_2d_cluster.show()\n"
   ],
   "metadata": {
    "collapsed": false,
    "ExecuteTime": {
     "end_time": "2024-05-20T20:39:24.462145Z",
     "start_time": "2024-05-20T20:39:24.379942Z"
    }
   },
   "id": "a7c35849c345208c",
   "execution_count": 28
  },
  {
   "cell_type": "code",
   "outputs": [],
   "source": [
    "# We save this to the appendix\n",
    "fig_2d_cluster.write_html(\"Results/Appendix/LEXSUB/Avocat_Clusters.html\")"
   ],
   "metadata": {
    "collapsed": false,
    "ExecuteTime": {
     "end_time": "2024-05-20T20:39:34.226071Z",
     "start_time": "2024-05-20T20:39:34.171765Z"
    }
   },
   "id": "ae4b3a3a912d2d0f",
   "execution_count": 29
  },
  {
   "cell_type": "code",
   "outputs": [
    {
     "data": {
      "application/vnd.plotly.v1+json": {
       "data": [
        {
         "customdata": [
          [
           " - S'ajoutent 2 plaintes déposées contre le même militant : en mars 2017 par l' avocat montpelliérain du BNVCA David Mendel qui avait plaidé contre Saadia et Husein, pour « Menaces contre un avocat ». "
          ],
          [
           " L' avocat fait du droit, il n'est pas le seul; mais cela ne signifie pas que tous ceux qui font du droit soient avocats ou aient vocation à le devenir sauf à diluer la profession. "
          ],
          [
           " Si vous avez besoin d'un conseil juridique ou que vous subissez une situation grave (ex : harcèlement), le SFE peut vous venir en aide avant de faire appel à un avocat . "
          ],
          [
           " La première démarche est d'aller voir en premier lieu un avocat spécialisé en droit des sociétés ensuite l'expert comptable. "
          ],
          [
           " Celui-ci prévoit que \"70 % des résultats soient destinés à l'autofinancement pour permettre à l'entreprise de se développer\", selon Maitre Christophe Thévenet, avocat de l'hebdomadaire. \"On a voté une résolution supplémentaire pour attribuer les 30 % restants à l'autofinancement\", ajoute l' avocat qui rappelle que la répartition des plus de 4 millions d'euros de dons sera confiée à une commission de sages désignés, à la demande du journal, par le ministère de la Justice. "
          ],
          [
           " Les locaux d'une ancienne école d' avocat seront réhabilités et réaménagés pour accueillir la fondation agir sur l'Audition associée à un laboratoire de recherche dédié à l'équipe du Pr Christine Petit. "
          ],
          [
           " Un avocat turc a porté plainte contre l'Inter Milan et demande à l'UEFA d'enlever au club italien les points acquis face à Fenerbahçe. "
          ],
          [
           " Elle évoque des « professions sensibles, qui incitent aux conflits d'intérêts ou qui peuvent les provoquer : avocat , conseil juridique ». « Mais je ne vois pas à quel titre on imposerait à un parlementaire qui est agriculteur, ou dentiste, de cesser de l'être. "
          ],
          [
           " M. Coronado a raison : dès lors qu'un acte de procédure est réalisé en présence d'un avocat , celui-ci doit être informé, quoi qu'il arrive, d'un déplacement éventuel. "
          ],
          [
           " L'accusé Kimbangu, n'était pas assisté par un avocat . "
          ],
          [
           " En plus de la peine de prison, Berkane Makhlouf, 32 ans, a été condamné à indemniser les plaignants « à hauteur de 1 000 à 2 000 euros pour chacun d'entre eux », a expliqué au « Figaro » Me Dominique-Jean Lardans, l' avocat des surveillants. "
          ],
          [
           " Un fournisseur de services participant peut refuser de fournir tout renseignement ou document que demande le Commissaire, s'il peut démontrer, à la satisfaction de ce dernier, que le matériel est assujetti au secret professionnel qui lie un avocat à son client, ou qu'en le fournissant, le fournisseur de services participant commettrait une infraction à la loi. "
          ],
          [
           " Après une première activité en qualité de greffier-rédacteur au Tribunal d'arrondissement de la Broye et du Nord vaudois, j'ai effectué mon stage d' avocat auprès de Me Paul-Arthur Treyvaud à Yverdon-les-Bains. "
          ],
          [
           " Tamarii Nuutania envoie une première salve de courriers à vingt détenus, détaillant les étapes de la procédure d'indemnisation accompagnés d'un questionnaire établi par l'OIP devant permettre une description précise de leurs conditions matérielles de détention, et d'un formulaire permettant de désigner Me Millet comme avocat devant le tribunal administratif. "
          ],
          [
           " Son avocat a annoncé le 7 juin qu'il avait mis fin à son mouvement, car il se sentait trop faible physiquement. "
          ],
          [
           " Il va falloir que tous ceux qui se disent opposés à la LGV pensent qu'un recours n'est pas gratuit parce qu'il faut un bon avocat si possible au Conseil et que le collectif limousin non lgv oui au POLT, lance un appel aux dons par souscription : http://limogespoitiers.com/souscription-pour-le-recours.../ "
          ],
          [
           " En effet, l' avocat est rémunéré en fonction du temps passé pour traiter le dossier. "
          ],
          [
           " Sauf qu'une requête avec assistance de l' avocat n'est pas gratuite, pas immédiate non plus, et à la fin, c'est toujours le même qui paye. "
          ],
          [
           " Des groupes sont constitués (24, 12 ou 6) pour les matières qui nécessitent un échange important entre les intervenants et les élèves qui sont mis en situation, en particulier lors de la correction de devoirs réalisés à domicile : rédaction d'acte d' avocat , de contrats, de projets en groupe, d'écritures et de consultations et exercices de plaidoirie. "
          ],
          [
           " bonjour Madame merci de votre soutient je suis a la recherche d'un avocat qui pourrait m'aider il faut un avocat qui a des connaissances en droit européens une autre chose aussi il y a l'assemblée générale de l'UPBPF qui a lieu le 27 février a NAMUR moi personnellement je vais m'y rendre il faudrait être le plus possible afin de pouvoir intervenir a cette assemblée je dois aussi très prochainement rencontrer un journaliste de la voix du Nord je vous tiendrez au courant de l'évolution de mes actions sur ce forum je souhaite que d'autres parents comme nous vont se manifester crdlt "
          ],
          [
           " Connu comme l' avocat des « barons de la cocaà¯ne »[réf. nécessaire] du Pérou et de Colombie, Montesinos poursuit les années 1980 des « grands procès », en gagnant la confiance de divers narcotrafiquants. "
          ],
          [
           " L' avocat en droit bancaire prend en compte les revenus de son client afin de lui proposer la meilleure défense, sans que cela soit négatif pour son budget. "
          ],
          [
           " Les chiffres donnent le tournis dans ce très long rapport rédigé par le juge Van Ruymbeke en vue du renvoi devant le Tribunal Correctionnel de Lamine Diack, de Papa Massata Diack, d'Habib Cissé, leur avocat , du Docteur Gabriel Dollé, des Russes Melnikov et Balakhnitchev. "
          ],
          [
           "Un annonceur vante son produit auprès des consommateurs par un spot publicitaire, un avocat défend son client auprès du juge par une plaidoirie, un politicien se fait valoir auprès des électeurs par un beau discours : dans une conception classique de la communication, un émetteur adresse un message à une cible par un vecteur."
          ],
          [
           "Votre avocat défend aussi vos droits et vos intérêts en cas de conflits ou de litiges entre associés, de concurrence déloyale, etc. Maitre CALVET vous conseille, vous accompagne et vous représente devant les juridictions tout en assurant votre défense pour tous les sujets relatifs au droit des affaires et au droit commercial."
          ],
          [
           "Yvan Colonna, a contrario de tout accusé ne méritait même pas qu'un avocat le défende ."
          ],
          [
           "Parmi les rares qui élèvent la voix, il y a Raphaël Kempf, avocat qui a défendu nombre de Gilets jaunes interpellés."
          ],
          [
           "Un avocat qui a défendu un homme politique accusé de viol tout en critiquant les féministes et #MeToo est désormais ministre de la justice."
          ],
          [
           "Mais cet avocat a défendu le Front Polisario, mouvement indépendantiste du Sahara occidental : une provocation pour les Marocains."
          ],
          [
           "En 1998, le célèbre avocat défend le jardinier Omar Raddad, accusé du meurtre de sa patronne Ghislaine Marchal et condamné en 1994, à 18 ans de réclusion."
          ],
          [
           "Il est normal que l' avocat défende son client, mais il faut aussi que le ministère public apporte la contradiction, afin que le juge du siège puisse trancher."
          ],
          [
           "Comme le rapporte Le Parisien, dans le recours présenté, les députés s'interrogent sur l'absence de la signature du ministre du Budget sur le décret, pour une mesure qui impacte les finances publiques. \"Nous plaidons aussi l'erreur de fait de l'administration qui a appuyé cette mesure sur une expérimentation qui, elle-même l'a reconnu, n'est pas significative\", a fait savoir au quotidien Rémy Josseaume, l' avocat défendant la requête des députés."
          ],
          [
           "Et malgré la bouteille jetée à la tête de notre éditeur, son avocat plaide la relaxe."
          ],
          [
           "L' avocat a plaidé l'acquittement, ainsi que ses deux collaborateurs."
          ],
          [
           "Viole et découpe une gamine en morceaux et ton gentil avocat plaidera un égarement de jeunesse."
          ],
          [
           "Un avocat plaide l'irresponsabilité, l'autre recommande l'obligation de soins."
          ],
          [
           "Son avocat a plaidé qu'un dénommé Silvère Martel, qui faisait le taxi au noir à Outreau, qui avait un enfant de huit ans du nom de Vincent, et qui était inquiété dans une autre affaire d'agression sexuelle, n'était pas mis en examen, alors que les enfants mettaient en cause un M. Martel ayant un fils Vincent de huit ans... Quant à Mme Odile Marécaux, elle a produit un certificat médical de janvier 2001 si je me souviens bien, montrant que son fils est indemne de toute agression sexuelle, alors que"
          ],
          [
           "Pendant tout le temps où le président l'a exposé et où mon avocat a plaidé , l' avocat général a dessiné."
          ],
          [
           "Un avocat plaidant pour l'état d'un enfant âgé de cinq ans, le fit amener à l'audience."
          ],
          [
           "Avant sa nomination à la Cour d'appel, il était un avocat spécialisé en litige, ayant plaidé dans divers secteurs du droit, tant devant la Cour suprême du Canada et la Cour fédérale, que devant toutes les instances judiciaires québécoises et les tribunaux administratifs."
          ],
          [
           "Robert Bilott est un avocat spécialisé dans la défense des industries chimiques."
          ],
          [
           "Nicolas Hournon, avocat bisontin spécialisé notamment dans le droit de la distribution, de la propriété industrielle et de la propriété intellectuelle a confié la création de son identité visuelle et de son site Internet à notre agence."
          ],
          [
           "Nous nous sommes entourés des experts du secteur : Bernard Boutboul [dirigeant du cabinet Gira Conseil, NDLR] et l' avocat spécialisé Olivier Deschamps."
          ],
          [
           "Comme Me Arnaud Gossement, avocat spécialisé dans le droit de l'environnement, le faisait remarquer dans une interview pour La Croix, si \" ce sont de belles avancées, [...] tout dépendra des moyens de contrôle qui accompagneront ces mesures. \" Moyens de contrôle mais aussi moyens financiers et humains."
          ]
         ],
         "hovertemplate": "sense=lawyer<br>BIC_default_sub=True<br>x=%{x}<br>y=%{y}<br>z=%{z}<br>match=%{customdata[0]}<extra></extra>",
         "legendgroup": "lawyer, True",
         "marker": {
          "color": "#636efa",
          "symbol": "circle"
         },
         "mode": "markers",
         "name": "lawyer, True",
         "scene": "scene",
         "showlegend": true,
         "x": [
          0.6036199600626728,
          -0.061747291538538016,
          1.3789608485631015,
          -1.1091921312934145,
          1.036481707098264,
          0.13344398256418577,
          1.187869442529758,
          0.7077481331509493,
          0.3841623499993843,
          -0.323816822248495,
          0.583456636253432,
          1.3691398843056222,
          1.483040869065046,
          1.393131905890905,
          -0.07219489412225509,
          1.4202393236512678,
          0.6451910553945208,
          1.062172239656666,
          0.32996413199012975,
          1.5518576391377785,
          0.24449935221728789,
          0.07543388178277291,
          0.5414119007500369,
          1.2894357634458502,
          1.059634771797594,
          0.920792984674085,
          1.163915224081736,
          0.5806206908179553,
          -1.0424276467470437,
          1.2367389825026982,
          0.1603062010763346,
          0.8477205986895322,
          0.49880499141842144,
          -0.3144857736817675,
          -0.4004618646197949,
          0.7169665532065761,
          0.5796976333087744,
          1.2845543085725042,
          0.782882148605226,
          1.4617567487866086,
          -0.6818115426490918,
          1.144457133303146,
          0.5953936575001422,
          1.6724184509110431
         ],
         "y": [
          -0.37765642525747944,
          -0.9370094291659332,
          -0.21351659013913418,
          0.1585738503306003,
          0.7189087781573683,
          -1.2023433370487353,
          0.9299415650472044,
          0.7476596531344691,
          -0.5224964783949995,
          -0.21229996274629953,
          -0.521561535218656,
          1.5562712555243101,
          0.9770994031064674,
          0.26395610243128476,
          -1.0596481152020099,
          0.6976832959980632,
          -0.7980363937331277,
          -0.464786046825908,
          -0.5820825803891997,
          -0.14956787214674727,
          -0.2745527236777068,
          -0.00458948310771358,
          0.3661632818081126,
          1.586074450729205,
          0.7270885578633266,
          -0.2740711243404276,
          0.38310444234979696,
          -0.027979349481856614,
          -0.28705745310582564,
          1.3145754036089239,
          0.020267817355431834,
          0.613150595978009,
          -0.6827556489816066,
          0.2529322941234942,
          -0.34548295400529044,
          -0.1680875173327077,
          -0.6176603913736248,
          0.5742496072691139,
          -0.16836276970659356,
          -0.0020832310745260707,
          -0.3808169591101116,
          0.2902643246948511,
          -0.8554568741704033,
          0.7323264460223942
         ],
         "z": [
          -0.8388006111588057,
          -0.590216407980012,
          0.5544061919294427,
          1.7619449650709424,
          -0.5215922571100814,
          0.5449426635921056,
          -0.8708275380343351,
          -0.08173066115169154,
          0.2871739380692728,
          1.0817006420688018,
          0.1431536920118589,
          -0.7058464280834564,
          0.26249103044286326,
          0.1257986372259538,
          0.8960831383693187,
          0.07177395031767883,
          -0.038958043298371235,
          0.39596652098731056,
          0.6979452794662242,
          0.45500071791227215,
          0.025905035235393056,
          -0.2249208723101004,
          -0.41360873423486527,
          -0.7508091811064005,
          0.21402763312013845,
          0.3060099156491139,
          0.35334167984741494,
          -0.8239417565799623,
          0.6637603283607179,
          -0.6233077054978119,
          -0.2142743974336489,
          -0.6549168909263872,
          0.14129286346177722,
          0.08432171376303392,
          0.16071001513894442,
          0.704598197999479,
          0.26738885106191745,
          0.3379658234971745,
          -0.4675588006384939,
          -0.0206329463257548,
          1.1759236095067727,
          0.27389386071566224,
          0.6030145003185406,
          -0.09096864346915297
         ],
         "type": "scatter3d"
        },
        {
         "customdata": [
          [
           " L' avocat de Christine Lagarde se veut rassurant: l'enquête durera longtemps avant d'aboutir à un résultat. "
          ],
          [
           " avocat en droit des affaires - 63 km de Borchtlombeek "
          ],
          [
           " Ce qui n'est souvent pas le cas d'un avocat qui réside très loin de son client. "
          ],
          [
           " Nous avons demandé à Me Prosper Farama, avocat dans ce dossier, d'apprécier l'action des uns et des autres. "
          ],
          [
           " Organe professionel de gestion et de contrôle de la profession d' avocat, qui réunit obligatoirement tous les avocats d'un même barreau. "
          ],
          [
           "Un avocat qui défend son client ne partage pas ses valeurs."
          ],
          [
           "Dans le cas échéant, votre avocat plaidera votre cause et défendra vos intérêts."
          ],
          [
           "Il a réussi son pari, brillant avocat il a plaidé le viol par consentement mutuel."
          ],
          [
           "Son avocat a plaidé l'acquittement."
          ],
          [
           "M. Moseley est un avocat plaidant chevronné du domaine des valeurs mobilières qui a plus de 20 ans d'expérience dans la conformité et l'application de la loi, y compris dans les instances civiles et réglementaires."
          ],
          [
           "Nous vous mettons en relation avec un avocat spécialisé et expérimenté qui rédigera votre contrat et répondra à toutes vos questions"
          ],
          [
           "Un avocat spécialisé et expérimenté en droit des contrats rédige mon contrat"
          ]
         ],
         "hovertemplate": "sense=lawyer<br>BIC_default_sub=False<br>x=%{x}<br>y=%{y}<br>z=%{z}<br>match=%{customdata[0]}<extra></extra>",
         "legendgroup": "lawyer, False",
         "marker": {
          "color": "#636efa",
          "symbol": "diamond"
         },
         "mode": "markers",
         "name": "lawyer, False",
         "scene": "scene",
         "showlegend": true,
         "x": [
          0.5874642841680906,
          -1.4103763708746055,
          -0.9293091775907653,
          0.573050723710169,
          -0.22761942240833324,
          -1.5008249923615864,
          1.0651640075693558,
          -1.6077248949449643,
          0.09638446197998937,
          0.8576455760427012,
          -1.5045143839419783,
          -1.473513922515416
         ],
         "y": [
          0.242148839881327,
          0.8616361287517242,
          0.0145167141796642,
          -0.8212092177297999,
          -0.7393095229523934,
          0.9836331792812587,
          -0.36638761440280376,
          0.8123761160232251,
          -0.8406748365867438,
          0.05538795272316044,
          0.9679852343284568,
          0.9398904402354517
         ],
         "z": [
          0.6222054780317415,
          -0.03890991182366231,
          0.24990424796011654,
          0.6271466020931052,
          0.8028349822322646,
          0.0469692240864792,
          0.4406068485004933,
          0.3003190508660715,
          0.6137998931025676,
          0.31638388290484365,
          -0.014837514345565374,
          0.15652149134710294
         ],
         "type": "scatter3d"
        },
        {
         "customdata": [
          [
           "Le caviar d'aubergine se déguste avec un avocat par exemple ou un poisson grillé."
          ],
          [
           "La chair fondante de l' avocat se cuisine en une savoureuse palette de recettes faciles et rapides à préparer"
          ],
          [
           "Les acides gras polyinsaturés contenus dans l' avocat y contribuent."
          ],
          [
           "Que faire avec de l' avocat ? +15 idées recettes à tester !"
          ],
          [
           "Superbe crème et aromatique, avec avocat sur le dessus - se réveille les esprits en 25 minutes."
          ],
          [
           "L'arbre à avocat (avocatier), un arbre exotique qui peut pousser en intérieur ... Avec ses grandes feuilles brillantes et ses fruits goûteux"
          ],
          [
           "Le principal ingrédient est avocat guacamole, qui contient des acides gras mono-insaturés abondantes"
          ],
          [
           "Excepté pour en faire du guacamole, vous n'avez aucune idée de comment cuisiner et intégrer l' avocat dans vos recettes salées"
          ],
          [
           "Une fois les filets cuits, tailles-les (pas jusqu'au bout) et intercalez les tranches d' avocat."
          ],
          [
           "De la garniture des tartines aux desserts en passant par les boissons frappées, l' avocat est souvent présenté comme un aliment sain."
          ],
          [
           "L' avocat, ainsi que des fruits comme les pommes, les pêches, les framboises et les myrtilles, contiennent des substances chimiques naturelles appelées salicylates"
          ],
          [
           "Pour commencer, peler et couper l' avocat en tranches, puis les asperger de jus de citron, de sel et de poivre."
          ],
          [
           "Dans un plat, mixer l' avocat avec l'oignon et la tomate, ajoutez le sel ainsi que le citron et le tabasco et la coriandre."
          ],
          [
           "Si vous craignez d'abimer la chair, pelez délicatement l' avocat ."
          ],
          [
           "Si vous craignez d'abimer la chair, pelez délicatement l' avocat ."
          ]
         ],
         "hovertemplate": "sense=avocado<br>BIC_default_sub=True<br>x=%{x}<br>y=%{y}<br>z=%{z}<br>match=%{customdata[0]}<extra></extra>",
         "legendgroup": "avocado, True",
         "marker": {
          "color": "#EF553B",
          "symbol": "circle"
         },
         "mode": "markers",
         "name": "avocado, True",
         "scene": "scene",
         "showlegend": true,
         "x": [
          -1.3047834343687366,
          -1.6275055403522785,
          -1.142278714153782,
          -1.4695046924571264,
          -1.0052669217535077,
          -1.4343368393271148,
          -1.5184684525871512,
          -0.7620321288561257,
          0.10116243700043209,
          -0.26882487395368926,
          -1.2331629584715225,
          -0.7586379846139119,
          -1.1326167880800462,
          -0.4665144112124204,
          -1.3957169303708223
         ],
         "y": [
          0.34261244396154233,
          1.1072258985512817,
          0.4379817406744967,
          0.9369764472699144,
          0.13881678865022212,
          0.8962402146708578,
          0.9550491971640638,
          0.030884035064867418,
          -0.22381254999471972,
          -0.46521086802372397,
          0.5080749963270274,
          -0.8472838896055165,
          -0.4592343460189836,
          -0.3865971972552961,
          0.4150182600557503
         ],
         "z": [
          0.2594865848236317,
          0.35637524083168903,
          0.38095896084793485,
          -0.03823595825569143,
          0.27542677938012705,
          -0.011315250772002468,
          0.17750623953926287,
          -0.4911337346512853,
          -0.16090167223881352,
          -0.05806616836118837,
          -0.32058385879900836,
          -1.3602914747618162,
          -0.25994237244752094,
          0.993256036214373,
          0.001249856132325425
         ],
         "type": "scatter3d"
        },
        {
         "customdata": [
          [
           "Pour griller l' avocat, il vaut mieux le couper en deux, retirer le noyau et arroser la chair d'huile et de jus de citron. "
          ],
          [
           "Coupez votre avocat en deux, retirez son noyau et réveillez-le simplement avec du jus de citron et de la fleur de sel."
          ],
          [
           "Pour cette recette de Doce de abacate (crème d' avocat), vous pouvez compter 15 minutes de préparation."
          ],
          [
           "Posez des emporte-pièces sur des assiettes, puis mettez une couche d' avocat, une couche de mangue et terminez par le crabe."
          ],
          [
           "L' avocat, ou Persea americana, est un fruit qui appartient à la famille des lauracées, un groupe qui comprend également des membres tels que la cannelle et le laurier."
          ],
          [
           "Heureusement il existe ce que l'on appelle des anti-oxydants qui agissent comme la peinture empêche le fer de s'oxyder, ou le citron qui empêche l' avocat coupé de noircir."
          ],
          [
           "Dans le bol de votre mixeur ou de votre blender, placez les bananes et l' avocat coupés en morceaux, les dattes dénoyautées, le jus de citron, le cacao cru et l'huile de coco fondue."
          ],
          [
           "Mixez un avocat pour que ça fasse une purée puis mélangez-le à de l'huile d'olive avec quelques gouttes de jus de citron pour la brillance."
          ],
          [
           "Pelez l' avocat , coupez-le en deux puis enlevez le noyau (on plante le couteau dedans, on tourne et on retire)."
          ],
          [
           "Pelez l' avocat , coupez-le en deux puis enlevez le noyau (on plante le couteau dedans, on tourne et on retire)."
          ],
          [
           "Vous avez besoin de : Pour le gâteau: 1 avocat mûr , réduit en purée jusqu'à consistance lisse, 2 cuillères à café de..."
          ],
          [
           "Entre-temps, pour la crème, retirez le noyau d'un avocat mûr , placez la chair dans un grand bol."
          ],
          [
           "Ingrédients : 180g de quinoa non cuit, 1 avocat mûr mais encore ferme coupé en tranches ou en dés, 125g de framboises, 1/2 oignon rouge coupé en dés, 150g de fêta émiettée, 75g d'amandes effilées, feuilles de basilic frais"
          ]
         ],
         "hovertemplate": "sense=avocado<br>BIC_default_sub=False<br>x=%{x}<br>y=%{y}<br>z=%{z}<br>match=%{customdata[0]}<extra></extra>",
         "legendgroup": "avocado, False",
         "marker": {
          "color": "#EF553B",
          "symbol": "diamond"
         },
         "mode": "markers",
         "name": "avocado, False",
         "scene": "scene",
         "showlegend": true,
         "x": [
          0.1419336157819056,
          -0.23844285136540516,
          -0.7753393851881312,
          -0.6634486967048705,
          0.008914360593949263,
          -0.5814633543909291,
          -0.6888279493137907,
          0.5879631792445111,
          -0.39074971752614446,
          -1.0297733402903093,
          -1.0035021414471554,
          -1.3643433117434514,
          -1.2320421827866672
         ],
         "y": [
          -0.5645114098150522,
          -0.6817191332562369,
          -0.2822010515970267,
          -0.6201934757537038,
          -0.699482555771959,
          -1.3905009482275483,
          -1.358726458696677,
          -0.24732016150212469,
          -1.2569024613332533,
          -0.45239827662902654,
          -0.39877138673541135,
          0.41051692853550903,
          0.26514592576240265
         ],
         "z": [
          0.31723368400840946,
          -0.7618447408577236,
          0.29136551164253344,
          -0.6759517346852152,
          -0.4814635478870841,
          -1.3278831385954748,
          -1.507742647860236,
          -1.0700124150319665,
          -0.6925960108863416,
          -1.5819102221581962,
          -0.5897974720030329,
          0.33124829026458774,
          -0.7750025581886366
         ],
         "type": "scatter3d"
        }
       ],
       "layout": {
        "template": {
         "data": {
          "barpolar": [
           {
            "marker": {
             "line": {
              "color": "white",
              "width": 0.5
             },
             "pattern": {
              "fillmode": "overlay",
              "size": 10,
              "solidity": 0.2
             }
            },
            "type": "barpolar"
           }
          ],
          "bar": [
           {
            "error_x": {
             "color": "#2a3f5f"
            },
            "error_y": {
             "color": "#2a3f5f"
            },
            "marker": {
             "line": {
              "color": "white",
              "width": 0.5
             },
             "pattern": {
              "fillmode": "overlay",
              "size": 10,
              "solidity": 0.2
             }
            },
            "type": "bar"
           }
          ],
          "carpet": [
           {
            "aaxis": {
             "endlinecolor": "#2a3f5f",
             "gridcolor": "#C8D4E3",
             "linecolor": "#C8D4E3",
             "minorgridcolor": "#C8D4E3",
             "startlinecolor": "#2a3f5f"
            },
            "baxis": {
             "endlinecolor": "#2a3f5f",
             "gridcolor": "#C8D4E3",
             "linecolor": "#C8D4E3",
             "minorgridcolor": "#C8D4E3",
             "startlinecolor": "#2a3f5f"
            },
            "type": "carpet"
           }
          ],
          "choropleth": [
           {
            "colorbar": {
             "outlinewidth": 0,
             "ticks": ""
            },
            "type": "choropleth"
           }
          ],
          "contourcarpet": [
           {
            "colorbar": {
             "outlinewidth": 0,
             "ticks": ""
            },
            "type": "contourcarpet"
           }
          ],
          "contour": [
           {
            "colorbar": {
             "outlinewidth": 0,
             "ticks": ""
            },
            "colorscale": [
             [
              0.0,
              "#0d0887"
             ],
             [
              0.1111111111111111,
              "#46039f"
             ],
             [
              0.2222222222222222,
              "#7201a8"
             ],
             [
              0.3333333333333333,
              "#9c179e"
             ],
             [
              0.4444444444444444,
              "#bd3786"
             ],
             [
              0.5555555555555556,
              "#d8576b"
             ],
             [
              0.6666666666666666,
              "#ed7953"
             ],
             [
              0.7777777777777778,
              "#fb9f3a"
             ],
             [
              0.8888888888888888,
              "#fdca26"
             ],
             [
              1.0,
              "#f0f921"
             ]
            ],
            "type": "contour"
           }
          ],
          "heatmapgl": [
           {
            "colorbar": {
             "outlinewidth": 0,
             "ticks": ""
            },
            "colorscale": [
             [
              0.0,
              "#0d0887"
             ],
             [
              0.1111111111111111,
              "#46039f"
             ],
             [
              0.2222222222222222,
              "#7201a8"
             ],
             [
              0.3333333333333333,
              "#9c179e"
             ],
             [
              0.4444444444444444,
              "#bd3786"
             ],
             [
              0.5555555555555556,
              "#d8576b"
             ],
             [
              0.6666666666666666,
              "#ed7953"
             ],
             [
              0.7777777777777778,
              "#fb9f3a"
             ],
             [
              0.8888888888888888,
              "#fdca26"
             ],
             [
              1.0,
              "#f0f921"
             ]
            ],
            "type": "heatmapgl"
           }
          ],
          "heatmap": [
           {
            "colorbar": {
             "outlinewidth": 0,
             "ticks": ""
            },
            "colorscale": [
             [
              0.0,
              "#0d0887"
             ],
             [
              0.1111111111111111,
              "#46039f"
             ],
             [
              0.2222222222222222,
              "#7201a8"
             ],
             [
              0.3333333333333333,
              "#9c179e"
             ],
             [
              0.4444444444444444,
              "#bd3786"
             ],
             [
              0.5555555555555556,
              "#d8576b"
             ],
             [
              0.6666666666666666,
              "#ed7953"
             ],
             [
              0.7777777777777778,
              "#fb9f3a"
             ],
             [
              0.8888888888888888,
              "#fdca26"
             ],
             [
              1.0,
              "#f0f921"
             ]
            ],
            "type": "heatmap"
           }
          ],
          "histogram2dcontour": [
           {
            "colorbar": {
             "outlinewidth": 0,
             "ticks": ""
            },
            "colorscale": [
             [
              0.0,
              "#0d0887"
             ],
             [
              0.1111111111111111,
              "#46039f"
             ],
             [
              0.2222222222222222,
              "#7201a8"
             ],
             [
              0.3333333333333333,
              "#9c179e"
             ],
             [
              0.4444444444444444,
              "#bd3786"
             ],
             [
              0.5555555555555556,
              "#d8576b"
             ],
             [
              0.6666666666666666,
              "#ed7953"
             ],
             [
              0.7777777777777778,
              "#fb9f3a"
             ],
             [
              0.8888888888888888,
              "#fdca26"
             ],
             [
              1.0,
              "#f0f921"
             ]
            ],
            "type": "histogram2dcontour"
           }
          ],
          "histogram2d": [
           {
            "colorbar": {
             "outlinewidth": 0,
             "ticks": ""
            },
            "colorscale": [
             [
              0.0,
              "#0d0887"
             ],
             [
              0.1111111111111111,
              "#46039f"
             ],
             [
              0.2222222222222222,
              "#7201a8"
             ],
             [
              0.3333333333333333,
              "#9c179e"
             ],
             [
              0.4444444444444444,
              "#bd3786"
             ],
             [
              0.5555555555555556,
              "#d8576b"
             ],
             [
              0.6666666666666666,
              "#ed7953"
             ],
             [
              0.7777777777777778,
              "#fb9f3a"
             ],
             [
              0.8888888888888888,
              "#fdca26"
             ],
             [
              1.0,
              "#f0f921"
             ]
            ],
            "type": "histogram2d"
           }
          ],
          "histogram": [
           {
            "marker": {
             "pattern": {
              "fillmode": "overlay",
              "size": 10,
              "solidity": 0.2
             }
            },
            "type": "histogram"
           }
          ],
          "mesh3d": [
           {
            "colorbar": {
             "outlinewidth": 0,
             "ticks": ""
            },
            "type": "mesh3d"
           }
          ],
          "parcoords": [
           {
            "line": {
             "colorbar": {
              "outlinewidth": 0,
              "ticks": ""
             }
            },
            "type": "parcoords"
           }
          ],
          "pie": [
           {
            "automargin": true,
            "type": "pie"
           }
          ],
          "scatter3d": [
           {
            "line": {
             "colorbar": {
              "outlinewidth": 0,
              "ticks": ""
             }
            },
            "marker": {
             "colorbar": {
              "outlinewidth": 0,
              "ticks": ""
             }
            },
            "type": "scatter3d"
           }
          ],
          "scattercarpet": [
           {
            "marker": {
             "colorbar": {
              "outlinewidth": 0,
              "ticks": ""
             }
            },
            "type": "scattercarpet"
           }
          ],
          "scattergeo": [
           {
            "marker": {
             "colorbar": {
              "outlinewidth": 0,
              "ticks": ""
             }
            },
            "type": "scattergeo"
           }
          ],
          "scattergl": [
           {
            "marker": {
             "colorbar": {
              "outlinewidth": 0,
              "ticks": ""
             }
            },
            "type": "scattergl"
           }
          ],
          "scattermapbox": [
           {
            "marker": {
             "colorbar": {
              "outlinewidth": 0,
              "ticks": ""
             }
            },
            "type": "scattermapbox"
           }
          ],
          "scatterpolargl": [
           {
            "marker": {
             "colorbar": {
              "outlinewidth": 0,
              "ticks": ""
             }
            },
            "type": "scatterpolargl"
           }
          ],
          "scatterpolar": [
           {
            "marker": {
             "colorbar": {
              "outlinewidth": 0,
              "ticks": ""
             }
            },
            "type": "scatterpolar"
           }
          ],
          "scatter": [
           {
            "fillpattern": {
             "fillmode": "overlay",
             "size": 10,
             "solidity": 0.2
            },
            "type": "scatter"
           }
          ],
          "scatterternary": [
           {
            "marker": {
             "colorbar": {
              "outlinewidth": 0,
              "ticks": ""
             }
            },
            "type": "scatterternary"
           }
          ],
          "surface": [
           {
            "colorbar": {
             "outlinewidth": 0,
             "ticks": ""
            },
            "colorscale": [
             [
              0.0,
              "#0d0887"
             ],
             [
              0.1111111111111111,
              "#46039f"
             ],
             [
              0.2222222222222222,
              "#7201a8"
             ],
             [
              0.3333333333333333,
              "#9c179e"
             ],
             [
              0.4444444444444444,
              "#bd3786"
             ],
             [
              0.5555555555555556,
              "#d8576b"
             ],
             [
              0.6666666666666666,
              "#ed7953"
             ],
             [
              0.7777777777777778,
              "#fb9f3a"
             ],
             [
              0.8888888888888888,
              "#fdca26"
             ],
             [
              1.0,
              "#f0f921"
             ]
            ],
            "type": "surface"
           }
          ],
          "table": [
           {
            "cells": {
             "fill": {
              "color": "#EBF0F8"
             },
             "line": {
              "color": "white"
             }
            },
            "header": {
             "fill": {
              "color": "#C8D4E3"
             },
             "line": {
              "color": "white"
             }
            },
            "type": "table"
           }
          ]
         },
         "layout": {
          "annotationdefaults": {
           "arrowcolor": "#2a3f5f",
           "arrowhead": 0,
           "arrowwidth": 1
          },
          "autotypenumbers": "strict",
          "coloraxis": {
           "colorbar": {
            "outlinewidth": 0,
            "ticks": ""
           }
          },
          "colorscale": {
           "diverging": [
            [
             0,
             "#8e0152"
            ],
            [
             0.1,
             "#c51b7d"
            ],
            [
             0.2,
             "#de77ae"
            ],
            [
             0.3,
             "#f1b6da"
            ],
            [
             0.4,
             "#fde0ef"
            ],
            [
             0.5,
             "#f7f7f7"
            ],
            [
             0.6,
             "#e6f5d0"
            ],
            [
             0.7,
             "#b8e186"
            ],
            [
             0.8,
             "#7fbc41"
            ],
            [
             0.9,
             "#4d9221"
            ],
            [
             1,
             "#276419"
            ]
           ],
           "sequential": [
            [
             0.0,
             "#0d0887"
            ],
            [
             0.1111111111111111,
             "#46039f"
            ],
            [
             0.2222222222222222,
             "#7201a8"
            ],
            [
             0.3333333333333333,
             "#9c179e"
            ],
            [
             0.4444444444444444,
             "#bd3786"
            ],
            [
             0.5555555555555556,
             "#d8576b"
            ],
            [
             0.6666666666666666,
             "#ed7953"
            ],
            [
             0.7777777777777778,
             "#fb9f3a"
            ],
            [
             0.8888888888888888,
             "#fdca26"
            ],
            [
             1.0,
             "#f0f921"
            ]
           ],
           "sequentialminus": [
            [
             0.0,
             "#0d0887"
            ],
            [
             0.1111111111111111,
             "#46039f"
            ],
            [
             0.2222222222222222,
             "#7201a8"
            ],
            [
             0.3333333333333333,
             "#9c179e"
            ],
            [
             0.4444444444444444,
             "#bd3786"
            ],
            [
             0.5555555555555556,
             "#d8576b"
            ],
            [
             0.6666666666666666,
             "#ed7953"
            ],
            [
             0.7777777777777778,
             "#fb9f3a"
            ],
            [
             0.8888888888888888,
             "#fdca26"
            ],
            [
             1.0,
             "#f0f921"
            ]
           ]
          },
          "colorway": [
           "#636efa",
           "#EF553B",
           "#00cc96",
           "#ab63fa",
           "#FFA15A",
           "#19d3f3",
           "#FF6692",
           "#B6E880",
           "#FF97FF",
           "#FECB52"
          ],
          "font": {
           "color": "#2a3f5f"
          },
          "geo": {
           "bgcolor": "white",
           "lakecolor": "white",
           "landcolor": "white",
           "showlakes": true,
           "showland": true,
           "subunitcolor": "#C8D4E3"
          },
          "hoverlabel": {
           "align": "left"
          },
          "hovermode": "closest",
          "mapbox": {
           "style": "light"
          },
          "paper_bgcolor": "white",
          "plot_bgcolor": "white",
          "polar": {
           "angularaxis": {
            "gridcolor": "#EBF0F8",
            "linecolor": "#EBF0F8",
            "ticks": ""
           },
           "bgcolor": "white",
           "radialaxis": {
            "gridcolor": "#EBF0F8",
            "linecolor": "#EBF0F8",
            "ticks": ""
           }
          },
          "scene": {
           "xaxis": {
            "backgroundcolor": "white",
            "gridcolor": "#DFE8F3",
            "gridwidth": 2,
            "linecolor": "#EBF0F8",
            "showbackground": true,
            "ticks": "",
            "zerolinecolor": "#EBF0F8"
           },
           "yaxis": {
            "backgroundcolor": "white",
            "gridcolor": "#DFE8F3",
            "gridwidth": 2,
            "linecolor": "#EBF0F8",
            "showbackground": true,
            "ticks": "",
            "zerolinecolor": "#EBF0F8"
           },
           "zaxis": {
            "backgroundcolor": "white",
            "gridcolor": "#DFE8F3",
            "gridwidth": 2,
            "linecolor": "#EBF0F8",
            "showbackground": true,
            "ticks": "",
            "zerolinecolor": "#EBF0F8"
           }
          },
          "shapedefaults": {
           "line": {
            "color": "#2a3f5f"
           }
          },
          "ternary": {
           "aaxis": {
            "gridcolor": "#DFE8F3",
            "linecolor": "#A2B1C6",
            "ticks": ""
           },
           "baxis": {
            "gridcolor": "#DFE8F3",
            "linecolor": "#A2B1C6",
            "ticks": ""
           },
           "bgcolor": "white",
           "caxis": {
            "gridcolor": "#DFE8F3",
            "linecolor": "#A2B1C6",
            "ticks": ""
           }
          },
          "title": {
           "x": 0.05
          },
          "xaxis": {
           "automargin": true,
           "gridcolor": "#EBF0F8",
           "linecolor": "#EBF0F8",
           "ticks": "",
           "title": {
            "standoff": 15
           },
           "zerolinecolor": "#EBF0F8",
           "zerolinewidth": 2
          },
          "yaxis": {
           "automargin": true,
           "gridcolor": "#EBF0F8",
           "linecolor": "#EBF0F8",
           "ticks": "",
           "title": {
            "standoff": 15
           },
           "zerolinecolor": "#EBF0F8",
           "zerolinewidth": 2
          }
         }
        },
        "scene": {
         "domain": {
          "x": [
           0.0,
           1.0
          ],
          "y": [
           0.0,
           1.0
          ]
         },
         "xaxis": {
          "title": {
           "text": "x"
          }
         },
         "yaxis": {
          "title": {
           "text": "y"
          }
         },
         "zaxis": {
          "title": {
           "text": "z"
          }
         }
        },
        "legend": {
         "title": {
          "text": "sense, BIC_default_sub"
         },
         "tracegroupgap": 0
        },
        "margin": {
         "t": 60
        },
        "title": {
         "text": "Clusters Avocat<br>",
         "y": 0.9,
         "x": 0.5,
         "xanchor": "center",
         "yanchor": "top"
        }
       },
       "config": {
        "plotlyServerURL": "https://plot.ly"
       }
      },
      "text/html": "<div>                            <div id=\"bc5378e2-a1c4-4ec4-8620-bcd6ed89da53\" class=\"plotly-graph-div\" style=\"height:525px; width:100%;\"></div>            <script type=\"text/javascript\">                require([\"plotly\"], function(Plotly) {                    window.PLOTLYENV=window.PLOTLYENV || {};                                    if (document.getElementById(\"bc5378e2-a1c4-4ec4-8620-bcd6ed89da53\")) {                    Plotly.newPlot(                        \"bc5378e2-a1c4-4ec4-8620-bcd6ed89da53\",                        [{\"customdata\":[[\" - S'ajoutent 2 plaintes d\\u00e9pos\\u00e9es contre le m\\u00eame militant : en mars 2017 par l' avocat montpelli\\u00e9rain du BNVCA David Mendel qui avait plaid\\u00e9 contre Saadia et Husein, pour \\u00ab Menaces contre un avocat \\u00bb. \"],[\" L' avocat fait du droit, il n'est pas le seul; mais cela ne signifie pas que tous ceux qui font du droit soient avocats ou aient vocation \\u00e0 le devenir sauf \\u00e0 diluer la profession. \"],[\" Si vous avez besoin d'un conseil juridique ou que vous subissez une situation grave (ex : harc\\u00e8lement), le SFE peut vous venir en aide avant de faire appel \\u00e0 un avocat . \"],[\" La premi\\u00e8re d\\u00e9marche est d'aller voir en premier lieu un avocat sp\\u00e9cialis\\u00e9 en droit des soci\\u00e9t\\u00e9s ensuite l'expert comptable. \"],[\" Celui-ci pr\\u00e9voit que \\\"70 % des r\\u00e9sultats soient destin\\u00e9s \\u00e0 l'autofinancement pour permettre \\u00e0 l'entreprise de se d\\u00e9velopper\\\", selon Maitre Christophe Th\\u00e9venet, avocat de l'hebdomadaire. \\\"On a vot\\u00e9 une r\\u00e9solution suppl\\u00e9mentaire pour attribuer les 30 % restants \\u00e0 l'autofinancement\\\", ajoute l' avocat qui rappelle que la r\\u00e9partition des plus de 4 millions d'euros de dons sera confi\\u00e9e \\u00e0 une commission de sages d\\u00e9sign\\u00e9s, \\u00e0 la demande du journal, par le minist\\u00e8re de la Justice. \"],[\" Les locaux d'une ancienne \\u00e9cole d' avocat seront r\\u00e9habilit\\u00e9s et r\\u00e9am\\u00e9nag\\u00e9s pour accueillir la fondation agir sur l'Audition associ\\u00e9e \\u00e0 un laboratoire de recherche d\\u00e9di\\u00e9 \\u00e0 l'\\u00e9quipe du Pr Christine Petit. \"],[\" Un avocat turc a port\\u00e9 plainte contre l'Inter Milan et demande \\u00e0 l'UEFA d'enlever au club italien les points acquis face \\u00e0 Fenerbah\\u00e7e. \"],[\" Elle \\u00e9voque des \\u00ab professions sensibles, qui incitent aux conflits d'int\\u00e9r\\u00eats ou qui peuvent les provoquer : avocat , conseil juridique \\u00bb. \\u00ab Mais je ne vois pas \\u00e0 quel titre on imposerait \\u00e0 un parlementaire qui est agriculteur, ou dentiste, de cesser de l'\\u00eatre. \"],[\" M. Coronado a raison : d\\u00e8s lors qu'un acte de proc\\u00e9dure est r\\u00e9alis\\u00e9 en pr\\u00e9sence d'un avocat , celui-ci doit \\u00eatre inform\\u00e9, quoi qu'il arrive, d'un d\\u00e9placement \\u00e9ventuel. \"],[\" L'accus\\u00e9 Kimbangu, n'\\u00e9tait pas assist\\u00e9 par un avocat . \"],[\" En plus de la peine de prison, Berkane Makhlouf, 32 ans, a \\u00e9t\\u00e9 condamn\\u00e9 \\u00e0 indemniser les plaignants \\u00ab \\u00e0 hauteur de 1 000 \\u00e0 2 000 euros pour chacun d'entre eux \\u00bb, a expliqu\\u00e9 au \\u00ab Figaro \\u00bb Me Dominique-Jean Lardans, l' avocat des surveillants. \"],[\" Un fournisseur de services participant peut refuser de fournir tout renseignement ou document que demande le Commissaire, s'il peut d\\u00e9montrer, \\u00e0 la satisfaction de ce dernier, que le mat\\u00e9riel est assujetti au secret professionnel qui lie un avocat \\u00e0 son client, ou qu'en le fournissant, le fournisseur de services participant commettrait une infraction \\u00e0 la loi. \"],[\" Apr\\u00e8s une premi\\u00e8re activit\\u00e9 en qualit\\u00e9 de greffier-r\\u00e9dacteur au Tribunal d'arrondissement de la Broye et du Nord vaudois, j'ai effectu\\u00e9 mon stage d' avocat aupr\\u00e8s de Me Paul-Arthur Treyvaud \\u00e0 Yverdon-les-Bains. \"],[\" Tamarii Nuutania envoie une premi\\u00e8re salve de courriers \\u00e0 vingt d\\u00e9tenus, d\\u00e9taillant les \\u00e9tapes de la proc\\u00e9dure d'indemnisation accompagn\\u00e9s d'un questionnaire \\u00e9tabli par l'OIP devant permettre une description pr\\u00e9cise de leurs conditions mat\\u00e9rielles de d\\u00e9tention, et d'un formulaire permettant de d\\u00e9signer Me Millet comme avocat devant le tribunal administratif. \"],[\" Son avocat a annonc\\u00e9 le 7 juin qu'il avait mis fin \\u00e0 son mouvement, car il se sentait trop faible physiquement. \"],[\" Il va falloir que tous ceux qui se disent oppos\\u00e9s \\u00e0 la LGV pensent qu'un recours n'est pas gratuit parce qu'il faut un bon avocat si possible au Conseil et que le collectif limousin non lgv oui au POLT, lance un appel aux dons par souscription : http:\\u002f\\u002flimogespoitiers.com\\u002fsouscription-pour-le-recours...\\u002f \"],[\" En effet, l' avocat est r\\u00e9mun\\u00e9r\\u00e9 en fonction du temps pass\\u00e9 pour traiter le dossier. \"],[\" Sauf qu'une requ\\u00eate avec assistance de l' avocat n'est pas gratuite, pas imm\\u00e9diate non plus, et \\u00e0 la fin, c'est toujours le m\\u00eame qui paye. \"],[\" Des groupes sont constitu\\u00e9s (24, 12 ou 6) pour les mati\\u00e8res qui n\\u00e9cessitent un \\u00e9change important entre les intervenants et les \\u00e9l\\u00e8ves qui sont mis en situation, en particulier lors de la correction de devoirs r\\u00e9alis\\u00e9s \\u00e0 domicile : r\\u00e9daction d'acte d' avocat , de contrats, de projets en groupe, d'\\u00e9critures et de consultations et exercices de plaidoirie. \"],[\" bonjour Madame merci de votre soutient je suis a la recherche d'un avocat qui pourrait m'aider il faut un avocat qui a des connaissances en droit europ\\u00e9ens une autre chose aussi il y a l'assembl\\u00e9e g\\u00e9n\\u00e9rale de l'UPBPF qui a lieu le 27 f\\u00e9vrier a NAMUR moi personnellement je vais m'y rendre il faudrait \\u00eatre le plus possible afin de pouvoir intervenir a cette assembl\\u00e9e je dois aussi tr\\u00e8s prochainement rencontrer un journaliste de la voix du Nord je vous tiendrez au courant de l'\\u00e9volution de mes actions sur ce forum je souhaite que d'autres parents comme nous vont se manifester crdlt \"],[\" Connu comme l' avocat des \\u00ab barons de la coca\\u00e0\\u00afne \\u00bb[r\\u00e9f. n\\u00e9cessaire] du P\\u00e9rou et de Colombie, Montesinos poursuit les ann\\u00e9es 1980 des \\u00ab grands proc\\u00e8s \\u00bb, en gagnant la confiance de divers narcotrafiquants. \"],[\" L' avocat en droit bancaire prend en compte les revenus de son client afin de lui proposer la meilleure d\\u00e9fense, sans que cela soit n\\u00e9gatif pour son budget. \"],[\" Les chiffres donnent le tournis dans ce tr\\u00e8s long rapport r\\u00e9dig\\u00e9 par le juge Van Ruymbeke en vue du renvoi devant le Tribunal Correctionnel de Lamine Diack, de Papa Massata Diack, d'Habib Ciss\\u00e9, leur avocat , du Docteur Gabriel Doll\\u00e9, des Russes Melnikov et Balakhnitchev. \"],[\"Un annonceur vante son produit aupr\\u00e8s des consommateurs par un spot publicitaire, un avocat d\\u00e9fend son client aupr\\u00e8s du juge par une plaidoirie, un politicien se fait valoir aupr\\u00e8s des \\u00e9lecteurs par un beau discours : dans une conception classique de la communication, un \\u00e9metteur adresse un message \\u00e0 une cible par un vecteur.\"],[\"Votre avocat d\\u00e9fend aussi vos droits et vos int\\u00e9r\\u00eats en cas de conflits ou de litiges entre associ\\u00e9s, de concurrence d\\u00e9loyale, etc. Maitre CALVET vous conseille, vous accompagne et vous repr\\u00e9sente devant les juridictions tout en assurant votre d\\u00e9fense pour tous les sujets relatifs au droit des affaires et au droit commercial.\"],[\"Yvan Colonna, a contrario de tout accus\\u00e9 ne m\\u00e9ritait m\\u00eame pas qu'un avocat le d\\u00e9fende .\"],[\"Parmi les rares qui \\u00e9l\\u00e8vent la voix, il y a Rapha\\u00ebl Kempf, avocat qui a d\\u00e9fendu nombre de Gilets jaunes interpell\\u00e9s.\"],[\"Un avocat qui a d\\u00e9fendu un homme politique accus\\u00e9 de viol tout en critiquant les f\\u00e9ministes et #MeToo est d\\u00e9sormais ministre de la justice.\"],[\"Mais cet avocat a d\\u00e9fendu le Front Polisario, mouvement ind\\u00e9pendantiste du Sahara occidental : une provocation pour les Marocains.\"],[\"En 1998, le c\\u00e9l\\u00e8bre avocat d\\u00e9fend le jardinier Omar Raddad, accus\\u00e9 du meurtre de sa patronne Ghislaine Marchal et condamn\\u00e9 en 1994, \\u00e0 18 ans de r\\u00e9clusion.\"],[\"Il est normal que l' avocat d\\u00e9fende son client, mais il faut aussi que le minist\\u00e8re public apporte la contradiction, afin que le juge du si\\u00e8ge puisse trancher.\"],[\"Comme le rapporte Le Parisien, dans le recours pr\\u00e9sent\\u00e9, les d\\u00e9put\\u00e9s s'interrogent sur l'absence de la signature du ministre du Budget sur le d\\u00e9cret, pour une mesure qui impacte les finances publiques. \\\"Nous plaidons aussi l'erreur de fait de l'administration qui a appuy\\u00e9 cette mesure sur une exp\\u00e9rimentation qui, elle-m\\u00eame l'a reconnu, n'est pas significative\\\", a fait savoir au quotidien R\\u00e9my Josseaume, l' avocat d\\u00e9fendant la requ\\u00eate des d\\u00e9put\\u00e9s.\"],[\"Et malgr\\u00e9 la bouteille jet\\u00e9e \\u00e0 la t\\u00eate de notre \\u00e9diteur, son avocat plaide la relaxe.\"],[\"L' avocat a plaid\\u00e9 l'acquittement, ainsi que ses deux collaborateurs.\"],[\"Viole et d\\u00e9coupe une gamine en morceaux et ton gentil avocat plaidera un \\u00e9garement de jeunesse.\"],[\"Un avocat plaide l'irresponsabilit\\u00e9, l'autre recommande l'obligation de soins.\"],[\"Son avocat a plaid\\u00e9 qu'un d\\u00e9nomm\\u00e9 Silv\\u00e8re Martel, qui faisait le taxi au noir \\u00e0 Outreau, qui avait un enfant de huit ans du nom de Vincent, et qui \\u00e9tait inqui\\u00e9t\\u00e9 dans une autre affaire d'agression sexuelle, n'\\u00e9tait pas mis en examen, alors que les enfants mettaient en cause un M. Martel ayant un fils Vincent de huit ans... Quant \\u00e0 Mme Odile Mar\\u00e9caux, elle a produit un certificat m\\u00e9dical de janvier 2001 si je me souviens bien, montrant que son fils est indemne de toute agression sexuelle, alors que\"],[\"Pendant tout le temps o\\u00f9 le pr\\u00e9sident l'a expos\\u00e9 et o\\u00f9 mon avocat a plaid\\u00e9 , l' avocat g\\u00e9n\\u00e9ral a dessin\\u00e9.\"],[\"Un avocat plaidant pour l'\\u00e9tat d'un enfant \\u00e2g\\u00e9 de cinq ans, le fit amener \\u00e0 l'audience.\"],[\"Avant sa nomination \\u00e0 la Cour d'appel, il \\u00e9tait un avocat sp\\u00e9cialis\\u00e9 en litige, ayant plaid\\u00e9 dans divers secteurs du droit, tant devant la Cour supr\\u00eame du Canada et la Cour f\\u00e9d\\u00e9rale, que devant toutes les instances judiciaires qu\\u00e9b\\u00e9coises et les tribunaux administratifs.\"],[\"Robert Bilott est un avocat sp\\u00e9cialis\\u00e9 dans la d\\u00e9fense des industries chimiques.\"],[\"Nicolas Hournon, avocat bisontin sp\\u00e9cialis\\u00e9 notamment dans le droit de la distribution, de la propri\\u00e9t\\u00e9 industrielle et de la propri\\u00e9t\\u00e9 intellectuelle a confi\\u00e9 la cr\\u00e9ation de son identit\\u00e9 visuelle et de son site Internet \\u00e0 notre agence.\"],[\"Nous nous sommes entour\\u00e9s des experts du secteur : Bernard Boutboul [dirigeant du cabinet Gira Conseil, NDLR] et l' avocat sp\\u00e9cialis\\u00e9 Olivier Deschamps.\"],[\"Comme Me Arnaud Gossement, avocat sp\\u00e9cialis\\u00e9 dans le droit de l'environnement, le faisait remarquer dans une interview pour La Croix, si \\\" ce sont de belles avanc\\u00e9es, [...] tout d\\u00e9pendra des moyens de contr\\u00f4le qui accompagneront ces mesures. \\\" Moyens de contr\\u00f4le mais aussi moyens financiers et humains.\"]],\"hovertemplate\":\"sense=lawyer\\u003cbr\\u003eBIC_default_sub=True\\u003cbr\\u003ex=%{x}\\u003cbr\\u003ey=%{y}\\u003cbr\\u003ez=%{z}\\u003cbr\\u003ematch=%{customdata[0]}\\u003cextra\\u003e\\u003c\\u002fextra\\u003e\",\"legendgroup\":\"lawyer, True\",\"marker\":{\"color\":\"#636efa\",\"symbol\":\"circle\"},\"mode\":\"markers\",\"name\":\"lawyer, True\",\"scene\":\"scene\",\"showlegend\":true,\"x\":[0.6036199600626728,-0.061747291538538016,1.3789608485631015,-1.1091921312934145,1.036481707098264,0.13344398256418577,1.187869442529758,0.7077481331509493,0.3841623499993843,-0.323816822248495,0.583456636253432,1.3691398843056222,1.483040869065046,1.393131905890905,-0.07219489412225509,1.4202393236512678,0.6451910553945208,1.062172239656666,0.32996413199012975,1.5518576391377785,0.24449935221728789,0.07543388178277291,0.5414119007500369,1.2894357634458502,1.059634771797594,0.920792984674085,1.163915224081736,0.5806206908179553,-1.0424276467470437,1.2367389825026982,0.1603062010763346,0.8477205986895322,0.49880499141842144,-0.3144857736817675,-0.4004618646197949,0.7169665532065761,0.5796976333087744,1.2845543085725042,0.782882148605226,1.4617567487866086,-0.6818115426490918,1.144457133303146,0.5953936575001422,1.6724184509110431],\"y\":[-0.37765642525747944,-0.9370094291659332,-0.21351659013913418,0.1585738503306003,0.7189087781573683,-1.2023433370487353,0.9299415650472044,0.7476596531344691,-0.5224964783949995,-0.21229996274629953,-0.521561535218656,1.5562712555243101,0.9770994031064674,0.26395610243128476,-1.0596481152020099,0.6976832959980632,-0.7980363937331277,-0.464786046825908,-0.5820825803891997,-0.14956787214674727,-0.2745527236777068,-0.00458948310771358,0.3661632818081126,1.586074450729205,0.7270885578633266,-0.2740711243404276,0.38310444234979696,-0.027979349481856614,-0.28705745310582564,1.3145754036089239,0.020267817355431834,0.613150595978009,-0.6827556489816066,0.2529322941234942,-0.34548295400529044,-0.1680875173327077,-0.6176603913736248,0.5742496072691139,-0.16836276970659356,-0.0020832310745260707,-0.3808169591101116,0.2902643246948511,-0.8554568741704033,0.7323264460223942],\"z\":[-0.8388006111588057,-0.590216407980012,0.5544061919294427,1.7619449650709424,-0.5215922571100814,0.5449426635921056,-0.8708275380343351,-0.08173066115169154,0.2871739380692728,1.0817006420688018,0.1431536920118589,-0.7058464280834564,0.26249103044286326,0.1257986372259538,0.8960831383693187,0.07177395031767883,-0.038958043298371235,0.39596652098731056,0.6979452794662242,0.45500071791227215,0.025905035235393056,-0.2249208723101004,-0.41360873423486527,-0.7508091811064005,0.21402763312013845,0.3060099156491139,0.35334167984741494,-0.8239417565799623,0.6637603283607179,-0.6233077054978119,-0.2142743974336489,-0.6549168909263872,0.14129286346177722,0.08432171376303392,0.16071001513894442,0.704598197999479,0.26738885106191745,0.3379658234971745,-0.4675588006384939,-0.0206329463257548,1.1759236095067727,0.27389386071566224,0.6030145003185406,-0.09096864346915297],\"type\":\"scatter3d\"},{\"customdata\":[[\" L' avocat de Christine Lagarde se veut rassurant: l'enqu\\u00eate durera longtemps avant d'aboutir \\u00e0 un r\\u00e9sultat. \"],[\" avocat en droit des affaires - 63 km de Borchtlombeek \"],[\" Ce qui n'est souvent pas le cas d'un avocat qui r\\u00e9side tr\\u00e8s loin de son client. \"],[\" Nous avons demand\\u00e9 \\u00e0 Me Prosper Farama, avocat dans ce dossier, d'appr\\u00e9cier l'action des uns et des autres. \"],[\" Organe professionel de gestion et de contr\\u00f4le de la profession d' avocat, qui r\\u00e9unit obligatoirement tous les avocats d'un m\\u00eame barreau. \"],[\"Un avocat qui d\\u00e9fend son client ne partage pas ses valeurs.\"],[\"Dans le cas \\u00e9ch\\u00e9ant, votre avocat plaidera votre cause et d\\u00e9fendra vos int\\u00e9r\\u00eats.\"],[\"Il a r\\u00e9ussi son pari, brillant avocat il a plaid\\u00e9 le viol par consentement mutuel.\"],[\"Son avocat a plaid\\u00e9 l'acquittement.\"],[\"M. Moseley est un avocat plaidant chevronn\\u00e9 du domaine des valeurs mobili\\u00e8res qui a plus de 20 ans d'exp\\u00e9rience dans la conformit\\u00e9 et l'application de la loi, y compris dans les instances civiles et r\\u00e9glementaires.\"],[\"Nous vous mettons en relation avec un avocat sp\\u00e9cialis\\u00e9 et exp\\u00e9riment\\u00e9 qui r\\u00e9digera votre contrat et r\\u00e9pondra \\u00e0 toutes vos questions\"],[\"Un avocat sp\\u00e9cialis\\u00e9 et exp\\u00e9riment\\u00e9 en droit des contrats r\\u00e9dige mon contrat\"]],\"hovertemplate\":\"sense=lawyer\\u003cbr\\u003eBIC_default_sub=False\\u003cbr\\u003ex=%{x}\\u003cbr\\u003ey=%{y}\\u003cbr\\u003ez=%{z}\\u003cbr\\u003ematch=%{customdata[0]}\\u003cextra\\u003e\\u003c\\u002fextra\\u003e\",\"legendgroup\":\"lawyer, False\",\"marker\":{\"color\":\"#636efa\",\"symbol\":\"diamond\"},\"mode\":\"markers\",\"name\":\"lawyer, False\",\"scene\":\"scene\",\"showlegend\":true,\"x\":[0.5874642841680906,-1.4103763708746055,-0.9293091775907653,0.573050723710169,-0.22761942240833324,-1.5008249923615864,1.0651640075693558,-1.6077248949449643,0.09638446197998937,0.8576455760427012,-1.5045143839419783,-1.473513922515416],\"y\":[0.242148839881327,0.8616361287517242,0.0145167141796642,-0.8212092177297999,-0.7393095229523934,0.9836331792812587,-0.36638761440280376,0.8123761160232251,-0.8406748365867438,0.05538795272316044,0.9679852343284568,0.9398904402354517],\"z\":[0.6222054780317415,-0.03890991182366231,0.24990424796011654,0.6271466020931052,0.8028349822322646,0.0469692240864792,0.4406068485004933,0.3003190508660715,0.6137998931025676,0.31638388290484365,-0.014837514345565374,0.15652149134710294],\"type\":\"scatter3d\"},{\"customdata\":[[\"Le caviar d'aubergine se d\\u00e9guste avec un avocat par exemple ou un poisson grill\\u00e9.\"],[\"La chair fondante de l' avocat se cuisine en une savoureuse palette de recettes faciles et rapides \\u00e0 pr\\u00e9parer\"],[\"Les acides gras polyinsatur\\u00e9s contenus dans l' avocat y contribuent.\"],[\"Que faire avec de l' avocat ? +15 id\\u00e9es recettes \\u00e0 tester !\"],[\"Superbe cr\\u00e8me et aromatique, avec avocat sur le dessus - se r\\u00e9veille les esprits en 25 minutes.\"],[\"L'arbre \\u00e0 avocat (avocatier), un arbre exotique qui peut pousser en int\\u00e9rieur ... Avec ses grandes feuilles brillantes et ses fruits go\\u00fbteux\"],[\"Le principal ingr\\u00e9dient est avocat guacamole, qui contient des acides gras mono-insatur\\u00e9s abondantes\"],[\"Except\\u00e9 pour en faire du guacamole, vous n'avez aucune id\\u00e9e de comment cuisiner et int\\u00e9grer l' avocat dans vos recettes sal\\u00e9es\"],[\"Une fois les filets cuits, tailles-les (pas jusqu'au bout) et intercalez les tranches d' avocat.\"],[\"De la garniture des tartines aux desserts en passant par les boissons frapp\\u00e9es, l' avocat est souvent pr\\u00e9sent\\u00e9 comme un aliment sain.\"],[\"L' avocat, ainsi que des fruits comme les pommes, les p\\u00eaches, les framboises et les myrtilles, contiennent des substances chimiques naturelles appel\\u00e9es salicylates\"],[\"Pour commencer, peler et couper l' avocat en tranches, puis les asperger de jus de citron, de sel et de poivre.\"],[\"Dans un plat, mixer l' avocat avec l'oignon et la tomate, ajoutez le sel ainsi que le citron et le tabasco et la coriandre.\"],[\"Si vous craignez d'abimer la chair, pelez d\\u00e9licatement l' avocat .\"],[\"Si vous craignez d'abimer la chair, pelez d\\u00e9licatement l' avocat .\"]],\"hovertemplate\":\"sense=avocado\\u003cbr\\u003eBIC_default_sub=True\\u003cbr\\u003ex=%{x}\\u003cbr\\u003ey=%{y}\\u003cbr\\u003ez=%{z}\\u003cbr\\u003ematch=%{customdata[0]}\\u003cextra\\u003e\\u003c\\u002fextra\\u003e\",\"legendgroup\":\"avocado, True\",\"marker\":{\"color\":\"#EF553B\",\"symbol\":\"circle\"},\"mode\":\"markers\",\"name\":\"avocado, True\",\"scene\":\"scene\",\"showlegend\":true,\"x\":[-1.3047834343687366,-1.6275055403522785,-1.142278714153782,-1.4695046924571264,-1.0052669217535077,-1.4343368393271148,-1.5184684525871512,-0.7620321288561257,0.10116243700043209,-0.26882487395368926,-1.2331629584715225,-0.7586379846139119,-1.1326167880800462,-0.4665144112124204,-1.3957169303708223],\"y\":[0.34261244396154233,1.1072258985512817,0.4379817406744967,0.9369764472699144,0.13881678865022212,0.8962402146708578,0.9550491971640638,0.030884035064867418,-0.22381254999471972,-0.46521086802372397,0.5080749963270274,-0.8472838896055165,-0.4592343460189836,-0.3865971972552961,0.4150182600557503],\"z\":[0.2594865848236317,0.35637524083168903,0.38095896084793485,-0.03823595825569143,0.27542677938012705,-0.011315250772002468,0.17750623953926287,-0.4911337346512853,-0.16090167223881352,-0.05806616836118837,-0.32058385879900836,-1.3602914747618162,-0.25994237244752094,0.993256036214373,0.001249856132325425],\"type\":\"scatter3d\"},{\"customdata\":[[\"Pour griller l' avocat, il vaut mieux le couper en deux, retirer le noyau et arroser la chair d'huile et de jus de citron. \"],[\"Coupez votre avocat en deux, retirez son noyau et r\\u00e9veillez-le simplement avec du jus de citron et de la fleur de sel.\"],[\"Pour cette recette de Doce de abacate (cr\\u00e8me d' avocat), vous pouvez compter 15 minutes de pr\\u00e9paration.\"],[\"Posez des emporte-pi\\u00e8ces sur des assiettes, puis mettez une couche d' avocat, une couche de mangue et terminez par le crabe.\"],[\"L' avocat, ou Persea americana, est un fruit qui appartient \\u00e0 la famille des laurac\\u00e9es, un groupe qui comprend \\u00e9galement des membres tels que la cannelle et le laurier.\"],[\"Heureusement il existe ce que l'on appelle des anti-oxydants qui agissent comme la peinture emp\\u00eache le fer de s'oxyder, ou le citron qui emp\\u00eache l' avocat coup\\u00e9 de noircir.\"],[\"Dans le bol de votre mixeur ou de votre blender, placez les bananes et l' avocat coup\\u00e9s en morceaux, les dattes d\\u00e9noyaut\\u00e9es, le jus de citron, le cacao cru et l'huile de coco fondue.\"],[\"Mixez un avocat pour que \\u00e7a fasse une pur\\u00e9e puis m\\u00e9langez-le \\u00e0 de l'huile d'olive avec quelques gouttes de jus de citron pour la brillance.\"],[\"Pelez l' avocat , coupez-le en deux puis enlevez le noyau (on plante le couteau dedans, on tourne et on retire).\"],[\"Pelez l' avocat , coupez-le en deux puis enlevez le noyau (on plante le couteau dedans, on tourne et on retire).\"],[\"Vous avez besoin de : Pour le g\\u00e2teau: 1 avocat m\\u00fbr , r\\u00e9duit en pur\\u00e9e jusqu'\\u00e0 consistance lisse, 2 cuill\\u00e8res \\u00e0 caf\\u00e9 de...\"],[\"Entre-temps, pour la cr\\u00e8me, retirez le noyau d'un avocat m\\u00fbr , placez la chair dans un grand bol.\"],[\"Ingr\\u00e9dients : 180g de quinoa non cuit, 1 avocat m\\u00fbr mais encore ferme coup\\u00e9 en tranches ou en d\\u00e9s, 125g de framboises, 1\\u002f2 oignon rouge coup\\u00e9 en d\\u00e9s, 150g de f\\u00eata \\u00e9miett\\u00e9e, 75g d'amandes effil\\u00e9es, feuilles de basilic frais\"]],\"hovertemplate\":\"sense=avocado\\u003cbr\\u003eBIC_default_sub=False\\u003cbr\\u003ex=%{x}\\u003cbr\\u003ey=%{y}\\u003cbr\\u003ez=%{z}\\u003cbr\\u003ematch=%{customdata[0]}\\u003cextra\\u003e\\u003c\\u002fextra\\u003e\",\"legendgroup\":\"avocado, False\",\"marker\":{\"color\":\"#EF553B\",\"symbol\":\"diamond\"},\"mode\":\"markers\",\"name\":\"avocado, False\",\"scene\":\"scene\",\"showlegend\":true,\"x\":[0.1419336157819056,-0.23844285136540516,-0.7753393851881312,-0.6634486967048705,0.008914360593949263,-0.5814633543909291,-0.6888279493137907,0.5879631792445111,-0.39074971752614446,-1.0297733402903093,-1.0035021414471554,-1.3643433117434514,-1.2320421827866672],\"y\":[-0.5645114098150522,-0.6817191332562369,-0.2822010515970267,-0.6201934757537038,-0.699482555771959,-1.3905009482275483,-1.358726458696677,-0.24732016150212469,-1.2569024613332533,-0.45239827662902654,-0.39877138673541135,0.41051692853550903,0.26514592576240265],\"z\":[0.31723368400840946,-0.7618447408577236,0.29136551164253344,-0.6759517346852152,-0.4814635478870841,-1.3278831385954748,-1.507742647860236,-1.0700124150319665,-0.6925960108863416,-1.5819102221581962,-0.5897974720030329,0.33124829026458774,-0.7750025581886366],\"type\":\"scatter3d\"}],                        {\"template\":{\"data\":{\"barpolar\":[{\"marker\":{\"line\":{\"color\":\"white\",\"width\":0.5},\"pattern\":{\"fillmode\":\"overlay\",\"size\":10,\"solidity\":0.2}},\"type\":\"barpolar\"}],\"bar\":[{\"error_x\":{\"color\":\"#2a3f5f\"},\"error_y\":{\"color\":\"#2a3f5f\"},\"marker\":{\"line\":{\"color\":\"white\",\"width\":0.5},\"pattern\":{\"fillmode\":\"overlay\",\"size\":10,\"solidity\":0.2}},\"type\":\"bar\"}],\"carpet\":[{\"aaxis\":{\"endlinecolor\":\"#2a3f5f\",\"gridcolor\":\"#C8D4E3\",\"linecolor\":\"#C8D4E3\",\"minorgridcolor\":\"#C8D4E3\",\"startlinecolor\":\"#2a3f5f\"},\"baxis\":{\"endlinecolor\":\"#2a3f5f\",\"gridcolor\":\"#C8D4E3\",\"linecolor\":\"#C8D4E3\",\"minorgridcolor\":\"#C8D4E3\",\"startlinecolor\":\"#2a3f5f\"},\"type\":\"carpet\"}],\"choropleth\":[{\"colorbar\":{\"outlinewidth\":0,\"ticks\":\"\"},\"type\":\"choropleth\"}],\"contourcarpet\":[{\"colorbar\":{\"outlinewidth\":0,\"ticks\":\"\"},\"type\":\"contourcarpet\"}],\"contour\":[{\"colorbar\":{\"outlinewidth\":0,\"ticks\":\"\"},\"colorscale\":[[0.0,\"#0d0887\"],[0.1111111111111111,\"#46039f\"],[0.2222222222222222,\"#7201a8\"],[0.3333333333333333,\"#9c179e\"],[0.4444444444444444,\"#bd3786\"],[0.5555555555555556,\"#d8576b\"],[0.6666666666666666,\"#ed7953\"],[0.7777777777777778,\"#fb9f3a\"],[0.8888888888888888,\"#fdca26\"],[1.0,\"#f0f921\"]],\"type\":\"contour\"}],\"heatmapgl\":[{\"colorbar\":{\"outlinewidth\":0,\"ticks\":\"\"},\"colorscale\":[[0.0,\"#0d0887\"],[0.1111111111111111,\"#46039f\"],[0.2222222222222222,\"#7201a8\"],[0.3333333333333333,\"#9c179e\"],[0.4444444444444444,\"#bd3786\"],[0.5555555555555556,\"#d8576b\"],[0.6666666666666666,\"#ed7953\"],[0.7777777777777778,\"#fb9f3a\"],[0.8888888888888888,\"#fdca26\"],[1.0,\"#f0f921\"]],\"type\":\"heatmapgl\"}],\"heatmap\":[{\"colorbar\":{\"outlinewidth\":0,\"ticks\":\"\"},\"colorscale\":[[0.0,\"#0d0887\"],[0.1111111111111111,\"#46039f\"],[0.2222222222222222,\"#7201a8\"],[0.3333333333333333,\"#9c179e\"],[0.4444444444444444,\"#bd3786\"],[0.5555555555555556,\"#d8576b\"],[0.6666666666666666,\"#ed7953\"],[0.7777777777777778,\"#fb9f3a\"],[0.8888888888888888,\"#fdca26\"],[1.0,\"#f0f921\"]],\"type\":\"heatmap\"}],\"histogram2dcontour\":[{\"colorbar\":{\"outlinewidth\":0,\"ticks\":\"\"},\"colorscale\":[[0.0,\"#0d0887\"],[0.1111111111111111,\"#46039f\"],[0.2222222222222222,\"#7201a8\"],[0.3333333333333333,\"#9c179e\"],[0.4444444444444444,\"#bd3786\"],[0.5555555555555556,\"#d8576b\"],[0.6666666666666666,\"#ed7953\"],[0.7777777777777778,\"#fb9f3a\"],[0.8888888888888888,\"#fdca26\"],[1.0,\"#f0f921\"]],\"type\":\"histogram2dcontour\"}],\"histogram2d\":[{\"colorbar\":{\"outlinewidth\":0,\"ticks\":\"\"},\"colorscale\":[[0.0,\"#0d0887\"],[0.1111111111111111,\"#46039f\"],[0.2222222222222222,\"#7201a8\"],[0.3333333333333333,\"#9c179e\"],[0.4444444444444444,\"#bd3786\"],[0.5555555555555556,\"#d8576b\"],[0.6666666666666666,\"#ed7953\"],[0.7777777777777778,\"#fb9f3a\"],[0.8888888888888888,\"#fdca26\"],[1.0,\"#f0f921\"]],\"type\":\"histogram2d\"}],\"histogram\":[{\"marker\":{\"pattern\":{\"fillmode\":\"overlay\",\"size\":10,\"solidity\":0.2}},\"type\":\"histogram\"}],\"mesh3d\":[{\"colorbar\":{\"outlinewidth\":0,\"ticks\":\"\"},\"type\":\"mesh3d\"}],\"parcoords\":[{\"line\":{\"colorbar\":{\"outlinewidth\":0,\"ticks\":\"\"}},\"type\":\"parcoords\"}],\"pie\":[{\"automargin\":true,\"type\":\"pie\"}],\"scatter3d\":[{\"line\":{\"colorbar\":{\"outlinewidth\":0,\"ticks\":\"\"}},\"marker\":{\"colorbar\":{\"outlinewidth\":0,\"ticks\":\"\"}},\"type\":\"scatter3d\"}],\"scattercarpet\":[{\"marker\":{\"colorbar\":{\"outlinewidth\":0,\"ticks\":\"\"}},\"type\":\"scattercarpet\"}],\"scattergeo\":[{\"marker\":{\"colorbar\":{\"outlinewidth\":0,\"ticks\":\"\"}},\"type\":\"scattergeo\"}],\"scattergl\":[{\"marker\":{\"colorbar\":{\"outlinewidth\":0,\"ticks\":\"\"}},\"type\":\"scattergl\"}],\"scattermapbox\":[{\"marker\":{\"colorbar\":{\"outlinewidth\":0,\"ticks\":\"\"}},\"type\":\"scattermapbox\"}],\"scatterpolargl\":[{\"marker\":{\"colorbar\":{\"outlinewidth\":0,\"ticks\":\"\"}},\"type\":\"scatterpolargl\"}],\"scatterpolar\":[{\"marker\":{\"colorbar\":{\"outlinewidth\":0,\"ticks\":\"\"}},\"type\":\"scatterpolar\"}],\"scatter\":[{\"fillpattern\":{\"fillmode\":\"overlay\",\"size\":10,\"solidity\":0.2},\"type\":\"scatter\"}],\"scatterternary\":[{\"marker\":{\"colorbar\":{\"outlinewidth\":0,\"ticks\":\"\"}},\"type\":\"scatterternary\"}],\"surface\":[{\"colorbar\":{\"outlinewidth\":0,\"ticks\":\"\"},\"colorscale\":[[0.0,\"#0d0887\"],[0.1111111111111111,\"#46039f\"],[0.2222222222222222,\"#7201a8\"],[0.3333333333333333,\"#9c179e\"],[0.4444444444444444,\"#bd3786\"],[0.5555555555555556,\"#d8576b\"],[0.6666666666666666,\"#ed7953\"],[0.7777777777777778,\"#fb9f3a\"],[0.8888888888888888,\"#fdca26\"],[1.0,\"#f0f921\"]],\"type\":\"surface\"}],\"table\":[{\"cells\":{\"fill\":{\"color\":\"#EBF0F8\"},\"line\":{\"color\":\"white\"}},\"header\":{\"fill\":{\"color\":\"#C8D4E3\"},\"line\":{\"color\":\"white\"}},\"type\":\"table\"}]},\"layout\":{\"annotationdefaults\":{\"arrowcolor\":\"#2a3f5f\",\"arrowhead\":0,\"arrowwidth\":1},\"autotypenumbers\":\"strict\",\"coloraxis\":{\"colorbar\":{\"outlinewidth\":0,\"ticks\":\"\"}},\"colorscale\":{\"diverging\":[[0,\"#8e0152\"],[0.1,\"#c51b7d\"],[0.2,\"#de77ae\"],[0.3,\"#f1b6da\"],[0.4,\"#fde0ef\"],[0.5,\"#f7f7f7\"],[0.6,\"#e6f5d0\"],[0.7,\"#b8e186\"],[0.8,\"#7fbc41\"],[0.9,\"#4d9221\"],[1,\"#276419\"]],\"sequential\":[[0.0,\"#0d0887\"],[0.1111111111111111,\"#46039f\"],[0.2222222222222222,\"#7201a8\"],[0.3333333333333333,\"#9c179e\"],[0.4444444444444444,\"#bd3786\"],[0.5555555555555556,\"#d8576b\"],[0.6666666666666666,\"#ed7953\"],[0.7777777777777778,\"#fb9f3a\"],[0.8888888888888888,\"#fdca26\"],[1.0,\"#f0f921\"]],\"sequentialminus\":[[0.0,\"#0d0887\"],[0.1111111111111111,\"#46039f\"],[0.2222222222222222,\"#7201a8\"],[0.3333333333333333,\"#9c179e\"],[0.4444444444444444,\"#bd3786\"],[0.5555555555555556,\"#d8576b\"],[0.6666666666666666,\"#ed7953\"],[0.7777777777777778,\"#fb9f3a\"],[0.8888888888888888,\"#fdca26\"],[1.0,\"#f0f921\"]]},\"colorway\":[\"#636efa\",\"#EF553B\",\"#00cc96\",\"#ab63fa\",\"#FFA15A\",\"#19d3f3\",\"#FF6692\",\"#B6E880\",\"#FF97FF\",\"#FECB52\"],\"font\":{\"color\":\"#2a3f5f\"},\"geo\":{\"bgcolor\":\"white\",\"lakecolor\":\"white\",\"landcolor\":\"white\",\"showlakes\":true,\"showland\":true,\"subunitcolor\":\"#C8D4E3\"},\"hoverlabel\":{\"align\":\"left\"},\"hovermode\":\"closest\",\"mapbox\":{\"style\":\"light\"},\"paper_bgcolor\":\"white\",\"plot_bgcolor\":\"white\",\"polar\":{\"angularaxis\":{\"gridcolor\":\"#EBF0F8\",\"linecolor\":\"#EBF0F8\",\"ticks\":\"\"},\"bgcolor\":\"white\",\"radialaxis\":{\"gridcolor\":\"#EBF0F8\",\"linecolor\":\"#EBF0F8\",\"ticks\":\"\"}},\"scene\":{\"xaxis\":{\"backgroundcolor\":\"white\",\"gridcolor\":\"#DFE8F3\",\"gridwidth\":2,\"linecolor\":\"#EBF0F8\",\"showbackground\":true,\"ticks\":\"\",\"zerolinecolor\":\"#EBF0F8\"},\"yaxis\":{\"backgroundcolor\":\"white\",\"gridcolor\":\"#DFE8F3\",\"gridwidth\":2,\"linecolor\":\"#EBF0F8\",\"showbackground\":true,\"ticks\":\"\",\"zerolinecolor\":\"#EBF0F8\"},\"zaxis\":{\"backgroundcolor\":\"white\",\"gridcolor\":\"#DFE8F3\",\"gridwidth\":2,\"linecolor\":\"#EBF0F8\",\"showbackground\":true,\"ticks\":\"\",\"zerolinecolor\":\"#EBF0F8\"}},\"shapedefaults\":{\"line\":{\"color\":\"#2a3f5f\"}},\"ternary\":{\"aaxis\":{\"gridcolor\":\"#DFE8F3\",\"linecolor\":\"#A2B1C6\",\"ticks\":\"\"},\"baxis\":{\"gridcolor\":\"#DFE8F3\",\"linecolor\":\"#A2B1C6\",\"ticks\":\"\"},\"bgcolor\":\"white\",\"caxis\":{\"gridcolor\":\"#DFE8F3\",\"linecolor\":\"#A2B1C6\",\"ticks\":\"\"}},\"title\":{\"x\":0.05},\"xaxis\":{\"automargin\":true,\"gridcolor\":\"#EBF0F8\",\"linecolor\":\"#EBF0F8\",\"ticks\":\"\",\"title\":{\"standoff\":15},\"zerolinecolor\":\"#EBF0F8\",\"zerolinewidth\":2},\"yaxis\":{\"automargin\":true,\"gridcolor\":\"#EBF0F8\",\"linecolor\":\"#EBF0F8\",\"ticks\":\"\",\"title\":{\"standoff\":15},\"zerolinecolor\":\"#EBF0F8\",\"zerolinewidth\":2}}},\"scene\":{\"domain\":{\"x\":[0.0,1.0],\"y\":[0.0,1.0]},\"xaxis\":{\"title\":{\"text\":\"x\"}},\"yaxis\":{\"title\":{\"text\":\"y\"}},\"zaxis\":{\"title\":{\"text\":\"z\"}}},\"legend\":{\"title\":{\"text\":\"sense, BIC_default_sub\"},\"tracegroupgap\":0},\"margin\":{\"t\":60},\"title\":{\"text\":\"Clusters Avocat\\u003cbr\\u003e\",\"y\":0.9,\"x\":0.5,\"xanchor\":\"center\",\"yanchor\":\"top\"}},                        {\"responsive\": true}                    ).then(function(){\n                            \nvar gd = document.getElementById('bc5378e2-a1c4-4ec4-8620-bcd6ed89da53');\nvar x = new MutationObserver(function (mutations, observer) {{\n        var display = window.getComputedStyle(gd).display;\n        if (!display || display === 'none') {{\n            console.log([gd, 'removed!']);\n            Plotly.purge(gd);\n            observer.disconnect();\n        }}\n}});\n\n// Listen for the removal of the full notebook cells\nvar notebookContainer = gd.closest('#notebook-container');\nif (notebookContainer) {{\n    x.observe(notebookContainer, {childList: true});\n}}\n\n// Listen for the clearing of the current output cell\nvar outputEl = gd.closest('.output');\nif (outputEl) {{\n    x.observe(outputEl, {childList: true});\n}}\n\n                        })                };                });            </script>        </div>"
     },
     "metadata": {},
     "output_type": "display_data"
    }
   ],
   "source": [
    "fig_3d_cluster = px.scatter_3d(df_vis, x=\"x\", y=\"y\", z=\"z\", color=\"sense\", symbol=\"BIC_default_sub\",\n",
    "                 hover_data='match',\n",
    "                 template=\"plotly_white\")\n",
    "fig_3d_cluster.update_layout(\n",
    "    title={\n",
    "        'text': f\"Clusters Avocat<br>\"\n",
    "        , #f\"<sub><br>Clustering score: {percentage_weighted:.2f}%</sub>\",\n",
    "        'y':0.9,\n",
    "        'x':0.5,\n",
    "        'xanchor': 'center',\n",
    "        'yanchor': 'top'})\n",
    "fig_3d_cluster.show()"
   ],
   "metadata": {
    "collapsed": false,
    "ExecuteTime": {
     "end_time": "2024-05-20T20:39:40.425338Z",
     "start_time": "2024-05-20T20:39:40.342321Z"
    }
   },
   "id": "29882db73dd74ce4",
   "execution_count": 31
  },
  {
   "cell_type": "code",
   "outputs": [],
   "source": [],
   "metadata": {
    "collapsed": false
   },
   "id": "4290e97533903f54"
  }
 ],
 "metadata": {
  "kernelspec": {
   "display_name": "Python 3 (ipykernel)",
   "language": "python",
   "name": "python3"
  },
  "language_info": {
   "codemirror_mode": {
    "name": "ipython",
    "version": 3
   },
   "file_extension": ".py",
   "mimetype": "text/x-python",
   "name": "python",
   "nbconvert_exporter": "python",
   "pygments_lexer": "ipython3",
   "version": "3.11.7"
  }
 },
 "nbformat": 4,
 "nbformat_minor": 5
}
