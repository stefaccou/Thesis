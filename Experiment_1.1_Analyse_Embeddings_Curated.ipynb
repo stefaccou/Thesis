{
 "cells": [
  {
   "cell_type": "markdown",
   "source": [
    "# Experiment 1: Clustering on the \"curated\" dataset\n"
   ],
   "metadata": {
    "collapsed": false
   },
   "id": "db7d278e76a7f0d"
  },
  {
   "cell_type": "code",
   "execution_count": 1,
   "id": "initial_id",
   "metadata": {
    "collapsed": true,
    "ExecuteTime": {
     "end_time": "2024-05-25T10:41:52.692373Z",
     "start_time": "2024-05-25T10:41:46.524500Z"
    }
   },
   "outputs": [],
   "source": [
    "import pandas as pd\n",
    "import os\n",
    "import plotly.express as px\n",
    "from sklearn.metrics.cluster import v_measure_score, adjusted_rand_score\n",
    "from sklearn.metrics import normalized_mutual_info_score\n",
    "import numpy as np\n",
    "import statistics\n",
    "import openpyxl"
   ]
  },
  {
   "cell_type": "code",
   "outputs": [
    {
     "name": "stderr",
     "output_type": "stream",
     "text": [
      "C:\\Users\\stefa\\anaconda3\\envs\\Thesis\\Lib\\site-packages\\transformers\\utils\\generic.py:260: UserWarning: torch.utils._pytree._register_pytree_node is deprecated. Please use torch.utils._pytree.register_pytree_node instead.\n",
      "  torch.utils._pytree._register_pytree_node(\n"
     ]
    },
    {
     "name": "stdout",
     "output_type": "stream",
     "text": [
      " Camembert, with the words: ['Avocat', 'Bien', 'Bureau', 'Faculté', 'Filer', 'Glace', 'Souris', 'Supporter', 'Tirer', 'Tour', 'Vol']\n",
      " ------------------------- \n",
      "\n",
      "\n",
      "\n",
      "Running Avocat with Camembert. Word 1 out of 11\n",
      "84 left of 107 original sentences\n",
      "Optimal number of clusters: 3\n",
      "Score for each sense\n",
      "avocado    100.000000\n",
      "lawyer      64.285714\n",
      "Name: default, dtype: float64\n",
      "Overall score 76.19047619047619\n",
      "Removed 0 clusters, which removed 0 points\n",
      "\t Running experiment with automatic download\n",
      "524 left of 605 sentences\n",
      "Optimal number of clusters: 3\n",
      "Removed 0 clusters\n",
      "Score for each sense\n",
      "avocado    100.000000\n",
      "lawyer      60.714286\n",
      "Name: default, dtype: float64\n",
      "Overall score 73.80952380952381\n",
      "\n",
      "\n",
      "Running Bien with Camembert. Word 2 out of 11\n",
      "98 left of 99 original sentences\n",
      "Optimal number of clusters: 4\n",
      "Score for each sense\n",
      "good          86.206897\n",
      "property      69.387755\n",
      "wellbeing    100.000000\n",
      "Name: default, dtype: float64\n",
      "Overall score 80.61224489795919\n",
      "Removed 0 clusters, which removed 0 points\n",
      "\t Running experiment with automatic download\n",
      "575 left of 599 sentences\n",
      "Optimal number of clusters: 6\n",
      "Removed 0 clusters\n",
      "Score for each sense\n",
      "good         68.965517\n",
      "property     77.551020\n",
      "wellbeing    95.000000\n",
      "Name: default, dtype: float64\n",
      "Overall score 78.57142857142857\n",
      "\n",
      "\n",
      "Running Bureau with Camembert. Word 3 out of 11\n",
      "103 left of 123 original sentences\n",
      "Optimal number of clusters: 2\n",
      "Score for each sense\n",
      "cabinet      0.0\n",
      "desk       100.0\n",
      "office      50.0\n",
      "Name: default, dtype: float64\n",
      "Overall score 60.19417475728155\n",
      "Removed 0 clusters, which removed 0 points\n",
      "\t Running experiment with automatic download\n",
      "595 left of 618 sentences\n",
      "Optimal number of clusters: 4\n",
      "Removed 0 clusters\n",
      "Score for each sense\n",
      "cabinet    57.142857\n",
      "desk       74.285714\n",
      "office     33.333333\n",
      "Name: default, dtype: float64\n",
      "Overall score 50.48543689320388\n",
      "\n",
      "\n",
      "Running Faculté with Camembert. Word 4 out of 11\n",
      "80 left of 106 original sentences\n",
      "Optimal number of clusters: 2\n",
      "Score for each sense\n",
      "ability        0.000000\n",
      "competence    71.428571\n",
      "university    59.459459\n",
      "Name: default, dtype: float64\n",
      "Overall score 52.5\n",
      "Removed 0 clusters, which removed 0 points\n",
      "\t Running experiment with automatic download\n",
      "560 left of 591 sentences\n",
      "Optimal number of clusters: 5\n",
      "Removed 0 clusters\n",
      "Score for each sense\n",
      "ability       93.333333\n",
      "competence    96.428571\n",
      "university    59.459459\n",
      "Name: default, dtype: float64\n",
      "Overall score 78.75\n",
      "\n",
      "\n",
      "Running Filer with Camembert. Word 5 out of 11\n",
      "96 left of 96 original sentences\n",
      "Optimal number of clusters: 3\n",
      "Score for each sense\n",
      "give         44.827586\n",
      "slip away    91.489362\n",
      "spinning     95.000000\n",
      "Name: default, dtype: float64\n",
      "Overall score 78.125\n",
      "Removed 0 clusters, which removed 0 points\n",
      "\t Running experiment with automatic download\n",
      "588 left of 596 sentences\n",
      "Optimal number of clusters: 6\n",
      "Removed 0 clusters\n",
      "Score for each sense\n",
      "give         93.103448\n",
      "slip away    78.723404\n",
      "spinning     60.000000\n",
      "Name: default, dtype: float64\n",
      "Overall score 79.16666666666666\n",
      "\n",
      "\n",
      "Running Glace with Camembert. Word 6 out of 11\n",
      "123 left of 152 original sentences\n",
      "Optimal number of clusters: 5\n",
      "Score for each sense\n",
      "glass              55.555556\n",
      "ice                71.186441\n",
      "ice cream          55.000000\n",
      "mirror            100.000000\n",
      "powdered sugar    100.000000\n",
      "Name: default, dtype: float64\n",
      "Overall score 75.60975609756098\n",
      "Removed 0 clusters, which removed 0 points\n",
      "\t Running experiment with automatic download\n",
      "510 left of 652 sentences\n",
      "Optimal number of clusters: 4\n",
      "Removed 0 clusters\n",
      "Score for each sense\n",
      "glass             55.555556\n",
      "ice               64.406780\n",
      "ice cream         85.000000\n",
      "mirror            73.076923\n",
      "powdered sugar     0.000000\n",
      "Name: default, dtype: float64\n",
      "Overall score 64.22764227642277\n",
      "\n",
      "\n",
      "Running Souris with Camembert. Word 7 out of 11\n",
      "68 left of 68 original sentences\n",
      "Optimal number of clusters: 7\n",
      "Score for each sense\n",
      "bat        90.000000\n",
      "pointer    59.259259\n",
      "rodent     35.483871\n",
      "Name: default, dtype: float64\n",
      "Overall score 52.94117647058824\n",
      "Removed 1 clusters, which removed 1 points\n",
      "\t Running experiment with automatic download\n",
      "540 left of 567 sentences\n",
      "Optimal number of clusters: 6\n",
      "Removed 0 clusters\n",
      "Score for each sense\n",
      "bat        20.000000\n",
      "pointer    62.962963\n",
      "rodent     58.064516\n",
      "Name: default, dtype: float64\n",
      "Overall score 54.41176470588235\n",
      "\n",
      "\n",
      "Running Supporter with Camembert. Word 8 out of 11\n",
      "55 left of 74 original sentences\n",
      "Optimal number of clusters: 9\n",
      "Score for each sense\n",
      "endure     46.428571\n",
      "fan        66.666667\n",
      "hold up    40.000000\n",
      "Name: default, dtype: float64\n",
      "Overall score 49.09090909090909\n",
      "Removed 3 clusters, which removed 6 points\n",
      "\t Running experiment with automatic download\n",
      "554 left of 574 sentences\n",
      "Optimal number of clusters: 5\n",
      "Removed 0 clusters\n",
      "Score for each sense\n",
      "endure      57.142857\n",
      "fan        100.000000\n",
      "hold up     53.333333\n",
      "Name: default, dtype: float64\n",
      "Overall score 65.45454545454545\n",
      "\n",
      "\n",
      "Running Tirer with Camembert. Word 9 out of 11\n",
      "104 left of 106 original sentences\n",
      "Optimal number of clusters: 3\n",
      "Score for each sense\n",
      "pull     100.000000\n",
      "shoot     68.918919\n",
      "Name: default, dtype: float64\n",
      "Overall score 77.88461538461539\n",
      "Removed 0 clusters, which removed 0 points\n",
      "\t Running experiment with automatic download\n",
      "Error with sentence: OK ! le bouton d'ouverture est a \" pousser-tirer \" ou a tourner(vis) ?\n",
      "603 left of 606 sentences\n",
      "Optimal number of clusters: 3\n",
      "Removed 0 clusters\n",
      "Score for each sense\n",
      "pull      0.000000\n",
      "shoot    77.027027\n",
      "Name: default, dtype: float64\n",
      "Overall score 54.807692307692314\n",
      "\n",
      "\n",
      "Running Tour with Camembert. Word 10 out of 11\n",
      "74 left of 97 original sentences\n",
      "Optimal number of clusters: 4\n",
      "Score for each sense\n",
      "lap       93.750000\n",
      "round    100.000000\n",
      "tower      0.000000\n",
      "trick     92.857143\n",
      "turn      58.333333\n",
      "Name: default, dtype: float64\n",
      "Overall score 75.67567567567568\n",
      "Removed 0 clusters, which removed 0 points\n",
      "\t Running experiment with automatic download\n",
      "551 left of 582 sentences\n",
      "Optimal number of clusters: 7\n",
      "Removed 0 clusters\n",
      "Score for each sense\n",
      "lap       18.750000\n",
      "round    100.000000\n",
      "tower    100.000000\n",
      "trick    100.000000\n",
      "turn      54.166667\n",
      "Name: default, dtype: float64\n",
      "Overall score 67.56756756756756\n",
      "\n",
      "\n",
      "Running Vol with Camembert. Word 11 out of 11\n",
      "85 left of 90 original sentences\n",
      "Optimal number of clusters: 3\n",
      "Score for each sense\n",
      "flight     51.666667\n",
      "theft     100.000000\n",
      "Name: default, dtype: float64\n",
      "Overall score 65.88235294117646\n",
      "Removed 0 clusters, which removed 0 points\n",
      "\t Running experiment with automatic download\n",
      "554 left of 586 sentences\n",
      "Optimal number of clusters: 6\n",
      "Removed 0 clusters\n",
      "Score for each sense\n",
      "flight    51.666667\n",
      "theft     92.000000\n",
      "Name: default, dtype: float64\n",
      "Overall score 63.52941176470588\n",
      " Flaubert, with the words: ['Avocat', 'Bien', 'Bureau', 'Faculté', 'Filer', 'Glace', 'Souris', 'Supporter', 'Tirer', 'Tour', 'Vol']\n",
      " ------------------------- \n",
      "\n",
      "\n",
      "\n",
      "Running Avocat with Flaubert. Word 1 out of 11\n",
      "84 left of 107 original sentences\n",
      "Optimal number of clusters: 3\n",
      "Score for each sense\n",
      "avocado    82.142857\n",
      "lawyer     94.642857\n",
      "Name: default, dtype: float64\n",
      "Overall score 90.47619047619048\n",
      "Removed 0 clusters, which removed 0 points\n",
      "\t Running experiment with automatic download\n",
      "524 left of 605 sentences\n",
      "Optimal number of clusters: 5\n",
      "Removed 0 clusters\n",
      "Score for each sense\n",
      "avocado    82.142857\n",
      "lawyer     39.285714\n",
      "Name: default, dtype: float64\n",
      "Overall score 53.57142857142857\n",
      "\n",
      "\n",
      "Running Bien with Flaubert. Word 2 out of 11\n",
      "98 left of 99 original sentences\n",
      "Optimal number of clusters: 3\n",
      "Score for each sense\n",
      "good          96.551724\n",
      "property     100.000000\n",
      "wellbeing    100.000000\n",
      "Name: default, dtype: float64\n",
      "Overall score 98.9795918367347\n",
      "Removed 0 clusters, which removed 0 points\n",
      "\t Running experiment with automatic download\n",
      "575 left of 599 sentences\n",
      "Optimal number of clusters: 6\n",
      "Removed 0 clusters\n",
      "Score for each sense\n",
      "good         72.413793\n",
      "property     69.387755\n",
      "wellbeing    90.000000\n",
      "Name: default, dtype: float64\n",
      "Overall score 74.48979591836735\n",
      "\n",
      "\n",
      "Running Bureau with Flaubert. Word 3 out of 11\n",
      "103 left of 123 original sentences\n",
      "Optimal number of clusters: 2\n",
      "Score for each sense\n",
      "cabinet      0.000000\n",
      "desk       100.000000\n",
      "office      40.740741\n",
      "Name: default, dtype: float64\n",
      "Overall score 55.33980582524271\n",
      "Removed 0 clusters, which removed 0 points\n",
      "\t Running experiment with automatic download\n",
      "595 left of 618 sentences\n",
      "Optimal number of clusters: 4\n",
      "Removed 0 clusters\n",
      "Score for each sense\n",
      "cabinet    14.285714\n",
      "desk       91.428571\n",
      "office     35.185185\n",
      "Name: default, dtype: float64\n",
      "Overall score 51.45631067961165\n",
      "\n",
      "\n",
      "Running Faculté with Flaubert. Word 4 out of 11\n",
      "80 left of 106 original sentences\n",
      "Optimal number of clusters: 2\n",
      "Score for each sense\n",
      "ability         0.0\n",
      "competence    100.0\n",
      "university    100.0\n",
      "Name: default, dtype: float64\n",
      "Overall score 81.25\n",
      "Removed 0 clusters, which removed 0 points\n",
      "\t Running experiment with automatic download\n",
      "560 left of 591 sentences\n",
      "Optimal number of clusters: 5\n",
      "Removed 0 clusters\n",
      "Score for each sense\n",
      "ability       93.333333\n",
      "competence    71.428571\n",
      "university    56.756757\n",
      "Name: default, dtype: float64\n",
      "Overall score 68.75\n",
      "\n",
      "\n",
      "Running Filer with Flaubert. Word 5 out of 11\n",
      "96 left of 96 original sentences\n",
      "Optimal number of clusters: 4\n",
      "Score for each sense\n",
      "give         100.000000\n",
      "slip away     74.468085\n",
      "spinning     100.000000\n",
      "Name: default, dtype: float64\n",
      "Overall score 87.5\n",
      "Removed 0 clusters, which removed 0 points\n",
      "\t Running experiment with automatic download\n",
      "588 left of 596 sentences\n",
      "Optimal number of clusters: 5\n",
      "Removed 0 clusters\n",
      "Score for each sense\n",
      "give         51.724138\n",
      "slip away    63.829787\n",
      "spinning     60.000000\n",
      "Name: default, dtype: float64\n",
      "Overall score 59.375\n",
      "\n",
      "\n",
      "Running Glace with Flaubert. Word 6 out of 11\n",
      "123 left of 152 original sentences\n",
      "Optimal number of clusters: 4\n",
      "Score for each sense\n",
      "glass              55.555556\n",
      "ice                77.966102\n",
      "ice cream           0.000000\n",
      "mirror             84.615385\n",
      "powdered sugar    100.000000\n",
      "Name: default, dtype: float64\n",
      "Overall score 66.66666666666666\n",
      "Removed 0 clusters, which removed 0 points\n",
      "\t Running experiment with automatic download\n",
      "510 left of 652 sentences\n",
      "Optimal number of clusters: 4\n",
      "Removed 0 clusters\n",
      "Score for each sense\n",
      "glass             44.444444\n",
      "ice               42.372881\n",
      "ice cream         65.000000\n",
      "mirror            57.692308\n",
      "powdered sugar     0.000000\n",
      "Name: default, dtype: float64\n",
      "Overall score 46.34146341463415\n",
      "\n",
      "\n",
      "Running Souris with Flaubert. Word 7 out of 11\n",
      "68 left of 68 original sentences\n",
      "Optimal number of clusters: 9\n",
      "Score for each sense\n",
      "bat        80.000000\n",
      "pointer    40.740741\n",
      "rodent     41.935484\n",
      "Name: default, dtype: float64\n",
      "Overall score 47.05882352941176\n",
      "Removed 2 clusters, which removed 4 points\n",
      "\t Running experiment with automatic download\n",
      "540 left of 567 sentences\n",
      "Optimal number of clusters: 6\n",
      "Removed 0 clusters\n",
      "Score for each sense\n",
      "bat        40.000000\n",
      "pointer    66.666667\n",
      "rodent     61.290323\n",
      "Name: default, dtype: float64\n",
      "Overall score 60.29411764705882\n",
      "\n",
      "\n",
      "Running Supporter with Flaubert. Word 8 out of 11\n",
      "55 left of 74 original sentences\n",
      "Optimal number of clusters: 10\n",
      "Score for each sense\n",
      "endure     28.571429\n",
      "fan        41.666667\n",
      "hold up    33.333333\n",
      "Name: default, dtype: float64\n",
      "Overall score 32.72727272727273\n",
      "Removed 1 clusters, which removed 2 points\n",
      "\t Running experiment with automatic download\n",
      "554 left of 574 sentences\n",
      "Optimal number of clusters: 5\n",
      "Removed 0 clusters\n",
      "Score for each sense\n",
      "endure     50.000000\n",
      "fan        75.000000\n",
      "hold up    46.666667\n",
      "Name: default, dtype: float64\n",
      "Overall score 54.54545454545454\n",
      "\n",
      "\n",
      "Running Tirer with Flaubert. Word 9 out of 11\n",
      "104 left of 106 original sentences\n",
      "Optimal number of clusters: 3\n",
      "Score for each sense\n",
      "pull     86.666667\n",
      "shoot    43.243243\n",
      "Name: default, dtype: float64\n",
      "Overall score 55.769230769230774\n",
      "Removed 0 clusters, which removed 0 points\n",
      "\t Running experiment with automatic download\n",
      "604 left of 606 sentences\n",
      "Optimal number of clusters: 6\n",
      "Removed 0 clusters\n",
      "Score for each sense\n",
      "pull     30.000000\n",
      "shoot    82.432432\n",
      "Name: default, dtype: float64\n",
      "Overall score 67.3076923076923\n",
      "\n",
      "\n",
      "Running Tour with Flaubert. Word 10 out of 11\n",
      "74 left of 97 original sentences\n",
      "Optimal number of clusters: 8\n",
      "Score for each sense\n",
      "lap       75.000000\n",
      "round    100.000000\n",
      "tower    100.000000\n",
      "trick     85.714286\n",
      "turn      33.333333\n",
      "Name: default, dtype: float64\n",
      "Overall score 70.27027027027027\n",
      "Removed 0 clusters, which removed 0 points\n",
      "\t Running experiment with automatic download\n",
      "551 left of 582 sentences\n",
      "Optimal number of clusters: 6\n",
      "Removed 0 clusters\n",
      "Score for each sense\n",
      "lap       93.750000\n",
      "round    100.000000\n",
      "tower    100.000000\n",
      "trick     35.714286\n",
      "turn      66.666667\n",
      "Name: default, dtype: float64\n",
      "Overall score 75.67567567567568\n",
      "\n",
      "\n",
      "Running Vol with Flaubert. Word 11 out of 11\n",
      "85 left of 90 original sentences\n",
      "Optimal number of clusters: 3\n",
      "Score for each sense\n",
      "flight     85.0\n",
      "theft     100.0\n",
      "Name: default, dtype: float64\n",
      "Overall score 89.41176470588236\n",
      "Removed 0 clusters, which removed 0 points\n",
      "\t Running experiment with automatic download\n",
      "554 left of 586 sentences\n",
      "Optimal number of clusters: 4\n",
      "Removed 0 clusters\n",
      "Score for each sense\n",
      "flight     86.666667\n",
      "theft     100.000000\n",
      "Name: default, dtype: float64\n",
      "Overall score 90.58823529411765\n"
     ]
    }
   ],
   "source": [
    "from Experiment_1 import run\n",
    "#run(\"CamemBERT\")\n",
    "#run(\"FlauBERT\")"
   ],
   "metadata": {
    "collapsed": false,
    "ExecuteTime": {
     "end_time": "2024-05-17T19:52:20.532283Z",
     "start_time": "2024-05-17T19:47:58.266271Z"
    }
   },
   "id": "dcadd4e91af90a99",
   "execution_count": 2
  },
  {
   "cell_type": "markdown",
   "source": [
    "The second part of this notebook only works if the first part has been ran with both 'Flaubert' and 'Camembert' as model names."
   ],
   "metadata": {
    "collapsed": false
   },
   "id": "ff04d9fc55049525"
  },
  {
   "cell_type": "code",
   "outputs": [],
   "source": [
    "model_name = \"Flaubert\" # \"Camembert\" or \"Flaubert\""
   ],
   "metadata": {
    "collapsed": false,
    "ExecuteTime": {
     "end_time": "2024-05-25T10:42:51.350423Z",
     "start_time": "2024-05-25T10:42:51.345421Z"
    }
   },
   "id": "ce0298e459624da1",
   "execution_count": 3
  },
  {
   "cell_type": "code",
   "outputs": [
    {
     "name": "stdout",
     "output_type": "stream",
     "text": [
      "Avocat\n",
      "Number of senses: 2\n",
      "Score for each sense\n",
      "avocado    82.142857\n",
      "lawyer     94.642857\n",
      "Name: default, dtype: float64\n",
      "Overall score 90.47619047619048\n",
      "Weighted score 88.39285714285714\n",
      "Harmonic mean 87.95093795093794\n",
      "V-measure score 70.20502716093677\n",
      "Adjusted Rand score 80.36426589295034\n",
      "Adjusted mutual info score 70.20502716093677\n",
      "All-in-one score 66.66666666666666 \n",
      "\n",
      "\n",
      "Bien\n",
      "Number of senses: 3\n",
      "Score for each sense\n",
      "good          96.551724\n",
      "property     100.000000\n",
      "wellbeing    100.000000\n",
      "Name: default, dtype: float64\n",
      "Overall score 98.9795918367347\n",
      "Weighted score 98.85057471264368\n",
      "Harmonic mean 98.82352941176471\n",
      "V-measure score 95.41014187403705\n",
      "Adjusted Rand score 96.54410605877042\n",
      "Adjusted mutual info score 95.41014187403705\n",
      "All-in-one score 50.0 \n",
      "\n",
      "\n",
      "Bureau\n",
      "Number of senses: 3\n",
      "Score for each sense\n",
      "cabinet      0.000000\n",
      "desk       100.000000\n",
      "office      40.740741\n",
      "Name: default, dtype: float64\n",
      "Overall score 55.33980582524271\n",
      "Weighted score 46.91358024691358\n",
      "Harmonic mean 0\n",
      "V-measure score 36.06389452968297\n",
      "Adjusted Rand score 20.093239095349606\n",
      "Adjusted mutual info score 36.06389452968297\n",
      "All-in-one score 52.42718446601942 \n",
      "\n",
      "\n",
      "Faculté\n",
      "Number of senses: 3\n",
      "Score for each sense\n",
      "ability         0.0\n",
      "competence    100.0\n",
      "university    100.0\n",
      "Name: default, dtype: float64\n",
      "Overall score 81.25\n",
      "Weighted score 66.66666666666666\n",
      "Harmonic mean 0\n",
      "V-measure score 79.88668250065365\n",
      "Adjusted Rand score 73.36714213301259\n",
      "Adjusted mutual info score 79.88668250065365\n",
      "All-in-one score 46.25 \n",
      "\n",
      "\n",
      "Filer\n",
      "Number of senses: 3\n",
      "Score for each sense\n",
      "give         100.000000\n",
      "slip away     74.468085\n",
      "spinning     100.000000\n",
      "Name: default, dtype: float64\n",
      "Overall score 87.5\n",
      "Weighted score 91.48936170212765\n",
      "Harmonic mean 89.74358974358974\n",
      "V-measure score 88.18594500715287\n",
      "Adjusted Rand score 79.09868993574418\n",
      "Adjusted mutual info score 88.18594500715287\n",
      "All-in-one score 48.95833333333333 \n",
      "\n",
      "\n",
      "Glace\n",
      "Number of senses: 5\n",
      "Score for each sense\n",
      "glass              55.555556\n",
      "ice                77.966102\n",
      "ice cream           0.000000\n",
      "mirror             84.615385\n",
      "powdered sugar    100.000000\n",
      "Name: default, dtype: float64\n",
      "Overall score 66.66666666666666\n",
      "Weighted score 63.62740837317109\n",
      "Harmonic mean 0\n",
      "V-measure score 46.43790540203866\n",
      "Adjusted Rand score 42.594387603342234\n",
      "Adjusted mutual info score 46.43790540203866\n",
      "All-in-one score 47.96747967479675 \n",
      "\n",
      "\n",
      "Souris\n",
      "Number of senses: 3\n",
      "Score for each sense\n",
      "bat        80.000000\n",
      "pointer    40.740741\n",
      "rodent     41.935484\n",
      "Name: default, dtype: float64\n",
      "Overall score 47.05882352941176\n",
      "Weighted score 54.22540820390284\n",
      "Harmonic mean 49.26787252368648\n",
      "V-measure score 53.96005727595151\n",
      "Adjusted Rand score 31.423512436199108\n",
      "Adjusted mutual info score 53.96005727595151\n",
      "All-in-one score 45.588235294117645 \n",
      "\n",
      "\n",
      "Supporter\n",
      "Number of senses: 3\n",
      "Score for each sense\n",
      "endure     28.571429\n",
      "fan        41.666667\n",
      "hold up    33.333333\n",
      "Name: default, dtype: float64\n",
      "Overall score 32.72727272727273\n",
      "Weighted score 34.52380952380952\n",
      "Harmonic mean 33.70786516853933\n",
      "V-measure score 34.922709572364106\n",
      "Adjusted Rand score 11.670053327006984\n",
      "Adjusted mutual info score 34.922709572364106\n",
      "All-in-one score 50.90909090909091 \n",
      "\n",
      "\n",
      "Tirer\n",
      "Number of senses: 2\n",
      "Score for each sense\n",
      "pull     86.666667\n",
      "shoot    43.243243\n",
      "Name: default, dtype: float64\n",
      "Overall score 55.769230769230774\n",
      "Weighted score 64.95495495495496\n",
      "Harmonic mean 57.69764216366158\n",
      "V-measure score 17.37910725675302\n",
      "Adjusted Rand score 4.877810872480883\n",
      "Adjusted mutual info score 17.379107256753016\n",
      "All-in-one score 71.15384615384616 \n",
      "\n",
      "\n",
      "Tour\n",
      "Number of senses: 5\n",
      "Score for each sense\n",
      "lap       75.000000\n",
      "round    100.000000\n",
      "tower    100.000000\n",
      "trick     85.714286\n",
      "turn      33.333333\n",
      "Name: default, dtype: float64\n",
      "Overall score 70.27027027027027\n",
      "Weighted score 78.80952380952382\n",
      "Harmonic mean 66.66666666666666\n",
      "V-measure score 72.5616091556109\n",
      "Adjusted Rand score 52.948167540933945\n",
      "Adjusted mutual info score 72.56160915561088\n",
      "All-in-one score 32.432432432432435 \n",
      "\n",
      "\n",
      "Vol\n",
      "Number of senses: 2\n",
      "Score for each sense\n",
      "flight     85.0\n",
      "theft     100.0\n",
      "Name: default, dtype: float64\n",
      "Overall score 89.41176470588236\n",
      "Weighted score 92.5\n",
      "Harmonic mean 91.89189189189189\n",
      "V-measure score 80.23925458634226\n",
      "Adjusted Rand score 74.67979473486587\n",
      "Adjusted mutual info score 80.23925458634227\n",
      "All-in-one score 70.58823529411765 \n",
      "\n"
     ]
    }
   ],
   "source": [
    "weighted_scores = {} # our original metric\n",
    "overall_scores = {} # the percentage of correct predictions across all senses\n",
    "all_in_one_cluster_overall_scores = {} # the percentage of correct predictions if no clustering would take place\n",
    "amount_senses = {} # the amount of different senses\n",
    "v_measure_scores = {} # the v-measure score\n",
    "# We also calculate a F1 score in a later code block\n",
    "rand_scores = {}\n",
    "adjusted_mutual_info_score = {}\n",
    "\n",
    "for filename in os.listdir(f\"{model_name}/Experiment_1/Curated/\"):\n",
    "    if filename.endswith(\".csv\"):\n",
    "        df = pd.read_csv(f\"{model_name}/Experiment_1/Curated/\" + filename, sep=\";\", encoding=\"utf-8\", header=0)\n",
    "        target_word = df[\"source\"][1]\n",
    "        print(target_word)\n",
    "        # We calculate the amount of different senses\n",
    "        senses = len(df[\"sense\"].unique())\n",
    "        print(\"Number of senses:\", senses)\n",
    "        percentage_default = (df[\"default\"].sum() / len(df))\n",
    "        # We also calculate this separately for each \"sense\"\n",
    "        percentage_default_mean = df.groupby(\"sense\")[\"default\"].mean()\n",
    "        # We calculate a harmonic mean, as it is more representative of the overall performance\n",
    "        harmonic_mean = statistics.harmonic_mean(df.groupby(\"sense\")[\"default\"].mean())\n",
    "        # We want the mean score across all senses, as it does not mean a lot if a program can correctly define one big cluster containing most of the data and fail at all other senses.\n",
    "        percentage_weighted = percentage_default_mean.mean()\n",
    "        v_measure = v_measure_score(df[\"sense\"], df[\"cluster\"])\n",
    "        rand = adjusted_rand_score(df[\"sense\"], df[\"cluster\"])\n",
    "        mutual_info = normalized_mutual_info_score(df[\"sense\"], df[\"cluster\"])\n",
    "\n",
    "\n",
    "        print(\"Score for each\", percentage_default_mean*100)\n",
    "        print(\"Overall score\", percentage_default*100)\n",
    "        print(\"Weighted score\", percentage_weighted*100)\n",
    "        print(\"Harmonic mean\", harmonic_mean*100)\n",
    "        print(\"V-measure score\", v_measure*100)\n",
    "        print(\"Adjusted Rand score\", rand*100)\n",
    "        print(\"Adjusted mutual info score\", mutual_info*100)\n",
    "        weighted_scores[target_word] = percentage_weighted\n",
    "        overall_scores[target_word] = percentage_default\n",
    "        amount_senses[target_word] = senses\n",
    "        v_measure_scores[target_word] = v_measure\n",
    "        rand_scores[target_word] = rand\n",
    "        adjusted_mutual_info_score[target_word] = mutual_info\n",
    "        # We also calculate the score if no clustering would take place\n",
    "        default = df[\"sense\"].value_counts().idxmax()\n",
    "        \n",
    "        # We calculate the overall score: this is the percentage of this sense in the total dataframe\n",
    "        all_in_one_cluster_score = (df[\"sense\"] == default).sum() / len(df)\n",
    "        all_in_one_cluster_overall_scores[target_word] = all_in_one_cluster_score\n",
    "        print(\"All-in-one score\", all_in_one_cluster_score*100, \"\\n\\n\")"
   ],
   "metadata": {
    "collapsed": false,
    "ExecuteTime": {
     "end_time": "2024-05-25T10:43:53.278155Z",
     "start_time": "2024-05-25T10:43:53.117283Z"
    }
   },
   "id": "6557d2e044505465",
   "execution_count": 5
  },
  {
   "cell_type": "code",
   "outputs": [
    {
     "name": "stdout",
     "output_type": "stream",
     "text": [
      "Avocat\n",
      "Number of senses: 2\n",
      "Adjusted mutual info score 70.20502716093677\n",
      "Bien\n",
      "Number of senses: 3\n",
      "Adjusted mutual info score 95.41014187403705\n",
      "Bureau\n",
      "Number of senses: 3\n",
      "Adjusted mutual info score 36.06389452968297\n",
      "Faculté\n",
      "Number of senses: 3\n",
      "Adjusted mutual info score 79.88668250065365\n",
      "Filer\n",
      "Number of senses: 3\n",
      "Adjusted mutual info score 88.18594500715287\n",
      "Glace\n",
      "Number of senses: 5\n",
      "Adjusted mutual info score 46.43790540203866\n",
      "Souris\n",
      "Number of senses: 3\n",
      "Adjusted mutual info score 53.96005727595151\n",
      "Supporter\n",
      "Number of senses: 3\n",
      "Adjusted mutual info score 34.922709572364106\n",
      "Tirer\n",
      "Number of senses: 2\n",
      "Adjusted mutual info score 17.379107256753016\n",
      "Tour\n",
      "Number of senses: 5\n",
      "Adjusted mutual info score 72.56160915561088\n",
      "Vol\n",
      "Number of senses: 2\n",
      "Adjusted mutual info score 80.23925458634227\n"
     ]
    }
   ],
   "source": [
    "\n",
    "for filename in os.listdir(f\"{model_name}/Experiment_1/Curated/\"):\n",
    "    if filename.endswith(\".csv\"):\n",
    "        df = pd.read_csv(f\"{model_name}/Experiment_1/Curated/\" + filename, sep=\";\", encoding=\"utf-8\", header=0)\n",
    "        target_word = df[\"source\"][1]\n",
    "        print(target_word)\n",
    "        # We calculate the amount of different senses\n",
    "        senses = len(df[\"sense\"].unique())\n",
    "        print(\"Number of senses:\", senses)\n",
    "        mutual_info = normalized_mutual_info_score(df[\"sense\"], df[\"cluster\"])\n",
    "        adjusted_mutual_info_score[target_word] = mutual_info\n",
    "        print(\"Adjusted mutual info score\", mutual_info*100)"
   ],
   "metadata": {
    "collapsed": false,
    "ExecuteTime": {
     "end_time": "2024-05-25T10:42:54.535744Z",
     "start_time": "2024-05-25T10:42:54.277122Z"
    }
   },
   "id": "34762b86e569ff85",
   "execution_count": 4
  },
  {
   "cell_type": "markdown",
   "source": [
    "# Calculating true F1 score\n",
    "\n",
    "To have a comparable measure of cluster quality, we will calculate F1 scores\n",
    "they consist of Precision and Recall scores, and is calculated by taking their harmonic mean\n",
    "\n",
    "Precision is the amount of correct instances of a sense in its biggest cluster, divided by the number of points in that cluster\n",
    "Recall is the amount of correct instances of a sense in its biggest cluster, divided by the number of points in the sense\n",
    "\n",
    "we save these values in a dictionary of dictionaries for each target word, which in turn contain precision and recall scores for each sense\n",
    "\n",
    "\n",
    "Using skmetrics f1 does not work (gives values of 0 where it should not), so we will calculate it ourselves"
   ],
   "metadata": {
    "collapsed": false
   },
   "id": "38a21f1cf09b11d9"
  },
  {
   "cell_type": "code",
   "outputs": [
    {
     "name": "stdout",
     "output_type": "stream",
     "text": [
      "\n",
      "\n",
      " Avocat\n",
      "Number of senses: 2\n",
      "\n",
      "sense: lawyer\n",
      "instances of sense: 56\n",
      "amount of correct instances: 53\n",
      "correct cluster number: 1\n",
      "total amount of points in biggest cluster: 54\n",
      "precision: 0.9814814814814815\n",
      "recall 0.9464285714285714\n",
      "F1 0.9636363636363636\n",
      "\n",
      "sense: avocado\n",
      "instances of sense: 28\n",
      "amount of correct instances: 23\n",
      "correct cluster number: 2\n",
      "total amount of points in biggest cluster: 23\n",
      "precision: 1.0\n",
      "recall 0.8214285714285714\n",
      "F1 0.9019607843137255\n",
      "\n",
      "\n",
      " Bien\n",
      "Number of senses: 3\n",
      "\n",
      "sense: property\n",
      "instances of sense: 49\n",
      "amount of correct instances: 49\n",
      "correct cluster number: 1\n",
      "total amount of points in biggest cluster: 50\n",
      "precision: 0.98\n",
      "recall 1.0\n",
      "F1 0.9898989898989898\n",
      "\n",
      "sense: wellbeing\n",
      "instances of sense: 20\n",
      "amount of correct instances: 20\n",
      "correct cluster number: 2\n",
      "total amount of points in biggest cluster: 20\n",
      "precision: 1.0\n",
      "recall 1.0\n",
      "F1 1.0\n",
      "\n",
      "sense: good\n",
      "instances of sense: 29\n",
      "amount of correct instances: 28\n",
      "correct cluster number: 3\n",
      "total amount of points in biggest cluster: 28\n",
      "precision: 1.0\n",
      "recall 0.9655172413793104\n",
      "F1 0.9824561403508772\n",
      "\n",
      "\n",
      " Bureau\n",
      "Number of senses: 3\n",
      "\n",
      "sense: desk\n",
      "instances of sense: 35\n",
      "amount of correct instances: 35\n",
      "correct cluster number: 1\n",
      "total amount of points in biggest cluster: 67\n",
      "precision: 0.5223880597014925\n",
      "recall 1.0\n",
      "F1 0.6862745098039216\n",
      "\n",
      "sense: cabinet\n",
      "instances of sense: 14\n",
      "amount of correct instances: 0\n",
      "correct cluster number: No cluster\n",
      "total amount of points in biggest cluster: 0\n",
      "precision zero\n",
      "precision: 0\n",
      "recall 0.0\n",
      "F1 0\n",
      "\n",
      "sense: office\n",
      "instances of sense: 54\n",
      "amount of correct instances: 22\n",
      "correct cluster number: 2\n",
      "total amount of points in biggest cluster: 36\n",
      "precision: 0.6111111111111112\n",
      "recall 0.4074074074074074\n",
      "F1 0.4888888888888889\n",
      "\n",
      "\n",
      " Faculté\n",
      "Number of senses: 3\n",
      "\n",
      "sense: university\n",
      "instances of sense: 37\n",
      "amount of correct instances: 37\n",
      "correct cluster number: 1\n",
      "total amount of points in biggest cluster: 37\n",
      "precision: 1.0\n",
      "recall 1.0\n",
      "F1 1.0\n",
      "\n",
      "sense: competence\n",
      "instances of sense: 28\n",
      "amount of correct instances: 28\n",
      "correct cluster number: 2\n",
      "total amount of points in biggest cluster: 43\n",
      "precision: 0.6511627906976745\n",
      "recall 1.0\n",
      "F1 0.7887323943661972\n",
      "\n",
      "sense: ability\n",
      "instances of sense: 15\n",
      "amount of correct instances: 0\n",
      "correct cluster number: No cluster\n",
      "total amount of points in biggest cluster: 0\n",
      "precision zero\n",
      "precision: 0\n",
      "recall 0.0\n",
      "F1 0\n",
      "\n",
      "\n",
      " Filer\n",
      "Number of senses: 3\n",
      "\n",
      "sense: slip away\n",
      "instances of sense: 47\n",
      "amount of correct instances: 35\n",
      "correct cluster number: 2\n",
      "total amount of points in biggest cluster: 35\n",
      "precision: 1.0\n",
      "recall 0.7446808510638298\n",
      "F1 0.8536585365853658\n",
      "\n",
      "sense: give\n",
      "instances of sense: 29\n",
      "amount of correct instances: 29\n",
      "correct cluster number: 1\n",
      "total amount of points in biggest cluster: 29\n",
      "precision: 1.0\n",
      "recall 1.0\n",
      "F1 1.0\n",
      "\n",
      "sense: spinning\n",
      "instances of sense: 20\n",
      "amount of correct instances: 20\n",
      "correct cluster number: 3\n",
      "total amount of points in biggest cluster: 20\n",
      "precision: 1.0\n",
      "recall 1.0\n",
      "F1 1.0\n",
      "\n",
      "\n",
      " Glace\n",
      "Number of senses: 5\n",
      "\n",
      "sense: ice\n",
      "instances of sense: 59\n",
      "amount of correct instances: 46\n",
      "correct cluster number: 3\n",
      "total amount of points in biggest cluster: 52\n",
      "precision: 0.8846153846153846\n",
      "recall 0.7796610169491526\n",
      "F1 0.8288288288288288\n",
      "\n",
      "sense: ice cream\n",
      "instances of sense: 20\n",
      "amount of correct instances: 0\n",
      "correct cluster number: No cluster\n",
      "total amount of points in biggest cluster: 0\n",
      "precision zero\n",
      "precision: 0\n",
      "recall 0.0\n",
      "F1 0\n",
      "\n",
      "sense: glass\n",
      "instances of sense: 9\n",
      "amount of correct instances: 5\n",
      "correct cluster number: 2\n",
      "total amount of points in biggest cluster: 16\n",
      "precision: 0.3125\n",
      "recall 0.5555555555555556\n",
      "F1 0.4\n",
      "\n",
      "sense: mirror\n",
      "instances of sense: 26\n",
      "amount of correct instances: 22\n",
      "correct cluster number: 1\n",
      "total amount of points in biggest cluster: 46\n",
      "precision: 0.4782608695652174\n",
      "recall 0.8461538461538461\n",
      "F1 0.6111111111111112\n",
      "\n",
      "sense: powdered sugar\n",
      "instances of sense: 9\n",
      "amount of correct instances: 9\n",
      "correct cluster number: 4\n",
      "total amount of points in biggest cluster: 9\n",
      "precision: 1.0\n",
      "recall 1.0\n",
      "F1 1.0\n",
      "\n",
      "\n",
      " Souris\n",
      "Number of senses: 3\n",
      "\n",
      "sense: bat\n",
      "instances of sense: 10\n",
      "amount of correct instances: 8\n",
      "correct cluster number: 1\n",
      "total amount of points in biggest cluster: 8\n",
      "precision: 1.0\n",
      "recall 0.8\n",
      "F1 0.8888888888888888\n",
      "\n",
      "sense: pointer\n",
      "instances of sense: 27\n",
      "amount of correct instances: 11\n",
      "correct cluster number: 8\n",
      "total amount of points in biggest cluster: 11\n",
      "precision: 1.0\n",
      "recall 0.4074074074074074\n",
      "F1 0.5789473684210527\n",
      "\n",
      "sense: rodent\n",
      "instances of sense: 31\n",
      "amount of correct instances: 13\n",
      "correct cluster number: 3\n",
      "total amount of points in biggest cluster: 15\n",
      "precision: 0.8666666666666667\n",
      "recall 0.41935483870967744\n",
      "F1 0.5652173913043479\n",
      "\n",
      "\n",
      " Supporter\n",
      "Number of senses: 3\n",
      "\n",
      "sense: endure\n",
      "instances of sense: 28\n",
      "amount of correct instances: 8\n",
      "correct cluster number: 7\n",
      "total amount of points in biggest cluster: 9\n",
      "precision: 0.8888888888888888\n",
      "recall 0.2857142857142857\n",
      "F1 0.43243243243243246\n",
      "\n",
      "sense: hold up\n",
      "instances of sense: 15\n",
      "amount of correct instances: 5\n",
      "correct cluster number: 9\n",
      "total amount of points in biggest cluster: 9\n",
      "precision: 0.5555555555555556\n",
      "recall 0.3333333333333333\n",
      "F1 0.4166666666666667\n",
      "\n",
      "sense: fan\n",
      "instances of sense: 12\n",
      "amount of correct instances: 5\n",
      "correct cluster number: 6\n",
      "total amount of points in biggest cluster: 5\n",
      "precision: 1.0\n",
      "recall 0.4166666666666667\n",
      "F1 0.5882352941176471\n",
      "\n",
      "\n",
      " Tirer\n",
      "Number of senses: 2\n",
      "\n",
      "sense: shoot\n",
      "instances of sense: 74\n",
      "amount of correct instances: 32\n",
      "correct cluster number: 1\n",
      "total amount of points in biggest cluster: 36\n",
      "precision: 0.8888888888888888\n",
      "recall 0.43243243243243246\n",
      "F1 0.5818181818181818\n",
      "\n",
      "sense: pull\n",
      "instances of sense: 30\n",
      "amount of correct instances: 26\n",
      "correct cluster number: 2\n",
      "total amount of points in biggest cluster: 51\n",
      "precision: 0.5098039215686274\n",
      "recall 0.8666666666666667\n",
      "F1 0.6419753086419753\n",
      "\n",
      "\n",
      " Tour\n",
      "Number of senses: 5\n",
      "\n",
      "sense: lap\n",
      "instances of sense: 16\n",
      "amount of correct instances: 12\n",
      "correct cluster number: 2\n",
      "total amount of points in biggest cluster: 12\n",
      "precision: 1.0\n",
      "recall 0.75\n",
      "F1 0.8571428571428572\n",
      "\n",
      "sense: trick\n",
      "instances of sense: 14\n",
      "amount of correct instances: 12\n",
      "correct cluster number: 5\n",
      "total amount of points in biggest cluster: 18\n",
      "precision: 0.6666666666666666\n",
      "recall 0.8571428571428571\n",
      "F1 0.75\n",
      "\n",
      "sense: turn\n",
      "instances of sense: 24\n",
      "amount of correct instances: 8\n",
      "correct cluster number: 1\n",
      "total amount of points in biggest cluster: 8\n",
      "precision: 1.0\n",
      "recall 0.3333333333333333\n",
      "F1 0.5\n",
      "\n",
      "sense: round\n",
      "instances of sense: 14\n",
      "amount of correct instances: 14\n",
      "correct cluster number: 3\n",
      "total amount of points in biggest cluster: 14\n",
      "precision: 1.0\n",
      "recall 1.0\n",
      "F1 1.0\n",
      "\n",
      "sense: tower\n",
      "instances of sense: 6\n",
      "amount of correct instances: 6\n",
      "correct cluster number: 6\n",
      "total amount of points in biggest cluster: 8\n",
      "precision: 0.75\n",
      "recall 1.0\n",
      "F1 0.8571428571428572\n",
      "\n",
      "\n",
      " Vol\n",
      "Number of senses: 2\n",
      "\n",
      "sense: theft\n",
      "instances of sense: 25\n",
      "amount of correct instances: 25\n",
      "correct cluster number: 2\n",
      "total amount of points in biggest cluster: 25\n",
      "precision: 1.0\n",
      "recall 1.0\n",
      "F1 1.0\n",
      "\n",
      "sense: flight\n",
      "instances of sense: 60\n",
      "amount of correct instances: 51\n",
      "correct cluster number: 3\n",
      "total amount of points in biggest cluster: 51\n",
      "precision: 1.0\n",
      "recall 0.85\n",
      "F1 0.9189189189189189\n"
     ]
    }
   ],
   "source": [
    "# We create a dictionary of dictionaries to save, for each sense, the ratings of its precision and recall\n",
    "all_scores = {}\n",
    "all_lengths = {}\n",
    "for filename in os.listdir(f\"{model_name}/Experiment_1/Curated/\"):\n",
    "    if filename.endswith(\".csv\"):\n",
    "        df_F1 = pd.read_csv(f\"{model_name}/Experiment_1/Curated/\" + filename, sep=\";\", encoding=\"utf-8\", header=0)\n",
    "\n",
    "        target_word = df_F1[\"source\"][1]\n",
    "        print(\"\\n\\n\", target_word)\n",
    "        total_df_length = len(df_F1)\n",
    "        # We calculate the amount of different senses\n",
    "        senses = len(df_F1[\"sense\"].unique())\n",
    "        print(\"Number of senses:\", senses)\n",
    "        target_word_dictionary = {}\n",
    "        target_word_lengths = {}\n",
    "        target_word_lengths[\"total\"] = total_df_length\n",
    "        for sense in df_F1[\"sense\"].unique():\n",
    "            scores = {}\n",
    "            sense_df = df_F1[df_F1[\"sense\"] == sense]\n",
    "                    #precision: number of correct instances in a cluster / total cluster size\n",
    "                    # We calculate the amount of \"default\" instances\n",
    "            sense_len = len(sense_df)\n",
    "        \n",
    "            \n",
    "            correct_df = sense_df[sense_df[\"default\"] == True]\n",
    "            correct_len = len(correct_df)\n",
    "            if correct_len > 0:\n",
    "                correct_cluster = correct_df[\"cluster\"].iloc[0]\n",
    "            else:\n",
    "                correct_cluster = \"No cluster\"\n",
    "                \n",
    "            cluster_len = len(df_F1[df_F1[\"cluster\"] == correct_cluster])\n",
    "            print(\"\\nsense:\", sense)\n",
    "            print(\"instances of sense:\", sense_len)\n",
    "            print(\"amount of correct instances:\", correct_len)\n",
    "            print(\"correct cluster number:\", correct_cluster)\n",
    "            print(\"total amount of points in biggest cluster:\", cluster_len)\n",
    "            \n",
    "            if cluster_len > 0:  \n",
    "                precision = correct_len / cluster_len\n",
    "            else:\n",
    "                precision = 0\n",
    "                print(\"precision zero\")\n",
    "            recall = correct_len / sense_len\n",
    "            print(\"precision:\", precision)\n",
    "            print(\"recall\", recall)\n",
    "            \n",
    "            F1 = statistics.harmonic_mean((precision, recall))\n",
    "            print(\"F1\", F1)\n",
    "            \n",
    "            scores[\"precision\"] = precision\n",
    "            scores[\"recall\"] = recall\n",
    "            scores[\"F1\"] = F1\n",
    "            target_word_dictionary[sense] = scores\n",
    "            target_word_lengths[sense] = sense_len\n",
    "        all_scores[target_word] = target_word_dictionary\n",
    "        all_lengths[target_word] = target_word_lengths\n",
    "            "
   ],
   "metadata": {
    "collapsed": false,
    "ExecuteTime": {
     "end_time": "2024-05-17T20:04:37.433890Z",
     "start_time": "2024-05-17T20:04:37.371223Z"
    }
   },
   "id": "306945c25334c604",
   "execution_count": 23
  },
  {
   "cell_type": "code",
   "outputs": [
    {
     "name": "stdout",
     "output_type": "stream",
     "text": [
      "\n",
      "\n",
      " Avocat\n",
      "lawyer\n",
      "score: 0.9636363636363636\n",
      "length of sense: 56\n",
      "total length: 84\n",
      "added weight: 0.6666666666666666 for a total of 0.6666666666666666\n",
      "F1 score after calc: 0.6424242424242423\n",
      "avocado\n",
      "score: 0.9019607843137255\n",
      "length of sense: 28\n",
      "total length: 84\n",
      "added weight: 0.3333333333333333 for a total of 1.0\n",
      "F1 score after calc: 0.9430778371954842\n",
      "\n",
      "\n",
      " Bien\n",
      "property\n",
      "score: 0.9898989898989898\n",
      "length of sense: 49\n",
      "total length: 98\n",
      "added weight: 0.5 for a total of 0.5\n",
      "F1 score after calc: 0.4949494949494949\n",
      "wellbeing\n",
      "score: 1.0\n",
      "length of sense: 20\n",
      "total length: 98\n",
      "added weight: 0.20408163265306123 for a total of 0.7040816326530612\n",
      "F1 score after calc: 0.6990311276025561\n",
      "good\n",
      "score: 0.9824561403508772\n",
      "length of sense: 29\n",
      "total length: 98\n",
      "added weight: 0.29591836734693877 for a total of 1.0\n",
      "F1 score after calc: 0.9897579446451628\n",
      "\n",
      "\n",
      " Bureau\n",
      "desk\n",
      "score: 0.6862745098039216\n",
      "length of sense: 35\n",
      "total length: 103\n",
      "added weight: 0.33980582524271846 for a total of 0.33980582524271846\n",
      "F1 score after calc: 0.23320007614696364\n",
      "cabinet\n",
      "score: 0\n",
      "length of sense: 14\n",
      "total length: 103\n",
      "added weight: 0.13592233009708737 for a total of 0.47572815533980584\n",
      "F1 score after calc: 0.23320007614696364\n",
      "office\n",
      "score: 0.4888888888888889\n",
      "length of sense: 54\n",
      "total length: 103\n",
      "added weight: 0.5242718446601942 for a total of 1.0\n",
      "F1 score after calc: 0.48951075575861414\n",
      "\n",
      "\n",
      " Faculté\n",
      "university\n",
      "score: 1.0\n",
      "length of sense: 37\n",
      "total length: 80\n",
      "added weight: 0.4625 for a total of 0.4625\n",
      "F1 score after calc: 0.4625\n",
      "competence\n",
      "score: 0.7887323943661972\n",
      "length of sense: 28\n",
      "total length: 80\n",
      "added weight: 0.35 for a total of 0.8125\n",
      "F1 score after calc: 0.738556338028169\n",
      "ability\n",
      "score: 0\n",
      "length of sense: 15\n",
      "total length: 80\n",
      "added weight: 0.1875 for a total of 1.0\n",
      "F1 score after calc: 0.738556338028169\n",
      "\n",
      "\n",
      " Filer\n",
      "slip away\n",
      "score: 0.8536585365853658\n",
      "length of sense: 47\n",
      "total length: 96\n",
      "added weight: 0.4895833333333333 for a total of 0.4895833333333333\n",
      "F1 score after calc: 0.4179369918699187\n",
      "give\n",
      "score: 1.0\n",
      "length of sense: 29\n",
      "total length: 96\n",
      "added weight: 0.3020833333333333 for a total of 0.7916666666666666\n",
      "F1 score after calc: 0.720020325203252\n",
      "spinning\n",
      "score: 1.0\n",
      "length of sense: 20\n",
      "total length: 96\n",
      "added weight: 0.20833333333333334 for a total of 1.0\n",
      "F1 score after calc: 0.9283536585365854\n",
      "\n",
      "\n",
      " Glace\n",
      "ice\n",
      "score: 0.8288288288288288\n",
      "length of sense: 59\n",
      "total length: 123\n",
      "added weight: 0.4796747967479675 for a total of 0.4796747967479675\n",
      "F1 score after calc: 0.3975683000073244\n",
      "ice cream\n",
      "score: 0\n",
      "length of sense: 20\n",
      "total length: 123\n",
      "added weight: 0.16260162601626016 for a total of 0.6422764227642277\n",
      "F1 score after calc: 0.3975683000073244\n",
      "glass\n",
      "score: 0.4\n",
      "length of sense: 9\n",
      "total length: 123\n",
      "added weight: 0.07317073170731707 for a total of 0.7154471544715447\n",
      "F1 score after calc: 0.4268365926902512\n",
      "mirror\n",
      "score: 0.6111111111111112\n",
      "length of sense: 26\n",
      "total length: 123\n",
      "added weight: 0.21138211382113822 for a total of 0.926829268292683\n",
      "F1 score after calc: 0.5560145511365023\n",
      "powdered sugar\n",
      "score: 1.0\n",
      "length of sense: 9\n",
      "total length: 123\n",
      "added weight: 0.07317073170731707 for a total of 1.0\n",
      "F1 score after calc: 0.6291852828438194\n",
      "\n",
      "\n",
      " Souris\n",
      "bat\n",
      "score: 0.8888888888888888\n",
      "length of sense: 10\n",
      "total length: 68\n",
      "added weight: 0.14705882352941177 for a total of 0.14705882352941177\n",
      "F1 score after calc: 0.13071895424836602\n",
      "pointer\n",
      "score: 0.5789473684210527\n",
      "length of sense: 27\n",
      "total length: 68\n",
      "added weight: 0.39705882352941174 for a total of 0.5441176470588235\n",
      "F1 score after calc: 0.36059511523907806\n",
      "rodent\n",
      "score: 0.5652173913043479\n",
      "length of sense: 31\n",
      "total length: 68\n",
      "added weight: 0.45588235294117646 for a total of 1.0\n",
      "F1 score after calc: 0.6182677495101778\n",
      "\n",
      "\n",
      " Supporter\n",
      "endure\n",
      "score: 0.43243243243243246\n",
      "length of sense: 28\n",
      "total length: 55\n",
      "added weight: 0.509090909090909 for a total of 0.509090909090909\n",
      "F1 score after calc: 0.22014742014742014\n",
      "hold up\n",
      "score: 0.4166666666666667\n",
      "length of sense: 15\n",
      "total length: 55\n",
      "added weight: 0.2727272727272727 for a total of 0.7818181818181817\n",
      "F1 score after calc: 0.33378378378378376\n",
      "fan\n",
      "score: 0.5882352941176471\n",
      "length of sense: 12\n",
      "total length: 55\n",
      "added weight: 0.21818181818181817 for a total of 0.9999999999999999\n",
      "F1 score after calc: 0.4621260297730886\n",
      "\n",
      "\n",
      " Tirer\n",
      "shoot\n",
      "score: 0.5818181818181818\n",
      "length of sense: 74\n",
      "total length: 104\n",
      "added weight: 0.7115384615384616 for a total of 0.7115384615384616\n",
      "F1 score after calc: 0.413986013986014\n",
      "pull\n",
      "score: 0.6419753086419753\n",
      "length of sense: 30\n",
      "total length: 104\n",
      "added weight: 0.28846153846153844 for a total of 1.0\n",
      "F1 score after calc: 0.5991711991711991\n",
      "\n",
      "\n",
      " Tour\n",
      "lap\n",
      "score: 0.8571428571428572\n",
      "length of sense: 16\n",
      "total length: 74\n",
      "added weight: 0.21621621621621623 for a total of 0.21621621621621623\n",
      "F1 score after calc: 0.18532818532818535\n",
      "trick\n",
      "score: 0.75\n",
      "length of sense: 14\n",
      "total length: 74\n",
      "added weight: 0.1891891891891892 for a total of 0.40540540540540543\n",
      "F1 score after calc: 0.32722007722007723\n",
      "turn\n",
      "score: 0.5\n",
      "length of sense: 24\n",
      "total length: 74\n",
      "added weight: 0.32432432432432434 for a total of 0.7297297297297298\n",
      "F1 score after calc: 0.4893822393822394\n",
      "round\n",
      "score: 1.0\n",
      "length of sense: 14\n",
      "total length: 74\n",
      "added weight: 0.1891891891891892 for a total of 0.9189189189189191\n",
      "F1 score after calc: 0.6785714285714286\n",
      "tower\n",
      "score: 0.8571428571428572\n",
      "length of sense: 6\n",
      "total length: 74\n",
      "added weight: 0.08108108108108109 for a total of 1.0000000000000002\n",
      "F1 score after calc: 0.7480694980694981\n",
      "\n",
      "\n",
      " Vol\n",
      "theft\n",
      "score: 1.0\n",
      "length of sense: 25\n",
      "total length: 85\n",
      "added weight: 0.29411764705882354 for a total of 0.29411764705882354\n",
      "F1 score after calc: 0.29411764705882354\n",
      "flight\n",
      "score: 0.9189189189189189\n",
      "length of sense: 60\n",
      "total length: 85\n",
      "added weight: 0.7058823529411765 for a total of 1.0\n",
      "F1 score after calc: 0.9427662957074723\n"
     ]
    }
   ],
   "source": [
    "# Total F1: weighted average of the F1 scores of each gold standard sense\n",
    "# We calculate the weight for each sense of the dataframe (the amount of instances of this sense divided by the total amount of instances)\n",
    "# We make a dictionary F1_scores, in which each target word is associated with its F1 score\n",
    "F1_scores = {}\n",
    "for target_word in all_scores:\n",
    "    F1 = 0\n",
    "    weight = 0\n",
    "    print(\"\\n\\n\", target_word)\n",
    "    for sense in all_scores[target_word]:\n",
    "        score = all_scores[target_word][sense][\"F1\"]\n",
    "        print(sense)\n",
    "        print(\"score:\", score)\n",
    "        \n",
    "        len_sense = all_lengths[target_word][sense]\n",
    "        print(\"length of sense:\", len_sense)\n",
    "        \n",
    "        len_total = all_lengths[target_word][\"total\"]\n",
    "        print(\"total length:\", len_total)\n",
    "        added_weight = len_sense / len_total\n",
    "        weight += added_weight\n",
    "        print(\"added weight:\", added_weight, \"for a total of\", weight)\n",
    "        F1 += score * (len_sense / len_total)\n",
    "        print(\"F1 score after calc:\", F1)\n",
    "    F1_scores[target_word] = F1\n",
    "\n"
   ],
   "metadata": {
    "collapsed": false,
    "ExecuteTime": {
     "end_time": "2024-05-17T20:04:38.177710Z",
     "start_time": "2024-05-17T20:04:38.168586Z"
    }
   },
   "id": "24e65d1f800fc59d",
   "execution_count": 24
  },
  {
   "cell_type": "code",
   "outputs": [
    {
     "name": "stdout",
     "output_type": "stream",
     "text": [
      "\n",
      "\n",
      " Avocat\n",
      "Number of senses: 2\n",
      "\n",
      "sense: lawyer\n",
      "instances of sense: 56\n",
      "amount of correct instances: 56\n",
      "correct cluster number: 0\n",
      "total amount of points in biggest cluster: 84\n",
      "precision: 0.6666666666666666\n",
      "recall 1.0\n",
      "F1 0.8\n",
      "\n",
      "sense: avocado\n",
      "instances of sense: 28\n",
      "amount of correct instances: 0\n",
      "correct cluster number: No cluster\n",
      "total amount of points in biggest cluster: 0\n",
      "precision zero\n",
      "precision: 0\n",
      "recall 0.0\n",
      "F1 0\n",
      "\n",
      "\n",
      " Bien\n",
      "Number of senses: 3\n",
      "\n",
      "sense: property\n",
      "instances of sense: 49\n",
      "amount of correct instances: 49\n",
      "correct cluster number: 0\n",
      "total amount of points in biggest cluster: 98\n",
      "precision: 0.5\n",
      "recall 1.0\n",
      "F1 0.6666666666666666\n",
      "\n",
      "sense: wellbeing\n",
      "instances of sense: 20\n",
      "amount of correct instances: 0\n",
      "correct cluster number: No cluster\n",
      "total amount of points in biggest cluster: 0\n",
      "precision zero\n",
      "precision: 0\n",
      "recall 0.0\n",
      "F1 0\n",
      "\n",
      "sense: good\n",
      "instances of sense: 29\n",
      "amount of correct instances: 0\n",
      "correct cluster number: No cluster\n",
      "total amount of points in biggest cluster: 0\n",
      "precision zero\n",
      "precision: 0\n",
      "recall 0.0\n",
      "F1 0\n",
      "\n",
      "\n",
      " Bureau\n",
      "Number of senses: 3\n",
      "\n",
      "sense: desk\n",
      "instances of sense: 35\n",
      "amount of correct instances: 0\n",
      "correct cluster number: No cluster\n",
      "total amount of points in biggest cluster: 0\n",
      "precision zero\n",
      "precision: 0\n",
      "recall 0.0\n",
      "F1 0\n",
      "\n",
      "sense: cabinet\n",
      "instances of sense: 14\n",
      "amount of correct instances: 0\n",
      "correct cluster number: No cluster\n",
      "total amount of points in biggest cluster: 0\n",
      "precision zero\n",
      "precision: 0\n",
      "recall 0.0\n",
      "F1 0\n",
      "\n",
      "sense: office\n",
      "instances of sense: 54\n",
      "amount of correct instances: 54\n",
      "correct cluster number: 0\n",
      "total amount of points in biggest cluster: 103\n",
      "precision: 0.5242718446601942\n",
      "recall 1.0\n",
      "F1 0.6878980891719745\n",
      "\n",
      "\n",
      " Faculté\n",
      "Number of senses: 3\n",
      "\n",
      "sense: university\n",
      "instances of sense: 37\n",
      "amount of correct instances: 37\n",
      "correct cluster number: 0\n",
      "total amount of points in biggest cluster: 80\n",
      "precision: 0.4625\n",
      "recall 1.0\n",
      "F1 0.6324786324786326\n",
      "\n",
      "sense: competence\n",
      "instances of sense: 28\n",
      "amount of correct instances: 0\n",
      "correct cluster number: No cluster\n",
      "total amount of points in biggest cluster: 0\n",
      "precision zero\n",
      "precision: 0\n",
      "recall 0.0\n",
      "F1 0\n",
      "\n",
      "sense: ability\n",
      "instances of sense: 15\n",
      "amount of correct instances: 0\n",
      "correct cluster number: No cluster\n",
      "total amount of points in biggest cluster: 0\n",
      "precision zero\n",
      "precision: 0\n",
      "recall 0.0\n",
      "F1 0\n",
      "\n",
      "\n",
      " Filer\n",
      "Number of senses: 3\n",
      "\n",
      "sense: slip away\n",
      "instances of sense: 47\n",
      "amount of correct instances: 47\n",
      "correct cluster number: 0\n",
      "total amount of points in biggest cluster: 96\n",
      "precision: 0.4895833333333333\n",
      "recall 1.0\n",
      "F1 0.6573426573426573\n",
      "\n",
      "sense: give\n",
      "instances of sense: 29\n",
      "amount of correct instances: 0\n",
      "correct cluster number: No cluster\n",
      "total amount of points in biggest cluster: 0\n",
      "precision zero\n",
      "precision: 0\n",
      "recall 0.0\n",
      "F1 0\n",
      "\n",
      "sense: spinning\n",
      "instances of sense: 20\n",
      "amount of correct instances: 0\n",
      "correct cluster number: No cluster\n",
      "total amount of points in biggest cluster: 0\n",
      "precision zero\n",
      "precision: 0\n",
      "recall 0.0\n",
      "F1 0\n",
      "\n",
      "\n",
      " Glace\n",
      "Number of senses: 5\n",
      "\n",
      "sense: ice\n",
      "instances of sense: 59\n",
      "amount of correct instances: 59\n",
      "correct cluster number: 0\n",
      "total amount of points in biggest cluster: 123\n",
      "precision: 0.4796747967479675\n",
      "recall 1.0\n",
      "F1 0.6483516483516483\n",
      "\n",
      "sense: ice cream\n",
      "instances of sense: 20\n",
      "amount of correct instances: 0\n",
      "correct cluster number: No cluster\n",
      "total amount of points in biggest cluster: 0\n",
      "precision zero\n",
      "precision: 0\n",
      "recall 0.0\n",
      "F1 0\n",
      "\n",
      "sense: glass\n",
      "instances of sense: 9\n",
      "amount of correct instances: 0\n",
      "correct cluster number: No cluster\n",
      "total amount of points in biggest cluster: 0\n",
      "precision zero\n",
      "precision: 0\n",
      "recall 0.0\n",
      "F1 0\n",
      "\n",
      "sense: mirror\n",
      "instances of sense: 26\n",
      "amount of correct instances: 0\n",
      "correct cluster number: No cluster\n",
      "total amount of points in biggest cluster: 0\n",
      "precision zero\n",
      "precision: 0\n",
      "recall 0.0\n",
      "F1 0\n",
      "\n",
      "sense: powdered sugar\n",
      "instances of sense: 9\n",
      "amount of correct instances: 0\n",
      "correct cluster number: No cluster\n",
      "total amount of points in biggest cluster: 0\n",
      "precision zero\n",
      "precision: 0\n",
      "recall 0.0\n",
      "F1 0\n",
      "\n",
      "\n",
      " Souris\n",
      "Number of senses: 3\n",
      "\n",
      "sense: bat\n",
      "instances of sense: 10\n",
      "amount of correct instances: 0\n",
      "correct cluster number: No cluster\n",
      "total amount of points in biggest cluster: 0\n",
      "precision zero\n",
      "precision: 0\n",
      "recall 0.0\n",
      "F1 0\n",
      "\n",
      "sense: pointer\n",
      "instances of sense: 27\n",
      "amount of correct instances: 0\n",
      "correct cluster number: No cluster\n",
      "total amount of points in biggest cluster: 0\n",
      "precision zero\n",
      "precision: 0\n",
      "recall 0.0\n",
      "F1 0\n",
      "\n",
      "sense: rodent\n",
      "instances of sense: 31\n",
      "amount of correct instances: 31\n",
      "correct cluster number: 0\n",
      "total amount of points in biggest cluster: 68\n",
      "precision: 0.45588235294117646\n",
      "recall 1.0\n",
      "F1 0.6262626262626263\n",
      "\n",
      "\n",
      " Supporter\n",
      "Number of senses: 3\n",
      "\n",
      "sense: endure\n",
      "instances of sense: 28\n",
      "amount of correct instances: 28\n",
      "correct cluster number: 0\n",
      "total amount of points in biggest cluster: 55\n",
      "precision: 0.509090909090909\n",
      "recall 1.0\n",
      "F1 0.6746987951807228\n",
      "\n",
      "sense: hold up\n",
      "instances of sense: 15\n",
      "amount of correct instances: 0\n",
      "correct cluster number: No cluster\n",
      "total amount of points in biggest cluster: 0\n",
      "precision zero\n",
      "precision: 0\n",
      "recall 0.0\n",
      "F1 0\n",
      "\n",
      "sense: fan\n",
      "instances of sense: 12\n",
      "amount of correct instances: 0\n",
      "correct cluster number: No cluster\n",
      "total amount of points in biggest cluster: 0\n",
      "precision zero\n",
      "precision: 0\n",
      "recall 0.0\n",
      "F1 0\n",
      "\n",
      "\n",
      " Tirer\n",
      "Number of senses: 2\n",
      "\n",
      "sense: shoot\n",
      "instances of sense: 74\n",
      "amount of correct instances: 74\n",
      "correct cluster number: 0\n",
      "total amount of points in biggest cluster: 104\n",
      "precision: 0.7115384615384616\n",
      "recall 1.0\n",
      "F1 0.8314606741573034\n",
      "\n",
      "sense: pull\n",
      "instances of sense: 30\n",
      "amount of correct instances: 0\n",
      "correct cluster number: No cluster\n",
      "total amount of points in biggest cluster: 0\n",
      "precision zero\n",
      "precision: 0\n",
      "recall 0.0\n",
      "F1 0\n",
      "\n",
      "\n",
      " Tour\n",
      "Number of senses: 5\n",
      "\n",
      "sense: lap\n",
      "instances of sense: 16\n",
      "amount of correct instances: 0\n",
      "correct cluster number: No cluster\n",
      "total amount of points in biggest cluster: 0\n",
      "precision zero\n",
      "precision: 0\n",
      "recall 0.0\n",
      "F1 0\n",
      "\n",
      "sense: trick\n",
      "instances of sense: 14\n",
      "amount of correct instances: 0\n",
      "correct cluster number: No cluster\n",
      "total amount of points in biggest cluster: 0\n",
      "precision zero\n",
      "precision: 0\n",
      "recall 0.0\n",
      "F1 0\n",
      "\n",
      "sense: turn\n",
      "instances of sense: 24\n",
      "amount of correct instances: 24\n",
      "correct cluster number: 0\n",
      "total amount of points in biggest cluster: 74\n",
      "precision: 0.32432432432432434\n",
      "recall 1.0\n",
      "F1 0.489795918367347\n",
      "\n",
      "sense: round\n",
      "instances of sense: 14\n",
      "amount of correct instances: 0\n",
      "correct cluster number: No cluster\n",
      "total amount of points in biggest cluster: 0\n",
      "precision zero\n",
      "precision: 0\n",
      "recall 0.0\n",
      "F1 0\n",
      "\n",
      "sense: tower\n",
      "instances of sense: 6\n",
      "amount of correct instances: 0\n",
      "correct cluster number: No cluster\n",
      "total amount of points in biggest cluster: 0\n",
      "precision zero\n",
      "precision: 0\n",
      "recall 0.0\n",
      "F1 0\n",
      "\n",
      "\n",
      " Vol\n",
      "Number of senses: 2\n",
      "\n",
      "sense: theft\n",
      "instances of sense: 25\n",
      "amount of correct instances: 0\n",
      "correct cluster number: No cluster\n",
      "total amount of points in biggest cluster: 0\n",
      "precision zero\n",
      "precision: 0\n",
      "recall 0.0\n",
      "F1 0\n",
      "\n",
      "sense: flight\n",
      "instances of sense: 60\n",
      "amount of correct instances: 60\n",
      "correct cluster number: 0\n",
      "total amount of points in biggest cluster: 85\n",
      "precision: 0.7058823529411765\n",
      "recall 1.0\n",
      "F1 0.8275862068965518\n",
      "\n",
      "\n",
      " Avocat\n",
      "lawyer\n",
      "score: 0.8\n",
      "length of sense: 56\n",
      "total length: 84\n",
      "added weight: 0.6666666666666666 for a total of 0.6666666666666666\n",
      "F1 score after calc: 0.5333333333333333\n",
      "avocado\n",
      "score: 0\n",
      "length of sense: 28\n",
      "total length: 84\n",
      "added weight: 0.3333333333333333 for a total of 1.0\n",
      "F1 score after calc: 0.5333333333333333\n",
      "\n",
      "\n",
      " Bien\n",
      "property\n",
      "score: 0.6666666666666666\n",
      "length of sense: 49\n",
      "total length: 98\n",
      "added weight: 0.5 for a total of 0.5\n",
      "F1 score after calc: 0.3333333333333333\n",
      "wellbeing\n",
      "score: 0\n",
      "length of sense: 20\n",
      "total length: 98\n",
      "added weight: 0.20408163265306123 for a total of 0.7040816326530612\n",
      "F1 score after calc: 0.3333333333333333\n",
      "good\n",
      "score: 0\n",
      "length of sense: 29\n",
      "total length: 98\n",
      "added weight: 0.29591836734693877 for a total of 1.0\n",
      "F1 score after calc: 0.3333333333333333\n",
      "\n",
      "\n",
      " Bureau\n",
      "desk\n",
      "score: 0\n",
      "length of sense: 35\n",
      "total length: 103\n",
      "added weight: 0.33980582524271846 for a total of 0.33980582524271846\n",
      "F1 score after calc: 0.0\n",
      "cabinet\n",
      "score: 0\n",
      "length of sense: 14\n",
      "total length: 103\n",
      "added weight: 0.13592233009708737 for a total of 0.47572815533980584\n",
      "F1 score after calc: 0.0\n",
      "office\n",
      "score: 0.6878980891719745\n",
      "length of sense: 54\n",
      "total length: 103\n",
      "added weight: 0.5242718446601942 for a total of 1.0\n",
      "F1 score after calc: 0.3606456001484138\n",
      "\n",
      "\n",
      " Faculté\n",
      "university\n",
      "score: 0.6324786324786326\n",
      "length of sense: 37\n",
      "total length: 80\n",
      "added weight: 0.4625 for a total of 0.4625\n",
      "F1 score after calc: 0.2925213675213676\n",
      "competence\n",
      "score: 0\n",
      "length of sense: 28\n",
      "total length: 80\n",
      "added weight: 0.35 for a total of 0.8125\n",
      "F1 score after calc: 0.2925213675213676\n",
      "ability\n",
      "score: 0\n",
      "length of sense: 15\n",
      "total length: 80\n",
      "added weight: 0.1875 for a total of 1.0\n",
      "F1 score after calc: 0.2925213675213676\n",
      "\n",
      "\n",
      " Filer\n",
      "slip away\n",
      "score: 0.6573426573426573\n",
      "length of sense: 47\n",
      "total length: 96\n",
      "added weight: 0.4895833333333333 for a total of 0.4895833333333333\n",
      "F1 score after calc: 0.3218240093240093\n",
      "give\n",
      "score: 0\n",
      "length of sense: 29\n",
      "total length: 96\n",
      "added weight: 0.3020833333333333 for a total of 0.7916666666666666\n",
      "F1 score after calc: 0.3218240093240093\n",
      "spinning\n",
      "score: 0\n",
      "length of sense: 20\n",
      "total length: 96\n",
      "added weight: 0.20833333333333334 for a total of 1.0\n",
      "F1 score after calc: 0.3218240093240093\n",
      "\n",
      "\n",
      " Glace\n",
      "ice\n",
      "score: 0.6483516483516483\n",
      "length of sense: 59\n",
      "total length: 123\n",
      "added weight: 0.4796747967479675 for a total of 0.4796747967479675\n",
      "F1 score after calc: 0.3109979451442866\n",
      "ice cream\n",
      "score: 0\n",
      "length of sense: 20\n",
      "total length: 123\n",
      "added weight: 0.16260162601626016 for a total of 0.6422764227642277\n",
      "F1 score after calc: 0.3109979451442866\n",
      "glass\n",
      "score: 0\n",
      "length of sense: 9\n",
      "total length: 123\n",
      "added weight: 0.07317073170731707 for a total of 0.7154471544715447\n",
      "F1 score after calc: 0.3109979451442866\n",
      "mirror\n",
      "score: 0\n",
      "length of sense: 26\n",
      "total length: 123\n",
      "added weight: 0.21138211382113822 for a total of 0.926829268292683\n",
      "F1 score after calc: 0.3109979451442866\n",
      "powdered sugar\n",
      "score: 0\n",
      "length of sense: 9\n",
      "total length: 123\n",
      "added weight: 0.07317073170731707 for a total of 1.0\n",
      "F1 score after calc: 0.3109979451442866\n",
      "\n",
      "\n",
      " Souris\n",
      "bat\n",
      "score: 0\n",
      "length of sense: 10\n",
      "total length: 68\n",
      "added weight: 0.14705882352941177 for a total of 0.14705882352941177\n",
      "F1 score after calc: 0.0\n",
      "pointer\n",
      "score: 0\n",
      "length of sense: 27\n",
      "total length: 68\n",
      "added weight: 0.39705882352941174 for a total of 0.5441176470588235\n",
      "F1 score after calc: 0.0\n",
      "rodent\n",
      "score: 0.6262626262626263\n",
      "length of sense: 31\n",
      "total length: 68\n",
      "added weight: 0.45588235294117646 for a total of 1.0\n",
      "F1 score after calc: 0.2855020796197267\n",
      "\n",
      "\n",
      " Supporter\n",
      "endure\n",
      "score: 0.6746987951807228\n",
      "length of sense: 28\n",
      "total length: 55\n",
      "added weight: 0.509090909090909 for a total of 0.509090909090909\n",
      "F1 score after calc: 0.34348302300109523\n",
      "hold up\n",
      "score: 0\n",
      "length of sense: 15\n",
      "total length: 55\n",
      "added weight: 0.2727272727272727 for a total of 0.7818181818181817\n",
      "F1 score after calc: 0.34348302300109523\n",
      "fan\n",
      "score: 0\n",
      "length of sense: 12\n",
      "total length: 55\n",
      "added weight: 0.21818181818181817 for a total of 0.9999999999999999\n",
      "F1 score after calc: 0.34348302300109523\n",
      "\n",
      "\n",
      " Tirer\n",
      "shoot\n",
      "score: 0.8314606741573034\n",
      "length of sense: 74\n",
      "total length: 104\n",
      "added weight: 0.7115384615384616 for a total of 0.7115384615384616\n",
      "F1 score after calc: 0.5916162489196197\n",
      "pull\n",
      "score: 0\n",
      "length of sense: 30\n",
      "total length: 104\n",
      "added weight: 0.28846153846153844 for a total of 1.0\n",
      "F1 score after calc: 0.5916162489196197\n",
      "\n",
      "\n",
      " Tour\n",
      "lap\n",
      "score: 0\n",
      "length of sense: 16\n",
      "total length: 74\n",
      "added weight: 0.21621621621621623 for a total of 0.21621621621621623\n",
      "F1 score after calc: 0.0\n",
      "trick\n",
      "score: 0\n",
      "length of sense: 14\n",
      "total length: 74\n",
      "added weight: 0.1891891891891892 for a total of 0.40540540540540543\n",
      "F1 score after calc: 0.0\n",
      "turn\n",
      "score: 0.489795918367347\n",
      "length of sense: 24\n",
      "total length: 74\n",
      "added weight: 0.32432432432432434 for a total of 0.7297297297297298\n",
      "F1 score after calc: 0.15885273028130173\n",
      "round\n",
      "score: 0\n",
      "length of sense: 14\n",
      "total length: 74\n",
      "added weight: 0.1891891891891892 for a total of 0.9189189189189191\n",
      "F1 score after calc: 0.15885273028130173\n",
      "tower\n",
      "score: 0\n",
      "length of sense: 6\n",
      "total length: 74\n",
      "added weight: 0.08108108108108109 for a total of 1.0000000000000002\n",
      "F1 score after calc: 0.15885273028130173\n",
      "\n",
      "\n",
      " Vol\n",
      "theft\n",
      "score: 0\n",
      "length of sense: 25\n",
      "total length: 85\n",
      "added weight: 0.29411764705882354 for a total of 0.29411764705882354\n",
      "F1 score after calc: 0.0\n",
      "flight\n",
      "score: 0.8275862068965518\n",
      "length of sense: 60\n",
      "total length: 85\n",
      "added weight: 0.7058823529411765 for a total of 1.0\n",
      "F1 score after calc: 0.5841784989858013\n"
     ]
    }
   ],
   "source": [
    "# We will also calculate an F1 score for each word when no clustering takes place\n",
    "# We will make a copy of each dataframe and set the \"cluster\" column to 0 for all rows\n",
    "# We create a dictionary of dictionaries to save, for each sense, the ratings of its precision and recall\n",
    "all_scores_no_cluster = {}\n",
    "all_lengths_no_cluster = {}\n",
    "for filename in os.listdir(f\"{model_name}/Experiment_1/Curated/\"):\n",
    "    if filename.endswith(\".csv\"):\n",
    "        df_F1 = pd.read_csv(f\"{model_name}/Experiment_1/Curated/\" + filename, sep=\";\", encoding=\"utf-8\", header=0)\n",
    "\n",
    "        target_word = df_F1[\"source\"][1]\n",
    "        # We undo clustering: we set all clusters to 0\n",
    "        # The \"default\" (i.e. \"correct\" category is the most frequent sense)\n",
    "        df_F1[\"cluster\"] = 0\n",
    "        most_freq_sense = df_F1[\"sense\"].value_counts().idxmax()\n",
    "        df_F1[\"default\"] = [1 if sense == most_freq_sense else 0 for sense in df_F1[\"sense\"]]\n",
    "        print(\"\\n\\n\", target_word)\n",
    "        total_df_length = len(df_F1)\n",
    "        # We calculate the amount of different senses\n",
    "        senses = len(df_F1[\"sense\"].unique())\n",
    "        print(\"Number of senses:\", senses)\n",
    "        target_word_dictionary = {}\n",
    "        target_word_lengths = {}\n",
    "        target_word_lengths[\"total\"] = total_df_length\n",
    "        for sense in df_F1[\"sense\"].unique():\n",
    "            scores = {}\n",
    "            sense_df = df_F1[df_F1[\"sense\"] == sense]\n",
    "                    #precision: number of correct instances in a cluster / total cluster size\n",
    "                    # We calculate the amount of \"default\" instances\n",
    "            sense_len = len(sense_df)\n",
    "        \n",
    "            \n",
    "            correct_df = sense_df[sense_df[\"default\"] == True]\n",
    "            correct_len = len(correct_df)\n",
    "            if correct_len > 0:\n",
    "                correct_cluster = correct_df[\"cluster\"].iloc[0]\n",
    "            else:\n",
    "                correct_cluster = \"No cluster\"\n",
    "                \n",
    "            cluster_len = len(df_F1[df_F1[\"cluster\"] == correct_cluster])\n",
    "            print(\"\\nsense:\", sense)\n",
    "            print(\"instances of sense:\", sense_len)\n",
    "            print(\"amount of correct instances:\", correct_len)\n",
    "            print(\"correct cluster number:\", correct_cluster)\n",
    "            print(\"total amount of points in biggest cluster:\", cluster_len)\n",
    "            \n",
    "            if cluster_len > 0:  \n",
    "                precision = correct_len / cluster_len\n",
    "            else:\n",
    "                precision = 0\n",
    "                print(\"precision zero\")\n",
    "            recall = correct_len / sense_len\n",
    "            print(\"precision:\", precision)\n",
    "            print(\"recall\", recall)\n",
    "            \n",
    "            F1 = statistics.harmonic_mean((precision, recall))\n",
    "            print(\"F1\", F1)\n",
    "            \n",
    "            scores[\"precision\"] = precision\n",
    "            scores[\"recall\"] = recall\n",
    "            scores[\"F1\"] = F1\n",
    "            target_word_dictionary[sense] = scores\n",
    "            target_word_lengths[sense] = sense_len\n",
    "        all_scores_no_cluster[target_word] = target_word_dictionary\n",
    "        all_lengths_no_cluster[target_word] = target_word_lengths\n",
    "# Total F1: weighted average of the F1 scores of each gold standard sense\n",
    "# We calculate the weight for each sense of the dataframe (the amount of instances of this sense divided by the total amount of instances)\n",
    "# We make a dictionary F1_scores, in which each target word is associated with its F1 score\n",
    "F1_scores_no_cluster = {}\n",
    "for target_word in all_scores_no_cluster:\n",
    "    F1 = 0\n",
    "    weight = 0\n",
    "    print(\"\\n\\n\", target_word)\n",
    "    for sense in all_scores_no_cluster[target_word]:\n",
    "        score = all_scores_no_cluster[target_word][sense][\"F1\"]\n",
    "        print(sense)\n",
    "        print(\"score:\", score)\n",
    "        \n",
    "        len_sense = all_lengths_no_cluster[target_word][sense]\n",
    "        print(\"length of sense:\", len_sense)\n",
    "        \n",
    "        len_total = all_lengths_no_cluster[target_word][\"total\"]\n",
    "        print(\"total length:\", len_total)\n",
    "        added_weight = len_sense / len_total\n",
    "        weight += added_weight\n",
    "        print(\"added weight:\", added_weight, \"for a total of\", weight)\n",
    "        F1 += score * (len_sense / len_total)\n",
    "        print(\"F1 score after calc:\", F1)\n",
    "    F1_scores_no_cluster[target_word] = F1\n",
    "\n"
   ],
   "metadata": {
    "collapsed": false,
    "ExecuteTime": {
     "end_time": "2024-05-17T20:04:38.866633Z",
     "start_time": "2024-05-17T20:04:38.790718Z"
    }
   },
   "id": "9f8e7d4cba4a08db",
   "execution_count": 25
  },
  {
   "cell_type": "code",
   "outputs": [
    {
     "name": "stdout",
     "output_type": "stream",
     "text": [
      "Nouns average of weighted scores: 0.7374825239445986\n",
      "Nouns average of overall scores: 0.7493163916379987\n",
      "Nouns average of all in one cluster scores: 0.5149002922851882\n",
      "Nouns average of v-measure cluster score: 0.6684557156065671\n",
      "Nouns average of Adjusted Rand scores: 0.5900182693692801\n",
      "Nouns average of F1 scores: 0.7623989627197997\n",
      "Nouns average of F1 scores when no clustering takes place: 0.3574206110459456\n",
      "\n",
      "\n",
      "\n",
      "Verbs average of weighted scores: 0.6365604206029738\n",
      "Verbs average of overall scores: 0.5866550116550117\n",
      "Verbs average of all in one cluster scores: 0.5700709013209013\n",
      "Verbs average of v-measure cluster score: 0.46829253945423327\n",
      "Verbs average of F1 scores: 0.6632169624936243\n",
      "Verbs average of Adjusted Rand scores: 0.31882184711744016\n",
      "Verbs average of F1 scores when no clustering takes place: 0.41897442708157473\n"
     ]
    }
   ],
   "source": [
    "Nouns = [\"Avocat\", \"Bien\", \"Bureau\", \"Faculté\", \"Glace\", \"Souris\", \"Tour\", \"Vol\"]\n",
    "Verbs = [\"Filer\", \"Supporter\", \"Tirer\"]\n",
    "\n",
    "nouns_average_weighted = np.mean([weighted_scores[noun] for noun in Nouns])\n",
    "nouns_average_overall = np.mean([overall_scores[noun] for noun in Nouns])\n",
    "nouns_average_all_in_one = np.mean([all_in_one_cluster_overall_scores[noun] for noun in Nouns])\n",
    "nouns_average_v_measure = np.mean([v_measure_scores[noun] for noun in Nouns])\n",
    "nouns_average_F1 = np.mean([F1_scores[noun] for noun in Nouns])\n",
    "nouns_average_rand = np.mean([rand_scores[noun] for noun in Nouns])\n",
    "nouns_average_F1_no_cluster = np.mean([F1_scores_no_cluster[noun] for noun in Nouns])\n",
    "\n",
    "\n",
    "verbs_average_weighted = np.mean([weighted_scores[verb] for verb in Verbs])\n",
    "verbs_average_overall = np.mean([overall_scores[verb] for verb in Verbs])\n",
    "verbs_average_all_in_one = np.mean([all_in_one_cluster_overall_scores[verb] for verb in Verbs])\n",
    "verbs_average_v_measure = np.mean([v_measure_scores[verb] for verb in Verbs])\n",
    "verbs_average_rand = np.mean([rand_scores[verb] for verb in Verbs])\n",
    "verbs_average_F1 = np.mean([F1_scores[verb] for verb in Verbs])\n",
    "verbs_average_F1_no_cluster = np.mean([F1_scores_no_cluster[verb] for verb in Verbs])\n",
    "\n",
    "print(\"Nouns average of weighted scores:\", nouns_average_weighted)\n",
    "print(\"Nouns average of overall scores:\", nouns_average_overall)\n",
    "print(\"Nouns average of all in one cluster scores:\", nouns_average_all_in_one)\n",
    "print(\"Nouns average of v-measure cluster score:\", nouns_average_v_measure)\n",
    "print(\"Nouns average of Adjusted Rand scores:\", nouns_average_rand)\n",
    "print(\"Nouns average of F1 scores:\", nouns_average_F1)\n",
    "print(\"Nouns average of F1 scores when no clustering takes place:\", nouns_average_F1_no_cluster)\n",
    "print(\"\\n\\n\")\n",
    "print(\"Verbs average of weighted scores:\", verbs_average_weighted)\n",
    "print(\"Verbs average of overall scores:\", verbs_average_overall)\n",
    "print(\"Verbs average of all in one cluster scores:\", verbs_average_all_in_one)\n",
    "print(\"Verbs average of v-measure cluster score:\", verbs_average_v_measure)\n",
    "print(\"Verbs average of F1 scores:\", verbs_average_F1)\n",
    "print(\"Verbs average of Adjusted Rand scores:\", verbs_average_rand)\n",
    "print(\"Verbs average of F1 scores when no clustering takes place:\", verbs_average_F1_no_cluster)\n"
   ],
   "metadata": {
    "collapsed": false,
    "ExecuteTime": {
     "end_time": "2024-05-17T20:04:39.446324Z",
     "start_time": "2024-05-17T20:04:39.433874Z"
    }
   },
   "id": "eab2c9e12fac0d05",
   "execution_count": 26
  },
  {
   "cell_type": "code",
   "outputs": [],
   "source": [
    "# We create a dataframe from the dictionaries to eventually save the results to a csv file\n",
    "df = pd.DataFrame.from_dict(weighted_scores, orient=\"index\", columns=[\"Weighted\"])\n",
    "df[\"Overall\"] = overall_scores.values()\n",
    "df[\"V_measure\"] = v_measure_scores.values()\n",
    "df[\"Rand\"] = rand_scores.values()\n",
    "df[\"F1\"] = [F1_scores[word] for word in df.index]\n",
    "\n",
    "df[\"Type\"] = [\"Noun\" if word in Nouns else \"Verb\" for word in df.index]\n",
    "df[\"Amount_senses\"] = amount_senses.values()\n",
    "# We add a \"F1\" column to the dataframe\n",
    "\n",
    "# We also create a separate file for the all in one cluster scores\n",
    "df_all_in_one = pd.DataFrame.from_dict(all_in_one_cluster_overall_scores, orient=\"index\", columns=[\"Overall_no_cluster\"])\n",
    "df_all_in_one[\"F1_no_cluster\"] = [F1_scores_no_cluster[word] for word in df_all_in_one.index]\n",
    "df_all_in_one[\"Type\"] = [\"Noun\" if word in Nouns else \"Verb\" for word in df_all_in_one.index]"
   ],
   "metadata": {
    "collapsed": false,
    "ExecuteTime": {
     "end_time": "2024-05-17T20:04:40.091093Z",
     "start_time": "2024-05-17T20:04:40.081588Z"
    }
   },
   "id": "8a9aabe0451dae68",
   "execution_count": 27
  },
  {
   "cell_type": "code",
   "outputs": [],
   "source": [
    "# We add a row 'Average' to the dataframes\n",
    "df_with_average = df.copy()\n",
    "df_with_average.loc[\"Average_nouns\"] = [nouns_average_weighted, nouns_average_overall, nouns_average_v_measure, nouns_average_rand, nouns_average_F1, \"\", \"\"]\n",
    "df_with_average.loc[\"Average_verbs\"] = [verbs_average_weighted, verbs_average_overall, verbs_average_v_measure, verbs_average_rand, verbs_average_F1, \"\", \"\"]\n",
    "df_with_average.loc[\"Global_average\"] = [df[\"Weighted\"].mean(), df[\"Overall\"].mean(), df[\"V_measure\"].mean(), df[\"Rand\"].mean(), df[\"F1\"].mean(), \"\", \"\"] #use the og file, no account of averages\n",
    "\n",
    "\n",
    "# As we don't make a copy, we have to calculate the mean before adding the other averages!\n",
    "df_all_in_one.loc[\"Global_average\"] = [df_all_in_one[\"Overall_no_cluster\"].mean(), df_all_in_one[\"F1_no_cluster\"].mean(), \"\",] \n",
    "df_all_in_one.loc[\"Average_nouns\"] = [nouns_average_all_in_one, nouns_average_F1_no_cluster,\"\"]\n",
    "df_all_in_one.loc[\"Average_verbs\"] = [verbs_average_all_in_one, verbs_average_F1_no_cluster,\"\"]\n"
   ],
   "metadata": {
    "collapsed": false,
    "ExecuteTime": {
     "end_time": "2024-05-17T20:04:40.817722Z",
     "start_time": "2024-05-17T20:04:40.804025Z"
    }
   },
   "id": "c4b233c369aef3ef",
   "execution_count": 28
  },
  {
   "cell_type": "code",
   "outputs": [
    {
     "data": {
      "application/vnd.plotly.v1+json": {
       "data": [
        {
         "hovertemplate": "Type=Noun<br>Weighted=%{x}<br>Overall=%{y}<br>index=%{text}<extra></extra>",
         "legendgroup": "Noun",
         "marker": {
          "color": "#636efa",
          "symbol": "circle"
         },
         "mode": "markers+text",
         "name": "Noun",
         "orientation": "v",
         "showlegend": true,
         "text": [
          "Avocat",
          "Bien",
          "Bureau",
          "Faculté",
          "Glace",
          "Souris",
          "Tour",
          "Vol"
         ],
         "x": [
          0.8839285714285714,
          0.9885057471264368,
          0.46913580246913583,
          0.6666666666666666,
          0.6362740837317109,
          0.5422540820390284,
          0.7880952380952382,
          0.925
         ],
         "xaxis": "x",
         "y": [
          0.9047619047619048,
          0.9897959183673469,
          0.5533980582524272,
          0.8125,
          0.6666666666666666,
          0.47058823529411764,
          0.7027027027027027,
          0.8941176470588236
         ],
         "yaxis": "y",
         "type": "scatter"
        },
        {
         "hovertemplate": "Type=Verb<br>Weighted=%{x}<br>Overall=%{y}<br>index=%{text}<extra></extra>",
         "legendgroup": "Verb",
         "marker": {
          "color": "#EF553B",
          "symbol": "circle"
         },
         "mode": "markers+text",
         "name": "Verb",
         "orientation": "v",
         "showlegend": true,
         "text": [
          "Filer",
          "Supporter",
          "Tirer"
         ],
         "x": [
          0.9148936170212766,
          0.3452380952380952,
          0.6495495495495496
         ],
         "xaxis": "x",
         "y": [
          0.875,
          0.32727272727272727,
          0.5576923076923077
         ],
         "yaxis": "y",
         "type": "scatter"
        }
       ],
       "layout": {
        "template": {
         "data": {
          "barpolar": [
           {
            "marker": {
             "line": {
              "color": "white",
              "width": 0.5
             },
             "pattern": {
              "fillmode": "overlay",
              "size": 10,
              "solidity": 0.2
             }
            },
            "type": "barpolar"
           }
          ],
          "bar": [
           {
            "error_x": {
             "color": "#2a3f5f"
            },
            "error_y": {
             "color": "#2a3f5f"
            },
            "marker": {
             "line": {
              "color": "white",
              "width": 0.5
             },
             "pattern": {
              "fillmode": "overlay",
              "size": 10,
              "solidity": 0.2
             }
            },
            "type": "bar"
           }
          ],
          "carpet": [
           {
            "aaxis": {
             "endlinecolor": "#2a3f5f",
             "gridcolor": "#C8D4E3",
             "linecolor": "#C8D4E3",
             "minorgridcolor": "#C8D4E3",
             "startlinecolor": "#2a3f5f"
            },
            "baxis": {
             "endlinecolor": "#2a3f5f",
             "gridcolor": "#C8D4E3",
             "linecolor": "#C8D4E3",
             "minorgridcolor": "#C8D4E3",
             "startlinecolor": "#2a3f5f"
            },
            "type": "carpet"
           }
          ],
          "choropleth": [
           {
            "colorbar": {
             "outlinewidth": 0,
             "ticks": ""
            },
            "type": "choropleth"
           }
          ],
          "contourcarpet": [
           {
            "colorbar": {
             "outlinewidth": 0,
             "ticks": ""
            },
            "type": "contourcarpet"
           }
          ],
          "contour": [
           {
            "colorbar": {
             "outlinewidth": 0,
             "ticks": ""
            },
            "colorscale": [
             [
              0.0,
              "#0d0887"
             ],
             [
              0.1111111111111111,
              "#46039f"
             ],
             [
              0.2222222222222222,
              "#7201a8"
             ],
             [
              0.3333333333333333,
              "#9c179e"
             ],
             [
              0.4444444444444444,
              "#bd3786"
             ],
             [
              0.5555555555555556,
              "#d8576b"
             ],
             [
              0.6666666666666666,
              "#ed7953"
             ],
             [
              0.7777777777777778,
              "#fb9f3a"
             ],
             [
              0.8888888888888888,
              "#fdca26"
             ],
             [
              1.0,
              "#f0f921"
             ]
            ],
            "type": "contour"
           }
          ],
          "heatmapgl": [
           {
            "colorbar": {
             "outlinewidth": 0,
             "ticks": ""
            },
            "colorscale": [
             [
              0.0,
              "#0d0887"
             ],
             [
              0.1111111111111111,
              "#46039f"
             ],
             [
              0.2222222222222222,
              "#7201a8"
             ],
             [
              0.3333333333333333,
              "#9c179e"
             ],
             [
              0.4444444444444444,
              "#bd3786"
             ],
             [
              0.5555555555555556,
              "#d8576b"
             ],
             [
              0.6666666666666666,
              "#ed7953"
             ],
             [
              0.7777777777777778,
              "#fb9f3a"
             ],
             [
              0.8888888888888888,
              "#fdca26"
             ],
             [
              1.0,
              "#f0f921"
             ]
            ],
            "type": "heatmapgl"
           }
          ],
          "heatmap": [
           {
            "colorbar": {
             "outlinewidth": 0,
             "ticks": ""
            },
            "colorscale": [
             [
              0.0,
              "#0d0887"
             ],
             [
              0.1111111111111111,
              "#46039f"
             ],
             [
              0.2222222222222222,
              "#7201a8"
             ],
             [
              0.3333333333333333,
              "#9c179e"
             ],
             [
              0.4444444444444444,
              "#bd3786"
             ],
             [
              0.5555555555555556,
              "#d8576b"
             ],
             [
              0.6666666666666666,
              "#ed7953"
             ],
             [
              0.7777777777777778,
              "#fb9f3a"
             ],
             [
              0.8888888888888888,
              "#fdca26"
             ],
             [
              1.0,
              "#f0f921"
             ]
            ],
            "type": "heatmap"
           }
          ],
          "histogram2dcontour": [
           {
            "colorbar": {
             "outlinewidth": 0,
             "ticks": ""
            },
            "colorscale": [
             [
              0.0,
              "#0d0887"
             ],
             [
              0.1111111111111111,
              "#46039f"
             ],
             [
              0.2222222222222222,
              "#7201a8"
             ],
             [
              0.3333333333333333,
              "#9c179e"
             ],
             [
              0.4444444444444444,
              "#bd3786"
             ],
             [
              0.5555555555555556,
              "#d8576b"
             ],
             [
              0.6666666666666666,
              "#ed7953"
             ],
             [
              0.7777777777777778,
              "#fb9f3a"
             ],
             [
              0.8888888888888888,
              "#fdca26"
             ],
             [
              1.0,
              "#f0f921"
             ]
            ],
            "type": "histogram2dcontour"
           }
          ],
          "histogram2d": [
           {
            "colorbar": {
             "outlinewidth": 0,
             "ticks": ""
            },
            "colorscale": [
             [
              0.0,
              "#0d0887"
             ],
             [
              0.1111111111111111,
              "#46039f"
             ],
             [
              0.2222222222222222,
              "#7201a8"
             ],
             [
              0.3333333333333333,
              "#9c179e"
             ],
             [
              0.4444444444444444,
              "#bd3786"
             ],
             [
              0.5555555555555556,
              "#d8576b"
             ],
             [
              0.6666666666666666,
              "#ed7953"
             ],
             [
              0.7777777777777778,
              "#fb9f3a"
             ],
             [
              0.8888888888888888,
              "#fdca26"
             ],
             [
              1.0,
              "#f0f921"
             ]
            ],
            "type": "histogram2d"
           }
          ],
          "histogram": [
           {
            "marker": {
             "pattern": {
              "fillmode": "overlay",
              "size": 10,
              "solidity": 0.2
             }
            },
            "type": "histogram"
           }
          ],
          "mesh3d": [
           {
            "colorbar": {
             "outlinewidth": 0,
             "ticks": ""
            },
            "type": "mesh3d"
           }
          ],
          "parcoords": [
           {
            "line": {
             "colorbar": {
              "outlinewidth": 0,
              "ticks": ""
             }
            },
            "type": "parcoords"
           }
          ],
          "pie": [
           {
            "automargin": true,
            "type": "pie"
           }
          ],
          "scatter3d": [
           {
            "line": {
             "colorbar": {
              "outlinewidth": 0,
              "ticks": ""
             }
            },
            "marker": {
             "colorbar": {
              "outlinewidth": 0,
              "ticks": ""
             }
            },
            "type": "scatter3d"
           }
          ],
          "scattercarpet": [
           {
            "marker": {
             "colorbar": {
              "outlinewidth": 0,
              "ticks": ""
             }
            },
            "type": "scattercarpet"
           }
          ],
          "scattergeo": [
           {
            "marker": {
             "colorbar": {
              "outlinewidth": 0,
              "ticks": ""
             }
            },
            "type": "scattergeo"
           }
          ],
          "scattergl": [
           {
            "marker": {
             "colorbar": {
              "outlinewidth": 0,
              "ticks": ""
             }
            },
            "type": "scattergl"
           }
          ],
          "scattermapbox": [
           {
            "marker": {
             "colorbar": {
              "outlinewidth": 0,
              "ticks": ""
             }
            },
            "type": "scattermapbox"
           }
          ],
          "scatterpolargl": [
           {
            "marker": {
             "colorbar": {
              "outlinewidth": 0,
              "ticks": ""
             }
            },
            "type": "scatterpolargl"
           }
          ],
          "scatterpolar": [
           {
            "marker": {
             "colorbar": {
              "outlinewidth": 0,
              "ticks": ""
             }
            },
            "type": "scatterpolar"
           }
          ],
          "scatter": [
           {
            "fillpattern": {
             "fillmode": "overlay",
             "size": 10,
             "solidity": 0.2
            },
            "type": "scatter"
           }
          ],
          "scatterternary": [
           {
            "marker": {
             "colorbar": {
              "outlinewidth": 0,
              "ticks": ""
             }
            },
            "type": "scatterternary"
           }
          ],
          "surface": [
           {
            "colorbar": {
             "outlinewidth": 0,
             "ticks": ""
            },
            "colorscale": [
             [
              0.0,
              "#0d0887"
             ],
             [
              0.1111111111111111,
              "#46039f"
             ],
             [
              0.2222222222222222,
              "#7201a8"
             ],
             [
              0.3333333333333333,
              "#9c179e"
             ],
             [
              0.4444444444444444,
              "#bd3786"
             ],
             [
              0.5555555555555556,
              "#d8576b"
             ],
             [
              0.6666666666666666,
              "#ed7953"
             ],
             [
              0.7777777777777778,
              "#fb9f3a"
             ],
             [
              0.8888888888888888,
              "#fdca26"
             ],
             [
              1.0,
              "#f0f921"
             ]
            ],
            "type": "surface"
           }
          ],
          "table": [
           {
            "cells": {
             "fill": {
              "color": "#EBF0F8"
             },
             "line": {
              "color": "white"
             }
            },
            "header": {
             "fill": {
              "color": "#C8D4E3"
             },
             "line": {
              "color": "white"
             }
            },
            "type": "table"
           }
          ]
         },
         "layout": {
          "annotationdefaults": {
           "arrowcolor": "#2a3f5f",
           "arrowhead": 0,
           "arrowwidth": 1
          },
          "autotypenumbers": "strict",
          "coloraxis": {
           "colorbar": {
            "outlinewidth": 0,
            "ticks": ""
           }
          },
          "colorscale": {
           "diverging": [
            [
             0,
             "#8e0152"
            ],
            [
             0.1,
             "#c51b7d"
            ],
            [
             0.2,
             "#de77ae"
            ],
            [
             0.3,
             "#f1b6da"
            ],
            [
             0.4,
             "#fde0ef"
            ],
            [
             0.5,
             "#f7f7f7"
            ],
            [
             0.6,
             "#e6f5d0"
            ],
            [
             0.7,
             "#b8e186"
            ],
            [
             0.8,
             "#7fbc41"
            ],
            [
             0.9,
             "#4d9221"
            ],
            [
             1,
             "#276419"
            ]
           ],
           "sequential": [
            [
             0.0,
             "#0d0887"
            ],
            [
             0.1111111111111111,
             "#46039f"
            ],
            [
             0.2222222222222222,
             "#7201a8"
            ],
            [
             0.3333333333333333,
             "#9c179e"
            ],
            [
             0.4444444444444444,
             "#bd3786"
            ],
            [
             0.5555555555555556,
             "#d8576b"
            ],
            [
             0.6666666666666666,
             "#ed7953"
            ],
            [
             0.7777777777777778,
             "#fb9f3a"
            ],
            [
             0.8888888888888888,
             "#fdca26"
            ],
            [
             1.0,
             "#f0f921"
            ]
           ],
           "sequentialminus": [
            [
             0.0,
             "#0d0887"
            ],
            [
             0.1111111111111111,
             "#46039f"
            ],
            [
             0.2222222222222222,
             "#7201a8"
            ],
            [
             0.3333333333333333,
             "#9c179e"
            ],
            [
             0.4444444444444444,
             "#bd3786"
            ],
            [
             0.5555555555555556,
             "#d8576b"
            ],
            [
             0.6666666666666666,
             "#ed7953"
            ],
            [
             0.7777777777777778,
             "#fb9f3a"
            ],
            [
             0.8888888888888888,
             "#fdca26"
            ],
            [
             1.0,
             "#f0f921"
            ]
           ]
          },
          "colorway": [
           "#636efa",
           "#EF553B",
           "#00cc96",
           "#ab63fa",
           "#FFA15A",
           "#19d3f3",
           "#FF6692",
           "#B6E880",
           "#FF97FF",
           "#FECB52"
          ],
          "font": {
           "color": "#2a3f5f"
          },
          "geo": {
           "bgcolor": "white",
           "lakecolor": "white",
           "landcolor": "white",
           "showlakes": true,
           "showland": true,
           "subunitcolor": "#C8D4E3"
          },
          "hoverlabel": {
           "align": "left"
          },
          "hovermode": "closest",
          "mapbox": {
           "style": "light"
          },
          "paper_bgcolor": "white",
          "plot_bgcolor": "white",
          "polar": {
           "angularaxis": {
            "gridcolor": "#EBF0F8",
            "linecolor": "#EBF0F8",
            "ticks": ""
           },
           "bgcolor": "white",
           "radialaxis": {
            "gridcolor": "#EBF0F8",
            "linecolor": "#EBF0F8",
            "ticks": ""
           }
          },
          "scene": {
           "xaxis": {
            "backgroundcolor": "white",
            "gridcolor": "#DFE8F3",
            "gridwidth": 2,
            "linecolor": "#EBF0F8",
            "showbackground": true,
            "ticks": "",
            "zerolinecolor": "#EBF0F8"
           },
           "yaxis": {
            "backgroundcolor": "white",
            "gridcolor": "#DFE8F3",
            "gridwidth": 2,
            "linecolor": "#EBF0F8",
            "showbackground": true,
            "ticks": "",
            "zerolinecolor": "#EBF0F8"
           },
           "zaxis": {
            "backgroundcolor": "white",
            "gridcolor": "#DFE8F3",
            "gridwidth": 2,
            "linecolor": "#EBF0F8",
            "showbackground": true,
            "ticks": "",
            "zerolinecolor": "#EBF0F8"
           }
          },
          "shapedefaults": {
           "line": {
            "color": "#2a3f5f"
           }
          },
          "ternary": {
           "aaxis": {
            "gridcolor": "#DFE8F3",
            "linecolor": "#A2B1C6",
            "ticks": ""
           },
           "baxis": {
            "gridcolor": "#DFE8F3",
            "linecolor": "#A2B1C6",
            "ticks": ""
           },
           "bgcolor": "white",
           "caxis": {
            "gridcolor": "#DFE8F3",
            "linecolor": "#A2B1C6",
            "ticks": ""
           }
          },
          "title": {
           "x": 0.05
          },
          "xaxis": {
           "automargin": true,
           "gridcolor": "#EBF0F8",
           "linecolor": "#EBF0F8",
           "ticks": "",
           "title": {
            "standoff": 15
           },
           "zerolinecolor": "#EBF0F8",
           "zerolinewidth": 2
          },
          "yaxis": {
           "automargin": true,
           "gridcolor": "#EBF0F8",
           "linecolor": "#EBF0F8",
           "ticks": "",
           "title": {
            "standoff": 15
           },
           "zerolinecolor": "#EBF0F8",
           "zerolinewidth": 2
          }
         }
        },
        "xaxis": {
         "anchor": "y",
         "domain": [
          0.0,
          1.0
         ],
         "title": {
          "text": "Weighted"
         }
        },
        "yaxis": {
         "anchor": "x",
         "domain": [
          0.0,
          1.0
         ],
         "title": {
          "text": "Overall"
         }
        },
        "legend": {
         "title": {
          "text": "Type"
         },
         "tracegroupgap": 0
        },
        "title": {
         "text": "Scores for each word, op een manier die weinig zegt eigenlijk"
        }
       },
       "config": {
        "plotlyServerURL": "https://plot.ly"
       }
      },
      "text/html": "<div>                            <div id=\"7b224ccd-2813-4432-8387-0e40859185e2\" class=\"plotly-graph-div\" style=\"height:525px; width:100%;\"></div>            <script type=\"text/javascript\">                require([\"plotly\"], function(Plotly) {                    window.PLOTLYENV=window.PLOTLYENV || {};                                    if (document.getElementById(\"7b224ccd-2813-4432-8387-0e40859185e2\")) {                    Plotly.newPlot(                        \"7b224ccd-2813-4432-8387-0e40859185e2\",                        [{\"hovertemplate\":\"Type=Noun\\u003cbr\\u003eWeighted=%{x}\\u003cbr\\u003eOverall=%{y}\\u003cbr\\u003eindex=%{text}\\u003cextra\\u003e\\u003c\\u002fextra\\u003e\",\"legendgroup\":\"Noun\",\"marker\":{\"color\":\"#636efa\",\"symbol\":\"circle\"},\"mode\":\"markers+text\",\"name\":\"Noun\",\"orientation\":\"v\",\"showlegend\":true,\"text\":[\"Avocat\",\"Bien\",\"Bureau\",\"Facult\\u00e9\",\"Glace\",\"Souris\",\"Tour\",\"Vol\"],\"x\":[0.8839285714285714,0.9885057471264368,0.46913580246913583,0.6666666666666666,0.6362740837317109,0.5422540820390284,0.7880952380952382,0.925],\"xaxis\":\"x\",\"y\":[0.9047619047619048,0.9897959183673469,0.5533980582524272,0.8125,0.6666666666666666,0.47058823529411764,0.7027027027027027,0.8941176470588236],\"yaxis\":\"y\",\"type\":\"scatter\"},{\"hovertemplate\":\"Type=Verb\\u003cbr\\u003eWeighted=%{x}\\u003cbr\\u003eOverall=%{y}\\u003cbr\\u003eindex=%{text}\\u003cextra\\u003e\\u003c\\u002fextra\\u003e\",\"legendgroup\":\"Verb\",\"marker\":{\"color\":\"#EF553B\",\"symbol\":\"circle\"},\"mode\":\"markers+text\",\"name\":\"Verb\",\"orientation\":\"v\",\"showlegend\":true,\"text\":[\"Filer\",\"Supporter\",\"Tirer\"],\"x\":[0.9148936170212766,0.3452380952380952,0.6495495495495496],\"xaxis\":\"x\",\"y\":[0.875,0.32727272727272727,0.5576923076923077],\"yaxis\":\"y\",\"type\":\"scatter\"}],                        {\"template\":{\"data\":{\"barpolar\":[{\"marker\":{\"line\":{\"color\":\"white\",\"width\":0.5},\"pattern\":{\"fillmode\":\"overlay\",\"size\":10,\"solidity\":0.2}},\"type\":\"barpolar\"}],\"bar\":[{\"error_x\":{\"color\":\"#2a3f5f\"},\"error_y\":{\"color\":\"#2a3f5f\"},\"marker\":{\"line\":{\"color\":\"white\",\"width\":0.5},\"pattern\":{\"fillmode\":\"overlay\",\"size\":10,\"solidity\":0.2}},\"type\":\"bar\"}],\"carpet\":[{\"aaxis\":{\"endlinecolor\":\"#2a3f5f\",\"gridcolor\":\"#C8D4E3\",\"linecolor\":\"#C8D4E3\",\"minorgridcolor\":\"#C8D4E3\",\"startlinecolor\":\"#2a3f5f\"},\"baxis\":{\"endlinecolor\":\"#2a3f5f\",\"gridcolor\":\"#C8D4E3\",\"linecolor\":\"#C8D4E3\",\"minorgridcolor\":\"#C8D4E3\",\"startlinecolor\":\"#2a3f5f\"},\"type\":\"carpet\"}],\"choropleth\":[{\"colorbar\":{\"outlinewidth\":0,\"ticks\":\"\"},\"type\":\"choropleth\"}],\"contourcarpet\":[{\"colorbar\":{\"outlinewidth\":0,\"ticks\":\"\"},\"type\":\"contourcarpet\"}],\"contour\":[{\"colorbar\":{\"outlinewidth\":0,\"ticks\":\"\"},\"colorscale\":[[0.0,\"#0d0887\"],[0.1111111111111111,\"#46039f\"],[0.2222222222222222,\"#7201a8\"],[0.3333333333333333,\"#9c179e\"],[0.4444444444444444,\"#bd3786\"],[0.5555555555555556,\"#d8576b\"],[0.6666666666666666,\"#ed7953\"],[0.7777777777777778,\"#fb9f3a\"],[0.8888888888888888,\"#fdca26\"],[1.0,\"#f0f921\"]],\"type\":\"contour\"}],\"heatmapgl\":[{\"colorbar\":{\"outlinewidth\":0,\"ticks\":\"\"},\"colorscale\":[[0.0,\"#0d0887\"],[0.1111111111111111,\"#46039f\"],[0.2222222222222222,\"#7201a8\"],[0.3333333333333333,\"#9c179e\"],[0.4444444444444444,\"#bd3786\"],[0.5555555555555556,\"#d8576b\"],[0.6666666666666666,\"#ed7953\"],[0.7777777777777778,\"#fb9f3a\"],[0.8888888888888888,\"#fdca26\"],[1.0,\"#f0f921\"]],\"type\":\"heatmapgl\"}],\"heatmap\":[{\"colorbar\":{\"outlinewidth\":0,\"ticks\":\"\"},\"colorscale\":[[0.0,\"#0d0887\"],[0.1111111111111111,\"#46039f\"],[0.2222222222222222,\"#7201a8\"],[0.3333333333333333,\"#9c179e\"],[0.4444444444444444,\"#bd3786\"],[0.5555555555555556,\"#d8576b\"],[0.6666666666666666,\"#ed7953\"],[0.7777777777777778,\"#fb9f3a\"],[0.8888888888888888,\"#fdca26\"],[1.0,\"#f0f921\"]],\"type\":\"heatmap\"}],\"histogram2dcontour\":[{\"colorbar\":{\"outlinewidth\":0,\"ticks\":\"\"},\"colorscale\":[[0.0,\"#0d0887\"],[0.1111111111111111,\"#46039f\"],[0.2222222222222222,\"#7201a8\"],[0.3333333333333333,\"#9c179e\"],[0.4444444444444444,\"#bd3786\"],[0.5555555555555556,\"#d8576b\"],[0.6666666666666666,\"#ed7953\"],[0.7777777777777778,\"#fb9f3a\"],[0.8888888888888888,\"#fdca26\"],[1.0,\"#f0f921\"]],\"type\":\"histogram2dcontour\"}],\"histogram2d\":[{\"colorbar\":{\"outlinewidth\":0,\"ticks\":\"\"},\"colorscale\":[[0.0,\"#0d0887\"],[0.1111111111111111,\"#46039f\"],[0.2222222222222222,\"#7201a8\"],[0.3333333333333333,\"#9c179e\"],[0.4444444444444444,\"#bd3786\"],[0.5555555555555556,\"#d8576b\"],[0.6666666666666666,\"#ed7953\"],[0.7777777777777778,\"#fb9f3a\"],[0.8888888888888888,\"#fdca26\"],[1.0,\"#f0f921\"]],\"type\":\"histogram2d\"}],\"histogram\":[{\"marker\":{\"pattern\":{\"fillmode\":\"overlay\",\"size\":10,\"solidity\":0.2}},\"type\":\"histogram\"}],\"mesh3d\":[{\"colorbar\":{\"outlinewidth\":0,\"ticks\":\"\"},\"type\":\"mesh3d\"}],\"parcoords\":[{\"line\":{\"colorbar\":{\"outlinewidth\":0,\"ticks\":\"\"}},\"type\":\"parcoords\"}],\"pie\":[{\"automargin\":true,\"type\":\"pie\"}],\"scatter3d\":[{\"line\":{\"colorbar\":{\"outlinewidth\":0,\"ticks\":\"\"}},\"marker\":{\"colorbar\":{\"outlinewidth\":0,\"ticks\":\"\"}},\"type\":\"scatter3d\"}],\"scattercarpet\":[{\"marker\":{\"colorbar\":{\"outlinewidth\":0,\"ticks\":\"\"}},\"type\":\"scattercarpet\"}],\"scattergeo\":[{\"marker\":{\"colorbar\":{\"outlinewidth\":0,\"ticks\":\"\"}},\"type\":\"scattergeo\"}],\"scattergl\":[{\"marker\":{\"colorbar\":{\"outlinewidth\":0,\"ticks\":\"\"}},\"type\":\"scattergl\"}],\"scattermapbox\":[{\"marker\":{\"colorbar\":{\"outlinewidth\":0,\"ticks\":\"\"}},\"type\":\"scattermapbox\"}],\"scatterpolargl\":[{\"marker\":{\"colorbar\":{\"outlinewidth\":0,\"ticks\":\"\"}},\"type\":\"scatterpolargl\"}],\"scatterpolar\":[{\"marker\":{\"colorbar\":{\"outlinewidth\":0,\"ticks\":\"\"}},\"type\":\"scatterpolar\"}],\"scatter\":[{\"fillpattern\":{\"fillmode\":\"overlay\",\"size\":10,\"solidity\":0.2},\"type\":\"scatter\"}],\"scatterternary\":[{\"marker\":{\"colorbar\":{\"outlinewidth\":0,\"ticks\":\"\"}},\"type\":\"scatterternary\"}],\"surface\":[{\"colorbar\":{\"outlinewidth\":0,\"ticks\":\"\"},\"colorscale\":[[0.0,\"#0d0887\"],[0.1111111111111111,\"#46039f\"],[0.2222222222222222,\"#7201a8\"],[0.3333333333333333,\"#9c179e\"],[0.4444444444444444,\"#bd3786\"],[0.5555555555555556,\"#d8576b\"],[0.6666666666666666,\"#ed7953\"],[0.7777777777777778,\"#fb9f3a\"],[0.8888888888888888,\"#fdca26\"],[1.0,\"#f0f921\"]],\"type\":\"surface\"}],\"table\":[{\"cells\":{\"fill\":{\"color\":\"#EBF0F8\"},\"line\":{\"color\":\"white\"}},\"header\":{\"fill\":{\"color\":\"#C8D4E3\"},\"line\":{\"color\":\"white\"}},\"type\":\"table\"}]},\"layout\":{\"annotationdefaults\":{\"arrowcolor\":\"#2a3f5f\",\"arrowhead\":0,\"arrowwidth\":1},\"autotypenumbers\":\"strict\",\"coloraxis\":{\"colorbar\":{\"outlinewidth\":0,\"ticks\":\"\"}},\"colorscale\":{\"diverging\":[[0,\"#8e0152\"],[0.1,\"#c51b7d\"],[0.2,\"#de77ae\"],[0.3,\"#f1b6da\"],[0.4,\"#fde0ef\"],[0.5,\"#f7f7f7\"],[0.6,\"#e6f5d0\"],[0.7,\"#b8e186\"],[0.8,\"#7fbc41\"],[0.9,\"#4d9221\"],[1,\"#276419\"]],\"sequential\":[[0.0,\"#0d0887\"],[0.1111111111111111,\"#46039f\"],[0.2222222222222222,\"#7201a8\"],[0.3333333333333333,\"#9c179e\"],[0.4444444444444444,\"#bd3786\"],[0.5555555555555556,\"#d8576b\"],[0.6666666666666666,\"#ed7953\"],[0.7777777777777778,\"#fb9f3a\"],[0.8888888888888888,\"#fdca26\"],[1.0,\"#f0f921\"]],\"sequentialminus\":[[0.0,\"#0d0887\"],[0.1111111111111111,\"#46039f\"],[0.2222222222222222,\"#7201a8\"],[0.3333333333333333,\"#9c179e\"],[0.4444444444444444,\"#bd3786\"],[0.5555555555555556,\"#d8576b\"],[0.6666666666666666,\"#ed7953\"],[0.7777777777777778,\"#fb9f3a\"],[0.8888888888888888,\"#fdca26\"],[1.0,\"#f0f921\"]]},\"colorway\":[\"#636efa\",\"#EF553B\",\"#00cc96\",\"#ab63fa\",\"#FFA15A\",\"#19d3f3\",\"#FF6692\",\"#B6E880\",\"#FF97FF\",\"#FECB52\"],\"font\":{\"color\":\"#2a3f5f\"},\"geo\":{\"bgcolor\":\"white\",\"lakecolor\":\"white\",\"landcolor\":\"white\",\"showlakes\":true,\"showland\":true,\"subunitcolor\":\"#C8D4E3\"},\"hoverlabel\":{\"align\":\"left\"},\"hovermode\":\"closest\",\"mapbox\":{\"style\":\"light\"},\"paper_bgcolor\":\"white\",\"plot_bgcolor\":\"white\",\"polar\":{\"angularaxis\":{\"gridcolor\":\"#EBF0F8\",\"linecolor\":\"#EBF0F8\",\"ticks\":\"\"},\"bgcolor\":\"white\",\"radialaxis\":{\"gridcolor\":\"#EBF0F8\",\"linecolor\":\"#EBF0F8\",\"ticks\":\"\"}},\"scene\":{\"xaxis\":{\"backgroundcolor\":\"white\",\"gridcolor\":\"#DFE8F3\",\"gridwidth\":2,\"linecolor\":\"#EBF0F8\",\"showbackground\":true,\"ticks\":\"\",\"zerolinecolor\":\"#EBF0F8\"},\"yaxis\":{\"backgroundcolor\":\"white\",\"gridcolor\":\"#DFE8F3\",\"gridwidth\":2,\"linecolor\":\"#EBF0F8\",\"showbackground\":true,\"ticks\":\"\",\"zerolinecolor\":\"#EBF0F8\"},\"zaxis\":{\"backgroundcolor\":\"white\",\"gridcolor\":\"#DFE8F3\",\"gridwidth\":2,\"linecolor\":\"#EBF0F8\",\"showbackground\":true,\"ticks\":\"\",\"zerolinecolor\":\"#EBF0F8\"}},\"shapedefaults\":{\"line\":{\"color\":\"#2a3f5f\"}},\"ternary\":{\"aaxis\":{\"gridcolor\":\"#DFE8F3\",\"linecolor\":\"#A2B1C6\",\"ticks\":\"\"},\"baxis\":{\"gridcolor\":\"#DFE8F3\",\"linecolor\":\"#A2B1C6\",\"ticks\":\"\"},\"bgcolor\":\"white\",\"caxis\":{\"gridcolor\":\"#DFE8F3\",\"linecolor\":\"#A2B1C6\",\"ticks\":\"\"}},\"title\":{\"x\":0.05},\"xaxis\":{\"automargin\":true,\"gridcolor\":\"#EBF0F8\",\"linecolor\":\"#EBF0F8\",\"ticks\":\"\",\"title\":{\"standoff\":15},\"zerolinecolor\":\"#EBF0F8\",\"zerolinewidth\":2},\"yaxis\":{\"automargin\":true,\"gridcolor\":\"#EBF0F8\",\"linecolor\":\"#EBF0F8\",\"ticks\":\"\",\"title\":{\"standoff\":15},\"zerolinecolor\":\"#EBF0F8\",\"zerolinewidth\":2}}},\"xaxis\":{\"anchor\":\"y\",\"domain\":[0.0,1.0],\"title\":{\"text\":\"Weighted\"}},\"yaxis\":{\"anchor\":\"x\",\"domain\":[0.0,1.0],\"title\":{\"text\":\"Overall\"}},\"legend\":{\"title\":{\"text\":\"Type\"},\"tracegroupgap\":0},\"title\":{\"text\":\"Scores for each word, op een manier die weinig zegt eigenlijk\"}},                        {\"responsive\": true}                    ).then(function(){\n                            \nvar gd = document.getElementById('7b224ccd-2813-4432-8387-0e40859185e2');\nvar x = new MutationObserver(function (mutations, observer) {{\n        var display = window.getComputedStyle(gd).display;\n        if (!display || display === 'none') {{\n            console.log([gd, 'removed!']);\n            Plotly.purge(gd);\n            observer.disconnect();\n        }}\n}});\n\n// Listen for the removal of the full notebook cells\nvar notebookContainer = gd.closest('#notebook-container');\nif (notebookContainer) {{\n    x.observe(notebookContainer, {childList: true});\n}}\n\n// Listen for the clearing of the current output cell\nvar outputEl = gd.closest('.output');\nif (outputEl) {{\n    x.observe(outputEl, {childList: true});\n}}\n\n                        })                };                });            </script>        </div>"
     },
     "metadata": {},
     "output_type": "display_data"
    },
    {
     "data": {
      "application/vnd.plotly.v1+json": {
       "data": [
        {
         "hovertemplate": "Type=Noun<br>V_measure=%{x}<br>F1=%{y}<br>index=%{text}<extra></extra>",
         "legendgroup": "Noun",
         "marker": {
          "color": "#636efa",
          "symbol": "circle"
         },
         "mode": "markers+text",
         "name": "Noun",
         "orientation": "v",
         "showlegend": true,
         "text": [
          "Avocat",
          "Bien",
          "Bureau",
          "Faculté",
          "Glace",
          "Souris",
          "Tour",
          "Vol"
         ],
         "x": [
          0.7020502716093676,
          0.9541014187403705,
          0.36063894529682966,
          0.7988668250065365,
          0.4643790540203866,
          0.5396005727595151,
          0.725616091556109,
          0.8023925458634226
         ],
         "xaxis": "x",
         "y": [
          0.9430778371954842,
          0.9897579446451628,
          0.48951075575861414,
          0.738556338028169,
          0.6291852828438194,
          0.6182677495101778,
          0.7480694980694981,
          0.9427662957074723
         ],
         "yaxis": "y",
         "type": "scatter"
        },
        {
         "hovertemplate": "Type=Verb<br>V_measure=%{x}<br>F1=%{y}<br>index=%{text}<extra></extra>",
         "legendgroup": "Verb",
         "marker": {
          "color": "#EF553B",
          "symbol": "circle"
         },
         "mode": "markers+text",
         "name": "Verb",
         "orientation": "v",
         "showlegend": true,
         "text": [
          "Filer",
          "Supporter",
          "Tirer"
         ],
         "x": [
          0.8818594500715287,
          0.349227095723641,
          0.1737910725675302
         ],
         "xaxis": "x",
         "y": [
          0.9283536585365854,
          0.4621260297730886,
          0.5991711991711991
         ],
         "yaxis": "y",
         "type": "scatter"
        }
       ],
       "layout": {
        "template": {
         "data": {
          "barpolar": [
           {
            "marker": {
             "line": {
              "color": "white",
              "width": 0.5
             },
             "pattern": {
              "fillmode": "overlay",
              "size": 10,
              "solidity": 0.2
             }
            },
            "type": "barpolar"
           }
          ],
          "bar": [
           {
            "error_x": {
             "color": "#2a3f5f"
            },
            "error_y": {
             "color": "#2a3f5f"
            },
            "marker": {
             "line": {
              "color": "white",
              "width": 0.5
             },
             "pattern": {
              "fillmode": "overlay",
              "size": 10,
              "solidity": 0.2
             }
            },
            "type": "bar"
           }
          ],
          "carpet": [
           {
            "aaxis": {
             "endlinecolor": "#2a3f5f",
             "gridcolor": "#C8D4E3",
             "linecolor": "#C8D4E3",
             "minorgridcolor": "#C8D4E3",
             "startlinecolor": "#2a3f5f"
            },
            "baxis": {
             "endlinecolor": "#2a3f5f",
             "gridcolor": "#C8D4E3",
             "linecolor": "#C8D4E3",
             "minorgridcolor": "#C8D4E3",
             "startlinecolor": "#2a3f5f"
            },
            "type": "carpet"
           }
          ],
          "choropleth": [
           {
            "colorbar": {
             "outlinewidth": 0,
             "ticks": ""
            },
            "type": "choropleth"
           }
          ],
          "contourcarpet": [
           {
            "colorbar": {
             "outlinewidth": 0,
             "ticks": ""
            },
            "type": "contourcarpet"
           }
          ],
          "contour": [
           {
            "colorbar": {
             "outlinewidth": 0,
             "ticks": ""
            },
            "colorscale": [
             [
              0.0,
              "#0d0887"
             ],
             [
              0.1111111111111111,
              "#46039f"
             ],
             [
              0.2222222222222222,
              "#7201a8"
             ],
             [
              0.3333333333333333,
              "#9c179e"
             ],
             [
              0.4444444444444444,
              "#bd3786"
             ],
             [
              0.5555555555555556,
              "#d8576b"
             ],
             [
              0.6666666666666666,
              "#ed7953"
             ],
             [
              0.7777777777777778,
              "#fb9f3a"
             ],
             [
              0.8888888888888888,
              "#fdca26"
             ],
             [
              1.0,
              "#f0f921"
             ]
            ],
            "type": "contour"
           }
          ],
          "heatmapgl": [
           {
            "colorbar": {
             "outlinewidth": 0,
             "ticks": ""
            },
            "colorscale": [
             [
              0.0,
              "#0d0887"
             ],
             [
              0.1111111111111111,
              "#46039f"
             ],
             [
              0.2222222222222222,
              "#7201a8"
             ],
             [
              0.3333333333333333,
              "#9c179e"
             ],
             [
              0.4444444444444444,
              "#bd3786"
             ],
             [
              0.5555555555555556,
              "#d8576b"
             ],
             [
              0.6666666666666666,
              "#ed7953"
             ],
             [
              0.7777777777777778,
              "#fb9f3a"
             ],
             [
              0.8888888888888888,
              "#fdca26"
             ],
             [
              1.0,
              "#f0f921"
             ]
            ],
            "type": "heatmapgl"
           }
          ],
          "heatmap": [
           {
            "colorbar": {
             "outlinewidth": 0,
             "ticks": ""
            },
            "colorscale": [
             [
              0.0,
              "#0d0887"
             ],
             [
              0.1111111111111111,
              "#46039f"
             ],
             [
              0.2222222222222222,
              "#7201a8"
             ],
             [
              0.3333333333333333,
              "#9c179e"
             ],
             [
              0.4444444444444444,
              "#bd3786"
             ],
             [
              0.5555555555555556,
              "#d8576b"
             ],
             [
              0.6666666666666666,
              "#ed7953"
             ],
             [
              0.7777777777777778,
              "#fb9f3a"
             ],
             [
              0.8888888888888888,
              "#fdca26"
             ],
             [
              1.0,
              "#f0f921"
             ]
            ],
            "type": "heatmap"
           }
          ],
          "histogram2dcontour": [
           {
            "colorbar": {
             "outlinewidth": 0,
             "ticks": ""
            },
            "colorscale": [
             [
              0.0,
              "#0d0887"
             ],
             [
              0.1111111111111111,
              "#46039f"
             ],
             [
              0.2222222222222222,
              "#7201a8"
             ],
             [
              0.3333333333333333,
              "#9c179e"
             ],
             [
              0.4444444444444444,
              "#bd3786"
             ],
             [
              0.5555555555555556,
              "#d8576b"
             ],
             [
              0.6666666666666666,
              "#ed7953"
             ],
             [
              0.7777777777777778,
              "#fb9f3a"
             ],
             [
              0.8888888888888888,
              "#fdca26"
             ],
             [
              1.0,
              "#f0f921"
             ]
            ],
            "type": "histogram2dcontour"
           }
          ],
          "histogram2d": [
           {
            "colorbar": {
             "outlinewidth": 0,
             "ticks": ""
            },
            "colorscale": [
             [
              0.0,
              "#0d0887"
             ],
             [
              0.1111111111111111,
              "#46039f"
             ],
             [
              0.2222222222222222,
              "#7201a8"
             ],
             [
              0.3333333333333333,
              "#9c179e"
             ],
             [
              0.4444444444444444,
              "#bd3786"
             ],
             [
              0.5555555555555556,
              "#d8576b"
             ],
             [
              0.6666666666666666,
              "#ed7953"
             ],
             [
              0.7777777777777778,
              "#fb9f3a"
             ],
             [
              0.8888888888888888,
              "#fdca26"
             ],
             [
              1.0,
              "#f0f921"
             ]
            ],
            "type": "histogram2d"
           }
          ],
          "histogram": [
           {
            "marker": {
             "pattern": {
              "fillmode": "overlay",
              "size": 10,
              "solidity": 0.2
             }
            },
            "type": "histogram"
           }
          ],
          "mesh3d": [
           {
            "colorbar": {
             "outlinewidth": 0,
             "ticks": ""
            },
            "type": "mesh3d"
           }
          ],
          "parcoords": [
           {
            "line": {
             "colorbar": {
              "outlinewidth": 0,
              "ticks": ""
             }
            },
            "type": "parcoords"
           }
          ],
          "pie": [
           {
            "automargin": true,
            "type": "pie"
           }
          ],
          "scatter3d": [
           {
            "line": {
             "colorbar": {
              "outlinewidth": 0,
              "ticks": ""
             }
            },
            "marker": {
             "colorbar": {
              "outlinewidth": 0,
              "ticks": ""
             }
            },
            "type": "scatter3d"
           }
          ],
          "scattercarpet": [
           {
            "marker": {
             "colorbar": {
              "outlinewidth": 0,
              "ticks": ""
             }
            },
            "type": "scattercarpet"
           }
          ],
          "scattergeo": [
           {
            "marker": {
             "colorbar": {
              "outlinewidth": 0,
              "ticks": ""
             }
            },
            "type": "scattergeo"
           }
          ],
          "scattergl": [
           {
            "marker": {
             "colorbar": {
              "outlinewidth": 0,
              "ticks": ""
             }
            },
            "type": "scattergl"
           }
          ],
          "scattermapbox": [
           {
            "marker": {
             "colorbar": {
              "outlinewidth": 0,
              "ticks": ""
             }
            },
            "type": "scattermapbox"
           }
          ],
          "scatterpolargl": [
           {
            "marker": {
             "colorbar": {
              "outlinewidth": 0,
              "ticks": ""
             }
            },
            "type": "scatterpolargl"
           }
          ],
          "scatterpolar": [
           {
            "marker": {
             "colorbar": {
              "outlinewidth": 0,
              "ticks": ""
             }
            },
            "type": "scatterpolar"
           }
          ],
          "scatter": [
           {
            "fillpattern": {
             "fillmode": "overlay",
             "size": 10,
             "solidity": 0.2
            },
            "type": "scatter"
           }
          ],
          "scatterternary": [
           {
            "marker": {
             "colorbar": {
              "outlinewidth": 0,
              "ticks": ""
             }
            },
            "type": "scatterternary"
           }
          ],
          "surface": [
           {
            "colorbar": {
             "outlinewidth": 0,
             "ticks": ""
            },
            "colorscale": [
             [
              0.0,
              "#0d0887"
             ],
             [
              0.1111111111111111,
              "#46039f"
             ],
             [
              0.2222222222222222,
              "#7201a8"
             ],
             [
              0.3333333333333333,
              "#9c179e"
             ],
             [
              0.4444444444444444,
              "#bd3786"
             ],
             [
              0.5555555555555556,
              "#d8576b"
             ],
             [
              0.6666666666666666,
              "#ed7953"
             ],
             [
              0.7777777777777778,
              "#fb9f3a"
             ],
             [
              0.8888888888888888,
              "#fdca26"
             ],
             [
              1.0,
              "#f0f921"
             ]
            ],
            "type": "surface"
           }
          ],
          "table": [
           {
            "cells": {
             "fill": {
              "color": "#EBF0F8"
             },
             "line": {
              "color": "white"
             }
            },
            "header": {
             "fill": {
              "color": "#C8D4E3"
             },
             "line": {
              "color": "white"
             }
            },
            "type": "table"
           }
          ]
         },
         "layout": {
          "annotationdefaults": {
           "arrowcolor": "#2a3f5f",
           "arrowhead": 0,
           "arrowwidth": 1
          },
          "autotypenumbers": "strict",
          "coloraxis": {
           "colorbar": {
            "outlinewidth": 0,
            "ticks": ""
           }
          },
          "colorscale": {
           "diverging": [
            [
             0,
             "#8e0152"
            ],
            [
             0.1,
             "#c51b7d"
            ],
            [
             0.2,
             "#de77ae"
            ],
            [
             0.3,
             "#f1b6da"
            ],
            [
             0.4,
             "#fde0ef"
            ],
            [
             0.5,
             "#f7f7f7"
            ],
            [
             0.6,
             "#e6f5d0"
            ],
            [
             0.7,
             "#b8e186"
            ],
            [
             0.8,
             "#7fbc41"
            ],
            [
             0.9,
             "#4d9221"
            ],
            [
             1,
             "#276419"
            ]
           ],
           "sequential": [
            [
             0.0,
             "#0d0887"
            ],
            [
             0.1111111111111111,
             "#46039f"
            ],
            [
             0.2222222222222222,
             "#7201a8"
            ],
            [
             0.3333333333333333,
             "#9c179e"
            ],
            [
             0.4444444444444444,
             "#bd3786"
            ],
            [
             0.5555555555555556,
             "#d8576b"
            ],
            [
             0.6666666666666666,
             "#ed7953"
            ],
            [
             0.7777777777777778,
             "#fb9f3a"
            ],
            [
             0.8888888888888888,
             "#fdca26"
            ],
            [
             1.0,
             "#f0f921"
            ]
           ],
           "sequentialminus": [
            [
             0.0,
             "#0d0887"
            ],
            [
             0.1111111111111111,
             "#46039f"
            ],
            [
             0.2222222222222222,
             "#7201a8"
            ],
            [
             0.3333333333333333,
             "#9c179e"
            ],
            [
             0.4444444444444444,
             "#bd3786"
            ],
            [
             0.5555555555555556,
             "#d8576b"
            ],
            [
             0.6666666666666666,
             "#ed7953"
            ],
            [
             0.7777777777777778,
             "#fb9f3a"
            ],
            [
             0.8888888888888888,
             "#fdca26"
            ],
            [
             1.0,
             "#f0f921"
            ]
           ]
          },
          "colorway": [
           "#636efa",
           "#EF553B",
           "#00cc96",
           "#ab63fa",
           "#FFA15A",
           "#19d3f3",
           "#FF6692",
           "#B6E880",
           "#FF97FF",
           "#FECB52"
          ],
          "font": {
           "color": "#2a3f5f"
          },
          "geo": {
           "bgcolor": "white",
           "lakecolor": "white",
           "landcolor": "white",
           "showlakes": true,
           "showland": true,
           "subunitcolor": "#C8D4E3"
          },
          "hoverlabel": {
           "align": "left"
          },
          "hovermode": "closest",
          "mapbox": {
           "style": "light"
          },
          "paper_bgcolor": "white",
          "plot_bgcolor": "white",
          "polar": {
           "angularaxis": {
            "gridcolor": "#EBF0F8",
            "linecolor": "#EBF0F8",
            "ticks": ""
           },
           "bgcolor": "white",
           "radialaxis": {
            "gridcolor": "#EBF0F8",
            "linecolor": "#EBF0F8",
            "ticks": ""
           }
          },
          "scene": {
           "xaxis": {
            "backgroundcolor": "white",
            "gridcolor": "#DFE8F3",
            "gridwidth": 2,
            "linecolor": "#EBF0F8",
            "showbackground": true,
            "ticks": "",
            "zerolinecolor": "#EBF0F8"
           },
           "yaxis": {
            "backgroundcolor": "white",
            "gridcolor": "#DFE8F3",
            "gridwidth": 2,
            "linecolor": "#EBF0F8",
            "showbackground": true,
            "ticks": "",
            "zerolinecolor": "#EBF0F8"
           },
           "zaxis": {
            "backgroundcolor": "white",
            "gridcolor": "#DFE8F3",
            "gridwidth": 2,
            "linecolor": "#EBF0F8",
            "showbackground": true,
            "ticks": "",
            "zerolinecolor": "#EBF0F8"
           }
          },
          "shapedefaults": {
           "line": {
            "color": "#2a3f5f"
           }
          },
          "ternary": {
           "aaxis": {
            "gridcolor": "#DFE8F3",
            "linecolor": "#A2B1C6",
            "ticks": ""
           },
           "baxis": {
            "gridcolor": "#DFE8F3",
            "linecolor": "#A2B1C6",
            "ticks": ""
           },
           "bgcolor": "white",
           "caxis": {
            "gridcolor": "#DFE8F3",
            "linecolor": "#A2B1C6",
            "ticks": ""
           }
          },
          "title": {
           "x": 0.05
          },
          "xaxis": {
           "automargin": true,
           "gridcolor": "#EBF0F8",
           "linecolor": "#EBF0F8",
           "ticks": "",
           "title": {
            "standoff": 15
           },
           "zerolinecolor": "#EBF0F8",
           "zerolinewidth": 2
          },
          "yaxis": {
           "automargin": true,
           "gridcolor": "#EBF0F8",
           "linecolor": "#EBF0F8",
           "ticks": "",
           "title": {
            "standoff": 15
           },
           "zerolinecolor": "#EBF0F8",
           "zerolinewidth": 2
          }
         }
        },
        "xaxis": {
         "anchor": "y",
         "domain": [
          0.0,
          1.0
         ],
         "title": {
          "text": "V_measure"
         }
        },
        "yaxis": {
         "anchor": "x",
         "domain": [
          0.0,
          1.0
         ],
         "title": {
          "text": "F1"
         }
        },
        "legend": {
         "title": {
          "text": "Type"
         },
         "tracegroupgap": 0
        },
        "title": {
         "text": "Scores for each word"
        }
       },
       "config": {
        "plotlyServerURL": "https://plot.ly"
       }
      },
      "text/html": "<div>                            <div id=\"788e5292-7a52-4970-82f9-4e514fa14523\" class=\"plotly-graph-div\" style=\"height:525px; width:100%;\"></div>            <script type=\"text/javascript\">                require([\"plotly\"], function(Plotly) {                    window.PLOTLYENV=window.PLOTLYENV || {};                                    if (document.getElementById(\"788e5292-7a52-4970-82f9-4e514fa14523\")) {                    Plotly.newPlot(                        \"788e5292-7a52-4970-82f9-4e514fa14523\",                        [{\"hovertemplate\":\"Type=Noun\\u003cbr\\u003eV_measure=%{x}\\u003cbr\\u003eF1=%{y}\\u003cbr\\u003eindex=%{text}\\u003cextra\\u003e\\u003c\\u002fextra\\u003e\",\"legendgroup\":\"Noun\",\"marker\":{\"color\":\"#636efa\",\"symbol\":\"circle\"},\"mode\":\"markers+text\",\"name\":\"Noun\",\"orientation\":\"v\",\"showlegend\":true,\"text\":[\"Avocat\",\"Bien\",\"Bureau\",\"Facult\\u00e9\",\"Glace\",\"Souris\",\"Tour\",\"Vol\"],\"x\":[0.7020502716093676,0.9541014187403705,0.36063894529682966,0.7988668250065365,0.4643790540203866,0.5396005727595151,0.725616091556109,0.8023925458634226],\"xaxis\":\"x\",\"y\":[0.9430778371954842,0.9897579446451628,0.48951075575861414,0.738556338028169,0.6291852828438194,0.6182677495101778,0.7480694980694981,0.9427662957074723],\"yaxis\":\"y\",\"type\":\"scatter\"},{\"hovertemplate\":\"Type=Verb\\u003cbr\\u003eV_measure=%{x}\\u003cbr\\u003eF1=%{y}\\u003cbr\\u003eindex=%{text}\\u003cextra\\u003e\\u003c\\u002fextra\\u003e\",\"legendgroup\":\"Verb\",\"marker\":{\"color\":\"#EF553B\",\"symbol\":\"circle\"},\"mode\":\"markers+text\",\"name\":\"Verb\",\"orientation\":\"v\",\"showlegend\":true,\"text\":[\"Filer\",\"Supporter\",\"Tirer\"],\"x\":[0.8818594500715287,0.349227095723641,0.1737910725675302],\"xaxis\":\"x\",\"y\":[0.9283536585365854,0.4621260297730886,0.5991711991711991],\"yaxis\":\"y\",\"type\":\"scatter\"}],                        {\"template\":{\"data\":{\"barpolar\":[{\"marker\":{\"line\":{\"color\":\"white\",\"width\":0.5},\"pattern\":{\"fillmode\":\"overlay\",\"size\":10,\"solidity\":0.2}},\"type\":\"barpolar\"}],\"bar\":[{\"error_x\":{\"color\":\"#2a3f5f\"},\"error_y\":{\"color\":\"#2a3f5f\"},\"marker\":{\"line\":{\"color\":\"white\",\"width\":0.5},\"pattern\":{\"fillmode\":\"overlay\",\"size\":10,\"solidity\":0.2}},\"type\":\"bar\"}],\"carpet\":[{\"aaxis\":{\"endlinecolor\":\"#2a3f5f\",\"gridcolor\":\"#C8D4E3\",\"linecolor\":\"#C8D4E3\",\"minorgridcolor\":\"#C8D4E3\",\"startlinecolor\":\"#2a3f5f\"},\"baxis\":{\"endlinecolor\":\"#2a3f5f\",\"gridcolor\":\"#C8D4E3\",\"linecolor\":\"#C8D4E3\",\"minorgridcolor\":\"#C8D4E3\",\"startlinecolor\":\"#2a3f5f\"},\"type\":\"carpet\"}],\"choropleth\":[{\"colorbar\":{\"outlinewidth\":0,\"ticks\":\"\"},\"type\":\"choropleth\"}],\"contourcarpet\":[{\"colorbar\":{\"outlinewidth\":0,\"ticks\":\"\"},\"type\":\"contourcarpet\"}],\"contour\":[{\"colorbar\":{\"outlinewidth\":0,\"ticks\":\"\"},\"colorscale\":[[0.0,\"#0d0887\"],[0.1111111111111111,\"#46039f\"],[0.2222222222222222,\"#7201a8\"],[0.3333333333333333,\"#9c179e\"],[0.4444444444444444,\"#bd3786\"],[0.5555555555555556,\"#d8576b\"],[0.6666666666666666,\"#ed7953\"],[0.7777777777777778,\"#fb9f3a\"],[0.8888888888888888,\"#fdca26\"],[1.0,\"#f0f921\"]],\"type\":\"contour\"}],\"heatmapgl\":[{\"colorbar\":{\"outlinewidth\":0,\"ticks\":\"\"},\"colorscale\":[[0.0,\"#0d0887\"],[0.1111111111111111,\"#46039f\"],[0.2222222222222222,\"#7201a8\"],[0.3333333333333333,\"#9c179e\"],[0.4444444444444444,\"#bd3786\"],[0.5555555555555556,\"#d8576b\"],[0.6666666666666666,\"#ed7953\"],[0.7777777777777778,\"#fb9f3a\"],[0.8888888888888888,\"#fdca26\"],[1.0,\"#f0f921\"]],\"type\":\"heatmapgl\"}],\"heatmap\":[{\"colorbar\":{\"outlinewidth\":0,\"ticks\":\"\"},\"colorscale\":[[0.0,\"#0d0887\"],[0.1111111111111111,\"#46039f\"],[0.2222222222222222,\"#7201a8\"],[0.3333333333333333,\"#9c179e\"],[0.4444444444444444,\"#bd3786\"],[0.5555555555555556,\"#d8576b\"],[0.6666666666666666,\"#ed7953\"],[0.7777777777777778,\"#fb9f3a\"],[0.8888888888888888,\"#fdca26\"],[1.0,\"#f0f921\"]],\"type\":\"heatmap\"}],\"histogram2dcontour\":[{\"colorbar\":{\"outlinewidth\":0,\"ticks\":\"\"},\"colorscale\":[[0.0,\"#0d0887\"],[0.1111111111111111,\"#46039f\"],[0.2222222222222222,\"#7201a8\"],[0.3333333333333333,\"#9c179e\"],[0.4444444444444444,\"#bd3786\"],[0.5555555555555556,\"#d8576b\"],[0.6666666666666666,\"#ed7953\"],[0.7777777777777778,\"#fb9f3a\"],[0.8888888888888888,\"#fdca26\"],[1.0,\"#f0f921\"]],\"type\":\"histogram2dcontour\"}],\"histogram2d\":[{\"colorbar\":{\"outlinewidth\":0,\"ticks\":\"\"},\"colorscale\":[[0.0,\"#0d0887\"],[0.1111111111111111,\"#46039f\"],[0.2222222222222222,\"#7201a8\"],[0.3333333333333333,\"#9c179e\"],[0.4444444444444444,\"#bd3786\"],[0.5555555555555556,\"#d8576b\"],[0.6666666666666666,\"#ed7953\"],[0.7777777777777778,\"#fb9f3a\"],[0.8888888888888888,\"#fdca26\"],[1.0,\"#f0f921\"]],\"type\":\"histogram2d\"}],\"histogram\":[{\"marker\":{\"pattern\":{\"fillmode\":\"overlay\",\"size\":10,\"solidity\":0.2}},\"type\":\"histogram\"}],\"mesh3d\":[{\"colorbar\":{\"outlinewidth\":0,\"ticks\":\"\"},\"type\":\"mesh3d\"}],\"parcoords\":[{\"line\":{\"colorbar\":{\"outlinewidth\":0,\"ticks\":\"\"}},\"type\":\"parcoords\"}],\"pie\":[{\"automargin\":true,\"type\":\"pie\"}],\"scatter3d\":[{\"line\":{\"colorbar\":{\"outlinewidth\":0,\"ticks\":\"\"}},\"marker\":{\"colorbar\":{\"outlinewidth\":0,\"ticks\":\"\"}},\"type\":\"scatter3d\"}],\"scattercarpet\":[{\"marker\":{\"colorbar\":{\"outlinewidth\":0,\"ticks\":\"\"}},\"type\":\"scattercarpet\"}],\"scattergeo\":[{\"marker\":{\"colorbar\":{\"outlinewidth\":0,\"ticks\":\"\"}},\"type\":\"scattergeo\"}],\"scattergl\":[{\"marker\":{\"colorbar\":{\"outlinewidth\":0,\"ticks\":\"\"}},\"type\":\"scattergl\"}],\"scattermapbox\":[{\"marker\":{\"colorbar\":{\"outlinewidth\":0,\"ticks\":\"\"}},\"type\":\"scattermapbox\"}],\"scatterpolargl\":[{\"marker\":{\"colorbar\":{\"outlinewidth\":0,\"ticks\":\"\"}},\"type\":\"scatterpolargl\"}],\"scatterpolar\":[{\"marker\":{\"colorbar\":{\"outlinewidth\":0,\"ticks\":\"\"}},\"type\":\"scatterpolar\"}],\"scatter\":[{\"fillpattern\":{\"fillmode\":\"overlay\",\"size\":10,\"solidity\":0.2},\"type\":\"scatter\"}],\"scatterternary\":[{\"marker\":{\"colorbar\":{\"outlinewidth\":0,\"ticks\":\"\"}},\"type\":\"scatterternary\"}],\"surface\":[{\"colorbar\":{\"outlinewidth\":0,\"ticks\":\"\"},\"colorscale\":[[0.0,\"#0d0887\"],[0.1111111111111111,\"#46039f\"],[0.2222222222222222,\"#7201a8\"],[0.3333333333333333,\"#9c179e\"],[0.4444444444444444,\"#bd3786\"],[0.5555555555555556,\"#d8576b\"],[0.6666666666666666,\"#ed7953\"],[0.7777777777777778,\"#fb9f3a\"],[0.8888888888888888,\"#fdca26\"],[1.0,\"#f0f921\"]],\"type\":\"surface\"}],\"table\":[{\"cells\":{\"fill\":{\"color\":\"#EBF0F8\"},\"line\":{\"color\":\"white\"}},\"header\":{\"fill\":{\"color\":\"#C8D4E3\"},\"line\":{\"color\":\"white\"}},\"type\":\"table\"}]},\"layout\":{\"annotationdefaults\":{\"arrowcolor\":\"#2a3f5f\",\"arrowhead\":0,\"arrowwidth\":1},\"autotypenumbers\":\"strict\",\"coloraxis\":{\"colorbar\":{\"outlinewidth\":0,\"ticks\":\"\"}},\"colorscale\":{\"diverging\":[[0,\"#8e0152\"],[0.1,\"#c51b7d\"],[0.2,\"#de77ae\"],[0.3,\"#f1b6da\"],[0.4,\"#fde0ef\"],[0.5,\"#f7f7f7\"],[0.6,\"#e6f5d0\"],[0.7,\"#b8e186\"],[0.8,\"#7fbc41\"],[0.9,\"#4d9221\"],[1,\"#276419\"]],\"sequential\":[[0.0,\"#0d0887\"],[0.1111111111111111,\"#46039f\"],[0.2222222222222222,\"#7201a8\"],[0.3333333333333333,\"#9c179e\"],[0.4444444444444444,\"#bd3786\"],[0.5555555555555556,\"#d8576b\"],[0.6666666666666666,\"#ed7953\"],[0.7777777777777778,\"#fb9f3a\"],[0.8888888888888888,\"#fdca26\"],[1.0,\"#f0f921\"]],\"sequentialminus\":[[0.0,\"#0d0887\"],[0.1111111111111111,\"#46039f\"],[0.2222222222222222,\"#7201a8\"],[0.3333333333333333,\"#9c179e\"],[0.4444444444444444,\"#bd3786\"],[0.5555555555555556,\"#d8576b\"],[0.6666666666666666,\"#ed7953\"],[0.7777777777777778,\"#fb9f3a\"],[0.8888888888888888,\"#fdca26\"],[1.0,\"#f0f921\"]]},\"colorway\":[\"#636efa\",\"#EF553B\",\"#00cc96\",\"#ab63fa\",\"#FFA15A\",\"#19d3f3\",\"#FF6692\",\"#B6E880\",\"#FF97FF\",\"#FECB52\"],\"font\":{\"color\":\"#2a3f5f\"},\"geo\":{\"bgcolor\":\"white\",\"lakecolor\":\"white\",\"landcolor\":\"white\",\"showlakes\":true,\"showland\":true,\"subunitcolor\":\"#C8D4E3\"},\"hoverlabel\":{\"align\":\"left\"},\"hovermode\":\"closest\",\"mapbox\":{\"style\":\"light\"},\"paper_bgcolor\":\"white\",\"plot_bgcolor\":\"white\",\"polar\":{\"angularaxis\":{\"gridcolor\":\"#EBF0F8\",\"linecolor\":\"#EBF0F8\",\"ticks\":\"\"},\"bgcolor\":\"white\",\"radialaxis\":{\"gridcolor\":\"#EBF0F8\",\"linecolor\":\"#EBF0F8\",\"ticks\":\"\"}},\"scene\":{\"xaxis\":{\"backgroundcolor\":\"white\",\"gridcolor\":\"#DFE8F3\",\"gridwidth\":2,\"linecolor\":\"#EBF0F8\",\"showbackground\":true,\"ticks\":\"\",\"zerolinecolor\":\"#EBF0F8\"},\"yaxis\":{\"backgroundcolor\":\"white\",\"gridcolor\":\"#DFE8F3\",\"gridwidth\":2,\"linecolor\":\"#EBF0F8\",\"showbackground\":true,\"ticks\":\"\",\"zerolinecolor\":\"#EBF0F8\"},\"zaxis\":{\"backgroundcolor\":\"white\",\"gridcolor\":\"#DFE8F3\",\"gridwidth\":2,\"linecolor\":\"#EBF0F8\",\"showbackground\":true,\"ticks\":\"\",\"zerolinecolor\":\"#EBF0F8\"}},\"shapedefaults\":{\"line\":{\"color\":\"#2a3f5f\"}},\"ternary\":{\"aaxis\":{\"gridcolor\":\"#DFE8F3\",\"linecolor\":\"#A2B1C6\",\"ticks\":\"\"},\"baxis\":{\"gridcolor\":\"#DFE8F3\",\"linecolor\":\"#A2B1C6\",\"ticks\":\"\"},\"bgcolor\":\"white\",\"caxis\":{\"gridcolor\":\"#DFE8F3\",\"linecolor\":\"#A2B1C6\",\"ticks\":\"\"}},\"title\":{\"x\":0.05},\"xaxis\":{\"automargin\":true,\"gridcolor\":\"#EBF0F8\",\"linecolor\":\"#EBF0F8\",\"ticks\":\"\",\"title\":{\"standoff\":15},\"zerolinecolor\":\"#EBF0F8\",\"zerolinewidth\":2},\"yaxis\":{\"automargin\":true,\"gridcolor\":\"#EBF0F8\",\"linecolor\":\"#EBF0F8\",\"ticks\":\"\",\"title\":{\"standoff\":15},\"zerolinecolor\":\"#EBF0F8\",\"zerolinewidth\":2}}},\"xaxis\":{\"anchor\":\"y\",\"domain\":[0.0,1.0],\"title\":{\"text\":\"V_measure\"}},\"yaxis\":{\"anchor\":\"x\",\"domain\":[0.0,1.0],\"title\":{\"text\":\"F1\"}},\"legend\":{\"title\":{\"text\":\"Type\"},\"tracegroupgap\":0},\"title\":{\"text\":\"Scores for each word\"}},                        {\"responsive\": true}                    ).then(function(){\n                            \nvar gd = document.getElementById('788e5292-7a52-4970-82f9-4e514fa14523');\nvar x = new MutationObserver(function (mutations, observer) {{\n        var display = window.getComputedStyle(gd).display;\n        if (!display || display === 'none') {{\n            console.log([gd, 'removed!']);\n            Plotly.purge(gd);\n            observer.disconnect();\n        }}\n}});\n\n// Listen for the removal of the full notebook cells\nvar notebookContainer = gd.closest('#notebook-container');\nif (notebookContainer) {{\n    x.observe(notebookContainer, {childList: true});\n}}\n\n// Listen for the clearing of the current output cell\nvar outputEl = gd.closest('.output');\nif (outputEl) {{\n    x.observe(outputEl, {childList: true});\n}}\n\n                        })                };                });            </script>        </div>"
     },
     "metadata": {},
     "output_type": "display_data"
    }
   ],
   "source": [
    "fig_zegt_weinig = px.scatter(df, x=\"Weighted\", y=\"Overall\", text=df.index, color=\"Type\", title=\"Scores for each word, op een manier die weinig zegt eigenlijk\",template=\"plotly_white\")\n",
    "fig_zegt_weinig.show()\n",
    "fig_zegt_weinig = px.scatter(df, x=\"Weighted\", y=\"Overall\", text=df.index, color=\"Type\", title=\"Scores for each word, op een manier die weinig zegt eigenlijk\",template=\"plotly_white\")\n",
    "fig = px.scatter(df, x=\"V_measure\", y=\"F1\", text=df.index, color=\"Type\", title=\"Scores for each word\",template=\"plotly_white\")\n",
    "fig.show()"
   ],
   "metadata": {
    "collapsed": false,
    "ExecuteTime": {
     "end_time": "2024-05-17T20:04:41.595972Z",
     "start_time": "2024-05-17T20:04:41.435571Z"
    }
   },
   "id": "9cf5576848665d34",
   "execution_count": 29
  },
  {
   "cell_type": "markdown",
   "source": [
    "# Estimating the number of clusters\n",
    "We will now calculate if the model correctly predicts the number of clusters.\n",
    "We will count the number of different manually annotated senses and compare this to the amount of generated clusters."
   ],
   "metadata": {
    "collapsed": false
   },
   "id": "c80357d060300fe0"
  },
  {
   "cell_type": "code",
   "outputs": [
    {
     "name": "stdout",
     "output_type": "stream",
     "text": [
      "Avocat\n",
      "Number of senses: 2\n",
      "Number of clusters: 3\n",
      "1 too many clusters\n",
      "Bien\n",
      "Number of senses: 3\n",
      "Number of clusters: 3\n",
      "Correct number of clusters\n",
      "Bureau\n",
      "Number of senses: 3\n",
      "Number of clusters: 2\n",
      "1 too few clusters\n",
      "Faculté\n",
      "Number of senses: 3\n",
      "Number of clusters: 2\n",
      "1 too few clusters\n",
      "Filer\n",
      "Number of senses: 3\n",
      "Number of clusters: 4\n",
      "1 too many clusters\n",
      "Glace\n",
      "Number of senses: 5\n",
      "Number of clusters: 4\n",
      "1 too few clusters\n",
      "Souris\n",
      "Number of senses: 3\n",
      "Number of clusters: 9\n",
      "6 too many clusters\n",
      "Supporter\n",
      "Number of senses: 3\n",
      "Number of clusters: 10\n",
      "7 too many clusters\n",
      "Tirer\n",
      "Number of senses: 2\n",
      "Number of clusters: 3\n",
      "1 too many clusters\n",
      "Tour\n",
      "Number of senses: 5\n",
      "Number of clusters: 8\n",
      "3 too many clusters\n",
      "Vol\n",
      "Number of senses: 2\n",
      "Number of clusters: 3\n",
      "1 too many clusters\n",
      "Correct: ['Bien']\n",
      "Close: ['Avocat', 'Bureau', 'Faculté', 'Filer', 'Glace', 'Tirer', 'Vol']\n",
      "Incorrect: ['Souris', 'Supporter', 'Tour']\n",
      "Percentage approach: 0.7272727272727273\n"
     ]
    }
   ],
   "source": [
    "correct = []\n",
    "close = [] # One cluster off, often the result of different granularity. Is it ok to report like this or do we have to be more strict?\n",
    "incorrect = []\n",
    "differences = {}\n",
    "for filename in os.listdir(f\"{model_name}/Experiment_1/Curated/\"):\n",
    "    if filename.endswith(\".csv\"):\n",
    "        df = pd.read_csv(f\"{model_name}/Experiment_1/Curated/\" + filename, sep=\";\", encoding=\"utf-8\", header=0)\n",
    "        target_word = df[\"source\"][1]\n",
    "        print(target_word)\n",
    "        # We count the number of different senses\n",
    "        senses = len(df[\"sense\"].unique())\n",
    "        # We count the number of clusters\n",
    "        clusters = len(df[\"cluster\"].unique())\n",
    "        print(\"Number of senses:\", senses)\n",
    "        print(\"Number of clusters:\", clusters)\n",
    "        if senses == clusters:\n",
    "            print(\"Correct number of clusters\")\n",
    "            difference = 0\n",
    "            correct.append(target_word)\n",
    "        elif senses > clusters:\n",
    "            difference = senses - clusters\n",
    "            print(difference, \"too few clusters\")\n",
    "            if difference == 1:\n",
    "                close.append(target_word)\n",
    "            else:\n",
    "                incorrect.append(target_word)\n",
    "            difference = -difference\n",
    "        elif senses < clusters:\n",
    "            difference = clusters - senses\n",
    "            print(difference, \"too many clusters\")\n",
    "            if difference == 1:\n",
    "                close.append(target_word)\n",
    "            else:\n",
    "                incorrect.append(target_word)\n",
    "                \n",
    "        differences[target_word] = difference\n",
    "        # We calculate the score\n",
    "        #print(\"Score:\", score)\n",
    "        #scores[target_word] = score\n",
    "\n",
    "print(\"Correct:\", correct)\n",
    "print(\"Close:\", close)\n",
    "print(\"Incorrect:\", incorrect)\n",
    "print(\"Percentage approach:\", (len(correct) + len(close)) / ((len(correct) + len(close) + len(incorrect))))"
   ],
   "metadata": {
    "collapsed": false,
    "ExecuteTime": {
     "end_time": "2024-05-17T20:04:42.459629Z",
     "start_time": "2024-05-17T20:04:42.431684Z"
    }
   },
   "id": "4cea3e6d1b15630a",
   "execution_count": 30
  },
  {
   "cell_type": "markdown",
   "source": [
    "**Results for Camembert:**\n",
    "Correct: ['Filer', 'Glace']\n",
    "Close: ['Avocat', 'Bien', 'Bureau', 'Faculté', 'Tirer', 'Tour', 'Vol']\n",
    "Incorrect: ['Souris', 'Supporter']\n",
    "Percentage approach: 0.8181818181818182\n",
    "\n",
    "**Results for Flaubert:**\n",
    "Correct: ['Bien']\n",
    "Close: ['Avocat', 'Bureau', 'Faculté', 'Filer', 'Glace', 'Tirer', 'Vol']\n",
    "Incorrect: ['Souris', 'Supporter', 'Tour']\n",
    "Percentage approach: 0.7272727272727273"
   ],
   "metadata": {
    "collapsed": false
   },
   "id": "88dc8d0173e2ba41"
  },
  {
   "cell_type": "code",
   "outputs": [],
   "source": [
    "# We add a \"difference\" column to the dataframe\n",
    "df_with_average[\"Cluster_Estimation\"] = [differences[word] if word in differences else \"\" for word in df_with_average.index]"
   ],
   "metadata": {
    "collapsed": false,
    "ExecuteTime": {
     "end_time": "2024-05-17T20:04:43.682656Z",
     "start_time": "2024-05-17T20:04:43.677378Z"
    }
   },
   "id": "aa822cdc9b22db56",
   "execution_count": 31
  },
  {
   "cell_type": "code",
   "outputs": [],
   "source": [
    "# We save these dataframes to a csv file\n",
    "if not os.path.exists(\"Results/Experiment_1/Curated/\"):\n",
    "    os.makedirs(\"Results/Experiment_1/Curated\")\n",
    "df_with_average.to_csv(f\"Results/Experiment_1/Curated/{model_name}_scores.csv\", sep=\";\", encoding=\"utf-8\")\n",
    "fig.write_html(f\"Results/Experiment_1/Curated/{model_name}_scores.html\")\n",
    "df_all_in_one.to_csv(f\"Results/Experiment_1/Curated/all_in_one_scores.csv\", sep=\";\", encoding=\"utf-8\")"
   ],
   "metadata": {
    "collapsed": false,
    "ExecuteTime": {
     "end_time": "2024-05-17T20:04:44.358503Z",
     "start_time": "2024-05-17T20:04:44.314924Z"
    }
   },
   "id": "855177f329151573",
   "execution_count": 32
  },
  {
   "cell_type": "markdown",
   "source": [
    "# Comparing the model_names"
   ],
   "metadata": {
    "collapsed": false
   },
   "id": "87ea861e7fa8b754"
  },
  {
   "cell_type": "code",
   "outputs": [],
   "source": [
    "# We load in both dataframes in the \"Results\" folder\n",
    "df_camembert = pd.read_csv(\"Results/Experiment_1/Curated/Camembert_scores.csv\", sep=\";\", encoding=\"utf-8\", index_col=0)\n",
    "df_flaubert = pd.read_csv(\"Results/Experiment_1/Curated/Flaubert_scores.csv\", sep=\";\", encoding=\"utf-8\", index_col=0)\n",
    "\n",
    "# We add a column to both dataframes to indicate the model\n",
    "df_camembert[\"Model\"] = \"Camembert\"\n",
    "df_flaubert[\"Model\"] = \"Flaubert\"\n",
    "\n",
    "# We concatenate both dataframes\n",
    "df = pd.concat([df_camembert, df_flaubert])"
   ],
   "metadata": {
    "collapsed": false,
    "ExecuteTime": {
     "end_time": "2024-05-17T20:04:45.542628Z",
     "start_time": "2024-05-17T20:04:45.532852Z"
    }
   },
   "id": "b745d15d0368c613",
   "execution_count": 33
  },
  {
   "cell_type": "code",
   "outputs": [],
   "source": [
    "# We split the dataframe into two separate dataframes\n",
    "df_weighted = df[[\"Weighted\", \"Model\"]]\n",
    "df_overall = df[[\"Overall\", \"Model\"]]\n",
    "df_v_measure = df[[\"V_measure\", \"Model\"]]\n",
    "df_rand = df[[\"Rand\", \"Model\"]]\n",
    "df_f1 = df[[\"F1\", \"Model\"]]"
   ],
   "metadata": {
    "collapsed": false,
    "ExecuteTime": {
     "end_time": "2024-05-17T20:04:46.096948Z",
     "start_time": "2024-05-17T20:04:46.089487Z"
    }
   },
   "id": "7797faedeaa8d85f",
   "execution_count": 34
  },
  {
   "cell_type": "code",
   "outputs": [],
   "source": [
    "# We transform the dataframes:\n",
    "# - We make two columns, one for each model\n",
    "# - We regroup the instances of the same word (index) in one row\n",
    "df_weighted = df_weighted.pivot(columns=\"Model\")\n",
    "df_overall = df_overall.pivot(columns=\"Model\")\n",
    "df_v_measure = df_v_measure.pivot(columns=\"Model\")\n",
    "df_rand = df_rand.pivot(columns=\"Model\")\n",
    "df_f1 = df_f1.pivot(columns=\"Model\")"
   ],
   "metadata": {
    "collapsed": false,
    "ExecuteTime": {
     "end_time": "2024-05-17T20:04:46.632443Z",
     "start_time": "2024-05-17T20:04:46.614987Z"
    }
   },
   "id": "528f8ddae5fac988",
   "execution_count": 35
  },
  {
   "cell_type": "code",
   "outputs": [],
   "source": [
    "# We save this dataframe to a csv file and to excel\n",
    "df_weighted.to_csv(\"Results/Experiment_1/Curated/weighted_scores.csv\", sep=\";\", encoding=\"utf-8\")\n",
    "df_overall.to_csv(\"Results/Experiment_1/Curated/overall_scores.csv\", sep=\";\", encoding=\"utf-8\")\n",
    "df_v_measure.to_csv(\"Results/Experiment_1/Curated/v_measure_scores.csv\", sep=\";\", encoding=\"utf-8\")\n",
    "df_rand.to_csv(\"Results/Experiment_1/Curated/rand_scores.csv\", sep=\";\", encoding=\"utf-8\")\n",
    "df_f1.to_csv(\"Results/Experiment_1/Curated/F1_scores.csv\", sep=\";\", encoding=\"utf-8\")\n",
    "\n",
    "df_weighted.to_excel(\"Results/Experiment_1/Curated/weighted_scores.xlsx\")\n",
    "df_overall.to_excel(\"Results/Experiment_1/Curated/overall_scores.xlsx\")\n",
    "df_v_measure.to_excel(\"Results/Experiment_1/Curated/v_measure_scores.xlsx\")\n",
    "df_rand.to_excel(\"Results/Experiment_1/Curated/rand_scores.xlsx\")\n",
    "df_f1.to_excel(\"Results/Experiment_1/Curated/F1_scores.xlsx\")\n"
   ],
   "metadata": {
    "collapsed": false,
    "ExecuteTime": {
     "end_time": "2024-05-17T20:04:47.204513Z",
     "start_time": "2024-05-17T20:04:47.109842Z"
    }
   },
   "id": "beba4c7d95170e1b",
   "execution_count": 36
  },
  {
   "cell_type": "code",
   "outputs": [],
   "source": [
    "# using openpyxl, we open the Results/weighted_scores.xlsx file\n",
    "# we put the highest value of each row in bold\n",
    "wb = openpyxl.load_workbook(\"Results/Experiment_1/Curated/weighted_scores.xlsx\")\n",
    "ws = wb.active\n",
    "for row in ws.iter_rows(min_row=4, max_row=ws.max_row, min_col=2, max_col=3):\n",
    "    max_value = max([cell.value for cell in row])\n",
    "    for cell in row:\n",
    "        if cell.value == max_value:\n",
    "            cell.font = openpyxl.styles.Font(bold=True)\n",
    "wb.save(\"Results/Experiment_1/Curated/weighted_scores.xlsx\")\n",
    "\n",
    "# We do the same for the overall scores\n",
    "wb = openpyxl.load_workbook(\"Results/Experiment_1/Curated/overall_scores.xlsx\")\n",
    "ws = wb.active\n",
    "for row in ws.iter_rows(min_row=4, max_row=ws.max_row, min_col=2, max_col=3):\n",
    "    max_value = max([cell.value for cell in row])\n",
    "    for cell in row:\n",
    "        if cell.value == max_value:\n",
    "            cell.font = openpyxl.styles.Font(bold=True)\n",
    "wb.save(\"Results/Experiment_1/Curated/overall_scores.xlsx\")\n",
    "\n",
    "# We do the same for the v measure scores\n",
    "wb = openpyxl.load_workbook(\"Results/Experiment_1/Curated/v_measure_scores.xlsx\")\n",
    "ws = wb.active\n",
    "for row in ws.iter_rows(min_row=4, max_row=ws.max_row, min_col=2, max_col=3):\n",
    "    max_value = max([cell.value for cell in row])\n",
    "    for cell in row:\n",
    "        if cell.value == max_value:\n",
    "            cell.font = openpyxl.styles.Font(bold=True)\n",
    "wb.save(\"Results/Experiment_1/Curated/v_measure_scores.xlsx\")\n",
    "\n",
    "# and the same for f1 scores\n",
    "\n",
    "# We do the same for the overall scores\n",
    "wb = openpyxl.load_workbook(\"Results/Experiment_1/Curated/F1_scores.xlsx\")\n",
    "ws = wb.active\n",
    "for row in ws.iter_rows(min_row=4, max_row=ws.max_row, min_col=2, max_col=3):\n",
    "    max_value = max([cell.value for cell in row])\n",
    "    for cell in row:\n",
    "        if cell.value == max_value:\n",
    "            cell.font = openpyxl.styles.Font(bold=True)\n",
    "wb.save(\"Results/Experiment_1/Curated/F1_scores.xlsx\")"
   ],
   "metadata": {
    "collapsed": false,
    "ExecuteTime": {
     "end_time": "2024-05-17T20:04:47.749356Z",
     "start_time": "2024-05-17T20:04:47.655839Z"
    }
   },
   "id": "9717e412193e2974",
   "execution_count": 37
  },
  {
   "cell_type": "code",
   "outputs": [],
   "source": [
    "df.to_csv(\"Results/Experiment_1/Curated/results.csv\", sep=\";\", encoding=\"utf-8\")"
   ],
   "metadata": {
    "collapsed": false,
    "ExecuteTime": {
     "end_time": "2024-05-17T20:04:48.178712Z",
     "start_time": "2024-05-17T20:04:48.170990Z"
    }
   },
   "id": "a7796fa72130a8ee",
   "execution_count": 38
  },
  {
   "cell_type": "code",
   "outputs": [
    {
     "data": {
      "application/vnd.plotly.v1+json": {
       "data": [
        {
         "alignmentgroup": "True",
         "hovertemplate": "Model=%{x}<br>Weighted=%{y}<extra></extra>",
         "legendgroup": "Camembert",
         "marker": {
          "color": "#636efa"
         },
         "name": "Camembert",
         "notched": false,
         "offsetgroup": "Camembert",
         "orientation": "v",
         "showlegend": true,
         "x": [
          "Camembert",
          "Camembert",
          "Camembert",
          "Camembert",
          "Camembert",
          "Camembert",
          "Camembert",
          "Camembert",
          "Camembert",
          "Camembert",
          "Camembert",
          "Camembert",
          "Camembert",
          "Camembert"
         ],
         "x0": " ",
         "xaxis": "x",
         "y": [
          0.8214285714285714,
          0.8519821721792166,
          0.5,
          0.4362934362934363,
          0.7710564930300808,
          0.7634839924670433,
          0.615810434090004,
          0.5103174603174603,
          0.8445945945945945,
          0.6898809523809525,
          0.7583333333333333,
          0.6796516115215696,
          0.7086561826473785,
          0.6875619491013357
         ],
         "y0": " ",
         "yaxis": "y",
         "type": "box"
        },
        {
         "alignmentgroup": "True",
         "hovertemplate": "Model=%{x}<br>Weighted=%{y}<extra></extra>",
         "legendgroup": "Flaubert",
         "marker": {
          "color": "#EF553B"
         },
         "name": "Flaubert",
         "notched": false,
         "offsetgroup": "Flaubert",
         "orientation": "v",
         "showlegend": true,
         "x": [
          "Flaubert",
          "Flaubert",
          "Flaubert",
          "Flaubert",
          "Flaubert",
          "Flaubert",
          "Flaubert",
          "Flaubert",
          "Flaubert",
          "Flaubert",
          "Flaubert",
          "Flaubert",
          "Flaubert",
          "Flaubert"
         ],
         "x0": " ",
         "xaxis": "x",
         "y": [
          0.8839285714285714,
          0.9885057471264368,
          0.4691358024691358,
          0.6666666666666666,
          0.9148936170212766,
          0.6362740837317109,
          0.5422540820390284,
          0.3452380952380952,
          0.6495495495495496,
          0.7880952380952382,
          0.925,
          0.7374825239445986,
          0.6365604206029738,
          0.7099583139423372
         ],
         "y0": " ",
         "yaxis": "y",
         "type": "box"
        }
       ],
       "layout": {
        "template": {
         "data": {
          "barpolar": [
           {
            "marker": {
             "line": {
              "color": "white",
              "width": 0.5
             },
             "pattern": {
              "fillmode": "overlay",
              "size": 10,
              "solidity": 0.2
             }
            },
            "type": "barpolar"
           }
          ],
          "bar": [
           {
            "error_x": {
             "color": "#2a3f5f"
            },
            "error_y": {
             "color": "#2a3f5f"
            },
            "marker": {
             "line": {
              "color": "white",
              "width": 0.5
             },
             "pattern": {
              "fillmode": "overlay",
              "size": 10,
              "solidity": 0.2
             }
            },
            "type": "bar"
           }
          ],
          "carpet": [
           {
            "aaxis": {
             "endlinecolor": "#2a3f5f",
             "gridcolor": "#C8D4E3",
             "linecolor": "#C8D4E3",
             "minorgridcolor": "#C8D4E3",
             "startlinecolor": "#2a3f5f"
            },
            "baxis": {
             "endlinecolor": "#2a3f5f",
             "gridcolor": "#C8D4E3",
             "linecolor": "#C8D4E3",
             "minorgridcolor": "#C8D4E3",
             "startlinecolor": "#2a3f5f"
            },
            "type": "carpet"
           }
          ],
          "choropleth": [
           {
            "colorbar": {
             "outlinewidth": 0,
             "ticks": ""
            },
            "type": "choropleth"
           }
          ],
          "contourcarpet": [
           {
            "colorbar": {
             "outlinewidth": 0,
             "ticks": ""
            },
            "type": "contourcarpet"
           }
          ],
          "contour": [
           {
            "colorbar": {
             "outlinewidth": 0,
             "ticks": ""
            },
            "colorscale": [
             [
              0.0,
              "#0d0887"
             ],
             [
              0.1111111111111111,
              "#46039f"
             ],
             [
              0.2222222222222222,
              "#7201a8"
             ],
             [
              0.3333333333333333,
              "#9c179e"
             ],
             [
              0.4444444444444444,
              "#bd3786"
             ],
             [
              0.5555555555555556,
              "#d8576b"
             ],
             [
              0.6666666666666666,
              "#ed7953"
             ],
             [
              0.7777777777777778,
              "#fb9f3a"
             ],
             [
              0.8888888888888888,
              "#fdca26"
             ],
             [
              1.0,
              "#f0f921"
             ]
            ],
            "type": "contour"
           }
          ],
          "heatmapgl": [
           {
            "colorbar": {
             "outlinewidth": 0,
             "ticks": ""
            },
            "colorscale": [
             [
              0.0,
              "#0d0887"
             ],
             [
              0.1111111111111111,
              "#46039f"
             ],
             [
              0.2222222222222222,
              "#7201a8"
             ],
             [
              0.3333333333333333,
              "#9c179e"
             ],
             [
              0.4444444444444444,
              "#bd3786"
             ],
             [
              0.5555555555555556,
              "#d8576b"
             ],
             [
              0.6666666666666666,
              "#ed7953"
             ],
             [
              0.7777777777777778,
              "#fb9f3a"
             ],
             [
              0.8888888888888888,
              "#fdca26"
             ],
             [
              1.0,
              "#f0f921"
             ]
            ],
            "type": "heatmapgl"
           }
          ],
          "heatmap": [
           {
            "colorbar": {
             "outlinewidth": 0,
             "ticks": ""
            },
            "colorscale": [
             [
              0.0,
              "#0d0887"
             ],
             [
              0.1111111111111111,
              "#46039f"
             ],
             [
              0.2222222222222222,
              "#7201a8"
             ],
             [
              0.3333333333333333,
              "#9c179e"
             ],
             [
              0.4444444444444444,
              "#bd3786"
             ],
             [
              0.5555555555555556,
              "#d8576b"
             ],
             [
              0.6666666666666666,
              "#ed7953"
             ],
             [
              0.7777777777777778,
              "#fb9f3a"
             ],
             [
              0.8888888888888888,
              "#fdca26"
             ],
             [
              1.0,
              "#f0f921"
             ]
            ],
            "type": "heatmap"
           }
          ],
          "histogram2dcontour": [
           {
            "colorbar": {
             "outlinewidth": 0,
             "ticks": ""
            },
            "colorscale": [
             [
              0.0,
              "#0d0887"
             ],
             [
              0.1111111111111111,
              "#46039f"
             ],
             [
              0.2222222222222222,
              "#7201a8"
             ],
             [
              0.3333333333333333,
              "#9c179e"
             ],
             [
              0.4444444444444444,
              "#bd3786"
             ],
             [
              0.5555555555555556,
              "#d8576b"
             ],
             [
              0.6666666666666666,
              "#ed7953"
             ],
             [
              0.7777777777777778,
              "#fb9f3a"
             ],
             [
              0.8888888888888888,
              "#fdca26"
             ],
             [
              1.0,
              "#f0f921"
             ]
            ],
            "type": "histogram2dcontour"
           }
          ],
          "histogram2d": [
           {
            "colorbar": {
             "outlinewidth": 0,
             "ticks": ""
            },
            "colorscale": [
             [
              0.0,
              "#0d0887"
             ],
             [
              0.1111111111111111,
              "#46039f"
             ],
             [
              0.2222222222222222,
              "#7201a8"
             ],
             [
              0.3333333333333333,
              "#9c179e"
             ],
             [
              0.4444444444444444,
              "#bd3786"
             ],
             [
              0.5555555555555556,
              "#d8576b"
             ],
             [
              0.6666666666666666,
              "#ed7953"
             ],
             [
              0.7777777777777778,
              "#fb9f3a"
             ],
             [
              0.8888888888888888,
              "#fdca26"
             ],
             [
              1.0,
              "#f0f921"
             ]
            ],
            "type": "histogram2d"
           }
          ],
          "histogram": [
           {
            "marker": {
             "pattern": {
              "fillmode": "overlay",
              "size": 10,
              "solidity": 0.2
             }
            },
            "type": "histogram"
           }
          ],
          "mesh3d": [
           {
            "colorbar": {
             "outlinewidth": 0,
             "ticks": ""
            },
            "type": "mesh3d"
           }
          ],
          "parcoords": [
           {
            "line": {
             "colorbar": {
              "outlinewidth": 0,
              "ticks": ""
             }
            },
            "type": "parcoords"
           }
          ],
          "pie": [
           {
            "automargin": true,
            "type": "pie"
           }
          ],
          "scatter3d": [
           {
            "line": {
             "colorbar": {
              "outlinewidth": 0,
              "ticks": ""
             }
            },
            "marker": {
             "colorbar": {
              "outlinewidth": 0,
              "ticks": ""
             }
            },
            "type": "scatter3d"
           }
          ],
          "scattercarpet": [
           {
            "marker": {
             "colorbar": {
              "outlinewidth": 0,
              "ticks": ""
             }
            },
            "type": "scattercarpet"
           }
          ],
          "scattergeo": [
           {
            "marker": {
             "colorbar": {
              "outlinewidth": 0,
              "ticks": ""
             }
            },
            "type": "scattergeo"
           }
          ],
          "scattergl": [
           {
            "marker": {
             "colorbar": {
              "outlinewidth": 0,
              "ticks": ""
             }
            },
            "type": "scattergl"
           }
          ],
          "scattermapbox": [
           {
            "marker": {
             "colorbar": {
              "outlinewidth": 0,
              "ticks": ""
             }
            },
            "type": "scattermapbox"
           }
          ],
          "scatterpolargl": [
           {
            "marker": {
             "colorbar": {
              "outlinewidth": 0,
              "ticks": ""
             }
            },
            "type": "scatterpolargl"
           }
          ],
          "scatterpolar": [
           {
            "marker": {
             "colorbar": {
              "outlinewidth": 0,
              "ticks": ""
             }
            },
            "type": "scatterpolar"
           }
          ],
          "scatter": [
           {
            "fillpattern": {
             "fillmode": "overlay",
             "size": 10,
             "solidity": 0.2
            },
            "type": "scatter"
           }
          ],
          "scatterternary": [
           {
            "marker": {
             "colorbar": {
              "outlinewidth": 0,
              "ticks": ""
             }
            },
            "type": "scatterternary"
           }
          ],
          "surface": [
           {
            "colorbar": {
             "outlinewidth": 0,
             "ticks": ""
            },
            "colorscale": [
             [
              0.0,
              "#0d0887"
             ],
             [
              0.1111111111111111,
              "#46039f"
             ],
             [
              0.2222222222222222,
              "#7201a8"
             ],
             [
              0.3333333333333333,
              "#9c179e"
             ],
             [
              0.4444444444444444,
              "#bd3786"
             ],
             [
              0.5555555555555556,
              "#d8576b"
             ],
             [
              0.6666666666666666,
              "#ed7953"
             ],
             [
              0.7777777777777778,
              "#fb9f3a"
             ],
             [
              0.8888888888888888,
              "#fdca26"
             ],
             [
              1.0,
              "#f0f921"
             ]
            ],
            "type": "surface"
           }
          ],
          "table": [
           {
            "cells": {
             "fill": {
              "color": "#EBF0F8"
             },
             "line": {
              "color": "white"
             }
            },
            "header": {
             "fill": {
              "color": "#C8D4E3"
             },
             "line": {
              "color": "white"
             }
            },
            "type": "table"
           }
          ]
         },
         "layout": {
          "annotationdefaults": {
           "arrowcolor": "#2a3f5f",
           "arrowhead": 0,
           "arrowwidth": 1
          },
          "autotypenumbers": "strict",
          "coloraxis": {
           "colorbar": {
            "outlinewidth": 0,
            "ticks": ""
           }
          },
          "colorscale": {
           "diverging": [
            [
             0,
             "#8e0152"
            ],
            [
             0.1,
             "#c51b7d"
            ],
            [
             0.2,
             "#de77ae"
            ],
            [
             0.3,
             "#f1b6da"
            ],
            [
             0.4,
             "#fde0ef"
            ],
            [
             0.5,
             "#f7f7f7"
            ],
            [
             0.6,
             "#e6f5d0"
            ],
            [
             0.7,
             "#b8e186"
            ],
            [
             0.8,
             "#7fbc41"
            ],
            [
             0.9,
             "#4d9221"
            ],
            [
             1,
             "#276419"
            ]
           ],
           "sequential": [
            [
             0.0,
             "#0d0887"
            ],
            [
             0.1111111111111111,
             "#46039f"
            ],
            [
             0.2222222222222222,
             "#7201a8"
            ],
            [
             0.3333333333333333,
             "#9c179e"
            ],
            [
             0.4444444444444444,
             "#bd3786"
            ],
            [
             0.5555555555555556,
             "#d8576b"
            ],
            [
             0.6666666666666666,
             "#ed7953"
            ],
            [
             0.7777777777777778,
             "#fb9f3a"
            ],
            [
             0.8888888888888888,
             "#fdca26"
            ],
            [
             1.0,
             "#f0f921"
            ]
           ],
           "sequentialminus": [
            [
             0.0,
             "#0d0887"
            ],
            [
             0.1111111111111111,
             "#46039f"
            ],
            [
             0.2222222222222222,
             "#7201a8"
            ],
            [
             0.3333333333333333,
             "#9c179e"
            ],
            [
             0.4444444444444444,
             "#bd3786"
            ],
            [
             0.5555555555555556,
             "#d8576b"
            ],
            [
             0.6666666666666666,
             "#ed7953"
            ],
            [
             0.7777777777777778,
             "#fb9f3a"
            ],
            [
             0.8888888888888888,
             "#fdca26"
            ],
            [
             1.0,
             "#f0f921"
            ]
           ]
          },
          "colorway": [
           "#636efa",
           "#EF553B",
           "#00cc96",
           "#ab63fa",
           "#FFA15A",
           "#19d3f3",
           "#FF6692",
           "#B6E880",
           "#FF97FF",
           "#FECB52"
          ],
          "font": {
           "color": "#2a3f5f"
          },
          "geo": {
           "bgcolor": "white",
           "lakecolor": "white",
           "landcolor": "white",
           "showlakes": true,
           "showland": true,
           "subunitcolor": "#C8D4E3"
          },
          "hoverlabel": {
           "align": "left"
          },
          "hovermode": "closest",
          "mapbox": {
           "style": "light"
          },
          "paper_bgcolor": "white",
          "plot_bgcolor": "white",
          "polar": {
           "angularaxis": {
            "gridcolor": "#EBF0F8",
            "linecolor": "#EBF0F8",
            "ticks": ""
           },
           "bgcolor": "white",
           "radialaxis": {
            "gridcolor": "#EBF0F8",
            "linecolor": "#EBF0F8",
            "ticks": ""
           }
          },
          "scene": {
           "xaxis": {
            "backgroundcolor": "white",
            "gridcolor": "#DFE8F3",
            "gridwidth": 2,
            "linecolor": "#EBF0F8",
            "showbackground": true,
            "ticks": "",
            "zerolinecolor": "#EBF0F8"
           },
           "yaxis": {
            "backgroundcolor": "white",
            "gridcolor": "#DFE8F3",
            "gridwidth": 2,
            "linecolor": "#EBF0F8",
            "showbackground": true,
            "ticks": "",
            "zerolinecolor": "#EBF0F8"
           },
           "zaxis": {
            "backgroundcolor": "white",
            "gridcolor": "#DFE8F3",
            "gridwidth": 2,
            "linecolor": "#EBF0F8",
            "showbackground": true,
            "ticks": "",
            "zerolinecolor": "#EBF0F8"
           }
          },
          "shapedefaults": {
           "line": {
            "color": "#2a3f5f"
           }
          },
          "ternary": {
           "aaxis": {
            "gridcolor": "#DFE8F3",
            "linecolor": "#A2B1C6",
            "ticks": ""
           },
           "baxis": {
            "gridcolor": "#DFE8F3",
            "linecolor": "#A2B1C6",
            "ticks": ""
           },
           "bgcolor": "white",
           "caxis": {
            "gridcolor": "#DFE8F3",
            "linecolor": "#A2B1C6",
            "ticks": ""
           }
          },
          "title": {
           "x": 0.05
          },
          "xaxis": {
           "automargin": true,
           "gridcolor": "#EBF0F8",
           "linecolor": "#EBF0F8",
           "ticks": "",
           "title": {
            "standoff": 15
           },
           "zerolinecolor": "#EBF0F8",
           "zerolinewidth": 2
          },
          "yaxis": {
           "automargin": true,
           "gridcolor": "#EBF0F8",
           "linecolor": "#EBF0F8",
           "ticks": "",
           "title": {
            "standoff": 15
           },
           "zerolinecolor": "#EBF0F8",
           "zerolinewidth": 2
          }
         }
        },
        "xaxis": {
         "anchor": "y",
         "domain": [
          0.0,
          1.0
         ],
         "title": {
          "text": "Model"
         },
         "categoryorder": "array",
         "categoryarray": [
          "Camembert",
          "Flaubert"
         ]
        },
        "yaxis": {
         "anchor": "x",
         "domain": [
          0.0,
          1.0
         ],
         "title": {
          "text": "Weighted"
         }
        },
        "legend": {
         "title": {
          "text": "Model"
         },
         "tracegroupgap": 0
        },
        "title": {
         "text": "Weighted scores for each model"
        },
        "boxmode": "overlay",
        "showlegend": false
       },
       "config": {
        "plotlyServerURL": "https://plot.ly"
       }
      },
      "text/html": "<div>                            <div id=\"9cfabc09-100a-47d1-b0ea-150b5f731fff\" class=\"plotly-graph-div\" style=\"height:525px; width:100%;\"></div>            <script type=\"text/javascript\">                require([\"plotly\"], function(Plotly) {                    window.PLOTLYENV=window.PLOTLYENV || {};                                    if (document.getElementById(\"9cfabc09-100a-47d1-b0ea-150b5f731fff\")) {                    Plotly.newPlot(                        \"9cfabc09-100a-47d1-b0ea-150b5f731fff\",                        [{\"alignmentgroup\":\"True\",\"hovertemplate\":\"Model=%{x}\\u003cbr\\u003eWeighted=%{y}\\u003cextra\\u003e\\u003c\\u002fextra\\u003e\",\"legendgroup\":\"Camembert\",\"marker\":{\"color\":\"#636efa\"},\"name\":\"Camembert\",\"notched\":false,\"offsetgroup\":\"Camembert\",\"orientation\":\"v\",\"showlegend\":true,\"x\":[\"Camembert\",\"Camembert\",\"Camembert\",\"Camembert\",\"Camembert\",\"Camembert\",\"Camembert\",\"Camembert\",\"Camembert\",\"Camembert\",\"Camembert\",\"Camembert\",\"Camembert\",\"Camembert\"],\"x0\":\" \",\"xaxis\":\"x\",\"y\":[0.8214285714285714,0.8519821721792166,0.5,0.4362934362934363,0.7710564930300808,0.7634839924670433,0.615810434090004,0.5103174603174603,0.8445945945945945,0.6898809523809525,0.7583333333333333,0.6796516115215696,0.7086561826473785,0.6875619491013357],\"y0\":\" \",\"yaxis\":\"y\",\"type\":\"box\"},{\"alignmentgroup\":\"True\",\"hovertemplate\":\"Model=%{x}\\u003cbr\\u003eWeighted=%{y}\\u003cextra\\u003e\\u003c\\u002fextra\\u003e\",\"legendgroup\":\"Flaubert\",\"marker\":{\"color\":\"#EF553B\"},\"name\":\"Flaubert\",\"notched\":false,\"offsetgroup\":\"Flaubert\",\"orientation\":\"v\",\"showlegend\":true,\"x\":[\"Flaubert\",\"Flaubert\",\"Flaubert\",\"Flaubert\",\"Flaubert\",\"Flaubert\",\"Flaubert\",\"Flaubert\",\"Flaubert\",\"Flaubert\",\"Flaubert\",\"Flaubert\",\"Flaubert\",\"Flaubert\"],\"x0\":\" \",\"xaxis\":\"x\",\"y\":[0.8839285714285714,0.9885057471264368,0.4691358024691358,0.6666666666666666,0.9148936170212766,0.6362740837317109,0.5422540820390284,0.3452380952380952,0.6495495495495496,0.7880952380952382,0.925,0.7374825239445986,0.6365604206029738,0.7099583139423372],\"y0\":\" \",\"yaxis\":\"y\",\"type\":\"box\"}],                        {\"template\":{\"data\":{\"barpolar\":[{\"marker\":{\"line\":{\"color\":\"white\",\"width\":0.5},\"pattern\":{\"fillmode\":\"overlay\",\"size\":10,\"solidity\":0.2}},\"type\":\"barpolar\"}],\"bar\":[{\"error_x\":{\"color\":\"#2a3f5f\"},\"error_y\":{\"color\":\"#2a3f5f\"},\"marker\":{\"line\":{\"color\":\"white\",\"width\":0.5},\"pattern\":{\"fillmode\":\"overlay\",\"size\":10,\"solidity\":0.2}},\"type\":\"bar\"}],\"carpet\":[{\"aaxis\":{\"endlinecolor\":\"#2a3f5f\",\"gridcolor\":\"#C8D4E3\",\"linecolor\":\"#C8D4E3\",\"minorgridcolor\":\"#C8D4E3\",\"startlinecolor\":\"#2a3f5f\"},\"baxis\":{\"endlinecolor\":\"#2a3f5f\",\"gridcolor\":\"#C8D4E3\",\"linecolor\":\"#C8D4E3\",\"minorgridcolor\":\"#C8D4E3\",\"startlinecolor\":\"#2a3f5f\"},\"type\":\"carpet\"}],\"choropleth\":[{\"colorbar\":{\"outlinewidth\":0,\"ticks\":\"\"},\"type\":\"choropleth\"}],\"contourcarpet\":[{\"colorbar\":{\"outlinewidth\":0,\"ticks\":\"\"},\"type\":\"contourcarpet\"}],\"contour\":[{\"colorbar\":{\"outlinewidth\":0,\"ticks\":\"\"},\"colorscale\":[[0.0,\"#0d0887\"],[0.1111111111111111,\"#46039f\"],[0.2222222222222222,\"#7201a8\"],[0.3333333333333333,\"#9c179e\"],[0.4444444444444444,\"#bd3786\"],[0.5555555555555556,\"#d8576b\"],[0.6666666666666666,\"#ed7953\"],[0.7777777777777778,\"#fb9f3a\"],[0.8888888888888888,\"#fdca26\"],[1.0,\"#f0f921\"]],\"type\":\"contour\"}],\"heatmapgl\":[{\"colorbar\":{\"outlinewidth\":0,\"ticks\":\"\"},\"colorscale\":[[0.0,\"#0d0887\"],[0.1111111111111111,\"#46039f\"],[0.2222222222222222,\"#7201a8\"],[0.3333333333333333,\"#9c179e\"],[0.4444444444444444,\"#bd3786\"],[0.5555555555555556,\"#d8576b\"],[0.6666666666666666,\"#ed7953\"],[0.7777777777777778,\"#fb9f3a\"],[0.8888888888888888,\"#fdca26\"],[1.0,\"#f0f921\"]],\"type\":\"heatmapgl\"}],\"heatmap\":[{\"colorbar\":{\"outlinewidth\":0,\"ticks\":\"\"},\"colorscale\":[[0.0,\"#0d0887\"],[0.1111111111111111,\"#46039f\"],[0.2222222222222222,\"#7201a8\"],[0.3333333333333333,\"#9c179e\"],[0.4444444444444444,\"#bd3786\"],[0.5555555555555556,\"#d8576b\"],[0.6666666666666666,\"#ed7953\"],[0.7777777777777778,\"#fb9f3a\"],[0.8888888888888888,\"#fdca26\"],[1.0,\"#f0f921\"]],\"type\":\"heatmap\"}],\"histogram2dcontour\":[{\"colorbar\":{\"outlinewidth\":0,\"ticks\":\"\"},\"colorscale\":[[0.0,\"#0d0887\"],[0.1111111111111111,\"#46039f\"],[0.2222222222222222,\"#7201a8\"],[0.3333333333333333,\"#9c179e\"],[0.4444444444444444,\"#bd3786\"],[0.5555555555555556,\"#d8576b\"],[0.6666666666666666,\"#ed7953\"],[0.7777777777777778,\"#fb9f3a\"],[0.8888888888888888,\"#fdca26\"],[1.0,\"#f0f921\"]],\"type\":\"histogram2dcontour\"}],\"histogram2d\":[{\"colorbar\":{\"outlinewidth\":0,\"ticks\":\"\"},\"colorscale\":[[0.0,\"#0d0887\"],[0.1111111111111111,\"#46039f\"],[0.2222222222222222,\"#7201a8\"],[0.3333333333333333,\"#9c179e\"],[0.4444444444444444,\"#bd3786\"],[0.5555555555555556,\"#d8576b\"],[0.6666666666666666,\"#ed7953\"],[0.7777777777777778,\"#fb9f3a\"],[0.8888888888888888,\"#fdca26\"],[1.0,\"#f0f921\"]],\"type\":\"histogram2d\"}],\"histogram\":[{\"marker\":{\"pattern\":{\"fillmode\":\"overlay\",\"size\":10,\"solidity\":0.2}},\"type\":\"histogram\"}],\"mesh3d\":[{\"colorbar\":{\"outlinewidth\":0,\"ticks\":\"\"},\"type\":\"mesh3d\"}],\"parcoords\":[{\"line\":{\"colorbar\":{\"outlinewidth\":0,\"ticks\":\"\"}},\"type\":\"parcoords\"}],\"pie\":[{\"automargin\":true,\"type\":\"pie\"}],\"scatter3d\":[{\"line\":{\"colorbar\":{\"outlinewidth\":0,\"ticks\":\"\"}},\"marker\":{\"colorbar\":{\"outlinewidth\":0,\"ticks\":\"\"}},\"type\":\"scatter3d\"}],\"scattercarpet\":[{\"marker\":{\"colorbar\":{\"outlinewidth\":0,\"ticks\":\"\"}},\"type\":\"scattercarpet\"}],\"scattergeo\":[{\"marker\":{\"colorbar\":{\"outlinewidth\":0,\"ticks\":\"\"}},\"type\":\"scattergeo\"}],\"scattergl\":[{\"marker\":{\"colorbar\":{\"outlinewidth\":0,\"ticks\":\"\"}},\"type\":\"scattergl\"}],\"scattermapbox\":[{\"marker\":{\"colorbar\":{\"outlinewidth\":0,\"ticks\":\"\"}},\"type\":\"scattermapbox\"}],\"scatterpolargl\":[{\"marker\":{\"colorbar\":{\"outlinewidth\":0,\"ticks\":\"\"}},\"type\":\"scatterpolargl\"}],\"scatterpolar\":[{\"marker\":{\"colorbar\":{\"outlinewidth\":0,\"ticks\":\"\"}},\"type\":\"scatterpolar\"}],\"scatter\":[{\"fillpattern\":{\"fillmode\":\"overlay\",\"size\":10,\"solidity\":0.2},\"type\":\"scatter\"}],\"scatterternary\":[{\"marker\":{\"colorbar\":{\"outlinewidth\":0,\"ticks\":\"\"}},\"type\":\"scatterternary\"}],\"surface\":[{\"colorbar\":{\"outlinewidth\":0,\"ticks\":\"\"},\"colorscale\":[[0.0,\"#0d0887\"],[0.1111111111111111,\"#46039f\"],[0.2222222222222222,\"#7201a8\"],[0.3333333333333333,\"#9c179e\"],[0.4444444444444444,\"#bd3786\"],[0.5555555555555556,\"#d8576b\"],[0.6666666666666666,\"#ed7953\"],[0.7777777777777778,\"#fb9f3a\"],[0.8888888888888888,\"#fdca26\"],[1.0,\"#f0f921\"]],\"type\":\"surface\"}],\"table\":[{\"cells\":{\"fill\":{\"color\":\"#EBF0F8\"},\"line\":{\"color\":\"white\"}},\"header\":{\"fill\":{\"color\":\"#C8D4E3\"},\"line\":{\"color\":\"white\"}},\"type\":\"table\"}]},\"layout\":{\"annotationdefaults\":{\"arrowcolor\":\"#2a3f5f\",\"arrowhead\":0,\"arrowwidth\":1},\"autotypenumbers\":\"strict\",\"coloraxis\":{\"colorbar\":{\"outlinewidth\":0,\"ticks\":\"\"}},\"colorscale\":{\"diverging\":[[0,\"#8e0152\"],[0.1,\"#c51b7d\"],[0.2,\"#de77ae\"],[0.3,\"#f1b6da\"],[0.4,\"#fde0ef\"],[0.5,\"#f7f7f7\"],[0.6,\"#e6f5d0\"],[0.7,\"#b8e186\"],[0.8,\"#7fbc41\"],[0.9,\"#4d9221\"],[1,\"#276419\"]],\"sequential\":[[0.0,\"#0d0887\"],[0.1111111111111111,\"#46039f\"],[0.2222222222222222,\"#7201a8\"],[0.3333333333333333,\"#9c179e\"],[0.4444444444444444,\"#bd3786\"],[0.5555555555555556,\"#d8576b\"],[0.6666666666666666,\"#ed7953\"],[0.7777777777777778,\"#fb9f3a\"],[0.8888888888888888,\"#fdca26\"],[1.0,\"#f0f921\"]],\"sequentialminus\":[[0.0,\"#0d0887\"],[0.1111111111111111,\"#46039f\"],[0.2222222222222222,\"#7201a8\"],[0.3333333333333333,\"#9c179e\"],[0.4444444444444444,\"#bd3786\"],[0.5555555555555556,\"#d8576b\"],[0.6666666666666666,\"#ed7953\"],[0.7777777777777778,\"#fb9f3a\"],[0.8888888888888888,\"#fdca26\"],[1.0,\"#f0f921\"]]},\"colorway\":[\"#636efa\",\"#EF553B\",\"#00cc96\",\"#ab63fa\",\"#FFA15A\",\"#19d3f3\",\"#FF6692\",\"#B6E880\",\"#FF97FF\",\"#FECB52\"],\"font\":{\"color\":\"#2a3f5f\"},\"geo\":{\"bgcolor\":\"white\",\"lakecolor\":\"white\",\"landcolor\":\"white\",\"showlakes\":true,\"showland\":true,\"subunitcolor\":\"#C8D4E3\"},\"hoverlabel\":{\"align\":\"left\"},\"hovermode\":\"closest\",\"mapbox\":{\"style\":\"light\"},\"paper_bgcolor\":\"white\",\"plot_bgcolor\":\"white\",\"polar\":{\"angularaxis\":{\"gridcolor\":\"#EBF0F8\",\"linecolor\":\"#EBF0F8\",\"ticks\":\"\"},\"bgcolor\":\"white\",\"radialaxis\":{\"gridcolor\":\"#EBF0F8\",\"linecolor\":\"#EBF0F8\",\"ticks\":\"\"}},\"scene\":{\"xaxis\":{\"backgroundcolor\":\"white\",\"gridcolor\":\"#DFE8F3\",\"gridwidth\":2,\"linecolor\":\"#EBF0F8\",\"showbackground\":true,\"ticks\":\"\",\"zerolinecolor\":\"#EBF0F8\"},\"yaxis\":{\"backgroundcolor\":\"white\",\"gridcolor\":\"#DFE8F3\",\"gridwidth\":2,\"linecolor\":\"#EBF0F8\",\"showbackground\":true,\"ticks\":\"\",\"zerolinecolor\":\"#EBF0F8\"},\"zaxis\":{\"backgroundcolor\":\"white\",\"gridcolor\":\"#DFE8F3\",\"gridwidth\":2,\"linecolor\":\"#EBF0F8\",\"showbackground\":true,\"ticks\":\"\",\"zerolinecolor\":\"#EBF0F8\"}},\"shapedefaults\":{\"line\":{\"color\":\"#2a3f5f\"}},\"ternary\":{\"aaxis\":{\"gridcolor\":\"#DFE8F3\",\"linecolor\":\"#A2B1C6\",\"ticks\":\"\"},\"baxis\":{\"gridcolor\":\"#DFE8F3\",\"linecolor\":\"#A2B1C6\",\"ticks\":\"\"},\"bgcolor\":\"white\",\"caxis\":{\"gridcolor\":\"#DFE8F3\",\"linecolor\":\"#A2B1C6\",\"ticks\":\"\"}},\"title\":{\"x\":0.05},\"xaxis\":{\"automargin\":true,\"gridcolor\":\"#EBF0F8\",\"linecolor\":\"#EBF0F8\",\"ticks\":\"\",\"title\":{\"standoff\":15},\"zerolinecolor\":\"#EBF0F8\",\"zerolinewidth\":2},\"yaxis\":{\"automargin\":true,\"gridcolor\":\"#EBF0F8\",\"linecolor\":\"#EBF0F8\",\"ticks\":\"\",\"title\":{\"standoff\":15},\"zerolinecolor\":\"#EBF0F8\",\"zerolinewidth\":2}}},\"xaxis\":{\"anchor\":\"y\",\"domain\":[0.0,1.0],\"title\":{\"text\":\"Model\"},\"categoryorder\":\"array\",\"categoryarray\":[\"Camembert\",\"Flaubert\"]},\"yaxis\":{\"anchor\":\"x\",\"domain\":[0.0,1.0],\"title\":{\"text\":\"Weighted\"}},\"legend\":{\"title\":{\"text\":\"Model\"},\"tracegroupgap\":0},\"title\":{\"text\":\"Weighted scores for each model\"},\"boxmode\":\"overlay\",\"showlegend\":false},                        {\"responsive\": true}                    ).then(function(){\n                            \nvar gd = document.getElementById('9cfabc09-100a-47d1-b0ea-150b5f731fff');\nvar x = new MutationObserver(function (mutations, observer) {{\n        var display = window.getComputedStyle(gd).display;\n        if (!display || display === 'none') {{\n            console.log([gd, 'removed!']);\n            Plotly.purge(gd);\n            observer.disconnect();\n        }}\n}});\n\n// Listen for the removal of the full notebook cells\nvar notebookContainer = gd.closest('#notebook-container');\nif (notebookContainer) {{\n    x.observe(notebookContainer, {childList: true});\n}}\n\n// Listen for the clearing of the current output cell\nvar outputEl = gd.closest('.output');\nif (outputEl) {{\n    x.observe(outputEl, {childList: true});\n}}\n\n                        })                };                });            </script>        </div>"
     },
     "metadata": {},
     "output_type": "display_data"
    },
    {
     "data": {
      "application/vnd.plotly.v1+json": {
       "data": [
        {
         "alignmentgroup": "True",
         "hovertemplate": "Model=%{x}<br>Overall=%{y}<extra></extra>",
         "legendgroup": "Camembert",
         "marker": {
          "color": "#636efa"
         },
         "name": "Camembert",
         "notched": false,
         "offsetgroup": "Camembert",
         "orientation": "v",
         "showlegend": true,
         "x": [
          "Camembert",
          "Camembert",
          "Camembert",
          "Camembert",
          "Camembert",
          "Camembert",
          "Camembert",
          "Camembert",
          "Camembert",
          "Camembert",
          "Camembert",
          "Camembert",
          "Camembert",
          "Camembert"
         ],
         "x0": " ",
         "xaxis": "x",
         "y": [
          0.7619047619047619,
          0.8061224489795918,
          0.6019417475728155,
          0.525,
          0.78125,
          0.7560975609756098,
          0.5294117647058824,
          0.4909090909090909,
          0.7788461538461539,
          0.7567567567567568,
          0.6588235294117647,
          0.6745073212883979,
          0.683668414918415,
          0.6770058013693118
         ],
         "y0": " ",
         "yaxis": "y",
         "type": "box"
        },
        {
         "alignmentgroup": "True",
         "hovertemplate": "Model=%{x}<br>Overall=%{y}<extra></extra>",
         "legendgroup": "Flaubert",
         "marker": {
          "color": "#EF553B"
         },
         "name": "Flaubert",
         "notched": false,
         "offsetgroup": "Flaubert",
         "orientation": "v",
         "showlegend": true,
         "x": [
          "Flaubert",
          "Flaubert",
          "Flaubert",
          "Flaubert",
          "Flaubert",
          "Flaubert",
          "Flaubert",
          "Flaubert",
          "Flaubert",
          "Flaubert",
          "Flaubert",
          "Flaubert",
          "Flaubert",
          "Flaubert"
         ],
         "x0": " ",
         "xaxis": "x",
         "y": [
          0.9047619047619048,
          0.9897959183673468,
          0.5533980582524272,
          0.8125,
          0.875,
          0.6666666666666666,
          0.4705882352941176,
          0.3272727272727272,
          0.5576923076923077,
          0.7027027027027027,
          0.8941176470588236,
          0.7493163916379987,
          0.5866550116550117,
          0.7049541970971841
         ],
         "y0": " ",
         "yaxis": "y",
         "type": "box"
        }
       ],
       "layout": {
        "template": {
         "data": {
          "barpolar": [
           {
            "marker": {
             "line": {
              "color": "white",
              "width": 0.5
             },
             "pattern": {
              "fillmode": "overlay",
              "size": 10,
              "solidity": 0.2
             }
            },
            "type": "barpolar"
           }
          ],
          "bar": [
           {
            "error_x": {
             "color": "#2a3f5f"
            },
            "error_y": {
             "color": "#2a3f5f"
            },
            "marker": {
             "line": {
              "color": "white",
              "width": 0.5
             },
             "pattern": {
              "fillmode": "overlay",
              "size": 10,
              "solidity": 0.2
             }
            },
            "type": "bar"
           }
          ],
          "carpet": [
           {
            "aaxis": {
             "endlinecolor": "#2a3f5f",
             "gridcolor": "#C8D4E3",
             "linecolor": "#C8D4E3",
             "minorgridcolor": "#C8D4E3",
             "startlinecolor": "#2a3f5f"
            },
            "baxis": {
             "endlinecolor": "#2a3f5f",
             "gridcolor": "#C8D4E3",
             "linecolor": "#C8D4E3",
             "minorgridcolor": "#C8D4E3",
             "startlinecolor": "#2a3f5f"
            },
            "type": "carpet"
           }
          ],
          "choropleth": [
           {
            "colorbar": {
             "outlinewidth": 0,
             "ticks": ""
            },
            "type": "choropleth"
           }
          ],
          "contourcarpet": [
           {
            "colorbar": {
             "outlinewidth": 0,
             "ticks": ""
            },
            "type": "contourcarpet"
           }
          ],
          "contour": [
           {
            "colorbar": {
             "outlinewidth": 0,
             "ticks": ""
            },
            "colorscale": [
             [
              0.0,
              "#0d0887"
             ],
             [
              0.1111111111111111,
              "#46039f"
             ],
             [
              0.2222222222222222,
              "#7201a8"
             ],
             [
              0.3333333333333333,
              "#9c179e"
             ],
             [
              0.4444444444444444,
              "#bd3786"
             ],
             [
              0.5555555555555556,
              "#d8576b"
             ],
             [
              0.6666666666666666,
              "#ed7953"
             ],
             [
              0.7777777777777778,
              "#fb9f3a"
             ],
             [
              0.8888888888888888,
              "#fdca26"
             ],
             [
              1.0,
              "#f0f921"
             ]
            ],
            "type": "contour"
           }
          ],
          "heatmapgl": [
           {
            "colorbar": {
             "outlinewidth": 0,
             "ticks": ""
            },
            "colorscale": [
             [
              0.0,
              "#0d0887"
             ],
             [
              0.1111111111111111,
              "#46039f"
             ],
             [
              0.2222222222222222,
              "#7201a8"
             ],
             [
              0.3333333333333333,
              "#9c179e"
             ],
             [
              0.4444444444444444,
              "#bd3786"
             ],
             [
              0.5555555555555556,
              "#d8576b"
             ],
             [
              0.6666666666666666,
              "#ed7953"
             ],
             [
              0.7777777777777778,
              "#fb9f3a"
             ],
             [
              0.8888888888888888,
              "#fdca26"
             ],
             [
              1.0,
              "#f0f921"
             ]
            ],
            "type": "heatmapgl"
           }
          ],
          "heatmap": [
           {
            "colorbar": {
             "outlinewidth": 0,
             "ticks": ""
            },
            "colorscale": [
             [
              0.0,
              "#0d0887"
             ],
             [
              0.1111111111111111,
              "#46039f"
             ],
             [
              0.2222222222222222,
              "#7201a8"
             ],
             [
              0.3333333333333333,
              "#9c179e"
             ],
             [
              0.4444444444444444,
              "#bd3786"
             ],
             [
              0.5555555555555556,
              "#d8576b"
             ],
             [
              0.6666666666666666,
              "#ed7953"
             ],
             [
              0.7777777777777778,
              "#fb9f3a"
             ],
             [
              0.8888888888888888,
              "#fdca26"
             ],
             [
              1.0,
              "#f0f921"
             ]
            ],
            "type": "heatmap"
           }
          ],
          "histogram2dcontour": [
           {
            "colorbar": {
             "outlinewidth": 0,
             "ticks": ""
            },
            "colorscale": [
             [
              0.0,
              "#0d0887"
             ],
             [
              0.1111111111111111,
              "#46039f"
             ],
             [
              0.2222222222222222,
              "#7201a8"
             ],
             [
              0.3333333333333333,
              "#9c179e"
             ],
             [
              0.4444444444444444,
              "#bd3786"
             ],
             [
              0.5555555555555556,
              "#d8576b"
             ],
             [
              0.6666666666666666,
              "#ed7953"
             ],
             [
              0.7777777777777778,
              "#fb9f3a"
             ],
             [
              0.8888888888888888,
              "#fdca26"
             ],
             [
              1.0,
              "#f0f921"
             ]
            ],
            "type": "histogram2dcontour"
           }
          ],
          "histogram2d": [
           {
            "colorbar": {
             "outlinewidth": 0,
             "ticks": ""
            },
            "colorscale": [
             [
              0.0,
              "#0d0887"
             ],
             [
              0.1111111111111111,
              "#46039f"
             ],
             [
              0.2222222222222222,
              "#7201a8"
             ],
             [
              0.3333333333333333,
              "#9c179e"
             ],
             [
              0.4444444444444444,
              "#bd3786"
             ],
             [
              0.5555555555555556,
              "#d8576b"
             ],
             [
              0.6666666666666666,
              "#ed7953"
             ],
             [
              0.7777777777777778,
              "#fb9f3a"
             ],
             [
              0.8888888888888888,
              "#fdca26"
             ],
             [
              1.0,
              "#f0f921"
             ]
            ],
            "type": "histogram2d"
           }
          ],
          "histogram": [
           {
            "marker": {
             "pattern": {
              "fillmode": "overlay",
              "size": 10,
              "solidity": 0.2
             }
            },
            "type": "histogram"
           }
          ],
          "mesh3d": [
           {
            "colorbar": {
             "outlinewidth": 0,
             "ticks": ""
            },
            "type": "mesh3d"
           }
          ],
          "parcoords": [
           {
            "line": {
             "colorbar": {
              "outlinewidth": 0,
              "ticks": ""
             }
            },
            "type": "parcoords"
           }
          ],
          "pie": [
           {
            "automargin": true,
            "type": "pie"
           }
          ],
          "scatter3d": [
           {
            "line": {
             "colorbar": {
              "outlinewidth": 0,
              "ticks": ""
             }
            },
            "marker": {
             "colorbar": {
              "outlinewidth": 0,
              "ticks": ""
             }
            },
            "type": "scatter3d"
           }
          ],
          "scattercarpet": [
           {
            "marker": {
             "colorbar": {
              "outlinewidth": 0,
              "ticks": ""
             }
            },
            "type": "scattercarpet"
           }
          ],
          "scattergeo": [
           {
            "marker": {
             "colorbar": {
              "outlinewidth": 0,
              "ticks": ""
             }
            },
            "type": "scattergeo"
           }
          ],
          "scattergl": [
           {
            "marker": {
             "colorbar": {
              "outlinewidth": 0,
              "ticks": ""
             }
            },
            "type": "scattergl"
           }
          ],
          "scattermapbox": [
           {
            "marker": {
             "colorbar": {
              "outlinewidth": 0,
              "ticks": ""
             }
            },
            "type": "scattermapbox"
           }
          ],
          "scatterpolargl": [
           {
            "marker": {
             "colorbar": {
              "outlinewidth": 0,
              "ticks": ""
             }
            },
            "type": "scatterpolargl"
           }
          ],
          "scatterpolar": [
           {
            "marker": {
             "colorbar": {
              "outlinewidth": 0,
              "ticks": ""
             }
            },
            "type": "scatterpolar"
           }
          ],
          "scatter": [
           {
            "fillpattern": {
             "fillmode": "overlay",
             "size": 10,
             "solidity": 0.2
            },
            "type": "scatter"
           }
          ],
          "scatterternary": [
           {
            "marker": {
             "colorbar": {
              "outlinewidth": 0,
              "ticks": ""
             }
            },
            "type": "scatterternary"
           }
          ],
          "surface": [
           {
            "colorbar": {
             "outlinewidth": 0,
             "ticks": ""
            },
            "colorscale": [
             [
              0.0,
              "#0d0887"
             ],
             [
              0.1111111111111111,
              "#46039f"
             ],
             [
              0.2222222222222222,
              "#7201a8"
             ],
             [
              0.3333333333333333,
              "#9c179e"
             ],
             [
              0.4444444444444444,
              "#bd3786"
             ],
             [
              0.5555555555555556,
              "#d8576b"
             ],
             [
              0.6666666666666666,
              "#ed7953"
             ],
             [
              0.7777777777777778,
              "#fb9f3a"
             ],
             [
              0.8888888888888888,
              "#fdca26"
             ],
             [
              1.0,
              "#f0f921"
             ]
            ],
            "type": "surface"
           }
          ],
          "table": [
           {
            "cells": {
             "fill": {
              "color": "#EBF0F8"
             },
             "line": {
              "color": "white"
             }
            },
            "header": {
             "fill": {
              "color": "#C8D4E3"
             },
             "line": {
              "color": "white"
             }
            },
            "type": "table"
           }
          ]
         },
         "layout": {
          "annotationdefaults": {
           "arrowcolor": "#2a3f5f",
           "arrowhead": 0,
           "arrowwidth": 1
          },
          "autotypenumbers": "strict",
          "coloraxis": {
           "colorbar": {
            "outlinewidth": 0,
            "ticks": ""
           }
          },
          "colorscale": {
           "diverging": [
            [
             0,
             "#8e0152"
            ],
            [
             0.1,
             "#c51b7d"
            ],
            [
             0.2,
             "#de77ae"
            ],
            [
             0.3,
             "#f1b6da"
            ],
            [
             0.4,
             "#fde0ef"
            ],
            [
             0.5,
             "#f7f7f7"
            ],
            [
             0.6,
             "#e6f5d0"
            ],
            [
             0.7,
             "#b8e186"
            ],
            [
             0.8,
             "#7fbc41"
            ],
            [
             0.9,
             "#4d9221"
            ],
            [
             1,
             "#276419"
            ]
           ],
           "sequential": [
            [
             0.0,
             "#0d0887"
            ],
            [
             0.1111111111111111,
             "#46039f"
            ],
            [
             0.2222222222222222,
             "#7201a8"
            ],
            [
             0.3333333333333333,
             "#9c179e"
            ],
            [
             0.4444444444444444,
             "#bd3786"
            ],
            [
             0.5555555555555556,
             "#d8576b"
            ],
            [
             0.6666666666666666,
             "#ed7953"
            ],
            [
             0.7777777777777778,
             "#fb9f3a"
            ],
            [
             0.8888888888888888,
             "#fdca26"
            ],
            [
             1.0,
             "#f0f921"
            ]
           ],
           "sequentialminus": [
            [
             0.0,
             "#0d0887"
            ],
            [
             0.1111111111111111,
             "#46039f"
            ],
            [
             0.2222222222222222,
             "#7201a8"
            ],
            [
             0.3333333333333333,
             "#9c179e"
            ],
            [
             0.4444444444444444,
             "#bd3786"
            ],
            [
             0.5555555555555556,
             "#d8576b"
            ],
            [
             0.6666666666666666,
             "#ed7953"
            ],
            [
             0.7777777777777778,
             "#fb9f3a"
            ],
            [
             0.8888888888888888,
             "#fdca26"
            ],
            [
             1.0,
             "#f0f921"
            ]
           ]
          },
          "colorway": [
           "#636efa",
           "#EF553B",
           "#00cc96",
           "#ab63fa",
           "#FFA15A",
           "#19d3f3",
           "#FF6692",
           "#B6E880",
           "#FF97FF",
           "#FECB52"
          ],
          "font": {
           "color": "#2a3f5f"
          },
          "geo": {
           "bgcolor": "white",
           "lakecolor": "white",
           "landcolor": "white",
           "showlakes": true,
           "showland": true,
           "subunitcolor": "#C8D4E3"
          },
          "hoverlabel": {
           "align": "left"
          },
          "hovermode": "closest",
          "mapbox": {
           "style": "light"
          },
          "paper_bgcolor": "white",
          "plot_bgcolor": "white",
          "polar": {
           "angularaxis": {
            "gridcolor": "#EBF0F8",
            "linecolor": "#EBF0F8",
            "ticks": ""
           },
           "bgcolor": "white",
           "radialaxis": {
            "gridcolor": "#EBF0F8",
            "linecolor": "#EBF0F8",
            "ticks": ""
           }
          },
          "scene": {
           "xaxis": {
            "backgroundcolor": "white",
            "gridcolor": "#DFE8F3",
            "gridwidth": 2,
            "linecolor": "#EBF0F8",
            "showbackground": true,
            "ticks": "",
            "zerolinecolor": "#EBF0F8"
           },
           "yaxis": {
            "backgroundcolor": "white",
            "gridcolor": "#DFE8F3",
            "gridwidth": 2,
            "linecolor": "#EBF0F8",
            "showbackground": true,
            "ticks": "",
            "zerolinecolor": "#EBF0F8"
           },
           "zaxis": {
            "backgroundcolor": "white",
            "gridcolor": "#DFE8F3",
            "gridwidth": 2,
            "linecolor": "#EBF0F8",
            "showbackground": true,
            "ticks": "",
            "zerolinecolor": "#EBF0F8"
           }
          },
          "shapedefaults": {
           "line": {
            "color": "#2a3f5f"
           }
          },
          "ternary": {
           "aaxis": {
            "gridcolor": "#DFE8F3",
            "linecolor": "#A2B1C6",
            "ticks": ""
           },
           "baxis": {
            "gridcolor": "#DFE8F3",
            "linecolor": "#A2B1C6",
            "ticks": ""
           },
           "bgcolor": "white",
           "caxis": {
            "gridcolor": "#DFE8F3",
            "linecolor": "#A2B1C6",
            "ticks": ""
           }
          },
          "title": {
           "x": 0.05
          },
          "xaxis": {
           "automargin": true,
           "gridcolor": "#EBF0F8",
           "linecolor": "#EBF0F8",
           "ticks": "",
           "title": {
            "standoff": 15
           },
           "zerolinecolor": "#EBF0F8",
           "zerolinewidth": 2
          },
          "yaxis": {
           "automargin": true,
           "gridcolor": "#EBF0F8",
           "linecolor": "#EBF0F8",
           "ticks": "",
           "title": {
            "standoff": 15
           },
           "zerolinecolor": "#EBF0F8",
           "zerolinewidth": 2
          }
         }
        },
        "xaxis": {
         "anchor": "y",
         "domain": [
          0.0,
          1.0
         ],
         "title": {
          "text": "Model"
         },
         "categoryorder": "array",
         "categoryarray": [
          "Camembert",
          "Flaubert"
         ]
        },
        "yaxis": {
         "anchor": "x",
         "domain": [
          0.0,
          1.0
         ],
         "title": {
          "text": "Overall"
         }
        },
        "legend": {
         "title": {
          "text": "Model"
         },
         "tracegroupgap": 0
        },
        "title": {
         "text": "Overall scores for each model"
        },
        "boxmode": "overlay",
        "showlegend": false
       },
       "config": {
        "plotlyServerURL": "https://plot.ly"
       }
      },
      "text/html": "<div>                            <div id=\"2a794fc5-1312-4346-82fd-00079d7cf68d\" class=\"plotly-graph-div\" style=\"height:525px; width:100%;\"></div>            <script type=\"text/javascript\">                require([\"plotly\"], function(Plotly) {                    window.PLOTLYENV=window.PLOTLYENV || {};                                    if (document.getElementById(\"2a794fc5-1312-4346-82fd-00079d7cf68d\")) {                    Plotly.newPlot(                        \"2a794fc5-1312-4346-82fd-00079d7cf68d\",                        [{\"alignmentgroup\":\"True\",\"hovertemplate\":\"Model=%{x}\\u003cbr\\u003eOverall=%{y}\\u003cextra\\u003e\\u003c\\u002fextra\\u003e\",\"legendgroup\":\"Camembert\",\"marker\":{\"color\":\"#636efa\"},\"name\":\"Camembert\",\"notched\":false,\"offsetgroup\":\"Camembert\",\"orientation\":\"v\",\"showlegend\":true,\"x\":[\"Camembert\",\"Camembert\",\"Camembert\",\"Camembert\",\"Camembert\",\"Camembert\",\"Camembert\",\"Camembert\",\"Camembert\",\"Camembert\",\"Camembert\",\"Camembert\",\"Camembert\",\"Camembert\"],\"x0\":\" \",\"xaxis\":\"x\",\"y\":[0.7619047619047619,0.8061224489795918,0.6019417475728155,0.525,0.78125,0.7560975609756098,0.5294117647058824,0.4909090909090909,0.7788461538461539,0.7567567567567568,0.6588235294117647,0.6745073212883979,0.683668414918415,0.6770058013693118],\"y0\":\" \",\"yaxis\":\"y\",\"type\":\"box\"},{\"alignmentgroup\":\"True\",\"hovertemplate\":\"Model=%{x}\\u003cbr\\u003eOverall=%{y}\\u003cextra\\u003e\\u003c\\u002fextra\\u003e\",\"legendgroup\":\"Flaubert\",\"marker\":{\"color\":\"#EF553B\"},\"name\":\"Flaubert\",\"notched\":false,\"offsetgroup\":\"Flaubert\",\"orientation\":\"v\",\"showlegend\":true,\"x\":[\"Flaubert\",\"Flaubert\",\"Flaubert\",\"Flaubert\",\"Flaubert\",\"Flaubert\",\"Flaubert\",\"Flaubert\",\"Flaubert\",\"Flaubert\",\"Flaubert\",\"Flaubert\",\"Flaubert\",\"Flaubert\"],\"x0\":\" \",\"xaxis\":\"x\",\"y\":[0.9047619047619048,0.9897959183673468,0.5533980582524272,0.8125,0.875,0.6666666666666666,0.4705882352941176,0.3272727272727272,0.5576923076923077,0.7027027027027027,0.8941176470588236,0.7493163916379987,0.5866550116550117,0.7049541970971841],\"y0\":\" \",\"yaxis\":\"y\",\"type\":\"box\"}],                        {\"template\":{\"data\":{\"barpolar\":[{\"marker\":{\"line\":{\"color\":\"white\",\"width\":0.5},\"pattern\":{\"fillmode\":\"overlay\",\"size\":10,\"solidity\":0.2}},\"type\":\"barpolar\"}],\"bar\":[{\"error_x\":{\"color\":\"#2a3f5f\"},\"error_y\":{\"color\":\"#2a3f5f\"},\"marker\":{\"line\":{\"color\":\"white\",\"width\":0.5},\"pattern\":{\"fillmode\":\"overlay\",\"size\":10,\"solidity\":0.2}},\"type\":\"bar\"}],\"carpet\":[{\"aaxis\":{\"endlinecolor\":\"#2a3f5f\",\"gridcolor\":\"#C8D4E3\",\"linecolor\":\"#C8D4E3\",\"minorgridcolor\":\"#C8D4E3\",\"startlinecolor\":\"#2a3f5f\"},\"baxis\":{\"endlinecolor\":\"#2a3f5f\",\"gridcolor\":\"#C8D4E3\",\"linecolor\":\"#C8D4E3\",\"minorgridcolor\":\"#C8D4E3\",\"startlinecolor\":\"#2a3f5f\"},\"type\":\"carpet\"}],\"choropleth\":[{\"colorbar\":{\"outlinewidth\":0,\"ticks\":\"\"},\"type\":\"choropleth\"}],\"contourcarpet\":[{\"colorbar\":{\"outlinewidth\":0,\"ticks\":\"\"},\"type\":\"contourcarpet\"}],\"contour\":[{\"colorbar\":{\"outlinewidth\":0,\"ticks\":\"\"},\"colorscale\":[[0.0,\"#0d0887\"],[0.1111111111111111,\"#46039f\"],[0.2222222222222222,\"#7201a8\"],[0.3333333333333333,\"#9c179e\"],[0.4444444444444444,\"#bd3786\"],[0.5555555555555556,\"#d8576b\"],[0.6666666666666666,\"#ed7953\"],[0.7777777777777778,\"#fb9f3a\"],[0.8888888888888888,\"#fdca26\"],[1.0,\"#f0f921\"]],\"type\":\"contour\"}],\"heatmapgl\":[{\"colorbar\":{\"outlinewidth\":0,\"ticks\":\"\"},\"colorscale\":[[0.0,\"#0d0887\"],[0.1111111111111111,\"#46039f\"],[0.2222222222222222,\"#7201a8\"],[0.3333333333333333,\"#9c179e\"],[0.4444444444444444,\"#bd3786\"],[0.5555555555555556,\"#d8576b\"],[0.6666666666666666,\"#ed7953\"],[0.7777777777777778,\"#fb9f3a\"],[0.8888888888888888,\"#fdca26\"],[1.0,\"#f0f921\"]],\"type\":\"heatmapgl\"}],\"heatmap\":[{\"colorbar\":{\"outlinewidth\":0,\"ticks\":\"\"},\"colorscale\":[[0.0,\"#0d0887\"],[0.1111111111111111,\"#46039f\"],[0.2222222222222222,\"#7201a8\"],[0.3333333333333333,\"#9c179e\"],[0.4444444444444444,\"#bd3786\"],[0.5555555555555556,\"#d8576b\"],[0.6666666666666666,\"#ed7953\"],[0.7777777777777778,\"#fb9f3a\"],[0.8888888888888888,\"#fdca26\"],[1.0,\"#f0f921\"]],\"type\":\"heatmap\"}],\"histogram2dcontour\":[{\"colorbar\":{\"outlinewidth\":0,\"ticks\":\"\"},\"colorscale\":[[0.0,\"#0d0887\"],[0.1111111111111111,\"#46039f\"],[0.2222222222222222,\"#7201a8\"],[0.3333333333333333,\"#9c179e\"],[0.4444444444444444,\"#bd3786\"],[0.5555555555555556,\"#d8576b\"],[0.6666666666666666,\"#ed7953\"],[0.7777777777777778,\"#fb9f3a\"],[0.8888888888888888,\"#fdca26\"],[1.0,\"#f0f921\"]],\"type\":\"histogram2dcontour\"}],\"histogram2d\":[{\"colorbar\":{\"outlinewidth\":0,\"ticks\":\"\"},\"colorscale\":[[0.0,\"#0d0887\"],[0.1111111111111111,\"#46039f\"],[0.2222222222222222,\"#7201a8\"],[0.3333333333333333,\"#9c179e\"],[0.4444444444444444,\"#bd3786\"],[0.5555555555555556,\"#d8576b\"],[0.6666666666666666,\"#ed7953\"],[0.7777777777777778,\"#fb9f3a\"],[0.8888888888888888,\"#fdca26\"],[1.0,\"#f0f921\"]],\"type\":\"histogram2d\"}],\"histogram\":[{\"marker\":{\"pattern\":{\"fillmode\":\"overlay\",\"size\":10,\"solidity\":0.2}},\"type\":\"histogram\"}],\"mesh3d\":[{\"colorbar\":{\"outlinewidth\":0,\"ticks\":\"\"},\"type\":\"mesh3d\"}],\"parcoords\":[{\"line\":{\"colorbar\":{\"outlinewidth\":0,\"ticks\":\"\"}},\"type\":\"parcoords\"}],\"pie\":[{\"automargin\":true,\"type\":\"pie\"}],\"scatter3d\":[{\"line\":{\"colorbar\":{\"outlinewidth\":0,\"ticks\":\"\"}},\"marker\":{\"colorbar\":{\"outlinewidth\":0,\"ticks\":\"\"}},\"type\":\"scatter3d\"}],\"scattercarpet\":[{\"marker\":{\"colorbar\":{\"outlinewidth\":0,\"ticks\":\"\"}},\"type\":\"scattercarpet\"}],\"scattergeo\":[{\"marker\":{\"colorbar\":{\"outlinewidth\":0,\"ticks\":\"\"}},\"type\":\"scattergeo\"}],\"scattergl\":[{\"marker\":{\"colorbar\":{\"outlinewidth\":0,\"ticks\":\"\"}},\"type\":\"scattergl\"}],\"scattermapbox\":[{\"marker\":{\"colorbar\":{\"outlinewidth\":0,\"ticks\":\"\"}},\"type\":\"scattermapbox\"}],\"scatterpolargl\":[{\"marker\":{\"colorbar\":{\"outlinewidth\":0,\"ticks\":\"\"}},\"type\":\"scatterpolargl\"}],\"scatterpolar\":[{\"marker\":{\"colorbar\":{\"outlinewidth\":0,\"ticks\":\"\"}},\"type\":\"scatterpolar\"}],\"scatter\":[{\"fillpattern\":{\"fillmode\":\"overlay\",\"size\":10,\"solidity\":0.2},\"type\":\"scatter\"}],\"scatterternary\":[{\"marker\":{\"colorbar\":{\"outlinewidth\":0,\"ticks\":\"\"}},\"type\":\"scatterternary\"}],\"surface\":[{\"colorbar\":{\"outlinewidth\":0,\"ticks\":\"\"},\"colorscale\":[[0.0,\"#0d0887\"],[0.1111111111111111,\"#46039f\"],[0.2222222222222222,\"#7201a8\"],[0.3333333333333333,\"#9c179e\"],[0.4444444444444444,\"#bd3786\"],[0.5555555555555556,\"#d8576b\"],[0.6666666666666666,\"#ed7953\"],[0.7777777777777778,\"#fb9f3a\"],[0.8888888888888888,\"#fdca26\"],[1.0,\"#f0f921\"]],\"type\":\"surface\"}],\"table\":[{\"cells\":{\"fill\":{\"color\":\"#EBF0F8\"},\"line\":{\"color\":\"white\"}},\"header\":{\"fill\":{\"color\":\"#C8D4E3\"},\"line\":{\"color\":\"white\"}},\"type\":\"table\"}]},\"layout\":{\"annotationdefaults\":{\"arrowcolor\":\"#2a3f5f\",\"arrowhead\":0,\"arrowwidth\":1},\"autotypenumbers\":\"strict\",\"coloraxis\":{\"colorbar\":{\"outlinewidth\":0,\"ticks\":\"\"}},\"colorscale\":{\"diverging\":[[0,\"#8e0152\"],[0.1,\"#c51b7d\"],[0.2,\"#de77ae\"],[0.3,\"#f1b6da\"],[0.4,\"#fde0ef\"],[0.5,\"#f7f7f7\"],[0.6,\"#e6f5d0\"],[0.7,\"#b8e186\"],[0.8,\"#7fbc41\"],[0.9,\"#4d9221\"],[1,\"#276419\"]],\"sequential\":[[0.0,\"#0d0887\"],[0.1111111111111111,\"#46039f\"],[0.2222222222222222,\"#7201a8\"],[0.3333333333333333,\"#9c179e\"],[0.4444444444444444,\"#bd3786\"],[0.5555555555555556,\"#d8576b\"],[0.6666666666666666,\"#ed7953\"],[0.7777777777777778,\"#fb9f3a\"],[0.8888888888888888,\"#fdca26\"],[1.0,\"#f0f921\"]],\"sequentialminus\":[[0.0,\"#0d0887\"],[0.1111111111111111,\"#46039f\"],[0.2222222222222222,\"#7201a8\"],[0.3333333333333333,\"#9c179e\"],[0.4444444444444444,\"#bd3786\"],[0.5555555555555556,\"#d8576b\"],[0.6666666666666666,\"#ed7953\"],[0.7777777777777778,\"#fb9f3a\"],[0.8888888888888888,\"#fdca26\"],[1.0,\"#f0f921\"]]},\"colorway\":[\"#636efa\",\"#EF553B\",\"#00cc96\",\"#ab63fa\",\"#FFA15A\",\"#19d3f3\",\"#FF6692\",\"#B6E880\",\"#FF97FF\",\"#FECB52\"],\"font\":{\"color\":\"#2a3f5f\"},\"geo\":{\"bgcolor\":\"white\",\"lakecolor\":\"white\",\"landcolor\":\"white\",\"showlakes\":true,\"showland\":true,\"subunitcolor\":\"#C8D4E3\"},\"hoverlabel\":{\"align\":\"left\"},\"hovermode\":\"closest\",\"mapbox\":{\"style\":\"light\"},\"paper_bgcolor\":\"white\",\"plot_bgcolor\":\"white\",\"polar\":{\"angularaxis\":{\"gridcolor\":\"#EBF0F8\",\"linecolor\":\"#EBF0F8\",\"ticks\":\"\"},\"bgcolor\":\"white\",\"radialaxis\":{\"gridcolor\":\"#EBF0F8\",\"linecolor\":\"#EBF0F8\",\"ticks\":\"\"}},\"scene\":{\"xaxis\":{\"backgroundcolor\":\"white\",\"gridcolor\":\"#DFE8F3\",\"gridwidth\":2,\"linecolor\":\"#EBF0F8\",\"showbackground\":true,\"ticks\":\"\",\"zerolinecolor\":\"#EBF0F8\"},\"yaxis\":{\"backgroundcolor\":\"white\",\"gridcolor\":\"#DFE8F3\",\"gridwidth\":2,\"linecolor\":\"#EBF0F8\",\"showbackground\":true,\"ticks\":\"\",\"zerolinecolor\":\"#EBF0F8\"},\"zaxis\":{\"backgroundcolor\":\"white\",\"gridcolor\":\"#DFE8F3\",\"gridwidth\":2,\"linecolor\":\"#EBF0F8\",\"showbackground\":true,\"ticks\":\"\",\"zerolinecolor\":\"#EBF0F8\"}},\"shapedefaults\":{\"line\":{\"color\":\"#2a3f5f\"}},\"ternary\":{\"aaxis\":{\"gridcolor\":\"#DFE8F3\",\"linecolor\":\"#A2B1C6\",\"ticks\":\"\"},\"baxis\":{\"gridcolor\":\"#DFE8F3\",\"linecolor\":\"#A2B1C6\",\"ticks\":\"\"},\"bgcolor\":\"white\",\"caxis\":{\"gridcolor\":\"#DFE8F3\",\"linecolor\":\"#A2B1C6\",\"ticks\":\"\"}},\"title\":{\"x\":0.05},\"xaxis\":{\"automargin\":true,\"gridcolor\":\"#EBF0F8\",\"linecolor\":\"#EBF0F8\",\"ticks\":\"\",\"title\":{\"standoff\":15},\"zerolinecolor\":\"#EBF0F8\",\"zerolinewidth\":2},\"yaxis\":{\"automargin\":true,\"gridcolor\":\"#EBF0F8\",\"linecolor\":\"#EBF0F8\",\"ticks\":\"\",\"title\":{\"standoff\":15},\"zerolinecolor\":\"#EBF0F8\",\"zerolinewidth\":2}}},\"xaxis\":{\"anchor\":\"y\",\"domain\":[0.0,1.0],\"title\":{\"text\":\"Model\"},\"categoryorder\":\"array\",\"categoryarray\":[\"Camembert\",\"Flaubert\"]},\"yaxis\":{\"anchor\":\"x\",\"domain\":[0.0,1.0],\"title\":{\"text\":\"Overall\"}},\"legend\":{\"title\":{\"text\":\"Model\"},\"tracegroupgap\":0},\"title\":{\"text\":\"Overall scores for each model\"},\"boxmode\":\"overlay\",\"showlegend\":false},                        {\"responsive\": true}                    ).then(function(){\n                            \nvar gd = document.getElementById('2a794fc5-1312-4346-82fd-00079d7cf68d');\nvar x = new MutationObserver(function (mutations, observer) {{\n        var display = window.getComputedStyle(gd).display;\n        if (!display || display === 'none') {{\n            console.log([gd, 'removed!']);\n            Plotly.purge(gd);\n            observer.disconnect();\n        }}\n}});\n\n// Listen for the removal of the full notebook cells\nvar notebookContainer = gd.closest('#notebook-container');\nif (notebookContainer) {{\n    x.observe(notebookContainer, {childList: true});\n}}\n\n// Listen for the clearing of the current output cell\nvar outputEl = gd.closest('.output');\nif (outputEl) {{\n    x.observe(outputEl, {childList: true});\n}}\n\n                        })                };                });            </script>        </div>"
     },
     "metadata": {},
     "output_type": "display_data"
    },
    {
     "data": {
      "application/vnd.plotly.v1+json": {
       "data": [
        {
         "alignmentgroup": "True",
         "hovertemplate": "Model=%{x}<br>V_measure=%{y}<extra></extra>",
         "legendgroup": "Camembert",
         "marker": {
          "color": "#636efa"
         },
         "name": "Camembert",
         "notched": false,
         "offsetgroup": "Camembert",
         "orientation": "v",
         "showlegend": true,
         "x": [
          "Camembert",
          "Camembert",
          "Camembert",
          "Camembert",
          "Camembert",
          "Camembert",
          "Camembert",
          "Camembert",
          "Camembert",
          "Camembert",
          "Camembert",
          "Camembert",
          "Camembert",
          "Camembert"
         ],
         "x0": " ",
         "xaxis": "x",
         "y": [
          0.7455367200925976,
          0.7398866706018208,
          0.3745987353649308,
          0.1646539163614197,
          0.6249935253572159,
          0.5840046880508946,
          0.486392925227047,
          0.4257157621890534,
          0.6810143167142076,
          0.6478393222321283,
          0.7125004511727321,
          0.5569266786379463,
          0.577241201420159,
          0.5624670030330953
         ],
         "y0": " ",
         "yaxis": "y",
         "type": "box"
        },
        {
         "alignmentgroup": "True",
         "hovertemplate": "Model=%{x}<br>V_measure=%{y}<extra></extra>",
         "legendgroup": "Flaubert",
         "marker": {
          "color": "#EF553B"
         },
         "name": "Flaubert",
         "notched": false,
         "offsetgroup": "Flaubert",
         "orientation": "v",
         "showlegend": true,
         "x": [
          "Flaubert",
          "Flaubert",
          "Flaubert",
          "Flaubert",
          "Flaubert",
          "Flaubert",
          "Flaubert",
          "Flaubert",
          "Flaubert",
          "Flaubert",
          "Flaubert",
          "Flaubert",
          "Flaubert",
          "Flaubert"
         ],
         "x0": " ",
         "xaxis": "x",
         "y": [
          0.7020502716093676,
          0.9541014187403704,
          0.3606389452968296,
          0.7988668250065365,
          0.8818594500715287,
          0.4643790540203866,
          0.5396005727595151,
          0.349227095723641,
          0.1737910725675302,
          0.725616091556109,
          0.8023925458634226,
          0.6684557156065671,
          0.4682925394542332,
          0.6138657584741124
         ],
         "y0": " ",
         "yaxis": "y",
         "type": "box"
        }
       ],
       "layout": {
        "template": {
         "data": {
          "barpolar": [
           {
            "marker": {
             "line": {
              "color": "white",
              "width": 0.5
             },
             "pattern": {
              "fillmode": "overlay",
              "size": 10,
              "solidity": 0.2
             }
            },
            "type": "barpolar"
           }
          ],
          "bar": [
           {
            "error_x": {
             "color": "#2a3f5f"
            },
            "error_y": {
             "color": "#2a3f5f"
            },
            "marker": {
             "line": {
              "color": "white",
              "width": 0.5
             },
             "pattern": {
              "fillmode": "overlay",
              "size": 10,
              "solidity": 0.2
             }
            },
            "type": "bar"
           }
          ],
          "carpet": [
           {
            "aaxis": {
             "endlinecolor": "#2a3f5f",
             "gridcolor": "#C8D4E3",
             "linecolor": "#C8D4E3",
             "minorgridcolor": "#C8D4E3",
             "startlinecolor": "#2a3f5f"
            },
            "baxis": {
             "endlinecolor": "#2a3f5f",
             "gridcolor": "#C8D4E3",
             "linecolor": "#C8D4E3",
             "minorgridcolor": "#C8D4E3",
             "startlinecolor": "#2a3f5f"
            },
            "type": "carpet"
           }
          ],
          "choropleth": [
           {
            "colorbar": {
             "outlinewidth": 0,
             "ticks": ""
            },
            "type": "choropleth"
           }
          ],
          "contourcarpet": [
           {
            "colorbar": {
             "outlinewidth": 0,
             "ticks": ""
            },
            "type": "contourcarpet"
           }
          ],
          "contour": [
           {
            "colorbar": {
             "outlinewidth": 0,
             "ticks": ""
            },
            "colorscale": [
             [
              0.0,
              "#0d0887"
             ],
             [
              0.1111111111111111,
              "#46039f"
             ],
             [
              0.2222222222222222,
              "#7201a8"
             ],
             [
              0.3333333333333333,
              "#9c179e"
             ],
             [
              0.4444444444444444,
              "#bd3786"
             ],
             [
              0.5555555555555556,
              "#d8576b"
             ],
             [
              0.6666666666666666,
              "#ed7953"
             ],
             [
              0.7777777777777778,
              "#fb9f3a"
             ],
             [
              0.8888888888888888,
              "#fdca26"
             ],
             [
              1.0,
              "#f0f921"
             ]
            ],
            "type": "contour"
           }
          ],
          "heatmapgl": [
           {
            "colorbar": {
             "outlinewidth": 0,
             "ticks": ""
            },
            "colorscale": [
             [
              0.0,
              "#0d0887"
             ],
             [
              0.1111111111111111,
              "#46039f"
             ],
             [
              0.2222222222222222,
              "#7201a8"
             ],
             [
              0.3333333333333333,
              "#9c179e"
             ],
             [
              0.4444444444444444,
              "#bd3786"
             ],
             [
              0.5555555555555556,
              "#d8576b"
             ],
             [
              0.6666666666666666,
              "#ed7953"
             ],
             [
              0.7777777777777778,
              "#fb9f3a"
             ],
             [
              0.8888888888888888,
              "#fdca26"
             ],
             [
              1.0,
              "#f0f921"
             ]
            ],
            "type": "heatmapgl"
           }
          ],
          "heatmap": [
           {
            "colorbar": {
             "outlinewidth": 0,
             "ticks": ""
            },
            "colorscale": [
             [
              0.0,
              "#0d0887"
             ],
             [
              0.1111111111111111,
              "#46039f"
             ],
             [
              0.2222222222222222,
              "#7201a8"
             ],
             [
              0.3333333333333333,
              "#9c179e"
             ],
             [
              0.4444444444444444,
              "#bd3786"
             ],
             [
              0.5555555555555556,
              "#d8576b"
             ],
             [
              0.6666666666666666,
              "#ed7953"
             ],
             [
              0.7777777777777778,
              "#fb9f3a"
             ],
             [
              0.8888888888888888,
              "#fdca26"
             ],
             [
              1.0,
              "#f0f921"
             ]
            ],
            "type": "heatmap"
           }
          ],
          "histogram2dcontour": [
           {
            "colorbar": {
             "outlinewidth": 0,
             "ticks": ""
            },
            "colorscale": [
             [
              0.0,
              "#0d0887"
             ],
             [
              0.1111111111111111,
              "#46039f"
             ],
             [
              0.2222222222222222,
              "#7201a8"
             ],
             [
              0.3333333333333333,
              "#9c179e"
             ],
             [
              0.4444444444444444,
              "#bd3786"
             ],
             [
              0.5555555555555556,
              "#d8576b"
             ],
             [
              0.6666666666666666,
              "#ed7953"
             ],
             [
              0.7777777777777778,
              "#fb9f3a"
             ],
             [
              0.8888888888888888,
              "#fdca26"
             ],
             [
              1.0,
              "#f0f921"
             ]
            ],
            "type": "histogram2dcontour"
           }
          ],
          "histogram2d": [
           {
            "colorbar": {
             "outlinewidth": 0,
             "ticks": ""
            },
            "colorscale": [
             [
              0.0,
              "#0d0887"
             ],
             [
              0.1111111111111111,
              "#46039f"
             ],
             [
              0.2222222222222222,
              "#7201a8"
             ],
             [
              0.3333333333333333,
              "#9c179e"
             ],
             [
              0.4444444444444444,
              "#bd3786"
             ],
             [
              0.5555555555555556,
              "#d8576b"
             ],
             [
              0.6666666666666666,
              "#ed7953"
             ],
             [
              0.7777777777777778,
              "#fb9f3a"
             ],
             [
              0.8888888888888888,
              "#fdca26"
             ],
             [
              1.0,
              "#f0f921"
             ]
            ],
            "type": "histogram2d"
           }
          ],
          "histogram": [
           {
            "marker": {
             "pattern": {
              "fillmode": "overlay",
              "size": 10,
              "solidity": 0.2
             }
            },
            "type": "histogram"
           }
          ],
          "mesh3d": [
           {
            "colorbar": {
             "outlinewidth": 0,
             "ticks": ""
            },
            "type": "mesh3d"
           }
          ],
          "parcoords": [
           {
            "line": {
             "colorbar": {
              "outlinewidth": 0,
              "ticks": ""
             }
            },
            "type": "parcoords"
           }
          ],
          "pie": [
           {
            "automargin": true,
            "type": "pie"
           }
          ],
          "scatter3d": [
           {
            "line": {
             "colorbar": {
              "outlinewidth": 0,
              "ticks": ""
             }
            },
            "marker": {
             "colorbar": {
              "outlinewidth": 0,
              "ticks": ""
             }
            },
            "type": "scatter3d"
           }
          ],
          "scattercarpet": [
           {
            "marker": {
             "colorbar": {
              "outlinewidth": 0,
              "ticks": ""
             }
            },
            "type": "scattercarpet"
           }
          ],
          "scattergeo": [
           {
            "marker": {
             "colorbar": {
              "outlinewidth": 0,
              "ticks": ""
             }
            },
            "type": "scattergeo"
           }
          ],
          "scattergl": [
           {
            "marker": {
             "colorbar": {
              "outlinewidth": 0,
              "ticks": ""
             }
            },
            "type": "scattergl"
           }
          ],
          "scattermapbox": [
           {
            "marker": {
             "colorbar": {
              "outlinewidth": 0,
              "ticks": ""
             }
            },
            "type": "scattermapbox"
           }
          ],
          "scatterpolargl": [
           {
            "marker": {
             "colorbar": {
              "outlinewidth": 0,
              "ticks": ""
             }
            },
            "type": "scatterpolargl"
           }
          ],
          "scatterpolar": [
           {
            "marker": {
             "colorbar": {
              "outlinewidth": 0,
              "ticks": ""
             }
            },
            "type": "scatterpolar"
           }
          ],
          "scatter": [
           {
            "fillpattern": {
             "fillmode": "overlay",
             "size": 10,
             "solidity": 0.2
            },
            "type": "scatter"
           }
          ],
          "scatterternary": [
           {
            "marker": {
             "colorbar": {
              "outlinewidth": 0,
              "ticks": ""
             }
            },
            "type": "scatterternary"
           }
          ],
          "surface": [
           {
            "colorbar": {
             "outlinewidth": 0,
             "ticks": ""
            },
            "colorscale": [
             [
              0.0,
              "#0d0887"
             ],
             [
              0.1111111111111111,
              "#46039f"
             ],
             [
              0.2222222222222222,
              "#7201a8"
             ],
             [
              0.3333333333333333,
              "#9c179e"
             ],
             [
              0.4444444444444444,
              "#bd3786"
             ],
             [
              0.5555555555555556,
              "#d8576b"
             ],
             [
              0.6666666666666666,
              "#ed7953"
             ],
             [
              0.7777777777777778,
              "#fb9f3a"
             ],
             [
              0.8888888888888888,
              "#fdca26"
             ],
             [
              1.0,
              "#f0f921"
             ]
            ],
            "type": "surface"
           }
          ],
          "table": [
           {
            "cells": {
             "fill": {
              "color": "#EBF0F8"
             },
             "line": {
              "color": "white"
             }
            },
            "header": {
             "fill": {
              "color": "#C8D4E3"
             },
             "line": {
              "color": "white"
             }
            },
            "type": "table"
           }
          ]
         },
         "layout": {
          "annotationdefaults": {
           "arrowcolor": "#2a3f5f",
           "arrowhead": 0,
           "arrowwidth": 1
          },
          "autotypenumbers": "strict",
          "coloraxis": {
           "colorbar": {
            "outlinewidth": 0,
            "ticks": ""
           }
          },
          "colorscale": {
           "diverging": [
            [
             0,
             "#8e0152"
            ],
            [
             0.1,
             "#c51b7d"
            ],
            [
             0.2,
             "#de77ae"
            ],
            [
             0.3,
             "#f1b6da"
            ],
            [
             0.4,
             "#fde0ef"
            ],
            [
             0.5,
             "#f7f7f7"
            ],
            [
             0.6,
             "#e6f5d0"
            ],
            [
             0.7,
             "#b8e186"
            ],
            [
             0.8,
             "#7fbc41"
            ],
            [
             0.9,
             "#4d9221"
            ],
            [
             1,
             "#276419"
            ]
           ],
           "sequential": [
            [
             0.0,
             "#0d0887"
            ],
            [
             0.1111111111111111,
             "#46039f"
            ],
            [
             0.2222222222222222,
             "#7201a8"
            ],
            [
             0.3333333333333333,
             "#9c179e"
            ],
            [
             0.4444444444444444,
             "#bd3786"
            ],
            [
             0.5555555555555556,
             "#d8576b"
            ],
            [
             0.6666666666666666,
             "#ed7953"
            ],
            [
             0.7777777777777778,
             "#fb9f3a"
            ],
            [
             0.8888888888888888,
             "#fdca26"
            ],
            [
             1.0,
             "#f0f921"
            ]
           ],
           "sequentialminus": [
            [
             0.0,
             "#0d0887"
            ],
            [
             0.1111111111111111,
             "#46039f"
            ],
            [
             0.2222222222222222,
             "#7201a8"
            ],
            [
             0.3333333333333333,
             "#9c179e"
            ],
            [
             0.4444444444444444,
             "#bd3786"
            ],
            [
             0.5555555555555556,
             "#d8576b"
            ],
            [
             0.6666666666666666,
             "#ed7953"
            ],
            [
             0.7777777777777778,
             "#fb9f3a"
            ],
            [
             0.8888888888888888,
             "#fdca26"
            ],
            [
             1.0,
             "#f0f921"
            ]
           ]
          },
          "colorway": [
           "#636efa",
           "#EF553B",
           "#00cc96",
           "#ab63fa",
           "#FFA15A",
           "#19d3f3",
           "#FF6692",
           "#B6E880",
           "#FF97FF",
           "#FECB52"
          ],
          "font": {
           "color": "#2a3f5f"
          },
          "geo": {
           "bgcolor": "white",
           "lakecolor": "white",
           "landcolor": "white",
           "showlakes": true,
           "showland": true,
           "subunitcolor": "#C8D4E3"
          },
          "hoverlabel": {
           "align": "left"
          },
          "hovermode": "closest",
          "mapbox": {
           "style": "light"
          },
          "paper_bgcolor": "white",
          "plot_bgcolor": "white",
          "polar": {
           "angularaxis": {
            "gridcolor": "#EBF0F8",
            "linecolor": "#EBF0F8",
            "ticks": ""
           },
           "bgcolor": "white",
           "radialaxis": {
            "gridcolor": "#EBF0F8",
            "linecolor": "#EBF0F8",
            "ticks": ""
           }
          },
          "scene": {
           "xaxis": {
            "backgroundcolor": "white",
            "gridcolor": "#DFE8F3",
            "gridwidth": 2,
            "linecolor": "#EBF0F8",
            "showbackground": true,
            "ticks": "",
            "zerolinecolor": "#EBF0F8"
           },
           "yaxis": {
            "backgroundcolor": "white",
            "gridcolor": "#DFE8F3",
            "gridwidth": 2,
            "linecolor": "#EBF0F8",
            "showbackground": true,
            "ticks": "",
            "zerolinecolor": "#EBF0F8"
           },
           "zaxis": {
            "backgroundcolor": "white",
            "gridcolor": "#DFE8F3",
            "gridwidth": 2,
            "linecolor": "#EBF0F8",
            "showbackground": true,
            "ticks": "",
            "zerolinecolor": "#EBF0F8"
           }
          },
          "shapedefaults": {
           "line": {
            "color": "#2a3f5f"
           }
          },
          "ternary": {
           "aaxis": {
            "gridcolor": "#DFE8F3",
            "linecolor": "#A2B1C6",
            "ticks": ""
           },
           "baxis": {
            "gridcolor": "#DFE8F3",
            "linecolor": "#A2B1C6",
            "ticks": ""
           },
           "bgcolor": "white",
           "caxis": {
            "gridcolor": "#DFE8F3",
            "linecolor": "#A2B1C6",
            "ticks": ""
           }
          },
          "title": {
           "x": 0.05
          },
          "xaxis": {
           "automargin": true,
           "gridcolor": "#EBF0F8",
           "linecolor": "#EBF0F8",
           "ticks": "",
           "title": {
            "standoff": 15
           },
           "zerolinecolor": "#EBF0F8",
           "zerolinewidth": 2
          },
          "yaxis": {
           "automargin": true,
           "gridcolor": "#EBF0F8",
           "linecolor": "#EBF0F8",
           "ticks": "",
           "title": {
            "standoff": 15
           },
           "zerolinecolor": "#EBF0F8",
           "zerolinewidth": 2
          }
         }
        },
        "xaxis": {
         "anchor": "y",
         "domain": [
          0.0,
          1.0
         ],
         "title": {
          "text": "Model"
         },
         "categoryorder": "array",
         "categoryarray": [
          "Camembert",
          "Flaubert"
         ]
        },
        "yaxis": {
         "anchor": "x",
         "domain": [
          0.0,
          1.0
         ],
         "title": {
          "text": "V_measure"
         }
        },
        "legend": {
         "title": {
          "text": "Model"
         },
         "tracegroupgap": 0
        },
        "title": {
         "text": "V measure clustering scores for each model"
        },
        "boxmode": "overlay",
        "showlegend": false
       },
       "config": {
        "plotlyServerURL": "https://plot.ly"
       }
      },
      "text/html": "<div>                            <div id=\"25f5cf30-844e-4266-a3d2-342218c9e90c\" class=\"plotly-graph-div\" style=\"height:525px; width:100%;\"></div>            <script type=\"text/javascript\">                require([\"plotly\"], function(Plotly) {                    window.PLOTLYENV=window.PLOTLYENV || {};                                    if (document.getElementById(\"25f5cf30-844e-4266-a3d2-342218c9e90c\")) {                    Plotly.newPlot(                        \"25f5cf30-844e-4266-a3d2-342218c9e90c\",                        [{\"alignmentgroup\":\"True\",\"hovertemplate\":\"Model=%{x}\\u003cbr\\u003eV_measure=%{y}\\u003cextra\\u003e\\u003c\\u002fextra\\u003e\",\"legendgroup\":\"Camembert\",\"marker\":{\"color\":\"#636efa\"},\"name\":\"Camembert\",\"notched\":false,\"offsetgroup\":\"Camembert\",\"orientation\":\"v\",\"showlegend\":true,\"x\":[\"Camembert\",\"Camembert\",\"Camembert\",\"Camembert\",\"Camembert\",\"Camembert\",\"Camembert\",\"Camembert\",\"Camembert\",\"Camembert\",\"Camembert\",\"Camembert\",\"Camembert\",\"Camembert\"],\"x0\":\" \",\"xaxis\":\"x\",\"y\":[0.7455367200925976,0.7398866706018208,0.3745987353649308,0.1646539163614197,0.6249935253572159,0.5840046880508946,0.486392925227047,0.4257157621890534,0.6810143167142076,0.6478393222321283,0.7125004511727321,0.5569266786379463,0.577241201420159,0.5624670030330953],\"y0\":\" \",\"yaxis\":\"y\",\"type\":\"box\"},{\"alignmentgroup\":\"True\",\"hovertemplate\":\"Model=%{x}\\u003cbr\\u003eV_measure=%{y}\\u003cextra\\u003e\\u003c\\u002fextra\\u003e\",\"legendgroup\":\"Flaubert\",\"marker\":{\"color\":\"#EF553B\"},\"name\":\"Flaubert\",\"notched\":false,\"offsetgroup\":\"Flaubert\",\"orientation\":\"v\",\"showlegend\":true,\"x\":[\"Flaubert\",\"Flaubert\",\"Flaubert\",\"Flaubert\",\"Flaubert\",\"Flaubert\",\"Flaubert\",\"Flaubert\",\"Flaubert\",\"Flaubert\",\"Flaubert\",\"Flaubert\",\"Flaubert\",\"Flaubert\"],\"x0\":\" \",\"xaxis\":\"x\",\"y\":[0.7020502716093676,0.9541014187403704,0.3606389452968296,0.7988668250065365,0.8818594500715287,0.4643790540203866,0.5396005727595151,0.349227095723641,0.1737910725675302,0.725616091556109,0.8023925458634226,0.6684557156065671,0.4682925394542332,0.6138657584741124],\"y0\":\" \",\"yaxis\":\"y\",\"type\":\"box\"}],                        {\"template\":{\"data\":{\"barpolar\":[{\"marker\":{\"line\":{\"color\":\"white\",\"width\":0.5},\"pattern\":{\"fillmode\":\"overlay\",\"size\":10,\"solidity\":0.2}},\"type\":\"barpolar\"}],\"bar\":[{\"error_x\":{\"color\":\"#2a3f5f\"},\"error_y\":{\"color\":\"#2a3f5f\"},\"marker\":{\"line\":{\"color\":\"white\",\"width\":0.5},\"pattern\":{\"fillmode\":\"overlay\",\"size\":10,\"solidity\":0.2}},\"type\":\"bar\"}],\"carpet\":[{\"aaxis\":{\"endlinecolor\":\"#2a3f5f\",\"gridcolor\":\"#C8D4E3\",\"linecolor\":\"#C8D4E3\",\"minorgridcolor\":\"#C8D4E3\",\"startlinecolor\":\"#2a3f5f\"},\"baxis\":{\"endlinecolor\":\"#2a3f5f\",\"gridcolor\":\"#C8D4E3\",\"linecolor\":\"#C8D4E3\",\"minorgridcolor\":\"#C8D4E3\",\"startlinecolor\":\"#2a3f5f\"},\"type\":\"carpet\"}],\"choropleth\":[{\"colorbar\":{\"outlinewidth\":0,\"ticks\":\"\"},\"type\":\"choropleth\"}],\"contourcarpet\":[{\"colorbar\":{\"outlinewidth\":0,\"ticks\":\"\"},\"type\":\"contourcarpet\"}],\"contour\":[{\"colorbar\":{\"outlinewidth\":0,\"ticks\":\"\"},\"colorscale\":[[0.0,\"#0d0887\"],[0.1111111111111111,\"#46039f\"],[0.2222222222222222,\"#7201a8\"],[0.3333333333333333,\"#9c179e\"],[0.4444444444444444,\"#bd3786\"],[0.5555555555555556,\"#d8576b\"],[0.6666666666666666,\"#ed7953\"],[0.7777777777777778,\"#fb9f3a\"],[0.8888888888888888,\"#fdca26\"],[1.0,\"#f0f921\"]],\"type\":\"contour\"}],\"heatmapgl\":[{\"colorbar\":{\"outlinewidth\":0,\"ticks\":\"\"},\"colorscale\":[[0.0,\"#0d0887\"],[0.1111111111111111,\"#46039f\"],[0.2222222222222222,\"#7201a8\"],[0.3333333333333333,\"#9c179e\"],[0.4444444444444444,\"#bd3786\"],[0.5555555555555556,\"#d8576b\"],[0.6666666666666666,\"#ed7953\"],[0.7777777777777778,\"#fb9f3a\"],[0.8888888888888888,\"#fdca26\"],[1.0,\"#f0f921\"]],\"type\":\"heatmapgl\"}],\"heatmap\":[{\"colorbar\":{\"outlinewidth\":0,\"ticks\":\"\"},\"colorscale\":[[0.0,\"#0d0887\"],[0.1111111111111111,\"#46039f\"],[0.2222222222222222,\"#7201a8\"],[0.3333333333333333,\"#9c179e\"],[0.4444444444444444,\"#bd3786\"],[0.5555555555555556,\"#d8576b\"],[0.6666666666666666,\"#ed7953\"],[0.7777777777777778,\"#fb9f3a\"],[0.8888888888888888,\"#fdca26\"],[1.0,\"#f0f921\"]],\"type\":\"heatmap\"}],\"histogram2dcontour\":[{\"colorbar\":{\"outlinewidth\":0,\"ticks\":\"\"},\"colorscale\":[[0.0,\"#0d0887\"],[0.1111111111111111,\"#46039f\"],[0.2222222222222222,\"#7201a8\"],[0.3333333333333333,\"#9c179e\"],[0.4444444444444444,\"#bd3786\"],[0.5555555555555556,\"#d8576b\"],[0.6666666666666666,\"#ed7953\"],[0.7777777777777778,\"#fb9f3a\"],[0.8888888888888888,\"#fdca26\"],[1.0,\"#f0f921\"]],\"type\":\"histogram2dcontour\"}],\"histogram2d\":[{\"colorbar\":{\"outlinewidth\":0,\"ticks\":\"\"},\"colorscale\":[[0.0,\"#0d0887\"],[0.1111111111111111,\"#46039f\"],[0.2222222222222222,\"#7201a8\"],[0.3333333333333333,\"#9c179e\"],[0.4444444444444444,\"#bd3786\"],[0.5555555555555556,\"#d8576b\"],[0.6666666666666666,\"#ed7953\"],[0.7777777777777778,\"#fb9f3a\"],[0.8888888888888888,\"#fdca26\"],[1.0,\"#f0f921\"]],\"type\":\"histogram2d\"}],\"histogram\":[{\"marker\":{\"pattern\":{\"fillmode\":\"overlay\",\"size\":10,\"solidity\":0.2}},\"type\":\"histogram\"}],\"mesh3d\":[{\"colorbar\":{\"outlinewidth\":0,\"ticks\":\"\"},\"type\":\"mesh3d\"}],\"parcoords\":[{\"line\":{\"colorbar\":{\"outlinewidth\":0,\"ticks\":\"\"}},\"type\":\"parcoords\"}],\"pie\":[{\"automargin\":true,\"type\":\"pie\"}],\"scatter3d\":[{\"line\":{\"colorbar\":{\"outlinewidth\":0,\"ticks\":\"\"}},\"marker\":{\"colorbar\":{\"outlinewidth\":0,\"ticks\":\"\"}},\"type\":\"scatter3d\"}],\"scattercarpet\":[{\"marker\":{\"colorbar\":{\"outlinewidth\":0,\"ticks\":\"\"}},\"type\":\"scattercarpet\"}],\"scattergeo\":[{\"marker\":{\"colorbar\":{\"outlinewidth\":0,\"ticks\":\"\"}},\"type\":\"scattergeo\"}],\"scattergl\":[{\"marker\":{\"colorbar\":{\"outlinewidth\":0,\"ticks\":\"\"}},\"type\":\"scattergl\"}],\"scattermapbox\":[{\"marker\":{\"colorbar\":{\"outlinewidth\":0,\"ticks\":\"\"}},\"type\":\"scattermapbox\"}],\"scatterpolargl\":[{\"marker\":{\"colorbar\":{\"outlinewidth\":0,\"ticks\":\"\"}},\"type\":\"scatterpolargl\"}],\"scatterpolar\":[{\"marker\":{\"colorbar\":{\"outlinewidth\":0,\"ticks\":\"\"}},\"type\":\"scatterpolar\"}],\"scatter\":[{\"fillpattern\":{\"fillmode\":\"overlay\",\"size\":10,\"solidity\":0.2},\"type\":\"scatter\"}],\"scatterternary\":[{\"marker\":{\"colorbar\":{\"outlinewidth\":0,\"ticks\":\"\"}},\"type\":\"scatterternary\"}],\"surface\":[{\"colorbar\":{\"outlinewidth\":0,\"ticks\":\"\"},\"colorscale\":[[0.0,\"#0d0887\"],[0.1111111111111111,\"#46039f\"],[0.2222222222222222,\"#7201a8\"],[0.3333333333333333,\"#9c179e\"],[0.4444444444444444,\"#bd3786\"],[0.5555555555555556,\"#d8576b\"],[0.6666666666666666,\"#ed7953\"],[0.7777777777777778,\"#fb9f3a\"],[0.8888888888888888,\"#fdca26\"],[1.0,\"#f0f921\"]],\"type\":\"surface\"}],\"table\":[{\"cells\":{\"fill\":{\"color\":\"#EBF0F8\"},\"line\":{\"color\":\"white\"}},\"header\":{\"fill\":{\"color\":\"#C8D4E3\"},\"line\":{\"color\":\"white\"}},\"type\":\"table\"}]},\"layout\":{\"annotationdefaults\":{\"arrowcolor\":\"#2a3f5f\",\"arrowhead\":0,\"arrowwidth\":1},\"autotypenumbers\":\"strict\",\"coloraxis\":{\"colorbar\":{\"outlinewidth\":0,\"ticks\":\"\"}},\"colorscale\":{\"diverging\":[[0,\"#8e0152\"],[0.1,\"#c51b7d\"],[0.2,\"#de77ae\"],[0.3,\"#f1b6da\"],[0.4,\"#fde0ef\"],[0.5,\"#f7f7f7\"],[0.6,\"#e6f5d0\"],[0.7,\"#b8e186\"],[0.8,\"#7fbc41\"],[0.9,\"#4d9221\"],[1,\"#276419\"]],\"sequential\":[[0.0,\"#0d0887\"],[0.1111111111111111,\"#46039f\"],[0.2222222222222222,\"#7201a8\"],[0.3333333333333333,\"#9c179e\"],[0.4444444444444444,\"#bd3786\"],[0.5555555555555556,\"#d8576b\"],[0.6666666666666666,\"#ed7953\"],[0.7777777777777778,\"#fb9f3a\"],[0.8888888888888888,\"#fdca26\"],[1.0,\"#f0f921\"]],\"sequentialminus\":[[0.0,\"#0d0887\"],[0.1111111111111111,\"#46039f\"],[0.2222222222222222,\"#7201a8\"],[0.3333333333333333,\"#9c179e\"],[0.4444444444444444,\"#bd3786\"],[0.5555555555555556,\"#d8576b\"],[0.6666666666666666,\"#ed7953\"],[0.7777777777777778,\"#fb9f3a\"],[0.8888888888888888,\"#fdca26\"],[1.0,\"#f0f921\"]]},\"colorway\":[\"#636efa\",\"#EF553B\",\"#00cc96\",\"#ab63fa\",\"#FFA15A\",\"#19d3f3\",\"#FF6692\",\"#B6E880\",\"#FF97FF\",\"#FECB52\"],\"font\":{\"color\":\"#2a3f5f\"},\"geo\":{\"bgcolor\":\"white\",\"lakecolor\":\"white\",\"landcolor\":\"white\",\"showlakes\":true,\"showland\":true,\"subunitcolor\":\"#C8D4E3\"},\"hoverlabel\":{\"align\":\"left\"},\"hovermode\":\"closest\",\"mapbox\":{\"style\":\"light\"},\"paper_bgcolor\":\"white\",\"plot_bgcolor\":\"white\",\"polar\":{\"angularaxis\":{\"gridcolor\":\"#EBF0F8\",\"linecolor\":\"#EBF0F8\",\"ticks\":\"\"},\"bgcolor\":\"white\",\"radialaxis\":{\"gridcolor\":\"#EBF0F8\",\"linecolor\":\"#EBF0F8\",\"ticks\":\"\"}},\"scene\":{\"xaxis\":{\"backgroundcolor\":\"white\",\"gridcolor\":\"#DFE8F3\",\"gridwidth\":2,\"linecolor\":\"#EBF0F8\",\"showbackground\":true,\"ticks\":\"\",\"zerolinecolor\":\"#EBF0F8\"},\"yaxis\":{\"backgroundcolor\":\"white\",\"gridcolor\":\"#DFE8F3\",\"gridwidth\":2,\"linecolor\":\"#EBF0F8\",\"showbackground\":true,\"ticks\":\"\",\"zerolinecolor\":\"#EBF0F8\"},\"zaxis\":{\"backgroundcolor\":\"white\",\"gridcolor\":\"#DFE8F3\",\"gridwidth\":2,\"linecolor\":\"#EBF0F8\",\"showbackground\":true,\"ticks\":\"\",\"zerolinecolor\":\"#EBF0F8\"}},\"shapedefaults\":{\"line\":{\"color\":\"#2a3f5f\"}},\"ternary\":{\"aaxis\":{\"gridcolor\":\"#DFE8F3\",\"linecolor\":\"#A2B1C6\",\"ticks\":\"\"},\"baxis\":{\"gridcolor\":\"#DFE8F3\",\"linecolor\":\"#A2B1C6\",\"ticks\":\"\"},\"bgcolor\":\"white\",\"caxis\":{\"gridcolor\":\"#DFE8F3\",\"linecolor\":\"#A2B1C6\",\"ticks\":\"\"}},\"title\":{\"x\":0.05},\"xaxis\":{\"automargin\":true,\"gridcolor\":\"#EBF0F8\",\"linecolor\":\"#EBF0F8\",\"ticks\":\"\",\"title\":{\"standoff\":15},\"zerolinecolor\":\"#EBF0F8\",\"zerolinewidth\":2},\"yaxis\":{\"automargin\":true,\"gridcolor\":\"#EBF0F8\",\"linecolor\":\"#EBF0F8\",\"ticks\":\"\",\"title\":{\"standoff\":15},\"zerolinecolor\":\"#EBF0F8\",\"zerolinewidth\":2}}},\"xaxis\":{\"anchor\":\"y\",\"domain\":[0.0,1.0],\"title\":{\"text\":\"Model\"},\"categoryorder\":\"array\",\"categoryarray\":[\"Camembert\",\"Flaubert\"]},\"yaxis\":{\"anchor\":\"x\",\"domain\":[0.0,1.0],\"title\":{\"text\":\"V_measure\"}},\"legend\":{\"title\":{\"text\":\"Model\"},\"tracegroupgap\":0},\"title\":{\"text\":\"V measure clustering scores for each model\"},\"boxmode\":\"overlay\",\"showlegend\":false},                        {\"responsive\": true}                    ).then(function(){\n                            \nvar gd = document.getElementById('25f5cf30-844e-4266-a3d2-342218c9e90c');\nvar x = new MutationObserver(function (mutations, observer) {{\n        var display = window.getComputedStyle(gd).display;\n        if (!display || display === 'none') {{\n            console.log([gd, 'removed!']);\n            Plotly.purge(gd);\n            observer.disconnect();\n        }}\n}});\n\n// Listen for the removal of the full notebook cells\nvar notebookContainer = gd.closest('#notebook-container');\nif (notebookContainer) {{\n    x.observe(notebookContainer, {childList: true});\n}}\n\n// Listen for the clearing of the current output cell\nvar outputEl = gd.closest('.output');\nif (outputEl) {{\n    x.observe(outputEl, {childList: true});\n}}\n\n                        })                };                });            </script>        </div>"
     },
     "metadata": {},
     "output_type": "display_data"
    },
    {
     "data": {
      "application/vnd.plotly.v1+json": {
       "data": [
        {
         "alignmentgroup": "True",
         "hovertemplate": "Model=%{x}<br>Rand=%{y}<extra></extra>",
         "legendgroup": "Camembert",
         "marker": {
          "color": "#636efa"
         },
         "name": "Camembert",
         "notched": false,
         "offsetgroup": "Camembert",
         "orientation": "v",
         "showlegend": true,
         "x": [
          "Camembert",
          "Camembert",
          "Camembert",
          "Camembert",
          "Camembert",
          "Camembert",
          "Camembert",
          "Camembert",
          "Camembert",
          "Camembert",
          "Camembert",
          "Camembert",
          "Camembert",
          "Camembert"
         ],
         "x0": " ",
         "xaxis": "x",
         "y": [
          0.5994924402187511,
          0.6517522572500116,
          0.2235777142153307,
          0.0691854216715134,
          0.6347543624729282,
          0.4898407707696375,
          0.2854017627131009,
          0.2095239984526726,
          0.5623301478622479,
          0.5130967715580195,
          0.5225788888839303,
          0.4193657534100369,
          0.4688695029292828,
          0.4328667760061949
         ],
         "y0": " ",
         "yaxis": "y",
         "type": "box"
        },
        {
         "alignmentgroup": "True",
         "hovertemplate": "Model=%{x}<br>Rand=%{y}<extra></extra>",
         "legendgroup": "Flaubert",
         "marker": {
          "color": "#EF553B"
         },
         "name": "Flaubert",
         "notched": false,
         "offsetgroup": "Flaubert",
         "orientation": "v",
         "showlegend": true,
         "x": [
          "Flaubert",
          "Flaubert",
          "Flaubert",
          "Flaubert",
          "Flaubert",
          "Flaubert",
          "Flaubert",
          "Flaubert",
          "Flaubert",
          "Flaubert",
          "Flaubert",
          "Flaubert",
          "Flaubert",
          "Flaubert"
         ],
         "x0": " ",
         "xaxis": "x",
         "y": [
          0.8036426589295034,
          0.9654410605877044,
          0.200932390953496,
          0.7336714213301259,
          0.7909868993574418,
          0.4259438760334223,
          0.3142351243619911,
          0.1167005332700698,
          0.0487781087248088,
          0.5294816754093394,
          0.7467979473486587,
          0.5900182693692801,
          0.3188218471174401,
          0.516055608755142
         ],
         "y0": " ",
         "yaxis": "y",
         "type": "box"
        }
       ],
       "layout": {
        "template": {
         "data": {
          "barpolar": [
           {
            "marker": {
             "line": {
              "color": "white",
              "width": 0.5
             },
             "pattern": {
              "fillmode": "overlay",
              "size": 10,
              "solidity": 0.2
             }
            },
            "type": "barpolar"
           }
          ],
          "bar": [
           {
            "error_x": {
             "color": "#2a3f5f"
            },
            "error_y": {
             "color": "#2a3f5f"
            },
            "marker": {
             "line": {
              "color": "white",
              "width": 0.5
             },
             "pattern": {
              "fillmode": "overlay",
              "size": 10,
              "solidity": 0.2
             }
            },
            "type": "bar"
           }
          ],
          "carpet": [
           {
            "aaxis": {
             "endlinecolor": "#2a3f5f",
             "gridcolor": "#C8D4E3",
             "linecolor": "#C8D4E3",
             "minorgridcolor": "#C8D4E3",
             "startlinecolor": "#2a3f5f"
            },
            "baxis": {
             "endlinecolor": "#2a3f5f",
             "gridcolor": "#C8D4E3",
             "linecolor": "#C8D4E3",
             "minorgridcolor": "#C8D4E3",
             "startlinecolor": "#2a3f5f"
            },
            "type": "carpet"
           }
          ],
          "choropleth": [
           {
            "colorbar": {
             "outlinewidth": 0,
             "ticks": ""
            },
            "type": "choropleth"
           }
          ],
          "contourcarpet": [
           {
            "colorbar": {
             "outlinewidth": 0,
             "ticks": ""
            },
            "type": "contourcarpet"
           }
          ],
          "contour": [
           {
            "colorbar": {
             "outlinewidth": 0,
             "ticks": ""
            },
            "colorscale": [
             [
              0.0,
              "#0d0887"
             ],
             [
              0.1111111111111111,
              "#46039f"
             ],
             [
              0.2222222222222222,
              "#7201a8"
             ],
             [
              0.3333333333333333,
              "#9c179e"
             ],
             [
              0.4444444444444444,
              "#bd3786"
             ],
             [
              0.5555555555555556,
              "#d8576b"
             ],
             [
              0.6666666666666666,
              "#ed7953"
             ],
             [
              0.7777777777777778,
              "#fb9f3a"
             ],
             [
              0.8888888888888888,
              "#fdca26"
             ],
             [
              1.0,
              "#f0f921"
             ]
            ],
            "type": "contour"
           }
          ],
          "heatmapgl": [
           {
            "colorbar": {
             "outlinewidth": 0,
             "ticks": ""
            },
            "colorscale": [
             [
              0.0,
              "#0d0887"
             ],
             [
              0.1111111111111111,
              "#46039f"
             ],
             [
              0.2222222222222222,
              "#7201a8"
             ],
             [
              0.3333333333333333,
              "#9c179e"
             ],
             [
              0.4444444444444444,
              "#bd3786"
             ],
             [
              0.5555555555555556,
              "#d8576b"
             ],
             [
              0.6666666666666666,
              "#ed7953"
             ],
             [
              0.7777777777777778,
              "#fb9f3a"
             ],
             [
              0.8888888888888888,
              "#fdca26"
             ],
             [
              1.0,
              "#f0f921"
             ]
            ],
            "type": "heatmapgl"
           }
          ],
          "heatmap": [
           {
            "colorbar": {
             "outlinewidth": 0,
             "ticks": ""
            },
            "colorscale": [
             [
              0.0,
              "#0d0887"
             ],
             [
              0.1111111111111111,
              "#46039f"
             ],
             [
              0.2222222222222222,
              "#7201a8"
             ],
             [
              0.3333333333333333,
              "#9c179e"
             ],
             [
              0.4444444444444444,
              "#bd3786"
             ],
             [
              0.5555555555555556,
              "#d8576b"
             ],
             [
              0.6666666666666666,
              "#ed7953"
             ],
             [
              0.7777777777777778,
              "#fb9f3a"
             ],
             [
              0.8888888888888888,
              "#fdca26"
             ],
             [
              1.0,
              "#f0f921"
             ]
            ],
            "type": "heatmap"
           }
          ],
          "histogram2dcontour": [
           {
            "colorbar": {
             "outlinewidth": 0,
             "ticks": ""
            },
            "colorscale": [
             [
              0.0,
              "#0d0887"
             ],
             [
              0.1111111111111111,
              "#46039f"
             ],
             [
              0.2222222222222222,
              "#7201a8"
             ],
             [
              0.3333333333333333,
              "#9c179e"
             ],
             [
              0.4444444444444444,
              "#bd3786"
             ],
             [
              0.5555555555555556,
              "#d8576b"
             ],
             [
              0.6666666666666666,
              "#ed7953"
             ],
             [
              0.7777777777777778,
              "#fb9f3a"
             ],
             [
              0.8888888888888888,
              "#fdca26"
             ],
             [
              1.0,
              "#f0f921"
             ]
            ],
            "type": "histogram2dcontour"
           }
          ],
          "histogram2d": [
           {
            "colorbar": {
             "outlinewidth": 0,
             "ticks": ""
            },
            "colorscale": [
             [
              0.0,
              "#0d0887"
             ],
             [
              0.1111111111111111,
              "#46039f"
             ],
             [
              0.2222222222222222,
              "#7201a8"
             ],
             [
              0.3333333333333333,
              "#9c179e"
             ],
             [
              0.4444444444444444,
              "#bd3786"
             ],
             [
              0.5555555555555556,
              "#d8576b"
             ],
             [
              0.6666666666666666,
              "#ed7953"
             ],
             [
              0.7777777777777778,
              "#fb9f3a"
             ],
             [
              0.8888888888888888,
              "#fdca26"
             ],
             [
              1.0,
              "#f0f921"
             ]
            ],
            "type": "histogram2d"
           }
          ],
          "histogram": [
           {
            "marker": {
             "pattern": {
              "fillmode": "overlay",
              "size": 10,
              "solidity": 0.2
             }
            },
            "type": "histogram"
           }
          ],
          "mesh3d": [
           {
            "colorbar": {
             "outlinewidth": 0,
             "ticks": ""
            },
            "type": "mesh3d"
           }
          ],
          "parcoords": [
           {
            "line": {
             "colorbar": {
              "outlinewidth": 0,
              "ticks": ""
             }
            },
            "type": "parcoords"
           }
          ],
          "pie": [
           {
            "automargin": true,
            "type": "pie"
           }
          ],
          "scatter3d": [
           {
            "line": {
             "colorbar": {
              "outlinewidth": 0,
              "ticks": ""
             }
            },
            "marker": {
             "colorbar": {
              "outlinewidth": 0,
              "ticks": ""
             }
            },
            "type": "scatter3d"
           }
          ],
          "scattercarpet": [
           {
            "marker": {
             "colorbar": {
              "outlinewidth": 0,
              "ticks": ""
             }
            },
            "type": "scattercarpet"
           }
          ],
          "scattergeo": [
           {
            "marker": {
             "colorbar": {
              "outlinewidth": 0,
              "ticks": ""
             }
            },
            "type": "scattergeo"
           }
          ],
          "scattergl": [
           {
            "marker": {
             "colorbar": {
              "outlinewidth": 0,
              "ticks": ""
             }
            },
            "type": "scattergl"
           }
          ],
          "scattermapbox": [
           {
            "marker": {
             "colorbar": {
              "outlinewidth": 0,
              "ticks": ""
             }
            },
            "type": "scattermapbox"
           }
          ],
          "scatterpolargl": [
           {
            "marker": {
             "colorbar": {
              "outlinewidth": 0,
              "ticks": ""
             }
            },
            "type": "scatterpolargl"
           }
          ],
          "scatterpolar": [
           {
            "marker": {
             "colorbar": {
              "outlinewidth": 0,
              "ticks": ""
             }
            },
            "type": "scatterpolar"
           }
          ],
          "scatter": [
           {
            "fillpattern": {
             "fillmode": "overlay",
             "size": 10,
             "solidity": 0.2
            },
            "type": "scatter"
           }
          ],
          "scatterternary": [
           {
            "marker": {
             "colorbar": {
              "outlinewidth": 0,
              "ticks": ""
             }
            },
            "type": "scatterternary"
           }
          ],
          "surface": [
           {
            "colorbar": {
             "outlinewidth": 0,
             "ticks": ""
            },
            "colorscale": [
             [
              0.0,
              "#0d0887"
             ],
             [
              0.1111111111111111,
              "#46039f"
             ],
             [
              0.2222222222222222,
              "#7201a8"
             ],
             [
              0.3333333333333333,
              "#9c179e"
             ],
             [
              0.4444444444444444,
              "#bd3786"
             ],
             [
              0.5555555555555556,
              "#d8576b"
             ],
             [
              0.6666666666666666,
              "#ed7953"
             ],
             [
              0.7777777777777778,
              "#fb9f3a"
             ],
             [
              0.8888888888888888,
              "#fdca26"
             ],
             [
              1.0,
              "#f0f921"
             ]
            ],
            "type": "surface"
           }
          ],
          "table": [
           {
            "cells": {
             "fill": {
              "color": "#EBF0F8"
             },
             "line": {
              "color": "white"
             }
            },
            "header": {
             "fill": {
              "color": "#C8D4E3"
             },
             "line": {
              "color": "white"
             }
            },
            "type": "table"
           }
          ]
         },
         "layout": {
          "annotationdefaults": {
           "arrowcolor": "#2a3f5f",
           "arrowhead": 0,
           "arrowwidth": 1
          },
          "autotypenumbers": "strict",
          "coloraxis": {
           "colorbar": {
            "outlinewidth": 0,
            "ticks": ""
           }
          },
          "colorscale": {
           "diverging": [
            [
             0,
             "#8e0152"
            ],
            [
             0.1,
             "#c51b7d"
            ],
            [
             0.2,
             "#de77ae"
            ],
            [
             0.3,
             "#f1b6da"
            ],
            [
             0.4,
             "#fde0ef"
            ],
            [
             0.5,
             "#f7f7f7"
            ],
            [
             0.6,
             "#e6f5d0"
            ],
            [
             0.7,
             "#b8e186"
            ],
            [
             0.8,
             "#7fbc41"
            ],
            [
             0.9,
             "#4d9221"
            ],
            [
             1,
             "#276419"
            ]
           ],
           "sequential": [
            [
             0.0,
             "#0d0887"
            ],
            [
             0.1111111111111111,
             "#46039f"
            ],
            [
             0.2222222222222222,
             "#7201a8"
            ],
            [
             0.3333333333333333,
             "#9c179e"
            ],
            [
             0.4444444444444444,
             "#bd3786"
            ],
            [
             0.5555555555555556,
             "#d8576b"
            ],
            [
             0.6666666666666666,
             "#ed7953"
            ],
            [
             0.7777777777777778,
             "#fb9f3a"
            ],
            [
             0.8888888888888888,
             "#fdca26"
            ],
            [
             1.0,
             "#f0f921"
            ]
           ],
           "sequentialminus": [
            [
             0.0,
             "#0d0887"
            ],
            [
             0.1111111111111111,
             "#46039f"
            ],
            [
             0.2222222222222222,
             "#7201a8"
            ],
            [
             0.3333333333333333,
             "#9c179e"
            ],
            [
             0.4444444444444444,
             "#bd3786"
            ],
            [
             0.5555555555555556,
             "#d8576b"
            ],
            [
             0.6666666666666666,
             "#ed7953"
            ],
            [
             0.7777777777777778,
             "#fb9f3a"
            ],
            [
             0.8888888888888888,
             "#fdca26"
            ],
            [
             1.0,
             "#f0f921"
            ]
           ]
          },
          "colorway": [
           "#636efa",
           "#EF553B",
           "#00cc96",
           "#ab63fa",
           "#FFA15A",
           "#19d3f3",
           "#FF6692",
           "#B6E880",
           "#FF97FF",
           "#FECB52"
          ],
          "font": {
           "color": "#2a3f5f"
          },
          "geo": {
           "bgcolor": "white",
           "lakecolor": "white",
           "landcolor": "white",
           "showlakes": true,
           "showland": true,
           "subunitcolor": "#C8D4E3"
          },
          "hoverlabel": {
           "align": "left"
          },
          "hovermode": "closest",
          "mapbox": {
           "style": "light"
          },
          "paper_bgcolor": "white",
          "plot_bgcolor": "white",
          "polar": {
           "angularaxis": {
            "gridcolor": "#EBF0F8",
            "linecolor": "#EBF0F8",
            "ticks": ""
           },
           "bgcolor": "white",
           "radialaxis": {
            "gridcolor": "#EBF0F8",
            "linecolor": "#EBF0F8",
            "ticks": ""
           }
          },
          "scene": {
           "xaxis": {
            "backgroundcolor": "white",
            "gridcolor": "#DFE8F3",
            "gridwidth": 2,
            "linecolor": "#EBF0F8",
            "showbackground": true,
            "ticks": "",
            "zerolinecolor": "#EBF0F8"
           },
           "yaxis": {
            "backgroundcolor": "white",
            "gridcolor": "#DFE8F3",
            "gridwidth": 2,
            "linecolor": "#EBF0F8",
            "showbackground": true,
            "ticks": "",
            "zerolinecolor": "#EBF0F8"
           },
           "zaxis": {
            "backgroundcolor": "white",
            "gridcolor": "#DFE8F3",
            "gridwidth": 2,
            "linecolor": "#EBF0F8",
            "showbackground": true,
            "ticks": "",
            "zerolinecolor": "#EBF0F8"
           }
          },
          "shapedefaults": {
           "line": {
            "color": "#2a3f5f"
           }
          },
          "ternary": {
           "aaxis": {
            "gridcolor": "#DFE8F3",
            "linecolor": "#A2B1C6",
            "ticks": ""
           },
           "baxis": {
            "gridcolor": "#DFE8F3",
            "linecolor": "#A2B1C6",
            "ticks": ""
           },
           "bgcolor": "white",
           "caxis": {
            "gridcolor": "#DFE8F3",
            "linecolor": "#A2B1C6",
            "ticks": ""
           }
          },
          "title": {
           "x": 0.05
          },
          "xaxis": {
           "automargin": true,
           "gridcolor": "#EBF0F8",
           "linecolor": "#EBF0F8",
           "ticks": "",
           "title": {
            "standoff": 15
           },
           "zerolinecolor": "#EBF0F8",
           "zerolinewidth": 2
          },
          "yaxis": {
           "automargin": true,
           "gridcolor": "#EBF0F8",
           "linecolor": "#EBF0F8",
           "ticks": "",
           "title": {
            "standoff": 15
           },
           "zerolinecolor": "#EBF0F8",
           "zerolinewidth": 2
          }
         }
        },
        "xaxis": {
         "anchor": "y",
         "domain": [
          0.0,
          1.0
         ],
         "title": {
          "text": "Model"
         },
         "categoryorder": "array",
         "categoryarray": [
          "Camembert",
          "Flaubert"
         ]
        },
        "yaxis": {
         "anchor": "x",
         "domain": [
          0.0,
          1.0
         ],
         "title": {
          "text": "Rand"
         }
        },
        "legend": {
         "title": {
          "text": "Model"
         },
         "tracegroupgap": 0
        },
        "title": {
         "text": "Adjusted Rand scores for each model"
        },
        "boxmode": "overlay",
        "showlegend": false
       },
       "config": {
        "plotlyServerURL": "https://plot.ly"
       }
      },
      "text/html": "<div>                            <div id=\"3d3075e5-87b8-4ac2-8bfa-7f7892dee90c\" class=\"plotly-graph-div\" style=\"height:525px; width:100%;\"></div>            <script type=\"text/javascript\">                require([\"plotly\"], function(Plotly) {                    window.PLOTLYENV=window.PLOTLYENV || {};                                    if (document.getElementById(\"3d3075e5-87b8-4ac2-8bfa-7f7892dee90c\")) {                    Plotly.newPlot(                        \"3d3075e5-87b8-4ac2-8bfa-7f7892dee90c\",                        [{\"alignmentgroup\":\"True\",\"hovertemplate\":\"Model=%{x}\\u003cbr\\u003eRand=%{y}\\u003cextra\\u003e\\u003c\\u002fextra\\u003e\",\"legendgroup\":\"Camembert\",\"marker\":{\"color\":\"#636efa\"},\"name\":\"Camembert\",\"notched\":false,\"offsetgroup\":\"Camembert\",\"orientation\":\"v\",\"showlegend\":true,\"x\":[\"Camembert\",\"Camembert\",\"Camembert\",\"Camembert\",\"Camembert\",\"Camembert\",\"Camembert\",\"Camembert\",\"Camembert\",\"Camembert\",\"Camembert\",\"Camembert\",\"Camembert\",\"Camembert\"],\"x0\":\" \",\"xaxis\":\"x\",\"y\":[0.5994924402187511,0.6517522572500116,0.2235777142153307,0.0691854216715134,0.6347543624729282,0.4898407707696375,0.2854017627131009,0.2095239984526726,0.5623301478622479,0.5130967715580195,0.5225788888839303,0.4193657534100369,0.4688695029292828,0.4328667760061949],\"y0\":\" \",\"yaxis\":\"y\",\"type\":\"box\"},{\"alignmentgroup\":\"True\",\"hovertemplate\":\"Model=%{x}\\u003cbr\\u003eRand=%{y}\\u003cextra\\u003e\\u003c\\u002fextra\\u003e\",\"legendgroup\":\"Flaubert\",\"marker\":{\"color\":\"#EF553B\"},\"name\":\"Flaubert\",\"notched\":false,\"offsetgroup\":\"Flaubert\",\"orientation\":\"v\",\"showlegend\":true,\"x\":[\"Flaubert\",\"Flaubert\",\"Flaubert\",\"Flaubert\",\"Flaubert\",\"Flaubert\",\"Flaubert\",\"Flaubert\",\"Flaubert\",\"Flaubert\",\"Flaubert\",\"Flaubert\",\"Flaubert\",\"Flaubert\"],\"x0\":\" \",\"xaxis\":\"x\",\"y\":[0.8036426589295034,0.9654410605877044,0.200932390953496,0.7336714213301259,0.7909868993574418,0.4259438760334223,0.3142351243619911,0.1167005332700698,0.0487781087248088,0.5294816754093394,0.7467979473486587,0.5900182693692801,0.3188218471174401,0.516055608755142],\"y0\":\" \",\"yaxis\":\"y\",\"type\":\"box\"}],                        {\"template\":{\"data\":{\"barpolar\":[{\"marker\":{\"line\":{\"color\":\"white\",\"width\":0.5},\"pattern\":{\"fillmode\":\"overlay\",\"size\":10,\"solidity\":0.2}},\"type\":\"barpolar\"}],\"bar\":[{\"error_x\":{\"color\":\"#2a3f5f\"},\"error_y\":{\"color\":\"#2a3f5f\"},\"marker\":{\"line\":{\"color\":\"white\",\"width\":0.5},\"pattern\":{\"fillmode\":\"overlay\",\"size\":10,\"solidity\":0.2}},\"type\":\"bar\"}],\"carpet\":[{\"aaxis\":{\"endlinecolor\":\"#2a3f5f\",\"gridcolor\":\"#C8D4E3\",\"linecolor\":\"#C8D4E3\",\"minorgridcolor\":\"#C8D4E3\",\"startlinecolor\":\"#2a3f5f\"},\"baxis\":{\"endlinecolor\":\"#2a3f5f\",\"gridcolor\":\"#C8D4E3\",\"linecolor\":\"#C8D4E3\",\"minorgridcolor\":\"#C8D4E3\",\"startlinecolor\":\"#2a3f5f\"},\"type\":\"carpet\"}],\"choropleth\":[{\"colorbar\":{\"outlinewidth\":0,\"ticks\":\"\"},\"type\":\"choropleth\"}],\"contourcarpet\":[{\"colorbar\":{\"outlinewidth\":0,\"ticks\":\"\"},\"type\":\"contourcarpet\"}],\"contour\":[{\"colorbar\":{\"outlinewidth\":0,\"ticks\":\"\"},\"colorscale\":[[0.0,\"#0d0887\"],[0.1111111111111111,\"#46039f\"],[0.2222222222222222,\"#7201a8\"],[0.3333333333333333,\"#9c179e\"],[0.4444444444444444,\"#bd3786\"],[0.5555555555555556,\"#d8576b\"],[0.6666666666666666,\"#ed7953\"],[0.7777777777777778,\"#fb9f3a\"],[0.8888888888888888,\"#fdca26\"],[1.0,\"#f0f921\"]],\"type\":\"contour\"}],\"heatmapgl\":[{\"colorbar\":{\"outlinewidth\":0,\"ticks\":\"\"},\"colorscale\":[[0.0,\"#0d0887\"],[0.1111111111111111,\"#46039f\"],[0.2222222222222222,\"#7201a8\"],[0.3333333333333333,\"#9c179e\"],[0.4444444444444444,\"#bd3786\"],[0.5555555555555556,\"#d8576b\"],[0.6666666666666666,\"#ed7953\"],[0.7777777777777778,\"#fb9f3a\"],[0.8888888888888888,\"#fdca26\"],[1.0,\"#f0f921\"]],\"type\":\"heatmapgl\"}],\"heatmap\":[{\"colorbar\":{\"outlinewidth\":0,\"ticks\":\"\"},\"colorscale\":[[0.0,\"#0d0887\"],[0.1111111111111111,\"#46039f\"],[0.2222222222222222,\"#7201a8\"],[0.3333333333333333,\"#9c179e\"],[0.4444444444444444,\"#bd3786\"],[0.5555555555555556,\"#d8576b\"],[0.6666666666666666,\"#ed7953\"],[0.7777777777777778,\"#fb9f3a\"],[0.8888888888888888,\"#fdca26\"],[1.0,\"#f0f921\"]],\"type\":\"heatmap\"}],\"histogram2dcontour\":[{\"colorbar\":{\"outlinewidth\":0,\"ticks\":\"\"},\"colorscale\":[[0.0,\"#0d0887\"],[0.1111111111111111,\"#46039f\"],[0.2222222222222222,\"#7201a8\"],[0.3333333333333333,\"#9c179e\"],[0.4444444444444444,\"#bd3786\"],[0.5555555555555556,\"#d8576b\"],[0.6666666666666666,\"#ed7953\"],[0.7777777777777778,\"#fb9f3a\"],[0.8888888888888888,\"#fdca26\"],[1.0,\"#f0f921\"]],\"type\":\"histogram2dcontour\"}],\"histogram2d\":[{\"colorbar\":{\"outlinewidth\":0,\"ticks\":\"\"},\"colorscale\":[[0.0,\"#0d0887\"],[0.1111111111111111,\"#46039f\"],[0.2222222222222222,\"#7201a8\"],[0.3333333333333333,\"#9c179e\"],[0.4444444444444444,\"#bd3786\"],[0.5555555555555556,\"#d8576b\"],[0.6666666666666666,\"#ed7953\"],[0.7777777777777778,\"#fb9f3a\"],[0.8888888888888888,\"#fdca26\"],[1.0,\"#f0f921\"]],\"type\":\"histogram2d\"}],\"histogram\":[{\"marker\":{\"pattern\":{\"fillmode\":\"overlay\",\"size\":10,\"solidity\":0.2}},\"type\":\"histogram\"}],\"mesh3d\":[{\"colorbar\":{\"outlinewidth\":0,\"ticks\":\"\"},\"type\":\"mesh3d\"}],\"parcoords\":[{\"line\":{\"colorbar\":{\"outlinewidth\":0,\"ticks\":\"\"}},\"type\":\"parcoords\"}],\"pie\":[{\"automargin\":true,\"type\":\"pie\"}],\"scatter3d\":[{\"line\":{\"colorbar\":{\"outlinewidth\":0,\"ticks\":\"\"}},\"marker\":{\"colorbar\":{\"outlinewidth\":0,\"ticks\":\"\"}},\"type\":\"scatter3d\"}],\"scattercarpet\":[{\"marker\":{\"colorbar\":{\"outlinewidth\":0,\"ticks\":\"\"}},\"type\":\"scattercarpet\"}],\"scattergeo\":[{\"marker\":{\"colorbar\":{\"outlinewidth\":0,\"ticks\":\"\"}},\"type\":\"scattergeo\"}],\"scattergl\":[{\"marker\":{\"colorbar\":{\"outlinewidth\":0,\"ticks\":\"\"}},\"type\":\"scattergl\"}],\"scattermapbox\":[{\"marker\":{\"colorbar\":{\"outlinewidth\":0,\"ticks\":\"\"}},\"type\":\"scattermapbox\"}],\"scatterpolargl\":[{\"marker\":{\"colorbar\":{\"outlinewidth\":0,\"ticks\":\"\"}},\"type\":\"scatterpolargl\"}],\"scatterpolar\":[{\"marker\":{\"colorbar\":{\"outlinewidth\":0,\"ticks\":\"\"}},\"type\":\"scatterpolar\"}],\"scatter\":[{\"fillpattern\":{\"fillmode\":\"overlay\",\"size\":10,\"solidity\":0.2},\"type\":\"scatter\"}],\"scatterternary\":[{\"marker\":{\"colorbar\":{\"outlinewidth\":0,\"ticks\":\"\"}},\"type\":\"scatterternary\"}],\"surface\":[{\"colorbar\":{\"outlinewidth\":0,\"ticks\":\"\"},\"colorscale\":[[0.0,\"#0d0887\"],[0.1111111111111111,\"#46039f\"],[0.2222222222222222,\"#7201a8\"],[0.3333333333333333,\"#9c179e\"],[0.4444444444444444,\"#bd3786\"],[0.5555555555555556,\"#d8576b\"],[0.6666666666666666,\"#ed7953\"],[0.7777777777777778,\"#fb9f3a\"],[0.8888888888888888,\"#fdca26\"],[1.0,\"#f0f921\"]],\"type\":\"surface\"}],\"table\":[{\"cells\":{\"fill\":{\"color\":\"#EBF0F8\"},\"line\":{\"color\":\"white\"}},\"header\":{\"fill\":{\"color\":\"#C8D4E3\"},\"line\":{\"color\":\"white\"}},\"type\":\"table\"}]},\"layout\":{\"annotationdefaults\":{\"arrowcolor\":\"#2a3f5f\",\"arrowhead\":0,\"arrowwidth\":1},\"autotypenumbers\":\"strict\",\"coloraxis\":{\"colorbar\":{\"outlinewidth\":0,\"ticks\":\"\"}},\"colorscale\":{\"diverging\":[[0,\"#8e0152\"],[0.1,\"#c51b7d\"],[0.2,\"#de77ae\"],[0.3,\"#f1b6da\"],[0.4,\"#fde0ef\"],[0.5,\"#f7f7f7\"],[0.6,\"#e6f5d0\"],[0.7,\"#b8e186\"],[0.8,\"#7fbc41\"],[0.9,\"#4d9221\"],[1,\"#276419\"]],\"sequential\":[[0.0,\"#0d0887\"],[0.1111111111111111,\"#46039f\"],[0.2222222222222222,\"#7201a8\"],[0.3333333333333333,\"#9c179e\"],[0.4444444444444444,\"#bd3786\"],[0.5555555555555556,\"#d8576b\"],[0.6666666666666666,\"#ed7953\"],[0.7777777777777778,\"#fb9f3a\"],[0.8888888888888888,\"#fdca26\"],[1.0,\"#f0f921\"]],\"sequentialminus\":[[0.0,\"#0d0887\"],[0.1111111111111111,\"#46039f\"],[0.2222222222222222,\"#7201a8\"],[0.3333333333333333,\"#9c179e\"],[0.4444444444444444,\"#bd3786\"],[0.5555555555555556,\"#d8576b\"],[0.6666666666666666,\"#ed7953\"],[0.7777777777777778,\"#fb9f3a\"],[0.8888888888888888,\"#fdca26\"],[1.0,\"#f0f921\"]]},\"colorway\":[\"#636efa\",\"#EF553B\",\"#00cc96\",\"#ab63fa\",\"#FFA15A\",\"#19d3f3\",\"#FF6692\",\"#B6E880\",\"#FF97FF\",\"#FECB52\"],\"font\":{\"color\":\"#2a3f5f\"},\"geo\":{\"bgcolor\":\"white\",\"lakecolor\":\"white\",\"landcolor\":\"white\",\"showlakes\":true,\"showland\":true,\"subunitcolor\":\"#C8D4E3\"},\"hoverlabel\":{\"align\":\"left\"},\"hovermode\":\"closest\",\"mapbox\":{\"style\":\"light\"},\"paper_bgcolor\":\"white\",\"plot_bgcolor\":\"white\",\"polar\":{\"angularaxis\":{\"gridcolor\":\"#EBF0F8\",\"linecolor\":\"#EBF0F8\",\"ticks\":\"\"},\"bgcolor\":\"white\",\"radialaxis\":{\"gridcolor\":\"#EBF0F8\",\"linecolor\":\"#EBF0F8\",\"ticks\":\"\"}},\"scene\":{\"xaxis\":{\"backgroundcolor\":\"white\",\"gridcolor\":\"#DFE8F3\",\"gridwidth\":2,\"linecolor\":\"#EBF0F8\",\"showbackground\":true,\"ticks\":\"\",\"zerolinecolor\":\"#EBF0F8\"},\"yaxis\":{\"backgroundcolor\":\"white\",\"gridcolor\":\"#DFE8F3\",\"gridwidth\":2,\"linecolor\":\"#EBF0F8\",\"showbackground\":true,\"ticks\":\"\",\"zerolinecolor\":\"#EBF0F8\"},\"zaxis\":{\"backgroundcolor\":\"white\",\"gridcolor\":\"#DFE8F3\",\"gridwidth\":2,\"linecolor\":\"#EBF0F8\",\"showbackground\":true,\"ticks\":\"\",\"zerolinecolor\":\"#EBF0F8\"}},\"shapedefaults\":{\"line\":{\"color\":\"#2a3f5f\"}},\"ternary\":{\"aaxis\":{\"gridcolor\":\"#DFE8F3\",\"linecolor\":\"#A2B1C6\",\"ticks\":\"\"},\"baxis\":{\"gridcolor\":\"#DFE8F3\",\"linecolor\":\"#A2B1C6\",\"ticks\":\"\"},\"bgcolor\":\"white\",\"caxis\":{\"gridcolor\":\"#DFE8F3\",\"linecolor\":\"#A2B1C6\",\"ticks\":\"\"}},\"title\":{\"x\":0.05},\"xaxis\":{\"automargin\":true,\"gridcolor\":\"#EBF0F8\",\"linecolor\":\"#EBF0F8\",\"ticks\":\"\",\"title\":{\"standoff\":15},\"zerolinecolor\":\"#EBF0F8\",\"zerolinewidth\":2},\"yaxis\":{\"automargin\":true,\"gridcolor\":\"#EBF0F8\",\"linecolor\":\"#EBF0F8\",\"ticks\":\"\",\"title\":{\"standoff\":15},\"zerolinecolor\":\"#EBF0F8\",\"zerolinewidth\":2}}},\"xaxis\":{\"anchor\":\"y\",\"domain\":[0.0,1.0],\"title\":{\"text\":\"Model\"},\"categoryorder\":\"array\",\"categoryarray\":[\"Camembert\",\"Flaubert\"]},\"yaxis\":{\"anchor\":\"x\",\"domain\":[0.0,1.0],\"title\":{\"text\":\"Rand\"}},\"legend\":{\"title\":{\"text\":\"Model\"},\"tracegroupgap\":0},\"title\":{\"text\":\"Adjusted Rand scores for each model\"},\"boxmode\":\"overlay\",\"showlegend\":false},                        {\"responsive\": true}                    ).then(function(){\n                            \nvar gd = document.getElementById('3d3075e5-87b8-4ac2-8bfa-7f7892dee90c');\nvar x = new MutationObserver(function (mutations, observer) {{\n        var display = window.getComputedStyle(gd).display;\n        if (!display || display === 'none') {{\n            console.log([gd, 'removed!']);\n            Plotly.purge(gd);\n            observer.disconnect();\n        }}\n}});\n\n// Listen for the removal of the full notebook cells\nvar notebookContainer = gd.closest('#notebook-container');\nif (notebookContainer) {{\n    x.observe(notebookContainer, {childList: true});\n}}\n\n// Listen for the clearing of the current output cell\nvar outputEl = gd.closest('.output');\nif (outputEl) {{\n    x.observe(outputEl, {childList: true});\n}}\n\n                        })                };                });            </script>        </div>"
     },
     "metadata": {},
     "output_type": "display_data"
    },
    {
     "data": {
      "application/vnd.plotly.v1+json": {
       "data": [
        {
         "alignmentgroup": "True",
         "hovertemplate": "Model=%{x}<br>F1=%{y}<extra></extra>",
         "legendgroup": "Camembert",
         "marker": {
          "color": "#636efa"
         },
         "name": "Camembert",
         "notched": false,
         "offsetgroup": "Camembert",
         "orientation": "v",
         "showlegend": true,
         "x": [
          "Camembert",
          "Camembert",
          "Camembert",
          "Camembert",
          "Camembert",
          "Camembert",
          "Camembert",
          "Camembert",
          "Camembert",
          "Camembert",
          "Camembert",
          "Camembert",
          "Camembert",
          "Camembert"
         ],
         "x0": " ",
         "xaxis": "x",
         "y": [
          0.855072463768116,
          0.8650429381926801,
          0.5432278524356131,
          0.4832185227707616,
          0.7788733970914822,
          0.7625527084336481,
          0.6185909146267202,
          0.5995959595959596,
          0.8643480453972258,
          0.7280716791120709,
          0.775048480930834,
          0.7038531950338056,
          0.7476058006948891,
          0.7157857238504648
         ],
         "y0": " ",
         "yaxis": "y",
         "type": "box"
        },
        {
         "alignmentgroup": "True",
         "hovertemplate": "Model=%{x}<br>F1=%{y}<extra></extra>",
         "legendgroup": "Flaubert",
         "marker": {
          "color": "#EF553B"
         },
         "name": "Flaubert",
         "notched": false,
         "offsetgroup": "Flaubert",
         "orientation": "v",
         "showlegend": true,
         "x": [
          "Flaubert",
          "Flaubert",
          "Flaubert",
          "Flaubert",
          "Flaubert",
          "Flaubert",
          "Flaubert",
          "Flaubert",
          "Flaubert",
          "Flaubert",
          "Flaubert",
          "Flaubert",
          "Flaubert",
          "Flaubert"
         ],
         "x0": " ",
         "xaxis": "x",
         "y": [
          0.9430778371954842,
          0.9897579446451628,
          0.4895107557586141,
          0.738556338028169,
          0.9283536585365854,
          0.6291852828438194,
          0.6182677495101778,
          0.4621260297730886,
          0.5991711991711991,
          0.7480694980694981,
          0.9427662957074724,
          0.7623989627197997,
          0.6632169624936243,
          0.7353493262944791
         ],
         "y0": " ",
         "yaxis": "y",
         "type": "box"
        }
       ],
       "layout": {
        "template": {
         "data": {
          "barpolar": [
           {
            "marker": {
             "line": {
              "color": "white",
              "width": 0.5
             },
             "pattern": {
              "fillmode": "overlay",
              "size": 10,
              "solidity": 0.2
             }
            },
            "type": "barpolar"
           }
          ],
          "bar": [
           {
            "error_x": {
             "color": "#2a3f5f"
            },
            "error_y": {
             "color": "#2a3f5f"
            },
            "marker": {
             "line": {
              "color": "white",
              "width": 0.5
             },
             "pattern": {
              "fillmode": "overlay",
              "size": 10,
              "solidity": 0.2
             }
            },
            "type": "bar"
           }
          ],
          "carpet": [
           {
            "aaxis": {
             "endlinecolor": "#2a3f5f",
             "gridcolor": "#C8D4E3",
             "linecolor": "#C8D4E3",
             "minorgridcolor": "#C8D4E3",
             "startlinecolor": "#2a3f5f"
            },
            "baxis": {
             "endlinecolor": "#2a3f5f",
             "gridcolor": "#C8D4E3",
             "linecolor": "#C8D4E3",
             "minorgridcolor": "#C8D4E3",
             "startlinecolor": "#2a3f5f"
            },
            "type": "carpet"
           }
          ],
          "choropleth": [
           {
            "colorbar": {
             "outlinewidth": 0,
             "ticks": ""
            },
            "type": "choropleth"
           }
          ],
          "contourcarpet": [
           {
            "colorbar": {
             "outlinewidth": 0,
             "ticks": ""
            },
            "type": "contourcarpet"
           }
          ],
          "contour": [
           {
            "colorbar": {
             "outlinewidth": 0,
             "ticks": ""
            },
            "colorscale": [
             [
              0.0,
              "#0d0887"
             ],
             [
              0.1111111111111111,
              "#46039f"
             ],
             [
              0.2222222222222222,
              "#7201a8"
             ],
             [
              0.3333333333333333,
              "#9c179e"
             ],
             [
              0.4444444444444444,
              "#bd3786"
             ],
             [
              0.5555555555555556,
              "#d8576b"
             ],
             [
              0.6666666666666666,
              "#ed7953"
             ],
             [
              0.7777777777777778,
              "#fb9f3a"
             ],
             [
              0.8888888888888888,
              "#fdca26"
             ],
             [
              1.0,
              "#f0f921"
             ]
            ],
            "type": "contour"
           }
          ],
          "heatmapgl": [
           {
            "colorbar": {
             "outlinewidth": 0,
             "ticks": ""
            },
            "colorscale": [
             [
              0.0,
              "#0d0887"
             ],
             [
              0.1111111111111111,
              "#46039f"
             ],
             [
              0.2222222222222222,
              "#7201a8"
             ],
             [
              0.3333333333333333,
              "#9c179e"
             ],
             [
              0.4444444444444444,
              "#bd3786"
             ],
             [
              0.5555555555555556,
              "#d8576b"
             ],
             [
              0.6666666666666666,
              "#ed7953"
             ],
             [
              0.7777777777777778,
              "#fb9f3a"
             ],
             [
              0.8888888888888888,
              "#fdca26"
             ],
             [
              1.0,
              "#f0f921"
             ]
            ],
            "type": "heatmapgl"
           }
          ],
          "heatmap": [
           {
            "colorbar": {
             "outlinewidth": 0,
             "ticks": ""
            },
            "colorscale": [
             [
              0.0,
              "#0d0887"
             ],
             [
              0.1111111111111111,
              "#46039f"
             ],
             [
              0.2222222222222222,
              "#7201a8"
             ],
             [
              0.3333333333333333,
              "#9c179e"
             ],
             [
              0.4444444444444444,
              "#bd3786"
             ],
             [
              0.5555555555555556,
              "#d8576b"
             ],
             [
              0.6666666666666666,
              "#ed7953"
             ],
             [
              0.7777777777777778,
              "#fb9f3a"
             ],
             [
              0.8888888888888888,
              "#fdca26"
             ],
             [
              1.0,
              "#f0f921"
             ]
            ],
            "type": "heatmap"
           }
          ],
          "histogram2dcontour": [
           {
            "colorbar": {
             "outlinewidth": 0,
             "ticks": ""
            },
            "colorscale": [
             [
              0.0,
              "#0d0887"
             ],
             [
              0.1111111111111111,
              "#46039f"
             ],
             [
              0.2222222222222222,
              "#7201a8"
             ],
             [
              0.3333333333333333,
              "#9c179e"
             ],
             [
              0.4444444444444444,
              "#bd3786"
             ],
             [
              0.5555555555555556,
              "#d8576b"
             ],
             [
              0.6666666666666666,
              "#ed7953"
             ],
             [
              0.7777777777777778,
              "#fb9f3a"
             ],
             [
              0.8888888888888888,
              "#fdca26"
             ],
             [
              1.0,
              "#f0f921"
             ]
            ],
            "type": "histogram2dcontour"
           }
          ],
          "histogram2d": [
           {
            "colorbar": {
             "outlinewidth": 0,
             "ticks": ""
            },
            "colorscale": [
             [
              0.0,
              "#0d0887"
             ],
             [
              0.1111111111111111,
              "#46039f"
             ],
             [
              0.2222222222222222,
              "#7201a8"
             ],
             [
              0.3333333333333333,
              "#9c179e"
             ],
             [
              0.4444444444444444,
              "#bd3786"
             ],
             [
              0.5555555555555556,
              "#d8576b"
             ],
             [
              0.6666666666666666,
              "#ed7953"
             ],
             [
              0.7777777777777778,
              "#fb9f3a"
             ],
             [
              0.8888888888888888,
              "#fdca26"
             ],
             [
              1.0,
              "#f0f921"
             ]
            ],
            "type": "histogram2d"
           }
          ],
          "histogram": [
           {
            "marker": {
             "pattern": {
              "fillmode": "overlay",
              "size": 10,
              "solidity": 0.2
             }
            },
            "type": "histogram"
           }
          ],
          "mesh3d": [
           {
            "colorbar": {
             "outlinewidth": 0,
             "ticks": ""
            },
            "type": "mesh3d"
           }
          ],
          "parcoords": [
           {
            "line": {
             "colorbar": {
              "outlinewidth": 0,
              "ticks": ""
             }
            },
            "type": "parcoords"
           }
          ],
          "pie": [
           {
            "automargin": true,
            "type": "pie"
           }
          ],
          "scatter3d": [
           {
            "line": {
             "colorbar": {
              "outlinewidth": 0,
              "ticks": ""
             }
            },
            "marker": {
             "colorbar": {
              "outlinewidth": 0,
              "ticks": ""
             }
            },
            "type": "scatter3d"
           }
          ],
          "scattercarpet": [
           {
            "marker": {
             "colorbar": {
              "outlinewidth": 0,
              "ticks": ""
             }
            },
            "type": "scattercarpet"
           }
          ],
          "scattergeo": [
           {
            "marker": {
             "colorbar": {
              "outlinewidth": 0,
              "ticks": ""
             }
            },
            "type": "scattergeo"
           }
          ],
          "scattergl": [
           {
            "marker": {
             "colorbar": {
              "outlinewidth": 0,
              "ticks": ""
             }
            },
            "type": "scattergl"
           }
          ],
          "scattermapbox": [
           {
            "marker": {
             "colorbar": {
              "outlinewidth": 0,
              "ticks": ""
             }
            },
            "type": "scattermapbox"
           }
          ],
          "scatterpolargl": [
           {
            "marker": {
             "colorbar": {
              "outlinewidth": 0,
              "ticks": ""
             }
            },
            "type": "scatterpolargl"
           }
          ],
          "scatterpolar": [
           {
            "marker": {
             "colorbar": {
              "outlinewidth": 0,
              "ticks": ""
             }
            },
            "type": "scatterpolar"
           }
          ],
          "scatter": [
           {
            "fillpattern": {
             "fillmode": "overlay",
             "size": 10,
             "solidity": 0.2
            },
            "type": "scatter"
           }
          ],
          "scatterternary": [
           {
            "marker": {
             "colorbar": {
              "outlinewidth": 0,
              "ticks": ""
             }
            },
            "type": "scatterternary"
           }
          ],
          "surface": [
           {
            "colorbar": {
             "outlinewidth": 0,
             "ticks": ""
            },
            "colorscale": [
             [
              0.0,
              "#0d0887"
             ],
             [
              0.1111111111111111,
              "#46039f"
             ],
             [
              0.2222222222222222,
              "#7201a8"
             ],
             [
              0.3333333333333333,
              "#9c179e"
             ],
             [
              0.4444444444444444,
              "#bd3786"
             ],
             [
              0.5555555555555556,
              "#d8576b"
             ],
             [
              0.6666666666666666,
              "#ed7953"
             ],
             [
              0.7777777777777778,
              "#fb9f3a"
             ],
             [
              0.8888888888888888,
              "#fdca26"
             ],
             [
              1.0,
              "#f0f921"
             ]
            ],
            "type": "surface"
           }
          ],
          "table": [
           {
            "cells": {
             "fill": {
              "color": "#EBF0F8"
             },
             "line": {
              "color": "white"
             }
            },
            "header": {
             "fill": {
              "color": "#C8D4E3"
             },
             "line": {
              "color": "white"
             }
            },
            "type": "table"
           }
          ]
         },
         "layout": {
          "annotationdefaults": {
           "arrowcolor": "#2a3f5f",
           "arrowhead": 0,
           "arrowwidth": 1
          },
          "autotypenumbers": "strict",
          "coloraxis": {
           "colorbar": {
            "outlinewidth": 0,
            "ticks": ""
           }
          },
          "colorscale": {
           "diverging": [
            [
             0,
             "#8e0152"
            ],
            [
             0.1,
             "#c51b7d"
            ],
            [
             0.2,
             "#de77ae"
            ],
            [
             0.3,
             "#f1b6da"
            ],
            [
             0.4,
             "#fde0ef"
            ],
            [
             0.5,
             "#f7f7f7"
            ],
            [
             0.6,
             "#e6f5d0"
            ],
            [
             0.7,
             "#b8e186"
            ],
            [
             0.8,
             "#7fbc41"
            ],
            [
             0.9,
             "#4d9221"
            ],
            [
             1,
             "#276419"
            ]
           ],
           "sequential": [
            [
             0.0,
             "#0d0887"
            ],
            [
             0.1111111111111111,
             "#46039f"
            ],
            [
             0.2222222222222222,
             "#7201a8"
            ],
            [
             0.3333333333333333,
             "#9c179e"
            ],
            [
             0.4444444444444444,
             "#bd3786"
            ],
            [
             0.5555555555555556,
             "#d8576b"
            ],
            [
             0.6666666666666666,
             "#ed7953"
            ],
            [
             0.7777777777777778,
             "#fb9f3a"
            ],
            [
             0.8888888888888888,
             "#fdca26"
            ],
            [
             1.0,
             "#f0f921"
            ]
           ],
           "sequentialminus": [
            [
             0.0,
             "#0d0887"
            ],
            [
             0.1111111111111111,
             "#46039f"
            ],
            [
             0.2222222222222222,
             "#7201a8"
            ],
            [
             0.3333333333333333,
             "#9c179e"
            ],
            [
             0.4444444444444444,
             "#bd3786"
            ],
            [
             0.5555555555555556,
             "#d8576b"
            ],
            [
             0.6666666666666666,
             "#ed7953"
            ],
            [
             0.7777777777777778,
             "#fb9f3a"
            ],
            [
             0.8888888888888888,
             "#fdca26"
            ],
            [
             1.0,
             "#f0f921"
            ]
           ]
          },
          "colorway": [
           "#636efa",
           "#EF553B",
           "#00cc96",
           "#ab63fa",
           "#FFA15A",
           "#19d3f3",
           "#FF6692",
           "#B6E880",
           "#FF97FF",
           "#FECB52"
          ],
          "font": {
           "color": "#2a3f5f"
          },
          "geo": {
           "bgcolor": "white",
           "lakecolor": "white",
           "landcolor": "white",
           "showlakes": true,
           "showland": true,
           "subunitcolor": "#C8D4E3"
          },
          "hoverlabel": {
           "align": "left"
          },
          "hovermode": "closest",
          "mapbox": {
           "style": "light"
          },
          "paper_bgcolor": "white",
          "plot_bgcolor": "white",
          "polar": {
           "angularaxis": {
            "gridcolor": "#EBF0F8",
            "linecolor": "#EBF0F8",
            "ticks": ""
           },
           "bgcolor": "white",
           "radialaxis": {
            "gridcolor": "#EBF0F8",
            "linecolor": "#EBF0F8",
            "ticks": ""
           }
          },
          "scene": {
           "xaxis": {
            "backgroundcolor": "white",
            "gridcolor": "#DFE8F3",
            "gridwidth": 2,
            "linecolor": "#EBF0F8",
            "showbackground": true,
            "ticks": "",
            "zerolinecolor": "#EBF0F8"
           },
           "yaxis": {
            "backgroundcolor": "white",
            "gridcolor": "#DFE8F3",
            "gridwidth": 2,
            "linecolor": "#EBF0F8",
            "showbackground": true,
            "ticks": "",
            "zerolinecolor": "#EBF0F8"
           },
           "zaxis": {
            "backgroundcolor": "white",
            "gridcolor": "#DFE8F3",
            "gridwidth": 2,
            "linecolor": "#EBF0F8",
            "showbackground": true,
            "ticks": "",
            "zerolinecolor": "#EBF0F8"
           }
          },
          "shapedefaults": {
           "line": {
            "color": "#2a3f5f"
           }
          },
          "ternary": {
           "aaxis": {
            "gridcolor": "#DFE8F3",
            "linecolor": "#A2B1C6",
            "ticks": ""
           },
           "baxis": {
            "gridcolor": "#DFE8F3",
            "linecolor": "#A2B1C6",
            "ticks": ""
           },
           "bgcolor": "white",
           "caxis": {
            "gridcolor": "#DFE8F3",
            "linecolor": "#A2B1C6",
            "ticks": ""
           }
          },
          "title": {
           "x": 0.05
          },
          "xaxis": {
           "automargin": true,
           "gridcolor": "#EBF0F8",
           "linecolor": "#EBF0F8",
           "ticks": "",
           "title": {
            "standoff": 15
           },
           "zerolinecolor": "#EBF0F8",
           "zerolinewidth": 2
          },
          "yaxis": {
           "automargin": true,
           "gridcolor": "#EBF0F8",
           "linecolor": "#EBF0F8",
           "ticks": "",
           "title": {
            "standoff": 15
           },
           "zerolinecolor": "#EBF0F8",
           "zerolinewidth": 2
          }
         }
        },
        "xaxis": {
         "anchor": "y",
         "domain": [
          0.0,
          1.0
         ],
         "title": {
          "text": "Model"
         },
         "categoryorder": "array",
         "categoryarray": [
          "Camembert",
          "Flaubert"
         ]
        },
        "yaxis": {
         "anchor": "x",
         "domain": [
          0.0,
          1.0
         ],
         "title": {
          "text": "F1"
         }
        },
        "legend": {
         "title": {
          "text": "Model"
         },
         "tracegroupgap": 0
        },
        "title": {
         "text": "F1 scores for each model"
        },
        "boxmode": "overlay",
        "showlegend": false
       },
       "config": {
        "plotlyServerURL": "https://plot.ly"
       }
      },
      "text/html": "<div>                            <div id=\"8af1b578-7bb2-41fc-9912-b434b3421d8a\" class=\"plotly-graph-div\" style=\"height:525px; width:100%;\"></div>            <script type=\"text/javascript\">                require([\"plotly\"], function(Plotly) {                    window.PLOTLYENV=window.PLOTLYENV || {};                                    if (document.getElementById(\"8af1b578-7bb2-41fc-9912-b434b3421d8a\")) {                    Plotly.newPlot(                        \"8af1b578-7bb2-41fc-9912-b434b3421d8a\",                        [{\"alignmentgroup\":\"True\",\"hovertemplate\":\"Model=%{x}\\u003cbr\\u003eF1=%{y}\\u003cextra\\u003e\\u003c\\u002fextra\\u003e\",\"legendgroup\":\"Camembert\",\"marker\":{\"color\":\"#636efa\"},\"name\":\"Camembert\",\"notched\":false,\"offsetgroup\":\"Camembert\",\"orientation\":\"v\",\"showlegend\":true,\"x\":[\"Camembert\",\"Camembert\",\"Camembert\",\"Camembert\",\"Camembert\",\"Camembert\",\"Camembert\",\"Camembert\",\"Camembert\",\"Camembert\",\"Camembert\",\"Camembert\",\"Camembert\",\"Camembert\"],\"x0\":\" \",\"xaxis\":\"x\",\"y\":[0.855072463768116,0.8650429381926801,0.5432278524356131,0.4832185227707616,0.7788733970914822,0.7625527084336481,0.6185909146267202,0.5995959595959596,0.8643480453972258,0.7280716791120709,0.775048480930834,0.7038531950338056,0.7476058006948891,0.7157857238504648],\"y0\":\" \",\"yaxis\":\"y\",\"type\":\"box\"},{\"alignmentgroup\":\"True\",\"hovertemplate\":\"Model=%{x}\\u003cbr\\u003eF1=%{y}\\u003cextra\\u003e\\u003c\\u002fextra\\u003e\",\"legendgroup\":\"Flaubert\",\"marker\":{\"color\":\"#EF553B\"},\"name\":\"Flaubert\",\"notched\":false,\"offsetgroup\":\"Flaubert\",\"orientation\":\"v\",\"showlegend\":true,\"x\":[\"Flaubert\",\"Flaubert\",\"Flaubert\",\"Flaubert\",\"Flaubert\",\"Flaubert\",\"Flaubert\",\"Flaubert\",\"Flaubert\",\"Flaubert\",\"Flaubert\",\"Flaubert\",\"Flaubert\",\"Flaubert\"],\"x0\":\" \",\"xaxis\":\"x\",\"y\":[0.9430778371954842,0.9897579446451628,0.4895107557586141,0.738556338028169,0.9283536585365854,0.6291852828438194,0.6182677495101778,0.4621260297730886,0.5991711991711991,0.7480694980694981,0.9427662957074724,0.7623989627197997,0.6632169624936243,0.7353493262944791],\"y0\":\" \",\"yaxis\":\"y\",\"type\":\"box\"}],                        {\"template\":{\"data\":{\"barpolar\":[{\"marker\":{\"line\":{\"color\":\"white\",\"width\":0.5},\"pattern\":{\"fillmode\":\"overlay\",\"size\":10,\"solidity\":0.2}},\"type\":\"barpolar\"}],\"bar\":[{\"error_x\":{\"color\":\"#2a3f5f\"},\"error_y\":{\"color\":\"#2a3f5f\"},\"marker\":{\"line\":{\"color\":\"white\",\"width\":0.5},\"pattern\":{\"fillmode\":\"overlay\",\"size\":10,\"solidity\":0.2}},\"type\":\"bar\"}],\"carpet\":[{\"aaxis\":{\"endlinecolor\":\"#2a3f5f\",\"gridcolor\":\"#C8D4E3\",\"linecolor\":\"#C8D4E3\",\"minorgridcolor\":\"#C8D4E3\",\"startlinecolor\":\"#2a3f5f\"},\"baxis\":{\"endlinecolor\":\"#2a3f5f\",\"gridcolor\":\"#C8D4E3\",\"linecolor\":\"#C8D4E3\",\"minorgridcolor\":\"#C8D4E3\",\"startlinecolor\":\"#2a3f5f\"},\"type\":\"carpet\"}],\"choropleth\":[{\"colorbar\":{\"outlinewidth\":0,\"ticks\":\"\"},\"type\":\"choropleth\"}],\"contourcarpet\":[{\"colorbar\":{\"outlinewidth\":0,\"ticks\":\"\"},\"type\":\"contourcarpet\"}],\"contour\":[{\"colorbar\":{\"outlinewidth\":0,\"ticks\":\"\"},\"colorscale\":[[0.0,\"#0d0887\"],[0.1111111111111111,\"#46039f\"],[0.2222222222222222,\"#7201a8\"],[0.3333333333333333,\"#9c179e\"],[0.4444444444444444,\"#bd3786\"],[0.5555555555555556,\"#d8576b\"],[0.6666666666666666,\"#ed7953\"],[0.7777777777777778,\"#fb9f3a\"],[0.8888888888888888,\"#fdca26\"],[1.0,\"#f0f921\"]],\"type\":\"contour\"}],\"heatmapgl\":[{\"colorbar\":{\"outlinewidth\":0,\"ticks\":\"\"},\"colorscale\":[[0.0,\"#0d0887\"],[0.1111111111111111,\"#46039f\"],[0.2222222222222222,\"#7201a8\"],[0.3333333333333333,\"#9c179e\"],[0.4444444444444444,\"#bd3786\"],[0.5555555555555556,\"#d8576b\"],[0.6666666666666666,\"#ed7953\"],[0.7777777777777778,\"#fb9f3a\"],[0.8888888888888888,\"#fdca26\"],[1.0,\"#f0f921\"]],\"type\":\"heatmapgl\"}],\"heatmap\":[{\"colorbar\":{\"outlinewidth\":0,\"ticks\":\"\"},\"colorscale\":[[0.0,\"#0d0887\"],[0.1111111111111111,\"#46039f\"],[0.2222222222222222,\"#7201a8\"],[0.3333333333333333,\"#9c179e\"],[0.4444444444444444,\"#bd3786\"],[0.5555555555555556,\"#d8576b\"],[0.6666666666666666,\"#ed7953\"],[0.7777777777777778,\"#fb9f3a\"],[0.8888888888888888,\"#fdca26\"],[1.0,\"#f0f921\"]],\"type\":\"heatmap\"}],\"histogram2dcontour\":[{\"colorbar\":{\"outlinewidth\":0,\"ticks\":\"\"},\"colorscale\":[[0.0,\"#0d0887\"],[0.1111111111111111,\"#46039f\"],[0.2222222222222222,\"#7201a8\"],[0.3333333333333333,\"#9c179e\"],[0.4444444444444444,\"#bd3786\"],[0.5555555555555556,\"#d8576b\"],[0.6666666666666666,\"#ed7953\"],[0.7777777777777778,\"#fb9f3a\"],[0.8888888888888888,\"#fdca26\"],[1.0,\"#f0f921\"]],\"type\":\"histogram2dcontour\"}],\"histogram2d\":[{\"colorbar\":{\"outlinewidth\":0,\"ticks\":\"\"},\"colorscale\":[[0.0,\"#0d0887\"],[0.1111111111111111,\"#46039f\"],[0.2222222222222222,\"#7201a8\"],[0.3333333333333333,\"#9c179e\"],[0.4444444444444444,\"#bd3786\"],[0.5555555555555556,\"#d8576b\"],[0.6666666666666666,\"#ed7953\"],[0.7777777777777778,\"#fb9f3a\"],[0.8888888888888888,\"#fdca26\"],[1.0,\"#f0f921\"]],\"type\":\"histogram2d\"}],\"histogram\":[{\"marker\":{\"pattern\":{\"fillmode\":\"overlay\",\"size\":10,\"solidity\":0.2}},\"type\":\"histogram\"}],\"mesh3d\":[{\"colorbar\":{\"outlinewidth\":0,\"ticks\":\"\"},\"type\":\"mesh3d\"}],\"parcoords\":[{\"line\":{\"colorbar\":{\"outlinewidth\":0,\"ticks\":\"\"}},\"type\":\"parcoords\"}],\"pie\":[{\"automargin\":true,\"type\":\"pie\"}],\"scatter3d\":[{\"line\":{\"colorbar\":{\"outlinewidth\":0,\"ticks\":\"\"}},\"marker\":{\"colorbar\":{\"outlinewidth\":0,\"ticks\":\"\"}},\"type\":\"scatter3d\"}],\"scattercarpet\":[{\"marker\":{\"colorbar\":{\"outlinewidth\":0,\"ticks\":\"\"}},\"type\":\"scattercarpet\"}],\"scattergeo\":[{\"marker\":{\"colorbar\":{\"outlinewidth\":0,\"ticks\":\"\"}},\"type\":\"scattergeo\"}],\"scattergl\":[{\"marker\":{\"colorbar\":{\"outlinewidth\":0,\"ticks\":\"\"}},\"type\":\"scattergl\"}],\"scattermapbox\":[{\"marker\":{\"colorbar\":{\"outlinewidth\":0,\"ticks\":\"\"}},\"type\":\"scattermapbox\"}],\"scatterpolargl\":[{\"marker\":{\"colorbar\":{\"outlinewidth\":0,\"ticks\":\"\"}},\"type\":\"scatterpolargl\"}],\"scatterpolar\":[{\"marker\":{\"colorbar\":{\"outlinewidth\":0,\"ticks\":\"\"}},\"type\":\"scatterpolar\"}],\"scatter\":[{\"fillpattern\":{\"fillmode\":\"overlay\",\"size\":10,\"solidity\":0.2},\"type\":\"scatter\"}],\"scatterternary\":[{\"marker\":{\"colorbar\":{\"outlinewidth\":0,\"ticks\":\"\"}},\"type\":\"scatterternary\"}],\"surface\":[{\"colorbar\":{\"outlinewidth\":0,\"ticks\":\"\"},\"colorscale\":[[0.0,\"#0d0887\"],[0.1111111111111111,\"#46039f\"],[0.2222222222222222,\"#7201a8\"],[0.3333333333333333,\"#9c179e\"],[0.4444444444444444,\"#bd3786\"],[0.5555555555555556,\"#d8576b\"],[0.6666666666666666,\"#ed7953\"],[0.7777777777777778,\"#fb9f3a\"],[0.8888888888888888,\"#fdca26\"],[1.0,\"#f0f921\"]],\"type\":\"surface\"}],\"table\":[{\"cells\":{\"fill\":{\"color\":\"#EBF0F8\"},\"line\":{\"color\":\"white\"}},\"header\":{\"fill\":{\"color\":\"#C8D4E3\"},\"line\":{\"color\":\"white\"}},\"type\":\"table\"}]},\"layout\":{\"annotationdefaults\":{\"arrowcolor\":\"#2a3f5f\",\"arrowhead\":0,\"arrowwidth\":1},\"autotypenumbers\":\"strict\",\"coloraxis\":{\"colorbar\":{\"outlinewidth\":0,\"ticks\":\"\"}},\"colorscale\":{\"diverging\":[[0,\"#8e0152\"],[0.1,\"#c51b7d\"],[0.2,\"#de77ae\"],[0.3,\"#f1b6da\"],[0.4,\"#fde0ef\"],[0.5,\"#f7f7f7\"],[0.6,\"#e6f5d0\"],[0.7,\"#b8e186\"],[0.8,\"#7fbc41\"],[0.9,\"#4d9221\"],[1,\"#276419\"]],\"sequential\":[[0.0,\"#0d0887\"],[0.1111111111111111,\"#46039f\"],[0.2222222222222222,\"#7201a8\"],[0.3333333333333333,\"#9c179e\"],[0.4444444444444444,\"#bd3786\"],[0.5555555555555556,\"#d8576b\"],[0.6666666666666666,\"#ed7953\"],[0.7777777777777778,\"#fb9f3a\"],[0.8888888888888888,\"#fdca26\"],[1.0,\"#f0f921\"]],\"sequentialminus\":[[0.0,\"#0d0887\"],[0.1111111111111111,\"#46039f\"],[0.2222222222222222,\"#7201a8\"],[0.3333333333333333,\"#9c179e\"],[0.4444444444444444,\"#bd3786\"],[0.5555555555555556,\"#d8576b\"],[0.6666666666666666,\"#ed7953\"],[0.7777777777777778,\"#fb9f3a\"],[0.8888888888888888,\"#fdca26\"],[1.0,\"#f0f921\"]]},\"colorway\":[\"#636efa\",\"#EF553B\",\"#00cc96\",\"#ab63fa\",\"#FFA15A\",\"#19d3f3\",\"#FF6692\",\"#B6E880\",\"#FF97FF\",\"#FECB52\"],\"font\":{\"color\":\"#2a3f5f\"},\"geo\":{\"bgcolor\":\"white\",\"lakecolor\":\"white\",\"landcolor\":\"white\",\"showlakes\":true,\"showland\":true,\"subunitcolor\":\"#C8D4E3\"},\"hoverlabel\":{\"align\":\"left\"},\"hovermode\":\"closest\",\"mapbox\":{\"style\":\"light\"},\"paper_bgcolor\":\"white\",\"plot_bgcolor\":\"white\",\"polar\":{\"angularaxis\":{\"gridcolor\":\"#EBF0F8\",\"linecolor\":\"#EBF0F8\",\"ticks\":\"\"},\"bgcolor\":\"white\",\"radialaxis\":{\"gridcolor\":\"#EBF0F8\",\"linecolor\":\"#EBF0F8\",\"ticks\":\"\"}},\"scene\":{\"xaxis\":{\"backgroundcolor\":\"white\",\"gridcolor\":\"#DFE8F3\",\"gridwidth\":2,\"linecolor\":\"#EBF0F8\",\"showbackground\":true,\"ticks\":\"\",\"zerolinecolor\":\"#EBF0F8\"},\"yaxis\":{\"backgroundcolor\":\"white\",\"gridcolor\":\"#DFE8F3\",\"gridwidth\":2,\"linecolor\":\"#EBF0F8\",\"showbackground\":true,\"ticks\":\"\",\"zerolinecolor\":\"#EBF0F8\"},\"zaxis\":{\"backgroundcolor\":\"white\",\"gridcolor\":\"#DFE8F3\",\"gridwidth\":2,\"linecolor\":\"#EBF0F8\",\"showbackground\":true,\"ticks\":\"\",\"zerolinecolor\":\"#EBF0F8\"}},\"shapedefaults\":{\"line\":{\"color\":\"#2a3f5f\"}},\"ternary\":{\"aaxis\":{\"gridcolor\":\"#DFE8F3\",\"linecolor\":\"#A2B1C6\",\"ticks\":\"\"},\"baxis\":{\"gridcolor\":\"#DFE8F3\",\"linecolor\":\"#A2B1C6\",\"ticks\":\"\"},\"bgcolor\":\"white\",\"caxis\":{\"gridcolor\":\"#DFE8F3\",\"linecolor\":\"#A2B1C6\",\"ticks\":\"\"}},\"title\":{\"x\":0.05},\"xaxis\":{\"automargin\":true,\"gridcolor\":\"#EBF0F8\",\"linecolor\":\"#EBF0F8\",\"ticks\":\"\",\"title\":{\"standoff\":15},\"zerolinecolor\":\"#EBF0F8\",\"zerolinewidth\":2},\"yaxis\":{\"automargin\":true,\"gridcolor\":\"#EBF0F8\",\"linecolor\":\"#EBF0F8\",\"ticks\":\"\",\"title\":{\"standoff\":15},\"zerolinecolor\":\"#EBF0F8\",\"zerolinewidth\":2}}},\"xaxis\":{\"anchor\":\"y\",\"domain\":[0.0,1.0],\"title\":{\"text\":\"Model\"},\"categoryorder\":\"array\",\"categoryarray\":[\"Camembert\",\"Flaubert\"]},\"yaxis\":{\"anchor\":\"x\",\"domain\":[0.0,1.0],\"title\":{\"text\":\"F1\"}},\"legend\":{\"title\":{\"text\":\"Model\"},\"tracegroupgap\":0},\"title\":{\"text\":\"F1 scores for each model\"},\"boxmode\":\"overlay\",\"showlegend\":false},                        {\"responsive\": true}                    ).then(function(){\n                            \nvar gd = document.getElementById('8af1b578-7bb2-41fc-9912-b434b3421d8a');\nvar x = new MutationObserver(function (mutations, observer) {{\n        var display = window.getComputedStyle(gd).display;\n        if (!display || display === 'none') {{\n            console.log([gd, 'removed!']);\n            Plotly.purge(gd);\n            observer.disconnect();\n        }}\n}});\n\n// Listen for the removal of the full notebook cells\nvar notebookContainer = gd.closest('#notebook-container');\nif (notebookContainer) {{\n    x.observe(notebookContainer, {childList: true});\n}}\n\n// Listen for the clearing of the current output cell\nvar outputEl = gd.closest('.output');\nif (outputEl) {{\n    x.observe(outputEl, {childList: true});\n}}\n\n                        })                };                });            </script>        </div>"
     },
     "metadata": {},
     "output_type": "display_data"
    }
   ],
   "source": [
    "# We will make boxplots for the weighted scores of each word\n",
    "fig_weighted = px.box(df, x=\"Model\" ,y=\"Weighted\", color=\"Model\", title=\"Weighted scores for each model\", template=\"plotly_white\")\n",
    "fig_weighted.update(layout_showlegend=False)\n",
    "fig_weighted.show()\n",
    "\n",
    "fig_overall = px.box(df, x=\"Model\" ,y=\"Overall\", color=\"Model\", title=\"Overall scores for each model\", template=\"plotly_white\")\n",
    "fig_overall.update(layout_showlegend=False)\n",
    "fig_overall.show()\n",
    "\n",
    "fig_v_measure = px.box(df, x=\"Model\" ,y=\"V_measure\", color=\"Model\", title=\"V measure clustering scores for each model\", template=\"plotly_white\")\n",
    "fig_v_measure.update(layout_showlegend=False)\n",
    "fig_v_measure.show()\n",
    "\n",
    "fig_rand = px.box(df, x=\"Model\" ,y=\"Rand\", color=\"Model\", title=\"Adjusted Rand scores for each model\", template=\"plotly_white\")\n",
    "fig_rand.update(layout_showlegend=False)\n",
    "fig_rand.show()\n",
    "\n",
    "fig_F1 = px.box(df, x=\"Model\" ,y=\"F1\", color=\"Model\", title=\"F1 scores for each model\", template=\"plotly_white\")\n",
    "fig_F1.update(layout_showlegend=False)\n",
    "fig_F1.show()"
   ],
   "metadata": {
    "collapsed": false,
    "ExecuteTime": {
     "end_time": "2024-05-17T20:04:48.997358Z",
     "start_time": "2024-05-17T20:04:48.692827Z"
    }
   },
   "id": "85768d001217e269",
   "execution_count": 39
  },
  {
   "cell_type": "markdown",
   "source": [
    "As we are more familiar with data visualisation in R, we will use the saved files to create the visualisations in R.\n",
    "\n"
   ],
   "metadata": {
    "collapsed": false
   },
   "id": "401f7c3a5050635a"
  },
  {
   "cell_type": "code",
   "outputs": [],
   "source": [],
   "metadata": {
    "collapsed": false
   },
   "id": "ec29659e6309ba5f"
  }
 ],
 "metadata": {
  "kernelspec": {
   "display_name": "Python 3",
   "language": "python",
   "name": "python3"
  },
  "language_info": {
   "codemirror_mode": {
    "name": "ipython",
    "version": 2
   },
   "file_extension": ".py",
   "mimetype": "text/x-python",
   "name": "python",
   "nbconvert_exporter": "python",
   "pygments_lexer": "ipython2",
   "version": "2.7.6"
  }
 },
 "nbformat": 4,
 "nbformat_minor": 5
}
