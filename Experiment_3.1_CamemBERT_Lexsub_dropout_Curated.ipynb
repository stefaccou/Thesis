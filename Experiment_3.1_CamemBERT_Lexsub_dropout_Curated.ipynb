{
 "cells": [
  {
   "cell_type": "code",
   "execution_count": 1,
   "id": "initial_id",
   "metadata": {
    "ExecuteTime": {
     "end_time": "2024-05-04T09:48:42.824561Z",
     "start_time": "2024-05-04T09:48:38.898947Z"
    }
   },
   "outputs": [
    {
     "name": "stderr",
     "output_type": "stream",
     "text": [
      "Cloning into 'Lexical-Substitution'...\n"
     ]
    }
   ],
   "source": [
    "!git clone https://github.com/jvladika/Lexical-Substitution.git"
   ]
  },
  {
   "cell_type": "code",
   "execution_count": 1,
   "id": "12d5d2c990307dbb",
   "metadata": {
    "collapsed": false,
    "ExecuteTime": {
     "end_time": "2024-05-17T18:36:56.496444Z",
     "start_time": "2024-05-17T18:36:39.342533Z"
    }
   },
   "outputs": [
    {
     "name": "stderr",
     "output_type": "stream",
     "text": [
      "C:\\Users\\stefa\\anaconda3\\envs\\Thesis\\Lib\\site-packages\\transformers\\utils\\generic.py:260: UserWarning: torch.utils._pytree._register_pytree_node is deprecated. Please use torch.utils._pytree.register_pytree_node instead.\n",
      "  torch.utils._pytree._register_pytree_node(\n",
      "Some weights of the model checkpoint at camembert-base were not used when initializing CamembertForMaskedLM: ['roberta.pooler.dense.weight', 'roberta.pooler.dense.bias']\n",
      "- This IS expected if you are initializing CamembertForMaskedLM from the checkpoint of a model trained on another task or with another architecture (e.g. initializing a BertForSequenceClassification model from a BertForPreTraining model).\n",
      "- This IS NOT expected if you are initializing CamembertForMaskedLM from the checkpoint of a model that you expect to be exactly identical (initializing a BertForSequenceClassification model from a BertForSequenceClassification model).\n"
     ]
    }
   ],
   "source": [
    "from transformers import AutoTokenizer, CamembertModel, CamembertForMaskedLM\n",
    "import pandas as pd\n",
    "import os\n",
    "import re\n",
    "from sklearn.mixture import GaussianMixture\n",
    "import warnings\n",
    "from sklearn.cluster import AgglomerativeClustering\n",
    "from sklearn.decomposition import TruncatedSVD\n",
    "from french_lefff_lemmatizer.french_lefff_lemmatizer import FrenchLefffLemmatizer as fll\n",
    "import torch\n",
    "import string\n",
    "import nltk\n",
    "import time\n",
    "import numpy as np\n",
    "# Cuda\n",
    "device = torch.device(\"cuda\" if torch.cuda.is_available() else \"cpu\")\n",
    "\n",
    "tokenizer = AutoTokenizer.from_pretrained('camembert-base')\n",
    "lm_model = CamembertForMaskedLM.from_pretrained('camembert-base').to(device)\n",
    "raw_model = CamembertModel.from_pretrained('camembert-base', output_hidden_states=True, output_attentions=True).to(device)\n",
    "def load_transformers():\n",
    "    return tokenizer, lm_model, raw_model"
   ]
  },
  {
   "cell_type": "code",
   "execution_count": 2,
   "id": "70a6a28cb34345b2",
   "metadata": {
    "collapsed": false,
    "ExecuteTime": {
     "end_time": "2024-05-17T18:36:56.518075Z",
     "start_time": "2024-05-17T18:36:56.500433Z"
    }
   },
   "outputs": [],
   "source": [
    "# imports from filter\n",
    "def filter_substitutions(substitutions):\n",
    "    dels = list()\n",
    "    for sub in substitutions:\n",
    "        if sub.lower() in substitutions and sub.capitalize() in substitutions:\n",
    "            dels.append(sub.capitalize())\n",
    "        if sub.lower() in substitutions and sub.upper() in substitutions:\n",
    "            dels.append(sub.upper())\n",
    "        if sub in nltk.corpus.stopwords.words('french') or sub in string.punctuation:\n",
    "            dels.append(sub)\n",
    "    dels = list(set(dels))\n",
    "    for d in dels:\n",
    "        substitutions.remove(d)\n",
    "    return substitutions\n",
    "\n",
    "def filter_words(target, words, scores, tokens):\n",
    "    # lets time\n",
    "    time_filter = time.time()\n",
    "    dels = list()\n",
    "    toks = tokens.tolist()\n",
    "    blacklist = [target, target.capitalize()]\n",
    "    \n",
    "    for w in words:\n",
    "        if w.lower() in words and w.capitalize() in words:\n",
    "            dels.append(w.capitalize())\n",
    "        if w.lower() in words and w.upper() in words:\n",
    "            dels.append(w.upper())\n",
    "        if w in nltk.corpus.stopwords.words('french') or w in string.punctuation:\n",
    "            dels.append(w)\n",
    "        if w in blacklist:\n",
    "            dels.append(w)\n",
    "    \n",
    "\n",
    "    dels = list(set(dels))\n",
    "    for d in dels:\n",
    "        del scores[words.index(d)]\n",
    "        del toks[words.index(d)]\n",
    "        words.remove(d)\n",
    "    \n",
    "\n",
    "    return words, scores, torch.tensor(toks)\n",
    "# imports from scores\n",
    "\n",
    "#Calculates the similarity score\n",
    "def similarity_score(original_output, subst_output, k):\n",
    "    mask_idx = k\n",
    "    cos_sim = torch.nn.CosineSimilarity(dim=1, eps=1e-6)\n",
    "    weights = torch.div(torch.stack(list(original_output[3])).squeeze().sum(0).sum(0), (12 * 12.0))\n",
    "\n",
    "    #Calculate the similarittimey score \n",
    "    #SIM(x, x'; k) = sum_i^L [ w_{i,k} * cos(h(x_i|x), h(x_i'|x')) ]\n",
    "\n",
    "    #subst_output = raw_model(sent.reshape(1, sent.shape[0]))\n",
    "    suma = 0.0\n",
    "    sent_len = original_output[2][2].shape[1]\n",
    "\n",
    "    for token_idx in range(sent_len):     \n",
    "        original_hidden = original_output[2]\n",
    "        subst_hidden = subst_output[2]\n",
    "\n",
    "        #Calculate the contextualized representation of the i-th word as a concatenation of RoBERTa's values in its last four layers\n",
    "        context_original = torch.cat( tuple( [original_hidden[hs_idx][:, token_idx, :] for hs_idx in [1, 2, 3, 4]] ), dim=1)\n",
    "        context_subst = torch.cat( tuple( [subst_hidden[hs_idx][:, token_idx, :] for hs_idx in [1, 2, 3, 4]] ), dim=1)\n",
    "        suma += weights[mask_idx][token_idx] * cos_sim(context_original, context_subst)\n",
    "\n",
    "    substitute_validation = suma\n",
    "    return substitute_validation\n",
    "\n",
    "\n",
    "#Calculates the proposal score\n",
    "def proposal_score(original_score, subst_scores):\n",
    "    subst_scores = torch.tensor(subst_scores)\n",
    "    # we have to revert original_score to cpu\n",
    "    original_score = original_score.cpu()\n",
    "    return np.log(torch.div(subst_scores , (1.0 - original_score)) )\n",
    "\n",
    "\n",
    "#finals, props, subval = calc_scores(scores, input_ids[i], input_embeds[i], original_score, mask_position)\n",
    "def calc_scores(scr, sentences, original_output, original_score, mask_index):\n",
    "    #Get representations of all substitute sentences\n",
    "    sentences= torch.tensor(sentences).to(device)\n",
    "    subst_output = raw_model(sentences)\n",
    "\n",
    "    prop_score = proposal_score(original_score, scr) # this is cpu\n",
    "    substitute_validation = similarity_score(original_output, subst_output, mask_index)\n",
    "\n",
    "    alpha = 0.003\n",
    "    # Move prop_score to the same device as substitute_validation before the operation\n",
    "    prop_score = prop_score.to(substitute_validation.device)\n",
    "\n",
    "    final_score = substitute_validation + alpha*prop_score\n",
    "    \n",
    "    '''\n",
    "    print(\"Proposal score: \" + str(prop_score))\n",
    "    print(\"Subst. validation: \" + str(substitute_validation))\n",
    "    print(\"Final score for \" + str(final_score) + \"\\n\")\n",
    "    '''\n",
    "    return final_score, prop_score, substitute_validation\n",
    "\n",
    "WSD_PATTERN = r' (\\w+)/\\w+\\.\\w\\.\\d+' # (Woord captured), letterlijke slash, woord, letterlijke punt, letter, cijfer(s)\n",
    "# Needed for the \"Tour\" keyword: remnant of older dataset.\n",
    "def preproc_sentence(sentence):\n",
    "    sent_preproc = re.sub(WSD_PATTERN, r'\\1', sentence) # Alleen woord blijft over\n",
    "    return sent_preproc"
   ]
  },
  {
   "cell_type": "code",
   "execution_count": 3,
   "id": "cf443f5c962246d3",
   "metadata": {
    "collapsed": false,
    "ExecuteTime": {
     "end_time": "2024-05-17T18:36:56.538810Z",
     "start_time": "2024-05-17T18:36:56.519070Z"
    }
   },
   "outputs": [],
   "source": [
    "def lexsub_dropout(sentence, target, topk=15):\n",
    "    sentence = sentence.replace('-', ' ')\n",
    "    table = str.maketrans(dict.fromkeys(string.punctuation)) \n",
    "\n",
    "    #Remove unnecessary punctuation from the sentence (such as: \"GET *free food *coupons!!\")\n",
    "    split_sent = nltk.word_tokenize(sentence)\n",
    "    split_sent = list(map(lambda wrd : wrd.translate(table) if wrd not in string.punctuation else wrd, split_sent))\n",
    "    original_sent = ' '.join(split_sent)\n",
    "\n",
    "    #Get raw model word embeddings for words in the sentence\n",
    "    original_token_input = tokenizer.encode(\" \"+original_sent, return_tensors=\"pt\").to(device)\n",
    "    original_output = raw_model(original_token_input)\n",
    "    inputs_embeds = original_output[2][1]\n",
    "\n",
    "    #The target word to substitute\n",
    "    target_token_id = tokenizer.encode(\" \"+target)[1]\n",
    "    input_ids = tokenizer.encode(\" \" + original_sent)\n",
    "    \n",
    "    mask_position = input_ids.index(target_token_id)\n",
    "    #input_ids = torch.tensor(input_ids).to(device)\n",
    "    #Set a percentage of randomly selected embedding weights of the target word to 0.\n",
    "    embedding_dim = 768\n",
    "    dropout_percent = 0.3\n",
    "    dropout_amount = round(dropout_percent*embedding_dim)\n",
    "\n",
    "    #Start timing the experiment.\n",
    "    start = time.time()\n",
    "\n",
    "    #Run multiple experiments and then take average because of stochastic nature of choosing indices to dropout (sometimes the predictions are gibberish)\n",
    "    all_scores = dict()\n",
    "    all_counts = dict()\n",
    "    num_iterations = 5\n",
    "    for it in range(num_iterations):\n",
    "        #Choose the weight indices to drop out.\n",
    "        dropout_indices = np.random.choice(embedding_dim, dropout_amount, replace=False)\n",
    "        #Apply dropout to the embeddings\n",
    "        inputs_embeds[0, mask_position, dropout_indices] = 0\n",
    "        #Pass the embeddings where masked word's embedding is partially droppped out to the model \n",
    "        with torch.no_grad():\n",
    "                output = lm_model(inputs_embeds=inputs_embeds)\n",
    "        logits = output[0].squeeze()\n",
    "        #Get top guesses\n",
    "        mask_logits = logits[mask_position]\n",
    "        top_tokens = torch.topk(mask_logits, k=16, dim=0)[1]\n",
    "        scores = torch.softmax(mask_logits, dim=0)[top_tokens].tolist()\n",
    "        words = [tokenizer.decode(i.item()).strip() for i in top_tokens]\n",
    "        words, scores, top_tokens = filter_words(target, words, scores, top_tokens) # THIS IS WHAT MAKES IT SLOW\n",
    "        assert len(words) == len(scores)\n",
    "        if len(words) == 0: \n",
    "            continue\n",
    "\n",
    "        #Calculate proposal scores, substitute validation scores, and final scores\n",
    "        original_score = torch.softmax(mask_logits, dim=0)[target_token_id]\n",
    "        sentences = list()\n",
    "        for i in range(len(words)):\n",
    "            subst_word = top_tokens[i]\n",
    "            input_ids[mask_position] = int(subst_word)\n",
    "            sentences.append(list(input_ids))\n",
    "       \n",
    "        finals, props, subval = calc_scores(scores, sentences, original_output, original_score, mask_position)\n",
    "        finals = map(lambda f : float(f), finals)\n",
    "        props = map(lambda f : float(f), props)\n",
    "        subval = map(lambda f : float(f), subval)\n",
    "\n",
    "        if target in words:\n",
    "            words.remove(target)\n",
    "\n",
    "        #Update total scores and counts in the dictionary\n",
    "        res = dict(zip(words, finals))\n",
    "        for w, s in res.items():\n",
    "            all_scores[w] = all_scores[w] + s if w in all_scores.keys() else s\n",
    "            all_counts[w] = all_counts[w] + 1 if w in all_counts.keys() else 1\n",
    "    #Get the average of accumulated scores.\n",
    "    for w, s in all_scores.items():\n",
    "        all_scores[w] = s / all_counts[w]\n",
    "    words, finals = list(all_scores.keys()), list(all_scores.values())\n",
    "\n",
    "\n",
    "    #Sort the found substitutes by scores and print them out.\n",
    "    x = dict(zip(words, finals)) # list of words and final scores in dict form\n",
    "    sorted_list = list(sorted(x.items(), key=lambda item: item[1], reverse=True))[:topk] # take the \"topk\" best substitutes\n",
    "    print([\"({0}: {1:0.8f})\".format(k, v) for k,v in sorted_list])\n",
    "    print(\"Elapsed time: \", time.time() - start, \"\\n\")\n",
    "    return sorted_list\n"
   ]
  },
  {
   "cell_type": "code",
   "outputs": [
    {
     "name": "stdout",
     "output_type": "stream",
     "text": [
      "['(chaton: 0.97169087)', '(félin: 0.96996006)', '(chien: 0.96967189)', '(chiot: 0.96169713)', '(minet: 0.96091932)', '(garde: 0.96065670)', '(chatte: 0.96041462)', '(serpent: 0.95942074)', '(roi: 0.95649716)', '(renard: 0.95592791)', '(poil: 0.95367508)', '(mâle: 0.95355189)', '(matin: 0.95318750)', '(nuage: 0.95109892)', '(tchat: 0.95043768)']\n",
      "Elapsed time:  0.3506128787994385 \n"
     ]
    }
   ],
   "source": [
    "test = lexsub_dropout(\"Le chat est sur le tapis\", \"chat\")"
   ],
   "metadata": {
    "collapsed": false,
    "ExecuteTime": {
     "end_time": "2024-05-13T13:26:15.671789Z",
     "start_time": "2024-05-13T13:26:15.023936Z"
    }
   },
   "id": "eed70ea457cb5a21",
   "execution_count": 4
  },
  {
   "cell_type": "markdown",
   "id": "5ea09ae958f3609a",
   "metadata": {
    "collapsed": false
   },
   "source": [
    "# We apply this method to the dataset"
   ]
  },
  {
   "cell_type": "code",
   "outputs": [],
   "source": [
    "model_name = \"Camembert\"\n",
    "all_predictions = {}"
   ],
   "metadata": {
    "collapsed": false,
    "ExecuteTime": {
     "end_time": "2024-05-17T18:36:56.546787Z",
     "start_time": "2024-05-17T18:36:56.542797Z"
    }
   },
   "id": "d78ecb1b3acde6ff",
   "execution_count": 4
  },
  {
   "cell_type": "code",
   "outputs": [
    {
     "name": "stdout",
     "output_type": "stream",
     "text": [
      " J'ai refais plusieurs fois le tour du magasin en vain et j'étais, ma foi, trèèèès triste (T___T)! \n",
      "['(tours: 0.98619188)', '(coup: 0.96607646)', '(parcours: 0.96326862)', '(détour: 0.96256906)', '(chemin: 0.96212000)', '(mur: 0.96083177)', '(visite: 0.96078038)', '(trajet: 0.95991299)', '(centre: 0.95966133)', '(portrait: 0.95885819)', '(voyage: 0.95871965)', '(plein: 0.95853382)', '(panneau: 0.95797357)', '(temps: 0.95768526)', '(reste: 0.95750542)']\n",
      "Elapsed time:  0.7320029735565186 \n",
      "\n",
      " Bonjour, J'ai acheté ce tour ... et pour tout dire, je suis déçu. \n",
      "['(tours: 0.97625327)', '(panneau: 0.95627072)', '(mur: 0.95604030)', '(groupe: 0.95528859)', '(fond: 0.95498383)', '(collier: 0.95372981)', '(ventilateur: 0.95323434)', '(guide: 0.95305356)', '(jeu: 0.95195243)', '(film: 0.95190018)', '(instrument: 0.95180967)', '(mécanisme: 0.95175789)', '(ensemble: 0.95165843)', '(robot: 0.95161256)', '(masque: 0.95152220)']\n",
      "Elapsed time:  0.38699793815612793 \n",
      "\n",
      " Ce tour ne vaut pas 45 €... Pour ce prix, on reçoit quelques morceaux de plastique transparents, ... \n",
      "['(circuit: 0.96479723)', '(château: 0.96427822)', '(visite: 0.96352655)', '(guide: 0.96351269)', '(voyage: 0.96339067)', '(temple: 0.96335379)', '(panneau: 0.96331492)', '(passage: 0.96255162)', '(monument: 0.96124971)', '(musée: 0.96117422)', '(spectacle: 0.96092725)', '(portrait: 0.96080482)', '(prix: 0.96018306)', '(billet: 0.95950100)', '(truc: 0.95857280)']\n",
      "Elapsed time:  0.4009251594543457 \n",
      "\n",
      "tour visuel, artistique ou de mentalisme, tout est possible et le public en redemande ! bien aussi pour noel avec la version Pére Noel ... et pourquoi pas pour les mariage maintenant, Seb, à toi de jouer et nous créer çà !.. \n",
      "['(spectacle: 0.97963185)', '(Effet: 0.97474200)', '(délire: 0.97407414)', '(Jeu: 0.97237707)', '(Clip: 0.97221609)', '(Atelier: 0.97134860)', '(Art: 0.96963347)', '(Création: 0.96957076)', '(Animation: 0.96852021)']\n",
      "Elapsed time:  0.5255565643310547 \n",
      "\n",
      "tour ultra facile mais faire apparaà®tre un poisson est très visuel pour un public. \n",
      "['(exercice: 0.96490058)', '(technique: 0.96107095)', '(jeu: 0.96012937)', '(Activité: 0.95911846)', '(Mission: 0.95849993)', '(Méthode: 0.95728046)', '(Montage: 0.95685931)', '(Tutoriel: 0.95632219)', '(Formation: 0.95563449)', '(Sujet: 0.95460279)', '(Texte: 0.95388596)', '(Simple: 0.95297377)']\n",
      "Elapsed time:  0.301192045211792 \n",
      "\n",
      " Faites plusieurs routines pour le faire en close-up et varier les plaisirs ! si vous deviez disposer d'un seul tour , ce serait assurément celui-là. \n",
      "['(tours: 0.98764095)', '(tourne: 0.96810678)', '(tourner: 0.96384627)', '(coup: 0.96378195)', '(jeu: 0.96365366)', '(combo: 0.96334510)', '(rôle: 0.96288520)', '(tir: 0.96226960)', '(solo: 0.96223325)', '(numéro: 0.96219380)', '(programme: 0.96188843)', '(trio: 0.96181949)', '(plateau: 0.96168768)', '(mouvement: 0.96166614)', '(geste: 0.96164858)']\n",
      "Elapsed time:  0.4996960163116455 \n",
      "\n",
      " Attention, les chaà®nelettes sont fragiles mais franchement, ce tour est tellement une tuerie qu'il faut foncer.. \n",
      "['(tours: 0.97528690)', '(manège: 0.96521282)', '(trio: 0.96248311)', '(plat: 0.95886831)', '(dessert: 0.95849670)', '(passage: 0.95843205)', '(plateau: 0.95783699)', '(spectacle: 0.95756467)', '(billet: 0.95699970)', '(jeu: 0.95667374)', '(groupe: 0.95601475)', '(fromage: 0.95516728)', '(rôti: 0.95470583)', '(pâté: 0.95453358)', '(morceau: 0.95442960)']\n",
      "Elapsed time:  0.4448058605194092 \n",
      "\n",
      " Pour rassurer tout le monde, nous avons décidé de faire appel à d'autres laboratoires privés, qui ont démontré à leur tour que ces peurs étaient infondées. \n",
      "['(tours: 0.98333212)', '(manière: 0.97876055)', '(insu: 0.97551361)', '(façon: 0.97312928)', '(place: 0.97306177)', '(compte: 0.97169667)', '(propre: 0.97074804)', '(dépens: 0.97036153)', '(occasion: 0.97021189)', '(égard: 0.97018850)', '(profit: 0.96989775)', '(part: 0.96978545)', '(mesure: 0.96962424)', '(sujet: 0.96797750)', '(échelle: 0.96785888)']\n",
      "Elapsed time:  0.5854573249816895 \n",
      "\n",
      " Olivier à conçu bien plus qu'un tour il vous propose la un matériel de très belle qualité qui va permettre aux créateurs que vous êtes, de laisser libre cours à votre imagination. \n",
      "['(tourne: 0.96811318)', '(plateau: 0.96687522)', '(instrument: 0.96608437)', '(outil: 0.96492832)', '(costume: 0.96461856)', '(ordinateur: 0.96380764)', '(château: 0.96373504)', '(kit: 0.96339010)', '(site: 0.96273139)', '(atelier: 0.96266028)', '(clavier: 0.96235627)', '(jeu: 0.96228519)', '(studio: 0.96209833)', '(tuto: 0.96206248)', '(montage: 0.96201479)']\n",
      "Elapsed time:  0.6123759746551514 \n",
      "\n",
      " Voici un effet bien connu des magiciens : à partir d'une bande de papier pliée et deux trombones fixés dessus se retrouvent enclavés en tirant sur les extrémités du pliage J'ai réactualisé cet effet avec la bague d'une spectatrice ou d'un spectateur, de préférence utiliser une alliance, ce qui facilitera la manipulation du tour . ... \n",
      "['(tours: 0.97946692)', '(tourne: 0.97149223)', '(rouleau: 0.97129418)', '(plateau: 0.97110232)', '(cercle: 0.97015634)', '(rôle: 0.96969920)', '(pinceau: 0.96954547)', '(geste: 0.96954302)', '(billet: 0.96945775)', '(tube: 0.96842698)', '(sort: 0.96842644)', '(jeu: 0.96751580)', '(guide: 0.96652511)', '(doigt: 0.96644131)', '(mélange: 0.96616143)']\n",
      "Elapsed time:  1.1369147300720215 \n",
      "\n",
      " Par Esther Solano Gallego Le dimanche 29 novembre, s'est déroulé le deuxième tour des élections municipales au Brésil. \n",
      "['(tours: 0.98816226)', '(scrutin: 0.97855576)', '(vote: 0.97007473)', '(résultat: 0.96649956)', '(cycle: 0.96318529)', '(parti: 0.96075265)', '(tirage: 0.95962161)', '(tiers: 0.95935406)', '(jour: 0.95887798)', '(passage: 0.95820759)', '(trimestre: 0.95802692)', '(second: 0.95802614)', '(élection: 0.95791790)', '(virage: 0.95773536)', '(soir: 0.95655087)']\n",
      "Elapsed time:  0.49866461753845215 \n",
      "\n",
      " Par Marcelo Aguilar Le premier tour des élections municipales brésiliennes, le 15 novembre 2020 [voir le résumé des résultats en fin d'article], a montré le renforcement des secteurs du centre et [Lire....] \n",
      "['(tours: 0.98989899)', '(scrutin: 0.97651507)', '(vote: 0.97336630)', '(résultat: 0.96770817)', '(cycle: 0.96335399)', '(tirage: 0.96186304)', '(jour: 0.96153952)', '(match: 0.96144497)', '(parti: 0.96135044)', '(passage: 0.96128418)', '(choix: 0.95993659)', '(acte: 0.95991328)', '(soir: 0.95961452)', '(meeting: 0.95956510)', '(dimanche: 0.95872909)']\n",
      "Elapsed time:  0.6582803726196289 \n",
      "\n",
      " Masuda à réussi un vrai tour de force.... Celui de bluffer vos spectateurs avec seulement deux cartes ! \n",
      "['(tours: 0.98322854)', '(coup: 0.98174118)', '(numéro: 0.96062011)', '(parcours: 0.95879191)', '(revers: 0.95698863)', '(jeu: 0.95624039)', '(défi: 0.95530844)', '(moment: 0.95510447)', '(rôle: 0.95443796)', '(match: 0.95378248)', '(démonstration: 0.95369774)', '(carte: 0.95320091)', '(effet: 0.95316003)', '(tableau: 0.95273751)', '(sort: 0.95259845)']\n",
      "Elapsed time:  0.41086626052856445 \n",
      "\n",
      " Une pochette très pratique pour laisser la pochette du tour \" Wow 3 \" à l'examen. \n",
      "['(tours: 0.97001296)', '(tourne: 0.95956096)', '(guide: 0.95668064)', '(spot: 0.95510191)', '(panneau: 0.95420524)', '(montage: 0.95408857)', '(trio: 0.95396231)', '(tube: 0.95392988)', '(rouleau: 0.95328695)', '(sac: 0.95312319)', '(chant: 0.95287204)', '(ventilateur: 0.95278001)', '(jeu: 0.95191329)', '(casque: 0.95083910)', '(kit: 0.95052518)']\n",
      "Elapsed time:  0.4817080497741699 \n",
      "\n",
      " Quant au cycliste, il peine, le malheureux, à admettre que la chasse soit une activité de première nécessité, mais que le fait d'aller faire un tour en vélo puisse être facteur de propagation d'un virus. \n",
      "['(détour: 0.98481644)', '(tours: 0.98412842)', '(coucou: 0.97664337)', '(crochet: 0.97431827)', '(trou: 0.97168201)', '(passage: 0.97124256)', '(voyage: 0.97114416)', '(trajet: 0.97113526)', '(arrêt: 0.97044320)', '(saut: 0.97031379)', '(km: 0.96986055)', '(kilomètre: 0.96828318)', '(déplacement: 0.96816830)', '(rond: 0.96807601)', '(truc: 0.96804217)']\n",
      "Elapsed time:  0.8955988883972168 \n",
      "\n",
      " Le vrai gros plus du jeux est le mode deux joueurs oà¹ là on joue bien évidemment en tour par tour. \n",
      "['(tours: 0.98402487)', '(multi: 0.96849670)', '(jeu: 0.96461278)', '(mono: 0.96448775)', '(match: 0.96432072)', '(double: 0.96421623)', '(demi: 0.96417201)', '(partie: 0.96400450)', '(mur: 0.96373940)', '(total: 0.96352863)', '(groupe: 0.96334523)', '(mode: 0.96324897)', '(temps: 0.96312543)', '(quart: 0.96163547)', '(joueur: 0.96110144)']\n",
      "Elapsed time:  0.5495285987854004 \n",
      "\n",
      " Le vrai gros plus du jeux est le mode deux joueurs oà¹ là on joue bien évidemment en tour par tour . \n",
      "['(tours: 0.98277271)', '(jeu: 0.97193347)', '(carte: 0.96954119)', '(partie: 0.96690589)', '(mur: 0.96607131)', '(total: 0.96557561)', '(parti: 0.96369932)', '(temps: 0.96341170)', '(mode: 0.96327019)', '(groupe: 0.96294608)', '(système: 0.96289627)', '(plateau: 0.96204311)', '(quart: 0.96156271)', '(rang: 0.96144354)', '(carré: 0.96122658)']\n",
      "Elapsed time:  0.4946401119232178 \n",
      "\n",
      " Ce réglage est écrasé par - Le paramètre déclaré dans les styles de paragraphes, à son tour écrasé par - Le paramètre déclaré dans les styles de caractères ou par formatage direct. \n",
      "['(tours: 0.98498526)', '(sommet: 0.97058618)', '(insu: 0.97007024)', '(côté: 0.96923600)', '(moment: 0.96864320)', '(coté: 0.96836743)', '(bord: 0.96801821)', '(niveau: 0.96761000)', '(endroit: 0.96743649)', '(retour: 0.96710120)', '(départ: 0.96655571)', '(contraire: 0.96611224)', '(origine: 0.96582524)', '(arrivé: 0.96569824)', '(opposé: 0.96549797)']\n",
      "Elapsed time:  0.7080707550048828 \n",
      "\n",
      " Même si on envisageait (ce qui était d'une belle utopie, que j'avais simplement évoqué dans mon site) de réserver le peuplement d'un territoire comme la Cisjordanie par des couples mixtes (un israélien marié à une palestinienne ou un palestinien marié à une israélienne) ceux-ci devraient alors être à leur tour protégés des coups de extrêmistes des deux communautés ! cela paraà®t totalement évident. \n",
      "['(tours: 0.98783557)', '(manière: 0.97632267)', '(frais: 0.97467246)', '(place: 0.97450634)', '(mesure: 0.97338012)', '(façon: 0.97328188)', '(compte: 0.97286297)', '(coté: 0.97222552)', '(avantage: 0.97198147)', '(profit: 0.97179496)', '(guise: 0.97126776)', '(insu: 0.97105862)', '(retour: 0.97047641)', '(heure: 0.96984094)', '(niveau: 0.96919890)']\n",
      "Elapsed time:  2.141303539276123 \n",
      "\n",
      " On a voulu voir dans cette sorte de parallélogramme qui longe au nord les rues d'Orbandelle et du 4 septembre, et au sud des Boucheries et la rue Sous-Murs, qui borde à l'est la rivière d'Yonne et à l'ouest le palais, la tour de l'horloge et la rue des Cordeliers, on a voulu voir là une forteresse élevée par César, vainqueur des Gaulois de Vellaunodunum, pour les tenir en respect ; d'autres ont écrit que c'était le quartier oà¹ se retirèrent les premiers chrétiens au IIIe siècle. \n",
      "['(tours: 0.98804326)', '(colonne: 0.97524257)', '(place: 0.97421559)', '(fontaine: 0.97351257)', '(rue: 0.97237644)', '(porte: 0.97175988)', '(cour: 0.97175694)', '(cours: 0.97153932)', '(croix: 0.97153167)', '(flèche: 0.97136722)', '(tête: 0.97041163)', '(chute: 0.96897659)', '(roue: 0.96896109)', '(aiguille: 0.96885008)', '(horloge: 0.96865387)']\n",
      "Elapsed time:  5.728654861450195 \n",
      "\n",
      " Le reste de la tour d'Orbandelle a été démoli au début du XIXe siècle. \n",
      "['(tours: 0.98154993)', '(forteresse: 0.96533494)', '(chapelle: 0.96328093)', '(muraille: 0.96327260)', '(porte: 0.96326709)', '(basilique: 0.96182927)', '(flèche: 0.96150317)', '(cathédrale: 0.96149743)', '(citadelle: 0.96016155)', '(croix: 0.95996052)', '(maison: 0.95901310)', '(façade: 0.95884994)', '(cloche: 0.95874478)', '(horloge: 0.95849484)', '(grille: 0.95806140)']\n",
      "Elapsed time:  0.42087221145629883 \n",
      "\n",
      " On trouve encore à la tour Saint-Pancrace ce système de construction. \n",
      "['(tours: 0.97622287)', '(place: 0.95923382)', '(cathédrale: 0.95862274)', '(porte: 0.95777011)', '(fontaine: 0.95763681)', '(colonne: 0.95575264)', '(basilique: 0.95536627)', '(montagne: 0.95507659)', '(forteresse: 0.95465642)', '(chapelle: 0.95390114)', '(pyramide: 0.95386195)', '(rue: 0.95247751)', '(Porte: 0.95238531)', '(gare: 0.95230651)', '(cité: 0.95198681)']\n",
      "Elapsed time:  0.34204983711242676 \n",
      "\n",
      " Certains vont se sentir lésés dans leur \"liberté d'expression\" sans doute, mais avec la liberté qu'offre ce site, viennent les abus qui exigent à leur tour une législation. \n",
      "['(tours: 0.98134658)', '(manière: 0.97482878)', '(égard: 0.97423954)', '(place: 0.97395495)', '(insu: 0.97351969)', '(mesure: 0.97347632)', '(compte: 0.97287534)', '(façon: 0.97263977)', '(sujet: 0.97244509)', '(heure: 0.97088623)', '(profit: 0.96987583)', '(part: 0.96911824)', '(endroit: 0.96897535)', '(temps: 0.96896952)', '(niveau: 0.96856852)']\n",
      "Elapsed time:  0.693108320236206 \n",
      "\n",
      " Il me semble même que sur la version originale , Jan Utzon précise que le soit disant \"pilon\" , partant de vitesse nulle ne pouvait pas écraser l'intégrité de la tour jusqu'au fondation . \n",
      "['(tours: 0.98035976)', '(machine: 0.96279320)', '(paroi: 0.96150827)', '(chaîne: 0.96022439)', '(poutre: 0.95990521)', '(flèche: 0.95972039)', '(ligne: 0.95965886)', '(colonne: 0.95961869)', '(cascade: 0.95904464)', '(chaine: 0.95872617)', '(structure: 0.95860782)', '(poulie: 0.95826766)', '(maison: 0.95813671)', '(balle: 0.95790002)', '(couronne: 0.95781446)']\n",
      "Elapsed time:  0.7948694229125977 \n",
      "\n",
      " Ils sont prioritaires pour se faire vacciner contre le Covid-19, mais préfèrent passer leur tour pour l'instant: malgré une épidémie galopante... \n",
      "['(chemin: 0.98042989)', '(temps: 0.97304027)', '(chance: 0.96962122)', '(choix: 0.96827680)', '(rond: 0.96621025)', '(route: 0.96603932)', '(cap: 0.96550807)', '(coup: 0.96487141)', '(test: 0.96470597)', '(vie: 0.96390092)', '(main: 0.96338435)', '(pis: 0.96306193)', '(barrière: 0.96280491)', '(filtre: 0.96266607)', '(tabac: 0.96250939)']\n",
      "Elapsed time:  0.5355637073516846 \n",
      "\n",
      " Entretien avec Jorge Luís Martins Contrairement à ce qu'il faisait au début de la crise économique internationale, le Brésil ne considère plus celle-ci comme une simple \"lubie\" passagère et s'efforce, à son tour maintenant, de [Lire....] \n",
      "['(tours: 0.98133343)', '(frais: 0.96911675)', '(profit: 0.96836978)', '(compte: 0.96777040)', '(manière: 0.96529415)', '(niveau: 0.96361297)', '(gré: 0.96357629)', '(rythme: 0.96346584)', '(insu: 0.96317784)', '(échelle: 0.96292830)', '(heure: 0.96258956)', '(coté: 0.96218858)', '(façon: 0.96202961)', '(côté: 0.96190792)', '(temps: 0.96022097)']\n",
      "Elapsed time:  0.9224932193756104 \n",
      "\n",
      " Plus qu'un livre, c'est un véritable tour de force. \" The Guardian Frédéric Fontès \n",
      "['(tours: 0.97823647)', '(coup: 0.97802749)', '(rapport: 0.96580978)', '(centre: 0.96324770)', '(acte: 0.96219695)', '(effet: 0.96200225)', '(état: 0.96185890)', '(moment: 0.96082047)', '(numéro: 0.96042901)', '(jeu: 0.96024093)', '(argument: 0.95940286)', '(prise: 0.95875823)', '(don: 0.95859635)', '(exercice: 0.95840633)', '(levier: 0.95816275)']\n",
      "Elapsed time:  0.4557783603668213 \n",
      "\n",
      " Dans les coulisses, les heureux élus attendent patiemment leur tour . \n",
      "['(tours: 0.98292521)', '(chance: 0.96861718)', '(temps: 0.96552885)', '(rôle: 0.96501818)', '(heure: 0.96477591)', '(tournée: 0.96256983)', '(part: 0.96200955)', '(verdict: 0.96105260)', '(fin: 0.95961404)', '(visite: 0.95960901)', '(résultat: 0.95884087)', '(passage: 0.95881647)', '(couronne: 0.95816928)', '(ticket: 0.95810131)', '(retour: 0.95781046)']\n",
      "Elapsed time:  0.40491437911987305 \n",
      "\n",
      " Friperies, e-shop, brocantes... si vous avez, à votre tour , succombé au charme du vintage et souhaitez refaire votre garde-robe, découvrez toutes les astuces pour dénicher la pièce unique !... \n",
      "['(tours: 0.97604716)', '(insu: 0.97134033)', '(heure: 0.97039680)', '(manière: 0.96881932)', '(compte: 0.96806508)', '(façon: 0.96712070)', '(place: 0.96568453)', '(niveau: 0.96441174)', '(échelle: 0.96407351)', '(fois: 0.96332186)', '(habitude: 0.96297584)', '(temps: 0.96285564)', '(retour: 0.96234298)', '(côté: 0.96215853)', '(époque: 0.96212463)']\n",
      "Elapsed time:  1.0322339534759521 \n",
      "\n",
      " La visite libre vous permet de faire le tour de la scénographie d'énerlya en toute liberté. \n",
      "['(tours: 0.98389305)', '(parcours: 0.96519585)', '(circuit: 0.96466968)', '(visite: 0.96316741)', '(trajet: 0.96282935)', '(plein: 0.96086591)', '(voyage: 0.96006337)', '(centre: 0.95946077)', '(fil: 0.95751057)', '(total: 0.95699564)', '(choix: 0.95689123)', '(récit: 0.95686728)', '(découverte: 0.95643687)', '(guide: 0.95639229)', '(temps: 0.95639113)']\n",
      "Elapsed time:  0.4617605209350586 \n",
      "\n",
      " Le polype devient adulte, pond des oeufs qui à leur tour deviennent larves et vont fonder de nouvelles colonies tandis que leur mère, solidement ANCRà‰E, se développe au point de rejoindre ses voisins : un Rà‰CIF est en train de naà®tre. \n",
      "['(tours: 0.98662853)', '(insu: 0.97816924)', '(heure: 0.97756775)', '(gré: 0.97630334)', '(manière: 0.97624229)', '(temps: 0.97555003)', '(guise: 0.97548721)', '(place: 0.97542468)', '(mesure: 0.97468466)', '(part: 0.97413762)', '(compte: 0.97399104)', '(suite: 0.97371230)', '(moment: 0.97325677)', '(retour: 0.97247046)', '(sort: 0.97246915)']\n",
      "Elapsed time:  0.9614226818084717 \n",
      "\n",
      " A l'issue du premier tour la liste Agir Pour Vaulx-en-Velin a obtenu 1354 voix soit 16.83% du total des suffrages exprimés. \n",
      "['(tours: 0.98865621)', '(scrutin: 0.97991213)', '(vote: 0.97092630)', '(final: 0.96840966)', '(résultat: 0.96589837)', '(triangulaire: 0.96514169)', '(jour: 0.96498588)', '(blanc: 0.96494330)', '(sondage: 0.96380460)', '(soir: 0.96320281)', '(candidat: 0.96317482)', '(duel: 0.96287555)', '(circonscription: 0.96258008)', '(référendum: 0.96254212)', '(virage: 0.96085185)']\n",
      "Elapsed time:  0.5804784297943115 \n",
      "\n",
      " Ce score suffisant pour se maintenir au second tour , laissait peu d'espoir d'emporter l'élection. \n",
      "['(tours: 0.98878479)', '(place: 0.97686145)', '(rang: 0.97012454)', '(scrutin: 0.96937227)', '(position: 0.96858901)', '(tiers: 0.96777417)', '(final: 0.96757863)', '(ballot: 0.96722909)', '(carré: 0.96653499)', '(candidat: 0.96628574)', '(second: 0.96606030)', '(résultat: 0.96556425)', '(poteau: 0.96519753)', '(blanc: 0.96461159)', '(parti: 0.96449265)']\n",
      "Elapsed time:  0.4647531509399414 \n",
      "\n",
      " Sur la base de ce projet partagé, nous avons alors fait liste commune pour le second tour en intégrant, à la liste finale, neuf personnes de notre équipe. \n",
      "['(tours: 0.98762386)', '(scrutin: 0.97088960)', '(tiers: 0.96506132)', '(trimestre: 0.96322167)', '(semestre: 0.96288162)', '(ticket: 0.96229325)', '(mandat: 0.96226612)', '(challenge: 0.96124339)', '(coup: 0.96107838)', '(siège: 0.96107668)', '(résultat: 0.96065023)', '(parti: 0.96059471)', '(tirage: 0.96001101)', '(match: 0.95949537)', '(vote: 0.95883451)']\n",
      "Elapsed time:  0.7010865211486816 \n",
      "\n",
      " À mon avis le meilleur tour de Jean Pierre Vallarino. \n",
      "['(tours: 0.98060840)', '(parcours: 0.95749100)', '(virage: 0.95656291)', '(trio: 0.95610958)', '(départ: 0.95559579)', '(circuit: 0.95460171)', '(itinéraire: 0.95448250)', '(pari: 0.95430672)', '(passage: 0.95290697)', '(billet: 0.95282638)', '(manche: 0.95227575)', '(classement: 0.95125175)', '(chrono: 0.95106965)', '(montage: 0.95000704)', '(numéro: 0.94972003)']\n",
      "Elapsed time:  0.4458043575286865 \n",
      "\n",
      " Les explications sont très claires mais il vous faudra beaucoup de travail pour maà®triser le tour et pouvoir le présenter. \n",
      "['(tourne: 0.96377432)', '(cercle: 0.96020016)', '(centre: 0.96016669)', '(rond: 0.95959914)', '(montage: 0.95644333)', '(moule: 0.95621979)', '(panneau: 0.95574077)', '(manche: 0.95567006)', '(patron: 0.95530124)', '(jeu: 0.95501693)', '(collier: 0.95490837)', '(modèle: 0.95489191)', '(doigt: 0.95476359)', '(mécanisme: 0.95361790)', '(gabarit: 0.95359015)']\n",
      "Elapsed time:  0.6223313808441162 \n",
      "\n",
      " Très bon tour de Dominique Duvivier, demandant tout de même un certain entraà®nement pour la technique et la maà®trise des enchaà®nements. \n",
      "['(coup: 0.96627194)', '(parcours: 0.96534242)', '(jeu: 0.96490233)', '(travail: 0.96325455)', '(pari: 0.96085471)', '(montage: 0.96079107)', '(numéro: 0.96032472)', '(temps: 0.96025288)', '(billet: 0.96025261)', '(passage: 0.95985514)', '(tir: 0.95983994)', '(quart: 0.95962977)', '(départ: 0.95928538)', '(mouvement: 0.95922247)', '(trot: 0.95778003)']\n",
      "Elapsed time:  0.7988603115081787 \n",
      "\n",
      " Ce tour est extraordinaire, la prise en main est très rapide. \n",
      "['(tours: 0.97658756)', '(plateau: 0.95703769)', '(manège: 0.95656073)', '(pendentif: 0.95605326)', '(montage: 0.95558923)', '(collier: 0.95531039)', '(guide: 0.95523857)', '(jeu: 0.95520160)', '(bijou: 0.95516101)', '(bracelet: 0.95426732)', '(outil: 0.95283981)', '(kit: 0.95255613)', '(mécanisme: 0.95226979)', '(magicien: 0.95172918)', '(système: 0.95134738)']\n",
      "Elapsed time:  0.45581841468811035 \n",
      "\n",
      "tour sympa mais qui nécessite du temps pour remettre entre chaque spectacle, les feuilles de journaux et en noir et blanc, ce qui devient difficile à trouver. \n",
      "['(spectacle: 0.97366288)', '(Site: 0.96796260)', '(concept: 0.96789465)', '(Activité: 0.96736990)', '(Programme: 0.96706349)', '(Service: 0.96618147)', '(idée: 0.96578422)', '(Article: 0.96479249)', '(Jeu: 0.96449941)', '(Très: 0.96437362)', '(Animation: 0.96298248)', '(Format: 0.96219409)', '(Texte: 0.96215202)', '(Programmation: 0.96131694)', '(Musique: 0.96114081)']\n",
      "Elapsed time:  0.745004415512085 \n",
      "\n",
      " Mais celle-ci a démenti et accusé à son tour les rebelles d'avoir mené ces attaques. \n",
      "['(tours: 0.98763179)', '(compte: 0.97861630)', '(heure: 0.96999171)', '(temps: 0.96967366)', '(habitude: 0.96872739)', '(insu: 0.96719424)', '(sujet: 0.96709598)', '(retour: 0.96664224)', '(gout: 0.96629546)', '(égard: 0.96598941)', '(avantage: 0.96597272)', '(gré: 0.96555889)', '(goût: 0.96547049)', '(cours: 0.96516675)', '(nom: 0.96353120)']\n",
      "Elapsed time:  0.5575051307678223 \n",
      "\n",
      " Les caméristes lui présentent tour à tour des fleurs et des diamants sans qu'elle arrête son choix, et ces différents groupes se répètent gracieusement dans les miroirs. \n",
      "['(tours: 0.98753792)', '(ronde: 0.96328638)', '(petit: 0.96239480)', '(côte: 0.96095151)', '(tout: 0.95939689)', '(peu: 0.95578825)', '(goutte: 0.95544004)', '(tourne: 0.95494421)', '(cent: 0.95457226)', '(minute: 0.95427179)', '(coup: 0.95424676)', '(coude: 0.95410335)', '(tournée: 0.95396531)', '(tourner: 0.95387557)', '(serpent: 0.95281112)']\n",
      "Elapsed time:  0.801851749420166 \n",
      "\n",
      " Quand Massimo reconduit Gemma à sa place, la danse terminée, le marquis s'approche et invite la jeune fille à son tour . \n",
      "['(tours: 0.98357680)', '(compte: 0.97395119)', '(heure: 0.97301248)', '(bras: 0.97094387)', '(table: 0.96828717)', '(service: 0.96824214)', '(temps: 0.96787389)', '(côté: 0.96777414)', '(cour: 0.96773138)', '(coté: 0.96732885)', '(frais: 0.96703106)', '(retour: 0.96670315)', '(rang: 0.96632710)', '(pied: 0.96608432)', '(habitude: 0.96511918)']\n",
      "Elapsed time:  0.756969690322876 \n",
      "\n",
      " La vallée blanche et le glacier du Géant, les Grandes Jorasses et les arêtes de Rochefort, à droite, la tour Ronde, derrière l'aiguille verte, les Drus les Droites et les Courtes, grandiose. \n",
      "['(tours: 0.97479314)', '(Tour: 0.96691144)', '(aiguille: 0.96635143)', '(croix: 0.96503677)', '(fontaine: 0.96317245)', '(ronde: 0.96179447)', '(cheminée: 0.96130964)', '(flèche: 0.96126585)', '(Barre: 0.95992418)', '(Pierre: 0.95955968)', '(Pointe: 0.95923594)', '(forteresse: 0.95879543)', '(Roche: 0.95866531)', '(horloge: 0.95794857)', '(Chapelle: 0.95764619)']\n",
      "Elapsed time:  1.2037732601165771 \n",
      "\n",
      " C'est mon tour , une pente peu inclinée pouyr entrer dans les entrailles du monstre. \n",
      "['(tours: 0.97918051)', '(chemin: 0.97006756)', '(heure: 0.96718359)', '(pied: 0.96541411)', '(mur: 0.96526849)', '(but: 0.96407799)', '(rôle: 0.96393043)', '(temps: 0.96344618)', '(parcours: 0.96339065)', '(trou: 0.96297583)', '(détour: 0.96294805)', '(devoir: 0.96229380)', '(bas: 0.96196920)', '(guide: 0.96193999)', '(secret: 0.96190641)']\n",
      "Elapsed time:  0.6482605934143066 \n",
      "\n",
      " La campagne pour la présidentielle accroît fortement l'audience du PS, qui reçoit alors les adhésions d'une partie du PSU avec Michel Rocard et de personnalités proches du gaullisme (Jacques Delors, Edgar Pisani), mais F. Mitterrand, en tête au premier tour , est battu au second malgré l'obtention de 49,19 % des voix, par Valéry Giscard d'Estaing. \n",
      "['(tours: 0.98905317)', '(scrutin: 0.97929909)', '(vote: 0.96868651)', '(tiers: 0.96778303)', '(parti: 0.96677309)', '(mandat: 0.96671859)', '(coup: 0.96628150)', '(candidat: 0.96626241)', '(résultat: 0.96481477)', '(siège: 0.96418305)', '(trimestre: 0.96414202)', '(moment: 0.96349859)', '(acte: 0.96240652)', '(élection: 0.96236855)', '(dimanche: 0.96235438)']\n",
      "Elapsed time:  1.7363128662109375 \n",
      "\n",
      " Celui-ci crée la surprise en arrivant en tête au premier tour ; il est battu au second tour par Jacques Chirac (qui succède à F. Mitterrand à la présidence de la République) mais son très bon score (47,36 % des voix) lui confère une forte légitimité au sein du parti socialiste, dont il ne tarde pas à redevenir le premier secrétaire (élu à l'issue du vote direct et secret des militants lors de la Convention nationale du 14 octobre 1995) et qu'il remobilise en vue de la préparation de l'alternance. \n",
      "['(tours: 0.99249774)', '(scrutin: 0.98373940)', '(coup: 0.97409207)', '(siège: 0.97405946)', '(vote: 0.97245382)', '(candidat: 0.97201532)', '(mandat: 0.97082797)', '(tiers: 0.97067660)', '(parti: 0.97050499)', '(congrès: 0.96987689)', '(virage: 0.96983880)', '(résultat: 0.96949452)', '(jour: 0.96926199)', '(élection: 0.96925079)', '(degré: 0.96921346)']\n",
      "Elapsed time:  3.282247304916382 \n",
      "\n",
      " Mais le décalage croissant entre l'opinion publique et les partis classiques, de gauche comme de droite, et une campagne en définitive mal menée lui infligent une très sévère défaite au premier tour de l'élection présidentielle de 2002 : avec 16,18 % des voix, L. Jospin arrive en troisième position, derrière J. Chirac et Jean-Marie Le Pen. \n",
      "['(tours: 0.99320884)', '(scrutin: 0.97465467)', '(semestre: 0.97019076)', '(vote: 0.96865278)', '(résultat: 0.96737178)', '(quart: 0.96681696)', '(coup: 0.96607293)', '(trimestre: 0.96472389)', '(meeting: 0.96352053)', '(élection: 0.96338354)', '(passage: 0.96293807)', '(soir: 0.96268834)', '(tiers: 0.96260448)', '(acte: 0.96218122)', '(étage: 0.96206033)']\n",
      "Elapsed time:  1.182788372039795 \n",
      "\n",
      " Annonçant aussitôt son intention de se retirer de la vie politique, le candidat malheureux laisse au premier secrétaire le soin de mener le combat du second tour et des législatives. \n",
      "['(tours: 0.99093792)', '(mandat: 0.97464941)', '(scrutin: 0.97164525)', '(semestre: 0.96912843)', '(trimestre: 0.96460855)', '(quinquennat: 0.96398094)', '(vote: 0.96298251)', '(candidat: 0.96251556)', '(parti: 0.96237510)', '(congrès: 0.96235472)', '(résultat: 0.96231186)', '(mai: 0.96086554)', '(coup: 0.95940326)', '(canton: 0.95926714)', '(primaire: 0.95923895)']\n",
      "Elapsed time:  0.6841673851013184 \n",
      "\n",
      " Au premier tour des élections législatives (9 juin), le parti socialiste se maintient avec 23,78 % des suffrages à son niveau de 1997 (25,71 %) et parvient à conserver 140 députés à l'Assemblée. \n",
      "['(tours: 0.99012215)', '(scrutin: 0.97982014)', '(résultat: 0.96957051)', '(vote: 0.96745111)', '(jour: 0.96706514)', '(soir: 0.96592419)', '(cycle: 0.96482873)', '(coup: 0.96433794)', '(acte: 0.96410626)', '(virage: 0.96403694)', '(tiers: 0.96335977)', '(élection: 0.96321911)', '(semestre: 0.96235359)', '(lieu: 0.96036589)', '(rang: 0.96005076)']\n",
      "Elapsed time:  0.7769505977630615 \n",
      "\n",
      " Mais si cette dernière se qualifie pour le second tour en remportant 25,87 % des voix, elle s'incline le 6 mai 2007 face à Nicolas Sarkozy avec 46,94 % des suffrages. \n",
      "['(tours: 0.98803968)', '(scrutin: 0.97697361)', '(second: 0.96572808)', '(coup: 0.96420167)', '(vote: 0.96311989)', '(final: 0.96286833)', '(soir: 0.96261157)', '(mandat: 0.96255851)', '(virage: 0.96251198)', '(résultat: 0.96090547)', '(suffrage: 0.96070887)', '(meeting: 0.96030056)', '(duel: 0.95988949)', '(débat: 0.95979190)', '(jour: 0.95949021)']\n",
      "Elapsed time:  0.6701693534851074 \n",
      "\n",
      " Dans l'huile chaude, verser la pà¢te, au travers d'un entonnoir, en observant le tour de main suivant: \n",
      "['(tours: 0.98476784)', '(mouvement: 0.96459775)', '(coup: 0.96451070)', '(geste: 0.96431049)', '(jeu: 0.96274605)', '(rond: 0.96232963)', '(trait: 0.96060055)', '(revers: 0.95975426)', '(signe: 0.95966381)', '(chemin: 0.95909601)', '(pli: 0.95836246)', '(passe: 0.95803076)', '(pliage: 0.95753064)', '(passage: 0.95740373)', '(plan: 0.95623487)']\n",
      "Elapsed time:  0.680211067199707 \n",
      "\n",
      " Et tellement de DRMs qu'on n'en fait pas le tour , alors toute musique échangée par le superbe système sans fil ne sera écoutable que 3 fois. \n",
      "['(tours: 0.98006595)', '(choix: 0.97196336)', '(frais: 0.97117251)', '(plein: 0.96689129)', '(détour: 0.96614915)', '(compte: 0.96498690)', '(temps: 0.96295750)', '(charme: 0.96284455)', '(ménage: 0.96208298)', '(coût: 0.96169519)', '(total: 0.96164596)', '(bout: 0.96158844)', '(prix: 0.96106729)', '(lien: 0.96086586)', '(boulot: 0.96070188)']\n",
      "Elapsed time:  0.7599611282348633 \n",
      "\n",
      " Un peu plus tard, quand Madeleine aura un peu grandi, les cartes s'adresseront à elle, à son tour , autant qu'à sa grande soeur Denise. \n",
      "['(tours: 0.97941414)', '(heure: 0.96727481)', '(temps: 0.96694523)', '(échelle: 0.96600199)', '(coté: 0.96560711)', '(rythme: 0.96545875)', '(insu: 0.96445987)', '(image: 0.96375763)', '(compte: 0.96354020)', '(nom: 0.96113545)', '(entourage: 0.96084122)', '(propre: 0.96041149)', '(retour: 0.95939606)', '(âge: 0.95912929)', '(père: 0.95887154)']\n",
      "Elapsed time:  0.7838997840881348 \n",
      "\n",
      " * Visite d'une Porsche 924 (à restaurer) * Petit tour à la cathédrale de Reims et sur l'ancien circuit de Gueux (Reims) en 911 Turbo 3.6 * Rencontre avec la 964 Carrera 4 d'Hervé * Musée de l'automobile à Reims * La nouvelle 996 GT2 comme vous ne l'avez jamais vue (en présence d'une 996 bi-turbo en plus !) \n",
      "['(détour: 0.97688603)', '(arrêt: 0.97645656)', '(passage: 0.97516321)', '(tours: 0.97280051)', '(visite: 0.97264835)', '(voyage: 0.96939164)', '(circuit: 0.96784331)', '(coucou: 0.96606944)', '(balade: 0.96458262)', '(promenade: 0.96294881)', '(marche: 0.96178323)', '(séjour: 0.95991526)', '(déplacement: 0.95984393)', '(retour: 0.95971589)', '(truc: 0.95897545)']\n",
      "Elapsed time:  1.2636463642120361 \n",
      "\n",
      " Parti du Croisic, en Bretagne, 2 ANS plus tôt, il effectue le tour du monde en solitaire, sur son robuste cotre de 10 mètres, Kurun. \n",
      "['(tours: 0.98770096)', '(record: 0.97502452)', '(parcours: 0.96985106)', '(passage: 0.96676171)', '(départ: 0.96609583)', '(coup: 0.96545893)', '(mot: 0.96457690)', '(voyage: 0.96423097)', '(temps: 0.96326226)', '(bout: 0.96314247)', '(général: 0.96304315)', '(chemin: 0.96226970)', '(relais: 0.96200937)', '(championnat: 0.96163483)', '(journal: 0.96151078)']\n",
      "Elapsed time:  0.869635820388794 \n",
      "\n",
      " Ainsi, lorsque le cotre s'éloigne de son cap, l'écoute se tend et tire sur la barre, ramenant le voilier dans le droit chemin. \"Cocagne ! s'écrie Le Toumelin, je peux dormir tranquille.\" Grà¢ce à ce pilote AUTOMATIQUE improvisé, le cotre achève le tour du monde, et reçoit un accueil triomphal au Croisic, le 7 juillet 1952, après une magnifique navigation de 3 ans. \n",
      "['(tours: 0.97695141)', '(record: 0.96569575)', '(voyage: 0.96450847)', '(traversée: 0.96292898)', '(chemin: 0.96100608)', '(bout: 0.95993452)', '(coupe: 0.95750037)', '(temps: 0.95716166)', '(toit: 0.95612431)', '(parcours: 0.95611433)', '(reste: 0.95451951)', '(rêve: 0.95411283)', '(championnat: 0.95370710)', '(monde: 0.95333788)', '(périple: 0.95264405)']\n",
      "Elapsed time:  1.84206223487854 \n",
      "\n",
      " C'est dans les cafés le soir que Sophie, une jeune cubaine vient draguer les mecs, surtout dans les pubs branchés sur Paris et autour de la tour Eiffel ! \n",
      "['(tours: 0.97460306)', '(place: 0.96370311)', '(colonne: 0.96188378)', '(montagne: 0.95939064)', '(flèche: 0.95922446)', '(chaîne: 0.95818063)', '(cité: 0.95737664)', '(chaine: 0.95731225)', '(pyramide: 0.95624392)', '(capitale: 0.95623707)', '(Tour: 0.95576936)', '(ville: 0.95556790)', '(dame: 0.95429037)', '(rue: 0.95279123)', '(cour: 0.95226310)']\n",
      "Elapsed time:  0.6701700687408447 \n",
      "\n",
      " Les enchères commençaient à 70 millions par bloc, s'il y a plus de 11 demandes pour les 11 blocs, le prix du bloc augmente de 5 millions et un nouveau tour de table est fait. \n",
      "['(tours: 0.98641274)', '(coup: 0.96509198)', '(effet: 0.95747307)', '(quart: 0.95666677)', '(chemin: 0.95470059)', '(billet: 0.95413381)', '(tirage: 0.95347115)', '(set: 0.95289746)', '(ticket: 0.95059359)', '(pari: 0.95006588)', '(gain: 0.94891609)', '(jeu: 0.94834358)', '(prix: 0.94739890)', '(rond: 0.94701588)', '(frais: 0.94685620)']\n",
      "Elapsed time:  0.7539792060852051 \n",
      "\n",
      " Les matelots aussi, devant ce grand malheur, Se sentent tour à tour vaincus par la douleur. \n",
      "['(tours: 0.98166647)', '(petit: 0.96774788)', '(tout: 0.96299517)', '(pied: 0.96012765)', '(ten: 0.95712307)', '(part: 0.95704103)', '(tourne: 0.95550284)', '(quant: 0.95539085)', '(demi: 0.95454069)', '(suite: 0.95297456)', '(allié: 0.95250309)', '(tourner: 0.95249206)', '(fort: 0.95163554)', '(chacun: 0.95148629)', '(seul: 0.95090148)']\n",
      "Elapsed time:  0.48566198348999023 \n",
      "\n",
      " Endormis sur le pont, jeunes et vieux marins Ont enfin tour à tour oublié leurs chagrins. \n",
      "['(tours: 0.97676362)', '(petit: 0.95842518)', '(tout: 0.95729109)', '(Tour: 0.95690099)', '(tournent: 0.94927140)', '(peu: 0.94880173)', '(tourner: 0.94601691)', '(tourne: 0.94564512)', '(tourné: 0.94518132)', '(trio: 0.94452396)', '(chacun: 0.94418168)', '(tous: 0.94334026)', '(conduit: 0.94216341)', '(parti: 0.93889499)', '(cour: 0.93831232)']\n",
      "Elapsed time:  0.462754487991333 \n",
      "\n",
      " Aujourd'hui, le Président de la CASA et Maire d'Antibes Jean Leonetti a fait un tour de manège dans le fameux bus-tram que j'appelle le gros bus à quelques espaces dédiés. \n",
      "['(tours: 0.98934160)', '(coup: 0.97228894)', '(parcours: 0.97070464)', '(numéro: 0.96973075)', '(rond: 0.96901330)', '(chemin: 0.96813968)', '(jeu: 0.96732012)', '(tir: 0.96706820)', '(circuit: 0.96500099)', '(ronde: 0.96481299)', '(passage: 0.96422473)', '(show: 0.96361080)', '(mouvement: 0.96330643)', '(quart: 0.96324962)', '(spectacle: 0.96256331)']\n",
      "Elapsed time:  0.7190389633178711 \n",
      "\n",
      " 2) J'accepte d'être humilié ou exploité a condition qu'on me permette a mon tour d'humilier ou d'exploiter quelqu'un occupant une place inférieure dans la pyramide sociale. \n",
      "['(tours: 0.98813830)', '(insu: 0.97341070)', '(niveau: 0.97204579)', '(profit: 0.97180255)', '(avis: 0.97124082)', '(heure: 0.97097710)', '(gré: 0.97082963)', '(compte: 0.97019126)', '(moment: 0.96971658)', '(place: 0.96965738)', '(coté: 0.96862489)', '(temps: 0.96853966)', '(avantage: 0.96781504)', '(choix: 0.96742040)', '(mesure: 0.96686552)']\n",
      "Elapsed time:  0.8616905212402344 \n",
      "\n",
      " La distance parcourue lors de ses voyages apostoliques équivaut à 28,3 fois le tour de la terre, presque 3 fois la distance de la Terre à la Lune. \n",
      "['(tours: 0.98352730)', '(voyage: 0.97161651)', '(centre: 0.96975952)', '(trajet: 0.96494174)', '(chemin: 0.96387462)', '(diamètre: 0.96344941)', '(reste: 0.96308726)', '(quart: 0.96263169)', '(rayon: 0.96227217)', '(méridien: 0.96173373)', '(long: 0.96160547)', '(total: 0.96084082)', '(bout: 0.96000822)', '(tiers: 0.95990633)', '(plan: 0.95940036)']\n",
      "Elapsed time:  0.7829005718231201 \n",
      "\n",
      " Ils dévoilent tour à tour l'étendue de leur brio. \n",
      "['(tours: 0.98473165)', '(tout: 0.96518388)', '(petit: 0.96351937)', '(Tour: 0.96270859)', '(cour: 0.95687664)', '(ainsi: 0.95657790)', '(pierre: 0.95656207)', '(tourne: 0.95228553)', '(tt: 0.95170832)', '(tourner: 0.95140173)', '(tournent: 0.95139295)', '(suite: 0.95021594)', '(face: 0.94948386)', '(quant: 0.94918208)', '(chacun: 0.94789511)']\n",
      "Elapsed time:  0.3470771312713623 \n",
      "\n",
      " Adrien Moerlen déclame ses textes en anglais se fait tour à tour planant, enragé et distant. \n",
      "['(tours: 0.98766246)', '(tourne: 0.96361157)', '(tout: 0.96048027)', '(petit: 0.95987933)', '(temps: 0.95377809)', '(bout: 0.95305681)', '(trio: 0.95266914)', '(tournée: 0.95213205)', '(tournant: 0.95169860)', '(tourné: 0.95091400)', '(fois: 0.94818777)', '(tourner: 0.94802588)', '(tou: 0.94734694)', '(part: 0.94695687)', '(piège: 0.94664484)']\n",
      "Elapsed time:  0.49164700508117676 \n",
      "\n",
      " j'espère que ce petit tour vous a plu, bien sur il reste beaucoup à voir dans cette partie de Lyon et j'y travaille mais pour l'instant je vous propose de passer dans le deuxième arrondissement avec la place Bellecour, sa statue de Louis XIV et ses jets d'eau: \n",
      "['(tours: 0.98179996)', '(détour: 0.97496996)', '(passage: 0.97423164)', '(billet: 0.97346449)', '(circuit: 0.97320704)', '(voyage: 0.97242967)', '(visite: 0.97141834)', '(trip: 0.97111687)', '(parcours: 0.97017027)', '(guide: 0.96923034)', '(séjour: 0.96897799)', '(itinéraire: 0.96832627)', '(article: 0.96817824)', '(cours: 0.96814823)', '(musée: 0.96766090)']\n",
      "Elapsed time:  0.9863214492797852 \n",
      "\n",
      " Pendant l'anarchie du Xe siècle, un des évêques la donna à titre de bénéfice à un noble que le chroniqueur qualifie de tyran, lequel, à son tour , en avait doté son fils, évêque d'Autun. \n",
      "['(tours: 0.98327482)', '(insu: 0.97702687)', '(compte: 0.97440889)', '(heure: 0.97386618)', '(frais: 0.97180802)', '(temps: 0.97040675)', '(habitude: 0.96908139)', '(côté: 0.96818703)', '(gré: 0.96802932)', '(contraire: 0.96745232)', '(moment: 0.96733104)', '(mesure: 0.96726838)', '(égard: 0.96719760)', '(effet: 0.96683243)', '(avis: 0.96671490)']\n",
      "Elapsed time:  1.0272469520568848 \n",
      "\n",
      " La fontaine de Saint-Amatre doit aussi venir à son tour au rang des objets intéressants de ce bourg primitif d'Auxerre. \n",
      "['(tours: 0.97931061)', '(compte: 0.97209274)', '(insu: 0.96681365)', '(temps: 0.96347266)', '(heure: 0.96328566)', '(secours: 0.96253018)', '(frais: 0.96242976)', '(image: 0.96221632)', '(chevet: 0.96078104)', '(titre: 0.96076447)', '(sujet: 0.96052147)', '(rang: 0.96050632)', '(crédit: 0.95980467)', '(échelle: 0.95948832)', '(niveau: 0.95909782)']\n",
      "Elapsed time:  0.6492621898651123 \n",
      "\n",
      " Le principal tour de force du film réside en sa capacité à fédérer un public à la fois accroc' et hostile à l'univers des Super-héros de Comics, parce que tout est rendu léger, et volontairement risible. \n",
      "['(coup: 0.98004005)', '(tours: 0.97983444)', '(point: 0.97329465)', '(moment: 0.97143587)', '(rapport: 0.97076219)', '(atout: 0.97066224)', '(angle: 0.96969670)', '(argument: 0.96969643)', '(revers: 0.96834385)', '(clé: 0.96664119)', '(degré: 0.96633816)', '(prise: 0.96630120)', '(ligne: 0.96622238)', '(effet: 0.96613953)', '(démonstration: 0.96569794)']\n",
      "Elapsed time:  1.0013418197631836 \n",
      "\n",
      " C'est pourquoi le rédacteur se verra dans l'obligation d'adopter à son tour le langage de l'ennemi : \" Laissez cet éthiopien de merde ! \n",
      "['(tours: 0.98358291)', '(compte: 0.97881792)', '(gré: 0.97227772)', '(insu: 0.97178167)', '(heure: 0.97152571)', '(profit: 0.97003317)', '(temps: 0.96896353)', '(guise: 0.96892869)', '(avantage: 0.96704265)', '(propre: 0.96693863)', '(retour: 0.96607256)', '(habitude: 0.96601763)', '(sujet: 0.96596897)', '(aussi: 0.96541059)', '(manière: 0.96513587)']\n",
      "Elapsed time:  0.5764548778533936 \n",
      "\n",
      " Le Front national éliminé au premier tour des élections territoriales corses, voilà qui pourrait relever de l'anecdote. \n",
      "['(tours: 0.99013819)', '(scrutin: 0.97321601)', '(virage: 0.96487876)', '(résultat: 0.96341119)', '(tiers: 0.96305051)', '(vote: 0.96297221)', '(blanc: 0.96259823)', '(soir: 0.96244238)', '(carré: 0.96231502)', '(parti: 0.96177183)', '(semestre: 0.96102039)', '(mai: 0.95863420)', '(duel: 0.95815235)', '(ballot: 0.95752341)', '(jour: 0.95731914)']\n",
      "Elapsed time:  0.6731946468353271 \n",
      "\n",
      " Vous vous souvenez de la pub (en 2000, je crois) qui avait fait le tour du monde, Wassup ? \n",
      "['(cin: 0.98762071)', '(tours: 0.98761764)', '(ine: 0.96797669)', '(voyage: 0.95974654)', '(tournée: 0.95973709)', '(centre: 0.95922577)', '(coup: 0.95800757)', '(tourne: 0.95682859)', '(bout: 0.95602116)', '(record: 0.95526594)', '(mur: 0.95391706)', '(Tour: 0.95301002)', '(reste: 0.95235903)', '(temps: 0.95171414)', '(coeur: 0.95161390)']\n",
      "Elapsed time:  0.5715038776397705 \n",
      "\n",
      " Le premier tour , une trentaine de voix se sont portées sur Joseph Ratzinger, un peu moins sur le cardinal Martini, ancien archevêque de Milan, jésuite et brillant bibliste. \n",
      "['(tours: 0.98054701)', '(soir: 0.96383104)', '(jour: 0.96362770)', '(coup: 0.96275786)', '(dimanche: 0.96224864)', '(scrutin: 0.96108155)', '(quart: 0.96092123)', '(vote: 0.95828542)', '(parti: 0.95739627)', '(bulletin: 0.95675433)', '(siège: 0.95582724)', '(année: 0.95546311)', '(fois: 0.95521507)', '(discours: 0.95511311)', '(samedi: 0.95490870)']\n",
      "Elapsed time:  0.7829241752624512 \n",
      "\n",
      " Ce dernier, qui a sans doute accepté de servir de repère au premier tour , fait savoir que, malade, il n'accepterait pas d'être élu. \n",
      "['(tours: 0.98393287)', '(scrutin: 0.96526161)', '(coup: 0.95993909)', '(vote: 0.95837462)', '(tiers: 0.95808971)', '(résultat: 0.95807916)', '(candidat: 0.95794386)', '(duel: 0.95626432)', '(choix: 0.95447332)', '(ministre: 0.95446131)', '(ticket: 0.95429665)', '(jour: 0.95377705)', '(parti: 0.95364834)', '(dimanche: 0.95341322)', '(tournoi: 0.95285523)']\n",
      "Elapsed time:  0.6542463302612305 \n"
     ]
    }
   ],
   "source": [
    "lemmatizer = fll()\n",
    "for filename in os.listdir(f\"{model_name}/Experiment_1/Curated/\"):\n",
    "    if filename.endswith(\"Tour.csv\"):\n",
    "        df = pd.read_csv(f\"{model_name}/Experiment_1/Curated/\" + filename, sep=\";\", encoding=\"utf-8\", header=0)\n",
    "        # We calculate predictions\n",
    "        predictions = []\n",
    "        keyword = df[\"source\"][1].lower()\n",
    "        sentences = df[\"match\"].values\n",
    "        if keyword == \"tour\":\n",
    "            sentences = [preproc_sentence(sentence) for sentence in sentences]\n",
    "        for sentence in sentences:\n",
    "            print(sentence)\n",
    "            substitutions = lexsub_dropout(sentence, keyword)\n",
    "            sentence_tuple = (sentence, substitutions)\n",
    "            predictions.append(sentence_tuple)\n",
    "        all_predictions[keyword] = predictions\n",
    "        "
   ],
   "metadata": {
    "collapsed": false,
    "ExecuteTime": {
     "end_time": "2024-05-17T18:39:12.200792Z",
     "start_time": "2024-05-17T18:38:07.213216Z"
    }
   },
   "id": "7347c22e42b370c3",
   "execution_count": 6
  },
  {
   "cell_type": "code",
   "outputs": [],
   "source": [
    "# We save the predictions to a pandas dataframe (columns \"keyword\", 'sentence', 'predictions'\n",
    "for match, predictions in all_predictions.items():\n",
    "    df = pd.DataFrame(predictions, columns=[\"match\", \"predictions\"])\n",
    "    df[\"source\"] = match\n",
    "    # we add a 'match'\n",
    "    df.to_csv(f\"{model_name}/Experiment_3/Curated/predictions/{match}.csv\", sep=\";\", encoding=\"utf-8\", index=False)"
   ],
   "metadata": {
    "collapsed": false,
    "ExecuteTime": {
     "end_time": "2024-05-17T18:39:41.318663Z",
     "start_time": "2024-05-17T18:39:41.305146Z"
    }
   },
   "id": "4c43338b852fa9da",
   "execution_count": 12
  },
  {
   "cell_type": "code",
   "outputs": [],
   "source": [
    "df = pd.DataFrame(columns=[\"source\", \"match\", \"predictions\"])\n",
    "for match, predictions in all_predictions.items():\n",
    "    for sentence, subs in predictions:\n",
    "        new_row = pd.DataFrame({\"source\": [match], \"match\": [sentence], \"predictions\": [subs]})\n",
    "        df = pd.concat([df, new_row], ignore_index=True)"
   ],
   "metadata": {
    "collapsed": false,
    "ExecuteTime": {
     "end_time": "2024-05-17T18:39:41.833970Z",
     "start_time": "2024-05-17T18:39:41.793963Z"
    }
   },
   "id": "861192da02200917",
   "execution_count": 13
  },
  {
   "cell_type": "code",
   "outputs": [],
   "source": [
    "# We then create a list of all the different words in \"forward\" and \"backward\"\n",
    "all_words = {}\n",
    "for match, predictions in all_predictions.items():\n",
    "    all_words[match] = []\n",
    "    for sentence, subs in predictions:\n",
    "        all_words[match].extend([prediction[0] for prediction in subs])\n",
    "    all_words[match] = list(set(all_words[match]))\n",
    "\n"
   ],
   "metadata": {
    "collapsed": false,
    "ExecuteTime": {
     "end_time": "2024-05-17T18:39:42.191808Z",
     "start_time": "2024-05-17T18:39:42.185811Z"
    }
   },
   "id": "72b264034b69b1c5",
   "execution_count": 14
  },
  {
   "cell_type": "code",
   "outputs": [
    {
     "name": "stdout",
     "output_type": "stream",
     "text": [
      "created dataframe for  tour\n",
      "converted tour into <class 'numpy.ndarray'>\n"
     ]
    }
   ],
   "source": [
    "# Represent the sentences as sparse vectors\n",
    "# We do this by making a dataframe for each word: the index is the sentence, the columns are the words, and the values are the probabilities\n",
    "# We transform the dataframe\n",
    "vectors = {}\n",
    "for keyword, predictions in all_predictions.items():\n",
    "    df_sparse = pd.DataFrame(columns=[\"source\", \"match\"] + all_words[keyword])\n",
    "    print(\"created dataframe for \", keyword)\n",
    "    rows = []\n",
    "    for sentence, subs in predictions:\n",
    "        row = {\"source\": keyword, \"match\": sentence}\n",
    "        for word in all_words[keyword]:\n",
    "            row[word] = 0\n",
    "        for prediction in subs:\n",
    "            word, prob = prediction\n",
    "            row[word] = + prob  # We want to add to it if it already exists (forward and backward)\n",
    "        rows.append(row)\n",
    "    df_sparse = pd.DataFrame(rows)\n",
    "    vector = df_sparse.drop(columns=[\"source\", \"match\"]).values\n",
    "    # We now have a numpy ndarray, which we can transform using the TfidfTransformer\n",
    "    #transformer = TfidfTransformer()\n",
    "    #vector_Tfidf = transformer.fit_transform(vector)\n",
    "    svd = TruncatedSVD(n_components=100)\n",
    "    vector_SVD = svd.fit_transform(vector)\n",
    "    vectors[keyword] = vector_SVD\n",
    "    print(f\"converted {keyword} into {type(vector)}\")\n"
   ],
   "metadata": {
    "collapsed": false,
    "ExecuteTime": {
     "end_time": "2024-05-17T18:39:42.885286Z",
     "start_time": "2024-05-17T18:39:42.588748Z"
    }
   },
   "id": "f1843ab8a2d11e88",
   "execution_count": 15
  },
  {
   "cell_type": "code",
   "outputs": [
    {
     "name": "stdout",
     "output_type": "stream",
     "text": [
      "Fitting model with 3 clusters\n",
      "Fitting model with 4 clusters\n",
      "Fitting model with 5 clusters\n",
      "Fitting model with 6 clusters\n",
      "Fitting model with 7 clusters\n",
      "Fitting model with 8 clusters\n",
      "Fitting model with 9 clusters\n",
      "Fitting model with 10 clusters\n",
      "Optimal number of clusters: 3\n",
      "Number of clusters: 3\n",
      "agg:\n",
      "Score for each sense\n",
      "lap       0.000000\n",
      "round     0.000000\n",
      "tower     0.000000\n",
      "trick    21.428571\n",
      "turn     95.833333\n",
      "Name: agg_default_sub, dtype: float64\n",
      "Overall score 35.13513513513514\n",
      "BIC:\n",
      "Score for each sense\n",
      "lap        0.000000\n",
      "round    100.000000\n",
      "tower      0.000000\n",
      "trick     42.857143\n",
      "turn     100.000000\n",
      "Name: BIC_default_sub, dtype: float64\n",
      "Overall score 59.45945945945946\n"
     ]
    }
   ],
   "source": [
    "# Initialize the clustering algorithm\n",
    "warnings.filterwarnings(\"ignore\")\n",
    "# 'n_clusters' is the number of clusters we want to form (and also the number of clusters to be found)\n",
    "# 'linkage' is the linkage criterion (can be 'ward', 'complete', 'average', 'single')\n",
    "clustermin = 3\n",
    "\n",
    "agg_clustering = AgglomerativeClustering(n_clusters=clustermin, metric='cosine', linkage='average')\n",
    "\n",
    "# Range of potential cluster numbers to test\n",
    "cluster_range = range(clustermin, 11)\n",
    "\n",
    "for keyword, vector_SVD in vectors.items():\n",
    "    df = pd.read_csv(f\"{model_name}/{keyword}.csv\", sep=\";\", encoding=\"utf-8\", header=0)\n",
    "    # Apply the clustering algorithm to the SVD-transformed vectors\n",
    "    agg_clusters = agg_clustering.fit_predict(vector_SVD)\n",
    "\n",
    "    # 'agg_clusters' is now an array where the i-th element is the cluster label of the i-th instance\n",
    "    # We add \"1\" to all clusters to start counting at 1 instead of 0\n",
    "    agg_clusters += 1\n",
    "    # We add the cluster label to the original dataframe, corresponding to the correct index\n",
    "\n",
    "    df[\"agg_cluster_sub\"] = agg_clusters\n",
    "\n",
    "    # List to hold BIC values\n",
    "    bic_values = []\n",
    "\n",
    "    # Fit Gaussian Mixture Models for each number of clusters\n",
    "    for i in cluster_range:\n",
    "        print(f\"Fitting model with {i} clusters\")\n",
    "        gmm = GaussianMixture(n_components=i, random_state=0).fit(vector_SVD)\n",
    "        bic_values.append(gmm.bic(vector_SVD))\n",
    "\n",
    "    # Find the number of clusters that gives the minimum BIC\n",
    "    optimal_clusters = cluster_range[np.argmin(bic_values)]\n",
    "    print(f\"Optimal number of clusters: {optimal_clusters}\")\n",
    "\n",
    "    # Fit the optimal model\n",
    "    gmm_optimal = GaussianMixture(n_components=optimal_clusters).fit(vector_SVD)\n",
    "\n",
    "    # Predict the cluster for each data point\n",
    "    BIC_clusters = gmm_optimal.predict(vector_SVD)\n",
    "    # We want them to start counting at \"1\" instead of \"0\"\n",
    "    BIC_clusters += 1\n",
    "    print(f\"Number of clusters: {len(np.unique(BIC_clusters))}\")\n",
    "    df[\"BIC_cluster_sub\"] = BIC_clusters\n",
    "\n",
    "    # We calculate a score for the clustering scores (starting before the outliers are removed)\n",
    "    # Group the dataframe by \"sense\" and \"cluster\", and calculate the size of each group\n",
    "    df_grouped = df.groupby([\"sense\", \"agg_cluster_sub\"]).size().reset_index(name=\"count\")\n",
    "\n",
    "    # Sort these clusters by size in descending order\n",
    "    df_grouped = df_grouped.sort_values(by=\"count\", ascending=False)\n",
    "\n",
    "    # Initialize an empty dictionary to store the cluster numbers that have been assigned as default clusters\n",
    "    # If the cluster number is not taken, we assign it to the corresponding \"sense\"\n",
    "    # Else, we try to assign it to the next cluster number\n",
    "    cluster_dict = {}\n",
    "    for index, row in df_grouped.iterrows():\n",
    "        if row[\"sense\"] not in cluster_dict:\n",
    "            if row[\"agg_cluster_sub\"] not in cluster_dict.values():\n",
    "                cluster_dict[row[\"sense\"]] = row[\"agg_cluster_sub\"]\n",
    "\n",
    "        # We add \"sense\" values that have no entry in cluster_dict and set value to 0 (always seen as wrong)\n",
    "    for sense in df[\"sense\"].unique():\n",
    "        if sense not in cluster_dict:\n",
    "            cluster_dict[sense] = 0\n",
    "\n",
    "    # Add a new column \"default\" to the original dataframe\n",
    "    df[\"agg_default_sub\"] = df.apply(lambda x: x[\"agg_cluster_sub\"] == cluster_dict[x[\"sense\"]], axis=1)\n",
    "\n",
    "    # We calculate the percentage of default clusters\n",
    "    percentage_default = (df[\"agg_default_sub\"].sum() / len(df)) * 100\n",
    "    # We also calculate this separately for each \"sense\"\n",
    "    percentage_default_mean = df.groupby(\"sense\")[\"agg_default_sub\"].mean() * 100\n",
    "\n",
    "    # We want the mean score across all senses, as it does not mean a lot if a program can correctly define one big cluster containing most of the data and fail at all other senses.\n",
    "    percentage_weighted = percentage_default_mean.mean()\n",
    "    print(\"agg:\")\n",
    "    print(\"Score for each\", percentage_default_mean)\n",
    "    print(\"Overall score\", percentage_default)\n",
    "\n",
    "    #----------------------------------------------------------------------------------------------------\n",
    "    # We do this again for BIC clusters\n",
    "    #----------------------------------------------------------------------------------------------------\n",
    "\n",
    "    # We calculate a score for the clustering scores (starting before the outliers are removed)\n",
    "    # Group the dataframe by \"sense\" and \"cluster\", and calculate the size of each group\n",
    "    df_grouped = df.groupby([\"sense\", \"BIC_cluster_sub\"]).size().reset_index(name=\"count\")\n",
    "\n",
    "    # Sort these clusters by size in descending order\n",
    "    df_grouped = df_grouped.sort_values(by=\"count\", ascending=False)\n",
    "\n",
    "    # Initialize an empty dictionary to store the cluster numbers that have been assigned as default clusters\n",
    "    # If the cluster number is not taken, we assign it to the corresponding \"sense\"\n",
    "    # Else, we try to assign it to the next cluster number\n",
    "    cluster_dict = {}\n",
    "    for index, row in df_grouped.iterrows():\n",
    "        if row[\"sense\"] not in cluster_dict:\n",
    "            if row[\"BIC_cluster_sub\"] not in cluster_dict.values():\n",
    "                cluster_dict[row[\"sense\"]] = row[\"BIC_cluster_sub\"]\n",
    "\n",
    "        # We add \"sense\" values that have no entry in cluster_dict and set value to 0 (always seen as wrong)\n",
    "    for sense in df[\"sense\"].unique():\n",
    "        if sense not in cluster_dict:\n",
    "            cluster_dict[sense] = 0\n",
    "\n",
    "    # Add a new column \"default\" to the original dataframe\n",
    "    df[\"BIC_default_sub\"] = df.apply(lambda x: x[\"BIC_cluster_sub\"] == cluster_dict[x[\"sense\"]], axis=1)\n",
    "\n",
    "    # We calculate the percentage of default clusters\n",
    "    percentage_default = (df[\"BIC_default_sub\"].sum() / len(df)) * 100\n",
    "    # We also calculate this separately for each \"sense\"\n",
    "    percentage_default_mean = df.groupby(\"sense\")[\"BIC_default_sub\"].mean() * 100\n",
    "\n",
    "    # We want the mean score across all senses, as it does not mean a lot if a program can correctly define one big cluster containing most of the data and fail at all other senses.\n",
    "    percentage_weighted = percentage_default_mean.mean()\n",
    "    print(\"BIC:\")\n",
    "    print(\"Score for each\", percentage_default_mean)\n",
    "    print(\"Overall score\", percentage_default)\n",
    "\n",
    "    df.to_csv(f\"{model_name}/Experiment_3/Curated/{keyword}.csv\", sep=\";\", encoding=\"utf-8\", index=False)"
   ],
   "metadata": {
    "collapsed": false,
    "ExecuteTime": {
     "end_time": "2024-05-17T18:39:43.353516Z",
     "start_time": "2024-05-17T18:39:43.046938Z"
    }
   },
   "id": "7c8bbf9e123673b3",
   "execution_count": 16
  },
  {
   "cell_type": "code",
   "outputs": [],
   "source": [
    "import plotly.express as px"
   ],
   "metadata": {
    "collapsed": false,
    "ExecuteTime": {
     "end_time": "2024-05-17T18:39:44.586572Z",
     "start_time": "2024-05-17T18:39:44.444396Z"
    }
   },
   "id": "5876d2a89d01476f",
   "execution_count": 17
  },
  {
   "cell_type": "code",
   "outputs": [],
   "source": [
    "# We load in the dataframe for \"Bureau\"\n",
    "df = pd.read_csv(f\"{model_name}/Experiment_3/Curated/Tour.csv\", sep=\";\", encoding=\"utf-8\", header=0)"
   ],
   "metadata": {
    "collapsed": false,
    "ExecuteTime": {
     "end_time": "2024-05-17T18:39:56.184508Z",
     "start_time": "2024-05-17T18:39:56.173747Z"
    }
   },
   "id": "4b2f441ec9d322e8",
   "execution_count": 20
  },
  {
   "cell_type": "code",
   "outputs": [
    {
     "data": {
      "application/vnd.plotly.v1+json": {
       "data": [
        {
         "customdata": [
          [
           " J'ai refais plusieurs fois le  tour/rotation.n.03 du magasin en vain et j'étais, ma foi, trèèèès triste (T___T)! "
          ],
          [
           " Quant au cycliste, il peine, le malheureux, à admettre que la chasse soit une activité de première nécessité, mais que le fait d'aller faire un  tour/rotation.n.03 en vélo puisse être facteur de propagation d'un virus. "
          ],
          [
           " La visite libre vous permet de faire le  tour/rotation.n.03 de la scénographie d'énerlya en toute liberté. "
          ],
          [
           " Et tellement de DRMs qu'on n'en fait pas le  tour/rotation.n.03 , alors toute musique échangée par le superbe système sans fil ne sera écoutable que 3 fois. "
          ],
          [
           " * Visite d'une Porsche 924 (à restaurer) * Petit  tour/rotation.n.03 à la cathédrale de Reims et sur l'ancien circuit de Gueux (Reims) en 911 Turbo 3.6 * Rencontre avec la 964 Carrera 4 d'Hervé * Musée de l'automobile à Reims * La nouvelle 996 GT2 comme vous ne l'avez jamais vue (en présence d'une 996 bi-turbo en plus !) "
          ],
          [
           " Parti du Croisic, en Bretagne, 2 ANS plus tôt, il effectue le  tour/rotation.n.03 du monde en solitaire, sur son robuste cotre de 10 mètres, Kurun. "
          ],
          [
           " Ainsi, lorsque le cotre s'éloigne de son cap, l'écoute se tend et tire sur la barre, ramenant le voilier dans le droit chemin. \"Cocagne ! s'écrie Le Toumelin, je peux dormir tranquille.\" Grà¢ce à ce pilote AUTOMATIQUE improvisé, le cotre achève le  tour/rotation.n.03 du monde, et reçoit un accueil triomphal au Croisic, le 7 juillet 1952, après une magnifique navigation de 3 ans. "
          ],
          [
           " La distance parcourue lors de ses voyages apostoliques équivaut à 28,3 fois le  tour/rotation.n.03 de la terre, presque 3 fois la distance de la Terre à la Lune. "
          ],
          [
           " j'espère que ce petit  tour/rotation.n.03 vous a plu, bien sur il reste beaucoup à voir dans cette partie de Lyon et j'y travaille mais pour l'instant je vous propose de passer dans le deuxième arrondissement avec la place Bellecour, sa statue de Louis XIV et ses jets d'eau: "
          ],
          [
           " Vous vous souvenez de la pub (en 2000, je crois) qui avait fait le  tour/rotation.n.03 du monde, Wassup ? "
          ]
         ],
         "hovertemplate": "sense=lap<br>BIC_cluster_sub=2<br>x=%{x}<br>y=%{y}<br>match=%{customdata[0]}<extra></extra>",
         "legendgroup": "lap, 2",
         "marker": {
          "color": "#636efa",
          "symbol": "circle"
         },
         "mode": "markers",
         "name": "lap, 2",
         "orientation": "v",
         "showlegend": true,
         "x": [
          -1.0689647,
          -1.0853944,
          -1.1664963,
          -0.59841734,
          -0.30854696,
          -0.56486607,
          -1.0710258,
          -1.0365218,
          0.8461783,
          -0.35770798
         ],
         "xaxis": "x",
         "y": [
          -0.1620316,
          -0.44722095,
          -0.21525429,
          -0.049225673,
          -0.2714689,
          -0.63736916,
          -0.51478195,
          -0.30799925,
          -0.3763268,
          -0.15444447
         ],
         "yaxis": "y",
         "type": "scatter"
        },
        {
         "customdata": [
          [
           " Masuda à réussi un vrai  tour/trick.n.03 de force.... Celui de bluffer vos spectateurs avec seulement deux cartes ! "
          ],
          [
           " Plus qu'un livre, c'est un véritable  tour/trick.n.03 de force. \" The Guardian Frédéric Fontès "
          ],
          [
           " Dans l'huile chaude, verser la pà¢te, au travers d'un entonnoir, en observant le  tour/rotation.n.03 de main suivant: "
          ],
          [
           " Les enchères commençaient à 70 millions par bloc, s'il y a plus de 11 demandes pour les 11 blocs, le prix du bloc augmente de 5 millions et un nouveau  tour/rotation.n.03 de table est fait. "
          ],
          [
           " Aujourd'hui, le Président de la CASA et Maire d'Antibes Jean Leonetti a fait un  tour/rotation.n.03 de manège dans le fameux bus-tram que j'appelle le gros bus à quelques espaces dédiés. "
          ],
          [
           " Le principal  tour/trick.n.03 de force du film réside en sa capacité à fédérer un public à la fois accroc' et hostile à l'univers des Super-héros de Comics, parce que tout est rendu léger, et volontairement risible. "
          ]
         ],
         "hovertemplate": "sense=lap<br>BIC_cluster_sub=3<br>x=%{x}<br>y=%{y}<br>match=%{customdata[0]}<extra></extra>",
         "legendgroup": "lap, 3",
         "marker": {
          "color": "#636efa",
          "symbol": "square"
         },
         "mode": "markers",
         "name": "lap, 3",
         "orientation": "v",
         "showlegend": true,
         "x": [
          -1.8809203,
          -1.3787202,
          0.29477465,
          -0.044365566,
          -0.8672205,
          -2.2524142
         ],
         "xaxis": "x",
         "y": [
          -0.1884831,
          -0.21108337,
          -0.14171495,
          -0.35175994,
          -0.2991453,
          -0.0017190829
         ],
         "yaxis": "y",
         "type": "scatter"
        },
        {
         "customdata": [
          [
           " Bonjour, J'ai acheté ce  tour/rotation.n.03 ... et pour tout dire, je suis déçu. "
          ],
          [
           " Attention, les chaà®nelettes sont fragiles mais franchement, ce  tour/rotation.n.03 est tellement une tuerie qu'il faut foncer.. "
          ],
          [
           " Voici un effet bien connu des magiciens : à partir d'une bande de papier pliée et deux trombones fixés dessus se retrouvent enclavés en tirant sur les extrémités du pliage J'ai réactualisé cet effet avec la bague d'une spectatrice ou d'un spectateur, de préférence utiliser une alliance, ce qui facilitera la manipulation du  tour/castle.n.03 . ... "
          ],
          [
           " Une pochette très pratique pour laisser la pochette du  tour/rotation.n.03 \" Wow 3 \" à l'examen. "
          ],
          [
           " Ce  tour/rotation.n.03 est extraordinaire, la prise en main est très rapide. "
          ]
         ],
         "hovertemplate": "sense=trick<br>BIC_cluster_sub=2<br>x=%{x}<br>y=%{y}<br>match=%{customdata[0]}<extra></extra>",
         "legendgroup": "trick, 2",
         "marker": {
          "color": "#EF553B",
          "symbol": "circle"
         },
         "mode": "markers",
         "name": "trick, 2",
         "orientation": "v",
         "showlegend": true,
         "x": [
          4.7919292,
          5.0224175,
          1.4543363,
          4.9062943,
          3.649027
         ],
         "xaxis": "x",
         "y": [
          -0.6775455,
          -0.6920801,
          -0.42822152,
          -0.5257415,
          -0.72933906
         ],
         "yaxis": "y",
         "type": "scatter"
        },
        {
         "customdata": [
          [
           " Ce  tour/rotation.n.03 ne vaut pas 45 €... Pour ce prix, on reçoit quelques morceaux de plastique transparents, ... "
          ],
          [
           " tour/magic_trick.n.01 visuel, artistique ou de mentalisme, tout est possible et le public en redemande ! bien aussi pour noel avec la version Pére Noel ... et pourquoi pas pour les mariage maintenant, Seb, à toi de jouer et nous créer çà !.. "
          ],
          [
           " tour/magic_trick.n.01 ultra facile mais faire apparaà®tre un poisson est très visuel pour un public. "
          ],
          [
           " Olivier à conçu bien plus qu'un  tour/rotation.n.03 il vous propose la un matériel de très belle qualité qui va permettre aux créateurs que vous êtes, de laisser libre cours à votre imagination. "
          ],
          [
           " Les explications sont très claires mais il vous faudra beaucoup de travail pour maà®triser le  tour/rotation.n.03 et pouvoir le présenter. "
          ],
          [
           " tour/trick.n.03 sympa mais qui nécessite du temps pour remettre entre chaque spectacle, les feuilles de journaux et en noir et blanc, ce qui devient difficile à trouver. "
          ]
         ],
         "hovertemplate": "sense=trick<br>BIC_cluster_sub=1<br>x=%{x}<br>y=%{y}<br>match=%{customdata[0]}<extra></extra>",
         "legendgroup": "trick, 1",
         "marker": {
          "color": "#EF553B",
          "symbol": "diamond"
         },
         "mode": "markers",
         "name": "trick, 1",
         "orientation": "v",
         "showlegend": true,
         "x": [
          4.760769,
          4.7754745,
          4.5323367,
          4.331688,
          3.955853,
          4.681553
         ],
         "xaxis": "x",
         "y": [
          -0.70775574,
          -0.14664355,
          -0.09448195,
          -0.40417135,
          -0.45007506,
          -0.15467066
         ],
         "yaxis": "y",
         "type": "scatter"
        },
        {
         "customdata": [
          [
           " Faites plusieurs routines pour le faire en close-up et varier les plaisirs ! si vous deviez disposer d'un seul  tour/rotation.n.03 , ce serait assurément celui-là. "
          ],
          [
           " À mon avis le meilleur  tour/rotation.n.03 de Jean Pierre Vallarino. "
          ],
          [
           " Très bon  tour/rotation.n.03 de Dominique Duvivier, demandant tout de même un certain entraà®nement pour la technique et la maà®trise des enchaà®nements. "
          ]
         ],
         "hovertemplate": "sense=trick<br>BIC_cluster_sub=3<br>x=%{x}<br>y=%{y}<br>match=%{customdata[0]}<extra></extra>",
         "legendgroup": "trick, 3",
         "marker": {
          "color": "#EF553B",
          "symbol": "square"
         },
         "mode": "markers",
         "name": "trick, 3",
         "orientation": "v",
         "showlegend": true,
         "x": [
          1.5359963,
          2.4417746,
          2.181842
         ],
         "xaxis": "x",
         "y": [
          -0.7134893,
          -0.9865236,
          -0.5389317
         ],
         "yaxis": "y",
         "type": "scatter"
        },
        {
         "customdata": [
          [
           " Pour rassurer tout le monde, nous avons décidé de faire appel à d'autres laboratoires privés, qui ont démontré à leur  tour/trick.n.03 que ces peurs étaient infondées. "
          ],
          [
           " Le vrai gros plus du jeux est le mode deux joueurs oà¹ là on joue bien évidemment en  tour/tower.n.01 par tour. "
          ],
          [
           " Le vrai gros plus du jeux est le mode deux joueurs oà¹ là on joue bien évidemment en tour par  tour/tower.n.01 . "
          ],
          [
           " Ce réglage est écrasé par - Le paramètre déclaré dans les styles de paragraphes, à son  tour/castle.n.03 écrasé par - Le paramètre déclaré dans les styles de caractères ou par formatage direct. "
          ],
          [
           " Même si on envisageait (ce qui était d'une belle utopie, que j'avais simplement évoqué dans mon site) de réserver le peuplement d'un territoire comme la Cisjordanie par des couples mixtes (un israélien marié à une palestinienne ou un palestinien marié à une israélienne) ceux-ci devraient alors être à leur  tour/tower.n.01 protégés des coups de extrêmistes des deux communautés ! cela paraà®t totalement évident. "
          ],
          [
           " Certains vont se sentir lésés dans leur \"liberté d'expression\" sans doute, mais avec la liberté qu'offre ce site, viennent les abus qui exigent à leur  tour/trick.n.03 une législation. "
          ],
          [
           " Ils sont prioritaires pour se faire vacciner contre le Covid-19, mais préfèrent passer leur  tour/move.n.05 pour l'instant: malgré une épidémie galopante... "
          ],
          [
           " Entretien avec Jorge Luís Martins Contrairement à ce qu'il faisait au début de la crise économique internationale, le Brésil ne considère plus celle-ci comme une simple \"lubie\" passagère et s'efforce, à son  tour/trick.n.03 maintenant, de [Lire....] "
          ],
          [
           " Dans les coulisses, les heureux élus attendent patiemment leur  tour/move.n.05 . "
          ],
          [
           " Friperies, e-shop, brocantes... si vous avez, à votre  tour/trick.n.03 , succombé au charme du vintage et souhaitez refaire votre garde-robe, découvrez toutes les astuces pour dénicher la pièce unique !... "
          ],
          [
           " Le polype devient adulte, pond des oeufs qui à leur  tour/castle.n.03 deviennent larves et vont fonder de nouvelles colonies tandis que leur mère, solidement ANCRà‰E, se développe au point de rejoindre ses voisins : un Rà‰CIF est en train de naà®tre. "
          ],
          [
           " Mais celle-ci a démenti et accusé à son  tour/trick.n.03 les rebelles d'avoir mené ces attaques. "
          ],
          [
           " Les caméristes lui présentent  tour/trip.n.04 à tour des fleurs et des diamants sans qu'elle arrête son choix, et ces différents groupes se répètent gracieusement dans les miroirs. "
          ],
          [
           " Quand Massimo reconduit Gemma à sa place, la danse terminée, le marquis s'approche et invite la jeune fille à son  tour/rotation.n.03 . "
          ],
          [
           " C'est mon  tour/rotation.n.03 , une pente peu inclinée pouyr entrer dans les entrailles du monstre. "
          ],
          [
           " Un peu plus tard, quand Madeleine aura un peu grandi, les cartes s'adresseront à elle, à son  tour/tower.n.01 , autant qu'à sa grande soeur Denise. "
          ],
          [
           " Les matelots aussi, devant ce grand malheur, Se sentent  tour/trip.n.04 à tour vaincus par la douleur. "
          ],
          [
           " Endormis sur le pont, jeunes et vieux marins Ont enfin  tour/lathe.n.01 à tour oublié leurs chagrins. "
          ],
          [
           " 2) J'accepte d'être humilié ou exploité a condition qu'on me permette a mon  tour/trick.n.03 d'humilier ou d'exploiter quelqu'un occupant une place inférieure dans la pyramide sociale. "
          ],
          [
           " Ils dévoilent  tour/rotation.n.03 à tour l'étendue de leur brio. "
          ],
          [
           " Adrien Moerlen déclame ses textes en anglais se fait  tour/trip.n.04 à tour planant, enragé et distant. "
          ],
          [
           " Pendant l'anarchie du Xe siècle, un des évêques la donna à titre de bénéfice à un noble que le chroniqueur qualifie de tyran, lequel, à son  tour/tower.n.01 , en avait doté son fils, évêque d'Autun. "
          ],
          [
           " La fontaine de Saint-Amatre doit aussi venir à son  tour/tower.n.01 au rang des objets intéressants de ce bourg primitif d'Auxerre. "
          ],
          [
           " C'est pourquoi le rédacteur se verra dans l'obligation d'adopter à son  tour/trick.n.03 le langage de l'ennemi : \" Laissez cet éthiopien de merde ! "
          ]
         ],
         "hovertemplate": "sense=turn<br>BIC_cluster_sub=2<br>x=%{x}<br>y=%{y}<br>match=%{customdata[0]}<extra></extra>",
         "legendgroup": "turn, 2",
         "marker": {
          "color": "#00cc96",
          "symbol": "circle"
         },
         "mode": "markers",
         "name": "turn, 2",
         "orientation": "v",
         "showlegend": true,
         "x": [
          0.20234904,
          -2.606506,
          -2.7134027,
          0.27458698,
          -0.10141232,
          0.379076,
          -1.3084599,
          -1.0793437,
          -0.8928116,
          0.09811627,
          -0.8998667,
          -0.36182177,
          -2.4917262,
          -0.0786904,
          2.2657487,
          -0.0035661417,
          -2.4773757,
          -1.9598511,
          -0.56353045,
          -2.6811144,
          -2.7776592,
          0.18202123,
          -0.5783714,
          0.12994519
         ],
         "xaxis": "x",
         "y": [
          2.3373911,
          -0.06505352,
          -0.042321164,
          1.9822485,
          2.339709,
          2.4525995,
          0.5771173,
          2.1823487,
          0.6055177,
          2.1220345,
          2.3114293,
          2.279998,
          0.61461926,
          1.946917,
          0.7677221,
          1.7060665,
          0.8910472,
          0.8170004,
          2.2063262,
          0.42956653,
          0.80549824,
          2.2867448,
          2.0271733,
          2.3261015
         ],
         "yaxis": "y",
         "type": "scatter"
        },
        {
         "customdata": [
          [
           " Par Esther Solano Gallego Le dimanche 29 novembre, s'est déroulé le deuxième  tour/rotation.n.03 des élections municipales au Brésil. "
          ],
          [
           " Par Marcelo Aguilar Le premier  tour/move.n.05 des élections municipales brésiliennes, le 15 novembre 2020 [voir le résumé des résultats en fin d'article], a montré le renforcement des secteurs du centre et [Lire....] "
          ],
          [
           " A l'issue du premier  tour/rotation.n.03 la liste Agir Pour Vaulx-en-Velin a obtenu 1354 voix soit 16.83% du total des suffrages exprimés. "
          ],
          [
           " Ce score suffisant pour se maintenir au second  tour/rotation.n.03 , laissait peu d'espoir d'emporter l'élection. "
          ],
          [
           " Sur la base de ce projet partagé, nous avons alors fait liste commune pour le second  tour/rotation.n.03 en intégrant, à la liste finale, neuf personnes de notre équipe. "
          ],
          [
           " La campagne pour la présidentielle accroît fortement l'audience du PS, qui reçoit alors les adhésions d'une partie du PSU avec Michel Rocard et de personnalités proches du gaullisme (Jacques Delors, Edgar Pisani), mais F. Mitterrand, en tête au premier  tour/rotation.n.03 , est battu au second malgré l'obtention de 49,19 % des voix, par Valéry Giscard d'Estaing. "
          ],
          [
           " Celui-ci crée la surprise en arrivant en tête au premier  tour/rotation.n.03 ; il est battu au second tour par Jacques Chirac (qui succède à F. Mitterrand à la présidence de la République) mais son très bon score (47,36 % des voix) lui confère une forte légitimité au sein du parti socialiste, dont il ne tarde pas à redevenir le premier secrétaire (élu à l'issue du vote direct et secret des militants lors de la Convention nationale du 14 octobre 1995) et qu'il remobilise en vue de la préparation de l'alternance. "
          ],
          [
           " Mais le décalage croissant entre l'opinion publique et les partis classiques, de gauche comme de droite, et une campagne en définitive mal menée lui infligent une très sévère défaite au premier  tour/move.n.05 de l'élection présidentielle de 2002 : avec 16,18 % des voix, L. Jospin arrive en troisième position, derrière J. Chirac et Jean-Marie Le Pen. "
          ],
          [
           " Annonçant aussitôt son intention de se retirer de la vie politique, le candidat malheureux laisse au premier secrétaire le soin de mener le combat du second  tour/move.n.05 et des législatives. "
          ],
          [
           " Au premier  tour/move.n.05 des élections législatives (9 juin), le parti socialiste se maintient avec 23,78 % des suffrages à son niveau de 1997 (25,71 %) et parvient à conserver 140 députés à l'Assemblée. "
          ],
          [
           " Mais si cette dernière se qualifie pour le second  tour/rotation.n.03 en remportant 25,87 % des voix, elle s'incline le 6 mai 2007 face à Nicolas Sarkozy avec 46,94 % des suffrages. "
          ],
          [
           " Le Front national éliminé au premier  tour/rotation.n.03 des élections territoriales corses, voilà qui pourrait relever de l'anecdote. "
          ],
          [
           " Le premier  tour/rotation.n.03 , une trentaine de voix se sont portées sur Joseph Ratzinger, un peu moins sur le cardinal Martini, ancien archevêque de Milan, jésuite et brillant bibliste. "
          ],
          [
           " Ce dernier, qui a sans doute accepté de servir de repère au premier  tour/rotation.n.03 , fait savoir que, malade, il n'accepterait pas d'être élu. "
          ]
         ],
         "hovertemplate": "sense=round<br>BIC_cluster_sub=3<br>x=%{x}<br>y=%{y}<br>match=%{customdata[0]}<extra></extra>",
         "legendgroup": "round, 3",
         "marker": {
          "color": "#ab63fa",
          "symbol": "square"
         },
         "mode": "markers",
         "name": "round, 3",
         "orientation": "v",
         "showlegend": true,
         "x": [
          -1.3887602,
          -1.2650927,
          -2.0066924,
          -1.4978497,
          -0.8364947,
          -2.718325,
          -2.884177,
          -2.9512482,
          -2.554805,
          -2.7935455,
          -1.6631029,
          -2.2250881,
          0.19428965,
          -0.67001164
         ],
         "xaxis": "x",
         "y": [
          -1.5207635,
          -1.4564646,
          -1.3173263,
          -1.5461304,
          -1.5650353,
          -1.5396,
          -1.4902506,
          -1.5176355,
          -1.6378785,
          -1.5776517,
          -1.5708436,
          -1.5846982,
          -1.4628398,
          -1.628252
         ],
         "yaxis": "y",
         "type": "scatter"
        },
        {
         "customdata": [
          [
           " On a voulu voir dans cette sorte de parallélogramme qui longe au nord les rues d'Orbandelle et du 4 septembre, et au sud des Boucheries et la rue Sous-Murs, qui borde à l'est la rivière d'Yonne et à l'ouest le palais, la  tour/tower.n.01 de l'horloge et la rue des Cordeliers, on a voulu voir là une forteresse élevée par César, vainqueur des Gaulois de Vellaunodunum, pour les tenir en respect ; d'autres ont écrit que c'était le quartier oà¹ se retirèrent les premiers chrétiens au IIIe siècle. "
          ],
          [
           " Le reste de la  tour/tower.n.01 d'Orbandelle a été démoli au début du XIXe siècle. "
          ],
          [
           " On trouve encore à la  tour/tower.n.01 Saint-Pancrace ce système de construction. "
          ],
          [
           " Il me semble même que sur la version originale , Jan Utzon précise que le soit disant \"pilon\" , partant de vitesse nulle ne pouvait pas écraser l'intégrité de la  tour/tower.n.01 jusqu'au fondation . "
          ],
          [
           " La vallée blanche et le glacier du Géant, les Grandes Jorasses et les arêtes de Rochefort, à droite, la  tour/tower.n.01 Ronde, derrière l'aiguille verte, les Drus les Droites et les Courtes, grandiose. "
          ],
          [
           " C'est dans les cafés le soir que Sophie, une jeune cubaine vient draguer les mecs, surtout dans les pubs branchés sur Paris et autour de la  tour/tower.n.01 Eiffel ! "
          ]
         ],
         "hovertemplate": "sense=tower<br>BIC_cluster_sub=2<br>x=%{x}<br>y=%{y}<br>match=%{customdata[0]}<extra></extra>",
         "legendgroup": "tower, 2",
         "marker": {
          "color": "#FFA15A",
          "symbol": "circle"
         },
         "mode": "markers",
         "name": "tower, 2",
         "orientation": "v",
         "showlegend": true,
         "x": [
          -1.5780582,
          1.7108501,
          2.867198,
          2.800247,
          1.0382504,
          -2.0146086
         ],
         "xaxis": "x",
         "y": [
          -0.43410406,
          -0.5324885,
          -0.37643036,
          -0.5643276,
          -0.49619514,
          -0.50919247
         ],
         "yaxis": "y",
         "type": "scatter"
        }
       ],
       "layout": {
        "template": {
         "data": {
          "barpolar": [
           {
            "marker": {
             "line": {
              "color": "white",
              "width": 0.5
             },
             "pattern": {
              "fillmode": "overlay",
              "size": 10,
              "solidity": 0.2
             }
            },
            "type": "barpolar"
           }
          ],
          "bar": [
           {
            "error_x": {
             "color": "#2a3f5f"
            },
            "error_y": {
             "color": "#2a3f5f"
            },
            "marker": {
             "line": {
              "color": "white",
              "width": 0.5
             },
             "pattern": {
              "fillmode": "overlay",
              "size": 10,
              "solidity": 0.2
             }
            },
            "type": "bar"
           }
          ],
          "carpet": [
           {
            "aaxis": {
             "endlinecolor": "#2a3f5f",
             "gridcolor": "#C8D4E3",
             "linecolor": "#C8D4E3",
             "minorgridcolor": "#C8D4E3",
             "startlinecolor": "#2a3f5f"
            },
            "baxis": {
             "endlinecolor": "#2a3f5f",
             "gridcolor": "#C8D4E3",
             "linecolor": "#C8D4E3",
             "minorgridcolor": "#C8D4E3",
             "startlinecolor": "#2a3f5f"
            },
            "type": "carpet"
           }
          ],
          "choropleth": [
           {
            "colorbar": {
             "outlinewidth": 0,
             "ticks": ""
            },
            "type": "choropleth"
           }
          ],
          "contourcarpet": [
           {
            "colorbar": {
             "outlinewidth": 0,
             "ticks": ""
            },
            "type": "contourcarpet"
           }
          ],
          "contour": [
           {
            "colorbar": {
             "outlinewidth": 0,
             "ticks": ""
            },
            "colorscale": [
             [
              0.0,
              "#0d0887"
             ],
             [
              0.1111111111111111,
              "#46039f"
             ],
             [
              0.2222222222222222,
              "#7201a8"
             ],
             [
              0.3333333333333333,
              "#9c179e"
             ],
             [
              0.4444444444444444,
              "#bd3786"
             ],
             [
              0.5555555555555556,
              "#d8576b"
             ],
             [
              0.6666666666666666,
              "#ed7953"
             ],
             [
              0.7777777777777778,
              "#fb9f3a"
             ],
             [
              0.8888888888888888,
              "#fdca26"
             ],
             [
              1.0,
              "#f0f921"
             ]
            ],
            "type": "contour"
           }
          ],
          "heatmapgl": [
           {
            "colorbar": {
             "outlinewidth": 0,
             "ticks": ""
            },
            "colorscale": [
             [
              0.0,
              "#0d0887"
             ],
             [
              0.1111111111111111,
              "#46039f"
             ],
             [
              0.2222222222222222,
              "#7201a8"
             ],
             [
              0.3333333333333333,
              "#9c179e"
             ],
             [
              0.4444444444444444,
              "#bd3786"
             ],
             [
              0.5555555555555556,
              "#d8576b"
             ],
             [
              0.6666666666666666,
              "#ed7953"
             ],
             [
              0.7777777777777778,
              "#fb9f3a"
             ],
             [
              0.8888888888888888,
              "#fdca26"
             ],
             [
              1.0,
              "#f0f921"
             ]
            ],
            "type": "heatmapgl"
           }
          ],
          "heatmap": [
           {
            "colorbar": {
             "outlinewidth": 0,
             "ticks": ""
            },
            "colorscale": [
             [
              0.0,
              "#0d0887"
             ],
             [
              0.1111111111111111,
              "#46039f"
             ],
             [
              0.2222222222222222,
              "#7201a8"
             ],
             [
              0.3333333333333333,
              "#9c179e"
             ],
             [
              0.4444444444444444,
              "#bd3786"
             ],
             [
              0.5555555555555556,
              "#d8576b"
             ],
             [
              0.6666666666666666,
              "#ed7953"
             ],
             [
              0.7777777777777778,
              "#fb9f3a"
             ],
             [
              0.8888888888888888,
              "#fdca26"
             ],
             [
              1.0,
              "#f0f921"
             ]
            ],
            "type": "heatmap"
           }
          ],
          "histogram2dcontour": [
           {
            "colorbar": {
             "outlinewidth": 0,
             "ticks": ""
            },
            "colorscale": [
             [
              0.0,
              "#0d0887"
             ],
             [
              0.1111111111111111,
              "#46039f"
             ],
             [
              0.2222222222222222,
              "#7201a8"
             ],
             [
              0.3333333333333333,
              "#9c179e"
             ],
             [
              0.4444444444444444,
              "#bd3786"
             ],
             [
              0.5555555555555556,
              "#d8576b"
             ],
             [
              0.6666666666666666,
              "#ed7953"
             ],
             [
              0.7777777777777778,
              "#fb9f3a"
             ],
             [
              0.8888888888888888,
              "#fdca26"
             ],
             [
              1.0,
              "#f0f921"
             ]
            ],
            "type": "histogram2dcontour"
           }
          ],
          "histogram2d": [
           {
            "colorbar": {
             "outlinewidth": 0,
             "ticks": ""
            },
            "colorscale": [
             [
              0.0,
              "#0d0887"
             ],
             [
              0.1111111111111111,
              "#46039f"
             ],
             [
              0.2222222222222222,
              "#7201a8"
             ],
             [
              0.3333333333333333,
              "#9c179e"
             ],
             [
              0.4444444444444444,
              "#bd3786"
             ],
             [
              0.5555555555555556,
              "#d8576b"
             ],
             [
              0.6666666666666666,
              "#ed7953"
             ],
             [
              0.7777777777777778,
              "#fb9f3a"
             ],
             [
              0.8888888888888888,
              "#fdca26"
             ],
             [
              1.0,
              "#f0f921"
             ]
            ],
            "type": "histogram2d"
           }
          ],
          "histogram": [
           {
            "marker": {
             "pattern": {
              "fillmode": "overlay",
              "size": 10,
              "solidity": 0.2
             }
            },
            "type": "histogram"
           }
          ],
          "mesh3d": [
           {
            "colorbar": {
             "outlinewidth": 0,
             "ticks": ""
            },
            "type": "mesh3d"
           }
          ],
          "parcoords": [
           {
            "line": {
             "colorbar": {
              "outlinewidth": 0,
              "ticks": ""
             }
            },
            "type": "parcoords"
           }
          ],
          "pie": [
           {
            "automargin": true,
            "type": "pie"
           }
          ],
          "scatter3d": [
           {
            "line": {
             "colorbar": {
              "outlinewidth": 0,
              "ticks": ""
             }
            },
            "marker": {
             "colorbar": {
              "outlinewidth": 0,
              "ticks": ""
             }
            },
            "type": "scatter3d"
           }
          ],
          "scattercarpet": [
           {
            "marker": {
             "colorbar": {
              "outlinewidth": 0,
              "ticks": ""
             }
            },
            "type": "scattercarpet"
           }
          ],
          "scattergeo": [
           {
            "marker": {
             "colorbar": {
              "outlinewidth": 0,
              "ticks": ""
             }
            },
            "type": "scattergeo"
           }
          ],
          "scattergl": [
           {
            "marker": {
             "colorbar": {
              "outlinewidth": 0,
              "ticks": ""
             }
            },
            "type": "scattergl"
           }
          ],
          "scattermapbox": [
           {
            "marker": {
             "colorbar": {
              "outlinewidth": 0,
              "ticks": ""
             }
            },
            "type": "scattermapbox"
           }
          ],
          "scatterpolargl": [
           {
            "marker": {
             "colorbar": {
              "outlinewidth": 0,
              "ticks": ""
             }
            },
            "type": "scatterpolargl"
           }
          ],
          "scatterpolar": [
           {
            "marker": {
             "colorbar": {
              "outlinewidth": 0,
              "ticks": ""
             }
            },
            "type": "scatterpolar"
           }
          ],
          "scatter": [
           {
            "fillpattern": {
             "fillmode": "overlay",
             "size": 10,
             "solidity": 0.2
            },
            "type": "scatter"
           }
          ],
          "scatterternary": [
           {
            "marker": {
             "colorbar": {
              "outlinewidth": 0,
              "ticks": ""
             }
            },
            "type": "scatterternary"
           }
          ],
          "surface": [
           {
            "colorbar": {
             "outlinewidth": 0,
             "ticks": ""
            },
            "colorscale": [
             [
              0.0,
              "#0d0887"
             ],
             [
              0.1111111111111111,
              "#46039f"
             ],
             [
              0.2222222222222222,
              "#7201a8"
             ],
             [
              0.3333333333333333,
              "#9c179e"
             ],
             [
              0.4444444444444444,
              "#bd3786"
             ],
             [
              0.5555555555555556,
              "#d8576b"
             ],
             [
              0.6666666666666666,
              "#ed7953"
             ],
             [
              0.7777777777777778,
              "#fb9f3a"
             ],
             [
              0.8888888888888888,
              "#fdca26"
             ],
             [
              1.0,
              "#f0f921"
             ]
            ],
            "type": "surface"
           }
          ],
          "table": [
           {
            "cells": {
             "fill": {
              "color": "#EBF0F8"
             },
             "line": {
              "color": "white"
             }
            },
            "header": {
             "fill": {
              "color": "#C8D4E3"
             },
             "line": {
              "color": "white"
             }
            },
            "type": "table"
           }
          ]
         },
         "layout": {
          "annotationdefaults": {
           "arrowcolor": "#2a3f5f",
           "arrowhead": 0,
           "arrowwidth": 1
          },
          "autotypenumbers": "strict",
          "coloraxis": {
           "colorbar": {
            "outlinewidth": 0,
            "ticks": ""
           }
          },
          "colorscale": {
           "diverging": [
            [
             0,
             "#8e0152"
            ],
            [
             0.1,
             "#c51b7d"
            ],
            [
             0.2,
             "#de77ae"
            ],
            [
             0.3,
             "#f1b6da"
            ],
            [
             0.4,
             "#fde0ef"
            ],
            [
             0.5,
             "#f7f7f7"
            ],
            [
             0.6,
             "#e6f5d0"
            ],
            [
             0.7,
             "#b8e186"
            ],
            [
             0.8,
             "#7fbc41"
            ],
            [
             0.9,
             "#4d9221"
            ],
            [
             1,
             "#276419"
            ]
           ],
           "sequential": [
            [
             0.0,
             "#0d0887"
            ],
            [
             0.1111111111111111,
             "#46039f"
            ],
            [
             0.2222222222222222,
             "#7201a8"
            ],
            [
             0.3333333333333333,
             "#9c179e"
            ],
            [
             0.4444444444444444,
             "#bd3786"
            ],
            [
             0.5555555555555556,
             "#d8576b"
            ],
            [
             0.6666666666666666,
             "#ed7953"
            ],
            [
             0.7777777777777778,
             "#fb9f3a"
            ],
            [
             0.8888888888888888,
             "#fdca26"
            ],
            [
             1.0,
             "#f0f921"
            ]
           ],
           "sequentialminus": [
            [
             0.0,
             "#0d0887"
            ],
            [
             0.1111111111111111,
             "#46039f"
            ],
            [
             0.2222222222222222,
             "#7201a8"
            ],
            [
             0.3333333333333333,
             "#9c179e"
            ],
            [
             0.4444444444444444,
             "#bd3786"
            ],
            [
             0.5555555555555556,
             "#d8576b"
            ],
            [
             0.6666666666666666,
             "#ed7953"
            ],
            [
             0.7777777777777778,
             "#fb9f3a"
            ],
            [
             0.8888888888888888,
             "#fdca26"
            ],
            [
             1.0,
             "#f0f921"
            ]
           ]
          },
          "colorway": [
           "#636efa",
           "#EF553B",
           "#00cc96",
           "#ab63fa",
           "#FFA15A",
           "#19d3f3",
           "#FF6692",
           "#B6E880",
           "#FF97FF",
           "#FECB52"
          ],
          "font": {
           "color": "#2a3f5f"
          },
          "geo": {
           "bgcolor": "white",
           "lakecolor": "white",
           "landcolor": "white",
           "showlakes": true,
           "showland": true,
           "subunitcolor": "#C8D4E3"
          },
          "hoverlabel": {
           "align": "left"
          },
          "hovermode": "closest",
          "mapbox": {
           "style": "light"
          },
          "paper_bgcolor": "white",
          "plot_bgcolor": "white",
          "polar": {
           "angularaxis": {
            "gridcolor": "#EBF0F8",
            "linecolor": "#EBF0F8",
            "ticks": ""
           },
           "bgcolor": "white",
           "radialaxis": {
            "gridcolor": "#EBF0F8",
            "linecolor": "#EBF0F8",
            "ticks": ""
           }
          },
          "scene": {
           "xaxis": {
            "backgroundcolor": "white",
            "gridcolor": "#DFE8F3",
            "gridwidth": 2,
            "linecolor": "#EBF0F8",
            "showbackground": true,
            "ticks": "",
            "zerolinecolor": "#EBF0F8"
           },
           "yaxis": {
            "backgroundcolor": "white",
            "gridcolor": "#DFE8F3",
            "gridwidth": 2,
            "linecolor": "#EBF0F8",
            "showbackground": true,
            "ticks": "",
            "zerolinecolor": "#EBF0F8"
           },
           "zaxis": {
            "backgroundcolor": "white",
            "gridcolor": "#DFE8F3",
            "gridwidth": 2,
            "linecolor": "#EBF0F8",
            "showbackground": true,
            "ticks": "",
            "zerolinecolor": "#EBF0F8"
           }
          },
          "shapedefaults": {
           "line": {
            "color": "#2a3f5f"
           }
          },
          "ternary": {
           "aaxis": {
            "gridcolor": "#DFE8F3",
            "linecolor": "#A2B1C6",
            "ticks": ""
           },
           "baxis": {
            "gridcolor": "#DFE8F3",
            "linecolor": "#A2B1C6",
            "ticks": ""
           },
           "bgcolor": "white",
           "caxis": {
            "gridcolor": "#DFE8F3",
            "linecolor": "#A2B1C6",
            "ticks": ""
           }
          },
          "title": {
           "x": 0.05
          },
          "xaxis": {
           "automargin": true,
           "gridcolor": "#EBF0F8",
           "linecolor": "#EBF0F8",
           "ticks": "",
           "title": {
            "standoff": 15
           },
           "zerolinecolor": "#EBF0F8",
           "zerolinewidth": 2
          },
          "yaxis": {
           "automargin": true,
           "gridcolor": "#EBF0F8",
           "linecolor": "#EBF0F8",
           "ticks": "",
           "title": {
            "standoff": 15
           },
           "zerolinecolor": "#EBF0F8",
           "zerolinewidth": 2
          }
         }
        },
        "xaxis": {
         "anchor": "y",
         "domain": [
          0.0,
          1.0
         ],
         "title": {
          "text": "x"
         }
        },
        "yaxis": {
         "anchor": "x",
         "domain": [
          0.0,
          1.0
         ],
         "title": {
          "text": "y"
         }
        },
        "legend": {
         "title": {
          "text": "sense, BIC_cluster_sub"
         },
         "tracegroupgap": 0
        },
        "margin": {
         "t": 60
        },
        "title": {
         "text": "Clusters Bureau<br><sub>Calculated with Lexical substitution following Zhou 2019</sub>",
         "y": 0.9,
         "x": 0.5,
         "xanchor": "center",
         "yanchor": "top"
        }
       },
       "config": {
        "plotlyServerURL": "https://plot.ly"
       }
      },
      "text/html": "<div>                            <div id=\"712226a9-a1d4-44ad-bdf7-4bd9c1ea6c66\" class=\"plotly-graph-div\" style=\"height:525px; width:100%;\"></div>            <script type=\"text/javascript\">                require([\"plotly\"], function(Plotly) {                    window.PLOTLYENV=window.PLOTLYENV || {};                                    if (document.getElementById(\"712226a9-a1d4-44ad-bdf7-4bd9c1ea6c66\")) {                    Plotly.newPlot(                        \"712226a9-a1d4-44ad-bdf7-4bd9c1ea6c66\",                        [{\"customdata\":[[\" J'ai refais plusieurs fois le  tour\\u002frotation.n.03 du magasin en vain et j'\\u00e9tais, ma foi, tr\\u00e8\\u00e8\\u00e8\\u00e8s triste (T___T)! \"],[\" Quant au cycliste, il peine, le malheureux, \\u00e0 admettre que la chasse soit une activit\\u00e9 de premi\\u00e8re n\\u00e9cessit\\u00e9, mais que le fait d'aller faire un  tour\\u002frotation.n.03 en v\\u00e9lo puisse \\u00eatre facteur de propagation d'un virus. \"],[\" La visite libre vous permet de faire le  tour\\u002frotation.n.03 de la sc\\u00e9nographie d'\\u00e9nerlya en toute libert\\u00e9. \"],[\" Et tellement de DRMs qu'on n'en fait pas le  tour\\u002frotation.n.03 , alors toute musique \\u00e9chang\\u00e9e par le superbe syst\\u00e8me sans fil ne sera \\u00e9coutable que 3 fois. \"],[\" * Visite d'une Porsche 924 (\\u00e0 restaurer) * Petit  tour\\u002frotation.n.03 \\u00e0 la cath\\u00e9drale de Reims et sur l'ancien circuit de Gueux (Reims) en 911 Turbo 3.6 * Rencontre avec la 964 Carrera 4 d'Herv\\u00e9 * Mus\\u00e9e de l'automobile \\u00e0 Reims * La nouvelle 996 GT2 comme vous ne l'avez jamais vue (en pr\\u00e9sence d'une 996 bi-turbo en plus !) \"],[\" Parti du Croisic, en Bretagne, 2 ANS plus t\\u00f4t, il effectue le  tour\\u002frotation.n.03 du monde en solitaire, sur son robuste cotre de 10 m\\u00e8tres, Kurun. \"],[\" Ainsi, lorsque le cotre s'\\u00e9loigne de son cap, l'\\u00e9coute se tend et tire sur la barre, ramenant le voilier dans le droit chemin. \\\"Cocagne ! s'\\u00e9crie Le Toumelin, je peux dormir tranquille.\\\" Gr\\u00e0\\u00a2ce \\u00e0 ce pilote AUTOMATIQUE improvis\\u00e9, le cotre ach\\u00e8ve le  tour\\u002frotation.n.03 du monde, et re\\u00e7oit un accueil triomphal au Croisic, le 7 juillet 1952, apr\\u00e8s une magnifique navigation de 3 ans. \"],[\" La distance parcourue lors de ses voyages apostoliques \\u00e9quivaut \\u00e0 28,3 fois le  tour\\u002frotation.n.03 de la terre, presque 3 fois la distance de la Terre \\u00e0 la Lune. \"],[\" j'esp\\u00e8re que ce petit  tour\\u002frotation.n.03 vous a plu, bien sur il reste beaucoup \\u00e0 voir dans cette partie de Lyon et j'y travaille mais pour l'instant je vous propose de passer dans le deuxi\\u00e8me arrondissement avec la place Bellecour, sa statue de Louis XIV et ses jets d'eau: \"],[\" Vous vous souvenez de la pub (en 2000, je crois) qui avait fait le  tour\\u002frotation.n.03 du monde, Wassup ? \"]],\"hovertemplate\":\"sense=lap\\u003cbr\\u003eBIC_cluster_sub=2\\u003cbr\\u003ex=%{x}\\u003cbr\\u003ey=%{y}\\u003cbr\\u003ematch=%{customdata[0]}\\u003cextra\\u003e\\u003c\\u002fextra\\u003e\",\"legendgroup\":\"lap, 2\",\"marker\":{\"color\":\"#636efa\",\"symbol\":\"circle\"},\"mode\":\"markers\",\"name\":\"lap, 2\",\"orientation\":\"v\",\"showlegend\":true,\"x\":[-1.0689647,-1.0853944,-1.1664963,-0.59841734,-0.30854696,-0.56486607,-1.0710258,-1.0365218,0.8461783,-0.35770798],\"xaxis\":\"x\",\"y\":[-0.1620316,-0.44722095,-0.21525429,-0.049225673,-0.2714689,-0.63736916,-0.51478195,-0.30799925,-0.3763268,-0.15444447],\"yaxis\":\"y\",\"type\":\"scatter\"},{\"customdata\":[[\" Masuda \\u00e0 r\\u00e9ussi un vrai  tour\\u002ftrick.n.03 de force.... Celui de bluffer vos spectateurs avec seulement deux cartes ! \"],[\" Plus qu'un livre, c'est un v\\u00e9ritable  tour\\u002ftrick.n.03 de force. \\\" The Guardian Fr\\u00e9d\\u00e9ric Font\\u00e8s \"],[\" Dans l'huile chaude, verser la p\\u00e0\\u00a2te, au travers d'un entonnoir, en observant le  tour\\u002frotation.n.03 de main suivant: \"],[\" Les ench\\u00e8res commen\\u00e7aient \\u00e0 70 millions par bloc, s'il y a plus de 11 demandes pour les 11 blocs, le prix du bloc augmente de 5 millions et un nouveau  tour\\u002frotation.n.03 de table est fait. \"],[\" Aujourd'hui, le Pr\\u00e9sident de la CASA et Maire d'Antibes Jean Leonetti a fait un  tour\\u002frotation.n.03 de man\\u00e8ge dans le fameux bus-tram que j'appelle le gros bus \\u00e0 quelques espaces d\\u00e9di\\u00e9s. \"],[\" Le principal  tour\\u002ftrick.n.03 de force du film r\\u00e9side en sa capacit\\u00e9 \\u00e0 f\\u00e9d\\u00e9rer un public \\u00e0 la fois accroc' et hostile \\u00e0 l'univers des Super-h\\u00e9ros de Comics, parce que tout est rendu l\\u00e9ger, et volontairement risible. \"]],\"hovertemplate\":\"sense=lap\\u003cbr\\u003eBIC_cluster_sub=3\\u003cbr\\u003ex=%{x}\\u003cbr\\u003ey=%{y}\\u003cbr\\u003ematch=%{customdata[0]}\\u003cextra\\u003e\\u003c\\u002fextra\\u003e\",\"legendgroup\":\"lap, 3\",\"marker\":{\"color\":\"#636efa\",\"symbol\":\"square\"},\"mode\":\"markers\",\"name\":\"lap, 3\",\"orientation\":\"v\",\"showlegend\":true,\"x\":[-1.8809203,-1.3787202,0.29477465,-0.044365566,-0.8672205,-2.2524142],\"xaxis\":\"x\",\"y\":[-0.1884831,-0.21108337,-0.14171495,-0.35175994,-0.2991453,-0.0017190829],\"yaxis\":\"y\",\"type\":\"scatter\"},{\"customdata\":[[\" Bonjour, J'ai achet\\u00e9 ce  tour\\u002frotation.n.03 ... et pour tout dire, je suis d\\u00e9\\u00e7u. \"],[\" Attention, les cha\\u00e0\\u00aenelettes sont fragiles mais franchement, ce  tour\\u002frotation.n.03 est tellement une tuerie qu'il faut foncer.. \"],[\" Voici un effet bien connu des magiciens : \\u00e0 partir d'une bande de papier pli\\u00e9e et deux trombones fix\\u00e9s dessus se retrouvent enclav\\u00e9s en tirant sur les extr\\u00e9mit\\u00e9s du pliage J'ai r\\u00e9actualis\\u00e9 cet effet avec la bague d'une spectatrice ou d'un spectateur, de pr\\u00e9f\\u00e9rence utiliser une alliance, ce qui facilitera la manipulation du  tour\\u002fcastle.n.03 . ... \"],[\" Une pochette tr\\u00e8s pratique pour laisser la pochette du  tour\\u002frotation.n.03 \\\" Wow 3 \\\" \\u00e0 l'examen. \"],[\" Ce  tour\\u002frotation.n.03 est extraordinaire, la prise en main est tr\\u00e8s rapide. \"]],\"hovertemplate\":\"sense=trick\\u003cbr\\u003eBIC_cluster_sub=2\\u003cbr\\u003ex=%{x}\\u003cbr\\u003ey=%{y}\\u003cbr\\u003ematch=%{customdata[0]}\\u003cextra\\u003e\\u003c\\u002fextra\\u003e\",\"legendgroup\":\"trick, 2\",\"marker\":{\"color\":\"#EF553B\",\"symbol\":\"circle\"},\"mode\":\"markers\",\"name\":\"trick, 2\",\"orientation\":\"v\",\"showlegend\":true,\"x\":[4.7919292,5.0224175,1.4543363,4.9062943,3.649027],\"xaxis\":\"x\",\"y\":[-0.6775455,-0.6920801,-0.42822152,-0.5257415,-0.72933906],\"yaxis\":\"y\",\"type\":\"scatter\"},{\"customdata\":[[\" Ce  tour\\u002frotation.n.03 ne vaut pas 45 \\u20ac... Pour ce prix, on re\\u00e7oit quelques morceaux de plastique transparents, ... \"],[\" tour\\u002fmagic_trick.n.01 visuel, artistique ou de mentalisme, tout est possible et le public en redemande ! bien aussi pour noel avec la version P\\u00e9re Noel ... et pourquoi pas pour les mariage maintenant, Seb, \\u00e0 toi de jouer et nous cr\\u00e9er \\u00e7\\u00e0 !.. \"],[\" tour\\u002fmagic_trick.n.01 ultra facile mais faire appara\\u00e0\\u00aetre un poisson est tr\\u00e8s visuel pour un public. \"],[\" Olivier \\u00e0 con\\u00e7u bien plus qu'un  tour\\u002frotation.n.03 il vous propose la un mat\\u00e9riel de tr\\u00e8s belle qualit\\u00e9 qui va permettre aux cr\\u00e9ateurs que vous \\u00eates, de laisser libre cours \\u00e0 votre imagination. \"],[\" Les explications sont tr\\u00e8s claires mais il vous faudra beaucoup de travail pour ma\\u00e0\\u00aetriser le  tour\\u002frotation.n.03 et pouvoir le pr\\u00e9senter. \"],[\" tour\\u002ftrick.n.03 sympa mais qui n\\u00e9cessite du temps pour remettre entre chaque spectacle, les feuilles de journaux et en noir et blanc, ce qui devient difficile \\u00e0 trouver. \"]],\"hovertemplate\":\"sense=trick\\u003cbr\\u003eBIC_cluster_sub=1\\u003cbr\\u003ex=%{x}\\u003cbr\\u003ey=%{y}\\u003cbr\\u003ematch=%{customdata[0]}\\u003cextra\\u003e\\u003c\\u002fextra\\u003e\",\"legendgroup\":\"trick, 1\",\"marker\":{\"color\":\"#EF553B\",\"symbol\":\"diamond\"},\"mode\":\"markers\",\"name\":\"trick, 1\",\"orientation\":\"v\",\"showlegend\":true,\"x\":[4.760769,4.7754745,4.5323367,4.331688,3.955853,4.681553],\"xaxis\":\"x\",\"y\":[-0.70775574,-0.14664355,-0.09448195,-0.40417135,-0.45007506,-0.15467066],\"yaxis\":\"y\",\"type\":\"scatter\"},{\"customdata\":[[\" Faites plusieurs routines pour le faire en close-up et varier les plaisirs ! si vous deviez disposer d'un seul  tour\\u002frotation.n.03 , ce serait assur\\u00e9ment celui-l\\u00e0. \"],[\" \\u00c0 mon avis le meilleur  tour\\u002frotation.n.03 de Jean Pierre Vallarino. \"],[\" Tr\\u00e8s bon  tour\\u002frotation.n.03 de Dominique Duvivier, demandant tout de m\\u00eame un certain entra\\u00e0\\u00aenement pour la technique et la ma\\u00e0\\u00aetrise des encha\\u00e0\\u00aenements. \"]],\"hovertemplate\":\"sense=trick\\u003cbr\\u003eBIC_cluster_sub=3\\u003cbr\\u003ex=%{x}\\u003cbr\\u003ey=%{y}\\u003cbr\\u003ematch=%{customdata[0]}\\u003cextra\\u003e\\u003c\\u002fextra\\u003e\",\"legendgroup\":\"trick, 3\",\"marker\":{\"color\":\"#EF553B\",\"symbol\":\"square\"},\"mode\":\"markers\",\"name\":\"trick, 3\",\"orientation\":\"v\",\"showlegend\":true,\"x\":[1.5359963,2.4417746,2.181842],\"xaxis\":\"x\",\"y\":[-0.7134893,-0.9865236,-0.5389317],\"yaxis\":\"y\",\"type\":\"scatter\"},{\"customdata\":[[\" Pour rassurer tout le monde, nous avons d\\u00e9cid\\u00e9 de faire appel \\u00e0 d'autres laboratoires priv\\u00e9s, qui ont d\\u00e9montr\\u00e9 \\u00e0 leur  tour\\u002ftrick.n.03 que ces peurs \\u00e9taient infond\\u00e9es. \"],[\" Le vrai gros plus du jeux est le mode deux joueurs o\\u00e0\\u00b9 l\\u00e0 on joue bien \\u00e9videmment en  tour\\u002ftower.n.01 par tour. \"],[\" Le vrai gros plus du jeux est le mode deux joueurs o\\u00e0\\u00b9 l\\u00e0 on joue bien \\u00e9videmment en tour par  tour\\u002ftower.n.01 . \"],[\" Ce r\\u00e9glage est \\u00e9cras\\u00e9 par - Le param\\u00e8tre d\\u00e9clar\\u00e9 dans les styles de paragraphes, \\u00e0 son  tour\\u002fcastle.n.03 \\u00e9cras\\u00e9 par - Le param\\u00e8tre d\\u00e9clar\\u00e9 dans les styles de caract\\u00e8res ou par formatage direct. \"],[\" M\\u00eame si on envisageait (ce qui \\u00e9tait d'une belle utopie, que j'avais simplement \\u00e9voqu\\u00e9 dans mon site) de r\\u00e9server le peuplement d'un territoire comme la Cisjordanie par des couples mixtes (un isra\\u00e9lien mari\\u00e9 \\u00e0 une palestinienne ou un palestinien mari\\u00e9 \\u00e0 une isra\\u00e9lienne) ceux-ci devraient alors \\u00eatre \\u00e0 leur  tour\\u002ftower.n.01 prot\\u00e9g\\u00e9s des coups de extr\\u00eamistes des deux communaut\\u00e9s ! cela para\\u00e0\\u00aet totalement \\u00e9vident. \"],[\" Certains vont se sentir l\\u00e9s\\u00e9s dans leur \\\"libert\\u00e9 d'expression\\\" sans doute, mais avec la libert\\u00e9 qu'offre ce site, viennent les abus qui exigent \\u00e0 leur  tour\\u002ftrick.n.03 une l\\u00e9gislation. \"],[\" Ils sont prioritaires pour se faire vacciner contre le Covid-19, mais pr\\u00e9f\\u00e8rent passer leur  tour\\u002fmove.n.05 pour l'instant: malgr\\u00e9 une \\u00e9pid\\u00e9mie galopante... \"],[\" Entretien avec Jorge Lu\\u00eds Martins Contrairement \\u00e0 ce qu'il faisait au d\\u00e9but de la crise \\u00e9conomique internationale, le Br\\u00e9sil ne consid\\u00e8re plus celle-ci comme une simple \\\"lubie\\\" passag\\u00e8re et s'efforce, \\u00e0 son  tour\\u002ftrick.n.03 maintenant, de [Lire....] \"],[\" Dans les coulisses, les heureux \\u00e9lus attendent patiemment leur  tour\\u002fmove.n.05 . \"],[\" Friperies, e-shop, brocantes... si vous avez, \\u00e0 votre  tour\\u002ftrick.n.03 , succomb\\u00e9 au charme du vintage et souhaitez refaire votre garde-robe, d\\u00e9couvrez toutes les astuces pour d\\u00e9nicher la pi\\u00e8ce unique !... \"],[\" Le polype devient adulte, pond des oeufs qui \\u00e0 leur  tour\\u002fcastle.n.03 deviennent larves et vont fonder de nouvelles colonies tandis que leur m\\u00e8re, solidement ANCR\\u00e0\\u2030E, se d\\u00e9veloppe au point de rejoindre ses voisins : un R\\u00e0\\u2030CIF est en train de na\\u00e0\\u00aetre. \"],[\" Mais celle-ci a d\\u00e9menti et accus\\u00e9 \\u00e0 son  tour\\u002ftrick.n.03 les rebelles d'avoir men\\u00e9 ces attaques. \"],[\" Les cam\\u00e9ristes lui pr\\u00e9sentent  tour\\u002ftrip.n.04 \\u00e0 tour des fleurs et des diamants sans qu'elle arr\\u00eate son choix, et ces diff\\u00e9rents groupes se r\\u00e9p\\u00e8tent gracieusement dans les miroirs. \"],[\" Quand Massimo reconduit Gemma \\u00e0 sa place, la danse termin\\u00e9e, le marquis s'approche et invite la jeune fille \\u00e0 son  tour\\u002frotation.n.03 . \"],[\" C'est mon  tour\\u002frotation.n.03 , une pente peu inclin\\u00e9e pouyr entrer dans les entrailles du monstre. \"],[\" Un peu plus tard, quand Madeleine aura un peu grandi, les cartes s'adresseront \\u00e0 elle, \\u00e0 son  tour\\u002ftower.n.01 , autant qu'\\u00e0 sa grande soeur Denise. \"],[\" Les matelots aussi, devant ce grand malheur, Se sentent  tour\\u002ftrip.n.04 \\u00e0 tour vaincus par la douleur. \"],[\" Endormis sur le pont, jeunes et vieux marins Ont enfin  tour\\u002flathe.n.01 \\u00e0 tour oubli\\u00e9 leurs chagrins. \"],[\" 2) J'accepte d'\\u00eatre humili\\u00e9 ou exploit\\u00e9 a condition qu'on me permette a mon  tour\\u002ftrick.n.03 d'humilier ou d'exploiter quelqu'un occupant une place inf\\u00e9rieure dans la pyramide sociale. \"],[\" Ils d\\u00e9voilent  tour\\u002frotation.n.03 \\u00e0 tour l'\\u00e9tendue de leur brio. \"],[\" Adrien Moerlen d\\u00e9clame ses textes en anglais se fait  tour\\u002ftrip.n.04 \\u00e0 tour planant, enrag\\u00e9 et distant. \"],[\" Pendant l'anarchie du Xe si\\u00e8cle, un des \\u00e9v\\u00eaques la donna \\u00e0 titre de b\\u00e9n\\u00e9fice \\u00e0 un noble que le chroniqueur qualifie de tyran, lequel, \\u00e0 son  tour\\u002ftower.n.01 , en avait dot\\u00e9 son fils, \\u00e9v\\u00eaque d'Autun. \"],[\" La fontaine de Saint-Amatre doit aussi venir \\u00e0 son  tour\\u002ftower.n.01 au rang des objets int\\u00e9ressants de ce bourg primitif d'Auxerre. \"],[\" C'est pourquoi le r\\u00e9dacteur se verra dans l'obligation d'adopter \\u00e0 son  tour\\u002ftrick.n.03 le langage de l'ennemi : \\\" Laissez cet \\u00e9thiopien de merde ! \"]],\"hovertemplate\":\"sense=turn\\u003cbr\\u003eBIC_cluster_sub=2\\u003cbr\\u003ex=%{x}\\u003cbr\\u003ey=%{y}\\u003cbr\\u003ematch=%{customdata[0]}\\u003cextra\\u003e\\u003c\\u002fextra\\u003e\",\"legendgroup\":\"turn, 2\",\"marker\":{\"color\":\"#00cc96\",\"symbol\":\"circle\"},\"mode\":\"markers\",\"name\":\"turn, 2\",\"orientation\":\"v\",\"showlegend\":true,\"x\":[0.20234904,-2.606506,-2.7134027,0.27458698,-0.10141232,0.379076,-1.3084599,-1.0793437,-0.8928116,0.09811627,-0.8998667,-0.36182177,-2.4917262,-0.0786904,2.2657487,-0.0035661417,-2.4773757,-1.9598511,-0.56353045,-2.6811144,-2.7776592,0.18202123,-0.5783714,0.12994519],\"xaxis\":\"x\",\"y\":[2.3373911,-0.06505352,-0.042321164,1.9822485,2.339709,2.4525995,0.5771173,2.1823487,0.6055177,2.1220345,2.3114293,2.279998,0.61461926,1.946917,0.7677221,1.7060665,0.8910472,0.8170004,2.2063262,0.42956653,0.80549824,2.2867448,2.0271733,2.3261015],\"yaxis\":\"y\",\"type\":\"scatter\"},{\"customdata\":[[\" Par Esther Solano Gallego Le dimanche 29 novembre, s'est d\\u00e9roul\\u00e9 le deuxi\\u00e8me  tour\\u002frotation.n.03 des \\u00e9lections municipales au Br\\u00e9sil. \"],[\" Par Marcelo Aguilar Le premier  tour\\u002fmove.n.05 des \\u00e9lections municipales br\\u00e9siliennes, le 15 novembre 2020 [voir le r\\u00e9sum\\u00e9 des r\\u00e9sultats en fin d'article], a montr\\u00e9 le renforcement des secteurs du centre et [Lire....] \"],[\" A l'issue du premier  tour\\u002frotation.n.03 la liste Agir Pour Vaulx-en-Velin a obtenu 1354 voix soit 16.83% du total des suffrages exprim\\u00e9s. \"],[\" Ce score suffisant pour se maintenir au second  tour\\u002frotation.n.03 , laissait peu d'espoir d'emporter l'\\u00e9lection. \"],[\" Sur la base de ce projet partag\\u00e9, nous avons alors fait liste commune pour le second  tour\\u002frotation.n.03 en int\\u00e9grant, \\u00e0 la liste finale, neuf personnes de notre \\u00e9quipe. \"],[\" La campagne pour la pr\\u00e9sidentielle accro\\u00eet fortement l'audience du PS, qui re\\u00e7oit alors les adh\\u00e9sions d'une partie du PSU avec Michel Rocard et de personnalit\\u00e9s proches du gaullisme (Jacques Delors, Edgar Pisani), mais F. Mitterrand, en t\\u00eate au premier  tour\\u002frotation.n.03 , est battu au second malgr\\u00e9 l'obtention de 49,19 % des voix, par Val\\u00e9ry Giscard d'Estaing. \"],[\" Celui-ci cr\\u00e9e la surprise en arrivant en t\\u00eate au premier  tour\\u002frotation.n.03 ; il est battu au second tour par Jacques Chirac (qui succ\\u00e8de \\u00e0 F. Mitterrand \\u00e0 la pr\\u00e9sidence de la R\\u00e9publique) mais son tr\\u00e8s bon score (47,36 % des voix) lui conf\\u00e8re une forte l\\u00e9gitimit\\u00e9 au sein du parti socialiste, dont il ne tarde pas \\u00e0 redevenir le premier secr\\u00e9taire (\\u00e9lu \\u00e0 l'issue du vote direct et secret des militants lors de la Convention nationale du 14 octobre 1995) et qu'il remobilise en vue de la pr\\u00e9paration de l'alternance. \"],[\" Mais le d\\u00e9calage croissant entre l'opinion publique et les partis classiques, de gauche comme de droite, et une campagne en d\\u00e9finitive mal men\\u00e9e lui infligent une tr\\u00e8s s\\u00e9v\\u00e8re d\\u00e9faite au premier  tour\\u002fmove.n.05 de l'\\u00e9lection pr\\u00e9sidentielle de 2002 : avec 16,18 % des voix, L. Jospin arrive en troisi\\u00e8me position, derri\\u00e8re J. Chirac et Jean-Marie Le Pen. \"],[\" Annon\\u00e7ant aussit\\u00f4t son intention de se retirer de la vie politique, le candidat malheureux laisse au premier secr\\u00e9taire le soin de mener le combat du second  tour\\u002fmove.n.05 et des l\\u00e9gislatives. \"],[\" Au premier  tour\\u002fmove.n.05 des \\u00e9lections l\\u00e9gislatives (9 juin), le parti socialiste se maintient avec 23,78 % des suffrages \\u00e0 son niveau de 1997 (25,71 %) et parvient \\u00e0 conserver 140 d\\u00e9put\\u00e9s \\u00e0 l'Assembl\\u00e9e. \"],[\" Mais si cette derni\\u00e8re se qualifie pour le second  tour\\u002frotation.n.03 en remportant 25,87 % des voix, elle s'incline le 6 mai 2007 face \\u00e0 Nicolas Sarkozy avec 46,94 % des suffrages. \"],[\" Le Front national \\u00e9limin\\u00e9 au premier  tour\\u002frotation.n.03 des \\u00e9lections territoriales corses, voil\\u00e0 qui pourrait relever de l'anecdote. \"],[\" Le premier  tour\\u002frotation.n.03 , une trentaine de voix se sont port\\u00e9es sur Joseph Ratzinger, un peu moins sur le cardinal Martini, ancien archev\\u00eaque de Milan, j\\u00e9suite et brillant bibliste. \"],[\" Ce dernier, qui a sans doute accept\\u00e9 de servir de rep\\u00e8re au premier  tour\\u002frotation.n.03 , fait savoir que, malade, il n'accepterait pas d'\\u00eatre \\u00e9lu. \"]],\"hovertemplate\":\"sense=round\\u003cbr\\u003eBIC_cluster_sub=3\\u003cbr\\u003ex=%{x}\\u003cbr\\u003ey=%{y}\\u003cbr\\u003ematch=%{customdata[0]}\\u003cextra\\u003e\\u003c\\u002fextra\\u003e\",\"legendgroup\":\"round, 3\",\"marker\":{\"color\":\"#ab63fa\",\"symbol\":\"square\"},\"mode\":\"markers\",\"name\":\"round, 3\",\"orientation\":\"v\",\"showlegend\":true,\"x\":[-1.3887602,-1.2650927,-2.0066924,-1.4978497,-0.8364947,-2.718325,-2.884177,-2.9512482,-2.554805,-2.7935455,-1.6631029,-2.2250881,0.19428965,-0.67001164],\"xaxis\":\"x\",\"y\":[-1.5207635,-1.4564646,-1.3173263,-1.5461304,-1.5650353,-1.5396,-1.4902506,-1.5176355,-1.6378785,-1.5776517,-1.5708436,-1.5846982,-1.4628398,-1.628252],\"yaxis\":\"y\",\"type\":\"scatter\"},{\"customdata\":[[\" On a voulu voir dans cette sorte de parall\\u00e9logramme qui longe au nord les rues d'Orbandelle et du 4 septembre, et au sud des Boucheries et la rue Sous-Murs, qui borde \\u00e0 l'est la rivi\\u00e8re d'Yonne et \\u00e0 l'ouest le palais, la  tour\\u002ftower.n.01 de l'horloge et la rue des Cordeliers, on a voulu voir l\\u00e0 une forteresse \\u00e9lev\\u00e9e par C\\u00e9sar, vainqueur des Gaulois de Vellaunodunum, pour les tenir en respect ; d'autres ont \\u00e9crit que c'\\u00e9tait le quartier o\\u00e0\\u00b9 se retir\\u00e8rent les premiers chr\\u00e9tiens au IIIe si\\u00e8cle. \"],[\" Le reste de la  tour\\u002ftower.n.01 d'Orbandelle a \\u00e9t\\u00e9 d\\u00e9moli au d\\u00e9but du XIXe si\\u00e8cle. \"],[\" On trouve encore \\u00e0 la  tour\\u002ftower.n.01 Saint-Pancrace ce syst\\u00e8me de construction. \"],[\" Il me semble m\\u00eame que sur la version originale , Jan Utzon pr\\u00e9cise que le soit disant \\\"pilon\\\" , partant de vitesse nulle ne pouvait pas \\u00e9craser l'int\\u00e9grit\\u00e9 de la  tour\\u002ftower.n.01 jusqu'au fondation . \"],[\" La vall\\u00e9e blanche et le glacier du G\\u00e9ant, les Grandes Jorasses et les ar\\u00eates de Rochefort, \\u00e0 droite, la  tour\\u002ftower.n.01 Ronde, derri\\u00e8re l'aiguille verte, les Drus les Droites et les Courtes, grandiose. \"],[\" C'est dans les caf\\u00e9s le soir que Sophie, une jeune cubaine vient draguer les mecs, surtout dans les pubs branch\\u00e9s sur Paris et autour de la  tour\\u002ftower.n.01 Eiffel ! \"]],\"hovertemplate\":\"sense=tower\\u003cbr\\u003eBIC_cluster_sub=2\\u003cbr\\u003ex=%{x}\\u003cbr\\u003ey=%{y}\\u003cbr\\u003ematch=%{customdata[0]}\\u003cextra\\u003e\\u003c\\u002fextra\\u003e\",\"legendgroup\":\"tower, 2\",\"marker\":{\"color\":\"#FFA15A\",\"symbol\":\"circle\"},\"mode\":\"markers\",\"name\":\"tower, 2\",\"orientation\":\"v\",\"showlegend\":true,\"x\":[-1.5780582,1.7108501,2.867198,2.800247,1.0382504,-2.0146086],\"xaxis\":\"x\",\"y\":[-0.43410406,-0.5324885,-0.37643036,-0.5643276,-0.49619514,-0.50919247],\"yaxis\":\"y\",\"type\":\"scatter\"}],                        {\"template\":{\"data\":{\"barpolar\":[{\"marker\":{\"line\":{\"color\":\"white\",\"width\":0.5},\"pattern\":{\"fillmode\":\"overlay\",\"size\":10,\"solidity\":0.2}},\"type\":\"barpolar\"}],\"bar\":[{\"error_x\":{\"color\":\"#2a3f5f\"},\"error_y\":{\"color\":\"#2a3f5f\"},\"marker\":{\"line\":{\"color\":\"white\",\"width\":0.5},\"pattern\":{\"fillmode\":\"overlay\",\"size\":10,\"solidity\":0.2}},\"type\":\"bar\"}],\"carpet\":[{\"aaxis\":{\"endlinecolor\":\"#2a3f5f\",\"gridcolor\":\"#C8D4E3\",\"linecolor\":\"#C8D4E3\",\"minorgridcolor\":\"#C8D4E3\",\"startlinecolor\":\"#2a3f5f\"},\"baxis\":{\"endlinecolor\":\"#2a3f5f\",\"gridcolor\":\"#C8D4E3\",\"linecolor\":\"#C8D4E3\",\"minorgridcolor\":\"#C8D4E3\",\"startlinecolor\":\"#2a3f5f\"},\"type\":\"carpet\"}],\"choropleth\":[{\"colorbar\":{\"outlinewidth\":0,\"ticks\":\"\"},\"type\":\"choropleth\"}],\"contourcarpet\":[{\"colorbar\":{\"outlinewidth\":0,\"ticks\":\"\"},\"type\":\"contourcarpet\"}],\"contour\":[{\"colorbar\":{\"outlinewidth\":0,\"ticks\":\"\"},\"colorscale\":[[0.0,\"#0d0887\"],[0.1111111111111111,\"#46039f\"],[0.2222222222222222,\"#7201a8\"],[0.3333333333333333,\"#9c179e\"],[0.4444444444444444,\"#bd3786\"],[0.5555555555555556,\"#d8576b\"],[0.6666666666666666,\"#ed7953\"],[0.7777777777777778,\"#fb9f3a\"],[0.8888888888888888,\"#fdca26\"],[1.0,\"#f0f921\"]],\"type\":\"contour\"}],\"heatmapgl\":[{\"colorbar\":{\"outlinewidth\":0,\"ticks\":\"\"},\"colorscale\":[[0.0,\"#0d0887\"],[0.1111111111111111,\"#46039f\"],[0.2222222222222222,\"#7201a8\"],[0.3333333333333333,\"#9c179e\"],[0.4444444444444444,\"#bd3786\"],[0.5555555555555556,\"#d8576b\"],[0.6666666666666666,\"#ed7953\"],[0.7777777777777778,\"#fb9f3a\"],[0.8888888888888888,\"#fdca26\"],[1.0,\"#f0f921\"]],\"type\":\"heatmapgl\"}],\"heatmap\":[{\"colorbar\":{\"outlinewidth\":0,\"ticks\":\"\"},\"colorscale\":[[0.0,\"#0d0887\"],[0.1111111111111111,\"#46039f\"],[0.2222222222222222,\"#7201a8\"],[0.3333333333333333,\"#9c179e\"],[0.4444444444444444,\"#bd3786\"],[0.5555555555555556,\"#d8576b\"],[0.6666666666666666,\"#ed7953\"],[0.7777777777777778,\"#fb9f3a\"],[0.8888888888888888,\"#fdca26\"],[1.0,\"#f0f921\"]],\"type\":\"heatmap\"}],\"histogram2dcontour\":[{\"colorbar\":{\"outlinewidth\":0,\"ticks\":\"\"},\"colorscale\":[[0.0,\"#0d0887\"],[0.1111111111111111,\"#46039f\"],[0.2222222222222222,\"#7201a8\"],[0.3333333333333333,\"#9c179e\"],[0.4444444444444444,\"#bd3786\"],[0.5555555555555556,\"#d8576b\"],[0.6666666666666666,\"#ed7953\"],[0.7777777777777778,\"#fb9f3a\"],[0.8888888888888888,\"#fdca26\"],[1.0,\"#f0f921\"]],\"type\":\"histogram2dcontour\"}],\"histogram2d\":[{\"colorbar\":{\"outlinewidth\":0,\"ticks\":\"\"},\"colorscale\":[[0.0,\"#0d0887\"],[0.1111111111111111,\"#46039f\"],[0.2222222222222222,\"#7201a8\"],[0.3333333333333333,\"#9c179e\"],[0.4444444444444444,\"#bd3786\"],[0.5555555555555556,\"#d8576b\"],[0.6666666666666666,\"#ed7953\"],[0.7777777777777778,\"#fb9f3a\"],[0.8888888888888888,\"#fdca26\"],[1.0,\"#f0f921\"]],\"type\":\"histogram2d\"}],\"histogram\":[{\"marker\":{\"pattern\":{\"fillmode\":\"overlay\",\"size\":10,\"solidity\":0.2}},\"type\":\"histogram\"}],\"mesh3d\":[{\"colorbar\":{\"outlinewidth\":0,\"ticks\":\"\"},\"type\":\"mesh3d\"}],\"parcoords\":[{\"line\":{\"colorbar\":{\"outlinewidth\":0,\"ticks\":\"\"}},\"type\":\"parcoords\"}],\"pie\":[{\"automargin\":true,\"type\":\"pie\"}],\"scatter3d\":[{\"line\":{\"colorbar\":{\"outlinewidth\":0,\"ticks\":\"\"}},\"marker\":{\"colorbar\":{\"outlinewidth\":0,\"ticks\":\"\"}},\"type\":\"scatter3d\"}],\"scattercarpet\":[{\"marker\":{\"colorbar\":{\"outlinewidth\":0,\"ticks\":\"\"}},\"type\":\"scattercarpet\"}],\"scattergeo\":[{\"marker\":{\"colorbar\":{\"outlinewidth\":0,\"ticks\":\"\"}},\"type\":\"scattergeo\"}],\"scattergl\":[{\"marker\":{\"colorbar\":{\"outlinewidth\":0,\"ticks\":\"\"}},\"type\":\"scattergl\"}],\"scattermapbox\":[{\"marker\":{\"colorbar\":{\"outlinewidth\":0,\"ticks\":\"\"}},\"type\":\"scattermapbox\"}],\"scatterpolargl\":[{\"marker\":{\"colorbar\":{\"outlinewidth\":0,\"ticks\":\"\"}},\"type\":\"scatterpolargl\"}],\"scatterpolar\":[{\"marker\":{\"colorbar\":{\"outlinewidth\":0,\"ticks\":\"\"}},\"type\":\"scatterpolar\"}],\"scatter\":[{\"fillpattern\":{\"fillmode\":\"overlay\",\"size\":10,\"solidity\":0.2},\"type\":\"scatter\"}],\"scatterternary\":[{\"marker\":{\"colorbar\":{\"outlinewidth\":0,\"ticks\":\"\"}},\"type\":\"scatterternary\"}],\"surface\":[{\"colorbar\":{\"outlinewidth\":0,\"ticks\":\"\"},\"colorscale\":[[0.0,\"#0d0887\"],[0.1111111111111111,\"#46039f\"],[0.2222222222222222,\"#7201a8\"],[0.3333333333333333,\"#9c179e\"],[0.4444444444444444,\"#bd3786\"],[0.5555555555555556,\"#d8576b\"],[0.6666666666666666,\"#ed7953\"],[0.7777777777777778,\"#fb9f3a\"],[0.8888888888888888,\"#fdca26\"],[1.0,\"#f0f921\"]],\"type\":\"surface\"}],\"table\":[{\"cells\":{\"fill\":{\"color\":\"#EBF0F8\"},\"line\":{\"color\":\"white\"}},\"header\":{\"fill\":{\"color\":\"#C8D4E3\"},\"line\":{\"color\":\"white\"}},\"type\":\"table\"}]},\"layout\":{\"annotationdefaults\":{\"arrowcolor\":\"#2a3f5f\",\"arrowhead\":0,\"arrowwidth\":1},\"autotypenumbers\":\"strict\",\"coloraxis\":{\"colorbar\":{\"outlinewidth\":0,\"ticks\":\"\"}},\"colorscale\":{\"diverging\":[[0,\"#8e0152\"],[0.1,\"#c51b7d\"],[0.2,\"#de77ae\"],[0.3,\"#f1b6da\"],[0.4,\"#fde0ef\"],[0.5,\"#f7f7f7\"],[0.6,\"#e6f5d0\"],[0.7,\"#b8e186\"],[0.8,\"#7fbc41\"],[0.9,\"#4d9221\"],[1,\"#276419\"]],\"sequential\":[[0.0,\"#0d0887\"],[0.1111111111111111,\"#46039f\"],[0.2222222222222222,\"#7201a8\"],[0.3333333333333333,\"#9c179e\"],[0.4444444444444444,\"#bd3786\"],[0.5555555555555556,\"#d8576b\"],[0.6666666666666666,\"#ed7953\"],[0.7777777777777778,\"#fb9f3a\"],[0.8888888888888888,\"#fdca26\"],[1.0,\"#f0f921\"]],\"sequentialminus\":[[0.0,\"#0d0887\"],[0.1111111111111111,\"#46039f\"],[0.2222222222222222,\"#7201a8\"],[0.3333333333333333,\"#9c179e\"],[0.4444444444444444,\"#bd3786\"],[0.5555555555555556,\"#d8576b\"],[0.6666666666666666,\"#ed7953\"],[0.7777777777777778,\"#fb9f3a\"],[0.8888888888888888,\"#fdca26\"],[1.0,\"#f0f921\"]]},\"colorway\":[\"#636efa\",\"#EF553B\",\"#00cc96\",\"#ab63fa\",\"#FFA15A\",\"#19d3f3\",\"#FF6692\",\"#B6E880\",\"#FF97FF\",\"#FECB52\"],\"font\":{\"color\":\"#2a3f5f\"},\"geo\":{\"bgcolor\":\"white\",\"lakecolor\":\"white\",\"landcolor\":\"white\",\"showlakes\":true,\"showland\":true,\"subunitcolor\":\"#C8D4E3\"},\"hoverlabel\":{\"align\":\"left\"},\"hovermode\":\"closest\",\"mapbox\":{\"style\":\"light\"},\"paper_bgcolor\":\"white\",\"plot_bgcolor\":\"white\",\"polar\":{\"angularaxis\":{\"gridcolor\":\"#EBF0F8\",\"linecolor\":\"#EBF0F8\",\"ticks\":\"\"},\"bgcolor\":\"white\",\"radialaxis\":{\"gridcolor\":\"#EBF0F8\",\"linecolor\":\"#EBF0F8\",\"ticks\":\"\"}},\"scene\":{\"xaxis\":{\"backgroundcolor\":\"white\",\"gridcolor\":\"#DFE8F3\",\"gridwidth\":2,\"linecolor\":\"#EBF0F8\",\"showbackground\":true,\"ticks\":\"\",\"zerolinecolor\":\"#EBF0F8\"},\"yaxis\":{\"backgroundcolor\":\"white\",\"gridcolor\":\"#DFE8F3\",\"gridwidth\":2,\"linecolor\":\"#EBF0F8\",\"showbackground\":true,\"ticks\":\"\",\"zerolinecolor\":\"#EBF0F8\"},\"zaxis\":{\"backgroundcolor\":\"white\",\"gridcolor\":\"#DFE8F3\",\"gridwidth\":2,\"linecolor\":\"#EBF0F8\",\"showbackground\":true,\"ticks\":\"\",\"zerolinecolor\":\"#EBF0F8\"}},\"shapedefaults\":{\"line\":{\"color\":\"#2a3f5f\"}},\"ternary\":{\"aaxis\":{\"gridcolor\":\"#DFE8F3\",\"linecolor\":\"#A2B1C6\",\"ticks\":\"\"},\"baxis\":{\"gridcolor\":\"#DFE8F3\",\"linecolor\":\"#A2B1C6\",\"ticks\":\"\"},\"bgcolor\":\"white\",\"caxis\":{\"gridcolor\":\"#DFE8F3\",\"linecolor\":\"#A2B1C6\",\"ticks\":\"\"}},\"title\":{\"x\":0.05},\"xaxis\":{\"automargin\":true,\"gridcolor\":\"#EBF0F8\",\"linecolor\":\"#EBF0F8\",\"ticks\":\"\",\"title\":{\"standoff\":15},\"zerolinecolor\":\"#EBF0F8\",\"zerolinewidth\":2},\"yaxis\":{\"automargin\":true,\"gridcolor\":\"#EBF0F8\",\"linecolor\":\"#EBF0F8\",\"ticks\":\"\",\"title\":{\"standoff\":15},\"zerolinecolor\":\"#EBF0F8\",\"zerolinewidth\":2}}},\"xaxis\":{\"anchor\":\"y\",\"domain\":[0.0,1.0],\"title\":{\"text\":\"x\"}},\"yaxis\":{\"anchor\":\"x\",\"domain\":[0.0,1.0],\"title\":{\"text\":\"y\"}},\"legend\":{\"title\":{\"text\":\"sense, BIC_cluster_sub\"},\"tracegroupgap\":0},\"margin\":{\"t\":60},\"title\":{\"text\":\"Clusters Bureau\\u003cbr\\u003e\\u003csub\\u003eCalculated with Lexical substitution following Zhou 2019\\u003c\\u002fsub\\u003e\",\"y\":0.9,\"x\":0.5,\"xanchor\":\"center\",\"yanchor\":\"top\"}},                        {\"responsive\": true}                    ).then(function(){\n                            \nvar gd = document.getElementById('712226a9-a1d4-44ad-bdf7-4bd9c1ea6c66');\nvar x = new MutationObserver(function (mutations, observer) {{\n        var display = window.getComputedStyle(gd).display;\n        if (!display || display === 'none') {{\n            console.log([gd, 'removed!']);\n            Plotly.purge(gd);\n            observer.disconnect();\n        }}\n}});\n\n// Listen for the removal of the full notebook cells\nvar notebookContainer = gd.closest('#notebook-container');\nif (notebookContainer) {{\n    x.observe(notebookContainer, {childList: true});\n}}\n\n// Listen for the clearing of the current output cell\nvar outputEl = gd.closest('.output');\nif (outputEl) {{\n    x.observe(outputEl, {childList: true});\n}}\n\n                        })                };                });            </script>        </div>"
     },
     "metadata": {},
     "output_type": "display_data"
    }
   ],
   "source": [
    "fig_2d_cluster = px.scatter(df, x=\"x\", y=\"y\", color=\"sense\", symbol=\"BIC_cluster_sub\",\n",
    "                 hover_data='match',\n",
    "                 template=\"plotly_white\")\n",
    "fig_2d_cluster.update_layout(\n",
    "    title={\n",
    "        'text': f\"Clusters Bureau<br><sub>Calculated with Lexical substitution following Zhou 2019</sub>\",\n",
    "        'y':0.9,\n",
    "        'x':0.5,\n",
    "        'xanchor': 'center',\n",
    "        'yanchor': 'top'})\n",
    "fig_2d_cluster.show()\n"
   ],
   "metadata": {
    "collapsed": false,
    "ExecuteTime": {
     "end_time": "2024-05-17T18:39:57.768515Z",
     "start_time": "2024-05-17T18:39:57.661958Z"
    }
   },
   "id": "a7c35849c345208c",
   "execution_count": 21
  },
  {
   "cell_type": "code",
   "outputs": [
    {
     "data": {
      "application/vnd.plotly.v1+json": {
       "data": [
        {
         "customdata": [
          [
           " J'ai refais plusieurs fois le  tour/rotation.n.03 du magasin en vain et j'étais, ma foi, trèèèès triste (T___T)! "
          ],
          [
           " Quant au cycliste, il peine, le malheureux, à admettre que la chasse soit une activité de première nécessité, mais que le fait d'aller faire un  tour/rotation.n.03 en vélo puisse être facteur de propagation d'un virus. "
          ],
          [
           " La visite libre vous permet de faire le  tour/rotation.n.03 de la scénographie d'énerlya en toute liberté. "
          ],
          [
           " Et tellement de DRMs qu'on n'en fait pas le  tour/rotation.n.03 , alors toute musique échangée par le superbe système sans fil ne sera écoutable que 3 fois. "
          ],
          [
           " * Visite d'une Porsche 924 (à restaurer) * Petit  tour/rotation.n.03 à la cathédrale de Reims et sur l'ancien circuit de Gueux (Reims) en 911 Turbo 3.6 * Rencontre avec la 964 Carrera 4 d'Hervé * Musée de l'automobile à Reims * La nouvelle 996 GT2 comme vous ne l'avez jamais vue (en présence d'une 996 bi-turbo en plus !) "
          ],
          [
           " Parti du Croisic, en Bretagne, 2 ANS plus tôt, il effectue le  tour/rotation.n.03 du monde en solitaire, sur son robuste cotre de 10 mètres, Kurun. "
          ],
          [
           " Ainsi, lorsque le cotre s'éloigne de son cap, l'écoute se tend et tire sur la barre, ramenant le voilier dans le droit chemin. \"Cocagne ! s'écrie Le Toumelin, je peux dormir tranquille.\" Grà¢ce à ce pilote AUTOMATIQUE improvisé, le cotre achève le  tour/rotation.n.03 du monde, et reçoit un accueil triomphal au Croisic, le 7 juillet 1952, après une magnifique navigation de 3 ans. "
          ],
          [
           " La distance parcourue lors de ses voyages apostoliques équivaut à 28,3 fois le  tour/rotation.n.03 de la terre, presque 3 fois la distance de la Terre à la Lune. "
          ],
          [
           " j'espère que ce petit  tour/rotation.n.03 vous a plu, bien sur il reste beaucoup à voir dans cette partie de Lyon et j'y travaille mais pour l'instant je vous propose de passer dans le deuxième arrondissement avec la place Bellecour, sa statue de Louis XIV et ses jets d'eau: "
          ],
          [
           " Vous vous souvenez de la pub (en 2000, je crois) qui avait fait le  tour/rotation.n.03 du monde, Wassup ? "
          ]
         ],
         "hovertemplate": "sense=lap<br>BIC_cluster_sub=2<br>x=%{x}<br>y=%{y}<br>z=%{z}<br>match=%{customdata[0]}<extra></extra>",
         "legendgroup": "lap, 2",
         "marker": {
          "color": "#636efa",
          "symbol": "circle"
         },
         "mode": "markers",
         "name": "lap, 2",
         "scene": "scene",
         "showlegend": true,
         "x": [
          -1.0689647,
          -1.0853944,
          -1.1664963,
          -0.59841734,
          -0.30854696,
          -0.56486607,
          -1.0710258,
          -1.0365218,
          0.8461783,
          -0.35770798
         ],
         "y": [
          -0.1620316,
          -0.44722095,
          -0.21525429,
          -0.049225673,
          -0.2714689,
          -0.63736916,
          -0.51478195,
          -0.30799925,
          -0.3763268,
          -0.15444447
         ],
         "z": [
          1.2107375,
          0.80539644,
          1.3008713,
          1.2063997,
          0.7015684,
          1.0545988,
          1.0730392,
          1.4272993,
          0.37810206,
          1.177075
         ],
         "type": "scatter3d"
        },
        {
         "customdata": [
          [
           " Masuda à réussi un vrai  tour/trick.n.03 de force.... Celui de bluffer vos spectateurs avec seulement deux cartes ! "
          ],
          [
           " Plus qu'un livre, c'est un véritable  tour/trick.n.03 de force. \" The Guardian Frédéric Fontès "
          ],
          [
           " Dans l'huile chaude, verser la pà¢te, au travers d'un entonnoir, en observant le  tour/rotation.n.03 de main suivant: "
          ],
          [
           " Les enchères commençaient à 70 millions par bloc, s'il y a plus de 11 demandes pour les 11 blocs, le prix du bloc augmente de 5 millions et un nouveau  tour/rotation.n.03 de table est fait. "
          ],
          [
           " Aujourd'hui, le Président de la CASA et Maire d'Antibes Jean Leonetti a fait un  tour/rotation.n.03 de manège dans le fameux bus-tram que j'appelle le gros bus à quelques espaces dédiés. "
          ],
          [
           " Le principal  tour/trick.n.03 de force du film réside en sa capacité à fédérer un public à la fois accroc' et hostile à l'univers des Super-héros de Comics, parce que tout est rendu léger, et volontairement risible. "
          ]
         ],
         "hovertemplate": "sense=lap<br>BIC_cluster_sub=3<br>x=%{x}<br>y=%{y}<br>z=%{z}<br>match=%{customdata[0]}<extra></extra>",
         "legendgroup": "lap, 3",
         "marker": {
          "color": "#636efa",
          "symbol": "square"
         },
         "mode": "markers",
         "name": "lap, 3",
         "scene": "scene",
         "showlegend": true,
         "x": [
          -1.8809203,
          -1.3787202,
          0.29477465,
          -0.044365566,
          -0.8672205,
          -2.2524142
         ],
         "y": [
          -0.1884831,
          -0.21108337,
          -0.14171495,
          -0.35175994,
          -0.2991453,
          -0.0017190829
         ],
         "z": [
          1.1437957,
          1.0716602,
          1.1523303,
          0.99327385,
          1.0951114,
          0.9511729
         ],
         "type": "scatter3d"
        },
        {
         "customdata": [
          [
           " Bonjour, J'ai acheté ce  tour/rotation.n.03 ... et pour tout dire, je suis déçu. "
          ],
          [
           " Attention, les chaà®nelettes sont fragiles mais franchement, ce  tour/rotation.n.03 est tellement une tuerie qu'il faut foncer.. "
          ],
          [
           " Voici un effet bien connu des magiciens : à partir d'une bande de papier pliée et deux trombones fixés dessus se retrouvent enclavés en tirant sur les extrémités du pliage J'ai réactualisé cet effet avec la bague d'une spectatrice ou d'un spectateur, de préférence utiliser une alliance, ce qui facilitera la manipulation du  tour/castle.n.03 . ... "
          ],
          [
           " Une pochette très pratique pour laisser la pochette du  tour/rotation.n.03 \" Wow 3 \" à l'examen. "
          ],
          [
           " Ce  tour/rotation.n.03 est extraordinaire, la prise en main est très rapide. "
          ]
         ],
         "hovertemplate": "sense=trick<br>BIC_cluster_sub=2<br>x=%{x}<br>y=%{y}<br>z=%{z}<br>match=%{customdata[0]}<extra></extra>",
         "legendgroup": "trick, 2",
         "marker": {
          "color": "#EF553B",
          "symbol": "circle"
         },
         "mode": "markers",
         "name": "trick, 2",
         "scene": "scene",
         "showlegend": true,
         "x": [
          4.7919292,
          5.0224175,
          1.4543363,
          4.9062943,
          3.649027
         ],
         "y": [
          -0.6775455,
          -0.6920801,
          -0.42822152,
          -0.5257415,
          -0.72933906
         ],
         "z": [
          -0.25921804,
          -0.29435462,
          0.7369658,
          -0.10701214,
          0.43519926
         ],
         "type": "scatter3d"
        },
        {
         "customdata": [
          [
           " Ce  tour/rotation.n.03 ne vaut pas 45 €... Pour ce prix, on reçoit quelques morceaux de plastique transparents, ... "
          ],
          [
           " tour/magic_trick.n.01 visuel, artistique ou de mentalisme, tout est possible et le public en redemande ! bien aussi pour noel avec la version Pére Noel ... et pourquoi pas pour les mariage maintenant, Seb, à toi de jouer et nous créer çà !.. "
          ],
          [
           " tour/magic_trick.n.01 ultra facile mais faire apparaà®tre un poisson est très visuel pour un public. "
          ],
          [
           " Olivier à conçu bien plus qu'un  tour/rotation.n.03 il vous propose la un matériel de très belle qualité qui va permettre aux créateurs que vous êtes, de laisser libre cours à votre imagination. "
          ],
          [
           " Les explications sont très claires mais il vous faudra beaucoup de travail pour maà®triser le  tour/rotation.n.03 et pouvoir le présenter. "
          ],
          [
           " tour/trick.n.03 sympa mais qui nécessite du temps pour remettre entre chaque spectacle, les feuilles de journaux et en noir et blanc, ce qui devient difficile à trouver. "
          ]
         ],
         "hovertemplate": "sense=trick<br>BIC_cluster_sub=1<br>x=%{x}<br>y=%{y}<br>z=%{z}<br>match=%{customdata[0]}<extra></extra>",
         "legendgroup": "trick, 1",
         "marker": {
          "color": "#EF553B",
          "symbol": "diamond"
         },
         "mode": "markers",
         "name": "trick, 1",
         "scene": "scene",
         "showlegend": true,
         "x": [
          4.760769,
          4.7754745,
          4.5323367,
          4.331688,
          3.955853,
          4.681553
         ],
         "y": [
          -0.70775574,
          -0.14664355,
          -0.09448195,
          -0.40417135,
          -0.45007506,
          -0.15467066
         ],
         "z": [
          0.10520544,
          -0.5208008,
          -0.18995248,
          -0.16550076,
          0.41328123,
          -0.27224076
         ],
         "type": "scatter3d"
        },
        {
         "customdata": [
          [
           " Faites plusieurs routines pour le faire en close-up et varier les plaisirs ! si vous deviez disposer d'un seul  tour/rotation.n.03 , ce serait assurément celui-là. "
          ],
          [
           " À mon avis le meilleur  tour/rotation.n.03 de Jean Pierre Vallarino. "
          ],
          [
           " Très bon  tour/rotation.n.03 de Dominique Duvivier, demandant tout de même un certain entraà®nement pour la technique et la maà®trise des enchaà®nements. "
          ]
         ],
         "hovertemplate": "sense=trick<br>BIC_cluster_sub=3<br>x=%{x}<br>y=%{y}<br>z=%{z}<br>match=%{customdata[0]}<extra></extra>",
         "legendgroup": "trick, 3",
         "marker": {
          "color": "#EF553B",
          "symbol": "square"
         },
         "mode": "markers",
         "name": "trick, 3",
         "scene": "scene",
         "showlegend": true,
         "x": [
          1.5359963,
          2.4417746,
          2.181842
         ],
         "y": [
          -0.7134893,
          -0.9865236,
          -0.5389317
         ],
         "z": [
          0.18531486,
          0.31041512,
          0.32934293
         ],
         "type": "scatter3d"
        },
        {
         "customdata": [
          [
           " Pour rassurer tout le monde, nous avons décidé de faire appel à d'autres laboratoires privés, qui ont démontré à leur  tour/trick.n.03 que ces peurs étaient infondées. "
          ],
          [
           " Le vrai gros plus du jeux est le mode deux joueurs oà¹ là on joue bien évidemment en  tour/tower.n.01 par tour. "
          ],
          [
           " Le vrai gros plus du jeux est le mode deux joueurs oà¹ là on joue bien évidemment en tour par  tour/tower.n.01 . "
          ],
          [
           " Ce réglage est écrasé par - Le paramètre déclaré dans les styles de paragraphes, à son  tour/castle.n.03 écrasé par - Le paramètre déclaré dans les styles de caractères ou par formatage direct. "
          ],
          [
           " Même si on envisageait (ce qui était d'une belle utopie, que j'avais simplement évoqué dans mon site) de réserver le peuplement d'un territoire comme la Cisjordanie par des couples mixtes (un israélien marié à une palestinienne ou un palestinien marié à une israélienne) ceux-ci devraient alors être à leur  tour/tower.n.01 protégés des coups de extrêmistes des deux communautés ! cela paraà®t totalement évident. "
          ],
          [
           " Certains vont se sentir lésés dans leur \"liberté d'expression\" sans doute, mais avec la liberté qu'offre ce site, viennent les abus qui exigent à leur  tour/trick.n.03 une législation. "
          ],
          [
           " Ils sont prioritaires pour se faire vacciner contre le Covid-19, mais préfèrent passer leur  tour/move.n.05 pour l'instant: malgré une épidémie galopante... "
          ],
          [
           " Entretien avec Jorge Luís Martins Contrairement à ce qu'il faisait au début de la crise économique internationale, le Brésil ne considère plus celle-ci comme une simple \"lubie\" passagère et s'efforce, à son  tour/trick.n.03 maintenant, de [Lire....] "
          ],
          [
           " Dans les coulisses, les heureux élus attendent patiemment leur  tour/move.n.05 . "
          ],
          [
           " Friperies, e-shop, brocantes... si vous avez, à votre  tour/trick.n.03 , succombé au charme du vintage et souhaitez refaire votre garde-robe, découvrez toutes les astuces pour dénicher la pièce unique !... "
          ],
          [
           " Le polype devient adulte, pond des oeufs qui à leur  tour/castle.n.03 deviennent larves et vont fonder de nouvelles colonies tandis que leur mère, solidement ANCRà‰E, se développe au point de rejoindre ses voisins : un Rà‰CIF est en train de naà®tre. "
          ],
          [
           " Mais celle-ci a démenti et accusé à son  tour/trick.n.03 les rebelles d'avoir mené ces attaques. "
          ],
          [
           " Les caméristes lui présentent  tour/trip.n.04 à tour des fleurs et des diamants sans qu'elle arrête son choix, et ces différents groupes se répètent gracieusement dans les miroirs. "
          ],
          [
           " Quand Massimo reconduit Gemma à sa place, la danse terminée, le marquis s'approche et invite la jeune fille à son  tour/rotation.n.03 . "
          ],
          [
           " C'est mon  tour/rotation.n.03 , une pente peu inclinée pouyr entrer dans les entrailles du monstre. "
          ],
          [
           " Un peu plus tard, quand Madeleine aura un peu grandi, les cartes s'adresseront à elle, à son  tour/tower.n.01 , autant qu'à sa grande soeur Denise. "
          ],
          [
           " Les matelots aussi, devant ce grand malheur, Se sentent  tour/trip.n.04 à tour vaincus par la douleur. "
          ],
          [
           " Endormis sur le pont, jeunes et vieux marins Ont enfin  tour/lathe.n.01 à tour oublié leurs chagrins. "
          ],
          [
           " 2) J'accepte d'être humilié ou exploité a condition qu'on me permette a mon  tour/trick.n.03 d'humilier ou d'exploiter quelqu'un occupant une place inférieure dans la pyramide sociale. "
          ],
          [
           " Ils dévoilent  tour/rotation.n.03 à tour l'étendue de leur brio. "
          ],
          [
           " Adrien Moerlen déclame ses textes en anglais se fait  tour/trip.n.04 à tour planant, enragé et distant. "
          ],
          [
           " Pendant l'anarchie du Xe siècle, un des évêques la donna à titre de bénéfice à un noble que le chroniqueur qualifie de tyran, lequel, à son  tour/tower.n.01 , en avait doté son fils, évêque d'Autun. "
          ],
          [
           " La fontaine de Saint-Amatre doit aussi venir à son  tour/tower.n.01 au rang des objets intéressants de ce bourg primitif d'Auxerre. "
          ],
          [
           " C'est pourquoi le rédacteur se verra dans l'obligation d'adopter à son  tour/trick.n.03 le langage de l'ennemi : \" Laissez cet éthiopien de merde ! "
          ]
         ],
         "hovertemplate": "sense=turn<br>BIC_cluster_sub=2<br>x=%{x}<br>y=%{y}<br>z=%{z}<br>match=%{customdata[0]}<extra></extra>",
         "legendgroup": "turn, 2",
         "marker": {
          "color": "#00cc96",
          "symbol": "circle"
         },
         "mode": "markers",
         "name": "turn, 2",
         "scene": "scene",
         "showlegend": true,
         "x": [
          0.20234904,
          -2.606506,
          -2.7134027,
          0.27458698,
          -0.10141232,
          0.379076,
          -1.3084599,
          -1.0793437,
          -0.8928116,
          0.09811627,
          -0.8998667,
          -0.36182177,
          -2.4917262,
          -0.0786904,
          2.2657487,
          -0.0035661417,
          -2.4773757,
          -1.9598511,
          -0.56353045,
          -2.6811144,
          -2.7776592,
          0.18202123,
          -0.5783714,
          0.12994519
         ],
         "y": [
          2.3373911,
          -0.06505352,
          -0.042321164,
          1.9822485,
          2.339709,
          2.4525995,
          0.5771173,
          2.1823487,
          0.6055177,
          2.1220345,
          2.3114293,
          2.279998,
          0.61461926,
          1.946917,
          0.7677221,
          1.7060665,
          0.8910472,
          0.8170004,
          2.2063262,
          0.42956653,
          0.80549824,
          2.2867448,
          2.0271733,
          2.3261015
         ],
         "z": [
          -0.8792859,
          1.4457761,
          1.4665056,
          -1.0541674,
          -0.7676489,
          -1.0669804,
          0.09121056,
          -0.5457238,
          -0.3272856,
          -0.809919,
          -0.5985263,
          -0.9285572,
          1.2390394,
          -0.7057051,
          -0.15176679,
          -0.6342032,
          1.0128058,
          1.1176276,
          -0.69971484,
          1.2308365,
          1.0338733,
          -0.9657595,
          -1.235549,
          -1.1391127
         ],
         "type": "scatter3d"
        },
        {
         "customdata": [
          [
           " Par Esther Solano Gallego Le dimanche 29 novembre, s'est déroulé le deuxième  tour/rotation.n.03 des élections municipales au Brésil. "
          ],
          [
           " Par Marcelo Aguilar Le premier  tour/move.n.05 des élections municipales brésiliennes, le 15 novembre 2020 [voir le résumé des résultats en fin d'article], a montré le renforcement des secteurs du centre et [Lire....] "
          ],
          [
           " A l'issue du premier  tour/rotation.n.03 la liste Agir Pour Vaulx-en-Velin a obtenu 1354 voix soit 16.83% du total des suffrages exprimés. "
          ],
          [
           " Ce score suffisant pour se maintenir au second  tour/rotation.n.03 , laissait peu d'espoir d'emporter l'élection. "
          ],
          [
           " Sur la base de ce projet partagé, nous avons alors fait liste commune pour le second  tour/rotation.n.03 en intégrant, à la liste finale, neuf personnes de notre équipe. "
          ],
          [
           " La campagne pour la présidentielle accroît fortement l'audience du PS, qui reçoit alors les adhésions d'une partie du PSU avec Michel Rocard et de personnalités proches du gaullisme (Jacques Delors, Edgar Pisani), mais F. Mitterrand, en tête au premier  tour/rotation.n.03 , est battu au second malgré l'obtention de 49,19 % des voix, par Valéry Giscard d'Estaing. "
          ],
          [
           " Celui-ci crée la surprise en arrivant en tête au premier  tour/rotation.n.03 ; il est battu au second tour par Jacques Chirac (qui succède à F. Mitterrand à la présidence de la République) mais son très bon score (47,36 % des voix) lui confère une forte légitimité au sein du parti socialiste, dont il ne tarde pas à redevenir le premier secrétaire (élu à l'issue du vote direct et secret des militants lors de la Convention nationale du 14 octobre 1995) et qu'il remobilise en vue de la préparation de l'alternance. "
          ],
          [
           " Mais le décalage croissant entre l'opinion publique et les partis classiques, de gauche comme de droite, et une campagne en définitive mal menée lui infligent une très sévère défaite au premier  tour/move.n.05 de l'élection présidentielle de 2002 : avec 16,18 % des voix, L. Jospin arrive en troisième position, derrière J. Chirac et Jean-Marie Le Pen. "
          ],
          [
           " Annonçant aussitôt son intention de se retirer de la vie politique, le candidat malheureux laisse au premier secrétaire le soin de mener le combat du second  tour/move.n.05 et des législatives. "
          ],
          [
           " Au premier  tour/move.n.05 des élections législatives (9 juin), le parti socialiste se maintient avec 23,78 % des suffrages à son niveau de 1997 (25,71 %) et parvient à conserver 140 députés à l'Assemblée. "
          ],
          [
           " Mais si cette dernière se qualifie pour le second  tour/rotation.n.03 en remportant 25,87 % des voix, elle s'incline le 6 mai 2007 face à Nicolas Sarkozy avec 46,94 % des suffrages. "
          ],
          [
           " Le Front national éliminé au premier  tour/rotation.n.03 des élections territoriales corses, voilà qui pourrait relever de l'anecdote. "
          ],
          [
           " Le premier  tour/rotation.n.03 , une trentaine de voix se sont portées sur Joseph Ratzinger, un peu moins sur le cardinal Martini, ancien archevêque de Milan, jésuite et brillant bibliste. "
          ],
          [
           " Ce dernier, qui a sans doute accepté de servir de repère au premier  tour/rotation.n.03 , fait savoir que, malade, il n'accepterait pas d'être élu. "
          ]
         ],
         "hovertemplate": "sense=round<br>BIC_cluster_sub=3<br>x=%{x}<br>y=%{y}<br>z=%{z}<br>match=%{customdata[0]}<extra></extra>",
         "legendgroup": "round, 3",
         "marker": {
          "color": "#ab63fa",
          "symbol": "square"
         },
         "mode": "markers",
         "name": "round, 3",
         "scene": "scene",
         "showlegend": true,
         "x": [
          -1.3887602,
          -1.2650927,
          -2.0066924,
          -1.4978497,
          -0.8364947,
          -2.718325,
          -2.884177,
          -2.9512482,
          -2.554805,
          -2.7935455,
          -1.6631029,
          -2.2250881,
          0.19428965,
          -0.67001164
         ],
         "y": [
          -1.5207635,
          -1.4564646,
          -1.3173263,
          -1.5461304,
          -1.5650353,
          -1.5396,
          -1.4902506,
          -1.5176355,
          -1.6378785,
          -1.5776517,
          -1.5708436,
          -1.5846982,
          -1.4628398,
          -1.628252
         ],
         "z": [
          -1.5919586,
          -1.6076465,
          -1.565472,
          -1.6320636,
          -1.5749058,
          -1.3107123,
          -1.0812641,
          -1.3979334,
          -1.2148801,
          -1.4386078,
          -1.5930487,
          -1.5922303,
          -1.4733675,
          -1.4595747
         ],
         "type": "scatter3d"
        },
        {
         "customdata": [
          [
           " On a voulu voir dans cette sorte de parallélogramme qui longe au nord les rues d'Orbandelle et du 4 septembre, et au sud des Boucheries et la rue Sous-Murs, qui borde à l'est la rivière d'Yonne et à l'ouest le palais, la  tour/tower.n.01 de l'horloge et la rue des Cordeliers, on a voulu voir là une forteresse élevée par César, vainqueur des Gaulois de Vellaunodunum, pour les tenir en respect ; d'autres ont écrit que c'était le quartier oà¹ se retirèrent les premiers chrétiens au IIIe siècle. "
          ],
          [
           " Le reste de la  tour/tower.n.01 d'Orbandelle a été démoli au début du XIXe siècle. "
          ],
          [
           " On trouve encore à la  tour/tower.n.01 Saint-Pancrace ce système de construction. "
          ],
          [
           " Il me semble même que sur la version originale , Jan Utzon précise que le soit disant \"pilon\" , partant de vitesse nulle ne pouvait pas écraser l'intégrité de la  tour/tower.n.01 jusqu'au fondation . "
          ],
          [
           " La vallée blanche et le glacier du Géant, les Grandes Jorasses et les arêtes de Rochefort, à droite, la  tour/tower.n.01 Ronde, derrière l'aiguille verte, les Drus les Droites et les Courtes, grandiose. "
          ],
          [
           " C'est dans les cafés le soir que Sophie, une jeune cubaine vient draguer les mecs, surtout dans les pubs branchés sur Paris et autour de la  tour/tower.n.01 Eiffel ! "
          ]
         ],
         "hovertemplate": "sense=tower<br>BIC_cluster_sub=2<br>x=%{x}<br>y=%{y}<br>z=%{z}<br>match=%{customdata[0]}<extra></extra>",
         "legendgroup": "tower, 2",
         "marker": {
          "color": "#FFA15A",
          "symbol": "circle"
         },
         "mode": "markers",
         "name": "tower, 2",
         "scene": "scene",
         "showlegend": true,
         "x": [
          -1.5780582,
          1.7108501,
          2.867198,
          2.800247,
          1.0382504,
          -2.0146086
         ],
         "y": [
          -0.43410406,
          -0.5324885,
          -0.37643036,
          -0.5643276,
          -0.49619514,
          -0.50919247
         ],
         "z": [
          1.8473741,
          0.9757792,
          0.76605266,
          0.6061849,
          1.2450732,
          1.516357
         ],
         "type": "scatter3d"
        }
       ],
       "layout": {
        "template": {
         "data": {
          "barpolar": [
           {
            "marker": {
             "line": {
              "color": "white",
              "width": 0.5
             },
             "pattern": {
              "fillmode": "overlay",
              "size": 10,
              "solidity": 0.2
             }
            },
            "type": "barpolar"
           }
          ],
          "bar": [
           {
            "error_x": {
             "color": "#2a3f5f"
            },
            "error_y": {
             "color": "#2a3f5f"
            },
            "marker": {
             "line": {
              "color": "white",
              "width": 0.5
             },
             "pattern": {
              "fillmode": "overlay",
              "size": 10,
              "solidity": 0.2
             }
            },
            "type": "bar"
           }
          ],
          "carpet": [
           {
            "aaxis": {
             "endlinecolor": "#2a3f5f",
             "gridcolor": "#C8D4E3",
             "linecolor": "#C8D4E3",
             "minorgridcolor": "#C8D4E3",
             "startlinecolor": "#2a3f5f"
            },
            "baxis": {
             "endlinecolor": "#2a3f5f",
             "gridcolor": "#C8D4E3",
             "linecolor": "#C8D4E3",
             "minorgridcolor": "#C8D4E3",
             "startlinecolor": "#2a3f5f"
            },
            "type": "carpet"
           }
          ],
          "choropleth": [
           {
            "colorbar": {
             "outlinewidth": 0,
             "ticks": ""
            },
            "type": "choropleth"
           }
          ],
          "contourcarpet": [
           {
            "colorbar": {
             "outlinewidth": 0,
             "ticks": ""
            },
            "type": "contourcarpet"
           }
          ],
          "contour": [
           {
            "colorbar": {
             "outlinewidth": 0,
             "ticks": ""
            },
            "colorscale": [
             [
              0.0,
              "#0d0887"
             ],
             [
              0.1111111111111111,
              "#46039f"
             ],
             [
              0.2222222222222222,
              "#7201a8"
             ],
             [
              0.3333333333333333,
              "#9c179e"
             ],
             [
              0.4444444444444444,
              "#bd3786"
             ],
             [
              0.5555555555555556,
              "#d8576b"
             ],
             [
              0.6666666666666666,
              "#ed7953"
             ],
             [
              0.7777777777777778,
              "#fb9f3a"
             ],
             [
              0.8888888888888888,
              "#fdca26"
             ],
             [
              1.0,
              "#f0f921"
             ]
            ],
            "type": "contour"
           }
          ],
          "heatmapgl": [
           {
            "colorbar": {
             "outlinewidth": 0,
             "ticks": ""
            },
            "colorscale": [
             [
              0.0,
              "#0d0887"
             ],
             [
              0.1111111111111111,
              "#46039f"
             ],
             [
              0.2222222222222222,
              "#7201a8"
             ],
             [
              0.3333333333333333,
              "#9c179e"
             ],
             [
              0.4444444444444444,
              "#bd3786"
             ],
             [
              0.5555555555555556,
              "#d8576b"
             ],
             [
              0.6666666666666666,
              "#ed7953"
             ],
             [
              0.7777777777777778,
              "#fb9f3a"
             ],
             [
              0.8888888888888888,
              "#fdca26"
             ],
             [
              1.0,
              "#f0f921"
             ]
            ],
            "type": "heatmapgl"
           }
          ],
          "heatmap": [
           {
            "colorbar": {
             "outlinewidth": 0,
             "ticks": ""
            },
            "colorscale": [
             [
              0.0,
              "#0d0887"
             ],
             [
              0.1111111111111111,
              "#46039f"
             ],
             [
              0.2222222222222222,
              "#7201a8"
             ],
             [
              0.3333333333333333,
              "#9c179e"
             ],
             [
              0.4444444444444444,
              "#bd3786"
             ],
             [
              0.5555555555555556,
              "#d8576b"
             ],
             [
              0.6666666666666666,
              "#ed7953"
             ],
             [
              0.7777777777777778,
              "#fb9f3a"
             ],
             [
              0.8888888888888888,
              "#fdca26"
             ],
             [
              1.0,
              "#f0f921"
             ]
            ],
            "type": "heatmap"
           }
          ],
          "histogram2dcontour": [
           {
            "colorbar": {
             "outlinewidth": 0,
             "ticks": ""
            },
            "colorscale": [
             [
              0.0,
              "#0d0887"
             ],
             [
              0.1111111111111111,
              "#46039f"
             ],
             [
              0.2222222222222222,
              "#7201a8"
             ],
             [
              0.3333333333333333,
              "#9c179e"
             ],
             [
              0.4444444444444444,
              "#bd3786"
             ],
             [
              0.5555555555555556,
              "#d8576b"
             ],
             [
              0.6666666666666666,
              "#ed7953"
             ],
             [
              0.7777777777777778,
              "#fb9f3a"
             ],
             [
              0.8888888888888888,
              "#fdca26"
             ],
             [
              1.0,
              "#f0f921"
             ]
            ],
            "type": "histogram2dcontour"
           }
          ],
          "histogram2d": [
           {
            "colorbar": {
             "outlinewidth": 0,
             "ticks": ""
            },
            "colorscale": [
             [
              0.0,
              "#0d0887"
             ],
             [
              0.1111111111111111,
              "#46039f"
             ],
             [
              0.2222222222222222,
              "#7201a8"
             ],
             [
              0.3333333333333333,
              "#9c179e"
             ],
             [
              0.4444444444444444,
              "#bd3786"
             ],
             [
              0.5555555555555556,
              "#d8576b"
             ],
             [
              0.6666666666666666,
              "#ed7953"
             ],
             [
              0.7777777777777778,
              "#fb9f3a"
             ],
             [
              0.8888888888888888,
              "#fdca26"
             ],
             [
              1.0,
              "#f0f921"
             ]
            ],
            "type": "histogram2d"
           }
          ],
          "histogram": [
           {
            "marker": {
             "pattern": {
              "fillmode": "overlay",
              "size": 10,
              "solidity": 0.2
             }
            },
            "type": "histogram"
           }
          ],
          "mesh3d": [
           {
            "colorbar": {
             "outlinewidth": 0,
             "ticks": ""
            },
            "type": "mesh3d"
           }
          ],
          "parcoords": [
           {
            "line": {
             "colorbar": {
              "outlinewidth": 0,
              "ticks": ""
             }
            },
            "type": "parcoords"
           }
          ],
          "pie": [
           {
            "automargin": true,
            "type": "pie"
           }
          ],
          "scatter3d": [
           {
            "line": {
             "colorbar": {
              "outlinewidth": 0,
              "ticks": ""
             }
            },
            "marker": {
             "colorbar": {
              "outlinewidth": 0,
              "ticks": ""
             }
            },
            "type": "scatter3d"
           }
          ],
          "scattercarpet": [
           {
            "marker": {
             "colorbar": {
              "outlinewidth": 0,
              "ticks": ""
             }
            },
            "type": "scattercarpet"
           }
          ],
          "scattergeo": [
           {
            "marker": {
             "colorbar": {
              "outlinewidth": 0,
              "ticks": ""
             }
            },
            "type": "scattergeo"
           }
          ],
          "scattergl": [
           {
            "marker": {
             "colorbar": {
              "outlinewidth": 0,
              "ticks": ""
             }
            },
            "type": "scattergl"
           }
          ],
          "scattermapbox": [
           {
            "marker": {
             "colorbar": {
              "outlinewidth": 0,
              "ticks": ""
             }
            },
            "type": "scattermapbox"
           }
          ],
          "scatterpolargl": [
           {
            "marker": {
             "colorbar": {
              "outlinewidth": 0,
              "ticks": ""
             }
            },
            "type": "scatterpolargl"
           }
          ],
          "scatterpolar": [
           {
            "marker": {
             "colorbar": {
              "outlinewidth": 0,
              "ticks": ""
             }
            },
            "type": "scatterpolar"
           }
          ],
          "scatter": [
           {
            "fillpattern": {
             "fillmode": "overlay",
             "size": 10,
             "solidity": 0.2
            },
            "type": "scatter"
           }
          ],
          "scatterternary": [
           {
            "marker": {
             "colorbar": {
              "outlinewidth": 0,
              "ticks": ""
             }
            },
            "type": "scatterternary"
           }
          ],
          "surface": [
           {
            "colorbar": {
             "outlinewidth": 0,
             "ticks": ""
            },
            "colorscale": [
             [
              0.0,
              "#0d0887"
             ],
             [
              0.1111111111111111,
              "#46039f"
             ],
             [
              0.2222222222222222,
              "#7201a8"
             ],
             [
              0.3333333333333333,
              "#9c179e"
             ],
             [
              0.4444444444444444,
              "#bd3786"
             ],
             [
              0.5555555555555556,
              "#d8576b"
             ],
             [
              0.6666666666666666,
              "#ed7953"
             ],
             [
              0.7777777777777778,
              "#fb9f3a"
             ],
             [
              0.8888888888888888,
              "#fdca26"
             ],
             [
              1.0,
              "#f0f921"
             ]
            ],
            "type": "surface"
           }
          ],
          "table": [
           {
            "cells": {
             "fill": {
              "color": "#EBF0F8"
             },
             "line": {
              "color": "white"
             }
            },
            "header": {
             "fill": {
              "color": "#C8D4E3"
             },
             "line": {
              "color": "white"
             }
            },
            "type": "table"
           }
          ]
         },
         "layout": {
          "annotationdefaults": {
           "arrowcolor": "#2a3f5f",
           "arrowhead": 0,
           "arrowwidth": 1
          },
          "autotypenumbers": "strict",
          "coloraxis": {
           "colorbar": {
            "outlinewidth": 0,
            "ticks": ""
           }
          },
          "colorscale": {
           "diverging": [
            [
             0,
             "#8e0152"
            ],
            [
             0.1,
             "#c51b7d"
            ],
            [
             0.2,
             "#de77ae"
            ],
            [
             0.3,
             "#f1b6da"
            ],
            [
             0.4,
             "#fde0ef"
            ],
            [
             0.5,
             "#f7f7f7"
            ],
            [
             0.6,
             "#e6f5d0"
            ],
            [
             0.7,
             "#b8e186"
            ],
            [
             0.8,
             "#7fbc41"
            ],
            [
             0.9,
             "#4d9221"
            ],
            [
             1,
             "#276419"
            ]
           ],
           "sequential": [
            [
             0.0,
             "#0d0887"
            ],
            [
             0.1111111111111111,
             "#46039f"
            ],
            [
             0.2222222222222222,
             "#7201a8"
            ],
            [
             0.3333333333333333,
             "#9c179e"
            ],
            [
             0.4444444444444444,
             "#bd3786"
            ],
            [
             0.5555555555555556,
             "#d8576b"
            ],
            [
             0.6666666666666666,
             "#ed7953"
            ],
            [
             0.7777777777777778,
             "#fb9f3a"
            ],
            [
             0.8888888888888888,
             "#fdca26"
            ],
            [
             1.0,
             "#f0f921"
            ]
           ],
           "sequentialminus": [
            [
             0.0,
             "#0d0887"
            ],
            [
             0.1111111111111111,
             "#46039f"
            ],
            [
             0.2222222222222222,
             "#7201a8"
            ],
            [
             0.3333333333333333,
             "#9c179e"
            ],
            [
             0.4444444444444444,
             "#bd3786"
            ],
            [
             0.5555555555555556,
             "#d8576b"
            ],
            [
             0.6666666666666666,
             "#ed7953"
            ],
            [
             0.7777777777777778,
             "#fb9f3a"
            ],
            [
             0.8888888888888888,
             "#fdca26"
            ],
            [
             1.0,
             "#f0f921"
            ]
           ]
          },
          "colorway": [
           "#636efa",
           "#EF553B",
           "#00cc96",
           "#ab63fa",
           "#FFA15A",
           "#19d3f3",
           "#FF6692",
           "#B6E880",
           "#FF97FF",
           "#FECB52"
          ],
          "font": {
           "color": "#2a3f5f"
          },
          "geo": {
           "bgcolor": "white",
           "lakecolor": "white",
           "landcolor": "white",
           "showlakes": true,
           "showland": true,
           "subunitcolor": "#C8D4E3"
          },
          "hoverlabel": {
           "align": "left"
          },
          "hovermode": "closest",
          "mapbox": {
           "style": "light"
          },
          "paper_bgcolor": "white",
          "plot_bgcolor": "white",
          "polar": {
           "angularaxis": {
            "gridcolor": "#EBF0F8",
            "linecolor": "#EBF0F8",
            "ticks": ""
           },
           "bgcolor": "white",
           "radialaxis": {
            "gridcolor": "#EBF0F8",
            "linecolor": "#EBF0F8",
            "ticks": ""
           }
          },
          "scene": {
           "xaxis": {
            "backgroundcolor": "white",
            "gridcolor": "#DFE8F3",
            "gridwidth": 2,
            "linecolor": "#EBF0F8",
            "showbackground": true,
            "ticks": "",
            "zerolinecolor": "#EBF0F8"
           },
           "yaxis": {
            "backgroundcolor": "white",
            "gridcolor": "#DFE8F3",
            "gridwidth": 2,
            "linecolor": "#EBF0F8",
            "showbackground": true,
            "ticks": "",
            "zerolinecolor": "#EBF0F8"
           },
           "zaxis": {
            "backgroundcolor": "white",
            "gridcolor": "#DFE8F3",
            "gridwidth": 2,
            "linecolor": "#EBF0F8",
            "showbackground": true,
            "ticks": "",
            "zerolinecolor": "#EBF0F8"
           }
          },
          "shapedefaults": {
           "line": {
            "color": "#2a3f5f"
           }
          },
          "ternary": {
           "aaxis": {
            "gridcolor": "#DFE8F3",
            "linecolor": "#A2B1C6",
            "ticks": ""
           },
           "baxis": {
            "gridcolor": "#DFE8F3",
            "linecolor": "#A2B1C6",
            "ticks": ""
           },
           "bgcolor": "white",
           "caxis": {
            "gridcolor": "#DFE8F3",
            "linecolor": "#A2B1C6",
            "ticks": ""
           }
          },
          "title": {
           "x": 0.05
          },
          "xaxis": {
           "automargin": true,
           "gridcolor": "#EBF0F8",
           "linecolor": "#EBF0F8",
           "ticks": "",
           "title": {
            "standoff": 15
           },
           "zerolinecolor": "#EBF0F8",
           "zerolinewidth": 2
          },
          "yaxis": {
           "automargin": true,
           "gridcolor": "#EBF0F8",
           "linecolor": "#EBF0F8",
           "ticks": "",
           "title": {
            "standoff": 15
           },
           "zerolinecolor": "#EBF0F8",
           "zerolinewidth": 2
          }
         }
        },
        "scene": {
         "domain": {
          "x": [
           0.0,
           1.0
          ],
          "y": [
           0.0,
           1.0
          ]
         },
         "xaxis": {
          "title": {
           "text": "x"
          }
         },
         "yaxis": {
          "title": {
           "text": "y"
          }
         },
         "zaxis": {
          "title": {
           "text": "z"
          }
         }
        },
        "legend": {
         "title": {
          "text": "sense, BIC_cluster_sub"
         },
         "tracegroupgap": 0
        },
        "margin": {
         "t": 60
        },
        "title": {
         "text": "Clusters Bureau<br><sub>Calculated with Lexical substitution following Zhou 2019</sub>",
         "y": 0.9,
         "x": 0.5,
         "xanchor": "center",
         "yanchor": "top"
        }
       },
       "config": {
        "plotlyServerURL": "https://plot.ly"
       }
      },
      "text/html": "<div>                            <div id=\"94bad504-e1a3-4b90-b8bc-0f5dfd35bff9\" class=\"plotly-graph-div\" style=\"height:525px; width:100%;\"></div>            <script type=\"text/javascript\">                require([\"plotly\"], function(Plotly) {                    window.PLOTLYENV=window.PLOTLYENV || {};                                    if (document.getElementById(\"94bad504-e1a3-4b90-b8bc-0f5dfd35bff9\")) {                    Plotly.newPlot(                        \"94bad504-e1a3-4b90-b8bc-0f5dfd35bff9\",                        [{\"customdata\":[[\" J'ai refais plusieurs fois le  tour\\u002frotation.n.03 du magasin en vain et j'\\u00e9tais, ma foi, tr\\u00e8\\u00e8\\u00e8\\u00e8s triste (T___T)! \"],[\" Quant au cycliste, il peine, le malheureux, \\u00e0 admettre que la chasse soit une activit\\u00e9 de premi\\u00e8re n\\u00e9cessit\\u00e9, mais que le fait d'aller faire un  tour\\u002frotation.n.03 en v\\u00e9lo puisse \\u00eatre facteur de propagation d'un virus. \"],[\" La visite libre vous permet de faire le  tour\\u002frotation.n.03 de la sc\\u00e9nographie d'\\u00e9nerlya en toute libert\\u00e9. \"],[\" Et tellement de DRMs qu'on n'en fait pas le  tour\\u002frotation.n.03 , alors toute musique \\u00e9chang\\u00e9e par le superbe syst\\u00e8me sans fil ne sera \\u00e9coutable que 3 fois. \"],[\" * Visite d'une Porsche 924 (\\u00e0 restaurer) * Petit  tour\\u002frotation.n.03 \\u00e0 la cath\\u00e9drale de Reims et sur l'ancien circuit de Gueux (Reims) en 911 Turbo 3.6 * Rencontre avec la 964 Carrera 4 d'Herv\\u00e9 * Mus\\u00e9e de l'automobile \\u00e0 Reims * La nouvelle 996 GT2 comme vous ne l'avez jamais vue (en pr\\u00e9sence d'une 996 bi-turbo en plus !) \"],[\" Parti du Croisic, en Bretagne, 2 ANS plus t\\u00f4t, il effectue le  tour\\u002frotation.n.03 du monde en solitaire, sur son robuste cotre de 10 m\\u00e8tres, Kurun. \"],[\" Ainsi, lorsque le cotre s'\\u00e9loigne de son cap, l'\\u00e9coute se tend et tire sur la barre, ramenant le voilier dans le droit chemin. \\\"Cocagne ! s'\\u00e9crie Le Toumelin, je peux dormir tranquille.\\\" Gr\\u00e0\\u00a2ce \\u00e0 ce pilote AUTOMATIQUE improvis\\u00e9, le cotre ach\\u00e8ve le  tour\\u002frotation.n.03 du monde, et re\\u00e7oit un accueil triomphal au Croisic, le 7 juillet 1952, apr\\u00e8s une magnifique navigation de 3 ans. \"],[\" La distance parcourue lors de ses voyages apostoliques \\u00e9quivaut \\u00e0 28,3 fois le  tour\\u002frotation.n.03 de la terre, presque 3 fois la distance de la Terre \\u00e0 la Lune. \"],[\" j'esp\\u00e8re que ce petit  tour\\u002frotation.n.03 vous a plu, bien sur il reste beaucoup \\u00e0 voir dans cette partie de Lyon et j'y travaille mais pour l'instant je vous propose de passer dans le deuxi\\u00e8me arrondissement avec la place Bellecour, sa statue de Louis XIV et ses jets d'eau: \"],[\" Vous vous souvenez de la pub (en 2000, je crois) qui avait fait le  tour\\u002frotation.n.03 du monde, Wassup ? \"]],\"hovertemplate\":\"sense=lap\\u003cbr\\u003eBIC_cluster_sub=2\\u003cbr\\u003ex=%{x}\\u003cbr\\u003ey=%{y}\\u003cbr\\u003ez=%{z}\\u003cbr\\u003ematch=%{customdata[0]}\\u003cextra\\u003e\\u003c\\u002fextra\\u003e\",\"legendgroup\":\"lap, 2\",\"marker\":{\"color\":\"#636efa\",\"symbol\":\"circle\"},\"mode\":\"markers\",\"name\":\"lap, 2\",\"scene\":\"scene\",\"showlegend\":true,\"x\":[-1.0689647,-1.0853944,-1.1664963,-0.59841734,-0.30854696,-0.56486607,-1.0710258,-1.0365218,0.8461783,-0.35770798],\"y\":[-0.1620316,-0.44722095,-0.21525429,-0.049225673,-0.2714689,-0.63736916,-0.51478195,-0.30799925,-0.3763268,-0.15444447],\"z\":[1.2107375,0.80539644,1.3008713,1.2063997,0.7015684,1.0545988,1.0730392,1.4272993,0.37810206,1.177075],\"type\":\"scatter3d\"},{\"customdata\":[[\" Masuda \\u00e0 r\\u00e9ussi un vrai  tour\\u002ftrick.n.03 de force.... Celui de bluffer vos spectateurs avec seulement deux cartes ! \"],[\" Plus qu'un livre, c'est un v\\u00e9ritable  tour\\u002ftrick.n.03 de force. \\\" The Guardian Fr\\u00e9d\\u00e9ric Font\\u00e8s \"],[\" Dans l'huile chaude, verser la p\\u00e0\\u00a2te, au travers d'un entonnoir, en observant le  tour\\u002frotation.n.03 de main suivant: \"],[\" Les ench\\u00e8res commen\\u00e7aient \\u00e0 70 millions par bloc, s'il y a plus de 11 demandes pour les 11 blocs, le prix du bloc augmente de 5 millions et un nouveau  tour\\u002frotation.n.03 de table est fait. \"],[\" Aujourd'hui, le Pr\\u00e9sident de la CASA et Maire d'Antibes Jean Leonetti a fait un  tour\\u002frotation.n.03 de man\\u00e8ge dans le fameux bus-tram que j'appelle le gros bus \\u00e0 quelques espaces d\\u00e9di\\u00e9s. \"],[\" Le principal  tour\\u002ftrick.n.03 de force du film r\\u00e9side en sa capacit\\u00e9 \\u00e0 f\\u00e9d\\u00e9rer un public \\u00e0 la fois accroc' et hostile \\u00e0 l'univers des Super-h\\u00e9ros de Comics, parce que tout est rendu l\\u00e9ger, et volontairement risible. \"]],\"hovertemplate\":\"sense=lap\\u003cbr\\u003eBIC_cluster_sub=3\\u003cbr\\u003ex=%{x}\\u003cbr\\u003ey=%{y}\\u003cbr\\u003ez=%{z}\\u003cbr\\u003ematch=%{customdata[0]}\\u003cextra\\u003e\\u003c\\u002fextra\\u003e\",\"legendgroup\":\"lap, 3\",\"marker\":{\"color\":\"#636efa\",\"symbol\":\"square\"},\"mode\":\"markers\",\"name\":\"lap, 3\",\"scene\":\"scene\",\"showlegend\":true,\"x\":[-1.8809203,-1.3787202,0.29477465,-0.044365566,-0.8672205,-2.2524142],\"y\":[-0.1884831,-0.21108337,-0.14171495,-0.35175994,-0.2991453,-0.0017190829],\"z\":[1.1437957,1.0716602,1.1523303,0.99327385,1.0951114,0.9511729],\"type\":\"scatter3d\"},{\"customdata\":[[\" Bonjour, J'ai achet\\u00e9 ce  tour\\u002frotation.n.03 ... et pour tout dire, je suis d\\u00e9\\u00e7u. \"],[\" Attention, les cha\\u00e0\\u00aenelettes sont fragiles mais franchement, ce  tour\\u002frotation.n.03 est tellement une tuerie qu'il faut foncer.. \"],[\" Voici un effet bien connu des magiciens : \\u00e0 partir d'une bande de papier pli\\u00e9e et deux trombones fix\\u00e9s dessus se retrouvent enclav\\u00e9s en tirant sur les extr\\u00e9mit\\u00e9s du pliage J'ai r\\u00e9actualis\\u00e9 cet effet avec la bague d'une spectatrice ou d'un spectateur, de pr\\u00e9f\\u00e9rence utiliser une alliance, ce qui facilitera la manipulation du  tour\\u002fcastle.n.03 . ... \"],[\" Une pochette tr\\u00e8s pratique pour laisser la pochette du  tour\\u002frotation.n.03 \\\" Wow 3 \\\" \\u00e0 l'examen. \"],[\" Ce  tour\\u002frotation.n.03 est extraordinaire, la prise en main est tr\\u00e8s rapide. \"]],\"hovertemplate\":\"sense=trick\\u003cbr\\u003eBIC_cluster_sub=2\\u003cbr\\u003ex=%{x}\\u003cbr\\u003ey=%{y}\\u003cbr\\u003ez=%{z}\\u003cbr\\u003ematch=%{customdata[0]}\\u003cextra\\u003e\\u003c\\u002fextra\\u003e\",\"legendgroup\":\"trick, 2\",\"marker\":{\"color\":\"#EF553B\",\"symbol\":\"circle\"},\"mode\":\"markers\",\"name\":\"trick, 2\",\"scene\":\"scene\",\"showlegend\":true,\"x\":[4.7919292,5.0224175,1.4543363,4.9062943,3.649027],\"y\":[-0.6775455,-0.6920801,-0.42822152,-0.5257415,-0.72933906],\"z\":[-0.25921804,-0.29435462,0.7369658,-0.10701214,0.43519926],\"type\":\"scatter3d\"},{\"customdata\":[[\" Ce  tour\\u002frotation.n.03 ne vaut pas 45 \\u20ac... Pour ce prix, on re\\u00e7oit quelques morceaux de plastique transparents, ... \"],[\" tour\\u002fmagic_trick.n.01 visuel, artistique ou de mentalisme, tout est possible et le public en redemande ! bien aussi pour noel avec la version P\\u00e9re Noel ... et pourquoi pas pour les mariage maintenant, Seb, \\u00e0 toi de jouer et nous cr\\u00e9er \\u00e7\\u00e0 !.. \"],[\" tour\\u002fmagic_trick.n.01 ultra facile mais faire appara\\u00e0\\u00aetre un poisson est tr\\u00e8s visuel pour un public. \"],[\" Olivier \\u00e0 con\\u00e7u bien plus qu'un  tour\\u002frotation.n.03 il vous propose la un mat\\u00e9riel de tr\\u00e8s belle qualit\\u00e9 qui va permettre aux cr\\u00e9ateurs que vous \\u00eates, de laisser libre cours \\u00e0 votre imagination. \"],[\" Les explications sont tr\\u00e8s claires mais il vous faudra beaucoup de travail pour ma\\u00e0\\u00aetriser le  tour\\u002frotation.n.03 et pouvoir le pr\\u00e9senter. \"],[\" tour\\u002ftrick.n.03 sympa mais qui n\\u00e9cessite du temps pour remettre entre chaque spectacle, les feuilles de journaux et en noir et blanc, ce qui devient difficile \\u00e0 trouver. \"]],\"hovertemplate\":\"sense=trick\\u003cbr\\u003eBIC_cluster_sub=1\\u003cbr\\u003ex=%{x}\\u003cbr\\u003ey=%{y}\\u003cbr\\u003ez=%{z}\\u003cbr\\u003ematch=%{customdata[0]}\\u003cextra\\u003e\\u003c\\u002fextra\\u003e\",\"legendgroup\":\"trick, 1\",\"marker\":{\"color\":\"#EF553B\",\"symbol\":\"diamond\"},\"mode\":\"markers\",\"name\":\"trick, 1\",\"scene\":\"scene\",\"showlegend\":true,\"x\":[4.760769,4.7754745,4.5323367,4.331688,3.955853,4.681553],\"y\":[-0.70775574,-0.14664355,-0.09448195,-0.40417135,-0.45007506,-0.15467066],\"z\":[0.10520544,-0.5208008,-0.18995248,-0.16550076,0.41328123,-0.27224076],\"type\":\"scatter3d\"},{\"customdata\":[[\" Faites plusieurs routines pour le faire en close-up et varier les plaisirs ! si vous deviez disposer d'un seul  tour\\u002frotation.n.03 , ce serait assur\\u00e9ment celui-l\\u00e0. \"],[\" \\u00c0 mon avis le meilleur  tour\\u002frotation.n.03 de Jean Pierre Vallarino. \"],[\" Tr\\u00e8s bon  tour\\u002frotation.n.03 de Dominique Duvivier, demandant tout de m\\u00eame un certain entra\\u00e0\\u00aenement pour la technique et la ma\\u00e0\\u00aetrise des encha\\u00e0\\u00aenements. \"]],\"hovertemplate\":\"sense=trick\\u003cbr\\u003eBIC_cluster_sub=3\\u003cbr\\u003ex=%{x}\\u003cbr\\u003ey=%{y}\\u003cbr\\u003ez=%{z}\\u003cbr\\u003ematch=%{customdata[0]}\\u003cextra\\u003e\\u003c\\u002fextra\\u003e\",\"legendgroup\":\"trick, 3\",\"marker\":{\"color\":\"#EF553B\",\"symbol\":\"square\"},\"mode\":\"markers\",\"name\":\"trick, 3\",\"scene\":\"scene\",\"showlegend\":true,\"x\":[1.5359963,2.4417746,2.181842],\"y\":[-0.7134893,-0.9865236,-0.5389317],\"z\":[0.18531486,0.31041512,0.32934293],\"type\":\"scatter3d\"},{\"customdata\":[[\" Pour rassurer tout le monde, nous avons d\\u00e9cid\\u00e9 de faire appel \\u00e0 d'autres laboratoires priv\\u00e9s, qui ont d\\u00e9montr\\u00e9 \\u00e0 leur  tour\\u002ftrick.n.03 que ces peurs \\u00e9taient infond\\u00e9es. \"],[\" Le vrai gros plus du jeux est le mode deux joueurs o\\u00e0\\u00b9 l\\u00e0 on joue bien \\u00e9videmment en  tour\\u002ftower.n.01 par tour. \"],[\" Le vrai gros plus du jeux est le mode deux joueurs o\\u00e0\\u00b9 l\\u00e0 on joue bien \\u00e9videmment en tour par  tour\\u002ftower.n.01 . \"],[\" Ce r\\u00e9glage est \\u00e9cras\\u00e9 par - Le param\\u00e8tre d\\u00e9clar\\u00e9 dans les styles de paragraphes, \\u00e0 son  tour\\u002fcastle.n.03 \\u00e9cras\\u00e9 par - Le param\\u00e8tre d\\u00e9clar\\u00e9 dans les styles de caract\\u00e8res ou par formatage direct. \"],[\" M\\u00eame si on envisageait (ce qui \\u00e9tait d'une belle utopie, que j'avais simplement \\u00e9voqu\\u00e9 dans mon site) de r\\u00e9server le peuplement d'un territoire comme la Cisjordanie par des couples mixtes (un isra\\u00e9lien mari\\u00e9 \\u00e0 une palestinienne ou un palestinien mari\\u00e9 \\u00e0 une isra\\u00e9lienne) ceux-ci devraient alors \\u00eatre \\u00e0 leur  tour\\u002ftower.n.01 prot\\u00e9g\\u00e9s des coups de extr\\u00eamistes des deux communaut\\u00e9s ! cela para\\u00e0\\u00aet totalement \\u00e9vident. \"],[\" Certains vont se sentir l\\u00e9s\\u00e9s dans leur \\\"libert\\u00e9 d'expression\\\" sans doute, mais avec la libert\\u00e9 qu'offre ce site, viennent les abus qui exigent \\u00e0 leur  tour\\u002ftrick.n.03 une l\\u00e9gislation. \"],[\" Ils sont prioritaires pour se faire vacciner contre le Covid-19, mais pr\\u00e9f\\u00e8rent passer leur  tour\\u002fmove.n.05 pour l'instant: malgr\\u00e9 une \\u00e9pid\\u00e9mie galopante... \"],[\" Entretien avec Jorge Lu\\u00eds Martins Contrairement \\u00e0 ce qu'il faisait au d\\u00e9but de la crise \\u00e9conomique internationale, le Br\\u00e9sil ne consid\\u00e8re plus celle-ci comme une simple \\\"lubie\\\" passag\\u00e8re et s'efforce, \\u00e0 son  tour\\u002ftrick.n.03 maintenant, de [Lire....] \"],[\" Dans les coulisses, les heureux \\u00e9lus attendent patiemment leur  tour\\u002fmove.n.05 . \"],[\" Friperies, e-shop, brocantes... si vous avez, \\u00e0 votre  tour\\u002ftrick.n.03 , succomb\\u00e9 au charme du vintage et souhaitez refaire votre garde-robe, d\\u00e9couvrez toutes les astuces pour d\\u00e9nicher la pi\\u00e8ce unique !... \"],[\" Le polype devient adulte, pond des oeufs qui \\u00e0 leur  tour\\u002fcastle.n.03 deviennent larves et vont fonder de nouvelles colonies tandis que leur m\\u00e8re, solidement ANCR\\u00e0\\u2030E, se d\\u00e9veloppe au point de rejoindre ses voisins : un R\\u00e0\\u2030CIF est en train de na\\u00e0\\u00aetre. \"],[\" Mais celle-ci a d\\u00e9menti et accus\\u00e9 \\u00e0 son  tour\\u002ftrick.n.03 les rebelles d'avoir men\\u00e9 ces attaques. \"],[\" Les cam\\u00e9ristes lui pr\\u00e9sentent  tour\\u002ftrip.n.04 \\u00e0 tour des fleurs et des diamants sans qu'elle arr\\u00eate son choix, et ces diff\\u00e9rents groupes se r\\u00e9p\\u00e8tent gracieusement dans les miroirs. \"],[\" Quand Massimo reconduit Gemma \\u00e0 sa place, la danse termin\\u00e9e, le marquis s'approche et invite la jeune fille \\u00e0 son  tour\\u002frotation.n.03 . \"],[\" C'est mon  tour\\u002frotation.n.03 , une pente peu inclin\\u00e9e pouyr entrer dans les entrailles du monstre. \"],[\" Un peu plus tard, quand Madeleine aura un peu grandi, les cartes s'adresseront \\u00e0 elle, \\u00e0 son  tour\\u002ftower.n.01 , autant qu'\\u00e0 sa grande soeur Denise. \"],[\" Les matelots aussi, devant ce grand malheur, Se sentent  tour\\u002ftrip.n.04 \\u00e0 tour vaincus par la douleur. \"],[\" Endormis sur le pont, jeunes et vieux marins Ont enfin  tour\\u002flathe.n.01 \\u00e0 tour oubli\\u00e9 leurs chagrins. \"],[\" 2) J'accepte d'\\u00eatre humili\\u00e9 ou exploit\\u00e9 a condition qu'on me permette a mon  tour\\u002ftrick.n.03 d'humilier ou d'exploiter quelqu'un occupant une place inf\\u00e9rieure dans la pyramide sociale. \"],[\" Ils d\\u00e9voilent  tour\\u002frotation.n.03 \\u00e0 tour l'\\u00e9tendue de leur brio. \"],[\" Adrien Moerlen d\\u00e9clame ses textes en anglais se fait  tour\\u002ftrip.n.04 \\u00e0 tour planant, enrag\\u00e9 et distant. \"],[\" Pendant l'anarchie du Xe si\\u00e8cle, un des \\u00e9v\\u00eaques la donna \\u00e0 titre de b\\u00e9n\\u00e9fice \\u00e0 un noble que le chroniqueur qualifie de tyran, lequel, \\u00e0 son  tour\\u002ftower.n.01 , en avait dot\\u00e9 son fils, \\u00e9v\\u00eaque d'Autun. \"],[\" La fontaine de Saint-Amatre doit aussi venir \\u00e0 son  tour\\u002ftower.n.01 au rang des objets int\\u00e9ressants de ce bourg primitif d'Auxerre. \"],[\" C'est pourquoi le r\\u00e9dacteur se verra dans l'obligation d'adopter \\u00e0 son  tour\\u002ftrick.n.03 le langage de l'ennemi : \\\" Laissez cet \\u00e9thiopien de merde ! \"]],\"hovertemplate\":\"sense=turn\\u003cbr\\u003eBIC_cluster_sub=2\\u003cbr\\u003ex=%{x}\\u003cbr\\u003ey=%{y}\\u003cbr\\u003ez=%{z}\\u003cbr\\u003ematch=%{customdata[0]}\\u003cextra\\u003e\\u003c\\u002fextra\\u003e\",\"legendgroup\":\"turn, 2\",\"marker\":{\"color\":\"#00cc96\",\"symbol\":\"circle\"},\"mode\":\"markers\",\"name\":\"turn, 2\",\"scene\":\"scene\",\"showlegend\":true,\"x\":[0.20234904,-2.606506,-2.7134027,0.27458698,-0.10141232,0.379076,-1.3084599,-1.0793437,-0.8928116,0.09811627,-0.8998667,-0.36182177,-2.4917262,-0.0786904,2.2657487,-0.0035661417,-2.4773757,-1.9598511,-0.56353045,-2.6811144,-2.7776592,0.18202123,-0.5783714,0.12994519],\"y\":[2.3373911,-0.06505352,-0.042321164,1.9822485,2.339709,2.4525995,0.5771173,2.1823487,0.6055177,2.1220345,2.3114293,2.279998,0.61461926,1.946917,0.7677221,1.7060665,0.8910472,0.8170004,2.2063262,0.42956653,0.80549824,2.2867448,2.0271733,2.3261015],\"z\":[-0.8792859,1.4457761,1.4665056,-1.0541674,-0.7676489,-1.0669804,0.09121056,-0.5457238,-0.3272856,-0.809919,-0.5985263,-0.9285572,1.2390394,-0.7057051,-0.15176679,-0.6342032,1.0128058,1.1176276,-0.69971484,1.2308365,1.0338733,-0.9657595,-1.235549,-1.1391127],\"type\":\"scatter3d\"},{\"customdata\":[[\" Par Esther Solano Gallego Le dimanche 29 novembre, s'est d\\u00e9roul\\u00e9 le deuxi\\u00e8me  tour\\u002frotation.n.03 des \\u00e9lections municipales au Br\\u00e9sil. \"],[\" Par Marcelo Aguilar Le premier  tour\\u002fmove.n.05 des \\u00e9lections municipales br\\u00e9siliennes, le 15 novembre 2020 [voir le r\\u00e9sum\\u00e9 des r\\u00e9sultats en fin d'article], a montr\\u00e9 le renforcement des secteurs du centre et [Lire....] \"],[\" A l'issue du premier  tour\\u002frotation.n.03 la liste Agir Pour Vaulx-en-Velin a obtenu 1354 voix soit 16.83% du total des suffrages exprim\\u00e9s. \"],[\" Ce score suffisant pour se maintenir au second  tour\\u002frotation.n.03 , laissait peu d'espoir d'emporter l'\\u00e9lection. \"],[\" Sur la base de ce projet partag\\u00e9, nous avons alors fait liste commune pour le second  tour\\u002frotation.n.03 en int\\u00e9grant, \\u00e0 la liste finale, neuf personnes de notre \\u00e9quipe. \"],[\" La campagne pour la pr\\u00e9sidentielle accro\\u00eet fortement l'audience du PS, qui re\\u00e7oit alors les adh\\u00e9sions d'une partie du PSU avec Michel Rocard et de personnalit\\u00e9s proches du gaullisme (Jacques Delors, Edgar Pisani), mais F. Mitterrand, en t\\u00eate au premier  tour\\u002frotation.n.03 , est battu au second malgr\\u00e9 l'obtention de 49,19 % des voix, par Val\\u00e9ry Giscard d'Estaing. \"],[\" Celui-ci cr\\u00e9e la surprise en arrivant en t\\u00eate au premier  tour\\u002frotation.n.03 ; il est battu au second tour par Jacques Chirac (qui succ\\u00e8de \\u00e0 F. Mitterrand \\u00e0 la pr\\u00e9sidence de la R\\u00e9publique) mais son tr\\u00e8s bon score (47,36 % des voix) lui conf\\u00e8re une forte l\\u00e9gitimit\\u00e9 au sein du parti socialiste, dont il ne tarde pas \\u00e0 redevenir le premier secr\\u00e9taire (\\u00e9lu \\u00e0 l'issue du vote direct et secret des militants lors de la Convention nationale du 14 octobre 1995) et qu'il remobilise en vue de la pr\\u00e9paration de l'alternance. \"],[\" Mais le d\\u00e9calage croissant entre l'opinion publique et les partis classiques, de gauche comme de droite, et une campagne en d\\u00e9finitive mal men\\u00e9e lui infligent une tr\\u00e8s s\\u00e9v\\u00e8re d\\u00e9faite au premier  tour\\u002fmove.n.05 de l'\\u00e9lection pr\\u00e9sidentielle de 2002 : avec 16,18 % des voix, L. Jospin arrive en troisi\\u00e8me position, derri\\u00e8re J. Chirac et Jean-Marie Le Pen. \"],[\" Annon\\u00e7ant aussit\\u00f4t son intention de se retirer de la vie politique, le candidat malheureux laisse au premier secr\\u00e9taire le soin de mener le combat du second  tour\\u002fmove.n.05 et des l\\u00e9gislatives. \"],[\" Au premier  tour\\u002fmove.n.05 des \\u00e9lections l\\u00e9gislatives (9 juin), le parti socialiste se maintient avec 23,78 % des suffrages \\u00e0 son niveau de 1997 (25,71 %) et parvient \\u00e0 conserver 140 d\\u00e9put\\u00e9s \\u00e0 l'Assembl\\u00e9e. \"],[\" Mais si cette derni\\u00e8re se qualifie pour le second  tour\\u002frotation.n.03 en remportant 25,87 % des voix, elle s'incline le 6 mai 2007 face \\u00e0 Nicolas Sarkozy avec 46,94 % des suffrages. \"],[\" Le Front national \\u00e9limin\\u00e9 au premier  tour\\u002frotation.n.03 des \\u00e9lections territoriales corses, voil\\u00e0 qui pourrait relever de l'anecdote. \"],[\" Le premier  tour\\u002frotation.n.03 , une trentaine de voix se sont port\\u00e9es sur Joseph Ratzinger, un peu moins sur le cardinal Martini, ancien archev\\u00eaque de Milan, j\\u00e9suite et brillant bibliste. \"],[\" Ce dernier, qui a sans doute accept\\u00e9 de servir de rep\\u00e8re au premier  tour\\u002frotation.n.03 , fait savoir que, malade, il n'accepterait pas d'\\u00eatre \\u00e9lu. \"]],\"hovertemplate\":\"sense=round\\u003cbr\\u003eBIC_cluster_sub=3\\u003cbr\\u003ex=%{x}\\u003cbr\\u003ey=%{y}\\u003cbr\\u003ez=%{z}\\u003cbr\\u003ematch=%{customdata[0]}\\u003cextra\\u003e\\u003c\\u002fextra\\u003e\",\"legendgroup\":\"round, 3\",\"marker\":{\"color\":\"#ab63fa\",\"symbol\":\"square\"},\"mode\":\"markers\",\"name\":\"round, 3\",\"scene\":\"scene\",\"showlegend\":true,\"x\":[-1.3887602,-1.2650927,-2.0066924,-1.4978497,-0.8364947,-2.718325,-2.884177,-2.9512482,-2.554805,-2.7935455,-1.6631029,-2.2250881,0.19428965,-0.67001164],\"y\":[-1.5207635,-1.4564646,-1.3173263,-1.5461304,-1.5650353,-1.5396,-1.4902506,-1.5176355,-1.6378785,-1.5776517,-1.5708436,-1.5846982,-1.4628398,-1.628252],\"z\":[-1.5919586,-1.6076465,-1.565472,-1.6320636,-1.5749058,-1.3107123,-1.0812641,-1.3979334,-1.2148801,-1.4386078,-1.5930487,-1.5922303,-1.4733675,-1.4595747],\"type\":\"scatter3d\"},{\"customdata\":[[\" On a voulu voir dans cette sorte de parall\\u00e9logramme qui longe au nord les rues d'Orbandelle et du 4 septembre, et au sud des Boucheries et la rue Sous-Murs, qui borde \\u00e0 l'est la rivi\\u00e8re d'Yonne et \\u00e0 l'ouest le palais, la  tour\\u002ftower.n.01 de l'horloge et la rue des Cordeliers, on a voulu voir l\\u00e0 une forteresse \\u00e9lev\\u00e9e par C\\u00e9sar, vainqueur des Gaulois de Vellaunodunum, pour les tenir en respect ; d'autres ont \\u00e9crit que c'\\u00e9tait le quartier o\\u00e0\\u00b9 se retir\\u00e8rent les premiers chr\\u00e9tiens au IIIe si\\u00e8cle. \"],[\" Le reste de la  tour\\u002ftower.n.01 d'Orbandelle a \\u00e9t\\u00e9 d\\u00e9moli au d\\u00e9but du XIXe si\\u00e8cle. \"],[\" On trouve encore \\u00e0 la  tour\\u002ftower.n.01 Saint-Pancrace ce syst\\u00e8me de construction. \"],[\" Il me semble m\\u00eame que sur la version originale , Jan Utzon pr\\u00e9cise que le soit disant \\\"pilon\\\" , partant de vitesse nulle ne pouvait pas \\u00e9craser l'int\\u00e9grit\\u00e9 de la  tour\\u002ftower.n.01 jusqu'au fondation . \"],[\" La vall\\u00e9e blanche et le glacier du G\\u00e9ant, les Grandes Jorasses et les ar\\u00eates de Rochefort, \\u00e0 droite, la  tour\\u002ftower.n.01 Ronde, derri\\u00e8re l'aiguille verte, les Drus les Droites et les Courtes, grandiose. \"],[\" C'est dans les caf\\u00e9s le soir que Sophie, une jeune cubaine vient draguer les mecs, surtout dans les pubs branch\\u00e9s sur Paris et autour de la  tour\\u002ftower.n.01 Eiffel ! \"]],\"hovertemplate\":\"sense=tower\\u003cbr\\u003eBIC_cluster_sub=2\\u003cbr\\u003ex=%{x}\\u003cbr\\u003ey=%{y}\\u003cbr\\u003ez=%{z}\\u003cbr\\u003ematch=%{customdata[0]}\\u003cextra\\u003e\\u003c\\u002fextra\\u003e\",\"legendgroup\":\"tower, 2\",\"marker\":{\"color\":\"#FFA15A\",\"symbol\":\"circle\"},\"mode\":\"markers\",\"name\":\"tower, 2\",\"scene\":\"scene\",\"showlegend\":true,\"x\":[-1.5780582,1.7108501,2.867198,2.800247,1.0382504,-2.0146086],\"y\":[-0.43410406,-0.5324885,-0.37643036,-0.5643276,-0.49619514,-0.50919247],\"z\":[1.8473741,0.9757792,0.76605266,0.6061849,1.2450732,1.516357],\"type\":\"scatter3d\"}],                        {\"template\":{\"data\":{\"barpolar\":[{\"marker\":{\"line\":{\"color\":\"white\",\"width\":0.5},\"pattern\":{\"fillmode\":\"overlay\",\"size\":10,\"solidity\":0.2}},\"type\":\"barpolar\"}],\"bar\":[{\"error_x\":{\"color\":\"#2a3f5f\"},\"error_y\":{\"color\":\"#2a3f5f\"},\"marker\":{\"line\":{\"color\":\"white\",\"width\":0.5},\"pattern\":{\"fillmode\":\"overlay\",\"size\":10,\"solidity\":0.2}},\"type\":\"bar\"}],\"carpet\":[{\"aaxis\":{\"endlinecolor\":\"#2a3f5f\",\"gridcolor\":\"#C8D4E3\",\"linecolor\":\"#C8D4E3\",\"minorgridcolor\":\"#C8D4E3\",\"startlinecolor\":\"#2a3f5f\"},\"baxis\":{\"endlinecolor\":\"#2a3f5f\",\"gridcolor\":\"#C8D4E3\",\"linecolor\":\"#C8D4E3\",\"minorgridcolor\":\"#C8D4E3\",\"startlinecolor\":\"#2a3f5f\"},\"type\":\"carpet\"}],\"choropleth\":[{\"colorbar\":{\"outlinewidth\":0,\"ticks\":\"\"},\"type\":\"choropleth\"}],\"contourcarpet\":[{\"colorbar\":{\"outlinewidth\":0,\"ticks\":\"\"},\"type\":\"contourcarpet\"}],\"contour\":[{\"colorbar\":{\"outlinewidth\":0,\"ticks\":\"\"},\"colorscale\":[[0.0,\"#0d0887\"],[0.1111111111111111,\"#46039f\"],[0.2222222222222222,\"#7201a8\"],[0.3333333333333333,\"#9c179e\"],[0.4444444444444444,\"#bd3786\"],[0.5555555555555556,\"#d8576b\"],[0.6666666666666666,\"#ed7953\"],[0.7777777777777778,\"#fb9f3a\"],[0.8888888888888888,\"#fdca26\"],[1.0,\"#f0f921\"]],\"type\":\"contour\"}],\"heatmapgl\":[{\"colorbar\":{\"outlinewidth\":0,\"ticks\":\"\"},\"colorscale\":[[0.0,\"#0d0887\"],[0.1111111111111111,\"#46039f\"],[0.2222222222222222,\"#7201a8\"],[0.3333333333333333,\"#9c179e\"],[0.4444444444444444,\"#bd3786\"],[0.5555555555555556,\"#d8576b\"],[0.6666666666666666,\"#ed7953\"],[0.7777777777777778,\"#fb9f3a\"],[0.8888888888888888,\"#fdca26\"],[1.0,\"#f0f921\"]],\"type\":\"heatmapgl\"}],\"heatmap\":[{\"colorbar\":{\"outlinewidth\":0,\"ticks\":\"\"},\"colorscale\":[[0.0,\"#0d0887\"],[0.1111111111111111,\"#46039f\"],[0.2222222222222222,\"#7201a8\"],[0.3333333333333333,\"#9c179e\"],[0.4444444444444444,\"#bd3786\"],[0.5555555555555556,\"#d8576b\"],[0.6666666666666666,\"#ed7953\"],[0.7777777777777778,\"#fb9f3a\"],[0.8888888888888888,\"#fdca26\"],[1.0,\"#f0f921\"]],\"type\":\"heatmap\"}],\"histogram2dcontour\":[{\"colorbar\":{\"outlinewidth\":0,\"ticks\":\"\"},\"colorscale\":[[0.0,\"#0d0887\"],[0.1111111111111111,\"#46039f\"],[0.2222222222222222,\"#7201a8\"],[0.3333333333333333,\"#9c179e\"],[0.4444444444444444,\"#bd3786\"],[0.5555555555555556,\"#d8576b\"],[0.6666666666666666,\"#ed7953\"],[0.7777777777777778,\"#fb9f3a\"],[0.8888888888888888,\"#fdca26\"],[1.0,\"#f0f921\"]],\"type\":\"histogram2dcontour\"}],\"histogram2d\":[{\"colorbar\":{\"outlinewidth\":0,\"ticks\":\"\"},\"colorscale\":[[0.0,\"#0d0887\"],[0.1111111111111111,\"#46039f\"],[0.2222222222222222,\"#7201a8\"],[0.3333333333333333,\"#9c179e\"],[0.4444444444444444,\"#bd3786\"],[0.5555555555555556,\"#d8576b\"],[0.6666666666666666,\"#ed7953\"],[0.7777777777777778,\"#fb9f3a\"],[0.8888888888888888,\"#fdca26\"],[1.0,\"#f0f921\"]],\"type\":\"histogram2d\"}],\"histogram\":[{\"marker\":{\"pattern\":{\"fillmode\":\"overlay\",\"size\":10,\"solidity\":0.2}},\"type\":\"histogram\"}],\"mesh3d\":[{\"colorbar\":{\"outlinewidth\":0,\"ticks\":\"\"},\"type\":\"mesh3d\"}],\"parcoords\":[{\"line\":{\"colorbar\":{\"outlinewidth\":0,\"ticks\":\"\"}},\"type\":\"parcoords\"}],\"pie\":[{\"automargin\":true,\"type\":\"pie\"}],\"scatter3d\":[{\"line\":{\"colorbar\":{\"outlinewidth\":0,\"ticks\":\"\"}},\"marker\":{\"colorbar\":{\"outlinewidth\":0,\"ticks\":\"\"}},\"type\":\"scatter3d\"}],\"scattercarpet\":[{\"marker\":{\"colorbar\":{\"outlinewidth\":0,\"ticks\":\"\"}},\"type\":\"scattercarpet\"}],\"scattergeo\":[{\"marker\":{\"colorbar\":{\"outlinewidth\":0,\"ticks\":\"\"}},\"type\":\"scattergeo\"}],\"scattergl\":[{\"marker\":{\"colorbar\":{\"outlinewidth\":0,\"ticks\":\"\"}},\"type\":\"scattergl\"}],\"scattermapbox\":[{\"marker\":{\"colorbar\":{\"outlinewidth\":0,\"ticks\":\"\"}},\"type\":\"scattermapbox\"}],\"scatterpolargl\":[{\"marker\":{\"colorbar\":{\"outlinewidth\":0,\"ticks\":\"\"}},\"type\":\"scatterpolargl\"}],\"scatterpolar\":[{\"marker\":{\"colorbar\":{\"outlinewidth\":0,\"ticks\":\"\"}},\"type\":\"scatterpolar\"}],\"scatter\":[{\"fillpattern\":{\"fillmode\":\"overlay\",\"size\":10,\"solidity\":0.2},\"type\":\"scatter\"}],\"scatterternary\":[{\"marker\":{\"colorbar\":{\"outlinewidth\":0,\"ticks\":\"\"}},\"type\":\"scatterternary\"}],\"surface\":[{\"colorbar\":{\"outlinewidth\":0,\"ticks\":\"\"},\"colorscale\":[[0.0,\"#0d0887\"],[0.1111111111111111,\"#46039f\"],[0.2222222222222222,\"#7201a8\"],[0.3333333333333333,\"#9c179e\"],[0.4444444444444444,\"#bd3786\"],[0.5555555555555556,\"#d8576b\"],[0.6666666666666666,\"#ed7953\"],[0.7777777777777778,\"#fb9f3a\"],[0.8888888888888888,\"#fdca26\"],[1.0,\"#f0f921\"]],\"type\":\"surface\"}],\"table\":[{\"cells\":{\"fill\":{\"color\":\"#EBF0F8\"},\"line\":{\"color\":\"white\"}},\"header\":{\"fill\":{\"color\":\"#C8D4E3\"},\"line\":{\"color\":\"white\"}},\"type\":\"table\"}]},\"layout\":{\"annotationdefaults\":{\"arrowcolor\":\"#2a3f5f\",\"arrowhead\":0,\"arrowwidth\":1},\"autotypenumbers\":\"strict\",\"coloraxis\":{\"colorbar\":{\"outlinewidth\":0,\"ticks\":\"\"}},\"colorscale\":{\"diverging\":[[0,\"#8e0152\"],[0.1,\"#c51b7d\"],[0.2,\"#de77ae\"],[0.3,\"#f1b6da\"],[0.4,\"#fde0ef\"],[0.5,\"#f7f7f7\"],[0.6,\"#e6f5d0\"],[0.7,\"#b8e186\"],[0.8,\"#7fbc41\"],[0.9,\"#4d9221\"],[1,\"#276419\"]],\"sequential\":[[0.0,\"#0d0887\"],[0.1111111111111111,\"#46039f\"],[0.2222222222222222,\"#7201a8\"],[0.3333333333333333,\"#9c179e\"],[0.4444444444444444,\"#bd3786\"],[0.5555555555555556,\"#d8576b\"],[0.6666666666666666,\"#ed7953\"],[0.7777777777777778,\"#fb9f3a\"],[0.8888888888888888,\"#fdca26\"],[1.0,\"#f0f921\"]],\"sequentialminus\":[[0.0,\"#0d0887\"],[0.1111111111111111,\"#46039f\"],[0.2222222222222222,\"#7201a8\"],[0.3333333333333333,\"#9c179e\"],[0.4444444444444444,\"#bd3786\"],[0.5555555555555556,\"#d8576b\"],[0.6666666666666666,\"#ed7953\"],[0.7777777777777778,\"#fb9f3a\"],[0.8888888888888888,\"#fdca26\"],[1.0,\"#f0f921\"]]},\"colorway\":[\"#636efa\",\"#EF553B\",\"#00cc96\",\"#ab63fa\",\"#FFA15A\",\"#19d3f3\",\"#FF6692\",\"#B6E880\",\"#FF97FF\",\"#FECB52\"],\"font\":{\"color\":\"#2a3f5f\"},\"geo\":{\"bgcolor\":\"white\",\"lakecolor\":\"white\",\"landcolor\":\"white\",\"showlakes\":true,\"showland\":true,\"subunitcolor\":\"#C8D4E3\"},\"hoverlabel\":{\"align\":\"left\"},\"hovermode\":\"closest\",\"mapbox\":{\"style\":\"light\"},\"paper_bgcolor\":\"white\",\"plot_bgcolor\":\"white\",\"polar\":{\"angularaxis\":{\"gridcolor\":\"#EBF0F8\",\"linecolor\":\"#EBF0F8\",\"ticks\":\"\"},\"bgcolor\":\"white\",\"radialaxis\":{\"gridcolor\":\"#EBF0F8\",\"linecolor\":\"#EBF0F8\",\"ticks\":\"\"}},\"scene\":{\"xaxis\":{\"backgroundcolor\":\"white\",\"gridcolor\":\"#DFE8F3\",\"gridwidth\":2,\"linecolor\":\"#EBF0F8\",\"showbackground\":true,\"ticks\":\"\",\"zerolinecolor\":\"#EBF0F8\"},\"yaxis\":{\"backgroundcolor\":\"white\",\"gridcolor\":\"#DFE8F3\",\"gridwidth\":2,\"linecolor\":\"#EBF0F8\",\"showbackground\":true,\"ticks\":\"\",\"zerolinecolor\":\"#EBF0F8\"},\"zaxis\":{\"backgroundcolor\":\"white\",\"gridcolor\":\"#DFE8F3\",\"gridwidth\":2,\"linecolor\":\"#EBF0F8\",\"showbackground\":true,\"ticks\":\"\",\"zerolinecolor\":\"#EBF0F8\"}},\"shapedefaults\":{\"line\":{\"color\":\"#2a3f5f\"}},\"ternary\":{\"aaxis\":{\"gridcolor\":\"#DFE8F3\",\"linecolor\":\"#A2B1C6\",\"ticks\":\"\"},\"baxis\":{\"gridcolor\":\"#DFE8F3\",\"linecolor\":\"#A2B1C6\",\"ticks\":\"\"},\"bgcolor\":\"white\",\"caxis\":{\"gridcolor\":\"#DFE8F3\",\"linecolor\":\"#A2B1C6\",\"ticks\":\"\"}},\"title\":{\"x\":0.05},\"xaxis\":{\"automargin\":true,\"gridcolor\":\"#EBF0F8\",\"linecolor\":\"#EBF0F8\",\"ticks\":\"\",\"title\":{\"standoff\":15},\"zerolinecolor\":\"#EBF0F8\",\"zerolinewidth\":2},\"yaxis\":{\"automargin\":true,\"gridcolor\":\"#EBF0F8\",\"linecolor\":\"#EBF0F8\",\"ticks\":\"\",\"title\":{\"standoff\":15},\"zerolinecolor\":\"#EBF0F8\",\"zerolinewidth\":2}}},\"scene\":{\"domain\":{\"x\":[0.0,1.0],\"y\":[0.0,1.0]},\"xaxis\":{\"title\":{\"text\":\"x\"}},\"yaxis\":{\"title\":{\"text\":\"y\"}},\"zaxis\":{\"title\":{\"text\":\"z\"}}},\"legend\":{\"title\":{\"text\":\"sense, BIC_cluster_sub\"},\"tracegroupgap\":0},\"margin\":{\"t\":60},\"title\":{\"text\":\"Clusters Bureau\\u003cbr\\u003e\\u003csub\\u003eCalculated with Lexical substitution following Zhou 2019\\u003c\\u002fsub\\u003e\",\"y\":0.9,\"x\":0.5,\"xanchor\":\"center\",\"yanchor\":\"top\"}},                        {\"responsive\": true}                    ).then(function(){\n                            \nvar gd = document.getElementById('94bad504-e1a3-4b90-b8bc-0f5dfd35bff9');\nvar x = new MutationObserver(function (mutations, observer) {{\n        var display = window.getComputedStyle(gd).display;\n        if (!display || display === 'none') {{\n            console.log([gd, 'removed!']);\n            Plotly.purge(gd);\n            observer.disconnect();\n        }}\n}});\n\n// Listen for the removal of the full notebook cells\nvar notebookContainer = gd.closest('#notebook-container');\nif (notebookContainer) {{\n    x.observe(notebookContainer, {childList: true});\n}}\n\n// Listen for the clearing of the current output cell\nvar outputEl = gd.closest('.output');\nif (outputEl) {{\n    x.observe(outputEl, {childList: true});\n}}\n\n                        })                };                });            </script>        </div>"
     },
     "metadata": {},
     "output_type": "display_data"
    }
   ],
   "source": [
    "fig_3d_cluster = px.scatter_3d(df, x=\"x\", y=\"y\", z=\"z\", color=\"sense\", symbol=\"BIC_cluster_sub\",\n",
    "                 hover_data='match',\n",
    "                 template=\"plotly_white\")\n",
    "fig_3d_cluster.update_layout(\n",
    "    title={\n",
    "        'text': f\"Clusters Bureau<br><sub>Calculated with Lexical substitution following Zhou 2019</sub>\",\n",
    "        'y':0.9,\n",
    "        'x':0.5,\n",
    "        'xanchor': 'center',\n",
    "        'yanchor': 'top'})\n",
    "fig_3d_cluster.show()"
   ],
   "metadata": {
    "collapsed": false,
    "ExecuteTime": {
     "end_time": "2024-05-17T18:40:13.773564Z",
     "start_time": "2024-05-17T18:40:13.626391Z"
    }
   },
   "id": "c90ed9b8f7752f4c",
   "execution_count": 22
  },
  {
   "cell_type": "code",
   "outputs": [],
   "source": [
    "# We save these files straight into our appendix\n",
    "if not os.path.exists(\"Results/Appendix/Experiment_3/Curated\"):\n",
    "    os.makedirs(\"Results/Appendix/Experiment_3/Curated\")\n",
    "#fig_2d_cluster.write_html(f\"Results/Appendix/Experiment_3/Curated/Bureau_2d_cluster.html\")\n"
   ],
   "metadata": {
    "collapsed": false
   },
   "id": "761dfef8b2868af2",
   "execution_count": 76
  },
  {
   "cell_type": "code",
   "outputs": [],
   "source": [],
   "metadata": {
    "collapsed": false
   },
   "id": "1fc35ead7b3348fa"
  }
 ],
 "metadata": {
  "kernelspec": {
   "display_name": "Python 3 (ipykernel)",
   "language": "python",
   "name": "python3"
  },
  "language_info": {
   "codemirror_mode": {
    "name": "ipython",
    "version": 3
   },
   "file_extension": ".py",
   "mimetype": "text/x-python",
   "name": "python",
   "nbconvert_exporter": "python",
   "pygments_lexer": "ipython3",
   "version": "3.11.7"
  }
 },
 "nbformat": 4,
 "nbformat_minor": 5
}
